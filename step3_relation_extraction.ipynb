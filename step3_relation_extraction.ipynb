{
 "cells": [
  {
   "cell_type": "code",
   "execution_count": 1,
   "id": "e1a8fd70-62dc-44e9-a5f4-544936c4aec5",
   "metadata": {},
   "outputs": [
    {
     "name": "stderr",
     "output_type": "stream",
     "text": [
      "/root/miniconda3/envs/hald/lib/python3.8/site-packages/tqdm/auto.py:22: TqdmWarning: IProgress not found. Please update jupyter and ipywidgets. See https://ipywidgets.readthedocs.io/en/stable/user_install.html\n",
      "  from .autonotebook import tqdm as notebook_tqdm\n"
     ]
    }
   ],
   "source": [
    "import sys\n",
    "sys.path.append(\"..\")\n",
    "from allennlp.predictors.predictor import Predictor\n",
    "import json, stanza, pickle, datetime, time, re, os, random, pymongo, csv, copy,  \\\n",
    "allennlp_models.structured_prediction\n",
    "from multiprocessing import Process, Manager, Pool\n",
    "from pymongo import MongoClient\n",
    "import pandas as pd\n",
    "\n",
    "import networkx as nx\n",
    "import matplotlib.pyplot as plt\n",
    "from pylab import mpl"
   ]
  },
  {
   "cell_type": "code",
   "execution_count": 2,
   "id": "491ec003-c1b0-4256-a1d1-1b9d0f1b8eb7",
   "metadata": {},
   "outputs": [],
   "source": [
    "client = MongoClient(username=\"hald\",password=\"mclab236\")"
   ]
  },
  {
   "cell_type": "code",
   "execution_count": 3,
   "id": "fc362a6a-db48-4218-8983-ffe1a8ea71f8",
   "metadata": {},
   "outputs": [],
   "source": [
    "now=datetime.datetime.now()"
   ]
  },
  {
   "cell_type": "code",
   "execution_count": 4,
   "id": "e8f2dca7-9cf8-46c0-af3b-ff608d101b39",
   "metadata": {},
   "outputs": [],
   "source": [
    "now_time=now.strftime('%Y_%m_%d')"
   ]
  },
  {
   "cell_type": "code",
   "execution_count": 5,
   "id": "2f942af9-73ad-496e-afc3-bf76b8e622e8",
   "metadata": {},
   "outputs": [],
   "source": [
    "now_time='2023_09_30'"
   ]
  },
  {
   "cell_type": "code",
   "execution_count": 6,
   "id": "0dd2f47e-ca4f-4a9c-9e07-d2523ce7bca0",
   "metadata": {},
   "outputs": [],
   "source": [
    "pairs=['Gene','RNA','Carbohydrate','Lipid','Peptide', 'Pharmaceutical_Preparations', 'Protein', 'Toxin','Mutation', 'Disease']"
   ]
  },
  {
   "cell_type": "code",
   "execution_count": 7,
   "id": "50946dcc-3f9b-4855-81a0-025f4115a01d",
   "metadata": {},
   "outputs": [],
   "source": [
    "db = client.hald"
   ]
  },
  {
   "cell_type": "code",
   "execution_count": 8,
   "id": "4ee2a2be-dc83-4f0c-9474-9d1b54fd661e",
   "metadata": {},
   "outputs": [],
   "source": [
    "Gene_entities=list(db.Gene_raw.find({'addtime':now_time}))\n",
    "RNA_entities=list(db.RNA_raw.find({'addtime':now_time}))\n",
    "Carbohydrate_entities=list(db.Carbohydrate_raw.find({'addtime':now_time}))\n",
    "Lipid_entities=list(db.Lipid_raw.find({'addtime':now_time}))\n",
    "Peptide_entities=list(db.Peptide_raw.find({'addtime':now_time}))\n",
    "Pharmaceutical_Preparations_entities=list(db.Pharmaceutical_Preparations_raw.find({'addtime':now_time}))\n",
    "Protein_entities=list(db.Protein_raw.find({'addtime':now_time}))\n",
    "Toxin_entities=list(db.Toxin_raw.find({'addtime':now_time}))"
   ]
  },
  {
   "cell_type": "code",
   "execution_count": 9,
   "id": "df37f7c8-a439-4020-81a3-29dca29ee543",
   "metadata": {},
   "outputs": [],
   "source": [
    "Mutation_entities=[]\n",
    "Disease_entities=[]\n",
    "for i in list(db.Mutation_raw.find({'addtime':now_time})):\n",
    "    if i.get('Genomic View'):\n",
    "        Mutation_entities.append(i)\n",
    "for i in list(db.Disease_raw.find({'addtime':now_time})):\n",
    "    if i.get('url'):\n",
    "        Disease_entities.append(i)"
   ]
  },
  {
   "cell_type": "code",
   "execution_count": 10,
   "id": "31306d4b-4768-44de-adf4-565124f6c84c",
   "metadata": {},
   "outputs": [],
   "source": [
    "names=locals()"
   ]
  },
  {
   "cell_type": "code",
   "execution_count": 11,
   "id": "5c2c4827-efaf-43d3-987a-3aed43c59e66",
   "metadata": {},
   "outputs": [
    {
     "name": "stdout",
     "output_type": "stream",
     "text": [
      "18982\n",
      "339\n",
      "2748\n",
      "2372\n",
      "731\n",
      "57\n",
      "600\n",
      "126\n",
      "945\n",
      "173979\n"
     ]
    }
   ],
   "source": [
    "for i in pairs:\n",
    "    print(len(names[i+'_entities']))"
   ]
  },
  {
   "cell_type": "code",
   "execution_count": 12,
   "id": "e537f307-f9ba-4354-90ee-ec745816788f",
   "metadata": {},
   "outputs": [],
   "source": [
    "for j in pairs:\n",
    "    names[j+'_dict']={}\n",
    "    for i in names[j+'_entities']:\n",
    "        names[j+'_dict'][i.get('PMID')]=names[j+'_dict'].get(i.get('PMID'),[])+[i]"
   ]
  },
  {
   "cell_type": "code",
   "execution_count": 13,
   "id": "8487ff40-ed9f-4f77-9f0d-7b982977a4cd",
   "metadata": {},
   "outputs": [],
   "source": [
    "diff_relation_dict={}\n",
    "for j in range(len(pairs)-1):\n",
    "    for i in range(j+1,len(pairs)):\n",
    "        for k in list(set(names[pairs[j]+'_dict'].keys()).intersection(set(names[pairs[i]+'_dict'].keys()))):\n",
    "            for l in names[pairs[j]+'_dict'].get(k):\n",
    "                for m in names[pairs[i]+'_dict'].get(k):\n",
    "                    if l.get('sentence')==m.get('sentence') and l.get('entity')!=m.get('entity'):\n",
    "                        diff_relation_dict[l.get('sentence')]=diff_relation_dict.get(l.get('sentence'),[])+[{'PMID':l.get('PMID'),\n",
    "                                                                                                  'entity1':l.get('entity'),\n",
    "                                                                                                   'entity2':m.get('entity'),\n",
    "                                                                                                   'sentence':l.get('sentence'),\n",
    "                                                                                                   'AB':l.get('AB'),\n",
    "                                                                                                   'target1':l.get('target'),\n",
    "                                                                                                    'target1_type':l.get('type'),\n",
    "                                                                                                   'target2':m.get('target'),\n",
    "                                                                                                    'target2_type':m.get('type'),\n",
    "                                                                                                   'PMID':l.get('PMID'),\n",
    "                                                                                                  }]"
   ]
  },
  {
   "cell_type": "code",
   "execution_count": 14,
   "id": "f9b257bb-dad1-4ebf-8d29-d16147177c3c",
   "metadata": {},
   "outputs": [],
   "source": [
    "same_relation_dict={}\n",
    "for j in range(len(pairs)):\n",
    "    for k in names[pairs[j]+'_dict'].values():\n",
    "        for l in range(len(k)-1):\n",
    "            for m in range(l+1,len(k)):\n",
    "                if k[l].get('sentence')==k[m].get('sentence'):\n",
    "                    if k[l].get('entity')!=k[m].get('entity'):\n",
    "                        same_relation_dict[k[l].get('sentence')]=same_relation_dict.get(k[l].get('sentence'),[])+[{'PMID':k[l].get('PMID'),\n",
    "                                                                                                  'entity1':k[l].get('entity'),\n",
    "                                                                                                   'entity2':k[m].get('entity'),\n",
    "                                                                                                   'sentence':k[l].get('sentence'),\n",
    "                                                                                                   'AB':k[l].get('AB'),\n",
    "                                                                                                   'target1':k[l].get('target'),\n",
    "                                                                                                    'target1_type':k[l].get('type'),\n",
    "                                                                                                   'target2':k[m].get('target'),\n",
    "                                                                                                    'target2_type':k[l].get('type'),\n",
    "                                                                                                   'PMID':k[l].get('PMID'),\n",
    "                                                                                                  }]"
   ]
  },
  {
   "cell_type": "code",
   "execution_count": 15,
   "id": "f41b4a54-9a74-4461-9a95-e1348235d4ab",
   "metadata": {},
   "outputs": [
    {
     "name": "stdout",
     "output_type": "stream",
     "text": [
      "35508\n",
      "7625\n",
      "2815\n"
     ]
    }
   ],
   "source": [
    "print(len(same_relation_dict))\n",
    "print(len(diff_relation_dict))\n",
    "print(len(list(set(list(same_relation_dict.keys())).intersection(set(list(diff_relation_dict.keys()))))))"
   ]
  },
  {
   "cell_type": "code",
   "execution_count": 16,
   "id": "dbd3342e-e8f9-4a32-8137-88a565984cb7",
   "metadata": {},
   "outputs": [],
   "source": [
    "relation_dict={}\n",
    "for i in same_relation_dict.keys():\n",
    "    if diff_relation_dict.get(i):\n",
    "        relation_dict[i]=same_relation_dict.get(i)+diff_relation_dict.get(i)"
   ]
  },
  {
   "cell_type": "code",
   "execution_count": 17,
   "id": "86c1cadd-1677-4c93-9010-9db21b0c966c",
   "metadata": {},
   "outputs": [
    {
     "name": "stdout",
     "output_type": "stream",
     "text": [
      "35508\n",
      "40318\n"
     ]
    }
   ],
   "source": [
    "for i in same_relation_dict.keys():\n",
    "    if not relation_dict.get(i):\n",
    "        relation_dict[i]=same_relation_dict.get(i)\n",
    "print(len(relation_dict))\n",
    "for i in diff_relation_dict.keys():\n",
    "    if not relation_dict.get(i):\n",
    "        relation_dict[i]=diff_relation_dict.get(i)\n",
    "print(len(relation_dict))"
   ]
  },
  {
   "cell_type": "code",
   "execution_count": 18,
   "id": "62c04584-5af6-4c86-b707-092071032539",
   "metadata": {},
   "outputs": [
    {
     "data": {
      "text/plain": [
       "('These results provide evidence that N-acetylcysteine inhibits thrombosis in JAK2V617F mice and provide a pre-clinical rationale for investigating NAC as a therapeutic to reduce thrombotic risk in MPN.',\n",
       " [{'PMID': '31978215',\n",
       "   'entity1': 'rs77375493',\n",
       "   'entity2': 'Thrombosis',\n",
       "   'sentence': 'These results provide evidence that N-acetylcysteine inhibits thrombosis in JAK2V617F mice and provide a pre-clinical rationale for investigating NAC as a therapeutic to reduce thrombotic risk in MPN.',\n",
       "   'AB': 'Thrombosis is a major cause of mortality in patients with myeloproliferative neoplasms (MPNs), though there is currently little to offer patients with MPN beyond aspirin and cytoreductive therapies such as hydroxyurea for primary prevention. Thrombogenesis in MPN involves multiple cellular mechanisms, including platelet activation and neutrophil-extracellular trap formation; therefore, an antithrombotic agent that targets one or more of these processes would be of therapeutic benefit in MPN. Here, we treated the JAK2V617F knockin mouse model of polycythemia vera with N-acetylcysteine (NAC), a sulfhydryl-containing compound with broad effects on glutathione replenishment, free radical scavenging, and reducing disulfide bonds, to investigate its antithrombotic effects in the context of MPN. Strikingly, NAC treatment extended the lifespan of JAK2V617F mice without impacting blood counts or splenomegaly. Using an acute pulmonary thrombosis model in vivo, we found that NAC reduced thrombus formation to a similar extent as the irreversible platelet inhibitor aspirin. In vitro analysis of platelet activation revealed that NAC reduced thrombin-induced platelet-leukocyte aggregate formation in JAK2V617F mice. Furthermore, NAC reduced neutrophil extracellular trap formation in primary human neutrophils from patients with MPN as well as healthy controls. These results provide evidence that N-acetylcysteine inhibits thrombosis in JAK2V617F mice and provide a pre-clinical rationale for investigating NAC as a therapeutic to reduce thrombotic risk in MPN.',\n",
       "   'target1': 'V617F',\n",
       "   'target1_type': 'Mutation',\n",
       "   'target2': 'thrombosis',\n",
       "   'target2_type': 'Disease'},\n",
       "  {'PMID': '31978215',\n",
       "   'entity1': 'rs77375493',\n",
       "   'entity2': 'Thrombosis',\n",
       "   'sentence': 'These results provide evidence that N-acetylcysteine inhibits thrombosis in JAK2V617F mice and provide a pre-clinical rationale for investigating NAC as a therapeutic to reduce thrombotic risk in MPN.',\n",
       "   'AB': 'Thrombosis is a major cause of mortality in patients with myeloproliferative neoplasms (MPNs), though there is currently little to offer patients with MPN beyond aspirin and cytoreductive therapies such as hydroxyurea for primary prevention. Thrombogenesis in MPN involves multiple cellular mechanisms, including platelet activation and neutrophil-extracellular trap formation; therefore, an antithrombotic agent that targets one or more of these processes would be of therapeutic benefit in MPN. Here, we treated the JAK2V617F knockin mouse model of polycythemia vera with N-acetylcysteine (NAC), a sulfhydryl-containing compound with broad effects on glutathione replenishment, free radical scavenging, and reducing disulfide bonds, to investigate its antithrombotic effects in the context of MPN. Strikingly, NAC treatment extended the lifespan of JAK2V617F mice without impacting blood counts or splenomegaly. Using an acute pulmonary thrombosis model in vivo, we found that NAC reduced thrombus formation to a similar extent as the irreversible platelet inhibitor aspirin. In vitro analysis of platelet activation revealed that NAC reduced thrombin-induced platelet-leukocyte aggregate formation in JAK2V617F mice. Furthermore, NAC reduced neutrophil extracellular trap formation in primary human neutrophils from patients with MPN as well as healthy controls. These results provide evidence that N-acetylcysteine inhibits thrombosis in JAK2V617F mice and provide a pre-clinical rationale for investigating NAC as a therapeutic to reduce thrombotic risk in MPN.',\n",
       "   'target1': 'V617F',\n",
       "   'target1_type': 'Mutation',\n",
       "   'target2': 'thrombotic',\n",
       "   'target2_type': 'Disease'}])"
      ]
     },
     "execution_count": 18,
     "metadata": {},
     "output_type": "execute_result"
    }
   ],
   "source": [
    "list(relation_dict.items())[-1]"
   ]
  },
  {
   "cell_type": "code",
   "execution_count": 19,
   "id": "68994520-d80a-4000-873d-ab879484ea76",
   "metadata": {},
   "outputs": [],
   "source": [
    "relation_list=[]\n",
    "for i in relation_dict.values():\n",
    "    for j in i:\n",
    "        relation_list.append(j)"
   ]
  },
  {
   "cell_type": "code",
   "execution_count": 20,
   "id": "c3ebe28a-9e1f-443f-bec7-5149adf2c50a",
   "metadata": {},
   "outputs": [],
   "source": [
    "colons=[]\n",
    "not_colons=[]\n",
    "for i in relation_list:\n",
    "    if not re.search(':',i.get('sentence')[:50],flags=re.M|re.I):\n",
    "        if re.search('\\snot\\s',i.get('sentence'),flags=re.M|re.I):\n",
    "            not_colons.append(i)"
   ]
  },
  {
   "cell_type": "code",
   "execution_count": 21,
   "id": "69908912-5404-459f-bb78-57a7835eaabc",
   "metadata": {},
   "outputs": [
    {
     "data": {
      "text/plain": [
       "3849"
      ]
     },
     "execution_count": 21,
     "metadata": {},
     "output_type": "execute_result"
    }
   ],
   "source": [
    "len(not_colons)"
   ]
  },
  {
   "cell_type": "code",
   "execution_count": 22,
   "id": "25e2db2b-2fc9-4677-b462-018e56f72083",
   "metadata": {},
   "outputs": [
    {
     "data": {
      "text/plain": [
       "106888"
      ]
     },
     "execution_count": 22,
     "metadata": {},
     "output_type": "execute_result"
    }
   ],
   "source": [
    "len(relation_list)"
   ]
  },
  {
   "cell_type": "code",
   "execution_count": 23,
   "id": "5bc6696d-f155-43c3-a39a-a311704e5cad",
   "metadata": {},
   "outputs": [
    {
     "data": {
      "text/plain": [
       "{'PMID': '30092269',\n",
       " 'entity1': 'rs730880031',\n",
       " 'entity2': 'Mitochondrial Diseases',\n",
       " 'sentence': 'We also show that G66V fibroblasts do not display the loss of MICOS complex integrity and mitochondrial damage found in S59L cells.',\n",
       " 'AB': 'Following the involvement of CHCHD10 in FrontoTemporal-Dementia-Amyotrophic Lateral Sclerosis (FTD-ALS) clinical spectrum, a founder mutation (p.Gly66Val) in the same gene was identified in Finnish families with late-onset spinal motor neuronopathy (SMAJ). SMAJ is a slowly progressive form of spinal muscular atrophy with a life expectancy within normal range. In order to understand why the p.Ser59Leu mutation, responsible for severe FTD-ALS, and the p.Gly66Val mutation could lead to different levels of severity, we compared their effects in patient cells. Unlike affected individuals bearing the p.Ser59Leu mutation, patients presenting with SMAJ phenotype have neither mitochondrial myopathy nor mtDNA instability. The expression of CHCHD10S59L mutant allele leads to disassembly of mitochondrial contact site and cristae organizing system (MICOS) with mitochondrial dysfunction and loss of cristae in patient fibroblasts. We also show that G66V fibroblasts do not display the loss of MICOS complex integrity and mitochondrial damage found in S59L cells. However, S59L and G66V fibroblasts show comparable accumulation of phosphorylated mitochondrial TDP-43 suggesting that the severity of phenotype and mitochondrial damage do not depend on mitochondrial TDP-43 localization. The expression of the CHCHD10G66V allele is responsible for mitochondrial network fragmentation and decreased sensitivity towards apoptotic stimuli, but with a less severe effect than that found in cells expressing the CHCHD10S59L allele. Taken together, our data show that cellular phenotypes associated with p.Ser59Leu and p.Gly66Val mutations in CHCHD10 are different; loss of MICOS complex integrity and mitochondrial dysfunction, but not TDP-43 mitochondrial localization, being likely essential to develop a severe motor neuron disease.',\n",
       " 'target1': 'G66V',\n",
       " 'target1_type': 'Mutation',\n",
       " 'target2': 'mitochondrial damage',\n",
       " 'target2_type': 'Disease'}"
      ]
     },
     "execution_count": 23,
     "metadata": {},
     "output_type": "execute_result"
    }
   ],
   "source": [
    "not_colons[-1]"
   ]
  },
  {
   "cell_type": "code",
   "execution_count": 24,
   "id": "ab9428a0-868f-496a-b202-a55df6944f8d",
   "metadata": {},
   "outputs": [],
   "source": [
    "colons=[]\n",
    "triplelist_filtered=[]\n",
    "for i in relation_list:\n",
    "    if re.search(':',i.get('sentence')[:50],flags=re.M|re.I):\n",
    "        colons.append(copy.deepcopy(i))\n",
    "    else:\n",
    "        triplelist_filtered.append(copy.deepcopy(i))"
   ]
  },
  {
   "cell_type": "code",
   "execution_count": 25,
   "id": "6e09c6f8-af66-41d9-8747-fff95e1da4d7",
   "metadata": {},
   "outputs": [
    {
     "name": "stdout",
     "output_type": "stream",
     "text": [
      "106888\n",
      "22430\n",
      "84458\n"
     ]
    }
   ],
   "source": [
    "print(len(relation_list))\n",
    "print(len(colons))\n",
    "print(len(triplelist_filtered))"
   ]
  },
  {
   "cell_type": "code",
   "execution_count": 26,
   "id": "443e1784-b57a-4447-a7c4-2c07a5ff78f2",
   "metadata": {},
   "outputs": [
    {
     "data": {
      "text/plain": [
       "{'PMID': '37201763',\n",
       " 'entity1': 'SLC19A1',\n",
       " 'entity2': 'MTHFR',\n",
       " 'sentence': 'CONCLUSIONS: There was association between folate pathway gene polymorphism of Solute Carrier Family 19 Member 1 (SLC19A1) and Methylenetetrahydrofolate Reductase (MTHFR) with erythrocyte SOD and GSH-PX activities, and folate levels in male but not in female aging subjects.',\n",
       " 'AB': \"BACKGROUND: Plasma folate levels are closely related to antioxidant capacity and are regulated by folate pathway gene polymorphism. However, few studies have explored the gender-specific association of folate pathway gene polymorphism with oxidative stress biomarkers. The present study was designed to explore the gender-specific independent and combined impacts of solute carrier family 19 member 1 (SLC19A1) and methylenetetrahydrofolate reductase (MTHFR) genetic polymorphisms on oxidative stress biomarkers in older adults. METHODS: A total of 401 subjects were recruited, including 145 males and 256 females. Demographic characteristics of the participants were collected by using a self-administered questionnaire. Fasting venous blood samples were taken for folate pathway gene genotyping, circulating lipids parameters and erythrocyte oxidative stress biomarkers measurement. The difference of genotype distribution and the Hardy-Weinberg equilibrium was calculated by the Chi-square test. The general linear model was applied to compare the plasma folate levels and erythrocyte oxidative stress biomarkers. Multiple linear regression was used to explore the correlation between genetic risk scores and oxidative stress biomarkers. Logistic regression was used to explore the association of genetic risk scores of folate pathway gene with folate deficiency. RESULTS: The male subjects have lower plasma folate and HDL-C levels than the female ones, and the male carrying MTHFR rs1801133 (CC) or MTHFR rs2274976 (GA) genotypes have higher erythrocyte SOD activity. The plasma folate levels, erythrocyte SOD and GSH-PX activities were negatively correlated with genetic risk scores in the male subjects. A positive correlation between the genetic risk scores and folate deficiency was observed in the male subjects. CONCLUSIONS: There was association between folate pathway gene polymorphism of Solute Carrier Family 19 Member 1 (SLC19A1) and Methylenetetrahydrofolate Reductase (MTHFR) with erythrocyte SOD and GSH-PX activities, and folate levels in male but not in female aging subjects. Genetic variant of genes involved in folate metabolism has strong impact on plasma folate levels in the male aging subjects. Our data demonstrated that there was a potential interaction of gender and its genetic background in affecting the body's antioxidant capacity and the risk of folate deficiency in aging subjects.\",\n",
       " 'target1': 'SLC19A1',\n",
       " 'target1_type': 'Gene',\n",
       " 'target2': 'Methylenetetrahydrofolate Reductase',\n",
       " 'target2_type': 'Gene'}"
      ]
     },
     "execution_count": 26,
     "metadata": {},
     "output_type": "execute_result"
    }
   ],
   "source": [
    "colons[0]"
   ]
  },
  {
   "cell_type": "code",
   "execution_count": 52,
   "id": "95315b2b-d232-4730-bb36-075e8b7479e7",
   "metadata": {},
   "outputs": [],
   "source": [
    "sentences_with_colons=[]\n",
    "sentences_with_colons_set=set()\n",
    "sentences_without_colons=[]\n",
    "sentences_with_colons_dict={}\n",
    "sentences_without_colons_dict={}\n",
    "for i in colons:\n",
    "    sentences_with_colons_dict[i.get('sentence')]=sentences_with_colons_dict.get(i.get('sentence'),[])+[copy.deepcopy(i)]\n",
    "    if not re.search(r'(result(s)?: )|(objective(s)?: )|(method(s)?: )|(background(s)?: )|(purpose(s)?: )|(conclusion(s)?: )|(introduction(s)?: )|(participants(s)?: )|(aim(s)?: )|(importance(s)?: )|(discussion(s)?: )|(abstract(s)?: )|(recent finding(s)?: )|([A-Z]+: )|([A-Z]+\\(S\\): )|(([A-Z]+\\s(&\\s)?)*[A-Z]+: )|(([A-Z]+\\/)*[A-Z]+: )',i.get('sentence')[:50],flags=re.M|re.I):\n",
    "        sentences_with_colons.append(i.get('sentence'))\n",
    "        sentences_with_colons_set.add(i.get('sentence'))\n",
    "    else:\n",
    "        sentences_without_colons.append(re.sub(r'.*(result(s)?: )|(objective(s)?: )|(method(s)?: )|(background(s)?: )|(purpose(s)?: )|(conclusion(s)?: )|(introduction(s)?: )|(participants(s)?: )|(aim(s)?: )|(importance(s)?: )|(discussion(s)?: )|(abstract(s)?: )|(recent finding(s)?: )|([A-Z]+: )|([A-Z]+\\(S\\): )|(([A-Z]+\\s(&\\s)?)*[A-Z]+: )|(([A-Z]+\\/)*[A-Z]+: )','',copy.deepcopy(i).get('sentence'),flags=re.M|re.I))"
   ]
  },
  {
   "cell_type": "code",
   "execution_count": 53,
   "id": "3867191a-cf00-4e27-ac2f-357fb0df553c",
   "metadata": {},
   "outputs": [
    {
     "data": {
      "text/plain": [
       "22203"
      ]
     },
     "execution_count": 53,
     "metadata": {},
     "output_type": "execute_result"
    }
   ],
   "source": [
    "len(sentences_without_colons)"
   ]
  },
  {
   "cell_type": "code",
   "execution_count": 54,
   "id": "76be6142-4cb2-489e-8a2a-fbfc31dd2373",
   "metadata": {},
   "outputs": [
    {
     "data": {
      "text/plain": [
       "227"
      ]
     },
     "execution_count": 54,
     "metadata": {},
     "output_type": "execute_result"
    }
   ],
   "source": [
    "len(sentences_with_colons)"
   ]
  },
  {
   "cell_type": "markdown",
   "id": "1966aae5-8cbd-48a1-999f-0ac29b839b93",
   "metadata": {},
   "source": [
    "## List sentences_with_colons_set and define sentences_with_colons_filtered with normalized sentences!!!"
   ]
  },
  {
   "cell_type": "code",
   "execution_count": 55,
   "id": "6eb4483e-f2a5-4a58-a6f4-13ecebb5d38c",
   "metadata": {},
   "outputs": [],
   "source": [
    "# Need to redefine!!!\n",
    "sentences_with_colons_filtered=[]"
   ]
  },
  {
   "cell_type": "code",
   "execution_count": 56,
   "id": "f5077f2a-7c7f-4ad0-8ffa-1fb91d4844ee",
   "metadata": {},
   "outputs": [],
   "source": [
    "sentences_with_colons_filtered=sentences_with_colons_filtered+sentences_without_colons"
   ]
  },
  {
   "cell_type": "code",
   "execution_count": 57,
   "id": "cb163457-c340-4922-a2e7-adf8e7f2ed19",
   "metadata": {},
   "outputs": [
    {
     "data": {
      "text/plain": [
       "22203"
      ]
     },
     "execution_count": 57,
     "metadata": {},
     "output_type": "execute_result"
    }
   ],
   "source": [
    "len(sentences_with_colons_filtered)"
   ]
  },
  {
   "cell_type": "code",
   "execution_count": 58,
   "id": "57ddc73f-bfa0-4424-83c4-97d642dce039",
   "metadata": {},
   "outputs": [],
   "source": [
    "sentence_colons={}\n",
    "for i in sentences_with_colons_filtered:\n",
    "    for j,k in sentences_with_colons_dict.items():\n",
    "        if i[-30:-1]==j[-30:-1]:\n",
    "            for l in k:\n",
    "                l.update({'sentence_transformed':i})\n",
    "            sentence_colons[i]=k"
   ]
  },
  {
   "cell_type": "code",
   "execution_count": 59,
   "id": "21a2e29b-8c63-4a12-9db0-784d916ca4e1",
   "metadata": {},
   "outputs": [
    {
     "data": {
      "text/plain": [
       "8734"
      ]
     },
     "execution_count": 59,
     "metadata": {},
     "output_type": "execute_result"
    }
   ],
   "source": [
    "len(sentence_colons)"
   ]
  },
  {
   "cell_type": "code",
   "execution_count": 60,
   "id": "14fc3fe9-a9c9-44c0-840d-c206bca78f66",
   "metadata": {},
   "outputs": [
    {
     "data": {
      "text/plain": [
       "8834"
      ]
     },
     "execution_count": 60,
     "metadata": {},
     "output_type": "execute_result"
    }
   ],
   "source": [
    "len(sentences_with_colons_dict)"
   ]
  },
  {
   "cell_type": "code",
   "execution_count": 61,
   "id": "7095db3f-6f88-4615-9551-d554204b5e11",
   "metadata": {},
   "outputs": [
    {
     "data": {
      "text/plain": [
       "{'PMID': '37766191',\n",
       " 'entity1': 'TLR4',\n",
       " 'entity2': 'TLR2',\n",
       " 'sentence': 'Moreover, individuals carrying either the TLR2-rs5743708 or the TLR4-rs4986791 polymorphisms exhibited a 3.6- and 2.5-fold increased probability for developing pneumonia and a more severe disease, respectively.',\n",
       " 'AB': \"COVID-19 is characterized by a heterogeneous clinical presentation and prognosis. Risk factors contributing to the development of severe disease include old age and the presence of comorbidities. However, the genetic background of the host has also been recognized as an important determinant of disease prognosis. Considering the pivotal role of innate immunity in the control of SARS-CoV-2 infection, we analyzed the possible contribution of several innate immune gene polymorphisms (including TLR2-rs5743708, TLR4-rs4986790, TLR4-rs4986791, CD14-rs2569190, CARD8-rs1834481, IL18-rs2043211, and CD40-rs1883832) in disease severity and prognosis. A total of 249 individuals were enrolled and further divided into five (5) groups, according to the clinical progression scale provided by the World Health Organization (WHO) (asymptomatic, mild, moderate, severe, and critical). We identified that elderly patients with obesity and/or diabetes mellitus were more susceptible to developing pneumonia and respiratory distress syndrome after SARS-CoV-2 infection, while the IL18-rs1834481 polymorphism was an independent risk factor for developing pneumonia. Moreover, individuals carrying either the TLR2-rs5743708 or the TLR4-rs4986791 polymorphisms exhibited a 3.6- and 2.5-fold increased probability for developing pneumonia and a more severe disease, respectively. Our data support the notion that the host's genetic background can significantly affect COVID-19 clinical phenotype, also suggesting that the IL18-rs1834481, TLR2-rs5743708, and TLR4-rs4986791 polymorphisms may be used as molecular predictors of COVID-19 clinical phenotype.\",\n",
       " 'target1': 'TLR4',\n",
       " 'target1_type': 'Gene',\n",
       " 'target2': 'TLR2',\n",
       " 'target2_type': 'Gene',\n",
       " 'sentence_transformed': 'Moreover, individuals carrying either the TLR2-rs5743708 or the TLR4-rs4986791 polymorphisms exhibited a 3.6- and 2.5-fold increased probability for developing pneumonia and a more severe disease, respectively.'}"
      ]
     },
     "execution_count": 61,
     "metadata": {},
     "output_type": "execute_result"
    }
   ],
   "source": [
    "triplelist_filtered[0]"
   ]
  },
  {
   "cell_type": "code",
   "execution_count": 62,
   "id": "9248bd63-fe10-49ec-bba3-525aa680fb57",
   "metadata": {},
   "outputs": [],
   "source": [
    "all_relations=copy.deepcopy(sentence_colons)\n",
    "for i in triplelist_filtered:\n",
    "    i.update({'sentence_transformed':i.get('sentence')})\n",
    "    all_relations[i.get('sentence')]=all_relations.get(i.get('sentence'),[])+[i]"
   ]
  },
  {
   "cell_type": "code",
   "execution_count": 63,
   "id": "bda201a3-0a4b-4516-aebb-db75d0e12bde",
   "metadata": {},
   "outputs": [
    {
     "data": {
      "text/plain": [
       "40214"
      ]
     },
     "execution_count": 63,
     "metadata": {},
     "output_type": "execute_result"
    }
   ],
   "source": [
    "len(all_relations)"
   ]
  },
  {
   "cell_type": "code",
   "execution_count": 64,
   "id": "f9afba13-a0e6-4915-a38d-ad5189c50ec3",
   "metadata": {},
   "outputs": [],
   "source": [
    "all_relations_list=list(all_relations.keys())"
   ]
  },
  {
   "cell_type": "markdown",
   "id": "1aefac80-674e-4710-a1f0-c166dff13497",
   "metadata": {
    "tags": []
   },
   "source": [
    "# Deal with all"
   ]
  },
  {
   "cell_type": "markdown",
   "id": "891151e7-5a86-4f61-822e-d82a9b17c1b6",
   "metadata": {},
   "source": [
    "## Prepare for OpenIE"
   ]
  },
  {
   "cell_type": "code",
   "execution_count": 65,
   "id": "d978f506-3df0-40b2-abd9-e1a1a5d2e473",
   "metadata": {},
   "outputs": [],
   "source": [
    "os.makedirs('results/step3/openie/filelist/')"
   ]
  },
  {
   "cell_type": "code",
   "execution_count": 66,
   "id": "421b341c-7609-4852-b2a5-7d515c731533",
   "metadata": {},
   "outputs": [],
   "source": [
    "ind=1\n",
    "for i in all_relations_list:\n",
    "    f=open('results/step3/openie/filelist/sentence'+str(ind)+'.txt','w')\n",
    "    f.write(i)\n",
    "    f.close()\n",
    "    ind+=1"
   ]
  },
  {
   "cell_type": "code",
   "execution_count": 67,
   "id": "c02d0b5d-f234-4ad9-8ebd-fe24778f31fc",
   "metadata": {},
   "outputs": [],
   "source": [
    "f=open('results/step3/openie/filelist.txt','a')\n",
    "for i in range(1,len(all_relations_list)+1):\n",
    "    f.write('filelist/sentence'+str(i)+'.txt'+'\\n')\n",
    "f.close()"
   ]
  },
  {
   "cell_type": "markdown",
   "id": "477173a4-c5e4-4aad-bd43-06db39da6db8",
   "metadata": {
    "tags": []
   },
   "source": [
    "### Run in shell "
   ]
  },
  {
   "cell_type": "code",
   "execution_count": 40,
   "id": "7c333b29-d09e-442a-900e-488554960ab7",
   "metadata": {},
   "outputs": [],
   "source": [
    "# cd results/step3/openie\n",
    "# nohup java -mx500g -cp ../../../../stanza_corenlp/stanford-corenlp-4.3.2.jar:../../../../stanza_corenlp/stanford-corenlp-4.3.2-models.jar:../../../../stanza_corenlp/CoreNLP-to-HTML.xsl:../../../../slf4j-api.jar:../../../../stanza_corenlp/slf4j-simple.jar edu.stanford.nlp.naturalli.OpenIE -format reverb -filelist ./filelist.txt -output ./openie.txt > ./openie.log &\n",
    "# cd ../../../"
   ]
  },
  {
   "cell_type": "code",
   "execution_count": 72,
   "id": "1e9d7cec-54e3-4cb9-a695-a0d209a3b1ca",
   "metadata": {},
   "outputs": [
    {
     "data": {
      "text/plain": [
       "40214"
      ]
     },
     "execution_count": 72,
     "metadata": {},
     "output_type": "execute_result"
    }
   ],
   "source": [
    "len(all_relations_list)"
   ]
  },
  {
   "cell_type": "markdown",
   "id": "e631edb3-8959-488b-b73a-f00622293c02",
   "metadata": {},
   "source": [
    "## Prepare for Stanza"
   ]
  },
  {
   "cell_type": "code",
   "execution_count": 68,
   "id": "a4c6ac31-8332-4fc3-9adc-aa5e1223081a",
   "metadata": {},
   "outputs": [],
   "source": [
    "os.makedirs('results/step3/openie/files/')\n",
    "k=1\n",
    "for i in range(0,len(all_relations_list),len(all_relations_list)//4):\n",
    "    pickle.dump(all_relations_list[i:i+len(all_relations_list)//4],open('results/step3/openie/files/openie'+str(k)+'.pkl','wb'))\n",
    "    k+=1"
   ]
  },
  {
   "cell_type": "code",
   "execution_count": 69,
   "id": "ea6546e5-bd11-428b-9ddf-5a100099b478",
   "metadata": {
    "tags": []
   },
   "outputs": [],
   "source": [
    "os.makedirs('results/step3/rules/files')\n",
    "k=1\n",
    "for i in range(0,len(all_relations_list),len(all_relations_list)//4):\n",
    "    f=open('results/step3/rules/files/rules'+str(k)+'.py','w')\n",
    "    f.write('''\n",
    "import stanza\n",
    "import os\n",
    "import datetime\n",
    "import time\n",
    "nlp = stanza.Pipeline('en', package='genia',download_method=None)\n",
    "import pickle\n",
    "raw=pickle.load(open('../../openie/files/openie'''+str(k)+'''.pkl','rb'))\n",
    "import re \n",
    "\n",
    "def nlpSentence(i,sentence2words,sentence2relations,sentence2verblist,sentence2verbtype,sentence2adv):\n",
    "    sentence=i\n",
    "    doc=nlp(sentence)\n",
    "    words=[]\n",
    "    for sent in doc.sentences:\n",
    "        for word in sent.words:\n",
    "            words.append(word.text)\n",
    "    relations=[]\n",
    "    verblist=[]\n",
    "    verbprototype=[]\n",
    "    adv=[]\n",
    "    for sent in doc.sentences:\n",
    "        for word in sent.words:\n",
    "            relations.append([word.text,words[int(word.head)-1],int(word.id),int(word.head),word.deprel,word.xpos])\n",
    "            if word.xpos in ['VB','VBD','VBG','VBN', 'VBP', 'VBZ']:\n",
    "                verblist.append({word.text:word.xpos})\n",
    "                verbprototype.append({word.text:word.lemma})\n",
    "            if word.xpos in ['RB','RBR','RBS']:\n",
    "                adv.append({word.text:word.xpos})\n",
    "    sentence2words[i]=words\n",
    "    sentence2relations[i]=relations\n",
    "    sentence2verblist[i]=verblist\n",
    "    sentence2verbprototype[i]=verbprototype\n",
    "    sentence2adv[i]=adv\n",
    "\n",
    "\n",
    "start=datetime.datetime.now()\n",
    "print('Parent process %s.' % os.getpid())\n",
    "sentence2words={}\n",
    "sentence2relations={}\n",
    "sentence2verblist={}\n",
    "sentence2verbprototype={}\n",
    "sentence2adv={}\n",
    "for i in raw:\n",
    "    nlpSentence(i,sentence2words,sentence2relations,sentence2verblist,sentence2verbprototype,sentence2adv)\n",
    "pickle.dump(sentence2words,open('sentence2words'''+str(k)+'''.pkl','wb'))\n",
    "pickle.dump(sentence2relations,open('sentence2relations'''+str(k)+'''.pkl','wb'))\n",
    "pickle.dump(sentence2verblist,open('sentence2verblist'''+str(k)+'''.pkl','wb'))\n",
    "pickle.dump(sentence2verbprototype,open('sentence2verbprototype'''+str(k)+'''.pkl','wb'))\n",
    "pickle.dump(sentence2adv,open('sentence2adv'''+str(k)+'''.pkl','wb'))\n",
    "print('Waiting for all subprocesses done...')\n",
    "\n",
    "end=datetime.datetime.now()\n",
    "print(\"The running time is \"+str((end-start).seconds)+\"s\")  \n",
    "    ''')\n",
    "    f.close()\n",
    "    k+=1"
   ]
  },
  {
   "cell_type": "code",
   "execution_count": 80,
   "id": "37daf79c-88db-455b-9654-a6ee59d0648a",
   "metadata": {},
   "outputs": [],
   "source": [
    "import pickle\n",
    "raw=pickle.load(open('results/step3/openie/files/openie'+str(1)+'.pkl','rb'))"
   ]
  },
  {
   "cell_type": "markdown",
   "id": "b11ca47e-ecbc-42fc-976b-5343c247632b",
   "metadata": {},
   "source": [
    "### Run in shell "
   ]
  },
  {
   "cell_type": "code",
   "execution_count": 111,
   "id": "dca73b9f-f6ec-407d-85fb-c6f8e75efedf",
   "metadata": {},
   "outputs": [],
   "source": [
    "# cd results/step3/rules/files\n",
    "# for i in {1..5}; do echo \"nohup python rules${i}.py >> rules.log &\" | bash; done\n",
    "# cd ../../../../"
   ]
  },
  {
   "cell_type": "code",
   "execution_count": null,
   "id": "33993830-ebb7-4357-a72a-6aeceb3ffa86",
   "metadata": {},
   "outputs": [],
   "source": []
  },
  {
   "cell_type": "code",
   "execution_count": null,
   "id": "a2291049-c305-48d7-be2f-cef63c4d5aca",
   "metadata": {},
   "outputs": [],
   "source": []
  },
  {
   "cell_type": "markdown",
   "id": "a3ac25c0-7765-4d9b-a3d1-2836e4a3ced6",
   "metadata": {},
   "source": [
    "## Deal with OpenIE"
   ]
  },
  {
   "cell_type": "code",
   "execution_count": 82,
   "id": "76cf62db-8479-4160-b411-e87848487276",
   "metadata": {},
   "outputs": [],
   "source": [
    "openie_table=pd.read_table('results/step3/openie/openie.txt',header=None)"
   ]
  },
  {
   "cell_type": "code",
   "execution_count": 83,
   "id": "49af1be7-c99b-4eaf-a3d6-db8e440d16b8",
   "metadata": {},
   "outputs": [
    {
     "data": {
      "text/html": [
       "<div>\n",
       "<style scoped>\n",
       "    .dataframe tbody tr th:only-of-type {\n",
       "        vertical-align: middle;\n",
       "    }\n",
       "\n",
       "    .dataframe tbody tr th {\n",
       "        vertical-align: top;\n",
       "    }\n",
       "\n",
       "    .dataframe thead th {\n",
       "        text-align: right;\n",
       "    }\n",
       "</style>\n",
       "<table border=\"1\" class=\"dataframe\">\n",
       "  <thead>\n",
       "    <tr style=\"text-align: right;\">\n",
       "      <th></th>\n",
       "      <th>0</th>\n",
       "      <th>1</th>\n",
       "      <th>2</th>\n",
       "      <th>3</th>\n",
       "      <th>4</th>\n",
       "      <th>5</th>\n",
       "      <th>6</th>\n",
       "      <th>7</th>\n",
       "      <th>8</th>\n",
       "      <th>9</th>\n",
       "      <th>10</th>\n",
       "      <th>11</th>\n",
       "      <th>12</th>\n",
       "      <th>13</th>\n",
       "      <th>14</th>\n",
       "      <th>15</th>\n",
       "      <th>16</th>\n",
       "    </tr>\n",
       "  </thead>\n",
       "  <tbody>\n",
       "    <tr>\n",
       "      <th>0</th>\n",
       "      <td>filelist/sentence105.txt</td>\n",
       "      <td>0</td>\n",
       "      <td>polymorphisms</td>\n",
       "      <td>is in</td>\n",
       "      <td>ApoE</td>\n",
       "      <td>1</td>\n",
       "      <td>2</td>\n",
       "      <td>2</td>\n",
       "      <td>3</td>\n",
       "      <td>3</td>\n",
       "      <td>4</td>\n",
       "      <td>1.0</td>\n",
       "      <td>The polymorphisms in ApoE and IL -6-174 G / C ...</td>\n",
       "      <td>DT NNS IN NN CC NN NN NN HYPH NN NNS VBD VBN V...</td>\n",
       "      <td>polymorphism</td>\n",
       "      <td>be in</td>\n",
       "      <td>apoe</td>\n",
       "    </tr>\n",
       "    <tr>\n",
       "      <th>1</th>\n",
       "      <td>filelist/sentence105.txt</td>\n",
       "      <td>0</td>\n",
       "      <td>polymorphisms</td>\n",
       "      <td>were</td>\n",
       "      <td>assessed</td>\n",
       "      <td>1</td>\n",
       "      <td>2</td>\n",
       "      <td>11</td>\n",
       "      <td>12</td>\n",
       "      <td>12</td>\n",
       "      <td>13</td>\n",
       "      <td>1.0</td>\n",
       "      <td>The polymorphisms in ApoE and IL -6-174 G / C ...</td>\n",
       "      <td>DT NNS IN NN CC NN NN NN HYPH NN NNS VBD VBN V...</td>\n",
       "      <td>polymorphism</td>\n",
       "      <td>be</td>\n",
       "      <td>assess</td>\n",
       "    </tr>\n",
       "    <tr>\n",
       "      <th>2</th>\n",
       "      <td>filelist/sentence90.txt</td>\n",
       "      <td>0</td>\n",
       "      <td>Lapatinib</td>\n",
       "      <td>is</td>\n",
       "      <td>dual</td>\n",
       "      <td>0</td>\n",
       "      <td>1</td>\n",
       "      <td>1</td>\n",
       "      <td>2</td>\n",
       "      <td>3</td>\n",
       "      <td>4</td>\n",
       "      <td>1.0</td>\n",
       "      <td>Lapatinib is a dual EGFR and HER2 inhibitor th...</td>\n",
       "      <td>NNP VBZ DT JJ NN CC NN NN WDT VBZ VBN TO VB NN...</td>\n",
       "      <td>Lapatinib</td>\n",
       "      <td>be</td>\n",
       "      <td>dual</td>\n",
       "    </tr>\n",
       "    <tr>\n",
       "      <th>3</th>\n",
       "      <td>filelist/sentence90.txt</td>\n",
       "      <td>0</td>\n",
       "      <td>Lapatinib</td>\n",
       "      <td>is</td>\n",
       "      <td>EGFR</td>\n",
       "      <td>0</td>\n",
       "      <td>1</td>\n",
       "      <td>1</td>\n",
       "      <td>2</td>\n",
       "      <td>4</td>\n",
       "      <td>5</td>\n",
       "      <td>1.0</td>\n",
       "      <td>Lapatinib is a dual EGFR and HER2 inhibitor th...</td>\n",
       "      <td>NNP VBZ DT JJ NN CC NN NN WDT VBZ VBN TO VB NN...</td>\n",
       "      <td>Lapatinib</td>\n",
       "      <td>be</td>\n",
       "      <td>egfr</td>\n",
       "    </tr>\n",
       "    <tr>\n",
       "      <th>4</th>\n",
       "      <td>filelist/sentence90.txt</td>\n",
       "      <td>0</td>\n",
       "      <td>Lapatinib</td>\n",
       "      <td>is</td>\n",
       "      <td>dual EGFR</td>\n",
       "      <td>0</td>\n",
       "      <td>1</td>\n",
       "      <td>1</td>\n",
       "      <td>2</td>\n",
       "      <td>3</td>\n",
       "      <td>5</td>\n",
       "      <td>1.0</td>\n",
       "      <td>Lapatinib is a dual EGFR and HER2 inhibitor th...</td>\n",
       "      <td>NNP VBZ DT JJ NN CC NN NN WDT VBZ VBN TO VB NN...</td>\n",
       "      <td>Lapatinib</td>\n",
       "      <td>be</td>\n",
       "      <td>dual egfr</td>\n",
       "    </tr>\n",
       "  </tbody>\n",
       "</table>\n",
       "</div>"
      ],
      "text/plain": [
       "                         0   1              2      3          4   5   6   7   \\\n",
       "0  filelist/sentence105.txt   0  polymorphisms  is in       ApoE   1   2   2   \n",
       "1  filelist/sentence105.txt   0  polymorphisms   were   assessed   1   2  11   \n",
       "2   filelist/sentence90.txt   0      Lapatinib     is       dual   0   1   1   \n",
       "3   filelist/sentence90.txt   0      Lapatinib     is       EGFR   0   1   1   \n",
       "4   filelist/sentence90.txt   0      Lapatinib     is  dual EGFR   0   1   1   \n",
       "\n",
       "   8   9   10   11                                                 12  \\\n",
       "0   3   3   4  1.0  The polymorphisms in ApoE and IL -6-174 G / C ...   \n",
       "1  12  12  13  1.0  The polymorphisms in ApoE and IL -6-174 G / C ...   \n",
       "2   2   3   4  1.0  Lapatinib is a dual EGFR and HER2 inhibitor th...   \n",
       "3   2   4   5  1.0  Lapatinib is a dual EGFR and HER2 inhibitor th...   \n",
       "4   2   3   5  1.0  Lapatinib is a dual EGFR and HER2 inhibitor th...   \n",
       "\n",
       "                                                  13            14     15  \\\n",
       "0  DT NNS IN NN CC NN NN NN HYPH NN NNS VBD VBN V...  polymorphism  be in   \n",
       "1  DT NNS IN NN CC NN NN NN HYPH NN NNS VBD VBN V...  polymorphism     be   \n",
       "2  NNP VBZ DT JJ NN CC NN NN WDT VBZ VBN TO VB NN...     Lapatinib     be   \n",
       "3  NNP VBZ DT JJ NN CC NN NN WDT VBZ VBN TO VB NN...     Lapatinib     be   \n",
       "4  NNP VBZ DT JJ NN CC NN NN WDT VBZ VBN TO VB NN...     Lapatinib     be   \n",
       "\n",
       "          16  \n",
       "0       apoe  \n",
       "1     assess  \n",
       "2       dual  \n",
       "3       egfr  \n",
       "4  dual egfr  "
      ]
     },
     "execution_count": 83,
     "metadata": {},
     "output_type": "execute_result"
    }
   ],
   "source": [
    "openie_table.head(5)"
   ]
  },
  {
   "cell_type": "code",
   "execution_count": 84,
   "id": "4b347098-c54d-48e6-b02b-c4d5d3cb8a83",
   "metadata": {},
   "outputs": [
    {
     "data": {
      "text/plain": [
       "657647"
      ]
     },
     "execution_count": 84,
     "metadata": {},
     "output_type": "execute_result"
    }
   ],
   "source": [
    "len(openie_table)"
   ]
  },
  {
   "cell_type": "code",
   "execution_count": 85,
   "id": "f2820158-7e9d-49af-ab21-b2d4df8ec3f8",
   "metadata": {},
   "outputs": [],
   "source": [
    "df=openie_table.loc[:,[0,2,3,4,12]]"
   ]
  },
  {
   "cell_type": "code",
   "execution_count": 86,
   "id": "276335e9-65dd-4743-97c0-67a619b8228a",
   "metadata": {},
   "outputs": [],
   "source": [
    "be=['be','am','is','are','was','were','have been','has been']\n",
    "bedict={}\n",
    "for i in be:\n",
    "    bedict[i]='be'"
   ]
  },
  {
   "cell_type": "code",
   "execution_count": 87,
   "id": "e23c6dac-5931-4533-b51c-957a3238309b",
   "metadata": {},
   "outputs": [],
   "source": [
    "rules_pairs=['sentence2adv','sentence2relations','sentence2verblist','sentence2verbprototype','sentence2words']\n",
    "for i in rules_pairs:\n",
    "    names[i]={}\n",
    "    for k in ['results/step3/rules/files/'+i+str(j)+'.pkl' for j in range(1,6)]:\n",
    "        names[i].update(pickle.load(open(k,'rb')))"
   ]
  },
  {
   "cell_type": "code",
   "execution_count": 88,
   "id": "7bfa5058-9628-4aae-b6a2-dc47d857932e",
   "metadata": {},
   "outputs": [],
   "source": [
    "finallist=[]\n",
    "for line in range(len(df)):\n",
    "    i=all_relations_list[int(df.iloc[line,0][17:-4])-1]\n",
    "    verblist=sentence2verblist.get(i)\n",
    "    verbrelation=''\n",
    "    real_verb=''\n",
    "    verbdict={}\n",
    "    verbs_split=df.loc[line,3].split(' ')\n",
    "    for verb in verblist:\n",
    "        verbdict.update(verb)\n",
    "    for indexx,one in enumerate(verbs_split):\n",
    "        if verbdict.get(one):\n",
    "            verbrelation=one\n",
    "            relations=sentence2relations.get(i)\n",
    "            relations_display=[relation[-2] for relation in relations]\n",
    "            verbprototype=sentence2verbprototype.get(i)\n",
    "            verbprototype_dict={}\n",
    "            for verbp in verbprototype:\n",
    "                verbprototype_dict.update(verbp)\n",
    "            for index_passive,passive in enumerate(relations_display):\n",
    "                if passive=='aux:pass':\n",
    "                    if relations[index_passive][1]==verbrelation:\n",
    "                        verb_prototype=verbrelation\n",
    "                        break\n",
    "                elif passive=='acl' and relations[index_passive][-1]=='VBN':\n",
    "                    if relations[index_passive][0]==verbrelation:\n",
    "                        verb_prototype=verbrelation\n",
    "                        break\n",
    "            else:\n",
    "                for v in verbprototype:\n",
    "                    if v.get(verbrelation):\n",
    "                        verb_prototype=v.get(verbrelation)\n",
    "                        break\n",
    "            verbs_split[indexx]=verb_prototype\n",
    "        elif bedict.get(one):\n",
    "            verbs_split[indexx]=bedict.get(one)\n",
    "    if bedict.get(' '.join(verbs_split[:2])):\n",
    "        final=' '.join(['be']+verbs_split[2:])\n",
    "    else:\n",
    "        final=' '.join(verbs_split)\n",
    "    finallist.append(final)\n",
    "df[17]=finallist"
   ]
  },
  {
   "cell_type": "code",
   "execution_count": 89,
   "id": "c433c8c1-b775-41cd-a8c1-2aba317de083",
   "metadata": {},
   "outputs": [],
   "source": [
    "ind=1\n",
    "for i in all_relations_list:\n",
    "    names['sentence'+str(ind)]=i\n",
    "    ind+=1"
   ]
  },
  {
   "cell_type": "code",
   "execution_count": 90,
   "id": "0b3394a2-4892-4978-921b-67ab09fa1582",
   "metadata": {},
   "outputs": [
    {
     "data": {
      "text/plain": [
       "40215"
      ]
     },
     "execution_count": 90,
     "metadata": {},
     "output_type": "execute_result"
    }
   ],
   "source": [
    "ind"
   ]
  },
  {
   "cell_type": "code",
   "execution_count": 91,
   "id": "aec5a6a1-bf9d-4211-ac4d-bf0b19d77f47",
   "metadata": {},
   "outputs": [
    {
     "data": {
      "text/plain": [
       "'Stroke is the leading cause of death in China, and predicting the stroke burden could provide essential information guiding the setting of medium- and long-term health policies and priorities.'"
      ]
     },
     "execution_count": 91,
     "metadata": {},
     "output_type": "execute_result"
    }
   ],
   "source": [
    "sentence689"
   ]
  },
  {
   "cell_type": "code",
   "execution_count": 92,
   "id": "ae2c75a4-0d16-4d90-b180-a02d94480f44",
   "metadata": {},
   "outputs": [],
   "source": [
    "relation_dict_copy=copy.deepcopy(all_relations)"
   ]
  },
  {
   "cell_type": "code",
   "execution_count": 93,
   "id": "1517eb57-1a89-4bef-8760-09b55ce16497",
   "metadata": {},
   "outputs": [
    {
     "data": {
      "text/plain": [
       "40214"
      ]
     },
     "execution_count": 93,
     "metadata": {},
     "output_type": "execute_result"
    }
   ],
   "source": [
    "len(relation_dict_copy)"
   ]
  },
  {
   "cell_type": "code",
   "execution_count": 101,
   "id": "75243b07-fb68-4036-a594-395d2c0e1f64",
   "metadata": {},
   "outputs": [],
   "source": [
    "suc=[]\n",
    "for i in range(1,len(relation_dict_copy)+1):\n",
    "    if relation_dict_copy.get(names[df.iloc[i-1,0][9:-4]]):\n",
    "        openie=[]\n",
    "        for j in relation_dict_copy.get(names[df.iloc[i-1,0][9:-4]]):\n",
    "            j1=j.get('target1').translate(str.maketrans({\"-\":  r\"\\-\",\"\\\\\": r\"\\\\\", \"^\":  r\"\\^\",\"$\":  r\"\\$\",\"*\":  r\"\\*\",\".\":  r\"\\.\",\"(\":  r\"\\(\",\")\":  r\"\\)\",\"+\":  r\"\\+\",\"[\":  r\"\\[\",\"]\":  r\"\\]\",\n",
    "                      \"{\":  r\"\\{\",\"}\":  r\"\\}\",\"|\":  r\"\\|\",\"?\":  r\"\\?\"}))\n",
    "            j2=j.get('target2').translate(str.maketrans({\"-\":  r\"\\-\",\"\\\\\": r\"\\\\\", \"^\":  r\"\\^\",\"$\":  r\"\\$\",\"*\":  r\"\\*\",\".\":  r\"\\.\",\"(\":  r\"\\(\",\")\":  r\"\\)\",\"+\":  r\"\\+\",\"[\":  r\"\\[\",\"]\":  r\"\\]\",\n",
    "                      \"{\":  r\"\\{\",\"}\":  r\"\\}\",\"|\":  r\"\\|\",\"?\":  r\"\\?\"}))\n",
    "            if re.search(j1,df.iloc[i-1,1]) and re.search(j2,df.iloc[i-1,3]):\n",
    "                j['openie']=j.get('openie',[])+[[j.get('target1'),df.iloc[i-1,-1],j.get('target2')]]\n",
    "                openie.append([j.get('target1'),df.iloc[i-1,-1],j.get('target2')])\n",
    "            elif re.search(j2,df.iloc[i-1,1]) and re.search(j1,df.iloc[i-1,3]):\n",
    "                j['openie']=j.get('openie',[])+[[j.get('target2'),df.iloc[i-1,-1],j.get('target1')]]\n",
    "                openie.append([j.get('target2'),df.iloc[i-1,-1],j.get('target1')]) \n",
    "        if not openie:\n",
    "            suc.append(names[df.iloc[i-1,0][9:-4]])    "
   ]
  },
  {
   "cell_type": "code",
   "execution_count": 102,
   "id": "e9faecf2-26bd-41c7-922c-ab30f6efb480",
   "metadata": {},
   "outputs": [],
   "source": [
    "error=[]\n",
    "for i in range(1,len(relation_dict_copy)+1):\n",
    "    if not relation_dict_copy.get(names[df.iloc[i-1,0][9:-4]]):\n",
    "        error.append(names[df.iloc[i-1,0][9:-4]])"
   ]
  },
  {
   "cell_type": "code",
   "execution_count": 103,
   "id": "026e91ca-dd38-4834-af71-a353f49738e0",
   "metadata": {},
   "outputs": [
    {
     "data": {
      "text/plain": [
       "37250"
      ]
     },
     "execution_count": 103,
     "metadata": {},
     "output_type": "execute_result"
    }
   ],
   "source": [
    "len(suc)"
   ]
  },
  {
   "cell_type": "code",
   "execution_count": 104,
   "id": "89fa4c47-025e-4a38-9d9b-921813642bd7",
   "metadata": {},
   "outputs": [
    {
     "data": {
      "text/plain": [
       "40214"
      ]
     },
     "execution_count": 104,
     "metadata": {},
     "output_type": "execute_result"
    }
   ],
   "source": [
    "len(relation_dict_copy)"
   ]
  },
  {
   "cell_type": "code",
   "execution_count": 105,
   "id": "4336860c-8faa-46ba-a965-7e1458b59dbf",
   "metadata": {},
   "outputs": [
    {
     "data": {
      "text/plain": [
       "0"
      ]
     },
     "execution_count": 105,
     "metadata": {},
     "output_type": "execute_result"
    }
   ],
   "source": [
    "len(error)"
   ]
  },
  {
   "cell_type": "code",
   "execution_count": null,
   "id": "50340b7f-88bd-40be-adad-03b973f9e1a1",
   "metadata": {},
   "outputs": [],
   "source": []
  },
  {
   "cell_type": "code",
   "execution_count": null,
   "id": "26ee9114-a823-4df1-b188-58f0a050d931",
   "metadata": {},
   "outputs": [],
   "source": []
  },
  {
   "cell_type": "markdown",
   "id": "f84600cb-aac5-4f8c-b10c-e980d5bca393",
   "metadata": {},
   "source": [
    "## Deal with AllenNLP"
   ]
  },
  {
   "cell_type": "code",
   "execution_count": 70,
   "id": "440aacb0-6152-4027-b099-3dece5eb73d8",
   "metadata": {},
   "outputs": [],
   "source": [
    "sys.path.append(\"..\")\n",
    "PREDICTOR = Predictor.from_path('../openie-model.2020.03.26.tar.gz')"
   ]
  },
  {
   "cell_type": "code",
   "execution_count": 100,
   "id": "271e9675-cdf6-4be5-881f-a56d80936640",
   "metadata": {},
   "outputs": [],
   "source": [
    "def clean(sent):\n",
    "    return re.sub(' +', ' ', sent.replace('\\r', ' ').replace('\\n', ' '))\n",
    "def get_tags_allen(sent):\n",
    "    sent = sent.replace('[', '(').replace(']', ')')\n",
    "    res = PREDICTOR.predict(\n",
    "      sentence=sent\n",
    "    )\n",
    "    return res\n",
    "def parse_allen(ss):\n",
    "    words = ss['words']\n",
    "    res = []\n",
    "    for v in ss['verbs']:\n",
    "        tags = v['tags']\n",
    "        d = {}\n",
    "        for i in range(len(words)):\n",
    "            t = tags[i].replace('I-', '').replace('B-', '')\n",
    "            w = words[i]\n",
    "            if t in d:\n",
    "                d[t] += ' '+ w\n",
    "            else:\n",
    "                d[t] = w\n",
    "        res.append(d)\n",
    "    return res"
   ]
  },
  {
   "cell_type": "code",
   "execution_count": 99,
   "id": "e23ccc86-3ee3-4a16-afd9-0514c0425ec8",
   "metadata": {},
   "outputs": [],
   "source": [
    "sentence2allennlp={}\n",
    "for i in relation_dict_copy.keys():\n",
    "    res=get_tags_allen(i)\n",
    "    ress=parse_allen(res)\n",
    "    sentence2allennlp[i]=ress"
   ]
  },
  {
   "cell_type": "code",
   "execution_count": 106,
   "id": "2175b34e-7f25-483b-9908-95cdbd551342",
   "metadata": {},
   "outputs": [],
   "source": [
    "for i,j in relation_dict_copy.items():\n",
    "    for k in j:\n",
    "        k1=k.get('target1').translate(str.maketrans({\"-\":  r\"\\-\",\"\\\\\": r\"\\\\\", \"^\":  r\"\\^\",\"$\":  r\"\\$\",\"*\":  r\"\\*\",\".\":  r\"\\.\",\"(\":  r\"\\(\",\")\":  r\"\\)\",\"+\":  r\"\\+\",\"[\":  r\"\\[\",\"]\":  r\"\\]\",\n",
    "                  \"{\":  r\"\\{\",\"}\":  r\"\\}\",\"|\":  r\"\\|\",\"?\":  r\"\\?\"}))\n",
    "        k2=k.get('target2').translate(str.maketrans({\"-\":  r\"\\-\",\"\\\\\": r\"\\\\\", \"^\":  r\"\\^\",\"$\":  r\"\\$\",\"*\":  r\"\\*\",\".\":  r\"\\.\",\"(\":  r\"\\(\",\")\":  r\"\\)\",\"+\":  r\"\\+\",\"[\":  r\"\\[\",\"]\":  r\"\\]\",\n",
    "                  \"{\":  r\"\\{\",\"}\":  r\"\\}\",\"|\":  r\"\\|\",\"?\":  r\"\\?\"}))\n",
    "        for l in sentence2allennlp.get(i):\n",
    "            if l.get('ARG1') and l.get('ARG2') and l.get('V'):\n",
    "                if re.search(k1,l.get('ARG1')) and re.search(k2,l.get('ARG2')):\n",
    "                    k['allennlp']=k.get('allennlp',[])+[[k.get('target1'), l.get('V') ,k.get('target2')]]\n",
    "                elif re.search(k2,l.get('ARG1')) and re.search(k1,l.get('ARG2')):\n",
    "                    k['allennlp']=k.get('allennlp',[])+[[k.get('target2'), l.get('V') ,k.get('target1')]]"
   ]
  },
  {
   "cell_type": "code",
   "execution_count": 107,
   "id": "2c72e5b2-6b41-4e2f-a77f-d8f2cc7fb050",
   "metadata": {},
   "outputs": [
    {
     "name": "stdout",
     "output_type": "stream",
     "text": [
      "{'PMID': '27253662', 'entity1': 'MALT1', 'entity2': 'Immunologic Deficiency Syndromes', 'sentence': 'CONCLUSIONS: Along with FOXP3, interleukin 2 receptor alpha chain (IL2RA), and cytotoxic T-lymphocyte protein 4 precursor (CTLA-4) mutations, MALT1 deficiency should now be considered as a possible cause of IPEX-like syndrome associated with immunodeficiency that can be cured by hematopoietic stem cell transplantation.', 'AB': 'OBJECTIVE: Early-onset inflammatory bowel diseases can result from a wide spectrum of rare mendelian disorders. Early molecular diagnosis is crucial in defining treatment and in improving life expectancy. Herein we aimed at defining the mechanism of an immunodeficiency-polyendrocrinopathy and enteropathy-X-linked (IPEX)-like disease combined with a severe immunodeficiency in 2 siblings born from distantly related parents. METHODS: Whole exome sequencing was performed on blood-extracted genomic DNA from the 2 affected children and their parents on the genomic platform of Institut IMAGINE. Candidate gene mutation was identified using the in-house software PolyWeb and confirmed by Sanger sequencing. Protein expression was determined by western blot. Flow cytometry was used to assess consequences of the mutation on lymphocyte phenotype and nuclear factor-kappa B (NF-kappaB) activation at diagnosis and after treatment by hematopoietic stem cell transplantation. RESULTS: We identified a homozygous missense mutation in mucosa-associated lymphoid tissue lymphoma translocation 1 gene (MALT1), which precluded protein expression. In keeping with the known function of MALT1, NF-kappaB-dependent lymphocyte activation was severely impaired. Moreover, there was a drastic reduction in Forkhead box P3 (FOXP3) regulatory T cells accounting for the IPEX-like phenotype. Following identification of the mutation, both children received hematopoietic stem cell transplantation, which permitted full clinical recovery. Immunological workup at 6 and 12 months after transplantation showed normal NF-kappaB activation and correction of regulatory T cells frequency. CONCLUSIONS: Along with FOXP3, interleukin 2 receptor alpha chain (IL2RA), and cytotoxic T-lymphocyte protein 4 precursor (CTLA-4) mutations, MALT1 deficiency should now be considered as a possible cause of IPEX-like syndrome associated with immunodeficiency that can be cured by hematopoietic stem cell transplantation.', 'target1': 'MALT1', 'target1_type': 'Gene', 'target2': 'immunodeficiency', 'target2_type': 'Disease', 'sentence_transformed': 'Along with FOXP3, interleukin 2 receptor alpha chain (IL2RA), and cytotoxic T-lymphocyte protein 4 precursor (CTLA-4) mutations, MALT1 deficiency should now be considered as a possible cause of IPEX-like syndrome associated with immunodeficiency that can be cured by hematopoietic stem cell transplantation.', 'allennlp': [['MALT1', 'considered', 'immunodeficiency']]}\n"
     ]
    }
   ],
   "source": [
    "for i,j in relation_dict_copy.items():\n",
    "    for k in j:\n",
    "        if k.get('allennlp'):\n",
    "            print(k)\n",
    "            break\n",
    "    else:\n",
    "        continue\n",
    "    break"
   ]
  },
  {
   "cell_type": "code",
   "execution_count": 108,
   "id": "a70db993-e2b3-4120-9190-5745fbf99501",
   "metadata": {},
   "outputs": [
    {
     "data": {
      "text/plain": [
       "40214"
      ]
     },
     "execution_count": 108,
     "metadata": {},
     "output_type": "execute_result"
    }
   ],
   "source": [
    "len(sentence2adv)"
   ]
  },
  {
   "cell_type": "code",
   "execution_count": 109,
   "id": "dfb7f62f-02bb-4eec-83bd-6f4897089c8b",
   "metadata": {},
   "outputs": [],
   "source": [
    "negativewords=['no','not','never','hardly','barely','scarcely','rarely','few','little','seldom','neither','nor']\n",
    "negativewords_dict={}\n",
    "for i in negativewords:\n",
    "    negativewords_dict[i]=i"
   ]
  },
  {
   "cell_type": "code",
   "execution_count": 110,
   "id": "4accfd64-869b-43c2-b86e-0424190d5ff2",
   "metadata": {},
   "outputs": [
    {
     "name": "stdout",
     "output_type": "stream",
     "text": [
      "Parent process 103567.\n",
      "Waiting for all subprocesses done...\n",
      "All subprocesses done.\n",
      "The running time is 276s\n"
     ]
    }
   ],
   "source": [
    "def work(i,j,triple,abnormal, negative_sentences,networkx_raw):\n",
    "    adv=sentence2adv.get(i)\n",
    "    words=sentence2words.get(i)\n",
    "    sentence=i\n",
    "    relations=sentence2relations.get(i)\n",
    "    relations_display=[relation[-2] for relation in relations]\n",
    "    verblist=sentence2verblist.get(i)\n",
    "    verbprototype=sentence2verbprototype.get(i)\n",
    "    verbprototype_dict={}\n",
    "    for verbp in verbprototype:\n",
    "        verbprototype_dict.update(verbp)\n",
    "    G = nx.Graph()\n",
    "    for word in words:\n",
    "        G.add_node(word)\n",
    "    G.add_node('root')\n",
    "    for r in range(len(relations)):\n",
    "        if relations[r][4]=='root':\n",
    "            G.add_edge(relations[r][0], 'root',labels=relations[r][4])\n",
    "        else:\n",
    "            G.add_edge(relations[r][0], relations[r][1],labels=relations[r][4])\n",
    "    for k in j:\n",
    "        if verblist:\n",
    "            k1=k.get('target1').translate(str.maketrans({\"-\":  r\"\\-\",\"\\\\\": r\"\\\\\", \"^\":  r\"\\^\",\"$\":  r\"\\$\",\"*\":  r\"\\*\",\".\":  r\"\\.\",\"(\":  r\"\\(\",\")\":  r\"\\)\",\"+\":  r\"\\+\",\"[\":  r\"\\[\",\"]\":  r\"\\]\",\n",
    "                                      \"{\":  r\"\\{\",\"}\":  r\"\\}\",\"|\":  r\"\\|\",\"?\":  r\"\\?\"}))\n",
    "            k2=k.get('target2').translate(str.maketrans({\"-\":  r\"\\-\",\"\\\\\": r\"\\\\\", \"^\":  r\"\\^\",\"$\":  r\"\\$\",\"*\":  r\"\\*\",\".\":  r\"\\.\",\"(\":  r\"\\(\",\")\":  r\"\\)\",\"+\":  r\"\\+\",\"[\":  r\"\\[\",\"]\":  r\"\\]\",\n",
    "                                      \"{\":  r\"\\{\",\"}\":  r\"\\}\",\"|\":  r\"\\|\",\"?\":  r\"\\?\"}))\n",
    "            if re.search(k1,sentence) and re.search(k2,sentence):\n",
    "                worddict={}\n",
    "                for word in words:\n",
    "                    worddict[word]=word\n",
    "                if re.search(k1,sentence).span()[0] < re.search(k2,sentence).span()[0]:\n",
    "                    k1_word=k.get('target1')\n",
    "                    k2_word=k.get('target2')\n",
    "                    if not worddict.get(k1_word):\n",
    "                        for word in words:\n",
    "                            if re.search(r'-',word) and re.search(k1,word):\n",
    "                                k1_word=word\n",
    "                    if not worddict.get(k2_word):\n",
    "                        for word in words:\n",
    "                            if re.search(r'-',word) and re.search(k2,word):\n",
    "                                k2_word=word\n",
    "                    try:\n",
    "                        path=nx.shortest_path(G, source=re.split('[ -]',k1_word)[-1], target=re.split('[ -]',k2_word)[-1])\n",
    "                    except:\n",
    "                        abnormal.append(i)\n",
    "                    else:\n",
    "                        verbdict={}\n",
    "                        for verb in verblist:\n",
    "                            verbdict.update(verb)\n",
    "                        verbrelation=''\n",
    "                        for one in path:\n",
    "                            if verbdict.get(one):\n",
    "                                verbrelation=one \n",
    "                        if verbrelation :\n",
    "                            negative=False\n",
    "                            for index_passive,passive in enumerate(relations_display):\n",
    "                                if passive=='aux:pass':\n",
    "                                    if relations[index_passive][1]==verbrelation:\n",
    "                                        verb_prototype=verbrelation\n",
    "                                        break\n",
    "                                elif passive=='acl' and relations[index_passive][-1]=='VBN':\n",
    "                                    if relations[index_passive][0]==verbrelation:\n",
    "                                        verb_prototype=verbrelation\n",
    "                                        break\n",
    "                            else:\n",
    "                                for v in verbprototype:\n",
    "                                    if v.get(verbrelation):\n",
    "                                        verb_prototype=v.get(verbrelation)\n",
    "                                        break\n",
    "                            if verb_prototype:\n",
    "                                for relation in relations:\n",
    "                                    if relation[1]==verbrelation and negativewords_dict.get(relation[0]):\n",
    "                                        negative=True\n",
    "                                if not negative:\n",
    "                                    triple.append({'triple':[k.get('target1'),verb_prototype,k.get('target2')],\\\n",
    "                                                        'PMID':k.get('PMID'), 'sentence':sentence,'AB':k.get('AB'),\n",
    "                                                   'former_target':k.get('target1'),'former_entity':k.get('entity1'),'former_entity_type':k.get('target1_type'),\n",
    "                                                   'verb':verbrelation,'verbprototype':verbprototype_dict.get(verbrelation),'latter_target':k.get('target2'),\n",
    "                                                   'latter_entity':k.get('entity2'),'latter_entity_type':k.get('target2_type')})\n",
    "                                    k['networkx']=[k.get('target1'),verb_prototype,k.get('target2')]\n",
    "                                else:\n",
    "                                    negative_sentences.append(i)\n",
    "                else:\n",
    "                    k1_word=k.get('target1')\n",
    "                    k2_word=k.get('target2')\n",
    "                    if not worddict.get(k1_word):\n",
    "                        for word in words:\n",
    "                            if re.search(r'-',word) and re.search(k1,word):\n",
    "                                k1_word=word\n",
    "                    if not worddict.get(k2_word):\n",
    "                        for word in words:\n",
    "                            if re.search(r'-',word) and re.search(k2,word):\n",
    "                                k2_word=word\n",
    "                    try:\n",
    "                        path=nx.shortest_path(G, source=re.split('[ -]',k2_word)[-1], target=re.split('[ -]',k1_word)[-1])\n",
    "                    except:\n",
    "                        abnormal.append(i)\n",
    "                    else:\n",
    "                        verbdict={}\n",
    "                        for verb in verblist:\n",
    "                            verbdict.update(verb)\n",
    "                        verbrelation=''\n",
    "                        for one in path:\n",
    "                            if verbdict.get(one):\n",
    "                                verbrelation=one\n",
    "                        if verbrelation:\n",
    "                            negative=False\n",
    "                            for index_passive,passive in enumerate(relations_display):\n",
    "                                if passive=='aux:pass':\n",
    "                                    if relations[index_passive][1]==verbrelation:\n",
    "                                        verb_prototype=verbrelation\n",
    "                                        break\n",
    "                                elif passive=='acl' and relations[index_passive][-1]=='VBN':\n",
    "                                    if relations[index_passive][0]==verbrelation:\n",
    "                                        verb_prototype=verbrelation\n",
    "                                        break\n",
    "                            else:\n",
    "                                for v in verbprototype:\n",
    "                                    if v.get(verbrelation):\n",
    "                                        verb_prototype=v.get(verbrelation)\n",
    "                                        break\n",
    "                            if verb_prototype:\n",
    "                                for relation in relations:\n",
    "                                    if relation[1]==verbrelation and negativewords_dict.get(relation[0]):\n",
    "                                        negative=True\n",
    "                                if not negative:\n",
    "                                    triple.append({'triple':[k.get('target2'),verb_prototype,k.get('target1')],\\\n",
    "                                                        'PMID':k.get('PMID'), 'sentence':sentence,'AB':k.get('AB'),\n",
    "                                                   'former_target':k.get('target2'),'former_entity':k.get('entity2'),'former_entity_type':k.get('target2_type'),\n",
    "                                                   'verb':verbrelation,'verbprototype':verbprototype_dict.get(verbrelation),'latter_target':k.get('target1'),\n",
    "                                                   'latter_entity':k.get('entity1'),'latter_entity_type':k.get('target1_type')})\n",
    "                                    k['networkx']=[k.get('target2'),verb_prototype,k.get('target1')]\n",
    "                                else:\n",
    "                                    negative_sentences.append(i)\n",
    "        networkx_raw.append(k)\n",
    "if __name__=='__main__':\n",
    "    start=datetime.datetime.now()\n",
    "    print('Parent process %s.' % os.getpid())\n",
    "    p=Pool(40)\n",
    "    manager=Manager()\n",
    "    triple=manager.list()\n",
    "    abnormal=manager.list()\n",
    "    negative_sentences=manager.list()\n",
    "    networkx_raw=manager.list()\n",
    "    for i,j in relation_dict_copy.items():\n",
    "        p.apply_async(work, args=(i,j,triple,abnormal,negative_sentences,networkx_raw))\n",
    "    print('Waiting for all subprocesses done...')\n",
    "    p.close()\n",
    "    p.join()\n",
    "    print('All subprocesses done.')\n",
    "    end=datetime.datetime.now()\n",
    "    print(\"The running time is \"+str((end-start).seconds)+\"s\")  "
   ]
  },
  {
   "cell_type": "code",
   "execution_count": 111,
   "id": "6e3344e8-91eb-464e-a2ad-57e1ac974ac5",
   "metadata": {},
   "outputs": [],
   "source": [
    "triple_list=list(triple)\n",
    "abnormal_list=list(abnormal)\n",
    "negative_list=list(negative_sentences)\n",
    "networkx_raw_list=list(networkx_raw)\n",
    "networkx_raw_dict={}\n",
    "for i in networkx_raw_list:\n",
    "    networkx_raw_dict[i.get('sentence')]=networkx_raw_dict.get(i.get('sentence'),[])+[i]"
   ]
  },
  {
   "cell_type": "code",
   "execution_count": 112,
   "id": "d5cc028f-1b4a-4bf5-90dd-af404b0b9799",
   "metadata": {},
   "outputs": [],
   "source": [
    "pickle.dump(triple_list,open('results/step3/triple_list.pkl','wb'))"
   ]
  },
  {
   "cell_type": "code",
   "execution_count": 113,
   "id": "de2953f3-bf0d-46a0-80d6-e70cb4ff72af",
   "metadata": {},
   "outputs": [],
   "source": [
    "pickle.dump(abnormal_list,open('results/step3/abnormal_list.pkl','wb'))\n",
    "pickle.dump(negative_list,open('results/step3/negative_list.pkl','wb'))\n",
    "pickle.dump(networkx_raw_list,open('results/step3/networkx_raw_list.pkl','wb'))\n",
    "pickle.dump(networkx_raw_dict,open('results/step3/networkx_raw_dict.pkl','wb'))"
   ]
  },
  {
   "cell_type": "code",
   "execution_count": 114,
   "id": "0b52906b-0e18-4a24-a1cb-51fa734d495e",
   "metadata": {},
   "outputs": [],
   "source": [
    "raw_pick_pubtator=pickle.load(open('results/step1/raw_pick_pubtator.pkl','rb'))\n",
    "rawpickwithAB={}\n",
    "for i in raw_pick_pubtator:\n",
    "    rawpickwithAB[i.get('PMID')]=i"
   ]
  },
  {
   "cell_type": "code",
   "execution_count": 115,
   "id": "ba92d711-8208-42ae-8a84-dc64e122c442",
   "metadata": {},
   "outputs": [
    {
     "data": {
      "text/plain": [
       "{'PMID': '37116731',\n",
       " 'entity1': 'SMAD7',\n",
       " 'entity2': 'PRKN',\n",
       " 'sentence': 'CONCLUSIONS: We demonstrate that miR-181c levels are significantly increased in frail elderly adults with DM and HFpEF and that miR-181c targets PRKN and SMAD7 in human cardiac fibroblasts.',\n",
       " 'AB': 'BACKGROUND: Cardiac fibrosis represents a key element in the pathophysiology of heart failure with preserved ejection fraction (HFpEF), a condition highly prevalent amongst geriatric patients, especially if diabetic. The microRNA 181c (miR-181c) has been shown to be associated with the response to exercise training in HFpEF patients and has been also linked to diabetic cardiovascular complications. However, the underlying mechanisms have not been fully elucidated. OBJECTIVE: To measure circulating miR-181c in elderly patients with HFpEF and diabetes mellitus (DM) and identify gene targets pathophysiologically relevant in HFpEF. METHODS: We quantified circulating miR-181c in frail older adults with a confirmed diagnosis of HFpEF and DM, and, as control, we enrolled age-matched subjects without HFpEF and without DM. We validated in human cardiac fibroblasts the molecular mechanisms linking miR-181c to a pro-fibrotic response. RESULTS: 51 frail patients were included :34 patients with DM and HFpEF and 17 age-matched controls. We observed that miR-181c was significantly upregulated (p < 0.0001) in HFpEF patients vs controls. We confirmed in vitro that miR-181c is targeting PRKN and SMAD7. CONCLUSIONS: We demonstrate that miR-181c levels are significantly increased in frail elderly adults with DM and HFpEF and that miR-181c targets PRKN and SMAD7 in human cardiac fibroblasts.',\n",
       " 'target1': 'SMAD7',\n",
       " 'target1_type': 'Gene',\n",
       " 'target2': 'PRKN',\n",
       " 'target2_type': 'Gene',\n",
       " 'sentence_transformed': 'We demonstrate that miR-181c levels are significantly increased in frail elderly adults with DM and HFpEF and that miR-181c targets PRKN and SMAD7 in human cardiac fibroblasts.'}"
      ]
     },
     "execution_count": 115,
     "metadata": {},
     "output_type": "execute_result"
    }
   ],
   "source": [
    "networkx_raw_list[0]"
   ]
  },
  {
   "cell_type": "code",
   "execution_count": 116,
   "id": "1cd05c1a-8899-4a8e-9ae3-8c627b78f992",
   "metadata": {},
   "outputs": [
    {
     "data": {
      "text/plain": [
       "39887"
      ]
     },
     "execution_count": 116,
     "metadata": {},
     "output_type": "execute_result"
    }
   ],
   "source": [
    "len(networkx_raw_dict)"
   ]
  },
  {
   "cell_type": "code",
   "execution_count": 117,
   "id": "6b378fed-619d-4988-9cb0-9676ff487162",
   "metadata": {},
   "outputs": [],
   "source": [
    "be=['be','am','is','are','was','were','have been','has been']\n",
    "bedict={}\n",
    "for i in be:\n",
    "    bedict[i]=i\n",
    "can=['can','could','will','would','may','might']\n",
    "candict={}\n",
    "for i in can:\n",
    "    candict[i]=i"
   ]
  },
  {
   "cell_type": "code",
   "execution_count": 118,
   "id": "aa802227-0c1a-41a2-849d-33364e90ef5d",
   "metadata": {},
   "outputs": [],
   "source": [
    "for i in networkx_raw_list:\n",
    "    openie_mid=[]\n",
    "    openie_final=[]\n",
    "    if i.get('openie'):\n",
    "        for j in i.get('openie'):\n",
    "            if not bedict.get(j[1]) and not candict.get(j[1]):\n",
    "                openie_mid.append(j)\n",
    "        adv=sentence2adv.get(i.get('sentence_transformed'))\n",
    "        adv_dict={}\n",
    "        for l in adv:\n",
    "            adv_dict.update(l)\n",
    "        for k in openie_mid:\n",
    "            for m in k[1].split(' '):\n",
    "                if adv_dict.get(m):\n",
    "                    break\n",
    "            else:\n",
    "                if k not in openie_final:\n",
    "                    openie_final.append(k)\n",
    "    i['openie_final']=openie_final"
   ]
  },
  {
   "cell_type": "code",
   "execution_count": 119,
   "id": "bad4ea4c-d355-4173-8cdd-3e72b2b48989",
   "metadata": {},
   "outputs": [],
   "source": [
    "for i in networkx_raw_list:\n",
    "    allennlp_final=[]\n",
    "    if i.get('allennlp'):\n",
    "        for j in i.get('allennlp'):\n",
    "            if not bedict.get(j[1]) and not candict.get(j[1]):\n",
    "                allennlp_final.append(j)\n",
    "    i['allennlp_final']=allennlp_final"
   ]
  },
  {
   "cell_type": "code",
   "execution_count": 120,
   "id": "74cc04fe-cb9f-45b8-8655-900b80a8794d",
   "metadata": {},
   "outputs": [],
   "source": [
    "for i in networkx_raw_list:\n",
    "    if i.get('networkx'):\n",
    "        if bedict.get(i.get('networkx')[1]):\n",
    "            i['networkx']=''\n",
    "        elif i.get('networkx')[1]=='\"':\n",
    "            i['networkx']=''\n",
    "    else:\n",
    "        i['networkx']=''"
   ]
  },
  {
   "cell_type": "code",
   "execution_count": 121,
   "id": "3b70e380-ca99-4aeb-b749-49ee188b8749",
   "metadata": {},
   "outputs": [],
   "source": [
    "networkx_raw_final=[]\n",
    "for i in networkx_raw_list:\n",
    "    if i.get('networkx') or i.get('openie_final') or i.get('allennlp_final'):\n",
    "        networkx_raw_final.append(i)"
   ]
  },
  {
   "cell_type": "code",
   "execution_count": 122,
   "id": "bcfe38dc-1487-436b-a75b-b4c74a44e7e0",
   "metadata": {},
   "outputs": [
    {
     "data": {
      "text/plain": [
       "26512"
      ]
     },
     "execution_count": 122,
     "metadata": {},
     "output_type": "execute_result"
    }
   ],
   "source": [
    "len(networkx_raw_final)"
   ]
  },
  {
   "cell_type": "code",
   "execution_count": 123,
   "id": "bf155ffe-8edf-4681-93f9-4f87191e26f4",
   "metadata": {},
   "outputs": [],
   "source": [
    "for i in networkx_raw_final:\n",
    "    bidirection=False\n",
    "    if i.get('networkx'):\n",
    "        if i.get('networkx')[1]=='associated' or i.get('networkx')[1]=='associate' :\n",
    "            i['bidirection']=True\n",
    "            continue\n",
    "    if i.get('allennlp'):\n",
    "        for j in i.get('openie_final'):\n",
    "            if j=='associated' or j=='associate' :\n",
    "                bidirection=True\n",
    "                break\n",
    "    if i.get('openie_final'):\n",
    "        for j in i.get('openie_final'):\n",
    "            for k in j[1].split(' '):\n",
    "                if k=='associated' or  k=='associate' :\n",
    "                    bidirection=True\n",
    "                    break\n",
    "            else:\n",
    "                continue\n",
    "            break\n",
    "    i['bidirection']=bidirection"
   ]
  },
  {
   "cell_type": "code",
   "execution_count": 124,
   "id": "abd25f1f-9107-4d20-8aca-edc1209d3a20",
   "metadata": {},
   "outputs": [],
   "source": [
    "Relation_raw=copy.deepcopy(networkx_raw_final)"
   ]
  },
  {
   "cell_type": "code",
   "execution_count": 125,
   "id": "e7148b0c-6e9b-438e-ae0f-4f46f70bdc49",
   "metadata": {},
   "outputs": [],
   "source": [
    "pickle.dump(networkx_raw_final,open('results/step3/networkx_raw_final.pkl','wb'))"
   ]
  },
  {
   "cell_type": "code",
   "execution_count": 126,
   "id": "0a1e33d8-fb62-4a4c-81fa-8e9d32526989",
   "metadata": {},
   "outputs": [
    {
     "data": {
      "text/plain": [
       "{'PMID': '32807694',\n",
       " 'entity1': 'ZPR1',\n",
       " 'entity2': 'LDLR',\n",
       " 'sentence': 'CONCLUSIONS: The cardiovascular risk in patients with FH is highly heterogeneous, and this study suggests that the rs964184 variant of the ZPR1 gene represents one of the important modulating factors.',\n",
       " 'AB': 'BACKGROUND: The rs964184 variant in the ZPR1 gene has been associated with blood lipids and cardiovascular disease risk in the general population through genome-wide association study, but its effect in patients with familial hypercholesterolemia (FH) has never been studied. OBJECTIVE: The objectives of the present study are to investigate the effect of the rs964184 SNP on blood lipids and on the risk of incident myocardial infarction (MI) in patients with FH. METHODS: This study included 725 patients with genetically confirmed FH. The MI events that occurred throughout the lifespan until the last medical visit were included. The median observation period was 50 years. An exome chip genotyping method (Illumina) was used to impute the rs964184 genotype. RESULTS: Among the 725 patients, 190 individuals carried one risk allele G (CG genotype), whereas 15 patients were carriers of the GG genotype. A significant difference in circulating triglycerides was observed between the 3 groups (1.33 [1.03-1.73] vs 1.46 [1.09-2.11] vs 1.56 [1.07-2.42] mmol/L, for the CC, CG, and GG carriers, respectively, P = .004 for the analysis of variance). The ZPR1 SNP rs964184 was significantly associated with MI even after correction for classical cardiovascular risk factors (hazard ratio 5.68, 95% confidence interval 2.40-13.45, P = .00008). CONCLUSIONS: The cardiovascular risk in patients with FH is highly heterogeneous, and this study suggests that the rs964184 variant of the ZPR1 gene represents one of the important modulating factors.',\n",
       " 'target1': 'ZPR1',\n",
       " 'target1_type': 'Gene',\n",
       " 'target2': 'FH',\n",
       " 'target2_type': 'Gene',\n",
       " 'sentence_transformed': 'The cardiovascular risk in patients with FH is highly heterogeneous, and this study suggests that the rs964184 variant of the ZPR1 gene represents one of the important modulating factors.',\n",
       " 'networkx': ['FH', 'represent', 'ZPR1'],\n",
       " 'openie_final': [],\n",
       " 'allennlp_final': [],\n",
       " 'bidirection': False}"
      ]
     },
     "execution_count": 126,
     "metadata": {},
     "output_type": "execute_result"
    }
   ],
   "source": [
    "networkx_raw_final[0]"
   ]
  },
  {
   "cell_type": "code",
   "execution_count": 127,
   "id": "fb582c18-111a-4960-8f1b-598c679e1d85",
   "metadata": {},
   "outputs": [
    {
     "data": {
      "text/plain": [
       "26512"
      ]
     },
     "execution_count": 127,
     "metadata": {},
     "output_type": "execute_result"
    }
   ],
   "source": [
    "len(networkx_raw_final)"
   ]
  },
  {
   "cell_type": "code",
   "execution_count": 128,
   "id": "1f9f4e4f-6656-4bfe-85b5-ec8f9d99adf2",
   "metadata": {},
   "outputs": [
    {
     "data": {
      "text/plain": [
       "{'PMID': '32807694',\n",
       " 'entity1': 'ZPR1',\n",
       " 'entity2': 'LDLR',\n",
       " 'sentence': 'CONCLUSIONS: The cardiovascular risk in patients with FH is highly heterogeneous, and this study suggests that the rs964184 variant of the ZPR1 gene represents one of the important modulating factors.',\n",
       " 'AB': 'BACKGROUND: The rs964184 variant in the ZPR1 gene has been associated with blood lipids and cardiovascular disease risk in the general population through genome-wide association study, but its effect in patients with familial hypercholesterolemia (FH) has never been studied. OBJECTIVE: The objectives of the present study are to investigate the effect of the rs964184 SNP on blood lipids and on the risk of incident myocardial infarction (MI) in patients with FH. METHODS: This study included 725 patients with genetically confirmed FH. The MI events that occurred throughout the lifespan until the last medical visit were included. The median observation period was 50 years. An exome chip genotyping method (Illumina) was used to impute the rs964184 genotype. RESULTS: Among the 725 patients, 190 individuals carried one risk allele G (CG genotype), whereas 15 patients were carriers of the GG genotype. A significant difference in circulating triglycerides was observed between the 3 groups (1.33 [1.03-1.73] vs 1.46 [1.09-2.11] vs 1.56 [1.07-2.42] mmol/L, for the CC, CG, and GG carriers, respectively, P = .004 for the analysis of variance). The ZPR1 SNP rs964184 was significantly associated with MI even after correction for classical cardiovascular risk factors (hazard ratio 5.68, 95% confidence interval 2.40-13.45, P = .00008). CONCLUSIONS: The cardiovascular risk in patients with FH is highly heterogeneous, and this study suggests that the rs964184 variant of the ZPR1 gene represents one of the important modulating factors.',\n",
       " 'target1': 'ZPR1',\n",
       " 'target1_type': 'Gene',\n",
       " 'target2': 'FH',\n",
       " 'target2_type': 'Gene',\n",
       " 'sentence_transformed': 'The cardiovascular risk in patients with FH is highly heterogeneous, and this study suggests that the rs964184 variant of the ZPR1 gene represents one of the important modulating factors.',\n",
       " 'networkx': ['FH', 'represent', 'ZPR1'],\n",
       " 'openie_final': [],\n",
       " 'allennlp_final': [],\n",
       " 'bidirection': False}"
      ]
     },
     "execution_count": 128,
     "metadata": {},
     "output_type": "execute_result"
    }
   ],
   "source": [
    "networkx_raw_final[0]"
   ]
  },
  {
   "cell_type": "code",
   "execution_count": 129,
   "id": "3cd9ecd0-b2d2-44c9-b3ca-1f3237152446",
   "metadata": {},
   "outputs": [],
   "source": [
    "collections_Relation_raw=db.Relation_raw"
   ]
  },
  {
   "cell_type": "code",
   "execution_count": 130,
   "id": "e9168283-f0a4-4698-84d3-623753835610",
   "metadata": {},
   "outputs": [
    {
     "data": {
      "text/plain": [
       "'2023_09_30'"
      ]
     },
     "execution_count": 130,
     "metadata": {},
     "output_type": "execute_result"
    }
   ],
   "source": [
    "now_time"
   ]
  },
  {
   "cell_type": "code",
   "execution_count": 131,
   "id": "66c2ba7d-2914-46da-9b1f-985516f3aee2",
   "metadata": {},
   "outputs": [],
   "source": [
    "for i in Relation_raw:\n",
    "    i['addtime']=now_time"
   ]
  },
  {
   "cell_type": "code",
   "execution_count": 132,
   "id": "6a24efb6-72fd-4954-907a-aef6ec62e09b",
   "metadata": {},
   "outputs": [
    {
     "data": {
      "text/plain": [
       "<pymongo.results.InsertManyResult at 0x7fad455eeac0>"
      ]
     },
     "execution_count": 132,
     "metadata": {},
     "output_type": "execute_result"
    }
   ],
   "source": [
    "collections_Relation_raw.insert_many(Relation_raw)"
   ]
  },
  {
   "cell_type": "code",
   "execution_count": null,
   "id": "71fcc9b6-6f87-4002-a235-94c572fe69aa",
   "metadata": {},
   "outputs": [],
   "source": []
  },
  {
   "cell_type": "code",
   "execution_count": null,
   "id": "db6657dd-e3e4-4a65-b0a9-2e6a0d83c13b",
   "metadata": {},
   "outputs": [],
   "source": []
  },
  {
   "cell_type": "code",
   "execution_count": 133,
   "id": "e50321c8-e689-42cb-add9-8ac33c743cd8",
   "metadata": {},
   "outputs": [],
   "source": [
    "Relation_raw_all_with_disease=copy.deepcopy(Relation_raw)"
   ]
  },
  {
   "cell_type": "code",
   "execution_count": 134,
   "id": "610a8457-beb3-4a73-8831-c10bcdec59c9",
   "metadata": {},
   "outputs": [
    {
     "data": {
      "text/plain": [
       "26512"
      ]
     },
     "execution_count": 134,
     "metadata": {},
     "output_type": "execute_result"
    }
   ],
   "source": [
    "len(Relation_raw_all_with_disease)"
   ]
  },
  {
   "cell_type": "code",
   "execution_count": 135,
   "id": "4a9e5856-7ccd-447d-ac1d-38cf0290e791",
   "metadata": {},
   "outputs": [
    {
     "data": {
      "text/plain": [
       "{'PMID': '29361001',\n",
       " 'entity1': 'BRCA2',\n",
       " 'entity2': 'RAD51C',\n",
       " 'sentence': 'Methods: A decision-analytic model comparing lifetime costs and effects of criteria/FH-based BRCA1/BRCA2 testing is compared with BRCA1/BRCA2/RAD51C/RAD51D/BRIP1/PALB2 testing in those fulfilling clinical criteria/strong FH of cancer (>=10% BRCA1/BRCA2 probability) and all women age 30 years or older.',\n",
       " 'AB': \"Background: The cost-effectiveness of population-based panel testing for high- and moderate-penetrance ovarian cancer (OC)/breast cancer (BC) gene mutations is unknown. We evaluate the cost-effectiveness of population-based BRCA1/BRCA2/RAD51C/RAD51D/BRIP1/PALB2 mutation testing compared with clinical criteria/family history (FH) testing in unselected general population women. Methods: A decision-analytic model comparing lifetime costs and effects of criteria/FH-based BRCA1/BRCA2 testing is compared with BRCA1/BRCA2/RAD51C/RAD51D/BRIP1/PALB2 testing in those fulfilling clinical criteria/strong FH of cancer (>=10% BRCA1/BRCA2 probability) and all women age 30 years or older. Analyses are presented for UK and US populations. Identified carriers undergo risk-reducing salpingo-oophorectomy. BRCA1/BRCA2/PALB2 carriers can opt for magnetic resonance imaging/mammography, chemoprevention, or risk-reducing mastectomy. One-way and probabilistic sensitivity analysis (PSA) enabled model uncertainty evaluation. Outcomes include OC, BC, and additional heart disease deaths. Quality-adjusted life-years (QALYs), OC incidence, BC incidence, and incremental cost-effectiveness ratio (ICER) were calculated. The time horizon is lifetime and perspective is payer. Results: Compared with clinical criteria/FH-based BRCA1/BRCA2 testing, clinical criteria/FH-based BRCA1/BRCA2/RAD51C/RAD51D/BRIP1/PALB2 testing is cost-effective (ICER = $7629.65/QALY or $49 282.19/QALY; 0.04 days' life-expectancy gained). Population-based testing for BRCA1/BRCA2/RAD51C/RAD51D/BRIP1/PALB2 mutations is the most cost-effective strategy compared with current policy: ICER = $21 599.96/QALY or $54 769.78/QALY (9.34 or 7.57 days' life-expectancy gained). At $30 000/QALY and $100 000/QALY willingness-to-pay thresholds, population-based BRCA1/BRCA2/RAD51C/RAD51D/BRIP1/PALB2 panel testing is the preferred strategy in 83.7% and 92.7% of PSA simulations; criteria/FH-based panel testing is preferred in 16.2% and 5.8% of simulations, respectively. Population-based BRCA1/BRCA2/RAD51C/RAD51D/BRIP1/PALB2 testing can prevent 1.86%/1.91% of BC and 3.2%/4.88% of OC in UK/US women: 657/655 OC cases and 2420/2386 BC cases prevented per million. Conclusions: Population-based BRCA1/BRCA2/RAD51C/RAD51D/BRIP1/PALB2 testing is more cost-effective than any clinical criteria/FH-based strategy. Clinical criteria/FH-based BRCA1/BRCA2/RAD51C/RAD51D/BRIP1/PALB2 testing is more cost-effective than BRCA1/BRCA2 testing alone.\",\n",
       " 'target1': 'BRCA2',\n",
       " 'target1_type': 'Gene',\n",
       " 'target2': 'RAD51C',\n",
       " 'target2_type': 'Gene',\n",
       " 'sentence_transformed': 'A decision-analytic model comparing lifetime costs and effects of criteria/FH-based BRCA1/BRCA2 testing is compared with BRCA1/BRCA2/RAD51C/RAD51D/BRIP1/PALB2 testing in those fulfilling clinical criteria/strong FH of cancer (>=10% BRCA1/BRCA2 probability) and all women age 30 years or older.',\n",
       " 'allennlp': [['BRCA2', 'compared', 'RAD51C']],\n",
       " 'openie_final': [],\n",
       " 'allennlp_final': [['BRCA2', 'compared', 'RAD51C']],\n",
       " 'networkx': '',\n",
       " 'bidirection': False,\n",
       " 'addtime': '2023_09_30',\n",
       " '_id': ObjectId('65325bbdc340512abc15299f')}"
      ]
     },
     "execution_count": 135,
     "metadata": {},
     "output_type": "execute_result"
    }
   ],
   "source": [
    "Relation_raw_all_with_disease[10]"
   ]
  },
  {
   "cell_type": "code",
   "execution_count": 136,
   "id": "2d9ac433-5003-42d6-92c4-94fb68b39096",
   "metadata": {},
   "outputs": [],
   "source": [
    "all_es=json.load(open('results/step2/all_es_lack.json'))"
   ]
  },
  {
   "cell_type": "code",
   "execution_count": 137,
   "id": "16c8ffeb-aae6-43e4-b08c-ef868c8b7148",
   "metadata": {},
   "outputs": [],
   "source": [
    "multi_chemical_type2={}\n",
    "for i in all_es:\n",
    "    if not multi_chemical_type2.get(i.get('entity')):\n",
    "        multi_chemical_type2[i.get('entity')]=[i.get('type')]\n",
    "    else:\n",
    "        if i.get('type') not in multi_chemical_type2.get(i.get('entity')):\n",
    "            multi_chemical_type2[i.get('entity')]+=[i.get('type')]"
   ]
  },
  {
   "cell_type": "code",
   "execution_count": 138,
   "id": "162511e2-2851-49f1-aefa-4d951198f483",
   "metadata": {},
   "outputs": [
    {
     "name": "stdout",
     "output_type": "stream",
     "text": [
      "{'Lipopolysaccharides': ['Carbohydrate', 'Lipid', 'Toxin']}\n",
      "{'Vancomycin': ['Carbohydrate', 'Peptide']}\n",
      "{'Ceramides': ['Carbohydrate', 'Lipid']}\n",
      "{'Sphingomyelins': ['Carbohydrate', 'Lipid']}\n",
      "{'Bleomycin': ['Carbohydrate', 'Peptide']}\n",
      "{'Teicoplanin': ['Carbohydrate', 'Peptide']}\n",
      "{'Lipid A': ['Carbohydrate', 'Lipid', 'Toxin']}\n",
      "{'G(M1) Ganglioside': ['Carbohydrate', 'Lipid']}\n",
      "{'Gangliosides': ['Carbohydrate', 'Lipid']}\n",
      "{'Glycosphingolipids': ['Carbohydrate', 'Lipid']}\n",
      "{'Sulfoglycosphingolipids': ['Carbohydrate', 'Lipid']}\n",
      "{'Glycolipids': ['Carbohydrate', 'Lipid']}\n",
      "{'G(M3) Ganglioside': ['Carbohydrate', 'Lipid']}\n",
      "{'Glycopeptides': ['Carbohydrate', 'Peptide']}\n",
      "{'Glycosylphosphatidylinositols': ['Carbohydrate', 'Lipid']}\n",
      "{'Globosides': ['Carbohydrate', 'Lipid']}\n",
      "{'Ristocetin': ['Carbohydrate', 'Peptide']}\n",
      "{'Glucosylceramides': ['Carbohydrate', 'Lipid']}\n",
      "{'Holothurin': ['Carbohydrate', 'Toxin']}\n",
      "{'Glycerylphosphorylcholine': ['Carbohydrate', 'Lipid']}\n",
      "{'Glycerophosphates': ['Carbohydrate', 'Lipid']}\n",
      "{'Cerebrosides': ['Carbohydrate', 'Lipid']}\n",
      "{'Psychosine': ['Carbohydrate', 'Lipid']}\n",
      "{'Lactosylceramides': ['Carbohydrate', 'Lipid']}\n",
      "{'Phospholipid Ethers': ['Carbohydrate', 'Lipid']}\n",
      "{'Galactolipids': ['Carbohydrate', 'Lipid']}\n",
      "{'O Antigens': ['Carbohydrate', 'Lipid', 'Toxin']}\n",
      "{'G(M2) Ganglioside': ['Carbohydrate', 'Lipid']}\n",
      "{'Daptomycin': ['Lipid', 'Peptide']}\n",
      "{'Caspofungin': ['Lipid', 'Peptide']}\n",
      "{'Micafungin': ['Lipid', 'Peptide']}\n",
      "{'Lipopeptides': ['Lipid', 'Peptide']}\n",
      "{'Cilastatin, Imipenem Drug Combination': ['Lipid', 'Pharmaceutical Preparations']}\n",
      "{'Polymyxin B': ['Lipid', 'Peptide', 'Protein']}\n",
      "{'Exenatide': ['Peptide', 'Toxin']}\n",
      "{'Certolizumab Pegol': ['Peptide', 'Protein']}\n",
      "{'Phalloidine': ['Peptide', 'Toxin']}\n",
      "{'Abciximab': ['Peptide', 'Protein']}\n",
      "{'Alpha-Amanitin': ['Peptide', 'Toxin']}\n",
      "{'Charybdotoxin': ['Peptide', 'Toxin']}\n",
      "{'Angiotensins': ['Peptide', 'Protein']}\n",
      "{'Fas Ligand Protein': ['Peptide', 'Protein']}\n",
      "{'Arginine Vasopressin': ['Peptide', 'Protein']}\n",
      "{'Angiotensin II': ['Peptide', 'Protein']}\n",
      "{'Defensins': ['Peptide', 'Protein']}\n",
      "{'alpha-Defensins': ['Peptide', 'Protein']}\n",
      "{'beta-Defensins': ['Peptide', 'Protein']}\n",
      "{'Microcystins': ['Peptide', 'Toxin']}\n",
      "{'Salivary Cystatins': ['Peptide', 'Protein']}\n",
      "{'Carnosine': ['Peptide', 'Protein']}\n",
      "{'Myostatin': ['Peptide', 'Protein']}\n",
      "{'Leuprolide': ['Peptide', 'Protein']}\n",
      "52\n"
     ]
    }
   ],
   "source": [
    "cxz=0\n",
    "for i,j in multi_chemical_type2.items():\n",
    "    if len(j)>1:\n",
    "        cxz+=1\n",
    "        print({i:j})\n",
    "print(cxz)"
   ]
  },
  {
   "cell_type": "code",
   "execution_count": 139,
   "id": "6d5d8a2a-9150-462d-b4a6-5b737ca91171",
   "metadata": {},
   "outputs": [],
   "source": [
    "Relation_raw_all_final=[]\n",
    "for i in Relation_raw_all_with_disease:\n",
    "    if multi_chemical_type2.get(i.get('entity1')) and multi_chemical_type2.get(i.get('entity2')):\n",
    "        for j in multi_chemical_type2.get(i.get('entity1')):\n",
    "            for k in multi_chemical_type2.get(i.get('entity2')):\n",
    "                mid=copy.deepcopy(i)\n",
    "                mid.update({'target1_type':j,'target2_type':k})\n",
    "                Relation_raw_all_final.append(mid)\n",
    "    else:\n",
    "        Relation_raw_all_final.append(i)\n",
    "        if multi_chemical_type2.get(i.get('entity1')):\n",
    "            for j in multi_chemical_type2.get(i.get('entity1')):\n",
    "                if i.get('target1_type') != j:\n",
    "                    mid=copy.deepcopy(i)\n",
    "                    mid.update({'target1_type':j})\n",
    "                    Relation_raw_all_final.append(mid)\n",
    "        elif multi_chemical_type2.get(i.get('entity2')):\n",
    "            for j in multi_chemical_type2.get(i.get('entity2')):\n",
    "                if i.get('target2_type') != j:\n",
    "                    mid=copy.deepcopy(i)\n",
    "                    mid.update({'target2_type':j})\n",
    "                    Relation_raw_all_final.append(mid)"
   ]
  },
  {
   "cell_type": "code",
   "execution_count": 140,
   "id": "7b98085f-ab87-4de8-b38d-c6bca56c6c6b",
   "metadata": {},
   "outputs": [
    {
     "data": {
      "text/plain": [
       "26810"
      ]
     },
     "execution_count": 140,
     "metadata": {},
     "output_type": "execute_result"
    }
   ],
   "source": [
    "len(Relation_raw_all_final)"
   ]
  },
  {
   "cell_type": "code",
   "execution_count": 141,
   "id": "dbbdc1cd-3965-40da-b2be-151491d499eb",
   "metadata": {},
   "outputs": [],
   "source": [
    "direction=set()\n",
    "direction_list=[]\n",
    "direction_type=[]\n",
    "for i in Relation_raw_all_final:\n",
    "    if i.get('openie_final'):\n",
    "        if i.get('openie_final')[0][0]!=i.get('target1'):\n",
    "            i['entity2'],i['entity1']=i['entity1'],i['entity2']\n",
    "            i['target2_type'],i['target1_type']=i['target1_type'],i['target2_type']\n",
    "            i['target2'],i['target1']=i['target1'],i['target2']\n",
    "    elif i.get('networkx'):\n",
    "        if i.get('networkx')[0]!= i.get('target1'):\n",
    "            i['entity2'],i['entity1']=i['entity1'],i['entity2']\n",
    "            i['target2_type'],i['target1_type']=i['target1_type'],i['target2_type']\n",
    "            i['target2'],i['target1']=i['target1'],i['target2']\n",
    "    elif i.get('allennlp_final'):\n",
    "        if i.get('allennlp_final')[0][0]!=i.get('target1'):\n",
    "            i['entity2'],i['entity1']=i['entity1'],i['entity2']\n",
    "            i['target2_type'],i['target1_type']=i['target1_type'],i['target2_type']\n",
    "            i['target2'],i['target1']=i['target1'],i['target2']\n",
    "    if i.get('bidirection'):\n",
    "        if (i.get('entity2'),(i.get('entity1'))) not in direction :\n",
    "            direction.add((i.get('entity2'),(i.get('entity1'))))\n",
    "            direction_list.append((i.get('entity2'),(i.get('entity1'))))\n",
    "            direction_type.append((i.get('target2_type'),(i.get('target1_type'))))\n",
    "        if (i.get('entity1'),(i.get('entity2'))) not in direction:\n",
    "            direction.add((i.get('entity1'),(i.get('entity2'))))\n",
    "            direction_list.append((i.get('entity1'),(i.get('entity2'))))\n",
    "            direction_type.append((i.get('target1_type'),(i.get('target2_type'))))\n",
    "    else:\n",
    "        direction.add((i.get('entity1'),(i.get('entity2'))))\n",
    "        direction_list.append((i.get('entity1'),(i.get('entity2'))))\n",
    "        direction_type.append((i.get('target1_type'),(i.get('target2_type'))))"
   ]
  },
  {
   "cell_type": "code",
   "execution_count": 142,
   "id": "9e63337c-0157-48e6-b644-c6662bbaacd8",
   "metadata": {},
   "outputs": [
    {
     "data": {
      "text/plain": [
       "{'PMID': '29361001',\n",
       " 'entity1': 'BRCA2',\n",
       " 'entity2': 'RAD51C',\n",
       " 'sentence': 'Methods: A decision-analytic model comparing lifetime costs and effects of criteria/FH-based BRCA1/BRCA2 testing is compared with BRCA1/BRCA2/RAD51C/RAD51D/BRIP1/PALB2 testing in those fulfilling clinical criteria/strong FH of cancer (>=10% BRCA1/BRCA2 probability) and all women age 30 years or older.',\n",
       " 'AB': \"Background: The cost-effectiveness of population-based panel testing for high- and moderate-penetrance ovarian cancer (OC)/breast cancer (BC) gene mutations is unknown. We evaluate the cost-effectiveness of population-based BRCA1/BRCA2/RAD51C/RAD51D/BRIP1/PALB2 mutation testing compared with clinical criteria/family history (FH) testing in unselected general population women. Methods: A decision-analytic model comparing lifetime costs and effects of criteria/FH-based BRCA1/BRCA2 testing is compared with BRCA1/BRCA2/RAD51C/RAD51D/BRIP1/PALB2 testing in those fulfilling clinical criteria/strong FH of cancer (>=10% BRCA1/BRCA2 probability) and all women age 30 years or older. Analyses are presented for UK and US populations. Identified carriers undergo risk-reducing salpingo-oophorectomy. BRCA1/BRCA2/PALB2 carriers can opt for magnetic resonance imaging/mammography, chemoprevention, or risk-reducing mastectomy. One-way and probabilistic sensitivity analysis (PSA) enabled model uncertainty evaluation. Outcomes include OC, BC, and additional heart disease deaths. Quality-adjusted life-years (QALYs), OC incidence, BC incidence, and incremental cost-effectiveness ratio (ICER) were calculated. The time horizon is lifetime and perspective is payer. Results: Compared with clinical criteria/FH-based BRCA1/BRCA2 testing, clinical criteria/FH-based BRCA1/BRCA2/RAD51C/RAD51D/BRIP1/PALB2 testing is cost-effective (ICER = $7629.65/QALY or $49 282.19/QALY; 0.04 days' life-expectancy gained). Population-based testing for BRCA1/BRCA2/RAD51C/RAD51D/BRIP1/PALB2 mutations is the most cost-effective strategy compared with current policy: ICER = $21 599.96/QALY or $54 769.78/QALY (9.34 or 7.57 days' life-expectancy gained). At $30 000/QALY and $100 000/QALY willingness-to-pay thresholds, population-based BRCA1/BRCA2/RAD51C/RAD51D/BRIP1/PALB2 panel testing is the preferred strategy in 83.7% and 92.7% of PSA simulations; criteria/FH-based panel testing is preferred in 16.2% and 5.8% of simulations, respectively. Population-based BRCA1/BRCA2/RAD51C/RAD51D/BRIP1/PALB2 testing can prevent 1.86%/1.91% of BC and 3.2%/4.88% of OC in UK/US women: 657/655 OC cases and 2420/2386 BC cases prevented per million. Conclusions: Population-based BRCA1/BRCA2/RAD51C/RAD51D/BRIP1/PALB2 testing is more cost-effective than any clinical criteria/FH-based strategy. Clinical criteria/FH-based BRCA1/BRCA2/RAD51C/RAD51D/BRIP1/PALB2 testing is more cost-effective than BRCA1/BRCA2 testing alone.\",\n",
       " 'target1': 'BRCA2',\n",
       " 'target1_type': 'Gene',\n",
       " 'target2': 'RAD51C',\n",
       " 'target2_type': 'Gene',\n",
       " 'sentence_transformed': 'A decision-analytic model comparing lifetime costs and effects of criteria/FH-based BRCA1/BRCA2 testing is compared with BRCA1/BRCA2/RAD51C/RAD51D/BRIP1/PALB2 testing in those fulfilling clinical criteria/strong FH of cancer (>=10% BRCA1/BRCA2 probability) and all women age 30 years or older.',\n",
       " 'allennlp': [['BRCA2', 'compared', 'RAD51C']],\n",
       " 'openie_final': [],\n",
       " 'allennlp_final': [['BRCA2', 'compared', 'RAD51C']],\n",
       " 'networkx': '',\n",
       " 'bidirection': False,\n",
       " 'addtime': '2023_09_30',\n",
       " '_id': ObjectId('65325bbdc340512abc15299f')}"
      ]
     },
     "execution_count": 142,
     "metadata": {},
     "output_type": "execute_result"
    }
   ],
   "source": [
    "Relation_raw_all_final[10]"
   ]
  },
  {
   "cell_type": "code",
   "execution_count": 143,
   "id": "5ec24314-4d22-459d-bfee-e1e86a273280",
   "metadata": {},
   "outputs": [],
   "source": [
    "rules_pairs=['sentence2adv','sentence2relations','sentence2verblist','sentence2verbprototype','sentence2words']\n",
    "names=locals()\n",
    "for i in rules_pairs:\n",
    "    names[i]={}\n",
    "    for k in ['./results/step3/rules/files/'+i+str(j)+'.pkl' for j in range(1,6)]:\n",
    "        names[i].update(pickle.load(open(k,'rb')))"
   ]
  },
  {
   "cell_type": "code",
   "execution_count": 144,
   "id": "7a7a3828-4863-4b34-bb7a-0b7e70efa050",
   "metadata": {},
   "outputs": [],
   "source": [
    "Relation_raw_all_final_copy=copy.deepcopy(Relation_raw_all_final)"
   ]
  },
  {
   "cell_type": "code",
   "execution_count": 145,
   "id": "425c5831-d565-42d5-b1a4-b3eb3905e1e5",
   "metadata": {},
   "outputs": [],
   "source": [
    "be=['be','am','is','are','was','were','have been','has been']\n",
    "bedict={}\n",
    "for i in be:\n",
    "    bedict[i]=i\n",
    "can=['can','could','will','would','may','might']\n",
    "candict={}\n",
    "for i in can:\n",
    "    candict[i]=i\n",
    "countt=0\n",
    "counttt=0\n",
    "fdas=[]\n",
    "for i in Relation_raw_all_final_copy:\n",
    "    del_index=set()\n",
    "    if i.get('sentence_transformed'):\n",
    "        verblist=sentence2verblist.get(i.get('sentence_transformed'))\n",
    "    else:\n",
    "        verblist=sentence2verblist.get(i.get('sentence'))\n",
    "    verbrelation=''\n",
    "    real_verb=''\n",
    "    verbdict={}\n",
    "    for verb in verblist:\n",
    "        verbdict.update(verb)\n",
    "    for indexx,j in enumerate(i.get('openie_final')):\n",
    "        one=j[1]\n",
    "        negative=False\n",
    "        if i.get('sentence_transformed'):\n",
    "            relations=sentence2relations.get(i.get('sentence_transformed'))\n",
    "            verbprototype=sentence2verbprototype.get(i.get('sentence_transformed'))\n",
    "        else:\n",
    "            relations=sentence2relations.get(i.get('sentence'))\n",
    "            verbprototype=sentence2verbprototype.get(i.get('sentence'))\n",
    "        for p in one.split(' '):\n",
    "            for relation in relations:\n",
    "                if relation[1]==p and negativewords_dict.get(relation[0]):\n",
    "                    negative=True\n",
    "            if verbdict.get(p):\n",
    "                verbrelation=p\n",
    "                relations_display=[relation[-2] for relation in relations]\n",
    "                verbprototype_dict={}\n",
    "                for verbp in verbprototype:\n",
    "                    verbprototype_dict.update(verbp)\n",
    "                for index_passive,passive in enumerate(relations_display):\n",
    "                    if passive=='aux:pass':\n",
    "                        if relations[index_passive][1]==verbrelation:\n",
    "                            verb_prototype=verbrelation\n",
    "                            break\n",
    "                    elif passive=='acl' and relations[index_passive][-1]=='VBN':\n",
    "                        if relations[index_passive][0]==verbrelation:\n",
    "                            verb_prototype=verbrelation\n",
    "                            break\n",
    "                else:\n",
    "                    for v in verbprototype:\n",
    "                        if v.get(verbrelation):\n",
    "                            verb_prototype=v.get(verbrelation)\n",
    "                            break\n",
    "                if verb_prototype!=one:\n",
    "                    if countt<10:\n",
    "                        countt+=1\n",
    "                if not negative:\n",
    "                    i['openie_final'][indexx][1]=verb_prototype\n",
    "            elif bedict.get(one):\n",
    "                if i.get('sentence_transformed'):\n",
    "                    relations=sentence2relations.get(i.get('sentence_transformed'))\n",
    "                    verbprototype=sentence2verbprototype.get(i.get('sentence_transformed'))\n",
    "                else:\n",
    "                    relations=sentence2relations.get(i.get('sentence'))\n",
    "                    verbprototype=sentence2verbprototype.get(i.get('sentence'))\n",
    "                for relation in relations:\n",
    "                    if relation[1]==one and negativewords_dict.get(relation[0]):\n",
    "                        negative=True\n",
    "                if not negative:\n",
    "                    i['openie_final'][indexx][1]=bedict.get(one)\n",
    "        if negative:\n",
    "            fdas.append(i)\n",
    "            i['openie_final'][indexx]=[]\n",
    "    final=[]\n",
    "    for t in i.get('openie_final'):\n",
    "        if t != []:\n",
    "            final.append(t)\n",
    "    i['openie_final']=final"
   ]
  },
  {
   "cell_type": "code",
   "execution_count": 146,
   "id": "5681f97b-ec3f-497b-91ba-8ab87580c1d7",
   "metadata": {},
   "outputs": [
    {
     "data": {
      "text/plain": [
       "2"
      ]
     },
     "execution_count": 146,
     "metadata": {},
     "output_type": "execute_result"
    }
   ],
   "source": [
    "len(fdas)"
   ]
  },
  {
   "cell_type": "code",
   "execution_count": 147,
   "id": "67e82c12-963a-4199-a826-567595590a5b",
   "metadata": {},
   "outputs": [],
   "source": [
    "be=['be','am','is','are','was','were','have been','has been']\n",
    "bedict={}\n",
    "for i in be:\n",
    "    bedict[i]=i\n",
    "can=['can','could','will','would','may','might']\n",
    "candict={}\n",
    "for i in can:\n",
    "    candict[i]=i\n",
    "countt=0\n",
    "counttt=0\n",
    "fdas=[]\n",
    "for i in Relation_raw_all_final_copy:\n",
    "    if i.get('sentence_transformed'):\n",
    "        verblist=sentence2verblist.get(i.get('sentence_transformed'))\n",
    "    else:\n",
    "        verblist=sentence2verblist.get(i.get('sentence'))\n",
    "    verbrelation=''\n",
    "    real_verb=''\n",
    "    verbdict={}\n",
    "    for verb in verblist:\n",
    "        verbdict.update(verb)\n",
    "    for indexx,j in enumerate(i.get('allennlp_final')):\n",
    "        one=j[1]\n",
    "        negative=False\n",
    "        if i.get('sentence_transformed'):\n",
    "            relations=sentence2relations.get(i.get('sentence_transformed'))\n",
    "            verbprototype=sentence2verbprototype.get(i.get('sentence_transformed'))\n",
    "        else:\n",
    "            relations=sentence2relations.get(i.get('sentence'))\n",
    "            verbprototype=sentence2verbprototype.get(i.get('sentence'))\n",
    "        for relation in relations:\n",
    "            if relation[1]==one and negativewords_dict.get(relation[0]):\n",
    "                negative=True\n",
    "        if verbdict.get(one):\n",
    "            verbrelation=one\n",
    "            relations_display=[relation[-2] for relation in relations]\n",
    "            verbprototype_dict={}\n",
    "            for relation in relations:\n",
    "                if relation[1]==verbrelation and negativewords_dict.get(relation[0]):\n",
    "                    negative=True\n",
    "            for verbp in verbprototype:\n",
    "                verbprototype_dict.update(verbp)\n",
    "            for index_passive,passive in enumerate(relations_display):\n",
    "                if passive=='aux:pass':\n",
    "                    if relations[index_passive][1]==verbrelation:\n",
    "                        verb_prototype=verbrelation\n",
    "                        break\n",
    "                elif passive=='acl' and relations[index_passive][-1]=='VBN':\n",
    "                    if relations[index_passive][0]==verbrelation:\n",
    "                        verb_prototype=verbrelation\n",
    "                        break\n",
    "            else:\n",
    "                for v in verbprototype:\n",
    "                    if v.get(verbrelation):\n",
    "                        verb_prototype=v.get(verbrelation)\n",
    "                        break\n",
    "            if verb_prototype!=one:\n",
    "                if countt<10:\n",
    "                    countt+=1\n",
    "            if not negative:\n",
    "                i['allennlp_final'][indexx][1]=verb_prototype\n",
    "        elif bedict.get(one):\n",
    "            if i.get('sentence_transformed'):\n",
    "                relations=sentence2relations.get(i.get('sentence_transformed'))\n",
    "                verbprototype=sentence2verbprototype.get(i.get('sentence_transformed'))\n",
    "            else:\n",
    "                relations=sentence2relations.get(i.get('sentence'))\n",
    "                verbprototype=sentence2verbprototype.get(i.get('sentence'))\n",
    "            for relation in relations:\n",
    "                if relation[1]==one and negativewords_dict.get(relation[0]):\n",
    "                    negative=True\n",
    "            if not negative:\n",
    "                i['allennlp_final'][indexx][1]=bedict.get(one)\n",
    "        if negative:\n",
    "            fdas.append(i)\n",
    "            i['allennlp_final'][indexx]=[]\n",
    "    final=[]\n",
    "    for t in i.get('allennlp_final'):\n",
    "        if t != []:\n",
    "            final.append(t)\n",
    "    i['allennlp_final']=final"
   ]
  },
  {
   "cell_type": "code",
   "execution_count": 148,
   "id": "25472457-323e-49db-b37d-4cf8ff84d95e",
   "metadata": {},
   "outputs": [
    {
     "data": {
      "text/plain": [
       "119"
      ]
     },
     "execution_count": 148,
     "metadata": {},
     "output_type": "execute_result"
    }
   ],
   "source": [
    "len(fdas)"
   ]
  },
  {
   "cell_type": "code",
   "execution_count": 149,
   "id": "ba78bc16-be4e-4309-87c7-ddbb4604350e",
   "metadata": {},
   "outputs": [
    {
     "data": {
      "text/plain": [
       "26810"
      ]
     },
     "execution_count": 149,
     "metadata": {},
     "output_type": "execute_result"
    }
   ],
   "source": [
    "len(Relation_raw_all_final_copy)"
   ]
  },
  {
   "cell_type": "code",
   "execution_count": 150,
   "id": "10ac25de-b01c-4c59-bf15-2736d65b0d23",
   "metadata": {},
   "outputs": [
    {
     "name": "stdout",
     "output_type": "stream",
     "text": [
      "26699\n"
     ]
    }
   ],
   "source": [
    "Relation_raw_all_final_copys=[]\n",
    "for i in Relation_raw_all_final_copy:\n",
    "    if i.get('networkx') or i.get('openie_final') or i.get('allennlp_final'):\n",
    "        Relation_raw_all_final_copys.append(i)\n",
    "print(len(Relation_raw_all_final_copys))"
   ]
  },
  {
   "cell_type": "code",
   "execution_count": 151,
   "id": "b3961b01-7b3f-43f6-9d38-c7198bc96e59",
   "metadata": {},
   "outputs": [],
   "source": [
    "for i in Relation_raw_all_final_copys:\n",
    "    if i.get('_id'):\n",
    "        del i['_id']\n",
    "json.dump(Relation_raw_all_final_copys,open('results/step3/triplelist.json','w'))"
   ]
  },
  {
   "cell_type": "code",
   "execution_count": 152,
   "id": "0a705ec2-f4d4-4a91-9d58-c9c97ea1b601",
   "metadata": {},
   "outputs": [
    {
     "data": {
      "text/plain": [
       "26699"
      ]
     },
     "execution_count": 152,
     "metadata": {},
     "output_type": "execute_result"
    }
   ],
   "source": [
    "len(Relation_raw_all_final_copys)"
   ]
  },
  {
   "cell_type": "code",
   "execution_count": 153,
   "id": "9f812bf1-f3cd-4ee7-8b48-254087de3aab",
   "metadata": {},
   "outputs": [],
   "source": [
    "collections_Relations_final=db.Relations_final"
   ]
  },
  {
   "cell_type": "code",
   "execution_count": 154,
   "id": "1cb53b1b-506b-4696-8829-47cb6a3d9c5d",
   "metadata": {},
   "outputs": [],
   "source": [
    "for i in Relation_raw_all_final_copys:\n",
    "    i['addtime']=now_time"
   ]
  },
  {
   "cell_type": "code",
   "execution_count": 155,
   "id": "2ca9236f-5b82-42aa-ad96-bb860dc264c3",
   "metadata": {},
   "outputs": [
    {
     "data": {
      "text/plain": [
       "<pymongo.results.InsertManyResult at 0x7f9daa461cc0>"
      ]
     },
     "execution_count": 155,
     "metadata": {},
     "output_type": "execute_result"
    }
   ],
   "source": [
    "collections_Relations_final.insert_many(Relation_raw_all_final_copys)"
   ]
  },
  {
   "cell_type": "code",
   "execution_count": 156,
   "id": "d7b97bd4-210c-497c-8db4-63653e6c4a83",
   "metadata": {},
   "outputs": [],
   "source": [
    "pickle.dump(Relation_raw_all_final_copys,open('results/step3/Relation_raw_all_final_copy.pkl','wb'))"
   ]
  },
  {
   "cell_type": "code",
   "execution_count": 157,
   "id": "b9f878d7-a38d-4b85-a2e2-527f692c633a",
   "metadata": {},
   "outputs": [],
   "source": [
    "pickle.dump(Relation_raw,open('results/step3/Relation_raw.pkl','wb'))"
   ]
  },
  {
   "cell_type": "code",
   "execution_count": null,
   "id": "88cf377e-b798-4023-a402-4af23d7dfaaf",
   "metadata": {},
   "outputs": [],
   "source": []
  },
  {
   "cell_type": "code",
   "execution_count": null,
   "id": "9b853152-2b82-4790-b366-3c0fad6c7cb5",
   "metadata": {},
   "outputs": [],
   "source": []
  },
  {
   "cell_type": "code",
   "execution_count": null,
   "id": "50e499d7-88b8-4364-b5ea-d49492e2e708",
   "metadata": {},
   "outputs": [],
   "source": []
  },
  {
   "cell_type": "code",
   "execution_count": null,
   "id": "2b32c793-8dcf-4a10-a3a2-8b8f298560cd",
   "metadata": {},
   "outputs": [],
   "source": []
  },
  {
   "cell_type": "code",
   "execution_count": null,
   "id": "4249c575-3ce4-4058-a800-de589c9f8953",
   "metadata": {},
   "outputs": [],
   "source": []
  },
  {
   "cell_type": "code",
   "execution_count": null,
   "id": "3240a716-76c0-47b8-b3ba-75b9cea05a36",
   "metadata": {},
   "outputs": [],
   "source": []
  },
  {
   "cell_type": "code",
   "execution_count": null,
   "id": "09069ee3-1efd-4739-8951-a7095ba5b262",
   "metadata": {},
   "outputs": [],
   "source": []
  },
  {
   "cell_type": "code",
   "execution_count": null,
   "id": "cda0bdc7-33b3-4c9a-b1c4-786217a47a28",
   "metadata": {},
   "outputs": [],
   "source": []
  },
  {
   "cell_type": "code",
   "execution_count": null,
   "id": "1c739336-6f28-4cae-bde0-741acfa14ba7",
   "metadata": {},
   "outputs": [],
   "source": []
  },
  {
   "cell_type": "code",
   "execution_count": null,
   "id": "da0cc34f-dbaf-4887-898c-a6fc473a9ac4",
   "metadata": {},
   "outputs": [],
   "source": []
  },
  {
   "cell_type": "code",
   "execution_count": null,
   "id": "de17c91f-9cf3-46f9-b8a0-13f423fe3dbc",
   "metadata": {},
   "outputs": [],
   "source": []
  },
  {
   "cell_type": "markdown",
   "id": "530dd26b-fd88-443f-9921-75542159fa85",
   "metadata": {},
   "source": [
    "# Below are dropped"
   ]
  },
  {
   "cell_type": "markdown",
   "id": "b72dd5cc-ca4d-448b-adac-2655ea4b46ee",
   "metadata": {
    "tags": []
   },
   "source": [
    "# Deal with colons"
   ]
  },
  {
   "cell_type": "markdown",
   "id": "da303f27-9639-4a81-8795-d3b0ffcab85a",
   "metadata": {},
   "source": [
    "## Prepare for OpenIE"
   ]
  },
  {
   "cell_type": "code",
   "execution_count": 59,
   "id": "2aac8d38-5d06-4d06-9043-ed0705abf934",
   "metadata": {},
   "outputs": [],
   "source": [
    "os.makedirs('results/step3/openie_colon/filelist/')"
   ]
  },
  {
   "cell_type": "code",
   "execution_count": 60,
   "id": "d2511a9a-d4c6-4c38-96db-35787a4ef3a0",
   "metadata": {},
   "outputs": [],
   "source": [
    "ind=1\n",
    "for i in sentence_colons.keys():\n",
    "    f=open('results/step3/openie_colon/filelist/sentence'+str(ind)+'.txt','w')\n",
    "    f.write(i)\n",
    "    f.close()\n",
    "    ind+=1"
   ]
  },
  {
   "cell_type": "code",
   "execution_count": 61,
   "id": "5254764a-7500-4934-8f98-e5364ad89f3f",
   "metadata": {},
   "outputs": [],
   "source": [
    "f=open('results/step3/openie_colon/filelist.txt','a')\n",
    "for i in range(1,len(sentence_colons)+1):\n",
    "    f.write('filelist/sentence'+str(i)+'.txt'+'\\n')\n",
    "f.close()"
   ]
  },
  {
   "cell_type": "markdown",
   "id": "870e74ad-6d1e-42be-8208-9a02eebf3ba9",
   "metadata": {
    "tags": []
   },
   "source": [
    "### Run in shell "
   ]
  },
  {
   "cell_type": "code",
   "execution_count": 40,
   "id": "5307f23c-f91b-439f-b47a-ba6869a98994",
   "metadata": {},
   "outputs": [],
   "source": [
    "# cd results/step3/openie_colon\n",
    "# nohup java -mx500g -cp ../../../../stanza_corenlp/stanford-corenlp-4.3.2.jar:../../../../stanza_corenlp/stanford-corenlp-4.3.2-models.jar:../../../../stanza_corenlp/CoreNLP-to-HTML.xsl:../../../../slf4j-api.jar:../../../../stanza_corenlp/slf4j-simple.jar edu.stanford.nlp.naturalli.OpenIE -format reverb -filelist ./filelist.txt -output ./openie_colon.txt > ./openie_colon.log &\n",
    "# cd ../../../"
   ]
  },
  {
   "cell_type": "markdown",
   "id": "34820bca-2287-4a0f-9e1a-67daaac9592c",
   "metadata": {},
   "source": [
    "## Prepare for Stanza"
   ]
  },
  {
   "cell_type": "code",
   "execution_count": 63,
   "id": "e73cd0f0-33bf-4cb9-9b99-fc48606caef9",
   "metadata": {},
   "outputs": [
    {
     "ename": "FileExistsError",
     "evalue": "[Errno 17] File exists: 'results/step3/openie_colon/files/'",
     "output_type": "error",
     "traceback": [
      "\u001b[0;31m---------------------------------------------------------------------------\u001b[0m",
      "\u001b[0;31mFileExistsError\u001b[0m                           Traceback (most recent call last)",
      "Cell \u001b[0;32mIn [63], line 1\u001b[0m\n\u001b[0;32m----> 1\u001b[0m \u001b[43mos\u001b[49m\u001b[38;5;241;43m.\u001b[39;49m\u001b[43mmakedirs\u001b[49m\u001b[43m(\u001b[49m\u001b[38;5;124;43m'\u001b[39;49m\u001b[38;5;124;43mresults/step3/openie_colon/files/\u001b[39;49m\u001b[38;5;124;43m'\u001b[39;49m\u001b[43m)\u001b[49m\n\u001b[1;32m      2\u001b[0m k\u001b[38;5;241m=\u001b[39m\u001b[38;5;241m1\u001b[39m\n\u001b[1;32m      3\u001b[0m sentence_colons_list\u001b[38;5;241m=\u001b[39m\u001b[38;5;28mlist\u001b[39m(sentence_colons\u001b[38;5;241m.\u001b[39mkeys())\n",
      "File \u001b[0;32m~/miniconda3/envs/hald/lib/python3.8/os.py:223\u001b[0m, in \u001b[0;36mmakedirs\u001b[0;34m(name, mode, exist_ok)\u001b[0m\n\u001b[1;32m    221\u001b[0m         \u001b[38;5;28;01mreturn\u001b[39;00m\n\u001b[1;32m    222\u001b[0m \u001b[38;5;28;01mtry\u001b[39;00m:\n\u001b[0;32m--> 223\u001b[0m     \u001b[43mmkdir\u001b[49m\u001b[43m(\u001b[49m\u001b[43mname\u001b[49m\u001b[43m,\u001b[49m\u001b[43m \u001b[49m\u001b[43mmode\u001b[49m\u001b[43m)\u001b[49m\n\u001b[1;32m    224\u001b[0m \u001b[38;5;28;01mexcept\u001b[39;00m \u001b[38;5;167;01mOSError\u001b[39;00m:\n\u001b[1;32m    225\u001b[0m     \u001b[38;5;66;03m# Cannot rely on checking for EEXIST, since the operating system\u001b[39;00m\n\u001b[1;32m    226\u001b[0m     \u001b[38;5;66;03m# could give priority to other errors like EACCES or EROFS\u001b[39;00m\n\u001b[1;32m    227\u001b[0m     \u001b[38;5;28;01mif\u001b[39;00m \u001b[38;5;129;01mnot\u001b[39;00m exist_ok \u001b[38;5;129;01mor\u001b[39;00m \u001b[38;5;129;01mnot\u001b[39;00m path\u001b[38;5;241m.\u001b[39misdir(name):\n",
      "\u001b[0;31mFileExistsError\u001b[0m: [Errno 17] File exists: 'results/step3/openie_colon/files/'"
     ]
    }
   ],
   "source": [
    "os.makedirs('results/step3/openie_colon/files/')\n",
    "k=1\n",
    "sentence_colons_list=list(sentence_colons.keys())\n",
    "for i in range(0,len(sentence_colons_list),len(sentence_colons_list)//4):\n",
    "    pickle.dump(sentence_colons_list[i:i+len(sentence_colons_list)//4],open('results/step3/openie_colon/files/openie_colon'+str(k)+'.pkl','wb'))\n",
    "    k+=1"
   ]
  },
  {
   "cell_type": "code",
   "execution_count": 65,
   "id": "2147fe52-283e-4a20-93b9-1d558ef2b812",
   "metadata": {
    "tags": []
   },
   "outputs": [],
   "source": [
    "k=1\n",
    "for i in range(0,len(sentence_colons_list),len(sentence_colons_list)//4):\n",
    "    f=open('results/step3/rules_colon/files/rules_colon'+str(k)+'.py','w')\n",
    "    f.write('''\n",
    "import stanza\n",
    "import os\n",
    "import datetime\n",
    "import time\n",
    "nlp = stanza.Pipeline('en', package='genia',download_method=None)\n",
    "import pickle\n",
    "raw=pickle.load(open('../../openie_colon/files/openie_colon'''+str(k)+'''.pkl','rb'))\n",
    "import re \n",
    "\n",
    "def nlpSentence(i,sentence2words,sentence2relations,sentence2verblist,sentence2verbtype,sentence2adv):\n",
    "    sentence=i\n",
    "    doc=nlp(sentence)\n",
    "    words=[]\n",
    "    for sent in doc.sentences:\n",
    "        for word in sent.words:\n",
    "            words.append(word.text)\n",
    "    relations=[]\n",
    "    verblist=[]\n",
    "    verbprototype=[]\n",
    "    adv=[]\n",
    "    for sent in doc.sentences:\n",
    "        for word in sent.words:\n",
    "            relations.append([word.text,words[int(word.head)-1],int(word.id),int(word.head),word.deprel,word.xpos])\n",
    "            if word.xpos in ['VB','VBD','VBG','VBN', 'VBP', 'VBZ']:\n",
    "                verblist.append({word.text:word.xpos})\n",
    "                verbprototype.append({word.text:word.lemma})\n",
    "            if word.xpos in ['RB','RBR','RBS']:\n",
    "                adv.append({word.text:word.xpos})\n",
    "    sentence2words[i]=words\n",
    "    sentence2relations[i]=relations\n",
    "    sentence2verblist[i]=verblist\n",
    "    sentence2verbprototype[i]=verbprototype\n",
    "    sentence2adv[i]=adv\n",
    "\n",
    "\n",
    "start=datetime.datetime.now()\n",
    "print('Parent process %s.' % os.getpid())\n",
    "sentence2words={}\n",
    "sentence2relations={}\n",
    "sentence2verblist={}\n",
    "sentence2verbprototype={}\n",
    "sentence2adv={}\n",
    "for i in raw:\n",
    "    nlpSentence(i,sentence2words,sentence2relations,sentence2verblist,sentence2verbprototype,sentence2adv)\n",
    "pickle.dump(sentence2words,open('sentence2words'''+str(k)+'''.pkl','wb'))\n",
    "pickle.dump(sentence2relations,open('sentence2relations'''+str(k)+'''.pkl','wb'))\n",
    "pickle.dump(sentence2verblist,open('sentence2verblist'''+str(k)+'''.pkl','wb'))\n",
    "pickle.dump(sentence2verbprototype,open('sentence2verbprototype'''+str(k)+'''.pkl','wb'))\n",
    "pickle.dump(sentence2adv,open('sentence2adv'''+str(k)+'''.pkl','wb'))\n",
    "print('Waiting for all subprocesses done...')\n",
    "\n",
    "end=datetime.datetime.now()\n",
    "print(\"The running time is \"+str((end-start).seconds)+\"s\")  \n",
    "    ''')\n",
    "    f.close()\n",
    "    k+=1"
   ]
  },
  {
   "cell_type": "markdown",
   "id": "93469ed4-d9f7-443c-bf27-8cf7d0562915",
   "metadata": {},
   "source": [
    "### Run in shell "
   ]
  },
  {
   "cell_type": "code",
   "execution_count": 111,
   "id": "6e7d76fa-9657-409f-99db-7bbf3c0adb59",
   "metadata": {},
   "outputs": [],
   "source": [
    "# cd results/step3/rules_colon/files\n",
    "# for i in {1..5}; do echo \"nohup python rules_colon${i}.py >> rules_colon.log &\" | bash; done\n",
    "# cd ../../../../"
   ]
  },
  {
   "cell_type": "code",
   "execution_count": null,
   "id": "e810049e-8964-40bc-a86f-fa1dee22fa01",
   "metadata": {},
   "outputs": [],
   "source": []
  },
  {
   "cell_type": "code",
   "execution_count": null,
   "id": "484e2d57-4bb4-4589-a739-310cd2ff697e",
   "metadata": {},
   "outputs": [],
   "source": []
  },
  {
   "cell_type": "markdown",
   "id": "140b8cd9-bcf6-43c3-ad48-e11ceec42db5",
   "metadata": {},
   "source": [
    "## Deal with OpenIE"
   ]
  },
  {
   "cell_type": "code",
   "execution_count": 66,
   "id": "19218ca8-b103-4822-ba93-4663dd79d69e",
   "metadata": {},
   "outputs": [],
   "source": [
    "openie_colon_table=pd.read_table('results/step3/openie_colon/openie_colon.txt',header=None)"
   ]
  },
  {
   "cell_type": "code",
   "execution_count": 67,
   "id": "cc7ed1c3-0f04-45b4-a9ac-088ad1371e71",
   "metadata": {},
   "outputs": [
    {
     "data": {
      "text/html": [
       "<div>\n",
       "<style scoped>\n",
       "    .dataframe tbody tr th:only-of-type {\n",
       "        vertical-align: middle;\n",
       "    }\n",
       "\n",
       "    .dataframe tbody tr th {\n",
       "        vertical-align: top;\n",
       "    }\n",
       "\n",
       "    .dataframe thead th {\n",
       "        text-align: right;\n",
       "    }\n",
       "</style>\n",
       "<table border=\"1\" class=\"dataframe\">\n",
       "  <thead>\n",
       "    <tr style=\"text-align: right;\">\n",
       "      <th></th>\n",
       "      <th>0</th>\n",
       "      <th>1</th>\n",
       "      <th>2</th>\n",
       "      <th>3</th>\n",
       "      <th>4</th>\n",
       "      <th>5</th>\n",
       "      <th>6</th>\n",
       "      <th>7</th>\n",
       "      <th>8</th>\n",
       "      <th>9</th>\n",
       "      <th>10</th>\n",
       "      <th>11</th>\n",
       "      <th>12</th>\n",
       "      <th>13</th>\n",
       "      <th>14</th>\n",
       "      <th>15</th>\n",
       "      <th>16</th>\n",
       "    </tr>\n",
       "  </thead>\n",
       "  <tbody>\n",
       "    <tr>\n",
       "      <th>0</th>\n",
       "      <td>filelist/sentence40.txt</td>\n",
       "      <td>0</td>\n",
       "      <td>miR 4500</td>\n",
       "      <td>was reduced in</td>\n",
       "      <td>induced HUVECs</td>\n",
       "      <td>4</td>\n",
       "      <td>7</td>\n",
       "      <td>7</td>\n",
       "      <td>10</td>\n",
       "      <td>12</td>\n",
       "      <td>14</td>\n",
       "      <td>1.0</td>\n",
       "      <td>ARG2 was upregulated and miR - 4500 was reduce...</td>\n",
       "      <td>NN VBD VBN CC NN HYPH CD VBD VBN IN NN HYPH VB...</td>\n",
       "      <td>mir 4500</td>\n",
       "      <td>be reduce in</td>\n",
       "      <td>induce huvec</td>\n",
       "    </tr>\n",
       "    <tr>\n",
       "      <th>1</th>\n",
       "      <td>filelist/sentence40.txt</td>\n",
       "      <td>0</td>\n",
       "      <td>ARG2</td>\n",
       "      <td>was</td>\n",
       "      <td>upregulated</td>\n",
       "      <td>0</td>\n",
       "      <td>1</td>\n",
       "      <td>1</td>\n",
       "      <td>2</td>\n",
       "      <td>2</td>\n",
       "      <td>3</td>\n",
       "      <td>1.0</td>\n",
       "      <td>ARG2 was upregulated and miR - 4500 was reduce...</td>\n",
       "      <td>NN VBD VBN CC NN HYPH CD VBD VBN IN NN HYPH VB...</td>\n",
       "      <td>arg2</td>\n",
       "      <td>be</td>\n",
       "      <td>upregulate</td>\n",
       "    </tr>\n",
       "    <tr>\n",
       "      <th>2</th>\n",
       "      <td>filelist/sentence40.txt</td>\n",
       "      <td>0</td>\n",
       "      <td>miR 4500</td>\n",
       "      <td>was reduced in</td>\n",
       "      <td>HUVECs</td>\n",
       "      <td>4</td>\n",
       "      <td>7</td>\n",
       "      <td>7</td>\n",
       "      <td>10</td>\n",
       "      <td>13</td>\n",
       "      <td>14</td>\n",
       "      <td>1.0</td>\n",
       "      <td>ARG2 was upregulated and miR - 4500 was reduce...</td>\n",
       "      <td>NN VBD VBN CC NN HYPH CD VBD VBN IN NN HYPH VB...</td>\n",
       "      <td>mir 4500</td>\n",
       "      <td>be reduce in</td>\n",
       "      <td>huvec</td>\n",
       "    </tr>\n",
       "    <tr>\n",
       "      <th>3</th>\n",
       "      <td>filelist/sentence40.txt</td>\n",
       "      <td>0</td>\n",
       "      <td>miR</td>\n",
       "      <td>was reduced in</td>\n",
       "      <td>H2O2 induced HUVECs</td>\n",
       "      <td>4</td>\n",
       "      <td>5</td>\n",
       "      <td>7</td>\n",
       "      <td>10</td>\n",
       "      <td>10</td>\n",
       "      <td>14</td>\n",
       "      <td>1.0</td>\n",
       "      <td>ARG2 was upregulated and miR - 4500 was reduce...</td>\n",
       "      <td>NN VBD VBN CC NN HYPH CD VBD VBN IN NN HYPH VB...</td>\n",
       "      <td>mir</td>\n",
       "      <td>be reduce in</td>\n",
       "      <td>h2o2 induce huvec</td>\n",
       "    </tr>\n",
       "    <tr>\n",
       "      <th>4</th>\n",
       "      <td>filelist/sentence40.txt</td>\n",
       "      <td>0</td>\n",
       "      <td>miR 4500</td>\n",
       "      <td>was</td>\n",
       "      <td>reduced</td>\n",
       "      <td>4</td>\n",
       "      <td>7</td>\n",
       "      <td>7</td>\n",
       "      <td>8</td>\n",
       "      <td>8</td>\n",
       "      <td>9</td>\n",
       "      <td>1.0</td>\n",
       "      <td>ARG2 was upregulated and miR - 4500 was reduce...</td>\n",
       "      <td>NN VBD VBN CC NN HYPH CD VBD VBN IN NN HYPH VB...</td>\n",
       "      <td>mir 4500</td>\n",
       "      <td>be</td>\n",
       "      <td>reduce</td>\n",
       "    </tr>\n",
       "  </tbody>\n",
       "</table>\n",
       "</div>"
      ],
      "text/plain": [
       "                        0   1         2               3                    4   \\\n",
       "0  filelist/sentence40.txt   0  miR 4500  was reduced in       induced HUVECs   \n",
       "1  filelist/sentence40.txt   0      ARG2             was          upregulated   \n",
       "2  filelist/sentence40.txt   0  miR 4500  was reduced in               HUVECs   \n",
       "3  filelist/sentence40.txt   0       miR  was reduced in  H2O2 induced HUVECs   \n",
       "4  filelist/sentence40.txt   0  miR 4500             was              reduced   \n",
       "\n",
       "   5   6   7   8   9   10   11  \\\n",
       "0   4   7   7  10  12  14  1.0   \n",
       "1   0   1   1   2   2   3  1.0   \n",
       "2   4   7   7  10  13  14  1.0   \n",
       "3   4   5   7  10  10  14  1.0   \n",
       "4   4   7   7   8   8   9  1.0   \n",
       "\n",
       "                                                  12  \\\n",
       "0  ARG2 was upregulated and miR - 4500 was reduce...   \n",
       "1  ARG2 was upregulated and miR - 4500 was reduce...   \n",
       "2  ARG2 was upregulated and miR - 4500 was reduce...   \n",
       "3  ARG2 was upregulated and miR - 4500 was reduce...   \n",
       "4  ARG2 was upregulated and miR - 4500 was reduce...   \n",
       "\n",
       "                                                  13        14            15  \\\n",
       "0  NN VBD VBN CC NN HYPH CD VBD VBN IN NN HYPH VB...  mir 4500  be reduce in   \n",
       "1  NN VBD VBN CC NN HYPH CD VBD VBN IN NN HYPH VB...      arg2            be   \n",
       "2  NN VBD VBN CC NN HYPH CD VBD VBN IN NN HYPH VB...  mir 4500  be reduce in   \n",
       "3  NN VBD VBN CC NN HYPH CD VBD VBN IN NN HYPH VB...       mir  be reduce in   \n",
       "4  NN VBD VBN CC NN HYPH CD VBD VBN IN NN HYPH VB...  mir 4500            be   \n",
       "\n",
       "                  16  \n",
       "0       induce huvec  \n",
       "1         upregulate  \n",
       "2              huvec  \n",
       "3  h2o2 induce huvec  \n",
       "4             reduce  "
      ]
     },
     "execution_count": 67,
     "metadata": {},
     "output_type": "execute_result"
    }
   ],
   "source": [
    "openie_colon_table.head(5)"
   ]
  },
  {
   "cell_type": "code",
   "execution_count": 68,
   "id": "f126fbbf-b1ac-443f-9ea4-5b501654a6ef",
   "metadata": {},
   "outputs": [
    {
     "data": {
      "text/plain": [
       "561"
      ]
     },
     "execution_count": 68,
     "metadata": {},
     "output_type": "execute_result"
    }
   ],
   "source": [
    "len(openie_colon_table)"
   ]
  },
  {
   "cell_type": "code",
   "execution_count": 69,
   "id": "feb785ec-5d25-49e6-a781-f8fd3ea7b631",
   "metadata": {},
   "outputs": [],
   "source": [
    "df=openie_colon_table.loc[:,[0,2,3,4,12]]"
   ]
  },
  {
   "cell_type": "code",
   "execution_count": 70,
   "id": "0dc9a59d-3956-4858-b6b1-515be2bf51c0",
   "metadata": {},
   "outputs": [],
   "source": [
    "be=['be','am','is','are','was','were','have been','has been']\n",
    "bedict={}\n",
    "for i in be:\n",
    "    bedict[i]='be'"
   ]
  },
  {
   "cell_type": "code",
   "execution_count": 84,
   "id": "7cec02c6-1a29-4cef-bf92-8416629a3658",
   "metadata": {},
   "outputs": [],
   "source": [
    "rules_pairs=['sentence2adv','sentence2relations','sentence2verblist','sentence2verbprototype','sentence2words']\n",
    "for i in rules_pairs:\n",
    "    names[i]={}\n",
    "    for k in ['results/step3/rules_colon/files/'+i+str(j)+'.pkl' for j in range(1,6)]:\n",
    "        names[i].update(pickle.load(open(k,'rb')))"
   ]
  },
  {
   "cell_type": "code",
   "execution_count": 88,
   "id": "b88f59b6-1ad5-4955-b4ea-939141710eb0",
   "metadata": {},
   "outputs": [],
   "source": [
    "finallist=[]\n",
    "for line in range(len(df)):\n",
    "    i=sentence_colons_list[int(df.iloc[line,0][17:-4])-1]\n",
    "    verblist=sentence2verblist.get(i)\n",
    "    verbrelation=''\n",
    "    real_verb=''\n",
    "    verbdict={}\n",
    "    verbs_split=df.loc[line,3].split(' ')\n",
    "    for verb in verblist:\n",
    "        verbdict.update(verb)\n",
    "    for indexx,one in enumerate(verbs_split):\n",
    "        if verbdict.get(one):\n",
    "            verbrelation=one\n",
    "            relations=sentence2relations.get(i)\n",
    "            relations_display=[relation[-2] for relation in relations]\n",
    "            verbprototype=sentence2verbprototype.get(i)\n",
    "            verbprototype_dict={}\n",
    "            for verbp in verbprototype:\n",
    "                verbprototype_dict.update(verbp)\n",
    "            for index_passive,passive in enumerate(relations_display):\n",
    "                if passive=='aux:pass':\n",
    "                    if relations[index_passive][1]==verbrelation:\n",
    "                        verb_prototype=verbrelation\n",
    "                        break\n",
    "                elif passive=='acl' and relations[index_passive][-1]=='VBN':\n",
    "                    if relations[index_passive][0]==verbrelation:\n",
    "                        verb_prototype=verbrelation\n",
    "                        break\n",
    "            else:\n",
    "                for v in verbprototype:\n",
    "                    if v.get(verbrelation):\n",
    "                        verb_prototype=v.get(verbrelation)\n",
    "                        break\n",
    "            verbs_split[indexx]=verb_prototype\n",
    "        elif bedict.get(one):\n",
    "            verbs_split[indexx]=bedict.get(one)\n",
    "    if bedict.get(' '.join(verbs_split[:2])):\n",
    "        final=' '.join(['be']+verbs_split[2:])\n",
    "    else:\n",
    "        final=' '.join(verbs_split)\n",
    "    finallist.append(final)\n",
    "df[17]=finallist"
   ]
  },
  {
   "cell_type": "code",
   "execution_count": 124,
   "id": "73bf420d-b083-4f93-9334-bd2dd4f4aace",
   "metadata": {},
   "outputs": [],
   "source": [
    "ind=1\n",
    "for i in sentence_colons_list:\n",
    "    names['sentence'+str(ind)]=i\n",
    "    ind+=1"
   ]
  },
  {
   "cell_type": "code",
   "execution_count": 170,
   "id": "dffd3d72-45e1-4a4e-80ee-235145197808",
   "metadata": {},
   "outputs": [
    {
     "data": {
      "text/plain": [
       "'There was association between folate pathway gene polymorphism of Solute Carrier Family 19 Member 1 (SLC19A1) and Methylenetetrahydrofolate Reductase (MTHFR) with erythrocyte SOD and GSH-PX activities, and folate levels in male but not in female aging subjects.'"
      ]
     },
     "execution_count": 170,
     "metadata": {},
     "output_type": "execute_result"
    }
   ],
   "source": [
    "sentence1"
   ]
  },
  {
   "cell_type": "code",
   "execution_count": 171,
   "id": "bf3b19c1-623d-4279-b192-e9c98390accf",
   "metadata": {},
   "outputs": [
    {
     "data": {
      "text/plain": [
       "687"
      ]
     },
     "execution_count": 171,
     "metadata": {},
     "output_type": "execute_result"
    }
   ],
   "source": [
    "ind"
   ]
  },
  {
   "cell_type": "code",
   "execution_count": 91,
   "id": "d30b7954-ec30-48e0-bda0-ce2990e768a8",
   "metadata": {},
   "outputs": [],
   "source": [
    "relation_dict_copy=copy.deepcopy(sentence_colons)"
   ]
  },
  {
   "cell_type": "code",
   "execution_count": 92,
   "id": "b2be2ff7-53bc-4aa2-a41f-21ce0a273361",
   "metadata": {},
   "outputs": [
    {
     "data": {
      "text/plain": [
       "50"
      ]
     },
     "execution_count": 92,
     "metadata": {},
     "output_type": "execute_result"
    }
   ],
   "source": [
    "len(relation_dict_copy)"
   ]
  },
  {
   "cell_type": "code",
   "execution_count": 112,
   "id": "84dd5739-401e-4cb7-923e-e8e31af9f6b6",
   "metadata": {},
   "outputs": [
    {
     "data": {
      "text/plain": [
       "'The increased IGF-1 in Panx1-knockdown ECFCs was abrogated, respectively, by inhibitors of FAK (PF562271), ERK (U0126), and STAT3 (NSC74859) and supplemented calcium.'"
      ]
     },
     "execution_count": 112,
     "metadata": {},
     "output_type": "execute_result"
    }
   ],
   "source": [
    "names[df.iloc[i-1,0][9:-4]]"
   ]
  },
  {
   "cell_type": "code",
   "execution_count": 123,
   "id": "7ad57bc8-0d1a-4a2f-bc61-a0e3498fe503",
   "metadata": {},
   "outputs": [
    {
     "data": {
      "text/plain": [
       "('There was association between folate pathway gene polymorphism of Solute Carrier Family 19 Member 1 (SLC19A1) and Methylenetetrahydrofolate Reductase (MTHFR) with erythrocyte SOD and GSH-PX activities, and folate levels in male but not in female aging subjects.',\n",
       " [{'PMID': '37201763',\n",
       "   'entity1': 'SLC19A1',\n",
       "   'entity2': 'MTHFR',\n",
       "   'sentence': 'CONCLUSIONS: There was association between folate pathway gene polymorphism of Solute Carrier Family 19 Member 1 (SLC19A1) and Methylenetetrahydrofolate Reductase (MTHFR) with erythrocyte SOD and GSH-PX activities, and folate levels in male but not in female aging subjects.',\n",
       "   'AB': \"BACKGROUND: Plasma folate levels are closely related to antioxidant capacity and are regulated by folate pathway gene polymorphism. However, few studies have explored the gender-specific association of folate pathway gene polymorphism with oxidative stress biomarkers. The present study was designed to explore the gender-specific independent and combined impacts of solute carrier family 19 member 1 (SLC19A1) and methylenetetrahydrofolate reductase (MTHFR) genetic polymorphisms on oxidative stress biomarkers in older adults. METHODS: A total of 401 subjects were recruited, including 145 males and 256 females. Demographic characteristics of the participants were collected by using a self-administered questionnaire. Fasting venous blood samples were taken for folate pathway gene genotyping, circulating lipids parameters and erythrocyte oxidative stress biomarkers measurement. The difference of genotype distribution and the Hardy-Weinberg equilibrium was calculated by the Chi-square test. The general linear model was applied to compare the plasma folate levels and erythrocyte oxidative stress biomarkers. Multiple linear regression was used to explore the correlation between genetic risk scores and oxidative stress biomarkers. Logistic regression was used to explore the association of genetic risk scores of folate pathway gene with folate deficiency. RESULTS: The male subjects have lower plasma folate and HDL-C levels than the female ones, and the male carrying MTHFR rs1801133 (CC) or MTHFR rs2274976 (GA) genotypes have higher erythrocyte SOD activity. The plasma folate levels, erythrocyte SOD and GSH-PX activities were negatively correlated with genetic risk scores in the male subjects. A positive correlation between the genetic risk scores and folate deficiency was observed in the male subjects. CONCLUSIONS: There was association between folate pathway gene polymorphism of Solute Carrier Family 19 Member 1 (SLC19A1) and Methylenetetrahydrofolate Reductase (MTHFR) with erythrocyte SOD and GSH-PX activities, and folate levels in male but not in female aging subjects. Genetic variant of genes involved in folate metabolism has strong impact on plasma folate levels in the male aging subjects. Our data demonstrated that there was a potential interaction of gender and its genetic background in affecting the body's antioxidant capacity and the risk of folate deficiency in aging subjects.\",\n",
       "   'target1': 'SLC19A1',\n",
       "   'target1_type': 'Gene',\n",
       "   'target2': 'Methylenetetrahydrofolate Reductase',\n",
       "   'target2_type': 'Gene',\n",
       "   'sentence_transformed': 'There was association between folate pathway gene polymorphism of Solute Carrier Family 19 Member 1 (SLC19A1) and Methylenetetrahydrofolate Reductase (MTHFR) with erythrocyte SOD and GSH-PX activities, and folate levels in male but not in female aging subjects.'},\n",
       "  {'PMID': '37201763',\n",
       "   'entity1': 'SLC19A1',\n",
       "   'entity2': 'Glutathione',\n",
       "   'sentence': 'CONCLUSIONS: There was association between folate pathway gene polymorphism of Solute Carrier Family 19 Member 1 (SLC19A1) and Methylenetetrahydrofolate Reductase (MTHFR) with erythrocyte SOD and GSH-PX activities, and folate levels in male but not in female aging subjects.',\n",
       "   'AB': \"BACKGROUND: Plasma folate levels are closely related to antioxidant capacity and are regulated by folate pathway gene polymorphism. However, few studies have explored the gender-specific association of folate pathway gene polymorphism with oxidative stress biomarkers. The present study was designed to explore the gender-specific independent and combined impacts of solute carrier family 19 member 1 (SLC19A1) and methylenetetrahydrofolate reductase (MTHFR) genetic polymorphisms on oxidative stress biomarkers in older adults. METHODS: A total of 401 subjects were recruited, including 145 males and 256 females. Demographic characteristics of the participants were collected by using a self-administered questionnaire. Fasting venous blood samples were taken for folate pathway gene genotyping, circulating lipids parameters and erythrocyte oxidative stress biomarkers measurement. The difference of genotype distribution and the Hardy-Weinberg equilibrium was calculated by the Chi-square test. The general linear model was applied to compare the plasma folate levels and erythrocyte oxidative stress biomarkers. Multiple linear regression was used to explore the correlation between genetic risk scores and oxidative stress biomarkers. Logistic regression was used to explore the association of genetic risk scores of folate pathway gene with folate deficiency. RESULTS: The male subjects have lower plasma folate and HDL-C levels than the female ones, and the male carrying MTHFR rs1801133 (CC) or MTHFR rs2274976 (GA) genotypes have higher erythrocyte SOD activity. The plasma folate levels, erythrocyte SOD and GSH-PX activities were negatively correlated with genetic risk scores in the male subjects. A positive correlation between the genetic risk scores and folate deficiency was observed in the male subjects. CONCLUSIONS: There was association between folate pathway gene polymorphism of Solute Carrier Family 19 Member 1 (SLC19A1) and Methylenetetrahydrofolate Reductase (MTHFR) with erythrocyte SOD and GSH-PX activities, and folate levels in male but not in female aging subjects. Genetic variant of genes involved in folate metabolism has strong impact on plasma folate levels in the male aging subjects. Our data demonstrated that there was a potential interaction of gender and its genetic background in affecting the body's antioxidant capacity and the risk of folate deficiency in aging subjects.\",\n",
       "   'target1': 'SLC19A1',\n",
       "   'target1_type': 'Gene',\n",
       "   'target2': 'GSH',\n",
       "   'target2_type': 'Peptide',\n",
       "   'sentence_transformed': 'There was association between folate pathway gene polymorphism of Solute Carrier Family 19 Member 1 (SLC19A1) and Methylenetetrahydrofolate Reductase (MTHFR) with erythrocyte SOD and GSH-PX activities, and folate levels in male but not in female aging subjects.'},\n",
       "  {'PMID': '37201763',\n",
       "   'entity1': 'MTHFR',\n",
       "   'entity2': 'Glutathione',\n",
       "   'sentence': 'CONCLUSIONS: There was association between folate pathway gene polymorphism of Solute Carrier Family 19 Member 1 (SLC19A1) and Methylenetetrahydrofolate Reductase (MTHFR) with erythrocyte SOD and GSH-PX activities, and folate levels in male but not in female aging subjects.',\n",
       "   'AB': \"BACKGROUND: Plasma folate levels are closely related to antioxidant capacity and are regulated by folate pathway gene polymorphism. However, few studies have explored the gender-specific association of folate pathway gene polymorphism with oxidative stress biomarkers. The present study was designed to explore the gender-specific independent and combined impacts of solute carrier family 19 member 1 (SLC19A1) and methylenetetrahydrofolate reductase (MTHFR) genetic polymorphisms on oxidative stress biomarkers in older adults. METHODS: A total of 401 subjects were recruited, including 145 males and 256 females. Demographic characteristics of the participants were collected by using a self-administered questionnaire. Fasting venous blood samples were taken for folate pathway gene genotyping, circulating lipids parameters and erythrocyte oxidative stress biomarkers measurement. The difference of genotype distribution and the Hardy-Weinberg equilibrium was calculated by the Chi-square test. The general linear model was applied to compare the plasma folate levels and erythrocyte oxidative stress biomarkers. Multiple linear regression was used to explore the correlation between genetic risk scores and oxidative stress biomarkers. Logistic regression was used to explore the association of genetic risk scores of folate pathway gene with folate deficiency. RESULTS: The male subjects have lower plasma folate and HDL-C levels than the female ones, and the male carrying MTHFR rs1801133 (CC) or MTHFR rs2274976 (GA) genotypes have higher erythrocyte SOD activity. The plasma folate levels, erythrocyte SOD and GSH-PX activities were negatively correlated with genetic risk scores in the male subjects. A positive correlation between the genetic risk scores and folate deficiency was observed in the male subjects. CONCLUSIONS: There was association between folate pathway gene polymorphism of Solute Carrier Family 19 Member 1 (SLC19A1) and Methylenetetrahydrofolate Reductase (MTHFR) with erythrocyte SOD and GSH-PX activities, and folate levels in male but not in female aging subjects. Genetic variant of genes involved in folate metabolism has strong impact on plasma folate levels in the male aging subjects. Our data demonstrated that there was a potential interaction of gender and its genetic background in affecting the body's antioxidant capacity and the risk of folate deficiency in aging subjects.\",\n",
       "   'target1': 'Methylenetetrahydrofolate Reductase',\n",
       "   'target1_type': 'Gene',\n",
       "   'target2': 'GSH',\n",
       "   'target2_type': 'Peptide',\n",
       "   'sentence_transformed': 'There was association between folate pathway gene polymorphism of Solute Carrier Family 19 Member 1 (SLC19A1) and Methylenetetrahydrofolate Reductase (MTHFR) with erythrocyte SOD and GSH-PX activities, and folate levels in male but not in female aging subjects.'}])"
      ]
     },
     "execution_count": 123,
     "metadata": {},
     "output_type": "execute_result"
    }
   ],
   "source": [
    "list(relation_dict_copy.items())[0]"
   ]
  },
  {
   "cell_type": "code",
   "execution_count": 121,
   "id": "f8cdf094-475f-411c-94b5-76198b24796c",
   "metadata": {},
   "outputs": [
    {
     "data": {
      "text/plain": [
       "'In skin photoaging samples, PVT1 and AQP3 were poorly expressed, while miR-551b-3p was highly expressed.'"
      ]
     },
     "execution_count": 121,
     "metadata": {},
     "output_type": "execute_result"
    }
   ],
   "source": [
    "names[df.iloc[0,0][9:-4]]"
   ]
  },
  {
   "cell_type": "code",
   "execution_count": 122,
   "id": "dc703481-07bf-4a19-80fe-cfc5279db8b7",
   "metadata": {},
   "outputs": [],
   "source": [
    "relation_dict_copy.get(names[df.iloc[0,0][9:-4]])"
   ]
  },
  {
   "cell_type": "code",
   "execution_count": 127,
   "id": "7d51bfe4-1a83-4040-82bd-fbca19ec6439",
   "metadata": {},
   "outputs": [],
   "source": [
    "suc=[]\n",
    "for i in range(1,len(relation_dict_copy)+1):\n",
    "    if relation_dict_copy.get(names[df.iloc[i-1,0][9:-4]]):\n",
    "        openie=[]\n",
    "        for j in relation_dict_copy.get(names[df.iloc[i-1,0][9:-4]]):\n",
    "            j1=j.get('target1').translate(str.maketrans({\"-\":  r\"\\-\",\"\\\\\": r\"\\\\\", \"^\":  r\"\\^\",\"$\":  r\"\\$\",\"*\":  r\"\\*\",\".\":  r\"\\.\",\"(\":  r\"\\(\",\")\":  r\"\\)\",\"+\":  r\"\\+\",\"[\":  r\"\\[\",\"]\":  r\"\\]\",\n",
    "                      \"{\":  r\"\\{\",\"}\":  r\"\\}\",\"|\":  r\"\\|\",\"?\":  r\"\\?\"}))\n",
    "            j2=j.get('target2').translate(str.maketrans({\"-\":  r\"\\-\",\"\\\\\": r\"\\\\\", \"^\":  r\"\\^\",\"$\":  r\"\\$\",\"*\":  r\"\\*\",\".\":  r\"\\.\",\"(\":  r\"\\(\",\")\":  r\"\\)\",\"+\":  r\"\\+\",\"[\":  r\"\\[\",\"]\":  r\"\\]\",\n",
    "                      \"{\":  r\"\\{\",\"}\":  r\"\\}\",\"|\":  r\"\\|\",\"?\":  r\"\\?\"}))\n",
    "            if re.search(j1,df.iloc[i-1,1]) and re.search(j2,df.iloc[i-1,3]):\n",
    "                j['openie']=j.get('openie',[])+[[j.get('target1'),df.iloc[i-1,-1],j.get('target2')]]\n",
    "                openie.append([j.get('target1'),df.iloc[i-1,-1],j.get('target2')])\n",
    "            elif re.search(j2,df.iloc[i-1,1]) and re.search(j1,df.iloc[i-1,3]):\n",
    "                j['openie']=j.get('openie',[])+[[j.get('target2'),df.iloc[i-1,-1],j.get('target1')]]\n",
    "                openie.append([j.get('target2'),df.iloc[i-1,-1],j.get('target1')]) \n",
    "        if not openie:\n",
    "            suc.append(names[df.iloc[i-1,0][9:-4]])    "
   ]
  },
  {
   "cell_type": "code",
   "execution_count": 129,
   "id": "70d7b0ec-39b7-4fbe-90f7-beed4f3c42a1",
   "metadata": {},
   "outputs": [],
   "source": [
    "error=[]\n",
    "for i in range(1,len(relation_dict_copy)+1):\n",
    "    if not relation_dict_copy.get(names[df.iloc[i-1,0][9:-4]]):\n",
    "        error.append(names[df.iloc[i-1,0][9:-4]])"
   ]
  },
  {
   "cell_type": "code",
   "execution_count": 130,
   "id": "7658e8f2-c8fc-4f55-8f04-a5f24d85b65a",
   "metadata": {},
   "outputs": [
    {
     "data": {
      "text/plain": [
       "45"
      ]
     },
     "execution_count": 130,
     "metadata": {},
     "output_type": "execute_result"
    }
   ],
   "source": [
    "len(suc)"
   ]
  },
  {
   "cell_type": "code",
   "execution_count": 131,
   "id": "2319ff5b-aa21-46b7-96f3-ebbcae2190bb",
   "metadata": {},
   "outputs": [
    {
     "data": {
      "text/plain": [
       "50"
      ]
     },
     "execution_count": 131,
     "metadata": {},
     "output_type": "execute_result"
    }
   ],
   "source": [
    "len(relation_dict_copy)"
   ]
  },
  {
   "cell_type": "code",
   "execution_count": 132,
   "id": "00936837-a355-4516-89e3-723e0e73889a",
   "metadata": {},
   "outputs": [
    {
     "data": {
      "text/plain": [
       "0"
      ]
     },
     "execution_count": 132,
     "metadata": {},
     "output_type": "execute_result"
    }
   ],
   "source": [
    "len(error)"
   ]
  },
  {
   "cell_type": "code",
   "execution_count": null,
   "id": "c9f0a787-9769-4d92-ae4c-302f749c1e14",
   "metadata": {},
   "outputs": [],
   "source": []
  }
 ],
 "metadata": {
  "kernelspec": {
   "display_name": "hald",
   "language": "python",
   "name": "hald"
  },
  "language_info": {
   "codemirror_mode": {
    "name": "ipython",
    "version": 3
   },
   "file_extension": ".py",
   "mimetype": "text/x-python",
   "name": "python",
   "nbconvert_exporter": "python",
   "pygments_lexer": "ipython3",
   "version": "3.8.15"
  }
 },
 "nbformat": 4,
 "nbformat_minor": 5
}
