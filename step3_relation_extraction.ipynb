{
 "cells": [
  {
   "cell_type": "code",
   "execution_count": 1,
   "id": "e1a8fd70-62dc-44e9-a5f4-544936c4aec5",
   "metadata": {},
   "outputs": [
    {
     "name": "stderr",
     "output_type": "stream",
     "text": [
      "/root/miniconda3/envs/hald/lib/python3.8/site-packages/tqdm/auto.py:22: TqdmWarning: IProgress not found. Please update jupyter and ipywidgets. See https://ipywidgets.readthedocs.io/en/stable/user_install.html\n",
      "  from .autonotebook import tqdm as notebook_tqdm\n"
     ]
    }
   ],
   "source": [
    "import sys\n",
    "sys.path.append(\"..\")\n",
    "from allennlp.predictors.predictor import Predictor\n",
    "import json, stanza, pickle, datetime, time, re, os, random, pymongo, csv, copy,  \\\n",
    "allennlp_models.structured_prediction\n",
    "from multiprocessing import Process, Manager, Pool\n",
    "from pymongo import MongoClient\n",
    "import pandas as pd\n",
    "\n",
    "import networkx as nx\n",
    "import matplotlib.pyplot as plt\n",
    "from pylab import mpl"
   ]
  },
  {
   "cell_type": "code",
   "execution_count": 2,
   "id": "491ec003-c1b0-4256-a1d1-1b9d0f1b8eb7",
   "metadata": {},
   "outputs": [],
   "source": [
    "client = MongoClient(username=\"hald\",password=\"mclab236\")"
   ]
  },
  {
   "cell_type": "code",
   "execution_count": 3,
   "id": "fc362a6a-db48-4218-8983-ffe1a8ea71f8",
   "metadata": {},
   "outputs": [],
   "source": [
    "now=datetime.datetime.now()"
   ]
  },
  {
   "cell_type": "code",
   "execution_count": 4,
   "id": "e8f2dca7-9cf8-46c0-af3b-ff608d101b39",
   "metadata": {},
   "outputs": [],
   "source": [
    "now_time=now.strftime('%Y_%m_01')"
   ]
  },
  {
   "cell_type": "code",
   "execution_count": 5,
   "id": "0dd2f47e-ca4f-4a9c-9e07-d2523ce7bca0",
   "metadata": {},
   "outputs": [],
   "source": [
    "pairs=['Gene','RNA','Carbohydrate','Lipid','Peptide', 'Pharmaceutical_Preparations', 'Protein', 'Toxin','Mutation', 'Disease']"
   ]
  },
  {
   "cell_type": "code",
   "execution_count": 6,
   "id": "50946dcc-3f9b-4855-81a0-025f4115a01d",
   "metadata": {},
   "outputs": [],
   "source": [
    "db = client.hald"
   ]
  },
  {
   "cell_type": "code",
   "execution_count": 7,
   "id": "4ee2a2be-dc83-4f0c-9474-9d1b54fd661e",
   "metadata": {},
   "outputs": [],
   "source": [
    "Gene_entities=list(db.Gene_raw.find({'addtime':now_time}))\n",
    "RNA_entities=list(db.RNA_raw.find({'addtime':now_time}))\n",
    "Carbohydrate_entities=list(db.Carbohydrate_raw.find({'addtime':now_time}))\n",
    "Lipid_entities=list(db.Lipid_raw.find({'addtime':now_time}))\n",
    "Peptide_entities=list(db.Peptide_raw.find({'addtime':now_time}))\n",
    "Pharmaceutical_Preparations_entities=list(db.Pharmaceutical_Preparations_raw.find({'addtime':now_time}))\n",
    "Protein_entities=list(db.Protein_raw.find({'addtime':now_time}))\n",
    "Toxin_entities=list(db.Toxin_raw.find({'addtime':now_time}))"
   ]
  },
  {
   "cell_type": "code",
   "execution_count": 8,
   "id": "df37f7c8-a439-4020-81a3-29dca29ee543",
   "metadata": {},
   "outputs": [],
   "source": [
    "Mutation_entities=[]\n",
    "Disease_entities=[]\n",
    "for i in list(db.Mutation_raw.find({'addtime':now_time})):\n",
    "    if i.get('Genomic View'):\n",
    "        Mutation_entities.append(i)\n",
    "for i in list(db.Disease_raw.find({'addtime':now_time})):\n",
    "    if i.get('url'):\n",
    "        Disease_entities.append(i)"
   ]
  },
  {
   "cell_type": "code",
   "execution_count": 9,
   "id": "31306d4b-4768-44de-adf4-565124f6c84c",
   "metadata": {},
   "outputs": [],
   "source": [
    "names=locals()"
   ]
  },
  {
   "cell_type": "code",
   "execution_count": 10,
   "id": "5c2c4827-efaf-43d3-987a-3aed43c59e66",
   "metadata": {},
   "outputs": [
    {
     "name": "stdout",
     "output_type": "stream",
     "text": [
      "1496\n",
      "17\n",
      "136\n",
      "234\n",
      "43\n",
      "5\n",
      "14\n",
      "1\n",
      "25\n",
      "11694\n"
     ]
    }
   ],
   "source": [
    "for i in pairs:\n",
    "    print(len(names[i+'_entities']))"
   ]
  },
  {
   "cell_type": "code",
   "execution_count": 11,
   "id": "e537f307-f9ba-4354-90ee-ec745816788f",
   "metadata": {},
   "outputs": [],
   "source": [
    "for j in pairs:\n",
    "    names[j+'_dict']={}\n",
    "    for i in names[j+'_entities']:\n",
    "        names[j+'_dict'][i.get('PMID')]=names[j+'_dict'].get(i.get('PMID'),[])+[i]"
   ]
  },
  {
   "cell_type": "code",
   "execution_count": 12,
   "id": "8487ff40-ed9f-4f77-9f0d-7b982977a4cd",
   "metadata": {},
   "outputs": [],
   "source": [
    "diff_relation_dict={}\n",
    "for j in range(len(pairs)-1):\n",
    "    for i in range(j+1,len(pairs)):\n",
    "        for k in list(set(names[pairs[j]+'_dict'].keys()).intersection(set(names[pairs[i]+'_dict'].keys()))):\n",
    "            for l in names[pairs[j]+'_dict'].get(k):\n",
    "                for m in names[pairs[i]+'_dict'].get(k):\n",
    "                    if l.get('sentence')==m.get('sentence') and l.get('entity')!=m.get('entity'):\n",
    "                        diff_relation_dict[l.get('sentence')]=diff_relation_dict.get(l.get('sentence'),[])+[{'PMID':l.get('PMID'),\n",
    "                                                                                                  'entity1':l.get('entity'),\n",
    "                                                                                                   'entity2':m.get('entity'),\n",
    "                                                                                                   'sentence':l.get('sentence'),\n",
    "                                                                                                   'AB':l.get('AB'),\n",
    "                                                                                                   'target1':l.get('target'),\n",
    "                                                                                                    'target1_type':l.get('type'),\n",
    "                                                                                                   'target2':m.get('target'),\n",
    "                                                                                                    'target2_type':m.get('type'),\n",
    "                                                                                                   'PMID':l.get('PMID'),\n",
    "                                                                                                  }]"
   ]
  },
  {
   "cell_type": "code",
   "execution_count": 13,
   "id": "f9b257bb-dad1-4ebf-8d29-d16147177c3c",
   "metadata": {},
   "outputs": [],
   "source": [
    "same_relation_dict={}\n",
    "for j in range(len(pairs)):\n",
    "    for k in names[pairs[j]+'_dict'].values():\n",
    "        for l in range(len(k)-1):\n",
    "            for m in range(l+1,len(k)):\n",
    "                if k[l].get('sentence')==k[m].get('sentence'):\n",
    "                    if k[l].get('entity')!=k[m].get('entity'):\n",
    "                        same_relation_dict[k[l].get('sentence')]=same_relation_dict.get(k[l].get('sentence'),[])+[{'PMID':k[l].get('PMID'),\n",
    "                                                                                                  'entity1':k[l].get('entity'),\n",
    "                                                                                                   'entity2':k[m].get('entity'),\n",
    "                                                                                                   'sentence':k[l].get('sentence'),\n",
    "                                                                                                   'AB':k[l].get('AB'),\n",
    "                                                                                                   'target1':k[l].get('target'),\n",
    "                                                                                                    'target1_type':k[l].get('type'),\n",
    "                                                                                                   'target2':k[m].get('target'),\n",
    "                                                                                                    'target2_type':k[l].get('type'),\n",
    "                                                                                                   'PMID':k[l].get('PMID'),\n",
    "                                                                                                  }]"
   ]
  },
  {
   "cell_type": "code",
   "execution_count": 14,
   "id": "f41b4a54-9a74-4461-9a95-e1348235d4ab",
   "metadata": {},
   "outputs": [
    {
     "name": "stdout",
     "output_type": "stream",
     "text": [
      "2261\n",
      "471\n",
      "170\n"
     ]
    }
   ],
   "source": [
    "print(len(same_relation_dict))\n",
    "print(len(diff_relation_dict))\n",
    "print(len(list(set(list(same_relation_dict.keys())).intersection(set(list(diff_relation_dict.keys()))))))"
   ]
  },
  {
   "cell_type": "code",
   "execution_count": 15,
   "id": "dbd3342e-e8f9-4a32-8137-88a565984cb7",
   "metadata": {},
   "outputs": [],
   "source": [
    "relation_dict={}\n",
    "for i in same_relation_dict.keys():\n",
    "    if diff_relation_dict.get(i):\n",
    "        relation_dict[i]=same_relation_dict.get(i)+diff_relation_dict.get(i)"
   ]
  },
  {
   "cell_type": "code",
   "execution_count": 16,
   "id": "86c1cadd-1677-4c93-9010-9db21b0c966c",
   "metadata": {},
   "outputs": [
    {
     "name": "stdout",
     "output_type": "stream",
     "text": [
      "2261\n",
      "2562\n"
     ]
    }
   ],
   "source": [
    "for i in same_relation_dict.keys():\n",
    "    if not relation_dict.get(i):\n",
    "        relation_dict[i]=same_relation_dict.get(i)\n",
    "print(len(relation_dict))\n",
    "for i in diff_relation_dict.keys():\n",
    "    if not relation_dict.get(i):\n",
    "        relation_dict[i]=diff_relation_dict.get(i)\n",
    "print(len(relation_dict))"
   ]
  },
  {
   "cell_type": "code",
   "execution_count": 17,
   "id": "62c04584-5af6-4c86-b707-092071032539",
   "metadata": {},
   "outputs": [
    {
     "data": {
      "text/plain": [
       "('Here, we investigated the link between the CFH Y402H genotype and low-grade inflammation.',\n",
       " [{'PMID': '37940659',\n",
       "   'entity1': 'rs10801555',\n",
       "   'entity2': 'Inflammation',\n",
       "   'sentence': 'Here, we investigated the link between the CFH Y402H genotype and low-grade inflammation.',\n",
       "   'AB': 'Age-related macular degeneration (AMD) is a common cause of visual loss among the elderly. Genetic variants in the gene encoding complement factor H (CFH) have been identified as an AMD susceptibility gene, however, the mechanistic link is debated. Here, we investigated the link between the CFH Y402H genotype and low-grade inflammation. We recruited 153 healthy individuals, 84 participants with dry stages of AMD, and 148 participants with neovascular AMD. All participants were subjected to detailed retinal examination, and interview regarding comorbidities and lifestyle. Blood samples were analyzed for level of C-Reactive Protein (CRP), white blood cell differential count, and stained with fluorescent antibodies to differentiate CD4+ and CD8+ T cells. CFH Y402H genotyping was performed using an allele-specific polymerase chain reaction genotyping assay. Splenocytes from young and aged wild type and Cfh null mutant C57BL/6J mice were examined for CD4+ and CD8+ T cells. Healthy individuals with the CFH Y402H at-risk polymorphism HH had higher levels of CRP and lower proportions of CD4+ T cells compared to persons with the YH or YY polymorphism (P = 0.037, Chi-square). Healthy individuals with the HH polymorphism displayed lower proportions of CD4+ T cells with ageing (P < 0.01, one-way ANOVA), whereas both young and aged Cfh null mutant mice displayed lower proportions of CD4+ T cells (P < 0.001 and P < 0.05; unpaired t test). Participants with dry AMD and the HH polymorphism had similarly lower proportions of CD4+ T cells (P = 0.024, one-way ANOVA), but no difference in CRP-levels. In the neovascular stage of AMD, there was no difference in proportion of CD4+ cells or CRP levels according to genotype. The risk-associated CFH genotype is associated with an age-related decrease in proportion of CD4+ T cells and increased levels of CRP in healthy individuals. This indicates that decreased complement regulation results in extensive changes in innate and adaptive immune compartments that precede development of AMD.',\n",
       "   'target1': 'Y402H',\n",
       "   'target1_type': 'Mutation',\n",
       "   'target2': 'inflammation',\n",
       "   'target2_type': 'Disease'}])"
      ]
     },
     "execution_count": 17,
     "metadata": {},
     "output_type": "execute_result"
    }
   ],
   "source": [
    "list(relation_dict.items())[-1]"
   ]
  },
  {
   "cell_type": "code",
   "execution_count": 18,
   "id": "68994520-d80a-4000-873d-ab879484ea76",
   "metadata": {},
   "outputs": [],
   "source": [
    "relation_list=[]\n",
    "for i in relation_dict.values():\n",
    "    for j in i:\n",
    "        relation_list.append(j)"
   ]
  },
  {
   "cell_type": "code",
   "execution_count": 19,
   "id": "c3ebe28a-9e1f-443f-bec7-5149adf2c50a",
   "metadata": {},
   "outputs": [],
   "source": [
    "colons=[]\n",
    "not_colons=[]\n",
    "for i in relation_list:\n",
    "    if not re.search(':',i.get('sentence')[:50],flags=re.M|re.I):\n",
    "        if re.search('\\snot\\s',i.get('sentence'),flags=re.M|re.I):\n",
    "            not_colons.append(i)"
   ]
  },
  {
   "cell_type": "code",
   "execution_count": 20,
   "id": "69908912-5404-459f-bb78-57a7835eaabc",
   "metadata": {},
   "outputs": [
    {
     "data": {
      "text/plain": [
       "316"
      ]
     },
     "execution_count": 20,
     "metadata": {},
     "output_type": "execute_result"
    }
   ],
   "source": [
    "len(not_colons)"
   ]
  },
  {
   "cell_type": "code",
   "execution_count": 21,
   "id": "25e2db2b-2fc9-4677-b462-018e56f72083",
   "metadata": {},
   "outputs": [
    {
     "data": {
      "text/plain": [
       "6584"
      ]
     },
     "execution_count": 21,
     "metadata": {},
     "output_type": "execute_result"
    }
   ],
   "source": [
    "len(relation_list)"
   ]
  },
  {
   "cell_type": "code",
   "execution_count": 22,
   "id": "5bc6696d-f155-43c3-a39a-a311704e5cad",
   "metadata": {},
   "outputs": [
    {
     "data": {
      "text/plain": [
       "{'PMID': '37884637',\n",
       " 'entity1': 'Calcifediol',\n",
       " 'entity2': 'Immunologic Deficiency Syndromes',\n",
       " 'sentence': 'The Average Marginal Effects of the social determinants of Serum 25-hydroxyvitamin D concentrations deficiency in older adults were predicted using a probit model in which the outcome variable assumed two values (deficiency or not deficiency), taking as independent variables those reported in previous studies.',\n",
       " 'AB': \"Serum 25-hydroxyvitamin D concentrations deficiency is a growing health problem that affects a significant part of the world's population, with particularly negative consequences in children and older adults. Public health has prioritized healthy aging; thus, an investigation of the social determinants related to deficient and insufficient Serum 25-hydroxyvitamin D concentrations in older adults is needed to contribute to the implementation of comprehensive social programs focused on addressing those conditions adversely affecting the health of this group. This study was conducted using a sample of older adults (age >= 65 years, n = 1283) from the National Health Survey (NHS 2016-2017). The Average Marginal Effects of the social determinants of Serum 25-hydroxyvitamin D concentrations deficiency in older adults were predicted using a probit model in which the outcome variable assumed two values (deficiency or not deficiency), taking as independent variables those reported in previous studies. The model showed an adequate goodness of fit, Count R2 = 0.65, and the independent variables explained between 11% (Cox-Snell) and 14% (Nagelkerke) of the variance of the outcome variable. The social determinants associated with a greater likelihood of Serum 25-hydroxyvitamin D concentrations deficiency are the following conditions: women, people of native origin, urban dwellers, shorter sunlight exposure, and greater geographical latitude. Implications are discussed, and limitations are considered. Promotion and prevention programs should preferentially target older adults in the southernmost regions who live in urban areas, with a special focus on women. Due to the country's characteristics (17 -57  south latitude), it is necessary to review in future research the three zones shown in this study as relevant social determinants for the older adults living in them to generate inputs in formulating public health policies. The authorities must define the cut-off points for considering the difference between the country's ranges of Serum 25-hydroxyvitamin D concentrations insufficiency and deficiency.\",\n",
       " 'target1': '25-hydroxyvitamin D',\n",
       " 'target1_type': 'Lipid',\n",
       " 'target2': 'deficiency or not deficiency',\n",
       " 'target2_type': 'Disease'}"
      ]
     },
     "execution_count": 22,
     "metadata": {},
     "output_type": "execute_result"
    }
   ],
   "source": [
    "not_colons[-1]"
   ]
  },
  {
   "cell_type": "code",
   "execution_count": 23,
   "id": "ab9428a0-868f-496a-b202-a55df6944f8d",
   "metadata": {},
   "outputs": [],
   "source": [
    "colons=[]\n",
    "triplelist_filtered=[]\n",
    "for i in relation_list:\n",
    "    if re.search(':',i.get('sentence')[:50],flags=re.M|re.I):\n",
    "        colons.append(copy.deepcopy(i))\n",
    "    else:\n",
    "        triplelist_filtered.append(copy.deepcopy(i))"
   ]
  },
  {
   "cell_type": "code",
   "execution_count": 24,
   "id": "6e09c6f8-af66-41d9-8747-fff95e1da4d7",
   "metadata": {},
   "outputs": [
    {
     "name": "stdout",
     "output_type": "stream",
     "text": [
      "6584\n",
      "1402\n",
      "5182\n"
     ]
    }
   ],
   "source": [
    "print(len(relation_list))\n",
    "print(len(colons))\n",
    "print(len(triplelist_filtered))"
   ]
  },
  {
   "cell_type": "code",
   "execution_count": 25,
   "id": "443e1784-b57a-4447-a7c4-2c07a5ff78f2",
   "metadata": {},
   "outputs": [
    {
     "data": {
      "text/plain": [
       "{'PMID': '37814955',\n",
       " 'entity1': 'CD93',\n",
       " 'entity2': 'GP1BB',\n",
       " 'sentence': 'RESULTS: Of the 28 proteins identified as BEC-enriched, 4 were significantly associated with white matter lesion volumes (CDH5 [cadherin 5], CD93 [cluster of differentiation 93], ICAM2 [intracellular adhesion molecule 2], GP1BB [glycoprotein 1b platelet subunit beta]), while another approached significance (RSPO3 [R-Spondin 3]).',\n",
       " 'AB': 'BACKGROUND: Proteins expressed by brain endothelial cells (BECs), the primary cell type of the blood-brain barrier, may serve as sensitive plasma biomarkers for neurological and neurovascular conditions, including cerebral small vessel disease. METHODS: Using data from the BLSA (Baltimore Longitudinal Study of Aging; n=886; 2009-2020), BEC-enriched proteins were identified among 7268 plasma proteins (measured with SomaScanv4.1) using an automated annotation algorithm that filtered endothelial cell transcripts followed by cross-referencing with BEC-specific transcripts reported in single-cell RNA-sequencing studies. To identify BEC-enriched proteins in plasma most relevant to the maintenance of neurological and neurovascular health, we selected proteins significantly associated with 3T magnetic resonance imaging-defined white matter lesion volumes. We then examined how these candidate BEC biomarkers related to white matter lesion volumes, cerebral microhemorrhages, and lacunar infarcts in the ARIC study (Atherosclerosis Risk in Communities; US multisite; 1990-2017). Finally, we determined whether these candidate BEC biomarkers, when measured during midlife, were related to dementia risk over a 25-year follow-up period. RESULTS: Of the 28 proteins identified as BEC-enriched, 4 were significantly associated with white matter lesion volumes (CDH5 [cadherin 5], CD93 [cluster of differentiation 93], ICAM2 [intracellular adhesion molecule 2], GP1BB [glycoprotein 1b platelet subunit beta]), while another approached significance (RSPO3 [R-Spondin 3]). A composite score based on 3 of these BEC proteins accounted for 11% of variation in white matter lesion volumes in BLSA participants. We replicated the associations between the BEC composite score, CDH5, and RSPO3 with white matter lesion volumes in ARIC, and further demonstrated that the BEC composite score and RSPO3 were associated with the presence of >=1 cerebral microhemorrhages. We also showed that the BEC composite score, CDH5, and RSPO3 were associated with 25-year dementia risk. CONCLUSIONS: In addition to identifying BEC proteins in plasma that relate to cerebral small vessel disease and dementia risk, we developed a composite score of plasma BEC proteins that may be used to estimate blood-brain barrier integrity and risk for adverse neurovascular outcomes.',\n",
       " 'target1': 'CD93',\n",
       " 'target1_type': 'Gene',\n",
       " 'target2': 'GP1BB',\n",
       " 'target2_type': 'Gene'}"
      ]
     },
     "execution_count": 25,
     "metadata": {},
     "output_type": "execute_result"
    }
   ],
   "source": [
    "colons[0]"
   ]
  },
  {
   "cell_type": "code",
   "execution_count": 26,
   "id": "95315b2b-d232-4730-bb36-075e8b7479e7",
   "metadata": {},
   "outputs": [],
   "source": [
    "sentences_with_colons=[]\n",
    "sentences_with_colons_set=set()\n",
    "sentences_without_colons=[]\n",
    "sentences_with_colons_dict={}\n",
    "sentences_without_colons_dict={}\n",
    "for i in colons:\n",
    "    sentences_with_colons_dict[i.get('sentence')]=sentences_with_colons_dict.get(i.get('sentence'),[])+[copy.deepcopy(i)]\n",
    "    if not re.search(r'(result(s)?: )|(objective(s)?: )|(method(s)?: )|(background(s)?: )|(purpose(s)?: )|(conclusion(s)?: )|(introduction(s)?: )|(participants(s)?: )|(aim(s)?: )|(importance(s)?: )|(discussion(s)?: )|(abstract(s)?: )|(recent finding(s)?: )|([A-Z]+: )|([A-Z]+\\(S\\): )|(([A-Z]+\\s(&\\s)?)*[A-Z]+: )|(([A-Z]+\\/)*[A-Z]+: )',i.get('sentence')[:50],flags=re.M|re.I):\n",
    "        sentences_with_colons.append(i.get('sentence'))\n",
    "        sentences_with_colons_set.add(i.get('sentence'))\n",
    "    else:\n",
    "        sentences_without_colons.append(re.sub(r'.*(result(s)?: )|(objective(s)?: )|(method(s)?: )|(background(s)?: )|(purpose(s)?: )|(conclusion(s)?: )|(introduction(s)?: )|(participants(s)?: )|(aim(s)?: )|(importance(s)?: )|(discussion(s)?: )|(abstract(s)?: )|(recent finding(s)?: )|([A-Z]+: )|([A-Z]+\\(S\\): )|(([A-Z]+\\s(&\\s)?)*[A-Z]+: )|(([A-Z]+\\/)*[A-Z]+: )','',copy.deepcopy(i).get('sentence'),flags=re.M|re.I))"
   ]
  },
  {
   "cell_type": "code",
   "execution_count": 27,
   "id": "3867191a-cf00-4e27-ac2f-357fb0df553c",
   "metadata": {},
   "outputs": [
    {
     "data": {
      "text/plain": [
       "1388"
      ]
     },
     "execution_count": 27,
     "metadata": {},
     "output_type": "execute_result"
    }
   ],
   "source": [
    "len(sentences_without_colons)"
   ]
  },
  {
   "cell_type": "code",
   "execution_count": 28,
   "id": "76be6142-4cb2-489e-8a2a-fbfc31dd2373",
   "metadata": {},
   "outputs": [
    {
     "data": {
      "text/plain": [
       "14"
      ]
     },
     "execution_count": 28,
     "metadata": {},
     "output_type": "execute_result"
    }
   ],
   "source": [
    "len(sentences_with_colons)"
   ]
  },
  {
   "cell_type": "markdown",
   "id": "1966aae5-8cbd-48a1-999f-0ac29b839b93",
   "metadata": {},
   "source": [
    "## List sentences_with_colons_set and define sentences_with_colons_filtered with normalized sentences!!!"
   ]
  },
  {
   "cell_type": "code",
   "execution_count": 29,
   "id": "6eb4483e-f2a5-4a58-a6f4-13ecebb5d38c",
   "metadata": {},
   "outputs": [],
   "source": [
    "# Need to redefine!!!\n",
    "sentences_with_colons_filtered=[]"
   ]
  },
  {
   "cell_type": "code",
   "execution_count": 30,
   "id": "f5077f2a-7c7f-4ad0-8ffa-1fb91d4844ee",
   "metadata": {},
   "outputs": [],
   "source": [
    "sentences_with_colons_filtered=sentences_with_colons_filtered+sentences_without_colons"
   ]
  },
  {
   "cell_type": "code",
   "execution_count": 31,
   "id": "cb163457-c340-4922-a2e7-adf8e7f2ed19",
   "metadata": {},
   "outputs": [
    {
     "data": {
      "text/plain": [
       "1388"
      ]
     },
     "execution_count": 31,
     "metadata": {},
     "output_type": "execute_result"
    }
   ],
   "source": [
    "len(sentences_with_colons_filtered)"
   ]
  },
  {
   "cell_type": "code",
   "execution_count": 32,
   "id": "57ddc73f-bfa0-4424-83c4-97d642dce039",
   "metadata": {},
   "outputs": [],
   "source": [
    "sentence_colons={}\n",
    "for i in sentences_with_colons_filtered:\n",
    "    for j,k in sentences_with_colons_dict.items():\n",
    "        if i[-30:-1]==j[-30:-1]:\n",
    "            for l in k:\n",
    "                l.update({'sentence_transformed':i})\n",
    "            sentence_colons[i]=k"
   ]
  },
  {
   "cell_type": "code",
   "execution_count": 33,
   "id": "21a2e29b-8c63-4a12-9db0-784d916ca4e1",
   "metadata": {},
   "outputs": [
    {
     "data": {
      "text/plain": [
       "592"
      ]
     },
     "execution_count": 33,
     "metadata": {},
     "output_type": "execute_result"
    }
   ],
   "source": [
    "len(sentence_colons)"
   ]
  },
  {
   "cell_type": "code",
   "execution_count": 34,
   "id": "14fc3fe9-a9c9-44c0-840d-c206bca78f66",
   "metadata": {},
   "outputs": [
    {
     "data": {
      "text/plain": [
       "602"
      ]
     },
     "execution_count": 34,
     "metadata": {},
     "output_type": "execute_result"
    }
   ],
   "source": [
    "len(sentences_with_colons_dict)"
   ]
  },
  {
   "cell_type": "code",
   "execution_count": 35,
   "id": "7095db3f-6f88-4615-9551-d554204b5e11",
   "metadata": {},
   "outputs": [
    {
     "data": {
      "text/plain": [
       "{'PMID': '37940659',\n",
       " 'entity1': 'CRP',\n",
       " 'entity2': 'CD4',\n",
       " 'sentence': 'In the neovascular stage of AMD, there was no difference in proportion of CD4+ cells or CRP levels according to genotype.',\n",
       " 'AB': 'Age-related macular degeneration (AMD) is a common cause of visual loss among the elderly. Genetic variants in the gene encoding complement factor H (CFH) have been identified as an AMD susceptibility gene, however, the mechanistic link is debated. Here, we investigated the link between the CFH Y402H genotype and low-grade inflammation. We recruited 153 healthy individuals, 84 participants with dry stages of AMD, and 148 participants with neovascular AMD. All participants were subjected to detailed retinal examination, and interview regarding comorbidities and lifestyle. Blood samples were analyzed for level of C-Reactive Protein (CRP), white blood cell differential count, and stained with fluorescent antibodies to differentiate CD4+ and CD8+ T cells. CFH Y402H genotyping was performed using an allele-specific polymerase chain reaction genotyping assay. Splenocytes from young and aged wild type and Cfh null mutant C57BL/6J mice were examined for CD4+ and CD8+ T cells. Healthy individuals with the CFH Y402H at-risk polymorphism HH had higher levels of CRP and lower proportions of CD4+ T cells compared to persons with the YH or YY polymorphism (P = 0.037, Chi-square). Healthy individuals with the HH polymorphism displayed lower proportions of CD4+ T cells with ageing (P < 0.01, one-way ANOVA), whereas both young and aged Cfh null mutant mice displayed lower proportions of CD4+ T cells (P < 0.001 and P < 0.05; unpaired t test). Participants with dry AMD and the HH polymorphism had similarly lower proportions of CD4+ T cells (P = 0.024, one-way ANOVA), but no difference in CRP-levels. In the neovascular stage of AMD, there was no difference in proportion of CD4+ cells or CRP levels according to genotype. The risk-associated CFH genotype is associated with an age-related decrease in proportion of CD4+ T cells and increased levels of CRP in healthy individuals. This indicates that decreased complement regulation results in extensive changes in innate and adaptive immune compartments that precede development of AMD.',\n",
       " 'target1': 'CRP',\n",
       " 'target1_type': 'Gene',\n",
       " 'target2': 'CD4',\n",
       " 'target2_type': 'Gene'}"
      ]
     },
     "execution_count": 35,
     "metadata": {},
     "output_type": "execute_result"
    }
   ],
   "source": [
    "triplelist_filtered[0]"
   ]
  },
  {
   "cell_type": "code",
   "execution_count": 36,
   "id": "9248bd63-fe10-49ec-bba3-525aa680fb57",
   "metadata": {},
   "outputs": [],
   "source": [
    "all_relations=copy.deepcopy(sentence_colons)\n",
    "for i in triplelist_filtered:\n",
    "    i.update({'sentence_transformed':i.get('sentence')})\n",
    "    all_relations[i.get('sentence')]=all_relations.get(i.get('sentence'),[])+[i]"
   ]
  },
  {
   "cell_type": "code",
   "execution_count": 37,
   "id": "bda201a3-0a4b-4516-aebb-db75d0e12bde",
   "metadata": {},
   "outputs": [
    {
     "data": {
      "text/plain": [
       "2552"
      ]
     },
     "execution_count": 37,
     "metadata": {},
     "output_type": "execute_result"
    }
   ],
   "source": [
    "len(all_relations)"
   ]
  },
  {
   "cell_type": "code",
   "execution_count": 38,
   "id": "f9afba13-a0e6-4915-a38d-ad5189c50ec3",
   "metadata": {},
   "outputs": [],
   "source": [
    "all_relations_list=list(all_relations.keys())"
   ]
  },
  {
   "cell_type": "markdown",
   "id": "1aefac80-674e-4710-a1f0-c166dff13497",
   "metadata": {
    "tags": []
   },
   "source": [
    "# Deal with all"
   ]
  },
  {
   "cell_type": "markdown",
   "id": "891151e7-5a86-4f61-822e-d82a9b17c1b6",
   "metadata": {},
   "source": [
    "## Prepare for OpenIE"
   ]
  },
  {
   "cell_type": "code",
   "execution_count": 39,
   "id": "d978f506-3df0-40b2-abd9-e1a1a5d2e473",
   "metadata": {},
   "outputs": [],
   "source": [
    "os.makedirs('results/step3/openie/filelist/')"
   ]
  },
  {
   "cell_type": "code",
   "execution_count": 40,
   "id": "421b341c-7609-4852-b2a5-7d515c731533",
   "metadata": {},
   "outputs": [],
   "source": [
    "ind=1\n",
    "for i in all_relations_list:\n",
    "    f=open('results/step3/openie/filelist/sentence'+str(ind)+'.txt','w')\n",
    "    f.write(i)\n",
    "    f.close()\n",
    "    ind+=1"
   ]
  },
  {
   "cell_type": "code",
   "execution_count": 45,
   "id": "c02d0b5d-f234-4ad9-8ebd-fe24778f31fc",
   "metadata": {},
   "outputs": [],
   "source": [
    "f=open('results/step3/openie/filelist.txt','a')\n",
    "for i in range(1,len(all_relations_list)+1):\n",
    "    f.write('results/step3/openie/filelist/sentence'+str(i)+'.txt'+'\\n')\n",
    "f.close()"
   ]
  },
  {
   "cell_type": "code",
   "execution_count": 46,
   "id": "e3c35f9e-58b1-4dd8-8438-6af77e06b21f",
   "metadata": {},
   "outputs": [],
   "source": [
    "%%capture\n",
    "!java -mx500g -cp ../stanza_corenlp/stanford-corenlp-4.3.2.jar:../stanza_corenlp/stanford-corenlp-4.3.2-models.jar:../stanza_corenlp/CoreNLP-to-HTML.xsl:../slf4j-api.jar:../stanza_corenlp/slf4j-simple.jar edu.stanford.nlp.naturalli.OpenIE -format reverb -filelist results/step3/openie/filelist.txt -output results/step3/openie/openie.txt"
   ]
  },
  {
   "cell_type": "code",
   "execution_count": 47,
   "id": "1e9d7cec-54e3-4cb9-a695-a0d209a3b1ca",
   "metadata": {},
   "outputs": [
    {
     "data": {
      "text/plain": [
       "2552"
      ]
     },
     "execution_count": 47,
     "metadata": {},
     "output_type": "execute_result"
    }
   ],
   "source": [
    "len(all_relations_list)"
   ]
  },
  {
   "cell_type": "markdown",
   "id": "e631edb3-8959-488b-b73a-f00622293c02",
   "metadata": {},
   "source": [
    "## Prepare for Stanza"
   ]
  },
  {
   "cell_type": "code",
   "execution_count": 48,
   "id": "a4c6ac31-8332-4fc3-9adc-aa5e1223081a",
   "metadata": {},
   "outputs": [],
   "source": [
    "os.makedirs('results/step3/openie/files/')\n",
    "k=1\n",
    "for i in range(0,len(all_relations_list),len(all_relations_list)//4):\n",
    "    pickle.dump(all_relations_list[i:i+len(all_relations_list)//4],open('results/step3/openie/files/openie'+str(k)+'.pkl','wb'))\n",
    "    k+=1"
   ]
  },
  {
   "cell_type": "code",
   "execution_count": 49,
   "id": "ea6546e5-bd11-428b-9ddf-5a100099b478",
   "metadata": {
    "tags": []
   },
   "outputs": [],
   "source": [
    "os.makedirs('results/step3/rules/files')\n",
    "k=1\n",
    "for i in range(0,len(all_relations_list),len(all_relations_list)//4):\n",
    "    f=open('results/step3/rules/files/rules'+str(k)+'.py','w')\n",
    "    f.write('''\n",
    "import stanza\n",
    "import os\n",
    "import datetime\n",
    "import time\n",
    "nlp = stanza.Pipeline('en', package='genia',download_method=None)\n",
    "import pickle\n",
    "raw=pickle.load(open('../../openie/files/openie'''+str(k)+'''.pkl','rb'))\n",
    "import re \n",
    "\n",
    "def nlpSentence(i,sentence2words,sentence2relations,sentence2verblist,sentence2verbtype,sentence2adv):\n",
    "    sentence=i\n",
    "    doc=nlp(sentence)\n",
    "    words=[]\n",
    "    for sent in doc.sentences:\n",
    "        for word in sent.words:\n",
    "            words.append(word.text)\n",
    "    relations=[]\n",
    "    verblist=[]\n",
    "    verbprototype=[]\n",
    "    adv=[]\n",
    "    for sent in doc.sentences:\n",
    "        for word in sent.words:\n",
    "            relations.append([word.text,words[int(word.head)-1],int(word.id),int(word.head),word.deprel,word.xpos])\n",
    "            if word.xpos in ['VB','VBD','VBG','VBN', 'VBP', 'VBZ']:\n",
    "                verblist.append({word.text:word.xpos})\n",
    "                verbprototype.append({word.text:word.lemma})\n",
    "            if word.xpos in ['RB','RBR','RBS']:\n",
    "                adv.append({word.text:word.xpos})\n",
    "    sentence2words[i]=words\n",
    "    sentence2relations[i]=relations\n",
    "    sentence2verblist[i]=verblist\n",
    "    sentence2verbprototype[i]=verbprototype\n",
    "    sentence2adv[i]=adv\n",
    "\n",
    "\n",
    "start=datetime.datetime.now()\n",
    "print('Parent process %s.' % os.getpid())\n",
    "sentence2words={}\n",
    "sentence2relations={}\n",
    "sentence2verblist={}\n",
    "sentence2verbprototype={}\n",
    "sentence2adv={}\n",
    "for i in raw:\n",
    "    nlpSentence(i,sentence2words,sentence2relations,sentence2verblist,sentence2verbprototype,sentence2adv)\n",
    "pickle.dump(sentence2words,open('sentence2words'''+str(k)+'''.pkl','wb'))\n",
    "pickle.dump(sentence2relations,open('sentence2relations'''+str(k)+'''.pkl','wb'))\n",
    "pickle.dump(sentence2verblist,open('sentence2verblist'''+str(k)+'''.pkl','wb'))\n",
    "pickle.dump(sentence2verbprototype,open('sentence2verbprototype'''+str(k)+'''.pkl','wb'))\n",
    "pickle.dump(sentence2adv,open('sentence2adv'''+str(k)+'''.pkl','wb'))\n",
    "print('Waiting for all subprocesses done...')\n",
    "\n",
    "end=datetime.datetime.now()\n",
    "print(\"The running time is \"+str((end-start).seconds)+\"s\")  \n",
    "    ''')\n",
    "    f.close()\n",
    "    k+=1"
   ]
  },
  {
   "cell_type": "code",
   "execution_count": 50,
   "id": "37daf79c-88db-455b-9654-a6ee59d0648a",
   "metadata": {},
   "outputs": [],
   "source": [
    "import pickle\n",
    "raw=pickle.load(open('results/step3/openie/files/openie'+str(1)+'.pkl','rb'))"
   ]
  },
  {
   "cell_type": "markdown",
   "id": "b11ca47e-ecbc-42fc-976b-5343c247632b",
   "metadata": {},
   "source": [
    "### Run in shell "
   ]
  },
  {
   "cell_type": "code",
   "execution_count": 111,
   "id": "dca73b9f-f6ec-407d-85fb-c6f8e75efedf",
   "metadata": {},
   "outputs": [],
   "source": [
    "# cd results/step3/rules/files\n",
    "# for i in {1..5}; do echo \"nohup python rules${i}.py >> rules.log &\" | bash; done\n",
    "# cd ../../../../"
   ]
  },
  {
   "cell_type": "code",
   "execution_count": null,
   "id": "33993830-ebb7-4357-a72a-6aeceb3ffa86",
   "metadata": {},
   "outputs": [],
   "source": []
  },
  {
   "cell_type": "code",
   "execution_count": null,
   "id": "a2291049-c305-48d7-be2f-cef63c4d5aca",
   "metadata": {},
   "outputs": [],
   "source": []
  },
  {
   "cell_type": "markdown",
   "id": "a3ac25c0-7765-4d9b-a3d1-2836e4a3ced6",
   "metadata": {},
   "source": [
    "## Deal with OpenIE"
   ]
  },
  {
   "cell_type": "code",
   "execution_count": 51,
   "id": "76cf62db-8479-4160-b411-e87848487276",
   "metadata": {},
   "outputs": [],
   "source": [
    "openie_table=pd.read_table('results/step3/openie/openie.txt',header=None)"
   ]
  },
  {
   "cell_type": "code",
   "execution_count": 52,
   "id": "49af1be7-c99b-4eaf-a3d6-db8e440d16b8",
   "metadata": {},
   "outputs": [
    {
     "data": {
      "text/html": [
       "<div>\n",
       "<style scoped>\n",
       "    .dataframe tbody tr th:only-of-type {\n",
       "        vertical-align: middle;\n",
       "    }\n",
       "\n",
       "    .dataframe tbody tr th {\n",
       "        vertical-align: top;\n",
       "    }\n",
       "\n",
       "    .dataframe thead th {\n",
       "        text-align: right;\n",
       "    }\n",
       "</style>\n",
       "<table border=\"1\" class=\"dataframe\">\n",
       "  <thead>\n",
       "    <tr style=\"text-align: right;\">\n",
       "      <th></th>\n",
       "      <th>0</th>\n",
       "      <th>1</th>\n",
       "      <th>2</th>\n",
       "      <th>3</th>\n",
       "      <th>4</th>\n",
       "      <th>5</th>\n",
       "      <th>6</th>\n",
       "      <th>7</th>\n",
       "      <th>8</th>\n",
       "      <th>9</th>\n",
       "      <th>10</th>\n",
       "      <th>11</th>\n",
       "      <th>12</th>\n",
       "      <th>13</th>\n",
       "      <th>14</th>\n",
       "      <th>15</th>\n",
       "      <th>16</th>\n",
       "    </tr>\n",
       "  </thead>\n",
       "  <tbody>\n",
       "    <tr>\n",
       "      <th>0</th>\n",
       "      <td>results/step3/openie/filelist/sentence63.txt</td>\n",
       "      <td>0</td>\n",
       "      <td>incidence proportion</td>\n",
       "      <td>is</td>\n",
       "      <td>22.6 %</td>\n",
       "      <td>1</td>\n",
       "      <td>3</td>\n",
       "      <td>10</td>\n",
       "      <td>11</td>\n",
       "      <td>11</td>\n",
       "      <td>13</td>\n",
       "      <td>1.000</td>\n",
       "      <td>The incidence proportion of delirium in older ...</td>\n",
       "      <td>DT NN NN IN NN IN JJR NNS IN NN VBZ CD NN .</td>\n",
       "      <td>incidence proportion</td>\n",
       "      <td>be</td>\n",
       "      <td>22.6 %</td>\n",
       "    </tr>\n",
       "    <tr>\n",
       "      <th>1</th>\n",
       "      <td>results/step3/openie/filelist/sentence63.txt</td>\n",
       "      <td>0</td>\n",
       "      <td>incidence proportion</td>\n",
       "      <td>is in</td>\n",
       "      <td>older inpatients with cancer</td>\n",
       "      <td>1</td>\n",
       "      <td>3</td>\n",
       "      <td>5</td>\n",
       "      <td>6</td>\n",
       "      <td>6</td>\n",
       "      <td>10</td>\n",
       "      <td>1.000</td>\n",
       "      <td>The incidence proportion of delirium in older ...</td>\n",
       "      <td>DT NN NN IN NN IN JJR NNS IN NN VBZ CD NN .</td>\n",
       "      <td>incidence proportion</td>\n",
       "      <td>be in</td>\n",
       "      <td>older inpatient with cancer</td>\n",
       "    </tr>\n",
       "    <tr>\n",
       "      <th>2</th>\n",
       "      <td>results/step3/openie/filelist/sentence63.txt</td>\n",
       "      <td>0</td>\n",
       "      <td>older inpatients</td>\n",
       "      <td>is with</td>\n",
       "      <td>cancer</td>\n",
       "      <td>6</td>\n",
       "      <td>8</td>\n",
       "      <td>8</td>\n",
       "      <td>9</td>\n",
       "      <td>9</td>\n",
       "      <td>10</td>\n",
       "      <td>1.000</td>\n",
       "      <td>The incidence proportion of delirium in older ...</td>\n",
       "      <td>DT NN NN IN NN IN JJR NNS IN NN VBZ CD NN .</td>\n",
       "      <td>older inpatient</td>\n",
       "      <td>be with</td>\n",
       "      <td>cancer</td>\n",
       "    </tr>\n",
       "    <tr>\n",
       "      <th>3</th>\n",
       "      <td>results/step3/openie/filelist/sentence63.txt</td>\n",
       "      <td>0</td>\n",
       "      <td>delirium</td>\n",
       "      <td>proportion of is</td>\n",
       "      <td>22.6 %</td>\n",
       "      <td>4</td>\n",
       "      <td>5</td>\n",
       "      <td>2</td>\n",
       "      <td>11</td>\n",
       "      <td>11</td>\n",
       "      <td>13</td>\n",
       "      <td>1.000</td>\n",
       "      <td>The incidence proportion of delirium in older ...</td>\n",
       "      <td>DT NN NN IN NN IN JJR NNS IN NN VBZ CD NN .</td>\n",
       "      <td>delirium</td>\n",
       "      <td>proportion of be</td>\n",
       "      <td>22.6 %</td>\n",
       "    </tr>\n",
       "    <tr>\n",
       "      <th>4</th>\n",
       "      <td>results/step3/openie/filelist/sentence39.txt</td>\n",
       "      <td>0</td>\n",
       "      <td>NPM1 mutations</td>\n",
       "      <td>were associated with</td>\n",
       "      <td>FLT3 ITD</td>\n",
       "      <td>3</td>\n",
       "      <td>5</td>\n",
       "      <td>5</td>\n",
       "      <td>9</td>\n",
       "      <td>9</td>\n",
       "      <td>12</td>\n",
       "      <td>0.333</td>\n",
       "      <td>Correlation analysis showed NPM1 mutations wer...</td>\n",
       "      <td>NN NN VBD NN NNS VBD RB VBN IN NN HYPH NN CC N...</td>\n",
       "      <td>npm1 mutation</td>\n",
       "      <td>be associate with</td>\n",
       "      <td>flt3 itd</td>\n",
       "    </tr>\n",
       "  </tbody>\n",
       "</table>\n",
       "</div>"
      ],
      "text/plain": [
       "                                             0   1                     2   \\\n",
       "0  results/step3/openie/filelist/sentence63.txt   0  incidence proportion   \n",
       "1  results/step3/openie/filelist/sentence63.txt   0  incidence proportion   \n",
       "2  results/step3/openie/filelist/sentence63.txt   0      older inpatients   \n",
       "3  results/step3/openie/filelist/sentence63.txt   0              delirium   \n",
       "4  results/step3/openie/filelist/sentence39.txt   0        NPM1 mutations   \n",
       "\n",
       "                     3                             4   5   6   7   8   9   10  \\\n",
       "0                    is                        22.6 %   1   3  10  11  11  13   \n",
       "1                 is in  older inpatients with cancer   1   3   5   6   6  10   \n",
       "2               is with                        cancer   6   8   8   9   9  10   \n",
       "3      proportion of is                        22.6 %   4   5   2  11  11  13   \n",
       "4  were associated with                      FLT3 ITD   3   5   5   9   9  12   \n",
       "\n",
       "      11                                                 12  \\\n",
       "0  1.000  The incidence proportion of delirium in older ...   \n",
       "1  1.000  The incidence proportion of delirium in older ...   \n",
       "2  1.000  The incidence proportion of delirium in older ...   \n",
       "3  1.000  The incidence proportion of delirium in older ...   \n",
       "4  0.333  Correlation analysis showed NPM1 mutations wer...   \n",
       "\n",
       "                                                  13                    14  \\\n",
       "0        DT NN NN IN NN IN JJR NNS IN NN VBZ CD NN .  incidence proportion   \n",
       "1        DT NN NN IN NN IN JJR NNS IN NN VBZ CD NN .  incidence proportion   \n",
       "2        DT NN NN IN NN IN JJR NNS IN NN VBZ CD NN .       older inpatient   \n",
       "3        DT NN NN IN NN IN JJR NNS IN NN VBZ CD NN .              delirium   \n",
       "4  NN NN VBD NN NNS VBD RB VBN IN NN HYPH NN CC N...         npm1 mutation   \n",
       "\n",
       "                  15                           16  \n",
       "0                 be                       22.6 %  \n",
       "1              be in  older inpatient with cancer  \n",
       "2            be with                       cancer  \n",
       "3   proportion of be                       22.6 %  \n",
       "4  be associate with                     flt3 itd  "
      ]
     },
     "execution_count": 52,
     "metadata": {},
     "output_type": "execute_result"
    }
   ],
   "source": [
    "openie_table.head(5)"
   ]
  },
  {
   "cell_type": "code",
   "execution_count": 53,
   "id": "4b347098-c54d-48e6-b02b-c4d5d3cb8a83",
   "metadata": {},
   "outputs": [
    {
     "data": {
      "text/plain": [
       "39668"
      ]
     },
     "execution_count": 53,
     "metadata": {},
     "output_type": "execute_result"
    }
   ],
   "source": [
    "len(openie_table)"
   ]
  },
  {
   "cell_type": "code",
   "execution_count": 54,
   "id": "f2820158-7e9d-49af-ab21-b2d4df8ec3f8",
   "metadata": {},
   "outputs": [],
   "source": [
    "df=openie_table.loc[:,[0,2,3,4,12]]"
   ]
  },
  {
   "cell_type": "code",
   "execution_count": 55,
   "id": "276335e9-65dd-4743-97c0-67a619b8228a",
   "metadata": {},
   "outputs": [],
   "source": [
    "be=['be','am','is','are','was','were','have been','has been']\n",
    "bedict={}\n",
    "for i in be:\n",
    "    bedict[i]='be'"
   ]
  },
  {
   "cell_type": "code",
   "execution_count": 58,
   "id": "e23c6dac-5931-4533-b51c-957a3238309b",
   "metadata": {},
   "outputs": [],
   "source": [
    "rules_pairs=['sentence2adv','sentence2relations','sentence2verblist','sentence2verbprototype','sentence2words']\n",
    "for i in rules_pairs:\n",
    "    names[i]={}\n",
    "    for k in ['results/step3/rules/files/'+i+str(j)+'.pkl' for j in range(1,5)]:\n",
    "        names[i].update(pickle.load(open(k,'rb')))"
   ]
  },
  {
   "cell_type": "code",
   "execution_count": 70,
   "id": "7bfa5058-9628-4aae-b6a2-dc47d857932e",
   "metadata": {},
   "outputs": [],
   "source": [
    "finallist=[]\n",
    "for line in range(len(df)):\n",
    "    i=all_relations_list[int(df.iloc[line,0][38:-4])-1]\n",
    "    verblist=sentence2verblist.get(i)\n",
    "    verbrelation=''\n",
    "    real_verb=''\n",
    "    verbdict={}\n",
    "    verbs_split=df.loc[line,3].split(' ')\n",
    "    for verb in verblist:\n",
    "        verbdict.update(verb)\n",
    "    for indexx,one in enumerate(verbs_split):\n",
    "        if verbdict.get(one):\n",
    "            verbrelation=one\n",
    "            relations=sentence2relations.get(i)\n",
    "            relations_display=[relation[-2] for relation in relations]\n",
    "            verbprototype=sentence2verbprototype.get(i)\n",
    "            verbprototype_dict={}\n",
    "            for verbp in verbprototype:\n",
    "                verbprototype_dict.update(verbp)\n",
    "            for index_passive,passive in enumerate(relations_display):\n",
    "                if passive=='aux:pass':\n",
    "                    if relations[index_passive][1]==verbrelation:\n",
    "                        verb_prototype=verbrelation\n",
    "                        break\n",
    "                elif passive=='acl' and relations[index_passive][-1]=='VBN':\n",
    "                    if relations[index_passive][0]==verbrelation:\n",
    "                        verb_prototype=verbrelation\n",
    "                        break\n",
    "            else:\n",
    "                for v in verbprototype:\n",
    "                    if v.get(verbrelation):\n",
    "                        verb_prototype=v.get(verbrelation)\n",
    "                        break\n",
    "            verbs_split[indexx]=verb_prototype\n",
    "        elif bedict.get(one):\n",
    "            verbs_split[indexx]=bedict.get(one)\n",
    "    if bedict.get(' '.join(verbs_split[:2])):\n",
    "        final=' '.join(['be']+verbs_split[2:])\n",
    "    else:\n",
    "        final=' '.join(verbs_split)\n",
    "    finallist.append(final)\n",
    "df[17]=finallist"
   ]
  },
  {
   "cell_type": "code",
   "execution_count": 71,
   "id": "c433c8c1-b775-41cd-a8c1-2aba317de083",
   "metadata": {},
   "outputs": [],
   "source": [
    "ind=1\n",
    "for i in all_relations_list:\n",
    "    names['sentence'+str(ind)]=i\n",
    "    ind+=1"
   ]
  },
  {
   "cell_type": "code",
   "execution_count": 72,
   "id": "0b3394a2-4892-4978-921b-67ab09fa1582",
   "metadata": {},
   "outputs": [
    {
     "data": {
      "text/plain": [
       "2553"
      ]
     },
     "execution_count": 72,
     "metadata": {},
     "output_type": "execute_result"
    }
   ],
   "source": [
    "ind"
   ]
  },
  {
   "cell_type": "code",
   "execution_count": 73,
   "id": "aec5a6a1-bf9d-4211-ac4d-bf0b19d77f47",
   "metadata": {},
   "outputs": [
    {
     "data": {
      "text/plain": [
       "'These results together show that moderate hPS1 expression by AAV9 is sufficient to rescue impaired gamma-secretase activity, synaptic and memory deficits, and neurodegeneration caused by Psen mutations in mouse models.'"
      ]
     },
     "execution_count": 73,
     "metadata": {},
     "output_type": "execute_result"
    }
   ],
   "source": [
    "sentence689"
   ]
  },
  {
   "cell_type": "code",
   "execution_count": 74,
   "id": "ae2c75a4-0d16-4d90-b180-a02d94480f44",
   "metadata": {},
   "outputs": [],
   "source": [
    "relation_dict_copy=copy.deepcopy(all_relations)"
   ]
  },
  {
   "cell_type": "code",
   "execution_count": 75,
   "id": "1517eb57-1a89-4bef-8760-09b55ce16497",
   "metadata": {},
   "outputs": [
    {
     "data": {
      "text/plain": [
       "2552"
      ]
     },
     "execution_count": 75,
     "metadata": {},
     "output_type": "execute_result"
    }
   ],
   "source": [
    "len(relation_dict_copy)"
   ]
  },
  {
   "cell_type": "code",
   "execution_count": 79,
   "id": "28d88d96-02ab-4abd-9f1f-bb49853e90c9",
   "metadata": {},
   "outputs": [
    {
     "data": {
      "text/plain": [
       "30"
      ]
     },
     "execution_count": 79,
     "metadata": {},
     "output_type": "execute_result"
    }
   ],
   "source": [
    "df.iloc[0,0].index('sent')"
   ]
  },
  {
   "cell_type": "code",
   "execution_count": 80,
   "id": "75243b07-fb68-4036-a594-395d2c0e1f64",
   "metadata": {},
   "outputs": [],
   "source": [
    "suc=[]\n",
    "for i in range(1,len(relation_dict_copy)+1):\n",
    "    if relation_dict_copy.get(names[df.iloc[i-1,0][30:-4]]):\n",
    "        openie=[]\n",
    "        for j in relation_dict_copy.get(names[df.iloc[i-1,0][30:-4]]):\n",
    "            j1=j.get('target1').translate(str.maketrans({\"-\":  r\"\\-\",\"\\\\\": r\"\\\\\", \"^\":  r\"\\^\",\"$\":  r\"\\$\",\"*\":  r\"\\*\",\".\":  r\"\\.\",\"(\":  r\"\\(\",\")\":  r\"\\)\",\"+\":  r\"\\+\",\"[\":  r\"\\[\",\"]\":  r\"\\]\",\n",
    "                      \"{\":  r\"\\{\",\"}\":  r\"\\}\",\"|\":  r\"\\|\",\"?\":  r\"\\?\"}))\n",
    "            j2=j.get('target2').translate(str.maketrans({\"-\":  r\"\\-\",\"\\\\\": r\"\\\\\", \"^\":  r\"\\^\",\"$\":  r\"\\$\",\"*\":  r\"\\*\",\".\":  r\"\\.\",\"(\":  r\"\\(\",\")\":  r\"\\)\",\"+\":  r\"\\+\",\"[\":  r\"\\[\",\"]\":  r\"\\]\",\n",
    "                      \"{\":  r\"\\{\",\"}\":  r\"\\}\",\"|\":  r\"\\|\",\"?\":  r\"\\?\"}))\n",
    "            if re.search(j1,df.iloc[i-1,1]) and re.search(j2,df.iloc[i-1,3]):\n",
    "                j['openie']=j.get('openie',[])+[[j.get('target1'),df.iloc[i-1,-1],j.get('target2')]]\n",
    "                openie.append([j.get('target1'),df.iloc[i-1,-1],j.get('target2')])\n",
    "            elif re.search(j2,df.iloc[i-1,1]) and re.search(j1,df.iloc[i-1,3]):\n",
    "                j['openie']=j.get('openie',[])+[[j.get('target2'),df.iloc[i-1,-1],j.get('target1')]]\n",
    "                openie.append([j.get('target2'),df.iloc[i-1,-1],j.get('target1')]) \n",
    "        if not openie:\n",
    "            suc.append(names[df.iloc[i-1,0][30:-4]])    "
   ]
  },
  {
   "cell_type": "code",
   "execution_count": 82,
   "id": "e9faecf2-26bd-41c7-922c-ab30f6efb480",
   "metadata": {},
   "outputs": [],
   "source": [
    "error=[]\n",
    "for i in range(1,len(relation_dict_copy)+1):\n",
    "    if not relation_dict_copy.get(names[df.iloc[i-1,0][30:-4]]):\n",
    "        error.append(names[df.iloc[i-1,0][30:-4]])"
   ]
  },
  {
   "cell_type": "code",
   "execution_count": 83,
   "id": "026e91ca-dd38-4834-af71-a353f49738e0",
   "metadata": {},
   "outputs": [
    {
     "data": {
      "text/plain": [
       "2335"
      ]
     },
     "execution_count": 83,
     "metadata": {},
     "output_type": "execute_result"
    }
   ],
   "source": [
    "len(suc)"
   ]
  },
  {
   "cell_type": "code",
   "execution_count": 84,
   "id": "89fa4c47-025e-4a38-9d9b-921813642bd7",
   "metadata": {},
   "outputs": [
    {
     "data": {
      "text/plain": [
       "2552"
      ]
     },
     "execution_count": 84,
     "metadata": {},
     "output_type": "execute_result"
    }
   ],
   "source": [
    "len(relation_dict_copy)"
   ]
  },
  {
   "cell_type": "code",
   "execution_count": 85,
   "id": "4336860c-8faa-46ba-a965-7e1458b59dbf",
   "metadata": {},
   "outputs": [
    {
     "data": {
      "text/plain": [
       "0"
      ]
     },
     "execution_count": 85,
     "metadata": {},
     "output_type": "execute_result"
    }
   ],
   "source": [
    "len(error)"
   ]
  },
  {
   "cell_type": "code",
   "execution_count": null,
   "id": "50340b7f-88bd-40be-adad-03b973f9e1a1",
   "metadata": {},
   "outputs": [],
   "source": []
  },
  {
   "cell_type": "code",
   "execution_count": null,
   "id": "26ee9114-a823-4df1-b188-58f0a050d931",
   "metadata": {},
   "outputs": [],
   "source": []
  },
  {
   "cell_type": "markdown",
   "id": "f84600cb-aac5-4f8c-b10c-e980d5bca393",
   "metadata": {},
   "source": [
    "## Deal with AllenNLP"
   ]
  },
  {
   "cell_type": "code",
   "execution_count": 86,
   "id": "440aacb0-6152-4027-b099-3dece5eb73d8",
   "metadata": {},
   "outputs": [],
   "source": [
    "sys.path.append(\"..\")\n",
    "PREDICTOR = Predictor.from_path('../openie-model.2020.03.26.tar.gz')"
   ]
  },
  {
   "cell_type": "code",
   "execution_count": 87,
   "id": "271e9675-cdf6-4be5-881f-a56d80936640",
   "metadata": {},
   "outputs": [],
   "source": [
    "def clean(sent):\n",
    "    return re.sub(' +', ' ', sent.replace('\\r', ' ').replace('\\n', ' '))\n",
    "def get_tags_allen(sent):\n",
    "    sent = sent.replace('[', '(').replace(']', ')')\n",
    "    res = PREDICTOR.predict(\n",
    "      sentence=sent\n",
    "    )\n",
    "    return res\n",
    "def parse_allen(ss):\n",
    "    words = ss['words']\n",
    "    res = []\n",
    "    for v in ss['verbs']:\n",
    "        tags = v['tags']\n",
    "        d = {}\n",
    "        for i in range(len(words)):\n",
    "            t = tags[i].replace('I-', '').replace('B-', '')\n",
    "            w = words[i]\n",
    "            if t in d:\n",
    "                d[t] += ' '+ w\n",
    "            else:\n",
    "                d[t] = w\n",
    "        res.append(d)\n",
    "    return res"
   ]
  },
  {
   "cell_type": "code",
   "execution_count": 88,
   "id": "e23ccc86-3ee3-4a16-afd9-0514c0425ec8",
   "metadata": {},
   "outputs": [],
   "source": [
    "sentence2allennlp={}\n",
    "for i in relation_dict_copy.keys():\n",
    "    res=get_tags_allen(i)\n",
    "    ress=parse_allen(res)\n",
    "    sentence2allennlp[i]=ress"
   ]
  },
  {
   "cell_type": "code",
   "execution_count": 89,
   "id": "2175b34e-7f25-483b-9908-95cdbd551342",
   "metadata": {},
   "outputs": [],
   "source": [
    "for i,j in relation_dict_copy.items():\n",
    "    for k in j:\n",
    "        k1=k.get('target1').translate(str.maketrans({\"-\":  r\"\\-\",\"\\\\\": r\"\\\\\", \"^\":  r\"\\^\",\"$\":  r\"\\$\",\"*\":  r\"\\*\",\".\":  r\"\\.\",\"(\":  r\"\\(\",\")\":  r\"\\)\",\"+\":  r\"\\+\",\"[\":  r\"\\[\",\"]\":  r\"\\]\",\n",
    "                  \"{\":  r\"\\{\",\"}\":  r\"\\}\",\"|\":  r\"\\|\",\"?\":  r\"\\?\"}))\n",
    "        k2=k.get('target2').translate(str.maketrans({\"-\":  r\"\\-\",\"\\\\\": r\"\\\\\", \"^\":  r\"\\^\",\"$\":  r\"\\$\",\"*\":  r\"\\*\",\".\":  r\"\\.\",\"(\":  r\"\\(\",\")\":  r\"\\)\",\"+\":  r\"\\+\",\"[\":  r\"\\[\",\"]\":  r\"\\]\",\n",
    "                  \"{\":  r\"\\{\",\"}\":  r\"\\}\",\"|\":  r\"\\|\",\"?\":  r\"\\?\"}))\n",
    "        for l in sentence2allennlp.get(i):\n",
    "            if l.get('ARG1') and l.get('ARG2') and l.get('V'):\n",
    "                if re.search(k1,l.get('ARG1')) and re.search(k2,l.get('ARG2')):\n",
    "                    k['allennlp']=k.get('allennlp',[])+[[k.get('target1'), l.get('V') ,k.get('target2')]]\n",
    "                elif re.search(k2,l.get('ARG1')) and re.search(k1,l.get('ARG2')):\n",
    "                    k['allennlp']=k.get('allennlp',[])+[[k.get('target2'), l.get('V') ,k.get('target1')]]"
   ]
  },
  {
   "cell_type": "code",
   "execution_count": 90,
   "id": "2c72e5b2-6b41-4e2f-a77f-d8f2cc7fb050",
   "metadata": {},
   "outputs": [
    {
     "name": "stdout",
     "output_type": "stream",
     "text": [
      "{'PMID': '37306504', 'entity1': 'Atherosclerosis', 'entity2': 'Cardiovascular Diseases', 'sentence': 'AIMS: Interleukin-6 (IL-6) and interleukin-18 (IL-18), important cytokines implicated in atherosclerosis and inflammaging, were assessed for associations with global cardiovascular disease (CVD), atrial fibrillation (AF), and death in older adults.', 'AB': 'AIMS: Interleukin-6 (IL-6) and interleukin-18 (IL-18), important cytokines implicated in atherosclerosis and inflammaging, were assessed for associations with global cardiovascular disease (CVD), atrial fibrillation (AF), and death in older adults. METHODS: Participants from Atherosclerosis Risk in Communities study visit 5 (mean age 75.4 +- 5.1 years) with IL-6 and IL-18 measurements were included (N = 5672). Cox regression models were used to assess associations of IL-6 and IL-18 with coronary heart disease (CHD), ischemic stroke, heart failure hospitalization (HF), global CVD (composite of CHD, stroke, and HF), AF, and all-cause death. RESULTS: Over a median follow-up of 7.2 years, there were 1235 global CVD events, 530 AF events, and 1173 deaths. Higher IL-6 (hazard ratio [HR] 1.57, 95% confidence interval [CI] 1.44-1.72 per log unit increase) and IL-18 (HR 1.13, 95% CI 1.01-1.26) were significantly associated with global CVD after adjustment for cardiovascular risk factors. Association between IL-6 and global CVD remained significant after further adjustment for high-sensitivity C-reactive protein (hs-CRP), N-terminal B type natriuretic peptide (NT-proBNP), and high-sensitivity troponin T (hs-TnT), but was no longer significant for IL-18 after further adjustments. IL-6 was also associated with increased risk for CHD, HF, and AF after adjustment for covariates. Both IL-6 and IL-18 were associated with increased risk for all-cause death independent of cardiovascular risk factors and other biomarkers. CONCLUSION: Among older adults, both IL-6 and IL-18 were associated with global CVD and death. The association between IL-6 with CVD appears to be more robust and was independent of hs-CRP, NT-proBNP, and hs-TnT.', 'target1': 'atherosclerosis', 'target1_type': 'Disease', 'target2': 'cardiovascular disease', 'target2_type': 'Disease', 'sentence_transformed': 'Interleukin-6 (IL-6) and interleukin-18 (IL-18), important cytokines implicated in atherosclerosis and inflammaging, were assessed for associations with global cardiovascular disease (CVD), atrial fibrillation (AF), and death in older adults.', 'allennlp': [['atherosclerosis', 'assessed', 'cardiovascular disease']]}\n"
     ]
    }
   ],
   "source": [
    "for i,j in relation_dict_copy.items():\n",
    "    for k in j:\n",
    "        if k.get('allennlp'):\n",
    "            print(k)\n",
    "            break\n",
    "    else:\n",
    "        continue\n",
    "    break"
   ]
  },
  {
   "cell_type": "code",
   "execution_count": 91,
   "id": "a70db993-e2b3-4120-9190-5745fbf99501",
   "metadata": {},
   "outputs": [
    {
     "data": {
      "text/plain": [
       "2552"
      ]
     },
     "execution_count": 91,
     "metadata": {},
     "output_type": "execute_result"
    }
   ],
   "source": [
    "len(sentence2adv)"
   ]
  },
  {
   "cell_type": "code",
   "execution_count": 92,
   "id": "dfb7f62f-02bb-4eec-83bd-6f4897089c8b",
   "metadata": {},
   "outputs": [],
   "source": [
    "negativewords=['no','not','never','hardly','barely','scarcely','rarely','few','little','seldom','neither','nor']\n",
    "negativewords_dict={}\n",
    "for i in negativewords:\n",
    "    negativewords_dict[i]=i"
   ]
  },
  {
   "cell_type": "code",
   "execution_count": 93,
   "id": "4accfd64-869b-43c2-b86e-0424190d5ff2",
   "metadata": {},
   "outputs": [
    {
     "name": "stdout",
     "output_type": "stream",
     "text": [
      "Parent process 122772.\n",
      "Waiting for all subprocesses done...\n",
      "All subprocesses done.\n",
      "The running time is 26s\n"
     ]
    }
   ],
   "source": [
    "def work(i,j,triple,abnormal, negative_sentences,networkx_raw):\n",
    "    adv=sentence2adv.get(i)\n",
    "    words=sentence2words.get(i)\n",
    "    sentence=i\n",
    "    relations=sentence2relations.get(i)\n",
    "    relations_display=[relation[-2] for relation in relations]\n",
    "    verblist=sentence2verblist.get(i)\n",
    "    verbprototype=sentence2verbprototype.get(i)\n",
    "    verbprototype_dict={}\n",
    "    for verbp in verbprototype:\n",
    "        verbprototype_dict.update(verbp)\n",
    "    G = nx.Graph()\n",
    "    for word in words:\n",
    "        G.add_node(word)\n",
    "    G.add_node('root')\n",
    "    for r in range(len(relations)):\n",
    "        if relations[r][4]=='root':\n",
    "            G.add_edge(relations[r][0], 'root',labels=relations[r][4])\n",
    "        else:\n",
    "            G.add_edge(relations[r][0], relations[r][1],labels=relations[r][4])\n",
    "    for k in j:\n",
    "        if verblist:\n",
    "            k1=k.get('target1').translate(str.maketrans({\"-\":  r\"\\-\",\"\\\\\": r\"\\\\\", \"^\":  r\"\\^\",\"$\":  r\"\\$\",\"*\":  r\"\\*\",\".\":  r\"\\.\",\"(\":  r\"\\(\",\")\":  r\"\\)\",\"+\":  r\"\\+\",\"[\":  r\"\\[\",\"]\":  r\"\\]\",\n",
    "                                      \"{\":  r\"\\{\",\"}\":  r\"\\}\",\"|\":  r\"\\|\",\"?\":  r\"\\?\"}))\n",
    "            k2=k.get('target2').translate(str.maketrans({\"-\":  r\"\\-\",\"\\\\\": r\"\\\\\", \"^\":  r\"\\^\",\"$\":  r\"\\$\",\"*\":  r\"\\*\",\".\":  r\"\\.\",\"(\":  r\"\\(\",\")\":  r\"\\)\",\"+\":  r\"\\+\",\"[\":  r\"\\[\",\"]\":  r\"\\]\",\n",
    "                                      \"{\":  r\"\\{\",\"}\":  r\"\\}\",\"|\":  r\"\\|\",\"?\":  r\"\\?\"}))\n",
    "            if re.search(k1,sentence) and re.search(k2,sentence):\n",
    "                worddict={}\n",
    "                for word in words:\n",
    "                    worddict[word]=word\n",
    "                if re.search(k1,sentence).span()[0] < re.search(k2,sentence).span()[0]:\n",
    "                    k1_word=k.get('target1')\n",
    "                    k2_word=k.get('target2')\n",
    "                    if not worddict.get(k1_word):\n",
    "                        for word in words:\n",
    "                            if re.search(r'-',word) and re.search(k1,word):\n",
    "                                k1_word=word\n",
    "                    if not worddict.get(k2_word):\n",
    "                        for word in words:\n",
    "                            if re.search(r'-',word) and re.search(k2,word):\n",
    "                                k2_word=word\n",
    "                    try:\n",
    "                        path=nx.shortest_path(G, source=re.split('[ -]',k1_word)[-1], target=re.split('[ -]',k2_word)[-1])\n",
    "                    except:\n",
    "                        abnormal.append(i)\n",
    "                    else:\n",
    "                        verbdict={}\n",
    "                        for verb in verblist:\n",
    "                            verbdict.update(verb)\n",
    "                        verbrelation=''\n",
    "                        for one in path:\n",
    "                            if verbdict.get(one):\n",
    "                                verbrelation=one \n",
    "                        if verbrelation :\n",
    "                            negative=False\n",
    "                            for index_passive,passive in enumerate(relations_display):\n",
    "                                if passive=='aux:pass':\n",
    "                                    if relations[index_passive][1]==verbrelation:\n",
    "                                        verb_prototype=verbrelation\n",
    "                                        break\n",
    "                                elif passive=='acl' and relations[index_passive][-1]=='VBN':\n",
    "                                    if relations[index_passive][0]==verbrelation:\n",
    "                                        verb_prototype=verbrelation\n",
    "                                        break\n",
    "                            else:\n",
    "                                for v in verbprototype:\n",
    "                                    if v.get(verbrelation):\n",
    "                                        verb_prototype=v.get(verbrelation)\n",
    "                                        break\n",
    "                            if verb_prototype:\n",
    "                                for relation in relations:\n",
    "                                    if relation[1]==verbrelation and negativewords_dict.get(relation[0]):\n",
    "                                        negative=True\n",
    "                                if not negative:\n",
    "                                    triple.append({'triple':[k.get('target1'),verb_prototype,k.get('target2')],\\\n",
    "                                                        'PMID':k.get('PMID'), 'sentence':sentence,'AB':k.get('AB'),\n",
    "                                                   'former_target':k.get('target1'),'former_entity':k.get('entity1'),'former_entity_type':k.get('target1_type'),\n",
    "                                                   'verb':verbrelation,'verbprototype':verbprototype_dict.get(verbrelation),'latter_target':k.get('target2'),\n",
    "                                                   'latter_entity':k.get('entity2'),'latter_entity_type':k.get('target2_type')})\n",
    "                                    k['networkx']=[k.get('target1'),verb_prototype,k.get('target2')]\n",
    "                                else:\n",
    "                                    negative_sentences.append(i)\n",
    "                else:\n",
    "                    k1_word=k.get('target1')\n",
    "                    k2_word=k.get('target2')\n",
    "                    if not worddict.get(k1_word):\n",
    "                        for word in words:\n",
    "                            if re.search(r'-',word) and re.search(k1,word):\n",
    "                                k1_word=word\n",
    "                    if not worddict.get(k2_word):\n",
    "                        for word in words:\n",
    "                            if re.search(r'-',word) and re.search(k2,word):\n",
    "                                k2_word=word\n",
    "                    try:\n",
    "                        path=nx.shortest_path(G, source=re.split('[ -]',k2_word)[-1], target=re.split('[ -]',k1_word)[-1])\n",
    "                    except:\n",
    "                        abnormal.append(i)\n",
    "                    else:\n",
    "                        verbdict={}\n",
    "                        for verb in verblist:\n",
    "                            verbdict.update(verb)\n",
    "                        verbrelation=''\n",
    "                        for one in path:\n",
    "                            if verbdict.get(one):\n",
    "                                verbrelation=one\n",
    "                        if verbrelation:\n",
    "                            negative=False\n",
    "                            for index_passive,passive in enumerate(relations_display):\n",
    "                                if passive=='aux:pass':\n",
    "                                    if relations[index_passive][1]==verbrelation:\n",
    "                                        verb_prototype=verbrelation\n",
    "                                        break\n",
    "                                elif passive=='acl' and relations[index_passive][-1]=='VBN':\n",
    "                                    if relations[index_passive][0]==verbrelation:\n",
    "                                        verb_prototype=verbrelation\n",
    "                                        break\n",
    "                            else:\n",
    "                                for v in verbprototype:\n",
    "                                    if v.get(verbrelation):\n",
    "                                        verb_prototype=v.get(verbrelation)\n",
    "                                        break\n",
    "                            if verb_prototype:\n",
    "                                for relation in relations:\n",
    "                                    if relation[1]==verbrelation and negativewords_dict.get(relation[0]):\n",
    "                                        negative=True\n",
    "                                if not negative:\n",
    "                                    triple.append({'triple':[k.get('target2'),verb_prototype,k.get('target1')],\\\n",
    "                                                        'PMID':k.get('PMID'), 'sentence':sentence,'AB':k.get('AB'),\n",
    "                                                   'former_target':k.get('target2'),'former_entity':k.get('entity2'),'former_entity_type':k.get('target2_type'),\n",
    "                                                   'verb':verbrelation,'verbprototype':verbprototype_dict.get(verbrelation),'latter_target':k.get('target1'),\n",
    "                                                   'latter_entity':k.get('entity1'),'latter_entity_type':k.get('target1_type')})\n",
    "                                    k['networkx']=[k.get('target2'),verb_prototype,k.get('target1')]\n",
    "                                else:\n",
    "                                    negative_sentences.append(i)\n",
    "        networkx_raw.append(k)\n",
    "if __name__=='__main__':\n",
    "    start=datetime.datetime.now()\n",
    "    print('Parent process %s.' % os.getpid())\n",
    "    p=Pool(40)\n",
    "    manager=Manager()\n",
    "    triple=manager.list()\n",
    "    abnormal=manager.list()\n",
    "    negative_sentences=manager.list()\n",
    "    networkx_raw=manager.list()\n",
    "    for i,j in relation_dict_copy.items():\n",
    "        p.apply_async(work, args=(i,j,triple,abnormal,negative_sentences,networkx_raw))\n",
    "    print('Waiting for all subprocesses done...')\n",
    "    p.close()\n",
    "    p.join()\n",
    "    print('All subprocesses done.')\n",
    "    end=datetime.datetime.now()\n",
    "    print(\"The running time is \"+str((end-start).seconds)+\"s\")  "
   ]
  },
  {
   "cell_type": "code",
   "execution_count": 94,
   "id": "6e3344e8-91eb-464e-a2ad-57e1ac974ac5",
   "metadata": {},
   "outputs": [],
   "source": [
    "triple_list=list(triple)\n",
    "abnormal_list=list(abnormal)\n",
    "negative_list=list(negative_sentences)\n",
    "networkx_raw_list=list(networkx_raw)\n",
    "networkx_raw_dict={}\n",
    "for i in networkx_raw_list:\n",
    "    networkx_raw_dict[i.get('sentence')]=networkx_raw_dict.get(i.get('sentence'),[])+[i]"
   ]
  },
  {
   "cell_type": "code",
   "execution_count": 95,
   "id": "d5cc028f-1b4a-4bf5-90dd-af404b0b9799",
   "metadata": {},
   "outputs": [],
   "source": [
    "pickle.dump(triple_list,open('results/step3/triple_list.pkl','wb'))"
   ]
  },
  {
   "cell_type": "code",
   "execution_count": 96,
   "id": "de2953f3-bf0d-46a0-80d6-e70cb4ff72af",
   "metadata": {},
   "outputs": [],
   "source": [
    "pickle.dump(abnormal_list,open('results/step3/abnormal_list.pkl','wb'))\n",
    "pickle.dump(negative_list,open('results/step3/negative_list.pkl','wb'))\n",
    "pickle.dump(networkx_raw_list,open('results/step3/networkx_raw_list.pkl','wb'))\n",
    "pickle.dump(networkx_raw_dict,open('results/step3/networkx_raw_dict.pkl','wb'))"
   ]
  },
  {
   "cell_type": "code",
   "execution_count": 97,
   "id": "0b52906b-0e18-4a24-a1cb-51fa734d495e",
   "metadata": {},
   "outputs": [],
   "source": [
    "raw_pick_pubtator=pickle.load(open('results/step1/raw_pick_pubtator.pkl','rb'))\n",
    "rawpickwithAB={}\n",
    "for i in raw_pick_pubtator:\n",
    "    rawpickwithAB[i.get('PMID')]=i"
   ]
  },
  {
   "cell_type": "code",
   "execution_count": 98,
   "id": "ba92d711-8208-42ae-8a84-dc64e122c442",
   "metadata": {},
   "outputs": [
    {
     "data": {
      "text/plain": [
       "{'PMID': '37814955',\n",
       " 'entity1': 'CD93',\n",
       " 'entity2': 'GP1BB',\n",
       " 'sentence': 'RESULTS: Of the 28 proteins identified as BEC-enriched, 4 were significantly associated with white matter lesion volumes (CDH5 [cadherin 5], CD93 [cluster of differentiation 93], ICAM2 [intracellular adhesion molecule 2], GP1BB [glycoprotein 1b platelet subunit beta]), while another approached significance (RSPO3 [R-Spondin 3]).',\n",
       " 'AB': 'BACKGROUND: Proteins expressed by brain endothelial cells (BECs), the primary cell type of the blood-brain barrier, may serve as sensitive plasma biomarkers for neurological and neurovascular conditions, including cerebral small vessel disease. METHODS: Using data from the BLSA (Baltimore Longitudinal Study of Aging; n=886; 2009-2020), BEC-enriched proteins were identified among 7268 plasma proteins (measured with SomaScanv4.1) using an automated annotation algorithm that filtered endothelial cell transcripts followed by cross-referencing with BEC-specific transcripts reported in single-cell RNA-sequencing studies. To identify BEC-enriched proteins in plasma most relevant to the maintenance of neurological and neurovascular health, we selected proteins significantly associated with 3T magnetic resonance imaging-defined white matter lesion volumes. We then examined how these candidate BEC biomarkers related to white matter lesion volumes, cerebral microhemorrhages, and lacunar infarcts in the ARIC study (Atherosclerosis Risk in Communities; US multisite; 1990-2017). Finally, we determined whether these candidate BEC biomarkers, when measured during midlife, were related to dementia risk over a 25-year follow-up period. RESULTS: Of the 28 proteins identified as BEC-enriched, 4 were significantly associated with white matter lesion volumes (CDH5 [cadherin 5], CD93 [cluster of differentiation 93], ICAM2 [intracellular adhesion molecule 2], GP1BB [glycoprotein 1b platelet subunit beta]), while another approached significance (RSPO3 [R-Spondin 3]). A composite score based on 3 of these BEC proteins accounted for 11% of variation in white matter lesion volumes in BLSA participants. We replicated the associations between the BEC composite score, CDH5, and RSPO3 with white matter lesion volumes in ARIC, and further demonstrated that the BEC composite score and RSPO3 were associated with the presence of >=1 cerebral microhemorrhages. We also showed that the BEC composite score, CDH5, and RSPO3 were associated with 25-year dementia risk. CONCLUSIONS: In addition to identifying BEC proteins in plasma that relate to cerebral small vessel disease and dementia risk, we developed a composite score of plasma BEC proteins that may be used to estimate blood-brain barrier integrity and risk for adverse neurovascular outcomes.',\n",
       " 'target1': 'CD93',\n",
       " 'target1_type': 'Gene',\n",
       " 'target2': 'GP1BB',\n",
       " 'target2_type': 'Gene',\n",
       " 'sentence_transformed': 'Of the 28 proteins identified as BEC-enriched, 4 were significantly associated with white matter lesion volumes (CDH5 [cadherin 5], CD93 [cluster of differentiation 93], ICAM2 [intracellular adhesion molecule 2], GP1BB [glycoprotein 1b platelet subunit beta]), while another approached significance (RSPO3 [R-Spondin 3]).'}"
      ]
     },
     "execution_count": 98,
     "metadata": {},
     "output_type": "execute_result"
    }
   ],
   "source": [
    "networkx_raw_list[0]"
   ]
  },
  {
   "cell_type": "code",
   "execution_count": 99,
   "id": "1cd05c1a-8899-4a8e-9ae3-8c627b78f992",
   "metadata": {},
   "outputs": [
    {
     "data": {
      "text/plain": [
       "2543"
      ]
     },
     "execution_count": 99,
     "metadata": {},
     "output_type": "execute_result"
    }
   ],
   "source": [
    "len(networkx_raw_dict)"
   ]
  },
  {
   "cell_type": "code",
   "execution_count": 100,
   "id": "6b378fed-619d-4988-9cb0-9676ff487162",
   "metadata": {},
   "outputs": [],
   "source": [
    "be=['be','am','is','are','was','were','have been','has been']\n",
    "bedict={}\n",
    "for i in be:\n",
    "    bedict[i]=i\n",
    "can=['can','could','will','would','may','might']\n",
    "candict={}\n",
    "for i in can:\n",
    "    candict[i]=i"
   ]
  },
  {
   "cell_type": "code",
   "execution_count": 101,
   "id": "aa802227-0c1a-41a2-849d-33364e90ef5d",
   "metadata": {},
   "outputs": [],
   "source": [
    "for i in networkx_raw_list:\n",
    "    openie_mid=[]\n",
    "    openie_final=[]\n",
    "    if i.get('openie'):\n",
    "        for j in i.get('openie'):\n",
    "            if not bedict.get(j[1]) and not candict.get(j[1]):\n",
    "                openie_mid.append(j)\n",
    "        adv=sentence2adv.get(i.get('sentence_transformed'))\n",
    "        adv_dict={}\n",
    "        for l in adv:\n",
    "            adv_dict.update(l)\n",
    "        for k in openie_mid:\n",
    "            for m in k[1].split(' '):\n",
    "                if adv_dict.get(m):\n",
    "                    break\n",
    "            else:\n",
    "                if k not in openie_final:\n",
    "                    openie_final.append(k)\n",
    "    i['openie_final']=openie_final"
   ]
  },
  {
   "cell_type": "code",
   "execution_count": 102,
   "id": "bad4ea4c-d355-4173-8cdd-3e72b2b48989",
   "metadata": {},
   "outputs": [],
   "source": [
    "for i in networkx_raw_list:\n",
    "    allennlp_final=[]\n",
    "    if i.get('allennlp'):\n",
    "        for j in i.get('allennlp'):\n",
    "            if not bedict.get(j[1]) and not candict.get(j[1]):\n",
    "                allennlp_final.append(j)\n",
    "    i['allennlp_final']=allennlp_final"
   ]
  },
  {
   "cell_type": "code",
   "execution_count": 103,
   "id": "74cc04fe-cb9f-45b8-8655-900b80a8794d",
   "metadata": {},
   "outputs": [],
   "source": [
    "for i in networkx_raw_list:\n",
    "    if i.get('networkx'):\n",
    "        if bedict.get(i.get('networkx')[1]):\n",
    "            i['networkx']=''\n",
    "        elif i.get('networkx')[1]=='\"':\n",
    "            i['networkx']=''\n",
    "    else:\n",
    "        i['networkx']=''"
   ]
  },
  {
   "cell_type": "code",
   "execution_count": 104,
   "id": "3b70e380-ca99-4aeb-b749-49ee188b8749",
   "metadata": {},
   "outputs": [],
   "source": [
    "networkx_raw_final=[]\n",
    "for i in networkx_raw_list:\n",
    "    if i.get('networkx') or i.get('openie_final') or i.get('allennlp_final'):\n",
    "        networkx_raw_final.append(i)"
   ]
  },
  {
   "cell_type": "code",
   "execution_count": 105,
   "id": "bcfe38dc-1487-436b-a75b-b4c74a44e7e0",
   "metadata": {},
   "outputs": [
    {
     "data": {
      "text/plain": [
       "1529"
      ]
     },
     "execution_count": 105,
     "metadata": {},
     "output_type": "execute_result"
    }
   ],
   "source": [
    "len(networkx_raw_final)"
   ]
  },
  {
   "cell_type": "code",
   "execution_count": 106,
   "id": "bf155ffe-8edf-4681-93f9-4f87191e26f4",
   "metadata": {},
   "outputs": [],
   "source": [
    "for i in networkx_raw_final:\n",
    "    bidirection=False\n",
    "    if i.get('networkx'):\n",
    "        if i.get('networkx')[1]=='associated' or i.get('networkx')[1]=='associate' :\n",
    "            i['bidirection']=True\n",
    "            continue\n",
    "    if i.get('allennlp'):\n",
    "        for j in i.get('openie_final'):\n",
    "            if j=='associated' or j=='associate' :\n",
    "                bidirection=True\n",
    "                break\n",
    "    if i.get('openie_final'):\n",
    "        for j in i.get('openie_final'):\n",
    "            for k in j[1].split(' '):\n",
    "                if k=='associated' or  k=='associate' :\n",
    "                    bidirection=True\n",
    "                    break\n",
    "            else:\n",
    "                continue\n",
    "            break\n",
    "    i['bidirection']=bidirection"
   ]
  },
  {
   "cell_type": "code",
   "execution_count": 107,
   "id": "abd25f1f-9107-4d20-8aca-edc1209d3a20",
   "metadata": {},
   "outputs": [],
   "source": [
    "Relation_raw=copy.deepcopy(networkx_raw_final)"
   ]
  },
  {
   "cell_type": "code",
   "execution_count": 108,
   "id": "e7148b0c-6e9b-438e-ae0f-4f46f70bdc49",
   "metadata": {},
   "outputs": [],
   "source": [
    "pickle.dump(networkx_raw_final,open('results/step3/networkx_raw_final.pkl','wb'))"
   ]
  },
  {
   "cell_type": "code",
   "execution_count": 109,
   "id": "0a1e33d8-fb62-4a4c-81fa-8e9d32526989",
   "metadata": {},
   "outputs": [
    {
     "data": {
      "text/plain": [
       "{'PMID': '37306504',\n",
       " 'entity1': 'Atherosclerosis',\n",
       " 'entity2': 'Cardiovascular Diseases',\n",
       " 'sentence': 'AIMS: Interleukin-6 (IL-6) and interleukin-18 (IL-18), important cytokines implicated in atherosclerosis and inflammaging, were assessed for associations with global cardiovascular disease (CVD), atrial fibrillation (AF), and death in older adults.',\n",
       " 'AB': 'AIMS: Interleukin-6 (IL-6) and interleukin-18 (IL-18), important cytokines implicated in atherosclerosis and inflammaging, were assessed for associations with global cardiovascular disease (CVD), atrial fibrillation (AF), and death in older adults. METHODS: Participants from Atherosclerosis Risk in Communities study visit 5 (mean age 75.4 +- 5.1 years) with IL-6 and IL-18 measurements were included (N = 5672). Cox regression models were used to assess associations of IL-6 and IL-18 with coronary heart disease (CHD), ischemic stroke, heart failure hospitalization (HF), global CVD (composite of CHD, stroke, and HF), AF, and all-cause death. RESULTS: Over a median follow-up of 7.2 years, there were 1235 global CVD events, 530 AF events, and 1173 deaths. Higher IL-6 (hazard ratio [HR] 1.57, 95% confidence interval [CI] 1.44-1.72 per log unit increase) and IL-18 (HR 1.13, 95% CI 1.01-1.26) were significantly associated with global CVD after adjustment for cardiovascular risk factors. Association between IL-6 and global CVD remained significant after further adjustment for high-sensitivity C-reactive protein (hs-CRP), N-terminal B type natriuretic peptide (NT-proBNP), and high-sensitivity troponin T (hs-TnT), but was no longer significant for IL-18 after further adjustments. IL-6 was also associated with increased risk for CHD, HF, and AF after adjustment for covariates. Both IL-6 and IL-18 were associated with increased risk for all-cause death independent of cardiovascular risk factors and other biomarkers. CONCLUSION: Among older adults, both IL-6 and IL-18 were associated with global CVD and death. The association between IL-6 with CVD appears to be more robust and was independent of hs-CRP, NT-proBNP, and hs-TnT.',\n",
       " 'target1': 'atherosclerosis',\n",
       " 'target1_type': 'Disease',\n",
       " 'target2': 'cardiovascular disease',\n",
       " 'target2_type': 'Disease',\n",
       " 'sentence_transformed': 'Interleukin-6 (IL-6) and interleukin-18 (IL-18), important cytokines implicated in atherosclerosis and inflammaging, were assessed for associations with global cardiovascular disease (CVD), atrial fibrillation (AF), and death in older adults.',\n",
       " 'allennlp': [['atherosclerosis', 'assessed', 'cardiovascular disease']],\n",
       " 'openie_final': [],\n",
       " 'allennlp_final': [['atherosclerosis', 'assessed', 'cardiovascular disease']],\n",
       " 'networkx': '',\n",
       " 'bidirection': False}"
      ]
     },
     "execution_count": 109,
     "metadata": {},
     "output_type": "execute_result"
    }
   ],
   "source": [
    "networkx_raw_final[0]"
   ]
  },
  {
   "cell_type": "code",
   "execution_count": 110,
   "id": "fb582c18-111a-4960-8f1b-598c679e1d85",
   "metadata": {},
   "outputs": [
    {
     "data": {
      "text/plain": [
       "1529"
      ]
     },
     "execution_count": 110,
     "metadata": {},
     "output_type": "execute_result"
    }
   ],
   "source": [
    "len(networkx_raw_final)"
   ]
  },
  {
   "cell_type": "code",
   "execution_count": 111,
   "id": "1f9f4e4f-6656-4bfe-85b5-ec8f9d99adf2",
   "metadata": {},
   "outputs": [
    {
     "data": {
      "text/plain": [
       "{'PMID': '37306504',\n",
       " 'entity1': 'Atherosclerosis',\n",
       " 'entity2': 'Cardiovascular Diseases',\n",
       " 'sentence': 'AIMS: Interleukin-6 (IL-6) and interleukin-18 (IL-18), important cytokines implicated in atherosclerosis and inflammaging, were assessed for associations with global cardiovascular disease (CVD), atrial fibrillation (AF), and death in older adults.',\n",
       " 'AB': 'AIMS: Interleukin-6 (IL-6) and interleukin-18 (IL-18), important cytokines implicated in atherosclerosis and inflammaging, were assessed for associations with global cardiovascular disease (CVD), atrial fibrillation (AF), and death in older adults. METHODS: Participants from Atherosclerosis Risk in Communities study visit 5 (mean age 75.4 +- 5.1 years) with IL-6 and IL-18 measurements were included (N = 5672). Cox regression models were used to assess associations of IL-6 and IL-18 with coronary heart disease (CHD), ischemic stroke, heart failure hospitalization (HF), global CVD (composite of CHD, stroke, and HF), AF, and all-cause death. RESULTS: Over a median follow-up of 7.2 years, there were 1235 global CVD events, 530 AF events, and 1173 deaths. Higher IL-6 (hazard ratio [HR] 1.57, 95% confidence interval [CI] 1.44-1.72 per log unit increase) and IL-18 (HR 1.13, 95% CI 1.01-1.26) were significantly associated with global CVD after adjustment for cardiovascular risk factors. Association between IL-6 and global CVD remained significant after further adjustment for high-sensitivity C-reactive protein (hs-CRP), N-terminal B type natriuretic peptide (NT-proBNP), and high-sensitivity troponin T (hs-TnT), but was no longer significant for IL-18 after further adjustments. IL-6 was also associated with increased risk for CHD, HF, and AF after adjustment for covariates. Both IL-6 and IL-18 were associated with increased risk for all-cause death independent of cardiovascular risk factors and other biomarkers. CONCLUSION: Among older adults, both IL-6 and IL-18 were associated with global CVD and death. The association between IL-6 with CVD appears to be more robust and was independent of hs-CRP, NT-proBNP, and hs-TnT.',\n",
       " 'target1': 'atherosclerosis',\n",
       " 'target1_type': 'Disease',\n",
       " 'target2': 'cardiovascular disease',\n",
       " 'target2_type': 'Disease',\n",
       " 'sentence_transformed': 'Interleukin-6 (IL-6) and interleukin-18 (IL-18), important cytokines implicated in atherosclerosis and inflammaging, were assessed for associations with global cardiovascular disease (CVD), atrial fibrillation (AF), and death in older adults.',\n",
       " 'allennlp': [['atherosclerosis', 'assessed', 'cardiovascular disease']],\n",
       " 'openie_final': [],\n",
       " 'allennlp_final': [['atherosclerosis', 'assessed', 'cardiovascular disease']],\n",
       " 'networkx': '',\n",
       " 'bidirection': False}"
      ]
     },
     "execution_count": 111,
     "metadata": {},
     "output_type": "execute_result"
    }
   ],
   "source": [
    "networkx_raw_final[0]"
   ]
  },
  {
   "cell_type": "code",
   "execution_count": 112,
   "id": "3cd9ecd0-b2d2-44c9-b3ca-1f3237152446",
   "metadata": {},
   "outputs": [],
   "source": [
    "collections_Relation_raw=db.Relation_raw"
   ]
  },
  {
   "cell_type": "code",
   "execution_count": 113,
   "id": "e9168283-f0a4-4698-84d3-623753835610",
   "metadata": {},
   "outputs": [
    {
     "data": {
      "text/plain": [
       "'2023_12_01'"
      ]
     },
     "execution_count": 113,
     "metadata": {},
     "output_type": "execute_result"
    }
   ],
   "source": [
    "now_time"
   ]
  },
  {
   "cell_type": "code",
   "execution_count": 114,
   "id": "66c2ba7d-2914-46da-9b1f-985516f3aee2",
   "metadata": {},
   "outputs": [],
   "source": [
    "for i in Relation_raw:\n",
    "    i['addtime']=now_time"
   ]
  },
  {
   "cell_type": "code",
   "execution_count": 115,
   "id": "6a24efb6-72fd-4954-907a-aef6ec62e09b",
   "metadata": {},
   "outputs": [
    {
     "data": {
      "text/plain": [
       "<pymongo.results.InsertManyResult at 0x7f6d6e7a0d40>"
      ]
     },
     "execution_count": 115,
     "metadata": {},
     "output_type": "execute_result"
    }
   ],
   "source": [
    "collections_Relation_raw.insert_many(Relation_raw)"
   ]
  },
  {
   "cell_type": "code",
   "execution_count": null,
   "id": "71fcc9b6-6f87-4002-a235-94c572fe69aa",
   "metadata": {},
   "outputs": [],
   "source": []
  },
  {
   "cell_type": "code",
   "execution_count": null,
   "id": "db6657dd-e3e4-4a65-b0a9-2e6a0d83c13b",
   "metadata": {},
   "outputs": [],
   "source": []
  },
  {
   "cell_type": "code",
   "execution_count": 116,
   "id": "e50321c8-e689-42cb-add9-8ac33c743cd8",
   "metadata": {},
   "outputs": [],
   "source": [
    "Relation_raw_all_with_disease=copy.deepcopy(Relation_raw)"
   ]
  },
  {
   "cell_type": "code",
   "execution_count": 117,
   "id": "610a8457-beb3-4a73-8831-c10bcdec59c9",
   "metadata": {},
   "outputs": [
    {
     "data": {
      "text/plain": [
       "1529"
      ]
     },
     "execution_count": 117,
     "metadata": {},
     "output_type": "execute_result"
    }
   ],
   "source": [
    "len(Relation_raw_all_with_disease)"
   ]
  },
  {
   "cell_type": "code",
   "execution_count": 118,
   "id": "4a9e5856-7ccd-447d-ac1d-38cf0290e791",
   "metadata": {},
   "outputs": [
    {
     "data": {
      "text/plain": [
       "{'PMID': '37306504',\n",
       " 'entity1': 'IL18',\n",
       " 'entity2': 'Cardiovascular Diseases',\n",
       " 'sentence': 'AIMS: Interleukin-6 (IL-6) and interleukin-18 (IL-18), important cytokines implicated in atherosclerosis and inflammaging, were assessed for associations with global cardiovascular disease (CVD), atrial fibrillation (AF), and death in older adults.',\n",
       " 'AB': 'AIMS: Interleukin-6 (IL-6) and interleukin-18 (IL-18), important cytokines implicated in atherosclerosis and inflammaging, were assessed for associations with global cardiovascular disease (CVD), atrial fibrillation (AF), and death in older adults. METHODS: Participants from Atherosclerosis Risk in Communities study visit 5 (mean age 75.4 +- 5.1 years) with IL-6 and IL-18 measurements were included (N = 5672). Cox regression models were used to assess associations of IL-6 and IL-18 with coronary heart disease (CHD), ischemic stroke, heart failure hospitalization (HF), global CVD (composite of CHD, stroke, and HF), AF, and all-cause death. RESULTS: Over a median follow-up of 7.2 years, there were 1235 global CVD events, 530 AF events, and 1173 deaths. Higher IL-6 (hazard ratio [HR] 1.57, 95% confidence interval [CI] 1.44-1.72 per log unit increase) and IL-18 (HR 1.13, 95% CI 1.01-1.26) were significantly associated with global CVD after adjustment for cardiovascular risk factors. Association between IL-6 and global CVD remained significant after further adjustment for high-sensitivity C-reactive protein (hs-CRP), N-terminal B type natriuretic peptide (NT-proBNP), and high-sensitivity troponin T (hs-TnT), but was no longer significant for IL-18 after further adjustments. IL-6 was also associated with increased risk for CHD, HF, and AF after adjustment for covariates. Both IL-6 and IL-18 were associated with increased risk for all-cause death independent of cardiovascular risk factors and other biomarkers. CONCLUSION: Among older adults, both IL-6 and IL-18 were associated with global CVD and death. The association between IL-6 with CVD appears to be more robust and was independent of hs-CRP, NT-proBNP, and hs-TnT.',\n",
       " 'target1': 'IL-18',\n",
       " 'target1_type': 'Gene',\n",
       " 'target2': 'cardiovascular disease',\n",
       " 'target2_type': 'Disease',\n",
       " 'sentence_transformed': 'Interleukin-6 (IL-6) and interleukin-18 (IL-18), important cytokines implicated in atherosclerosis and inflammaging, were assessed for associations with global cardiovascular disease (CVD), atrial fibrillation (AF), and death in older adults.',\n",
       " 'allennlp': [['IL-18', 'assessed', 'cardiovascular disease']],\n",
       " 'openie_final': [],\n",
       " 'allennlp_final': [['IL-18', 'assessed', 'cardiovascular disease']],\n",
       " 'networkx': '',\n",
       " 'bidirection': False,\n",
       " 'addtime': '2023_12_01',\n",
       " '_id': ObjectId('6575ea00208a4c36b897cacf')}"
      ]
     },
     "execution_count": 118,
     "metadata": {},
     "output_type": "execute_result"
    }
   ],
   "source": [
    "Relation_raw_all_with_disease[10]"
   ]
  },
  {
   "cell_type": "code",
   "execution_count": 119,
   "id": "2d9ac433-5003-42d6-92c4-94fb68b39096",
   "metadata": {},
   "outputs": [],
   "source": [
    "all_es=json.load(open('results/step2/all_es_lack.json'))"
   ]
  },
  {
   "cell_type": "code",
   "execution_count": 120,
   "id": "16c8ffeb-aae6-43e4-b08c-ef868c8b7148",
   "metadata": {},
   "outputs": [],
   "source": [
    "multi_chemical_type2={}\n",
    "for i in all_es:\n",
    "    if not multi_chemical_type2.get(i.get('entity')):\n",
    "        multi_chemical_type2[i.get('entity')]=[i.get('type')]\n",
    "    else:\n",
    "        if i.get('type') not in multi_chemical_type2.get(i.get('entity')):\n",
    "            multi_chemical_type2[i.get('entity')]+=[i.get('type')]"
   ]
  },
  {
   "cell_type": "code",
   "execution_count": 121,
   "id": "162511e2-2851-49f1-aefa-4d951198f483",
   "metadata": {},
   "outputs": [
    {
     "name": "stdout",
     "output_type": "stream",
     "text": [
      "{'Lipopolysaccharides': ['Carbohydrate', 'Lipid', 'Toxin']}\n",
      "{'Vancomycin': ['Carbohydrate', 'Peptide']}\n",
      "{'Ceramides': ['Carbohydrate', 'Lipid']}\n",
      "{'Sphingomyelins': ['Carbohydrate', 'Lipid']}\n",
      "{'Bleomycin': ['Carbohydrate', 'Peptide']}\n",
      "{'Teicoplanin': ['Carbohydrate', 'Peptide']}\n",
      "{'Lipid A': ['Carbohydrate', 'Lipid', 'Toxin']}\n",
      "{'G(M1) Ganglioside': ['Carbohydrate', 'Lipid']}\n",
      "{'Gangliosides': ['Carbohydrate', 'Lipid']}\n",
      "{'Glycosphingolipids': ['Carbohydrate', 'Lipid']}\n",
      "{'Sulfoglycosphingolipids': ['Carbohydrate', 'Lipid']}\n",
      "{'Glycolipids': ['Carbohydrate', 'Lipid']}\n",
      "{'G(M3) Ganglioside': ['Carbohydrate', 'Lipid']}\n",
      "{'Glycopeptides': ['Carbohydrate', 'Peptide']}\n",
      "{'Glycosylphosphatidylinositols': ['Carbohydrate', 'Lipid']}\n",
      "{'Globosides': ['Carbohydrate', 'Lipid']}\n",
      "{'Ristocetin': ['Carbohydrate', 'Peptide']}\n",
      "{'Glucosylceramides': ['Carbohydrate', 'Lipid']}\n",
      "{'Holothurin': ['Carbohydrate', 'Toxin']}\n",
      "{'Glycerylphosphorylcholine': ['Carbohydrate', 'Lipid']}\n",
      "{'Glycerophosphates': ['Carbohydrate', 'Lipid']}\n",
      "{'Cerebrosides': ['Carbohydrate', 'Lipid']}\n",
      "{'Psychosine': ['Carbohydrate', 'Lipid']}\n",
      "{'Lactosylceramides': ['Carbohydrate', 'Lipid']}\n",
      "{'Phospholipid Ethers': ['Carbohydrate', 'Lipid']}\n",
      "{'Galactolipids': ['Carbohydrate', 'Lipid']}\n",
      "{'O Antigens': ['Carbohydrate', 'Lipid', 'Toxin']}\n",
      "{'G(M2) Ganglioside': ['Carbohydrate', 'Lipid']}\n",
      "{'Daptomycin': ['Lipid', 'Peptide']}\n",
      "{'Caspofungin': ['Lipid', 'Peptide']}\n",
      "{'Micafungin': ['Lipid', 'Peptide']}\n",
      "{'Lipopeptides': ['Lipid', 'Peptide']}\n",
      "{'Cilastatin, Imipenem Drug Combination': ['Lipid', 'Pharmaceutical Preparations']}\n",
      "{'Polymyxin B': ['Lipid', 'Peptide', 'Protein']}\n",
      "{'Exenatide': ['Peptide', 'Toxin']}\n",
      "{'Certolizumab Pegol': ['Peptide', 'Protein']}\n",
      "{'Phalloidine': ['Peptide', 'Toxin']}\n",
      "{'Abciximab': ['Peptide', 'Protein']}\n",
      "{'Alpha-Amanitin': ['Peptide', 'Toxin']}\n",
      "{'Charybdotoxin': ['Peptide', 'Toxin']}\n",
      "{'Angiotensins': ['Peptide', 'Protein']}\n",
      "{'Fas Ligand Protein': ['Peptide', 'Protein']}\n",
      "{'Arginine Vasopressin': ['Peptide', 'Protein']}\n",
      "{'Angiotensin II': ['Peptide', 'Protein']}\n",
      "{'Defensins': ['Peptide', 'Protein']}\n",
      "{'alpha-Defensins': ['Peptide', 'Protein']}\n",
      "{'beta-Defensins': ['Peptide', 'Protein']}\n",
      "{'Microcystins': ['Peptide', 'Toxin']}\n",
      "{'Salivary Cystatins': ['Peptide', 'Protein']}\n",
      "{'Carnosine': ['Peptide', 'Protein']}\n",
      "{'Myostatin': ['Peptide', 'Protein']}\n",
      "{'Leuprolide': ['Peptide', 'Protein']}\n",
      "{'Nisin': ['Peptide', 'Protein']}\n",
      "{'Cytokines': ['Peptide', 'Protein']}\n",
      "54\n"
     ]
    }
   ],
   "source": [
    "cxz=0\n",
    "for i,j in multi_chemical_type2.items():\n",
    "    if len(j)>1:\n",
    "        cxz+=1\n",
    "        print({i:j})\n",
    "print(cxz)"
   ]
  },
  {
   "cell_type": "code",
   "execution_count": 122,
   "id": "6d5d8a2a-9150-462d-b4a6-5b737ca91171",
   "metadata": {},
   "outputs": [],
   "source": [
    "Relation_raw_all_final=[]\n",
    "for i in Relation_raw_all_with_disease:\n",
    "    if multi_chemical_type2.get(i.get('entity1')) and multi_chemical_type2.get(i.get('entity2')):\n",
    "        for j in multi_chemical_type2.get(i.get('entity1')):\n",
    "            for k in multi_chemical_type2.get(i.get('entity2')):\n",
    "                mid=copy.deepcopy(i)\n",
    "                mid.update({'target1_type':j,'target2_type':k})\n",
    "                Relation_raw_all_final.append(mid)\n",
    "    else:\n",
    "        Relation_raw_all_final.append(i)\n",
    "        if multi_chemical_type2.get(i.get('entity1')):\n",
    "            for j in multi_chemical_type2.get(i.get('entity1')):\n",
    "                if i.get('target1_type') != j:\n",
    "                    mid=copy.deepcopy(i)\n",
    "                    mid.update({'target1_type':j})\n",
    "                    Relation_raw_all_final.append(mid)\n",
    "        elif multi_chemical_type2.get(i.get('entity2')):\n",
    "            for j in multi_chemical_type2.get(i.get('entity2')):\n",
    "                if i.get('target2_type') != j:\n",
    "                    mid=copy.deepcopy(i)\n",
    "                    mid.update({'target2_type':j})\n",
    "                    Relation_raw_all_final.append(mid)"
   ]
  },
  {
   "cell_type": "code",
   "execution_count": 123,
   "id": "7b98085f-ab87-4de8-b38d-c6bca56c6c6b",
   "metadata": {},
   "outputs": [
    {
     "data": {
      "text/plain": [
       "1539"
      ]
     },
     "execution_count": 123,
     "metadata": {},
     "output_type": "execute_result"
    }
   ],
   "source": [
    "len(Relation_raw_all_final)"
   ]
  },
  {
   "cell_type": "code",
   "execution_count": 124,
   "id": "dbbdc1cd-3965-40da-b2be-151491d499eb",
   "metadata": {},
   "outputs": [],
   "source": [
    "direction=set()\n",
    "direction_list=[]\n",
    "direction_type=[]\n",
    "for i in Relation_raw_all_final:\n",
    "    if i.get('openie_final'):\n",
    "        if i.get('openie_final')[0][0]!=i.get('target1'):\n",
    "            i['entity2'],i['entity1']=i['entity1'],i['entity2']\n",
    "            i['target2_type'],i['target1_type']=i['target1_type'],i['target2_type']\n",
    "            i['target2'],i['target1']=i['target1'],i['target2']\n",
    "    elif i.get('networkx'):\n",
    "        if i.get('networkx')[0]!= i.get('target1'):\n",
    "            i['entity2'],i['entity1']=i['entity1'],i['entity2']\n",
    "            i['target2_type'],i['target1_type']=i['target1_type'],i['target2_type']\n",
    "            i['target2'],i['target1']=i['target1'],i['target2']\n",
    "    elif i.get('allennlp_final'):\n",
    "        if i.get('allennlp_final')[0][0]!=i.get('target1'):\n",
    "            i['entity2'],i['entity1']=i['entity1'],i['entity2']\n",
    "            i['target2_type'],i['target1_type']=i['target1_type'],i['target2_type']\n",
    "            i['target2'],i['target1']=i['target1'],i['target2']\n",
    "    if i.get('bidirection'):\n",
    "        if (i.get('entity2'),(i.get('entity1'))) not in direction :\n",
    "            direction.add((i.get('entity2'),(i.get('entity1'))))\n",
    "            direction_list.append((i.get('entity2'),(i.get('entity1'))))\n",
    "            direction_type.append((i.get('target2_type'),(i.get('target1_type'))))\n",
    "        if (i.get('entity1'),(i.get('entity2'))) not in direction:\n",
    "            direction.add((i.get('entity1'),(i.get('entity2'))))\n",
    "            direction_list.append((i.get('entity1'),(i.get('entity2'))))\n",
    "            direction_type.append((i.get('target1_type'),(i.get('target2_type'))))\n",
    "    else:\n",
    "        direction.add((i.get('entity1'),(i.get('entity2'))))\n",
    "        direction_list.append((i.get('entity1'),(i.get('entity2'))))\n",
    "        direction_type.append((i.get('target1_type'),(i.get('target2_type'))))"
   ]
  },
  {
   "cell_type": "code",
   "execution_count": 125,
   "id": "9e63337c-0157-48e6-b644-c6662bbaacd8",
   "metadata": {},
   "outputs": [
    {
     "data": {
      "text/plain": [
       "{'PMID': '37306504',\n",
       " 'entity1': 'IL18',\n",
       " 'entity2': 'Cardiovascular Diseases',\n",
       " 'sentence': 'AIMS: Interleukin-6 (IL-6) and interleukin-18 (IL-18), important cytokines implicated in atherosclerosis and inflammaging, were assessed for associations with global cardiovascular disease (CVD), atrial fibrillation (AF), and death in older adults.',\n",
       " 'AB': 'AIMS: Interleukin-6 (IL-6) and interleukin-18 (IL-18), important cytokines implicated in atherosclerosis and inflammaging, were assessed for associations with global cardiovascular disease (CVD), atrial fibrillation (AF), and death in older adults. METHODS: Participants from Atherosclerosis Risk in Communities study visit 5 (mean age 75.4 +- 5.1 years) with IL-6 and IL-18 measurements were included (N = 5672). Cox regression models were used to assess associations of IL-6 and IL-18 with coronary heart disease (CHD), ischemic stroke, heart failure hospitalization (HF), global CVD (composite of CHD, stroke, and HF), AF, and all-cause death. RESULTS: Over a median follow-up of 7.2 years, there were 1235 global CVD events, 530 AF events, and 1173 deaths. Higher IL-6 (hazard ratio [HR] 1.57, 95% confidence interval [CI] 1.44-1.72 per log unit increase) and IL-18 (HR 1.13, 95% CI 1.01-1.26) were significantly associated with global CVD after adjustment for cardiovascular risk factors. Association between IL-6 and global CVD remained significant after further adjustment for high-sensitivity C-reactive protein (hs-CRP), N-terminal B type natriuretic peptide (NT-proBNP), and high-sensitivity troponin T (hs-TnT), but was no longer significant for IL-18 after further adjustments. IL-6 was also associated with increased risk for CHD, HF, and AF after adjustment for covariates. Both IL-6 and IL-18 were associated with increased risk for all-cause death independent of cardiovascular risk factors and other biomarkers. CONCLUSION: Among older adults, both IL-6 and IL-18 were associated with global CVD and death. The association between IL-6 with CVD appears to be more robust and was independent of hs-CRP, NT-proBNP, and hs-TnT.',\n",
       " 'target1': 'IL-18',\n",
       " 'target1_type': 'Gene',\n",
       " 'target2': 'cardiovascular disease',\n",
       " 'target2_type': 'Disease',\n",
       " 'sentence_transformed': 'Interleukin-6 (IL-6) and interleukin-18 (IL-18), important cytokines implicated in atherosclerosis and inflammaging, were assessed for associations with global cardiovascular disease (CVD), atrial fibrillation (AF), and death in older adults.',\n",
       " 'allennlp': [['IL-18', 'assessed', 'cardiovascular disease']],\n",
       " 'openie_final': [],\n",
       " 'allennlp_final': [['IL-18', 'assessed', 'cardiovascular disease']],\n",
       " 'networkx': '',\n",
       " 'bidirection': False,\n",
       " 'addtime': '2023_12_01',\n",
       " '_id': ObjectId('6575ea00208a4c36b897cacf')}"
      ]
     },
     "execution_count": 125,
     "metadata": {},
     "output_type": "execute_result"
    }
   ],
   "source": [
    "Relation_raw_all_final[10]"
   ]
  },
  {
   "cell_type": "code",
   "execution_count": 127,
   "id": "5ec24314-4d22-459d-bfee-e1e86a273280",
   "metadata": {},
   "outputs": [],
   "source": [
    "rules_pairs=['sentence2adv','sentence2relations','sentence2verblist','sentence2verbprototype','sentence2words']\n",
    "names=locals()\n",
    "for i in rules_pairs:\n",
    "    names[i]={}\n",
    "    for k in ['./results/step3/rules/files/'+i+str(j)+'.pkl' for j in range(1,5)]:\n",
    "        names[i].update(pickle.load(open(k,'rb')))"
   ]
  },
  {
   "cell_type": "code",
   "execution_count": 128,
   "id": "7a7a3828-4863-4b34-bb7a-0b7e70efa050",
   "metadata": {},
   "outputs": [],
   "source": [
    "Relation_raw_all_final_copy=copy.deepcopy(Relation_raw_all_final)"
   ]
  },
  {
   "cell_type": "code",
   "execution_count": 129,
   "id": "425c5831-d565-42d5-b1a4-b3eb3905e1e5",
   "metadata": {},
   "outputs": [],
   "source": [
    "be=['be','am','is','are','was','were','have been','has been']\n",
    "bedict={}\n",
    "for i in be:\n",
    "    bedict[i]=i\n",
    "can=['can','could','will','would','may','might']\n",
    "candict={}\n",
    "for i in can:\n",
    "    candict[i]=i\n",
    "countt=0\n",
    "counttt=0\n",
    "fdas=[]\n",
    "for i in Relation_raw_all_final_copy:\n",
    "    del_index=set()\n",
    "    if i.get('sentence_transformed'):\n",
    "        verblist=sentence2verblist.get(i.get('sentence_transformed'))\n",
    "    else:\n",
    "        verblist=sentence2verblist.get(i.get('sentence'))\n",
    "    verbrelation=''\n",
    "    real_verb=''\n",
    "    verbdict={}\n",
    "    for verb in verblist:\n",
    "        verbdict.update(verb)\n",
    "    for indexx,j in enumerate(i.get('openie_final')):\n",
    "        one=j[1]\n",
    "        negative=False\n",
    "        if i.get('sentence_transformed'):\n",
    "            relations=sentence2relations.get(i.get('sentence_transformed'))\n",
    "            verbprototype=sentence2verbprototype.get(i.get('sentence_transformed'))\n",
    "        else:\n",
    "            relations=sentence2relations.get(i.get('sentence'))\n",
    "            verbprototype=sentence2verbprototype.get(i.get('sentence'))\n",
    "        for p in one.split(' '):\n",
    "            for relation in relations:\n",
    "                if relation[1]==p and negativewords_dict.get(relation[0]):\n",
    "                    negative=True\n",
    "            if verbdict.get(p):\n",
    "                verbrelation=p\n",
    "                relations_display=[relation[-2] for relation in relations]\n",
    "                verbprototype_dict={}\n",
    "                for verbp in verbprototype:\n",
    "                    verbprototype_dict.update(verbp)\n",
    "                for index_passive,passive in enumerate(relations_display):\n",
    "                    if passive=='aux:pass':\n",
    "                        if relations[index_passive][1]==verbrelation:\n",
    "                            verb_prototype=verbrelation\n",
    "                            break\n",
    "                    elif passive=='acl' and relations[index_passive][-1]=='VBN':\n",
    "                        if relations[index_passive][0]==verbrelation:\n",
    "                            verb_prototype=verbrelation\n",
    "                            break\n",
    "                else:\n",
    "                    for v in verbprototype:\n",
    "                        if v.get(verbrelation):\n",
    "                            verb_prototype=v.get(verbrelation)\n",
    "                            break\n",
    "                if verb_prototype!=one:\n",
    "                    if countt<10:\n",
    "                        countt+=1\n",
    "                if not negative:\n",
    "                    i['openie_final'][indexx][1]=verb_prototype\n",
    "            elif bedict.get(one):\n",
    "                if i.get('sentence_transformed'):\n",
    "                    relations=sentence2relations.get(i.get('sentence_transformed'))\n",
    "                    verbprototype=sentence2verbprototype.get(i.get('sentence_transformed'))\n",
    "                else:\n",
    "                    relations=sentence2relations.get(i.get('sentence'))\n",
    "                    verbprototype=sentence2verbprototype.get(i.get('sentence'))\n",
    "                for relation in relations:\n",
    "                    if relation[1]==one and negativewords_dict.get(relation[0]):\n",
    "                        negative=True\n",
    "                if not negative:\n",
    "                    i['openie_final'][indexx][1]=bedict.get(one)\n",
    "        if negative:\n",
    "            fdas.append(i)\n",
    "            i['openie_final'][indexx]=[]\n",
    "    final=[]\n",
    "    for t in i.get('openie_final'):\n",
    "        if t != []:\n",
    "            final.append(t)\n",
    "    i['openie_final']=final"
   ]
  },
  {
   "cell_type": "code",
   "execution_count": 130,
   "id": "5681f97b-ec3f-497b-91ba-8ab87580c1d7",
   "metadata": {},
   "outputs": [
    {
     "data": {
      "text/plain": [
       "0"
      ]
     },
     "execution_count": 130,
     "metadata": {},
     "output_type": "execute_result"
    }
   ],
   "source": [
    "len(fdas)"
   ]
  },
  {
   "cell_type": "code",
   "execution_count": 131,
   "id": "67e82c12-963a-4199-a826-567595590a5b",
   "metadata": {},
   "outputs": [],
   "source": [
    "be=['be','am','is','are','was','were','have been','has been']\n",
    "bedict={}\n",
    "for i in be:\n",
    "    bedict[i]=i\n",
    "can=['can','could','will','would','may','might']\n",
    "candict={}\n",
    "for i in can:\n",
    "    candict[i]=i\n",
    "countt=0\n",
    "counttt=0\n",
    "fdas=[]\n",
    "for i in Relation_raw_all_final_copy:\n",
    "    if i.get('sentence_transformed'):\n",
    "        verblist=sentence2verblist.get(i.get('sentence_transformed'))\n",
    "    else:\n",
    "        verblist=sentence2verblist.get(i.get('sentence'))\n",
    "    verbrelation=''\n",
    "    real_verb=''\n",
    "    verbdict={}\n",
    "    for verb in verblist:\n",
    "        verbdict.update(verb)\n",
    "    for indexx,j in enumerate(i.get('allennlp_final')):\n",
    "        one=j[1]\n",
    "        negative=False\n",
    "        if i.get('sentence_transformed'):\n",
    "            relations=sentence2relations.get(i.get('sentence_transformed'))\n",
    "            verbprototype=sentence2verbprototype.get(i.get('sentence_transformed'))\n",
    "        else:\n",
    "            relations=sentence2relations.get(i.get('sentence'))\n",
    "            verbprototype=sentence2verbprototype.get(i.get('sentence'))\n",
    "        for relation in relations:\n",
    "            if relation[1]==one and negativewords_dict.get(relation[0]):\n",
    "                negative=True\n",
    "        if verbdict.get(one):\n",
    "            verbrelation=one\n",
    "            relations_display=[relation[-2] for relation in relations]\n",
    "            verbprototype_dict={}\n",
    "            for relation in relations:\n",
    "                if relation[1]==verbrelation and negativewords_dict.get(relation[0]):\n",
    "                    negative=True\n",
    "            for verbp in verbprototype:\n",
    "                verbprototype_dict.update(verbp)\n",
    "            for index_passive,passive in enumerate(relations_display):\n",
    "                if passive=='aux:pass':\n",
    "                    if relations[index_passive][1]==verbrelation:\n",
    "                        verb_prototype=verbrelation\n",
    "                        break\n",
    "                elif passive=='acl' and relations[index_passive][-1]=='VBN':\n",
    "                    if relations[index_passive][0]==verbrelation:\n",
    "                        verb_prototype=verbrelation\n",
    "                        break\n",
    "            else:\n",
    "                for v in verbprototype:\n",
    "                    if v.get(verbrelation):\n",
    "                        verb_prototype=v.get(verbrelation)\n",
    "                        break\n",
    "            if verb_prototype!=one:\n",
    "                if countt<10:\n",
    "                    countt+=1\n",
    "            if not negative:\n",
    "                i['allennlp_final'][indexx][1]=verb_prototype\n",
    "        elif bedict.get(one):\n",
    "            if i.get('sentence_transformed'):\n",
    "                relations=sentence2relations.get(i.get('sentence_transformed'))\n",
    "                verbprototype=sentence2verbprototype.get(i.get('sentence_transformed'))\n",
    "            else:\n",
    "                relations=sentence2relations.get(i.get('sentence'))\n",
    "                verbprototype=sentence2verbprototype.get(i.get('sentence'))\n",
    "            for relation in relations:\n",
    "                if relation[1]==one and negativewords_dict.get(relation[0]):\n",
    "                    negative=True\n",
    "            if not negative:\n",
    "                i['allennlp_final'][indexx][1]=bedict.get(one)\n",
    "        if negative:\n",
    "            fdas.append(i)\n",
    "            i['allennlp_final'][indexx]=[]\n",
    "    final=[]\n",
    "    for t in i.get('allennlp_final'):\n",
    "        if t != []:\n",
    "            final.append(t)\n",
    "    i['allennlp_final']=final"
   ]
  },
  {
   "cell_type": "code",
   "execution_count": 132,
   "id": "25472457-323e-49db-b37d-4cf8ff84d95e",
   "metadata": {},
   "outputs": [
    {
     "data": {
      "text/plain": [
       "3"
      ]
     },
     "execution_count": 132,
     "metadata": {},
     "output_type": "execute_result"
    }
   ],
   "source": [
    "len(fdas)"
   ]
  },
  {
   "cell_type": "code",
   "execution_count": 133,
   "id": "ba78bc16-be4e-4309-87c7-ddbb4604350e",
   "metadata": {},
   "outputs": [
    {
     "data": {
      "text/plain": [
       "1539"
      ]
     },
     "execution_count": 133,
     "metadata": {},
     "output_type": "execute_result"
    }
   ],
   "source": [
    "len(Relation_raw_all_final_copy)"
   ]
  },
  {
   "cell_type": "code",
   "execution_count": 134,
   "id": "10ac25de-b01c-4c59-bf15-2736d65b0d23",
   "metadata": {},
   "outputs": [
    {
     "name": "stdout",
     "output_type": "stream",
     "text": [
      "1537\n"
     ]
    }
   ],
   "source": [
    "Relation_raw_all_final_copys=[]\n",
    "for i in Relation_raw_all_final_copy:\n",
    "    if i.get('networkx') or i.get('openie_final') or i.get('allennlp_final'):\n",
    "        Relation_raw_all_final_copys.append(i)\n",
    "print(len(Relation_raw_all_final_copys))"
   ]
  },
  {
   "cell_type": "code",
   "execution_count": 135,
   "id": "b3961b01-7b3f-43f6-9d38-c7198bc96e59",
   "metadata": {},
   "outputs": [],
   "source": [
    "for i in Relation_raw_all_final_copys:\n",
    "    if i.get('_id'):\n",
    "        del i['_id']\n",
    "json.dump(Relation_raw_all_final_copys,open('results/step3/triplelist.json','w'))"
   ]
  },
  {
   "cell_type": "code",
   "execution_count": 136,
   "id": "0a705ec2-f4d4-4a91-9d58-c9c97ea1b601",
   "metadata": {},
   "outputs": [
    {
     "data": {
      "text/plain": [
       "1537"
      ]
     },
     "execution_count": 136,
     "metadata": {},
     "output_type": "execute_result"
    }
   ],
   "source": [
    "len(Relation_raw_all_final_copys)"
   ]
  },
  {
   "cell_type": "code",
   "execution_count": 137,
   "id": "9f812bf1-f3cd-4ee7-8b48-254087de3aab",
   "metadata": {},
   "outputs": [],
   "source": [
    "collections_Relations_final=db.Relations_final"
   ]
  },
  {
   "cell_type": "code",
   "execution_count": 138,
   "id": "1cb53b1b-506b-4696-8829-47cb6a3d9c5d",
   "metadata": {},
   "outputs": [],
   "source": [
    "for i in Relation_raw_all_final_copys:\n",
    "    i['addtime']=now_time"
   ]
  },
  {
   "cell_type": "code",
   "execution_count": 139,
   "id": "2ca9236f-5b82-42aa-ad96-bb860dc264c3",
   "metadata": {},
   "outputs": [
    {
     "data": {
      "text/plain": [
       "<pymongo.results.InsertManyResult at 0x7f6e879d8fc0>"
      ]
     },
     "execution_count": 139,
     "metadata": {},
     "output_type": "execute_result"
    }
   ],
   "source": [
    "collections_Relations_final.insert_many(Relation_raw_all_final_copys)"
   ]
  },
  {
   "cell_type": "code",
   "execution_count": 140,
   "id": "d7b97bd4-210c-497c-8db4-63653e6c4a83",
   "metadata": {},
   "outputs": [],
   "source": [
    "pickle.dump(Relation_raw_all_final_copys,open('results/step3/Relation_raw_all_final_copy.pkl','wb'))"
   ]
  },
  {
   "cell_type": "code",
   "execution_count": 141,
   "id": "b9f878d7-a38d-4b85-a2e2-527f692c633a",
   "metadata": {},
   "outputs": [],
   "source": [
    "pickle.dump(Relation_raw,open('results/step3/Relation_raw.pkl','wb'))"
   ]
  },
  {
   "cell_type": "code",
   "execution_count": null,
   "id": "de17c91f-9cf3-46f9-b8a0-13f423fe3dbc",
   "metadata": {},
   "outputs": [],
   "source": []
  }
 ],
 "metadata": {
  "kernelspec": {
   "display_name": "hald",
   "language": "python",
   "name": "hald"
  },
  "language_info": {
   "codemirror_mode": {
    "name": "ipython",
    "version": 3
   },
   "file_extension": ".py",
   "mimetype": "text/x-python",
   "name": "python",
   "nbconvert_exporter": "python",
   "pygments_lexer": "ipython3",
   "version": "3.8.15"
  }
 },
 "nbformat": 4,
 "nbformat_minor": 5
}
