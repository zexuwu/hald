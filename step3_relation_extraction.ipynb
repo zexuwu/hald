{
 "cells": [
  {
   "cell_type": "code",
   "execution_count": 15,
   "id": "e1a8fd70-62dc-44e9-a5f4-544936c4aec5",
   "metadata": {},
   "outputs": [],
   "source": [
    "import json\n",
    "import stanza\n",
    "import pickle\n",
    "import datetime\n",
    "import time\n",
    "import re\n",
    "from multiprocessing import Process, Manager, Pool\n",
    "import os, time, random\n",
    "import pymongo \n",
    "from pymongo import MongoClient"
   ]
  },
  {
   "cell_type": "code",
   "execution_count": 16,
   "id": "491ec003-c1b0-4256-a1d1-1b9d0f1b8eb7",
   "metadata": {},
   "outputs": [],
   "source": [
    "client = MongoClient(username=\"hald\",password=\"wzx10221126\")"
   ]
  },
  {
   "cell_type": "code",
   "execution_count": 17,
   "id": "fc362a6a-db48-4218-8983-ffe1a8ea71f8",
   "metadata": {},
   "outputs": [],
   "source": [
    "now=datetime.datetime.now()"
   ]
  },
  {
   "cell_type": "code",
   "execution_count": 18,
   "id": "e8f2dca7-9cf8-46c0-af3b-ff608d101b39",
   "metadata": {},
   "outputs": [],
   "source": [
    "now_time=now.strftime('%Y_%m_%d')"
   ]
  },
  {
   "cell_type": "code",
   "execution_count": 19,
   "id": "4628733f-3b11-41e9-8764-4bd7c88685b7",
   "metadata": {},
   "outputs": [],
   "source": [
    "now_time='2022_12_09'"
   ]
  },
  {
   "cell_type": "code",
   "execution_count": 20,
   "id": "0dd2f47e-ca4f-4a9c-9e07-d2523ce7bca0",
   "metadata": {},
   "outputs": [],
   "source": [
    "pairs=['Gene','RNA','Carbohydrate','Lipid','Peptide', 'Pharmaceutical_Preparations', 'Protein', 'Toxin','Mutation', 'Disease']"
   ]
  },
  {
   "cell_type": "code",
   "execution_count": 21,
   "id": "50946dcc-3f9b-4855-81a0-025f4115a01d",
   "metadata": {},
   "outputs": [],
   "source": [
    "db = client.hald"
   ]
  },
  {
   "cell_type": "code",
   "execution_count": 8,
   "id": "4ee2a2be-dc83-4f0c-9474-9d1b54fd661e",
   "metadata": {},
   "outputs": [],
   "source": [
    "Gene_entities=list(db.Gene_raw.find({'addtime':now_time}))\n",
    "RNA_entities=list(db.RNA_raw.find({'addtime':now_time}))\n",
    "Carbohydrate_entities=list(db.Carbohydrate_raw.find({'addtime':now_time}))\n",
    "Lipid_entities=list(db.Lipid_raw.find({'addtime':now_time}))\n",
    "Peptide_entities=list(db.Peptide_raw.find({'addtime':now_time}))\n",
    "Pharmaceutical_Preparations_entities=list(db.Pharmaceutical_Preparations_raw.find({'addtime':now_time}))\n",
    "Protein_entities=list(db.Protein_raw.find({'addtime':now_time}))\n",
    "Toxin_entities=list(db.Toxin_raw.find({'addtime':now_time}))\n",
    "Mutation_entities=list(db.Mutation_raw.find({'addtime':now_time}))\n",
    "Disease_entities=list(db.Disease_raw.find({'addtime':now_time}))\n",
    "# Mutation_raw_entities=list(db.Mutation_raw.find({'addtime':now_time}))\n",
    "# Disease_raw_entities=list(db.Disease_raw.find({'addtime':now_time}))"
   ]
  },
  {
   "cell_type": "code",
   "execution_count": 9,
   "id": "aff2f502-3278-43cf-8811-e7a1016e7c27",
   "metadata": {},
   "outputs": [],
   "source": [
    "Mutation_all_entities=list(db.Mutation_raw.find())\n",
    "Disease_all_entities=list(db.Disease_raw.find())"
   ]
  },
  {
   "cell_type": "code",
   "execution_count": 10,
   "id": "1190edcf-c0af-4636-9022-60b8eba49935",
   "metadata": {},
   "outputs": [],
   "source": [
    "Mutation_dropout_entities={}\n",
    "Disease_dropout_entities={}\n",
    "for i in Mutation_all_entities:\n",
    "    if not i.get('Genomic View'):\n",
    "        Mutation_dropout_entities[i.get('entity')]=i.get('entity')\n",
    "for i in Disease_all_entities:\n",
    "    if not i.get('url'):\n",
    "        Disease_dropout_entities[i.get('entity')]=i.get('entity')"
   ]
  },
  {
   "cell_type": "code",
   "execution_count": 11,
   "id": "5582c2ce-b846-4245-b268-46ff73362b2f",
   "metadata": {},
   "outputs": [
    {
     "data": {
      "text/plain": [
       "759"
      ]
     },
     "execution_count": 11,
     "metadata": {},
     "output_type": "execute_result"
    }
   ],
   "source": [
    "len(Mutation_dropout_entities)"
   ]
  },
  {
   "cell_type": "code",
   "execution_count": 12,
   "id": "75a58bb7-0b04-4a6f-af45-38430e71584f",
   "metadata": {},
   "outputs": [
    {
     "data": {
      "text/plain": [
       "13986"
      ]
     },
     "execution_count": 12,
     "metadata": {},
     "output_type": "execute_result"
    }
   ],
   "source": [
    "len(Disease_dropout_entities)"
   ]
  },
  {
   "cell_type": "code",
   "execution_count": 14,
   "id": "80ebfab0-d813-4b8e-a308-d41defee3d0c",
   "metadata": {},
   "outputs": [
    {
     "data": {
      "text/plain": [
       "27730"
      ]
     },
     "execution_count": 14,
     "metadata": {},
     "output_type": "execute_result"
    }
   ],
   "source": [
    "len(Disease_entities)"
   ]
  },
  {
   "cell_type": "code",
   "execution_count": 17,
   "id": "fd77aa38-5609-4512-9ade-09f87c03fcbc",
   "metadata": {},
   "outputs": [],
   "source": [
    "names=locals()"
   ]
  },
  {
   "cell_type": "code",
   "execution_count": 18,
   "id": "e537f307-f9ba-4354-90ee-ec745816788f",
   "metadata": {},
   "outputs": [],
   "source": [
    "for j in pairs:\n",
    "    names[j+'_dict']={}\n",
    "    for i in names[j+'_entities']:\n",
    "        names[j+'_dict'][i.get('PMID')]=names[j+'_dict'].get(i.get('PMID'),[])+[i]\n"
   ]
  },
  {
   "cell_type": "code",
   "execution_count": 19,
   "id": "8487ff40-ed9f-4f77-9f0d-7b982977a4cd",
   "metadata": {},
   "outputs": [],
   "source": [
    "diff_relation_dict={}\n",
    "for j in range(len(pairs)-1):\n",
    "    for i in range(j+1,len(pairs)):\n",
    "        for k in list(set(names[pairs[j]+'_dict'].keys()).intersection(set(names[pairs[i]+'_dict'].keys()))):\n",
    "            for l in names[pairs[j]+'_dict'].get(k):\n",
    "                for m in names[pairs[i]+'_dict'].get(k):\n",
    "                    if l.get('sentence')==m.get('sentence') and l.get('entity')!=m.get('entity'):\n",
    "                        diff_relation_dict[l.get('sentence')]=diff_relation_dict.get(l.get('sentence'),[])+[{'PMID':l.get('PMID'),\n",
    "                                                                                                  'entity1':l.get('entity'),\n",
    "                                                                                                   'entity2':m.get('entity'),\n",
    "                                                                                                   'sentence':l.get('sentence'),\n",
    "                                                                                                   'AB':l.get('AB'),\n",
    "                                                                                                   'target1':l.get('target'),\n",
    "                                                                                                    'target1_type':l.get('type'),\n",
    "                                                                                                   'target2':m.get('target'),\n",
    "                                                                                                    'target2_type':m.get('type'),\n",
    "                                                                                                   'PMID':l.get('PMID'),\n",
    "                                                                                                  }]"
   ]
  },
  {
   "cell_type": "code",
   "execution_count": 20,
   "id": "f9b257bb-dad1-4ebf-8d29-d16147177c3c",
   "metadata": {},
   "outputs": [],
   "source": [
    "same_relation_dict={}\n",
    "for j in range(len(pairs)):\n",
    "    for k in names[pairs[j]+'_dict'].values():\n",
    "        for l in range(len(k)-1):\n",
    "            for m in range(l+1,len(k)):\n",
    "                if k[l].get('sentence')==k[m].get('sentence'):\n",
    "                    if k[l].get('entity')!=k[m].get('entity'):\n",
    "                        same_relation_dict[k[l].get('sentence')]=same_relation_dict.get(k[l].get('sentence'),[])+[{'PMID':k[l].get('PMID'),\n",
    "                                                                                                  'entity1':k[l].get('entity'),\n",
    "                                                                                                   'entity2':k[m].get('entity'),\n",
    "                                                                                                   'sentence':k[l].get('sentence'),\n",
    "                                                                                                   'AB':k[l].get('AB'),\n",
    "                                                                                                   'target1':k[l].get('target'),\n",
    "                                                                                                    'target1_type':k[l].get('type'),\n",
    "                                                                                                   'target2':k[m].get('target'),\n",
    "                                                                                                    'target2_type':k[l].get('type'),\n",
    "                                                                                                   'PMID':k[l].get('PMID'),\n",
    "                                                                                                  }]"
   ]
  },
  {
   "cell_type": "code",
   "execution_count": 21,
   "id": "f41b4a54-9a74-4461-9a95-e1348235d4ab",
   "metadata": {},
   "outputs": [
    {
     "name": "stdout",
     "output_type": "stream",
     "text": [
      "4409\n",
      "1119\n",
      "417\n"
     ]
    }
   ],
   "source": [
    "print(len(same_relation_dict))\n",
    "print(len(diff_relation_dict))\n",
    "print(len(list(set(list(same_relation_dict.keys())).intersection(set(list(diff_relation_dict.keys()))))))"
   ]
  },
  {
   "cell_type": "code",
   "execution_count": 22,
   "id": "dbd3342e-e8f9-4a32-8137-88a565984cb7",
   "metadata": {},
   "outputs": [],
   "source": [
    "relation_dict={}\n",
    "for i in same_relation_dict.keys():\n",
    "    if diff_relation_dict.get(i):\n",
    "        relation_dict[i]=same_relation_dict.get(i)+diff_relation_dict.get(i)"
   ]
  },
  {
   "cell_type": "code",
   "execution_count": 23,
   "id": "86c1cadd-1677-4c93-9010-9db21b0c966c",
   "metadata": {},
   "outputs": [
    {
     "name": "stdout",
     "output_type": "stream",
     "text": [
      "4409\n",
      "5111\n"
     ]
    }
   ],
   "source": [
    "for i in same_relation_dict.keys():\n",
    "    if not relation_dict.get(i):\n",
    "        relation_dict[i]=same_relation_dict.get(i)\n",
    "print(len(relation_dict))\n",
    "for i in diff_relation_dict.keys():\n",
    "    if not relation_dict.get(i):\n",
    "        relation_dict[i]=diff_relation_dict.get(i)\n",
    "print(len(relation_dict))"
   ]
  },
  {
   "cell_type": "code",
   "execution_count": null,
   "id": "62c04584-5af6-4c86-b707-092071032539",
   "metadata": {},
   "outputs": [],
   "source": []
  },
  {
   "cell_type": "code",
   "execution_count": null,
   "id": "9444c758-5248-4a3d-aff1-e952ee8f7223",
   "metadata": {},
   "outputs": [],
   "source": []
  },
  {
   "cell_type": "code",
   "execution_count": 24,
   "id": "2aac8d38-5d06-4d06-9043-ed0705abf934",
   "metadata": {},
   "outputs": [],
   "source": [
    "import os\n",
    "os.makedirs('./openie/filelist/')"
   ]
  },
  {
   "cell_type": "code",
   "execution_count": 25,
   "id": "d2511a9a-d4c6-4c38-96db-35787a4ef3a0",
   "metadata": {},
   "outputs": [],
   "source": [
    "ind=1\n",
    "for i in relation_dict.keys():\n",
    "    f=open('./openie/filelist/sentence'+str(ind)+'.txt','w')\n",
    "    f.write(i)\n",
    "    f.close()\n",
    "    ind+=1"
   ]
  },
  {
   "cell_type": "code",
   "execution_count": 26,
   "id": "5254764a-7500-4934-8f98-e5364ad89f3f",
   "metadata": {},
   "outputs": [],
   "source": [
    "f=open('./openie/filelist.txt','a')\n",
    "for i in range(1,len(relation_dict)+1):\n",
    "    f.write('filelist/sentence'+str(i)+'.txt'+'\\n')\n",
    "f.close()"
   ]
  },
  {
   "cell_type": "code",
   "execution_count": null,
   "id": "faa569be-4ab0-45fe-8d08-199943f66368",
   "metadata": {},
   "outputs": [],
   "source": []
  },
  {
   "cell_type": "code",
   "execution_count": null,
   "id": "a895362a-5548-42b3-8883-e2ee8a961d12",
   "metadata": {},
   "outputs": [],
   "source": []
  },
  {
   "cell_type": "code",
   "execution_count": null,
   "id": "d4f25831-a93c-44ce-81ef-bb72c4a102cd",
   "metadata": {},
   "outputs": [],
   "source": []
  },
  {
   "cell_type": "code",
   "execution_count": 27,
   "id": "84eb6863-34ca-4d88-a488-13c53347d835",
   "metadata": {},
   "outputs": [
    {
     "data": {
      "text/plain": [
       "5111"
      ]
     },
     "execution_count": 27,
     "metadata": {},
     "output_type": "execute_result"
    }
   ],
   "source": [
    "len(relation_dict)"
   ]
  },
  {
   "cell_type": "code",
   "execution_count": 28,
   "id": "75551ce2-62f4-4985-aa54-ccaaeff70800",
   "metadata": {},
   "outputs": [],
   "source": [
    "sentences=list(relation_dict.keys())"
   ]
  },
  {
   "cell_type": "code",
   "execution_count": null,
   "id": "d19fcf7d-9f4c-49ea-9413-268268bd8510",
   "metadata": {},
   "outputs": [],
   "source": []
  },
  {
   "cell_type": "code",
   "execution_count": null,
   "id": "c875bb14-50b4-402a-956c-0a88924f8d36",
   "metadata": {},
   "outputs": [],
   "source": []
  },
  {
   "cell_type": "code",
   "execution_count": null,
   "id": "ee7cf356-9df9-47ed-adea-171e821735b9",
   "metadata": {},
   "outputs": [],
   "source": []
  },
  {
   "cell_type": "code",
   "execution_count": 29,
   "id": "8038659c-d703-4889-90fb-3318ba92d4f6",
   "metadata": {},
   "outputs": [],
   "source": [
    "os.makedirs('./openie/files/')\n",
    "k=1\n",
    "for i in range(0,len(sentences),len(sentences)//20):\n",
    "    pickle.dump(sentences[i:i+len(sentences)//20],open('./openie/files/openie'+str(k)+'.pkl','wb'))\n",
    "    k+=1"
   ]
  },
  {
   "cell_type": "code",
   "execution_count": 31,
   "id": "55decc98-3523-49c8-9979-f5d8ddfbd33d",
   "metadata": {},
   "outputs": [],
   "source": [
    "os.makedirs('./rules/files/')\n",
    "k=1\n",
    "for i in range(0,len(sentences),len(sentences)//20):\n",
    "    f=open('./rules/files/rules'+str(k)+'.py','w')\n",
    "    f.write('''\n",
    "import stanza\n",
    "import os\n",
    "import datetime\n",
    "import time\n",
    "nlp = stanza.Pipeline('en', package='genia',download_method=None)\n",
    "import pickle\n",
    "raw=pickle.load(open('../../openie/files/openie'''+str(k)+'''.pkl','rb'))\n",
    "import re \n",
    "\n",
    "def nlpSentence(i,sentence2words,sentence2relations,sentence2verblist,sentence2verbtype,sentence2adv):\n",
    "    sentence=i\n",
    "    doc=nlp(sentence)\n",
    "    words=[]\n",
    "    for sent in doc.sentences:\n",
    "        for word in sent.words:\n",
    "            words.append(word.text)\n",
    "    relations=[]\n",
    "    verblist=[]\n",
    "    verbprototype=[]\n",
    "    adv=[]\n",
    "    for sent in doc.sentences:\n",
    "        for word in sent.words:\n",
    "            relations.append([word.text,words[int(word.head)-1],int(word.id),int(word.head),word.deprel,word.xpos])\n",
    "            if word.xpos in ['VB','VBD','VBG','VBN', 'VBP', 'VBZ']:\n",
    "                verblist.append({word.text:word.xpos})\n",
    "                verbprototype.append({word.text:word.lemma})\n",
    "            if word.xpos in ['RB','RBR','RBS']:\n",
    "                adv.append({word.text:word.xpos})\n",
    "    sentence2words[i]=words\n",
    "    sentence2relations[i]=relations\n",
    "    sentence2verblist[i]=verblist\n",
    "    sentence2verbprototype[i]=verbprototype\n",
    "    sentence2adv[i]=adv\n",
    "\n",
    "\n",
    "start=datetime.datetime.now()\n",
    "print('Parent process %s.' % os.getpid())\n",
    "sentence2words={}\n",
    "sentence2relations={}\n",
    "sentence2verblist={}\n",
    "sentence2verbprototype={}\n",
    "sentence2adv={}\n",
    "for i in raw:\n",
    "    nlpSentence(i,sentence2words,sentence2relations,sentence2verblist,sentence2verbprototype,sentence2adv)\n",
    "pickle.dump(sentence2words,open('sentence2words'''+str(k)+'''.pkl','wb'))\n",
    "pickle.dump(sentence2relations,open('sentence2relations'''+str(k)+'''.pkl','wb'))\n",
    "pickle.dump(sentence2verblist,open('sentence2verblist'''+str(k)+'''.pkl','wb'))\n",
    "pickle.dump(sentence2verbprototype,open('sentence2verbprototype'''+str(k)+'''.pkl','wb'))\n",
    "pickle.dump(sentence2adv,open('sentence2adv'''+str(k)+'''.pkl','wb'))\n",
    "print('Waiting for all subprocesses done...')\n",
    "\n",
    "end=datetime.datetime.now()\n",
    "print(\"The running time is \"+str((end-start).seconds)+\"s\")  \n",
    "    ''')\n",
    "    f.close()\n",
    "    k+=1"
   ]
  },
  {
   "cell_type": "code",
   "execution_count": null,
   "id": "ac7c974f-03c3-4baa-840e-88cbe91dc273",
   "metadata": {},
   "outputs": [],
   "source": [
    "# shell\n",
    "# cd openie\n",
    "# nohup java -mx500g -cp ../../stanza_corenlp/stanford-corenlp-4.3.2.jar:../../stanza_corenlp/stanford-corenlp-4.3.2-models.jar:../../stanza_corenlp/CoreNLP-to-HTML.xsl:../../slf4j-api.jar:../../stanza_corenlp/slf4j-simple.jar edu.stanford.nlp.naturalli.OpenIE -format reverb -filelist ./filelist.txt -output ./openie.txt > ./openie.log &"
   ]
  },
  {
   "cell_type": "code",
   "execution_count": 46,
   "id": "6e7d76fa-9657-409f-99db-7bbf3c0adb59",
   "metadata": {},
   "outputs": [],
   "source": [
    "#shell \n",
    "# cd rules/files\n",
    "# for i in {1..21}; do echo \"nohup python rules${i}.py > rules.log &\" | bash; done"
   ]
  },
  {
   "cell_type": "code",
   "execution_count": null,
   "id": "e810049e-8964-40bc-a86f-fa1dee22fa01",
   "metadata": {},
   "outputs": [],
   "source": []
  },
  {
   "cell_type": "code",
   "execution_count": null,
   "id": "484e2d57-4bb4-4589-a739-310cd2ff697e",
   "metadata": {},
   "outputs": [],
   "source": []
  },
  {
   "cell_type": "code",
   "execution_count": null,
   "id": "152a60ba-0266-4d21-8003-43269a23643a",
   "metadata": {},
   "outputs": [],
   "source": []
  },
  {
   "cell_type": "code",
   "execution_count": 32,
   "id": "7dc95d9c-76f0-4c8d-b6cb-03d8fdd5c76e",
   "metadata": {},
   "outputs": [],
   "source": [
    "import pandas as pd"
   ]
  },
  {
   "cell_type": "code",
   "execution_count": 33,
   "id": "19218ca8-b103-4822-ba93-4663dd79d69e",
   "metadata": {},
   "outputs": [],
   "source": [
    "openie_table=pd.read_table('openie/openie.txt',header=None)"
   ]
  },
  {
   "cell_type": "code",
   "execution_count": 34,
   "id": "cc7ed1c3-0f04-45b4-a9ac-088ad1371e71",
   "metadata": {},
   "outputs": [
    {
     "data": {
      "text/html": [
       "<div>\n",
       "<style scoped>\n",
       "    .dataframe tbody tr th:only-of-type {\n",
       "        vertical-align: middle;\n",
       "    }\n",
       "\n",
       "    .dataframe tbody tr th {\n",
       "        vertical-align: top;\n",
       "    }\n",
       "\n",
       "    .dataframe thead th {\n",
       "        text-align: right;\n",
       "    }\n",
       "</style>\n",
       "<table border=\"1\" class=\"dataframe\">\n",
       "  <thead>\n",
       "    <tr style=\"text-align: right;\">\n",
       "      <th></th>\n",
       "      <th>0</th>\n",
       "      <th>1</th>\n",
       "      <th>2</th>\n",
       "      <th>3</th>\n",
       "      <th>4</th>\n",
       "      <th>5</th>\n",
       "      <th>6</th>\n",
       "      <th>7</th>\n",
       "      <th>8</th>\n",
       "      <th>9</th>\n",
       "      <th>10</th>\n",
       "      <th>11</th>\n",
       "      <th>12</th>\n",
       "      <th>13</th>\n",
       "      <th>14</th>\n",
       "      <th>15</th>\n",
       "      <th>16</th>\n",
       "    </tr>\n",
       "  </thead>\n",
       "  <tbody>\n",
       "    <tr>\n",
       "      <th>0</th>\n",
       "      <td>filelist/sentence4.txt</td>\n",
       "      <td>0</td>\n",
       "      <td>regression statistics</td>\n",
       "      <td>is in</td>\n",
       "      <td>SPSS 16.0</td>\n",
       "      <td>28</td>\n",
       "      <td>30</td>\n",
       "      <td>30</td>\n",
       "      <td>31</td>\n",
       "      <td>31</td>\n",
       "      <td>33</td>\n",
       "      <td>1.0</td>\n",
       "      <td>Association of SOD1 50 bp Indel , GPX1 ( rs180...</td>\n",
       "      <td>NNP IN NN CD NN NNP , NN -LRB- NN -RRB- , CC N...</td>\n",
       "      <td>regression statistics</td>\n",
       "      <td>be in</td>\n",
       "      <td>SPSS 16.0</td>\n",
       "    </tr>\n",
       "    <tr>\n",
       "      <th>1</th>\n",
       "      <td>filelist/sentence4.txt</td>\n",
       "      <td>0</td>\n",
       "      <td>Association genotypes</td>\n",
       "      <td>is with</td>\n",
       "      <td>clinical variables</td>\n",
       "      <td>0</td>\n",
       "      <td>18</td>\n",
       "      <td>18</td>\n",
       "      <td>19</td>\n",
       "      <td>20</td>\n",
       "      <td>22</td>\n",
       "      <td>1.0</td>\n",
       "      <td>Association of SOD1 50 bp Indel , GPX1 ( rs180...</td>\n",
       "      <td>NNP IN NN CD NN NNP , NN -LRB- NN -RRB- , CC N...</td>\n",
       "      <td>Association genotype</td>\n",
       "      <td>be with</td>\n",
       "      <td>clinical variable</td>\n",
       "    </tr>\n",
       "    <tr>\n",
       "      <th>2</th>\n",
       "      <td>filelist/sentence17.txt</td>\n",
       "      <td>0</td>\n",
       "      <td>four CB results</td>\n",
       "      <td>obtained from</td>\n",
       "      <td>carcinoma NOS</td>\n",
       "      <td>1</td>\n",
       "      <td>4</td>\n",
       "      <td>4</td>\n",
       "      <td>6</td>\n",
       "      <td>6</td>\n",
       "      <td>8</td>\n",
       "      <td>1.0</td>\n",
       "      <td>All four CB results obtained from carcinoma NO...</td>\n",
       "      <td>DT CD NN NNS VBN IN NN NNS VBD JJ IN NNP , NN ...</td>\n",
       "      <td>four cb result</td>\n",
       "      <td>obtain from</td>\n",
       "      <td>carcinoma no</td>\n",
       "    </tr>\n",
       "  </tbody>\n",
       "</table>\n",
       "</div>"
      ],
      "text/plain": [
       "                        0   1                      2              3   \\\n",
       "0   filelist/sentence4.txt   0  regression statistics          is in   \n",
       "1   filelist/sentence4.txt   0  Association genotypes        is with   \n",
       "2  filelist/sentence17.txt   0        four CB results  obtained from   \n",
       "\n",
       "                   4   5   6   7   8   9   10   11  \\\n",
       "0           SPSS 16.0  28  30  30  31  31  33  1.0   \n",
       "1  clinical variables   0  18  18  19  20  22  1.0   \n",
       "2       carcinoma NOS   1   4   4   6   6   8  1.0   \n",
       "\n",
       "                                                  12  \\\n",
       "0  Association of SOD1 50 bp Indel , GPX1 ( rs180...   \n",
       "1  Association of SOD1 50 bp Indel , GPX1 ( rs180...   \n",
       "2  All four CB results obtained from carcinoma NO...   \n",
       "\n",
       "                                                  13                     14  \\\n",
       "0  NNP IN NN CD NN NNP , NN -LRB- NN -RRB- , CC N...  regression statistics   \n",
       "1  NNP IN NN CD NN NNP , NN -LRB- NN -RRB- , CC N...   Association genotype   \n",
       "2  DT CD NN NNS VBN IN NN NNS VBD JJ IN NNP , NN ...         four cb result   \n",
       "\n",
       "            15                 16  \n",
       "0        be in          SPSS 16.0  \n",
       "1      be with  clinical variable  \n",
       "2  obtain from       carcinoma no  "
      ]
     },
     "execution_count": 34,
     "metadata": {},
     "output_type": "execute_result"
    }
   ],
   "source": [
    "openie_table.head(3)"
   ]
  },
  {
   "cell_type": "code",
   "execution_count": 57,
   "id": "f126fbbf-b1ac-443f-9ea4-5b501654a6ef",
   "metadata": {},
   "outputs": [
    {
     "ename": "NameError",
     "evalue": "name 'openie_table' is not defined",
     "output_type": "error",
     "traceback": [
      "\u001b[0;31m---------------------------------------------------------------------------\u001b[0m",
      "\u001b[0;31mNameError\u001b[0m                                 Traceback (most recent call last)",
      "Cell \u001b[0;32mIn [57], line 2\u001b[0m\n\u001b[1;32m      1\u001b[0m \u001b[38;5;66;03m# 3770378\u001b[39;00m\n\u001b[0;32m----> 2\u001b[0m \u001b[38;5;28mlen\u001b[39m(\u001b[43mopenie_table\u001b[49m)\n",
      "\u001b[0;31mNameError\u001b[0m: name 'openie_table' is not defined"
     ]
    }
   ],
   "source": [
    "# 3770378\n",
    "len(openie_table)"
   ]
  },
  {
   "cell_type": "code",
   "execution_count": 36,
   "id": "feb785ec-5d25-49e6-a781-f8fd3ea7b631",
   "metadata": {},
   "outputs": [],
   "source": [
    "df=openie_table.loc[:,[0,2,3,4,12]]"
   ]
  },
  {
   "cell_type": "code",
   "execution_count": 37,
   "id": "44a5c1e7-9e2b-4c5e-9c8f-8c323a9a0743",
   "metadata": {},
   "outputs": [],
   "source": [
    "sentences=list(relation_dict.keys())"
   ]
  },
  {
   "cell_type": "code",
   "execution_count": 38,
   "id": "0dc9a59d-3956-4858-b6b1-515be2bf51c0",
   "metadata": {},
   "outputs": [],
   "source": [
    "be=['be','am','is','are','was','were','have been','has been']\n",
    "bedict={}\n",
    "for i in be:\n",
    "    bedict[i]='be'\n"
   ]
  },
  {
   "cell_type": "code",
   "execution_count": 39,
   "id": "102b3e86-57ac-40fa-9c21-936f8330e807",
   "metadata": {},
   "outputs": [],
   "source": [
    "rules_pairs=['sentence2adv','sentence2relations','sentence2verblist','sentence2verbprototype','sentence2words']"
   ]
  },
  {
   "cell_type": "code",
   "execution_count": 40,
   "id": "7cec02c6-1a29-4cef-bf92-8416629a3658",
   "metadata": {},
   "outputs": [],
   "source": [
    "for i in rules_pairs:\n",
    "    names[i]={}\n",
    "    for k in ['rules/files/'+i+str(j)+'.pkl' for j in range(1,22)]:\n",
    "        names[i].update(pickle.load(open(k,'rb')))\n",
    "    # pickle.dump(names[i],open('files/'+i+'.pkl','wb'))"
   ]
  },
  {
   "cell_type": "code",
   "execution_count": 28,
   "id": "b88f59b6-1ad5-4955-b4ea-939141710eb0",
   "metadata": {},
   "outputs": [],
   "source": [
    "finallist=[]\n",
    "for line in range(len(df)):\n",
    "    i=sentences[int(df.iloc[line,0][17:-4])-1]\n",
    "    verblist=sentence2verblist.get(i)\n",
    "    verbrelation=''\n",
    "    real_verb=''\n",
    "    verbdict={}\n",
    "    verbs_split=df.loc[line,3].split(' ')\n",
    "    for verb in verblist:\n",
    "        verbdict.update(verb)\n",
    "    # if len(verbs.split(' '))==1:\n",
    "    #     real_verb=verbs.split(' ')[0]\n",
    "    # else:\n",
    "\n",
    "    for indexx,one in enumerate(verbs_split):\n",
    "        if verbdict.get(one):\n",
    "            verbrelation=one\n",
    "            relations=sentence2relations.get(i)\n",
    "            relations_display=[relation[-2] for relation in relations]\n",
    "            verbprototype=sentence2verbprototype.get(i)\n",
    "            verbprototype_dict={}\n",
    "            for verbp in verbprototype:\n",
    "                verbprototype_dict.update(verbp)\n",
    "            for index_passive,passive in enumerate(relations_display):\n",
    "                if passive=='aux:pass':\n",
    "                    if relations[index_passive][1]==verbrelation:\n",
    "                        verb_prototype=verbrelation\n",
    "                        break\n",
    "                elif passive=='acl' and relations[index_passive][-1]=='VBN':\n",
    "                    if relations[index_passive][0]==verbrelation:\n",
    "                        verb_prototype=verbrelation\n",
    "                        break\n",
    "            else:\n",
    "                for v in verbprototype:\n",
    "                    if v.get(verbrelation):\n",
    "                        verb_prototype=v.get(verbrelation)\n",
    "                        break\n",
    "            verbs_split[indexx]=verb_prototype\n",
    "        elif bedict.get(one):\n",
    "            verbs_split[indexx]=bedict.get(one)\n",
    "    if bedict.get(' '.join(verbs_split[:2])):\n",
    "        final=' '.join(['be']+verbs_split[2:])\n",
    "    else:\n",
    "        final=' '.join(verbs_split)\n",
    "    finallist.append(final)\n",
    "df[17]=finallist"
   ]
  },
  {
   "cell_type": "code",
   "execution_count": null,
   "id": "a2b6b35f-306f-4451-b535-a877b04ffd49",
   "metadata": {},
   "outputs": [],
   "source": []
  },
  {
   "cell_type": "code",
   "execution_count": null,
   "id": "d59b64ac-abb9-4de0-82a8-53ccf8dfe367",
   "metadata": {},
   "outputs": [],
   "source": []
  },
  {
   "cell_type": "code",
   "execution_count": null,
   "id": "f2a4cce1-1aff-43d0-b972-c68dc8cca9d1",
   "metadata": {},
   "outputs": [],
   "source": []
  },
  {
   "cell_type": "code",
   "execution_count": 29,
   "id": "73bf420d-b083-4f93-9334-bd2dd4f4aace",
   "metadata": {},
   "outputs": [],
   "source": [
    "ind=1\n",
    "for i in relation_dict.keys():\n",
    "    names['sentence'+str(ind)]=i\n",
    "    ind+=1"
   ]
  },
  {
   "cell_type": "code",
   "execution_count": 30,
   "id": "97efa3ca-ff16-4b6e-83a0-2aa8af379f42",
   "metadata": {},
   "outputs": [],
   "source": [
    "import copy"
   ]
  },
  {
   "cell_type": "code",
   "execution_count": 293,
   "id": "d30b7954-ec30-48e0-bda0-ce2990e768a8",
   "metadata": {},
   "outputs": [],
   "source": [
    "relation_dict_copy=copy.deepcopy(relation_dict)"
   ]
  },
  {
   "cell_type": "code",
   "execution_count": 294,
   "id": "7d51bfe4-1a83-4040-82bd-fbca19ec6439",
   "metadata": {},
   "outputs": [
    {
     "ename": "KeyError",
     "evalue": "'sentence4'",
     "output_type": "error",
     "traceback": [
      "\u001b[0;31m---------------------------------------------------------------------------\u001b[0m",
      "\u001b[0;31mKeyError\u001b[0m                                  Traceback (most recent call last)",
      "Cell \u001b[0;32mIn [294], line 4\u001b[0m\n\u001b[1;32m      2\u001b[0m suc\u001b[38;5;241m=\u001b[39m[]\n\u001b[1;32m      3\u001b[0m \u001b[38;5;28;01mfor\u001b[39;00m i \u001b[38;5;129;01min\u001b[39;00m \u001b[38;5;28mrange\u001b[39m(\u001b[38;5;241m1\u001b[39m,\u001b[38;5;28mlen\u001b[39m(relation_dict_copy)\u001b[38;5;241m+\u001b[39m\u001b[38;5;241m1\u001b[39m):\n\u001b[0;32m----> 4\u001b[0m     \u001b[38;5;28;01mif\u001b[39;00m relation_dict_copy\u001b[38;5;241m.\u001b[39mget(\u001b[43mnames\u001b[49m\u001b[43m[\u001b[49m\u001b[43mdf\u001b[49m\u001b[38;5;241;43m.\u001b[39;49m\u001b[43miloc\u001b[49m\u001b[43m[\u001b[49m\u001b[43mi\u001b[49m\u001b[38;5;241;43m-\u001b[39;49m\u001b[38;5;241;43m1\u001b[39;49m\u001b[43m,\u001b[49m\u001b[38;5;241;43m0\u001b[39;49m\u001b[43m]\u001b[49m\u001b[43m[\u001b[49m\u001b[38;5;241;43m9\u001b[39;49m\u001b[43m:\u001b[49m\u001b[38;5;241;43m-\u001b[39;49m\u001b[38;5;241;43m4\u001b[39;49m\u001b[43m]\u001b[49m\u001b[43m]\u001b[49m):\n\u001b[1;32m      5\u001b[0m         openie\u001b[38;5;241m=\u001b[39m[]\n\u001b[1;32m      6\u001b[0m         \u001b[38;5;28;01mfor\u001b[39;00m j \u001b[38;5;129;01min\u001b[39;00m relation_dict_copy\u001b[38;5;241m.\u001b[39mget(names[df\u001b[38;5;241m.\u001b[39miloc[i\u001b[38;5;241m-\u001b[39m\u001b[38;5;241m1\u001b[39m,\u001b[38;5;241m0\u001b[39m][\u001b[38;5;241m9\u001b[39m:\u001b[38;5;241m-\u001b[39m\u001b[38;5;241m4\u001b[39m]]):\n",
      "\u001b[0;31mKeyError\u001b[0m: 'sentence4'"
     ]
    }
   ],
   "source": [
    "import re\n",
    "suc=[]\n",
    "for i in range(1,len(relation_dict_copy)+1):\n",
    "    if relation_dict_copy.get(names[df.iloc[i-1,0][9:-4]]):\n",
    "        openie=[]\n",
    "        for j in relation_dict_copy.get(names[df.iloc[i-1,0][9:-4]]):\n",
    "            j1=j.get('target1').translate(str.maketrans({\"-\":  r\"\\-\",\"\\\\\": r\"\\\\\", \"^\":  r\"\\^\",\"$\":  r\"\\$\",\"*\":  r\"\\*\",\".\":  r\"\\.\",\"(\":  r\"\\(\",\")\":  r\"\\)\",\"+\":  r\"\\+\",\"[\":  r\"\\[\",\"]\":  r\"\\]\",\n",
    "                      \"{\":  r\"\\{\",\"}\":  r\"\\}\",\"|\":  r\"\\|\",\"?\":  r\"\\?\"}))\n",
    "            j2=j.get('target2').translate(str.maketrans({\"-\":  r\"\\-\",\"\\\\\": r\"\\\\\", \"^\":  r\"\\^\",\"$\":  r\"\\$\",\"*\":  r\"\\*\",\".\":  r\"\\.\",\"(\":  r\"\\(\",\")\":  r\"\\)\",\"+\":  r\"\\+\",\"[\":  r\"\\[\",\"]\":  r\"\\]\",\n",
    "                      \"{\":  r\"\\{\",\"}\":  r\"\\}\",\"|\":  r\"\\|\",\"?\":  r\"\\?\"}))\n",
    "            if re.search(j1,df.iloc[i-1,1]) and re.search(j2,df.iloc[i-1,3]):\n",
    "                j['openie']=j.get('openie',[])+[[j.get('target1'),df.iloc[i-1,2],j.get('target2')]]\n",
    "                openie.append([j.get('target1'),df.iloc[i-1,2],j.get('target2')])\n",
    "            elif re.search(j2,df.iloc[i-1,1]) and re.search(j1,df.iloc[i-1,3]):\n",
    "                j['openie']=j.get('openie',[])+[[j.get('target2'),df.iloc[i-1,2],j.get('target1')]]\n",
    "                openie.append([j.get('target2'),df.iloc[i-1,2],j.get('target1')]) \n",
    "        if not openie:\n",
    "            suc.append(names[df.iloc[i-1,0][9:-4]])\n",
    "    \n",
    "        "
   ]
  },
  {
   "cell_type": "code",
   "execution_count": 33,
   "id": "70d7b0ec-39b7-4fbe-90f7-beed4f3c42a1",
   "metadata": {},
   "outputs": [],
   "source": [
    "error=[]\n",
    "for i in range(1,len(relation_dict_copy)+1):\n",
    "    if not relation_dict_copy.get(names[df.iloc[i-1,0][9:-4]]):\n",
    "        error.append(names[df.iloc[i-1,0][9:-4]])"
   ]
  },
  {
   "cell_type": "code",
   "execution_count": 34,
   "id": "7658e8f2-c8fc-4f55-8f04-a5f24d85b65a",
   "metadata": {},
   "outputs": [
    {
     "data": {
      "text/plain": [
       "5846"
      ]
     },
     "execution_count": 34,
     "metadata": {},
     "output_type": "execute_result"
    }
   ],
   "source": [
    "len(suc)"
   ]
  },
  {
   "cell_type": "code",
   "execution_count": 35,
   "id": "2319ff5b-aa21-46b7-96f3-ebbcae2190bb",
   "metadata": {},
   "outputs": [
    {
     "data": {
      "text/plain": [
       "6741"
      ]
     },
     "execution_count": 35,
     "metadata": {},
     "output_type": "execute_result"
    }
   ],
   "source": [
    "len(relation_dict_copy)"
   ]
  },
  {
   "cell_type": "code",
   "execution_count": 36,
   "id": "00936837-a355-4516-89e3-723e0e73889a",
   "metadata": {},
   "outputs": [
    {
     "data": {
      "text/plain": [
       "0"
      ]
     },
     "execution_count": 36,
     "metadata": {},
     "output_type": "execute_result"
    }
   ],
   "source": [
    "len(error)"
   ]
  },
  {
   "cell_type": "code",
   "execution_count": 37,
   "id": "440aacb0-6152-4027-b099-3dece5eb73d8",
   "metadata": {},
   "outputs": [],
   "source": [
    "import sys\n",
    "sys.path.append(\"..\")\n",
    "from allennlp.predictors.predictor import Predictor\n",
    "import allennlp_models.structured_prediction\n",
    "PREDICTOR = Predictor.from_path(\"https://storage.googleapis.com/allennlp-public-models/openie-model.2020.03.26.tar.gz\")"
   ]
  },
  {
   "cell_type": "code",
   "execution_count": 38,
   "id": "271e9675-cdf6-4be5-881f-a56d80936640",
   "metadata": {},
   "outputs": [],
   "source": [
    "import re\n",
    "\n",
    "def clean(sent):\n",
    "    return re.sub(' +', ' ', sent.replace('\\r', ' ').replace('\\n', ' '))\n",
    "\n",
    "\n",
    "def get_tags_allen(sent):\n",
    "    sent = sent.replace('[', '(').replace(']', ')')\n",
    "    res = PREDICTOR.predict(\n",
    "      sentence=sent\n",
    "    )\n",
    "    return res\n",
    "\n",
    "\n",
    "def parse_allen(ss):\n",
    "    words = ss['words']\n",
    "    \n",
    "    res = []\n",
    "    for v in ss['verbs']:\n",
    "        tags = v['tags']\n",
    "\n",
    "        d = {}\n",
    "        for i in range(len(words)):\n",
    "            t = tags[i].replace('I-', '').replace('B-', '')\n",
    "            w = words[i]\n",
    "            if t in d:\n",
    "                d[t] += ' '+ w\n",
    "            else:\n",
    "                d[t] = w\n",
    "        res.append(d)\n",
    "    return res"
   ]
  },
  {
   "cell_type": "code",
   "execution_count": null,
   "id": "e23ccc86-3ee3-4a16-afd9-0514c0425ec8",
   "metadata": {},
   "outputs": [],
   "source": [
    "sentence2allennlp={}\n",
    "for i in relation_dict_copy.keys():\n",
    "    res=get_tags_allen(i)\n",
    "    ress=parse_allen(res)\n",
    "    sentence2allennlp[i]=ress"
   ]
  },
  {
   "cell_type": "code",
   "execution_count": null,
   "id": "2175b34e-7f25-483b-9908-95cdbd551342",
   "metadata": {},
   "outputs": [],
   "source": [
    "import re\n",
    "for i,j in relation_dict_copy.items():\n",
    "    for k in j:\n",
    "        k1=k.get('target1').translate(str.maketrans({\"-\":  r\"\\-\",\"\\\\\": r\"\\\\\", \"^\":  r\"\\^\",\"$\":  r\"\\$\",\"*\":  r\"\\*\",\".\":  r\"\\.\",\"(\":  r\"\\(\",\")\":  r\"\\)\",\"+\":  r\"\\+\",\"[\":  r\"\\[\",\"]\":  r\"\\]\",\n",
    "                  \"{\":  r\"\\{\",\"}\":  r\"\\}\",\"|\":  r\"\\|\",\"?\":  r\"\\?\"}))\n",
    "        k2=k.get('target2').translate(str.maketrans({\"-\":  r\"\\-\",\"\\\\\": r\"\\\\\", \"^\":  r\"\\^\",\"$\":  r\"\\$\",\"*\":  r\"\\*\",\".\":  r\"\\.\",\"(\":  r\"\\(\",\")\":  r\"\\)\",\"+\":  r\"\\+\",\"[\":  r\"\\[\",\"]\":  r\"\\]\",\n",
    "                  \"{\":  r\"\\{\",\"}\":  r\"\\}\",\"|\":  r\"\\|\",\"?\":  r\"\\?\"}))\n",
    "        for l in sentence2allennlp.get(i):\n",
    "            if l.get('ARG1') and l.get('ARG2') and l.get('V'):\n",
    "                if re.search(k1,l.get('ARG1')) and re.search(k2,l.get('ARG2')):\n",
    "                    k['allennlp']=k.get('allennlp',[])+[[k.get('target1'), l.get('V') ,k.get('target2')]]\n",
    "                elif re.search(k2,l.get('ARG1')) and re.search(k1,l.get('ARG2')):\n",
    "                    k['allennlp']=k.get('allennlp',[])+[[k.get('target2'), l.get('V') ,k.get('target1')]]"
   ]
  },
  {
   "cell_type": "code",
   "execution_count": null,
   "id": "2c72e5b2-6b41-4e2f-a77f-d8f2cc7fb050",
   "metadata": {},
   "outputs": [],
   "source": [
    "for i,j in relation_dict_copy.items():\n",
    "    for k in j:\n",
    "        if k.get('allennlp'):\n",
    "            print(k)\n",
    "            break\n",
    "    else:\n",
    "        continue\n",
    "    break"
   ]
  },
  {
   "cell_type": "code",
   "execution_count": null,
   "id": "a70db993-e2b3-4120-9190-5745fbf99501",
   "metadata": {},
   "outputs": [],
   "source": [
    "len(sentence2adv)"
   ]
  },
  {
   "cell_type": "code",
   "execution_count": null,
   "id": "dfb7f62f-02bb-4eec-83bd-6f4897089c8b",
   "metadata": {},
   "outputs": [],
   "source": [
    "negativewords=['no','not','never','hardly','barely','scarcely','rarely','few','little','seldom','neither','nor','negatively']\n",
    "negativewords_dict={}\n",
    "for i in negativewords:\n",
    "    negativewords_dict[i]=i"
   ]
  },
  {
   "cell_type": "code",
   "execution_count": 292,
   "id": "0d3e5d5b-f636-4c71-9cc3-928f8e103625",
   "metadata": {},
   "outputs": [
    {
     "data": {
      "text/plain": [
       "'/root/hald_autoupdate/2022_12_09'"
      ]
     },
     "execution_count": 292,
     "metadata": {},
     "output_type": "execute_result"
    }
   ],
   "source": [
    "pwd"
   ]
  },
  {
   "cell_type": "markdown",
   "id": "fd34f2e3-70e4-4401-b57c-6eedeec9bc14",
   "metadata": {},
   "source": [
    "for i,j in relation_dict_copy.items():\n",
    "    for k in j:\n",
    "        if k.get('openie'):\n",
    "            del k['openie']"
   ]
  },
  {
   "cell_type": "code",
   "execution_count": null,
   "id": "4accfd64-869b-43c2-b86e-0424190d5ff2",
   "metadata": {},
   "outputs": [],
   "source": [
    "import datetime\n",
    "import networkx as nx\n",
    "import matplotlib.pyplot as plt\n",
    "from pylab import mpl\n",
    "import re\n",
    "from multiprocessing import Process, Manager, Pool\n",
    "import os, time, random\n",
    "def work(i,j,triple,abnormal, negative_sentences,networkx_raw):\n",
    "    adv=sentence2adv.get(i)\n",
    "    words=sentence2words.get(i)\n",
    "\n",
    "    sentence=i\n",
    "    # length=len(sentence2words.get(i))\n",
    "\n",
    "    relations=sentence2relations.get(i)\n",
    "    relations_display=[relation[-2] for relation in relations]\n",
    "    verblist=sentence2verblist.get(i)\n",
    "    verbprototype=sentence2verbprototype.get(i)\n",
    "    verbprototype_dict={}\n",
    "    for verbp in verbprototype:\n",
    "        verbprototype_dict.update(verbp)\n",
    "    # for k in range(length):\n",
    "    G = nx.Graph()  # 建立无向图G\n",
    "\n",
    "    # 添加节点\n",
    "    for word in words:\n",
    "        G.add_node(word)\n",
    "\n",
    "    G.add_node('root')\n",
    "\n",
    "    # 添加边\n",
    "    for r in range(len(relations)):\n",
    "        if relations[r][4]=='root':\n",
    "            G.add_edge(relations[r][0], 'root',labels=relations[r][4])\n",
    "        else:\n",
    "            G.add_edge(relations[r][0], relations[r][1],labels=relations[r][4])\n",
    "\n",
    "    for k in j:\n",
    "        if verblist:\n",
    "            k1=k.get('target1').translate(str.maketrans({\"-\":  r\"\\-\",\"\\\\\": r\"\\\\\", \"^\":  r\"\\^\",\"$\":  r\"\\$\",\"*\":  r\"\\*\",\".\":  r\"\\.\",\"(\":  r\"\\(\",\")\":  r\"\\)\",\"+\":  r\"\\+\",\"[\":  r\"\\[\",\"]\":  r\"\\]\",\n",
    "                                      \"{\":  r\"\\{\",\"}\":  r\"\\}\",\"|\":  r\"\\|\",\"?\":  r\"\\?\"}))\n",
    "            k2=k.get('target2').translate(str.maketrans({\"-\":  r\"\\-\",\"\\\\\": r\"\\\\\", \"^\":  r\"\\^\",\"$\":  r\"\\$\",\"*\":  r\"\\*\",\".\":  r\"\\.\",\"(\":  r\"\\(\",\")\":  r\"\\)\",\"+\":  r\"\\+\",\"[\":  r\"\\[\",\"]\":  r\"\\]\",\n",
    "                                      \"{\":  r\"\\{\",\"}\":  r\"\\}\",\"|\":  r\"\\|\",\"?\":  r\"\\?\"}))\n",
    "            if re.search(k1,sentence) and re.search(k2,sentence):\n",
    "                worddict={}\n",
    "                for word in words:\n",
    "                    worddict[word]=word\n",
    "                if re.search(k1,sentence).span()[0] < re.search(k2,sentence).span()[0]:\n",
    "                    k1_word=k.get('target1')\n",
    "                    k2_word=k.get('target2')\n",
    "                    if not worddict.get(k1_word):\n",
    "                        for word in words:\n",
    "                            if re.search(r'-',word) and re.search(k1,word):\n",
    "                                k1_word=word\n",
    "                    if not worddict.get(k2_word):\n",
    "                        for word in words:\n",
    "                            if re.search(r'-',word) and re.search(k2,word):\n",
    "                                k2_word=word\n",
    "                    try:\n",
    "                        path=nx.shortest_path(G, source=re.split('[ -]',k1_word)[-1], target=re.split('[ -]',k2_word)[-1])\n",
    "                    except:\n",
    "                        abnormal.append(i)\n",
    "                    else:\n",
    "                        verbdict={}\n",
    "                        for verb in verblist:\n",
    "                            verbdict.update(verb)\n",
    "                        verbrelation=''\n",
    "                        for one in path:\n",
    "                            if verbdict.get(one):\n",
    "                                verbrelation=one\n",
    "\n",
    "                        # verbprototype[verblist.index(verb)]    \n",
    "                        if verbrelation :\n",
    "                            negative=False\n",
    "                            for index_passive,passive in enumerate(relations_display):\n",
    "                                if passive=='aux:pass':\n",
    "                                    if relations[index_passive][1]==verbrelation:\n",
    "                                        verb_prototype=verbrelation\n",
    "                                        break\n",
    "                                elif passive=='acl' and relations[index_passive][-1]=='VBN':\n",
    "                                    if relations[index_passive][0]==verbrelation:\n",
    "                                        verb_prototype=verbrelation\n",
    "                                        break\n",
    "                            else:\n",
    "                                for v in verbprototype:\n",
    "                                    if v.get(verbrelation):\n",
    "                                        verb_prototype=v.get(verbrelation)\n",
    "                                        break\n",
    "                            if verb_prototype:\n",
    "                                for relation in relations:\n",
    "                                    if relation[1]==verbrelation and negativewords_dict.get(relation[0]):\n",
    "                                        negative=True\n",
    "                                if not negative:\n",
    "                                    triple.append({'triple':[k.get('target1'),verb_prototype,k.get('target2')],\\\n",
    "                                                        'PMID':k.get('PMID'), 'sentence':sentence,'AB':k.get('AB'),\n",
    "                                                   'former_target':k.get('target1'),'former_entity':k.get('entity1'),'former_entity_type':k.get('target1_type'),\n",
    "                                                   'verb':verbrelation,'verbprototype':verbprototype_dict.get(verbrelation),'latter_target':k.get('target2'),\n",
    "                                                   'latter_entity':k.get('entity2'),'latter_entity_type':k.get('target2_type')})\n",
    "                                    k['networkx']=[k.get('target1'),verb_prototype,k.get('target2')]\n",
    "                                else:\n",
    "                                    negative_sentences.append(i)\n",
    "                else:\n",
    "                    k1_word=k.get('target1')\n",
    "                    k2_word=k.get('target2')\n",
    "                    if not worddict.get(k1_word):\n",
    "                        for word in words:\n",
    "                            if re.search(r'-',word) and re.search(k1,word):\n",
    "                                k1_word=word\n",
    "                    if not worddict.get(k2_word):\n",
    "                        for word in words:\n",
    "                            if re.search(r'-',word) and re.search(k2,word):\n",
    "                                k2_word=word\n",
    "                    try:\n",
    "                        path=nx.shortest_path(G, source=re.split('[ -]',k2_word)[-1], target=re.split('[ -]',k1_word)[-1])\n",
    "                    except:\n",
    "                        abnormal.append(i)\n",
    "                    else:\n",
    "                        verbdict={}\n",
    "                        for verb in verblist:\n",
    "                            verbdict.update(verb)\n",
    "                        verbrelation=''\n",
    "                        for one in path:\n",
    "                            if verbdict.get(one):\n",
    "                                verbrelation=one\n",
    "                        # verbprototype[verblist.index(verb)]    \n",
    "                        if verbrelation:\n",
    "                            negative=False\n",
    "                            for index_passive,passive in enumerate(relations_display):\n",
    "                                if passive=='aux:pass':\n",
    "                                    if relations[index_passive][1]==verbrelation:\n",
    "                                        verb_prototype=verbrelation\n",
    "                                        break\n",
    "                                elif passive=='acl' and relations[index_passive][-1]=='VBN':\n",
    "                                    if relations[index_passive][0]==verbrelation:\n",
    "                                        verb_prototype=verbrelation\n",
    "                                        break\n",
    "                            else:\n",
    "                                for v in verbprototype:\n",
    "                                    if v.get(verbrelation):\n",
    "                                        verb_prototype=v.get(verbrelation)\n",
    "                                        break\n",
    "                            if verb_prototype:\n",
    "                                for relation in relations:\n",
    "                                    if relation[1]==verbrelation and negativewords_dict.get(relation[0]):\n",
    "                                        negative=True\n",
    "                                if not negative:\n",
    "                                    triple.append({'triple':[k.get('target2'),verb_prototype,k.get('target1')],\\\n",
    "                                                        'PMID':k.get('PMID'), 'sentence':sentence,'AB':k.get('AB'),\n",
    "                                                   'former_target':k.get('target2'),'former_entity':k.get('entity2'),'former_entity_type':k.get('target2_type'),\n",
    "                                                   'verb':verbrelation,'verbprototype':verbprototype_dict.get(verbrelation),'latter_target':k.get('target1'),\n",
    "                                                   'latter_entity':k.get('entity1'),'latter_entity_type':k.get('target1_type')})\n",
    "                                    k['networkx']=[k.get('target2'),verb_prototype,k.get('target1')]\n",
    "                                else:\n",
    "                                    negative_sentences.append(i)\n",
    "        networkx_raw.append(k)\n",
    "if __name__=='__main__':\n",
    "    start=datetime.datetime.now()\n",
    "    print('Parent process %s.' % os.getpid())\n",
    "    p=Pool(40)\n",
    "    manager=Manager()\n",
    "    triple=manager.list()\n",
    "    abnormal=manager.list()\n",
    "    negative_sentences=manager.list()\n",
    "    networkx_raw=manager.list()\n",
    "    for i,j in relation_dict_copy.items():\n",
    "        p.apply_async(work, args=(i,j,triple,abnormal,negative_sentences,networkx_raw))\n",
    "\n",
    "    print('Waiting for all subprocesses done...')\n",
    "    \n",
    "    p.close()\n",
    "    p.join()\n",
    "    print('All subprocesses done.')\n",
    "\n",
    "    end=datetime.datetime.now()\n",
    "    print(\"The running time is \"+str((end-start).seconds)+\"s\")  "
   ]
  },
  {
   "cell_type": "code",
   "execution_count": null,
   "id": "6e3344e8-91eb-464e-a2ad-57e1ac974ac5",
   "metadata": {},
   "outputs": [],
   "source": [
    "triple_list=list(triple)\n",
    "abnormal_list=list(abnormal)\n",
    "negative_list=list(negative_sentences)\n",
    "networkx_raw_list=list(networkx_raw)\n",
    "networkx_raw_dict={}\n",
    "for i in networkx_raw_list:\n",
    "    networkx_raw_dict[i.get('sentence')]=networkx_raw_dict.get(i.get('sentence'),[])+[i]"
   ]
  },
  {
   "cell_type": "code",
   "execution_count": null,
   "id": "0b52906b-0e18-4a24-a1cb-51fa734d495e",
   "metadata": {},
   "outputs": [],
   "source": [
    "raw_pick_pubtator=pickle.load(open('raw_pick_pubtator.pkl','rb'))\n",
    "rawpickwithAB={}\n",
    "for i in raw_pick_pubtator:\n",
    "    rawpickwithAB[i.get('PMID')]=i"
   ]
  },
  {
   "cell_type": "code",
   "execution_count": null,
   "id": "ba92d711-8208-42ae-8a84-dc64e122c442",
   "metadata": {},
   "outputs": [],
   "source": [
    "networkx_raw_list[0]"
   ]
  },
  {
   "cell_type": "code",
   "execution_count": null,
   "id": "65983ab8-e49f-4774-8e56-adf21eac14e8",
   "metadata": {},
   "outputs": [],
   "source": [
    "networkx_raw_dict={}\n",
    "for i in networkx_raw_list:\n",
    "    networkx_raw_dict[i.get('sentence')]=networkx_raw_dict.get(i.get('sentence'),[])+[i]"
   ]
  },
  {
   "cell_type": "code",
   "execution_count": null,
   "id": "1cd05c1a-8899-4a8e-9ae3-8c627b78f992",
   "metadata": {},
   "outputs": [],
   "source": [
    "len(networkx_raw_dict)"
   ]
  },
  {
   "cell_type": "code",
   "execution_count": null,
   "id": "6b378fed-619d-4988-9cb0-9676ff487162",
   "metadata": {},
   "outputs": [],
   "source": [
    "be=['be','am','is','are','was','were','have been','has been']\n",
    "bedict={}\n",
    "for i in be:\n",
    "    bedict[i]=i\n",
    "can=['can','could','will','would','may','might']\n",
    "candict={}\n",
    "for i in can:\n",
    "    candict[i]=i"
   ]
  },
  {
   "cell_type": "code",
   "execution_count": null,
   "id": "aa802227-0c1a-41a2-849d-33364e90ef5d",
   "metadata": {},
   "outputs": [],
   "source": [
    "for i in networkx_raw_list:\n",
    "    openie_mid=[]\n",
    "    openie_final=[]\n",
    "    if i.get('openie'):\n",
    "        for j in i.get('openie'):\n",
    "            if not bedict.get(j[1]) and not candict.get(j[1]):\n",
    "                openie_mid.append(j)\n",
    "        adv=sentence2adv.get(i.get('sentence'))\n",
    "        adv_dict={}\n",
    "        for l in adv:\n",
    "            adv_dict.update(l)\n",
    "        for k in openie_mid:\n",
    "            for m in k[1].split(' '):\n",
    "                if adv_dict.get(m):\n",
    "                    break\n",
    "            else:\n",
    "                if k not in openie_final:\n",
    "                    openie_final.append(k)\n",
    "    i['openie_final']=openie_final\n",
    "        "
   ]
  },
  {
   "cell_type": "code",
   "execution_count": null,
   "id": "bad4ea4c-d355-4173-8cdd-3e72b2b48989",
   "metadata": {},
   "outputs": [],
   "source": [
    "for i in networkx_raw_list:\n",
    "    allennlp_final=[]\n",
    "    if i.get('allennlp'):\n",
    "        for j in i.get('allennlp'):\n",
    "            if not bedict.get(j[1]) and not candict.get(j[1]):\n",
    "                allennlp_final.append(j)\n",
    "    i['allennlp_final']=allennlp_final"
   ]
  },
  {
   "cell_type": "code",
   "execution_count": null,
   "id": "74cc04fe-cb9f-45b8-8655-900b80a8794d",
   "metadata": {},
   "outputs": [],
   "source": [
    "for i in networkx_raw_list:\n",
    "    if i.get('networkx'):\n",
    "        if bedict.get(i.get('networkx')[1]):\n",
    "            i['networkx']=''\n",
    "        elif i.get('networkx')[1]=='\"':\n",
    "            i['networkx']=''\n",
    "    else:\n",
    "        i['networkx']=''"
   ]
  },
  {
   "cell_type": "code",
   "execution_count": null,
   "id": "3b70e380-ca99-4aeb-b749-49ee188b8749",
   "metadata": {},
   "outputs": [],
   "source": [
    "networkx_raw_final=[]\n",
    "for i in networkx_raw_list:\n",
    "    if i.get('networkx') or i.get('openie_final') or i.get('allennlp_final'):\n",
    "        networkx_raw_final.append(i)"
   ]
  },
  {
   "cell_type": "code",
   "execution_count": 156,
   "id": "bcfe38dc-1487-436b-a75b-b4c74a44e7e0",
   "metadata": {},
   "outputs": [
    {
     "ename": "NameError",
     "evalue": "name 'networkx_raw_final' is not defined",
     "output_type": "error",
     "traceback": [
      "\u001b[0;31m---------------------------------------------------------------------------\u001b[0m",
      "\u001b[0;31mNameError\u001b[0m                                 Traceback (most recent call last)",
      "Cell \u001b[0;32mIn [156], line 1\u001b[0m\n\u001b[0;32m----> 1\u001b[0m \u001b[38;5;28mlen\u001b[39m(\u001b[43mnetworkx_raw_final\u001b[49m)\n",
      "\u001b[0;31mNameError\u001b[0m: name 'networkx_raw_final' is not defined"
     ]
    }
   ],
   "source": [
    "len(networkx_raw_final)"
   ]
  },
  {
   "cell_type": "code",
   "execution_count": null,
   "id": "bf155ffe-8edf-4681-93f9-4f87191e26f4",
   "metadata": {},
   "outputs": [],
   "source": [
    "for i in networkx_raw_final:\n",
    "    bidirection=False\n",
    "    if i.get('networkx'):\n",
    "        if i.get('networkx')[1]=='associated' or i.get('networkx')[1]=='associate' :\n",
    "            i['bidirection']=True\n",
    "            continue\n",
    "    if i.get('allennlp'):\n",
    "        for j in i.get('openie_final'):\n",
    "            if j=='associated' or j=='associate' :\n",
    "                bidirection=True\n",
    "                break\n",
    "    if i.get('openie_final'):\n",
    "        for j in i.get('openie_final'):\n",
    "            for k in j[1].split(' '):\n",
    "                if k=='associated' or  k=='associate' :\n",
    "                    bidirection=True\n",
    "                    break\n",
    "            else:\n",
    "                continue\n",
    "            break\n",
    "    i['bidirection']=bidirection\n",
    "    "
   ]
  },
  {
   "cell_type": "code",
   "execution_count": 46,
   "id": "03635522-be98-43a4-aeee-84e5b9c193ea",
   "metadata": {},
   "outputs": [],
   "source": [
    "import copy"
   ]
  },
  {
   "cell_type": "code",
   "execution_count": null,
   "id": "abd25f1f-9107-4d20-8aca-edc1209d3a20",
   "metadata": {},
   "outputs": [],
   "source": [
    "Relation_raw=copy.deepcopy(networkx_raw_final)"
   ]
  },
  {
   "cell_type": "code",
   "execution_count": null,
   "id": "e7148b0c-6e9b-438e-ae0f-4f46f70bdc49",
   "metadata": {},
   "outputs": [],
   "source": [
    "pickle.dump(networkx_raw_final,open('networkx_raw_final.pkl','wb'))"
   ]
  },
  {
   "cell_type": "code",
   "execution_count": null,
   "id": "022501c2-7525-4628-9129-fdfb5cae238d",
   "metadata": {},
   "outputs": [],
   "source": []
  },
  {
   "cell_type": "code",
   "execution_count": null,
   "id": "7c00a405-4a92-4b61-bc50-04ba198cf789",
   "metadata": {},
   "outputs": [],
   "source": []
  },
  {
   "cell_type": "code",
   "execution_count": null,
   "id": "a37e6726-f62e-410d-9cea-95979fada032",
   "metadata": {},
   "outputs": [],
   "source": []
  },
  {
   "cell_type": "code",
   "execution_count": null,
   "id": "8ddb38f7-0676-42f3-8bac-1f8c5e330703",
   "metadata": {},
   "outputs": [],
   "source": []
  },
  {
   "cell_type": "code",
   "execution_count": 22,
   "id": "d1b9b314-647d-4ff3-99d5-2b4693c42eea",
   "metadata": {},
   "outputs": [],
   "source": [
    "networkx_raw_final=pickle.load(open('networkx_raw_final.pkl','rb'))"
   ]
  },
  {
   "cell_type": "code",
   "execution_count": 23,
   "id": "fb582c18-111a-4960-8f1b-598c679e1d85",
   "metadata": {},
   "outputs": [
    {
     "data": {
      "text/plain": [
       "3801"
      ]
     },
     "execution_count": 23,
     "metadata": {},
     "output_type": "execute_result"
    }
   ],
   "source": [
    "len(networkx_raw_final)"
   ]
  },
  {
   "cell_type": "code",
   "execution_count": 24,
   "id": "47c34b60-8302-4f12-af98-a3b73e396235",
   "metadata": {},
   "outputs": [
    {
     "data": {
      "text/plain": [
       "3801"
      ]
     },
     "execution_count": 24,
     "metadata": {},
     "output_type": "execute_result"
    }
   ],
   "source": [
    "len(networkx_raw_final)"
   ]
  },
  {
   "cell_type": "code",
   "execution_count": 25,
   "id": "15b260bf-d281-4c0d-82a8-3b02e7f8313a",
   "metadata": {},
   "outputs": [
    {
     "name": "stdout",
     "output_type": "stream",
     "text": [
      "{'PMID': '35955698', 'entity1': 'LRG1', 'entity2': 'LEP', 'sentence': 'In this study, we investigated the association of LRG1 with obesity markers, including leptin and other adipokines in adolescents (11-14 years; n = 425).', 'AB': 'Leucine-rich alpha-2 glycoprotein1 (LRG1) is a member of the leucine-rich repeat (LRR) family that is implicated in multiple diseases, including cancer, aging, and heart failure, as well as diabetes and obesity. LRG1 plays a key role in diet-induced hepatosteatosis and insulin resistance by mediating the crosstalk between adipocytes and hepatocytes. LRG1 also promotes hepatosteatosis by upregulating de novo lipogenesis in the liver and suppressing fatty acid beta-oxidation. In this study, we investigated the association of LRG1 with obesity markers, including leptin and other adipokines in adolescents (11-14 years; n = 425). BMI-for-age classification based on WHO growth charts was used to define obesity. Plasma LRG1 was measured by ELISA, while other markers were measured by multiplexing assay. Median (IQR) of LRG1 levels was higher in obese (30 (25, 38) microg/mL) and overweight (30 (24, 39) microg/mL) adolescents, compared to normal-weight participants (27 (22, 35) microg/mL). The highest tertile of LRG1 had an OR [95% CI] of 2.55 [1.44, 4.53] for obesity. LRG1 was positively correlated to plasma levels of high sensitivity c-reactive protein (HsCRP) (rho = 0.2), leptin (rho = 0.2), and chemerin (rho = 0.24) with p < 0.001. Additionally, it was positively associated with plasma level of IL6 (rho = 0.17) and IL10 (rho = 0.14) but not TNF-alpha. In conclusion, LRG1 levels are increased in obese adolescents and are associated with increased levels of adipogenic markers. These results suggest the usefulness of LRG1 as an early biomarker for obesity and its related pathologies in adolescents.', 'target1': 'LRG1', 'target1_type': 'DNA', 'target2': 'leptin', 'target2_type': 'DNA', 'allennlp': [['LRG1', 'investigated', 'leptin'], ['leptin', 'including', 'LRG1']], 'openie_final': [], 'allennlp_final': [['LRG1', 'investigated', 'leptin'], ['leptin', 'including', 'LRG1']], 'networkx': '', 'bidirection': False, 'addtime': '2022_12_09'}\n"
     ]
    }
   ],
   "source": [
    "for i in networkx_raw_final:\n",
    "    if i.get('allennlp_final') and len(i.get('allennlp_final'))>1:\n",
    "        print(i)\n",
    "        break"
   ]
  },
  {
   "cell_type": "code",
   "execution_count": 26,
   "id": "1b3202aa-2e71-449d-a9ae-bcb4df6151c0",
   "metadata": {},
   "outputs": [
    {
     "name": "stdout",
     "output_type": "stream",
     "text": [
      "{'PMID': '36261438', 'entity1': 'Nervous System Diseases', 'entity2': 'Disease', 'sentence': 'We show that combined application of TNF and HBEGF, factors associated with neuropathologies, is sufficient to induce photoreceptor degeneration, glial pathologies, dyslamination, and scar formation: These develop simultaneously and progressively as one complex phenotype.', 'AB': 'Human organoids could facilitate research of complex and currently incurable neuropathologies, such as age-related macular degeneration (AMD) which causes blindness. Here, we establish a human retinal organoid system reproducing several parameters of the human retina, including some within the macula, to model a complex combination of photoreceptor and glial pathologies. We show that combined application of TNF and HBEGF, factors associated with neuropathologies, is sufficient to induce photoreceptor degeneration, glial pathologies, dyslamination, and scar formation: These develop simultaneously and progressively as one complex phenotype. Histologic, transcriptome, live-imaging, and mechanistic studies reveal a previously unknown pathomechanism: Photoreceptor neurodegeneration via cell extrusion. This could be relevant for aging, AMD, and some inherited diseases. Pharmacological inhibitors of the mechanosensor PIEZO1, MAPK, and actomyosin each avert pathogenesis; a PIEZO1 activator induces photoreceptor extrusion. Our model offers mechanistic insights, hypotheses for neuropathologies, and it could be used to develop therapies to prevent vision loss or to regenerate the retina in patients suffering from AMD and other diseases.', 'target1': 'neuropathologies', 'target1_type': 'Disease', 'target2': 'glial pathologies', 'target2_type': 'Disease', 'allennlp': [['neuropathologies', 'is', 'glial pathologies']], 'networkx': ['neuropathologies', 'associated', 'glial pathologies'], 'openie_final': [], 'allennlp_final': [], 'bidirection': True, 'addtime': '2022_12_09'}\n",
      "{'PMID': '36264923', 'entity1': 'Disease', 'entity2': 'Alzheimer Disease', 'sentence': \"Several mitochondrial DNA (mtDNA) haplogroup association studies have suggested that common mtDNA variants are associated with multifactorial diseases, including Alzheimer's disease (AD).\", 'AB': \"Several mitochondrial DNA (mtDNA) haplogroup association studies have suggested that common mtDNA variants are associated with multifactorial diseases, including Alzheimer's disease (AD). However, such studies have also produced conflicting results. A new mtDNA association model, the 'variant load model' (VLM), has been applied to multiple disease phenotypes. Application of the VLM in a 2017 study failed to find different variant loads in AD patients compared to controls, in two cohorts of European origin. The study also suggested a lower variant load in healthy elderly individuals, but could offer no replicate cohort to support this observation. Here, the VLM is applied to Japanese mtDNA sequences; in doing so, we explored the role of mtDNA variation in AD and ageing in a different global population. Consistent with the previous findings using the VLM in two populations of European origin, we found no evidence for an association between rarer, non-haplogroup associated variation and the development of AD. However, the result in the context of ageing that suggested those with fewer mildly deleterious mutations might undergo healthier ageing, was not replicated. In contrast to our previous study, our present results suggest that those living to advanced old age may harbour more mildly deleterious mtDNA variations. Importantly our analysis showed this finding is not primarily being driven by many rare population variants dispersed across the mtDNA, but by a few more frequent variants with high MutPred scores. It is suggested the variants in question do not exert a mildly deleterious effect in their most frequent haplogroup context.\", 'target1': 'multifactorial diseases', 'target1_type': 'Disease', 'target2': 'AD', 'target2_type': 'Disease', 'allennlp': [['AD', 'including', 'multifactorial diseases']], 'openie_final': [], 'allennlp_final': [['AD', 'including', 'multifactorial diseases']], 'networkx': '', 'bidirection': False, 'addtime': '2022_12_09'}\n",
      "{'PMID': '36058540', 'entity1': 'Disease', 'entity2': 'late-life depression', 'sentence': 'Depression is a complex and multifactorial disease, affecting about 6.5% of the elderly population in what is referred to as late-life depression (LLD).', 'AB': 'Depression is a complex and multifactorial disease, affecting about 6.5% of the elderly population in what is referred to as late-life depression (LLD). Despite its public health relevance, there is still limited information about the molecular mechanisms of LLD. We analyzed the blood plasma of 50 older adults, 19 with LLD and 31 controls, through untargeted mass spectrometry, and used systems biology tools to identify biochemical pathways and biological processes dysregulated in the disease. We found 96 differentially expressed proteins between LLD patients and control individuals. Using elastic-net regression, we generated a panel of 75 proteins that comprises a potential model for determining the molecular signature of LLD. We also showed that biological pathways related to vesicle-mediated transport and voltage-dependent calcium channels may be dysregulated in LLD. These data can help to build an understanding of the molecular basis of LLD, offering an integrated view of the biomolecular alterations that occur in this disorder. SIGNIFICANCE: Major depressive disorder in the elderly, called late-life depression (LLD), is a common and disabling disorder, with recent prevalence estimates of 6.5% in the general population. Despite the public health relevance, there is still limited information about the molecular mechanisms of LLD. The findings in this paper shed light on LLD heterogeneous biological mechanisms. We uncovered a potential novel biomolecular signature for LLD and biological pathways related to this condition which can be targets for the development of novel interventions for prevention, early diagnosis, and treatment of LLD.', 'target1': 'multifactorial disease', 'target1_type': 'Disease', 'target2': 'late-life depression', 'target2_type': 'Disease', 'networkx': ['multifactorial disease', 'referred', 'late-life depression'], 'openie_final': [], 'allennlp_final': [], 'bidirection': False, 'addtime': '2022_12_09'}\n",
      "{'PMID': '36058540', 'entity1': 'Disease', 'entity2': 'LLD', 'sentence': 'Depression is a complex and multifactorial disease, affecting about 6.5% of the elderly population in what is referred to as late-life depression (LLD).', 'AB': 'Depression is a complex and multifactorial disease, affecting about 6.5% of the elderly population in what is referred to as late-life depression (LLD). Despite its public health relevance, there is still limited information about the molecular mechanisms of LLD. We analyzed the blood plasma of 50 older adults, 19 with LLD and 31 controls, through untargeted mass spectrometry, and used systems biology tools to identify biochemical pathways and biological processes dysregulated in the disease. We found 96 differentially expressed proteins between LLD patients and control individuals. Using elastic-net regression, we generated a panel of 75 proteins that comprises a potential model for determining the molecular signature of LLD. We also showed that biological pathways related to vesicle-mediated transport and voltage-dependent calcium channels may be dysregulated in LLD. These data can help to build an understanding of the molecular basis of LLD, offering an integrated view of the biomolecular alterations that occur in this disorder. SIGNIFICANCE: Major depressive disorder in the elderly, called late-life depression (LLD), is a common and disabling disorder, with recent prevalence estimates of 6.5% in the general population. Despite the public health relevance, there is still limited information about the molecular mechanisms of LLD. The findings in this paper shed light on LLD heterogeneous biological mechanisms. We uncovered a potential novel biomolecular signature for LLD and biological pathways related to this condition which can be targets for the development of novel interventions for prevention, early diagnosis, and treatment of LLD.', 'target1': 'multifactorial disease', 'target1_type': 'Disease', 'target2': 'LLD', 'target2_type': 'Disease', 'networkx': ['multifactorial disease', 'referred', 'LLD'], 'openie_final': [], 'allennlp_final': [], 'bidirection': False, 'addtime': '2022_12_09'}\n"
     ]
    }
   ],
   "source": [
    "for i in networkx_raw_final:\n",
    "    if i.get('entity1')=='Disease' or i.get('entity2')=='Disease':\n",
    "        print(i)"
   ]
  },
  {
   "cell_type": "code",
   "execution_count": 27,
   "id": "01ed92e6-213e-4727-be6c-81249eff44cd",
   "metadata": {},
   "outputs": [],
   "source": [
    "shenmeqingkuang=[]\n",
    "for i in networkx_raw_final:\n",
    "    if i.get('entity1')=='Ceramides' and i.get('target1_type')=='Carbohydrate':\n",
    "        shenmeqingkuang.append(i)\n",
    "    elif i.get('entity2')=='Ceramides' and i.get('target2_type')=='Carbohydrate':\n",
    "        shenmeqingkuang.append(i)"
   ]
  },
  {
   "cell_type": "code",
   "execution_count": 28,
   "id": "cae41716-ec17-4c87-af25-94b69e4becdc",
   "metadata": {},
   "outputs": [
    {
     "data": {
      "text/plain": [
       "[{'PMID': '35302400',\n",
       "  'entity1': 'Ceramides',\n",
       "  'entity2': 'HIV Infections',\n",
       "  'sentence': 'Concentrations of individual lysophosphatidylcholine (LPC) and ceramide (CER) species also differed by HIV serostatus (unadj-p<=0.05).',\n",
       "  'AB': 'BACKGROUND: Age-related comorbidities and physical function impairments in aging people with HIV (PWH) can be improved through exercise interventions. The mechanisms underlying these improvements, including lipidomic changes, are unknown. METHODS: Sedentary adults (50-75 years old) with or without HIV participated in supervised endurance/resistance exercise for 24 weeks. Plasma lipid concentrations (~1200 lipid species from 13 lipid classes) at baseline and week 24 were measured by mass spectrometry. Given multiple comparisons, unadjusted and Benjamini-Hochberg corrected p-values are reported. Analyses are considered exploratory. RESULTS: Twenty-five PWH and 24 controls had paired samples at baseline and week 24. The change in total triacylglycerol (TAG) concentrations following exercise intervention differed between groups (unadj-p=0.006, adj-p=0.078) with concentrations increasing among controls, but not among PWH. Changes in concentrations of TAG species composed of long chain fatty acids differed between groups (unadj-p<0.04) with increases among controls, but not among PWH. Changes in total diacylglycerol (DAG) concentration from baseline to week 24 differed between groups (unadj-p=0.03, adj-p=0.2) with an increase in PWH and a non-significant decrease in controls. Baseline to week 24 changes in DAGs composed of palmitic acid (16:0), palmitoleic acid (16:1), and stearic acid (18:0) differed by serostatus (unadj-p=0.009-0.03; adj-p 0.10-0.12), with non-significant increases and decreases in concentrations in PWH and controls, respectively. Concentrations of individual lysophosphatidylcholine (LPC) and ceramide (CER) species also differed by HIV serostatus (unadj-p<=0.05). CONCLUSIONS: Although exploratory, the effects of exercise on the lipidome may differ among people with and without HIV, potentially due to underlying alterations in lipid processing and fatty acid oxidation in PWH.',\n",
       "  'target1': 'ceramide',\n",
       "  'target1_type': 'Carbohydrate',\n",
       "  'target2': 'HIV serostatus',\n",
       "  'target2_type': 'Disease',\n",
       "  'networkx': ['ceramide', 'differ', 'HIV serostatus'],\n",
       "  'openie_final': [],\n",
       "  'allennlp_final': [],\n",
       "  'bidirection': False,\n",
       "  'addtime': '2022_12_09'},\n",
       " {'PMID': '35302400',\n",
       "  'entity1': 'Ceramides',\n",
       "  'entity2': 'HIV Infections',\n",
       "  'sentence': 'Concentrations of individual lysophosphatidylcholine (LPC) and ceramide (CER) species also differed by HIV serostatus (unadj-p<=0.05).',\n",
       "  'AB': 'BACKGROUND: Age-related comorbidities and physical function impairments in aging people with HIV (PWH) can be improved through exercise interventions. The mechanisms underlying these improvements, including lipidomic changes, are unknown. METHODS: Sedentary adults (50-75 years old) with or without HIV participated in supervised endurance/resistance exercise for 24 weeks. Plasma lipid concentrations (~1200 lipid species from 13 lipid classes) at baseline and week 24 were measured by mass spectrometry. Given multiple comparisons, unadjusted and Benjamini-Hochberg corrected p-values are reported. Analyses are considered exploratory. RESULTS: Twenty-five PWH and 24 controls had paired samples at baseline and week 24. The change in total triacylglycerol (TAG) concentrations following exercise intervention differed between groups (unadj-p=0.006, adj-p=0.078) with concentrations increasing among controls, but not among PWH. Changes in concentrations of TAG species composed of long chain fatty acids differed between groups (unadj-p<0.04) with increases among controls, but not among PWH. Changes in total diacylglycerol (DAG) concentration from baseline to week 24 differed between groups (unadj-p=0.03, adj-p=0.2) with an increase in PWH and a non-significant decrease in controls. Baseline to week 24 changes in DAGs composed of palmitic acid (16:0), palmitoleic acid (16:1), and stearic acid (18:0) differed by serostatus (unadj-p=0.009-0.03; adj-p 0.10-0.12), with non-significant increases and decreases in concentrations in PWH and controls, respectively. Concentrations of individual lysophosphatidylcholine (LPC) and ceramide (CER) species also differed by HIV serostatus (unadj-p<=0.05). CONCLUSIONS: Although exploratory, the effects of exercise on the lipidome may differ among people with and without HIV, potentially due to underlying alterations in lipid processing and fatty acid oxidation in PWH.',\n",
       "  'target1': 'CER',\n",
       "  'target1_type': 'Carbohydrate',\n",
       "  'target2': 'HIV serostatus',\n",
       "  'target2_type': 'Disease',\n",
       "  'networkx': ['CER', 'differ', 'HIV serostatus'],\n",
       "  'openie_final': [],\n",
       "  'allennlp_final': [],\n",
       "  'bidirection': False,\n",
       "  'addtime': '2022_12_09'}]"
      ]
     },
     "execution_count": 28,
     "metadata": {},
     "output_type": "execute_result"
    }
   ],
   "source": [
    "shenmeqingkuang"
   ]
  },
  {
   "cell_type": "code",
   "execution_count": 29,
   "id": "aa61fb36-7184-47b3-a58a-0a5b81b5e268",
   "metadata": {},
   "outputs": [
    {
     "data": {
      "text/plain": [
       "2"
      ]
     },
     "execution_count": 29,
     "metadata": {},
     "output_type": "execute_result"
    }
   ],
   "source": [
    "len(shenmeqingkuang)"
   ]
  },
  {
   "cell_type": "code",
   "execution_count": 30,
   "id": "1f9f4e4f-6656-4bfe-85b5-ec8f9d99adf2",
   "metadata": {},
   "outputs": [
    {
     "data": {
      "text/plain": [
       "{'PMID': '35926182',\n",
       " 'entity1': 'SF3B1',\n",
       " 'entity2': 'EIF2AK1',\n",
       " 'sentence': 'Here, using single-cell technologies and functional validation studies of primary SF3B1-mutant MDS-RS samples, we show that SF3B1 mutations lead to the activation of the EIF2AK1 pathway in response to heme deficiency and that targeting this pathway rescues aberrant erythroid differentiation and enables the red blood cell maturation of MDS-RS erythroblasts.',\n",
       " 'AB': 'SF3B1 mutations, which occur in 20% of patients with myelodysplastic syndromes (MDS), are the hallmarks of a specific MDS subtype, MDS with ringed sideroblasts (MDS-RS), which is characterized by the accumulation of erythroid precursors in the bone marrow and primarily affects the elderly population. Here, using single-cell technologies and functional validation studies of primary SF3B1-mutant MDS-RS samples, we show that SF3B1 mutations lead to the activation of the EIF2AK1 pathway in response to heme deficiency and that targeting this pathway rescues aberrant erythroid differentiation and enables the red blood cell maturation of MDS-RS erythroblasts. These data support the development of EIF2AK1 inhibitors to overcome transfusion dependency in patients with SF3B1-mutant MDS-RS with impaired red blood cell production.',\n",
       " 'target1': 'SF3B1',\n",
       " 'target1_type': 'DNA',\n",
       " 'target2': 'EIF2AK1',\n",
       " 'target2_type': 'DNA',\n",
       " 'networkx': ['SF3B1', 'lead', 'EIF2AK1'],\n",
       " 'openie_final': [],\n",
       " 'allennlp_final': [],\n",
       " 'bidirection': False,\n",
       " 'addtime': '2022_12_09'}"
      ]
     },
     "execution_count": 30,
     "metadata": {},
     "output_type": "execute_result"
    }
   ],
   "source": [
    "networkx_raw_final[0]"
   ]
  },
  {
   "cell_type": "code",
   "execution_count": 31,
   "id": "3cd9ecd0-b2d2-44c9-b3ca-1f3237152446",
   "metadata": {},
   "outputs": [],
   "source": [
    "collections_Relation_raw=db.Relation_raw"
   ]
  },
  {
   "cell_type": "code",
   "execution_count": null,
   "id": "66c2ba7d-2914-46da-9b1f-985516f3aee2",
   "metadata": {},
   "outputs": [],
   "source": [
    "for i in Relation_raw:\n",
    "    i['addtime']=now_time"
   ]
  },
  {
   "cell_type": "code",
   "execution_count": null,
   "id": "6a24efb6-72fd-4954-907a-aef6ec62e09b",
   "metadata": {},
   "outputs": [],
   "source": [
    "collections_Relation_raw.insert_many(Relation_raw)"
   ]
  },
  {
   "cell_type": "code",
   "execution_count": null,
   "id": "783a8bd5-b80a-4a42-beb1-1d4c01b99a72",
   "metadata": {},
   "outputs": [],
   "source": []
  },
  {
   "cell_type": "code",
   "execution_count": 175,
   "id": "fac5dca0-d05d-4154-9d27-42f8313dd95c",
   "metadata": {},
   "outputs": [],
   "source": [
    "collections_Relation_raw=db.Relation_raw"
   ]
  },
  {
   "cell_type": "code",
   "execution_count": 176,
   "id": "cd177603-6afc-4963-ac66-3f8972338eab",
   "metadata": {},
   "outputs": [],
   "source": [
    "Relation_raw_all=list(collections_Relation_raw.find())"
   ]
  },
  {
   "cell_type": "code",
   "execution_count": 177,
   "id": "3d520528-b552-4f85-9f82-81dc56e17682",
   "metadata": {},
   "outputs": [
    {
     "data": {
      "text/plain": [
       "153050"
      ]
     },
     "execution_count": 177,
     "metadata": {},
     "output_type": "execute_result"
    }
   ],
   "source": [
    "# 153050\n",
    "len(Relation_raw_all)"
   ]
  },
  {
   "cell_type": "code",
   "execution_count": 178,
   "id": "2cb9b314-5de2-4899-885c-4aa05c55f266",
   "metadata": {},
   "outputs": [
    {
     "data": {
      "text/plain": [
       "'/root/hald_autoupdate/2022_12_09'"
      ]
     },
     "execution_count": 178,
     "metadata": {},
     "output_type": "execute_result"
    }
   ],
   "source": [
    "pwd"
   ]
  },
  {
   "cell_type": "code",
   "execution_count": null,
   "id": "0b99d56c-51ea-4cc7-b51c-da58d0882fc8",
   "metadata": {},
   "outputs": [],
   "source": []
  },
  {
   "cell_type": "markdown",
   "id": "75d5810d-3498-4b7d-9bb9-6789e88fba36",
   "metadata": {},
   "source": [
    "for i in Relation_raw_all:\n",
    "    if i.get('entity1')=='Ceramides' and i.get('target1_type')=='Carbohydrate':\n",
    "        print(i)\n",
    "        break\n",
    "    elif i.get('entity2')=='Ceramides' and i.get('target2_type')=='Carbohydrate':\n",
    "        print(i)\n",
    "        break"
   ]
  },
  {
   "cell_type": "code",
   "execution_count": null,
   "id": "ddb96e4d-0dae-40a2-ac19-c4708a1a9b7f",
   "metadata": {},
   "outputs": [],
   "source": []
  },
  {
   "cell_type": "code",
   "execution_count": null,
   "id": "648549bc-9fe8-484d-a256-edb5af79f5bc",
   "metadata": {},
   "outputs": [],
   "source": []
  },
  {
   "cell_type": "code",
   "execution_count": null,
   "id": "a99a4cfe-11b8-4c4d-8221-353b2d723574",
   "metadata": {},
   "outputs": [],
   "source": []
  },
  {
   "cell_type": "code",
   "execution_count": null,
   "id": "7f023b25-9264-438f-a265-787d623503d3",
   "metadata": {},
   "outputs": [],
   "source": []
  },
  {
   "cell_type": "code",
   "execution_count": null,
   "id": "ad1025f9-f2da-4f25-b1af-985f55adf8f3",
   "metadata": {},
   "outputs": [],
   "source": []
  },
  {
   "cell_type": "code",
   "execution_count": 179,
   "id": "a200e0c2-b124-4fc4-8400-682f62015021",
   "metadata": {},
   "outputs": [
    {
     "data": {
      "text/plain": [
       "{'_id': ObjectId('63a9bf280032074d8b2142c6'),\n",
       " 'PMID': '36191742',\n",
       " 'entity1': 'CR1',\n",
       " 'entity2': 'Dementia',\n",
       " 'sentence': 'As expected, a subset of dementia-associated SNVs were associated with ADNC risk in Europeans-e.g., BIN1, PICALM, CR1, MME, and COX7C.',\n",
       " 'AB': 'The classic pathologic hallmarks of Alzheimer\\'s disease (AD) are amyloid plaques and neurofibrillary tangles (AD neuropathologic changes, or ADNC). However, brains from individuals clinically diagnosed with \"AD-type\" (amnestic) dementia usually harbor heterogeneous neuropathologies in addition to, or other than, ADNC. We hypothesized that some AD-type dementia associated genetic single nucleotide variants (SNVs) identified from large genomewide association studies (GWAS) were associated with non-ADNC neuropathologies. To test this hypothesis, we analyzed data from multiple studies with available genotype and neuropathologic phenotype information. Clinical AD/dementia risk alleles of interest were derived from the very large GWAS by Bellenguez et al. (2022) who reported 83 clinical AD/dementia-linked SNVs in addition to APOE risk alleles. To query the pathologic phenotypes associated with variation of those SNVs, National Alzheimer\\'s disease Coordinating Center (NACC) neuropathologic data were linked to AD Sequencing Project (ADSP) and AD Genomics Consortium (ADGC) data. Separate data were obtained from the harmonized Religious Orders Study and the Rush Memory and Aging Project (ROSMAP). A total of 4811 European participants had at least ADNC neuropathology data and also genotype data available; data were meta-analyzed across cohorts. As expected, a subset of dementia-associated SNVs were associated with ADNC risk in Europeans-e.g., BIN1, PICALM, CR1, MME, and COX7C. Other gene variants linked to (clinical) AD dementia were associated with non-ADNC pathologies. For example, the associations of GRN and TMEM106B SNVs with limbic-predominant age-related TDP-43 neuropathologic changes (LATE-NC) were replicated. In addition, SNVs in TNIP1 and WNT3 previously reported as AD-related were instead associated with hippocampal sclerosis pathology. Some genotype/neuropathology association trends were not statistically significant at P < 0.05 after correcting for multiple testing, but were intriguing. For example, variants in SORL1 and TPCN1 showed trends for association with LATE-NC whereas Lewy body pathology trended toward association with USP6NL and BIN1 gene variants. A smaller cohort of non-European subjects (n = 273, approximately one-half of whom were African-Americans) provided the basis for additional exploratory analyses. Overall, these findings were consistent with the hypothesis that some genetic variants linked to AD dementia risk exert their affect by influencing non-ADNC neuropathologies.',\n",
       " 'target1': 'CR1',\n",
       " 'target1_type': 'DNA',\n",
       " 'target2': 'dementia',\n",
       " 'target2_type': 'Disease',\n",
       " 'allennlp': [['dementia', 'associated', 'CR1']],\n",
       " 'networkx': ['dementia', 'associated', 'CR1'],\n",
       " 'openie_final': [],\n",
       " 'allennlp_final': [['dementia', 'associated', 'CR1']],\n",
       " 'bidirection': True,\n",
       " 'addtime': '2022_12_09'}"
      ]
     },
     "execution_count": 179,
     "metadata": {},
     "output_type": "execute_result"
    }
   ],
   "source": [
    "Relation_raw_all[20]"
   ]
  },
  {
   "cell_type": "markdown",
   "id": "f6322885-7367-401e-b45d-c63b030744ea",
   "metadata": {},
   "source": [
    "hellos=0\n",
    "hellos2=0\n",
    "for i in Relation_raw_all:\n",
    "    if i.get('openie_final'):\n",
    "        if i.get('networkx'):\n",
    "            for j in i.get('openie_final'):\n",
    "                if i.get('networkx')[1] in j[1].split(' '):\n",
    "                    i['networkx']=j\n",
    "                    hellos+=1\n",
    "                    break\n",
    "        if i.get('allennlp_final'):\n",
    "            for k in range(len(i.get('allennlp_final'))):\n",
    "                for l in i.get('openie_final'):\n",
    "                    if i.get('allennlp_final')[k][1] in l[1].split(' '):\n",
    "                        i.get('allennlp_final')[k][1]=l\n",
    "                        hellos2+=1\n",
    "                        break"
   ]
  },
  {
   "cell_type": "code",
   "execution_count": 180,
   "id": "95d3e350-16ed-4017-bc78-6d384896b7bf",
   "metadata": {},
   "outputs": [],
   "source": [
    "for i in Relation_raw_all:\n",
    "    del i['_id']"
   ]
  },
  {
   "cell_type": "markdown",
   "id": "acc46cda-877e-424d-a838-263686dde884",
   "metadata": {},
   "source": [
    "#1611\n",
    "hellos"
   ]
  },
  {
   "cell_type": "markdown",
   "id": "a578e9d3-f7f4-4e15-9f04-d9b559390eab",
   "metadata": {},
   "source": [
    "#427\n",
    "hellos2"
   ]
  },
  {
   "cell_type": "markdown",
   "id": "2d756e49-499e-4f6a-8430-ff5bae8774b8",
   "metadata": {},
   "source": [
    "json.dump(Relation_raw_all,open('relationinfo.json','w'))"
   ]
  },
  {
   "cell_type": "code",
   "execution_count": 181,
   "id": "657dec9c-aa7e-45a9-8f11-8fc27ab4588b",
   "metadata": {},
   "outputs": [
    {
     "data": {
      "text/plain": [
       "153050"
      ]
     },
     "execution_count": 181,
     "metadata": {},
     "output_type": "execute_result"
    }
   ],
   "source": [
    "len(Relation_raw_all)"
   ]
  },
  {
   "cell_type": "code",
   "execution_count": null,
   "id": "7f0ff8c1-2d34-49f8-b09a-d949a23ceef1",
   "metadata": {},
   "outputs": [],
   "source": []
  },
  {
   "cell_type": "code",
   "execution_count": null,
   "id": "0c0f3466-f1ea-40d3-9c1f-a5d3b5af8e48",
   "metadata": {},
   "outputs": [],
   "source": []
  },
  {
   "cell_type": "code",
   "execution_count": null,
   "id": "d2483cbe-abbc-440d-bac6-72bf1f075946",
   "metadata": {},
   "outputs": [],
   "source": []
  },
  {
   "cell_type": "code",
   "execution_count": null,
   "id": "db6657dd-e3e4-4a65-b0a9-2e6a0d83c13b",
   "metadata": {},
   "outputs": [],
   "source": []
  },
  {
   "cell_type": "code",
   "execution_count": null,
   "id": "e50321c8-e689-42cb-add9-8ac33c743cd8",
   "metadata": {},
   "outputs": [],
   "source": []
  },
  {
   "cell_type": "code",
   "execution_count": null,
   "id": "3d8cd421-506e-4819-bcab-ab43c119ffe8",
   "metadata": {},
   "outputs": [],
   "source": []
  },
  {
   "cell_type": "code",
   "execution_count": 182,
   "id": "e1c08e42-45c5-4720-93e4-106ab59ca500",
   "metadata": {},
   "outputs": [],
   "source": [
    "Relation_raw_all_with_disease=[]\n",
    "for i in Relation_raw_all:\n",
    "    if i.get('target1_type')=='Disease':\n",
    "        if Disease_dropout_entities.get(i.get('entity1')):\n",
    "            continue\n",
    "    if i.get('target2_type')=='Disease':\n",
    "        if Disease_dropout_entities.get(i.get('entity2')):\n",
    "            continue\n",
    "    if i.get('target1_type')=='Mutation':\n",
    "        if Mutation_dropout_entities.get(i.get('entity1')):\n",
    "            continue\n",
    "    if i.get('target2_type')=='Mutation':\n",
    "        if Mutation_dropout_entities.get(i.get('entity2')):\n",
    "            continue\n",
    "    Relation_raw_all_with_disease.append(i)"
   ]
  },
  {
   "cell_type": "code",
   "execution_count": 189,
   "id": "2d9ac433-5003-42d6-92c4-94fb68b39096",
   "metadata": {},
   "outputs": [],
   "source": [
    "all_es=json.load(open('results/all_es_lack.json'))"
   ]
  },
  {
   "cell_type": "code",
   "execution_count": 195,
   "id": "16c8ffeb-aae6-43e4-b08c-ef868c8b7148",
   "metadata": {},
   "outputs": [],
   "source": [
    "# multi_cheicals=[]\n",
    "multi_chemical_type2={}\n",
    "for i in all_es:\n",
    "    if not multi_chemical_type2.get(i.get('entity')):\n",
    "        multi_chemical_type2[i.get('entity')]=[i.get('type')]\n",
    "    else:\n",
    "        if i.get('type') not in multi_chemical_type2.get(i.get('entity')):\n",
    "            multi_chemical_type2[i.get('entity')]+=[i.get('type')]"
   ]
  },
  {
   "cell_type": "code",
   "execution_count": 196,
   "id": "162511e2-2851-49f1-aefa-4d951198f483",
   "metadata": {},
   "outputs": [
    {
     "name": "stdout",
     "output_type": "stream",
     "text": [
      "{'Lipopolysaccharides': ['Carbohydrate', 'Lipid', 'Toxin']}\n",
      "{'Vancomycin': ['Carbohydrate', 'Peptide']}\n",
      "{'Ceramides': ['Carbohydrate', 'Lipid']}\n",
      "{'Sphingomyelins': ['Carbohydrate', 'Lipid']}\n",
      "{'Bleomycin': ['Carbohydrate', 'Peptide']}\n",
      "{'Teicoplanin': ['Carbohydrate', 'Peptide']}\n",
      "{'Lipid A': ['Carbohydrate', 'Lipid', 'Toxin']}\n",
      "{'G(M1) Ganglioside': ['Carbohydrate', 'Lipid']}\n",
      "{'Gangliosides': ['Carbohydrate', 'Lipid']}\n",
      "{'Glycosphingolipids': ['Carbohydrate', 'Lipid']}\n",
      "{'Sulfoglycosphingolipids': ['Carbohydrate', 'Lipid']}\n",
      "{'Glycolipids': ['Carbohydrate', 'Lipid']}\n",
      "{'G(M3) Ganglioside': ['Carbohydrate', 'Lipid']}\n",
      "{'Glycopeptides': ['Carbohydrate', 'Peptide']}\n",
      "{'Glycosylphosphatidylinositols': ['Carbohydrate', 'Lipid']}\n",
      "{'Globosides': ['Carbohydrate', 'Lipid']}\n",
      "{'Ristocetin': ['Carbohydrate', 'Peptide']}\n",
      "{'Glucosylceramides': ['Carbohydrate', 'Lipid']}\n",
      "{'Holothurin': ['Carbohydrate', 'Toxin']}\n",
      "{'Glycerylphosphorylcholine': ['Carbohydrate', 'Lipid']}\n",
      "{'Glycerophosphates': ['Carbohydrate', 'Lipid']}\n",
      "{'Cerebrosides': ['Carbohydrate', 'Lipid']}\n",
      "{'Psychosine': ['Carbohydrate', 'Lipid']}\n",
      "{'Lactosylceramides': ['Carbohydrate', 'Lipid']}\n",
      "{'Phospholipid Ethers': ['Carbohydrate', 'Lipid']}\n",
      "{'Galactolipids': ['Carbohydrate', 'Lipid']}\n",
      "{'O Antigens': ['Carbohydrate', 'Lipid', 'Toxin']}\n",
      "{'Daptomycin': ['Lipid', 'Peptide']}\n",
      "{'Caspofungin': ['Lipid', 'Peptide']}\n",
      "{'Micafungin': ['Lipid', 'Peptide']}\n",
      "{'Lipopeptides': ['Lipid', 'Peptide']}\n",
      "{'Cilastatin, Imipenem Drug Combination': ['Lipid', 'Pharmaceutical Preparations']}\n",
      "{'Exenatide': ['Peptide', 'Toxin']}\n",
      "{'Certolizumab Pegol': ['Peptide', 'Protein']}\n",
      "{'Phalloidine': ['Peptide', 'Toxin']}\n",
      "{'Abciximab': ['Peptide', 'Protein']}\n",
      "{'Alpha-Amanitin': ['Peptide', 'Toxin']}\n",
      "{'Charybdotoxin': ['Peptide', 'Toxin']}\n",
      "{'Angiotensins': ['Peptide', 'Protein']}\n",
      "39\n"
     ]
    }
   ],
   "source": [
    "cxz=0\n",
    "for i,j in multi_chemical_type2.items():\n",
    "    if len(j)>1:\n",
    "        cxz+=1\n",
    "        print({i:j})\n",
    "print(cxz)"
   ]
  },
  {
   "cell_type": "code",
   "execution_count": null,
   "id": "50c2d75f-effc-4009-81f8-643eefc4ea1d",
   "metadata": {},
   "outputs": [],
   "source": []
  },
  {
   "cell_type": "markdown",
   "id": "6083a37a-fe1a-4e16-a12a-ba47d9f51677",
   "metadata": {},
   "source": [
    "multi_chemical_type1=json.load(open('multi_chemical_type.json'))\n",
    "multi_chemical_type2=json.load(open('/root/hald/step6_entities_info/chemical/multi_chemical_type.json'))"
   ]
  },
  {
   "cell_type": "markdown",
   "id": "afe8fb90-6286-46f2-b9b7-25d1d2db17b0",
   "metadata": {},
   "source": [
    "multi_chemical_type1"
   ]
  },
  {
   "cell_type": "markdown",
   "id": "caa02ff2-a9e4-4e70-bc01-59ed635df2d5",
   "metadata": {},
   "source": [
    "multi_chemical_type2"
   ]
  },
  {
   "cell_type": "markdown",
   "id": "8ab8647f-c210-4014-a369-e6762961ffad",
   "metadata": {},
   "source": [
    "len(multi_chemical_type2)"
   ]
  },
  {
   "cell_type": "markdown",
   "id": "68ba60f5-2c47-4e96-aab4-b0b370abbed5",
   "metadata": {},
   "source": [
    "for i,j in multi_chemical_type1.items():\n",
    "    if not multi_chemical_type2.get(i):\n",
    "        multi_chemical_type2[i]=j"
   ]
  },
  {
   "cell_type": "markdown",
   "id": "bba6a855-5ee6-4369-aa69-3798b6ea0c88",
   "metadata": {},
   "source": [
    "len(multi_chemical_type2)"
   ]
  },
  {
   "cell_type": "code",
   "execution_count": 187,
   "id": "3a4b7227-3a48-4e40-8f04-2015aa4e7796",
   "metadata": {},
   "outputs": [
    {
     "data": {
      "text/plain": [
       "121897"
      ]
     },
     "execution_count": 187,
     "metadata": {},
     "output_type": "execute_result"
    }
   ],
   "source": [
    "len(Relation_raw_all_with_disease)"
   ]
  },
  {
   "cell_type": "code",
   "execution_count": 188,
   "id": "151de645-ab53-47d7-9c5c-70dcd0531e82",
   "metadata": {},
   "outputs": [
    {
     "data": {
      "text/plain": [
       "{'PMID': '35926182',\n",
       " 'entity1': 'SF3B1',\n",
       " 'entity2': 'EIF2AK1',\n",
       " 'sentence': 'Here, using single-cell technologies and functional validation studies of primary SF3B1-mutant MDS-RS samples, we show that SF3B1 mutations lead to the activation of the EIF2AK1 pathway in response to heme deficiency and that targeting this pathway rescues aberrant erythroid differentiation and enables the red blood cell maturation of MDS-RS erythroblasts.',\n",
       " 'AB': 'SF3B1 mutations, which occur in 20% of patients with myelodysplastic syndromes (MDS), are the hallmarks of a specific MDS subtype, MDS with ringed sideroblasts (MDS-RS), which is characterized by the accumulation of erythroid precursors in the bone marrow and primarily affects the elderly population. Here, using single-cell technologies and functional validation studies of primary SF3B1-mutant MDS-RS samples, we show that SF3B1 mutations lead to the activation of the EIF2AK1 pathway in response to heme deficiency and that targeting this pathway rescues aberrant erythroid differentiation and enables the red blood cell maturation of MDS-RS erythroblasts. These data support the development of EIF2AK1 inhibitors to overcome transfusion dependency in patients with SF3B1-mutant MDS-RS with impaired red blood cell production.',\n",
       " 'target1': 'SF3B1',\n",
       " 'target1_type': 'DNA',\n",
       " 'target2': 'EIF2AK1',\n",
       " 'target2_type': 'DNA',\n",
       " 'networkx': ['SF3B1', 'lead', 'EIF2AK1'],\n",
       " 'openie_final': [],\n",
       " 'allennlp_final': [],\n",
       " 'bidirection': False,\n",
       " 'addtime': '2022_12_09'}"
      ]
     },
     "execution_count": 188,
     "metadata": {},
     "output_type": "execute_result"
    }
   ],
   "source": [
    "Relation_raw_all_with_disease[0]"
   ]
  },
  {
   "cell_type": "code",
   "execution_count": 197,
   "id": "6d5d8a2a-9150-462d-b4a6-5b737ca91171",
   "metadata": {},
   "outputs": [],
   "source": [
    "import copy\n",
    "Relation_raw_all_final=[]\n",
    "for i in Relation_raw_all_with_disease:\n",
    "    if multi_chemical_type2.get(i.get('entity1')) and multi_chemical_type2.get(i.get('entity2')):\n",
    "        for j in multi_chemical_type2.get(i.get('entity1')):\n",
    "            for k in multi_chemical_type2.get(i.get('entity2')):\n",
    "                mid=copy.deepcopy(i)\n",
    "                mid.update({'target1_type':j,'target2_type':k})\n",
    "                Relation_raw_all_final.append(mid)\n",
    "    else:\n",
    "        Relation_raw_all_final.append(i)\n",
    "        if multi_chemical_type2.get(i.get('entity1')):\n",
    "            for j in multi_chemical_type2.get(i.get('entity1')):\n",
    "                if i.get('target1_type') != j:\n",
    "                    mid=copy.deepcopy(i)\n",
    "                    mid.update({'target1_type':j})\n",
    "                    Relation_raw_all_final.append(mid)\n",
    "        elif multi_chemical_type2.get(i.get('entity2')):\n",
    "            for j in multi_chemical_type2.get(i.get('entity2')):\n",
    "                if i.get('target2_type') != j:\n",
    "                    mid=copy.deepcopy(i)\n",
    "                    mid.update({'target2_type':j})\n",
    "                    Relation_raw_all_final.append(mid)"
   ]
  },
  {
   "cell_type": "code",
   "execution_count": 198,
   "id": "7b98085f-ab87-4de8-b38d-c6bca56c6c6b",
   "metadata": {},
   "outputs": [
    {
     "data": {
      "text/plain": [
       "122534"
      ]
     },
     "execution_count": 198,
     "metadata": {},
     "output_type": "execute_result"
    }
   ],
   "source": [
    "#122534\n",
    "len(Relation_raw_all_final)"
   ]
  },
  {
   "cell_type": "markdown",
   "id": "e1d9c352-7539-4a80-b0af-01d141bcafea",
   "metadata": {},
   "source": [
    "direction=set()\n",
    "direction_list=[]\n",
    "direction_type=[]\n",
    "for i in Relation_raw_all_final:\n",
    "    if i.get('networkx'):\n",
    "        if i.get('openie_final'):\n",
    "            if i.get('networkx')[0]!= i.get('target1'):\n",
    "                print(i)\n",
    "                break"
   ]
  },
  {
   "cell_type": "code",
   "execution_count": 199,
   "id": "dbbdc1cd-3965-40da-b2be-151491d499eb",
   "metadata": {},
   "outputs": [],
   "source": [
    "direction=set()\n",
    "direction_list=[]\n",
    "direction_type=[]\n",
    "for i in Relation_raw_all_final:\n",
    "\n",
    "    if i.get('openie_final'):\n",
    "        if i.get('openie_final')[0][0]!=i.get('target1'):\n",
    "            i['entity2'],i['entity1']=i['entity1'],i['entity2']\n",
    "            i['target2_type'],i['target1_type']=i['target1_type'],i['target2_type']\n",
    "            i['target2'],i['target1']=i['target1'],i['target2']\n",
    "    elif i.get('networkx'):\n",
    "        if i.get('networkx')[0]!= i.get('target1'):\n",
    "            i['entity2'],i['entity1']=i['entity1'],i['entity2']\n",
    "            i['target2_type'],i['target1_type']=i['target1_type'],i['target2_type']\n",
    "            i['target2'],i['target1']=i['target1'],i['target2']\n",
    "    elif i.get('allennlp_final'):\n",
    "        if i.get('allennlp_final')[0][0]!=i.get('target1'):\n",
    "            i['entity2'],i['entity1']=i['entity1'],i['entity2']\n",
    "            i['target2_type'],i['target1_type']=i['target1_type'],i['target2_type']\n",
    "            i['target2'],i['target1']=i['target1'],i['target2']\n",
    "    if i.get('bidirection'):\n",
    "        if (i.get('entity2'),(i.get('entity1'))) not in direction :\n",
    "            direction.add((i.get('entity2'),(i.get('entity1'))))\n",
    "            direction_list.append((i.get('entity2'),(i.get('entity1'))))\n",
    "            direction_type.append((i.get('target2_type'),(i.get('target1_type'))))\n",
    "        if (i.get('entity1'),(i.get('entity2'))) not in direction:\n",
    "            direction.add((i.get('entity1'),(i.get('entity2'))))\n",
    "            direction_list.append((i.get('entity1'),(i.get('entity2'))))\n",
    "            direction_type.append((i.get('target1_type'),(i.get('target2_type'))))\n",
    "    else:\n",
    "        direction.add((i.get('entity1'),(i.get('entity2'))))\n",
    "        direction_list.append((i.get('entity1'),(i.get('entity2'))))\n",
    "        direction_type.append((i.get('target1_type'),(i.get('target2_type'))))"
   ]
  },
  {
   "cell_type": "code",
   "execution_count": 200,
   "id": "9e63337c-0157-48e6-b644-c6662bbaacd8",
   "metadata": {},
   "outputs": [
    {
     "data": {
      "text/plain": [
       "{'PMID': '35556207',\n",
       " 'entity1': 'rs1001179',\n",
       " 'entity2': 'Cataract',\n",
       " 'sentence': 'Association of SOD1 50 bp Indel, GPX1 (rs1800668), and CAT (rs1001179) genotypes with all clinical variables was investigated in cataract groups by regression statistics in SPSS  16.0.',\n",
       " 'AB': 'Hyperglycemia plays a pronounced role in accelerating the process of aging due to high oxidative stress which triggers dyslipidemia and subsequently led to the progression of cataract. The aim of this study was to investigate lipid profile and its relationship with genotypes of SOD1, GPX1, and CAT variants in cataract patients. Total n = 680 samples were screened in four groups: senile cataract (SC), diabetic cataract (DC), type 2 diabetes mellitus (DM), and controls (CL). Lipid profile was estimated and compared between groups, and its correlation was tested with glycemic markers. Association of SOD1 50 bp Indel, GPX1 (rs1800668), and CAT (rs1001179) genotypes with all clinical variables was investigated in cataract groups by regression statistics in SPSS  16.0. Comparative analysis revealed that amount of total cholesterol and low-density lipoprotein parameters were significantly higher in both groups of cataracts when compared with controls (p < 0.01). Statistically higher levels of triglycerides were also evident in DM patients as compared with other three groups (p < 0.01). Significant weak positive correlation of glycated hemoglobin, fasting (FBG), and random blood glucose (RBG) levels was observed with triglycerides in DM (r = 0.16), SC (r = 0.15), and DC (r = 0.18) groups. Mutant genotype of SOD1 and CAT variants indicated significant association with TC, whereas GPX1 variant with FBG levels in accelerating predisposition of cataract in patients with diabetes (OR > 1.0). Outcomes suggested that TG may serve as a potential biomarker of lipid profile with manifestation of cataract in type 2 DM. Furthermore, hypercholesterolemia and hypertriglyceridemia demonstrated an inducing role in the pathogenesis of cataract with aging in hyperglycemia.',\n",
       " 'target1': 'rs1001179',\n",
       " 'target1_type': 'Mutation',\n",
       " 'target2': 'cataract',\n",
       " 'target2_type': 'Disease',\n",
       " 'allennlp': [['rs1001179', 'investigated', 'cataract']],\n",
       " 'networkx': ['rs1001179', 'investigated', 'cataract'],\n",
       " 'openie_final': [],\n",
       " 'allennlp_final': [['rs1001179', 'investigated', 'cataract']],\n",
       " 'bidirection': False,\n",
       " 'addtime': '2022_12_09'}"
      ]
     },
     "execution_count": 200,
     "metadata": {},
     "output_type": "execute_result"
    }
   ],
   "source": [
    "Relation_raw_all_final[10]"
   ]
  },
  {
   "cell_type": "code",
   "execution_count": 201,
   "id": "b3f5ef60-52d2-4b96-9f67-8edce45001ce",
   "metadata": {},
   "outputs": [
    {
     "data": {
      "text/plain": [
       "['Gene',\n",
       " 'RNA',\n",
       " 'Carbohydrate',\n",
       " 'Lipid',\n",
       " 'Peptide',\n",
       " 'Pharmaceutical_Preparations',\n",
       " 'Protein',\n",
       " 'Toxin',\n",
       " 'Mutation',\n",
       " 'Disease']"
      ]
     },
     "execution_count": 201,
     "metadata": {},
     "output_type": "execute_result"
    }
   ],
   "source": [
    "pairs"
   ]
  },
  {
   "cell_type": "code",
   "execution_count": 171,
   "id": "5ec24314-4d22-459d-bfee-e1e86a273280",
   "metadata": {},
   "outputs": [],
   "source": [
    "rules_pairs=['sentence2adv','sentence2relations','sentence2verblist','sentence2verbprototype','sentence2words']\n",
    "names=locals()\n",
    "for i in rules_pairs:\n",
    "    names[i]={}\n",
    "    for k in ['rules/files/'+i+str(j)+'.pkl' for j in range(1,22)]:\n",
    "        names[i].update(pickle.load(open(k,'rb')))\n",
    "    names[i].update(pickle.load(open('rules/files/'+i+'_old.pkl','rb')))"
   ]
  },
  {
   "cell_type": "code",
   "execution_count": 172,
   "id": "7a7a3828-4863-4b34-bb7a-0b7e70efa050",
   "metadata": {},
   "outputs": [],
   "source": [
    "import copy\n",
    "Relation_raw_all_final_copy=copy.deepcopy(Relation_raw_all_final)"
   ]
  },
  {
   "cell_type": "code",
   "execution_count": 173,
   "id": "67e82c12-963a-4199-a826-567595590a5b",
   "metadata": {},
   "outputs": [],
   "source": [
    "be=['be','am','is','are','was','were','have been','has been']\n",
    "bedict={}\n",
    "for i in be:\n",
    "    bedict[i]=i\n",
    "can=['can','could','will','would','may','might']\n",
    "candict={}\n",
    "for i in can:\n",
    "    candict[i]=i\n",
    "countt=0\n",
    "counttt=0\n",
    "for i in Relation_raw_all_final_copy:\n",
    "    verblist=sentence2verblist.get(i.get('sentence'))\n",
    "    verbrelation=''\n",
    "    real_verb=''\n",
    "    verbdict={}\n",
    "    for verb in verblist:\n",
    "        verbdict.update(verb)\n",
    "    for indexx,j in enumerate(i.get('allennlp_final')):\n",
    "        one=j[1]\n",
    "        if verbdict.get(one):\n",
    "            verbrelation=one\n",
    "            relations=sentence2relations.get(i.get('sentence'))\n",
    "            relations_display=[relation[-2] for relation in relations]\n",
    "            verbprototype=sentence2verbprototype.get(i.get('sentence'))\n",
    "            verbprototype_dict={}\n",
    "            for verbp in verbprototype:\n",
    "                verbprototype_dict.update(verbp)\n",
    "            for index_passive,passive in enumerate(relations_display):\n",
    "                if passive=='aux:pass':\n",
    "                    if relations[index_passive][1]==verbrelation:\n",
    "                        verb_prototype=verbrelation\n",
    "\n",
    "                        break\n",
    "                elif passive=='acl' and relations[index_passive][-1]=='VBN':\n",
    "                    if relations[index_passive][0]==verbrelation:\n",
    "                        verb_prototype=verbrelation\n",
    "\n",
    "                        break\n",
    "            else:\n",
    "                for v in verbprototype:\n",
    "                    if v.get(verbrelation):\n",
    "                        verb_prototype=v.get(verbrelation)\n",
    "                        break\n",
    "            if verb_prototype!=one:\n",
    "                if countt<10:\n",
    "                    countt+=1\n",
    "                    # print(i.get('allennlp_final'))\n",
    "                    # print(i.get('sentence'))\n",
    "                    # print(verb_prototype)\n",
    "            i['allennlp_final'][indexx][1]=verb_prototype\n",
    "        elif bedict.get(one):\n",
    "            i['allennlp_final'][indexx][1]=bedict.get(one)\n",
    "\n"
   ]
  },
  {
   "cell_type": "markdown",
   "id": "fdeffeac-48bd-43f2-9e1f-c58c446efe72",
   "metadata": {},
   "source": [
    "sentence2relations.get('Then, a GC signature for ovarian aging was established based on six oxidative stress-related differentially expressed genes (MAPK1, STK24, AREG, ATG7, ANXA1, and PON2).')"
   ]
  },
  {
   "cell_type": "markdown",
   "id": "73b113e1-e85f-407f-a2f7-e06c0b65d1ad",
   "metadata": {},
   "source": [
    "Relation_raw_all_final[10]"
   ]
  },
  {
   "cell_type": "markdown",
   "id": "2f872883-48db-46f4-8519-3fd790579fa0",
   "metadata": {},
   "source": [
    "for i in Relation_raw_all_final:\n",
    "    if i.get('networkx') and i.get('networkx')[1]=='base':\n",
    "        print(i)\n",
    "        break"
   ]
  },
  {
   "cell_type": "code",
   "execution_count": 174,
   "id": "e43e3130-8533-4e97-aea2-b79a86b692fc",
   "metadata": {},
   "outputs": [],
   "source": [
    "for i in Relation_raw_all_final_copy:\n",
    "    if i.get('_id'):\n",
    "        del i['_id']\n",
    "json.dump(Relation_raw_all_final_copy,open('triplelist.json','w'))"
   ]
  },
  {
   "cell_type": "code",
   "execution_count": null,
   "id": "54e8441b-3126-423d-a55e-ab1ec38dbf6f",
   "metadata": {},
   "outputs": [],
   "source": []
  },
  {
   "cell_type": "code",
   "execution_count": null,
   "id": "72563f67-da2f-4ca7-9c0f-c346f7ed098c",
   "metadata": {},
   "outputs": [],
   "source": []
  },
  {
   "cell_type": "code",
   "execution_count": null,
   "id": "9b2ecaf0-c03c-453c-99fb-cb8307137aa2",
   "metadata": {},
   "outputs": [],
   "source": []
  },
  {
   "cell_type": "code",
   "execution_count": null,
   "id": "b218bf28-ac0d-4dba-a183-2b3c303c61ff",
   "metadata": {},
   "outputs": [],
   "source": []
  },
  {
   "cell_type": "code",
   "execution_count": null,
   "id": "2da7bbe2-d8cb-459b-9c9b-d5ed75a3c786",
   "metadata": {},
   "outputs": [],
   "source": []
  },
  {
   "cell_type": "code",
   "execution_count": null,
   "id": "4b9f56de-b1fb-4b7e-b4e9-178242d81d2d",
   "metadata": {},
   "outputs": [],
   "source": []
  },
  {
   "cell_type": "code",
   "execution_count": null,
   "id": "de7d8891-8d98-4baf-9a4c-f854ab7b95dd",
   "metadata": {},
   "outputs": [],
   "source": []
  },
  {
   "cell_type": "code",
   "execution_count": null,
   "id": "9e003558-813e-4721-af98-ee0e3e7ea4a4",
   "metadata": {},
   "outputs": [],
   "source": []
  },
  {
   "cell_type": "code",
   "execution_count": null,
   "id": "b67541db-faf0-4b34-ae2f-887864444b79",
   "metadata": {},
   "outputs": [],
   "source": []
  },
  {
   "cell_type": "code",
   "execution_count": null,
   "id": "cd2699a0-3146-4d95-9693-58439ff24d66",
   "metadata": {},
   "outputs": [],
   "source": []
  },
  {
   "cell_type": "code",
   "execution_count": null,
   "id": "03bd9f0f-9e5e-4a39-a3ac-ab189d12312a",
   "metadata": {},
   "outputs": [],
   "source": []
  },
  {
   "cell_type": "code",
   "execution_count": null,
   "id": "e84ae8b7-2d55-4129-b0dc-2beb2347be70",
   "metadata": {},
   "outputs": [],
   "source": []
  },
  {
   "cell_type": "code",
   "execution_count": null,
   "id": "aaffccdf-e7ce-4877-bd39-e832a94f0cb1",
   "metadata": {},
   "outputs": [],
   "source": []
  },
  {
   "cell_type": "code",
   "execution_count": null,
   "id": "e8c44d28-edc3-468a-9ef1-00c53c6c640b",
   "metadata": {},
   "outputs": [],
   "source": []
  },
  {
   "cell_type": "code",
   "execution_count": null,
   "id": "0ff2a25f-3618-4fb1-ab41-169baffc779d",
   "metadata": {},
   "outputs": [],
   "source": []
  },
  {
   "cell_type": "code",
   "execution_count": null,
   "id": "ebb97ae1-36f4-4a78-805a-9fde42ac3a21",
   "metadata": {},
   "outputs": [],
   "source": []
  },
  {
   "cell_type": "code",
   "execution_count": null,
   "id": "1b5b00e9-ab8e-43ec-9ae3-f38fc17c07b8",
   "metadata": {},
   "outputs": [],
   "source": []
  },
  {
   "cell_type": "code",
   "execution_count": null,
   "id": "eced1ab1-a9c4-43ac-9be9-0acda3cba99d",
   "metadata": {},
   "outputs": [],
   "source": []
  },
  {
   "cell_type": "code",
   "execution_count": null,
   "id": "5027c620-7958-4e58-bf88-a38de186c234",
   "metadata": {},
   "outputs": [],
   "source": []
  },
  {
   "cell_type": "code",
   "execution_count": null,
   "id": "2e1e6643-751d-4a91-8ef9-1262f9c7554c",
   "metadata": {},
   "outputs": [],
   "source": []
  },
  {
   "cell_type": "code",
   "execution_count": null,
   "id": "aa45563e-fb9d-4934-8ff3-088855c91bae",
   "metadata": {},
   "outputs": [],
   "source": []
  },
  {
   "cell_type": "code",
   "execution_count": null,
   "id": "cf816920-65fc-4324-a827-c21b5b22f434",
   "metadata": {},
   "outputs": [],
   "source": []
  },
  {
   "cell_type": "code",
   "execution_count": null,
   "id": "152234e4-cf83-46ca-8264-1ebecf62eba4",
   "metadata": {},
   "outputs": [],
   "source": []
  },
  {
   "cell_type": "code",
   "execution_count": null,
   "id": "d8f643e5-d528-4974-bc76-d39b772e887c",
   "metadata": {},
   "outputs": [],
   "source": []
  },
  {
   "cell_type": "code",
   "execution_count": null,
   "id": "160de7eb-cbfb-4fd6-9853-c30ed760cd2e",
   "metadata": {},
   "outputs": [],
   "source": []
  },
  {
   "cell_type": "code",
   "execution_count": null,
   "id": "209ec686-9289-4375-8d2f-3b30885c73d7",
   "metadata": {},
   "outputs": [],
   "source": []
  },
  {
   "cell_type": "code",
   "execution_count": null,
   "id": "8a761b09-a070-4711-a471-ddbf928c7d4f",
   "metadata": {},
   "outputs": [],
   "source": []
  },
  {
   "cell_type": "code",
   "execution_count": 90,
   "id": "6d70ed2a-a20e-4413-acb9-b6846ce9d5f4",
   "metadata": {},
   "outputs": [
    {
     "data": {
      "text/plain": [
       "48709"
      ]
     },
     "execution_count": 90,
     "metadata": {},
     "output_type": "execute_result"
    }
   ],
   "source": [
    "len(direction)"
   ]
  },
  {
   "cell_type": "code",
   "execution_count": 91,
   "id": "124982f3-25fd-4419-96bb-e51ad4b57dd0",
   "metadata": {},
   "outputs": [
    {
     "data": {
      "text/plain": [
       "48709"
      ]
     },
     "execution_count": 91,
     "metadata": {},
     "output_type": "execute_result"
    }
   ],
   "source": [
    "len(direction)"
   ]
  },
  {
   "cell_type": "code",
   "execution_count": 92,
   "id": "7dfa2a42-3cb0-4759-a840-113916cdb6e9",
   "metadata": {},
   "outputs": [
    {
     "data": {
      "text/plain": [
       "48709"
      ]
     },
     "execution_count": 92,
     "metadata": {},
     "output_type": "execute_result"
    }
   ],
   "source": [
    "len(direction_type)"
   ]
  },
  {
   "cell_type": "code",
   "execution_count": 93,
   "id": "ac6d0efa-7968-478f-8806-bb15e51a51d6",
   "metadata": {},
   "outputs": [
    {
     "data": {
      "text/plain": [
       "[('DNA', 'DNA'),\n",
       " ('DNA', 'Disease'),\n",
       " ('DNA', 'DNA'),\n",
       " ('DNA', 'Disease'),\n",
       " ('DNA', 'DNA'),\n",
       " ('DNA', 'Disease'),\n",
       " ('DNA', 'Disease'),\n",
       " ('Mutation', 'Disease'),\n",
       " ('Disease', 'Disease'),\n",
       " ('Mutation', 'Disease'),\n",
       " ('DNA', 'Disease'),\n",
       " ('DNA', 'Disease'),\n",
       " ('DNA', 'DNA'),\n",
       " ('Lipid', 'DNA'),\n",
       " ('DNA', 'DNA'),\n",
       " ('DNA', 'Disease'),\n",
       " ('DNA', 'Disease'),\n",
       " ('Disease', 'DNA'),\n",
       " ('Disease', 'DNA'),\n",
       " ('Disease', 'DNA')]"
      ]
     },
     "execution_count": 93,
     "metadata": {},
     "output_type": "execute_result"
    }
   ],
   "source": [
    "direction_type[:20]"
   ]
  },
  {
   "cell_type": "code",
   "execution_count": 94,
   "id": "46f69a5b-9fbf-4f50-b5b3-7977e760500a",
   "metadata": {},
   "outputs": [
    {
     "data": {
      "text/plain": [
       "[('SF3B1', 'EIF2AK1'),\n",
       " ('SF3B1', 'Protoporphyria, Erythropoietic'),\n",
       " ('SOD1', 'GPX1'),\n",
       " ('GPX1', 'Cataract'),\n",
       " ('CAT', 'GPX1'),\n",
       " ('SOD1', 'Cataract'),\n",
       " ('CAT', 'Cataract'),\n",
       " ('rs1800668', 'Cataract'),\n",
       " ('Inflammation', 'Seizures'),\n",
       " ('rs1001179', 'Cataract'),\n",
       " ('CDKN1A', 'Seizures'),\n",
       " ('EGR1', 'Seizures'),\n",
       " ('CPT1A', 'TP53'),\n",
       " ('Fatty Acids', 'CPT1A'),\n",
       " ('ACAN', 'COL11A1'),\n",
       " ('WNT3', 'Sclerosis'),\n",
       " ('TNIP1', 'Sclerosis'),\n",
       " ('Dementia', 'BIN1'),\n",
       " ('Dementia', 'CR1'),\n",
       " ('Dementia', 'COX7C')]"
      ]
     },
     "execution_count": 94,
     "metadata": {},
     "output_type": "execute_result"
    }
   ],
   "source": [
    "direction_list[:20]"
   ]
  },
  {
   "cell_type": "code",
   "execution_count": null,
   "id": "75243122-0373-4234-8c7f-ba186096ac1b",
   "metadata": {},
   "outputs": [],
   "source": []
  },
  {
   "cell_type": "code",
   "execution_count": null,
   "id": "e0938979-fc27-4772-b521-e49996f6f6cc",
   "metadata": {},
   "outputs": [],
   "source": []
  },
  {
   "cell_type": "code",
   "execution_count": null,
   "id": "9f987b68-3946-47ea-bac9-8f55403004f5",
   "metadata": {},
   "outputs": [],
   "source": []
  },
  {
   "cell_type": "code",
   "execution_count": null,
   "id": "c5e21566-9e8f-4d43-9f55-077af0f411bb",
   "metadata": {},
   "outputs": [],
   "source": []
  },
  {
   "cell_type": "code",
   "execution_count": 141,
   "id": "39aab59c-5523-4e69-ae82-9cbf2d786a78",
   "metadata": {},
   "outputs": [],
   "source": [
    "filtered_direction_list=[]\n",
    "filtered_direction_type=[]\n",
    "for i in range(len(direction_list)):\n",
    "    if direction_type[i][0]!='Mutation' and direction_type[i][1]!='Mutation' and direction_type[i][0]!='Disease' and direction_type[i][1]!='Disease':\n",
    "        filtered_direction_list.append((direction_list[i][0],direction_list[i][1]))\n",
    "        filtered_direction_type.append((direction_type[i][0],direction_type[i][1]))"
   ]
  },
  {
   "cell_type": "code",
   "execution_count": 142,
   "id": "0ea76139-4d09-4b57-8a6f-1720368d9298",
   "metadata": {},
   "outputs": [
    {
     "data": {
      "text/plain": [
       "4051"
      ]
     },
     "execution_count": 142,
     "metadata": {},
     "output_type": "execute_result"
    }
   ],
   "source": [
    "len(filtered_direction_list)"
   ]
  },
  {
   "cell_type": "code",
   "execution_count": 22,
   "id": "ba4c0dab-b49a-45f8-84fb-ccb01d568109",
   "metadata": {},
   "outputs": [],
   "source": [
    "import pandas as pd"
   ]
  },
  {
   "cell_type": "code",
   "execution_count": 23,
   "id": "b2a4943a-6e41-48b8-8ddd-390faf39c726",
   "metadata": {},
   "outputs": [],
   "source": [
    "file=pd.read_table('../intact/intact.txt')"
   ]
  },
  {
   "cell_type": "code",
   "execution_count": 24,
   "id": "db601e6d-983b-4853-a947-99aea2ce693b",
   "metadata": {},
   "outputs": [
    {
     "data": {
      "text/html": [
       "<div>\n",
       "<style scoped>\n",
       "    .dataframe tbody tr th:only-of-type {\n",
       "        vertical-align: middle;\n",
       "    }\n",
       "\n",
       "    .dataframe tbody tr th {\n",
       "        vertical-align: top;\n",
       "    }\n",
       "\n",
       "    .dataframe thead th {\n",
       "        text-align: right;\n",
       "    }\n",
       "</style>\n",
       "<table border=\"1\" class=\"dataframe\">\n",
       "  <thead>\n",
       "    <tr style=\"text-align: right;\">\n",
       "      <th></th>\n",
       "      <th>#ID(s) interactor A</th>\n",
       "      <th>ID(s) interactor B</th>\n",
       "      <th>Alt. ID(s) interactor A</th>\n",
       "      <th>Alt. ID(s) interactor B</th>\n",
       "      <th>Alias(es) interactor A</th>\n",
       "      <th>Alias(es) interactor B</th>\n",
       "      <th>Interaction detection method(s)</th>\n",
       "      <th>Publication 1st author(s)</th>\n",
       "      <th>Publication Identifier(s)</th>\n",
       "      <th>Taxid interactor A</th>\n",
       "      <th>...</th>\n",
       "      <th>Checksum(s) interactor A</th>\n",
       "      <th>Checksum(s) interactor B</th>\n",
       "      <th>Interaction Checksum(s)</th>\n",
       "      <th>Negative</th>\n",
       "      <th>Feature(s) interactor A</th>\n",
       "      <th>Feature(s) interactor B</th>\n",
       "      <th>Stoichiometry(s) interactor A</th>\n",
       "      <th>Stoichiometry(s) interactor B</th>\n",
       "      <th>Identification method participant A</th>\n",
       "      <th>Identification method participant B</th>\n",
       "    </tr>\n",
       "  </thead>\n",
       "  <tbody>\n",
       "    <tr>\n",
       "      <th>0</th>\n",
       "      <td>uniprotkb:P49418</td>\n",
       "      <td>uniprotkb:O43426</td>\n",
       "      <td>intact:EBI-7121510|uniprotkb:Q75MK5|uniprotkb:...</td>\n",
       "      <td>intact:EBI-2821539|uniprotkb:O43425|uniprotkb:...</td>\n",
       "      <td>psi-mi:amph_human(display_long)|uniprotkb:AMPH...</td>\n",
       "      <td>psi-mi:synj1_human(display_long)|uniprotkb:SYN...</td>\n",
       "      <td>psi-mi:\"MI:0084\"(phage display)</td>\n",
       "      <td>Cestra et al. (1999)</td>\n",
       "      <td>pubmed:10542231|mint:MINT-5211933</td>\n",
       "      <td>taxid:9606(human)|taxid:9606(Homo sapiens)</td>\n",
       "      <td>...</td>\n",
       "      <td>rogid:vrgVrVoYr45cUe4X6L/zBAE1RtU9606</td>\n",
       "      <td>rogid:RA73eMbCn6F7MD0ItxF/V7QbjqM9606</td>\n",
       "      <td>intact-crc:F4234557A3B54840|rigid:n+UcEH4PPLkF...</td>\n",
       "      <td>False</td>\n",
       "      <td>binding-associated region:626-695(MINT-376295)</td>\n",
       "      <td>binding-associated region:1063-1070(MINT-376288)</td>\n",
       "      <td>-</td>\n",
       "      <td>-</td>\n",
       "      <td>psi-mi:\"MI:0078\"(nucleotide sequence identific...</td>\n",
       "      <td>psi-mi:\"MI:0078\"(nucleotide sequence identific...</td>\n",
       "    </tr>\n",
       "    <tr>\n",
       "      <th>1</th>\n",
       "      <td>uniprotkb:P49418</td>\n",
       "      <td>intact:EBI-7121639</td>\n",
       "      <td>intact:EBI-7121510|uniprotkb:Q75MK5|uniprotkb:...</td>\n",
       "      <td>intact:MINT-8094608</td>\n",
       "      <td>psi-mi:amph_human(display_long)|uniprotkb:AMPH...</td>\n",
       "      <td>psi-mi:vrparrvlw(display_short)|psi-mi:EBI-712...</td>\n",
       "      <td>psi-mi:\"MI:0084\"(phage display)</td>\n",
       "      <td>Cestra et al. (1999)</td>\n",
       "      <td>pubmed:10542231|mint:MINT-5211933</td>\n",
       "      <td>taxid:9606(human)|taxid:9606(Homo sapiens)</td>\n",
       "      <td>...</td>\n",
       "      <td>rogid:vrgVrVoYr45cUe4X6L/zBAE1RtU9606</td>\n",
       "      <td>rogid:lPy6gBhpgvyGSYgOqeHbjcqBtMQ-2</td>\n",
       "      <td>intact-crc:880913D9000BF26E|rigid:iRObbQsaUeX0...</td>\n",
       "      <td>False</td>\n",
       "      <td>binding-associated region:626-695(MINT-8094602)</td>\n",
       "      <td>-</td>\n",
       "      <td>-</td>\n",
       "      <td>-</td>\n",
       "      <td>psi-mi:\"MI:0078\"(nucleotide sequence identific...</td>\n",
       "      <td>psi-mi:\"MI:0083\"(peptide synthesis)</td>\n",
       "    </tr>\n",
       "    <tr>\n",
       "      <th>2</th>\n",
       "      <td>uniprotkb:P49418</td>\n",
       "      <td>intact:EBI-7121654</td>\n",
       "      <td>intact:EBI-7121510|uniprotkb:Q75MK5|uniprotkb:...</td>\n",
       "      <td>intact:MINT-8094645</td>\n",
       "      <td>psi-mi:amph_human(display_long)|uniprotkb:AMPH...</td>\n",
       "      <td>psi-mi:hrpvrraap(display_short)|psi-mi:EBI-712...</td>\n",
       "      <td>psi-mi:\"MI:0084\"(phage display)</td>\n",
       "      <td>Cestra et al. (1999)</td>\n",
       "      <td>pubmed:10542231|mint:MINT-5211933</td>\n",
       "      <td>taxid:9606(human)|taxid:9606(Homo sapiens)</td>\n",
       "      <td>...</td>\n",
       "      <td>rogid:vrgVrVoYr45cUe4X6L/zBAE1RtU9606</td>\n",
       "      <td>rogid:GsDnsVmAo8ZZoKTZ4/uDb2x+h3c-2</td>\n",
       "      <td>intact-crc:B68245E1F0508124|rigid:SlinPP5vIczF...</td>\n",
       "      <td>False</td>\n",
       "      <td>binding-associated region:626-695(MINT-8094630)</td>\n",
       "      <td>-</td>\n",
       "      <td>-</td>\n",
       "      <td>-</td>\n",
       "      <td>psi-mi:\"MI:0078\"(nucleotide sequence identific...</td>\n",
       "      <td>psi-mi:\"MI:0083\"(peptide synthesis)</td>\n",
       "    </tr>\n",
       "    <tr>\n",
       "      <th>3</th>\n",
       "      <td>uniprotkb:P49418</td>\n",
       "      <td>intact:EBI-7121715</td>\n",
       "      <td>intact:EBI-7121510|uniprotkb:Q75MK5|uniprotkb:...</td>\n",
       "      <td>intact:MINT-8094663</td>\n",
       "      <td>psi-mi:amph_human(display_long)|uniprotkb:AMPH...</td>\n",
       "      <td>psi-mi:vrptraada(display_short)|psi-mi:EBI-712...</td>\n",
       "      <td>psi-mi:\"MI:0084\"(phage display)</td>\n",
       "      <td>Cestra et al. (1999)</td>\n",
       "      <td>pubmed:10542231|mint:MINT-5211933</td>\n",
       "      <td>taxid:9606(human)|taxid:9606(Homo sapiens)</td>\n",
       "      <td>...</td>\n",
       "      <td>rogid:vrgVrVoYr45cUe4X6L/zBAE1RtU9606</td>\n",
       "      <td>rogid:M+f6GE3SQXrMBiIVttW1MKhz3M0-2</td>\n",
       "      <td>intact-crc:8F7F46DF027DF34E|rigid:uiWbDe6gaj1X...</td>\n",
       "      <td>False</td>\n",
       "      <td>binding-associated region:626-695(MINT-8094654)</td>\n",
       "      <td>-</td>\n",
       "      <td>-</td>\n",
       "      <td>-</td>\n",
       "      <td>psi-mi:\"MI:0078\"(nucleotide sequence identific...</td>\n",
       "      <td>psi-mi:\"MI:0083\"(peptide synthesis)</td>\n",
       "    </tr>\n",
       "    <tr>\n",
       "      <th>4</th>\n",
       "      <td>intact:EBI-7121765</td>\n",
       "      <td>uniprotkb:P49418</td>\n",
       "      <td>intact:MINT-8094691</td>\n",
       "      <td>intact:EBI-7121510|uniprotkb:Q75MK5|uniprotkb:...</td>\n",
       "      <td>psi-mi:xrprrghal(display_short)|psi-mi:EBI-712...</td>\n",
       "      <td>psi-mi:amph_human(display_long)|uniprotkb:AMPH...</td>\n",
       "      <td>psi-mi:\"MI:0084\"(phage display)</td>\n",
       "      <td>Cestra et al. (1999)</td>\n",
       "      <td>pubmed:10542231|mint:MINT-5211933</td>\n",
       "      <td>taxid:-2(chemical synthesis)|taxid:-2(\"Chemica...</td>\n",
       "      <td>...</td>\n",
       "      <td>rogid:cilZXZ3YLDI1s7n8WNRyUE6EnJQ-2</td>\n",
       "      <td>rogid:vrgVrVoYr45cUe4X6L/zBAE1RtU9606</td>\n",
       "      <td>intact-crc:2EF43A66D9B2D428|rigid:/ki1zA46M4Q+...</td>\n",
       "      <td>False</td>\n",
       "      <td>-</td>\n",
       "      <td>binding-associated region:626-695(MINT-8094680)</td>\n",
       "      <td>-</td>\n",
       "      <td>-</td>\n",
       "      <td>psi-mi:\"MI:0083\"(peptide synthesis)</td>\n",
       "      <td>psi-mi:\"MI:0078\"(nucleotide sequence identific...</td>\n",
       "    </tr>\n",
       "  </tbody>\n",
       "</table>\n",
       "<p>5 rows × 42 columns</p>\n",
       "</div>"
      ],
      "text/plain": [
       "  #ID(s) interactor A  ID(s) interactor B  \\\n",
       "0    uniprotkb:P49418    uniprotkb:O43426   \n",
       "1    uniprotkb:P49418  intact:EBI-7121639   \n",
       "2    uniprotkb:P49418  intact:EBI-7121654   \n",
       "3    uniprotkb:P49418  intact:EBI-7121715   \n",
       "4  intact:EBI-7121765    uniprotkb:P49418   \n",
       "\n",
       "                             Alt. ID(s) interactor A  \\\n",
       "0  intact:EBI-7121510|uniprotkb:Q75MK5|uniprotkb:...   \n",
       "1  intact:EBI-7121510|uniprotkb:Q75MK5|uniprotkb:...   \n",
       "2  intact:EBI-7121510|uniprotkb:Q75MK5|uniprotkb:...   \n",
       "3  intact:EBI-7121510|uniprotkb:Q75MK5|uniprotkb:...   \n",
       "4                                intact:MINT-8094691   \n",
       "\n",
       "                             Alt. ID(s) interactor B  \\\n",
       "0  intact:EBI-2821539|uniprotkb:O43425|uniprotkb:...   \n",
       "1                                intact:MINT-8094608   \n",
       "2                                intact:MINT-8094645   \n",
       "3                                intact:MINT-8094663   \n",
       "4  intact:EBI-7121510|uniprotkb:Q75MK5|uniprotkb:...   \n",
       "\n",
       "                              Alias(es) interactor A  \\\n",
       "0  psi-mi:amph_human(display_long)|uniprotkb:AMPH...   \n",
       "1  psi-mi:amph_human(display_long)|uniprotkb:AMPH...   \n",
       "2  psi-mi:amph_human(display_long)|uniprotkb:AMPH...   \n",
       "3  psi-mi:amph_human(display_long)|uniprotkb:AMPH...   \n",
       "4  psi-mi:xrprrghal(display_short)|psi-mi:EBI-712...   \n",
       "\n",
       "                              Alias(es) interactor B  \\\n",
       "0  psi-mi:synj1_human(display_long)|uniprotkb:SYN...   \n",
       "1  psi-mi:vrparrvlw(display_short)|psi-mi:EBI-712...   \n",
       "2  psi-mi:hrpvrraap(display_short)|psi-mi:EBI-712...   \n",
       "3  psi-mi:vrptraada(display_short)|psi-mi:EBI-712...   \n",
       "4  psi-mi:amph_human(display_long)|uniprotkb:AMPH...   \n",
       "\n",
       "   Interaction detection method(s) Publication 1st author(s)  \\\n",
       "0  psi-mi:\"MI:0084\"(phage display)      Cestra et al. (1999)   \n",
       "1  psi-mi:\"MI:0084\"(phage display)      Cestra et al. (1999)   \n",
       "2  psi-mi:\"MI:0084\"(phage display)      Cestra et al. (1999)   \n",
       "3  psi-mi:\"MI:0084\"(phage display)      Cestra et al. (1999)   \n",
       "4  psi-mi:\"MI:0084\"(phage display)      Cestra et al. (1999)   \n",
       "\n",
       "           Publication Identifier(s)  \\\n",
       "0  pubmed:10542231|mint:MINT-5211933   \n",
       "1  pubmed:10542231|mint:MINT-5211933   \n",
       "2  pubmed:10542231|mint:MINT-5211933   \n",
       "3  pubmed:10542231|mint:MINT-5211933   \n",
       "4  pubmed:10542231|mint:MINT-5211933   \n",
       "\n",
       "                                  Taxid interactor A  ...  \\\n",
       "0         taxid:9606(human)|taxid:9606(Homo sapiens)  ...   \n",
       "1         taxid:9606(human)|taxid:9606(Homo sapiens)  ...   \n",
       "2         taxid:9606(human)|taxid:9606(Homo sapiens)  ...   \n",
       "3         taxid:9606(human)|taxid:9606(Homo sapiens)  ...   \n",
       "4  taxid:-2(chemical synthesis)|taxid:-2(\"Chemica...  ...   \n",
       "\n",
       "                Checksum(s) interactor A  \\\n",
       "0  rogid:vrgVrVoYr45cUe4X6L/zBAE1RtU9606   \n",
       "1  rogid:vrgVrVoYr45cUe4X6L/zBAE1RtU9606   \n",
       "2  rogid:vrgVrVoYr45cUe4X6L/zBAE1RtU9606   \n",
       "3  rogid:vrgVrVoYr45cUe4X6L/zBAE1RtU9606   \n",
       "4    rogid:cilZXZ3YLDI1s7n8WNRyUE6EnJQ-2   \n",
       "\n",
       "                Checksum(s) interactor B  \\\n",
       "0  rogid:RA73eMbCn6F7MD0ItxF/V7QbjqM9606   \n",
       "1    rogid:lPy6gBhpgvyGSYgOqeHbjcqBtMQ-2   \n",
       "2    rogid:GsDnsVmAo8ZZoKTZ4/uDb2x+h3c-2   \n",
       "3    rogid:M+f6GE3SQXrMBiIVttW1MKhz3M0-2   \n",
       "4  rogid:vrgVrVoYr45cUe4X6L/zBAE1RtU9606   \n",
       "\n",
       "                             Interaction Checksum(s) Negative  \\\n",
       "0  intact-crc:F4234557A3B54840|rigid:n+UcEH4PPLkF...    False   \n",
       "1  intact-crc:880913D9000BF26E|rigid:iRObbQsaUeX0...    False   \n",
       "2  intact-crc:B68245E1F0508124|rigid:SlinPP5vIczF...    False   \n",
       "3  intact-crc:8F7F46DF027DF34E|rigid:uiWbDe6gaj1X...    False   \n",
       "4  intact-crc:2EF43A66D9B2D428|rigid:/ki1zA46M4Q+...    False   \n",
       "\n",
       "                           Feature(s) interactor A  \\\n",
       "0   binding-associated region:626-695(MINT-376295)   \n",
       "1  binding-associated region:626-695(MINT-8094602)   \n",
       "2  binding-associated region:626-695(MINT-8094630)   \n",
       "3  binding-associated region:626-695(MINT-8094654)   \n",
       "4                                                -   \n",
       "\n",
       "                            Feature(s) interactor B  \\\n",
       "0  binding-associated region:1063-1070(MINT-376288)   \n",
       "1                                                 -   \n",
       "2                                                 -   \n",
       "3                                                 -   \n",
       "4   binding-associated region:626-695(MINT-8094680)   \n",
       "\n",
       "  Stoichiometry(s) interactor A Stoichiometry(s) interactor B  \\\n",
       "0                             -                             -   \n",
       "1                             -                             -   \n",
       "2                             -                             -   \n",
       "3                             -                             -   \n",
       "4                             -                             -   \n",
       "\n",
       "                 Identification method participant A  \\\n",
       "0  psi-mi:\"MI:0078\"(nucleotide sequence identific...   \n",
       "1  psi-mi:\"MI:0078\"(nucleotide sequence identific...   \n",
       "2  psi-mi:\"MI:0078\"(nucleotide sequence identific...   \n",
       "3  psi-mi:\"MI:0078\"(nucleotide sequence identific...   \n",
       "4                psi-mi:\"MI:0083\"(peptide synthesis)   \n",
       "\n",
       "                 Identification method participant B  \n",
       "0  psi-mi:\"MI:0078\"(nucleotide sequence identific...  \n",
       "1                psi-mi:\"MI:0083\"(peptide synthesis)  \n",
       "2                psi-mi:\"MI:0083\"(peptide synthesis)  \n",
       "3                psi-mi:\"MI:0083\"(peptide synthesis)  \n",
       "4  psi-mi:\"MI:0078\"(nucleotide sequence identific...  \n",
       "\n",
       "[5 rows x 42 columns]"
      ]
     },
     "execution_count": 24,
     "metadata": {},
     "output_type": "execute_result"
    }
   ],
   "source": [
    "file.head()"
   ]
  },
  {
   "cell_type": "code",
   "execution_count": 155,
   "id": "9ffcb8c3-cbea-4063-879d-efe0b739fea8",
   "metadata": {},
   "outputs": [
    {
     "data": {
      "text/plain": [
       "1194447"
      ]
     },
     "execution_count": 155,
     "metadata": {},
     "output_type": "execute_result"
    }
   ],
   "source": [
    "len(file)"
   ]
  },
  {
   "cell_type": "code",
   "execution_count": 188,
   "id": "714d90bc-89c1-4a78-ab63-7520036f9144",
   "metadata": {},
   "outputs": [],
   "source": [
    "interactorsA=[]\n",
    "interactorsB=[]\n",
    "for i in range(len(file)):\n",
    "    interactorA={}\n",
    "    interactorB={}\n",
    "    if file.iloc[i,4]!='-' and file.iloc[i,5]!='-':\n",
    "        for spl1 in file.iloc[i,4].split('|'):\n",
    "            if re.search(r'(.*:)(.*)(\\(.*\\))',spl1):\n",
    "                interactorA[re.search(r'(.*:)(.*)(\\(.*\\))',spl1).groups()[1].lower()]=file.iloc[i,9]\n",
    "        for spl2 in file.iloc[i,5].split('|'):\n",
    "            if re.search(r'(.*:)(.*)(\\(.*\\))',spl2):\n",
    "                interactorB[re.search(r'(.*:)(.*)(\\(.*\\))',spl2).groups()[1].lower()]=file.iloc[i,10]\n",
    "    interactorsA.append(interactorA)\n",
    "    interactorsB.append(interactorB)"
   ]
  },
  {
   "cell_type": "code",
   "execution_count": 189,
   "id": "d99b33be-d1ea-4cb4-92a6-5e0bfa331dc8",
   "metadata": {},
   "outputs": [
    {
     "data": {
      "text/plain": [
       "1194447"
      ]
     },
     "execution_count": 189,
     "metadata": {},
     "output_type": "execute_result"
    }
   ],
   "source": [
    "len(interactorsA)"
   ]
  },
  {
   "cell_type": "code",
   "execution_count": 190,
   "id": "f752517e-ce75-412d-bc06-d93c897d9c7c",
   "metadata": {},
   "outputs": [
    {
     "name": "stdout",
     "output_type": "stream",
     "text": [
      "Parent process 81816.\n",
      "Waiting for all subprocesses done...\n",
      "All subprocesses done.\n",
      "The running time is 131s\n"
     ]
    }
   ],
   "source": [
    "def work(k,experiment,experiment_type, work_list):\n",
    "    for i in range(len(interactorsA)):\n",
    "        if interactorsA[i].get(filtered_direction_list[k][0].lower()) and interactorsB[i].get(filtered_direction_list[k][1].lower()):\n",
    "        # if interactorsA[i].get(k[0].lower()):\n",
    "            if filtered_direction_type[k][0] in ['DNA','RNA'] and filtered_direction_type[k][1] in ['DNA','RNA']:\n",
    "                if re.search(r'Homo sapiens', interactorsA[i].get(filtered_direction_list[k][0].lower())) and re.search(r'Homo sapiens', interactorsB[i].get(filtered_direction_list[k][1].lower())):\n",
    "                    experiment.append((filtered_direction_list[k][0],filtered_direction_list[k][1]))\n",
    "                    experiment_type.append((filtered_direction_type[k][0],filtered_direction_type[k][1]))\n",
    "                    work_list.append(i)\n",
    "                    break\n",
    "            elif re.search(r'Homo sapiens', interactorsA[i].get(filtered_direction_list[k][0].lower())):\n",
    "                if re.search(r'Homo sapiens', interactorsA[i].get(filtered_direction_list[k][0].lower())):\n",
    "                    experiment.append((filtered_direction_list[k][0],filtered_direction_list[k][1]))\n",
    "                    experiment_type.append((filtered_direction_type[k][0],filtered_direction_type[k][1]))\n",
    "                    work_list.append(i)\n",
    "                    break\n",
    "            elif re.search(r'Homo sapiens', interactorsB[i].get(filtered_direction_list[k][1].lower())):\n",
    "                if re.search(r'Homo sapiens', interactorsB[i].get(filtered_direction_list[k][1].lower())):\n",
    "                    experiment.append((filtered_direction_list[k][0],filtered_direction_list[k][1]))\n",
    "                    experiment_type.append((filtered_direction_type[k][0],filtered_direction_type[k][1]))\n",
    "                    work_list.append(i)\n",
    "                    break\n",
    "            else:\n",
    "                experiment.append((filtered_direction_list[k][0],filtered_direction_list[k][1]))\n",
    "                experiment_type.append((filtered_direction_type[k][0],filtered_direction_type[k][1]))\n",
    "                work_list.append(i)\n",
    "                break\n",
    "        elif interactorsA[i].get(filtered_direction_list[k][1].lower()) and interactorsB[i].get(filtered_direction_list[k][0].lower()):\n",
    "        # if interactorsA[i].get(k[0].lower()):\n",
    "            if filtered_direction_type[k][1] in ['DNA','RNA'] and filtered_direction_type[k][0] in ['DNA','RNA']:\n",
    "                if re.search(r'Homo sapiens', interactorsA[i].get(filtered_direction_list[k][1].lower())) and re.search(r'Homo sapiens', interactorsB[i].get(filtered_direction_list[k][0].lower())):\n",
    "                    experiment.append((filtered_direction_list[k][1],filtered_direction_list[k][0]))\n",
    "                    experiment_type.append((filtered_direction_type[k][1],filtered_direction_type[k][0]))\n",
    "                    work_list.append(i)\n",
    "                    break\n",
    "            elif re.search(r'Homo sapiens', interactorsA[i].get(filtered_direction_list[k][1].lower())):\n",
    "                if re.search(r'Homo sapiens', interactorsA[i].get(filtered_direction_list[k][1].lower())):\n",
    "                    experiment.append((filtered_direction_list[k][1],filtered_direction_list[k][0]))\n",
    "                    experiment_type.append((filtered_direction_type[k][1],filtered_direction_type[k][0]))\n",
    "                    work_list.append(i)\n",
    "                    break\n",
    "            elif re.search(r'Homo sapiens', interactorsB[i].get(filtered_direction_list[k][0].lower())):\n",
    "                if re.search(r'Homo sapiens', interactorsB[i].get(filtered_direction_list[k][1].lower())):\n",
    "                    experiment.append((filtered_direction_list[k][1],filtered_direction_list[k][0]))\n",
    "                    experiment_type.append((filtered_direction_type[k][1],filtered_direction_type[k][0]))\n",
    "                    work_list.append(i)\n",
    "                    break\n",
    "            else:\n",
    "                experiment.append((filtered_direction_list[k][1],filtered_direction_list[k][0]))\n",
    "                experiment_type.append((filtered_direction_type[k][1],filtered_direction_type[k][0]))\n",
    "                work_list.append(i)\n",
    "                break\n",
    "if __name__=='__main__':\n",
    "    start=datetime.datetime.now()\n",
    "    print('Parent process %s.' % os.getpid())\n",
    "    p=Pool(60)\n",
    "    manager=Manager()\n",
    "    work_list=manager.list()\n",
    "    experiment=manager.list()\n",
    "    experiment_type=manager.list()\n",
    "    for k in range(len(filtered_direction_list)):\n",
    "        p.apply_async(work, args=(k,experiment,experiment_type,work_list))\n",
    "    print('Waiting for all subprocesses done...')\n",
    "    \n",
    "    p.close()\n",
    "    p.join()\n",
    "    print('All subprocesses done.')\n",
    "\n",
    "    end=datetime.datetime.now()\n",
    "    print(\"The running time is \"+str((end-start).seconds)+\"s\")  "
   ]
  },
  {
   "cell_type": "code",
   "execution_count": 191,
   "id": "559e06f3-78f0-484b-bb25-d98d61cd2118",
   "metadata": {},
   "outputs": [
    {
     "data": {
      "text/plain": [
       "322"
      ]
     },
     "execution_count": 191,
     "metadata": {},
     "output_type": "execute_result"
    }
   ],
   "source": [
    "# 374\n",
    "len(list(work_list))"
   ]
  },
  {
   "cell_type": "code",
   "execution_count": 192,
   "id": "0d505e13-9d25-4675-999d-944dc683f46b",
   "metadata": {},
   "outputs": [
    {
     "data": {
      "text/plain": [
       "#ID(s) interactor A                                                                                                                                                                                                           uniprotkb:P28340\n",
       "ID(s) interactor B                                                                                                                                                                                                            uniprotkb:Q15054\n",
       "Alt. ID(s) interactor A                                  intact:EBI-716569|ensembl:ENSP00000406046.1|ensembl:ENSP00000472600.2|ensembl:ENSP00000472607.2|ensembl:ENSP00000473052.1|ensembl:ENSP00000510052.1|uniprotkb:Q8NER3|uniprotkb:Q96H98\n",
       "Alt. ID(s) interactor B                                                                                                                         intact:EBI-864956|uniprotkb:B7ZAI6|uniprotkb:Q32MZ9|uniprotkb:Q32N00|ensembl:ENSP00000263681.2\n",
       "Alias(es) interactor A                 psi-mi:dpod1_human(display_long)|uniprotkb:3'-5' exodeoxyribonuclease(gene name synonym)|uniprotkb:DNA polymerase subunit delta p125(gene name synonym)|uniprotkb:POLD1(gene name)|psi-mi:POLD1(disp...\n",
       "Alias(es) interactor B                 psi-mi:dpod3_human(display_long)|uniprotkb:DNA polymerase delta subunit p66(gene name synonym)|uniprotkb:POLD3(gene name)|psi-mi:POLD3(display_short)|uniprotkb:KIAA0039(gene name synonym)|uniprotk...\n",
       "Interaction detection method(s)                                                                                                                                                                  psi-mi:\"MI:0226\"(ion exchange chromatography)\n",
       "Publication 1st author(s)                                                                                                                                                                                                    Xie et al. (2002)\n",
       "Publication Identifier(s)                                                                                                                                                                                                      pubmed:12403614\n",
       "Taxid interactor A                                                                                                                                                                                  taxid:9606(human)|taxid:9606(Homo sapiens)\n",
       "Taxid interactor B                                                                                                                                                                                  taxid:9606(human)|taxid:9606(Homo sapiens)\n",
       "Interaction type(s)                                                                                                                                                                                     psi-mi:\"MI:0915\"(physical association)\n",
       "Source database(s)                                                                                                                                                                                                    psi-mi:\"MI:0469\"(IntAct)\n",
       "Interaction identifier(s)                                                                                                                                                                                                    intact:EBI-864998\n",
       "Confidence value(s)                                                                                                                                                                                                        intact-miscore:0.81\n",
       "Expansion method(s)                                                                                                                                                                                          psi-mi:\"MI:1060\"(spoke expansion)\n",
       "Biological role(s) interactor A                                                                                                                                                                             psi-mi:\"MI:0499\"(unspecified role)\n",
       "Biological role(s) interactor B                                                                                                                                                                             psi-mi:\"MI:0499\"(unspecified role)\n",
       "Experimental role(s) interactor A                                                                                                                                                                          psi-mi:\"MI:0497\"(neutral component)\n",
       "Experimental role(s) interactor B                                                                                                                                                                          psi-mi:\"MI:0497\"(neutral component)\n",
       "Type(s) interactor A                                                                                                                                                                                                 psi-mi:\"MI:0326\"(protein)\n",
       "Type(s) interactor B                                                                                                                                                                                                 psi-mi:\"MI:0326\"(protein)\n",
       "Xref(s) interactor A                   ensembl:ENSG00000062822.16(gene)|ensembl:ENST00000440232.7(transcript)|ensembl:ENST00000593887.2(transcript)|ensembl:ENST00000599857.7(transcript)|ensembl:ENST00000601098.6(transcript)|ensembl:ENS...\n",
       "Xref(s) interactor B                   refseq:NP_006582.1|dip:DIP-35772N|go:\"GO:0006261\"(DNA-dependent DNA replication)|go:\"GO:0006271\"(DNA strand elongation involved in DNA replication)|go:\"GO:0006297\"(nucleotide-excision repair, DNA ...\n",
       "Interaction Xref(s)                                                                                                                                                                                            go:\"GO:0003891\"|go:\"GO:0005659\"\n",
       "Annotation(s) interactor A                                                                                                                                                                                                                   -\n",
       "Annotation(s) interactor B                                                                                                                                                                                                                   -\n",
       "Interaction annotation(s)                                                                                                                                                            delivery method:P28340; P49005; Q15054; Q9HCU8; infection\n",
       "Host organism(s)                                                                                                                                                         taxid:7108(spofr-sf_9)|taxid:7108(Spodoptera frugiperda insect cells)\n",
       "Interaction parameter(s)                                                                                                                                                                                                                     -\n",
       "Creation date                                                                                                                                                                                                                       2006/02/22\n",
       "Update date                                                                                                                                                                                                                         2014/10/16\n",
       "Checksum(s) interactor A                                                                                                                                                                                 rogid:bJ5Q0xOzHga/zxMOBHkuXaFXeLw9606\n",
       "Checksum(s) interactor B                                                                                                                                                                                 rogid:lqGl+fKC1gasYIgeCvroW9DTKBg9606\n",
       "Interaction Checksum(s)                                                                                                                                                          intact-crc:4C6F9DD1506FD2A2|rigid:82PLCKJv4KM+SyI+MmbyZJaWV38\n",
       "Negative                                                                                                                                                                                                                                 False\n",
       "Feature(s) interactor A                                                                                                                                                                                                                      -\n",
       "Feature(s) interactor B                                                                                                                                                                                                                      -\n",
       "Stoichiometry(s) interactor A                                                                                                                                                                                                                -\n",
       "Stoichiometry(s) interactor B                                                                                                                                                                                                                -\n",
       "Identification method participant A                                                                                                                                                                             psi-mi:\"MI:0113\"(western blot)\n",
       "Identification method participant B                                                                                                                                                                             psi-mi:\"MI:0113\"(western blot)\n",
       "Name: 97573, dtype: object"
      ]
     },
     "execution_count": 192,
     "metadata": {},
     "output_type": "execute_result"
    }
   ],
   "source": [
    "file.iloc[list(work_list)[-8],:]"
   ]
  },
  {
   "cell_type": "code",
   "execution_count": 193,
   "id": "5e23288f-7db3-4a9f-a467-17790eb5af98",
   "metadata": {},
   "outputs": [
    {
     "data": {
      "text/plain": [
       "'refseq:NP_006582.1|dip:DIP-35772N|go:\"GO:0006261\"(DNA-dependent DNA replication)|go:\"GO:0006271\"(DNA strand elongation involved in DNA replication)|go:\"GO:0006297\"(nucleotide-excision repair, DNA gap filling)|go:\"GO:0006298\"(mismatch repair)|go:\"GO:0016035\"(zeta DNA polymerase complex)|go:\"GO:0030674\"(protein-macromolecule adaptor activity)|go:\"GO:0042276\"(error-prone translesion synthesis)|go:\"GO:0043625\"(delta DNA polymerase complex)|go:\"GO:0071897\"(DNA biosynthetic process)|go:\"GO:1904161\"(DNA synthesis involved in UV-damage excision repair)|interpro:IPR019038|interpro:IPR041913|mint:Q15054|rcsb pdb:1U76|rcsb pdb:2N1G|rcsb pdb:3E0J|rcsb pdb:6S1M|rcsb pdb:6S1N|rcsb pdb:6S1O|rcsb pdb:6TNY|rcsb pdb:6TNZ|reactome:R-HSA-110314|reactome:R-HSA-174411|reactome:R-HSA-174414|reactome:R-HSA-174417|reactome:R-HSA-174437|reactome:R-HSA-5358565|reactome:R-HSA-5358606|reactome:R-HSA-5651801|reactome:R-HSA-5656169|reactome:R-HSA-5685942|reactome:R-HSA-5696397|reactome:R-HSA-5696400|reactome:R-HSA-6782135|reactome:R-HSA-6782210|reactome:R-HSA-69091|go:\"GO:0005737\"(cytoplasm)|reactome:R-HSA-69166|reactome:R-HSA-69183|ensembl:ENSG00000077514.9(gene)|ensembl:ENST00000263681.7(transcript)|go:\"GO:0000731\"(DNA synthesis involved in DNA repair)|go:\"GO:0005654\"(nucleoplasm)'"
      ]
     },
     "execution_count": 193,
     "metadata": {},
     "output_type": "execute_result"
    }
   ],
   "source": [
    "file.iloc[list(work_list)[-8],23]"
   ]
  },
  {
   "cell_type": "code",
   "execution_count": 194,
   "id": "f5618aa4-fd26-4093-9f43-644075f60d93",
   "metadata": {},
   "outputs": [
    {
     "data": {
      "text/plain": [
       "[('POLD1', 'POLD3'), ('POLD1', 'POLD2'), ('CTSK', 'CTSV'), ('Glycogen', 'AGL')]"
      ]
     },
     "execution_count": 194,
     "metadata": {},
     "output_type": "execute_result"
    }
   ],
   "source": [
    "list(experiment)[-8:-4]"
   ]
  },
  {
   "cell_type": "code",
   "execution_count": 196,
   "id": "98274d5d-19f4-4421-9bde-f05f30e41240",
   "metadata": {},
   "outputs": [
    {
     "name": "stdout",
     "output_type": "stream",
     "text": [
      "('Lipid', 'DNA')\n",
      "('Lipid', 'DNA')\n",
      "('Carbohydrate', 'DNA')\n",
      "('Carbohydrate', 'DNA')\n",
      "('Carbohydrate', 'DNA')\n",
      "('Carbohydrate', 'DNA')\n"
     ]
    }
   ],
   "source": [
    "for i in list(experiment_type):\n",
    "    if i[0]!= 'DNA' or i[1]!= 'DNA':\n",
    "        print(i)"
   ]
  },
  {
   "cell_type": "code",
   "execution_count": 197,
   "id": "3ec979a5-c88d-4831-b45f-671d69f3ccce",
   "metadata": {},
   "outputs": [
    {
     "name": "stdout",
     "output_type": "stream",
     "text": [
      "87\n",
      "88\n",
      "101\n",
      "317\n",
      "318\n",
      "319\n"
     ]
    }
   ],
   "source": [
    "for i in range(len(list(experiment_type))):\n",
    "    if list(experiment_type)[i][0]!= 'DNA' or list(experiment_type)[i][1]!= 'DNA':\n",
    "        print(i)"
   ]
  },
  {
   "cell_type": "code",
   "execution_count": 200,
   "id": "b23e65d7-457b-4330-bfa9-11e5190a0732",
   "metadata": {},
   "outputs": [
    {
     "name": "stdout",
     "output_type": "stream",
     "text": [
      "('Cholesterol', 'NPC2')\n",
      "('Cholesterol', 'NPC1')\n",
      "('Heparin', 'PF4')\n",
      "('Glycogen', 'AGL')\n",
      "('Heparin', 'APOE')\n",
      "('Heparin', 'ANXA2')\n"
     ]
    }
   ],
   "source": [
    "for i in [87,88,101,317,318,319]:\n",
    "    print(list(experiment)[i])"
   ]
  },
  {
   "cell_type": "code",
   "execution_count": 199,
   "id": "f24929fb-1ff9-4b94-b4fb-bef5015ad2d8",
   "metadata": {},
   "outputs": [
    {
     "data": {
      "text/plain": [
       "#ID(s) interactor A                                                                                                                                                                                                        chebi:\"CHEBI:16113\"\n",
       "ID(s) interactor B                                                                                                                                                                                                            uniprotkb:P61916\n",
       "Alt. ID(s) interactor A                                                                                                                                                                                                     intact:EBI-2368700\n",
       "Alt. ID(s) interactor B                                                                                                                        intact:EBI-2368946|uniprotkb:Q15668|uniprotkb:Q29413|uniprotkb:B4DQV7|ensembl:ENSP00000451112.2\n",
       "Alias(es) interactor A                                                                                                                                                    psi-mi:cholesterol(display_short)|psi-mi:\"CHEBI:16113\"(display_long)\n",
       "Alias(es) interactor B                 psi-mi:npc2_human(display_long)|uniprotkb:NPC2(gene name)|psi-mi:NPC2(display_short)|uniprotkb:Niemann-Pick disease type C2 protein(gene name synonym)|uniprotkb:HE1(gene name synonym)|uniprotkb:Hu...\n",
       "Interaction detection method(s)                                                                                                                                                                                    psi-mi:\"MI:0096\"(pull down)\n",
       "Publication 1st author(s)                                                                                                                                                                                                   Kwon et al. (2009)\n",
       "Publication Identifier(s)                                                                                                                                                                                        pubmed:19563754|imex:IM-20332\n",
       "Taxid interactor A                                                                                                                                            taxid:-2(chemical synthesis)|taxid:-2(\"Chemical synthesis (Chemical synthesis)\")\n",
       "Taxid interactor B                                                                                                                                                                                  taxid:9606(human)|taxid:9606(Homo sapiens)\n",
       "Interaction type(s)                                                                                                                                                                                       psi-mi:\"MI:0407\"(direct interaction)\n",
       "Source database(s)                                                                                                                                                                                                    psi-mi:\"MI:0469\"(IntAct)\n",
       "Interaction identifier(s)                                                                                                                                                                        intact:EBI-2368970|wwpdb:3GKI|imex:IM-20332-1\n",
       "Confidence value(s)                                                                                                                                                                                                        intact-miscore:0.78\n",
       "Expansion method(s)                                                                                                                                                                                          psi-mi:\"MI:1060\"(spoke expansion)\n",
       "Biological role(s) interactor A                                                                                                                                                                             psi-mi:\"MI:0499\"(unspecified role)\n",
       "Biological role(s) interactor B                                                                                                                                                                                        psi-mi:\"MI:0918\"(donor)\n",
       "Experimental role(s) interactor A                                                                                                                                                                          psi-mi:\"MI:0497\"(neutral component)\n",
       "Experimental role(s) interactor B                                                                                                                                                                          psi-mi:\"MI:0497\"(neutral component)\n",
       "Type(s) interactor A                                                                                                                                                                                          psi-mi:\"MI:0328\"(small molecule)\n",
       "Type(s) interactor B                                                                                                                                                                                                 psi-mi:\"MI:0326\"(protein)\n",
       "Xref(s) interactor A                                                                                                                                                                                                                         -\n",
       "Xref(s) interactor B                   refseq:NP_006423.1|ensembl:ENSG00000119655.11(gene)|ensembl:ENST00000555619.6(transcript)|go:\"GO:0005576\"(extracellular region)|go:\"GO:0005615\"(extracellular space)|go:\"GO:0005764\"(lysosome)|go:\"G...\n",
       "Interaction Xref(s)                                                                                                                                                                                       go:\"GO:0015485\"(cholesterol binding)\n",
       "Annotation(s) interactor A                                                                                                                                                                                                                   -\n",
       "Annotation(s) interactor B                                                                                                                                                                                                                   -\n",
       "Interaction annotation(s)                                                                       figure legend:Fig. 5D|comment:Cholesterol is [3H] radio-labelled.|full coverage:Only protein-protein interactions|curation depth:imex curation\n",
       "Host organism(s)                                                                                                                                                                                         taxid:-1(in vitro)|taxid:-1(In vitro)\n",
       "Interaction parameter(s)                                                                                                                                                                                                                     -\n",
       "Creation date                                                                                                                                                                                                                       2009/07/23\n",
       "Update date                                                                                                                                                                                                                         2014/10/16\n",
       "Checksum(s) interactor A                                                                                                                                                                                                                     -\n",
       "Checksum(s) interactor B                                                                                                                                                                                 rogid:v1WSWKL+SaMlpcVh7Qhespo84Lg9606\n",
       "Interaction Checksum(s)                                                                                                                                                                                            intact-crc:4B6B1D13BDAA9E71\n",
       "Negative                                                                                                                                                                                                                                 False\n",
       "Feature(s) interactor A                                                                                                                                                                                                                      -\n",
       "Feature(s) interactor B                                                                                                                                                                                                           flag tag:?-?\n",
       "Stoichiometry(s) interactor A                                                                                                                                                                                                                -\n",
       "Stoichiometry(s) interactor B                                                                                                                                                                                                                -\n",
       "Identification method participant A                                                                                                                                                                psi-mi:\"MI:0396\"(predetermined participant)\n",
       "Identification method participant B                                                                                                                                                                psi-mi:\"MI:0396\"(predetermined participant)\n",
       "Name: 233676, dtype: object"
      ]
     },
     "execution_count": 199,
     "metadata": {},
     "output_type": "execute_result"
    }
   ],
   "source": [
    "file.iloc[list(work_list)[87],:]"
   ]
  },
  {
   "cell_type": "code",
   "execution_count": 198,
   "id": "261b0abb-b364-42c5-afa2-c9a2694e5ba3",
   "metadata": {},
   "outputs": [
    {
     "data": {
      "text/plain": [
       "('Cholesterol', 'NPC2')"
      ]
     },
     "execution_count": 198,
     "metadata": {},
     "output_type": "execute_result"
    }
   ],
   "source": [
    "list(experiment)[87]"
   ]
  },
  {
   "cell_type": "code",
   "execution_count": 165,
   "id": "c1ffa7e4-8e6c-45f1-9b1e-774342e1207f",
   "metadata": {},
   "outputs": [
    {
     "data": {
      "text/plain": [
       "[('DNA', 'DNA'),\n",
       " ('DNA', 'DNA'),\n",
       " ('DNA', 'DNA'),\n",
       " ('DNA', 'DNA'),\n",
       " ('DNA', 'DNA'),\n",
       " ('DNA', 'DNA'),\n",
       " ('DNA', 'DNA'),\n",
       " ('DNA', 'DNA'),\n",
       " ('DNA', 'DNA'),\n",
       " ('DNA', 'DNA'),\n",
       " ('DNA', 'DNA'),\n",
       " ('DNA', 'DNA'),\n",
       " ('DNA', 'DNA'),\n",
       " ('DNA', 'DNA'),\n",
       " ('DNA', 'DNA'),\n",
       " ('DNA', 'DNA'),\n",
       " ('Carbohydrate', 'DNA'),\n",
       " ('DNA', 'Carbohydrate'),\n",
       " ('DNA', 'Carbohydrate'),\n",
       " ('DNA', 'Carbohydrate'),\n",
       " ('DNA', 'DNA'),\n",
       " ('DNA', 'DNA'),\n",
       " ('DNA', 'DNA'),\n",
       " ('DNA', 'DNA')]"
      ]
     },
     "execution_count": 165,
     "metadata": {},
     "output_type": "execute_result"
    }
   ],
   "source": [
    "list(experiment_type)[350:]"
   ]
  },
  {
   "cell_type": "code",
   "execution_count": 168,
   "id": "d050227b-786a-4813-acc2-7dd8eb4a3894",
   "metadata": {},
   "outputs": [
    {
     "data": {
      "text/plain": [
       "4051"
      ]
     },
     "execution_count": 168,
     "metadata": {},
     "output_type": "execute_result"
    }
   ],
   "source": [
    "len(filtered_direction_type)"
   ]
  },
  {
   "cell_type": "code",
   "execution_count": 173,
   "id": "ba40f457-5405-4934-b409-e20db162d992",
   "metadata": {},
   "outputs": [],
   "source": [
    "Car=[]\n",
    "for i in range(len(filtered_direction_type)):\n",
    "    if filtered_direction_type[i][0]=='Carbohydrate' :\n",
    "        Car.append(filtered_direction_list[i][0])\n",
    "    elif filtered_direction_type[i][1]=='Carbohydrate':\n",
    "        Car.append(filtered_direction_list[i][1])"
   ]
  },
  {
   "cell_type": "code",
   "execution_count": 175,
   "id": "f0e07a19-5c05-4b8c-90b0-77ce0f1a5df0",
   "metadata": {},
   "outputs": [
    {
     "data": {
      "text/plain": [
       "['Glucose',\n",
       " 'Glucose',\n",
       " 'Glucose',\n",
       " 'Anthracyclines',\n",
       " 'Anthracyclines',\n",
       " 'Anthracyclines',\n",
       " 'Glucose',\n",
       " 'Glucose',\n",
       " 'Glucose',\n",
       " 'Glucose',\n",
       " 'Glucose',\n",
       " 'Glucose',\n",
       " 'Doxorubicin',\n",
       " 'Doxorubicin',\n",
       " 'Doxorubicin',\n",
       " 'Doxorubicin',\n",
       " 'Glucose',\n",
       " 'Glucose',\n",
       " 'Glucose',\n",
       " 'Glucose',\n",
       " 'Sugars',\n",
       " 'Sugars',\n",
       " 'Doxorubicin',\n",
       " 'Glucose',\n",
       " 'Doxorubicin',\n",
       " 'Fructose',\n",
       " 'Fructose',\n",
       " 'Heparitin Sulfate',\n",
       " 'Heparitin Sulfate',\n",
       " 'Glucose',\n",
       " 'Glycogen',\n",
       " 'Glucose',\n",
       " 'Glycogen',\n",
       " 'Glucose',\n",
       " 'Glucose',\n",
       " 'Glucose',\n",
       " 'Ascorbic Acid',\n",
       " 'Glucosamine',\n",
       " 'Glucosamine',\n",
       " 'Glucose',\n",
       " 'Glycosaminoglycans',\n",
       " 'Glucose',\n",
       " 'Glucose',\n",
       " 'Starch',\n",
       " 'Anthracyclines',\n",
       " 'Glucose',\n",
       " 'Glucose',\n",
       " 'Glucose',\n",
       " 'Glucose',\n",
       " 'Glucose']"
      ]
     },
     "execution_count": 175,
     "metadata": {},
     "output_type": "execute_result"
    }
   ],
   "source": [
    "Car[:50]"
   ]
  },
  {
   "cell_type": "code",
   "execution_count": null,
   "id": "1167ec77-4bd3-4c12-8a88-b2db44e39c86",
   "metadata": {},
   "outputs": [],
   "source": []
  },
  {
   "cell_type": "code",
   "execution_count": null,
   "id": "0ae5a735-7c4c-4226-98ca-76f0032dfbc3",
   "metadata": {},
   "outputs": [],
   "source": []
  },
  {
   "cell_type": "code",
   "execution_count": null,
   "id": "51fca775-afe3-4941-823a-b789d417a77e",
   "metadata": {},
   "outputs": [],
   "source": []
  },
  {
   "cell_type": "code",
   "execution_count": null,
   "id": "239d1f25-a43b-4229-bb16-dc4362be86c3",
   "metadata": {},
   "outputs": [],
   "source": []
  },
  {
   "cell_type": "code",
   "execution_count": null,
   "id": "5887cba2-41cd-48a5-97a8-4427678f264a",
   "metadata": {},
   "outputs": [],
   "source": []
  },
  {
   "cell_type": "code",
   "execution_count": null,
   "id": "c3fdf478-236a-47be-8a54-35227215d542",
   "metadata": {},
   "outputs": [],
   "source": []
  },
  {
   "cell_type": "code",
   "execution_count": null,
   "id": "c8241834-ccad-491c-acab-5f1231765a10",
   "metadata": {},
   "outputs": [],
   "source": []
  },
  {
   "cell_type": "code",
   "execution_count": null,
   "id": "b87ead1e-d810-40b0-9be3-a9076e3ef793",
   "metadata": {},
   "outputs": [],
   "source": []
  },
  {
   "cell_type": "code",
   "execution_count": null,
   "id": "09eb6be8-f18e-44e1-9174-60992ef91c4e",
   "metadata": {},
   "outputs": [],
   "source": []
  },
  {
   "cell_type": "code",
   "execution_count": null,
   "id": "99236a69-5e7f-48bb-94e9-a3dc1d429594",
   "metadata": {},
   "outputs": [],
   "source": []
  },
  {
   "cell_type": "code",
   "execution_count": null,
   "id": "151ad0db-c64b-44bb-bed1-cd331e29676e",
   "metadata": {},
   "outputs": [],
   "source": []
  },
  {
   "cell_type": "code",
   "execution_count": 121,
   "id": "8ad266d6-f5a1-4d0d-bccf-81b7e0e31f44",
   "metadata": {},
   "outputs": [],
   "source": [
    "lineindex=[]\n",
    "for i in range(len(file)):\n",
    "    if file.loc[i,'Taxid interactor A'].split('|')[0]=='taxid:9606(human)' and file.loc[i,'Taxid interactor B'].split('|')[0]=='taxid:9606(human)':\n",
    "        lineindex.append(i)"
   ]
  },
  {
   "cell_type": "code",
   "execution_count": 122,
   "id": "9fdfe48f-5a01-4967-9cee-9baddacd667b",
   "metadata": {},
   "outputs": [
    {
     "data": {
      "text/plain": [
       "632740"
      ]
     },
     "execution_count": 122,
     "metadata": {},
     "output_type": "execute_result"
    }
   ],
   "source": [
    "# 632740\n",
    "len(lineindex)"
   ]
  },
  {
   "cell_type": "code",
   "execution_count": 123,
   "id": "12b8888c-c46a-4a2e-8f9e-ac2e64aba3d5",
   "metadata": {},
   "outputs": [],
   "source": [
    "df_intact=file.iloc[lineindex,:]"
   ]
  },
  {
   "cell_type": "code",
   "execution_count": 124,
   "id": "1a3c664d-edf7-40c6-9ef4-b8358bea77b7",
   "metadata": {},
   "outputs": [],
   "source": [
    "pd.set_option('display.max_columns', None) \n",
    "pd.set_option('display.max_rows', None) \n",
    "pd.set_option('display.expand_frame_repr', False) \n",
    "pd.set_option('display.max_colwidth', 200)"
   ]
  },
  {
   "cell_type": "code",
   "execution_count": 125,
   "id": "b67fcc46-8bb1-40da-bad0-b05354b255a0",
   "metadata": {},
   "outputs": [
    {
     "data": {
      "text/html": [
       "<div>\n",
       "<style scoped>\n",
       "    .dataframe tbody tr th:only-of-type {\n",
       "        vertical-align: middle;\n",
       "    }\n",
       "\n",
       "    .dataframe tbody tr th {\n",
       "        vertical-align: top;\n",
       "    }\n",
       "\n",
       "    .dataframe thead th {\n",
       "        text-align: right;\n",
       "    }\n",
       "</style>\n",
       "<table border=\"1\" class=\"dataframe\">\n",
       "  <thead>\n",
       "    <tr style=\"text-align: right;\">\n",
       "      <th></th>\n",
       "      <th>#ID(s) interactor A</th>\n",
       "      <th>ID(s) interactor B</th>\n",
       "      <th>Alt. ID(s) interactor A</th>\n",
       "      <th>Alt. ID(s) interactor B</th>\n",
       "      <th>Alias(es) interactor A</th>\n",
       "      <th>Alias(es) interactor B</th>\n",
       "      <th>Interaction detection method(s)</th>\n",
       "      <th>Publication 1st author(s)</th>\n",
       "      <th>Publication Identifier(s)</th>\n",
       "      <th>Taxid interactor A</th>\n",
       "      <th>Taxid interactor B</th>\n",
       "      <th>Interaction type(s)</th>\n",
       "      <th>Source database(s)</th>\n",
       "      <th>Interaction identifier(s)</th>\n",
       "      <th>Confidence value(s)</th>\n",
       "      <th>Expansion method(s)</th>\n",
       "      <th>Biological role(s) interactor A</th>\n",
       "      <th>Biological role(s) interactor B</th>\n",
       "      <th>Experimental role(s) interactor A</th>\n",
       "      <th>Experimental role(s) interactor B</th>\n",
       "      <th>Type(s) interactor A</th>\n",
       "      <th>Type(s) interactor B</th>\n",
       "      <th>Xref(s) interactor A</th>\n",
       "      <th>Xref(s) interactor B</th>\n",
       "      <th>Interaction Xref(s)</th>\n",
       "      <th>Annotation(s) interactor A</th>\n",
       "      <th>Annotation(s) interactor B</th>\n",
       "      <th>Interaction annotation(s)</th>\n",
       "      <th>Host organism(s)</th>\n",
       "      <th>Interaction parameter(s)</th>\n",
       "      <th>Creation date</th>\n",
       "      <th>Update date</th>\n",
       "      <th>Checksum(s) interactor A</th>\n",
       "      <th>Checksum(s) interactor B</th>\n",
       "      <th>Interaction Checksum(s)</th>\n",
       "      <th>Negative</th>\n",
       "      <th>Feature(s) interactor A</th>\n",
       "      <th>Feature(s) interactor B</th>\n",
       "      <th>Stoichiometry(s) interactor A</th>\n",
       "      <th>Stoichiometry(s) interactor B</th>\n",
       "      <th>Identification method participant A</th>\n",
       "      <th>Identification method participant B</th>\n",
       "    </tr>\n",
       "  </thead>\n",
       "  <tbody>\n",
       "    <tr>\n",
       "      <th>0</th>\n",
       "      <td>uniprotkb:P49418</td>\n",
       "      <td>uniprotkb:O43426</td>\n",
       "      <td>intact:EBI-7121510|uniprotkb:Q75MK5|uniprotkb:Q75MM3|uniprotkb:A4D1X9|intact:MINT-109264|uniprotkb:O43538|uniprotkb:A4D1X8|uniprotkb:Q75MJ8|uniprotkb:Q8N4G0|ensembl:ENSP00000348602.2</td>\n",
       "      <td>intact:EBI-2821539|uniprotkb:O43425|uniprotkb:O94984|uniprotkb:Q4KMR1|ensembl:ENSP00000501426.1</td>\n",
       "      <td>psi-mi:amph_human(display_long)|uniprotkb:AMPH(gene name)|psi-mi:AMPH(display_short)|uniprotkb:AMPH1(gene name synonym)</td>\n",
       "      <td>psi-mi:synj1_human(display_long)|uniprotkb:SYNJ1(gene name)|psi-mi:SYNJ1(display_short)|uniprotkb:KIAA0910(gene name synonym)|uniprotkb:Synaptic inositol 1,4,5-trisphosphate 5-phosphatase 1(gene n...</td>\n",
       "      <td>psi-mi:\"MI:0084\"(phage display)</td>\n",
       "      <td>Cestra et al. (1999)</td>\n",
       "      <td>pubmed:10542231|mint:MINT-5211933</td>\n",
       "      <td>taxid:9606(human)|taxid:9606(Homo sapiens)</td>\n",
       "      <td>taxid:9606(human)|taxid:9606(Homo sapiens)</td>\n",
       "      <td>psi-mi:\"MI:0407\"(direct interaction)</td>\n",
       "      <td>psi-mi:\"MI:0471\"(MINT)</td>\n",
       "      <td>intact:EBI-7121552|mint:MINT-16056</td>\n",
       "      <td>intact-miscore:0.56</td>\n",
       "      <td>-</td>\n",
       "      <td>psi-mi:\"MI:0499\"(unspecified role)</td>\n",
       "      <td>psi-mi:\"MI:0499\"(unspecified role)</td>\n",
       "      <td>psi-mi:\"MI:0498\"(prey)</td>\n",
       "      <td>psi-mi:\"MI:0496\"(bait)</td>\n",
       "      <td>psi-mi:\"MI:0326\"(protein)</td>\n",
       "      <td>psi-mi:\"MI:0326\"(protein)</td>\n",
       "      <td>refseq:NP_001626.1|refseq:NP_647477.1|ensembl:ENSG00000078053.17(gene)|ensembl:ENST00000356264.7(transcript)|go:\"GO:0005543\"(phospholipid binding)|go:\"GO:0005829\"(cytosol)|go:\"GO:0005886\"(plasma m...</td>\n",
       "      <td>refseq:NP_001153774.1|refseq:NP_001153778.1|refseq:NP_003886.3|refseq:NP_982271.2|refseq:XP_016883989.1|ensembl:ENSG00000159082.18(gene)|ensembl:ENST00000674308.1(transcript)|go:\"GO:0003723\"(RNA b...</td>\n",
       "      <td>-</td>\n",
       "      <td>function:May participate in mechanisms of regulated exocytosis in synapses and certain endocrine cell types. May control the properties of the membrane associated cytoskeleton|comment:mint|comment...</td>\n",
       "      <td>comment:\"Stoichiometry: 1.0\"</td>\n",
       "      <td>comment:homomint|comment:domino|comment:mint</td>\n",
       "      <td>taxid:-1(in vitro)|taxid:-1(In vitro)</td>\n",
       "      <td>-</td>\n",
       "      <td>2001/01/10</td>\n",
       "      <td>2014/10/16</td>\n",
       "      <td>rogid:vrgVrVoYr45cUe4X6L/zBAE1RtU9606</td>\n",
       "      <td>rogid:RA73eMbCn6F7MD0ItxF/V7QbjqM9606</td>\n",
       "      <td>intact-crc:F4234557A3B54840|rigid:n+UcEH4PPLkFnIyvBiXrLefK/xU</td>\n",
       "      <td>False</td>\n",
       "      <td>binding-associated region:626-695(MINT-376295)</td>\n",
       "      <td>binding-associated region:1063-1070(MINT-376288)</td>\n",
       "      <td>-</td>\n",
       "      <td>-</td>\n",
       "      <td>psi-mi:\"MI:0078\"(nucleotide sequence identification)</td>\n",
       "      <td>psi-mi:\"MI:0078\"(nucleotide sequence identification)</td>\n",
       "    </tr>\n",
       "  </tbody>\n",
       "</table>\n",
       "</div>"
      ],
      "text/plain": [
       "  #ID(s) interactor A ID(s) interactor B                                                                                                                                                                 Alt. ID(s) interactor A                                                                          Alt. ID(s) interactor B                                                                                                   Alias(es) interactor A                                                                                                                                                                                   Alias(es) interactor B  Interaction detection method(s) Publication 1st author(s)          Publication Identifier(s)                          Taxid interactor A                          Taxid interactor B                   Interaction type(s)      Source database(s)           Interaction identifier(s)  Confidence value(s) Expansion method(s)     Biological role(s) interactor A     Biological role(s) interactor B Experimental role(s) interactor A Experimental role(s) interactor B       Type(s) interactor A       Type(s) interactor B                                                                                                                                                                                     Xref(s) interactor A                                                                                                                                                                                     Xref(s) interactor B Interaction Xref(s)                                                                                                                                                                               Annotation(s) interactor A    Annotation(s) interactor B                     Interaction annotation(s)                       Host organism(s) Interaction parameter(s) Creation date Update date               Checksum(s) interactor A               Checksum(s) interactor B                                        Interaction Checksum(s)  Negative                         Feature(s) interactor A                           Feature(s) interactor B Stoichiometry(s) interactor A Stoichiometry(s) interactor B                   Identification method participant A                   Identification method participant B\n",
       "0    uniprotkb:P49418   uniprotkb:O43426  intact:EBI-7121510|uniprotkb:Q75MK5|uniprotkb:Q75MM3|uniprotkb:A4D1X9|intact:MINT-109264|uniprotkb:O43538|uniprotkb:A4D1X8|uniprotkb:Q75MJ8|uniprotkb:Q8N4G0|ensembl:ENSP00000348602.2  intact:EBI-2821539|uniprotkb:O43425|uniprotkb:O94984|uniprotkb:Q4KMR1|ensembl:ENSP00000501426.1  psi-mi:amph_human(display_long)|uniprotkb:AMPH(gene name)|psi-mi:AMPH(display_short)|uniprotkb:AMPH1(gene name synonym)  psi-mi:synj1_human(display_long)|uniprotkb:SYNJ1(gene name)|psi-mi:SYNJ1(display_short)|uniprotkb:KIAA0910(gene name synonym)|uniprotkb:Synaptic inositol 1,4,5-trisphosphate 5-phosphatase 1(gene n...  psi-mi:\"MI:0084\"(phage display)      Cestra et al. (1999)  pubmed:10542231|mint:MINT-5211933  taxid:9606(human)|taxid:9606(Homo sapiens)  taxid:9606(human)|taxid:9606(Homo sapiens)  psi-mi:\"MI:0407\"(direct interaction)  psi-mi:\"MI:0471\"(MINT)  intact:EBI-7121552|mint:MINT-16056  intact-miscore:0.56                   -  psi-mi:\"MI:0499\"(unspecified role)  psi-mi:\"MI:0499\"(unspecified role)            psi-mi:\"MI:0498\"(prey)            psi-mi:\"MI:0496\"(bait)  psi-mi:\"MI:0326\"(protein)  psi-mi:\"MI:0326\"(protein)  refseq:NP_001626.1|refseq:NP_647477.1|ensembl:ENSG00000078053.17(gene)|ensembl:ENST00000356264.7(transcript)|go:\"GO:0005543\"(phospholipid binding)|go:\"GO:0005829\"(cytosol)|go:\"GO:0005886\"(plasma m...  refseq:NP_001153774.1|refseq:NP_001153778.1|refseq:NP_003886.3|refseq:NP_982271.2|refseq:XP_016883989.1|ensembl:ENSG00000159082.18(gene)|ensembl:ENST00000674308.1(transcript)|go:\"GO:0003723\"(RNA b...                   -  function:May participate in mechanisms of regulated exocytosis in synapses and certain endocrine cell types. May control the properties of the membrane associated cytoskeleton|comment:mint|comment...  comment:\"Stoichiometry: 1.0\"  comment:homomint|comment:domino|comment:mint  taxid:-1(in vitro)|taxid:-1(In vitro)                        -    2001/01/10  2014/10/16  rogid:vrgVrVoYr45cUe4X6L/zBAE1RtU9606  rogid:RA73eMbCn6F7MD0ItxF/V7QbjqM9606  intact-crc:F4234557A3B54840|rigid:n+UcEH4PPLkFnIyvBiXrLefK/xU     False  binding-associated region:626-695(MINT-376295)  binding-associated region:1063-1070(MINT-376288)                             -                             -  psi-mi:\"MI:0078\"(nucleotide sequence identification)  psi-mi:\"MI:0078\"(nucleotide sequence identification)"
      ]
     },
     "execution_count": 125,
     "metadata": {},
     "output_type": "execute_result"
    }
   ],
   "source": [
    "df_intact.head(1)"
   ]
  },
  {
   "cell_type": "code",
   "execution_count": 134,
   "id": "69123db7-3286-40cd-9e17-bdbb5163d513",
   "metadata": {},
   "outputs": [],
   "source": [
    "small_molecules_index=[]\n",
    "for i in range(len(df_intact)):\n",
    "    if re.search('(.*\\()(.*)(\\))',df_intact.iloc[i,20]).groups()[1]=='small molecule' or re.search('(.*\\()(.*)(\\))',df_intact.iloc[i,21].lower()).groups()[1]=='small molecule':\n",
    "        small_molecules_index.append(i)\n"
   ]
  },
  {
   "cell_type": "code",
   "execution_count": 132,
   "id": "82d2df50-9906-45da-8077-4d6a8902203c",
   "metadata": {},
   "outputs": [
    {
     "data": {
      "text/plain": [
       "0"
      ]
     },
     "execution_count": 132,
     "metadata": {},
     "output_type": "execute_result"
    }
   ],
   "source": [
    "len(small_molecules_index)"
   ]
  },
  {
   "cell_type": "code",
   "execution_count": 127,
   "id": "138a4379-7595-428b-b15f-74c9674c6281",
   "metadata": {},
   "outputs": [],
   "source": [
    "df_small_molecules=df_intact.iloc[small_molecules_index,:]"
   ]
  },
  {
   "cell_type": "code",
   "execution_count": 128,
   "id": "a9660867-112a-4268-bb01-d30e8439b9f0",
   "metadata": {},
   "outputs": [
    {
     "data": {
      "text/html": [
       "<div>\n",
       "<style scoped>\n",
       "    .dataframe tbody tr th:only-of-type {\n",
       "        vertical-align: middle;\n",
       "    }\n",
       "\n",
       "    .dataframe tbody tr th {\n",
       "        vertical-align: top;\n",
       "    }\n",
       "\n",
       "    .dataframe thead th {\n",
       "        text-align: right;\n",
       "    }\n",
       "</style>\n",
       "<table border=\"1\" class=\"dataframe\">\n",
       "  <thead>\n",
       "    <tr style=\"text-align: right;\">\n",
       "      <th></th>\n",
       "      <th>#ID(s) interactor A</th>\n",
       "      <th>ID(s) interactor B</th>\n",
       "      <th>Alt. ID(s) interactor A</th>\n",
       "      <th>Alt. ID(s) interactor B</th>\n",
       "      <th>Alias(es) interactor A</th>\n",
       "      <th>Alias(es) interactor B</th>\n",
       "      <th>Interaction detection method(s)</th>\n",
       "      <th>Publication 1st author(s)</th>\n",
       "      <th>Publication Identifier(s)</th>\n",
       "      <th>Taxid interactor A</th>\n",
       "      <th>Taxid interactor B</th>\n",
       "      <th>Interaction type(s)</th>\n",
       "      <th>Source database(s)</th>\n",
       "      <th>Interaction identifier(s)</th>\n",
       "      <th>Confidence value(s)</th>\n",
       "      <th>Expansion method(s)</th>\n",
       "      <th>Biological role(s) interactor A</th>\n",
       "      <th>Biological role(s) interactor B</th>\n",
       "      <th>Experimental role(s) interactor A</th>\n",
       "      <th>Experimental role(s) interactor B</th>\n",
       "      <th>Type(s) interactor A</th>\n",
       "      <th>Type(s) interactor B</th>\n",
       "      <th>Xref(s) interactor A</th>\n",
       "      <th>Xref(s) interactor B</th>\n",
       "      <th>Interaction Xref(s)</th>\n",
       "      <th>Annotation(s) interactor A</th>\n",
       "      <th>Annotation(s) interactor B</th>\n",
       "      <th>Interaction annotation(s)</th>\n",
       "      <th>Host organism(s)</th>\n",
       "      <th>Interaction parameter(s)</th>\n",
       "      <th>Creation date</th>\n",
       "      <th>Update date</th>\n",
       "      <th>Checksum(s) interactor A</th>\n",
       "      <th>Checksum(s) interactor B</th>\n",
       "      <th>Interaction Checksum(s)</th>\n",
       "      <th>Negative</th>\n",
       "      <th>Feature(s) interactor A</th>\n",
       "      <th>Feature(s) interactor B</th>\n",
       "      <th>Stoichiometry(s) interactor A</th>\n",
       "      <th>Stoichiometry(s) interactor B</th>\n",
       "      <th>Identification method participant A</th>\n",
       "      <th>Identification method participant B</th>\n",
       "    </tr>\n",
       "  </thead>\n",
       "  <tbody>\n",
       "  </tbody>\n",
       "</table>\n",
       "</div>"
      ],
      "text/plain": [
       "Empty DataFrame\n",
       "Columns: [#ID(s) interactor A, ID(s) interactor B, Alt. ID(s) interactor A, Alt. ID(s) interactor B, Alias(es) interactor A, Alias(es) interactor B, Interaction detection method(s), Publication 1st author(s), Publication Identifier(s), Taxid interactor A, Taxid interactor B, Interaction type(s), Source database(s), Interaction identifier(s), Confidence value(s), Expansion method(s), Biological role(s) interactor A, Biological role(s) interactor B, Experimental role(s) interactor A, Experimental role(s) interactor B, Type(s) interactor A, Type(s) interactor B, Xref(s) interactor A, Xref(s) interactor B, Interaction Xref(s), Annotation(s) interactor A, Annotation(s) interactor B, Interaction annotation(s), Host organism(s), Interaction parameter(s), Creation date, Update date, Checksum(s) interactor A, Checksum(s) interactor B, Interaction Checksum(s), Negative, Feature(s) interactor A, Feature(s) interactor B, Stoichiometry(s) interactor A, Stoichiometry(s) interactor B, Identification method participant A, Identification method participant B]\n",
       "Index: []"
      ]
     },
     "execution_count": 128,
     "metadata": {},
     "output_type": "execute_result"
    }
   ],
   "source": [
    "df_small_molecules.head(5)"
   ]
  },
  {
   "cell_type": "code",
   "execution_count": 130,
   "id": "ef66655d-2b0e-45f4-82ed-47708ddb7072",
   "metadata": {},
   "outputs": [
    {
     "data": {
      "text/plain": [
       "'psi-mi:\"MI:0326\"(protein)'"
      ]
     },
     "execution_count": 130,
     "metadata": {},
     "output_type": "execute_result"
    }
   ],
   "source": [
    "df_intact.iloc[10,20]"
   ]
  },
  {
   "cell_type": "code",
   "execution_count": null,
   "id": "3313dbbe-0987-4dc1-9a10-6de79ba6869a",
   "metadata": {},
   "outputs": [],
   "source": [
    "psi-mi:\"MI:0328\"(small molecule)"
   ]
  },
  {
   "cell_type": "code",
   "execution_count": 129,
   "id": "7146b6be-04fd-4e2f-be9c-0425d46896e2",
   "metadata": {},
   "outputs": [
    {
     "data": {
      "text/plain": [
       "'small molecule'"
      ]
     },
     "execution_count": 129,
     "metadata": {},
     "output_type": "execute_result"
    }
   ],
   "source": [
    "re.search('(.*\\()(.*)(\\))','psi-mi:\"MI:0328\"(small molecule)').groups()[1]"
   ]
  },
  {
   "cell_type": "code",
   "execution_count": null,
   "id": "a732e31b-ab8c-42a7-b610-b5cb9e905b82",
   "metadata": {},
   "outputs": [],
   "source": []
  },
  {
   "cell_type": "code",
   "execution_count": 118,
   "id": "5060816e-cd12-4b10-b818-5ffcac530dee",
   "metadata": {},
   "outputs": [
    {
     "name": "stdout",
     "output_type": "stream",
     "text": [
      "#ID(s) interactor A                                                                                                                                                                                                           uniprotkb:P02649\n",
      "ID(s) interactor B                                                                                                                                                                                                            uniprotkb:P00738\n",
      "Alt. ID(s) interactor A                                                                                                                        intact:EBI-1222467|uniprotkb:C0JYY5|uniprotkb:Q9P2S4|uniprotkb:B2RC15|ensembl:ENSP00000252486.3\n",
      "Alt. ID(s) interactor B                                   intact:EBI-1220767|uniprotkb:P00737|uniprotkb:Q0VAC4|uniprotkb:Q2PP15|uniprotkb:Q3B7J0|uniprotkb:Q6LBY9|uniprotkb:B0AZL5|uniprotkb:Q9UC67|uniprotkb:Q0VAC5|ensembl:ENSP00000348170.5\n",
      "Alias(es) interactor A                                                                                                                                    psi-mi:apoe_human(display_long)|uniprotkb:APOE(gene name)|psi-mi:APOE(display_short)\n",
      "Alias(es) interactor B                                                                                                    psi-mi:hpt_human(display_long)|uniprotkb:HP(gene name)|psi-mi:HP(display_short)|uniprotkb:Zonulin(gene name synonym)\n",
      "Interaction detection method(s)                                                                                                                                                                                    psi-mi:\"MI:0096\"(pull down)\n",
      "Publication 1st author(s)                                                                                                                                                                                               Cigliano et al. (2009)\n",
      "Publication Identifier(s)                                                                                                                   pubmed:19758344|imex:IM-15507|mint:MINT-7258755|mint:fj-09-0917|doi:10.1111/j.1742-4658.2009.07319\n",
      "Taxid interactor A                                                                                                                                                                                  taxid:9606(human)|taxid:9606(Homo sapiens)\n",
      "Taxid interactor B                                                                                                                                                                                  taxid:9606(human)|taxid:9606(Homo sapiens)\n",
      "Interaction type(s)                                                                                                                                                                                     psi-mi:\"MI:0915\"(physical association)\n",
      "Source database(s)                                                                                                                                                                                                      psi-mi:\"MI:0471\"(MINT)\n",
      "Interaction identifier(s)                                                                                                                                                                 intact:EBI-7238446|mint:MINT-7258760|imex:IM-15507-9\n",
      "Confidence value(s)                                                                                                                                                                                                        intact-miscore:0.68\n",
      "Expansion method(s)                                                                                                                                                                                                                          -\n",
      "Biological role(s) interactor A                                                                                                                                                                             psi-mi:\"MI:0499\"(unspecified role)\n",
      "Biological role(s) interactor B                                                                                                                                                                             psi-mi:\"MI:0499\"(unspecified role)\n",
      "Experimental role(s) interactor A                                                                                                                                                                                       psi-mi:\"MI:0498\"(prey)\n",
      "Experimental role(s) interactor B                                                                                                                                                                                       psi-mi:\"MI:0496\"(bait)\n",
      "Type(s) interactor A                                                                                                                                                                                                 psi-mi:\"MI:0326\"(protein)\n",
      "Type(s) interactor B                                                                                                                                                                                                 psi-mi:\"MI:0326\"(protein)\n",
      "Xref(s) interactor A                   refseq:NP_000032.1|refseq:NP_001289617.1|refseq:NP_001289618.1|refseq:NP_001289619.1|refseq:NP_001289620.1|go:\"GO:0005319\"(lipid transporter activity)|go:\"GO:0005543\"(phospholipid binding)|go:\"GO:...\n",
      "Xref(s) interactor B                   refseq:NP_001119574.1|refseq:NP_005134.1|ensembl:ENSG00000257017.10(gene)|ensembl:ENST00000355906.10(transcript)|go:\"GO:0002376\"(immune system process)|go:\"GO:0002526\"(acute inflammatory response)...\n",
      "Interaction Xref(s)                                                                                                                                                                                                                          -\n",
      "Annotation(s) interactor A                                                                                                                                                                                                                   -\n",
      "Annotation(s) interactor B                                                                                                                                                                                                                   -\n",
      "Interaction annotation(s)                                                                                          figure legend:f1|comment:homomint|comment:mint|full coverage:Only protein-protein interactions|curation depth:imex curation\n",
      "Host organism(s)                                                                                                                                                                                         taxid:-1(in vitro)|taxid:-1(In vitro)\n",
      "Interaction parameter(s)                                                                                                                                                                                                                     -\n",
      "Creation date                                                                                                                                                                                                                       2009/08/12\n",
      "Update date                                                                                                                                                                                                                         2014/10/16\n",
      "Checksum(s) interactor A                                                                                                                                                                                 rogid:vnCU03+HdGblqtALKeOTZRx5/3E9606\n",
      "Checksum(s) interactor B                                                                                                                                                                                 rogid:IsI1hIXfhsW0goXPHsoADxl7V5g9606\n",
      "Interaction Checksum(s)                                                                                                                                                          intact-crc:CD9D568A8EA2734D|rigid:Swh1TnMP2WFaKpyl4bznNJHidGw\n",
      "Negative                                                                                                                                                                                                                                 False\n",
      "Feature(s) interactor A                                                                                                                                                                                                                      -\n",
      "Feature(s) interactor B                                                                                                                                                                                                                      -\n",
      "Stoichiometry(s) interactor A                                                                                                                                                                                                                -\n",
      "Stoichiometry(s) interactor B                                                                                                                                                                                                                -\n",
      "Identification method participant A                                                                                                                                                         psi-mi:\"MI:0086\"(polyclonal antibody western blot)\n",
      "Identification method participant B                                                                                                                                                                psi-mi:\"MI:0396\"(predetermined participant)\n",
      "Name: 234603, dtype: object\n"
     ]
    }
   ],
   "source": [
    "for i in range(len(df_intact)):\n",
    "    if re.search('apoe',df_intact.iloc[i,4].lower()):\n",
    "        print(df_intact.iloc[i,:])\n",
    "        break\n"
   ]
  },
  {
   "cell_type": "code",
   "execution_count": null,
   "id": "8809e47d-d10f-40e5-8dcd-cc5b26afab9c",
   "metadata": {},
   "outputs": [],
   "source": [
    "for i in range(len(df_intact)):\n",
    "    for spl1 in df_intact.iloc[i,4].split('|'):\n",
    "        interactorA[re.search(r'(.*:)(.*)(\\(.*\\))',spl1).groups()[1].lower()]=re.search(r'(.*:)(.*)(\\(.*\\))',spl1).groups()[1]\n",
    "    for spl2 in df_intact.iloc[i,5].split('|'):\n",
    "        interactorB[re.search(r'(.*:)(.*)(\\(.*\\))',spl2).groups()[1].lower()]=re.search(r'(.*:)(.*)(\\(.*\\))',spl2).groups()[1]\n",
    "    interactorsA.append(interactorA)\n",
    "    interactorsB.append(interactorB)"
   ]
  },
  {
   "cell_type": "code",
   "execution_count": null,
   "id": "23e2502e-c76b-461c-8aaa-384cf4a965b3",
   "metadata": {},
   "outputs": [],
   "source": []
  },
  {
   "cell_type": "code",
   "execution_count": null,
   "id": "dd4d9513-86db-4236-8677-403eb2d7fd61",
   "metadata": {},
   "outputs": [],
   "source": []
  },
  {
   "cell_type": "code",
   "execution_count": null,
   "id": "8842568f-5427-4617-a834-7d69bc18eb22",
   "metadata": {},
   "outputs": [],
   "source": []
  },
  {
   "cell_type": "code",
   "execution_count": null,
   "id": "cba0b325-7964-4352-ab7f-53a3aa4903f9",
   "metadata": {},
   "outputs": [],
   "source": []
  },
  {
   "cell_type": "code",
   "execution_count": null,
   "id": "c8161a24-05ba-4cda-9f22-1b958c18741d",
   "metadata": {},
   "outputs": [],
   "source": []
  },
  {
   "cell_type": "code",
   "execution_count": null,
   "id": "e11faf6d-3379-4a3b-85cf-001d52f34abd",
   "metadata": {},
   "outputs": [],
   "source": []
  },
  {
   "cell_type": "code",
   "execution_count": null,
   "id": "312a187c-6f87-47fe-bc0d-4703b6c41772",
   "metadata": {},
   "outputs": [],
   "source": []
  },
  {
   "cell_type": "code",
   "execution_count": null,
   "id": "dd3b3c3c-28d8-4a15-91e9-c36aa0696f8c",
   "metadata": {},
   "outputs": [],
   "source": []
  },
  {
   "cell_type": "code",
   "execution_count": null,
   "id": "7ca5e51d-555d-4702-b577-26f821742c4b",
   "metadata": {},
   "outputs": [],
   "source": []
  },
  {
   "cell_type": "code",
   "execution_count": null,
   "id": "fb34d50a-23e7-4f8e-93df-e5dbe9dc4ed3",
   "metadata": {},
   "outputs": [],
   "source": []
  },
  {
   "cell_type": "code",
   "execution_count": null,
   "id": "77e8fb32-bbd9-43b4-ae2a-decb62dee720",
   "metadata": {},
   "outputs": [],
   "source": []
  },
  {
   "cell_type": "code",
   "execution_count": null,
   "id": "022dc87a-4e53-4cf1-8448-2122f70ac15a",
   "metadata": {},
   "outputs": [],
   "source": []
  },
  {
   "cell_type": "code",
   "execution_count": null,
   "id": "54ce8bee-fe19-46e3-a1d3-5ee92a356b4b",
   "metadata": {},
   "outputs": [],
   "source": []
  },
  {
   "cell_type": "code",
   "execution_count": 61,
   "id": "9fc25ecd-6fe8-4b93-8acd-9ffd19d60dbe",
   "metadata": {},
   "outputs": [],
   "source": [
    "interactorsA=[]\n",
    "interactorsB=[]\n",
    "for i in range(len(df_intact)):\n",
    "    interactorA={}\n",
    "    interactorB={}\n",
    "    for spl1 in df_intact.iloc[i,4].split('|'):\n",
    "        interactorA[re.search(r'(.*:)(.*)(\\(.*\\))',spl1).groups()[1].lower()]=re.search(r'(.*:)(.*)(\\(.*\\))',spl1).groups()[1]\n",
    "    for spl2 in df_intact.iloc[i,5].split('|'):\n",
    "        interactorB[re.search(r'(.*:)(.*)(\\(.*\\))',spl2).groups()[1].lower()]=re.search(r'(.*:)(.*)(\\(.*\\))',spl2).groups()[1]\n",
    "    interactorsA.append(interactorA)\n",
    "    interactorsB.append(interactorB)"
   ]
  },
  {
   "cell_type": "code",
   "execution_count": 77,
   "id": "283adcf0-521b-4089-8da3-3159052c9da4",
   "metadata": {},
   "outputs": [
    {
     "data": {
      "text/plain": [
       "{'synj1_human': 'synj1_human',\n",
       " 'synj1': 'SYNJ1',\n",
       " 'kiaa0910': 'KIAA0910',\n",
       " 'synaptic inositol 1,4,5-trisphosphate 5-phosphatase 1': 'Synaptic inositol 1,4,5-trisphosphate 5-phosphatase 1'}"
      ]
     },
     "execution_count": 77,
     "metadata": {},
     "output_type": "execute_result"
    }
   ],
   "source": [
    "interactorsB[2]"
   ]
  },
  {
   "cell_type": "code",
   "execution_count": 62,
   "id": "6ab9f3d9-03e6-46a0-94ba-fc64551fc5b0",
   "metadata": {},
   "outputs": [
    {
     "name": "stdout",
     "output_type": "stream",
     "text": [
      "632740\n"
     ]
    }
   ],
   "source": [
    "print(len(interactorsA))"
   ]
  },
  {
   "cell_type": "code",
   "execution_count": 63,
   "id": "1348bc98-b1d9-4b17-836f-3caf09d81596",
   "metadata": {},
   "outputs": [
    {
     "name": "stdout",
     "output_type": "stream",
     "text": [
      "632740\n"
     ]
    }
   ],
   "source": [
    "print(len(interactorsB))"
   ]
  },
  {
   "cell_type": "code",
   "execution_count": 64,
   "id": "f211afd5-8bdb-4d75-a931-63778fbec851",
   "metadata": {},
   "outputs": [
    {
     "data": {
      "text/plain": [
       "{'af1q_human': 'af1q_human', 'mllt11': 'MLLT11', 'af1q': 'AF1Q'}"
      ]
     },
     "execution_count": 64,
     "metadata": {},
     "output_type": "execute_result"
    }
   ],
   "source": [
    "interactorsA[-1]"
   ]
  },
  {
   "cell_type": "code",
   "execution_count": 111,
   "id": "7f4f72aa-f0ee-420c-b2c4-a33d8c2e9222",
   "metadata": {},
   "outputs": [
    {
     "name": "stdout",
     "output_type": "stream",
     "text": [
      "Parent process 81816.\n",
      "Waiting for all subprocesses done...\n",
      "All subprocesses done.\n",
      "The running time is 955s\n"
     ]
    }
   ],
   "source": [
    "def work(k,experiment,experiment_type):\n",
    "    for i in range(len(interactorsA)):\n",
    "        if (interactorsA[i].get(direction_list[k][0].lower()) and interactorsB[i].get(direction_list[k][1].lower())) or \\\n",
    "        (interactorsA[i].get(direction_list[k][1].lower()) and interactorsB[i].get(direction_list[k][0].lower())):\n",
    "        # if interactorsA[i].get(k[0].lower()):\n",
    "            experiment.append((direction_list[k][0],direction_list[k][1]))\n",
    "            experiment_type.append((direction_type[k][0],direction_type[k][1]))\n",
    "            break\n",
    "if __name__=='__main__':\n",
    "    start=datetime.datetime.now()\n",
    "    print('Parent process %s.' % os.getpid())\n",
    "    p=Pool(60)\n",
    "    manager=Manager()\n",
    "    experiment=manager.list()\n",
    "    experiment_type=manager.list()\n",
    "    for k in range(len(direction_list)):\n",
    "        p.apply_async(work, args=(k,experiment,experiment_type))\n",
    "    print('Waiting for all subprocesses done...')\n",
    "    \n",
    "    p.close()\n",
    "    p.join()\n",
    "    print('All subprocesses done.')\n",
    "\n",
    "    end=datetime.datetime.now()\n",
    "    print(\"The running time is \"+str((end-start).seconds)+\"s\")  "
   ]
  },
  {
   "cell_type": "code",
   "execution_count": 110,
   "id": "331de515-4e73-4ff7-a803-4e8ff1519663",
   "metadata": {},
   "outputs": [
    {
     "data": {
      "text/plain": [
       "'DNA'"
      ]
     },
     "execution_count": 110,
     "metadata": {},
     "output_type": "execute_result"
    }
   ],
   "source": [
    "direction_type[20][0]"
   ]
  },
  {
   "cell_type": "code",
   "execution_count": 112,
   "id": "d9266b0c-71c1-46fc-8b96-d67dd4237dd0",
   "metadata": {},
   "outputs": [
    {
     "name": "stdout",
     "output_type": "stream",
     "text": [
      "316\n",
      "316\n"
     ]
    }
   ],
   "source": [
    "print(len(list(experiment)))\n",
    "print(len(list(experiment_type)))"
   ]
  },
  {
   "cell_type": "code",
   "execution_count": 113,
   "id": "b530ebbf-e123-4cbb-a496-84fdcb89ec93",
   "metadata": {},
   "outputs": [],
   "source": [
    "experiment_final=list(experiment)"
   ]
  },
  {
   "cell_type": "code",
   "execution_count": 114,
   "id": "5c042926-c135-45b4-b545-8886f8e88c5f",
   "metadata": {},
   "outputs": [],
   "source": [
    "experiment_type_final=list(experiment_type)"
   ]
  },
  {
   "cell_type": "code",
   "execution_count": 115,
   "id": "207947c1-3b54-41d5-9fa4-31a915f4b483",
   "metadata": {},
   "outputs": [
    {
     "name": "stdout",
     "output_type": "stream",
     "text": [
      "('AR', 'KLK3')\n",
      "('DNA', 'DNA')\n",
      "('TP53', 'MDM2')\n",
      "('DNA', 'DNA')\n",
      "('TP53', 'CDKN1A')\n",
      "('DNA', 'DNA')\n",
      "('AKT1', 'MTOR')\n",
      "('DNA', 'DNA')\n",
      "('PINK1', 'RHOT1')\n",
      "('DNA', 'DNA')\n",
      "('RHOT1', 'PINK1')\n",
      "('DNA', 'DNA')\n",
      "('TP53', 'SIRT1')\n",
      "('DNA', 'DNA')\n",
      "('RHOT1', 'LRRK2')\n",
      "('DNA', 'DNA')\n",
      "('LRRK2', 'RHOT1')\n",
      "('DNA', 'DNA')\n",
      "('GAR1', 'NOP10')\n",
      "('DNA', 'DNA')\n"
     ]
    }
   ],
   "source": [
    "for i in range(10):\n",
    "    print(experiment_final[i])\n",
    "    print(experiment_type_final[i])"
   ]
  },
  {
   "cell_type": "code",
   "execution_count": 116,
   "id": "f2505b39-f3ea-44b9-981b-f5dd33d4a2cc",
   "metadata": {},
   "outputs": [],
   "source": [
    "typetype=[]\n",
    "for i in experiment_type:\n",
    "    if i[0]!='DNA':\n",
    "        typetype.append(i[0])\n",
    "    if i[1]!='DNA':\n",
    "        typetype.append(i[1])"
   ]
  },
  {
   "cell_type": "code",
   "execution_count": 117,
   "id": "bc613f4a-ccb6-4e7d-bf35-f8bb05908d3b",
   "metadata": {},
   "outputs": [
    {
     "data": {
      "text/plain": [
       "0"
      ]
     },
     "execution_count": 117,
     "metadata": {},
     "output_type": "execute_result"
    }
   ],
   "source": [
    "len(typetype)"
   ]
  },
  {
   "cell_type": "code",
   "execution_count": null,
   "id": "6a770442-9363-44b4-a1f0-de20a9cac279",
   "metadata": {},
   "outputs": [],
   "source": []
  },
  {
   "cell_type": "code",
   "execution_count": null,
   "id": "bd077386-3083-4a12-a618-747ad95e106a",
   "metadata": {},
   "outputs": [],
   "source": [
    "experiments=[]\n",
    "for i in range(len(interactorsA)):\n",
    "    if interactorsA[i].get('apoe') :\n",
    "        experiments.append((interactorsA[i],interactorsB[i]))\n",
    "        "
   ]
  },
  {
   "cell_type": "code",
   "execution_count": 84,
   "id": "b25afd0a-e7cf-4914-9aa1-96c468c384e1",
   "metadata": {},
   "outputs": [],
   "source": [
    "csaca=[]\n",
    "for k in direction_list:\n",
    "    if k[0].lower()=='apoe':\n",
    "        csaca.append(k[0])"
   ]
  },
  {
   "cell_type": "code",
   "execution_count": 85,
   "id": "7efc1946-2e10-43b4-9c47-28a773636eeb",
   "metadata": {},
   "outputs": [
    {
     "data": {
      "text/plain": [
       "144"
      ]
     },
     "execution_count": 85,
     "metadata": {},
     "output_type": "execute_result"
    }
   ],
   "source": [
    "len(csaca)"
   ]
  },
  {
   "cell_type": "code",
   "execution_count": null,
   "id": "f1fd34ad-ce83-47df-b14a-b62720c01851",
   "metadata": {},
   "outputs": [],
   "source": [
    "test=[]\n",
    "for k in direction_list:\n",
    "    if "
   ]
  },
  {
   "cell_type": "code",
   "execution_count": 79,
   "id": "19ea69e2-e15a-430d-9bee-9f20e54bb149",
   "metadata": {},
   "outputs": [
    {
     "name": "stdout",
     "output_type": "stream",
     "text": [
      "{'amph_human': 'amph_human', 'amph': 'AMPH', 'amph1': 'AMPH1'}\n",
      "{'synj1_human': 'synj1_human', 'synj1': 'SYNJ1', 'kiaa0910': 'KIAA0910', 'synaptic inositol 1,4,5-trisphosphate 5-phosphatase 1': 'Synaptic inositol 1,4,5-trisphosphate 5-phosphatase 1'}\n",
      "{'amph_human': 'amph_human', 'amph': 'AMPH', 'amph1': 'AMPH1'}\n",
      "{'synj1_human': 'synj1_human', 'synj1': 'SYNJ1', 'kiaa0910': 'KIAA0910', 'synaptic inositol 1,4,5-trisphosphate 5-phosphatase 1': 'Synaptic inositol 1,4,5-trisphosphate 5-phosphatase 1'}\n",
      "{'amph_human': 'amph_human', 'amph': 'AMPH', 'amph1': 'AMPH1'}\n",
      "{'synj1_human': 'synj1_human', 'synj1': 'SYNJ1', 'kiaa0910': 'KIAA0910', 'synaptic inositol 1,4,5-trisphosphate 5-phosphatase 1': 'Synaptic inositol 1,4,5-trisphosphate 5-phosphatase 1'}\n",
      "{'amph_human': 'amph_human', 'amph': 'AMPH', 'amph1': 'AMPH1'}\n",
      "{'synj1_human': 'synj1_human', 'synj1': 'SYNJ1', 'kiaa0910': 'KIAA0910', 'synaptic inositol 1,4,5-trisphosphate 5-phosphatase 1': 'Synaptic inositol 1,4,5-trisphosphate 5-phosphatase 1'}\n",
      "{'sh3g1_human': 'sh3g1_human', 'endophilin-2': 'Endophilin-2', 'sh3 domain-containing grb2-like protein 1': 'SH3 domain-containing GRB2-like protein 1', 'sh3 domain protein 2b': 'SH3 domain protein 2B', 'extra eleven-nineteen leukemia fusion gene protein': 'Extra eleven-nineteen leukemia fusion gene protein', 'een fusion partner of mll': 'EEN fusion partner of MLL', 'sh3gl1': 'SH3GL1', 'cnsa1': 'CNSA1', 'sh3d2b': 'SH3D2B'}\n",
      "{'synj1_human': 'synj1_human', 'synj1': 'SYNJ1', 'kiaa0910': 'KIAA0910', 'synaptic inositol 1,4,5-trisphosphate 5-phosphatase 1': 'Synaptic inositol 1,4,5-trisphosphate 5-phosphatase 1'}\n",
      "{'synj1_human': 'synj1_human', 'synj1': 'SYNJ1', 'kiaa0910': 'KIAA0910', 'synaptic inositol 1,4,5-trisphosphate 5-phosphatase 1': 'Synaptic inositol 1,4,5-trisphosphate 5-phosphatase 1'}\n",
      "{'sh3g1_human': 'sh3g1_human', 'endophilin-2': 'Endophilin-2', 'sh3 domain-containing grb2-like protein 1': 'SH3 domain-containing GRB2-like protein 1', 'sh3 domain protein 2b': 'SH3 domain protein 2B', 'extra eleven-nineteen leukemia fusion gene protein': 'Extra eleven-nineteen leukemia fusion gene protein', 'een fusion partner of mll': 'EEN fusion partner of MLL', 'sh3gl1': 'SH3GL1', 'cnsa1': 'CNSA1', 'sh3d2b': 'SH3D2B'}\n",
      "{'synj1_human': 'synj1_human', 'synj1': 'SYNJ1', 'kiaa0910': 'KIAA0910', 'synaptic inositol 1,4,5-trisphosphate 5-phosphatase 1': 'Synaptic inositol 1,4,5-trisphosphate 5-phosphatase 1'}\n",
      "{'sh3g1_human': 'sh3g1_human', 'endophilin-2': 'Endophilin-2', 'sh3 domain-containing grb2-like protein 1': 'SH3 domain-containing GRB2-like protein 1', 'sh3 domain protein 2b': 'SH3 domain protein 2B', 'extra eleven-nineteen leukemia fusion gene protein': 'Extra eleven-nineteen leukemia fusion gene protein', 'een fusion partner of mll': 'EEN fusion partner of MLL', 'sh3gl1': 'SH3GL1', 'cnsa1': 'CNSA1', 'sh3d2b': 'SH3D2B'}\n",
      "{'amph_human': 'amph_human', 'amph': 'AMPH', 'amph1': 'AMPH1'}\n",
      "{'dyn1_human': 'dyn1_human', 'dnm1': 'DNM1', 'dnm': 'DNM'}\n",
      "{'amph_human': 'amph_human', 'amph': 'AMPH', 'amph1': 'AMPH1'}\n",
      "{'dyn1_human': 'dyn1_human', 'dnm1': 'DNM1', 'dnm': 'DNM'}\n",
      "{'sh3g1_human': 'sh3g1_human', 'endophilin-2': 'Endophilin-2', 'sh3 domain-containing grb2-like protein 1': 'SH3 domain-containing GRB2-like protein 1', 'sh3 domain protein 2b': 'SH3 domain protein 2B', 'extra eleven-nineteen leukemia fusion gene protein': 'Extra eleven-nineteen leukemia fusion gene protein', 'een fusion partner of mll': 'EEN fusion partner of MLL', 'sh3gl1': 'SH3GL1', 'cnsa1': 'CNSA1', 'sh3d2b': 'SH3D2B'}\n",
      "{'dyn1_human': 'dyn1_human', 'dnm1': 'DNM1', 'dnm': 'DNM'}\n"
     ]
    }
   ],
   "source": [
    "for i in range(10):\n",
    "    print(interactorsA[i])\n",
    "    print(interactorsB[i])"
   ]
  },
  {
   "cell_type": "code",
   "execution_count": null,
   "id": "7c7a2034-0c69-4f5a-a166-fcc4796d447e",
   "metadata": {},
   "outputs": [],
   "source": []
  },
  {
   "cell_type": "code",
   "execution_count": null,
   "id": "d0c1db6f-f92a-4f14-a179-9419a33d7d40",
   "metadata": {},
   "outputs": [],
   "source": []
  },
  {
   "cell_type": "code",
   "execution_count": null,
   "id": "9e9bad40-7ecb-4cbf-ac04-1e7508ebafaa",
   "metadata": {},
   "outputs": [],
   "source": []
  },
  {
   "cell_type": "code",
   "execution_count": null,
   "id": "a3d918ff-886e-4ffe-9fb8-9a9e21c731dd",
   "metadata": {},
   "outputs": [],
   "source": []
  },
  {
   "cell_type": "code",
   "execution_count": null,
   "id": "97ed1e32-af99-4810-97c6-23e481f9aeec",
   "metadata": {},
   "outputs": [],
   "source": []
  },
  {
   "cell_type": "code",
   "execution_count": 51,
   "id": "89b8aab4-256b-4090-9e98-ab3a2007e176",
   "metadata": {},
   "outputs": [],
   "source": [
    "interactorsA[0].get(k[0].lower())"
   ]
  },
  {
   "cell_type": "code",
   "execution_count": 52,
   "id": "a549867d-0743-45e3-aa79-aaca49890b1d",
   "metadata": {},
   "outputs": [
    {
     "data": {
      "text/plain": [
       "'obesity'"
      ]
     },
     "execution_count": 52,
     "metadata": {},
     "output_type": "execute_result"
    }
   ],
   "source": [
    "k[0].lower()"
   ]
  },
  {
   "cell_type": "code",
   "execution_count": 87,
   "id": "87afa21b-e4f5-4429-8e3d-ff8fa565e177",
   "metadata": {},
   "outputs": [],
   "source": [
    "experiments=[]"
   ]
  },
  {
   "cell_type": "code",
   "execution_count": 88,
   "id": "fcd0d6fa-54f2-42d4-93ea-573dbb63d709",
   "metadata": {},
   "outputs": [],
   "source": [
    "experiments=[]\n",
    "for i in range(len(interactorsA)):\n",
    "    if interactorsA[i].get('apoe') :\n",
    "        experiments.append((interactorsA[i],interactorsB[i]))\n",
    "        "
   ]
  },
  {
   "cell_type": "code",
   "execution_count": 89,
   "id": "cc136009-7fd8-4e96-a1b4-208d963830de",
   "metadata": {},
   "outputs": [
    {
     "data": {
      "text/plain": [
       "212"
      ]
     },
     "execution_count": 89,
     "metadata": {},
     "output_type": "execute_result"
    }
   ],
   "source": [
    "len(experiments)"
   ]
  },
  {
   "cell_type": "code",
   "execution_count": null,
   "id": "10748e6d-240b-4404-8fa3-11fef9b8b716",
   "metadata": {},
   "outputs": [],
   "source": []
  },
  {
   "cell_type": "code",
   "execution_count": 75,
   "id": "848f8b99-f15d-4891-a741-a7c8ead485c9",
   "metadata": {},
   "outputs": [
    {
     "data": {
      "text/plain": [
       "[({'apoe_human': 'apoe_human', 'apoe': 'APOE'},\n",
       "  {'hpt_human': 'hpt_human', 'hp': 'HP', 'zonulin': 'Zonulin'}),\n",
       " ({'apoe_human': 'apoe_human', 'apoe': 'APOE'},\n",
       "  {'hpt_human': 'hpt_human', 'hp': 'HP', 'zonulin': 'Zonulin'}),\n",
       " ({'apoe_human': 'apoe_human', 'apoe': 'APOE'},\n",
       "  {'hpt_human': 'hpt_human', 'hp': 'HP', 'zonulin': 'Zonulin'}),\n",
       " ({'apoe_human': 'apoe_human', 'apoe': 'APOE'},\n",
       "  {'hpt_human': 'hpt_human', 'hp': 'HP', 'zonulin': 'Zonulin'}),\n",
       " ({'apoe_human': 'apoe_human', 'apoe': 'APOE'},\n",
       "  {'hpt_human': 'hpt_human', 'hp': 'HP', 'zonulin': 'Zonulin'}),\n",
       " ({'apoe_human': 'apoe_human', 'apoe': 'APOE'},\n",
       "  {'pdcd4_human': 'pdcd4_human',\n",
       "   'pdcd4': 'PDCD4',\n",
       "   'h731': 'H731',\n",
       "   'nuclear antigen h731-like': 'Nuclear antigen H731-like',\n",
       "   'neoplastic transformation inhibitor protein': 'Neoplastic transformation inhibitor protein',\n",
       "   'protein 197/15a': 'Protein 197/15a'}),\n",
       " ({'apoe_human': 'apoe_human', 'apoe': 'APOE'},\n",
       "  {'cdc37_human': 'cdc37_human',\n",
       "   'cdc37': 'CDC37',\n",
       "   'hsp90 chaperone protein kinase-targeting subunit': 'Hsp90 chaperone protein kinase-targeting subunit',\n",
       "   'p50cdc37': 'p50Cdc37',\n",
       "   'cdc37a': 'CDC37A'}),\n",
       " ({'apoe_human': 'apoe_human', 'apoe': 'APOE'},\n",
       "  {'ecsit_human': 'ecsit_human',\n",
       "   'protein sitpec': 'Protein SITPEC',\n",
       "   'ecsit': 'ECSIT'}),\n",
       " ({'apoe_human': 'apoe_human', 'apoe': 'APOE'},\n",
       "  {'ecsit_human': 'ecsit_human',\n",
       "   'protein sitpec': 'Protein SITPEC',\n",
       "   'ecsit': 'ECSIT'}),\n",
       " ({'apoe_human': 'apoe_human', 'apoe': 'APOE'},\n",
       "  {'gcdh_human': 'gcdh_human', 'gcdh': 'GCDH'})]"
      ]
     },
     "execution_count": 75,
     "metadata": {},
     "output_type": "execute_result"
    }
   ],
   "source": [
    "experiment[:10]"
   ]
  },
  {
   "cell_type": "code",
   "execution_count": 44,
   "id": "8b7bddac-dc4c-437d-917d-c22a6f5eb776",
   "metadata": {},
   "outputs": [
    {
     "data": {
      "text/plain": [
       "[('TNXB', 'SKIV2L'), ('FKBPL', 'SKIV2L'), ('rs12153855', 'SKIV2L')]"
      ]
     },
     "execution_count": 44,
     "metadata": {},
     "output_type": "execute_result"
    }
   ],
   "source": [
    "direction_list[:3]"
   ]
  },
  {
   "cell_type": "code",
   "execution_count": null,
   "id": "011e45fb-abd8-4e0b-9dfe-03019ae25036",
   "metadata": {},
   "outputs": [],
   "source": []
  },
  {
   "cell_type": "code",
   "execution_count": null,
   "id": "d2703578-a8e1-4d80-ab20-c105d29f2d56",
   "metadata": {},
   "outputs": [],
   "source": []
  },
  {
   "cell_type": "code",
   "execution_count": null,
   "id": "f3e9f9d7-d341-48f3-a0b9-bddca4484eb1",
   "metadata": {},
   "outputs": [],
   "source": []
  },
  {
   "cell_type": "code",
   "execution_count": null,
   "id": "20ba06b7-b07b-459f-a3a0-18c71ed5edaa",
   "metadata": {},
   "outputs": [],
   "source": []
  },
  {
   "cell_type": "code",
   "execution_count": null,
   "id": "75ea4cbc-f866-4610-9d19-11629af835aa",
   "metadata": {},
   "outputs": [],
   "source": []
  },
  {
   "cell_type": "code",
   "execution_count": null,
   "id": "76f49390-0580-489f-9a81-fd096794c067",
   "metadata": {},
   "outputs": [],
   "source": []
  },
  {
   "cell_type": "code",
   "execution_count": null,
   "id": "6f531dd5-6131-4804-b131-523039a96418",
   "metadata": {},
   "outputs": [],
   "source": []
  },
  {
   "cell_type": "code",
   "execution_count": null,
   "id": "890e8234-d7d7-4929-b287-6396078e872a",
   "metadata": {},
   "outputs": [],
   "source": []
  },
  {
   "cell_type": "code",
   "execution_count": null,
   "id": "1a4749ad-21b2-457b-bddf-e96747659d20",
   "metadata": {},
   "outputs": [],
   "source": []
  },
  {
   "cell_type": "code",
   "execution_count": null,
   "id": "a18f0031-c60f-467e-b815-b7933922e3c3",
   "metadata": {},
   "outputs": [],
   "source": []
  },
  {
   "cell_type": "code",
   "execution_count": 138,
   "id": "7e0c4d4d-88ed-4449-a03f-6329b8770e8a",
   "metadata": {},
   "outputs": [
    {
     "name": "stderr",
     "output_type": "stream",
     "text": [
      "/tmp/ipykernel_81816/2719859885.py:1: DtypeWarning: Columns (9,12) have mixed types. Specify dtype option on import or set low_memory=False.\n",
      "  mutations_intact=pd.read_csv('../intact/mutations.tsv', sep='\\t')\n"
     ]
    }
   ],
   "source": [
    "mutations_intact=pd.read_csv('../intact/mutations.tsv', sep='\\t')"
   ]
  },
  {
   "cell_type": "code",
   "execution_count": 140,
   "id": "f07d32f5-cc22-47c1-ab9a-9ffc0ccfeb96",
   "metadata": {},
   "outputs": [
    {
     "data": {
      "text/html": [
       "<div>\n",
       "<style scoped>\n",
       "    .dataframe tbody tr th:only-of-type {\n",
       "        vertical-align: middle;\n",
       "    }\n",
       "\n",
       "    .dataframe tbody tr th {\n",
       "        vertical-align: top;\n",
       "    }\n",
       "\n",
       "    .dataframe thead th {\n",
       "        text-align: right;\n",
       "    }\n",
       "</style>\n",
       "<table border=\"1\" class=\"dataframe\">\n",
       "  <thead>\n",
       "    <tr style=\"text-align: right;\">\n",
       "      <th></th>\n",
       "      <th>#Feature AC</th>\n",
       "      <th>Feature short label</th>\n",
       "      <th>Feature range(s)</th>\n",
       "      <th>Original sequence</th>\n",
       "      <th>Resulting sequence</th>\n",
       "      <th>Feature type</th>\n",
       "      <th>Feature annotation</th>\n",
       "      <th>Affected protein AC</th>\n",
       "      <th>Affected protein symbol</th>\n",
       "      <th>Affected protein full name</th>\n",
       "      <th>Affected protein organism</th>\n",
       "      <th>Interaction participants</th>\n",
       "      <th>PubMedID</th>\n",
       "      <th>Figure legend</th>\n",
       "      <th>Interaction AC</th>\n",
       "    </tr>\n",
       "  </thead>\n",
       "  <tbody>\n",
       "    <tr>\n",
       "      <th>0</th>\n",
       "      <td>EBI-489661</td>\n",
       "      <td>P15153:p.Gln61Leu</td>\n",
       "      <td>61-61</td>\n",
       "      <td>Q</td>\n",
       "      <td>L</td>\n",
       "      <td>mutation(MI:0118)</td>\n",
       "      <td>NaN</td>\n",
       "      <td>uniprotkb:P15153</td>\n",
       "      <td>RAC2</td>\n",
       "      <td>NaN</td>\n",
       "      <td>9606 - Homo sapiens</td>\n",
       "      <td>uniprotkb:P15153(protein(MI:0326), 9606 - Homo sapiens)|ensembl:ENSP00000356505.4(protein(MI:0326), 9606 - Homo sapiens)</td>\n",
       "      <td>11090627</td>\n",
       "      <td>NaN</td>\n",
       "      <td>EBI-489644</td>\n",
       "    </tr>\n",
       "    <tr>\n",
       "      <th>1</th>\n",
       "      <td>EBI-496084</td>\n",
       "      <td>P42573:p.Gly360Ser</td>\n",
       "      <td>360-360</td>\n",
       "      <td>G</td>\n",
       "      <td>S</td>\n",
       "      <td>mutation(MI:0118)</td>\n",
       "      <td>NaN</td>\n",
       "      <td>uniprotkb:P42573</td>\n",
       "      <td>ced-3</td>\n",
       "      <td>NaN</td>\n",
       "      <td>6239 - Caenorhabditis elegans</td>\n",
       "      <td>uniprotkb:P30429(protein(MI:0326), 6239 - Caenorhabditis elegans)|uniprotkb:P42573(protein(MI:0326), 6239 - Caenorhabditis elegans)</td>\n",
       "      <td>9261161</td>\n",
       "      <td>NaN</td>\n",
       "      <td>EBI-495051</td>\n",
       "    </tr>\n",
       "    <tr>\n",
       "      <th>2</th>\n",
       "      <td>EBI-495357</td>\n",
       "      <td>Q99640:p.Asn238Ala</td>\n",
       "      <td>238-238</td>\n",
       "      <td>N</td>\n",
       "      <td>A</td>\n",
       "      <td>mutation(MI:0118)</td>\n",
       "      <td>NaN</td>\n",
       "      <td>uniprotkb:Q99640</td>\n",
       "      <td>PKMYT1</td>\n",
       "      <td>NaN</td>\n",
       "      <td>9606 - Homo sapiens</td>\n",
       "      <td>uniprotkb:Q99640(protein(MI:0326), 9606 - Homo sapiens)|uniprotkb:P06493(protein(MI:0326), 9606 - Homo sapiens)</td>\n",
       "      <td>10373560</td>\n",
       "      <td>Fig. 1B</td>\n",
       "      <td>EBI-495348</td>\n",
       "    </tr>\n",
       "    <tr>\n",
       "      <th>3</th>\n",
       "      <td>EBI-476918</td>\n",
       "      <td>Q14185:p.[Trp45Ala;Gly171Asp]</td>\n",
       "      <td>45-45</td>\n",
       "      <td>W</td>\n",
       "      <td>A</td>\n",
       "      <td>mutation(MI:0118)</td>\n",
       "      <td>NaN</td>\n",
       "      <td>uniprotkb:Q14185</td>\n",
       "      <td>DOCK1</td>\n",
       "      <td>NaN</td>\n",
       "      <td>9606 - Homo sapiens</td>\n",
       "      <td>uniprotkb:Q92556(protein(MI:0326), 9606 - Homo sapiens)|uniprotkb:Q14185(protein(MI:0326), 9606 - Homo sapiens)|uniprotkb:P63000(protein(MI:0326), 9606 - Homo sapiens)</td>\n",
       "      <td>15247908</td>\n",
       "      <td>NaN</td>\n",
       "      <td>EBI-446978</td>\n",
       "    </tr>\n",
       "    <tr>\n",
       "      <th>4</th>\n",
       "      <td>EBI-476918</td>\n",
       "      <td>Q14185:p.[Trp45Ala;Gly171Asp]</td>\n",
       "      <td>171-171</td>\n",
       "      <td>G</td>\n",
       "      <td>D</td>\n",
       "      <td>mutation(MI:0118)</td>\n",
       "      <td>NaN</td>\n",
       "      <td>uniprotkb:Q14185</td>\n",
       "      <td>DOCK1</td>\n",
       "      <td>NaN</td>\n",
       "      <td>9606 - Homo sapiens</td>\n",
       "      <td>uniprotkb:Q92556(protein(MI:0326), 9606 - Homo sapiens)|uniprotkb:Q14185(protein(MI:0326), 9606 - Homo sapiens)|uniprotkb:P63000(protein(MI:0326), 9606 - Homo sapiens)</td>\n",
       "      <td>15247908</td>\n",
       "      <td>NaN</td>\n",
       "      <td>EBI-446978</td>\n",
       "    </tr>\n",
       "    <tr>\n",
       "      <th>5</th>\n",
       "      <td>EBI-490500</td>\n",
       "      <td>P50402:p.[Glu145Ala;Glu146Ala]</td>\n",
       "      <td>145-145</td>\n",
       "      <td>E</td>\n",
       "      <td>A</td>\n",
       "      <td>mutation(MI:0118)</td>\n",
       "      <td>NaN</td>\n",
       "      <td>uniprotkb:P50402</td>\n",
       "      <td>EMD</td>\n",
       "      <td>NaN</td>\n",
       "      <td>9606 - Homo sapiens</td>\n",
       "      <td>uniprotkb:Q9NYF8(protein(MI:0326), 9606 - Homo sapiens)|ensembl:ENSP00000358857.4(protein(MI:0326), 9606 - Homo sapiens)</td>\n",
       "      <td>15009215</td>\n",
       "      <td>NaN</td>\n",
       "      <td>EBI-490049</td>\n",
       "    </tr>\n",
       "    <tr>\n",
       "      <th>6</th>\n",
       "      <td>EBI-490500</td>\n",
       "      <td>P50402:p.[Glu145Ala;Glu146Ala]</td>\n",
       "      <td>146-146</td>\n",
       "      <td>E</td>\n",
       "      <td>A</td>\n",
       "      <td>mutation(MI:0118)</td>\n",
       "      <td>NaN</td>\n",
       "      <td>uniprotkb:P50402</td>\n",
       "      <td>EMD</td>\n",
       "      <td>NaN</td>\n",
       "      <td>9606 - Homo sapiens</td>\n",
       "      <td>uniprotkb:Q9NYF8(protein(MI:0326), 9606 - Homo sapiens)|ensembl:ENSP00000358857.4(protein(MI:0326), 9606 - Homo sapiens)</td>\n",
       "      <td>15009215</td>\n",
       "      <td>NaN</td>\n",
       "      <td>EBI-490049</td>\n",
       "    </tr>\n",
       "    <tr>\n",
       "      <th>7</th>\n",
       "      <td>EBI-490607</td>\n",
       "      <td>P13423:p.Glu762Cys</td>\n",
       "      <td>762-762</td>\n",
       "      <td>E</td>\n",
       "      <td>C</td>\n",
       "      <td>mutation(MI:0118)</td>\n",
       "      <td>NaN</td>\n",
       "      <td>uniprotkb:P13423</td>\n",
       "      <td>pagA</td>\n",
       "      <td>NaN</td>\n",
       "      <td>1392 - Bacillus anthracis</td>\n",
       "      <td>uniprotkb:P13423(protein(MI:0326), 1392 - Bacillus anthracis)|uniprotkb:P13423(protein(MI:0326), 1392 - Bacillus anthracis)</td>\n",
       "      <td>15044490</td>\n",
       "      <td>NaN</td>\n",
       "      <td>EBI-457002</td>\n",
       "    </tr>\n",
       "    <tr>\n",
       "      <th>8</th>\n",
       "      <td>EBI-490557</td>\n",
       "      <td>P13423:p.Glu762Cys</td>\n",
       "      <td>762-762</td>\n",
       "      <td>E</td>\n",
       "      <td>C</td>\n",
       "      <td>mutation(MI:0118)</td>\n",
       "      <td>NaN</td>\n",
       "      <td>uniprotkb:P13423</td>\n",
       "      <td>pagA</td>\n",
       "      <td>NaN</td>\n",
       "      <td>1392 - Bacillus anthracis</td>\n",
       "      <td>uniprotkb:P58335(protein(MI:0326), 9606 - Homo sapiens)|uniprotkb:P13423(protein(MI:0326), 1392 - Bacillus anthracis)</td>\n",
       "      <td>15044490</td>\n",
       "      <td>NaN</td>\n",
       "      <td>EBI-456901</td>\n",
       "    </tr>\n",
       "    <tr>\n",
       "      <th>9</th>\n",
       "      <td>EBI-490572</td>\n",
       "      <td>P58335:p.Arg40Cys</td>\n",
       "      <td>40-40</td>\n",
       "      <td>R</td>\n",
       "      <td>C</td>\n",
       "      <td>mutation(MI:0118)</td>\n",
       "      <td>NaN</td>\n",
       "      <td>uniprotkb:P58335</td>\n",
       "      <td>ANTXR2</td>\n",
       "      <td>NaN</td>\n",
       "      <td>9606 - Homo sapiens</td>\n",
       "      <td>uniprotkb:P58335(protein(MI:0326), 9606 - Homo sapiens)|uniprotkb:P13423(protein(MI:0326), 1392 - Bacillus anthracis)</td>\n",
       "      <td>15044490</td>\n",
       "      <td>NaN</td>\n",
       "      <td>EBI-456911</td>\n",
       "    </tr>\n",
       "  </tbody>\n",
       "</table>\n",
       "</div>"
      ],
      "text/plain": [
       "  #Feature AC             Feature short label Feature range(s) Original sequence Resulting sequence       Feature type Feature annotation Affected protein AC Affected protein symbol Affected protein full name      Affected protein organism                                                                                                                                                 Interaction participants  PubMedID Figure legend Interaction AC\n",
       "0  EBI-489661               P15153:p.Gln61Leu            61-61                 Q                  L  mutation(MI:0118)                NaN    uniprotkb:P15153                    RAC2                        NaN            9606 - Homo sapiens                                                 uniprotkb:P15153(protein(MI:0326), 9606 - Homo sapiens)|ensembl:ENSP00000356505.4(protein(MI:0326), 9606 - Homo sapiens)  11090627           NaN     EBI-489644\n",
       "1  EBI-496084              P42573:p.Gly360Ser          360-360                 G                  S  mutation(MI:0118)                NaN    uniprotkb:P42573                   ced-3                        NaN  6239 - Caenorhabditis elegans                                      uniprotkb:P30429(protein(MI:0326), 6239 - Caenorhabditis elegans)|uniprotkb:P42573(protein(MI:0326), 6239 - Caenorhabditis elegans)   9261161           NaN     EBI-495051\n",
       "2  EBI-495357              Q99640:p.Asn238Ala          238-238                 N                  A  mutation(MI:0118)                NaN    uniprotkb:Q99640                  PKMYT1                        NaN            9606 - Homo sapiens                                                          uniprotkb:Q99640(protein(MI:0326), 9606 - Homo sapiens)|uniprotkb:P06493(protein(MI:0326), 9606 - Homo sapiens)  10373560       Fig. 1B     EBI-495348\n",
       "3  EBI-476918   Q14185:p.[Trp45Ala;Gly171Asp]            45-45                 W                  A  mutation(MI:0118)                NaN    uniprotkb:Q14185                   DOCK1                        NaN            9606 - Homo sapiens  uniprotkb:Q92556(protein(MI:0326), 9606 - Homo sapiens)|uniprotkb:Q14185(protein(MI:0326), 9606 - Homo sapiens)|uniprotkb:P63000(protein(MI:0326), 9606 - Homo sapiens)  15247908           NaN     EBI-446978\n",
       "4  EBI-476918   Q14185:p.[Trp45Ala;Gly171Asp]          171-171                 G                  D  mutation(MI:0118)                NaN    uniprotkb:Q14185                   DOCK1                        NaN            9606 - Homo sapiens  uniprotkb:Q92556(protein(MI:0326), 9606 - Homo sapiens)|uniprotkb:Q14185(protein(MI:0326), 9606 - Homo sapiens)|uniprotkb:P63000(protein(MI:0326), 9606 - Homo sapiens)  15247908           NaN     EBI-446978\n",
       "5  EBI-490500  P50402:p.[Glu145Ala;Glu146Ala]          145-145                 E                  A  mutation(MI:0118)                NaN    uniprotkb:P50402                     EMD                        NaN            9606 - Homo sapiens                                                 uniprotkb:Q9NYF8(protein(MI:0326), 9606 - Homo sapiens)|ensembl:ENSP00000358857.4(protein(MI:0326), 9606 - Homo sapiens)  15009215           NaN     EBI-490049\n",
       "6  EBI-490500  P50402:p.[Glu145Ala;Glu146Ala]          146-146                 E                  A  mutation(MI:0118)                NaN    uniprotkb:P50402                     EMD                        NaN            9606 - Homo sapiens                                                 uniprotkb:Q9NYF8(protein(MI:0326), 9606 - Homo sapiens)|ensembl:ENSP00000358857.4(protein(MI:0326), 9606 - Homo sapiens)  15009215           NaN     EBI-490049\n",
       "7  EBI-490607              P13423:p.Glu762Cys          762-762                 E                  C  mutation(MI:0118)                NaN    uniprotkb:P13423                    pagA                        NaN      1392 - Bacillus anthracis                                              uniprotkb:P13423(protein(MI:0326), 1392 - Bacillus anthracis)|uniprotkb:P13423(protein(MI:0326), 1392 - Bacillus anthracis)  15044490           NaN     EBI-457002\n",
       "8  EBI-490557              P13423:p.Glu762Cys          762-762                 E                  C  mutation(MI:0118)                NaN    uniprotkb:P13423                    pagA                        NaN      1392 - Bacillus anthracis                                                    uniprotkb:P58335(protein(MI:0326), 9606 - Homo sapiens)|uniprotkb:P13423(protein(MI:0326), 1392 - Bacillus anthracis)  15044490           NaN     EBI-456901\n",
       "9  EBI-490572               P58335:p.Arg40Cys            40-40                 R                  C  mutation(MI:0118)                NaN    uniprotkb:P58335                  ANTXR2                        NaN            9606 - Homo sapiens                                                    uniprotkb:P58335(protein(MI:0326), 9606 - Homo sapiens)|uniprotkb:P13423(protein(MI:0326), 1392 - Bacillus anthracis)  15044490           NaN     EBI-456911"
      ]
     },
     "execution_count": 140,
     "metadata": {},
     "output_type": "execute_result"
    }
   ],
   "source": [
    "mutations_intact.head(10)"
   ]
  },
  {
   "cell_type": "code",
   "execution_count": null,
   "id": "5c90ee22-2b36-4828-8e0b-90a61171c483",
   "metadata": {},
   "outputs": [],
   "source": []
  },
  {
   "cell_type": "code",
   "execution_count": 29,
   "id": "53cc3092-c837-4b86-86df-01fc0ce18fc5",
   "metadata": {},
   "outputs": [
    {
     "name": "stdout",
     "output_type": "stream",
     "text": [
      "Parent process 81816.\n"
     ]
    },
    {
     "name": "stderr",
     "output_type": "stream",
     "text": [
      "Process ForkPoolWorker-54:\n",
      "Process ForkPoolWorker-55:\n",
      "Process ForkPoolWorker-58:\n",
      "Process ForkPoolWorker-48:\n",
      "Process ForkPoolWorker-59:\n",
      "Process ForkPoolWorker-60:\n",
      "Process ForkPoolWorker-49:\n",
      "Process ForkPoolWorker-41:\n",
      "Process ForkPoolWorker-30:\n",
      "Process ForkPoolWorker-38:\n",
      "Process ForkPoolWorker-32:\n",
      "Process ForkPoolWorker-23:\n",
      "Process ForkPoolWorker-25:\n",
      "Process ForkPoolWorker-33:\n",
      "Process ForkPoolWorker-50:\n",
      "Process ForkPoolWorker-46:\n"
     ]
    },
    {
     "ename": "KeyboardInterrupt",
     "evalue": "",
     "output_type": "error",
     "traceback": [
      "\u001b[0;31m---------------------------------------------------------------------------\u001b[0m",
      "\u001b[0;31mKeyboardInterrupt\u001b[0m                         Traceback (most recent call last)",
      "Cell \u001b[0;32mIn [29], line 19\u001b[0m\n\u001b[1;32m     17\u001b[0m \u001b[38;5;28;01mfor\u001b[39;00m k \u001b[38;5;129;01min\u001b[39;00m direction_list:\n\u001b[1;32m     18\u001b[0m     \u001b[38;5;28;01mfor\u001b[39;00m i \u001b[38;5;129;01min\u001b[39;00m \u001b[38;5;28mrange\u001b[39m(\u001b[38;5;28mlen\u001b[39m(df_intact)):\n\u001b[0;32m---> 19\u001b[0m         \u001b[43mp\u001b[49m\u001b[38;5;241;43m.\u001b[39;49m\u001b[43mapply_async\u001b[49m\u001b[43m(\u001b[49m\u001b[43mwork\u001b[49m\u001b[43m,\u001b[49m\u001b[43m \u001b[49m\u001b[43margs\u001b[49m\u001b[38;5;241;43m=\u001b[39;49m\u001b[43m(\u001b[49m\u001b[43mk\u001b[49m\u001b[43m,\u001b[49m\u001b[43mi\u001b[49m\u001b[43m,\u001b[49m\u001b[43mdf_intact\u001b[49m\u001b[43m,\u001b[49m\u001b[43mexperiment\u001b[49m\u001b[43m)\u001b[49m\u001b[43m)\u001b[49m\n\u001b[1;32m     20\u001b[0m \u001b[38;5;28mprint\u001b[39m(\u001b[38;5;124m'\u001b[39m\u001b[38;5;124mWaiting for all subprocesses done...\u001b[39m\u001b[38;5;124m'\u001b[39m)\n\u001b[1;32m     22\u001b[0m p\u001b[38;5;241m.\u001b[39mclose()\n",
      "File \u001b[0;32m~/miniconda3/envs/hald/lib/python3.8/multiprocessing/pool.py:456\u001b[0m, in \u001b[0;36mPool.apply_async\u001b[0;34m(self, func, args, kwds, callback, error_callback)\u001b[0m\n\u001b[1;32m    452\u001b[0m \u001b[38;5;124;03m'''\u001b[39;00m\n\u001b[1;32m    453\u001b[0m \u001b[38;5;124;03mAsynchronous version of `apply()` method.\u001b[39;00m\n\u001b[1;32m    454\u001b[0m \u001b[38;5;124;03m'''\u001b[39;00m\n\u001b[1;32m    455\u001b[0m \u001b[38;5;28mself\u001b[39m\u001b[38;5;241m.\u001b[39m_check_running()\n\u001b[0;32m--> 456\u001b[0m result \u001b[38;5;241m=\u001b[39m \u001b[43mApplyResult\u001b[49m\u001b[43m(\u001b[49m\u001b[38;5;28;43mself\u001b[39;49m\u001b[43m,\u001b[49m\u001b[43m \u001b[49m\u001b[43mcallback\u001b[49m\u001b[43m,\u001b[49m\u001b[43m \u001b[49m\u001b[43merror_callback\u001b[49m\u001b[43m)\u001b[49m\n\u001b[1;32m    457\u001b[0m \u001b[38;5;28mself\u001b[39m\u001b[38;5;241m.\u001b[39m_taskqueue\u001b[38;5;241m.\u001b[39mput(([(result\u001b[38;5;241m.\u001b[39m_job, \u001b[38;5;241m0\u001b[39m, func, args, kwds)], \u001b[38;5;28;01mNone\u001b[39;00m))\n\u001b[1;32m    458\u001b[0m \u001b[38;5;28;01mreturn\u001b[39;00m result\n",
      "File \u001b[0;32m~/miniconda3/envs/hald/lib/python3.8/multiprocessing/pool.py:746\u001b[0m, in \u001b[0;36mApplyResult.__init__\u001b[0;34m(self, pool, callback, error_callback)\u001b[0m\n\u001b[1;32m    744\u001b[0m \u001b[38;5;28;01mdef\u001b[39;00m \u001b[38;5;21m__init__\u001b[39m(\u001b[38;5;28mself\u001b[39m, pool, callback, error_callback):\n\u001b[1;32m    745\u001b[0m     \u001b[38;5;28mself\u001b[39m\u001b[38;5;241m.\u001b[39m_pool \u001b[38;5;241m=\u001b[39m pool\n\u001b[0;32m--> 746\u001b[0m     \u001b[38;5;28mself\u001b[39m\u001b[38;5;241m.\u001b[39m_event \u001b[38;5;241m=\u001b[39m \u001b[43mthreading\u001b[49m\u001b[38;5;241;43m.\u001b[39;49m\u001b[43mEvent\u001b[49m\u001b[43m(\u001b[49m\u001b[43m)\u001b[49m\n\u001b[1;32m    747\u001b[0m     \u001b[38;5;28mself\u001b[39m\u001b[38;5;241m.\u001b[39m_job \u001b[38;5;241m=\u001b[39m \u001b[38;5;28mnext\u001b[39m(job_counter)\n\u001b[1;32m    748\u001b[0m     \u001b[38;5;28mself\u001b[39m\u001b[38;5;241m.\u001b[39m_cache \u001b[38;5;241m=\u001b[39m pool\u001b[38;5;241m.\u001b[39m_cache\n",
      "File \u001b[0;32m~/miniconda3/envs/hald/lib/python3.8/threading.py:506\u001b[0m, in \u001b[0;36mEvent.__init__\u001b[0;34m(self)\u001b[0m\n\u001b[1;32m    505\u001b[0m \u001b[38;5;28;01mdef\u001b[39;00m \u001b[38;5;21m__init__\u001b[39m(\u001b[38;5;28mself\u001b[39m):\n\u001b[0;32m--> 506\u001b[0m     \u001b[38;5;28mself\u001b[39m\u001b[38;5;241m.\u001b[39m_cond \u001b[38;5;241m=\u001b[39m \u001b[43mCondition\u001b[49m\u001b[43m(\u001b[49m\u001b[43mLock\u001b[49m\u001b[43m(\u001b[49m\u001b[43m)\u001b[49m\u001b[43m)\u001b[49m\n\u001b[1;32m    507\u001b[0m     \u001b[38;5;28mself\u001b[39m\u001b[38;5;241m.\u001b[39m_flag \u001b[38;5;241m=\u001b[39m \u001b[38;5;28;01mFalse\u001b[39;00m\n",
      "File \u001b[0;32m~/miniconda3/envs/hald/lib/python3.8/threading.py:223\u001b[0m, in \u001b[0;36mCondition.__init__\u001b[0;34m(self, lock)\u001b[0m\n\u001b[1;32m    222\u001b[0m \u001b[38;5;28;01mdef\u001b[39;00m \u001b[38;5;21m__init__\u001b[39m(\u001b[38;5;28mself\u001b[39m, lock\u001b[38;5;241m=\u001b[39m\u001b[38;5;28;01mNone\u001b[39;00m):\n\u001b[0;32m--> 223\u001b[0m     \u001b[38;5;28;01mif\u001b[39;00m \u001b[43mlock\u001b[49m\u001b[43m \u001b[49m\u001b[38;5;129;43;01mis\u001b[39;49;00m\u001b[43m \u001b[49m\u001b[38;5;28;43;01mNone\u001b[39;49;00m:\n\u001b[1;32m    224\u001b[0m         lock \u001b[38;5;241m=\u001b[39m RLock()\n\u001b[1;32m    225\u001b[0m     \u001b[38;5;28mself\u001b[39m\u001b[38;5;241m.\u001b[39m_lock \u001b[38;5;241m=\u001b[39m lock\n",
      "\u001b[0;31mKeyboardInterrupt\u001b[0m: "
     ]
    },
    {
     "name": "stderr",
     "output_type": "stream",
     "text": [
      "Process ForkPoolWorker-47:\n",
      "Process ForkPoolWorker-43:\n",
      "Process ForkPoolWorker-13:\n",
      "Process ForkPoolWorker-44:\n",
      "Process ForkPoolWorker-56:\n",
      "Process ForkPoolWorker-6:\n",
      "Process ForkPoolWorker-5:\n",
      "Process ForkPoolWorker-29:\n",
      "Process ForkPoolWorker-45:\n",
      "Process ForkPoolWorker-22:\n",
      "Process ForkPoolWorker-31:\n",
      "Process ForkPoolWorker-18:\n",
      "Process ForkPoolWorker-12:\n",
      "Process ForkPoolWorker-8:\n",
      "Process ForkPoolWorker-1:\n",
      "Process ForkPoolWorker-53:\n",
      "Process ForkPoolWorker-34:\n",
      "Process ForkPoolWorker-42:\n",
      "Process ForkPoolWorker-51:\n",
      "Process ForkPoolWorker-57:\n",
      "Process ForkPoolWorker-52:\n",
      "Process ForkPoolWorker-11:\n",
      "Process ForkPoolWorker-37:\n",
      "Process ForkPoolWorker-14:\n",
      "Process ForkPoolWorker-2:\n",
      "Process ForkPoolWorker-21:\n",
      "Process ForkPoolWorker-3:\n",
      "Process ForkPoolWorker-7:\n",
      "Process ForkPoolWorker-10:\n",
      "Process ForkPoolWorker-20:\n",
      "Process ForkPoolWorker-19:\n",
      "Process ForkPoolWorker-24:\n",
      "Process ForkPoolWorker-15:\n",
      "Process ForkPoolWorker-35:\n",
      "Process ForkPoolWorker-17:\n",
      "Process ForkPoolWorker-16:\n",
      "Process ForkPoolWorker-28:\n",
      "Process ForkPoolWorker-9:\n",
      "Process ForkPoolWorker-39:\n",
      "Process ForkPoolWorker-4:\n",
      "Process ForkPoolWorker-36:\n",
      "Traceback (most recent call last):\n",
      "  File \"/root/miniconda3/envs/hald/lib/python3.8/multiprocessing/process.py\", line 315, in _bootstrap\n",
      "    self.run()\n",
      "  File \"/root/miniconda3/envs/hald/lib/python3.8/multiprocessing/process.py\", line 108, in run\n",
      "    self._target(*self._args, **self._kwargs)\n",
      "  File \"/root/miniconda3/envs/hald/lib/python3.8/multiprocessing/pool.py\", line 114, in worker\n",
      "    task = get()\n",
      "Traceback (most recent call last):\n",
      "Traceback (most recent call last):\n",
      "Traceback (most recent call last):\n",
      "Traceback (most recent call last):\n",
      "Traceback (most recent call last):\n",
      "Traceback (most recent call last):\n",
      "Traceback (most recent call last):\n",
      "Traceback (most recent call last):\n",
      "Traceback (most recent call last):\n",
      "Traceback (most recent call last):\n",
      "Traceback (most recent call last):\n",
      "Traceback (most recent call last):\n",
      "  File \"/root/miniconda3/envs/hald/lib/python3.8/multiprocessing/queues.py\", line 355, in get\n",
      "    with self._rlock:\n",
      "  File \"/root/miniconda3/envs/hald/lib/python3.8/multiprocessing/synchronize.py\", line 95, in __enter__\n",
      "    return self._semlock.__enter__()\n",
      "  File \"/root/miniconda3/envs/hald/lib/python3.8/multiprocessing/process.py\", line 315, in _bootstrap\n",
      "    self.run()\n",
      "Traceback (most recent call last):\n",
      "KeyboardInterrupt\n",
      "Traceback (most recent call last):\n",
      "Traceback (most recent call last):\n",
      "Traceback (most recent call last):\n",
      "Traceback (most recent call last):\n",
      "  File \"/root/miniconda3/envs/hald/lib/python3.8/multiprocessing/process.py\", line 108, in run\n",
      "    self._target(*self._args, **self._kwargs)\n",
      "  File \"/root/miniconda3/envs/hald/lib/python3.8/multiprocessing/pool.py\", line 114, in worker\n",
      "    task = get()\n",
      "  File \"/root/miniconda3/envs/hald/lib/python3.8/multiprocessing/process.py\", line 315, in _bootstrap\n",
      "    self.run()\n",
      "  File \"/root/miniconda3/envs/hald/lib/python3.8/multiprocessing/queues.py\", line 355, in get\n",
      "    with self._rlock:\n",
      "  File \"/root/miniconda3/envs/hald/lib/python3.8/multiprocessing/synchronize.py\", line 95, in __enter__\n",
      "    return self._semlock.__enter__()\n",
      "  File \"/root/miniconda3/envs/hald/lib/python3.8/multiprocessing/process.py\", line 108, in run\n",
      "    self._target(*self._args, **self._kwargs)\n",
      "KeyboardInterrupt\n",
      "  File \"/root/miniconda3/envs/hald/lib/python3.8/multiprocessing/pool.py\", line 114, in worker\n",
      "    task = get()\n",
      "  File \"/root/miniconda3/envs/hald/lib/python3.8/multiprocessing/process.py\", line 315, in _bootstrap\n",
      "    self.run()\n",
      "Traceback (most recent call last):\n",
      "  File \"/root/miniconda3/envs/hald/lib/python3.8/multiprocessing/queues.py\", line 355, in get\n",
      "    with self._rlock:\n",
      "  File \"/root/miniconda3/envs/hald/lib/python3.8/multiprocessing/process.py\", line 108, in run\n",
      "    self._target(*self._args, **self._kwargs)\n",
      "  File \"/root/miniconda3/envs/hald/lib/python3.8/multiprocessing/process.py\", line 315, in _bootstrap\n",
      "    self.run()\n",
      "  File \"/root/miniconda3/envs/hald/lib/python3.8/multiprocessing/pool.py\", line 114, in worker\n",
      "    task = get()\n",
      "  File \"/root/miniconda3/envs/hald/lib/python3.8/multiprocessing/process.py\", line 108, in run\n",
      "    self._target(*self._args, **self._kwargs)\n",
      "  File \"/root/miniconda3/envs/hald/lib/python3.8/multiprocessing/queues.py\", line 355, in get\n",
      "    with self._rlock:\n",
      "  File \"/root/miniconda3/envs/hald/lib/python3.8/multiprocessing/synchronize.py\", line 95, in __enter__\n",
      "    return self._semlock.__enter__()\n",
      "  File \"/root/miniconda3/envs/hald/lib/python3.8/multiprocessing/synchronize.py\", line 95, in __enter__\n",
      "    return self._semlock.__enter__()\n",
      "  File \"/root/miniconda3/envs/hald/lib/python3.8/multiprocessing/pool.py\", line 114, in worker\n",
      "    task = get()\n",
      "KeyboardInterrupt\n",
      "KeyboardInterrupt\n",
      "  File \"/root/miniconda3/envs/hald/lib/python3.8/multiprocessing/queues.py\", line 355, in get\n",
      "    with self._rlock:\n",
      "  File \"/root/miniconda3/envs/hald/lib/python3.8/multiprocessing/synchronize.py\", line 95, in __enter__\n",
      "    return self._semlock.__enter__()\n",
      "KeyboardInterrupt\n",
      "Traceback (most recent call last):\n",
      "Traceback (most recent call last):\n",
      "Traceback (most recent call last):\n",
      "Traceback (most recent call last):\n",
      "Traceback (most recent call last):\n",
      "  File \"/root/miniconda3/envs/hald/lib/python3.8/multiprocessing/process.py\", line 315, in _bootstrap\n",
      "    self.run()\n",
      "  File \"/root/miniconda3/envs/hald/lib/python3.8/multiprocessing/process.py\", line 315, in _bootstrap\n",
      "    self.run()\n",
      "  File \"/root/miniconda3/envs/hald/lib/python3.8/multiprocessing/process.py\", line 315, in _bootstrap\n",
      "    self.run()\n",
      "  File \"/root/miniconda3/envs/hald/lib/python3.8/multiprocessing/process.py\", line 315, in _bootstrap\n",
      "    self.run()\n",
      "  File \"/root/miniconda3/envs/hald/lib/python3.8/multiprocessing/process.py\", line 315, in _bootstrap\n",
      "    self.run()\n",
      "  File \"/root/miniconda3/envs/hald/lib/python3.8/multiprocessing/process.py\", line 315, in _bootstrap\n",
      "    self.run()\n",
      "  File \"/root/miniconda3/envs/hald/lib/python3.8/multiprocessing/process.py\", line 315, in _bootstrap\n",
      "    self.run()\n",
      "  File \"/root/miniconda3/envs/hald/lib/python3.8/multiprocessing/process.py\", line 315, in _bootstrap\n",
      "    self.run()\n",
      "  File \"/root/miniconda3/envs/hald/lib/python3.8/multiprocessing/process.py\", line 315, in _bootstrap\n",
      "    self.run()\n",
      "  File \"/root/miniconda3/envs/hald/lib/python3.8/multiprocessing/process.py\", line 315, in _bootstrap\n",
      "    self.run()\n",
      "  File \"/root/miniconda3/envs/hald/lib/python3.8/multiprocessing/process.py\", line 315, in _bootstrap\n",
      "    self.run()\n",
      "  File \"/root/miniconda3/envs/hald/lib/python3.8/multiprocessing/process.py\", line 315, in _bootstrap\n",
      "    self.run()\n",
      "  File \"/root/miniconda3/envs/hald/lib/python3.8/multiprocessing/process.py\", line 315, in _bootstrap\n",
      "    self.run()\n",
      "  File \"/root/miniconda3/envs/hald/lib/python3.8/multiprocessing/process.py\", line 108, in run\n",
      "    self._target(*self._args, **self._kwargs)\n",
      "  File \"/root/miniconda3/envs/hald/lib/python3.8/multiprocessing/process.py\", line 108, in run\n",
      "    self._target(*self._args, **self._kwargs)\n",
      "  File \"/root/miniconda3/envs/hald/lib/python3.8/multiprocessing/process.py\", line 108, in run\n",
      "    self._target(*self._args, **self._kwargs)\n",
      "  File \"/root/miniconda3/envs/hald/lib/python3.8/multiprocessing/pool.py\", line 114, in worker\n",
      "    task = get()\n",
      "  File \"/root/miniconda3/envs/hald/lib/python3.8/multiprocessing/pool.py\", line 114, in worker\n",
      "    task = get()\n",
      "  File \"/root/miniconda3/envs/hald/lib/python3.8/multiprocessing/pool.py\", line 114, in worker\n",
      "    task = get()\n",
      "  File \"/root/miniconda3/envs/hald/lib/python3.8/multiprocessing/queues.py\", line 355, in get\n",
      "    with self._rlock:\n",
      "  File \"/root/miniconda3/envs/hald/lib/python3.8/multiprocessing/queues.py\", line 355, in get\n",
      "    with self._rlock:\n",
      "KeyboardInterrupt\n",
      "  File \"/root/miniconda3/envs/hald/lib/python3.8/site-packages/pandas/core/internals/blocks.py\", line 2172, in new_block\n",
      "    def new_block(values, placement, *, ndim: int) -> Block:\n",
      "  File \"/root/miniconda3/envs/hald/lib/python3.8/multiprocessing/queues.py\", line 355, in get\n",
      "    with self._rlock:\n",
      "  File \"/root/miniconda3/envs/hald/lib/python3.8/multiprocessing/synchronize.py\", line 95, in __enter__\n",
      "    return self._semlock.__enter__()\n",
      "  File \"/root/miniconda3/envs/hald/lib/python3.8/multiprocessing/synchronize.py\", line 95, in __enter__\n",
      "    return self._semlock.__enter__()\n",
      "KeyboardInterrupt\n",
      "  File \"/root/miniconda3/envs/hald/lib/python3.8/multiprocessing/synchronize.py\", line 95, in __enter__\n",
      "    return self._semlock.__enter__()\n",
      "KeyboardInterrupt\n",
      "  File \"/root/miniconda3/envs/hald/lib/python3.8/multiprocessing/process.py\", line 315, in _bootstrap\n",
      "    self.run()\n",
      "  File \"/root/miniconda3/envs/hald/lib/python3.8/multiprocessing/process.py\", line 315, in _bootstrap\n",
      "    self.run()\n",
      "  File \"/root/miniconda3/envs/hald/lib/python3.8/multiprocessing/process.py\", line 315, in _bootstrap\n",
      "    self.run()\n",
      "KeyboardInterrupt\n",
      "Traceback (most recent call last):\n",
      "Traceback (most recent call last):\n",
      "Traceback (most recent call last):\n",
      "  File \"pandas/_libs/internals.pyx\", line 575, in pandas._libs.internals._unpickle_block\n",
      "  File \"/root/miniconda3/envs/hald/lib/python3.8/multiprocessing/queues.py\", line 358, in get\n",
      "    return _ForkingPickler.loads(res)\n",
      "  File \"/root/miniconda3/envs/hald/lib/python3.8/multiprocessing/pool.py\", line 114, in worker\n",
      "    task = get()\n",
      "Process ForkPoolWorker-40:\n",
      "Traceback (most recent call last):\n",
      "  File \"/root/miniconda3/envs/hald/lib/python3.8/multiprocessing/process.py\", line 315, in _bootstrap\n",
      "    self.run()\n",
      "  File \"/root/miniconda3/envs/hald/lib/python3.8/multiprocessing/process.py\", line 108, in run\n",
      "    self._target(*self._args, **self._kwargs)\n",
      "Process ForkPoolWorker-63:\n",
      "Process ForkPoolWorker-62:\n",
      "Process ForkPoolWorker-64:\n",
      "Traceback (most recent call last):\n",
      "  File \"/root/miniconda3/envs/hald/lib/python3.8/multiprocessing/process.py\", line 315, in _bootstrap\n",
      "    self.run()\n",
      "Traceback (most recent call last):\n",
      "Traceback (most recent call last):\n",
      "  File \"/root/miniconda3/envs/hald/lib/python3.8/multiprocessing/process.py\", line 108, in run\n",
      "    self._target(*self._args, **self._kwargs)\n",
      "  File \"/root/miniconda3/envs/hald/lib/python3.8/multiprocessing/process.py\", line 315, in _bootstrap\n",
      "    self.run()\n",
      "  File \"/root/miniconda3/envs/hald/lib/python3.8/multiprocessing/process.py\", line 315, in _bootstrap\n",
      "    self.run()\n",
      "  File \"/root/miniconda3/envs/hald/lib/python3.8/multiprocessing/pool.py\", line 114, in worker\n",
      "    task = get()\n",
      "  File \"/root/miniconda3/envs/hald/lib/python3.8/multiprocessing/process.py\", line 108, in run\n",
      "    self._target(*self._args, **self._kwargs)\n",
      "  File \"/root/miniconda3/envs/hald/lib/python3.8/multiprocessing/process.py\", line 108, in run\n",
      "    self._target(*self._args, **self._kwargs)\n",
      "  File \"/root/miniconda3/envs/hald/lib/python3.8/multiprocessing/queues.py\", line 355, in get\n",
      "    with self._rlock:\n",
      "  File \"/root/miniconda3/envs/hald/lib/python3.8/multiprocessing/pool.py\", line 114, in worker\n",
      "    task = get()\n",
      "  File \"/root/miniconda3/envs/hald/lib/python3.8/multiprocessing/pool.py\", line 114, in worker\n",
      "    task = get()\n",
      "  File \"/root/miniconda3/envs/hald/lib/python3.8/multiprocessing/synchronize.py\", line 95, in __enter__\n",
      "    return self._semlock.__enter__()\n",
      "  File \"/root/miniconda3/envs/hald/lib/python3.8/multiprocessing/queues.py\", line 355, in get\n",
      "    with self._rlock:\n",
      "  File \"/root/miniconda3/envs/hald/lib/python3.8/multiprocessing/queues.py\", line 355, in get\n",
      "    with self._rlock:\n",
      "KeyboardInterrupt\n",
      "  File \"/root/miniconda3/envs/hald/lib/python3.8/multiprocessing/synchronize.py\", line 95, in __enter__\n",
      "    return self._semlock.__enter__()\n",
      "  File \"/root/miniconda3/envs/hald/lib/python3.8/multiprocessing/synchronize.py\", line 95, in __enter__\n",
      "    return self._semlock.__enter__()\n",
      "KeyboardInterrupt\n",
      "KeyboardInterrupt\n"
     ]
    }
   ],
   "source": [
    "def work(k,i,df_intact,experiment):\n",
    "    for spl1 in df_intact.iloc[i,4].split('|'):\n",
    "        for spl2 in df_intact.iloc[i,5].split('|'):\n",
    "            if re.search(r'(.*:)(.*)(\\(.*\\))',spl1).groups()[1]==k[0] and \\\n",
    "            re.search(r'(.*:)(.*)(\\(.*\\))',spl2).groups()[1]==k[1]:\n",
    "                experiment.append((k[0],k[1]))\n",
    "                break\n",
    "        else:\n",
    "            continue\n",
    "        break\n",
    "if __name__=='__main__':\n",
    "    start=datetime.datetime.now()\n",
    "    print('Parent process %s.' % os.getpid())\n",
    "    p=Pool(60)\n",
    "    manager=Manager()\n",
    "    experiment=manager.list()\n",
    "    for k in direction_list:\n",
    "        for i in range(len(df_intact)):\n",
    "            p.apply_async(work, args=(k,i,df_intact,experiment))\n",
    "    print('Waiting for all subprocesses done...')\n",
    "    \n",
    "    p.close()\n",
    "    p.join()\n",
    "    print('All subprocesses done.')\n",
    "\n",
    "    end=datetime.datetime.now()\n",
    "    print(\"The running time is \"+str((end-start).seconds)+\"s\")  "
   ]
  },
  {
   "cell_type": "code",
   "execution_count": 30,
   "id": "2644ebf8-259a-4849-98da-ba6b1fc9fd25",
   "metadata": {},
   "outputs": [
    {
     "data": {
      "text/plain": [
       "0"
      ]
     },
     "execution_count": 30,
     "metadata": {},
     "output_type": "execute_result"
    },
    {
     "name": "stderr",
     "output_type": "stream",
     "text": [
      "Process ForkPoolWorker-103:\n",
      "Traceback (most recent call last):\n",
      "  File \"/root/miniconda3/envs/hald/lib/python3.8/multiprocessing/process.py\", line 315, in _bootstrap\n",
      "    self.run()\n",
      "  File \"/root/miniconda3/envs/hald/lib/python3.8/multiprocessing/process.py\", line 108, in run\n",
      "    self._target(*self._args, **self._kwargs)\n",
      "  File \"/root/miniconda3/envs/hald/lib/python3.8/multiprocessing/pool.py\", line 114, in worker\n",
      "    task = get()\n",
      "  File \"/root/miniconda3/envs/hald/lib/python3.8/multiprocessing/queues.py\", line 355, in get\n",
      "    with self._rlock:\n",
      "  File \"/root/miniconda3/envs/hald/lib/python3.8/multiprocessing/synchronize.py\", line 95, in __enter__\n",
      "    return self._semlock.__enter__()\n",
      "KeyboardInterrupt\n"
     ]
    }
   ],
   "source": [
    "len(list(experiment))"
   ]
  },
  {
   "cell_type": "code",
   "execution_count": null,
   "id": "6d39b848-1227-45e7-a669-f59f1ee985a9",
   "metadata": {},
   "outputs": [],
   "source": []
  },
  {
   "cell_type": "code",
   "execution_count": null,
   "id": "1d139fc4-df85-44f7-b669-26d400bd4ce4",
   "metadata": {},
   "outputs": [],
   "source": []
  },
  {
   "cell_type": "code",
   "execution_count": null,
   "id": "c8a89a4c-66dc-4e20-b476-cec4423729fc",
   "metadata": {},
   "outputs": [],
   "source": []
  },
  {
   "cell_type": "code",
   "execution_count": null,
   "id": "4dea053e-f7e0-44d3-bc7e-7f1043a209fb",
   "metadata": {},
   "outputs": [],
   "source": []
  },
  {
   "cell_type": "code",
   "execution_count": 172,
   "id": "cb7c19ff-ec2e-4d0c-ab7c-d6c8cc259657",
   "metadata": {},
   "outputs": [
    {
     "data": {
      "text/plain": [
       "('TNXB', 'SKIV2L')"
      ]
     },
     "execution_count": 172,
     "metadata": {},
     "output_type": "execute_result"
    }
   ],
   "source": [
    "k"
   ]
  },
  {
   "cell_type": "code",
   "execution_count": 166,
   "id": "a65d7aeb-2fbd-45bd-a7f3-0a62965ac2c4",
   "metadata": {},
   "outputs": [
    {
     "data": {
      "text/plain": [
       "'uniprotkb:NFKBIA(gene name)|psi-mi:NFKBIA(display_short)|uniprotkb:IKBA(gene name synonym)|uniprotkb:MAD3(gene name synonym)|uniprotkb:NFKBI(gene name synonym)|intact:I-kappa-B-alpha(synonym)|intact:Major histocompatibility complex enhancer-binding protein MAD3(synonym)|ensembl:ikba_human_gene(shortlabel)|psi-mi:ENSG00000100906(display_long)'"
      ]
     },
     "execution_count": 166,
     "metadata": {},
     "output_type": "execute_result"
    }
   ],
   "source": [
    "df_intact.iloc[i,4]"
   ]
  },
  {
   "cell_type": "code",
   "execution_count": 157,
   "id": "d1906f04-b666-4500-9619-bf41ea8f9a59",
   "metadata": {},
   "outputs": [],
   "source": [
    "re.search(r'(psi-mi:)(.*)(\\(display_long\\))',file.iloc[i,4].split('|')[0])"
   ]
  },
  {
   "cell_type": "code",
   "execution_count": null,
   "id": "e9879fba-9edb-4ae8-919e-c413312d0f70",
   "metadata": {},
   "outputs": [],
   "source": []
  },
  {
   "cell_type": "code",
   "execution_count": null,
   "id": "c1fafbd4-304d-47e0-bae0-b40400c0b588",
   "metadata": {},
   "outputs": [],
   "source": []
  },
  {
   "cell_type": "code",
   "execution_count": null,
   "id": "013f3ab5-137c-4572-bfd4-83e30e1e487b",
   "metadata": {},
   "outputs": [],
   "source": []
  },
  {
   "cell_type": "code",
   "execution_count": 103,
   "id": "10039662-4a8d-48ed-81b9-40ecb82369cb",
   "metadata": {},
   "outputs": [],
   "source": [
    "xxxx=[]\n",
    "for i in Relation_raw_all:\n",
    "    if i.get('openie') and i.get('networkx') and i.get('networkx')[0]!=i.get('target1'):\n",
    "        xxxx.append(i)"
   ]
  },
  {
   "cell_type": "code",
   "execution_count": 104,
   "id": "87f152e2-d85d-4ce4-96c0-5e552d4f6616",
   "metadata": {},
   "outputs": [
    {
     "data": {
      "text/plain": [
       "401"
      ]
     },
     "execution_count": 104,
     "metadata": {},
     "output_type": "execute_result"
    }
   ],
   "source": [
    "len(xxxx)"
   ]
  },
  {
   "cell_type": "code",
   "execution_count": 105,
   "id": "16739acf-a285-4d90-ba7d-bb7717c347ac",
   "metadata": {},
   "outputs": [
    {
     "data": {
      "text/plain": [
       "[{'_id': ObjectId('63988454c88002a2f1f375b0'),\n",
       "  'PMID': '12849688',\n",
       "  'entity1': 'NAGLU',\n",
       "  'entity2': 'Fanconi Syndrome',\n",
       "  'sentence': 'Among the four tubular dysfunction markers, NAG showed the closest correlation with Cd, followed by alpha(1)-MG and then beta(2)-MG, and RBP was least so although the correlations were all statistically significant.',\n",
       "  'AB': 'Comparative evaluation was made on alpha(1)-microglobulin (alpha(1)-MG), beta(2)-microglobulin (beta(2)-MG), retinol binding protein (RBP) and N-acetyl-beta-D-glucosaminidase (NAG), as a marker of renal tubular dysfunction after environmental exposure to cadmium (Cd), with special references to the effects of aging and correction for creatinine concentration. For this purpose, a previously established database of 817 never-smoking Japanese women (at the ages of 20 to 74 years) on hematological [hemoglobin, serum ferritin (FE), etc.] and urinary parameters [alpha(1)-MG, beta(2)-MG, creatinine (cr), and a specific gravity] was revisited. For the present analysis, the database was supplemented by the data on RBP and NAG in urine. The exposure of the women to Cd was such that the geometric mean Cd in urine was 1.3 microg/g cr. Among the four tubular dysfunction markers, NAG showed the closest correlation with Cd, followed by alpha(1)-MG and then beta(2)-MG, and RBP was least so although the correlations were all statistically significant. The observed values of the markers gave the best results, whereas correction for a urine specific gravity gave poorer correlation, and it was the worst when correction for creatinine concentration was applied. Age was the most influential confounding factor. The effect of age appeared to be attributable at least in part to the fact that both creatinine and, to a lesser extent, the specific gravity decreased as a function of age. Iron deficiency anemia of sub-clinical degree as observed among the women did not affect any of the four tubular dysfunction markers. In conclusion, NAG and alpha(1)-MG, rather beta(2)-MG or RBP, are more sensitive to detect Cd-induced tubular dysfunction in mass screening. The use of uncorrected observed values of the markers rather than traditional creatinine-corrected values is recommended when comparison covers people of a wide range of ages.',\n",
       "  'target1': 'NAG',\n",
       "  'target1_type': 'DNA',\n",
       "  'target2': 'tubular dysfunction',\n",
       "  'target2_type': 'Disease',\n",
       "  'openie': [['NAG',\n",
       "    'show correlation significant Among',\n",
       "    'tubular dysfunction'],\n",
       "   ['NAG', 'show correlation Among', 'tubular dysfunction']],\n",
       "  'networkx': ['tubular dysfunction', 'show', 'NAG'],\n",
       "  'openie_final': [['NAG',\n",
       "    'show correlation significant Among',\n",
       "    'tubular dysfunction'],\n",
       "   ['NAG', 'show correlation Among', 'tubular dysfunction']],\n",
       "  'allennlp_final': [],\n",
       "  'addtime': '20220724'},\n",
       " {'_id': ObjectId('63988454c88002a2f1f37623'),\n",
       "  'PMID': '35236051',\n",
       "  'entity1': 'TET2',\n",
       "  'entity2': 'Neoplasms',\n",
       "  'sentence': 'CMML is a neoplasm associated with aging, occurring on the background of clonal hematopoiesis, with TET2 and SRSF2 mutations being early initiating events.',\n",
       "  'AB': 'Chronic myelomonocytic leukemia (CMML) is a myelodysplastic syndrome/myeloproliferative overlap neoplasm characterized by sustained peripheral blood monocytosis and an inherent risk for transformation to acute myeloid leukemia (AML; 15-30% over 3-5 years). While CMML is morphologically classified in CMML-0,1 and 2 based on peripheral blood and bone marrow promonocyte/blast counts, a more clinically relevant classification into dysplastic (dCMML) and proliferative (pCMML) subtypes, based on the presenting white blood cell count is helpful in prognostication and therapeutics. CMML is a neoplasm associated with aging, occurring on the background of clonal hematopoiesis, with TET2 and SRSF2 mutations being early initiating events. The subsequent acquisitions of ASXL1, RUNX1, SF3B1 and DNMT3A mutations usually give rise to dCMML, while ASXL1, JAK2V617F and RAS pathway mutations give rise to pCMML. Patients with pCMML have a more aggressive course with higher rates of AML transformation. Allogeneic stem cell transplant remains the only potential cure for CMML, however, given the advanced median age at presentation (73 years) and comorbidities, is an option to only a few affected patients (10%). While DNA methyltransferase inhibitors are approved for the management of CMML, the overall response rates are 40-50%, with true complete remission rates of.',\n",
       "  'target1': 'TET2',\n",
       "  'target1_type': 'DNA',\n",
       "  'target2': 'neoplasm',\n",
       "  'target2_type': 'Disease',\n",
       "  'openie': [['neoplasm', 'be with', 'TET2']],\n",
       "  'networkx': ['neoplasm', 'occur', 'TET2'],\n",
       "  'openie_final': [['neoplasm', 'be with', 'TET2']],\n",
       "  'allennlp_final': [],\n",
       "  'addtime': '20220724'},\n",
       " {'_id': ObjectId('63988454c88002a2f1f37673'),\n",
       "  'PMID': '24096965',\n",
       "  'entity1': 'GGH',\n",
       "  'entity2': 'Acromegaly',\n",
       "  'sentence': 'Acromegaly is characterized by excessively high GH and IGF1 levels.',\n",
       "  'AB': 'Acromegaly is characterized by excessively high GH and IGF1 levels. Recent data suggest that soluble Klotho (sKlotho) is also elevated in patients with active acromegaly. sKlotho decreases towards normal following removal of the GH-producing pituitary adenoma. The Klotho gene was identified in mice following its accidental disruption by ectopic DNA. It is an ageing suppressor gene of restricted expression (mainly in kidneys, brain, and parathyroid and pituitary glands) encoding a transmembrane protein, mKlotho. mKlotho serves as a co-receptor in fibroblast growth factor 23 (FGF23) signalling. FGF23 promotes urinary phosphate excretion and inhibits the synthesis of calcitriol. The ectodomain of mKlotho is enzymatically released to result in a humoral factor, sKlotho, which exerts systemic effects (on ion channels and signalling pathways), possibly by working as an enzyme that modifies glycans of cell surface glycoproteins. GH enhances renal phosphate reabsorption and calcitriol production, i.e. exerts effects in the proximal tubule opposing those attributed to mKlotho, and attenuates calciuria in the distal tubule similar to sKlotho. sKlotho can be measured in extracellular fluids (serum, urine and cerebrospinal fluid (CSF)) by an ELISA. In line with predominant expression of Klotho in kidneys and choroid plexus, concentrations of sKlotho are particularly high in urine and CSF. Determination of sKlotho in serum and urine (both presumably reflecting GH action on the kidneys) could be used as a supplementary tool in the diagnosis and follow-up of patients with acromegaly. The question arises whether GH exerts selected actions via modifying activities of Klotho. ',\n",
       "  'target1': 'GH',\n",
       "  'target1_type': 'DNA',\n",
       "  'target2': 'Acromegaly',\n",
       "  'target2_type': 'Disease',\n",
       "  'allennlp': [['Acromegaly', 'characterized', 'GH']],\n",
       "  'openie': [['Acromegaly', 'be characterized by', 'GH'],\n",
       "   ['Acromegaly', 'be characterized by', 'GH'],\n",
       "   ['Acromegaly', 'be characterized by', 'GH']],\n",
       "  'networkx': ['Acromegaly', 'characterized', 'GH'],\n",
       "  'openie_final': [['Acromegaly', 'be characterized by', 'GH']],\n",
       "  'allennlp_final': [['Acromegaly', 'characterized', 'GH']],\n",
       "  'addtime': '20220724'}]"
      ]
     },
     "execution_count": 105,
     "metadata": {},
     "output_type": "execute_result"
    }
   ],
   "source": [
    "xxxx[:3]"
   ]
  },
  {
   "cell_type": "code",
   "execution_count": 86,
   "id": "eb9fe513-3037-41f6-b5e6-f522d289f384",
   "metadata": {},
   "outputs": [],
   "source": [
    "xxx=[]\n",
    "for i in Relation_raw_all:\n",
    "    if i.get('openie') and not i.get('networkx'):\n",
    "        xxx.append(i)"
   ]
  },
  {
   "cell_type": "code",
   "execution_count": 87,
   "id": "beaaae1e-ac59-4923-9572-2abd847c6171",
   "metadata": {},
   "outputs": [
    {
     "data": {
      "text/plain": [
       "2385"
      ]
     },
     "execution_count": 87,
     "metadata": {},
     "output_type": "execute_result"
    }
   ],
   "source": [
    "len(xxx)"
   ]
  },
  {
   "cell_type": "code",
   "execution_count": 88,
   "id": "a215dd27-47be-4f29-a26b-e40407dc5912",
   "metadata": {},
   "outputs": [
    {
     "data": {
      "text/plain": [
       "[{'_id': ObjectId('63987fb6c88002a2f1f125ae'),\n",
       "  'PMID': '19668188',\n",
       "  'entity1': 'CDKN2A',\n",
       "  'entity2': 'CDKN2B',\n",
       "  'sentence': 'The Ink4/Arf locus comprises the Cdkn2a-Cdkn2b genes encoding three potent tumour suppressors, namely p16(Ink4a), p19(Arf) and p15(Ink4b), which are basally expressed in differentiated cells and upregulated by aberrant mitogenic signals.',\n",
       "  'AB': \"The mechanisms involved in the reprogramming of differentiated cells into induced pluripotent stem (iPS) cells by the three transcription factors Oct4 (also known as Pou5f1), Klf4 and Sox2 remain poorly understood. The Ink4/Arf locus comprises the Cdkn2a-Cdkn2b genes encoding three potent tumour suppressors, namely p16(Ink4a), p19(Arf) and p15(Ink4b), which are basally expressed in differentiated cells and upregulated by aberrant mitogenic signals. Here we show that the locus is completely silenced in iPS cells, as well as in embryonic stem (ES) cells, acquiring the epigenetic marks of a bivalent chromatin domain, and retaining the ability to be reactivated after differentiation. Cell culture conditions during reprogramming enhance the expression of the Ink4/Arf locus, further highlighting the importance of silencing the locus to allow proliferation and reprogramming. Indeed, the three factors together repress the Ink4/Arf locus soon after their expression and concomitant with the appearance of the first molecular markers of 'stemness'. This downregulation also occurs in cells carrying the oncoprotein large-T, which functionally inactivates the pathways regulated by the Ink4/Arf locus, thus indicating that the silencing of the locus is intrinsic to reprogramming and not the result of a selective process. Genetic inhibition of the Ink4/Arf locus has a profound positive effect on the efficiency of iPS cell generation, increasing both the kinetics of reprogramming and the number of emerging iPS cell colonies. In murine cells, Arf, rather than Ink4a, is the main barrier to reprogramming by activation of p53 (encoded by Trp53) and p21 (encoded by Cdkn1a); whereas, in human fibroblasts, INK4a is more important than ARF. Furthermore, organismal ageing upregulates the Ink4/Arf locus and, accordingly, reprogramming is less efficient in cells from old organisms, but this defect can be rescued by inhibiting the locus with a short hairpin RNA. All together, we conclude that the silencing of Ink4/Arf locus is rate-limiting for reprogramming, and its transient inhibition may significantly improve the generation of iPS cells.\",\n",
       "  'target1': 'Ink4',\n",
       "  'target1_type': 'DNA',\n",
       "  'target2': 'Cdkn2b',\n",
       "  'target2_type': 'DNA',\n",
       "  'openie': [['Ink4', 'comprise', 'Cdkn2b']],\n",
       "  'openie_final': [['Ink4', 'comprise', 'Cdkn2b']],\n",
       "  'allennlp_final': [],\n",
       "  'addtime': '20220724'},\n",
       " {'_id': ObjectId('63987fb6c88002a2f1f125b2'),\n",
       "  'PMID': '23396152',\n",
       "  'entity1': 'ADIPOQ',\n",
       "  'entity2': 'INS',\n",
       "  'sentence': 'In the centenarian group, total adiponectin positively correlated with age and HDL-cholesterol, and HMW-adiponectin was negatively associated with insulin and triglycerides.',\n",
       "  'AB': 'BACKGROUND: The physiological mechanisms that promote longevity remain unclear. It has been suggested that insulin sensitivity is preserved in centenarians, whereas typical aging is accompanied by increasing insulin resistance. The oldest-old individuals display raised total adiponectin levels, despite the potential correlation between enhanced adiponectin and all-cause and cardiovascular mortality. AIM: To evaluate the level of adiponectin and its isoforms in sera of centenarians and to assess associations between adiponectin and metabolic parameters. PARTICIPANTS: A group of 58 Polish centenarians (50 women and 8 men, mean age 101+-1.34 years) and 68 elderly persons (55 women and 13 men, mean age 70+-5.69 years) as controls. MEASUREMENTS: Serum samples were analyzed to evaluate the following parameters: adiponectin array (total adiponectin, HWM-, MMW- and LMW-adiponectin; all by ELISA methods), insulin (by IRMA methods), glucose and lipid profiles. HOMA-IR was calculated. Clinical data were collected. Statistical analyses were performed. RESULTS: The concentrations of all adiponectin isoforms were significantly higher in the oldest-old participants. In the centenarian group, total adiponectin positively correlated with age and HDL-cholesterol, and HMW-adiponectin was negatively associated with insulin and triglycerides. The long-lived participants had a lower incidence of hypertension, type 2 diabetes, overweight and obesity, with lower concentrations of serum glucose and insulin, and reduced HOMA-IR. CONCLUSION: Our findings support the thesis that centenarians possess a different adiponectin isoform pattern and have a favorable metabolic phenotype in comparison with elderly individuals. However, additional work is necessary to understand the relevance of these findings to longevity.',\n",
       "  'target1': 'adiponectin',\n",
       "  'target1_type': 'DNA',\n",
       "  'target2': 'insulin',\n",
       "  'target2_type': 'DNA',\n",
       "  'allennlp': [['adiponectin', 'associated', 'insulin']],\n",
       "  'openie': [['adiponectin', 'be associated with', 'insulin'],\n",
       "   ['adiponectin', 'be negatively associated with', 'insulin']],\n",
       "  'openie_final': [['adiponectin', 'be associated with', 'insulin']],\n",
       "  'allennlp_final': [['adiponectin', 'associated', 'insulin']],\n",
       "  'addtime': '20220724'},\n",
       " {'_id': ObjectId('63987fb6c88002a2f1f125b3'),\n",
       "  'PMID': '23396152',\n",
       "  'entity1': 'CFAP97',\n",
       "  'entity2': 'INS',\n",
       "  'sentence': 'In the centenarian group, total adiponectin positively correlated with age and HDL-cholesterol, and HMW-adiponectin was negatively associated with insulin and triglycerides.',\n",
       "  'AB': 'BACKGROUND: The physiological mechanisms that promote longevity remain unclear. It has been suggested that insulin sensitivity is preserved in centenarians, whereas typical aging is accompanied by increasing insulin resistance. The oldest-old individuals display raised total adiponectin levels, despite the potential correlation between enhanced adiponectin and all-cause and cardiovascular mortality. AIM: To evaluate the level of adiponectin and its isoforms in sera of centenarians and to assess associations between adiponectin and metabolic parameters. PARTICIPANTS: A group of 58 Polish centenarians (50 women and 8 men, mean age 101+-1.34 years) and 68 elderly persons (55 women and 13 men, mean age 70+-5.69 years) as controls. MEASUREMENTS: Serum samples were analyzed to evaluate the following parameters: adiponectin array (total adiponectin, HWM-, MMW- and LMW-adiponectin; all by ELISA methods), insulin (by IRMA methods), glucose and lipid profiles. HOMA-IR was calculated. Clinical data were collected. Statistical analyses were performed. RESULTS: The concentrations of all adiponectin isoforms were significantly higher in the oldest-old participants. In the centenarian group, total adiponectin positively correlated with age and HDL-cholesterol, and HMW-adiponectin was negatively associated with insulin and triglycerides. The long-lived participants had a lower incidence of hypertension, type 2 diabetes, overweight and obesity, with lower concentrations of serum glucose and insulin, and reduced HOMA-IR. CONCLUSION: Our findings support the thesis that centenarians possess a different adiponectin isoform pattern and have a favorable metabolic phenotype in comparison with elderly individuals. However, additional work is necessary to understand the relevance of these findings to longevity.',\n",
       "  'target1': 'HMW',\n",
       "  'target1_type': 'DNA',\n",
       "  'target2': 'insulin',\n",
       "  'target2_type': 'DNA',\n",
       "  'allennlp': [['HMW', 'associated', 'insulin']],\n",
       "  'openie': [['HMW', 'be associated with', 'insulin'],\n",
       "   ['HMW', 'be negatively associated with', 'insulin']],\n",
       "  'openie_final': [['HMW', 'be associated with', 'insulin']],\n",
       "  'allennlp_final': [['HMW', 'associated', 'insulin']],\n",
       "  'addtime': '20220724'}]"
      ]
     },
     "execution_count": 88,
     "metadata": {},
     "output_type": "execute_result"
    }
   ],
   "source": [
    "xxx[:3]"
   ]
  },
  {
   "cell_type": "code",
   "execution_count": 295,
   "id": "65b4a0b7-2045-4ae7-9bc8-7b4d6dc583e5",
   "metadata": {},
   "outputs": [],
   "source": [
    "for i,j in relation_dict_copy.items():\n",
    "    if j[0].get('PMID')=='23396152':\n",
    "        print(j[0].get('sentence'))"
   ]
  },
  {
   "cell_type": "code",
   "execution_count": 296,
   "id": "0d95d2ba-9708-44aa-bd48-c1326e95462a",
   "metadata": {},
   "outputs": [
    {
     "ename": "NameError",
     "evalue": "name 'triple' is not defined",
     "output_type": "error",
     "traceback": [
      "\u001b[0;31m---------------------------------------------------------------------------\u001b[0m",
      "\u001b[0;31mNameError\u001b[0m                                 Traceback (most recent call last)",
      "Cell \u001b[0;32mIn [296], line 1\u001b[0m\n\u001b[0;32m----> 1\u001b[0m \u001b[38;5;28;01mfor\u001b[39;00m i \u001b[38;5;129;01min\u001b[39;00m \u001b[43mtriple\u001b[49m:\n\u001b[1;32m      2\u001b[0m     \u001b[38;5;28;01mif\u001b[39;00m i\u001b[38;5;241m.\u001b[39mget(\u001b[38;5;124m'\u001b[39m\u001b[38;5;124mPMID\u001b[39m\u001b[38;5;124m'\u001b[39m)\u001b[38;5;241m==\u001b[39m\u001b[38;5;124m'\u001b[39m\u001b[38;5;124m23396152\u001b[39m\u001b[38;5;124m'\u001b[39m:\n\u001b[1;32m      3\u001b[0m         \u001b[38;5;28mprint\u001b[39m(i\u001b[38;5;241m.\u001b[39mget(\u001b[38;5;124m'\u001b[39m\u001b[38;5;124msentence\u001b[39m\u001b[38;5;124m'\u001b[39m))\n",
      "\u001b[0;31mNameError\u001b[0m: name 'triple' is not defined"
     ]
    }
   ],
   "source": [
    "for i in triple:\n",
    "    if i.get('PMID')=='23396152':\n",
    "        print(i.get('sentence'))"
   ]
  },
  {
   "cell_type": "code",
   "execution_count": 86,
   "id": "e594243f-5510-47b8-a7ec-d2be6ae0facd",
   "metadata": {},
   "outputs": [],
   "source": [
    "xxxx=[]\n",
    "for i in Relation_raw_all:\n",
    "    if i.get('allennlp_final') and i.get('networkx') and i.get('allennlp_final')[0][1]!= i.get('networkx')[1]:\n",
    "        xxxx.append(i)"
   ]
  },
  {
   "cell_type": "code",
   "execution_count": 87,
   "id": "591ebfc0-2b48-40d8-a671-4fe8ac5c182a",
   "metadata": {},
   "outputs": [
    {
     "data": {
      "text/plain": [
       "6495"
      ]
     },
     "execution_count": 87,
     "metadata": {},
     "output_type": "execute_result"
    }
   ],
   "source": [
    "len(xxxx)"
   ]
  },
  {
   "cell_type": "code",
   "execution_count": 90,
   "id": "872d3dd9-b003-43c4-b4f0-c4f1bb2e3b84",
   "metadata": {},
   "outputs": [
    {
     "data": {
      "text/plain": [
       "[{'PMID': '33247391',\n",
       "  'entity1': 'Carcinogenesis',\n",
       "  'entity2': 'Checkpoint Kinase 1',\n",
       "  'sentence': 'INTRODUCTION: In September 2019, ranitidine and nizatidine were suggested to contain N-nitrosodimethylamine, a carcinogenic substance.',\n",
       "  'AB': 'INTRODUCTION: In September 2019, ranitidine and nizatidine were suggested to contain N-nitrosodimethylamine, a carcinogenic substance. People have since been concerned about the potential impact of ranitidine/nizatidine use on the risk of cancer. OBJECTIVE: The objective of this study was to investigate the risk of cancer among people receiving ranitidine or nizatidine compared with other histamine 2 receptor antagonists (H2 blockers) [cimetidine, famotidine, roxatidine, and lafutidine]. METHODS: In the Japan Medical Data Center claims database (comprising people aged < 75 years) from 2005 to 2018, we identified new adult users of H2 blockers and classified them into ranitidine/nizatidine users and other H2 blocker users. We estimated the incidence of cancer diagnosis in each group and conducted a multivariable Cox regression analysis. RESULTS: We identified 113,745 new users of ranitidine/nizatidine (median age 41.2 years [interquartile range 31.7-51.1]; 49.1% men; median follow-up 2.4 years [1.1-4.5]) and 503,982 new users of other H2 blockers (median age 40.9 years [31.1-51.2]; 51.0% men; median follow-up 2.3 years [0.9-4.2]). The incidence rate of cancer diagnosis was 6.39 (95% confidence interval 6.13-6.66) cases per 1000 person-years (top three sites: breast 14.8%; colorectal 14.6%; and stomach 11.5%) in the ranitidine/nizatidine group and 6.17 (6.05-6.30) cases per 1000 person-years (colorectal 14.7%; breast 13.5%; and stomach 11.2%) in the other H2 blockers group. The adjusted hazard ratio (ranitidine/nizatidine users vs other H2 blocker users) was 1.02 (0.98-1.07). The results were similar by follow-up length, by cancer site, and when ranitidine and nizatidine users were separately compared with the other H2 blockers group. By cumulative dose, the adjusted hazard ratio (95% confidence interval) was 1.03 (0.98-1.08) from 1 to 180 defined daily doses (DDDs), 1.00 (0.73-1.39) from 181 to 365 DDDs, 0.95 (0.61-1.48) from 366 to 730 DDDs, and 0.83 (0.45-1.55) at > 730 DDDs. CONCLUSIONS: We found no evidence that ranitidine/nizatidine is associated with an increased risk of cancer, although further studies with more accurate measurement of exposure, inclusion of older people, and longer follow-up may be needed.',\n",
       "  'target1': 'carcinogenic',\n",
       "  'target1_type': 'Disease',\n",
       "  'target2': 'nizatidine',\n",
       "  'target2_type': 'Protein',\n",
       "  'allennlp': [['carcinogenic', 'suggested', 'nizatidine']],\n",
       "  'networkx': ['nizatidine', 'contain', 'carcinogenic'],\n",
       "  'openie_final': [],\n",
       "  'allennlp_final': [['carcinogenic', 'suggested', 'nizatidine']],\n",
       "  'bidirection': False,\n",
       "  'addtime': '20220724'},\n",
       " {'PMID': '21104159',\n",
       "  'entity1': 'Rituximab',\n",
       "  'entity2': 'Purpura, Thrombocytopenic, Idiopathic',\n",
       "  'sentence': 'ITP is generally treated using glucocorticoids, splenectomy, immunosuppressants, platelet transfusions, and also rituxan and rituximab.',\n",
       "  'AB': 'Idiopathic Thrombocytopenic Purpura (ITP) is an autoimmune disease characterized by the production of antibodies against platelet surface antigens, resulting in platelet destruction. ITP is generally treated using glucocorticoids, splenectomy, immunosuppressants, platelet transfusions, and also rituxan and rituximab. However, as these treatments are not effective in some refractory ITP patients, especially the elderly, who are also at greater risk of cerebral hemorrhage, we have undertaken this study to find a safe and effective way of treating these patients. In a clinical protocol, we have examined the efficacy of the cytoprotective adjuvant, amifostine, on 24 ITP patients, consisting of 21 Chinese (age: 13-92 years), and 3 Caucasians (age: 46-73 years). In order to prevent the side effects associated with amifostine treatment, an alternative dosing and anti-emetic regimen was developed as part of this protocol, which significantly improved patient acceptance. The protocol consisted of daily intravenous infusions of amifostine 5 x 400 mg per week, for a total of 4-5 weeks. All the patients experienced a long-lasting and continuing remission, defined as platelet counts greater than 100,000. Two patients relapsed: one after an upper respiratory tract infection, and another due to Helicobacter pylori. However, both these patients had complete remission, after they were treated again with amifostine. In this clinical study, we report for the first time, the successful use of amifostine for ITP treatment in refractory patients. In conclusion, amifostine may have good therapeutic effect on ITP patients, especially in refractory and/or elderly. The long-term clinical outcome and the mechanism of action of this drug still need further investigation.',\n",
       "  'target1': 'rituxan',\n",
       "  'target1_type': 'Protein',\n",
       "  'target2': 'ITP',\n",
       "  'target2_type': 'Disease',\n",
       "  'allennlp': [['rituxan', 'treated', 'ITP']],\n",
       "  'networkx': ['ITP', 'use', 'rituxan'],\n",
       "  'openie_final': [],\n",
       "  'allennlp_final': [['rituxan', 'treated', 'ITP']],\n",
       "  'bidirection': False,\n",
       "  'addtime': '20220724'},\n",
       " {'PMID': '21104159',\n",
       "  'entity1': 'Rituximab',\n",
       "  'entity2': 'Purpura, Thrombocytopenic, Idiopathic',\n",
       "  'sentence': 'ITP is generally treated using glucocorticoids, splenectomy, immunosuppressants, platelet transfusions, and also rituxan and rituximab.',\n",
       "  'AB': 'Idiopathic Thrombocytopenic Purpura (ITP) is an autoimmune disease characterized by the production of antibodies against platelet surface antigens, resulting in platelet destruction. ITP is generally treated using glucocorticoids, splenectomy, immunosuppressants, platelet transfusions, and also rituxan and rituximab. However, as these treatments are not effective in some refractory ITP patients, especially the elderly, who are also at greater risk of cerebral hemorrhage, we have undertaken this study to find a safe and effective way of treating these patients. In a clinical protocol, we have examined the efficacy of the cytoprotective adjuvant, amifostine, on 24 ITP patients, consisting of 21 Chinese (age: 13-92 years), and 3 Caucasians (age: 46-73 years). In order to prevent the side effects associated with amifostine treatment, an alternative dosing and anti-emetic regimen was developed as part of this protocol, which significantly improved patient acceptance. The protocol consisted of daily intravenous infusions of amifostine 5 x 400 mg per week, for a total of 4-5 weeks. All the patients experienced a long-lasting and continuing remission, defined as platelet counts greater than 100,000. Two patients relapsed: one after an upper respiratory tract infection, and another due to Helicobacter pylori. However, both these patients had complete remission, after they were treated again with amifostine. In this clinical study, we report for the first time, the successful use of amifostine for ITP treatment in refractory patients. In conclusion, amifostine may have good therapeutic effect on ITP patients, especially in refractory and/or elderly. The long-term clinical outcome and the mechanism of action of this drug still need further investigation.',\n",
       "  'target1': 'rituximab',\n",
       "  'target1_type': 'Protein',\n",
       "  'target2': 'ITP',\n",
       "  'target2_type': 'Disease',\n",
       "  'allennlp': [['rituximab', 'treated', 'ITP']],\n",
       "  'networkx': ['ITP', 'use', 'rituximab'],\n",
       "  'openie_final': [],\n",
       "  'allennlp_final': [['rituximab', 'treated', 'ITP']],\n",
       "  'bidirection': False,\n",
       "  'addtime': '20220724'},\n",
       " {'PMID': '17031284',\n",
       "  'entity1': 'Vision Disorders',\n",
       "  'entity2': 'Ranibizumab',\n",
       "  'sentence': 'Combined, the trial results indicate that ranibizumab results not only in a slowing down of vision loss but also in a significant proportion of patients experiencing a clinically meaningful vision gain.',\n",
       "  'AB': 'BACKGROUND: Angiogenesis is a key aspect of the wet form of age-related neovascular (AMD), the leading cause of blindness in the elderly population. Substantial evidence indicated that vascular endothelial growth factor (VEGF)-A is a major mediator of angiogenesis and vascular leakage in wet AMD. VEGF-A is the prototype member of a gene family that includes also PlGF, VEGF-B, VEGF-C, VEGF-D and the orf virus-encoded VEGF-E. Several isoforms of VEGF-A can be generated due to alternative mRNA splicing. Various VEGF inhibitors have been clinically developed. Among these, ranibizumab is a high affinity recombinant Fab that neutralizes all isoforms of VEGF-A. The article briefly reviews the biology of VEGF and then focuses on the path that led to clinical development of ranibizumab. RESULTS: The safety and efficacy of ranibizumab in the treatment of neovascular AMD have been evaluated in two large phase III, multicenter, randomized, double-masked, controlled pivotal trials in different neovascular AMD patient populations. Combined, the trial results indicate that ranibizumab results not only in a slowing down of vision loss but also in a significant proportion of patients experiencing a clinically meaningful vision gain. The visual acuity benefit over control was observed regardless of CNV lesion type. Furthermore, the benefit was associated with a low rate of serious adverse events. CONCLUSIONS: Ranibizumab represents a novel therapy that, for the first time, appears to have the potential to enable many AMD patients to obtain a meaningful and sustained gain of vision. On June 30 2006, ranibizumab was approved by the US Food and Drug Administration for the treatment of wet AMD.',\n",
       "  'target1': 'vision loss',\n",
       "  'target1_type': 'Disease',\n",
       "  'target2': 'ranibizumab',\n",
       "  'target2_type': 'Protein',\n",
       "  'allennlp': [['vision loss', 'results', 'ranibizumab']],\n",
       "  'networkx': ['ranibizumab', 'result', 'vision loss'],\n",
       "  'openie_final': [],\n",
       "  'allennlp_final': [['vision loss', 'results', 'ranibizumab']],\n",
       "  'bidirection': False,\n",
       "  'addtime': '20220724'},\n",
       " {'PMID': '12957870',\n",
       "  'entity1': 'Vaginosis, Bacterial',\n",
       "  'entity2': 'Lipopolysaccharides',\n",
       "  'sentence': 'Interestingly, a common complication of pregnancy is a condition known as bacterial vaginosis (BV), which is known to produce increased levels of LPS and pro-inflammatory cytokines in the chorioamniotic environment of the fetus.',\n",
       "  'AB': \"The cause of Parkinson's disease (PD) is currently unknown. Although a genetic cause has been implicated in familial PD, the vast majority of cases are considered idiopathic. Environmental toxins have been implicated as a cause for PD by many investigators. Unfortunately, the magnitude of this exposure would likely need to be very high and as a result, would likely have been identified by the many epidemiological studies performed to date. Recently, we inadvertently realized that exposure to neurotoxins while still in utero may also represent a risk factor. Thus, exposure to the bacteriotoxin, lipopolysaccharide (LPS) during a critical developmental window in rats, leads to the birth of animals with fewer than normal dopamine (DA) neurons. This DA neuron loss is apparently permanent as it is still present in 16 months old animals (the longest period studied to date). Moreover, the loss of DA neurons seen in these animals increases with age thereby mimicking the progressive pattern of cell loss seen in human PD. The DA neuron loss is accompanied by reductions in striatal DA, increases in DA activity, and increased production of the pro-inflammatory cytokine Tumor Necrosis Factor alpha (TNF-alpha). These are also characteristics of the PD brain. This model therefore shares many of the same characteristics with PD, and most importantly exhibits a slow, protracted loss of DA neurons - a characteristics of this animal model not found in other models. Interestingly, a common complication of pregnancy is a condition known as bacterial vaginosis (BV), which is known to produce increased levels of LPS and pro-inflammatory cytokines in the chorioamniotic environment of the fetus. This raises the interesting possibility that BV may be a risk factor for PD. The possibility that prenatal toxin exposure may contribute to the development of a neurodegenerative disease of the aged raises interesting new pathogenic questions and draws attention to the possibility that in utero exposure to neurotoxins may represent a here to fore unrecognized cause of PD.\",\n",
       "  'target1': 'bacterial vaginosis',\n",
       "  'target1_type': 'Disease',\n",
       "  'target2': 'LPS',\n",
       "  'target2_type': 'Toxin',\n",
       "  'allennlp': [['bacterial vaginosis', 'known', 'LPS']],\n",
       "  'networkx': ['bacterial vaginosis', 'produce', 'LPS'],\n",
       "  'openie_final': [],\n",
       "  'allennlp_final': [['bacterial vaginosis', 'known', 'LPS']],\n",
       "  'bidirection': False,\n",
       "  'addtime': '20220724'},\n",
       " {'PMID': '12957870',\n",
       "  'entity1': 'Vaginosis, Bacterial',\n",
       "  'entity2': 'Lipopolysaccharides',\n",
       "  'sentence': 'Interestingly, a common complication of pregnancy is a condition known as bacterial vaginosis (BV), which is known to produce increased levels of LPS and pro-inflammatory cytokines in the chorioamniotic environment of the fetus.',\n",
       "  'AB': \"The cause of Parkinson's disease (PD) is currently unknown. Although a genetic cause has been implicated in familial PD, the vast majority of cases are considered idiopathic. Environmental toxins have been implicated as a cause for PD by many investigators. Unfortunately, the magnitude of this exposure would likely need to be very high and as a result, would likely have been identified by the many epidemiological studies performed to date. Recently, we inadvertently realized that exposure to neurotoxins while still in utero may also represent a risk factor. Thus, exposure to the bacteriotoxin, lipopolysaccharide (LPS) during a critical developmental window in rats, leads to the birth of animals with fewer than normal dopamine (DA) neurons. This DA neuron loss is apparently permanent as it is still present in 16 months old animals (the longest period studied to date). Moreover, the loss of DA neurons seen in these animals increases with age thereby mimicking the progressive pattern of cell loss seen in human PD. The DA neuron loss is accompanied by reductions in striatal DA, increases in DA activity, and increased production of the pro-inflammatory cytokine Tumor Necrosis Factor alpha (TNF-alpha). These are also characteristics of the PD brain. This model therefore shares many of the same characteristics with PD, and most importantly exhibits a slow, protracted loss of DA neurons - a characteristics of this animal model not found in other models. Interestingly, a common complication of pregnancy is a condition known as bacterial vaginosis (BV), which is known to produce increased levels of LPS and pro-inflammatory cytokines in the chorioamniotic environment of the fetus. This raises the interesting possibility that BV may be a risk factor for PD. The possibility that prenatal toxin exposure may contribute to the development of a neurodegenerative disease of the aged raises interesting new pathogenic questions and draws attention to the possibility that in utero exposure to neurotoxins may represent a here to fore unrecognized cause of PD.\",\n",
       "  'target1': 'BV',\n",
       "  'target1_type': 'Disease',\n",
       "  'target2': 'LPS',\n",
       "  'target2_type': 'Toxin',\n",
       "  'allennlp': [['BV', 'known', 'LPS']],\n",
       "  'networkx': ['BV', 'produce', 'LPS'],\n",
       "  'openie_final': [],\n",
       "  'allennlp_final': [['BV', 'known', 'LPS']],\n",
       "  'bidirection': False,\n",
       "  'addtime': '20220724'},\n",
       " {'PMID': '33633246',\n",
       "  'entity1': 'Sarcopenia',\n",
       "  'entity2': 'Lipopolysaccharides',\n",
       "  'sentence': 'In contrast, lipopolysaccharide biosynthesis was overrepresented in Case and PreCase subjects suggesting that sarcopenia is associated with a pro-inflammatory metagenome.',\n",
       "  'AB': '16S rRNA sequencing of human fecal samples has been tremendously successful in identifying microbiome changes associated with both aging and disease. A number of studies have described microbial alterations corresponding to physical frailty and nursing home residence among aging individuals. A gut-muscle axis through which the microbiome influences skeletal muscle growth/function has been hypothesized. However, the microbiome has yet to be examined in sarcopenia. Here, we collected fecal samples of 60 healthy controls (CON) and 27 sarcopenic (Case)/possibly sarcopenic (preCase) individuals and analyzed the intestinal microbiota using 16S rRNA sequencing. We observed an overall reduction in microbial diversity in Case and preCase samples. The genera Lachnospira, Fusicantenibacter, Roseburia, Eubacterium, and Lachnoclostridium-known butyrate producers-were significantly less abundant in Case and preCase subjects while Lactobacillus was more abundant. Functional pathways underrepresented in Case subjects included numerous transporters and phenylalanine, tyrosine, and tryptophan biosynthesis suggesting that protein processing and nutrient transport may be impaired. In contrast, lipopolysaccharide biosynthesis was overrepresented in Case and PreCase subjects suggesting that sarcopenia is associated with a pro-inflammatory metagenome. These analyses demonstrate structural and functional alterations in the intestinal microbiota that may contribute to loss of skeletal muscle mass and function in sarcopenia.',\n",
       "  'target1': 'sarcopenia',\n",
       "  'target1_type': 'Disease',\n",
       "  'target2': 'lipopolysaccharide',\n",
       "  'target2_type': 'Toxin',\n",
       "  'allennlp': [['sarcopenia', 'overrepresented', 'lipopolysaccharide']],\n",
       "  'networkx': ['lipopolysaccharide', 'associated', 'sarcopenia'],\n",
       "  'openie_final': [],\n",
       "  'allennlp_final': [['sarcopenia', 'overrepresented', 'lipopolysaccharide']],\n",
       "  'bidirection': True,\n",
       "  'addtime': '20220724'},\n",
       " {'PMID': '30633899',\n",
       "  'entity1': 'rs9536314',\n",
       "  'entity2': 'Breast Neoplasms',\n",
       "  'sentence': 'The F allele of the F352 V polymorphism protected against breast and ovarian cancer susceptibility.',\n",
       "  'AB': 'Klotho gene polymorphisms have been implicated in healthy aging, but inconsistences in findings from previous case-control studies have raised concerns regarding the associations between KLOTHO gene polymorphisms and susceptibility to aging-related diseases and longevity. Hence, this meta-analysis was performed. We assessed the associations between two polymorphisms (G-395 A/rs1207568 and F352 V/rs9536314) and five parameters (urolithiasis, cognitive impairment, cardiovascular disease, cancer, and longevity) by calculating pooled odds ratios with 95% confidence intervals. According to the pooled results, the G allele of the G-395 A polymorphism conferred a significantly higher risk of urolithiasis; G-395 A was related to the susceptibility to cardiovascular disease under allele, dominant, and recessive models. There was no significant association between the G-395 A polymorphism and cognitive impairment among the elderly. The F allele of the F352 V polymorphism protected against breast and ovarian cancer susceptibility. Interestingly, based on the results of the subgroup analysis, the F352 V polymorphism was associated with the overall risk of neoplasms in BRCA1 mutation carriers but not in BRCA2 mutation carriers. Moreover, the F allele played a protective role in determining human longevity. In conclusion, Klotho G-395 A polymorphisms were associated with urolithiasis and cardiovascular disease but not with cognitive impairment. Additionally, Klotho F352 V polymorphisms were associated with cancers and longevity.',\n",
       "  'target1': 'F352 V',\n",
       "  'target1_type': 'Mutation',\n",
       "  'target2': 'breast and ovarian cancer',\n",
       "  'target2_type': 'Disease',\n",
       "  'allennlp': [['F352 V', 'protected', 'breast and ovarian cancer']],\n",
       "  'networkx': ['F352 V', 'protect', 'breast and ovarian cancer'],\n",
       "  'openie_final': [],\n",
       "  'allennlp_final': [['F352 V', 'protected', 'breast and ovarian cancer']],\n",
       "  'bidirection': False,\n",
       "  'addtime': '20220724'},\n",
       " {'PMID': '28627999',\n",
       "  'entity1': 'rs2971609',\n",
       "  'entity2': 'Migraine Disorders',\n",
       "  'sentence': 'These loci were also associated with other cerebral blood flow parameters below genome-wide significance, and rs2971609 lies in a known migraine locus.',\n",
       "  'AB': 'Cerebral blood flow is an important process for brain functioning and its dysregulation is implicated in multiple neurological disorders. While environmental risk factors have been identified, it remains unclear to what extent the flow is regulated by genetics. Here we performed heritability and genome-wide association analyses of cerebral blood flow in a population-based cohort study. We included 4472 persons free of cortical infarcts who underwent genotyping and phase-contrast magnetic resonance flow imaging (mean age 64.8 +- 10.8 years). The flow rate, cross-sectional area of the vessel, and flow velocity through the vessel were measured in the basilar artery and bilateral carotids. We found that the flow rate of the basilar artery is most heritable (h2 (SE) = 24.1 (9.8), p-value = 0.0056), and this increased over age. The association studies revealed two significant loci for the right carotid artery area (rs12546630, p-value = 2.0 x 10-8) and velocity (rs2971609, p-value = 1.4 x 10-8), with the latter showing a concordant effect in an independent sample (N = 1350, p-value = 0.057, meta-analyzed p-value = 2.5 x 10-9). These loci were also associated with other cerebral blood flow parameters below genome-wide significance, and rs2971609 lies in a known migraine locus. These findings establish that cerebral blood flow is under genetic control with potential relevance for neurological diseases.',\n",
       "  'target1': 'rs2971609',\n",
       "  'target1_type': 'Mutation',\n",
       "  'target2': 'migraine',\n",
       "  'target2_type': 'Disease',\n",
       "  'allennlp': [['rs2971609', 'lies', 'migraine']],\n",
       "  'networkx': ['rs2971609', 'lie', 'migraine'],\n",
       "  'openie_final': [],\n",
       "  'allennlp_final': [['rs2971609', 'lies', 'migraine']],\n",
       "  'bidirection': False,\n",
       "  'addtime': '20220724'}]"
      ]
     },
     "execution_count": 90,
     "metadata": {},
     "output_type": "execute_result"
    }
   ],
   "source": [
    "xxxx[-10:-1]"
   ]
  },
  {
   "cell_type": "code",
   "execution_count": null,
   "id": "a6345483-22d6-473b-a218-90a6f8cd328d",
   "metadata": {},
   "outputs": [],
   "source": []
  }
 ],
 "metadata": {
  "kernelspec": {
   "display_name": "hald",
   "language": "python",
   "name": "hald"
  },
  "language_info": {
   "codemirror_mode": {
    "name": "ipython",
    "version": 3
   },
   "file_extension": ".py",
   "mimetype": "text/x-python",
   "name": "python",
   "nbconvert_exporter": "python",
   "pygments_lexer": "ipython3",
   "version": "3.8.15"
  }
 },
 "nbformat": 4,
 "nbformat_minor": 5
}
