{
 "cells": [
  {
   "cell_type": "code",
   "execution_count": 1,
   "id": "91c37b96-e055-41b8-92d0-4caea4a7aa3f",
   "metadata": {},
   "outputs": [],
   "source": [
    "import pickle, json, time, datetime, pymongo, requests, copy, os, csv\n",
    "from pymongo import MongoClient\n",
    "import pandas as pd\n",
    "from Bio import Medline\n",
    "from Bio import Entrez"
   ]
  },
  {
   "cell_type": "code",
   "execution_count": 3,
   "id": "b61c5433-3e44-48d6-b199-e51944c0032b",
   "metadata": {},
   "outputs": [],
   "source": [
    "now=datetime.datetime.now()"
   ]
  },
  {
   "cell_type": "code",
   "execution_count": 5,
   "id": "aa47f043-0c33-4e53-8034-cce06871b5ce",
   "metadata": {},
   "outputs": [],
   "source": [
    "now_time=now.strftime('%Y_%m_%d')"
   ]
  },
  {
   "cell_type": "code",
   "execution_count": 6,
   "id": "3af250f7-0f82-46b3-8c7a-5068607e69b6",
   "metadata": {},
   "outputs": [
    {
     "name": "stdout",
     "output_type": "stream",
     "text": [
      "2023_05_09\n"
     ]
    }
   ],
   "source": [
    "print(now_time)"
   ]
  },
  {
   "cell_type": "code",
   "execution_count": 10,
   "id": "ded582b0-14e5-4af4-8de9-ded4bc3e996c",
   "metadata": {},
   "outputs": [],
   "source": [
    "def cal_time(time):\n",
    "    time = time.split('/')\n",
    "    year = int(time[0])\n",
    "    month = int(time[1]) - 3\n",
    "    day = int(time[2])\n",
    "    if month < 1:\n",
    "        month = 12\n",
    "        year -= 1\n",
    "    time = datetime.datetime(year=year, month=month, day=1).strftime('%Y/%m/%d')\n",
    "    return time"
   ]
  },
  {
   "cell_type": "code",
   "execution_count": 13,
   "id": "9046f96f-d5c0-41b9-ba51-17c220244c85",
   "metadata": {},
   "outputs": [],
   "source": [
    "former_time=cal_time(nowtime)"
   ]
  },
  {
   "cell_type": "code",
   "execution_count": 14,
   "id": "19884ae1-41ab-480c-beff-08c0fdda5c6b",
   "metadata": {},
   "outputs": [
    {
     "data": {
      "text/plain": [
       "'2023/02/01'"
      ]
     },
     "execution_count": 14,
     "metadata": {},
     "output_type": "execute_result"
    }
   ],
   "source": [
    "former_time"
   ]
  },
  {
   "cell_type": "code",
   "execution_count": 16,
   "id": "f2a5cfaf-532f-4e12-bc8f-a42f0b887026",
   "metadata": {},
   "outputs": [
    {
     "name": "stdout",
     "output_type": "stream",
     "text": [
      "4733\n"
     ]
    }
   ],
   "source": [
    "terms='(\"aging\"[Title/Abstract] OR \"ageing\"[Title/Abstract] OR \"longevity\"[Title/Abstract] OR \"centenarian\"[Title/Abstract] OR \"centenarians\"[Title/Abstract] \\\n",
    "OR \"the elderly\"[Title/Abstract] OR \"the aged\"[Title/Abstract] OR \"old people\"[Title/Abstract] OR \"older people\"[Title/Abstract] OR \"old age\"[Title/Abstract]  AND \\\n",
    "Journal Article[ptyp] AND \"humans\"[MeSH Terms] AND English[lang] AND (\"'+str(former_time)+'\"[Date - Publication] : \"3000\"[Date - Publication]))'\n",
    "Entrez.email=\"12007002@zju.edu.cn\"\n",
    "handle_0 = Entrez.esearch(db=\"pubmed\", term=terms,retmax=1000000)\n",
    "record = Entrez.read(handle_0)\n",
    "idlist = record[\"IdList\"]\n",
    "No_Papers = len(idlist)\n",
    "print(No_Papers)"
   ]
  },
  {
   "cell_type": "code",
   "execution_count": 19,
   "id": "f6bf41e9-adfa-4548-8b0b-ce295ca88a65",
   "metadata": {},
   "outputs": [
    {
     "data": {
      "text/plain": [
       "4733"
      ]
     },
     "execution_count": 19,
     "metadata": {},
     "output_type": "execute_result"
    }
   ],
   "source": [
    "len(idlist)"
   ]
  },
  {
   "cell_type": "code",
   "execution_count": 20,
   "id": "7504b34c-1f2f-4ced-8ec4-fe54a568be73",
   "metadata": {},
   "outputs": [
    {
     "data": {
      "text/plain": [
       "4733"
      ]
     },
     "execution_count": 20,
     "metadata": {},
     "output_type": "execute_result"
    }
   ],
   "source": [
    "len(set(idlist))"
   ]
  },
  {
   "cell_type": "code",
   "execution_count": 21,
   "id": "89975e1e-7c26-42c8-a52c-13791a337872",
   "metadata": {},
   "outputs": [
    {
     "data": {
      "text/plain": [
       "'37149695'"
      ]
     },
     "execution_count": 21,
     "metadata": {},
     "output_type": "execute_result"
    }
   ],
   "source": [
    "idlist[0]"
   ]
  },
  {
   "cell_type": "code",
   "execution_count": 22,
   "id": "6b807d21-20a8-4043-8956-e70b51c2af30",
   "metadata": {},
   "outputs": [],
   "source": [
    "res=[]\n",
    "for i in range(0,len(idlist),10000):\n",
    "    id=idlist[i:i+10000]\n",
    "    handle_1 = Entrez.efetch(db=\"pubmed\", id=id, rettype=\"medline\",retmode=\"text\")\n",
    "    records = Medline.parse(handle_1)\n",
    "    res.append(list(records))"
   ]
  },
  {
   "cell_type": "code",
   "execution_count": 23,
   "id": "6a12ed16-787e-4a00-a5e1-089ca4ec7544",
   "metadata": {},
   "outputs": [],
   "source": [
    "raw_pick=[]\n",
    "for i in res:\n",
    "    raw_pick+=i"
   ]
  },
  {
   "cell_type": "code",
   "execution_count": 24,
   "id": "c517ebaa-3e89-4add-a9ac-cdad891f3cd6",
   "metadata": {},
   "outputs": [
    {
     "data": {
      "text/plain": [
       "4733"
      ]
     },
     "execution_count": 24,
     "metadata": {},
     "output_type": "execute_result"
    }
   ],
   "source": [
    "len(raw_pick)"
   ]
  },
  {
   "cell_type": "code",
   "execution_count": 30,
   "id": "f82af8fb-529c-4426-99c4-2af11b51f8a1",
   "metadata": {},
   "outputs": [],
   "source": [
    "client = MongoClient(username=\"hald\",password=\"mclab236\")"
   ]
  },
  {
   "cell_type": "code",
   "execution_count": 31,
   "id": "cfde33b2-f19f-4e62-a100-fea93a528d5e",
   "metadata": {},
   "outputs": [],
   "source": [
    "db = client.hald"
   ]
  },
  {
   "cell_type": "code",
   "execution_count": null,
   "id": "269eb2d8-edba-49e1-9504-84dd174b14a5",
   "metadata": {},
   "outputs": [],
   "source": []
  },
  {
   "cell_type": "code",
   "execution_count": null,
   "id": "66540388-c076-4dc8-bf81-85dcf9dff728",
   "metadata": {},
   "outputs": [],
   "source": []
  },
  {
   "cell_type": "markdown",
   "id": "4852aede-0fc5-4c2e-9578-d1c5d63412f8",
   "metadata": {
    "tags": []
   },
   "source": [
    "# pubmed_raw_pmid"
   ]
  },
  {
   "cell_type": "code",
   "execution_count": 32,
   "id": "fcf0a965-3456-4717-9b21-0f17f2810ddd",
   "metadata": {},
   "outputs": [],
   "source": [
    "collections_pubmed_raw_pmid=db.pubmed_raw_pmid"
   ]
  },
  {
   "cell_type": "code",
   "execution_count": 33,
   "id": "39f6b406-23ff-4d0b-b607-dbc2b90a6539",
   "metadata": {},
   "outputs": [],
   "source": [
    "pmids=list(collections_pubmed_raw_pmid.find())"
   ]
  },
  {
   "cell_type": "code",
   "execution_count": 34,
   "id": "fbcefe43-6cdc-40bb-bb2b-761e054ee429",
   "metadata": {},
   "outputs": [
    {
     "data": {
      "text/plain": [
       "[{'_id': ObjectId('6393476d5303aaecac1f079a'),\n",
       "  'PMID': '35796512',\n",
       "  'addtime': '20220724'},\n",
       " {'_id': ObjectId('6393476d5303aaecac1f079b'),\n",
       "  'PMID': '35796396',\n",
       "  'addtime': '20220724'}]"
      ]
     },
     "execution_count": 34,
     "metadata": {},
     "output_type": "execute_result"
    }
   ],
   "source": [
    "pmids[:2]"
   ]
  },
  {
   "cell_type": "code",
   "execution_count": 35,
   "id": "848c9030-2dfc-4f79-a6c0-267a32533af6",
   "metadata": {},
   "outputs": [],
   "source": [
    "pmid_list=[]\n",
    "for i in pmids:\n",
    "    pmid_list.append(i.get('PMID'))"
   ]
  },
  {
   "cell_type": "code",
   "execution_count": 36,
   "id": "e84e9b02-cfb9-462f-aad3-aed3f4b55ec7",
   "metadata": {},
   "outputs": [
    {
     "data": {
      "text/plain": [
       "['35796512', '35796396']"
      ]
     },
     "execution_count": 36,
     "metadata": {},
     "output_type": "execute_result"
    }
   ],
   "source": [
    "pmid_list[:2]"
   ]
  },
  {
   "cell_type": "code",
   "execution_count": 37,
   "id": "7649b387-c748-4110-b43d-119c3f4cfccc",
   "metadata": {},
   "outputs": [
    {
     "data": {
      "text/plain": [
       "292974"
      ]
     },
     "execution_count": 37,
     "metadata": {},
     "output_type": "execute_result"
    }
   ],
   "source": [
    "len(pmid_list)"
   ]
  },
  {
   "cell_type": "code",
   "execution_count": 38,
   "id": "4f4d4a46-eab1-465e-923c-e69e92c76bdd",
   "metadata": {},
   "outputs": [],
   "source": [
    "pmid_dict={}\n",
    "for i in pmids:\n",
    "    pmid_dict[i.get('PMID')]=i.get('PMID')"
   ]
  },
  {
   "cell_type": "code",
   "execution_count": 39,
   "id": "e77f6034-753b-4a29-9cab-7ac4358c8832",
   "metadata": {},
   "outputs": [
    {
     "data": {
      "text/plain": [
       "292974"
      ]
     },
     "execution_count": 39,
     "metadata": {},
     "output_type": "execute_result"
    }
   ],
   "source": [
    "len(pmid_dict)"
   ]
  },
  {
   "cell_type": "code",
   "execution_count": 40,
   "id": "9c08df05-52d3-45a8-87e6-b19c7265584b",
   "metadata": {},
   "outputs": [
    {
     "data": {
      "text/plain": [
       "4733"
      ]
     },
     "execution_count": 40,
     "metadata": {},
     "output_type": "execute_result"
    }
   ],
   "source": [
    "len(raw_pick)"
   ]
  },
  {
   "cell_type": "code",
   "execution_count": 42,
   "id": "0c09b362-a6f9-4d0a-8511-1476a61f0e67",
   "metadata": {},
   "outputs": [],
   "source": [
    "reserved_raw_pick=[]\n",
    "reserved_raw_pick_pmid=[]\n",
    "for i in raw_pick:\n",
    "    if i.get('AB'):\n",
    "        if not pmid_dict.get(i.get('PMID')):\n",
    "            i['addtime']=now_time\n",
    "            reserved_raw_pick.append(i)\n",
    "            reserved_raw_pick_pmid.append({'PMID':i.get('PMID'),'addtime':i.get('addtime')})"
   ]
  },
  {
   "cell_type": "code",
   "execution_count": 43,
   "id": "b362461f-8e73-4de1-94f0-5ecc773452e9",
   "metadata": {},
   "outputs": [
    {
     "data": {
      "text/plain": [
       "2605"
      ]
     },
     "execution_count": 43,
     "metadata": {},
     "output_type": "execute_result"
    }
   ],
   "source": [
    "len(reserved_raw_pick)"
   ]
  },
  {
   "cell_type": "code",
   "execution_count": 44,
   "id": "2b537127-c376-48fd-8797-96da1977db9e",
   "metadata": {},
   "outputs": [
    {
     "data": {
      "text/plain": [
       "<pymongo.results.InsertManyResult at 0x7f5e04fffc80>"
      ]
     },
     "execution_count": 44,
     "metadata": {},
     "output_type": "execute_result"
    }
   ],
   "source": [
    "collections_pubmed_raw_pmid.insert_many(reserved_raw_pick_pmid)"
   ]
  },
  {
   "cell_type": "code",
   "execution_count": 45,
   "id": "57c79435-622a-4de5-bf86-0d8f9386d9c4",
   "metadata": {},
   "outputs": [
    {
     "data": {
      "text/plain": [
       "295579"
      ]
     },
     "execution_count": 45,
     "metadata": {},
     "output_type": "execute_result"
    }
   ],
   "source": [
    "len(list(collections_pubmed_raw_pmid.find()))"
   ]
  },
  {
   "cell_type": "code",
   "execution_count": null,
   "id": "d9964a1f-9dde-43f0-973f-9f639f6578f4",
   "metadata": {},
   "outputs": [],
   "source": []
  },
  {
   "cell_type": "code",
   "execution_count": null,
   "id": "4fa1ceef-e3d3-4af4-acce-759851eb5e49",
   "metadata": {},
   "outputs": [],
   "source": []
  },
  {
   "cell_type": "markdown",
   "id": "8864ea6a-a71b-4135-8756-923cc795ac40",
   "metadata": {
    "tags": []
   },
   "source": [
    "# pubmed_raw (reserved_raw_pick)"
   ]
  },
  {
   "cell_type": "code",
   "execution_count": 47,
   "id": "ec92c140-aee1-42cc-8cba-d6929f788e8f",
   "metadata": {},
   "outputs": [],
   "source": [
    "collections_pubmed_raw = db.pubmed_raw"
   ]
  },
  {
   "cell_type": "code",
   "execution_count": 48,
   "id": "f9fc6e3d-7f8d-42be-bd19-78eb8a6b1a58",
   "metadata": {},
   "outputs": [
    {
     "data": {
      "text/plain": [
       "<pymongo.results.InsertManyResult at 0x7f5df94ede00>"
      ]
     },
     "execution_count": 48,
     "metadata": {},
     "output_type": "execute_result"
    }
   ],
   "source": [
    "collections_pubmed_raw.insert_many(reserved_raw_pick)"
   ]
  },
  {
   "cell_type": "code",
   "execution_count": 109,
   "id": "f0526a13-5ea6-44ee-9bdd-0bcc07787e24",
   "metadata": {},
   "outputs": [
    {
     "data": {
      "text/plain": [
       "{'PMID': '37143978',\n",
       " 'OWN': 'NLM',\n",
       " 'STAT': 'MEDLINE',\n",
       " 'DCOM': '20230508',\n",
       " 'LR': '20230508',\n",
       " 'IS': '2296-2565 (Electronic) 2296-2565 (Linking)',\n",
       " 'VI': '11',\n",
       " 'DP': '2023',\n",
       " 'TI': 'Impact of community care services on the health of older adults: evidence from China.',\n",
       " 'PG': '1160151',\n",
       " 'LID': '10.3389/fpubh.2023.1160151 [doi] 1160151',\n",
       " 'AB': 'INTRODUCTION: The rapid growth in the population of older adults has put tremendous pressure on medical and social services in countries including China. Community care services are a feasible solution for promoting healthy aging in developing countries. This study investigated the association between community care services and the health of older adults in China. METHOD: Using nationally representative survey data from China, consisting of four waves conducted in 2005, 2008, 2011, and 2014, a balanced panel dataset was constructed using a sample of 4,700 older adults (33.1% aged 80 years or older, 51.0% residing in rural areas, and 48.8% women). We employed linear regression models with time-fixed effects and instrumental variable approaches to estimate the effect of community care services on the health of older adults, as well as the differences in these effects across subgroups. RESULTS: The results showed that community care services lead to a significant improvement in both the objective and subjective health and wellbeing of older adults. Among the various service offerings, spiritual recreation services led to a significant increase in both objective and subjective health scores, while medical care services significantly improved wellbeing. This suggests a varied effect of subdivided service types. Further evidence suggests that spiritual recreation services have a significant health-enhancing effect on multiple groups of older adults, and the effect of medical care services is more effective for those living in rural areas, women, and those who are older than 80 years (all p < 0.05). DISCUSSION: Few studies have examined the impact of community care services on the health of older adults in developing countries. The findings present important implications for improving the health status of older adults and provide suggestions for establishing a socialized aged care system in China.',\n",
       " 'CI': ['Copyright (c) 2023 Ma and Shen.'],\n",
       " 'FAU': ['Ma, Wenjing', 'Shen, Zheng'],\n",
       " 'AU': ['Ma W', 'Shen Z'],\n",
       " 'AD': ['School of Economics and Trade, Henan University of Animal Husbandry and Economy, Zhengzhou, China.',\n",
       "  'School of Economics and Management, Zhejiang A&F University, Hangzhou, China.'],\n",
       " 'LA': ['eng'],\n",
       " 'PT': ['Journal Article', \"Research Support, Non-U.S. Gov't\"],\n",
       " 'DEP': '20230418',\n",
       " 'PL': 'Switzerland',\n",
       " 'TA': 'Front Public Health',\n",
       " 'JT': 'Frontiers in public health',\n",
       " 'JID': '101616579',\n",
       " 'SB': 'IM',\n",
       " 'MH': ['Humans',\n",
       "  'Female',\n",
       "  'Aged',\n",
       "  'Male',\n",
       "  '*Social Work',\n",
       "  'China/epidemiology',\n",
       "  '*Rural Population',\n",
       "  'Urban Population'],\n",
       " 'PMC': 'PMC10151748',\n",
       " 'OTO': ['NOTNLM'],\n",
       " 'OT': ['China',\n",
       "  'aging',\n",
       "  'community care services',\n",
       "  'health of older adults',\n",
       "  'health promotion'],\n",
       " 'COIS': ['The authors declare that the research was conducted in the absence of any',\n",
       "  'commercial or financial relationships that could be construed as a potential',\n",
       "  'conflict of interest.'],\n",
       " 'EDAT': '2023/05/05 06:42',\n",
       " 'MHDA': '2023/05/08 06:41',\n",
       " 'CRDT': ['2023/05/05 03:55'],\n",
       " 'PHST': ['2023/02/06 00:00 [received]',\n",
       "  '2023/03/22 00:00 [accepted]',\n",
       "  '2023/05/08 06:41 [medline]',\n",
       "  '2023/05/05 06:42 [pubmed]',\n",
       "  '2023/05/05 03:55 [entrez]'],\n",
       " 'AID': ['10.3389/fpubh.2023.1160151 [doi]'],\n",
       " 'PST': 'epublish',\n",
       " 'SO': 'Front Public Health. 2023 Apr 18;11:1160151. doi: 10.3389/fpubh.2023.1160151. eCollection 2023.',\n",
       " 'addtime': '2023_05_09',\n",
       " '_id': ObjectId('6459f20e48e9c8c060125f56')}"
      ]
     },
     "execution_count": 109,
     "metadata": {},
     "output_type": "execute_result"
    }
   ],
   "source": [
    "reserved_raw_pick[20]"
   ]
  },
  {
   "cell_type": "code",
   "execution_count": null,
   "id": "1ef186d3-a845-4769-a327-c44952466eb8",
   "metadata": {},
   "outputs": [],
   "source": []
  },
  {
   "cell_type": "code",
   "execution_count": null,
   "id": "77b91a2e-1cd7-4820-9806-cc8dcea17b81",
   "metadata": {},
   "outputs": [],
   "source": []
  },
  {
   "cell_type": "markdown",
   "id": "33eed07e-072f-497d-85b7-58c60c6b9d66",
   "metadata": {},
   "source": [
    "# pubtator_raw_pmid"
   ]
  },
  {
   "cell_type": "code",
   "execution_count": 49,
   "id": "f27868aa-b0dc-4d25-b8f6-c8e3c0f578ca",
   "metadata": {},
   "outputs": [],
   "source": [
    "collection_pubtator_raw_pmid = db.pubtator_raw_pmid"
   ]
  },
  {
   "cell_type": "code",
   "execution_count": 50,
   "id": "fd6e9eed-4a5f-4072-96e9-14b9ee2966e0",
   "metadata": {},
   "outputs": [],
   "source": [
    "previous_pubtator_pmid=list(collection_pubtator_raw_pmid.find({}))"
   ]
  },
  {
   "cell_type": "code",
   "execution_count": 51,
   "id": "a83dc342-4f16-455a-97b2-c0cb97568836",
   "metadata": {},
   "outputs": [
    {
     "data": {
      "text/plain": [
       "270644"
      ]
     },
     "execution_count": 51,
     "metadata": {},
     "output_type": "execute_result"
    }
   ],
   "source": [
    "len(previous_pubtator_pmid)"
   ]
  },
  {
   "cell_type": "code",
   "execution_count": 52,
   "id": "48c968e4-19ba-4476-a5af-5b27cd1ed023",
   "metadata": {},
   "outputs": [],
   "source": [
    "previous_pubtator_pmids_dict={}\n",
    "for i in previous_pubtator_pmid:\n",
    "    previous_pubtator_pmids_dict[i.get('PMID')]=i.get('PMID')"
   ]
  },
  {
   "cell_type": "code",
   "execution_count": 53,
   "id": "43cdf16d-dae8-4334-a0c1-fa84e1d9fff2",
   "metadata": {},
   "outputs": [],
   "source": [
    "current_pubtator_pmid=[]\n",
    "for i in raw_pick:\n",
    "    if i.get('AB'):\n",
    "        if not previous_pubtator_pmids_dict.get(i.get('PMID')):\n",
    "            i['addtime']=now_time\n",
    "            current_pubtator_pmid.append(i.get('PMID'))"
   ]
  },
  {
   "cell_type": "code",
   "execution_count": 54,
   "id": "0144b196-18f0-40f6-8d0d-da0ac27bf5bb",
   "metadata": {},
   "outputs": [
    {
     "data": {
      "text/plain": [
       "2654"
      ]
     },
     "execution_count": 54,
     "metadata": {},
     "output_type": "execute_result"
    }
   ],
   "source": [
    "len(current_pubtator_pmid)"
   ]
  },
  {
   "cell_type": "code",
   "execution_count": 55,
   "id": "6ec9bd21-3b85-4eae-8db3-280550760de4",
   "metadata": {},
   "outputs": [],
   "source": [
    "pmids_list=[]\n",
    "for i in current_pubtator_pmid:\n",
    "    pmids_list.append(i)"
   ]
  },
  {
   "cell_type": "code",
   "execution_count": 56,
   "id": "5d9aaccc-36f0-4baf-a214-752e059ea3ed",
   "metadata": {},
   "outputs": [
    {
     "data": {
      "text/plain": [
       "2654"
      ]
     },
     "execution_count": 56,
     "metadata": {},
     "output_type": "execute_result"
    }
   ],
   "source": [
    "len(pmids_list)"
   ]
  },
  {
   "cell_type": "code",
   "execution_count": 58,
   "id": "c7e835b2-6d62-44c5-b260-7c0324ed24b7",
   "metadata": {},
   "outputs": [],
   "source": [
    "def SubmitPMIDList(pmids,Format,now_time):\n",
    "\tjson = {\"pmids\": pmids}\n",
    "\tr = requests.post(\"https://www.ncbi.nlm.nih.gov/research/pubtator-api/publications/export/\"+Format , json = json)\n",
    "\tif r.status_code != 200 :\n",
    "\t\tprint (\"[Error]: HTTP code \"+ str(r.status_code))\n",
    "\telse:\n",
    "\t\twith open(now_time+'_pubtator_raw.txt','a',encoding=\"UTF-8\") as fileread:\n",
    "\t\t\tfileread.write(str(r.text.encode(\"utf-8\"),encoding=\"UTF-8\"))"
   ]
  },
  {
   "cell_type": "code",
   "execution_count": 59,
   "id": "9c3db324-6740-4ba3-a322-7a65cf5428f8",
   "metadata": {},
   "outputs": [],
   "source": [
    "import time\n",
    "pubtator_raw=[]\n",
    "for i in range(0,len(pmids_list),1000):\n",
    "    SubmitPMIDList(pmids_list[i:i+1000],'biocjson',now_time)\n",
    "    time.sleep(0.1)"
   ]
  },
  {
   "cell_type": "code",
   "execution_count": 60,
   "id": "28d8f2f7-7941-42aa-820c-2c7c9554665c",
   "metadata": {},
   "outputs": [],
   "source": [
    "ttt=open(now_time+'_pubtator_raw.txt',\"r\")"
   ]
  },
  {
   "cell_type": "code",
   "execution_count": 61,
   "id": "c0d162dd-4833-4dab-9d18-0755434ddf12",
   "metadata": {},
   "outputs": [],
   "source": [
    "overjson=[]\n",
    "for l in ttt.readlines():\n",
    "    overjson.append(l.rstrip())"
   ]
  },
  {
   "cell_type": "code",
   "execution_count": 63,
   "id": "2c1b6484-29d7-44d0-b580-68c9f6e27bc6",
   "metadata": {},
   "outputs": [
    {
     "data": {
      "text/plain": [
       "2100"
      ]
     },
     "execution_count": 63,
     "metadata": {},
     "output_type": "execute_result"
    }
   ],
   "source": [
    "len(overjson)"
   ]
  },
  {
   "cell_type": "code",
   "execution_count": 65,
   "id": "df8605a1-61b3-4289-841c-7f92fd968102",
   "metadata": {},
   "outputs": [],
   "source": [
    "pubtator_list=copy.deepcopy(overjson)"
   ]
  },
  {
   "cell_type": "code",
   "execution_count": 66,
   "id": "ead0f482-5580-41ec-a255-c4d88d8300fb",
   "metadata": {},
   "outputs": [],
   "source": [
    "pubtator_json=[]\n",
    "for i in pubtator_list:\n",
    "    pubtator_json.append(json.loads(i))"
   ]
  },
  {
   "cell_type": "code",
   "execution_count": 67,
   "id": "550e7804-8720-4546-814f-aa9bf1d210f2",
   "metadata": {},
   "outputs": [],
   "source": [
    "pubtator_pmid_list=[]\n",
    "for i in pubtator_json:\n",
    "    pubtator_pmid_list.append(i.get('id'))"
   ]
  },
  {
   "cell_type": "code",
   "execution_count": 68,
   "id": "da799ed0-2d11-4387-a246-8b5ba1742fed",
   "metadata": {},
   "outputs": [
    {
     "data": {
      "text/plain": [
       "2100"
      ]
     },
     "execution_count": 68,
     "metadata": {},
     "output_type": "execute_result"
    }
   ],
   "source": [
    "len(pubtator_pmid_list)"
   ]
  },
  {
   "cell_type": "code",
   "execution_count": 73,
   "id": "7ab8e925-e717-471a-8a75-1eea3951e54f",
   "metadata": {},
   "outputs": [
    {
     "data": {
      "text/plain": [
       "'37060077'"
      ]
     },
     "execution_count": 73,
     "metadata": {},
     "output_type": "execute_result"
    }
   ],
   "source": [
    "pubtator_pmid_list[0]"
   ]
  },
  {
   "cell_type": "code",
   "execution_count": 74,
   "id": "99fa87ea-7a17-4602-8504-a1eaa912aac5",
   "metadata": {},
   "outputs": [],
   "source": [
    "current_pubtator_pmid_list=[]\n",
    "for i in pubtator_pmid_list:\n",
    "    current_pubtator_pmid_list.append({'PMID':i,'addtime':now_time})"
   ]
  },
  {
   "cell_type": "code",
   "execution_count": 75,
   "id": "493447f3-c0a2-4766-8405-4cb048579802",
   "metadata": {},
   "outputs": [
    {
     "data": {
      "text/plain": [
       "2100"
      ]
     },
     "execution_count": 75,
     "metadata": {},
     "output_type": "execute_result"
    }
   ],
   "source": [
    "len(current_pubtator_pmid_list)"
   ]
  },
  {
   "cell_type": "code",
   "execution_count": 76,
   "id": "f4c3d354-7461-4e15-bfba-1af21c108537",
   "metadata": {},
   "outputs": [
    {
     "data": {
      "text/plain": [
       "<pymongo.results.InsertManyResult at 0x7f5df7ab1c40>"
      ]
     },
     "execution_count": 76,
     "metadata": {},
     "output_type": "execute_result"
    }
   ],
   "source": [
    "collection_pubtator_raw_pmid.insert_many(current_pubtator_pmid_list)"
   ]
  },
  {
   "cell_type": "code",
   "execution_count": null,
   "id": "10940484-51c7-42a7-a1d1-7d5e87acc14b",
   "metadata": {},
   "outputs": [],
   "source": []
  },
  {
   "cell_type": "code",
   "execution_count": null,
   "id": "bc44e976-3b3f-4ace-bd17-71e09072f7bc",
   "metadata": {},
   "outputs": [],
   "source": []
  },
  {
   "cell_type": "markdown",
   "id": "61d586ac-8eca-4513-87cb-43a3d9828335",
   "metadata": {
    "tags": []
   },
   "source": [
    "# pubtator_info  (raw_pick_pubtator)"
   ]
  },
  {
   "cell_type": "code",
   "execution_count": 77,
   "id": "eadb67da-7ce0-4b0c-a4bc-2f741c6b6b75",
   "metadata": {},
   "outputs": [],
   "source": [
    "collections_pubtator_info = db.pubtator_info"
   ]
  },
  {
   "cell_type": "code",
   "execution_count": 78,
   "id": "e882f243-92d0-4057-919f-80be6261dbc1",
   "metadata": {},
   "outputs": [],
   "source": [
    "filtered_pubtator_json=[]\n",
    "for i in pubtator_json:\n",
    "    if i.get('passages'):\n",
    "        for j in i.get('passages')[1].get('annotations'):\n",
    "            if j.get('infons'):\n",
    "                if j.get('infons').get('identifier')=='9606':\n",
    "                    filtered_pubtator_json.append(i)\n",
    "                    break"
   ]
  },
  {
   "cell_type": "code",
   "execution_count": 79,
   "id": "544beb4b-193c-4703-98bc-cd6e2852cd11",
   "metadata": {},
   "outputs": [
    {
     "data": {
      "text/plain": [
       "1597"
      ]
     },
     "execution_count": 79,
     "metadata": {},
     "output_type": "execute_result"
    }
   ],
   "source": [
    "len(filtered_pubtator_json)"
   ]
  },
  {
   "cell_type": "code",
   "execution_count": 80,
   "id": "f4e2ba11-0064-4ee2-b9d3-86511f5d8641",
   "metadata": {},
   "outputs": [],
   "source": [
    "second_filtered_pubtator_json=[]\n",
    "for i in filtered_pubtator_json:\n",
    "    if i.get('passages'):\n",
    "        for j in i.get('passages')[1].get('annotations'):\n",
    "            if j.get('infons'):\n",
    "                    if j.get('infons').get('type') in ('Gene', 'Chemical', 'Mutation','Disease') :\n",
    "                        second_filtered_pubtator_json.append(i)\n",
    "                        break"
   ]
  },
  {
   "cell_type": "code",
   "execution_count": 81,
   "id": "2234d167-f401-42a2-88b2-8d25afdbd256",
   "metadata": {},
   "outputs": [
    {
     "data": {
      "text/plain": [
       "1402"
      ]
     },
     "execution_count": 81,
     "metadata": {},
     "output_type": "execute_result"
    }
   ],
   "source": [
    "len(second_filtered_pubtator_json)"
   ]
  },
  {
   "cell_type": "code",
   "execution_count": 82,
   "id": "603952eb-83d6-4957-ae44-be22c8346b02",
   "metadata": {},
   "outputs": [],
   "source": [
    "entities_dict={}\n",
    "for i in second_filtered_pubtator_json:\n",
    "    if i.get('id'):\n",
    "        entities_list=[]\n",
    "        for j in i.get('passages')[1].get('annotations'):\n",
    "            entities_list.append(j.get('text'))\n",
    "        entities_dict[i.get('id')]=entities_list"
   ]
  },
  {
   "cell_type": "code",
   "execution_count": 83,
   "id": "e6c812c6-986c-42b2-84ce-7f415203d826",
   "metadata": {},
   "outputs": [],
   "source": [
    "second_filtered_pubtator_dict={}\n",
    "for i in second_filtered_pubtator_json:\n",
    "    if i.get('id'):\n",
    "        second_filtered_pubtator_dict[i.get('id')]=i"
   ]
  },
  {
   "cell_type": "code",
   "execution_count": 85,
   "id": "fb4d19bd-765a-4b97-8644-cd9e529d7d33",
   "metadata": {},
   "outputs": [
    {
     "data": {
      "text/plain": [
       "{'_id': '37060077|None',\n",
       " 'id': '37060077',\n",
       " 'infons': {},\n",
       " 'passages': [{'infons': {'journal': 'Environ Health;2023Apr14; 22 (1) 35. doi:10.1186/s12940-023-00986-9',\n",
       "    'year': '2023',\n",
       "    'type': 'title',\n",
       "    'authors': 'Shim JI, Byun G, Lee JT, ',\n",
       "    'section': 'Title'},\n",
       "   'offset': 0,\n",
       "   'text': \"Long-term exposure to particulate matter and risk of Alzheimer's disease and vascular dementia in Korea: a national population-based Cohort Study.\",\n",
       "   'sentences': [],\n",
       "   'annotations': [{'id': '2',\n",
       "     'infons': {'identifier': 'MESH:D000544', 'type': 'Disease'},\n",
       "     'text': \"Alzheimer's disease\",\n",
       "     'locations': [{'offset': 53, 'length': 19}]},\n",
       "    {'id': '3',\n",
       "     'infons': {'identifier': 'MESH:D015140', 'type': 'Disease'},\n",
       "     'text': 'vascular dementia',\n",
       "     'locations': [{'offset': 77, 'length': 17}]}],\n",
       "   'relations': []},\n",
       "  {'infons': {'type': 'abstract', 'section': 'Abstract'},\n",
       "   'offset': 147,\n",
       "   'text': \"BACKGROUND: The prevalence of age-related neurodegenerative diseases has risen in conjunction with an increase in life expectancy. Although there is emerging evidence that air pollution might accelerate or worsen dementia progression, studies on Asian regions remains limited. This study aimed to investigate the relationship between long-term exposure to PM10 and the risk of developing Alzheimer's disease and vascular dementia in the elderly population in South Korea. METHODS: The baseline population was 1.4 million people aged 65 years and above who participated in at least one national health checkup program from the National Health Insurance Service between 2008 and 2009. A nationwide retrospective cohort study was designed, and patients were followed from the date of cohort entry (January 1, 2008) to the date of dementia occurrence, death, moving residence, or the end of the study period (December 31, 2019), whichever came first. Long-term average PM10 exposure variable was constructed from national monitoring data considering time-dependent exposure. Extended Cox proportional hazard models with time-varying exposure were used to estimate hazard ratios (HR) for Alzheimer's disease and vascular dementia. RESULTS: A total of 1,436,361 participants were selected, of whom 167,988 were newly diagnosed with dementia (134,811 with Alzheimer's disease and 12,215 with vascular dementia). The results show that for every 10 microg/m3 increase in PM10, the HR was 0.99 (95% CI 0.98-1.00) for Alzheimer's disease and 1.05 (95% CI 1.02-1.08) for vascular dementia. Stratified analysis according to sex and age group showed that the risk of vascular dementia was higher in men and in those under 75 years of age. CONCLUSION: The results found that long-term PM10 exposure was significantly associated with the risk of developing vascular dementia but not with Alzheimer's disease. These findings suggest that the mechanism behind the PM10-dementia relationship could be linked to vascular damage.\",\n",
       "   'sentences': [],\n",
       "   'annotations': [{'id': '26',\n",
       "     'infons': {'identifier': 'MESH:D019636', 'type': 'Disease'},\n",
       "     'text': 'neurodegenerative diseases',\n",
       "     'locations': [{'offset': 189, 'length': 26}]},\n",
       "    {'id': '27',\n",
       "     'infons': {'identifier': 'MESH:D003704', 'type': 'Disease'},\n",
       "     'text': 'dementia',\n",
       "     'locations': [{'offset': 360, 'length': 8}]},\n",
       "    {'id': '28',\n",
       "     'infons': {'identifier': 'MESH:D000544', 'type': 'Disease'},\n",
       "     'text': \"Alzheimer's disease\",\n",
       "     'locations': [{'offset': 535, 'length': 19}]},\n",
       "    {'id': '29',\n",
       "     'infons': {'identifier': 'MESH:D015140', 'type': 'Disease'},\n",
       "     'text': 'vascular dementia',\n",
       "     'locations': [{'offset': 559, 'length': 17}]},\n",
       "    {'id': '30',\n",
       "     'infons': {'identifier': '9606', 'type': 'Species'},\n",
       "     'text': 'people',\n",
       "     'locations': [{'offset': 668, 'length': 6}]},\n",
       "    {'id': '31',\n",
       "     'infons': {'identifier': '9606', 'type': 'Species'},\n",
       "     'text': 'patients',\n",
       "     'locations': [{'offset': 888, 'length': 8}]},\n",
       "    {'id': '32',\n",
       "     'infons': {'identifier': 'MESH:D003704', 'type': 'Disease'},\n",
       "     'text': 'dementia',\n",
       "     'locations': [{'offset': 974, 'length': 8}]},\n",
       "    {'id': '33',\n",
       "     'infons': {'identifier': 'MESH:D003643', 'type': 'Disease'},\n",
       "     'text': 'death',\n",
       "     'locations': [{'offset': 995, 'length': 5}]},\n",
       "    {'id': '34',\n",
       "     'infons': {'identifier': 'MESH:D000544', 'type': 'Disease'},\n",
       "     'text': \"Alzheimer's disease\",\n",
       "     'locations': [{'offset': 1330, 'length': 19}]},\n",
       "    {'id': '35',\n",
       "     'infons': {'identifier': 'MESH:D015140', 'type': 'Disease'},\n",
       "     'text': 'vascular dementia',\n",
       "     'locations': [{'offset': 1354, 'length': 17}]},\n",
       "    {'id': '36',\n",
       "     'infons': {'identifier': '9606', 'type': 'Species'},\n",
       "     'text': 'participants',\n",
       "     'locations': [{'offset': 1403, 'length': 12}]},\n",
       "    {'id': '37',\n",
       "     'infons': {'identifier': 'MESH:D003704', 'type': 'Disease'},\n",
       "     'text': 'dementia',\n",
       "     'locations': [{'offset': 1473, 'length': 8}]},\n",
       "    {'id': '38',\n",
       "     'infons': {'identifier': 'MESH:D000544', 'type': 'Disease'},\n",
       "     'text': \"Alzheimer's disease\",\n",
       "     'locations': [{'offset': 1496, 'length': 19}]},\n",
       "    {'id': '39',\n",
       "     'infons': {'identifier': 'MESH:D015140', 'type': 'Disease'},\n",
       "     'text': 'vascular dementia',\n",
       "     'locations': [{'offset': 1532, 'length': 17}]},\n",
       "    {'id': '40',\n",
       "     'infons': {'identifier': 'MESH:D000544', 'type': 'Disease'},\n",
       "     'text': \"Alzheimer's disease\",\n",
       "     'locations': [{'offset': 1654, 'length': 19}]},\n",
       "    {'id': '41',\n",
       "     'infons': {'identifier': 'MESH:D015140', 'type': 'Disease'},\n",
       "     'text': 'vascular dementia',\n",
       "     'locations': [{'offset': 1706, 'length': 17}]},\n",
       "    {'id': '42',\n",
       "     'infons': {'identifier': 'MESH:D015140', 'type': 'Disease'},\n",
       "     'text': 'vascular dementia',\n",
       "     'locations': [{'offset': 1800, 'length': 17}]},\n",
       "    {'id': '43',\n",
       "     'infons': {'identifier': '9606', 'type': 'Species'},\n",
       "     'text': 'men',\n",
       "     'locations': [{'offset': 1832, 'length': 3}]},\n",
       "    {'id': '44',\n",
       "     'infons': {'identifier': 'MESH:D015140', 'type': 'Disease'},\n",
       "     'text': 'vascular dementia',\n",
       "     'locations': [{'offset': 1988, 'length': 17}]},\n",
       "    {'id': '45',\n",
       "     'infons': {'identifier': 'MESH:D000544', 'type': 'Disease'},\n",
       "     'text': \"Alzheimer's disease\",\n",
       "     'locations': [{'offset': 2019, 'length': 19}]},\n",
       "    {'id': '46',\n",
       "     'infons': {'identifier': 'MESH:D003704', 'type': 'Disease'},\n",
       "     'text': 'dementia',\n",
       "     'locations': [{'offset': 2098, 'length': 8}]},\n",
       "    {'id': '47',\n",
       "     'infons': {'identifier': 'MESH:D000783', 'type': 'Disease'},\n",
       "     'text': 'vascular damage',\n",
       "     'locations': [{'offset': 2139, 'length': 15}]}],\n",
       "   'relations': []}],\n",
       " 'relations': [],\n",
       " 'pmid': 37060077,\n",
       " 'pmcid': None,\n",
       " 'created': {'$date': 1681672494150},\n",
       " 'accessions': ['disease@MESH:D003704',\n",
       "  'disease@MESH:D003643',\n",
       "  'disease@MESH:D000783',\n",
       "  'disease@MESH:D000544',\n",
       "  'species@9606',\n",
       "  'disease@MESH:D019636',\n",
       "  'disease@MESH:D015140'],\n",
       " 'journal': 'Environ Health',\n",
       " 'year': 2023,\n",
       " 'authors': ['Shim JI', 'Byun G', 'Lee JT']}"
      ]
     },
     "execution_count": 85,
     "metadata": {},
     "output_type": "execute_result"
    }
   ],
   "source": [
    "second_filtered_pubtator_json[0]"
   ]
  },
  {
   "cell_type": "code",
   "execution_count": 86,
   "id": "b2c78c72-6d2e-4f2a-979f-0f2b2eb25d94",
   "metadata": {
    "tags": []
   },
   "outputs": [
    {
     "name": "stdout",
     "output_type": "stream",
     "text": [
      "Parent process 66008.\n",
      "Waiting for all subprocesses done...\n",
      "All subprocesses done.\n",
      "The running time is 7s\n"
     ]
    }
   ],
   "source": [
    "from nltk.tokenize import sent_tokenize\n",
    "import datetime\n",
    "import re\n",
    "from multiprocessing import Process, Manager, Pool\n",
    "import os, time, random\n",
    "def work(i,rawlength,lock):\n",
    "    info=i.get('passages')[1]\n",
    "    abstract=info.get('text')\n",
    "    sentences=sent_tokenize(abstract)\n",
    "    positions=[]\n",
    "    size=len(sentences)\n",
    "    start=0\n",
    "    for k,j in enumerate(sentences):\n",
    "        newj=j.translate(str.maketrans({\"-\":  r\"\\-\",\"\\\\\": r\"\\\\\", \"^\":  r\"\\^\",\"$\":  r\"\\$\",\"*\":  r\"\\*\",\".\":  r\"\\.\",\"(\":  r\"\\(\",\")\":  r\"\\)\",\"+\":  r\"\\+\",\"[\":  r\"\\[\",\"]\":  r\"\\]\",\n",
    "                                      \"{\":  r\"\\{\",\"}\":  r\"\\}\",\"|\":  r\"\\|\",\"?\":  r\"\\?\"}))\n",
    "        spanlist=re.search(newj,abstract,flags=re.M|re.I).span()\n",
    "        abstract=abstract[spanlist[1]:]\n",
    "        positions.append((start+spanlist[0],start+spanlist[1]))\n",
    "        start+=spanlist[1]\n",
    "    middict={'PMID':i.get('id'),'AB':info.get('text'),'SENTENCE':sentences,'positions':positions,'annotations':info.get('annotations'),'offset':info.get('offset')}\n",
    "    lock.acquire()\n",
    "    rawlength.append(middict)\n",
    "    lock.release()\n",
    "if __name__=='__main__':\n",
    "    start=datetime.datetime.now()\n",
    "    print('Parent process %s.' % os.getpid())\n",
    "    p=Pool(40)\n",
    "    manager=Manager()\n",
    "    rawlength=manager.list()\n",
    "    lock=manager.Lock()\n",
    "    for i in second_filtered_pubtator_json:\n",
    "        if i.get('passages'):\n",
    "            p.apply_async(work, args=(i,rawlength,lock))\n",
    "    print('Waiting for all subprocesses done...')\n",
    "    p.close()\n",
    "    p.join()\n",
    "    print('All subprocesses done.')\n",
    "    end=datetime.datetime.now()\n",
    "    print(\"The running time is \"+str((end-start).seconds)+\"s\")  "
   ]
  },
  {
   "cell_type": "code",
   "execution_count": 87,
   "id": "a8938397-68f1-439e-9257-ee63ffd920b3",
   "metadata": {},
   "outputs": [],
   "source": [
    "pubtators_list=list(rawlength)"
   ]
  },
  {
   "cell_type": "code",
   "execution_count": 88,
   "id": "f1eab218-25f6-4c03-abae-52ed7a2ac957",
   "metadata": {},
   "outputs": [
    {
     "data": {
      "text/plain": [
       "1402"
      ]
     },
     "execution_count": 88,
     "metadata": {},
     "output_type": "execute_result"
    }
   ],
   "source": [
    "len(pubtators_list)"
   ]
  },
  {
   "cell_type": "code",
   "execution_count": 89,
   "id": "dc205e48-7b26-448f-8642-d8a4c3b735c4",
   "metadata": {},
   "outputs": [],
   "source": [
    "pubtator_raw=[]\n",
    "error=[]\n",
    "error2=[]\n",
    "for i in pubtators_list:\n",
    "    for j in i.get('annotations'):\n",
    "        for k,l in enumerate(i.get('positions')):\n",
    "            if j.get('locations')[0].get('offset')>=l[0]+i.get('offset') and j.get('locations')[0].get('offset')<l[1]+i.get('offset'):\n",
    "                pubtator_raw.append({'id':i.get('PMID'),'AB':i.get('AB'), 'type': j.get('infons').get('type'), \\\n",
    "                                     'identifier':j.get('infons').get('identifier'),'text':j.get('text'),'sentence':i.get('SENTENCE')[k],\\\n",
    "                                     'sentenceSize':len(i.get('SENTENCE')),'sentenceIndex':k})\n",
    "                break\n",
    "        else:\n",
    "            error.append(i)\n",
    "            error2.append(j)"
   ]
  },
  {
   "cell_type": "code",
   "execution_count": 90,
   "id": "baeaae03-464a-4896-a3bd-f9c7cc0cd41f",
   "metadata": {},
   "outputs": [],
   "source": [
    "pubtator_raw_dict2AB={}\n",
    "for i in pubtator_raw:\n",
    "    pubtator_raw_dict2AB[i.get('id')]=i.get('AB')"
   ]
  },
  {
   "cell_type": "code",
   "execution_count": 91,
   "id": "a3eb45ed-1645-48b5-83a8-db6881779e5f",
   "metadata": {},
   "outputs": [
    {
     "data": {
      "text/plain": [
       "0"
      ]
     },
     "execution_count": 91,
     "metadata": {},
     "output_type": "execute_result"
    }
   ],
   "source": [
    "len(error)"
   ]
  },
  {
   "cell_type": "code",
   "execution_count": 92,
   "id": "a1c5e412-ad27-4cdd-be43-371cd5f29fbf",
   "metadata": {},
   "outputs": [
    {
     "data": {
      "text/plain": [
       "0"
      ]
     },
     "execution_count": 92,
     "metadata": {},
     "output_type": "execute_result"
    }
   ],
   "source": [
    "len(error2)"
   ]
  },
  {
   "cell_type": "code",
   "execution_count": 93,
   "id": "9bbfd873-19d0-4311-9d47-b4f27544a225",
   "metadata": {},
   "outputs": [
    {
     "data": {
      "text/plain": [
       "20195"
      ]
     },
     "execution_count": 93,
     "metadata": {},
     "output_type": "execute_result"
    }
   ],
   "source": [
    "len(pubtator_raw)"
   ]
  },
  {
   "cell_type": "code",
   "execution_count": 94,
   "id": "22e13c39-c04f-4124-b019-4912b378d5fd",
   "metadata": {},
   "outputs": [],
   "source": [
    "raw_pick_pubtator=[]\n",
    "for i in reserved_raw_pick:\n",
    "    if i.get('AB'):\n",
    "        if pubtator_raw_dict2AB.get(i.get('PMID')):\n",
    "            i.update({'AB':pubtator_raw_dict2AB.get(i.get('PMID'))})\n",
    "            raw_pick_pubtator.append(i)"
   ]
  },
  {
   "cell_type": "code",
   "execution_count": 95,
   "id": "b19713dd-29a5-4df4-90f7-8de1a14d4fd0",
   "metadata": {},
   "outputs": [
    {
     "data": {
      "text/plain": [
       "1402"
      ]
     },
     "execution_count": 95,
     "metadata": {},
     "output_type": "execute_result"
    }
   ],
   "source": [
    "len(pubtator_raw_dict2AB)"
   ]
  },
  {
   "cell_type": "code",
   "execution_count": 96,
   "id": "119179a4-7e27-4070-9186-9c2c149f5f66",
   "metadata": {},
   "outputs": [
    {
     "data": {
      "text/plain": [
       "2605"
      ]
     },
     "execution_count": 96,
     "metadata": {},
     "output_type": "execute_result"
    }
   ],
   "source": [
    "len(reserved_raw_pick)"
   ]
  },
  {
   "cell_type": "code",
   "execution_count": 97,
   "id": "9500ab27-beef-4dbe-a694-d2be94371885",
   "metadata": {},
   "outputs": [
    {
     "data": {
      "text/plain": [
       "1402"
      ]
     },
     "execution_count": 97,
     "metadata": {},
     "output_type": "execute_result"
    }
   ],
   "source": [
    "len(raw_pick_pubtator)"
   ]
  },
  {
   "cell_type": "code",
   "execution_count": 98,
   "id": "5eafc741-c398-4fd1-80bf-5f7ceb744d21",
   "metadata": {},
   "outputs": [],
   "source": [
    "for i in raw_pick_pubtator:\n",
    "    i['addtime']=now_time"
   ]
  },
  {
   "cell_type": "code",
   "execution_count": 99,
   "id": "5d2b4e92-ce33-4ca7-a149-5c8d987c79cd",
   "metadata": {},
   "outputs": [
    {
     "data": {
      "text/plain": [
       "<pymongo.results.InsertManyResult at 0x7f5dec78df80>"
      ]
     },
     "execution_count": 99,
     "metadata": {},
     "output_type": "execute_result"
    }
   ],
   "source": [
    "collections_pubtator_info.insert_many(raw_pick_pubtator)"
   ]
  },
  {
   "cell_type": "code",
   "execution_count": 100,
   "id": "3995078d-6a14-43d4-ba21-4ca386d480b7",
   "metadata": {},
   "outputs": [
    {
     "data": {
      "text/plain": [
       "175189"
      ]
     },
     "execution_count": 100,
     "metadata": {},
     "output_type": "execute_result"
    }
   ],
   "source": [
    "len(list(collections_pubtator_info.find()))"
   ]
  },
  {
   "cell_type": "code",
   "execution_count": null,
   "id": "dc6ba972-c5de-4fbf-8e56-4cb255a9b493",
   "metadata": {},
   "outputs": [],
   "source": []
  },
  {
   "cell_type": "code",
   "execution_count": null,
   "id": "a5daec66-527e-4b49-9652-7f6dd2b98fe1",
   "metadata": {},
   "outputs": [],
   "source": []
  },
  {
   "cell_type": "markdown",
   "id": "dcaf4880-e1fb-4de2-b374-59b5d76a052a",
   "metadata": {},
   "source": [
    "# pubtator_for_compare_latest (pubtator_raw)"
   ]
  },
  {
   "cell_type": "code",
   "execution_count": 101,
   "id": "d7b39150-0b9b-4f0b-97c1-42249b251cd8",
   "metadata": {},
   "outputs": [],
   "source": [
    "collections_pubtator_for_compare_latest=db.pubtator_for_compare_latest"
   ]
  },
  {
   "cell_type": "code",
   "execution_count": 102,
   "id": "35bbc752-1f21-4e66-8d35-6be34f2222d9",
   "metadata": {},
   "outputs": [],
   "source": [
    "for i in pubtator_raw:\n",
    "    i['addtime']=now_time"
   ]
  },
  {
   "cell_type": "code",
   "execution_count": 103,
   "id": "db4bca65-1e24-4bc6-b478-a1dd7c6ee9e5",
   "metadata": {},
   "outputs": [
    {
     "data": {
      "text/plain": [
       "<pymongo.results.InsertManyResult at 0x7f5dec716f80>"
      ]
     },
     "execution_count": 103,
     "metadata": {},
     "output_type": "execute_result"
    }
   ],
   "source": [
    "collections_pubtator_for_compare_latest.insert_many(pubtator_raw)"
   ]
  },
  {
   "cell_type": "code",
   "execution_count": 104,
   "id": "514a7865-cc75-4dc4-92de-a930ef3f745d",
   "metadata": {},
   "outputs": [
    {
     "data": {
      "text/plain": [
       "20195"
      ]
     },
     "execution_count": 104,
     "metadata": {},
     "output_type": "execute_result"
    }
   ],
   "source": [
    "len(pubtator_raw)"
   ]
  },
  {
   "cell_type": "code",
   "execution_count": 105,
   "id": "920bd57a-aa86-413e-8b47-4116b2bf72da",
   "metadata": {},
   "outputs": [
    {
     "data": {
      "text/plain": [
       "'/root/hald_autoupdate/2023_05_09'"
      ]
     },
     "execution_count": 105,
     "metadata": {},
     "output_type": "execute_result"
    }
   ],
   "source": [
    "pwd"
   ]
  },
  {
   "cell_type": "code",
   "execution_count": 106,
   "id": "acfd2c74-1c50-4c39-a357-e9ff7755aa2b",
   "metadata": {},
   "outputs": [],
   "source": [
    "pickle.dump(raw_pick,open('results/step1/raw_pick.pkl','wb'))\n",
    "pickle.dump(raw_pick_pubtator,open('results/step1/raw_pick_pubtator.pkl','wb'))\n",
    "pickle.dump(pubtator_raw,open('results/step1/pubtator_raw.pkl','wb'))"
   ]
  },
  {
   "cell_type": "code",
   "execution_count": 107,
   "id": "cab38b2b-c2c7-4486-be2e-fb6ff1a18893",
   "metadata": {},
   "outputs": [
    {
     "data": {
      "text/plain": [
       "{'id': '37058495',\n",
       " 'AB': \"Despite the rising global burden of stroke and its socio-economic implications, the neuroimaging predictors of subsequent cognitive impairment are still poorly understood. We address this issue by studying the relationship of white matter integrity assessed within ten days after stroke and patients' cognitive status one year after the attack. Using diffusion-weighted imaging, we apply the Tract-Based Spatial Statistics analysis and construct individual structural connectivity matrices by employing deterministic tractography. We further quantify the graph-theoretical properties of individual networks. The Tract-Based Spatial Statistic did identify lower fractional anisotropy as a predictor of cognitive status, although this effect was mostly attributable to the age-related white matter integrity decline. We further observed the effect of age propagating into other levels of analysis. Specifically, in the structural connectivity approach we identified pairs of regions significantly correlated with clinical scales, namely memory, attention, and visuospatial functions. However, none of them persisted after the age correction. Finally, the graph-theoretical measures appeared to be more robust towards the effect of age, but still were not sensitive enough to capture a relationship with clinical scales. In conclusion, the effect of age is a dominant confounder especially in older cohorts, and unless appropriately addressed, may falsely drive the results of the predictive modelling.\",\n",
       " 'type': 'Disease',\n",
       " 'identifier': 'MESH:D020521',\n",
       " 'text': 'stroke',\n",
       " 'sentence': 'Despite the rising global burden of stroke and its socio-economic implications, the neuroimaging predictors of subsequent cognitive impairment are still poorly understood.',\n",
       " 'sentenceSize': 10,\n",
       " 'sentenceIndex': 0,\n",
       " 'addtime': '2023_05_09',\n",
       " '_id': ObjectId('6459f29748e9c8c0601271a3')}"
      ]
     },
     "execution_count": 107,
     "metadata": {},
     "output_type": "execute_result"
    }
   ],
   "source": [
    "pubtator_raw[0]"
   ]
  },
  {
   "cell_type": "code",
   "execution_count": 108,
   "id": "2cbf92ca-b593-4f0b-be52-3016c2aa944b",
   "metadata": {},
   "outputs": [
    {
     "data": {
      "text/plain": [
       "'2023_05_09'"
      ]
     },
     "execution_count": 108,
     "metadata": {},
     "output_type": "execute_result"
    }
   ],
   "source": [
    "now_time"
   ]
  },
  {
   "cell_type": "code",
   "execution_count": null,
   "id": "f0aaaf8d-4b11-4ae3-aca7-7cf616e36ad2",
   "metadata": {},
   "outputs": [],
   "source": [
    "os.makedirs('results/step1/')\n",
    "os.makedirs('results/step2/')\n",
    "os.makedirs('results/step3/')\n",
    "os.makedirs('results/step4/')\n",
    "os.makedirs('results/step5/')"
   ]
  },
  {
   "cell_type": "code",
   "execution_count": null,
   "id": "808fa358-804e-480d-a67e-b2ab1be64221",
   "metadata": {},
   "outputs": [],
   "source": []
  },
  {
   "cell_type": "code",
   "execution_count": null,
   "id": "7ce95f68-c0f4-4b2d-870e-a7eb4b6e988f",
   "metadata": {},
   "outputs": [],
   "source": []
  },
  {
   "cell_type": "markdown",
   "id": "36db955c-3d31-441a-94f2-d56d27a0ddac",
   "metadata": {},
   "source": [
    "# Literature_Info.json"
   ]
  },
  {
   "cell_type": "code",
   "execution_count": 119,
   "id": "c8f350d5-5e7a-4421-93ae-bc1545a286e9",
   "metadata": {},
   "outputs": [],
   "source": [
    "pd.set_option('display.max_columns', 50)"
   ]
  },
  {
   "cell_type": "code",
   "execution_count": 120,
   "id": "f2e68375-afd5-49d1-9792-7423fa34c7a6",
   "metadata": {},
   "outputs": [],
   "source": [
    "jcr=pd.read_csv(\"../JCR/jcr2022.tsv\",sep=\"\\t\")"
   ]
  },
  {
   "cell_type": "code",
   "execution_count": 121,
   "id": "c66ba69f-c10b-4ec6-bcb1-219304ec5947",
   "metadata": {},
   "outputs": [
    {
     "data": {
      "text/plain": [
       "21430"
      ]
     },
     "execution_count": 121,
     "metadata": {},
     "output_type": "execute_result"
    }
   ],
   "source": [
    "len(jcr)"
   ]
  },
  {
   "cell_type": "code",
   "execution_count": 122,
   "id": "e3e775b2-df7d-4f12-a3b5-1210da34bfdf",
   "metadata": {},
   "outputs": [
    {
     "data": {
      "text/html": [
       "<div>\n",
       "<style scoped>\n",
       "    .dataframe tbody tr th:only-of-type {\n",
       "        vertical-align: middle;\n",
       "    }\n",
       "\n",
       "    .dataframe tbody tr th {\n",
       "        vertical-align: top;\n",
       "    }\n",
       "\n",
       "    .dataframe thead th {\n",
       "        text-align: right;\n",
       "    }\n",
       "</style>\n",
       "<table border=\"1\" class=\"dataframe\">\n",
       "  <thead>\n",
       "    <tr style=\"text-align: right;\">\n",
       "      <th></th>\n",
       "      <th>rank</th>\n",
       "      <th>journalTitle</th>\n",
       "      <th>abbrJournal</th>\n",
       "      <th>year</th>\n",
       "      <th>edition</th>\n",
       "      <th>issn</th>\n",
       "      <th>totalCites</th>\n",
       "      <th>journalImpactFactor</th>\n",
       "      <th>impactFactorWithoutJournalSelfCites</th>\n",
       "      <th>fiveYearImpactFactor</th>\n",
       "      <th>immediacyIndex</th>\n",
       "      <th>citableItems</th>\n",
       "      <th>citedHalfLife</th>\n",
       "      <th>citingHalfLife</th>\n",
       "      <th>eigenFactorScore</th>\n",
       "      <th>articleInfluenceScore</th>\n",
       "      <th>citesCurrent</th>\n",
       "      <th>articlesCurrent</th>\n",
       "      <th>selfCites</th>\n",
       "      <th>impactFactorSelfCites</th>\n",
       "      <th>originalResearch</th>\n",
       "      <th>jifPercentile</th>\n",
       "      <th>normEigenFactor</th>\n",
       "    </tr>\n",
       "  </thead>\n",
       "  <tbody>\n",
       "    <tr>\n",
       "      <th>21420</th>\n",
       "      <td>12425</td>\n",
       "      <td>AGENDA</td>\n",
       "      <td>AGENDA</td>\n",
       "      <td>2022</td>\n",
       "      <td>NaN</td>\n",
       "      <td>0002-0796</td>\n",
       "      <td>159</td>\n",
       "      <td>0.0</td>\n",
       "      <td>0.0</td>\n",
       "      <td>0.0</td>\n",
       "      <td>0.0</td>\n",
       "      <td>0</td>\n",
       "      <td>17.8</td>\n",
       "      <td>0.0</td>\n",
       "      <td>0.00005</td>\n",
       "      <td>0.114</td>\n",
       "      <td>NaN</td>\n",
       "      <td>NaN</td>\n",
       "      <td>NaN</td>\n",
       "      <td>NaN</td>\n",
       "      <td>NaN</td>\n",
       "      <td>0.0</td>\n",
       "      <td>0.01206</td>\n",
       "    </tr>\n",
       "    <tr>\n",
       "      <th>21421</th>\n",
       "      <td>12425</td>\n",
       "      <td>Abakos</td>\n",
       "      <td>ABAKOS</td>\n",
       "      <td>2022</td>\n",
       "      <td>NaN</td>\n",
       "      <td>2316-9451</td>\n",
       "      <td>7</td>\n",
       "      <td>0.0</td>\n",
       "      <td>0.0</td>\n",
       "      <td>0.0</td>\n",
       "      <td>0.0</td>\n",
       "      <td>18</td>\n",
       "      <td>0.0</td>\n",
       "      <td>10.7</td>\n",
       "      <td>0.00003</td>\n",
       "      <td>0.068</td>\n",
       "      <td>NaN</td>\n",
       "      <td>NaN</td>\n",
       "      <td>NaN</td>\n",
       "      <td>NaN</td>\n",
       "      <td>NaN</td>\n",
       "      <td>0.0</td>\n",
       "      <td>0.00733</td>\n",
       "    </tr>\n",
       "    <tr>\n",
       "      <th>21422</th>\n",
       "      <td>12425</td>\n",
       "      <td>Adalya</td>\n",
       "      <td>ADALYA</td>\n",
       "      <td>2022</td>\n",
       "      <td>NaN</td>\n",
       "      <td>1301-2746</td>\n",
       "      <td>75</td>\n",
       "      <td>0.0</td>\n",
       "      <td>0.0</td>\n",
       "      <td>0.0</td>\n",
       "      <td>0.0</td>\n",
       "      <td>19</td>\n",
       "      <td>0.0</td>\n",
       "      <td>16.2</td>\n",
       "      <td>0.00027</td>\n",
       "      <td>0.306</td>\n",
       "      <td>NaN</td>\n",
       "      <td>NaN</td>\n",
       "      <td>NaN</td>\n",
       "      <td>NaN</td>\n",
       "      <td>NaN</td>\n",
       "      <td>0.0</td>\n",
       "      <td>0.05846</td>\n",
       "    </tr>\n",
       "    <tr>\n",
       "      <th>21423</th>\n",
       "      <td>12425</td>\n",
       "      <td>Anduli</td>\n",
       "      <td>ANDULI</td>\n",
       "      <td>2022</td>\n",
       "      <td>NaN</td>\n",
       "      <td>1696-0270</td>\n",
       "      <td>35</td>\n",
       "      <td>0.0</td>\n",
       "      <td>0.0</td>\n",
       "      <td>0.0</td>\n",
       "      <td>0.0</td>\n",
       "      <td>15</td>\n",
       "      <td>0.0</td>\n",
       "      <td>14.6</td>\n",
       "      <td>0.00007</td>\n",
       "      <td>0.150</td>\n",
       "      <td>NaN</td>\n",
       "      <td>NaN</td>\n",
       "      <td>NaN</td>\n",
       "      <td>NaN</td>\n",
       "      <td>NaN</td>\n",
       "      <td>0.0</td>\n",
       "      <td>0.01555</td>\n",
       "    </tr>\n",
       "    <tr>\n",
       "      <th>21424</th>\n",
       "      <td>12425</td>\n",
       "      <td>Anemia</td>\n",
       "      <td>ANEMIA</td>\n",
       "      <td>2022</td>\n",
       "      <td>NaN</td>\n",
       "      <td>2090-1267</td>\n",
       "      <td>502</td>\n",
       "      <td>0.0</td>\n",
       "      <td>0.0</td>\n",
       "      <td>0.0</td>\n",
       "      <td>0.0</td>\n",
       "      <td>14</td>\n",
       "      <td>7.3</td>\n",
       "      <td>7.7</td>\n",
       "      <td>0.00030</td>\n",
       "      <td>0.550</td>\n",
       "      <td>NaN</td>\n",
       "      <td>NaN</td>\n",
       "      <td>NaN</td>\n",
       "      <td>NaN</td>\n",
       "      <td>NaN</td>\n",
       "      <td>0.0</td>\n",
       "      <td>0.06589</td>\n",
       "    </tr>\n",
       "    <tr>\n",
       "      <th>21425</th>\n",
       "      <td>12425</td>\n",
       "      <td>Appeal</td>\n",
       "      <td>APPEAL</td>\n",
       "      <td>2022</td>\n",
       "      <td>NaN</td>\n",
       "      <td>1205-612X</td>\n",
       "      <td>56</td>\n",
       "      <td>0.0</td>\n",
       "      <td>0.0</td>\n",
       "      <td>0.0</td>\n",
       "      <td>0.0</td>\n",
       "      <td>6</td>\n",
       "      <td>0.0</td>\n",
       "      <td>4.8</td>\n",
       "      <td>0.00019</td>\n",
       "      <td>0.550</td>\n",
       "      <td>NaN</td>\n",
       "      <td>NaN</td>\n",
       "      <td>NaN</td>\n",
       "      <td>NaN</td>\n",
       "      <td>NaN</td>\n",
       "      <td>0.0</td>\n",
       "      <td>0.04134</td>\n",
       "    </tr>\n",
       "    <tr>\n",
       "      <th>21426</th>\n",
       "      <td>12425</td>\n",
       "      <td>Atenas</td>\n",
       "      <td>ATENAS</td>\n",
       "      <td>2022</td>\n",
       "      <td>NaN</td>\n",
       "      <td>1682-2749</td>\n",
       "      <td>60</td>\n",
       "      <td>0.0</td>\n",
       "      <td>0.0</td>\n",
       "      <td>0.0</td>\n",
       "      <td>0.0</td>\n",
       "      <td>0</td>\n",
       "      <td>0.0</td>\n",
       "      <td>0.0</td>\n",
       "      <td>0.00007</td>\n",
       "      <td>0.034</td>\n",
       "      <td>NaN</td>\n",
       "      <td>NaN</td>\n",
       "      <td>NaN</td>\n",
       "      <td>NaN</td>\n",
       "      <td>NaN</td>\n",
       "      <td>0.0</td>\n",
       "      <td>0.01561</td>\n",
       "    </tr>\n",
       "    <tr>\n",
       "      <th>21427</th>\n",
       "      <td>12425</td>\n",
       "      <td>Atenea</td>\n",
       "      <td>ATENEA-CONCEPC</td>\n",
       "      <td>2022</td>\n",
       "      <td>NaN</td>\n",
       "      <td>0718-0462</td>\n",
       "      <td>105</td>\n",
       "      <td>0.0</td>\n",
       "      <td>0.0</td>\n",
       "      <td>0.0</td>\n",
       "      <td>0.0</td>\n",
       "      <td>35</td>\n",
       "      <td>8.8</td>\n",
       "      <td>15.8</td>\n",
       "      <td>0.00034</td>\n",
       "      <td>0.281</td>\n",
       "      <td>NaN</td>\n",
       "      <td>NaN</td>\n",
       "      <td>NaN</td>\n",
       "      <td>NaN</td>\n",
       "      <td>NaN</td>\n",
       "      <td>0.0</td>\n",
       "      <td>0.07463</td>\n",
       "    </tr>\n",
       "    <tr>\n",
       "      <th>21428</th>\n",
       "      <td>12425</td>\n",
       "      <td>AusArt</td>\n",
       "      <td>AUSART</td>\n",
       "      <td>2022</td>\n",
       "      <td>NaN</td>\n",
       "      <td>2340-9134</td>\n",
       "      <td>13</td>\n",
       "      <td>0.0</td>\n",
       "      <td>0.0</td>\n",
       "      <td>0.0</td>\n",
       "      <td>0.0</td>\n",
       "      <td>32</td>\n",
       "      <td>0.0</td>\n",
       "      <td>11.8</td>\n",
       "      <td>0.00002</td>\n",
       "      <td>0.017</td>\n",
       "      <td>NaN</td>\n",
       "      <td>NaN</td>\n",
       "      <td>NaN</td>\n",
       "      <td>NaN</td>\n",
       "      <td>NaN</td>\n",
       "      <td>0.0</td>\n",
       "      <td>0.00594</td>\n",
       "    </tr>\n",
       "  </tbody>\n",
       "</table>\n",
       "</div>"
      ],
      "text/plain": [
       "        rank journalTitle     abbrJournal  year  edition       issn  \\\n",
       "21420  12425       AGENDA          AGENDA  2022      NaN  0002-0796   \n",
       "21421  12425       Abakos          ABAKOS  2022      NaN  2316-9451   \n",
       "21422  12425       Adalya          ADALYA  2022      NaN  1301-2746   \n",
       "21423  12425       Anduli          ANDULI  2022      NaN  1696-0270   \n",
       "21424  12425       Anemia          ANEMIA  2022      NaN  2090-1267   \n",
       "21425  12425       Appeal          APPEAL  2022      NaN  1205-612X   \n",
       "21426  12425       Atenas          ATENAS  2022      NaN  1682-2749   \n",
       "21427  12425       Atenea  ATENEA-CONCEPC  2022      NaN  0718-0462   \n",
       "21428  12425       AusArt          AUSART  2022      NaN  2340-9134   \n",
       "\n",
       "       totalCites  journalImpactFactor  impactFactorWithoutJournalSelfCites  \\\n",
       "21420         159                  0.0                                  0.0   \n",
       "21421           7                  0.0                                  0.0   \n",
       "21422          75                  0.0                                  0.0   \n",
       "21423          35                  0.0                                  0.0   \n",
       "21424         502                  0.0                                  0.0   \n",
       "21425          56                  0.0                                  0.0   \n",
       "21426          60                  0.0                                  0.0   \n",
       "21427         105                  0.0                                  0.0   \n",
       "21428          13                  0.0                                  0.0   \n",
       "\n",
       "       fiveYearImpactFactor  immediacyIndex  citableItems  citedHalfLife  \\\n",
       "21420                   0.0             0.0             0           17.8   \n",
       "21421                   0.0             0.0            18            0.0   \n",
       "21422                   0.0             0.0            19            0.0   \n",
       "21423                   0.0             0.0            15            0.0   \n",
       "21424                   0.0             0.0            14            7.3   \n",
       "21425                   0.0             0.0             6            0.0   \n",
       "21426                   0.0             0.0             0            0.0   \n",
       "21427                   0.0             0.0            35            8.8   \n",
       "21428                   0.0             0.0            32            0.0   \n",
       "\n",
       "       citingHalfLife  eigenFactorScore  articleInfluenceScore  citesCurrent  \\\n",
       "21420             0.0           0.00005                  0.114           NaN   \n",
       "21421            10.7           0.00003                  0.068           NaN   \n",
       "21422            16.2           0.00027                  0.306           NaN   \n",
       "21423            14.6           0.00007                  0.150           NaN   \n",
       "21424             7.7           0.00030                  0.550           NaN   \n",
       "21425             4.8           0.00019                  0.550           NaN   \n",
       "21426             0.0           0.00007                  0.034           NaN   \n",
       "21427            15.8           0.00034                  0.281           NaN   \n",
       "21428            11.8           0.00002                  0.017           NaN   \n",
       "\n",
       "       articlesCurrent  selfCites  impactFactorSelfCites  originalResearch  \\\n",
       "21420              NaN        NaN                    NaN               NaN   \n",
       "21421              NaN        NaN                    NaN               NaN   \n",
       "21422              NaN        NaN                    NaN               NaN   \n",
       "21423              NaN        NaN                    NaN               NaN   \n",
       "21424              NaN        NaN                    NaN               NaN   \n",
       "21425              NaN        NaN                    NaN               NaN   \n",
       "21426              NaN        NaN                    NaN               NaN   \n",
       "21427              NaN        NaN                    NaN               NaN   \n",
       "21428              NaN        NaN                    NaN               NaN   \n",
       "\n",
       "       jifPercentile  normEigenFactor  \n",
       "21420            0.0          0.01206  \n",
       "21421            0.0          0.00733  \n",
       "21422            0.0          0.05846  \n",
       "21423            0.0          0.01555  \n",
       "21424            0.0          0.06589  \n",
       "21425            0.0          0.04134  \n",
       "21426            0.0          0.01561  \n",
       "21427            0.0          0.07463  \n",
       "21428            0.0          0.00594  "
      ]
     },
     "execution_count": 122,
     "metadata": {},
     "output_type": "execute_result"
    }
   ],
   "source": [
    "jcr[-10:-1]"
   ]
  },
  {
   "cell_type": "code",
   "execution_count": 123,
   "id": "521cc05d-1c7b-4314-8951-33b1491bbb1e",
   "metadata": {},
   "outputs": [],
   "source": [
    "jt2if_all={}\n",
    "for i in range(len(jcr)):\n",
    "    if jt2if_all.get(jcr.iloc[i,1].lower()):\n",
    "        if jt2if_all.get(jcr.iloc[i,1].lower())==0.0:\n",
    "            jt2if_all[jcr.iloc[i,1].lower()]=jcr.iloc[i,7]\n",
    "    else:\n",
    "        jt2if_all[jcr.iloc[i,1].lower()]=jcr.iloc[i,7]\n",
    "jt2if_all['aging']=jt2if_all.get('aging-us')"
   ]
  },
  {
   "cell_type": "code",
   "execution_count": 124,
   "id": "54b58848-b27c-40d7-9cae-1ad64bfe6ea5",
   "metadata": {},
   "outputs": [],
   "source": [
    "jt2if_brief={}\n",
    "for i in range(len(jcr)):\n",
    "    if jt2if_brief.get(jcr.iloc[i,2].lower()):\n",
    "        if jt2if_brief.get(jcr.iloc[i,2].lower())==0.0:\n",
    "            jt2if_brief[jcr.iloc[i,2].lower()]=jcr.iloc[i,7]\n",
    "    else:\n",
    "        jt2if_brief[jcr.iloc[i,2].lower()]=jcr.iloc[i,7]\n",
    "jt2if_brief['aging']=jt2if_brief.get('aging-us')"
   ]
  },
  {
   "cell_type": "code",
   "execution_count": 125,
   "id": "48bc26b4-9c9c-46f0-a5ff-1443d6a02bbf",
   "metadata": {},
   "outputs": [
    {
     "data": {
      "text/plain": [
       "[('ca-cancer j clin', 286.13), ('lancet', 202.731)]"
      ]
     },
     "execution_count": 125,
     "metadata": {},
     "output_type": "execute_result"
    }
   ],
   "source": [
    "list(jt2if_brief.items())[:2]"
   ]
  },
  {
   "cell_type": "code",
   "execution_count": 126,
   "id": "7825fdec-38a8-4132-9609-f41e4d444ea7",
   "metadata": {},
   "outputs": [
    {
     "data": {
      "text/plain": [
       "21429"
      ]
     },
     "execution_count": 126,
     "metadata": {},
     "output_type": "execute_result"
    }
   ],
   "source": [
    "len(jt2if_brief)"
   ]
  },
  {
   "cell_type": "code",
   "execution_count": 127,
   "id": "3e22b71d-3079-45f3-9e0d-22b435d39564",
   "metadata": {},
   "outputs": [],
   "source": [
    "jt2if5_all={}\n",
    "for i in range(len(jcr)):\n",
    "    if jt2if5_all.get(jcr.iloc[i,1].lower()):\n",
    "        if jt2if5_all.get(jcr.iloc[i,1].lower())==0.0:\n",
    "            jt2if5_all[jcr.iloc[i,1].lower()]=jcr.iloc[i,7]\n",
    "    else:\n",
    "        jt2if5_all[jcr.iloc[i,1].lower()]=jcr.iloc[i,9]\n",
    "jt2if5_all['aging']=jt2if5_all.get('aging-us')"
   ]
  },
  {
   "cell_type": "code",
   "execution_count": 128,
   "id": "86eea10a-5dd4-4a13-9db9-fcc18259926b",
   "metadata": {},
   "outputs": [],
   "source": [
    "jt2if5_brief={}\n",
    "for i in range(len(jcr)):\n",
    "    if jt2if5_brief.get(jcr.iloc[i,2].lower()):\n",
    "        if jt2if5_brief.get(jcr.iloc[i,2].lower())==0.0:\n",
    "            jt2if5_brief[jcr.iloc[i,2].lower()]=jcr.iloc[i,7]\n",
    "    else:\n",
    "        jt2if5_brief[jcr.iloc[i,2].lower()]=jcr.iloc[i,9]\n",
    "jt2if5_brief['aging']=jt2if5_brief.get('aging-us')"
   ]
  },
  {
   "cell_type": "code",
   "execution_count": 114,
   "id": "ffcdd7da-c81b-4379-9380-8fb8227f8563",
   "metadata": {},
   "outputs": [],
   "source": [
    "Literature_Info_list=list(collections_pubmed_raw.find())"
   ]
  },
  {
   "cell_type": "code",
   "execution_count": 115,
   "id": "b5cb2963-fcbe-4690-bc0e-0431e199435e",
   "metadata": {},
   "outputs": [
    {
     "data": {
      "text/plain": [
       "295579"
      ]
     },
     "execution_count": 115,
     "metadata": {},
     "output_type": "execute_result"
    }
   ],
   "source": [
    "len(Literature_Info_list)"
   ]
  },
  {
   "cell_type": "code",
   "execution_count": 129,
   "id": "74e2f954-1490-47ea-935d-37a7830bd2e6",
   "metadata": {},
   "outputs": [],
   "source": [
    "Literature_Info_dict={}\n",
    "for i in Literature_Info_list:\n",
    "    if jt2if_brief.get(i.get('TA').lower()):\n",
    "        i['IF']=jt2if_brief.get(i.get('TA').lower())\n",
    "    elif jt2if_all.get(i.get('JT').lower()):\n",
    "        i['IF']=jt2if_all.get(i.get('JT').lower())\n",
    "    else:\n",
    "        i['IF']=0.0\n",
    "    if jt2if5_brief.get(i.get('TA').lower()):\n",
    "        i['IF5']=jt2if5_brief.get(i.get('TA').lower())\n",
    "    elif jt2if5_all.get(i.get('JT').lower()):\n",
    "        i['IF5']=jt2if5_all.get(i.get('JT').lower())\n",
    "    else:\n",
    "        i['IF5']=0.0\n",
    "    Literature_Info_dict[i.get('PMID')]={\n",
    "    'PMID':i.get('PMID'),\n",
    "        'TI':i.get('TI'),\n",
    "        'AB':i.get('AB'),\n",
    "        'IF':i.get('IF'),\n",
    "        'IF5':i.get('IF5'),\n",
    "        'AU':i.get('AU'),\n",
    "        'FAU':i.get('FAU'),\n",
    "        'AD':i.get('AD'),\n",
    "        'PT':i.get('PT'),\n",
    "        'DP':i.get('DP'),\n",
    "        'PL':i.get('PL'),\n",
    "        'JT':i.get('JT'),\n",
    "        'TA':i.get('TA'),\n",
    "        'SO':i.get('SO')\n",
    "    }"
   ]
  },
  {
   "cell_type": "code",
   "execution_count": 130,
   "id": "11acf99d-8318-42d3-b05b-945d8edea03c",
   "metadata": {},
   "outputs": [
    {
     "data": {
      "text/plain": [
       "('35795148',\n",
       " {'PMID': '35795148',\n",
       "  'TI': 'Sirtuin 1 in Chronic Kidney Disease and Therapeutic Potential of Targeting Sirtuin 1.',\n",
       "  'AB': 'The incidence and prevalence of chronic kidney disease (CKD) continue to increase worldwide remaining as a major public health burden. CKD eventually progresses to end-stage kidney failure and patients with CKD have high morbidity and mortality. Sirtuin 1 (SIRT1), a NAD+-dependent deacetylases, has significant renal protective effects through its regulation of fibrosis, apoptosis, and senescence, oxidative stress, inflammation and aging process. The renal protective effects of Sirt1 have been described in many kidney diseases such as diabetic kidney disease and HIV-related kidney disease. SIRT1 also has protective effects against vascular calcification and therefore could be developed as a therapy for both CKD and CKD complications. In this narrative review, we will give an overview of the recent progress on the role of SIRT1 and its downstream pathways in CKD. We will also discuss potential therapeutic approach by activating SIRT1-related pathway in patients with CKD. The purpose is to hope to provide some insights on the future direction of the research in the field of SIRT1 for CKD.',\n",
       "  'IF': 6.055,\n",
       "  'IF5': 6.335,\n",
       "  'AU': ['Yan J', 'Wang J', 'He JC', 'Zhong Y'],\n",
       "  'FAU': ['Yan, Jiayi', 'Wang, Jue', 'He, John Cijiang', 'Zhong, Yifei'],\n",
       "  'AD': ['Division of Nephrology, Longhua Hospital, Shanghai University of Traditional Chinese Medicine, Shanghai, China.',\n",
       "   'Division of Nephrology, Longhua Hospital, Shanghai University of Traditional Chinese Medicine, Shanghai, China.',\n",
       "   'Department of Medicine, Division of Nephrology, Icahn School of Medicine at Mount Sinai, New York, NY, United States.',\n",
       "   'Division of Nephrology, Longhua Hospital, Shanghai University of Traditional Chinese Medicine, Shanghai, China.'],\n",
       "  'PT': ['Journal Article', 'Review'],\n",
       "  'DP': '2022',\n",
       "  'PL': 'Switzerland',\n",
       "  'JT': 'Frontiers in endocrinology',\n",
       "  'TA': 'Front Endocrinol (Lausanne)',\n",
       "  'SO': 'Front Endocrinol (Lausanne). 2022 Jun 20;13:917773. doi: 10.3389/fendo.2022.917773. eCollection 2022.'})"
      ]
     },
     "execution_count": 130,
     "metadata": {},
     "output_type": "execute_result"
    }
   ],
   "source": [
    "list(Literature_Info_dict.items())[10]"
   ]
  },
  {
   "cell_type": "code",
   "execution_count": 131,
   "id": "b6c4c445-e5a3-46a0-8e8e-6c9624121b19",
   "metadata": {},
   "outputs": [],
   "source": [
    "json.dump(Literature_Info_dict,open('results/step5/Literature_Info.json','w'))"
   ]
  },
  {
   "cell_type": "code",
   "execution_count": null,
   "id": "fdb0ecb0-d792-4422-8110-c080b3702873",
   "metadata": {},
   "outputs": [],
   "source": []
  }
 ],
 "metadata": {
  "kernelspec": {
   "display_name": "hald",
   "language": "python",
   "name": "hald"
  },
  "language_info": {
   "codemirror_mode": {
    "name": "ipython",
    "version": 3
   },
   "file_extension": ".py",
   "mimetype": "text/x-python",
   "name": "python",
   "nbconvert_exporter": "python",
   "pygments_lexer": "ipython3",
   "version": "3.8.15"
  }
 },
 "nbformat": 4,
 "nbformat_minor": 5
}
