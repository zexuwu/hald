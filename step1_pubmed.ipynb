{
 "cells": [
  {
   "cell_type": "markdown",
   "id": "a50f6d8f-8271-4181-9103-f37433d217c7",
   "metadata": {},
   "source": [
    "# 2022-12-09运行"
   ]
  },
  {
   "cell_type": "markdown",
   "id": "871c6eaa-c579-414f-aca4-bf9d64843bea",
   "metadata": {},
   "source": [
    "2022-07-24运行"
   ]
  },
  {
   "cell_type": "code",
   "execution_count": 1,
   "id": "91c37b96-e055-41b8-92d0-4caea4a7aa3f",
   "metadata": {},
   "outputs": [],
   "source": [
    "from Bio import Medline\n",
    "from Bio import Entrez #Entrez查询\n",
    "import pickle\n",
    "Entrez.email=\"357610983@qq.com\""
   ]
  },
  {
   "cell_type": "code",
   "execution_count": 2,
   "id": "c57fd014-a0d2-46e3-be76-16252e8933cb",
   "metadata": {},
   "outputs": [],
   "source": [
    "import time\n",
    "import datetime"
   ]
  },
  {
   "cell_type": "code",
   "execution_count": 3,
   "id": "b61c5433-3e44-48d6-b199-e51944c0032b",
   "metadata": {},
   "outputs": [],
   "source": [
    "now=datetime.datetime.now()"
   ]
  },
  {
   "cell_type": "code",
   "execution_count": 4,
   "id": "bc609523-b1f4-485b-81a0-a5e8235d2203",
   "metadata": {},
   "outputs": [],
   "source": [
    "nowtime=now.strftime('%Y/%m/%d')"
   ]
  },
  {
   "cell_type": "code",
   "execution_count": 5,
   "id": "aa47f043-0c33-4e53-8034-cce06871b5ce",
   "metadata": {},
   "outputs": [],
   "source": [
    "now_time=now.strftime('%Y_%m_%d')"
   ]
  },
  {
   "cell_type": "code",
   "execution_count": 6,
   "id": "3af250f7-0f82-46b3-8c7a-5068607e69b6",
   "metadata": {},
   "outputs": [
    {
     "name": "stdout",
     "output_type": "stream",
     "text": [
      "2023_03_14\n"
     ]
    }
   ],
   "source": [
    "print(now_time)"
   ]
  },
  {
   "cell_type": "code",
   "execution_count": 7,
   "id": "44d05fc2-710a-4d0e-b001-a1b1cd382a8a",
   "metadata": {},
   "outputs": [],
   "source": [
    "time_without_day=now.strftime('%Y/%m')"
   ]
  },
  {
   "cell_type": "code",
   "execution_count": 8,
   "id": "99b91fa8-c1a3-494e-9a20-29a1e8e2ba75",
   "metadata": {},
   "outputs": [
    {
     "data": {
      "text/plain": [
       "'2023/03'"
      ]
     },
     "execution_count": 8,
     "metadata": {},
     "output_type": "execute_result"
    }
   ],
   "source": [
    "time_without_day"
   ]
  },
  {
   "cell_type": "code",
   "execution_count": 9,
   "id": "97a8ce56-6e8f-4a87-98a8-af03eb902e88",
   "metadata": {},
   "outputs": [],
   "source": [
    "### today 2022_07 FORMAT\n",
    "### now.strftime('%Y_%m')"
   ]
  },
  {
   "cell_type": "code",
   "execution_count": 10,
   "id": "ded582b0-14e5-4af4-8de9-ded4bc3e996c",
   "metadata": {},
   "outputs": [],
   "source": [
    "### 2022/07/30 FORMAT\n",
    "def cal_time(time):\n",
    "    time = time.split('/')\n",
    "    year = int(time[0])\n",
    "    month = int(time[1]) - 3\n",
    "    day = int(time[2])\n",
    "    # 防止月份出界\n",
    "    if month < 1:\n",
    "        month = 12\n",
    "        year -= 1\n",
    "    time = datetime.datetime(year=year, month=month, day=1).strftime('%Y/%m/%d')\n",
    "    return time"
   ]
  },
  {
   "cell_type": "code",
   "execution_count": 11,
   "id": "cccd7b8f-720c-4dc6-98f2-cba7171e339c",
   "metadata": {},
   "outputs": [],
   "source": [
    "### 2022_07_30 FORMAT\n",
    "def cal_time2(time):\n",
    "    time = time.split('/')\n",
    "    year = int(time[0])\n",
    "    month = int(time[1]) - 3\n",
    "    day = int(time[2])\n",
    "    # 防止月份出界\n",
    "    if month < 1:\n",
    "        month = 12\n",
    "        year -= 1\n",
    "    time = datetime.datetime(year=year, month=month, day=1).strftime('%Y_%m_%d')\n",
    "    return time"
   ]
  },
  {
   "cell_type": "code",
   "execution_count": 12,
   "id": "a0798202-4829-47e5-8e5e-be24f675e1aa",
   "metadata": {},
   "outputs": [],
   "source": [
    "### 2022_07 FORMAT\n",
    "def cal_time3(time):\n",
    "    time = time.split('/')\n",
    "    year = int(time[0])\n",
    "    month = int(time[1]) - 3\n",
    "    day = int(time[2])\n",
    "    # 防止月份出界\n",
    "    if month < 1:\n",
    "        month = 12\n",
    "        year -= 1\n",
    "    time = datetime.datetime(year=year, month=month, day=1).strftime('%Y_%m')\n",
    "    return time"
   ]
  },
  {
   "cell_type": "code",
   "execution_count": 13,
   "id": "9046f96f-d5c0-41b9-ba51-17c220244c85",
   "metadata": {},
   "outputs": [],
   "source": [
    "former_time=cal_time(nowtime)"
   ]
  },
  {
   "cell_type": "code",
   "execution_count": 14,
   "id": "19884ae1-41ab-480c-beff-08c0fdda5c6b",
   "metadata": {},
   "outputs": [
    {
     "data": {
      "text/plain": [
       "'2022/12/01'"
      ]
     },
     "execution_count": 14,
     "metadata": {},
     "output_type": "execute_result"
    }
   ],
   "source": [
    "former_time"
   ]
  },
  {
   "cell_type": "code",
   "execution_count": 17,
   "id": "75debdbe-3e9b-4f44-b4a5-6c40dde7e461",
   "metadata": {},
   "outputs": [],
   "source": [
    "# former_time='2022/09/01'"
   ]
  },
  {
   "cell_type": "code",
   "execution_count": 18,
   "id": "f2a5cfaf-532f-4e12-bc8f-a42f0b887026",
   "metadata": {},
   "outputs": [
    {
     "name": "stdout",
     "output_type": "stream",
     "text": [
      "9898\n"
     ]
    }
   ],
   "source": [
    "terms='(\"aging\"[Title/Abstract] OR \"ageing\"[Title/Abstract] OR \"longevity\"[Title/Abstract] OR \"centenarian\"[Title/Abstract] OR \"centenarians\"[Title/Abstract] \\\n",
    "OR \"the elderly\"[Title/Abstract] OR \"the aged\"[Title/Abstract] OR \"old people\"[Title/Abstract] OR \"older people\"[Title/Abstract] OR \"old age\"[Title/Abstract]  AND \\\n",
    "Journal Article[ptyp] AND \"humans\"[MeSH Terms] AND English[lang] AND (\"'+str(former_time)+'\"[Date - Publication] : \"3000\"[Date - Publication]))'\n",
    "handle_0 = Entrez.esearch(db=\"pubmed\", term=terms,retmax=1000000)\n",
    "record = Entrez.read(handle_0)\n",
    "idlist = record[\"IdList\"]\n",
    "No_Papers = len(idlist)\n",
    "print(No_Papers) # 共213篇文献 2019-10-30"
   ]
  },
  {
   "cell_type": "code",
   "execution_count": 19,
   "id": "2bf1b4a9-531e-4d91-9f1c-ade9fdd943bd",
   "metadata": {},
   "outputs": [
    {
     "name": "stdout",
     "output_type": "stream",
     "text": [
      "11\n",
      "HTTP/1.1\n"
     ]
    }
   ],
   "source": [
    "import http.client\n",
    "print(http.client.HTTPConnection._http_vsn)\n",
    "print(http.client.HTTPConnection._http_vsn_str)"
   ]
  },
  {
   "cell_type": "markdown",
   "id": "0ab8cb82-13d6-4acc-ac2e-0916dbff1b5c",
   "metadata": {},
   "source": [
    "import http.client\n",
    "http.client.HTTPConnection._http_vsn = 10\n",
    "http.client.HTTPConnection._http_vsn_str = 'HTTP/1.0'"
   ]
  },
  {
   "cell_type": "markdown",
   "id": "40327dc7-bd9e-469b-9249-300883749508",
   "metadata": {},
   "source": [
    "尝试了retmax与retstart组合，连接会中断；尝试了step为10000，有两个下载不完整，故采用5000的方法。"
   ]
  },
  {
   "cell_type": "code",
   "execution_count": 20,
   "id": "88ac97ee-e5bc-4c18-bdfe-f20bab6e51d4",
   "metadata": {},
   "outputs": [],
   "source": [
    "import time"
   ]
  },
  {
   "cell_type": "code",
   "execution_count": 21,
   "id": "f6bf41e9-adfa-4548-8b0b-ce295ca88a65",
   "metadata": {},
   "outputs": [
    {
     "data": {
      "text/plain": [
       "9898"
      ]
     },
     "execution_count": 21,
     "metadata": {},
     "output_type": "execute_result"
    }
   ],
   "source": [
    "len(idlist)"
   ]
  },
  {
   "cell_type": "code",
   "execution_count": 22,
   "id": "7504b34c-1f2f-4ced-8ec4-fe54a568be73",
   "metadata": {},
   "outputs": [
    {
     "data": {
      "text/plain": [
       "9898"
      ]
     },
     "execution_count": 22,
     "metadata": {},
     "output_type": "execute_result"
    }
   ],
   "source": [
    "len(set(idlist))"
   ]
  },
  {
   "cell_type": "code",
   "execution_count": 23,
   "id": "89975e1e-7c26-42c8-a52c-13791a337872",
   "metadata": {},
   "outputs": [
    {
     "data": {
      "text/plain": [
       "'36896533'"
      ]
     },
     "execution_count": 23,
     "metadata": {},
     "output_type": "execute_result"
    }
   ],
   "source": [
    "idlist[0]"
   ]
  },
  {
   "cell_type": "code",
   "execution_count": 24,
   "id": "6b807d21-20a8-4043-8956-e70b51c2af30",
   "metadata": {},
   "outputs": [],
   "source": [
    "res=[]\n",
    "for i in range(0,len(idlist),10000):\n",
    "    id=idlist[i:i+10000]\n",
    "    handle_1 = Entrez.efetch(db=\"pubmed\", id=id, rettype=\"medline\",retmode=\"text\")\n",
    "    records = Medline.parse(handle_1)\n",
    "    res.append(list(records))\n",
    "    # print(\"%i of records have been completed\" % end)"
   ]
  },
  {
   "cell_type": "markdown",
   "id": "9b758f9c-7be6-4762-96a2-ff07c15997d9",
   "metadata": {},
   "source": [
    "import http.client\n",
    "http.client.HTTPConnection._http_vsn = 11\n",
    "http.client.HTTPConnection._http_vsn_str = 'HTTP/1.1'"
   ]
  },
  {
   "cell_type": "code",
   "execution_count": 25,
   "id": "6a12ed16-787e-4a00-a5e1-089ca4ec7544",
   "metadata": {},
   "outputs": [],
   "source": [
    "raw_pick=[]\n",
    "for i in res:\n",
    "    raw_pick+=i"
   ]
  },
  {
   "cell_type": "code",
   "execution_count": 26,
   "id": "c517ebaa-3e89-4add-a9ac-cdad891f3cd6",
   "metadata": {},
   "outputs": [
    {
     "data": {
      "text/plain": [
       "9898"
      ]
     },
     "execution_count": 26,
     "metadata": {},
     "output_type": "execute_result"
    }
   ],
   "source": [
    "len(raw_pick)"
   ]
  },
  {
   "cell_type": "markdown",
   "id": "a1069a41-06c3-4966-9feb-b3cc14d53cd2",
   "metadata": {},
   "source": [
    "raw_pick=pickle.load(open('raw_pick.pkl','rb'))"
   ]
  },
  {
   "cell_type": "code",
   "execution_count": 27,
   "id": "2916dd67-23ff-4200-b20f-d60522c02db8",
   "metadata": {},
   "outputs": [],
   "source": [
    "import pickle"
   ]
  },
  {
   "cell_type": "code",
   "execution_count": 28,
   "id": "25b3bb01-84fb-4478-b866-d0f4fe817460",
   "metadata": {},
   "outputs": [
    {
     "data": {
      "text/plain": [
       "'2022_12'"
      ]
     },
     "execution_count": 28,
     "metadata": {},
     "output_type": "execute_result"
    }
   ],
   "source": [
    "cal_time3(nowtime)"
   ]
  },
  {
   "cell_type": "code",
   "execution_count": 29,
   "id": "a10add1d-80da-479c-81ba-8efe87d02c31",
   "metadata": {},
   "outputs": [],
   "source": [
    "import pickle\n",
    "import json"
   ]
  },
  {
   "cell_type": "markdown",
   "id": "28152796-3f48-462b-b2f0-df9bdaab8428",
   "metadata": {},
   "source": [
    "pickle.dump(pmid_list,open('pmid_list','wb'))\n",
    "pickle.dump(reserved_raw_pick,open('reserved_raw_pick','wb'))\n",
    "pickle.dump(reserved_raw_pick_pmid,open('reserved_raw_pick_pmid','wb'))\n",
    "pickle.dump(pmids_list,open('pmids_list','wb'))\n",
    "pickle.dump(raw_pick,open('raw_pick','wb'))"
   ]
  },
  {
   "cell_type": "markdown",
   "id": "387b0dfb-2b0b-49a0-b209-9e7c2a0e34f7",
   "metadata": {},
   "source": [
    "pmid_list=pickle.load(open('pmid_list','rb'))\n",
    "reserved_raw_pick=pickle.load(open('reserved_raw_pick','rb'))\n",
    "reserved_raw_pick_pmid=pickle.load(open('reserved_raw_pick_pmid','rb'))\n",
    "pmids_list=pickle.load(open('pmids_list','rb'))\n",
    "raw_pick=pickle.load(open('raw_pick','rb'))"
   ]
  },
  {
   "cell_type": "code",
   "execution_count": 30,
   "id": "bf77f40f-f7c6-4656-8fd5-be1b307ade9f",
   "metadata": {},
   "outputs": [],
   "source": [
    "import pymongo "
   ]
  },
  {
   "cell_type": "code",
   "execution_count": 31,
   "id": "55c7e722-54b8-400d-a0e9-c8bc946c2d49",
   "metadata": {},
   "outputs": [],
   "source": [
    "from pymongo import MongoClient"
   ]
  },
  {
   "cell_type": "code",
   "execution_count": 32,
   "id": "f82af8fb-529c-4426-99c4-2af11b51f8a1",
   "metadata": {},
   "outputs": [],
   "source": [
    "client = MongoClient(username=\"hald\",password=\"XXX\")"
   ]
  },
  {
   "cell_type": "code",
   "execution_count": 33,
   "id": "cfde33b2-f19f-4e62-a100-fea93a528d5e",
   "metadata": {},
   "outputs": [],
   "source": [
    "db = client.hald"
   ]
  },
  {
   "cell_type": "markdown",
   "id": "4852aede-0fc5-4c2e-9578-d1c5d63412f8",
   "metadata": {
    "tags": []
   },
   "source": [
    "# pubmed_raw_pmid"
   ]
  },
  {
   "cell_type": "code",
   "execution_count": 34,
   "id": "fcf0a965-3456-4717-9b21-0f17f2810ddd",
   "metadata": {},
   "outputs": [],
   "source": [
    "collections_pubmed_raw_pmid=db.pubmed_raw_pmid"
   ]
  },
  {
   "cell_type": "markdown",
   "id": "c237bdcb-945c-4381-82be-3083b598eb77",
   "metadata": {},
   "source": [
    "collections_pubmed_raw_pmid.remove({'addtime':now_time})"
   ]
  },
  {
   "cell_type": "code",
   "execution_count": 35,
   "id": "39f6b406-23ff-4d0b-b607-dbc2b90a6539",
   "metadata": {},
   "outputs": [],
   "source": [
    "pmids=list(collections_pubmed_raw_pmid.find())"
   ]
  },
  {
   "cell_type": "code",
   "execution_count": 36,
   "id": "fbcefe43-6cdc-40bb-bb2b-761e054ee429",
   "metadata": {},
   "outputs": [
    {
     "data": {
      "text/plain": [
       "[{'_id': ObjectId('6393476d5303aaecac1f079a'),\n",
       "  'PMID': '35796512',\n",
       "  'addtime': '20220724'},\n",
       " {'_id': ObjectId('6393476d5303aaecac1f079b'),\n",
       "  'PMID': '35796396',\n",
       "  'addtime': '20220724'}]"
      ]
     },
     "execution_count": 36,
     "metadata": {},
     "output_type": "execute_result"
    }
   ],
   "source": [
    "pmids[:2]"
   ]
  },
  {
   "cell_type": "code",
   "execution_count": 37,
   "id": "848c9030-2dfc-4f79-a6c0-267a32533af6",
   "metadata": {},
   "outputs": [],
   "source": [
    "pmid_list=[]\n",
    "for i in pmids:\n",
    "    pmid_list.append(i.get('PMID'))"
   ]
  },
  {
   "cell_type": "code",
   "execution_count": 38,
   "id": "e84e9b02-cfb9-462f-aad3-aed3f4b55ec7",
   "metadata": {},
   "outputs": [
    {
     "data": {
      "text/plain": [
       "['35796512', '35796396']"
      ]
     },
     "execution_count": 38,
     "metadata": {},
     "output_type": "execute_result"
    }
   ],
   "source": [
    "pmid_list[:2]"
   ]
  },
  {
   "cell_type": "code",
   "execution_count": 39,
   "id": "7649b387-c748-4110-b43d-119c3f4cfccc",
   "metadata": {},
   "outputs": [
    {
     "data": {
      "text/plain": [
       "287718"
      ]
     },
     "execution_count": 39,
     "metadata": {},
     "output_type": "execute_result"
    }
   ],
   "source": [
    "len(pmid_list)"
   ]
  },
  {
   "cell_type": "code",
   "execution_count": 40,
   "id": "4f4d4a46-eab1-465e-923c-e69e92c76bdd",
   "metadata": {},
   "outputs": [],
   "source": [
    "pmid_dict={}\n",
    "for i in pmids:\n",
    "    pmid_dict[i.get('PMID')]=i.get('PMID')"
   ]
  },
  {
   "cell_type": "code",
   "execution_count": 41,
   "id": "e77f6034-753b-4a29-9cab-7ac4358c8832",
   "metadata": {},
   "outputs": [
    {
     "data": {
      "text/plain": [
       "287718"
      ]
     },
     "execution_count": 41,
     "metadata": {},
     "output_type": "execute_result"
    }
   ],
   "source": [
    "len(pmid_dict)"
   ]
  },
  {
   "cell_type": "code",
   "execution_count": 42,
   "id": "9c08df05-52d3-45a8-87e6-b19c7265584b",
   "metadata": {},
   "outputs": [
    {
     "data": {
      "text/plain": [
       "9898"
      ]
     },
     "execution_count": 42,
     "metadata": {},
     "output_type": "execute_result"
    }
   ],
   "source": [
    "len(raw_pick)"
   ]
  },
  {
   "cell_type": "code",
   "execution_count": 43,
   "id": "fcf601b4-5db7-4513-8d31-bef3dedfbf4c",
   "metadata": {},
   "outputs": [
    {
     "data": {
      "text/plain": [
       "'2023_03_14'"
      ]
     },
     "execution_count": 43,
     "metadata": {},
     "output_type": "execute_result"
    }
   ],
   "source": [
    "now_time"
   ]
  },
  {
   "cell_type": "code",
   "execution_count": 45,
   "id": "0c09b362-a6f9-4d0a-8511-1476a61f0e67",
   "metadata": {},
   "outputs": [],
   "source": [
    "reserved_raw_pick=[]\n",
    "reserved_raw_pick_pmid=[]\n",
    "for i in raw_pick:\n",
    "    if i.get('AB'):\n",
    "        if not pmid_dict.get(i.get('PMID')):\n",
    "            i['addtime']=now_time\n",
    "            reserved_raw_pick.append(i)\n",
    "            reserved_raw_pick_pmid.append({'PMID':i.get('PMID'),'addtime':i.get('addtime')})"
   ]
  },
  {
   "cell_type": "code",
   "execution_count": 46,
   "id": "b362461f-8e73-4de1-94f0-5ecc773452e9",
   "metadata": {},
   "outputs": [
    {
     "data": {
      "text/plain": [
       "5256"
      ]
     },
     "execution_count": 46,
     "metadata": {},
     "output_type": "execute_result"
    }
   ],
   "source": [
    "# 6561\n",
    "len(reserved_raw_pick)"
   ]
  },
  {
   "cell_type": "code",
   "execution_count": 47,
   "id": "2b537127-c376-48fd-8797-96da1977db9e",
   "metadata": {},
   "outputs": [
    {
     "data": {
      "text/plain": [
       "<pymongo.results.InsertManyResult at 0x7fc535a70700>"
      ]
     },
     "execution_count": 47,
     "metadata": {},
     "output_type": "execute_result"
    }
   ],
   "source": [
    "collections_pubmed_raw_pmid.insert_many(reserved_raw_pick_pmid)"
   ]
  },
  {
   "cell_type": "code",
   "execution_count": 48,
   "id": "57c79435-622a-4de5-bf86-0d8f9386d9c4",
   "metadata": {},
   "outputs": [
    {
     "data": {
      "text/plain": [
       "292974"
      ]
     },
     "execution_count": 48,
     "metadata": {},
     "output_type": "execute_result"
    }
   ],
   "source": [
    "len(list(collections_pubmed_raw_pmid.find()))"
   ]
  },
  {
   "cell_type": "code",
   "execution_count": 49,
   "id": "afc80ed5-ae93-4469-9406-b05035c33205",
   "metadata": {},
   "outputs": [],
   "source": [
    "# 287839\n",
    "# 287463\n",
    "# len(list(collections_pubmed_raw_pmid.find()))"
   ]
  },
  {
   "cell_type": "code",
   "execution_count": null,
   "id": "d9964a1f-9dde-43f0-973f-9f639f6578f4",
   "metadata": {},
   "outputs": [],
   "source": []
  },
  {
   "cell_type": "code",
   "execution_count": null,
   "id": "4fa1ceef-e3d3-4af4-acce-759851eb5e49",
   "metadata": {},
   "outputs": [],
   "source": []
  },
  {
   "cell_type": "markdown",
   "id": "8864ea6a-a71b-4135-8756-923cc795ac40",
   "metadata": {
    "tags": []
   },
   "source": [
    "# pubmed_raw (reserved_raw_pick)"
   ]
  },
  {
   "cell_type": "code",
   "execution_count": 50,
   "id": "ec92c140-aee1-42cc-8cba-d6929f788e8f",
   "metadata": {},
   "outputs": [],
   "source": [
    "collections_pubmed_raw = db.pubmed_raw"
   ]
  },
  {
   "cell_type": "markdown",
   "id": "e0805b86-fdd3-44e1-9359-8ac9e7672ac8",
   "metadata": {},
   "source": [
    "collections_pubmed_raw.remove({'addtime':now_time})"
   ]
  },
  {
   "cell_type": "code",
   "execution_count": 51,
   "id": "f9fc6e3d-7f8d-42be-bd19-78eb8a6b1a58",
   "metadata": {},
   "outputs": [
    {
     "data": {
      "text/plain": [
       "<pymongo.results.InsertManyResult at 0x7fc531b00dc0>"
      ]
     },
     "execution_count": 51,
     "metadata": {},
     "output_type": "execute_result"
    }
   ],
   "source": [
    "collections_pubmed_raw.insert_many(reserved_raw_pick)"
   ]
  },
  {
   "cell_type": "code",
   "execution_count": null,
   "id": "77b91a2e-1cd7-4820-9806-cc8dcea17b81",
   "metadata": {},
   "outputs": [],
   "source": []
  },
  {
   "cell_type": "markdown",
   "id": "33eed07e-072f-497d-85b7-58c60c6b9d66",
   "metadata": {},
   "source": [
    "# pubtator_raw_pmid"
   ]
  },
  {
   "cell_type": "code",
   "execution_count": 52,
   "id": "f27868aa-b0dc-4d25-b8f6-c8e3c0f578ca",
   "metadata": {},
   "outputs": [],
   "source": [
    "collection_pubtator_raw_pmid = db.pubtator_raw_pmid"
   ]
  },
  {
   "cell_type": "code",
   "execution_count": 53,
   "id": "fd6e9eed-4a5f-4072-96e9-14b9ee2966e0",
   "metadata": {},
   "outputs": [],
   "source": [
    "previous_pubtator_pmid=list(collection_pubtator_raw_pmid.find({}))"
   ]
  },
  {
   "cell_type": "code",
   "execution_count": 54,
   "id": "a83dc342-4f16-455a-97b2-c0cb97568836",
   "metadata": {},
   "outputs": [
    {
     "data": {
      "text/plain": [
       "265577"
      ]
     },
     "execution_count": 54,
     "metadata": {},
     "output_type": "execute_result"
    }
   ],
   "source": [
    "len(previous_pubtator_pmid)"
   ]
  },
  {
   "cell_type": "code",
   "execution_count": 55,
   "id": "48c968e4-19ba-4476-a5af-5b27cd1ed023",
   "metadata": {},
   "outputs": [],
   "source": [
    "previous_pubtator_pmids_dict={}\n",
    "for i in previous_pubtator_pmid:\n",
    "    previous_pubtator_pmids_dict[i.get('PMID')]=i.get('PMID')"
   ]
  },
  {
   "cell_type": "code",
   "execution_count": 56,
   "id": "43cdf16d-dae8-4334-a0c1-fa84e1d9fff2",
   "metadata": {},
   "outputs": [],
   "source": [
    "current_pubtator_pmid=[]\n",
    "for i in raw_pick:\n",
    "    if i.get('AB'):\n",
    "        if not previous_pubtator_pmids_dict.get(i.get('PMID')):\n",
    "            i['addtime']=now_time\n",
    "            current_pubtator_pmid.append(i.get('PMID'))"
   ]
  },
  {
   "cell_type": "code",
   "execution_count": 57,
   "id": "0144b196-18f0-40f6-8d0d-da0ac27bf5bb",
   "metadata": {},
   "outputs": [
    {
     "data": {
      "text/plain": [
       "5305"
      ]
     },
     "execution_count": 57,
     "metadata": {},
     "output_type": "execute_result"
    }
   ],
   "source": [
    "len(current_pubtator_pmid)"
   ]
  },
  {
   "cell_type": "code",
   "execution_count": 58,
   "id": "6ec9bd21-3b85-4eae-8db3-280550760de4",
   "metadata": {},
   "outputs": [],
   "source": [
    "pmids_list=[]\n",
    "for i in current_pubtator_pmid:\n",
    "    pmids_list.append(i)"
   ]
  },
  {
   "cell_type": "code",
   "execution_count": 59,
   "id": "5d9aaccc-36f0-4baf-a214-752e059ea3ed",
   "metadata": {},
   "outputs": [
    {
     "data": {
      "text/plain": [
       "5305"
      ]
     },
     "execution_count": 59,
     "metadata": {},
     "output_type": "execute_result"
    }
   ],
   "source": [
    "len(pmids_list)"
   ]
  },
  {
   "cell_type": "code",
   "execution_count": 61,
   "id": "26cd6460-309d-4f50-9bca-0703de295692",
   "metadata": {},
   "outputs": [],
   "source": [
    "import requests"
   ]
  },
  {
   "cell_type": "code",
   "execution_count": 62,
   "id": "c7e835b2-6d62-44c5-b260-7c0324ed24b7",
   "metadata": {},
   "outputs": [],
   "source": [
    "def SubmitPMIDList(pmids,Format,now_time):\n",
    "\tjson = {\"pmids\": pmids}\n",
    "\n",
    "\tr = requests.post(\"https://www.ncbi.nlm.nih.gov/research/pubtator-api/publications/export/\"+Format , json = json)\n",
    "\tif r.status_code != 200 :\n",
    "\t\tprint (\"[Error]: HTTP code \"+ str(r.status_code))\n",
    "\telse:\n",
    "\t\twith open(now_time+'_pubtator_raw.txt','a',encoding=\"UTF-8\") as fileread:\n",
    "\t\t\tfileread.write(str(r.text.encode(\"utf-8\"),encoding=\"UTF-8\"))"
   ]
  },
  {
   "cell_type": "code",
   "execution_count": 70,
   "id": "9c3db324-6740-4ba3-a322-7a65cf5428f8",
   "metadata": {},
   "outputs": [],
   "source": [
    "import time\n",
    "pubtator_raw=[]\n",
    "for i in range(0,len(pmids_list),1000):\n",
    "    SubmitPMIDList(pmids_list[i:i+1000],'biocjson',now_time)\n",
    "    time.sleep(0.1)"
   ]
  },
  {
   "cell_type": "markdown",
   "id": "1246f020-bc81-4cc9-8c56-1408b7f0434e",
   "metadata": {},
   "source": [
    "import time\n",
    "pubtator_raw=[]\n",
    "for i in range(0,len(pmids_list),1):\n",
    "    SubmitPMIDList(pmids_list[i:i+1],'biocjson',now)\n",
    "    # time.sleep(0.1)"
   ]
  },
  {
   "cell_type": "code",
   "execution_count": 71,
   "id": "28d8f2f7-7941-42aa-820c-2c7c9554665c",
   "metadata": {},
   "outputs": [],
   "source": [
    "ttt=open(now_time+'_pubtator_raw.txt',\"r\")"
   ]
  },
  {
   "cell_type": "code",
   "execution_count": 72,
   "id": "c0d162dd-4833-4dab-9d18-0755434ddf12",
   "metadata": {},
   "outputs": [],
   "source": [
    "overjson=[]\n",
    "for l in ttt.readlines():\n",
    "    overjson.append(l.rstrip())"
   ]
  },
  {
   "cell_type": "code",
   "execution_count": 73,
   "id": "dc281491-775e-46d2-a9ef-234587ac1bd8",
   "metadata": {},
   "outputs": [],
   "source": [
    "### 变少的原因包括pubtator还未进行文本挖掘。"
   ]
  },
  {
   "cell_type": "code",
   "execution_count": 74,
   "id": "2c1b6484-29d7-44d0-b580-68c9f6e27bc6",
   "metadata": {},
   "outputs": [
    {
     "data": {
      "text/plain": [
       "5067"
      ]
     },
     "execution_count": 74,
     "metadata": {},
     "output_type": "execute_result"
    }
   ],
   "source": [
    "# 6494\n",
    "len(overjson)"
   ]
  },
  {
   "cell_type": "code",
   "execution_count": 75,
   "id": "6e6568c7-3477-4e75-a993-8ec53c4f68d7",
   "metadata": {},
   "outputs": [],
   "source": [
    "import copy"
   ]
  },
  {
   "cell_type": "code",
   "execution_count": 76,
   "id": "df8605a1-61b3-4289-841c-7f92fd968102",
   "metadata": {},
   "outputs": [],
   "source": [
    "pubtator_list=copy.deepcopy(overjson)"
   ]
  },
  {
   "cell_type": "code",
   "execution_count": 77,
   "id": "ead0f482-5580-41ec-a255-c4d88d8300fb",
   "metadata": {},
   "outputs": [],
   "source": [
    "pubtator_json=[]\n",
    "for i in pubtator_list:\n",
    "    pubtator_json.append(json.loads(i))"
   ]
  },
  {
   "cell_type": "code",
   "execution_count": 78,
   "id": "550e7804-8720-4546-814f-aa9bf1d210f2",
   "metadata": {},
   "outputs": [],
   "source": [
    "pubtator_pmid_list=[]\n",
    "for i in pubtator_json:\n",
    "    pubtator_pmid_list.append(i.get('id'))"
   ]
  },
  {
   "cell_type": "code",
   "execution_count": 79,
   "id": "da799ed0-2d11-4387-a246-8b5ba1742fed",
   "metadata": {},
   "outputs": [
    {
     "data": {
      "text/plain": [
       "5067"
      ]
     },
     "execution_count": 79,
     "metadata": {},
     "output_type": "execute_result"
    }
   ],
   "source": [
    "# 6307\n",
    "len(pubtator_pmid_list)"
   ]
  },
  {
   "cell_type": "code",
   "execution_count": 80,
   "id": "f5728167-24b0-4b93-a16e-12b5b0f33b03",
   "metadata": {},
   "outputs": [],
   "source": [
    "why=[]\n",
    "for i in pmids_list:\n",
    "    if i not in pubtator_pmid_list:\n",
    "        why.append(i)"
   ]
  },
  {
   "cell_type": "code",
   "execution_count": 81,
   "id": "4ac7e993-237d-4366-bdd1-163e2fdd287c",
   "metadata": {},
   "outputs": [
    {
     "data": {
      "text/plain": [
       "'36722236'"
      ]
     },
     "execution_count": 81,
     "metadata": {},
     "output_type": "execute_result"
    }
   ],
   "source": [
    "why[5]"
   ]
  },
  {
   "cell_type": "code",
   "execution_count": 82,
   "id": "5520a5c2-485f-4714-908a-38efa3624a3e",
   "metadata": {},
   "outputs": [
    {
     "data": {
      "text/plain": [
       "238"
      ]
     },
     "execution_count": 82,
     "metadata": {},
     "output_type": "execute_result"
    }
   ],
   "source": [
    "len(why)"
   ]
  },
  {
   "cell_type": "code",
   "execution_count": 83,
   "id": "989818a8-cf9c-41b4-8c2c-e510adfb8c1c",
   "metadata": {},
   "outputs": [
    {
     "data": {
      "text/plain": [
       "['36724157', '36722661', '36722644']"
      ]
     },
     "execution_count": 83,
     "metadata": {},
     "output_type": "execute_result"
    }
   ],
   "source": [
    "why[:3]"
   ]
  },
  {
   "cell_type": "code",
   "execution_count": 84,
   "id": "7ab8e925-e717-471a-8a75-1eea3951e54f",
   "metadata": {},
   "outputs": [
    {
     "data": {
      "text/plain": [
       "'36896533'"
      ]
     },
     "execution_count": 84,
     "metadata": {},
     "output_type": "execute_result"
    }
   ],
   "source": [
    "pubtator_pmid_list[0]"
   ]
  },
  {
   "cell_type": "code",
   "execution_count": 85,
   "id": "99fa87ea-7a17-4602-8504-a1eaa912aac5",
   "metadata": {},
   "outputs": [],
   "source": [
    "current_pubtator_pmid_list=[]\n",
    "for i in pubtator_pmid_list:\n",
    "    current_pubtator_pmid_list.append({'PMID':i,'addtime':now_time})"
   ]
  },
  {
   "cell_type": "code",
   "execution_count": 86,
   "id": "493447f3-c0a2-4766-8405-4cb048579802",
   "metadata": {},
   "outputs": [
    {
     "data": {
      "text/plain": [
       "5067"
      ]
     },
     "execution_count": 86,
     "metadata": {},
     "output_type": "execute_result"
    }
   ],
   "source": [
    "len(current_pubtator_pmid_list)"
   ]
  },
  {
   "cell_type": "code",
   "execution_count": 87,
   "id": "f4c3d354-7461-4e15-bfba-1af21c108537",
   "metadata": {},
   "outputs": [
    {
     "data": {
      "text/plain": [
       "<pymongo.results.InsertManyResult at 0x7fc4c7e1f8c0>"
      ]
     },
     "execution_count": 87,
     "metadata": {},
     "output_type": "execute_result"
    }
   ],
   "source": [
    "collection_pubtator_raw_pmid.insert_many(current_pubtator_pmid_list)"
   ]
  },
  {
   "cell_type": "code",
   "execution_count": null,
   "id": "10940484-51c7-42a7-a1d1-7d5e87acc14b",
   "metadata": {},
   "outputs": [],
   "source": []
  },
  {
   "cell_type": "code",
   "execution_count": null,
   "id": "bc44e976-3b3f-4ace-bd17-71e09072f7bc",
   "metadata": {},
   "outputs": [],
   "source": []
  },
  {
   "cell_type": "markdown",
   "id": "61d586ac-8eca-4513-87cb-43a3d9828335",
   "metadata": {
    "tags": []
   },
   "source": [
    "# pubtator_info  (raw_pick_pubtator)"
   ]
  },
  {
   "cell_type": "code",
   "execution_count": 88,
   "id": "eadb67da-7ce0-4b0c-a4bc-2f741c6b6b75",
   "metadata": {},
   "outputs": [],
   "source": [
    "collections_pubtator_info = db.pubtator_info"
   ]
  },
  {
   "cell_type": "markdown",
   "id": "30f75eca-6531-4e28-8cfc-ead63ff0d7b0",
   "metadata": {},
   "source": [
    "collections_pubtator_info.remove({'addtime':now_time})"
   ]
  },
  {
   "cell_type": "code",
   "execution_count": 89,
   "id": "e882f243-92d0-4057-919f-80be6261dbc1",
   "metadata": {},
   "outputs": [],
   "source": [
    "filtered_pubtator_json=[]\n",
    "for i in pubtator_json:\n",
    "    if i.get('passages'):\n",
    "        for j in i.get('passages')[1].get('annotations'):\n",
    "            if j.get('infons'):\n",
    "                if j.get('infons').get('identifier')=='9606':\n",
    "                    # if j.get('infons').get('type') =='Gene' :\n",
    "                    # if j.get('infons').get('type') in ('Gene', 'Chemical', 'Mutation') :\n",
    "                    filtered_pubtator_json.append(i)\n",
    "                    break"
   ]
  },
  {
   "cell_type": "code",
   "execution_count": 91,
   "id": "544beb4b-193c-4703-98bc-cd6e2852cd11",
   "metadata": {},
   "outputs": [
    {
     "data": {
      "text/plain": [
       "3899"
      ]
     },
     "execution_count": 91,
     "metadata": {},
     "output_type": "execute_result"
    }
   ],
   "source": [
    "# 4874\n",
    "len(filtered_pubtator_json)"
   ]
  },
  {
   "cell_type": "code",
   "execution_count": 92,
   "id": "f4e2ba11-0064-4ee2-b9d3-86511f5d8641",
   "metadata": {},
   "outputs": [],
   "source": [
    "second_filtered_pubtator_json=[]\n",
    "for i in filtered_pubtator_json:\n",
    "    if i.get('passages'):\n",
    "        for j in i.get('passages')[1].get('annotations'):\n",
    "            if j.get('infons'):\n",
    "                    if j.get('infons').get('type') in ('Gene', 'Chemical', 'Mutation','Disease') :\n",
    "                        second_filtered_pubtator_json.append(i)\n",
    "                        break"
   ]
  },
  {
   "cell_type": "code",
   "execution_count": 93,
   "id": "2234d167-f401-42a2-88b2-8d25afdbd256",
   "metadata": {},
   "outputs": [
    {
     "data": {
      "text/plain": [
       "3400"
      ]
     },
     "execution_count": 93,
     "metadata": {},
     "output_type": "execute_result"
    }
   ],
   "source": [
    "# 4257\n",
    "len(second_filtered_pubtator_json)"
   ]
  },
  {
   "cell_type": "code",
   "execution_count": 94,
   "id": "603952eb-83d6-4957-ae44-be22c8346b02",
   "metadata": {},
   "outputs": [],
   "source": [
    "entities_dict={}\n",
    "for i in second_filtered_pubtator_json:\n",
    "    if i.get('id'):\n",
    "        entities_list=[]\n",
    "        for j in i.get('passages')[1].get('annotations'):\n",
    "            entities_list.append(j.get('text'))\n",
    "        entities_dict[i.get('id')]=entities_list"
   ]
  },
  {
   "cell_type": "code",
   "execution_count": 95,
   "id": "e6c812c6-986c-42b2-84ce-7f415203d826",
   "metadata": {},
   "outputs": [],
   "source": [
    "second_filtered_pubtator_dict={}\n",
    "for i in second_filtered_pubtator_json:\n",
    "    if i.get('id'):\n",
    "        second_filtered_pubtator_dict[i.get('id')]=i\n"
   ]
  },
  {
   "cell_type": "code",
   "execution_count": 96,
   "id": "fb4d19bd-765a-4b97-8644-cd9e529d7d33",
   "metadata": {},
   "outputs": [
    {
     "data": {
      "text/plain": [
       "{'_id': '36895572|None',\n",
       " 'id': '36895572',\n",
       " 'infons': {},\n",
       " 'passages': [{'infons': {'journal': 'Front Immunol;2023; 14 1116224. doi:10.3389/fimmu.2023.1116224',\n",
       "    'year': '2023',\n",
       "    'article-id_pmc': 'PMC9989007',\n",
       "    'type': 'title',\n",
       "    'authors': 'Di X, Liu S, Xiang L, Jin X, ',\n",
       "    'section': 'Title'},\n",
       "   'offset': 0,\n",
       "   'text': 'Association between the systemic immune-inflammation index and kidney stone: A cross-sectional study of NHANES 2007-2018.',\n",
       "   'sentences': [],\n",
       "   'annotations': [{'id': '2',\n",
       "     'infons': {'identifier': 'MESH:D007249', 'type': 'Disease'},\n",
       "     'text': 'inflammation',\n",
       "     'locations': [{'offset': 40, 'length': 12}]},\n",
       "    {'id': '3',\n",
       "     'infons': {'identifier': 'MESH:D007669', 'type': 'Disease'},\n",
       "     'text': 'kidney stone',\n",
       "     'locations': [{'offset': 63, 'length': 12}]}],\n",
       "   'relations': []},\n",
       "  {'infons': {'type': 'abstract', 'section': 'Abstract'},\n",
       "   'offset': 122,\n",
       "   'text': 'Background: The incidence rate of kidney stones increased over the past decades globally, which brought medical expenditure and social burden. The systemic immune-inflammatory index (SII) was initially identified as a prognosis of multiple diseases. We performed an updated analysis on the impact of SII on kidney stones. Methods: This compensatory cross-sectional study enrolled participants from the National Health and Nutrition Examination Survey 2007-2018. Univariate and multivariate logistic regression analyses were performed to investigate the association between SII and kidney stones. Results: Of the 22220 participants, the mean (SD) age was 49.45 +- 17.36 years old, with a 9.87% incidence rate of kidney stones. A fully adjusted model showed that SII higher than 330 x 109/L was parallel associated with kidney stones (Odds ratio [OR] = 1.282, 95% Confidence interval [CI] = 1.023 to 1.608, P = 0.034) in adults aged 20-50. However, no difference was found in the elderly subgroup. Multiple imputation analyses confirmed the robustness of our results. Conclusions: Our findings suggested SII was positively associated with a high risk of kidney stones in US adults aged less than 50. The outcome compensated for previous studies that still needed more large-scale prospective cohorts for validation.',\n",
       "   'sentences': [],\n",
       "   'annotations': [{'id': '12',\n",
       "     'infons': {'identifier': 'MESH:D007669', 'type': 'Disease'},\n",
       "     'text': 'kidney stones',\n",
       "     'locations': [{'offset': 156, 'length': 13}]},\n",
       "    {'id': '13',\n",
       "     'infons': {'identifier': 'MESH:D007669', 'type': 'Disease'},\n",
       "     'text': 'kidney stones',\n",
       "     'locations': [{'offset': 429, 'length': 13}]},\n",
       "    {'id': '14',\n",
       "     'infons': {'identifier': '9606', 'type': 'Species'},\n",
       "     'text': 'participants',\n",
       "     'locations': [{'offset': 502, 'length': 12}]},\n",
       "    {'id': '15',\n",
       "     'infons': {'identifier': 'MESH:D007669', 'type': 'Disease'},\n",
       "     'text': 'kidney stones',\n",
       "     'locations': [{'offset': 703, 'length': 13}]},\n",
       "    {'id': '16',\n",
       "     'infons': {'identifier': '9606', 'type': 'Species'},\n",
       "     'text': 'participants',\n",
       "     'locations': [{'offset': 740, 'length': 12}]},\n",
       "    {'id': '17',\n",
       "     'infons': {'identifier': 'MESH:D007669', 'type': 'Disease'},\n",
       "     'text': 'kidney stones',\n",
       "     'locations': [{'offset': 833, 'length': 13}]},\n",
       "    {'id': '18',\n",
       "     'infons': {'identifier': 'MESH:D007669', 'type': 'Disease'},\n",
       "     'text': 'kidney stones',\n",
       "     'locations': [{'offset': 940, 'length': 13}]},\n",
       "    {'id': '19',\n",
       "     'infons': {'identifier': 'MESH:D007669', 'type': 'Disease'},\n",
       "     'text': 'kidney stones',\n",
       "     'locations': [{'offset': 1274, 'length': 13}]}],\n",
       "   'relations': []}],\n",
       " 'relations': [],\n",
       " 'pmid': 36895572,\n",
       " 'pmcid': None,\n",
       " 'created': {'$date': 1678498003744},\n",
       " 'accessions': ['disease@MESH:D007669',\n",
       "  'species@9606',\n",
       "  'disease@MESH:D007249'],\n",
       " 'journal': 'Front Immunol',\n",
       " 'year': 2023,\n",
       " 'authors': ['Di X', 'Liu S', 'Xiang L', 'Jin X']}"
      ]
     },
     "execution_count": 96,
     "metadata": {},
     "output_type": "execute_result"
    }
   ],
   "source": [
    "second_filtered_pubtator_json[0]"
   ]
  },
  {
   "cell_type": "code",
   "execution_count": 97,
   "id": "b2c78c72-6d2e-4f2a-979f-0f2b2eb25d94",
   "metadata": {
    "tags": []
   },
   "outputs": [
    {
     "name": "stdout",
     "output_type": "stream",
     "text": [
      "Parent process 7995.\n",
      "Waiting for all subprocesses done...\n",
      "All subprocesses done.\n",
      "The running time is 20s\n"
     ]
    }
   ],
   "source": [
    "from nltk.tokenize import sent_tokenize\n",
    "import datetime\n",
    "import re\n",
    "from multiprocessing import Process, Manager, Pool\n",
    "import os, time, random\n",
    "def work(i,rawlength,lock):\n",
    "    info=i.get('passages')[1]\n",
    "    abstract=info.get('text')\n",
    "    sentences=sent_tokenize(abstract)\n",
    "    # sentenceslist=[]\n",
    "    positions=[]\n",
    "    size=len(sentences)\n",
    "    start=0\n",
    "    for k,j in enumerate(sentences):\n",
    "        \n",
    "        # sentencesdict1={}\n",
    "        newj=j.translate(str.maketrans({\"-\":  r\"\\-\",\"\\\\\": r\"\\\\\", \"^\":  r\"\\^\",\"$\":  r\"\\$\",\"*\":  r\"\\*\",\".\":  r\"\\.\",\"(\":  r\"\\(\",\")\":  r\"\\)\",\"+\":  r\"\\+\",\"[\":  r\"\\[\",\"]\":  r\"\\]\",\n",
    "                                      \"{\":  r\"\\{\",\"}\":  r\"\\}\",\"|\":  r\"\\|\",\"?\":  r\"\\?\"}))\n",
    "        spanlist=re.search(newj,abstract,flags=re.M|re.I).span()\n",
    "        abstract=abstract[spanlist[1]:]\n",
    "        \n",
    "        positions.append((start+spanlist[0],start+spanlist[1]))\n",
    "        start+=spanlist[1]\n",
    "\n",
    "    middict={'PMID':i.get('id'),'AB':info.get('text'),'SENTENCE':sentences,'positions':positions,'annotations':info.get('annotations'),'offset':info.get('offset')}\n",
    "    \n",
    "    lock.acquire()\n",
    "    rawlength.append(middict)\n",
    "    lock.release()\n",
    "    \n",
    "if __name__=='__main__':\n",
    "    start=datetime.datetime.now()\n",
    "    print('Parent process %s.' % os.getpid())\n",
    "    p=Pool(40)\n",
    "    manager=Manager()\n",
    "    rawlength=manager.list()\n",
    "    lock=manager.Lock()\n",
    "    for i in second_filtered_pubtator_json:\n",
    "        if i.get('passages'):\n",
    "            p.apply_async(work, args=(i,rawlength,lock))\n",
    "\n",
    "    print('Waiting for all subprocesses done...')\n",
    "    \n",
    "    p.close()\n",
    "    p.join()\n",
    "    print('All subprocesses done.')\n",
    "\n",
    "    end=datetime.datetime.now()\n",
    "    print(\"The running time is \"+str((end-start).seconds)+\"s\")  "
   ]
  },
  {
   "cell_type": "code",
   "execution_count": 98,
   "id": "a8938397-68f1-439e-9257-ee63ffd920b3",
   "metadata": {},
   "outputs": [],
   "source": [
    "pubtators_list=list(rawlength)"
   ]
  },
  {
   "cell_type": "code",
   "execution_count": 99,
   "id": "f1eab218-25f6-4c03-abae-52ed7a2ac957",
   "metadata": {},
   "outputs": [
    {
     "data": {
      "text/plain": [
       "3400"
      ]
     },
     "execution_count": 99,
     "metadata": {},
     "output_type": "execute_result"
    }
   ],
   "source": [
    "len(pubtators_list)"
   ]
  },
  {
   "cell_type": "code",
   "execution_count": 100,
   "id": "dc205e48-7b26-448f-8642-d8a4c3b735c4",
   "metadata": {},
   "outputs": [],
   "source": [
    "pubtator_raw=[]\n",
    "error=[]\n",
    "error2=[]\n",
    "for i in pubtators_list:\n",
    "    for j in i.get('annotations'):\n",
    "        for k,l in enumerate(i.get('positions')):\n",
    "            if j.get('locations')[0].get('offset')>=l[0]+i.get('offset') and j.get('locations')[0].get('offset')<l[1]+i.get('offset'):\n",
    "                pubtator_raw.append({'id':i.get('PMID'),'AB':i.get('AB'), 'type': j.get('infons').get('type'), \\\n",
    "                                     'identifier':j.get('infons').get('identifier'),'text':j.get('text'),'sentence':i.get('SENTENCE')[k],\\\n",
    "                                     'sentenceSize':len(i.get('SENTENCE')),'sentenceIndex':k})\n",
    "                break\n",
    "        else:\n",
    "            error.append(i)\n",
    "            error2.append(j)\n",
    "            \n"
   ]
  },
  {
   "cell_type": "code",
   "execution_count": 101,
   "id": "baeaae03-464a-4896-a3bd-f9c7cc0cd41f",
   "metadata": {},
   "outputs": [],
   "source": [
    "pubtator_raw_dict2AB={}\n",
    "for i in pubtator_raw:\n",
    "    pubtator_raw_dict2AB[i.get('id')]=i.get('AB')"
   ]
  },
  {
   "cell_type": "code",
   "execution_count": 102,
   "id": "a3eb45ed-1645-48b5-83a8-db6881779e5f",
   "metadata": {},
   "outputs": [
    {
     "data": {
      "text/plain": [
       "0"
      ]
     },
     "execution_count": 102,
     "metadata": {},
     "output_type": "execute_result"
    }
   ],
   "source": [
    "len(error)"
   ]
  },
  {
   "cell_type": "code",
   "execution_count": 103,
   "id": "a1c5e412-ad27-4cdd-be43-371cd5f29fbf",
   "metadata": {},
   "outputs": [
    {
     "data": {
      "text/plain": [
       "0"
      ]
     },
     "execution_count": 103,
     "metadata": {},
     "output_type": "execute_result"
    }
   ],
   "source": [
    "len(error2)"
   ]
  },
  {
   "cell_type": "code",
   "execution_count": 104,
   "id": "9bbfd873-19d0-4311-9d47-b4f27544a225",
   "metadata": {},
   "outputs": [
    {
     "data": {
      "text/plain": [
       "47302"
      ]
     },
     "execution_count": 104,
     "metadata": {},
     "output_type": "execute_result"
    }
   ],
   "source": [
    "# 60169\n",
    "len(pubtator_raw)"
   ]
  },
  {
   "cell_type": "code",
   "execution_count": 105,
   "id": "22e13c39-c04f-4124-b019-4912b378d5fd",
   "metadata": {},
   "outputs": [],
   "source": [
    "raw_pick_pubtator=[]\n",
    "for i in reserved_raw_pick:\n",
    "    if i.get('AB'):\n",
    "        if pubtator_raw_dict2AB.get(i.get('PMID')):\n",
    "            i.update({'AB':pubtator_raw_dict2AB.get(i.get('PMID'))})\n",
    "            raw_pick_pubtator.append(i)"
   ]
  },
  {
   "cell_type": "code",
   "execution_count": 106,
   "id": "b19713dd-29a5-4df4-90f7-8de1a14d4fd0",
   "metadata": {},
   "outputs": [
    {
     "data": {
      "text/plain": [
       "3400"
      ]
     },
     "execution_count": 106,
     "metadata": {},
     "output_type": "execute_result"
    }
   ],
   "source": [
    "len(pubtator_raw_dict2AB)"
   ]
  },
  {
   "cell_type": "code",
   "execution_count": 107,
   "id": "119179a4-7e27-4070-9186-9c2c149f5f66",
   "metadata": {},
   "outputs": [
    {
     "data": {
      "text/plain": [
       "5256"
      ]
     },
     "execution_count": 107,
     "metadata": {},
     "output_type": "execute_result"
    }
   ],
   "source": [
    "len(reserved_raw_pick)"
   ]
  },
  {
   "cell_type": "code",
   "execution_count": 108,
   "id": "9500ab27-beef-4dbe-a694-d2be94371885",
   "metadata": {},
   "outputs": [
    {
     "data": {
      "text/plain": [
       "3400"
      ]
     },
     "execution_count": 108,
     "metadata": {},
     "output_type": "execute_result"
    }
   ],
   "source": [
    "len(raw_pick_pubtator)"
   ]
  },
  {
   "cell_type": "code",
   "execution_count": 113,
   "id": "5eafc741-c398-4fd1-80bf-5f7ceb744d21",
   "metadata": {},
   "outputs": [],
   "source": [
    "for i in raw_pick_pubtator:\n",
    "    i['addtime']=now_time"
   ]
  },
  {
   "cell_type": "code",
   "execution_count": 114,
   "id": "5d2b4e92-ce33-4ca7-a149-5c8d987c79cd",
   "metadata": {},
   "outputs": [
    {
     "data": {
      "text/plain": [
       "<pymongo.results.InsertManyResult at 0x7fc4c7da7440>"
      ]
     },
     "execution_count": 114,
     "metadata": {},
     "output_type": "execute_result"
    }
   ],
   "source": [
    "collections_pubtator_info.insert_many(raw_pick_pubtator)"
   ]
  },
  {
   "cell_type": "code",
   "execution_count": 115,
   "id": "3995078d-6a14-43d4-ba21-4ca386d480b7",
   "metadata": {},
   "outputs": [
    {
     "data": {
      "text/plain": [
       "173787"
      ]
     },
     "execution_count": 115,
     "metadata": {},
     "output_type": "execute_result"
    }
   ],
   "source": [
    "len(list(collections_pubtator_info.find()))"
   ]
  },
  {
   "cell_type": "code",
   "execution_count": null,
   "id": "dc6ba972-c5de-4fbf-8e56-4cb255a9b493",
   "metadata": {},
   "outputs": [],
   "source": []
  },
  {
   "cell_type": "markdown",
   "id": "dcaf4880-e1fb-4de2-b374-59b5d76a052a",
   "metadata": {},
   "source": [
    "# pubtator_for_compare_latest (pubtator_raw)"
   ]
  },
  {
   "cell_type": "code",
   "execution_count": 116,
   "id": "d7b39150-0b9b-4f0b-97c1-42249b251cd8",
   "metadata": {},
   "outputs": [],
   "source": [
    "collections_pubtator_for_compare_latest=db.pubtator_for_compare_latest"
   ]
  },
  {
   "cell_type": "markdown",
   "id": "f222f403-7508-4c89-9d9e-67a6744b1f28",
   "metadata": {},
   "source": [
    "pubtator_raw=list(collections_pubtator_for_compare_latest.find({}))"
   ]
  },
  {
   "cell_type": "markdown",
   "id": "179ab5d5-7d36-4e6d-9800-37a4a5b5daf0",
   "metadata": {},
   "source": [
    "collections_pubtator_for_compare_latest.remove({'addtime':now_time})"
   ]
  },
  {
   "cell_type": "code",
   "execution_count": 117,
   "id": "35bbc752-1f21-4e66-8d35-6be34f2222d9",
   "metadata": {},
   "outputs": [],
   "source": [
    "for i in pubtator_raw:\n",
    "    i['addtime']=now_time"
   ]
  },
  {
   "cell_type": "code",
   "execution_count": 118,
   "id": "db4bca65-1e24-4bc6-b478-a1dd7c6ee9e5",
   "metadata": {},
   "outputs": [
    {
     "data": {
      "text/plain": [
       "<pymongo.results.InsertManyResult at 0x7fc4014ff940>"
      ]
     },
     "execution_count": 118,
     "metadata": {},
     "output_type": "execute_result"
    }
   ],
   "source": [
    "collections_pubtator_for_compare_latest.insert_many(pubtator_raw)"
   ]
  },
  {
   "cell_type": "code",
   "execution_count": 119,
   "id": "514a7865-cc75-4dc4-92de-a930ef3f745d",
   "metadata": {},
   "outputs": [
    {
     "data": {
      "text/plain": [
       "47302"
      ]
     },
     "execution_count": 119,
     "metadata": {},
     "output_type": "execute_result"
    }
   ],
   "source": [
    "# 63016\n",
    "len(pubtator_raw)"
   ]
  },
  {
   "cell_type": "code",
   "execution_count": 120,
   "id": "920bd57a-aa86-413e-8b47-4116b2bf72da",
   "metadata": {},
   "outputs": [
    {
     "data": {
      "text/plain": [
       "'/root/hald_autoupdate/2023_03_13'"
      ]
     },
     "execution_count": 120,
     "metadata": {},
     "output_type": "execute_result"
    }
   ],
   "source": [
    "pwd"
   ]
  },
  {
   "cell_type": "code",
   "execution_count": 125,
   "id": "acfd2c74-1c50-4c39-a357-e9ff7755aa2b",
   "metadata": {},
   "outputs": [],
   "source": [
    "pickle.dump(raw_pick,open('results/step1/raw_pick.pkl','wb'))\n",
    "pickle.dump(raw_pick_pubtator,open('results/step1/raw_pick_pubtator.pkl','wb'))\n",
    "pickle.dump(pubtator_raw,open('results/step1/pubtator_raw.pkl','wb'))\n"
   ]
  },
  {
   "cell_type": "code",
   "execution_count": 122,
   "id": "cab38b2b-c2c7-4486-be2e-fb6ff1a18893",
   "metadata": {},
   "outputs": [
    {
     "data": {
      "text/plain": [
       "{'id': '36891328',\n",
       " 'AB': 'Out-of-home mobility is fundamental to older people\\'s wellbeing and quality of life. Understanding the unmet mobility needs of older people is a necessary starting point for determining how they can be supported to be mobile. This study estimates the extent of unmet mobility needs among older Australians and identifies the characteristics of those most likely to report unmet mobility needs. Analysis was conducted on nationally representative data of 6,685 older Australians drawn from the 2018 Survey of Disability, Aging and Carers conducted by the Australian Bureau of Statistics. Twelve predictor variables from two conceptual frameworks on older people\\'s mobility were included in the multiple logistic regression model. Twelve percent (n = 799) of participants had unmet mobility needs, and associated factors significant in multivariable models included being among the \"young-old\", having a lower income, having lower levels of self-rated health, having a long-term condition, being limited in everyday physical activities, experiencing a higher level of distress, being unlicensed, having decreased public transport ability, and residing in major cities. Efforts to support older people\\'s mobility must make equity an explicit consideration, reject a one-size-fits-all approach, and prioritize the accessibility of cities and communities.',\n",
       " 'type': 'Species',\n",
       " 'identifier': '9606',\n",
       " 'text': 'people',\n",
       " 'sentence': \"Out-of-home mobility is fundamental to older people's wellbeing and quality of life.\",\n",
       " 'sentenceSize': 7,\n",
       " 'sentenceIndex': 0,\n",
       " 'addtime': '2023_03_14',\n",
       " '_id': ObjectId('640ff7b7e6762ddb33407275')}"
      ]
     },
     "execution_count": 122,
     "metadata": {},
     "output_type": "execute_result"
    }
   ],
   "source": [
    "pubtator_raw[0]"
   ]
  },
  {
   "cell_type": "code",
   "execution_count": 123,
   "id": "2cbf92ca-b593-4f0b-be52-3016c2aa944b",
   "metadata": {},
   "outputs": [
    {
     "data": {
      "text/plain": [
       "'2023_03_14'"
      ]
     },
     "execution_count": 123,
     "metadata": {},
     "output_type": "execute_result"
    }
   ],
   "source": [
    "now_time"
   ]
  },
  {
   "cell_type": "code",
   "execution_count": null,
   "id": "f0aaaf8d-4b11-4ae3-aca7-7cf616e36ad2",
   "metadata": {},
   "outputs": [],
   "source": [
    "import os\n",
    "os.makedirs('results/step1/')\n",
    "os.makedirs('results/step2/')\n",
    "os.makedirs('results/step3/')\n",
    "os.makedirs('results/step4/')"
   ]
  },
  {
   "cell_type": "code",
   "execution_count": 126,
   "id": "9b6fdc32-f4f1-4e10-a7aa-3983602c6353",
   "metadata": {},
   "outputs": [],
   "source": [
    "os.makedirs('results/step4/')"
   ]
  },
  {
   "cell_type": "code",
   "execution_count": null,
   "id": "4137a339-ec82-4e28-a23f-3143cc9f7750",
   "metadata": {},
   "outputs": [],
   "source": []
  },
  {
   "cell_type": "code",
   "execution_count": null,
   "id": "bf857256-d009-4479-86df-f54596057039",
   "metadata": {},
   "outputs": [],
   "source": []
  },
  {
   "cell_type": "code",
   "execution_count": null,
   "id": "0a16cbad-3983-40cf-a166-ba9ca564598f",
   "metadata": {},
   "outputs": [],
   "source": []
  },
  {
   "cell_type": "code",
   "execution_count": null,
   "id": "f4f9df7f-40d2-4b62-aa2d-8e6e783e62fa",
   "metadata": {},
   "outputs": [],
   "source": []
  }
 ],
 "metadata": {
  "kernelspec": {
   "display_name": "hald",
   "language": "python",
   "name": "hald"
  },
  "language_info": {
   "codemirror_mode": {
    "name": "ipython",
    "version": 3
   },
   "file_extension": ".py",
   "mimetype": "text/x-python",
   "name": "python",
   "nbconvert_exporter": "python",
   "pygments_lexer": "ipython3",
   "version": "3.8.15"
  }
 },
 "nbformat": 4,
 "nbformat_minor": 5
}
