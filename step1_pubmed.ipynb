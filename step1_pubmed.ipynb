{
 "cells": [
  {
   "cell_type": "code",
   "execution_count": 1,
   "id": "91c37b96-e055-41b8-92d0-4caea4a7aa3f",
   "metadata": {},
   "outputs": [],
   "source": [
    "import pickle, json, time, datetime, pymongo, requests, copy, os, csv\n",
    "from pymongo import MongoClient\n",
    "import pandas as pd\n",
    "from Bio import Medline\n",
    "from Bio import Entrez"
   ]
  },
  {
   "cell_type": "code",
   "execution_count": 2,
   "id": "b61c5433-3e44-48d6-b199-e51944c0032b",
   "metadata": {},
   "outputs": [],
   "source": [
    "now=datetime.datetime.now()"
   ]
  },
  {
   "cell_type": "code",
   "execution_count": 3,
   "id": "aa47f043-0c33-4e53-8034-cce06871b5ce",
   "metadata": {},
   "outputs": [],
   "source": [
    "nowtime=now.strftime('%Y/%m/%d')"
   ]
  },
  {
   "cell_type": "code",
   "execution_count": 4,
   "id": "3af250f7-0f82-46b3-8c7a-5068607e69b6",
   "metadata": {},
   "outputs": [
    {
     "name": "stdout",
     "output_type": "stream",
     "text": [
      "2023/11/15\n"
     ]
    }
   ],
   "source": [
    "print(nowtime)"
   ]
  },
  {
   "cell_type": "code",
   "execution_count": 5,
   "id": "d0cf66b7-03ab-46af-852b-d6f0a6414718",
   "metadata": {},
   "outputs": [],
   "source": [
    "now_time=now.strftime('%Y_%m_%d')"
   ]
  },
  {
   "cell_type": "code",
   "execution_count": 6,
   "id": "fe54567c-1804-441b-9f99-32e45c8590a0",
   "metadata": {},
   "outputs": [],
   "source": [
    "nowtime=\"2023/09/30\"\n",
    "now_time=\"2023_09_30\""
   ]
  },
  {
   "cell_type": "code",
   "execution_count": 7,
   "id": "ded582b0-14e5-4af4-8de9-ded4bc3e996c",
   "metadata": {},
   "outputs": [],
   "source": [
    "def cal_time(time):\n",
    "    time = time.split('/')\n",
    "    year = int(time[0])\n",
    "    month = int(time[1]) - 12\n",
    "    day = int(time[2])\n",
    "    if month < 1:\n",
    "        month += 12\n",
    "        year -= 1\n",
    "    time = datetime.datetime(year=year, month=month, day=1).strftime('%Y/%m/%d')\n",
    "    return time"
   ]
  },
  {
   "cell_type": "code",
   "execution_count": 8,
   "id": "677a0234-9688-42fb-8944-49638cca8b80",
   "metadata": {},
   "outputs": [],
   "source": [
    "def cal_time2(time):\n",
    "    time = time.split('/')\n",
    "    year = int(time[0])\n",
    "    month = int(time[1]) +1\n",
    "    day = int(time[2])\n",
    "    if month >12:\n",
    "        month = 1\n",
    "        year += 1\n",
    "    time = datetime.datetime(year=year, month=month, day=1).strftime('%Y/%m/%d')\n",
    "    return time"
   ]
  },
  {
   "cell_type": "code",
   "execution_count": 9,
   "id": "9046f96f-d5c0-41b9-ba51-17c220244c85",
   "metadata": {},
   "outputs": [],
   "source": [
    "former_time=cal_time(nowtime)"
   ]
  },
  {
   "cell_type": "code",
   "execution_count": 10,
   "id": "19884ae1-41ab-480c-beff-08c0fdda5c6b",
   "metadata": {},
   "outputs": [
    {
     "data": {
      "text/plain": [
       "'2022/09/01'"
      ]
     },
     "execution_count": 10,
     "metadata": {},
     "output_type": "execute_result"
    }
   ],
   "source": [
    "former_time"
   ]
  },
  {
   "cell_type": "code",
   "execution_count": 18,
   "id": "f26723d8-7a16-46c5-b064-3e21c40f9528",
   "metadata": {},
   "outputs": [],
   "source": [
    "former_time='1951/01/01'"
   ]
  },
  {
   "cell_type": "code",
   "execution_count": 19,
   "id": "1c38b288-e948-4c45-ac19-db47bf18ef6f",
   "metadata": {},
   "outputs": [],
   "source": [
    "idlist=[]\n",
    "while former_time < now_time:\n",
    "    terms='(\"aging\"[Title/Abstract] OR \"ageing\"[Title/Abstract] OR \"longevity\"[Title/Abstract] OR \"centenarian\"[Title/Abstract] OR \"centenarians\"[Title/Abstract] \\\n",
    "            OR \"the elderly\"[Title/Abstract] OR \"the aged\"[Title/Abstract] OR \"old people\"[Title/Abstract] OR \"older people\"[Title/Abstract] OR \"old age\"[Title/Abstract] \\\n",
    "            OR \"gerontology\"[Title/Abstract] OR \"geroscience\"[Title/Abstract] OR \"lifespan\"[Title/Abstract] OR \"healthspan\"[Title/Abstract] OR \"life expectancy\"[Title/Abstract] AND \\\n",
    "            Journal Article[ptyp] AND \"humans\"[MeSH Terms] AND English[lang] AND (\"'+str(former_time)+'\"[Date - Publication] : \"'+str(cal_time2(former_time))+'\"[Date - Publication]))'\n",
    "    Entrez.email=\"12007002@zju.edu.cn\"\n",
    "    handle_0 = Entrez.esearch(db=\"pubmed\", term=terms,retmax=10000)\n",
    "    record = Entrez.read(handle_0)\n",
    "    idlist+=list(record[\"IdList\"])\n",
    "    # print(\"Found %i results\" % len(idlist))\n",
    "    if len(list(record[\"IdList\"]))==9999:\n",
    "        print('error')\n",
    "        break\n",
    "    former_time=cal_time2(former_time)"
   ]
  },
  {
   "cell_type": "code",
   "execution_count": 20,
   "id": "bc76705b-9e8d-45fc-a304-b94a4d647ba8",
   "metadata": {},
   "outputs": [
    {
     "data": {
      "text/plain": [
       "737717"
      ]
     },
     "execution_count": 20,
     "metadata": {},
     "output_type": "execute_result"
    }
   ],
   "source": [
    "len(idlist)"
   ]
  },
  {
   "cell_type": "code",
   "execution_count": 30,
   "id": "fc11d42a-b561-4689-9277-f9e22285f71f",
   "metadata": {},
   "outputs": [
    {
     "data": {
      "text/plain": [
       "339918"
      ]
     },
     "execution_count": 30,
     "metadata": {},
     "output_type": "execute_result"
    }
   ],
   "source": [
    "len(set(idlist))"
   ]
  },
  {
   "cell_type": "code",
   "execution_count": 32,
   "id": "2b6f0648-a88d-4eb8-9da9-b931e2ef59c1",
   "metadata": {},
   "outputs": [],
   "source": [
    "idlist_list=list(set(idlist))"
   ]
  },
  {
   "cell_type": "code",
   "execution_count": 33,
   "id": "dee78885-e816-4042-8eea-60d111b34d76",
   "metadata": {},
   "outputs": [],
   "source": [
    "with open('idlist.txt','a') as f:\n",
    "    for i in idlist_list:\n",
    "        f.write(i)"
   ]
  },
  {
   "cell_type": "code",
   "execution_count": 30,
   "id": "f82af8fb-529c-4426-99c4-2af11b51f8a1",
   "metadata": {},
   "outputs": [],
   "source": [
    "client = MongoClient(username=\"hald\",password=\"mclab236\")"
   ]
  },
  {
   "cell_type": "code",
   "execution_count": 31,
   "id": "cfde33b2-f19f-4e62-a100-fea93a528d5e",
   "metadata": {},
   "outputs": [],
   "source": [
    "db = client.hald"
   ]
  },
  {
   "cell_type": "code",
   "execution_count": 32,
   "id": "269eb2d8-edba-49e1-9504-84dd174b14a5",
   "metadata": {},
   "outputs": [
    {
     "data": {
      "text/plain": [
       "Database(MongoClient(host=['localhost:27017'], document_class=dict, tz_aware=False, connect=True), 'hald')"
      ]
     },
     "execution_count": 32,
     "metadata": {},
     "output_type": "execute_result"
    }
   ],
   "source": [
    "db"
   ]
  },
  {
   "cell_type": "code",
   "execution_count": null,
   "id": "66540388-c076-4dc8-bf81-85dcf9dff728",
   "metadata": {},
   "outputs": [],
   "source": []
  },
  {
   "cell_type": "markdown",
   "id": "4852aede-0fc5-4c2e-9578-d1c5d63412f8",
   "metadata": {
    "tags": []
   },
   "source": [
    "# pubmed_raw_pmid"
   ]
  },
  {
   "cell_type": "code",
   "execution_count": 33,
   "id": "fcf0a965-3456-4717-9b21-0f17f2810ddd",
   "metadata": {},
   "outputs": [],
   "source": [
    "collections_pubmed_raw_pmid=db.pubmed_raw_pmid"
   ]
  },
  {
   "cell_type": "code",
   "execution_count": 34,
   "id": "39f6b406-23ff-4d0b-b607-dbc2b90a6539",
   "metadata": {},
   "outputs": [],
   "source": [
    "pmids=list(collections_pubmed_raw_pmid.find())"
   ]
  },
  {
   "cell_type": "code",
   "execution_count": 21,
   "id": "51912704-ec44-4400-8eed-ac46d90b6afc",
   "metadata": {},
   "outputs": [
    {
     "data": {
      "text/plain": [
       "295579"
      ]
     },
     "execution_count": 35,
     "metadata": {},
     "output_type": "execute_result"
    }
   ],
   "source": [
    "len(pmids)"
   ]
  },
  {
   "cell_type": "code",
   "execution_count": 37,
   "id": "fbcefe43-6cdc-40bb-bb2b-761e054ee429",
   "metadata": {},
   "outputs": [
    {
     "data": {
      "text/plain": [
       "[{'_id': ObjectId('6393476d5303aaecac1f079a'),\n",
       "  'PMID': '35796512',\n",
       "  'addtime': '20220724'},\n",
       " {'_id': ObjectId('6393476d5303aaecac1f079b'),\n",
       "  'PMID': '35796396',\n",
       "  'addtime': '20220724'}]"
      ]
     },
     "execution_count": 37,
     "metadata": {},
     "output_type": "execute_result"
    }
   ],
   "source": [
    "pmids[:2]"
   ]
  },
  {
   "cell_type": "code",
   "execution_count": 38,
   "id": "848c9030-2dfc-4f79-a6c0-267a32533af6",
   "metadata": {},
   "outputs": [],
   "source": [
    "pmid_list=[]\n",
    "for i in pmids:\n",
    "    pmid_list.append(i.get('PMID'))"
   ]
  },
  {
   "cell_type": "code",
   "execution_count": 28,
   "id": "e84e9b02-cfb9-462f-aad3-aed3f4b55ec7",
   "metadata": {},
   "outputs": [
    {
     "data": {
      "text/plain": [
       "['35796512', '35796396']"
      ]
     },
     "execution_count": 28,
     "metadata": {},
     "output_type": "execute_result"
    }
   ],
   "source": [
    "pmid_list[:2]"
   ]
  },
  {
   "cell_type": "code",
   "execution_count": 29,
   "id": "7649b387-c748-4110-b43d-119c3f4cfccc",
   "metadata": {},
   "outputs": [
    {
     "data": {
      "text/plain": [
       "301892"
      ]
     },
     "execution_count": 29,
     "metadata": {},
     "output_type": "execute_result"
    }
   ],
   "source": [
    "len(pmid_list)"
   ]
  },
  {
   "cell_type": "code",
   "execution_count": 39,
   "id": "b713c512-aaf7-4bb5-9f3e-8ea03513d817",
   "metadata": {},
   "outputs": [
    {
     "data": {
      "text/plain": [
       "295579"
      ]
     },
     "execution_count": 39,
     "metadata": {},
     "output_type": "execute_result"
    }
   ],
   "source": [
    "len(pmid_list)"
   ]
  },
  {
   "cell_type": "code",
   "execution_count": 34,
   "id": "4f4d4a46-eab1-465e-923c-e69e92c76bdd",
   "metadata": {},
   "outputs": [],
   "source": [
    "pmid_dict={}\n",
    "for i in pmids:\n",
    "    pmid_dict[i.get('PMID')]=i.get('PMID')"
   ]
  },
  {
   "cell_type": "code",
   "execution_count": 35,
   "id": "e77f6034-753b-4a29-9cab-7ac4358c8832",
   "metadata": {},
   "outputs": [
    {
     "data": {
      "text/plain": [
       "301892"
      ]
     },
     "execution_count": 35,
     "metadata": {},
     "output_type": "execute_result"
    }
   ],
   "source": [
    "len(pmid_dict)"
   ]
  },
  {
   "cell_type": "code",
   "execution_count": 36,
   "id": "f534fd02-c569-4503-9d20-166b087ac9a7",
   "metadata": {},
   "outputs": [],
   "source": [
    "new_articles_raw=[]\n",
    "for i in idlist_list:\n",
    "    if not pmid_dict.get(i):\n",
    "        new_articles_raw.append(i)"
   ]
  },
  {
   "cell_type": "code",
   "execution_count": 37,
   "id": "5fa756ee-248e-45d9-8ba3-3208867043b9",
   "metadata": {},
   "outputs": [
    {
     "data": {
      "text/plain": [
       "38726"
      ]
     },
     "execution_count": 37,
     "metadata": {},
     "output_type": "execute_result"
    }
   ],
   "source": [
    "len(new_articles_raw)"
   ]
  },
  {
   "cell_type": "code",
   "execution_count": null,
   "id": "cb78274f-603b-4877-9d6d-06648aefb316",
   "metadata": {},
   "outputs": [],
   "source": []
  },
  {
   "cell_type": "code",
   "execution_count": 42,
   "id": "6b807d21-20a8-4043-8956-e70b51c2af30",
   "metadata": {},
   "outputs": [],
   "source": [
    "res=[]\n",
    "for i in range(0,len(new_articles_raw),1000):\n",
    "    id=new_articles_raw[i:i+1000]\n",
    "    handle_1 = Entrez.efetch(db=\"pubmed\", id=id, rettype=\"medline\",retmode=\"text\")\n",
    "    records = Medline.parse(handle_1)\n",
    "    res.append(list(records))"
   ]
  },
  {
   "cell_type": "code",
   "execution_count": 43,
   "id": "6a12ed16-787e-4a00-a5e1-089ca4ec7544",
   "metadata": {},
   "outputs": [],
   "source": [
    "raw_pick=[]\n",
    "for i in res:\n",
    "    raw_pick+=i"
   ]
  },
  {
   "cell_type": "code",
   "execution_count": 44,
   "id": "c517ebaa-3e89-4add-a9ac-cdad891f3cd6",
   "metadata": {},
   "outputs": [
    {
     "data": {
      "text/plain": [
       "38726"
      ]
     },
     "execution_count": 44,
     "metadata": {},
     "output_type": "execute_result"
    }
   ],
   "source": [
    "len(raw_pick)"
   ]
  },
  {
   "cell_type": "code",
   "execution_count": null,
   "id": "04d82385-ed06-4dbd-bf28-e07d8cc27eba",
   "metadata": {},
   "outputs": [],
   "source": []
  },
  {
   "cell_type": "code",
   "execution_count": 45,
   "id": "0c09b362-a6f9-4d0a-8511-1476a61f0e67",
   "metadata": {},
   "outputs": [],
   "source": [
    "reserved_raw_pick=[]\n",
    "reserved_raw_pick_pmid=[]\n",
    "for i in raw_pick:\n",
    "    if i.get('AB'):\n",
    "        if not pmid_dict.get(i.get('PMID')):\n",
    "            i['addtime']=now_time\n",
    "            reserved_raw_pick.append(i)\n",
    "            reserved_raw_pick_pmid.append({'PMID':i.get('PMID'),'addtime':i.get('addtime')})"
   ]
  },
  {
   "cell_type": "code",
   "execution_count": 46,
   "id": "b362461f-8e73-4de1-94f0-5ecc773452e9",
   "metadata": {},
   "outputs": [
    {
     "data": {
      "text/plain": [
       "37253"
      ]
     },
     "execution_count": 46,
     "metadata": {},
     "output_type": "execute_result"
    }
   ],
   "source": [
    "len(reserved_raw_pick)"
   ]
  },
  {
   "cell_type": "code",
   "execution_count": 47,
   "id": "c44cd5f2-97f8-42ae-882b-99d9785434d0",
   "metadata": {},
   "outputs": [
    {
     "data": {
      "text/plain": [
       "{'PMID': '23778148',\n",
       " 'OWN': 'NLM',\n",
       " 'STAT': 'MEDLINE',\n",
       " 'DCOM': '20140617',\n",
       " 'LR': '20130827',\n",
       " 'IS': '1873-2054 (Electronic) 1353-8292 (Linking)',\n",
       " 'VI': '23',\n",
       " 'DP': '2013 Sep',\n",
       " 'TI': 'Small-area health comparisons using health-adjusted life expectancies: a Bayesian random-effects approach.',\n",
       " 'PG': '70-8',\n",
       " 'LID': 'S1353-8292(13)00063-4 [pii] 10.1016/j.healthplace.2013.04.003 [doi]',\n",
       " 'AB': \"Health-adjusted life expectancy (HALE) is one of the most attractive summary measures of population health. It provides balanced attention to fatal as well as non-fatal health outcomes, is sensitive to the severity of morbidity within the population, and can be readily compared between areas with very different population age structures. HALE, however, cannot be calculated at the small-area level using traditional life table methodology. Hence we propose a Bayesian random-effects modeling approach that recognizes correlations and pools strength between sexes, age-groups, geographical areas, and health outcomes. This approach allows for the calculation of HALE for areas as small as 2000 person years at risk and with relatively modest health state survey sample sizes. The feasibility of the Bayesian approach is illustrated in a real-life example, which also shows how differences in areas' health performances can be adequately quantified. Such information can be invaluable for the appropriate targetting and subsequent evaluation of urban regeneration, neighborhood renewal, and community-based initiatives aimed at improving health and reducing health inequalities.\",\n",
       " 'CI': ['Copyright (c) 2013 Elsevier Ltd. All rights reserved.'],\n",
       " 'FAU': ['Jonker, Marcel F',\n",
       "  'Congdon, Peter D',\n",
       "  'van Lenthe, Frank J',\n",
       "  'Donkers, Bas',\n",
       "  'Burdorf, Alex',\n",
       "  'Mackenbach, Johan P'],\n",
       " 'AU': ['Jonker MF',\n",
       "  'Congdon PD',\n",
       "  'van Lenthe FJ',\n",
       "  'Donkers B',\n",
       "  'Burdorf A',\n",
       "  'Mackenbach JP'],\n",
       " 'AD': ['Department of Public Health, Erasmus MC, University Medical Centre Rotterdam, PO Box 2040, 3000 CA Rotterdam, The Netherlands. m.jonker@erasmusmc.nl'],\n",
       " 'LA': ['eng'],\n",
       " 'PT': ['Comparative Study', 'Journal Article'],\n",
       " 'DEP': '20130509',\n",
       " 'PL': 'England',\n",
       " 'TA': 'Health Place',\n",
       " 'JT': 'Health & place',\n",
       " 'JID': '9510067',\n",
       " 'MH': ['Adolescent',\n",
       "  'Adult',\n",
       "  'Aged',\n",
       "  'Aged, 80 and over',\n",
       "  'Bayes Theorem',\n",
       "  'Child',\n",
       "  'Child, Preschool',\n",
       "  'Female',\n",
       "  '*Health Status',\n",
       "  'Humans',\n",
       "  'Infant',\n",
       "  '*Life Expectancy',\n",
       "  'Male',\n",
       "  'Middle Aged',\n",
       "  'Netherlands',\n",
       "  'Population Surveillance/methods',\n",
       "  '*Small-Area Analysis',\n",
       "  'Young Adult'],\n",
       " 'OTO': ['NOTNLM'],\n",
       " 'OT': ['Bayesian analysis',\n",
       "  'Health-adjusted life expectancy',\n",
       "  'Life expectancy',\n",
       "  'Population health',\n",
       "  'Small-area analysis'],\n",
       " 'EDAT': '2013/06/20 06:00',\n",
       " 'MHDA': '2014/06/18 06:00',\n",
       " 'CRDT': ['2013/06/20 06:00'],\n",
       " 'PHST': ['2012/10/11 00:00 [received]',\n",
       "  '2013/03/05 00:00 [revised]',\n",
       "  '2013/04/12 00:00 [accepted]',\n",
       "  '2013/06/20 06:00 [entrez]',\n",
       "  '2013/06/20 06:00 [pubmed]',\n",
       "  '2014/06/18 06:00 [medline]'],\n",
       " 'AID': ['S1353-8292(13)00063-4 [pii]',\n",
       "  '10.1016/j.healthplace.2013.04.003 [doi]'],\n",
       " 'PST': 'ppublish',\n",
       " 'SO': 'Health Place. 2013 Sep;23:70-8. doi: 10.1016/j.healthplace.2013.04.003. Epub 2013 May 9.',\n",
       " 'addtime': '2023_09_30'}"
      ]
     },
     "execution_count": 47,
     "metadata": {},
     "output_type": "execute_result"
    }
   ],
   "source": [
    "reserved_raw_pick[0]"
   ]
  },
  {
   "cell_type": "code",
   "execution_count": 48,
   "id": "2b537127-c376-48fd-8797-96da1977db9e",
   "metadata": {},
   "outputs": [
    {
     "data": {
      "text/plain": [
       "<pymongo.results.InsertManyResult at 0x7fdcd8bcb5c0>"
      ]
     },
     "execution_count": 48,
     "metadata": {},
     "output_type": "execute_result"
    }
   ],
   "source": [
    "collections_pubmed_raw_pmid.insert_many(reserved_raw_pick_pmid)"
   ]
  },
  {
   "cell_type": "code",
   "execution_count": 49,
   "id": "57c79435-622a-4de5-bf86-0d8f9386d9c4",
   "metadata": {},
   "outputs": [
    {
     "data": {
      "text/plain": [
       "339145"
      ]
     },
     "execution_count": 49,
     "metadata": {},
     "output_type": "execute_result"
    }
   ],
   "source": [
    "len(list(collections_pubmed_raw_pmid.find()))"
   ]
  },
  {
   "cell_type": "code",
   "execution_count": 29,
   "id": "d9964a1f-9dde-43f0-973f-9f639f6578f4",
   "metadata": {},
   "outputs": [
    {
     "data": {
      "text/plain": [
       "0"
      ]
     },
     "execution_count": 29,
     "metadata": {},
     "output_type": "execute_result"
    }
   ],
   "source": [
    "len(list(collections_pubmed_raw_pmid.find({'addtime':'20230930'})))"
   ]
  },
  {
   "cell_type": "code",
   "execution_count": 26,
   "id": "765810ff-0823-4193-ba19-e4080a67401e",
   "metadata": {},
   "outputs": [
    {
     "data": {
      "text/plain": [
       "{'_id': ObjectId('6459f20c48e9c8c060125f41'),\n",
       " 'PMID': '30772335',\n",
       " 'addtime': '2023_05_09'}"
      ]
     },
     "execution_count": 26,
     "metadata": {},
     "output_type": "execute_result"
    }
   ],
   "source": [
    "pmids[-1]"
   ]
  },
  {
   "cell_type": "code",
   "execution_count": 27,
   "id": "2a9adc60-1c6e-4faa-9499-d10733c64397",
   "metadata": {},
   "outputs": [
    {
     "data": {
      "text/plain": [
       "{'_id': ObjectId('6393476d5303aaecac1f079a'),\n",
       " 'PMID': '35796512',\n",
       " 'addtime': '20220724'}"
      ]
     },
     "execution_count": 27,
     "metadata": {},
     "output_type": "execute_result"
    }
   ],
   "source": [
    "pmids[0]"
   ]
  },
  {
   "cell_type": "code",
   "execution_count": 28,
   "id": "a91d2c63-778d-4e05-b8f9-7cfd32f84aeb",
   "metadata": {},
   "outputs": [
    {
     "data": {
      "text/plain": [
       "{'_id': ObjectId('6459f20c48e9c8c060125ede'),\n",
       " 'PMID': '35341422',\n",
       " 'addtime': '2023_05_09'}"
      ]
     },
     "execution_count": 28,
     "metadata": {},
     "output_type": "execute_result"
    }
   ],
   "source": [
    "pmids[-100]"
   ]
  },
  {
   "cell_type": "markdown",
   "id": "8864ea6a-a71b-4135-8756-923cc795ac40",
   "metadata": {
    "tags": []
   },
   "source": [
    "# pubmed_raw (reserved_raw_pick)"
   ]
  },
  {
   "cell_type": "code",
   "execution_count": 50,
   "id": "ec92c140-aee1-42cc-8cba-d6929f788e8f",
   "metadata": {},
   "outputs": [],
   "source": [
    "collections_pubmed_raw = db.pubmed_raw"
   ]
  },
  {
   "cell_type": "code",
   "execution_count": 51,
   "id": "f9fc6e3d-7f8d-42be-bd19-78eb8a6b1a58",
   "metadata": {},
   "outputs": [
    {
     "data": {
      "text/plain": [
       "<pymongo.results.InsertManyResult at 0x7fdcd894bac0>"
      ]
     },
     "execution_count": 51,
     "metadata": {},
     "output_type": "execute_result"
    }
   ],
   "source": [
    "collections_pubmed_raw.insert_many(reserved_raw_pick)"
   ]
  },
  {
   "cell_type": "code",
   "execution_count": 52,
   "id": "f0526a13-5ea6-44ee-9bdd-0bcc07787e24",
   "metadata": {},
   "outputs": [
    {
     "data": {
      "text/plain": [
       "{'PMID': '26230305',\n",
       " 'OWN': 'NLM',\n",
       " 'STAT': 'MEDLINE',\n",
       " 'DCOM': '20160121',\n",
       " 'LR': '20150803',\n",
       " 'IS': '2325-7237 (Electronic) 2325-7237 (Linking)',\n",
       " 'VI': '5',\n",
       " 'IP': '3',\n",
       " 'DP': '2015 Aug 1',\n",
       " 'TI': 'A Delayed Finding of a Tracheal Cartilaginous Sleeve in a Patient with Pfeiffer Syndrome Type 2 and a Complex Airway History.',\n",
       " 'PG': '36-9',\n",
       " 'LID': '10.1213/XAA.0000000000000175 [doi]',\n",
       " 'AB': 'Persistent airway obstruction symptoms in a 2(1/2)-year-old boy with Pfeiffer syndrome were attributed to facial abnormalities, central and obstructive sleep apnea, and tracheomalacia from a vascular ring. These findings delayed the diagnosis of a tracheal cartilaginous sleeve. Life expectancy in tracheal cartilaginous sleeve is improved by tracheostomy. Tracheal cartilaginous sleeve should be considered and investigated through airway endoscopy in children with fibroblast growth factor receptor-related craniosynostosis syndromes.',\n",
       " 'FAU': ['Colomb, Camille',\n",
       "  'Hippard, Helena Karlberg',\n",
       "  'Canadas, Karina',\n",
       "  'Watcha, Mehernoor'],\n",
       " 'AU': ['Colomb C', 'Hippard HK', 'Canadas K', 'Watcha M'],\n",
       " 'AD': [\"From the Departments of *Anesthesiology and daggerOtolaryngology, Texas Children's Hospital, Baylor College of Medicine, Houston, Texas.\"],\n",
       " 'LA': ['eng'],\n",
       " 'PT': ['Journal Article'],\n",
       " 'PL': 'United States',\n",
       " 'TA': 'A A Case Rep',\n",
       " 'JT': 'A & A case reports',\n",
       " 'JID': '101637720',\n",
       " 'RN': ['0 (Receptors, Fibroblast Growth Factor)', 'Cardiocranial syndrome'],\n",
       " 'SB': 'IM',\n",
       " 'MH': ['Abnormalities, Multiple/*surgery',\n",
       "  '*Acrocephalosyndactylia',\n",
       "  'Airway Obstruction/*etiology/surgery',\n",
       "  'Child, Preschool',\n",
       "  'Craniosynostoses/genetics',\n",
       "  '*Heart Defects, Congenital',\n",
       "  'Humans',\n",
       "  'Male',\n",
       "  'Receptors, Fibroblast Growth Factor/genetics',\n",
       "  'Trachea/*abnormalities',\n",
       "  'Tracheostomy'],\n",
       " 'EDAT': '2015/08/01 06:00',\n",
       " 'MHDA': '2016/01/23 06:00',\n",
       " 'CRDT': ['2015/08/01 06:00'],\n",
       " 'PHST': ['2015/08/01 06:00 [entrez]',\n",
       "  '2015/08/01 06:00 [pubmed]',\n",
       "  '2016/01/23 06:00 [medline]'],\n",
       " 'AID': ['01720097-201508010-00002 [pii]',\n",
       "  '10.1213/XAA.0000000000000175 [doi]'],\n",
       " 'PST': 'ppublish',\n",
       " 'SO': 'A A Case Rep. 2015 Aug 1;5(3):36-9. doi: 10.1213/XAA.0000000000000175.',\n",
       " 'addtime': '2023_09_30',\n",
       " '_id': ObjectId('652d4321bae5bd33e2bde338')}"
      ]
     },
     "execution_count": 52,
     "metadata": {},
     "output_type": "execute_result"
    }
   ],
   "source": [
    "reserved_raw_pick[20]"
   ]
  },
  {
   "cell_type": "code",
   "execution_count": null,
   "id": "1ef186d3-a845-4769-a327-c44952466eb8",
   "metadata": {},
   "outputs": [],
   "source": []
  },
  {
   "cell_type": "code",
   "execution_count": null,
   "id": "77b91a2e-1cd7-4820-9806-cc8dcea17b81",
   "metadata": {},
   "outputs": [],
   "source": []
  },
  {
   "cell_type": "markdown",
   "id": "33eed07e-072f-497d-85b7-58c60c6b9d66",
   "metadata": {},
   "source": [
    "# pubtator_raw_pmid"
   ]
  },
  {
   "cell_type": "code",
   "execution_count": 53,
   "id": "f27868aa-b0dc-4d25-b8f6-c8e3c0f578ca",
   "metadata": {},
   "outputs": [],
   "source": [
    "collection_pubtator_raw_pmid = db.pubtator_raw_pmid"
   ]
  },
  {
   "cell_type": "code",
   "execution_count": 54,
   "id": "fd6e9eed-4a5f-4072-96e9-14b9ee2966e0",
   "metadata": {},
   "outputs": [],
   "source": [
    "previous_pubtator_pmid=list(collection_pubtator_raw_pmid.find({}))"
   ]
  },
  {
   "cell_type": "code",
   "execution_count": 55,
   "id": "a83dc342-4f16-455a-97b2-c0cb97568836",
   "metadata": {},
   "outputs": [
    {
     "data": {
      "text/plain": [
       "279606"
      ]
     },
     "execution_count": 55,
     "metadata": {},
     "output_type": "execute_result"
    }
   ],
   "source": [
    "len(previous_pubtator_pmid)"
   ]
  },
  {
   "cell_type": "code",
   "execution_count": 56,
   "id": "48c968e4-19ba-4476-a5af-5b27cd1ed023",
   "metadata": {},
   "outputs": [],
   "source": [
    "previous_pubtator_pmids_dict={}\n",
    "for i in previous_pubtator_pmid:\n",
    "    previous_pubtator_pmids_dict[i.get('PMID')]=i.get('PMID')"
   ]
  },
  {
   "cell_type": "code",
   "execution_count": 57,
   "id": "43cdf16d-dae8-4334-a0c1-fa84e1d9fff2",
   "metadata": {},
   "outputs": [],
   "source": [
    "current_pubtator_pmid=[]\n",
    "for i in reserved_raw_pick:\n",
    "    if i.get('AB'):\n",
    "        if not previous_pubtator_pmids_dict.get(i.get('PMID')):\n",
    "            i['addtime']=now_time\n",
    "            current_pubtator_pmid.append(i.get('PMID'))"
   ]
  },
  {
   "cell_type": "code",
   "execution_count": 58,
   "id": "0144b196-18f0-40f6-8d0d-da0ac27bf5bb",
   "metadata": {},
   "outputs": [
    {
     "data": {
      "text/plain": [
       "37253"
      ]
     },
     "execution_count": 58,
     "metadata": {},
     "output_type": "execute_result"
    }
   ],
   "source": [
    "len(current_pubtator_pmid)"
   ]
  },
  {
   "cell_type": "code",
   "execution_count": 59,
   "id": "6ec9bd21-3b85-4eae-8db3-280550760de4",
   "metadata": {},
   "outputs": [],
   "source": [
    "pmids_list=[]\n",
    "for i in current_pubtator_pmid:\n",
    "    pmids_list.append(i)"
   ]
  },
  {
   "cell_type": "code",
   "execution_count": 60,
   "id": "5d9aaccc-36f0-4baf-a214-752e059ea3ed",
   "metadata": {},
   "outputs": [
    {
     "data": {
      "text/plain": [
       "37253"
      ]
     },
     "execution_count": 60,
     "metadata": {},
     "output_type": "execute_result"
    }
   ],
   "source": [
    "len(pmids_list)"
   ]
  },
  {
   "cell_type": "code",
   "execution_count": 61,
   "id": "c7e835b2-6d62-44c5-b260-7c0324ed24b7",
   "metadata": {},
   "outputs": [],
   "source": [
    "def SubmitPMIDList(pmids,Format,now_time):\n",
    "\tjson = {\"pmids\": pmids}\n",
    "\tr = requests.post(\"https://www.ncbi.nlm.nih.gov/research/pubtator-api/publications/export/\"+Format , json = json)\n",
    "\tif r.status_code != 200 :\n",
    "\t\tprint (\"[Error]: HTTP code \"+ str(r.status_code))\n",
    "\telse:\n",
    "\t\twith open(now_time+'_pubtator_raw.txt','a',encoding=\"UTF-8\") as fileread:\n",
    "\t\t\tfileread.write(str(r.text.encode(\"utf-8\"),encoding=\"UTF-8\"))"
   ]
  },
  {
   "cell_type": "code",
   "execution_count": 62,
   "id": "9c3db324-6740-4ba3-a322-7a65cf5428f8",
   "metadata": {},
   "outputs": [],
   "source": [
    "import time\n",
    "pubtator_raw=[]\n",
    "for i in range(0,len(pmids_list),1000):\n",
    "    SubmitPMIDList(pmids_list[i:i+1000],'biocjson',now_time)\n",
    "    time.sleep(0.1)"
   ]
  },
  {
   "cell_type": "code",
   "execution_count": 63,
   "id": "28d8f2f7-7941-42aa-820c-2c7c9554665c",
   "metadata": {},
   "outputs": [],
   "source": [
    "ttt=open(now_time+'_pubtator_raw.txt',\"r\")"
   ]
  },
  {
   "cell_type": "code",
   "execution_count": 64,
   "id": "c0d162dd-4833-4dab-9d18-0755434ddf12",
   "metadata": {},
   "outputs": [],
   "source": [
    "overjson=[]\n",
    "for l in ttt.readlines():\n",
    "    overjson.append(l.rstrip())"
   ]
  },
  {
   "cell_type": "code",
   "execution_count": 65,
   "id": "2c1b6484-29d7-44d0-b580-68c9f6e27bc6",
   "metadata": {},
   "outputs": [
    {
     "data": {
      "text/plain": [
       "37253"
      ]
     },
     "execution_count": 65,
     "metadata": {},
     "output_type": "execute_result"
    }
   ],
   "source": [
    "len(overjson)"
   ]
  },
  {
   "cell_type": "code",
   "execution_count": 66,
   "id": "df8605a1-61b3-4289-841c-7f92fd968102",
   "metadata": {},
   "outputs": [],
   "source": [
    "pubtator_list=copy.deepcopy(overjson)"
   ]
  },
  {
   "cell_type": "code",
   "execution_count": 67,
   "id": "ead0f482-5580-41ec-a255-c4d88d8300fb",
   "metadata": {},
   "outputs": [],
   "source": [
    "pubtator_json=[]\n",
    "for i in pubtator_list:\n",
    "    pubtator_json.append(json.loads(i))"
   ]
  },
  {
   "cell_type": "code",
   "execution_count": 68,
   "id": "550e7804-8720-4546-814f-aa9bf1d210f2",
   "metadata": {},
   "outputs": [],
   "source": [
    "pubtator_pmid_list=[]\n",
    "for i in pubtator_json:\n",
    "    pubtator_pmid_list.append(i.get('id'))"
   ]
  },
  {
   "cell_type": "code",
   "execution_count": 69,
   "id": "da799ed0-2d11-4387-a246-8b5ba1742fed",
   "metadata": {},
   "outputs": [
    {
     "data": {
      "text/plain": [
       "37253"
      ]
     },
     "execution_count": 69,
     "metadata": {},
     "output_type": "execute_result"
    }
   ],
   "source": [
    "len(pubtator_pmid_list)"
   ]
  },
  {
   "cell_type": "code",
   "execution_count": 70,
   "id": "7ab8e925-e717-471a-8a75-1eea3951e54f",
   "metadata": {},
   "outputs": [
    {
     "data": {
      "text/plain": [
       "'37669871'"
      ]
     },
     "execution_count": 70,
     "metadata": {},
     "output_type": "execute_result"
    }
   ],
   "source": [
    "pubtator_pmid_list[0]"
   ]
  },
  {
   "cell_type": "code",
   "execution_count": 71,
   "id": "99fa87ea-7a17-4602-8504-a1eaa912aac5",
   "metadata": {},
   "outputs": [],
   "source": [
    "current_pubtator_pmid_list=[]\n",
    "for i in pubtator_pmid_list:\n",
    "    current_pubtator_pmid_list.append({'PMID':i,'addtime':now_time})"
   ]
  },
  {
   "cell_type": "code",
   "execution_count": 72,
   "id": "493447f3-c0a2-4766-8405-4cb048579802",
   "metadata": {},
   "outputs": [
    {
     "data": {
      "text/plain": [
       "37253"
      ]
     },
     "execution_count": 72,
     "metadata": {},
     "output_type": "execute_result"
    }
   ],
   "source": [
    "len(current_pubtator_pmid_list)"
   ]
  },
  {
   "cell_type": "code",
   "execution_count": 73,
   "id": "f4c3d354-7461-4e15-bfba-1af21c108537",
   "metadata": {},
   "outputs": [
    {
     "data": {
      "text/plain": [
       "<pymongo.results.InsertManyResult at 0x7fdc9b20bec0>"
      ]
     },
     "execution_count": 73,
     "metadata": {},
     "output_type": "execute_result"
    }
   ],
   "source": [
    "collection_pubtator_raw_pmid.insert_many(current_pubtator_pmid_list)"
   ]
  },
  {
   "cell_type": "code",
   "execution_count": null,
   "id": "10940484-51c7-42a7-a1d1-7d5e87acc14b",
   "metadata": {},
   "outputs": [],
   "source": []
  },
  {
   "cell_type": "code",
   "execution_count": null,
   "id": "bc44e976-3b3f-4ace-bd17-71e09072f7bc",
   "metadata": {},
   "outputs": [],
   "source": []
  },
  {
   "cell_type": "markdown",
   "id": "61d586ac-8eca-4513-87cb-43a3d9828335",
   "metadata": {
    "tags": []
   },
   "source": [
    "# pubtator_info  (raw_pick_pubtator)"
   ]
  },
  {
   "cell_type": "code",
   "execution_count": 15,
   "id": "eadb67da-7ce0-4b0c-a4bc-2f741c6b6b75",
   "metadata": {},
   "outputs": [],
   "source": [
    "collections_pubtator_info = db.pubtator_info"
   ]
  },
  {
   "cell_type": "code",
   "execution_count": 75,
   "id": "e882f243-92d0-4057-919f-80be6261dbc1",
   "metadata": {},
   "outputs": [],
   "source": [
    "filtered_pubtator_json=[]\n",
    "for i in pubtator_json:\n",
    "    if i.get('passages'):\n",
    "        for j in i.get('passages')[1].get('annotations'):\n",
    "            if j.get('infons'):\n",
    "                if j.get('infons').get('identifier')=='9606':\n",
    "                    filtered_pubtator_json.append(i)\n",
    "                    break"
   ]
  },
  {
   "cell_type": "code",
   "execution_count": 76,
   "id": "544beb4b-193c-4703-98bc-cd6e2852cd11",
   "metadata": {},
   "outputs": [
    {
     "data": {
      "text/plain": [
       "29634"
      ]
     },
     "execution_count": 76,
     "metadata": {},
     "output_type": "execute_result"
    }
   ],
   "source": [
    "len(filtered_pubtator_json)"
   ]
  },
  {
   "cell_type": "code",
   "execution_count": 77,
   "id": "f4e2ba11-0064-4ee2-b9d3-86511f5d8641",
   "metadata": {},
   "outputs": [],
   "source": [
    "second_filtered_pubtator_json=[]\n",
    "for i in filtered_pubtator_json:\n",
    "    if i.get('passages'):\n",
    "        for j in i.get('passages')[1].get('annotations'):\n",
    "            if j.get('infons'):\n",
    "                    if j.get('infons').get('type') in ('Gene', 'Chemical', 'Mutation','Disease') :\n",
    "                        second_filtered_pubtator_json.append(i)\n",
    "                        break"
   ]
  },
  {
   "cell_type": "code",
   "execution_count": 78,
   "id": "2234d167-f401-42a2-88b2-8d25afdbd256",
   "metadata": {},
   "outputs": [
    {
     "data": {
      "text/plain": [
       "27003"
      ]
     },
     "execution_count": 78,
     "metadata": {},
     "output_type": "execute_result"
    }
   ],
   "source": [
    "len(second_filtered_pubtator_json)"
   ]
  },
  {
   "cell_type": "code",
   "execution_count": 79,
   "id": "603952eb-83d6-4957-ae44-be22c8346b02",
   "metadata": {},
   "outputs": [],
   "source": [
    "entities_dict={}\n",
    "for i in second_filtered_pubtator_json:\n",
    "    if i.get('id'):\n",
    "        entities_list=[]\n",
    "        for j in i.get('passages')[1].get('annotations'):\n",
    "            entities_list.append(j.get('text'))\n",
    "        entities_dict[i.get('id')]=entities_list"
   ]
  },
  {
   "cell_type": "code",
   "execution_count": 80,
   "id": "e6c812c6-986c-42b2-84ce-7f415203d826",
   "metadata": {},
   "outputs": [],
   "source": [
    "second_filtered_pubtator_dict={}\n",
    "for i in second_filtered_pubtator_json:\n",
    "    if i.get('id'):\n",
    "        second_filtered_pubtator_dict[i.get('id')]=i"
   ]
  },
  {
   "cell_type": "code",
   "execution_count": 81,
   "id": "fb4d19bd-765a-4b97-8644-cd9e529d7d33",
   "metadata": {},
   "outputs": [
    {
     "data": {
      "text/plain": [
       "{'_id': '37567086|None',\n",
       " 'id': '37567086',\n",
       " 'infons': {},\n",
       " 'passages': [{'infons': {'journal': 'Int J Pediatr Otorhinolaryngol;2023Aug08; 172 111695. doi:10.1016/j.ijporl.2023.111695',\n",
       "    'year': '2023',\n",
       "    'type': 'title',\n",
       "    'authors': 'Sud P, Munjal SK, Panda N, ',\n",
       "    'section': 'Title'},\n",
       "   'offset': 0,\n",
       "   'text': 'Challenges faced by Indian parents in raising a child with a cochlear implant - Impact on communication outcomes.',\n",
       "   'sentences': [],\n",
       "   'annotations': [{'id': '1',\n",
       "     'infons': {'identifier': '9606', 'type': 'Species'},\n",
       "     'text': 'child',\n",
       "     'locations': [{'offset': 48, 'length': 5}]}],\n",
       "   'relations': []},\n",
       "  {'infons': {'type': 'abstract', 'section': 'Abstract'},\n",
       "   'offset': 114,\n",
       "   'text': \"OBJECTIVES: The objectives of the present study were to understand the parental views regarding stress, and its affect language, and auditory outcomes. The study also aims to understand the relationship between parental stress, and child's age. DESIGN, SETTING AND PARTICIPANTS: A retrospective study was performed at a tertiary medical hospital. 50 parents of cochlear implant recipients were recruited for the study. The parents were interviewed and the children were tested using a test battery. The average age of implantation was 4.29 years, and the average hearing age was 3.23 years. MAIN OUTCOME MEASURES: The parents were interviewed about their child's needs, and experience with the cochlear implant using the Strength, and Difficulty questionnaire in Hindi, Questionnaire on Resources, and Stress-Short Form, and the Family Environment Scale, Closed - format Questionnaire to understand parental views, and experiences. The language outcomes were studied using the Integrated Scales of Development (ISD), Revised Categories of Auditory Performance. Factor analysis, and Chi-square tests were performed to understand potential relationships between parental stress, and child language, and/or auditory outcomes. RESULTS: The results provide five main factors that accounted for significant variance including financial stress (30.1%), hyperactivity (15.2%), lack of personal rewards (13%), peer problems (10.9%), and emotional problems (9.2%). Acquisition of language was highly influenced by stress and caregiver's 'lack of personal rewards. 'Financial stress', and 'hyperactive behavior' of the child significantly affected the receptive language acquisition of a HI child. The most concerning factors for parents were well-being, and happiness (0.885), followed by social relationships (0.830), communication (0.736), the process of implantation (0.695), and the decision to implant (0.681). The stress regarding finance among parents increased marginally (0.024) as the child's age progressed. CONCLUSION: Parental stress is ongoing. The impact on the expressive language development of the child is significant. The maximum concern of parents is regarding the financial aspects of a cochlear implant, and the lifespan care of their child. Hence, professionals should provide regular, and context-specific counseling to parents after implantation to understand the parents' concerns, and provide appropriate remediation.\",\n",
       "   'sentences': [],\n",
       "   'annotations': [{'id': '15',\n",
       "     'infons': {'identifier': '9606', 'type': 'Species'},\n",
       "     'text': 'child',\n",
       "     'locations': [{'offset': 346, 'length': 5}]},\n",
       "    {'id': '16',\n",
       "     'infons': {'identifier': '9606', 'type': 'Species'},\n",
       "     'text': 'PARTICIPANTS',\n",
       "     'locations': [{'offset': 379, 'length': 12}]},\n",
       "    {'id': '17',\n",
       "     'infons': {'identifier': '9606', 'type': 'Species'},\n",
       "     'text': 'children',\n",
       "     'locations': [{'offset': 570, 'length': 8}]},\n",
       "    {'id': '18',\n",
       "     'infons': {'identifier': '9606', 'type': 'Species'},\n",
       "     'text': 'child',\n",
       "     'locations': [{'offset': 769, 'length': 5}]},\n",
       "    {'id': '19',\n",
       "     'infons': {'identifier': 'MESH:D000079225', 'type': 'Disease'},\n",
       "     'text': 'Stress',\n",
       "     'locations': [{'offset': 916, 'length': 6}]},\n",
       "    {'id': '20',\n",
       "     'infons': {'identifier': '9606', 'type': 'Species'},\n",
       "     'text': 'child',\n",
       "     'locations': [{'offset': 1295, 'length': 5}]},\n",
       "    {'id': '21',\n",
       "     'infons': {'identifier': 'MESH:D006948', 'type': 'Disease'},\n",
       "     'text': 'hyperactivity',\n",
       "     'locations': [{'offset': 1460, 'length': 13}]},\n",
       "    {'id': '22',\n",
       "     'infons': {'identifier': 'MESH:D011595', 'type': 'Disease'},\n",
       "     'text': 'hyperactive behavior',\n",
       "     'locations': [{'offset': 1693, 'length': 20}]},\n",
       "    {'id': '23',\n",
       "     'infons': {'identifier': '9606', 'type': 'Species'},\n",
       "     'text': 'child',\n",
       "     'locations': [{'offset': 1722, 'length': 5}]},\n",
       "    {'id': '24',\n",
       "     'infons': {'identifier': '9606', 'type': 'Species'},\n",
       "     'text': 'child',\n",
       "     'locations': [{'offset': 1794, 'length': 5}]},\n",
       "    {'id': '25',\n",
       "     'infons': {'identifier': '9606', 'type': 'Species'},\n",
       "     'text': 'child',\n",
       "     'locations': [{'offset': 2099, 'length': 5}]},\n",
       "    {'id': '26',\n",
       "     'infons': {'identifier': '9606', 'type': 'Species'},\n",
       "     'text': 'child',\n",
       "     'locations': [{'offset': 2220, 'length': 5}]},\n",
       "    {'id': '27',\n",
       "     'infons': {'identifier': '9606', 'type': 'Species'},\n",
       "     'text': 'child',\n",
       "     'locations': [{'offset': 2362, 'length': 5}]}],\n",
       "   'relations': []}],\n",
       " 'relations': [],\n",
       " 'pmid': 37567086,\n",
       " 'pmcid': None,\n",
       " 'created': {'$date': 1694618032463},\n",
       " 'accessions': ['disease@MESH:D006948',\n",
       "  'disease@MESH:D011595',\n",
       "  'species@9606',\n",
       "  'disease@MESH:D000079225'],\n",
       " 'journal': 'Int J Pediatr Otorhinolaryngol',\n",
       " 'year': 2023,\n",
       " 'authors': ['Sud P', 'Munjal SK', 'Panda N']}"
      ]
     },
     "execution_count": 81,
     "metadata": {},
     "output_type": "execute_result"
    }
   ],
   "source": [
    "second_filtered_pubtator_json[0]"
   ]
  },
  {
   "cell_type": "code",
   "execution_count": 82,
   "id": "b2c78c72-6d2e-4f2a-979f-0f2b2eb25d94",
   "metadata": {
    "tags": []
   },
   "outputs": [
    {
     "name": "stdout",
     "output_type": "stream",
     "text": [
      "Parent process 2240.\n",
      "Waiting for all subprocesses done...\n",
      "All subprocesses done.\n",
      "The running time is 110s\n"
     ]
    }
   ],
   "source": [
    "from nltk.tokenize import sent_tokenize\n",
    "import datetime\n",
    "import re\n",
    "from multiprocessing import Process, Manager, Pool\n",
    "import os, time, random\n",
    "def work(i,rawlength,lock):\n",
    "    info=i.get('passages')[1]\n",
    "    abstract=info.get('text')\n",
    "    sentences=sent_tokenize(abstract)\n",
    "    positions=[]\n",
    "    size=len(sentences)\n",
    "    start=0\n",
    "    for k,j in enumerate(sentences):\n",
    "        newj=j.translate(str.maketrans({\"-\":  r\"\\-\",\"\\\\\": r\"\\\\\", \"^\":  r\"\\^\",\"$\":  r\"\\$\",\"*\":  r\"\\*\",\".\":  r\"\\.\",\"(\":  r\"\\(\",\")\":  r\"\\)\",\"+\":  r\"\\+\",\"[\":  r\"\\[\",\"]\":  r\"\\]\",\n",
    "                                      \"{\":  r\"\\{\",\"}\":  r\"\\}\",\"|\":  r\"\\|\",\"?\":  r\"\\?\"}))\n",
    "        spanlist=re.search(newj,abstract,flags=re.M|re.I).span()\n",
    "        abstract=abstract[spanlist[1]:]\n",
    "        positions.append((start+spanlist[0],start+spanlist[1]))\n",
    "        start+=spanlist[1]\n",
    "    middict={'PMID':i.get('id'),'AB':info.get('text'),'SENTENCE':sentences,'positions':positions,'annotations':info.get('annotations'),'offset':info.get('offset')}\n",
    "    lock.acquire()\n",
    "    rawlength.append(middict)\n",
    "    lock.release()\n",
    "if __name__=='__main__':\n",
    "    start=datetime.datetime.now()\n",
    "    print('Parent process %s.' % os.getpid())\n",
    "    p=Pool(40)\n",
    "    manager=Manager()\n",
    "    rawlength=manager.list()\n",
    "    lock=manager.Lock()\n",
    "    for i in second_filtered_pubtator_json:\n",
    "        if i.get('passages'):\n",
    "            p.apply_async(work, args=(i,rawlength,lock))\n",
    "    print('Waiting for all subprocesses done...')\n",
    "    p.close()\n",
    "    p.join()\n",
    "    print('All subprocesses done.')\n",
    "    end=datetime.datetime.now()\n",
    "    print(\"The running time is \"+str((end-start).seconds)+\"s\")  "
   ]
  },
  {
   "cell_type": "code",
   "execution_count": 83,
   "id": "a8938397-68f1-439e-9257-ee63ffd920b3",
   "metadata": {},
   "outputs": [],
   "source": [
    "pubtators_list=list(rawlength)"
   ]
  },
  {
   "cell_type": "code",
   "execution_count": 84,
   "id": "f1eab218-25f6-4c03-abae-52ed7a2ac957",
   "metadata": {},
   "outputs": [
    {
     "data": {
      "text/plain": [
       "27003"
      ]
     },
     "execution_count": 84,
     "metadata": {},
     "output_type": "execute_result"
    }
   ],
   "source": [
    "len(pubtators_list)"
   ]
  },
  {
   "cell_type": "code",
   "execution_count": 85,
   "id": "dc205e48-7b26-448f-8642-d8a4c3b735c4",
   "metadata": {},
   "outputs": [],
   "source": [
    "pubtator_raw=[]\n",
    "error=[]\n",
    "error2=[]\n",
    "for i in pubtators_list:\n",
    "    for j in i.get('annotations'):\n",
    "        for k,l in enumerate(i.get('positions')):\n",
    "            if j.get('locations')[0].get('offset')>=l[0]+i.get('offset') and j.get('locations')[0].get('offset')<l[1]+i.get('offset'):\n",
    "                pubtator_raw.append({'id':i.get('PMID'),'AB':i.get('AB'), 'type': j.get('infons').get('type'), \\\n",
    "                                     'identifier':j.get('infons').get('identifier'),'text':j.get('text'),'sentence':i.get('SENTENCE')[k],\\\n",
    "                                     'sentenceSize':len(i.get('SENTENCE')),'sentenceIndex':k})\n",
    "                break\n",
    "        else:\n",
    "            error.append(i)\n",
    "            error2.append(j)"
   ]
  },
  {
   "cell_type": "code",
   "execution_count": 86,
   "id": "baeaae03-464a-4896-a3bd-f9c7cc0cd41f",
   "metadata": {},
   "outputs": [],
   "source": [
    "pubtator_raw_dict2AB={}\n",
    "for i in pubtator_raw:\n",
    "    pubtator_raw_dict2AB[i.get('id')]=i.get('AB')"
   ]
  },
  {
   "cell_type": "code",
   "execution_count": 87,
   "id": "a3eb45ed-1645-48b5-83a8-db6881779e5f",
   "metadata": {},
   "outputs": [
    {
     "data": {
      "text/plain": [
       "0"
      ]
     },
     "execution_count": 87,
     "metadata": {},
     "output_type": "execute_result"
    }
   ],
   "source": [
    "len(error)"
   ]
  },
  {
   "cell_type": "code",
   "execution_count": 88,
   "id": "a1c5e412-ad27-4cdd-be43-371cd5f29fbf",
   "metadata": {},
   "outputs": [
    {
     "data": {
      "text/plain": [
       "0"
      ]
     },
     "execution_count": 88,
     "metadata": {},
     "output_type": "execute_result"
    }
   ],
   "source": [
    "len(error2)"
   ]
  },
  {
   "cell_type": "code",
   "execution_count": 89,
   "id": "9bbfd873-19d0-4311-9d47-b4f27544a225",
   "metadata": {},
   "outputs": [
    {
     "data": {
      "text/plain": [
       "421342"
      ]
     },
     "execution_count": 89,
     "metadata": {},
     "output_type": "execute_result"
    }
   ],
   "source": [
    "len(pubtator_raw)"
   ]
  },
  {
   "cell_type": "code",
   "execution_count": 90,
   "id": "22e13c39-c04f-4124-b019-4912b378d5fd",
   "metadata": {},
   "outputs": [],
   "source": [
    "raw_pick_pubtator=[]\n",
    "for i in reserved_raw_pick:\n",
    "    if i.get('AB'):\n",
    "        if pubtator_raw_dict2AB.get(i.get('PMID')):\n",
    "            i.update({'AB':pubtator_raw_dict2AB.get(i.get('PMID'))})\n",
    "            raw_pick_pubtator.append(i)"
   ]
  },
  {
   "cell_type": "code",
   "execution_count": 91,
   "id": "b19713dd-29a5-4df4-90f7-8de1a14d4fd0",
   "metadata": {},
   "outputs": [
    {
     "data": {
      "text/plain": [
       "27003"
      ]
     },
     "execution_count": 91,
     "metadata": {},
     "output_type": "execute_result"
    }
   ],
   "source": [
    "len(pubtator_raw_dict2AB)"
   ]
  },
  {
   "cell_type": "code",
   "execution_count": 92,
   "id": "119179a4-7e27-4070-9186-9c2c149f5f66",
   "metadata": {},
   "outputs": [
    {
     "data": {
      "text/plain": [
       "37253"
      ]
     },
     "execution_count": 92,
     "metadata": {},
     "output_type": "execute_result"
    }
   ],
   "source": [
    "len(reserved_raw_pick)"
   ]
  },
  {
   "cell_type": "code",
   "execution_count": 93,
   "id": "9500ab27-beef-4dbe-a694-d2be94371885",
   "metadata": {},
   "outputs": [
    {
     "data": {
      "text/plain": [
       "27003"
      ]
     },
     "execution_count": 93,
     "metadata": {},
     "output_type": "execute_result"
    }
   ],
   "source": [
    "len(raw_pick_pubtator)"
   ]
  },
  {
   "cell_type": "code",
   "execution_count": 94,
   "id": "5eafc741-c398-4fd1-80bf-5f7ceb744d21",
   "metadata": {},
   "outputs": [],
   "source": [
    "for i in raw_pick_pubtator:\n",
    "    i['addtime']=now_time"
   ]
  },
  {
   "cell_type": "code",
   "execution_count": 95,
   "id": "5d2b4e92-ce33-4ca7-a149-5c8d987c79cd",
   "metadata": {},
   "outputs": [
    {
     "data": {
      "text/plain": [
       "<pymongo.results.InsertManyResult at 0x7fdc42ddd540>"
      ]
     },
     "execution_count": 95,
     "metadata": {},
     "output_type": "execute_result"
    }
   ],
   "source": [
    "collections_pubtator_info.insert_many(raw_pick_pubtator)"
   ]
  },
  {
   "cell_type": "code",
   "execution_count": 96,
   "id": "3995078d-6a14-43d4-ba21-4ca386d480b7",
   "metadata": {},
   "outputs": [
    {
     "data": {
      "text/plain": [
       "206395"
      ]
     },
     "execution_count": 96,
     "metadata": {},
     "output_type": "execute_result"
    }
   ],
   "source": [
    "len(list(collections_pubtator_info.find()))"
   ]
  },
  {
   "cell_type": "code",
   "execution_count": 16,
   "id": "dc6ba972-c5de-4fbf-8e56-4cb255a9b493",
   "metadata": {},
   "outputs": [
    {
     "data": {
      "text/plain": [
       "175189"
      ]
     },
     "execution_count": 16,
     "metadata": {},
     "output_type": "execute_result"
    }
   ],
   "source": [
    "len(list(collections_pubtator_info.find()))"
   ]
  },
  {
   "cell_type": "code",
   "execution_count": null,
   "id": "a5daec66-527e-4b49-9652-7f6dd2b98fe1",
   "metadata": {},
   "outputs": [],
   "source": []
  },
  {
   "cell_type": "markdown",
   "id": "dcaf4880-e1fb-4de2-b374-59b5d76a052a",
   "metadata": {},
   "source": [
    "# pubtator_for_compare_latest (pubtator_raw)"
   ]
  },
  {
   "cell_type": "code",
   "execution_count": 97,
   "id": "d7b39150-0b9b-4f0b-97c1-42249b251cd8",
   "metadata": {},
   "outputs": [],
   "source": [
    "collections_pubtator_for_compare_latest=db.pubtator_for_compare_latest"
   ]
  },
  {
   "cell_type": "code",
   "execution_count": 98,
   "id": "35bbc752-1f21-4e66-8d35-6be34f2222d9",
   "metadata": {},
   "outputs": [],
   "source": [
    "for i in pubtator_raw:\n",
    "    i['addtime']=now_time"
   ]
  },
  {
   "cell_type": "code",
   "execution_count": 99,
   "id": "db4bca65-1e24-4bc6-b478-a1dd7c6ee9e5",
   "metadata": {},
   "outputs": [
    {
     "data": {
      "text/plain": [
       "<pymongo.results.InsertManyResult at 0x7fdb84c284c0>"
      ]
     },
     "execution_count": 99,
     "metadata": {},
     "output_type": "execute_result"
    }
   ],
   "source": [
    "collections_pubtator_for_compare_latest.insert_many(pubtator_raw)"
   ]
  },
  {
   "cell_type": "code",
   "execution_count": 100,
   "id": "514a7865-cc75-4dc4-92de-a930ef3f745d",
   "metadata": {},
   "outputs": [
    {
     "data": {
      "text/plain": [
       "421342"
      ]
     },
     "execution_count": 100,
     "metadata": {},
     "output_type": "execute_result"
    }
   ],
   "source": [
    "len(pubtator_raw)"
   ]
  },
  {
   "cell_type": "code",
   "execution_count": 101,
   "id": "920bd57a-aa86-413e-8b47-4116b2bf72da",
   "metadata": {},
   "outputs": [
    {
     "data": {
      "text/plain": [
       "'/root/hald_autoupdate/2023_10_17'"
      ]
     },
     "execution_count": 101,
     "metadata": {},
     "output_type": "execute_result"
    }
   ],
   "source": [
    "pwd"
   ]
  },
  {
   "cell_type": "code",
   "execution_count": 102,
   "id": "f0aaaf8d-4b11-4ae3-aca7-7cf616e36ad2",
   "metadata": {},
   "outputs": [],
   "source": [
    "os.makedirs('results/step1/')\n",
    "os.makedirs('results/step2/')\n",
    "os.makedirs('results/step3/')\n",
    "os.makedirs('results/step4/')\n",
    "os.makedirs('results/step5/')"
   ]
  },
  {
   "cell_type": "code",
   "execution_count": 103,
   "id": "acfd2c74-1c50-4c39-a357-e9ff7755aa2b",
   "metadata": {},
   "outputs": [],
   "source": [
    "pickle.dump(raw_pick,open('results/step1/raw_pick.pkl','wb'))\n",
    "pickle.dump(raw_pick_pubtator,open('results/step1/raw_pick_pubtator.pkl','wb'))\n",
    "pickle.dump(pubtator_raw,open('results/step1/pubtator_raw.pkl','wb'))"
   ]
  },
  {
   "cell_type": "code",
   "execution_count": 104,
   "id": "cab38b2b-c2c7-4486-be2e-fb6ff1a18893",
   "metadata": {},
   "outputs": [
    {
     "data": {
      "text/plain": [
       "{'id': '37459417',\n",
       " 'AB': 'More than 16 000 Americans experience spinal cord injury (SCI), resulting in chronic disability and other secondary sequelae, each year. Improvements in acute medical management have increased life expectancy. Cardiovascular disease is a leading cause of death in this population, and seems to occur earlier in individuals with SCI compared with the general population. People with SCI experience a high burden of traditional cardiovascular disease risk factors, including dyslipidemia and diabetes, and demonstrate anatomic, metabolic, and physiologic changes alongside stark reductions in physical activity after injury. They also experience multiple, complex barriers to care relating to disability and, in many cases, compounding effects of intersecting racial and socioeconomic health inequities. Given this combination of risk factors, some investigators have proposed that people with SCI are at increased risk for cardiovascular disease, beyond that associated with traditional risk factors, and SCI could be considered a risk-enhancing factor, analogous to other risk-enhancing factors defined by the 2019 American Heart Association/American College of Cardiology Primary Prevention Guidelines. However, more research is needed in this population to clarify the role of traditional risk factors, novel risk factors, health care access, social determinants of health, and intersectionality of disability, race, and socioeconomic status. There is an urgent need for primary care physicians and cardiologists to have awareness of the importance of timely diagnosis and management of cardiac risk factors for people with SCI.',\n",
       " 'type': 'Disease',\n",
       " 'identifier': 'MESH:D013119',\n",
       " 'text': 'spinal cord injury',\n",
       " 'sentence': 'More than 16 000 Americans experience spinal cord injury (SCI), resulting in chronic disability and other secondary sequelae, each year.',\n",
       " 'sentenceSize': 8,\n",
       " 'sentenceIndex': 0,\n",
       " 'addtime': '2023_09_30',\n",
       " '_id': ObjectId('652d59a0bae5bd33e2bf062e')}"
      ]
     },
     "execution_count": 104,
     "metadata": {},
     "output_type": "execute_result"
    }
   ],
   "source": [
    "pubtator_raw[0]"
   ]
  },
  {
   "cell_type": "code",
   "execution_count": 105,
   "id": "2cbf92ca-b593-4f0b-be52-3016c2aa944b",
   "metadata": {},
   "outputs": [
    {
     "data": {
      "text/plain": [
       "'2023_09_30'"
      ]
     },
     "execution_count": 105,
     "metadata": {},
     "output_type": "execute_result"
    }
   ],
   "source": [
    "now_time"
   ]
  },
  {
   "cell_type": "code",
   "execution_count": null,
   "id": "808fa358-804e-480d-a67e-b2ab1be64221",
   "metadata": {},
   "outputs": [],
   "source": []
  },
  {
   "cell_type": "code",
   "execution_count": null,
   "id": "7ce95f68-c0f4-4b2d-870e-a7eb4b6e988f",
   "metadata": {},
   "outputs": [],
   "source": []
  },
  {
   "cell_type": "markdown",
   "id": "36db955c-3d31-441a-94f2-d56d27a0ddac",
   "metadata": {},
   "source": [
    "# Literature_Info.json"
   ]
  },
  {
   "cell_type": "code",
   "execution_count": 106,
   "id": "c8f350d5-5e7a-4421-93ae-bc1545a286e9",
   "metadata": {},
   "outputs": [],
   "source": [
    "pd.set_option('display.max_columns', 50)"
   ]
  },
  {
   "cell_type": "code",
   "execution_count": 107,
   "id": "f2e68375-afd5-49d1-9792-7423fa34c7a6",
   "metadata": {},
   "outputs": [],
   "source": [
    "jcr=pd.read_csv(\"../JCR/jcr2022.tsv\",sep=\"\\t\")"
   ]
  },
  {
   "cell_type": "code",
   "execution_count": 108,
   "id": "c66ba69f-c10b-4ec6-bcb1-219304ec5947",
   "metadata": {},
   "outputs": [
    {
     "data": {
      "text/plain": [
       "21430"
      ]
     },
     "execution_count": 108,
     "metadata": {},
     "output_type": "execute_result"
    }
   ],
   "source": [
    "len(jcr)"
   ]
  },
  {
   "cell_type": "code",
   "execution_count": 109,
   "id": "e3e775b2-df7d-4f12-a3b5-1210da34bfdf",
   "metadata": {},
   "outputs": [
    {
     "data": {
      "text/html": [
       "<div>\n",
       "<style scoped>\n",
       "    .dataframe tbody tr th:only-of-type {\n",
       "        vertical-align: middle;\n",
       "    }\n",
       "\n",
       "    .dataframe tbody tr th {\n",
       "        vertical-align: top;\n",
       "    }\n",
       "\n",
       "    .dataframe thead th {\n",
       "        text-align: right;\n",
       "    }\n",
       "</style>\n",
       "<table border=\"1\" class=\"dataframe\">\n",
       "  <thead>\n",
       "    <tr style=\"text-align: right;\">\n",
       "      <th></th>\n",
       "      <th>rank</th>\n",
       "      <th>journalTitle</th>\n",
       "      <th>abbrJournal</th>\n",
       "      <th>year</th>\n",
       "      <th>edition</th>\n",
       "      <th>issn</th>\n",
       "      <th>totalCites</th>\n",
       "      <th>journalImpactFactor</th>\n",
       "      <th>impactFactorWithoutJournalSelfCites</th>\n",
       "      <th>fiveYearImpactFactor</th>\n",
       "      <th>immediacyIndex</th>\n",
       "      <th>citableItems</th>\n",
       "      <th>citedHalfLife</th>\n",
       "      <th>citingHalfLife</th>\n",
       "      <th>eigenFactorScore</th>\n",
       "      <th>articleInfluenceScore</th>\n",
       "      <th>citesCurrent</th>\n",
       "      <th>articlesCurrent</th>\n",
       "      <th>selfCites</th>\n",
       "      <th>impactFactorSelfCites</th>\n",
       "      <th>originalResearch</th>\n",
       "      <th>jifPercentile</th>\n",
       "      <th>normEigenFactor</th>\n",
       "    </tr>\n",
       "  </thead>\n",
       "  <tbody>\n",
       "    <tr>\n",
       "      <th>21420</th>\n",
       "      <td>12425</td>\n",
       "      <td>AGENDA</td>\n",
       "      <td>AGENDA</td>\n",
       "      <td>2022</td>\n",
       "      <td>NaN</td>\n",
       "      <td>0002-0796</td>\n",
       "      <td>159</td>\n",
       "      <td>0.0</td>\n",
       "      <td>0.0</td>\n",
       "      <td>0.0</td>\n",
       "      <td>0.0</td>\n",
       "      <td>0</td>\n",
       "      <td>17.8</td>\n",
       "      <td>0.0</td>\n",
       "      <td>0.00005</td>\n",
       "      <td>0.114</td>\n",
       "      <td>NaN</td>\n",
       "      <td>NaN</td>\n",
       "      <td>NaN</td>\n",
       "      <td>NaN</td>\n",
       "      <td>NaN</td>\n",
       "      <td>0.0</td>\n",
       "      <td>0.01206</td>\n",
       "    </tr>\n",
       "    <tr>\n",
       "      <th>21421</th>\n",
       "      <td>12425</td>\n",
       "      <td>Abakos</td>\n",
       "      <td>ABAKOS</td>\n",
       "      <td>2022</td>\n",
       "      <td>NaN</td>\n",
       "      <td>2316-9451</td>\n",
       "      <td>7</td>\n",
       "      <td>0.0</td>\n",
       "      <td>0.0</td>\n",
       "      <td>0.0</td>\n",
       "      <td>0.0</td>\n",
       "      <td>18</td>\n",
       "      <td>0.0</td>\n",
       "      <td>10.7</td>\n",
       "      <td>0.00003</td>\n",
       "      <td>0.068</td>\n",
       "      <td>NaN</td>\n",
       "      <td>NaN</td>\n",
       "      <td>NaN</td>\n",
       "      <td>NaN</td>\n",
       "      <td>NaN</td>\n",
       "      <td>0.0</td>\n",
       "      <td>0.00733</td>\n",
       "    </tr>\n",
       "    <tr>\n",
       "      <th>21422</th>\n",
       "      <td>12425</td>\n",
       "      <td>Adalya</td>\n",
       "      <td>ADALYA</td>\n",
       "      <td>2022</td>\n",
       "      <td>NaN</td>\n",
       "      <td>1301-2746</td>\n",
       "      <td>75</td>\n",
       "      <td>0.0</td>\n",
       "      <td>0.0</td>\n",
       "      <td>0.0</td>\n",
       "      <td>0.0</td>\n",
       "      <td>19</td>\n",
       "      <td>0.0</td>\n",
       "      <td>16.2</td>\n",
       "      <td>0.00027</td>\n",
       "      <td>0.306</td>\n",
       "      <td>NaN</td>\n",
       "      <td>NaN</td>\n",
       "      <td>NaN</td>\n",
       "      <td>NaN</td>\n",
       "      <td>NaN</td>\n",
       "      <td>0.0</td>\n",
       "      <td>0.05846</td>\n",
       "    </tr>\n",
       "    <tr>\n",
       "      <th>21423</th>\n",
       "      <td>12425</td>\n",
       "      <td>Anduli</td>\n",
       "      <td>ANDULI</td>\n",
       "      <td>2022</td>\n",
       "      <td>NaN</td>\n",
       "      <td>1696-0270</td>\n",
       "      <td>35</td>\n",
       "      <td>0.0</td>\n",
       "      <td>0.0</td>\n",
       "      <td>0.0</td>\n",
       "      <td>0.0</td>\n",
       "      <td>15</td>\n",
       "      <td>0.0</td>\n",
       "      <td>14.6</td>\n",
       "      <td>0.00007</td>\n",
       "      <td>0.150</td>\n",
       "      <td>NaN</td>\n",
       "      <td>NaN</td>\n",
       "      <td>NaN</td>\n",
       "      <td>NaN</td>\n",
       "      <td>NaN</td>\n",
       "      <td>0.0</td>\n",
       "      <td>0.01555</td>\n",
       "    </tr>\n",
       "    <tr>\n",
       "      <th>21424</th>\n",
       "      <td>12425</td>\n",
       "      <td>Anemia</td>\n",
       "      <td>ANEMIA</td>\n",
       "      <td>2022</td>\n",
       "      <td>NaN</td>\n",
       "      <td>2090-1267</td>\n",
       "      <td>502</td>\n",
       "      <td>0.0</td>\n",
       "      <td>0.0</td>\n",
       "      <td>0.0</td>\n",
       "      <td>0.0</td>\n",
       "      <td>14</td>\n",
       "      <td>7.3</td>\n",
       "      <td>7.7</td>\n",
       "      <td>0.00030</td>\n",
       "      <td>0.550</td>\n",
       "      <td>NaN</td>\n",
       "      <td>NaN</td>\n",
       "      <td>NaN</td>\n",
       "      <td>NaN</td>\n",
       "      <td>NaN</td>\n",
       "      <td>0.0</td>\n",
       "      <td>0.06589</td>\n",
       "    </tr>\n",
       "    <tr>\n",
       "      <th>21425</th>\n",
       "      <td>12425</td>\n",
       "      <td>Appeal</td>\n",
       "      <td>APPEAL</td>\n",
       "      <td>2022</td>\n",
       "      <td>NaN</td>\n",
       "      <td>1205-612X</td>\n",
       "      <td>56</td>\n",
       "      <td>0.0</td>\n",
       "      <td>0.0</td>\n",
       "      <td>0.0</td>\n",
       "      <td>0.0</td>\n",
       "      <td>6</td>\n",
       "      <td>0.0</td>\n",
       "      <td>4.8</td>\n",
       "      <td>0.00019</td>\n",
       "      <td>0.550</td>\n",
       "      <td>NaN</td>\n",
       "      <td>NaN</td>\n",
       "      <td>NaN</td>\n",
       "      <td>NaN</td>\n",
       "      <td>NaN</td>\n",
       "      <td>0.0</td>\n",
       "      <td>0.04134</td>\n",
       "    </tr>\n",
       "    <tr>\n",
       "      <th>21426</th>\n",
       "      <td>12425</td>\n",
       "      <td>Atenas</td>\n",
       "      <td>ATENAS</td>\n",
       "      <td>2022</td>\n",
       "      <td>NaN</td>\n",
       "      <td>1682-2749</td>\n",
       "      <td>60</td>\n",
       "      <td>0.0</td>\n",
       "      <td>0.0</td>\n",
       "      <td>0.0</td>\n",
       "      <td>0.0</td>\n",
       "      <td>0</td>\n",
       "      <td>0.0</td>\n",
       "      <td>0.0</td>\n",
       "      <td>0.00007</td>\n",
       "      <td>0.034</td>\n",
       "      <td>NaN</td>\n",
       "      <td>NaN</td>\n",
       "      <td>NaN</td>\n",
       "      <td>NaN</td>\n",
       "      <td>NaN</td>\n",
       "      <td>0.0</td>\n",
       "      <td>0.01561</td>\n",
       "    </tr>\n",
       "    <tr>\n",
       "      <th>21427</th>\n",
       "      <td>12425</td>\n",
       "      <td>Atenea</td>\n",
       "      <td>ATENEA-CONCEPC</td>\n",
       "      <td>2022</td>\n",
       "      <td>NaN</td>\n",
       "      <td>0718-0462</td>\n",
       "      <td>105</td>\n",
       "      <td>0.0</td>\n",
       "      <td>0.0</td>\n",
       "      <td>0.0</td>\n",
       "      <td>0.0</td>\n",
       "      <td>35</td>\n",
       "      <td>8.8</td>\n",
       "      <td>15.8</td>\n",
       "      <td>0.00034</td>\n",
       "      <td>0.281</td>\n",
       "      <td>NaN</td>\n",
       "      <td>NaN</td>\n",
       "      <td>NaN</td>\n",
       "      <td>NaN</td>\n",
       "      <td>NaN</td>\n",
       "      <td>0.0</td>\n",
       "      <td>0.07463</td>\n",
       "    </tr>\n",
       "    <tr>\n",
       "      <th>21428</th>\n",
       "      <td>12425</td>\n",
       "      <td>AusArt</td>\n",
       "      <td>AUSART</td>\n",
       "      <td>2022</td>\n",
       "      <td>NaN</td>\n",
       "      <td>2340-9134</td>\n",
       "      <td>13</td>\n",
       "      <td>0.0</td>\n",
       "      <td>0.0</td>\n",
       "      <td>0.0</td>\n",
       "      <td>0.0</td>\n",
       "      <td>32</td>\n",
       "      <td>0.0</td>\n",
       "      <td>11.8</td>\n",
       "      <td>0.00002</td>\n",
       "      <td>0.017</td>\n",
       "      <td>NaN</td>\n",
       "      <td>NaN</td>\n",
       "      <td>NaN</td>\n",
       "      <td>NaN</td>\n",
       "      <td>NaN</td>\n",
       "      <td>0.0</td>\n",
       "      <td>0.00594</td>\n",
       "    </tr>\n",
       "  </tbody>\n",
       "</table>\n",
       "</div>"
      ],
      "text/plain": [
       "        rank journalTitle     abbrJournal  year  edition       issn  \\\n",
       "21420  12425       AGENDA          AGENDA  2022      NaN  0002-0796   \n",
       "21421  12425       Abakos          ABAKOS  2022      NaN  2316-9451   \n",
       "21422  12425       Adalya          ADALYA  2022      NaN  1301-2746   \n",
       "21423  12425       Anduli          ANDULI  2022      NaN  1696-0270   \n",
       "21424  12425       Anemia          ANEMIA  2022      NaN  2090-1267   \n",
       "21425  12425       Appeal          APPEAL  2022      NaN  1205-612X   \n",
       "21426  12425       Atenas          ATENAS  2022      NaN  1682-2749   \n",
       "21427  12425       Atenea  ATENEA-CONCEPC  2022      NaN  0718-0462   \n",
       "21428  12425       AusArt          AUSART  2022      NaN  2340-9134   \n",
       "\n",
       "       totalCites  journalImpactFactor  impactFactorWithoutJournalSelfCites  \\\n",
       "21420         159                  0.0                                  0.0   \n",
       "21421           7                  0.0                                  0.0   \n",
       "21422          75                  0.0                                  0.0   \n",
       "21423          35                  0.0                                  0.0   \n",
       "21424         502                  0.0                                  0.0   \n",
       "21425          56                  0.0                                  0.0   \n",
       "21426          60                  0.0                                  0.0   \n",
       "21427         105                  0.0                                  0.0   \n",
       "21428          13                  0.0                                  0.0   \n",
       "\n",
       "       fiveYearImpactFactor  immediacyIndex  citableItems  citedHalfLife  \\\n",
       "21420                   0.0             0.0             0           17.8   \n",
       "21421                   0.0             0.0            18            0.0   \n",
       "21422                   0.0             0.0            19            0.0   \n",
       "21423                   0.0             0.0            15            0.0   \n",
       "21424                   0.0             0.0            14            7.3   \n",
       "21425                   0.0             0.0             6            0.0   \n",
       "21426                   0.0             0.0             0            0.0   \n",
       "21427                   0.0             0.0            35            8.8   \n",
       "21428                   0.0             0.0            32            0.0   \n",
       "\n",
       "       citingHalfLife  eigenFactorScore  articleInfluenceScore  citesCurrent  \\\n",
       "21420             0.0           0.00005                  0.114           NaN   \n",
       "21421            10.7           0.00003                  0.068           NaN   \n",
       "21422            16.2           0.00027                  0.306           NaN   \n",
       "21423            14.6           0.00007                  0.150           NaN   \n",
       "21424             7.7           0.00030                  0.550           NaN   \n",
       "21425             4.8           0.00019                  0.550           NaN   \n",
       "21426             0.0           0.00007                  0.034           NaN   \n",
       "21427            15.8           0.00034                  0.281           NaN   \n",
       "21428            11.8           0.00002                  0.017           NaN   \n",
       "\n",
       "       articlesCurrent  selfCites  impactFactorSelfCites  originalResearch  \\\n",
       "21420              NaN        NaN                    NaN               NaN   \n",
       "21421              NaN        NaN                    NaN               NaN   \n",
       "21422              NaN        NaN                    NaN               NaN   \n",
       "21423              NaN        NaN                    NaN               NaN   \n",
       "21424              NaN        NaN                    NaN               NaN   \n",
       "21425              NaN        NaN                    NaN               NaN   \n",
       "21426              NaN        NaN                    NaN               NaN   \n",
       "21427              NaN        NaN                    NaN               NaN   \n",
       "21428              NaN        NaN                    NaN               NaN   \n",
       "\n",
       "       jifPercentile  normEigenFactor  \n",
       "21420            0.0          0.01206  \n",
       "21421            0.0          0.00733  \n",
       "21422            0.0          0.05846  \n",
       "21423            0.0          0.01555  \n",
       "21424            0.0          0.06589  \n",
       "21425            0.0          0.04134  \n",
       "21426            0.0          0.01561  \n",
       "21427            0.0          0.07463  \n",
       "21428            0.0          0.00594  "
      ]
     },
     "execution_count": 109,
     "metadata": {},
     "output_type": "execute_result"
    }
   ],
   "source": [
    "jcr[-10:-1]"
   ]
  },
  {
   "cell_type": "code",
   "execution_count": 110,
   "id": "521cc05d-1c7b-4314-8951-33b1491bbb1e",
   "metadata": {},
   "outputs": [],
   "source": [
    "jt2if_all={}\n",
    "for i in range(len(jcr)):\n",
    "    if jt2if_all.get(jcr.iloc[i,1].lower()):\n",
    "        if jt2if_all.get(jcr.iloc[i,1].lower())==0.0:\n",
    "            jt2if_all[jcr.iloc[i,1].lower()]=jcr.iloc[i,7]\n",
    "    else:\n",
    "        jt2if_all[jcr.iloc[i,1].lower()]=jcr.iloc[i,7]\n",
    "jt2if_all['aging']=jt2if_all.get('aging-us')"
   ]
  },
  {
   "cell_type": "code",
   "execution_count": 111,
   "id": "54b58848-b27c-40d7-9cae-1ad64bfe6ea5",
   "metadata": {},
   "outputs": [],
   "source": [
    "jt2if_brief={}\n",
    "for i in range(len(jcr)):\n",
    "    if jt2if_brief.get(jcr.iloc[i,2].lower()):\n",
    "        if jt2if_brief.get(jcr.iloc[i,2].lower())==0.0:\n",
    "            jt2if_brief[jcr.iloc[i,2].lower()]=jcr.iloc[i,7]\n",
    "    else:\n",
    "        jt2if_brief[jcr.iloc[i,2].lower()]=jcr.iloc[i,7]\n",
    "jt2if_brief['aging']=jt2if_brief.get('aging-us')"
   ]
  },
  {
   "cell_type": "code",
   "execution_count": 112,
   "id": "48bc26b4-9c9c-46f0-a5ff-1443d6a02bbf",
   "metadata": {},
   "outputs": [
    {
     "data": {
      "text/plain": [
       "[('ca-cancer j clin', 286.13), ('lancet', 202.731)]"
      ]
     },
     "execution_count": 112,
     "metadata": {},
     "output_type": "execute_result"
    }
   ],
   "source": [
    "list(jt2if_brief.items())[:2]"
   ]
  },
  {
   "cell_type": "code",
   "execution_count": 113,
   "id": "7825fdec-38a8-4132-9609-f41e4d444ea7",
   "metadata": {},
   "outputs": [
    {
     "data": {
      "text/plain": [
       "21429"
      ]
     },
     "execution_count": 113,
     "metadata": {},
     "output_type": "execute_result"
    }
   ],
   "source": [
    "len(jt2if_brief)"
   ]
  },
  {
   "cell_type": "code",
   "execution_count": 114,
   "id": "3e22b71d-3079-45f3-9e0d-22b435d39564",
   "metadata": {},
   "outputs": [],
   "source": [
    "jt2if5_all={}\n",
    "for i in range(len(jcr)):\n",
    "    if jt2if5_all.get(jcr.iloc[i,1].lower()):\n",
    "        if jt2if5_all.get(jcr.iloc[i,1].lower())==0.0:\n",
    "            jt2if5_all[jcr.iloc[i,1].lower()]=jcr.iloc[i,7]\n",
    "    else:\n",
    "        jt2if5_all[jcr.iloc[i,1].lower()]=jcr.iloc[i,9]\n",
    "jt2if5_all['aging']=jt2if5_all.get('aging-us')"
   ]
  },
  {
   "cell_type": "code",
   "execution_count": 115,
   "id": "86eea10a-5dd4-4a13-9db9-fcc18259926b",
   "metadata": {},
   "outputs": [],
   "source": [
    "jt2if5_brief={}\n",
    "for i in range(len(jcr)):\n",
    "    if jt2if5_brief.get(jcr.iloc[i,2].lower()):\n",
    "        if jt2if5_brief.get(jcr.iloc[i,2].lower())==0.0:\n",
    "            jt2if5_brief[jcr.iloc[i,2].lower()]=jcr.iloc[i,7]\n",
    "    else:\n",
    "        jt2if5_brief[jcr.iloc[i,2].lower()]=jcr.iloc[i,9]\n",
    "jt2if5_brief['aging']=jt2if5_brief.get('aging-us')"
   ]
  },
  {
   "cell_type": "code",
   "execution_count": 116,
   "id": "ffcdd7da-c81b-4379-9380-8fb8227f8563",
   "metadata": {},
   "outputs": [],
   "source": [
    "Literature_Info_list=list(collections_pubmed_raw.find())"
   ]
  },
  {
   "cell_type": "code",
   "execution_count": 117,
   "id": "b5cb2963-fcbe-4690-bc0e-0431e199435e",
   "metadata": {},
   "outputs": [
    {
     "data": {
      "text/plain": [
       "339145"
      ]
     },
     "execution_count": 117,
     "metadata": {},
     "output_type": "execute_result"
    }
   ],
   "source": [
    "len(Literature_Info_list)"
   ]
  },
  {
   "cell_type": "code",
   "execution_count": 118,
   "id": "74e2f954-1490-47ea-935d-37a7830bd2e6",
   "metadata": {},
   "outputs": [],
   "source": [
    "Literature_Info_dict={}\n",
    "for i in Literature_Info_list:\n",
    "    if jt2if_brief.get(i.get('TA').lower()):\n",
    "        i['IF']=jt2if_brief.get(i.get('TA').lower())\n",
    "    elif jt2if_all.get(i.get('JT').lower()):\n",
    "        i['IF']=jt2if_all.get(i.get('JT').lower())\n",
    "    else:\n",
    "        i['IF']=0.0\n",
    "    if jt2if5_brief.get(i.get('TA').lower()):\n",
    "        i['IF5']=jt2if5_brief.get(i.get('TA').lower())\n",
    "    elif jt2if5_all.get(i.get('JT').lower()):\n",
    "        i['IF5']=jt2if5_all.get(i.get('JT').lower())\n",
    "    else:\n",
    "        i['IF5']=0.0\n",
    "    Literature_Info_dict[i.get('PMID')]={\n",
    "    'PMID':i.get('PMID'),\n",
    "        'TI':i.get('TI'),\n",
    "        'AB':i.get('AB'),\n",
    "        'IF':i.get('IF'),\n",
    "        'IF5':i.get('IF5'),\n",
    "        'AU':i.get('AU'),\n",
    "        'FAU':i.get('FAU'),\n",
    "        'AD':i.get('AD'),\n",
    "        'PT':i.get('PT'),\n",
    "        'DP':i.get('DP'),\n",
    "        'PL':i.get('PL'),\n",
    "        'JT':i.get('JT'),\n",
    "        'TA':i.get('TA'),\n",
    "        'SO':i.get('SO')\n",
    "    }"
   ]
  },
  {
   "cell_type": "code",
   "execution_count": 119,
   "id": "11acf99d-8318-42d3-b05b-945d8edea03c",
   "metadata": {},
   "outputs": [
    {
     "data": {
      "text/plain": [
       "('35795148',\n",
       " {'PMID': '35795148',\n",
       "  'TI': 'Sirtuin 1 in Chronic Kidney Disease and Therapeutic Potential of Targeting Sirtuin 1.',\n",
       "  'AB': 'The incidence and prevalence of chronic kidney disease (CKD) continue to increase worldwide remaining as a major public health burden. CKD eventually progresses to end-stage kidney failure and patients with CKD have high morbidity and mortality. Sirtuin 1 (SIRT1), a NAD+-dependent deacetylases, has significant renal protective effects through its regulation of fibrosis, apoptosis, and senescence, oxidative stress, inflammation and aging process. The renal protective effects of Sirt1 have been described in many kidney diseases such as diabetic kidney disease and HIV-related kidney disease. SIRT1 also has protective effects against vascular calcification and therefore could be developed as a therapy for both CKD and CKD complications. In this narrative review, we will give an overview of the recent progress on the role of SIRT1 and its downstream pathways in CKD. We will also discuss potential therapeutic approach by activating SIRT1-related pathway in patients with CKD. The purpose is to hope to provide some insights on the future direction of the research in the field of SIRT1 for CKD.',\n",
       "  'IF': 6.055,\n",
       "  'IF5': 6.335,\n",
       "  'AU': ['Yan J', 'Wang J', 'He JC', 'Zhong Y'],\n",
       "  'FAU': ['Yan, Jiayi', 'Wang, Jue', 'He, John Cijiang', 'Zhong, Yifei'],\n",
       "  'AD': ['Division of Nephrology, Longhua Hospital, Shanghai University of Traditional Chinese Medicine, Shanghai, China.',\n",
       "   'Division of Nephrology, Longhua Hospital, Shanghai University of Traditional Chinese Medicine, Shanghai, China.',\n",
       "   'Department of Medicine, Division of Nephrology, Icahn School of Medicine at Mount Sinai, New York, NY, United States.',\n",
       "   'Division of Nephrology, Longhua Hospital, Shanghai University of Traditional Chinese Medicine, Shanghai, China.'],\n",
       "  'PT': ['Journal Article', 'Review'],\n",
       "  'DP': '2022',\n",
       "  'PL': 'Switzerland',\n",
       "  'JT': 'Frontiers in endocrinology',\n",
       "  'TA': 'Front Endocrinol (Lausanne)',\n",
       "  'SO': 'Front Endocrinol (Lausanne). 2022 Jun 20;13:917773. doi: 10.3389/fendo.2022.917773. eCollection 2022.'})"
      ]
     },
     "execution_count": 119,
     "metadata": {},
     "output_type": "execute_result"
    }
   ],
   "source": [
    "list(Literature_Info_dict.items())[10]"
   ]
  },
  {
   "cell_type": "code",
   "execution_count": 120,
   "id": "b6c4c445-e5a3-46a0-8e8e-6c9624121b19",
   "metadata": {},
   "outputs": [],
   "source": [
    "json.dump(Literature_Info_dict,open('results/step5/Literature_Info.json','w'))"
   ]
  },
  {
   "cell_type": "code",
   "execution_count": 121,
   "id": "fdb0ecb0-d792-4422-8110-c080b3702873",
   "metadata": {},
   "outputs": [
    {
     "data": {
      "text/plain": [
       "339145"
      ]
     },
     "execution_count": 121,
     "metadata": {},
     "output_type": "execute_result"
    }
   ],
   "source": [
    "len(Literature_Info_dict)"
   ]
  },
  {
   "cell_type": "code",
   "execution_count": null,
   "id": "12d17fb8-54c9-4d74-bf4b-ea87efca766b",
   "metadata": {},
   "outputs": [],
   "source": []
  }
 ],
 "metadata": {
  "kernelspec": {
   "display_name": "hald",
   "language": "python",
   "name": "hald"
  },
  "language_info": {
   "codemirror_mode": {
    "name": "ipython",
    "version": 3
   },
   "file_extension": ".py",
   "mimetype": "text/x-python",
   "name": "python",
   "nbconvert_exporter": "python",
   "pygments_lexer": "ipython3",
   "version": "3.8.15"
  }
 },
 "nbformat": 4,
 "nbformat_minor": 5
}
