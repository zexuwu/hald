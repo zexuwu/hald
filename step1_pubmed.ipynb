{
 "cells": [
  {
   "cell_type": "code",
   "execution_count": 1,
   "id": "91c37b96-e055-41b8-92d0-4caea4a7aa3f",
   "metadata": {},
   "outputs": [],
   "source": [
    "import pickle, json, time, datetime, pymongo, requests, copy, os, csv, math\n",
    "from pymongo import MongoClient\n",
    "import pandas as pd\n",
    "from Bio import Medline\n",
    "from Bio import Entrez"
   ]
  },
  {
   "cell_type": "code",
   "execution_count": 2,
   "id": "b61c5433-3e44-48d6-b199-e51944c0032b",
   "metadata": {},
   "outputs": [],
   "source": [
    "now=datetime.datetime.now()"
   ]
  },
  {
   "cell_type": "code",
   "execution_count": 8,
   "id": "aa47f043-0c33-4e53-8034-cce06871b5ce",
   "metadata": {},
   "outputs": [],
   "source": [
    "nowtime=now.strftime('%Y/%m/01')"
   ]
  },
  {
   "cell_type": "code",
   "execution_count": 9,
   "id": "3af250f7-0f82-46b3-8c7a-5068607e69b6",
   "metadata": {},
   "outputs": [
    {
     "name": "stdout",
     "output_type": "stream",
     "text": [
      "2023/12/01\n"
     ]
    }
   ],
   "source": [
    "print(nowtime)"
   ]
  },
  {
   "cell_type": "code",
   "execution_count": 6,
   "id": "d0cf66b7-03ab-46af-852b-d6f0a6414718",
   "metadata": {},
   "outputs": [],
   "source": [
    "now_time=now.strftime('%Y_%m_01')"
   ]
  },
  {
   "cell_type": "code",
   "execution_count": 7,
   "id": "fe54567c-1804-441b-9f99-32e45c8590a0",
   "metadata": {},
   "outputs": [
    {
     "name": "stdout",
     "output_type": "stream",
     "text": [
      "2023_12_01\n"
     ]
    }
   ],
   "source": [
    "print(now_time)"
   ]
  },
  {
   "cell_type": "code",
   "execution_count": 10,
   "id": "ded582b0-14e5-4af4-8de9-ded4bc3e996c",
   "metadata": {},
   "outputs": [],
   "source": [
    "def cal_time(time):\n",
    "    time = time.split('/')\n",
    "    year = int(time[0])\n",
    "    month = int(time[1]) - 12\n",
    "    day = int(time[2])\n",
    "    if month < 1:\n",
    "        month += 12\n",
    "        year -= 1\n",
    "    time = datetime.datetime(year=year, month=month, day=1).strftime('%Y/%m/%d')\n",
    "    return time"
   ]
  },
  {
   "cell_type": "code",
   "execution_count": 11,
   "id": "677a0234-9688-42fb-8944-49638cca8b80",
   "metadata": {},
   "outputs": [],
   "source": [
    "def cal_time2(time):\n",
    "    time = time.split('/')\n",
    "    year = int(time[0])\n",
    "    month = int(time[1]) +1\n",
    "    day = int(time[2])\n",
    "    if month >12:\n",
    "        month = 1\n",
    "        year += 1\n",
    "    time = datetime.datetime(year=year, month=month, day=1).strftime('%Y/%m/%d')\n",
    "    return time"
   ]
  },
  {
   "cell_type": "code",
   "execution_count": 12,
   "id": "9046f96f-d5c0-41b9-ba51-17c220244c85",
   "metadata": {},
   "outputs": [],
   "source": [
    "former_time=cal_time(nowtime)"
   ]
  },
  {
   "cell_type": "code",
   "execution_count": 13,
   "id": "19884ae1-41ab-480c-beff-08c0fdda5c6b",
   "metadata": {},
   "outputs": [
    {
     "data": {
      "text/plain": [
       "'2022/12/01'"
      ]
     },
     "execution_count": 13,
     "metadata": {},
     "output_type": "execute_result"
    }
   ],
   "source": [
    "former_time"
   ]
  },
  {
   "cell_type": "code",
   "execution_count": 14,
   "id": "1c38b288-e948-4c45-ac19-db47bf18ef6f",
   "metadata": {},
   "outputs": [],
   "source": [
    "idlist=[]\n",
    "while former_time < now_time:\n",
    "    terms='(\"aging\"[Title/Abstract] OR \"ageing\"[Title/Abstract] OR \"longevity\"[Title/Abstract] OR \"centenarian\"[Title/Abstract] OR \"centenarians\"[Title/Abstract] \\\n",
    "            OR \"the elderly\"[Title/Abstract] OR \"the aged\"[Title/Abstract] OR \"old people\"[Title/Abstract] OR \"older people\"[Title/Abstract] OR \"old age\"[Title/Abstract] \\\n",
    "            OR \"gerontology\"[Title/Abstract] OR \"geroscience\"[Title/Abstract] OR \"lifespan\"[Title/Abstract] OR \"healthspan\"[Title/Abstract] OR \"life expectancy\"[Title/Abstract] AND \\\n",
    "            Journal Article[ptyp] AND \"humans\"[MeSH Terms] AND English[lang] AND (\"'+str(former_time)+'\"[Date - Publication] : \"'+str(cal_time2(former_time))+'\"[Date - Publication]))'\n",
    "    Entrez.email=\"12007002@zju.edu.cn\"\n",
    "    handle_0 = Entrez.esearch(db=\"pubmed\", term=terms,retmax=10000)\n",
    "    record = Entrez.read(handle_0)\n",
    "    idlist+=list(record[\"IdList\"])\n",
    "    # print(\"Found %i results\" % len(idlist))\n",
    "    if len(list(record[\"IdList\"]))==9999:\n",
    "        print('error')\n",
    "        break\n",
    "    former_time=cal_time2(former_time)"
   ]
  },
  {
   "cell_type": "code",
   "execution_count": 15,
   "id": "bc76705b-9e8d-45fc-a304-b94a4d647ba8",
   "metadata": {},
   "outputs": [
    {
     "data": {
      "text/plain": [
       "40154"
      ]
     },
     "execution_count": 15,
     "metadata": {},
     "output_type": "execute_result"
    }
   ],
   "source": [
    "len(idlist)"
   ]
  },
  {
   "cell_type": "code",
   "execution_count": 16,
   "id": "fc11d42a-b561-4689-9277-f9e22285f71f",
   "metadata": {},
   "outputs": [
    {
     "data": {
      "text/plain": [
       "20644"
      ]
     },
     "execution_count": 16,
     "metadata": {},
     "output_type": "execute_result"
    }
   ],
   "source": [
    "len(set(idlist))"
   ]
  },
  {
   "cell_type": "code",
   "execution_count": 17,
   "id": "2b6f0648-a88d-4eb8-9da9-b931e2ef59c1",
   "metadata": {},
   "outputs": [],
   "source": [
    "idlist_list=list(set(idlist))"
   ]
  },
  {
   "cell_type": "code",
   "execution_count": 18,
   "id": "dee78885-e816-4042-8eea-60d111b34d76",
   "metadata": {},
   "outputs": [],
   "source": [
    "with open('idlist.txt','a') as f:\n",
    "    for i in idlist_list:\n",
    "        f.write(i)"
   ]
  },
  {
   "cell_type": "code",
   "execution_count": 19,
   "id": "f82af8fb-529c-4426-99c4-2af11b51f8a1",
   "metadata": {},
   "outputs": [],
   "source": [
    "client = MongoClient(username=\"hald\",password=\"mclab236\")"
   ]
  },
  {
   "cell_type": "code",
   "execution_count": 20,
   "id": "cfde33b2-f19f-4e62-a100-fea93a528d5e",
   "metadata": {},
   "outputs": [],
   "source": [
    "db = client.hald"
   ]
  },
  {
   "cell_type": "code",
   "execution_count": 21,
   "id": "269eb2d8-edba-49e1-9504-84dd174b14a5",
   "metadata": {},
   "outputs": [
    {
     "data": {
      "text/plain": [
       "Database(MongoClient(host=['localhost:27017'], document_class=dict, tz_aware=False, connect=True), 'hald')"
      ]
     },
     "execution_count": 21,
     "metadata": {},
     "output_type": "execute_result"
    }
   ],
   "source": [
    "db"
   ]
  },
  {
   "cell_type": "code",
   "execution_count": null,
   "id": "66540388-c076-4dc8-bf81-85dcf9dff728",
   "metadata": {},
   "outputs": [],
   "source": []
  },
  {
   "cell_type": "markdown",
   "id": "4852aede-0fc5-4c2e-9578-d1c5d63412f8",
   "metadata": {
    "tags": []
   },
   "source": [
    "# pubmed_raw_pmid"
   ]
  },
  {
   "cell_type": "code",
   "execution_count": 22,
   "id": "fcf0a965-3456-4717-9b21-0f17f2810ddd",
   "metadata": {},
   "outputs": [],
   "source": [
    "collections_pubmed_raw_pmid=db.pubmed_raw_pmid"
   ]
  },
  {
   "cell_type": "code",
   "execution_count": 23,
   "id": "39f6b406-23ff-4d0b-b607-dbc2b90a6539",
   "metadata": {},
   "outputs": [],
   "source": [
    "pmids=list(collections_pubmed_raw_pmid.find())"
   ]
  },
  {
   "cell_type": "code",
   "execution_count": 24,
   "id": "51912704-ec44-4400-8eed-ac46d90b6afc",
   "metadata": {},
   "outputs": [
    {
     "data": {
      "text/plain": [
       "339145"
      ]
     },
     "execution_count": 24,
     "metadata": {},
     "output_type": "execute_result"
    }
   ],
   "source": [
    "len(pmids)"
   ]
  },
  {
   "cell_type": "code",
   "execution_count": 25,
   "id": "fbcefe43-6cdc-40bb-bb2b-761e054ee429",
   "metadata": {},
   "outputs": [
    {
     "data": {
      "text/plain": [
       "[{'_id': ObjectId('6393476d5303aaecac1f079a'),\n",
       "  'PMID': '35796512',\n",
       "  'addtime': '20220724'},\n",
       " {'_id': ObjectId('6393476d5303aaecac1f079b'),\n",
       "  'PMID': '35796396',\n",
       "  'addtime': '20220724'}]"
      ]
     },
     "execution_count": 25,
     "metadata": {},
     "output_type": "execute_result"
    }
   ],
   "source": [
    "pmids[:2]"
   ]
  },
  {
   "cell_type": "code",
   "execution_count": 26,
   "id": "848c9030-2dfc-4f79-a6c0-267a32533af6",
   "metadata": {},
   "outputs": [],
   "source": [
    "pmid_list=[]\n",
    "for i in pmids:\n",
    "    pmid_list.append(i.get('PMID'))"
   ]
  },
  {
   "cell_type": "code",
   "execution_count": 27,
   "id": "e84e9b02-cfb9-462f-aad3-aed3f4b55ec7",
   "metadata": {},
   "outputs": [
    {
     "data": {
      "text/plain": [
       "['35796512', '35796396']"
      ]
     },
     "execution_count": 27,
     "metadata": {},
     "output_type": "execute_result"
    }
   ],
   "source": [
    "pmid_list[:2]"
   ]
  },
  {
   "cell_type": "code",
   "execution_count": 28,
   "id": "7649b387-c748-4110-b43d-119c3f4cfccc",
   "metadata": {},
   "outputs": [
    {
     "data": {
      "text/plain": [
       "339145"
      ]
     },
     "execution_count": 28,
     "metadata": {},
     "output_type": "execute_result"
    }
   ],
   "source": [
    "len(pmid_list)"
   ]
  },
  {
   "cell_type": "code",
   "execution_count": 29,
   "id": "b713c512-aaf7-4bb5-9f3e-8ea03513d817",
   "metadata": {},
   "outputs": [
    {
     "data": {
      "text/plain": [
       "339145"
      ]
     },
     "execution_count": 29,
     "metadata": {},
     "output_type": "execute_result"
    }
   ],
   "source": [
    "len(pmid_list)"
   ]
  },
  {
   "cell_type": "code",
   "execution_count": 30,
   "id": "4f4d4a46-eab1-465e-923c-e69e92c76bdd",
   "metadata": {},
   "outputs": [],
   "source": [
    "pmid_dict={}\n",
    "for i in pmids:\n",
    "    pmid_dict[i.get('PMID')]=i.get('PMID')"
   ]
  },
  {
   "cell_type": "code",
   "execution_count": 31,
   "id": "e77f6034-753b-4a29-9cab-7ac4358c8832",
   "metadata": {},
   "outputs": [
    {
     "data": {
      "text/plain": [
       "339145"
      ]
     },
     "execution_count": 31,
     "metadata": {},
     "output_type": "execute_result"
    }
   ],
   "source": [
    "len(pmid_dict)"
   ]
  },
  {
   "cell_type": "code",
   "execution_count": 32,
   "id": "f534fd02-c569-4503-9d20-166b087ac9a7",
   "metadata": {},
   "outputs": [],
   "source": [
    "new_articles_raw=[]\n",
    "for i in idlist_list:\n",
    "    if not pmid_dict.get(i):\n",
    "        new_articles_raw.append(i)"
   ]
  },
  {
   "cell_type": "code",
   "execution_count": 33,
   "id": "5fa756ee-248e-45d9-8ba3-3208867043b9",
   "metadata": {},
   "outputs": [
    {
     "data": {
      "text/plain": [
       "3743"
      ]
     },
     "execution_count": 33,
     "metadata": {},
     "output_type": "execute_result"
    }
   ],
   "source": [
    "len(new_articles_raw)"
   ]
  },
  {
   "cell_type": "code",
   "execution_count": null,
   "id": "cb78274f-603b-4877-9d6d-06648aefb316",
   "metadata": {},
   "outputs": [],
   "source": []
  },
  {
   "cell_type": "code",
   "execution_count": 34,
   "id": "6b807d21-20a8-4043-8956-e70b51c2af30",
   "metadata": {},
   "outputs": [],
   "source": [
    "res=[]\n",
    "for i in range(0,len(new_articles_raw),1000):\n",
    "    id=new_articles_raw[i:i+1000]\n",
    "    handle_1 = Entrez.efetch(db=\"pubmed\", id=id, rettype=\"medline\",retmode=\"text\")\n",
    "    records = Medline.parse(handle_1)\n",
    "    res.append(list(records))"
   ]
  },
  {
   "cell_type": "code",
   "execution_count": 35,
   "id": "6a12ed16-787e-4a00-a5e1-089ca4ec7544",
   "metadata": {},
   "outputs": [],
   "source": [
    "raw_pick=[]\n",
    "for i in res:\n",
    "    raw_pick+=i"
   ]
  },
  {
   "cell_type": "code",
   "execution_count": 36,
   "id": "c517ebaa-3e89-4add-a9ac-cdad891f3cd6",
   "metadata": {},
   "outputs": [
    {
     "data": {
      "text/plain": [
       "3743"
      ]
     },
     "execution_count": 36,
     "metadata": {},
     "output_type": "execute_result"
    }
   ],
   "source": [
    "len(raw_pick)"
   ]
  },
  {
   "cell_type": "code",
   "execution_count": null,
   "id": "04d82385-ed06-4dbd-bf28-e07d8cc27eba",
   "metadata": {},
   "outputs": [],
   "source": []
  },
  {
   "cell_type": "code",
   "execution_count": 37,
   "id": "0c09b362-a6f9-4d0a-8511-1476a61f0e67",
   "metadata": {},
   "outputs": [],
   "source": [
    "reserved_raw_pick=[]\n",
    "reserved_raw_pick_pmid=[]\n",
    "for i in raw_pick:\n",
    "    if i.get('AB'):\n",
    "        if not pmid_dict.get(i.get('PMID')):\n",
    "            i['addtime']=now_time\n",
    "            reserved_raw_pick.append(i)\n",
    "            reserved_raw_pick_pmid.append({'PMID':i.get('PMID'),'addtime':i.get('addtime')})"
   ]
  },
  {
   "cell_type": "code",
   "execution_count": 38,
   "id": "b362461f-8e73-4de1-94f0-5ecc773452e9",
   "metadata": {},
   "outputs": [
    {
     "data": {
      "text/plain": [
       "3506"
      ]
     },
     "execution_count": 38,
     "metadata": {},
     "output_type": "execute_result"
    }
   ],
   "source": [
    "len(reserved_raw_pick)"
   ]
  },
  {
   "cell_type": "code",
   "execution_count": 39,
   "id": "c44cd5f2-97f8-42ae-882b-99d9785434d0",
   "metadata": {},
   "outputs": [
    {
     "data": {
      "text/plain": [
       "{'PMID': '37881145',\n",
       " 'OWN': 'NLM',\n",
       " 'STAT': 'MEDLINE',\n",
       " 'DCOM': '20231115',\n",
       " 'LR': '20231115',\n",
       " 'IS': '1559-2863 (Electronic) 0361-7734 (Linking)',\n",
       " 'VI': '48',\n",
       " 'IP': '6',\n",
       " 'DP': '2023 Nov 1',\n",
       " 'TI': 'Effect of Tooth Bleach on Dentin Fatigue Resistance in Situ.',\n",
       " 'PG': '638-647',\n",
       " 'LID': '10.2341/22-093-C [doi]',\n",
       " 'AB': 'BACKGROUND: Negative effects of bleaching on dentin have previously been reported in vitro. OBJECTIVE: The purpose of this study was to determine the effect of carbamide peroxide bleaching on dentin fatigue resistance using a clinically relevant in situ model. METHODS AND MATERIALS: Following research ethics board approval, 60 human teeth requiring extraction were collected. Sterilized human dentin specimens were cut (1.2x1.2x10 mm) and secured into customized bleaching trays to be used by study participants. Participants were randomly assigned to either bleach (10% carbamide peroxide, n=23) or control (gel without bleach, n=26) treatment groups. Treatment was applied to the bleaching trays and worn overnight by participants for 14 days. After treatment completion, dentin specimens were removed from the bleaching trays and subjected to fatigue testing (10 N, 3 mm/s, 2x105 cycles) while submerged in artificial saliva. Kaplan-Meier survival analysis was conducted to compare the number of cycles to failure during fatigue testing in both groups. A log rank test was run to determine if there were differences in the survival distribution between the two groups (alpha<0.05). RESULTS: The median number of cycles to failure was 352 +/- 202 and 760 +/- 644 for the bleach and control groups, respectively. The survival distributions for the two groups were significantly different (p=0.020). Dentin fatigue resistance was significantly lower in the bleach group compared to the control. CONCLUSIONS: Direct bleaching of human dentin using an at-home tray bleaching protocol in situ reduced dentin fatigue resistance. This has implications for tooth fracture risk and longevity.',\n",
       " 'CI': ['(c)Operative Dentistry, 2023.'],\n",
       " 'FAU': ['Fitzgerald, J M', 'Souza, G De', 'Tam, L'],\n",
       " 'AU': ['Fitzgerald JM', 'Souza G', 'Tam L'],\n",
       " 'AD': ['*Jacob M Fitzgerald, DDS, MSc, University of Toronto Faculty of Dentistry, Toronto, Ontario, Canada.',\n",
       "  'Grace De Souza DDS, MSc, PhD, FADM, University of Louisville, Louisville, KY, USA.',\n",
       "  'Laura Tam, DDS, MSc, University of Toronto, Toronto, Ontario, Canada.'],\n",
       " 'LA': ['eng'],\n",
       " 'PT': ['Journal Article', 'Randomized Controlled Trial'],\n",
       " 'PL': 'United States',\n",
       " 'TA': 'Oper Dent',\n",
       " 'JT': 'Operative dentistry',\n",
       " 'JID': '7605679',\n",
       " 'RN': ['31PZ2VAU81 (Carbamide Peroxide)',\n",
       "  '0 (Peroxides)',\n",
       "  '8W8T17847W (Urea)',\n",
       "  'BBX060AN9V (Hydrogen Peroxide)'],\n",
       " 'MH': ['Humans',\n",
       "  'Carbamide Peroxide/pharmacology',\n",
       "  '*Peroxides/therapeutic use',\n",
       "  'Urea',\n",
       "  'Dentin',\n",
       "  '*Tooth Bleaching/adverse effects/methods',\n",
       "  'Hydrogen Peroxide/pharmacology'],\n",
       " 'EDAT': '2023/10/26 06:42',\n",
       " 'MHDA': '2023/11/15 06:42',\n",
       " 'CRDT': ['2023/10/26 03:59'],\n",
       " 'PHST': ['2023/07/10 00:00 [accepted]',\n",
       "  '2023/11/15 06:42 [medline]',\n",
       "  '2023/10/26 06:42 [pubmed]',\n",
       "  '2023/10/26 03:59 [entrez]'],\n",
       " 'AID': ['496550 [pii]', '10.2341/22-093-C [doi]'],\n",
       " 'PST': 'ppublish',\n",
       " 'SO': 'Oper Dent. 2023 Nov 1;48(6):638-647. doi: 10.2341/22-093-C.',\n",
       " 'addtime': '2023_12_01'}"
      ]
     },
     "execution_count": 39,
     "metadata": {},
     "output_type": "execute_result"
    }
   ],
   "source": [
    "reserved_raw_pick[0]"
   ]
  },
  {
   "cell_type": "code",
   "execution_count": 40,
   "id": "2b537127-c376-48fd-8797-96da1977db9e",
   "metadata": {},
   "outputs": [
    {
     "data": {
      "text/plain": [
       "<pymongo.results.InsertManyResult at 0x7f231dd9ac80>"
      ]
     },
     "execution_count": 40,
     "metadata": {},
     "output_type": "execute_result"
    }
   ],
   "source": [
    "collections_pubmed_raw_pmid.insert_many(reserved_raw_pick_pmid)"
   ]
  },
  {
   "cell_type": "code",
   "execution_count": 41,
   "id": "57c79435-622a-4de5-bf86-0d8f9386d9c4",
   "metadata": {},
   "outputs": [
    {
     "data": {
      "text/plain": [
       "342651"
      ]
     },
     "execution_count": 41,
     "metadata": {},
     "output_type": "execute_result"
    }
   ],
   "source": [
    "len(list(collections_pubmed_raw_pmid.find()))"
   ]
  },
  {
   "cell_type": "code",
   "execution_count": 45,
   "id": "440b366b-b71e-4321-a156-2d6602e9283c",
   "metadata": {},
   "outputs": [
    {
     "data": {
      "text/plain": [
       "{'PMID': '37875871',\n",
       " 'addtime': '2023_12_01',\n",
       " '_id': ObjectId('65757b1d22f3b73537601bdd')}"
      ]
     },
     "execution_count": 45,
     "metadata": {},
     "output_type": "execute_result"
    }
   ],
   "source": [
    "reserved_raw_pick_pmid[-1]"
   ]
  },
  {
   "cell_type": "code",
   "execution_count": null,
   "id": "088b2b36-c35c-4b00-b1f0-8c588dd8c745",
   "metadata": {},
   "outputs": [],
   "source": []
  },
  {
   "cell_type": "markdown",
   "id": "8864ea6a-a71b-4135-8756-923cc795ac40",
   "metadata": {
    "tags": []
   },
   "source": [
    "# pubmed_raw (reserved_raw_pick)"
   ]
  },
  {
   "cell_type": "code",
   "execution_count": 46,
   "id": "ec92c140-aee1-42cc-8cba-d6929f788e8f",
   "metadata": {},
   "outputs": [],
   "source": [
    "collections_pubmed_raw = db.pubmed_raw"
   ]
  },
  {
   "cell_type": "code",
   "execution_count": 47,
   "id": "f9fc6e3d-7f8d-42be-bd19-78eb8a6b1a58",
   "metadata": {},
   "outputs": [
    {
     "data": {
      "text/plain": [
       "<pymongo.results.InsertManyResult at 0x7f2310471980>"
      ]
     },
     "execution_count": 47,
     "metadata": {},
     "output_type": "execute_result"
    }
   ],
   "source": [
    "collections_pubmed_raw.insert_many(reserved_raw_pick)"
   ]
  },
  {
   "cell_type": "code",
   "execution_count": 48,
   "id": "f0526a13-5ea6-44ee-9bdd-0bcc07787e24",
   "metadata": {},
   "outputs": [
    {
     "data": {
      "text/plain": [
       "{'PMID': '38042773',\n",
       " 'OWN': 'NLM',\n",
       " 'STAT': 'MEDLINE',\n",
       " 'DCOM': '20231204',\n",
       " 'LR': '20231205',\n",
       " 'IS': '1472-6963 (Electronic) 1472-6963 (Linking)',\n",
       " 'VI': '23',\n",
       " 'IP': '1',\n",
       " 'DP': '2023 Dec 2',\n",
       " 'TI': \"Effect of robot for medication management on home care professionals' use of working time in older people's home care: a non-randomized controlled clinical trial.\",\n",
       " 'PG': '1344',\n",
       " 'LID': '10.1186/s12913-023-10367-0 [doi] 1344',\n",
       " 'AB': \"BACKGROUND: Medication management has a key role in the daily tasks of home care professionals delivered to older clients in home care. The aim of this study was to examine the effect of using a robot for medication management on home care professionals  use of working time. METHODS: A pragmatic non-randomized controlled clinical trial was conducted. The participants were home care professionals who carried out home care clients' medication management. Home care clients were allocated into intervention groups (IG) and control groups (CG) (n = 64 and 46, respectively) based on whether or not they received the robot. Data were collected using the Working Time Tracking Form prior to and 1 and 2 months after introducing the intervention. The t-test was used to compare the groups at each three timepoints. Analysis of Covariance was used to examine the groups' differences for the total time for medications as the number of visits per day as the covariate. RESULTS: With robot use, the total amount of home visits decreased by 89.4% and 92.4% after 1 and 2 months of intervention use, respectively, compared to pre-intervention (p < 0.001). The total working time used for medication management considering the number of visits per day decreased from 54.2 min (95% CI 37.4-44.3) to 34.9 min (31.4-38.3), i.e., by slightly over 19 min (p < 0.001) in the IG group. During the follow-up, the total working time used for medication management considering the number of visits per day remained the same in the CG group. CONCLUSION: Using a robot for medication management had a notable effect on decreasing the use of working time of home care professionals. For health services, decreased use of working time for medication management means that the time saved can be assigned to services that cannot be replaced otherwise. More digital solutions should be developed based on home care clients' and professionals' needs to meet the challenge of the growing number of older people in need of home care and ensure their safety. TRIAL REGISTRATION: ClinicalTrials.gov Identifier: NCT05908604 retrospectively registered (18/06/2023).\",\n",
       " 'CI': ['(c) 2023. The Author(s).'],\n",
       " 'FAU': ['Kajander-Unkuri, Satu',\n",
       "  'Vaismoradi, Mojtaba',\n",
       "  'Katajisto, Jouko',\n",
       "  'Kangasniemi, Mari',\n",
       "  'Turjamaa, Riitta'],\n",
       " 'AU': ['Kajander-Unkuri S',\n",
       "  'Vaismoradi M',\n",
       "  'Katajisto J',\n",
       "  'Kangasniemi M',\n",
       "  'Turjamaa R'],\n",
       " 'AUID': ['ORCID: 0000-0003-2668-5856',\n",
       "  'ORCID: 0000-0002-5157-4886',\n",
       "  'ORCID: 0000-0003-0690-1865',\n",
       "  'ORCID: 0000-0003-2053-3237'],\n",
       " 'AD': ['Department of Nursing Science, Faculty of Medicine, University of Turku, Turku, Finland.',\n",
       "  'Diaconia University of Applied Sciences, Helsinki, Finland.',\n",
       "  'Faculty of Nursing and Health Sciences, Nord University, Bodo, Norway. mojtaba.vaismoradi@nord.no.',\n",
       "  'Faculty of Science and Health, Charles Sturt University, Orange, NSW, Australia. mojtaba.vaismoradi@nord.no.',\n",
       "  'Department of Mathematics and Statistics, University of Turku, Turku, Finland.',\n",
       "  'Department of Nursing Science, Faculty of Medicine, University of Turku, Turku, Finland.',\n",
       "  'Satasairaala, Pori, Finland.',\n",
       "  'Savonia University of Applied Sciences, Kuopio, Finland.'],\n",
       " 'LA': ['eng'],\n",
       " 'SI': ['ClinicalTrials.gov/NCT05908604'],\n",
       " 'GR': ['200500/The Finnish Work Environment Fund/'],\n",
       " 'PT': ['Clinical Trial', 'Controlled Clinical Trial', 'Journal Article'],\n",
       " 'DEP': '20231202',\n",
       " 'PL': 'England',\n",
       " 'TA': 'BMC Health Serv Res',\n",
       " 'JT': 'BMC health services research',\n",
       " 'JID': '101088677',\n",
       " 'SB': 'IM',\n",
       " 'MH': ['Humans',\n",
       "  'Aged',\n",
       "  'Medication Therapy Management',\n",
       "  '*Robotics',\n",
       "  '*Home Care Services'],\n",
       " 'PMC': 'PMC10693699',\n",
       " 'OTO': ['NOTNLM'],\n",
       " 'OT': ['Home-care professional',\n",
       "  'Medication management',\n",
       "  \"Older people's home care\",\n",
       "  'Patient safety',\n",
       "  'Robot',\n",
       "  'Working time'],\n",
       " 'COIS': ['The authors declare no competing interests.'],\n",
       " 'EDAT': '2023/12/03 00:42',\n",
       " 'MHDA': '2023/12/04 12:41',\n",
       " 'CRDT': ['2023/12/02 23:13'],\n",
       " 'PHST': ['2023/06/16 00:00 [received]',\n",
       "  '2023/11/22 00:00 [accepted]',\n",
       "  '2023/12/04 12:41 [medline]',\n",
       "  '2023/12/03 00:42 [pubmed]',\n",
       "  '2023/12/02 23:13 [entrez]'],\n",
       " 'AID': ['10.1186/s12913-023-10367-0 [pii]',\n",
       "  '10367 [pii]',\n",
       "  '10.1186/s12913-023-10367-0 [doi]'],\n",
       " 'PST': 'epublish',\n",
       " 'SO': 'BMC Health Serv Res. 2023 Dec 2;23(1):1344. doi: 10.1186/s12913-023-10367-0.',\n",
       " 'addtime': '2023_12_01',\n",
       " '_id': ObjectId('65757b4122f3b73537601bf2')}"
      ]
     },
     "execution_count": 48,
     "metadata": {},
     "output_type": "execute_result"
    }
   ],
   "source": [
    "reserved_raw_pick[20]"
   ]
  },
  {
   "cell_type": "code",
   "execution_count": null,
   "id": "1ef186d3-a845-4769-a327-c44952466eb8",
   "metadata": {},
   "outputs": [],
   "source": []
  },
  {
   "cell_type": "code",
   "execution_count": null,
   "id": "77b91a2e-1cd7-4820-9806-cc8dcea17b81",
   "metadata": {},
   "outputs": [],
   "source": []
  },
  {
   "cell_type": "markdown",
   "id": "33eed07e-072f-497d-85b7-58c60c6b9d66",
   "metadata": {},
   "source": [
    "# pubtator_raw_pmid"
   ]
  },
  {
   "cell_type": "code",
   "execution_count": 49,
   "id": "f27868aa-b0dc-4d25-b8f6-c8e3c0f578ca",
   "metadata": {},
   "outputs": [],
   "source": [
    "collection_pubtator_raw_pmid = db.pubtator_raw_pmid"
   ]
  },
  {
   "cell_type": "code",
   "execution_count": 50,
   "id": "fd6e9eed-4a5f-4072-96e9-14b9ee2966e0",
   "metadata": {},
   "outputs": [],
   "source": [
    "previous_pubtator_pmid=list(collection_pubtator_raw_pmid.find({}))"
   ]
  },
  {
   "cell_type": "code",
   "execution_count": 51,
   "id": "a83dc342-4f16-455a-97b2-c0cb97568836",
   "metadata": {},
   "outputs": [
    {
     "data": {
      "text/plain": [
       "316859"
      ]
     },
     "execution_count": 51,
     "metadata": {},
     "output_type": "execute_result"
    }
   ],
   "source": [
    "len(previous_pubtator_pmid)"
   ]
  },
  {
   "cell_type": "code",
   "execution_count": 52,
   "id": "48c968e4-19ba-4476-a5af-5b27cd1ed023",
   "metadata": {},
   "outputs": [],
   "source": [
    "previous_pubtator_pmids_dict={}\n",
    "for i in previous_pubtator_pmid:\n",
    "    previous_pubtator_pmids_dict[i.get('PMID')]=i.get('PMID')"
   ]
  },
  {
   "cell_type": "code",
   "execution_count": 53,
   "id": "43cdf16d-dae8-4334-a0c1-fa84e1d9fff2",
   "metadata": {},
   "outputs": [],
   "source": [
    "current_pubtator_pmid=[]\n",
    "for i in reserved_raw_pick:\n",
    "    if i.get('AB'):\n",
    "        if not previous_pubtator_pmids_dict.get(i.get('PMID')):\n",
    "            i['addtime']=now_time\n",
    "            current_pubtator_pmid.append(i.get('PMID'))"
   ]
  },
  {
   "cell_type": "code",
   "execution_count": 54,
   "id": "0144b196-18f0-40f6-8d0d-da0ac27bf5bb",
   "metadata": {},
   "outputs": [
    {
     "data": {
      "text/plain": [
       "3506"
      ]
     },
     "execution_count": 54,
     "metadata": {},
     "output_type": "execute_result"
    }
   ],
   "source": [
    "len(current_pubtator_pmid)"
   ]
  },
  {
   "cell_type": "code",
   "execution_count": 55,
   "id": "6ec9bd21-3b85-4eae-8db3-280550760de4",
   "metadata": {},
   "outputs": [],
   "source": [
    "pmids_list=[]\n",
    "for i in current_pubtator_pmid:\n",
    "    pmids_list.append(i)"
   ]
  },
  {
   "cell_type": "code",
   "execution_count": 56,
   "id": "5d9aaccc-36f0-4baf-a214-752e059ea3ed",
   "metadata": {},
   "outputs": [
    {
     "data": {
      "text/plain": [
       "3506"
      ]
     },
     "execution_count": 56,
     "metadata": {},
     "output_type": "execute_result"
    }
   ],
   "source": [
    "len(pmids_list)"
   ]
  },
  {
   "cell_type": "code",
   "execution_count": 57,
   "id": "c7e835b2-6d62-44c5-b260-7c0324ed24b7",
   "metadata": {},
   "outputs": [],
   "source": [
    "def SubmitPMIDList(pmids,Format,now_time):\n",
    "\tjson = {\"pmids\": pmids}\n",
    "\tr = requests.post(\"https://www.ncbi.nlm.nih.gov/research/pubtator-api/publications/export/\"+Format , json = json)\n",
    "\tif r.status_code != 200 :\n",
    "\t\tprint (\"[Error]: HTTP code \"+ str(r.status_code))\n",
    "\telse:\n",
    "\t\twith open(now_time+'_pubtator_raw.txt','a',encoding=\"UTF-8\") as fileread:\n",
    "\t\t\tfileread.write(str(r.text.encode(\"utf-8\"),encoding=\"UTF-8\"))"
   ]
  },
  {
   "cell_type": "code",
   "execution_count": 58,
   "id": "9c3db324-6740-4ba3-a322-7a65cf5428f8",
   "metadata": {},
   "outputs": [],
   "source": [
    "import time\n",
    "pubtator_raw=[]\n",
    "for i in range(0,len(pmids_list),1000):\n",
    "    SubmitPMIDList(pmids_list[i:i+1000],'biocjson',now_time)\n",
    "    time.sleep(0.1)"
   ]
  },
  {
   "cell_type": "code",
   "execution_count": 59,
   "id": "28d8f2f7-7941-42aa-820c-2c7c9554665c",
   "metadata": {},
   "outputs": [],
   "source": [
    "ttt=open(now_time+'_pubtator_raw.txt',\"r\")"
   ]
  },
  {
   "cell_type": "code",
   "execution_count": 60,
   "id": "c0d162dd-4833-4dab-9d18-0755434ddf12",
   "metadata": {},
   "outputs": [],
   "source": [
    "overjson=[]\n",
    "for l in ttt.readlines():\n",
    "    overjson.append(l.rstrip())"
   ]
  },
  {
   "cell_type": "code",
   "execution_count": 61,
   "id": "2c1b6484-29d7-44d0-b580-68c9f6e27bc6",
   "metadata": {},
   "outputs": [
    {
     "data": {
      "text/plain": [
       "3423"
      ]
     },
     "execution_count": 61,
     "metadata": {},
     "output_type": "execute_result"
    }
   ],
   "source": [
    "len(overjson)"
   ]
  },
  {
   "cell_type": "code",
   "execution_count": 62,
   "id": "df8605a1-61b3-4289-841c-7f92fd968102",
   "metadata": {},
   "outputs": [],
   "source": [
    "pubtator_list=copy.deepcopy(overjson)"
   ]
  },
  {
   "cell_type": "code",
   "execution_count": 63,
   "id": "ead0f482-5580-41ec-a255-c4d88d8300fb",
   "metadata": {},
   "outputs": [],
   "source": [
    "pubtator_json=[]\n",
    "for i in pubtator_list:\n",
    "    pubtator_json.append(json.loads(i))"
   ]
  },
  {
   "cell_type": "code",
   "execution_count": 64,
   "id": "550e7804-8720-4546-814f-aa9bf1d210f2",
   "metadata": {},
   "outputs": [],
   "source": [
    "pubtator_pmid_list=[]\n",
    "for i in pubtator_json:\n",
    "    pubtator_pmid_list.append(i.get('id'))"
   ]
  },
  {
   "cell_type": "code",
   "execution_count": 65,
   "id": "da799ed0-2d11-4387-a246-8b5ba1742fed",
   "metadata": {},
   "outputs": [
    {
     "data": {
      "text/plain": [
       "3423"
      ]
     },
     "execution_count": 65,
     "metadata": {},
     "output_type": "execute_result"
    }
   ],
   "source": [
    "len(pubtator_pmid_list)"
   ]
  },
  {
   "cell_type": "code",
   "execution_count": 66,
   "id": "7ab8e925-e717-471a-8a75-1eea3951e54f",
   "metadata": {},
   "outputs": [
    {
     "data": {
      "text/plain": [
       "'38048153'"
      ]
     },
     "execution_count": 66,
     "metadata": {},
     "output_type": "execute_result"
    }
   ],
   "source": [
    "pubtator_pmid_list[0]"
   ]
  },
  {
   "cell_type": "code",
   "execution_count": 67,
   "id": "99fa87ea-7a17-4602-8504-a1eaa912aac5",
   "metadata": {},
   "outputs": [],
   "source": [
    "current_pubtator_pmid_list=[]\n",
    "for i in pubtator_pmid_list:\n",
    "    current_pubtator_pmid_list.append({'PMID':i,'addtime':now_time})"
   ]
  },
  {
   "cell_type": "code",
   "execution_count": 68,
   "id": "493447f3-c0a2-4766-8405-4cb048579802",
   "metadata": {},
   "outputs": [
    {
     "data": {
      "text/plain": [
       "3423"
      ]
     },
     "execution_count": 68,
     "metadata": {},
     "output_type": "execute_result"
    }
   ],
   "source": [
    "len(current_pubtator_pmid_list)"
   ]
  },
  {
   "cell_type": "code",
   "execution_count": 69,
   "id": "f4c3d354-7461-4e15-bfba-1af21c108537",
   "metadata": {},
   "outputs": [
    {
     "data": {
      "text/plain": [
       "<pymongo.results.InsertManyResult at 0x7f230d069480>"
      ]
     },
     "execution_count": 69,
     "metadata": {},
     "output_type": "execute_result"
    }
   ],
   "source": [
    "collection_pubtator_raw_pmid.insert_many(current_pubtator_pmid_list)"
   ]
  },
  {
   "cell_type": "code",
   "execution_count": null,
   "id": "10940484-51c7-42a7-a1d1-7d5e87acc14b",
   "metadata": {},
   "outputs": [],
   "source": []
  },
  {
   "cell_type": "code",
   "execution_count": null,
   "id": "bc44e976-3b3f-4ace-bd17-71e09072f7bc",
   "metadata": {},
   "outputs": [],
   "source": []
  },
  {
   "cell_type": "markdown",
   "id": "61d586ac-8eca-4513-87cb-43a3d9828335",
   "metadata": {
    "tags": []
   },
   "source": [
    "# pubtator_info  (raw_pick_pubtator)"
   ]
  },
  {
   "cell_type": "code",
   "execution_count": 70,
   "id": "eadb67da-7ce0-4b0c-a4bc-2f741c6b6b75",
   "metadata": {},
   "outputs": [],
   "source": [
    "collections_pubtator_info = db.pubtator_info"
   ]
  },
  {
   "cell_type": "code",
   "execution_count": 71,
   "id": "e882f243-92d0-4057-919f-80be6261dbc1",
   "metadata": {},
   "outputs": [],
   "source": [
    "filtered_pubtator_json=[]\n",
    "for i in pubtator_json:\n",
    "    if i.get('passages'):\n",
    "        for j in i.get('passages')[1].get('annotations'):\n",
    "            if j.get('infons'):\n",
    "                if j.get('infons').get('identifier')=='9606':\n",
    "                    filtered_pubtator_json.append(i)\n",
    "                    break"
   ]
  },
  {
   "cell_type": "code",
   "execution_count": 72,
   "id": "544beb4b-193c-4703-98bc-cd6e2852cd11",
   "metadata": {},
   "outputs": [
    {
     "data": {
      "text/plain": [
       "2646"
      ]
     },
     "execution_count": 72,
     "metadata": {},
     "output_type": "execute_result"
    }
   ],
   "source": [
    "len(filtered_pubtator_json)"
   ]
  },
  {
   "cell_type": "code",
   "execution_count": 73,
   "id": "f4e2ba11-0064-4ee2-b9d3-86511f5d8641",
   "metadata": {},
   "outputs": [],
   "source": [
    "second_filtered_pubtator_json=[]\n",
    "for i in filtered_pubtator_json:\n",
    "    if i.get('passages'):\n",
    "        for j in i.get('passages')[1].get('annotations'):\n",
    "            if j.get('infons'):\n",
    "                    if j.get('infons').get('type') in ('Gene', 'Chemical', 'Mutation','Disease') :\n",
    "                        second_filtered_pubtator_json.append(i)\n",
    "                        break"
   ]
  },
  {
   "cell_type": "code",
   "execution_count": 74,
   "id": "2234d167-f401-42a2-88b2-8d25afdbd256",
   "metadata": {},
   "outputs": [
    {
     "data": {
      "text/plain": [
       "2302"
      ]
     },
     "execution_count": 74,
     "metadata": {},
     "output_type": "execute_result"
    }
   ],
   "source": [
    "len(second_filtered_pubtator_json)"
   ]
  },
  {
   "cell_type": "code",
   "execution_count": 75,
   "id": "603952eb-83d6-4957-ae44-be22c8346b02",
   "metadata": {},
   "outputs": [],
   "source": [
    "entities_dict={}\n",
    "for i in second_filtered_pubtator_json:\n",
    "    if i.get('id'):\n",
    "        entities_list=[]\n",
    "        for j in i.get('passages')[1].get('annotations'):\n",
    "            entities_list.append(j.get('text'))\n",
    "        entities_dict[i.get('id')]=entities_list"
   ]
  },
  {
   "cell_type": "code",
   "execution_count": 76,
   "id": "e6c812c6-986c-42b2-84ce-7f415203d826",
   "metadata": {},
   "outputs": [],
   "source": [
    "second_filtered_pubtator_dict={}\n",
    "for i in second_filtered_pubtator_json:\n",
    "    if i.get('id'):\n",
    "        second_filtered_pubtator_dict[i.get('id')]=i"
   ]
  },
  {
   "cell_type": "code",
   "execution_count": 77,
   "id": "fb4d19bd-765a-4b97-8644-cd9e529d7d33",
   "metadata": {},
   "outputs": [
    {
     "data": {
      "text/plain": [
       "{'_id': '38048153|None',\n",
       " 'id': '38048153',\n",
       " 'infons': {},\n",
       " 'passages': [{'infons': {'journal': 'J Med Internet Res;2023Dec04; 25 49237. doi:10.2196/49237',\n",
       "    'year': '2023',\n",
       "    'type': 'title',\n",
       "    'authors': 'Zhou S, Gromala D, Wang L, ',\n",
       "    'section': 'Title'},\n",
       "   'offset': 0,\n",
       "   'text': 'Ethical Challenges of Virtual Reality Technology Interventions for the Vulnerabilities of Patients With Chronic Pain: Exploration of Technician Responsibility.',\n",
       "   'sentences': [],\n",
       "   'annotations': [{'id': '2',\n",
       "     'infons': {'identifier': '9606', 'type': 'Species'},\n",
       "     'text': 'Patients',\n",
       "     'locations': [{'offset': 90, 'length': 8}]},\n",
       "    {'id': '3',\n",
       "     'infons': {'identifier': 'MESH:D059350', 'type': 'Disease'},\n",
       "     'text': 'Chronic Pain',\n",
       "     'locations': [{'offset': 104, 'length': 12}]}],\n",
       "   'relations': []},\n",
       "  {'infons': {'type': 'abstract', 'section': 'Abstract'},\n",
       "   'offset': 160,\n",
       "   'text': 'Chronic pain, a common disease, is a crucial global public health concern. Approximately 20% of the worldwide population is affected by chronic pain, which accounts for 15% to 20% of hospital visits. In Canada, approximately 7.6 million people-or 1 in 5 people-experience chronic pain. Among this population, 60% has either lost their employment or experienced a reduction in income as a result of their pain. The proportion of older people (aged >=65 years) with chronic pain is high, comprising one-third of the total older population. In addition, the causes of chronic pain and its cures are unknown, and treatment is limited by these unknowns and the dangers of opioids. These essential factors make patients with chronic pain one of the most vulnerable populations. The use of emerging virtual reality (VR) technology as an intervention for chronic pain has consistently demonstrated early effectiveness and has been termed as a \"nonpharmacological analgesic.\" Nevertheless, we must remain vigilant about the potential ethical risks of VR interventions, as inappropriate VR interventions may exacerbate the vulnerabilities of patients. Currently, a central challenge for VR developers is the ambiguity of patient vulnerability and the unpredictability of ethical dilemmas. Therefore, our paper focused on the vulnerability and ethical dilemmas faced by patients with chronic pain in VR interventions. Through an experience-based, prospective ethical examination, we have identified both existing and potential new vulnerabilities and specific manifestations that patients with chronic pain may encounter in VR interventions. Our aim was to highlight the ethical risks that may be present in VR interventions. On one hand, this can help raise awareness among technology developers regarding the vulnerabilities of patients with chronic pain and mitigate technological ethical risks. In addition, it can assist technology developers in determining the priorities for VR technology interventions. These efforts collectively lay a solid foundation for the comprehensive realization of responsible VR technology interventions.',\n",
       "   'sentences': [],\n",
       "   'annotations': [{'id': '24',\n",
       "     'infons': {'identifier': 'MESH:D059350', 'type': 'Disease'},\n",
       "     'text': 'Chronic pain',\n",
       "     'locations': [{'offset': 160, 'length': 12}]},\n",
       "    {'id': '25',\n",
       "     'infons': {'identifier': 'MESH:D059350', 'type': 'Disease'},\n",
       "     'text': 'chronic pain',\n",
       "     'locations': [{'offset': 296, 'length': 12}]},\n",
       "    {'id': '26',\n",
       "     'infons': {'identifier': '9606', 'type': 'Species'},\n",
       "     'text': 'people',\n",
       "     'locations': [{'offset': 397, 'length': 6}]},\n",
       "    {'id': '27',\n",
       "     'infons': {'identifier': '9606', 'type': 'Species'},\n",
       "     'text': 'people',\n",
       "     'locations': [{'offset': 414, 'length': 6}]},\n",
       "    {'id': '28',\n",
       "     'infons': {'identifier': 'MESH:D059350', 'type': 'Disease'},\n",
       "     'text': 'chronic pain',\n",
       "     'locations': [{'offset': 432, 'length': 12}]},\n",
       "    {'id': '29',\n",
       "     'infons': {'identifier': 'MESH:D010146', 'type': 'Disease'},\n",
       "     'text': 'pain',\n",
       "     'locations': [{'offset': 564, 'length': 4}]},\n",
       "    {'id': '30',\n",
       "     'infons': {'identifier': '9606', 'type': 'Species'},\n",
       "     'text': 'people',\n",
       "     'locations': [{'offset': 594, 'length': 6}]},\n",
       "    {'id': '31',\n",
       "     'infons': {'identifier': 'MESH:D010146', 'type': 'Disease'},\n",
       "     'text': 'pain',\n",
       "     'locations': [{'offset': 632, 'length': 4}]},\n",
       "    {'id': '32',\n",
       "     'infons': {'identifier': 'MESH:D059350', 'type': 'Disease'},\n",
       "     'text': 'chronic pain',\n",
       "     'locations': [{'offset': 725, 'length': 12}]},\n",
       "    {'id': '33',\n",
       "     'infons': {'identifier': '9606', 'type': 'Species'},\n",
       "     'text': 'patients',\n",
       "     'locations': [{'offset': 865, 'length': 8}]},\n",
       "    {'id': '34',\n",
       "     'infons': {'identifier': 'MESH:D059350', 'type': 'Disease'},\n",
       "     'text': 'chronic pain',\n",
       "     'locations': [{'offset': 879, 'length': 12}]},\n",
       "    {'id': '35',\n",
       "     'infons': {'identifier': 'MESH:D010146', 'type': 'Disease'},\n",
       "     'text': 'pain',\n",
       "     'locations': [{'offset': 1015, 'length': 4}]},\n",
       "    {'id': '36',\n",
       "     'infons': {'identifier': '9606', 'type': 'Species'},\n",
       "     'text': 'patients',\n",
       "     'locations': [{'offset': 1292, 'length': 8}]},\n",
       "    {'id': '37',\n",
       "     'infons': {'identifier': '9606', 'type': 'Species'},\n",
       "     'text': 'patient',\n",
       "     'locations': [{'offset': 1371, 'length': 7}]},\n",
       "    {'id': '38',\n",
       "     'infons': {'identifier': '9606', 'type': 'Species'},\n",
       "     'text': 'patients',\n",
       "     'locations': [{'offset': 1519, 'length': 8}]},\n",
       "    {'id': '39',\n",
       "     'infons': {'identifier': 'MESH:D059350', 'type': 'Disease'},\n",
       "     'text': 'chronic pain',\n",
       "     'locations': [{'offset': 1533, 'length': 12}]},\n",
       "    {'id': '40',\n",
       "     'infons': {'identifier': '9606', 'type': 'Species'},\n",
       "     'text': 'patients',\n",
       "     'locations': [{'offset': 1729, 'length': 8}]},\n",
       "    {'id': '41',\n",
       "     'infons': {'identifier': 'MESH:D059350', 'type': 'Disease'},\n",
       "     'text': 'chronic pain',\n",
       "     'locations': [{'offset': 1743, 'length': 12}]},\n",
       "    {'id': '42',\n",
       "     'infons': {'identifier': '9606', 'type': 'Species'},\n",
       "     'text': 'patients',\n",
       "     'locations': [{'offset': 1979, 'length': 8}]},\n",
       "    {'id': '43',\n",
       "     'infons': {'identifier': 'MESH:D059350', 'type': 'Disease'},\n",
       "     'text': 'chronic pain',\n",
       "     'locations': [{'offset': 1993, 'length': 12}]}],\n",
       "   'relations': []}],\n",
       " 'relations': [],\n",
       " 'pmid': 38048153,\n",
       " 'pmcid': None,\n",
       " 'created': {'$date': 1701830289145},\n",
       " 'accessions': ['disease@MESH:D010146',\n",
       "  'species@9606',\n",
       "  'disease@MESH:D059350'],\n",
       " 'journal': 'J Med Internet Res',\n",
       " 'year': 2023,\n",
       " 'authors': ['Zhou S', 'Gromala D', 'Wang L']}"
      ]
     },
     "execution_count": 77,
     "metadata": {},
     "output_type": "execute_result"
    }
   ],
   "source": [
    "second_filtered_pubtator_json[0]"
   ]
  },
  {
   "cell_type": "code",
   "execution_count": 78,
   "id": "b2c78c72-6d2e-4f2a-979f-0f2b2eb25d94",
   "metadata": {
    "tags": []
   },
   "outputs": [
    {
     "name": "stdout",
     "output_type": "stream",
     "text": [
      "Parent process 99387.\n",
      "Waiting for all subprocesses done...\n",
      "All subprocesses done.\n",
      "The running time is 13s\n"
     ]
    }
   ],
   "source": [
    "from nltk.tokenize import sent_tokenize\n",
    "import datetime\n",
    "import re\n",
    "from multiprocessing import Process, Manager, Pool\n",
    "import os, time, random\n",
    "def work(i,rawlength,lock):\n",
    "    info=i.get('passages')[1]\n",
    "    abstract=info.get('text')\n",
    "    sentences=sent_tokenize(abstract)\n",
    "    positions=[]\n",
    "    size=len(sentences)\n",
    "    start=0\n",
    "    for k,j in enumerate(sentences):\n",
    "        newj=j.translate(str.maketrans({\"-\":  r\"\\-\",\"\\\\\": r\"\\\\\", \"^\":  r\"\\^\",\"$\":  r\"\\$\",\"*\":  r\"\\*\",\".\":  r\"\\.\",\"(\":  r\"\\(\",\")\":  r\"\\)\",\"+\":  r\"\\+\",\"[\":  r\"\\[\",\"]\":  r\"\\]\",\n",
    "                                      \"{\":  r\"\\{\",\"}\":  r\"\\}\",\"|\":  r\"\\|\",\"?\":  r\"\\?\"}))\n",
    "        spanlist=re.search(newj,abstract,flags=re.M|re.I).span()\n",
    "        abstract=abstract[spanlist[1]:]\n",
    "        positions.append((start+spanlist[0],start+spanlist[1]))\n",
    "        start+=spanlist[1]\n",
    "    middict={'PMID':i.get('id'),'AB':info.get('text'),'SENTENCE':sentences,'positions':positions,'annotations':info.get('annotations'),'offset':info.get('offset')}\n",
    "    lock.acquire()\n",
    "    rawlength.append(middict)\n",
    "    lock.release()\n",
    "if __name__=='__main__':\n",
    "    start=datetime.datetime.now()\n",
    "    print('Parent process %s.' % os.getpid())\n",
    "    p=Pool(40)\n",
    "    manager=Manager()\n",
    "    rawlength=manager.list()\n",
    "    lock=manager.Lock()\n",
    "    for i in second_filtered_pubtator_json:\n",
    "        if i.get('passages'):\n",
    "            p.apply_async(work, args=(i,rawlength,lock))\n",
    "    print('Waiting for all subprocesses done...')\n",
    "    p.close()\n",
    "    p.join()\n",
    "    print('All subprocesses done.')\n",
    "    end=datetime.datetime.now()\n",
    "    print(\"The running time is \"+str((end-start).seconds)+\"s\")  "
   ]
  },
  {
   "cell_type": "code",
   "execution_count": 79,
   "id": "a8938397-68f1-439e-9257-ee63ffd920b3",
   "metadata": {},
   "outputs": [],
   "source": [
    "pubtators_list=list(rawlength)"
   ]
  },
  {
   "cell_type": "code",
   "execution_count": 80,
   "id": "f1eab218-25f6-4c03-abae-52ed7a2ac957",
   "metadata": {},
   "outputs": [
    {
     "data": {
      "text/plain": [
       "2302"
      ]
     },
     "execution_count": 80,
     "metadata": {},
     "output_type": "execute_result"
    }
   ],
   "source": [
    "len(pubtators_list)"
   ]
  },
  {
   "cell_type": "code",
   "execution_count": 81,
   "id": "dc205e48-7b26-448f-8642-d8a4c3b735c4",
   "metadata": {},
   "outputs": [],
   "source": [
    "pubtator_raw=[]\n",
    "error=[]\n",
    "error2=[]\n",
    "for i in pubtators_list:\n",
    "    for j in i.get('annotations'):\n",
    "        for k,l in enumerate(i.get('positions')):\n",
    "            if j.get('locations')[0].get('offset')>=l[0]+i.get('offset') and j.get('locations')[0].get('offset')<l[1]+i.get('offset'):\n",
    "                pubtator_raw.append({'id':i.get('PMID'),'AB':i.get('AB'), 'type': j.get('infons').get('type'), \\\n",
    "                                     'identifier':j.get('infons').get('identifier'),'text':j.get('text'),'sentence':i.get('SENTENCE')[k],\\\n",
    "                                     'sentenceSize':len(i.get('SENTENCE')),'sentenceIndex':k})\n",
    "                break\n",
    "        else:\n",
    "            error.append(i)\n",
    "            error2.append(j)"
   ]
  },
  {
   "cell_type": "code",
   "execution_count": 82,
   "id": "baeaae03-464a-4896-a3bd-f9c7cc0cd41f",
   "metadata": {},
   "outputs": [],
   "source": [
    "pubtator_raw_dict2AB={}\n",
    "for i in pubtator_raw:\n",
    "    pubtator_raw_dict2AB[i.get('id')]=i.get('AB')"
   ]
  },
  {
   "cell_type": "code",
   "execution_count": 83,
   "id": "a3eb45ed-1645-48b5-83a8-db6881779e5f",
   "metadata": {},
   "outputs": [
    {
     "data": {
      "text/plain": [
       "0"
      ]
     },
     "execution_count": 83,
     "metadata": {},
     "output_type": "execute_result"
    }
   ],
   "source": [
    "len(error)"
   ]
  },
  {
   "cell_type": "code",
   "execution_count": 84,
   "id": "a1c5e412-ad27-4cdd-be43-371cd5f29fbf",
   "metadata": {},
   "outputs": [
    {
     "data": {
      "text/plain": [
       "0"
      ]
     },
     "execution_count": 84,
     "metadata": {},
     "output_type": "execute_result"
    }
   ],
   "source": [
    "len(error2)"
   ]
  },
  {
   "cell_type": "code",
   "execution_count": 85,
   "id": "9bbfd873-19d0-4311-9d47-b4f27544a225",
   "metadata": {},
   "outputs": [
    {
     "data": {
      "text/plain": [
       "33030"
      ]
     },
     "execution_count": 85,
     "metadata": {},
     "output_type": "execute_result"
    }
   ],
   "source": [
    "len(pubtator_raw)"
   ]
  },
  {
   "cell_type": "code",
   "execution_count": 86,
   "id": "22e13c39-c04f-4124-b019-4912b378d5fd",
   "metadata": {},
   "outputs": [],
   "source": [
    "raw_pick_pubtator=[]\n",
    "for i in reserved_raw_pick:\n",
    "    if i.get('AB'):\n",
    "        if pubtator_raw_dict2AB.get(i.get('PMID')):\n",
    "            i.update({'AB':pubtator_raw_dict2AB.get(i.get('PMID'))})\n",
    "            raw_pick_pubtator.append(i)"
   ]
  },
  {
   "cell_type": "code",
   "execution_count": 87,
   "id": "b19713dd-29a5-4df4-90f7-8de1a14d4fd0",
   "metadata": {},
   "outputs": [
    {
     "data": {
      "text/plain": [
       "2302"
      ]
     },
     "execution_count": 87,
     "metadata": {},
     "output_type": "execute_result"
    }
   ],
   "source": [
    "len(pubtator_raw_dict2AB)"
   ]
  },
  {
   "cell_type": "code",
   "execution_count": 88,
   "id": "119179a4-7e27-4070-9186-9c2c149f5f66",
   "metadata": {},
   "outputs": [
    {
     "data": {
      "text/plain": [
       "3506"
      ]
     },
     "execution_count": 88,
     "metadata": {},
     "output_type": "execute_result"
    }
   ],
   "source": [
    "len(reserved_raw_pick)"
   ]
  },
  {
   "cell_type": "code",
   "execution_count": 89,
   "id": "9500ab27-beef-4dbe-a694-d2be94371885",
   "metadata": {},
   "outputs": [
    {
     "data": {
      "text/plain": [
       "2302"
      ]
     },
     "execution_count": 89,
     "metadata": {},
     "output_type": "execute_result"
    }
   ],
   "source": [
    "len(raw_pick_pubtator)"
   ]
  },
  {
   "cell_type": "code",
   "execution_count": 90,
   "id": "5eafc741-c398-4fd1-80bf-5f7ceb744d21",
   "metadata": {},
   "outputs": [],
   "source": [
    "for i in raw_pick_pubtator:\n",
    "    i['addtime']=now_time"
   ]
  },
  {
   "cell_type": "code",
   "execution_count": 91,
   "id": "5d2b4e92-ce33-4ca7-a149-5c8d987c79cd",
   "metadata": {},
   "outputs": [
    {
     "data": {
      "text/plain": [
       "<pymongo.results.InsertManyResult at 0x7f23d5b65780>"
      ]
     },
     "execution_count": 91,
     "metadata": {},
     "output_type": "execute_result"
    }
   ],
   "source": [
    "collections_pubtator_info.insert_many(raw_pick_pubtator)"
   ]
  },
  {
   "cell_type": "code",
   "execution_count": 92,
   "id": "3995078d-6a14-43d4-ba21-4ca386d480b7",
   "metadata": {},
   "outputs": [
    {
     "data": {
      "text/plain": [
       "208697"
      ]
     },
     "execution_count": 92,
     "metadata": {},
     "output_type": "execute_result"
    }
   ],
   "source": [
    "len(list(collections_pubtator_info.find()))"
   ]
  },
  {
   "cell_type": "code",
   "execution_count": 93,
   "id": "dc6ba972-c5de-4fbf-8e56-4cb255a9b493",
   "metadata": {},
   "outputs": [
    {
     "data": {
      "text/plain": [
       "208697"
      ]
     },
     "execution_count": 93,
     "metadata": {},
     "output_type": "execute_result"
    }
   ],
   "source": [
    "len(list(collections_pubtator_info.find()))"
   ]
  },
  {
   "cell_type": "code",
   "execution_count": null,
   "id": "a5daec66-527e-4b49-9652-7f6dd2b98fe1",
   "metadata": {},
   "outputs": [],
   "source": []
  },
  {
   "cell_type": "code",
   "execution_count": null,
   "id": "e3fd5de5-4195-4832-85f4-b488abd45e58",
   "metadata": {},
   "outputs": [],
   "source": []
  },
  {
   "cell_type": "markdown",
   "id": "dcaf4880-e1fb-4de2-b374-59b5d76a052a",
   "metadata": {},
   "source": [
    "# pubtator_for_compare_latest (pubtator_raw)"
   ]
  },
  {
   "cell_type": "code",
   "execution_count": 94,
   "id": "d7b39150-0b9b-4f0b-97c1-42249b251cd8",
   "metadata": {},
   "outputs": [],
   "source": [
    "collections_pubtator_for_compare_latest=db.pubtator_for_compare_latest"
   ]
  },
  {
   "cell_type": "code",
   "execution_count": 95,
   "id": "35bbc752-1f21-4e66-8d35-6be34f2222d9",
   "metadata": {},
   "outputs": [],
   "source": [
    "for i in pubtator_raw:\n",
    "    i['addtime']=now_time"
   ]
  },
  {
   "cell_type": "code",
   "execution_count": 96,
   "id": "db4bca65-1e24-4bc6-b478-a1dd7c6ee9e5",
   "metadata": {},
   "outputs": [
    {
     "data": {
      "text/plain": [
       "<pymongo.results.InsertManyResult at 0x7f222085bc00>"
      ]
     },
     "execution_count": 96,
     "metadata": {},
     "output_type": "execute_result"
    }
   ],
   "source": [
    "collections_pubtator_for_compare_latest.insert_many(pubtator_raw)"
   ]
  },
  {
   "cell_type": "code",
   "execution_count": 97,
   "id": "514a7865-cc75-4dc4-92de-a930ef3f745d",
   "metadata": {},
   "outputs": [
    {
     "data": {
      "text/plain": [
       "33030"
      ]
     },
     "execution_count": 97,
     "metadata": {},
     "output_type": "execute_result"
    }
   ],
   "source": [
    "len(pubtator_raw)"
   ]
  },
  {
   "cell_type": "code",
   "execution_count": 98,
   "id": "920bd57a-aa86-413e-8b47-4116b2bf72da",
   "metadata": {},
   "outputs": [
    {
     "data": {
      "text/plain": [
       "'/root/hald_autoupdate/2023_12_10'"
      ]
     },
     "execution_count": 98,
     "metadata": {},
     "output_type": "execute_result"
    }
   ],
   "source": [
    "pwd"
   ]
  },
  {
   "cell_type": "code",
   "execution_count": 99,
   "id": "f0aaaf8d-4b11-4ae3-aca7-7cf616e36ad2",
   "metadata": {},
   "outputs": [],
   "source": [
    "os.makedirs('results/step1/')\n",
    "os.makedirs('results/step2/')\n",
    "os.makedirs('results/step3/')\n",
    "os.makedirs('results/step4/')\n",
    "os.makedirs('results/step5/')"
   ]
  },
  {
   "cell_type": "code",
   "execution_count": 100,
   "id": "acfd2c74-1c50-4c39-a357-e9ff7755aa2b",
   "metadata": {},
   "outputs": [],
   "source": [
    "pickle.dump(raw_pick,open('results/step1/raw_pick.pkl','wb'))\n",
    "pickle.dump(raw_pick_pubtator,open('results/step1/raw_pick_pubtator.pkl','wb'))\n",
    "pickle.dump(pubtator_raw,open('results/step1/pubtator_raw.pkl','wb'))"
   ]
  },
  {
   "cell_type": "code",
   "execution_count": 101,
   "id": "cab38b2b-c2c7-4486-be2e-fb6ff1a18893",
   "metadata": {},
   "outputs": [
    {
     "data": {
      "text/plain": [
       "{'id': '38036596',\n",
       " 'AB': 'Epidemiological studies have reported a strong association between circulating Klotho and physical function; however, the cohorts were comprised of older adults with multiple comorbidities. Herein, we examined the relationship between Klotho and physical function in a community-based cohort of healthy adults. In this cross-sectional study, serum Klotho was measured in 80 adults who visited the Musculoskeletal Function, Imaging, and Tissue Resource Core of the Indiana Center for Musculoskeletal Health. Participants (n = 20, 10 [50%] men per group) were chosen into four age groups: 20-34, 35-49, 50-64, and >= 65 years, and were further grouped based on performance (low vs. high) on grip strength and chair stand tests. Klotho levels were lower in the >= 65 years group (703.0 [189.3] pg/mL; p = 0.022) and the 50-64 years group (722.6 [190.5] pg/mL; p = 0.045) compared to 20-34 years (916.1 [284.8] pg/mL). No differences were observed in Klotho between the low and high performers. The >= 65 years group walked a shorter distance during the 6-min walk test (6MWT) compared to 20-34 years (p = 0.005). Klotho was correlated with age (p < 0.001), body fat (p = 0.037), and 6MWT distance (p = 0.022). Klotho levels decline as early as the fifth decade of life, potentially before the onset of age-related impairment in exercise capacity.',\n",
       " 'type': 'Gene',\n",
       " 'identifier': '9365',\n",
       " 'text': 'Klotho',\n",
       " 'sentence': 'Epidemiological studies have reported a strong association between circulating Klotho and physical function; however, the cohorts were comprised of older adults with multiple comorbidities.',\n",
       " 'sentenceSize': 9,\n",
       " 'sentenceIndex': 0,\n",
       " 'addtime': '2023_12_01',\n",
       " '_id': ObjectId('65757bae22f3b735376036ef')}"
      ]
     },
     "execution_count": 101,
     "metadata": {},
     "output_type": "execute_result"
    }
   ],
   "source": [
    "pubtator_raw[0]"
   ]
  },
  {
   "cell_type": "code",
   "execution_count": 102,
   "id": "2cbf92ca-b593-4f0b-be52-3016c2aa944b",
   "metadata": {},
   "outputs": [
    {
     "data": {
      "text/plain": [
       "'2023_12_01'"
      ]
     },
     "execution_count": 102,
     "metadata": {},
     "output_type": "execute_result"
    }
   ],
   "source": [
    "now_time"
   ]
  },
  {
   "cell_type": "code",
   "execution_count": null,
   "id": "808fa358-804e-480d-a67e-b2ab1be64221",
   "metadata": {},
   "outputs": [],
   "source": []
  },
  {
   "cell_type": "code",
   "execution_count": null,
   "id": "7ce95f68-c0f4-4b2d-870e-a7eb4b6e988f",
   "metadata": {},
   "outputs": [],
   "source": []
  },
  {
   "cell_type": "markdown",
   "id": "36db955c-3d31-441a-94f2-d56d27a0ddac",
   "metadata": {},
   "source": [
    "# Literature_Info.json"
   ]
  },
  {
   "cell_type": "code",
   "execution_count": 103,
   "id": "c8f350d5-5e7a-4421-93ae-bc1545a286e9",
   "metadata": {},
   "outputs": [],
   "source": [
    "pd.set_option('display.max_columns', 50)"
   ]
  },
  {
   "cell_type": "code",
   "execution_count": 105,
   "id": "f2e68375-afd5-49d1-9792-7423fa34c7a6",
   "metadata": {},
   "outputs": [],
   "source": [
    "jcr=pd.read_csv(\"../JCR/jcr2023.tsv\",sep=\"\\t\")"
   ]
  },
  {
   "cell_type": "code",
   "execution_count": 106,
   "id": "c66ba69f-c10b-4ec6-bcb1-219304ec5947",
   "metadata": {},
   "outputs": [
    {
     "data": {
      "text/plain": [
       "20522"
      ]
     },
     "execution_count": 106,
     "metadata": {},
     "output_type": "execute_result"
    }
   ],
   "source": [
    "len(jcr)"
   ]
  },
  {
   "cell_type": "code",
   "execution_count": 107,
   "id": "e3e775b2-df7d-4f12-a3b5-1210da34bfdf",
   "metadata": {},
   "outputs": [
    {
     "data": {
      "text/html": [
       "<div>\n",
       "<style scoped>\n",
       "    .dataframe tbody tr th:only-of-type {\n",
       "        vertical-align: middle;\n",
       "    }\n",
       "\n",
       "    .dataframe tbody tr th {\n",
       "        vertical-align: top;\n",
       "    }\n",
       "\n",
       "    .dataframe thead th {\n",
       "        text-align: right;\n",
       "    }\n",
       "</style>\n",
       "<table border=\"1\" class=\"dataframe\">\n",
       "  <thead>\n",
       "    <tr style=\"text-align: right;\">\n",
       "      <th></th>\n",
       "      <th>rank</th>\n",
       "      <th>journalTitle</th>\n",
       "      <th>abbrJournal</th>\n",
       "      <th>year</th>\n",
       "      <th>edition</th>\n",
       "      <th>issn</th>\n",
       "      <th>totalCites</th>\n",
       "      <th>journalImpactFactor</th>\n",
       "      <th>impactFactorWithoutJournalSelfCites</th>\n",
       "      <th>fiveYearImpactFactor</th>\n",
       "      <th>immediacyIndex</th>\n",
       "      <th>citableItems</th>\n",
       "      <th>citedHalfLife</th>\n",
       "      <th>citingHalfLife</th>\n",
       "      <th>eigenFactorScore</th>\n",
       "      <th>articleInfluenceScore</th>\n",
       "      <th>citesCurrent</th>\n",
       "      <th>articlesCurrent</th>\n",
       "      <th>selfCites</th>\n",
       "      <th>impactFactorSelfCites</th>\n",
       "      <th>originalResearch</th>\n",
       "      <th>jifPercentile</th>\n",
       "      <th>normEigenFactor</th>\n",
       "    </tr>\n",
       "  </thead>\n",
       "  <tbody>\n",
       "    <tr>\n",
       "      <th>20512</th>\n",
       "      <td>9855</td>\n",
       "      <td>European Journal of Orthopaedic Surgery and Tr...</td>\n",
       "      <td>EUR J ORTHOP SURG TR</td>\n",
       "      <td>2023</td>\n",
       "      <td>NaN</td>\n",
       "      <td>1633-8065</td>\n",
       "      <td>3574</td>\n",
       "      <td>1.7</td>\n",
       "      <td>1.6</td>\n",
       "      <td>NaN</td>\n",
       "      <td>0.3</td>\n",
       "      <td>326</td>\n",
       "      <td>4.7</td>\n",
       "      <td>8.3</td>\n",
       "      <td>0.00518</td>\n",
       "      <td>NaN</td>\n",
       "      <td>0</td>\n",
       "      <td>0</td>\n",
       "      <td>0</td>\n",
       "      <td>0</td>\n",
       "      <td>0</td>\n",
       "      <td>NaN</td>\n",
       "      <td>1.11597</td>\n",
       "    </tr>\n",
       "    <tr>\n",
       "      <th>20513</th>\n",
       "      <td>9855</td>\n",
       "      <td>European Journal of Transport and Infrastructu...</td>\n",
       "      <td>EUR J TRANSP INFRAST</td>\n",
       "      <td>2023</td>\n",
       "      <td>NaN</td>\n",
       "      <td>1567-7133</td>\n",
       "      <td>664</td>\n",
       "      <td>1.7</td>\n",
       "      <td>1.7</td>\n",
       "      <td>1.5</td>\n",
       "      <td>0.5</td>\n",
       "      <td>19</td>\n",
       "      <td>8.4</td>\n",
       "      <td>6.2</td>\n",
       "      <td>0.00036</td>\n",
       "      <td>0.336</td>\n",
       "      <td>0</td>\n",
       "      <td>0</td>\n",
       "      <td>0</td>\n",
       "      <td>0</td>\n",
       "      <td>0</td>\n",
       "      <td>9.5</td>\n",
       "      <td>0.07776</td>\n",
       "    </tr>\n",
       "    <tr>\n",
       "      <th>20514</th>\n",
       "      <td>9855</td>\n",
       "      <td>European Journal on Criminal Policy and Research</td>\n",
       "      <td>EUR J CRIM POLICY RE</td>\n",
       "      <td>2023</td>\n",
       "      <td>NaN</td>\n",
       "      <td>0928-1371</td>\n",
       "      <td>773</td>\n",
       "      <td>1.7</td>\n",
       "      <td>1.6</td>\n",
       "      <td>1.9</td>\n",
       "      <td>0.5</td>\n",
       "      <td>35</td>\n",
       "      <td>6.8</td>\n",
       "      <td>8.0</td>\n",
       "      <td>0.00092</td>\n",
       "      <td>0.630</td>\n",
       "      <td>0</td>\n",
       "      <td>0</td>\n",
       "      <td>0</td>\n",
       "      <td>0</td>\n",
       "      <td>0</td>\n",
       "      <td>44.2</td>\n",
       "      <td>0.19839</td>\n",
       "    </tr>\n",
       "    <tr>\n",
       "      <th>20515</th>\n",
       "      <td>9855</td>\n",
       "      <td>EXPERIMENTAL LUNG RESEARCH</td>\n",
       "      <td>EXP LUNG RES</td>\n",
       "      <td>2023</td>\n",
       "      <td>NaN</td>\n",
       "      <td>0190-2148</td>\n",
       "      <td>1340</td>\n",
       "      <td>1.7</td>\n",
       "      <td>1.7</td>\n",
       "      <td>2.0</td>\n",
       "      <td>0.3</td>\n",
       "      <td>24</td>\n",
       "      <td>9.5</td>\n",
       "      <td>6.0</td>\n",
       "      <td>0.00067</td>\n",
       "      <td>0.379</td>\n",
       "      <td>0</td>\n",
       "      <td>0</td>\n",
       "      <td>0</td>\n",
       "      <td>0</td>\n",
       "      <td>0</td>\n",
       "      <td>8.5</td>\n",
       "      <td>0.14451</td>\n",
       "    </tr>\n",
       "    <tr>\n",
       "      <th>20516</th>\n",
       "      <td>9855</td>\n",
       "      <td>FEDERAL RESERVE BANK OF ST LOUIS REVIEW</td>\n",
       "      <td>FED RESERVE BANK ST</td>\n",
       "      <td>2023</td>\n",
       "      <td>NaN</td>\n",
       "      <td>0014-9187</td>\n",
       "      <td>576</td>\n",
       "      <td>1.7</td>\n",
       "      <td>1.6</td>\n",
       "      <td>1.4</td>\n",
       "      <td>0.4</td>\n",
       "      <td>18</td>\n",
       "      <td>13.5</td>\n",
       "      <td>6.7</td>\n",
       "      <td>0.00069</td>\n",
       "      <td>0.857</td>\n",
       "      <td>0</td>\n",
       "      <td>0</td>\n",
       "      <td>0</td>\n",
       "      <td>0</td>\n",
       "      <td>0</td>\n",
       "      <td>40.1</td>\n",
       "      <td>0.14960</td>\n",
       "    </tr>\n",
       "    <tr>\n",
       "      <th>20517</th>\n",
       "      <td>9855</td>\n",
       "      <td>Feminist Media Studies</td>\n",
       "      <td>FEM MEDIA STUD</td>\n",
       "      <td>2023</td>\n",
       "      <td>NaN</td>\n",
       "      <td>1468-0777</td>\n",
       "      <td>2273</td>\n",
       "      <td>1.7</td>\n",
       "      <td>1.4</td>\n",
       "      <td>2.3</td>\n",
       "      <td>0.3</td>\n",
       "      <td>175</td>\n",
       "      <td>4.9</td>\n",
       "      <td>8.2</td>\n",
       "      <td>0.00502</td>\n",
       "      <td>1.025</td>\n",
       "      <td>0</td>\n",
       "      <td>0</td>\n",
       "      <td>0</td>\n",
       "      <td>0</td>\n",
       "      <td>0</td>\n",
       "      <td>55.7</td>\n",
       "      <td>1.08187</td>\n",
       "    </tr>\n",
       "    <tr>\n",
       "      <th>20518</th>\n",
       "      <td>9855</td>\n",
       "      <td>FIBER AND INTEGRATED OPTICS</td>\n",
       "      <td>FIBER INTEGRATED OPT</td>\n",
       "      <td>2023</td>\n",
       "      <td>NaN</td>\n",
       "      <td>0146-8030</td>\n",
       "      <td>265</td>\n",
       "      <td>1.7</td>\n",
       "      <td>1.7</td>\n",
       "      <td>1.0</td>\n",
       "      <td>0.3</td>\n",
       "      <td>8</td>\n",
       "      <td>8.8</td>\n",
       "      <td>6.4</td>\n",
       "      <td>0.00013</td>\n",
       "      <td>0.161</td>\n",
       "      <td>0</td>\n",
       "      <td>0</td>\n",
       "      <td>0</td>\n",
       "      <td>0</td>\n",
       "      <td>0</td>\n",
       "      <td>27.5</td>\n",
       "      <td>0.02988</td>\n",
       "    </tr>\n",
       "    <tr>\n",
       "      <th>20519</th>\n",
       "      <td>9855</td>\n",
       "      <td>Field Methods</td>\n",
       "      <td>FIELD METHOD</td>\n",
       "      <td>2023</td>\n",
       "      <td>NaN</td>\n",
       "      <td>1525-822X</td>\n",
       "      <td>3624</td>\n",
       "      <td>1.7</td>\n",
       "      <td>1.6</td>\n",
       "      <td>3.9</td>\n",
       "      <td>0.3</td>\n",
       "      <td>41</td>\n",
       "      <td>16.3</td>\n",
       "      <td>9.4</td>\n",
       "      <td>0.00150</td>\n",
       "      <td>1.336</td>\n",
       "      <td>0</td>\n",
       "      <td>0</td>\n",
       "      <td>0</td>\n",
       "      <td>0</td>\n",
       "      <td>0</td>\n",
       "      <td>67.6</td>\n",
       "      <td>0.32450</td>\n",
       "    </tr>\n",
       "    <tr>\n",
       "      <th>20520</th>\n",
       "      <td>9855</td>\n",
       "      <td>FINANCE AND STOCHASTICS</td>\n",
       "      <td>FINANC STOCH</td>\n",
       "      <td>2023</td>\n",
       "      <td>NaN</td>\n",
       "      <td>0949-2984</td>\n",
       "      <td>1384</td>\n",
       "      <td>1.7</td>\n",
       "      <td>1.6</td>\n",
       "      <td>2.3</td>\n",
       "      <td>0.3</td>\n",
       "      <td>31</td>\n",
       "      <td>12.7</td>\n",
       "      <td>13.2</td>\n",
       "      <td>0.00202</td>\n",
       "      <td>1.563</td>\n",
       "      <td>0</td>\n",
       "      <td>0</td>\n",
       "      <td>0</td>\n",
       "      <td>0</td>\n",
       "      <td>0</td>\n",
       "      <td>59.6</td>\n",
       "      <td>0.43612</td>\n",
       "    </tr>\n",
       "  </tbody>\n",
       "</table>\n",
       "</div>"
      ],
      "text/plain": [
       "       rank                                       journalTitle  \\\n",
       "20512  9855  European Journal of Orthopaedic Surgery and Tr...   \n",
       "20513  9855  European Journal of Transport and Infrastructu...   \n",
       "20514  9855   European Journal on Criminal Policy and Research   \n",
       "20515  9855                         EXPERIMENTAL LUNG RESEARCH   \n",
       "20516  9855            FEDERAL RESERVE BANK OF ST LOUIS REVIEW   \n",
       "20517  9855                             Feminist Media Studies   \n",
       "20518  9855                        FIBER AND INTEGRATED OPTICS   \n",
       "20519  9855                                      Field Methods   \n",
       "20520  9855                            FINANCE AND STOCHASTICS   \n",
       "\n",
       "                abbrJournal  year  edition       issn  totalCites  \\\n",
       "20512  EUR J ORTHOP SURG TR  2023      NaN  1633-8065        3574   \n",
       "20513  EUR J TRANSP INFRAST  2023      NaN  1567-7133         664   \n",
       "20514  EUR J CRIM POLICY RE  2023      NaN  0928-1371         773   \n",
       "20515          EXP LUNG RES  2023      NaN  0190-2148        1340   \n",
       "20516   FED RESERVE BANK ST  2023      NaN  0014-9187         576   \n",
       "20517        FEM MEDIA STUD  2023      NaN  1468-0777        2273   \n",
       "20518  FIBER INTEGRATED OPT  2023      NaN  0146-8030         265   \n",
       "20519          FIELD METHOD  2023      NaN  1525-822X        3624   \n",
       "20520          FINANC STOCH  2023      NaN  0949-2984        1384   \n",
       "\n",
       "      journalImpactFactor impactFactorWithoutJournalSelfCites  \\\n",
       "20512                 1.7                                 1.6   \n",
       "20513                 1.7                                 1.7   \n",
       "20514                 1.7                                 1.6   \n",
       "20515                 1.7                                 1.7   \n",
       "20516                 1.7                                 1.6   \n",
       "20517                 1.7                                 1.4   \n",
       "20518                 1.7                                 1.7   \n",
       "20519                 1.7                                 1.6   \n",
       "20520                 1.7                                 1.6   \n",
       "\n",
       "      fiveYearImpactFactor immediacyIndex  citableItems  citedHalfLife  \\\n",
       "20512                  NaN            0.3           326            4.7   \n",
       "20513                  1.5            0.5            19            8.4   \n",
       "20514                  1.9            0.5            35            6.8   \n",
       "20515                  2.0            0.3            24            9.5   \n",
       "20516                  1.4            0.4            18           13.5   \n",
       "20517                  2.3            0.3           175            4.9   \n",
       "20518                  1.0            0.3             8            8.8   \n",
       "20519                  3.9            0.3            41           16.3   \n",
       "20520                  2.3            0.3            31           12.7   \n",
       "\n",
       "       citingHalfLife  eigenFactorScore  articleInfluenceScore  citesCurrent  \\\n",
       "20512             8.3           0.00518                    NaN             0   \n",
       "20513             6.2           0.00036                  0.336             0   \n",
       "20514             8.0           0.00092                  0.630             0   \n",
       "20515             6.0           0.00067                  0.379             0   \n",
       "20516             6.7           0.00069                  0.857             0   \n",
       "20517             8.2           0.00502                  1.025             0   \n",
       "20518             6.4           0.00013                  0.161             0   \n",
       "20519             9.4           0.00150                  1.336             0   \n",
       "20520            13.2           0.00202                  1.563             0   \n",
       "\n",
       "       articlesCurrent  selfCites  impactFactorSelfCites  originalResearch  \\\n",
       "20512                0          0                      0                 0   \n",
       "20513                0          0                      0                 0   \n",
       "20514                0          0                      0                 0   \n",
       "20515                0          0                      0                 0   \n",
       "20516                0          0                      0                 0   \n",
       "20517                0          0                      0                 0   \n",
       "20518                0          0                      0                 0   \n",
       "20519                0          0                      0                 0   \n",
       "20520                0          0                      0                 0   \n",
       "\n",
       "       jifPercentile  normEigenFactor  \n",
       "20512            NaN          1.11597  \n",
       "20513            9.5          0.07776  \n",
       "20514           44.2          0.19839  \n",
       "20515            8.5          0.14451  \n",
       "20516           40.1          0.14960  \n",
       "20517           55.7          1.08187  \n",
       "20518           27.5          0.02988  \n",
       "20519           67.6          0.32450  \n",
       "20520           59.6          0.43612  "
      ]
     },
     "execution_count": 107,
     "metadata": {},
     "output_type": "execute_result"
    }
   ],
   "source": [
    "jcr[-10:-1]"
   ]
  },
  {
   "cell_type": "code",
   "execution_count": 17,
   "id": "c43d2886-e460-443f-9f71-37cc61bcdfe1",
   "metadata": {},
   "outputs": [],
   "source": [
    "jt2if_all={}\n",
    "for i in range(len(jcr)):\n",
    "    if jcr.iloc[i,7]=='<0.1':\n",
    "        jcr.iloc[i,7]='0.0'\n",
    "    if math.isnan(float(jcr.iloc[i,7])):\n",
    "        jt2if_all[jcr.iloc[i,1].lower()]=0.0\n",
    "    else:\n",
    "        jt2if_all[jcr.iloc[i,1].lower()]=float(jcr.iloc[i,7])\n",
    "jt2if_all['aging']=jt2if_all.get('aging-us')"
   ]
  },
  {
   "cell_type": "code",
   "execution_count": 18,
   "id": "49f0f63b-0496-4aee-845b-bf43711dd447",
   "metadata": {},
   "outputs": [],
   "source": [
    "jt2if_brief={}\n",
    "for i in range(len(jcr)):\n",
    "    if jcr.iloc[i,7]=='<0.1':\n",
    "        jcr.iloc[i,7]='0.0'\n",
    "    if math.isnan(float(jcr.iloc[i,7])):\n",
    "        jt2if_brief[jcr.iloc[i,1].lower()]=0.0\n",
    "    else:\n",
    "        jt2if_brief[jcr.iloc[i,2].lower()]=float(jcr.iloc[i,7])\n",
    "jt2if_brief['aging']=jt2if_brief.get('aging-us')"
   ]
  },
  {
   "cell_type": "code",
   "execution_count": 19,
   "id": "5e1c2fca-39ad-49f4-8fdc-4f0275be14ae",
   "metadata": {},
   "outputs": [],
   "source": [
    "jt2if5_all={}\n",
    "for i in range(len(jcr)):\n",
    "    if jcr.iloc[i,9]=='<0.1':\n",
    "        jcr.iloc[i,9]='0.0'\n",
    "    if math.isnan(float(jcr.iloc[i,9])):\n",
    "        jt2if5_all[jcr.iloc[i,1].lower()]=0.0\n",
    "    else:\n",
    "        jt2if5_all[jcr.iloc[i,1].lower()]=float(jcr.iloc[i,9])\n",
    "jt2if5_all['aging']=jt2if5_all.get('aging-us')"
   ]
  },
  {
   "cell_type": "code",
   "execution_count": 20,
   "id": "16d36de6-9947-46d8-8b2b-7162f9d2bf5b",
   "metadata": {},
   "outputs": [],
   "source": [
    "jt2if5_brief={}\n",
    "for i in range(len(jcr)):\n",
    "    if jcr.iloc[i,9]=='<0.1':\n",
    "        jcr.iloc[i,9]='0.0'\n",
    "    if math.isnan(float(jcr.iloc[i,9])):\n",
    "        jt2if5_brief[jcr.iloc[i,1].lower()]=0.0\n",
    "    else:\n",
    "        jt2if5_brief[jcr.iloc[i,2].lower()]=float(jcr.iloc[i,9])\n",
    "jt2if5_brief['aging']=jt2if5_brief.get('aging-us')"
   ]
  },
  {
   "cell_type": "code",
   "execution_count": 114,
   "id": "ffcdd7da-c81b-4379-9380-8fb8227f8563",
   "metadata": {},
   "outputs": [],
   "source": [
    "Literature_Info_list=list(collections_pubmed_raw.find())"
   ]
  },
  {
   "cell_type": "code",
   "execution_count": 115,
   "id": "b5cb2963-fcbe-4690-bc0e-0431e199435e",
   "metadata": {},
   "outputs": [
    {
     "data": {
      "text/plain": [
       "342651"
      ]
     },
     "execution_count": 115,
     "metadata": {},
     "output_type": "execute_result"
    }
   ],
   "source": [
    "len(Literature_Info_list)"
   ]
  },
  {
   "cell_type": "code",
   "execution_count": 116,
   "id": "74e2f954-1490-47ea-935d-37a7830bd2e6",
   "metadata": {},
   "outputs": [],
   "source": [
    "Literature_Info_dict={}\n",
    "for i in Literature_Info_list:\n",
    "    if jt2if_brief.get(i.get('TA').lower()):\n",
    "        i['IF']=jt2if_brief.get(i.get('TA').lower())\n",
    "    elif jt2if_all.get(i.get('JT').lower()):\n",
    "        i['IF']=jt2if_all.get(i.get('JT').lower())\n",
    "    else:\n",
    "        i['IF']=0.0\n",
    "    if jt2if5_brief.get(i.get('TA').lower()):\n",
    "        i['IF5']=jt2if5_brief.get(i.get('TA').lower())\n",
    "    elif jt2if5_all.get(i.get('JT').lower()):\n",
    "        i['IF5']=jt2if5_all.get(i.get('JT').lower())\n",
    "    else:\n",
    "        i['IF5']=0.0\n",
    "    Literature_Info_dict[i.get('PMID')]={\n",
    "    'PMID':i.get('PMID'),\n",
    "        'TI':i.get('TI'),\n",
    "        'AB':i.get('AB'),\n",
    "        'IF':i.get('IF'),\n",
    "        'IF5':i.get('IF5'),\n",
    "        'AU':i.get('AU'),\n",
    "        'FAU':i.get('FAU'),\n",
    "        'AD':i.get('AD'),\n",
    "        'PT':i.get('PT'),\n",
    "        'DP':i.get('DP'),\n",
    "        'PL':i.get('PL'),\n",
    "        'JT':i.get('JT'),\n",
    "        'TA':i.get('TA'),\n",
    "        'SO':i.get('SO')\n",
    "    }"
   ]
  },
  {
   "cell_type": "code",
   "execution_count": 117,
   "id": "11acf99d-8318-42d3-b05b-945d8edea03c",
   "metadata": {},
   "outputs": [
    {
     "data": {
      "text/plain": [
       "('35795148',\n",
       " {'PMID': '35795148',\n",
       "  'TI': 'Sirtuin 1 in Chronic Kidney Disease and Therapeutic Potential of Targeting Sirtuin 1.',\n",
       "  'AB': 'The incidence and prevalence of chronic kidney disease (CKD) continue to increase worldwide remaining as a major public health burden. CKD eventually progresses to end-stage kidney failure and patients with CKD have high morbidity and mortality. Sirtuin 1 (SIRT1), a NAD+-dependent deacetylases, has significant renal protective effects through its regulation of fibrosis, apoptosis, and senescence, oxidative stress, inflammation and aging process. The renal protective effects of Sirt1 have been described in many kidney diseases such as diabetic kidney disease and HIV-related kidney disease. SIRT1 also has protective effects against vascular calcification and therefore could be developed as a therapy for both CKD and CKD complications. In this narrative review, we will give an overview of the recent progress on the role of SIRT1 and its downstream pathways in CKD. We will also discuss potential therapeutic approach by activating SIRT1-related pathway in patients with CKD. The purpose is to hope to provide some insights on the future direction of the research in the field of SIRT1 for CKD.',\n",
       "  'IF': 0.0,\n",
       "  'IF5': 0.0,\n",
       "  'AU': ['Yan J', 'Wang J', 'He JC', 'Zhong Y'],\n",
       "  'FAU': ['Yan, Jiayi', 'Wang, Jue', 'He, John Cijiang', 'Zhong, Yifei'],\n",
       "  'AD': ['Division of Nephrology, Longhua Hospital, Shanghai University of Traditional Chinese Medicine, Shanghai, China.',\n",
       "   'Division of Nephrology, Longhua Hospital, Shanghai University of Traditional Chinese Medicine, Shanghai, China.',\n",
       "   'Department of Medicine, Division of Nephrology, Icahn School of Medicine at Mount Sinai, New York, NY, United States.',\n",
       "   'Division of Nephrology, Longhua Hospital, Shanghai University of Traditional Chinese Medicine, Shanghai, China.'],\n",
       "  'PT': ['Journal Article', 'Review'],\n",
       "  'DP': '2022',\n",
       "  'PL': 'Switzerland',\n",
       "  'JT': 'Frontiers in endocrinology',\n",
       "  'TA': 'Front Endocrinol (Lausanne)',\n",
       "  'SO': 'Front Endocrinol (Lausanne). 2022 Jun 20;13:917773. doi: 10.3389/fendo.2022.917773. eCollection 2022.'})"
      ]
     },
     "execution_count": 117,
     "metadata": {},
     "output_type": "execute_result"
    }
   ],
   "source": [
    "list(Literature_Info_dict.items())[10]"
   ]
  },
  {
   "cell_type": "code",
   "execution_count": 118,
   "id": "b6c4c445-e5a3-46a0-8e8e-6c9624121b19",
   "metadata": {},
   "outputs": [],
   "source": [
    "json.dump(Literature_Info_dict,open('results/step5/Literature_Info.json','w'))"
   ]
  },
  {
   "cell_type": "code",
   "execution_count": 119,
   "id": "fdb0ecb0-d792-4422-8110-c080b3702873",
   "metadata": {},
   "outputs": [
    {
     "data": {
      "text/plain": [
       "342651"
      ]
     },
     "execution_count": 119,
     "metadata": {},
     "output_type": "execute_result"
    }
   ],
   "source": [
    "len(Literature_Info_dict)"
   ]
  },
  {
   "cell_type": "code",
   "execution_count": null,
   "id": "12d17fb8-54c9-4d74-bf4b-ea87efca766b",
   "metadata": {},
   "outputs": [],
   "source": []
  }
 ],
 "metadata": {
  "kernelspec": {
   "display_name": "hald",
   "language": "python",
   "name": "hald"
  },
  "language_info": {
   "codemirror_mode": {
    "name": "ipython",
    "version": 3
   },
   "file_extension": ".py",
   "mimetype": "text/x-python",
   "name": "python",
   "nbconvert_exporter": "python",
   "pygments_lexer": "ipython3",
   "version": "3.8.15"
  }
 },
 "nbformat": 4,
 "nbformat_minor": 5
}
