{
 "cells": [
  {
   "cell_type": "code",
   "execution_count": 3,
   "id": "b4e6f182-ac6e-4506-a208-6520940726d7",
   "metadata": {},
   "outputs": [],
   "source": [
    "import pickle, json, time, datetime, copy, pymongo, re, spacy, scispacy, requests, ast, \\\n",
    "en_ner_bc5cdr_md, en_ner_bionlp13cg_md, en_ner_jnlpba_md, string, os, random\n",
    "from pymongo import MongoClient\n",
    "import pandas as pd\n",
    "from collections import Counter\n",
    "from tqdm.notebook import tqdm\n",
    "tqdm.pandas()\n",
    "from math import ceil\n",
    "from itertools import combinations, permutations\n",
    "from spacy.tokenizer import Tokenizer\n",
    "from multiprocessing import Process, Manager, Pool\n",
    "from lxml import etree\n",
    "from nltk.tokenize import sent_tokenize"
   ]
  },
  {
   "cell_type": "code",
   "execution_count": 4,
   "id": "5d070a40-c89a-4134-98c3-0f9569237cf9",
   "metadata": {},
   "outputs": [],
   "source": [
    "now=datetime.datetime.now()"
   ]
  },
  {
   "cell_type": "code",
   "execution_count": 6,
   "id": "d3415f9e-01da-4911-9db3-296930a4418b",
   "metadata": {},
   "outputs": [],
   "source": [
    "now_time=now.strftime('%Y_%m_%d')"
   ]
  },
  {
   "cell_type": "code",
   "execution_count": 11,
   "id": "aa4262cb-d4d7-4541-8785-ee258fbf0c0d",
   "metadata": {},
   "outputs": [],
   "source": [
    "def cal_time(time):\n",
    "    time = time.split('/')\n",
    "    year = int(time[0])\n",
    "    month = int(time[1]) - 3\n",
    "    day = int(time[2])\n",
    "    if month < 1:\n",
    "        month = 12\n",
    "        year -= 1\n",
    "    time = datetime.datetime(year=year, month=month, day=1).strftime('%Y/%m/%d')\n",
    "    return time"
   ]
  },
  {
   "cell_type": "code",
   "execution_count": 16,
   "id": "4e1fd558-b87f-4ba0-b7c8-a61ade7cd3e0",
   "metadata": {},
   "outputs": [],
   "source": [
    "client = MongoClient(username=\"hald\",password=\"mclab236\")"
   ]
  },
  {
   "cell_type": "code",
   "execution_count": 17,
   "id": "9918bd7f-f56e-4c94-9809-a52348122da8",
   "metadata": {},
   "outputs": [],
   "source": [
    "db = client.hald"
   ]
  },
  {
   "cell_type": "code",
   "execution_count": 18,
   "id": "3f18f544-a2d0-4b6c-827d-c095335b973c",
   "metadata": {},
   "outputs": [],
   "source": [
    "raw_pick=pickle.load(open('results/step1/raw_pick.pkl','rb'))"
   ]
  },
  {
   "cell_type": "code",
   "execution_count": 19,
   "id": "0934a9a0-6496-4fcd-abb3-8262389f1498",
   "metadata": {},
   "outputs": [],
   "source": [
    "raw_pick_pubtator=pickle.load(open('results/step1/raw_pick_pubtator.pkl','rb'))"
   ]
  },
  {
   "cell_type": "code",
   "execution_count": 20,
   "id": "4401b908-540e-4ddc-b344-39de7ec3989f",
   "metadata": {},
   "outputs": [],
   "source": [
    "pubtator_raw=pickle.load(open('results/step1/pubtator_raw.pkl','rb'))"
   ]
  },
  {
   "cell_type": "code",
   "execution_count": 21,
   "id": "365cfbf2-6dc1-4fd3-9a54-4a815ab0ed27",
   "metadata": {},
   "outputs": [],
   "source": [
    "pubtator_raw_dict2AB={}\n",
    "for i in pubtator_raw:\n",
    "    pubtator_raw_dict2AB[i.get('id')]=i.get('AB')"
   ]
  },
  {
   "cell_type": "code",
   "execution_count": null,
   "id": "85fe46f7-1dfc-444f-826d-26022487778f",
   "metadata": {},
   "outputs": [],
   "source": []
  },
  {
   "cell_type": "code",
   "execution_count": null,
   "id": "94ee4c2f-f754-4215-8add-562d737494fe",
   "metadata": {},
   "outputs": [],
   "source": []
  },
  {
   "cell_type": "markdown",
   "id": "f05a86ad-1258-454e-bf0c-aeac6dbe2e9d",
   "metadata": {
    "tags": []
   },
   "source": [
    "# Gene_raw"
   ]
  },
  {
   "cell_type": "code",
   "execution_count": 22,
   "id": "1e2cf092-9b0a-4b95-b056-c85ab2836756",
   "metadata": {},
   "outputs": [],
   "source": [
    "collections_Gene_raw=db.Gene_raw"
   ]
  },
  {
   "cell_type": "code",
   "execution_count": 23,
   "id": "11c70d47-5758-4794-998a-f1d3ff0837f0",
   "metadata": {},
   "outputs": [],
   "source": [
    "rawpickwithAB={}\n",
    "for i in raw_pick_pubtator:\n",
    "    rawpickwithAB[i.get('PMID')]=i"
   ]
  },
  {
   "cell_type": "code",
   "execution_count": 24,
   "id": "001fea3d-251b-4577-9c64-9c508d5f2376",
   "metadata": {},
   "outputs": [],
   "source": [
    "pubtator_gene=[]\n",
    "for i in pubtator_raw:\n",
    "    if i.get('type')=='Gene':\n",
    "        pubtator_gene.append(i)"
   ]
  },
  {
   "cell_type": "code",
   "execution_count": 25,
   "id": "0f72b01a-8fdc-4869-bf95-2a1b31dc32ab",
   "metadata": {},
   "outputs": [
    {
     "data": {
      "text/plain": [
       "2152"
      ]
     },
     "execution_count": 25,
     "metadata": {},
     "output_type": "execute_result"
    }
   ],
   "source": [
    "len(pubtator_gene)"
   ]
  },
  {
   "cell_type": "code",
   "execution_count": 27,
   "id": "187b5cd7-db8b-432f-ad78-32a6a768c49b",
   "metadata": {},
   "outputs": [],
   "source": [
    "Gene2ncbi=pd.read_csv('../ncbi/Gene_ncbi.txt',sep='\\t',encoding='utf-8',converters = {'NCBI Gene ID(supplied by NCBI)':str})"
   ]
  },
  {
   "cell_type": "code",
   "execution_count": 28,
   "id": "d837f56f-66ea-40ed-840e-e9a0d50409da",
   "metadata": {},
   "outputs": [],
   "source": [
    "ncbi2Gene_dict=dict(zip(Gene2ncbi['NCBI Gene ID(supplied by NCBI)'],Gene2ncbi['Approved symbol'] ))"
   ]
  },
  {
   "cell_type": "code",
   "execution_count": 29,
   "id": "bc98c3c2-5c9a-4cc8-a171-a3a0e756c40c",
   "metadata": {},
   "outputs": [],
   "source": [
    "error=[]\n",
    "pubtator_genes=[]\n",
    "for i in pubtator_gene:\n",
    "    if ncbi2Gene_dict.get(i.get('identifier')):\n",
    "        i['entity']=ncbi2Gene_dict.get(i.get('identifier'))\n",
    "        pubtator_genes.append(i)\n",
    "    else:\n",
    "        error.append(i)"
   ]
  },
  {
   "cell_type": "code",
   "execution_count": 30,
   "id": "15fb5e47-72b8-4d1e-bd4f-d41511866a53",
   "metadata": {},
   "outputs": [
    {
     "data": {
      "text/plain": [
       "1796"
      ]
     },
     "execution_count": 30,
     "metadata": {},
     "output_type": "execute_result"
    }
   ],
   "source": [
    "len(pubtator_genes)"
   ]
  },
  {
   "cell_type": "code",
   "execution_count": 31,
   "id": "1be0394b-cd28-451b-b00b-f312a2fe978b",
   "metadata": {},
   "outputs": [],
   "source": [
    "Genelist=pickle.load(open('../dict/Genedict_list.pkl','rb'))"
   ]
  },
  {
   "cell_type": "code",
   "execution_count": 32,
   "id": "dd7d640c-e23f-4315-8323-67a0466cf2b0",
   "metadata": {},
   "outputs": [],
   "source": [
    "Gene_list={}\n",
    "for i in Genelist:\n",
    "    Gene_list[i.lower()]=i.lower()"
   ]
  },
  {
   "cell_type": "code",
   "execution_count": 33,
   "id": "9814c76b-5e71-4ebd-99c2-b7fbbc55db04",
   "metadata": {},
   "outputs": [],
   "source": [
    "filtered_pubtator_genes=[]\n",
    "drop_genes=[]\n",
    "for i in pubtator_genes:\n",
    "    if Gene_list.get(i.get('text').lower()):\n",
    "        filtered_pubtator_genes.append(i)\n",
    "    else:\n",
    "        drop_genes.append(i)"
   ]
  },
  {
   "cell_type": "code",
   "execution_count": 34,
   "id": "36d03662-6793-48c1-b1f0-63409908d3cf",
   "metadata": {},
   "outputs": [
    {
     "data": {
      "text/plain": [
       "348"
      ]
     },
     "execution_count": 34,
     "metadata": {},
     "output_type": "execute_result"
    }
   ],
   "source": [
    "len(drop_genes)"
   ]
  },
  {
   "cell_type": "code",
   "execution_count": 35,
   "id": "1966b636-19c2-4ce5-b5bc-5dc83f837b26",
   "metadata": {},
   "outputs": [
    {
     "data": {
      "text/plain": [
       "1448"
      ]
     },
     "execution_count": 35,
     "metadata": {},
     "output_type": "execute_result"
    }
   ],
   "source": [
    "len(filtered_pubtator_genes)"
   ]
  },
  {
   "cell_type": "code",
   "execution_count": 36,
   "id": "838b2191-d351-48b3-bbb3-13d095140205",
   "metadata": {},
   "outputs": [
    {
     "data": {
      "text/plain": [
       "{'id': '37059468',\n",
       " 'AB': 'Among the glutamic acid decarboxylase (GAD)-antibody-spectrum disorders, the most common phenotypic subset is the stiff-person syndrome (SPS), caused by impaired GABAergic inhibitory neurotransmission and autoimmunity characterized by very high titers of GAD antibodies and increased GAD-IgG intrathecal synthesis. If not properly treated or untreated because of delayed diagnosis, SPS progresses leading to disability; it is therefore fundamental to apply the best therapeutic schemes from the outset. This article is focused on the rationale of specific therapeutic strategies based on the SPS pathophysiology targeting both the impaired reciprocal GABAergic inhibition to symptomatically improve the main clinical manifestations of stiffness in the truncal and proximal limb muscles, gait dysfunction, and episodic painful muscle spasms and the autoimmunity to enhance improvement and slow down disease progression. A practical, step-by-step therapeutic approach is provided, highlighting the importance of combination therapies with the preferred gamma-aminobutyric acid-enhancing antispasmodic drugs, such as baclofen, tizanidine, benzodiazepines, and gabapentin, that provide the first-line symptomatic therapy, while detailing the application of current immunotherapies with intravenous immunoglobulin (IVIg) plasmapheresis, and rituximab. The pitfalls and concerns of long-term therapies in different age groups, including children, women planning pregnancy, and especially the elderly considering their comorbidities are emphasized, also highlighting the challenges in distinguishing the conditioning effects or expectations of chronically applied therapies from objective meaningful clinical benefits. Finally, the need for future targeted immunotherapeutic options based on disease immunopathogenesis and the biologic basis of autoimmune hyperexcitability are discussed, pointing out the unique challenges in the design of future controlled clinical trials especially in quantifying the extend and severity of stiffness, episodic or startle-triggered muscle spasms, task-specific phobias, and excitability.',\n",
       " 'type': 'Gene',\n",
       " 'identifier': '2571',\n",
       " 'text': 'GAD',\n",
       " 'sentence': 'Among the glutamic acid decarboxylase (GAD)-antibody-spectrum disorders, the most common phenotypic subset is the stiff-person syndrome (SPS), caused by impaired GABAergic inhibitory neurotransmission and autoimmunity characterized by very high titers of GAD antibodies and increased GAD-IgG intrathecal synthesis.',\n",
       " 'sentenceSize': 6,\n",
       " 'sentenceIndex': 0,\n",
       " 'addtime': '2023_05_09',\n",
       " '_id': ObjectId('6459f29748e9c8c06012720a'),\n",
       " 'entity': 'GAD1'}"
      ]
     },
     "execution_count": 36,
     "metadata": {},
     "output_type": "execute_result"
    }
   ],
   "source": [
    "filtered_pubtator_genes[10]"
   ]
  },
  {
   "cell_type": "code",
   "execution_count": 37,
   "id": "269fb0b4-bb96-43ed-9d77-94593afcf34b",
   "metadata": {},
   "outputs": [],
   "source": [
    "for i in filtered_pubtator_genes:\n",
    "    i['ner']='HALD_Gene'\n",
    "    i['PMID']=i.get('id')\n",
    "    i['word']=i.get('text')"
   ]
  },
  {
   "cell_type": "code",
   "execution_count": 39,
   "id": "9310c7af-bd8b-4e19-8a64-a6010eeb1477",
   "metadata": {},
   "outputs": [],
   "source": [
    "ner_bc5c = en_ner_bc5cdr_md.load()\n",
    "ner_bionl = en_ner_bionlp13cg_md.load()\n",
    "ner_jnlp = en_ner_jnlpba_md.load()"
   ]
  },
  {
   "cell_type": "code",
   "execution_count": 40,
   "id": "e20d0969-8e4a-401e-8abe-0b891fdc92f3",
   "metadata": {},
   "outputs": [],
   "source": [
    "def get_entities(ti, model, keep=[]):\n",
    "    doc = model(ti)\n",
    "    if len(keep) > 0:\n",
    "        return [(x.text.replace('\\n', ''), x.label_) for x in doc.ents if str(x.label_) in keep]\n",
    "    return [(x.text.replace('\\n', ''), x.label_) for x in doc.ents ]"
   ]
  },
  {
   "cell_type": "code",
   "execution_count": 41,
   "id": "e4657cdb-2550-40e9-9989-d72f0e50d739",
   "metadata": {},
   "outputs": [],
   "source": [
    "raw_pick_pubtator_pmid=[]\n",
    "for i in raw_pick_pubtator:\n",
    "    if i.get('AB'):\n",
    "        raw_pick_pubtator_pmid.append(i.get('PMID'))\n",
    "    else:\n",
    "        pass"
   ]
  },
  {
   "cell_type": "code",
   "execution_count": 42,
   "id": "29add005-fa8e-48c8-803d-60d65413653b",
   "metadata": {},
   "outputs": [
    {
     "data": {
      "text/plain": [
       "{'id': '37058572',\n",
       " 'AB': 'Sirtuin 6 (SIRT6) is a multifaceted protein deacetylase/deacylase and a major target for small-molecule modulators of longevity and cancer. In the context of chromatin, SIRT6 removes acetyl groups from histone H3 in nucleosomes, but the molecular basis for its nucleosomal substrate preference is unknown. Our cryo-electron microscopy structure of human SIRT6 in complex with the nucleosome shows that the catalytic domain of SIRT6 pries DNA from the nucleosomal entry-exit site and exposes the histone H3 N-terminal helix, while the SIRT6 zinc-binding domain binds to the histone acidic patch using an arginine anchor. In addition, SIRT6 forms an inhibitory interaction with the C-terminal tail of histone H2A. The structure provides insights into how SIRT6 can deacetylate both H3 K9 and H3 K56.',\n",
       " 'type': 'Gene',\n",
       " 'identifier': '51548',\n",
       " 'text': 'Sirtuin 6',\n",
       " 'sentence': 'Sirtuin 6 (SIRT6) is a multifaceted protein deacetylase/deacylase and a major target for small-molecule modulators of longevity and cancer.',\n",
       " 'sentenceSize': 5,\n",
       " 'sentenceIndex': 0,\n",
       " 'addtime': '2023_05_09',\n",
       " '_id': ObjectId('6459f29748e9c8c0601271aa'),\n",
       " 'entity': 'SIRT6',\n",
       " 'ner': 'HALD_Gene',\n",
       " 'PMID': '37058572',\n",
       " 'word': 'Sirtuin 6'}"
      ]
     },
     "execution_count": 42,
     "metadata": {},
     "output_type": "execute_result"
    }
   ],
   "source": [
    "filtered_pubtator_genes[0]"
   ]
  },
  {
   "cell_type": "markdown",
   "id": "acd5935e-5e65-4f09-9cb3-de4823ff0051",
   "metadata": {},
   "source": [
    "prepare_for_scispacy={}\n",
    "for i in filtered_pubtator_genes:\n",
    "    if not filtered_pubtator_genes.get(i.get('PMID')):\n",
    "        filtered_pubtator_genes[i.get('PMID')]=i"
   ]
  },
  {
   "cell_type": "code",
   "execution_count": 43,
   "id": "a16eec76-e0a6-4cf3-abb8-de6703a13538",
   "metadata": {},
   "outputs": [
    {
     "name": "stdout",
     "output_type": "stream",
     "text": [
      "Parent process 74860.\n",
      "Waiting for all subprocesses done...\n",
      "All subprocesses done.\n",
      "The running time is 16s\n"
     ]
    }
   ],
   "source": [
    "def work(i,finallist_tags,lock):\n",
    "    finallist_tags.append({'PMID':i.get('PMID'), 'AB':i.get('AB'), 'sentence':i.get('sentence'), 'sentenceIndex': i.get('sentenceIndex'),\\\n",
    "                          'sentenceSize':i.get('sentenceSize'),'word': i.get('word'),'identifier':i.get('identifier'),'type':i.get('type'),\\\n",
    "                           'entity':i.get('entity'),'jnlpba_tags':get_entities(i.get('sentence'), model=ner_jnlp, keep=['DNA','RNA','PROTEIN']),\\\n",
    "                          'bc5cdr_tags':get_entities(i.get('sentence'), model=ner_bc5c),\\\n",
    "                          'bionlp13cg_tags':get_entities(i.get('sentence'), model=ner_bionl, \\\n",
    "                          keep=['GENE_OR_GENE_PRODUCT'])})\n",
    "if __name__=='__main__':\n",
    "    start=datetime.datetime.now()\n",
    "    print('Parent process %s.' % os.getpid())\n",
    "    p=Pool(60)\n",
    "    manager=Manager()\n",
    "    finallist_tags=manager.list()\n",
    "    lock=manager.Lock()\n",
    "    for i in filtered_pubtator_genes:\n",
    "        p.apply_async(work, args=(i,finallist_tags,lock))\n",
    "    print('Waiting for all subprocesses done...')\n",
    "    p.close()\n",
    "    p.join()\n",
    "    print('All subprocesses done.')\n",
    "    end=datetime.datetime.now()\n",
    "    print(\"The running time is \"+str((end-start).seconds)+\"s\")  "
   ]
  },
  {
   "cell_type": "code",
   "execution_count": 44,
   "id": "3fe54b5b-6f00-47a6-b6d1-932231649aba",
   "metadata": {},
   "outputs": [],
   "source": [
    "Gene_tags=list(finallist_tags)"
   ]
  },
  {
   "cell_type": "code",
   "execution_count": 45,
   "id": "ef5524d2-fd31-4bed-ae6d-6d78683172e2",
   "metadata": {},
   "outputs": [
    {
     "data": {
      "text/plain": [
       "1448"
      ]
     },
     "execution_count": 45,
     "metadata": {},
     "output_type": "execute_result"
    }
   ],
   "source": [
    "len(Gene_tags)"
   ]
  },
  {
   "cell_type": "code",
   "execution_count": 47,
   "id": "a9079612-839d-40d0-8be6-1072513727cb",
   "metadata": {},
   "outputs": [],
   "source": [
    "scispicy_Gene=copy.deepcopy(Gene_tags)"
   ]
  },
  {
   "cell_type": "code",
   "execution_count": 48,
   "id": "da0af19d-955c-4aa1-b514-46682e73531d",
   "metadata": {},
   "outputs": [],
   "source": [
    "for i in scispicy_Gene:\n",
    "    i['ScispaCy']=[]\n",
    "    if i.get('jnlpba_tags'):\n",
    "        for j in i.get('jnlpba_tags'):\n",
    "            if j[1]=='DNA' or j[1]=='PROTEIN':\n",
    "                i['ScispaCy']+=[j[0]]\n",
    "    if i.get('bionlp13cg_tags'):\n",
    "        for k in i.get('bionlp13cg_tags'):\n",
    "            i['ScispaCy']+=[k[0]]\n",
    "    i['ScispaCy']=list(set(i.get('ScispaCy')))"
   ]
  },
  {
   "cell_type": "code",
   "execution_count": 49,
   "id": "76f5e86a-d90e-4ccf-bd0f-fab0bc607f72",
   "metadata": {},
   "outputs": [],
   "source": [
    "scicpacy_Genes=[]\n",
    "not_scicpacy_Genes=[]\n",
    "for i in scispicy_Gene:\n",
    "    if i.get('ScispaCy'):\n",
    "        scicpacy_Genes.append(i)\n",
    "    else:\n",
    "        not_scicpacy_Genes.append(i)"
   ]
  },
  {
   "cell_type": "code",
   "execution_count": 50,
   "id": "58aae675-758c-46f3-8a82-273d81a30d52",
   "metadata": {},
   "outputs": [
    {
     "data": {
      "text/plain": [
       "1338"
      ]
     },
     "execution_count": 50,
     "metadata": {},
     "output_type": "execute_result"
    }
   ],
   "source": [
    "len(scicpacy_Genes)"
   ]
  },
  {
   "cell_type": "code",
   "execution_count": 51,
   "id": "a2e7da89-f494-459c-a3f2-a381cbd4b8f3",
   "metadata": {},
   "outputs": [
    {
     "data": {
      "text/plain": [
       "110"
      ]
     },
     "execution_count": 51,
     "metadata": {},
     "output_type": "execute_result"
    }
   ],
   "source": [
    "len(not_scicpacy_Genes)"
   ]
  },
  {
   "cell_type": "code",
   "execution_count": 52,
   "id": "bf7d3d0c-07b9-48ba-a1a5-e5a41ccb355b",
   "metadata": {},
   "outputs": [],
   "source": [
    "not_scicpacy=[]\n",
    "for i in not_scicpacy_Genes:\n",
    "    not_scicpacy.append({'PMID':i.get('PMID'),'word':i.get('word'),'sentence':i.get('sentence')})"
   ]
  },
  {
   "cell_type": "code",
   "execution_count": 53,
   "id": "d511316d-b161-46b4-9da7-9e172e1f3801",
   "metadata": {},
   "outputs": [
    {
     "data": {
      "text/plain": [
       "[{'PMID': '34411297',\n",
       "  'word': 'hub',\n",
       "  'sentence': 'We analyze key network properties including connectivity, module/hub, and temporal variation.'},\n",
       " {'PMID': '34266325',\n",
       "  'word': 'MoCA',\n",
       "  'sentence': 'Meanwhile, MoCA was also used to reevaluate the elderly inpatients with normal MMSE scores at different education levels.'},\n",
       " {'PMID': '34266325',\n",
       "  'word': 'MoCA',\n",
       "  'sentence': 'However, in the cognitive assessment of elderly patients, the ability to identify impairment with the MoCA is obviously superior to that with the MMSE.'},\n",
       " {'PMID': '34411297',\n",
       "  'word': 'hub',\n",
       "  'sentence': 'For example, high connectivity and hub conditions, such as disorders of lipid metabolism and essential hypertension, are identified.'},\n",
       " {'PMID': '34266325',\n",
       "  'word': 'MoCA',\n",
       "  'sentence': 'CONCLUSIONS: In general, the results of both the MMSE and MoCA were influenced by education level, and this effect was more obvious for the MoCA.'},\n",
       " {'PMID': '34266325',\n",
       "  'word': 'MoCA',\n",
       "  'sentence': 'CONCLUSIONS: In general, the results of both the MMSE and MoCA were influenced by education level, and this effect was more obvious for the MoCA.'},\n",
       " {'PMID': '34266325',\n",
       "  'word': 'MoCA',\n",
       "  'sentence': 'Finally, we analyzed the diagnostic consistency of MMSE and MoCA at different education levels, and the results showed that education level was closely related to the consistency of the diagnoses based on the MMSE and MoCA (chi2=10.23, p = 0.0368).'},\n",
       " {'PMID': '34266325',\n",
       "  'word': 'MoCA',\n",
       "  'sentence': 'RESULTS: The total MMSE scores were highly correlated with the total MoCA scores (r = 0.7629, p < 0.0001), and were correlated with the length of education (r = 0.2723, p < 0.0001).'},\n",
       " {'PMID': '34266325',\n",
       "  'word': 'MoCA',\n",
       "  'sentence': 'Finally, we analyzed the diagnostic consistency of MMSE and MoCA at different education levels, and the results showed that education level was closely related to the consistency of the diagnoses based on the MMSE and MoCA (chi2=10.23, p = 0.0368).'}]"
      ]
     },
     "execution_count": 53,
     "metadata": {},
     "output_type": "execute_result"
    }
   ],
   "source": [
    "not_scicpacy[-10:-1]"
   ]
  },
  {
   "cell_type": "code",
   "execution_count": 54,
   "id": "023802bd-4594-4a62-a1e0-f03e723b8c76",
   "metadata": {},
   "outputs": [],
   "source": [
    "scicpacy_Genes_final=[]\n",
    "drop_scispacy=[]\n",
    "for i in scicpacy_Genes:\n",
    "    pattern=i.get('word').translate(str.maketrans({\"-\":  r\"\\-\",\"\\\\\": r\"\\\\\", \"^\":  r\"\\^\",\"$\":  r\"\\$\",\"*\":  r\"\\*\",\".\":  r\"\\.\",\"(\":  r\"\\(\",\")\":  r\"\\)\",\"+\":  r\"\\+\",\"[\":  r\"\\[\",\"]\":  r\"\\]\",\n",
    "                              \"{\":  r\"\\{\",\"}\":  r\"\\}\",\"|\":  r\"\\|\",\"?\":  r\"\\?\"}))\n",
    "    for j in i.get('ScispaCy'):\n",
    "        if i.get('word')==j or re.search(pattern, j):\n",
    "            scicpacy_Genes_final.append(i)\n",
    "            break\n",
    "    else:\n",
    "        drop_scispacy.append(i)"
   ]
  },
  {
   "cell_type": "code",
   "execution_count": 55,
   "id": "cc93e914-d043-41bb-9e49-4ca4c36388b5",
   "metadata": {},
   "outputs": [
    {
     "data": {
      "text/plain": [
       "1228"
      ]
     },
     "execution_count": 55,
     "metadata": {},
     "output_type": "execute_result"
    }
   ],
   "source": [
    "len(scicpacy_Genes_final)"
   ]
  },
  {
   "cell_type": "code",
   "execution_count": 56,
   "id": "6cf16f1d-ae18-45ba-b2f9-5c53d336adcd",
   "metadata": {},
   "outputs": [
    {
     "name": "stdout",
     "output_type": "stream",
     "text": [
      "{'PMID': '37047803', 'AB': 'Herpesviridae reactivation such as cytomegalovirus (CMV) has been described in severe COVID-19 (COronaVIrusDisease-2019). This study aimed to understand if CMV reactivation in older COVID-19 patients is associated with increased inflammation and in-hospital mortality. In an observational single-center cohort study, 156 geriatric COVID-19 patients were screened for CMV reactivation by RT-PCR. Participants underwent a comprehensive clinical investigation that included medical history, functional evaluation, laboratory tests and cytokine assays (TNF-alpha, IFN-alpha, IL-6, IL-10) at hospital admission. In 19 (12.2%) of 156 COVID-19 patients, CMV reactivation was detected. Multivariate Cox regression models showed that in-hospital mortality significantly increased among CMV positive patients younger than 87 years (HR: 9.94, 95% CI: 1.66-59.50). Other factors associated with in-hospital mortality were C-reactive protein (HR: 1.17, 95% CI: 1.05-1.30), neutrophil count (HR: 1.20, 95% CI: 1.01-1.42) and clinical frailty scale (HR:1.54, 95% CI: 1.04-2.28). In patients older than 87 years, neutrophil count (HR: 1.13, 95% CI: 1.05-1.21) and age (HR: 1.15, 95% CI: 1.01-1.31) were independently associated with in-hospital mortality. CMV reactivation was also correlated with increased IFN-alpha and TNF-alpha serum levels, but not with IL-6 and IL-10 serum changes. In conclusion, CMV reactivation was an independent risk factor for in-hospital mortality in COVID-19 patients younger than 87 years old, but not in nonagenarians.', 'sentence': 'CMV reactivation was also correlated with increased IFN-alpha and TNF-alpha serum levels, but not with IL-6 and IL-10 serum changes.', 'sentenceIndex': 8, 'sentenceSize': 10, 'word': 'IL-10', 'identifier': '3586', 'type': 'Gene', 'entity': 'IL10', 'jnlpba_tags': [('IFN-alpha', 'PROTEIN'), ('TNF-alpha', 'PROTEIN'), ('IL-6', 'PROTEIN'), ('IL-10', 'PROTEIN')], 'bc5cdr_tags': [('TNF-alpha', 'CHEMICAL')], 'bionlp13cg_tags': [('TNF-alpha serum', 'GENE_OR_GENE_PRODUCT'), ('IL-6', 'GENE_OR_GENE_PRODUCT')], 'ScispaCy': ['TNF-alpha', 'IFN-alpha', 'TNF-alpha serum', 'IL-10', 'IL-6']}\n"
     ]
    }
   ],
   "source": [
    "for i in scicpacy_Genes_final:\n",
    "    if re.search('-',i.get('word')):\n",
    "        print(i)\n",
    "        break"
   ]
  },
  {
   "cell_type": "code",
   "execution_count": 57,
   "id": "9aca9228-44a9-45ce-b2dc-76531c625910",
   "metadata": {},
   "outputs": [
    {
     "data": {
      "text/plain": [
       "{'PMID': '37058572',\n",
       " 'AB': 'Sirtuin 6 (SIRT6) is a multifaceted protein deacetylase/deacylase and a major target for small-molecule modulators of longevity and cancer. In the context of chromatin, SIRT6 removes acetyl groups from histone H3 in nucleosomes, but the molecular basis for its nucleosomal substrate preference is unknown. Our cryo-electron microscopy structure of human SIRT6 in complex with the nucleosome shows that the catalytic domain of SIRT6 pries DNA from the nucleosomal entry-exit site and exposes the histone H3 N-terminal helix, while the SIRT6 zinc-binding domain binds to the histone acidic patch using an arginine anchor. In addition, SIRT6 forms an inhibitory interaction with the C-terminal tail of histone H2A. The structure provides insights into how SIRT6 can deacetylate both H3 K9 and H3 K56.',\n",
       " 'sentence': 'In addition, SIRT6 forms an inhibitory interaction with the C-terminal tail of histone H2A.',\n",
       " 'sentenceIndex': 3,\n",
       " 'sentenceSize': 5,\n",
       " 'word': 'SIRT6',\n",
       " 'identifier': '51548',\n",
       " 'type': 'Gene',\n",
       " 'entity': 'SIRT6',\n",
       " 'jnlpba_tags': [('SIRT6', 'PROTEIN'),\n",
       "  ('C-terminal tail', 'PROTEIN'),\n",
       "  ('histone H2A', 'PROTEIN')],\n",
       " 'bc5cdr_tags': [],\n",
       " 'bionlp13cg_tags': [('SIRT6', 'GENE_OR_GENE_PRODUCT'),\n",
       "  ('histone H2A', 'GENE_OR_GENE_PRODUCT')],\n",
       " 'ScispaCy': ['C-terminal tail', 'histone H2A', 'SIRT6']}"
      ]
     },
     "execution_count": 57,
     "metadata": {},
     "output_type": "execute_result"
    }
   ],
   "source": [
    "scicpacy_Genes_final[0]"
   ]
  },
  {
   "cell_type": "code",
   "execution_count": 58,
   "id": "37ad4faa-d25f-40a0-aac9-e9548091fa29",
   "metadata": {},
   "outputs": [
    {
     "data": {
      "text/plain": [
       "110"
      ]
     },
     "execution_count": 58,
     "metadata": {},
     "output_type": "execute_result"
    }
   ],
   "source": [
    "len(drop_scispacy)"
   ]
  },
  {
   "cell_type": "code",
   "execution_count": 59,
   "id": "639e47a1-e53c-4fd2-b8b9-6ef2159973a4",
   "metadata": {},
   "outputs": [],
   "source": [
    "scicpacy_pmids=[]\n",
    "for i in scicpacy_Genes_final:\n",
    "    if i.get('PMID') not in scicpacy_pmids:\n",
    "        scicpacy_pmids.append(i.get('PMID'))"
   ]
  },
  {
   "cell_type": "code",
   "execution_count": 60,
   "id": "d8fd3261-58f8-43ef-b70a-eb7f248d817a",
   "metadata": {},
   "outputs": [
    {
     "data": {
      "text/plain": [
       "235"
      ]
     },
     "execution_count": 60,
     "metadata": {},
     "output_type": "execute_result"
    }
   ],
   "source": [
    "len(scicpacy_pmids)"
   ]
  },
  {
   "cell_type": "code",
   "execution_count": 61,
   "id": "1526a64a-112a-4bec-9168-8bea0019f7cc",
   "metadata": {},
   "outputs": [],
   "source": [
    "def query_raw_id(ids, url=\"https://bern.korea.ac.kr/pubmed/\"):\n",
    "    return requests.get(url + ','.join(ids), verify=False).json()"
   ]
  },
  {
   "cell_type": "code",
   "execution_count": 62,
   "id": "7809be3f-2072-44da-ac75-aff84fd4d512",
   "metadata": {},
   "outputs": [],
   "source": [
    "os.makedirs('../bern/'+now_time)"
   ]
  },
  {
   "cell_type": "code",
   "execution_count": 63,
   "id": "07307055-b4ca-44d7-b5a2-b93b49c2a955",
   "metadata": {},
   "outputs": [],
   "source": [
    "f=open('../bern/'+now_time+'/download.txt','a')\n",
    "bern_download_id=1\n",
    "for j in range(0,len(scicpacy_pmids),5):\n",
    "    f.write('wget https://bern.korea.ac.kr/pubmed/'+','.join(scicpacy_pmids[j:j+5])+' --no-check-certificate -O '+'../bern/'+now_time+'/bern'+str(bern_download_id)+'.json \\n')\n",
    "    bern_download_id+=1\n",
    "f.close()"
   ]
  },
  {
   "cell_type": "code",
   "execution_count": 64,
   "id": "ceaf58c5-dfa9-48ef-a028-31d960b16e40",
   "metadata": {},
   "outputs": [],
   "source": [
    "f=open('../bern/'+now_time+'/run.sh','w')\n",
    "f.write(\"while read rows; do $rows  ; done < ../bern/\"+now_time+'/download.txt')\n",
    "f.close()"
   ]
  },
  {
   "cell_type": "code",
   "execution_count": 65,
   "id": "492f874f-c448-4796-82a5-cd81b86719c8",
   "metadata": {},
   "outputs": [
    {
     "name": "stdout",
     "output_type": "stream",
     "text": [
      "nohup bash ../bern/2023_05_09/run.sh > ../bern/2023_05_09/bern.log &\n"
     ]
    }
   ],
   "source": [
    "print(\"nohup bash \"+'../bern/'+now_time+'/run.sh > '+'../bern/'+now.strftime('%Y_%m_%d')+'/bern.log &')"
   ]
  },
  {
   "cell_type": "markdown",
   "id": "aff6cbda-692e-47f8-9538-05e6471dca3d",
   "metadata": {
    "tags": []
   },
   "source": [
    "## RUN BERN ON LINUX!!!!!!\n",
    "### Code is showed above, run it in the current directory.\n",
    "## Check the file size!!!!!!"
   ]
  },
  {
   "cell_type": "code",
   "execution_count": 67,
   "id": "713556ca-9f98-46aa-aae1-12ef4718d477",
   "metadata": {},
   "outputs": [],
   "source": [
    "all_json=[]\n",
    "for i in os.listdir('../bern/'+now_time+'/'):\n",
    "    if i.split('.')[-1] == 'json':\n",
    "        all_json+=json.load(open('../bern/'+now_time+'/'+i))"
   ]
  },
  {
   "cell_type": "code",
   "execution_count": 68,
   "id": "f42de7dd-d968-4fa5-8148-05b3052dd259",
   "metadata": {},
   "outputs": [],
   "source": [
    "allbern=copy.deepcopy(all_json)"
   ]
  },
  {
   "cell_type": "code",
   "execution_count": 69,
   "id": "0f89b113-43f4-4905-b193-3dcd122a151e",
   "metadata": {},
   "outputs": [
    {
     "data": {
      "text/plain": [
       "235"
      ]
     },
     "execution_count": 69,
     "metadata": {},
     "output_type": "execute_result"
    }
   ],
   "source": [
    "len(allbern)"
   ]
  },
  {
   "cell_type": "code",
   "execution_count": 70,
   "id": "f7fe5b28-bc56-4cd5-ae0d-57bcf37da4f0",
   "metadata": {},
   "outputs": [],
   "source": [
    "bern_json={}\n",
    "for i in allbern:\n",
    "    bern_value=[]\n",
    "    if i.get('denotations'):\n",
    "        for j in i.get('denotations'):\n",
    "            if j.get('obj')=='gene' or j.get('obj')=='protein':\n",
    "                bern_value.append(i.get('text')[j.get('span').get('begin'):j.get('span').get('end')])\n",
    "    bern_json[i.get('sourceid')]=bern_value    "
   ]
  },
  {
   "cell_type": "code",
   "execution_count": 71,
   "id": "df7b4b96-2244-4a68-aebd-c7dbef0c9261",
   "metadata": {},
   "outputs": [
    {
     "data": {
      "text/plain": [
       "235"
      ]
     },
     "execution_count": 71,
     "metadata": {},
     "output_type": "execute_result"
    }
   ],
   "source": [
    "len(bern_json)"
   ]
  },
  {
   "cell_type": "code",
   "execution_count": 72,
   "id": "b9f0c7d0-e574-402b-936a-4b77c66866bc",
   "metadata": {},
   "outputs": [
    {
     "name": "stdout",
     "output_type": "stream",
     "text": [
      "226\n"
     ]
    }
   ],
   "source": [
    "count=0\n",
    "filtered_bern_json={}\n",
    "for i,j in bern_json.items():\n",
    "    if j:\n",
    "        count+=1\n",
    "        filtered_bern_json[i]=j\n",
    "print(count)"
   ]
  },
  {
   "cell_type": "code",
   "execution_count": 73,
   "id": "3480f714-85cd-4a8d-91ac-c11ead5cdb78",
   "metadata": {},
   "outputs": [
    {
     "data": {
      "text/plain": [
       "('36794912', ['16S', 'SNF-1', 'SNF-1', 'SNF-3', 'SNF-2', 'CD4+'])"
      ]
     },
     "execution_count": 73,
     "metadata": {},
     "output_type": "execute_result"
    }
   ],
   "source": [
    "list(filtered_bern_json.items())[0]"
   ]
  },
  {
   "cell_type": "code",
   "execution_count": 74,
   "id": "adc72d02-862c-44d4-82ce-02e3e183e075",
   "metadata": {},
   "outputs": [],
   "source": [
    "SciSpacy_raw=copy.deepcopy(scicpacy_Genes_final)"
   ]
  },
  {
   "cell_type": "code",
   "execution_count": 75,
   "id": "842ae03b-312a-4dcb-8097-8319b02f4b09",
   "metadata": {},
   "outputs": [
    {
     "data": {
      "text/plain": [
       "1228"
      ]
     },
     "execution_count": 75,
     "metadata": {},
     "output_type": "execute_result"
    }
   ],
   "source": [
    "len(SciSpacy_raw)"
   ]
  },
  {
   "cell_type": "code",
   "execution_count": 76,
   "id": "f6415f19-b1d1-4abc-b22b-8a25039d2ce5",
   "metadata": {},
   "outputs": [],
   "source": [
    "SciSpacy_raw_dict={}\n",
    "for i in SciSpacy_raw:\n",
    "    SciSpacy_raw_dict[i.get('PMID')]=SciSpacy_raw_dict.get(i.get('PMID'),[])+[i]"
   ]
  },
  {
   "cell_type": "code",
   "execution_count": 77,
   "id": "ea62bc60-9c36-4aed-b026-d70f78fbb090",
   "metadata": {},
   "outputs": [
    {
     "data": {
      "text/plain": [
       "235"
      ]
     },
     "execution_count": 77,
     "metadata": {},
     "output_type": "execute_result"
    }
   ],
   "source": [
    "len(SciSpacy_raw_dict)"
   ]
  },
  {
   "cell_type": "code",
   "execution_count": 78,
   "id": "024d3fbd-ff22-4c46-9d04-3f05d21f0b84",
   "metadata": {},
   "outputs": [],
   "source": [
    "cs=0\n",
    "intersec={}\n",
    "dropout=[]\n",
    "for i,j in filtered_bern_json.items():\n",
    "    if SciSpacy_raw_dict.get(i):\n",
    "        midd=[]\n",
    "        for k in SciSpacy_raw_dict.get(i):\n",
    "            if k.get('word') in j:\n",
    "                k['bern']=j\n",
    "                midd.append(k)\n",
    "            else:\n",
    "                for m in j:\n",
    "                    pattern=k.get('word').translate(str.maketrans({\"-\":  r\"\\-\",\"\\\\\": r\"\\\\\", \"^\":  r\"\\^\",\"$\":  r\"\\$\",\"*\":  r\"\\*\",\".\":  r\"\\.\",\"(\":  r\"\\(\",\")\":  r\"\\)\",\"+\":  r\"\\+\",\"[\":  r\"\\[\",\"]\":  r\"\\]\",\n",
    "                      \"{\":  r\"\\{\",\"}\":  r\"\\}\",\"|\":  r\"\\|\",\"?\":  r\"\\?\"}))\n",
    "                    if re.search(pattern, m):\n",
    "                        k['bern']=j\n",
    "                        midd.append(k)\n",
    "                        break\n",
    "                else:\n",
    "                    dropout.append(k)\n",
    "        intersec[i]=midd\n",
    "        "
   ]
  },
  {
   "cell_type": "code",
   "execution_count": 79,
   "id": "659883ef-2a4d-4741-a49b-566aa6759c4d",
   "metadata": {},
   "outputs": [
    {
     "data": {
      "text/plain": [
       "226"
      ]
     },
     "execution_count": 79,
     "metadata": {},
     "output_type": "execute_result"
    }
   ],
   "source": [
    "len(intersec)"
   ]
  },
  {
   "cell_type": "code",
   "execution_count": 80,
   "id": "3db3577f-de50-463a-b3f0-fca1f9fb7515",
   "metadata": {},
   "outputs": [
    {
     "data": {
      "text/plain": [
       "20"
      ]
     },
     "execution_count": 80,
     "metadata": {},
     "output_type": "execute_result"
    }
   ],
   "source": [
    "len(dropout)"
   ]
  },
  {
   "cell_type": "code",
   "execution_count": 81,
   "id": "78cb1138-bc92-4d6d-91a7-399e62c98d84",
   "metadata": {},
   "outputs": [],
   "source": [
    "final_Gene_raw=[]\n",
    "for i in intersec.values():\n",
    "    final_Gene_raw+=i"
   ]
  },
  {
   "cell_type": "code",
   "execution_count": 82,
   "id": "fc79846a-2093-4d59-86e6-dce96f66d25d",
   "metadata": {},
   "outputs": [
    {
     "data": {
      "text/plain": [
       "1179"
      ]
     },
     "execution_count": 82,
     "metadata": {},
     "output_type": "execute_result"
    }
   ],
   "source": [
    "len(final_Gene_raw)"
   ]
  },
  {
   "cell_type": "code",
   "execution_count": 83,
   "id": "1f60f7e9-5bd1-448b-b95b-14678c9a9bc1",
   "metadata": {},
   "outputs": [],
   "source": [
    "Genes_inte=copy.deepcopy(final_Gene_raw)"
   ]
  },
  {
   "cell_type": "code",
   "execution_count": 84,
   "id": "1ef562d2-0ca4-42ac-8f24-d3434238a10c",
   "metadata": {},
   "outputs": [],
   "source": [
    "Gene2blank={}\n",
    "for i in Genes_inte:\n",
    "    Gene2blank[i.get('entity')]=''"
   ]
  },
  {
   "cell_type": "code",
   "execution_count": 85,
   "id": "3cde54b2-6998-4be7-bd79-0b6af6f3098d",
   "metadata": {},
   "outputs": [
    {
     "data": {
      "text/plain": [
       "288"
      ]
     },
     "execution_count": 85,
     "metadata": {},
     "output_type": "execute_result"
    }
   ],
   "source": [
    "len(Gene2blank)"
   ]
  },
  {
   "cell_type": "code",
   "execution_count": 86,
   "id": "01fd7f45-35e3-4ac4-8e8b-0955816a4bcd",
   "metadata": {},
   "outputs": [],
   "source": [
    "Gene2ncbi=pd.read_csv('../ncbi/Gene_ncbi.txt',sep='\\t',encoding='utf-8',converters = {'NCBI Gene ID(supplied by NCBI)':str})"
   ]
  },
  {
   "cell_type": "code",
   "execution_count": 87,
   "id": "2d53ac16-1dfc-4aab-973c-79b07a65dfc6",
   "metadata": {},
   "outputs": [],
   "source": [
    "Gene2ncbi_dict=dict(zip(Gene2ncbi['Approved symbol'], Gene2ncbi['NCBI Gene ID(supplied by NCBI)']))"
   ]
  },
  {
   "cell_type": "code",
   "execution_count": 88,
   "id": "2b2f00f5-4d57-4b93-bdb5-c8f019196238",
   "metadata": {},
   "outputs": [],
   "source": [
    "Gene_converter=pickle.load(open('../ncbi/Gene_converter.pkl','rb'))"
   ]
  },
  {
   "cell_type": "code",
   "execution_count": 89,
   "id": "14048fee-4200-4e7a-83bc-66ad0387807c",
   "metadata": {},
   "outputs": [
    {
     "data": {
      "text/plain": [
       "4953"
      ]
     },
     "execution_count": 89,
     "metadata": {},
     "output_type": "execute_result"
    }
   ],
   "source": [
    "len(Gene_converter)"
   ]
  },
  {
   "cell_type": "code",
   "execution_count": 90,
   "id": "98d50ffc-5d17-4670-ab79-80b489344c61",
   "metadata": {},
   "outputs": [],
   "source": [
    "Genes_inte_copy=copy.deepcopy(Genes_inte)"
   ]
  },
  {
   "cell_type": "code",
   "execution_count": 91,
   "id": "400c5975-7eca-4044-814a-83688be24637",
   "metadata": {},
   "outputs": [],
   "source": [
    "rawpickwithAB={}\n",
    "for raw in raw_pick_pubtator:\n",
    "    if raw.get('AB'):\n",
    "        rawpickwithAB[raw.get('PMID')]=raw"
   ]
  },
  {
   "cell_type": "code",
   "execution_count": 92,
   "id": "588b16ef-0a06-4637-b751-05b6ed90cd18",
   "metadata": {},
   "outputs": [],
   "source": [
    "Gene_deduplicated=set()\n",
    "Gene_deduplicated_count=0\n",
    "Gene_list_raw=[]\n",
    "for i in Genes_inte_copy:\n",
    "    k=i.get('PMID')\n",
    "    i['DP']=rawpickwithAB.get(k).get('DP')\n",
    "    i['AB']=rawpickwithAB.get(k).get('AB')\n",
    "    i['JT']=rawpickwithAB.get(k).get('JT')\n",
    "    i['URL']='https://pubmed.ncbi.nlm.nih.gov/'+k\n",
    "    i['TI']=rawpickwithAB.get(k).get('TI')\n",
    "    i['target']=i.get('word')\n",
    "    i['type']='Gene'\n",
    "    tuples=(i.get(\"PMID\"),i.get(\"entity\"),i.get(\"word\"),i.get(\"sentence\"))\n",
    "    if tuples not in Gene_deduplicated:\n",
    "        Gene_deduplicated.add(tuples)\n",
    "        Gene_list_raw.append(i)\n",
    "    else:\n",
    "        Gene_deduplicated_count+=1\n",
    "        continue"
   ]
  },
  {
   "cell_type": "code",
   "execution_count": 93,
   "id": "dd785161-cf58-4ff7-a1dd-2ec7fabec9dd",
   "metadata": {},
   "outputs": [
    {
     "data": {
      "text/plain": [
       "1056"
      ]
     },
     "execution_count": 93,
     "metadata": {},
     "output_type": "execute_result"
    }
   ],
   "source": [
    "len(Gene_list_raw)"
   ]
  },
  {
   "cell_type": "code",
   "execution_count": 94,
   "id": "3d54191a-0700-44c7-a97d-3d0a7b9ba20e",
   "metadata": {},
   "outputs": [],
   "source": [
    "Gene2blank={}\n",
    "for i in Gene_list_raw:\n",
    "    Gene2blank[i.get('entity')]=''"
   ]
  },
  {
   "cell_type": "code",
   "execution_count": 95,
   "id": "7b18874b-8a9b-47a3-a75d-a722121e2ca4",
   "metadata": {},
   "outputs": [
    {
     "data": {
      "text/plain": [
       "288"
      ]
     },
     "execution_count": 95,
     "metadata": {},
     "output_type": "execute_result"
    }
   ],
   "source": [
    "len(Gene2blank)"
   ]
  },
  {
   "cell_type": "code",
   "execution_count": 96,
   "id": "5215e521-e652-4591-9bfa-c072dcc7e571",
   "metadata": {},
   "outputs": [],
   "source": [
    "def get_Gene_info(i,final_Genes_inte):\n",
    "    ncbiid=Gene2ncbi_dict.get(i)\n",
    "    ncbiurl='https://www.ncbi.nlm.nih.gov/gene/' + ncbiid\n",
    "    headers = {\n",
    "        \"User-Agent\": \"Mozilla/5.0 (Windows NT 10.0; Win64; x64) AppleWebKit/537.36 \\\n",
    "        (KHTML, like Gecko) Chrome/83.0.4103.97 Safari/537.36\"\n",
    "    }\n",
    "    url = 'https://www.ncbi.nlm.nih.gov/gene/'+ncbiid\n",
    "    res=requests.get(url=url,headers=headers)\n",
    "    html = etree.HTML(res.content)\n",
    "    ncbisummary={\n",
    "    'Official_Symbol' : html.xpath('//*[@id=\"summaryDl\"]/dt[contains(.//text(),\"Official\")]/following::dd[1]/text()')[0],\n",
    "    'Official_Full_Name' : html.xpath('//*[@id=\"summaryDl\"]/dt[contains(.//text(),\"Official\")]/following::dd[1]/text()')[1],\n",
    "    'HGNC_ID' : ''.join(html.xpath('//*[@id=\"summaryDl\"]/dt[contains(.//text(),\"Primary source\")]/following::dd[1]/a/text()')),\n",
    "    'HGNC_URL' : ''.join(html.xpath('//*[@id=\"summaryDl\"]/dt[contains(.//text(),\"Primary source\")]/following::dd[1]/a/@href')),\n",
    "    'Ensembl_ID' :  ''.join(html.xpath('//*[@id=\"summaryDl\"]/dt[contains(.//text(),\"See related\")]/following::dd[1]/a[1]/text()')),\n",
    "    'Ensembl_URL' : ''.join(html.xpath('//*[@id=\"summaryDl\"]/dt[contains(.//text(),\"See related\")]/following::dd[1]/a[1]/@href')),\n",
    "    'MIM_ID' : ''.join(html.xpath('//*[@id=\"summaryDl\"]/dt[contains(.//text(),\"See related\")]/following::dd[1]/a[2]/text()')),\n",
    "    'MIM_URL' : ''.join(html.xpath('//*[@id=\"summaryDl\"]/dt[contains(.//text(),\"See related\")]/following::dd[1]/a[2]/@href')),\n",
    "    'AllianceGenome_ID' : ''.join(html.xpath('//*[@id=\"summaryDl\"]/dt[contains(.//text(),\"See related\")]/following::dd[1]/a[3]/text()')),\n",
    "    'AllianceGenome_URL' : ''.join(html.xpath('//*[@id=\"summaryDl\"]/dt[contains(.//text(),\"See related\")]/following::dd[1]/a[3]/@href')),\n",
    "    'NCBI_ID' : ncbiid ,\n",
    "    'NCBI_URL' : ncbiurl\n",
    "    }\n",
    "    try:\n",
    "        also=''.join(html.xpath('//*[@id=\"summaryDl\"]/dt[contains(.//text(),\"Also known as\")]/following::dd[1]/text()')).replace('HGNC:HGNC:','')\n",
    "    except:\n",
    "        also=''\n",
    "    finally:\n",
    "        ncbisummary.update({'Also_known_as' : also})\n",
    "    try:\n",
    "        also2=''.join(html.xpath('//*[@id=\"summaryDl\"]/dt[contains(.//text(),\"Summary\")]/following::dd[1]/text()'))\n",
    "    except:\n",
    "        also2=''\n",
    "    finally:\n",
    "        ncbisummary.update({'Summary' : also2})\n",
    "    final_Genes_inte[i]=ncbisummary\n",
    "    time.sleep(0.5)"
   ]
  },
  {
   "cell_type": "code",
   "execution_count": 97,
   "id": "8b77049c-c475-47db-97cb-3bf755ea2100",
   "metadata": {},
   "outputs": [],
   "source": [
    "judge=False\n",
    "p = Pool(10)\n",
    "manager=Manager()\n",
    "final_Genes_inte = manager.dict()\n",
    "for i in Gene2blank.keys():\n",
    "    if not Gene_converter.get(i):\n",
    "        p.apply_async(get_Gene_info, args=(i,final_Genes_inte))\n",
    "        judge=True\n",
    "p.close()\n",
    "p.join()\n",
    "if judge:\n",
    "    Gene_converter.update(dict(final_Genes_inte))\n",
    "    pickle.dump(Gene_converter, open('../ncbi/Gene_converter.pkl','wb'))"
   ]
  },
  {
   "cell_type": "code",
   "execution_count": 98,
   "id": "4163ec3d-263e-4383-9de4-63f61baf855c",
   "metadata": {},
   "outputs": [
    {
     "data": {
      "text/plain": [
       "True"
      ]
     },
     "execution_count": 98,
     "metadata": {},
     "output_type": "execute_result"
    }
   ],
   "source": [
    "judge"
   ]
  },
  {
   "cell_type": "code",
   "execution_count": 99,
   "id": "96fd3d68-771f-445a-afac-708a2923fe62",
   "metadata": {},
   "outputs": [
    {
     "data": {
      "text/plain": [
       "4988"
      ]
     },
     "execution_count": 99,
     "metadata": {},
     "output_type": "execute_result"
    }
   ],
   "source": [
    "len(Gene_converter)"
   ]
  },
  {
   "cell_type": "code",
   "execution_count": 100,
   "id": "b93110a5-7884-4c8a-86cb-baccc10cb882",
   "metadata": {},
   "outputs": [],
   "source": [
    "for i in range(len(Gene_list_raw)):\n",
    "    Gene_list_raw[i]=dict(Gene_list_raw[i],**Gene_converter.get(Gene_list_raw[i].get('entity')))"
   ]
  },
  {
   "cell_type": "code",
   "execution_count": 101,
   "id": "535b9778-31d3-4872-b72c-7587450318eb",
   "metadata": {},
   "outputs": [],
   "source": [
    "dropout=[]\n",
    "months=['Jan','Feb','Mar','Apr','May','Jun','Jul','Aug','Sep','Oct','Nov','Dec']\n",
    "for i in Gene_list_raw:\n",
    "    j=i.get('DP')\n",
    "    if re.search('[S,s]upplement',j,flags=re.M|re.I):\n",
    "        j=re.sub('[S,s]upplement.*','',j,flags=re.M|re.I)\n",
    "    j=re.sub('\\s?-\\s?','-',j)\n",
    "    j=re.sub('\\.','',j)\n",
    "    j=re.sub('Aout','Aug',j)\n",
    "    if len(j.split(' '))==3:\n",
    "        try:\n",
    "            date=int(datetime.datetime.strftime(datetime.datetime.strptime(j,'%Y %b %d'), '%Y%m%d'))\n",
    "        except:\n",
    "            if j.split()[1] in months:\n",
    "                if re.search(r'\\d+',j.split()[2],flags=re.M|re.I):\n",
    "                    j=j.split()[0]+' '+j.split()[1]+' '+ re.search(r'\\d+',j.split()[2],flags=re.M|re.I).group()\n",
    "                    try:\n",
    "                        date=int(datetime.datetime.strftime(datetime.datetime.strptime(j,'%Y %b %d'), '%Y%m%d'))\n",
    "                    except:\n",
    "                        j=j[:4]\n",
    "                        date=int(datetime.datetime.strftime(datetime.datetime.strptime(j,'%Y'), '%Y'+'0101'))\n",
    "                        print('***************************************ERROR**********************************************')\n",
    "                else:\n",
    "                    j=j.split()[0]+' '+j.split()[1]+' '+ '1'\n",
    "                    try:\n",
    "                        date=int(datetime.datetime.strftime(datetime.datetime.strptime(j,'%Y %b %d'), '%Y%m%d'))\n",
    "                    except:\n",
    "                        print(j)\n",
    "                        j=j[:4]\n",
    "                        date=int(datetime.datetime.strftime(datetime.datetime.strptime(j,'%Y'), '%Y'+'0101'))\n",
    "            elif j.split()[1] not in months:\n",
    "                if re.search(r'([a-zA-Z]+)[-/]([a-zA-Z]+)',j.split()[1],flags=re.M|re.I) or re.search(r'([a-zA-Z]+)[-/](\\d+)',j.split()[1],flags=re.M|re.I):\n",
    "                    if re.search(r'([a-zA-Z]+)[-/]([a-zA-Z]+)',j.split()[1],flags=re.M|re.I):\n",
    "                        middle=re.search(r'([a-zA-Z]+)[-/]([a-zA-Z]+)',j.split()[1],flags=re.M|re.I).group(1)\n",
    "                    else:\n",
    "                        middle=re.search(r'([a-zA-Z]+)[-/](\\d+)',j.split()[1],flags=re.M|re.I).group(1)\n",
    "                    if middle in months:\n",
    "                        if re.search(r'\\d+',j.split()[2],flags=re.M|re.I):\n",
    "                            j=j.split()[0]+' '+middle+' '+ re.search(r'\\d+',j.split()[2],flags=re.M|re.I).group()\n",
    "                        else:\n",
    "                            j=j.split()[0]+' '+middle+' '+ '1'\n",
    "                    elif re.match(r'Sum(mer)?',middle):\n",
    "                        if re.search(r'\\d+',j.split()[2],flags=re.M|re.I):\n",
    "                            j=j.split()[0]+' '+'Jun'+' '+ re.search(r'\\d+',j.split()[2],flags=re.M|re.I).group()\n",
    "                        else:\n",
    "                            j=j.split()[0]+' '+'Jun'+' '+ '1'\n",
    "                    elif re.match(r'Spr(ing)?',middle):\n",
    "                        if re.search(r'\\d+',j.split()[2],flags=re.M|re.I):\n",
    "                            j=j.split()[0]+' '+'Mar'+' '+ re.search(r'\\d+',j.split()[2],flags=re.M|re.I).group()\n",
    "                        else:\n",
    "                            j=j.split()[0]+' '+'Mar'+' '+ '1'\n",
    "                    elif re.match(r'Win(ter)?',middle):\n",
    "                        if re.search(r'\\d+',j.split()[2],flags=re.M|re.I):\n",
    "                            j=j.split()[0]+' '+'Dec'+' '+ re.search(r'\\d+',j.split()[2],flags=re.M|re.I).group()\n",
    "                        else:\n",
    "                            j=j.split()[0]+' '+'Dec'+' '+ '1'    \n",
    "                    elif re.match(r'Aut(umn)?',middle) or \\\n",
    "                    re.match(r'Fall',middle):\n",
    "                        if re.search(r'\\d+',j.split()[2],flags=re.M|re.I):\n",
    "                            j=j.split()[0]+' '+'Sep'+' '+ re.search(r'\\d+',j.split()[2],flags=re.M|re.I).group()\n",
    "                        else:\n",
    "                            j=j.split()[0]+' '+'Sep'+' '+ '1'      \n",
    "                    try:\n",
    "                        date=int(datetime.datetime.strftime(datetime.datetime.strptime(j,'%Y %b %d'), '%Y%m%d'))\n",
    "                    except:\n",
    "                        print(j)\n",
    "                        j=j[:4]\n",
    "                        date=int(datetime.datetime.strftime(datetime.datetime.strptime(j,'%Y'), '%Y'+'0101'))\n",
    "                else:\n",
    "                    j=j[:4]\n",
    "                    date=int(datetime.datetime.strftime(datetime.datetime.strptime(j,'%Y'), '%Y'+'0101'))\n",
    "    elif len(j.split())==2:\n",
    "        if re.match(r'Sum(mer)?',j.split()[1]):\n",
    "            date=int(j[:4]+'0601')\n",
    "        elif re.match(r'Spr(ing)?',j.split()[1]):\n",
    "            date=int(j[:4]+'0301')\n",
    "        elif re.match(r'Win(ter)?',j.split()[1]):\n",
    "            date=int(j[:4]+'1201')\n",
    "        elif re.match(r'Aut(umn)?',j.split()[1]) or re.match(r'Fall',j.split()[1]):\n",
    "            date=int(j[:4]+'0901')\n",
    "        elif re.match(r'Sum(mer)?',j.split()[0]):\n",
    "            date=int(j[-4:]+'0601')\n",
    "        elif re.match(r'Spr(ing)?',j.split()[0]):\n",
    "            date=int(j[-4:]+'0301')\n",
    "        elif re.match(r'Win(ter)?',j.split()[0]):\n",
    "            date=int(j[-4:]+'1201')\n",
    "        elif re.match(r'Aut(umn)?',j.split()[0]) or re.match(r'Fall',j.split()[0]):\n",
    "            date=int(j[-4:]+'0901')\n",
    "        else:\n",
    "            try:\n",
    "                date=int(datetime.datetime.strftime(datetime.datetime.strptime(j,'%Y %b'), '%Y%m'+'01'))\n",
    "            except:\n",
    "                if re.search(r'([a-zA-Z]+)[-/]([a-zA-Z]+)',j.split()[1],flags=re.M|re.I) or re.search(r'([a-zA-Z]+)[-/](\\d+)',j.split()[1],flags=re.M|re.I):\n",
    "                    if re.search(r'([a-zA-Z]+)[-/]([a-zA-Z]+)',j.split()[1],flags=re.M|re.I):\n",
    "                        middle=re.search(r'([a-zA-Z]+)[-/]([a-zA-Z]+)',j.split()[1],flags=re.M|re.I).group(1)\n",
    "                    else:\n",
    "                        middle=re.search(r'([a-zA-Z]+)[-/](\\d+)',j.split()[1],flags=re.M|re.I).group(1)\n",
    "                    if middle in months:\n",
    "                        j=j.split()[0]+' '+middle+' '+ '1'\n",
    "                    elif re.match(r'Sum(mer)?',middle):\n",
    "                        j=j.split()[0]+' '+'Jun'+' '+ '1'\n",
    "                    elif re.match(r'Spr(ing)?',middle):\n",
    "                        j=j.split()[0]+' '+'Mar'+' '+ '1'\n",
    "                    elif re.match(r'Win(ter)?',middle):\n",
    "                        j=j.split()[0]+' '+'Dec'+' '+ '1'    \n",
    "                    elif re.match(r'Aut(umn)?',middle) or \\\n",
    "                    re.match(r'Fall',middle):\n",
    "                        j=j.split()[0]+' '+'Sep'+' '+ '1'      \n",
    "                    try:\n",
    "                        date=int(datetime.datetime.strftime(datetime.datetime.strptime(j,'%Y %b %d'), '%Y%m%d'))\n",
    "                    except:\n",
    "                        j=j[:4]\n",
    "                        date=int(datetime.datetime.strftime(datetime.datetime.strptime(j,'%Y'), '%Y'+'0101'))\n",
    "                elif re.search(r'(\\d+)[-/](\\d+)',j.split()[1],flags=re.M|re.I):\n",
    "                    midd=re.search(r'(\\d+)[-/](\\d+)',j.split()[1],flags=re.M|re.I).group(1)\n",
    "                    if len(midd)!=2:\n",
    "                        midd='0'+midd\n",
    "                    j=j[:4]\n",
    "                    date=int(datetime.datetime.strftime(datetime.datetime.strptime(j,'%Y'), '%Y'+midd+'01'))\n",
    "                else:\n",
    "                    print(j)\n",
    "                    j=j[:4]\n",
    "                    date=int(datetime.datetime.strftime(datetime.datetime.strptime(j,'%Y'), '%Y'+'0101'))\n",
    "    elif len(j.split())==1:\n",
    "        j=j[:4]\n",
    "        date=int(datetime.datetime.strftime(datetime.datetime.strptime(j,'%Y'), '%Y'+'0101'))\n",
    "    else:\n",
    "        j=j.split()[0]+' '+j.split()[1]+' '+re.search(r'\\d+',j.split()[2],flags=re.M|re.I).group()\n",
    "        date=int(datetime.datetime.strftime(datetime.datetime.strptime(j,'%Y %b %d'), '%Y%m%d'))\n",
    "    i['date']=date\n",
    "    i['year']=int(str(i.get('date'))[:4])"
   ]
  },
  {
   "cell_type": "code",
   "execution_count": 102,
   "id": "d9bb2ca9-4cf2-4d43-ac4c-6ebe3d751fa6",
   "metadata": {},
   "outputs": [],
   "source": [
    "for i in Gene_list_raw:\n",
    "    i['addtime']=now_time"
   ]
  },
  {
   "cell_type": "code",
   "execution_count": 103,
   "id": "491be330-15d7-43be-98bc-4a2c06d86a4e",
   "metadata": {},
   "outputs": [],
   "source": [
    "Gene_raw=copy.deepcopy(Gene_list_raw)"
   ]
  },
  {
   "cell_type": "code",
   "execution_count": 104,
   "id": "cf98ddbd-a30d-45d2-a1d5-7205955ace95",
   "metadata": {},
   "outputs": [
    {
     "data": {
      "text/plain": [
       "1056"
      ]
     },
     "execution_count": 104,
     "metadata": {},
     "output_type": "execute_result"
    }
   ],
   "source": [
    "len(Gene_raw)"
   ]
  },
  {
   "cell_type": "code",
   "execution_count": 105,
   "id": "fe9d4fb1-307f-4e3b-beef-54b55f4f1f77",
   "metadata": {},
   "outputs": [],
   "source": [
    "if len(Gene_raw)!=0:\n",
    "    collections_Gene_raw.insert_many(Gene_raw)"
   ]
  },
  {
   "cell_type": "code",
   "execution_count": null,
   "id": "4f504e85-d08f-4ccc-9336-ecf012139f7c",
   "metadata": {},
   "outputs": [],
   "source": []
  },
  {
   "cell_type": "code",
   "execution_count": null,
   "id": "fbfacb2e-0bdd-41bc-994e-c59547d6f837",
   "metadata": {},
   "outputs": [],
   "source": []
  },
  {
   "cell_type": "markdown",
   "id": "9c0863e7-0b84-4898-b1ed-cad68fd87164",
   "metadata": {
    "tags": []
   },
   "source": [
    "# Gene_all"
   ]
  },
  {
   "cell_type": "code",
   "execution_count": 106,
   "id": "cc44dcfd-8eed-463c-bafb-7e9d033557fc",
   "metadata": {},
   "outputs": [],
   "source": [
    "Gene_raw_list=list(collections_Gene_raw.find())"
   ]
  },
  {
   "cell_type": "code",
   "execution_count": 107,
   "id": "8b259fb3-6e61-4118-8114-b6979133692e",
   "metadata": {},
   "outputs": [],
   "source": [
    "for i in Gene_raw_list:\n",
    "    i['type']='Gene'\n",
    "    i['JT']=[i.get('JT')]\n",
    "    i[\"PMID\"]=[i.get(\"PMID\")]\n",
    "    i[\"sentence\"]=[[i.get(\"sentence\")]]\n",
    "    pmid=i.get('PMID')[0]\n",
    "    i['DP']=[i.get(\"DP\")]\n",
    "    i['AB']=[i.get(\"AB\")]\n",
    "    i['URL']='https://pubmed.ncbi.nlm.nih.gov/'+pmid\n",
    "    i['TI']=[i.get(\"TI\")]\n",
    "    i['target']=[[i.get('word')]]\n",
    "    i[\"date\"]=[i.get(\"date\")]\n",
    "    i[\"year\"]=[i.get(\"year\")]"
   ]
  },
  {
   "cell_type": "code",
   "execution_count": 108,
   "id": "bedf4874-0b21-48ed-bf2d-a8c6f0aed40a",
   "metadata": {},
   "outputs": [],
   "source": [
    "Gene_mid={}\n",
    "for i in Gene_raw_list:\n",
    "    if not Gene_mid.get(i.get(\"entity\")):\n",
    "        Gene_mid[i.get(\"entity\")]=i\n",
    "    else:\n",
    "        if i.get('PMID')[0] in Gene_mid.get(i.get('entity')).get('PMID'):\n",
    "\n",
    "            ind=Gene_mid.get(i.get('entity')).get('PMID').index(i.get('PMID')[0])\n",
    "            if i.get(\"sentence\")[0][0] in Gene_mid.get(i.get('entity')).get('sentence')[ind]:\n",
    "                continue\n",
    "            else:\n",
    "                Gene_mid[i.get('entity')]['sentence'][ind] = Gene_mid.get(i.get('entity')).get('sentence')[ind] + i.get(\"sentence\")[0]\n",
    "                Gene_mid[i.get('entity')]['target'][ind] = Gene_mid.get(i.get('entity')).get('target')[ind] + i.get(\"target\")[0]\n",
    "        else:\n",
    "            Gene_mid[i.get(\"entity\")][\"PMID\"]=Gene_mid.get(i.get(\"entity\")).get(\"PMID\")+i.get(\"PMID\")\n",
    "            Gene_mid[i.get(\"entity\")][\"sentence\"]=Gene_mid.get(i.get(\"entity\")).get(\"sentence\")+i.get(\"sentence\")\n",
    "            Gene_mid[i.get(\"entity\")][\"AB\"]=Gene_mid.get(i.get(\"entity\")).get(\"AB\")+i.get(\"AB\")\n",
    "            Gene_mid[i.get(\"entity\")][\"DP\"]=Gene_mid.get(i.get(\"entity\")).get(\"DP\")+i.get(\"DP\")\n",
    "            Gene_mid[i.get(\"entity\")][\"TI\"]=Gene_mid.get(i.get(\"entity\")).get(\"TI\")+i.get(\"TI\")\n",
    "            Gene_mid[i.get(\"entity\")][\"target\"]=Gene_mid.get(i.get(\"entity\")).get(\"target\")+i.get(\"target\")\n",
    "            Gene_mid[i.get(\"entity\")][\"date\"]=Gene_mid.get(i.get(\"entity\")).get(\"date\")+i.get(\"date\")\n",
    "            Gene_mid[i.get(\"entity\")][\"year\"]=Gene_mid.get(i.get(\"entity\")).get(\"year\")+i.get(\"year\")\n",
    "            Gene_mid[i.get(\"entity\")][\"JT\"]=Gene_mid.get(i.get(\"entity\")).get(\"JT\")+i.get(\"JT\")"
   ]
  },
  {
   "cell_type": "code",
   "execution_count": 109,
   "id": "486221ea-49c7-4849-853d-a20b4e1b89b3",
   "metadata": {},
   "outputs": [],
   "source": [
    "Gene_output_json_final=list(Gene_mid.values())"
   ]
  },
  {
   "cell_type": "code",
   "execution_count": 110,
   "id": "51d89f98-cf91-49d5-a140-dcf019530a72",
   "metadata": {},
   "outputs": [
    {
     "data": {
      "text/plain": [
       "4988"
      ]
     },
     "execution_count": 110,
     "metadata": {},
     "output_type": "execute_result"
    }
   ],
   "source": [
    "len(Gene_output_json_final)"
   ]
  },
  {
   "cell_type": "code",
   "execution_count": 111,
   "id": "137fdc25-e223-427d-a2d0-cb9f2d0db525",
   "metadata": {},
   "outputs": [],
   "source": [
    "for i in Gene_output_json_final:\n",
    "    i['allyears']=[]\n",
    "    i['datestring']=[]\n",
    "    for j in i.get('date'):\n",
    "        if int(str(j)[:4]) not in i.get('allyears'):\n",
    "            i['allyears']= i.get('allyears')+[int(str(j)[:4])]\n",
    "    for j in i.get('date'):\n",
    "        if str(j)[:4]+\"-\"+str(j)[4:6]+\"-\"+str(j)[6:] not in i.get('datestring'):\n",
    "            i['datestring']=i.get('datestring')+[str(j)[:4]+\"-\"+str(j)[4:6]+\"-\"+str(j)[6:]]\n",
    "    i['allyears']=sorted(i.get('allyears'), reverse=True)\n",
    "    i['datestring']=sorted(i.get('datestring'), reverse=True)\n",
    "    upperlist=set()\n",
    "    for j in sum(i.get('target'),[]):\n",
    "        upperlist.add(j.upper())\n",
    "    i['targetshapes']=list(upperlist)\n",
    "    i['addtime']=now_time"
   ]
  },
  {
   "cell_type": "code",
   "execution_count": 112,
   "id": "faa04a49-20ec-41a2-8a51-456ef39a83b9",
   "metadata": {},
   "outputs": [],
   "source": [
    "Gene_all=copy.deepcopy(Gene_output_json_final)"
   ]
  },
  {
   "cell_type": "code",
   "execution_count": null,
   "id": "14f41293-1def-433a-a18b-8928fc019e15",
   "metadata": {},
   "outputs": [],
   "source": []
  },
  {
   "cell_type": "code",
   "execution_count": null,
   "id": "ebab2ba6-3f56-44ca-9c07-d3dfef46af29",
   "metadata": {},
   "outputs": [],
   "source": []
  },
  {
   "cell_type": "markdown",
   "id": "1cfd59b6-f54f-48cc-abf3-90e7d93e19e5",
   "metadata": {
    "tags": []
   },
   "source": [
    "# RNA_raw"
   ]
  },
  {
   "cell_type": "code",
   "execution_count": 113,
   "id": "ec67745f-b018-4445-99d0-82d51ea582d4",
   "metadata": {},
   "outputs": [],
   "source": [
    "collections_RNA_raw=db.RNA_raw"
   ]
  },
  {
   "cell_type": "code",
   "execution_count": 114,
   "id": "57722064-5d0b-4261-9566-ae0d92a43059",
   "metadata": {},
   "outputs": [],
   "source": [
    "names=locals()"
   ]
  },
  {
   "cell_type": "code",
   "execution_count": 115,
   "id": "d653998f-755f-400e-9b29-fead9b1e9c8d",
   "metadata": {},
   "outputs": [],
   "source": [
    "raw_pick=pickle.load(open('results/step1/raw_pick.pkl','rb'))"
   ]
  },
  {
   "cell_type": "code",
   "execution_count": 116,
   "id": "c5f5ca3c-c2ff-4015-9674-4f577033d7c0",
   "metadata": {},
   "outputs": [],
   "source": [
    "raw_pick_pubtator=pickle.load(open('results/step1/raw_pick_pubtator.pkl','rb'))"
   ]
  },
  {
   "cell_type": "code",
   "execution_count": 117,
   "id": "617d8d82-9714-4fd3-849c-ccb37a8d7f44",
   "metadata": {},
   "outputs": [],
   "source": [
    "pubtator_raw=pickle.load(open('results/step1/pubtator_raw.pkl','rb'))"
   ]
  },
  {
   "cell_type": "code",
   "execution_count": 118,
   "id": "4ffd47ba-b43a-4182-b1e8-7a6d85ee2535",
   "metadata": {},
   "outputs": [],
   "source": [
    "pubtator_gene=[]\n",
    "for i in pubtator_raw:\n",
    "    if i.get('type')=='Gene':\n",
    "        pubtator_gene.append(i)"
   ]
  },
  {
   "cell_type": "code",
   "execution_count": 119,
   "id": "81cf5008-60c0-43c5-a466-df236ae4d586",
   "metadata": {},
   "outputs": [],
   "source": [
    "os.makedirs('../microRNA_lncRNA_rules/'+now_time)"
   ]
  },
  {
   "cell_type": "code",
   "execution_count": 120,
   "id": "2b2dfe3b-3cf7-47a3-aee5-e7c47eb21485",
   "metadata": {},
   "outputs": [],
   "source": [
    "with open('../microRNA_lncRNA_rules/'+now_time+'/allsentences.txt','a') as f:\n",
    "    for i in raw_pick_pubtator:\n",
    "        f.write(i.get('AB')+'\\n'+'\\n')"
   ]
  },
  {
   "cell_type": "code",
   "execution_count": 121,
   "id": "3cfc9587-f310-486a-93a2-a231a01f8a85",
   "metadata": {
    "tags": []
   },
   "outputs": [],
   "source": [
    "with open('../microRNA_lncRNA_rules/'+now_time+'/run.sh','w') as f:\n",
    "    f.write('''\n",
    "#!/bin/bash\\n\n",
    "start_time=$(date +%s)\n",
    "java -cp \"../stanza_corenlp/*\" -Xmx500g edu.stanford.nlp.pipeline.StanfordCoreNLP -annotators 'tokenize,ssplit,regexner' -file \"../microRNA_lncRNA_rules/'''\n",
    "+now_time+'''/allsentences.txt\" -regexner.mapping ../microRNA_lncRNA_rules/jg-regexner.txt -regexner.ignorecase true -tokenize.options \"splitHyphenated=false\" --outputFormat json --outputDirectory ../microRNA_lncRNA_rules/'''+now_time+'''/  \n",
    "end_time=$(date +%s)\n",
    "cost_time=$[ $end_time-$start_time ]\n",
    "echo \"build kernel time is $(($cost_time/60))min $(($cost_time%60))s\"\n",
    "    ''')"
   ]
  },
  {
   "cell_type": "code",
   "execution_count": 123,
   "id": "e6107584-294b-4e34-97b9-a1317ac4f054",
   "metadata": {},
   "outputs": [
    {
     "name": "stderr",
     "output_type": "stream",
     "text": [
      "[main] INFO edu.stanford.nlp.pipeline.StanfordCoreNLP - Adding annotator tokenize\n",
      "[main] INFO edu.stanford.nlp.pipeline.StanfordCoreNLP - Adding annotator ssplit\n",
      "[main] INFO edu.stanford.nlp.pipeline.StanfordCoreNLP - Adding annotator regexner\n",
      "[main] INFO edu.stanford.nlp.pipeline.TokensRegexNERAnnotator - regexner: Read 21 unique entries out of 22 from ../microRNA_lncRNA_rules/jg-regexner.txt, 0 TokensRegex patterns.\n",
      "\n",
      "Processing file /root/hald_autoupdate/2023_05_09/../microRNA_lncRNA_rules/2023_05_09/allsentences.txt ... writing to /root/hald_autoupdate/microRNA_lncRNA_rules/2023_05_09/allsentences.txt.json\n",
      "Annotating file /root/hald_autoupdate/2023_05_09/../microRNA_lncRNA_rules/2023_05_09/allsentences.txt ... done [65.7 sec].\n",
      "\n",
      "Annotation pipeline timing information:\n",
      "TokenizerAnnotator: 1.7 sec.\n",
      "WordsToSentencesAnnotator: 0.7 sec.\n",
      "TokensRegexNERAnnotator: 63.3 sec.\n",
      "TOTAL: 65.7 sec. for 417253 tokens at 6353.6 tokens/sec.\n",
      "Pipeline setup: 0.6 sec.\n",
      "Total time for StanfordCoreNLP pipeline: 70.1 sec.\n"
     ]
    },
    {
     "data": {
      "text/plain": [
       "0"
      ]
     },
     "execution_count": 123,
     "metadata": {},
     "output_type": "execute_result"
    }
   ],
   "source": [
    "os.system(\"bash ../microRNA_lncRNA_rules/\"+now_time+\"/run.sh > ../microRNA_lncRNA_rules/\"+now_time+\"/run.log\")"
   ]
  },
  {
   "cell_type": "code",
   "execution_count": 124,
   "id": "9909273b-d0f6-4b96-9dcb-1b4526026121",
   "metadata": {},
   "outputs": [],
   "source": [
    "jsonfile={}\n",
    "json_file=json.load(open('../microRNA_lncRNA_rules/'+now_time+'/allsentences.txt.json',\"r\"))\n",
    "jsonfile[\"sentences\"]=json_file.get(\"sentences\")"
   ]
  },
  {
   "cell_type": "code",
   "execution_count": 125,
   "id": "943c82bc-74fa-4672-86b1-fec5ab6d51bb",
   "metadata": {},
   "outputs": [
    {
     "name": "stdout",
     "output_type": "stream",
     "text": [
      "The running time is 0s\n"
     ]
    }
   ],
   "source": [
    "words=[]\n",
    "entities_dict_list=[]\n",
    "starttime=datetime.datetime.now()\n",
    "l=0\n",
    "HALDnames=[]\n",
    "start=0\n",
    "for HALDname in [\"LNCRNA\",\"MICRORNA\"]:\n",
    "    HALDnames.append(\"HALD_\"+HALDname)\n",
    "f=open('../microRNA_lncRNA_rules/'+now_time+'/allsentences.txt')\n",
    "sentences=f.read()\n",
    "for i in jsonfile.get(\"sentences\"):\n",
    "    for HALDname in HALDnames:\n",
    "        judge=True\n",
    "        size=len(i.get(\"tokens\"))\n",
    "        for k,j in enumerate(i.get(\"tokens\")):\n",
    "            if j.get(\"ner\"):\n",
    "                if j.get(\"ner\")==HALDname:\n",
    "                    combination=j.get('word')\n",
    "                    words.append(combination)\n",
    "                    entities_dict={}\n",
    "                    entities_dict[\"word\"]=combination\n",
    "                    entities_dict[\"wordBegin\"]=j.get(\"characterOffsetBegin\")+start\n",
    "                    entities_dict[\"wordEnd\"]=j.get(\"characterOffsetEnd\")+start\n",
    "                    entities_dict[\"sentenceBegin\"]=i.get(\"tokens\")[0].get(\"characterOffsetBegin\")+start\n",
    "                    entities_dict[\"sentenceEnd\"]=i.get(\"tokens\")[-1].get(\"characterOffsetEnd\")+start\n",
    "                    entities_dict[\"sentence\"]=sentences[i.get(\"tokens\")[0].get(\"characterOffsetBegin\"):i.get(\"tokens\")[-1].get(\"characterOffsetEnd\")]\n",
    "                    entities_dict[\"ner\"]=HALDname\n",
    "                    entities_dict_list.append(entities_dict)\n",
    "                    if judge:\n",
    "                        names['l'+HALDname]=k+1\n",
    "                        judge=False\n",
    "                    if names['l'+HALDname]<k:\n",
    "                        names['l'+HALDname]=k+1\n",
    "                    if k != names['l'+HALDname] -1:\n",
    "                        continue\n",
    "                    if names['l'+HALDname]<size:\n",
    "                        if i.get(\"tokens\")[names['l'+HALDname]].get(\"ner\"):\n",
    "                            if i.get(\"tokens\")[names['l'+HALDname]].get(\"ner\")==HALDname:\n",
    "                                while i.get(\"tokens\")[names['l'+HALDname]].get(\"ner\")==HALDname:\n",
    "                                    combination+=\" \"+i.get(\"tokens\")[names['l'+HALDname]].get(\"word\")\n",
    "                                    names['l'+HALDname]+=1\n",
    "                                    if names['l'+HALDname]>=size:\n",
    "                                        break\n",
    "                                names['l'+HALDname]+=1\n",
    "                                words.append(combination)\n",
    "                                entities_dict={}\n",
    "                                entities_dict[\"word\"]=combination\n",
    "                                entities_dict[\"wordBegin\"]=j.get(\"characterOffsetBegin\")+start\n",
    "                                entities_dict[\"wordEnd\"]=j.get(\"characterOffsetEnd\")+start\n",
    "                                entities_dict[\"sentenceBegin\"]=i.get(\"tokens\")[0].get(\"characterOffsetBegin\")+start\n",
    "                                entities_dict[\"sentenceEnd\"]=i.get(\"tokens\")[-1].get(\"characterOffsetEnd\")+start\n",
    "                                entities_dict[\"sentence\"]=sentences[i.get(\"tokens\")[0].get(\"characterOffsetBegin\"):i.get(\"tokens\")[-1].get(\"characterOffsetEnd\")]\n",
    "                                entities_dict[\"ner\"]=HALDname\n",
    "                                entities_dict_list.append(entities_dict)\n",
    "f.close()\n",
    "start+=len(sentences)\n",
    "endtime=datetime.datetime.now()\n",
    "print(\"The running time is \"+str((endtime-starttime).seconds)+\"s\")"
   ]
  },
  {
   "cell_type": "code",
   "execution_count": 126,
   "id": "b2482958-acf3-420a-b7bf-6b6d8a2bc1ff",
   "metadata": {},
   "outputs": [
    {
     "data": {
      "text/plain": [
       "58"
      ]
     },
     "execution_count": 126,
     "metadata": {},
     "output_type": "execute_result"
    }
   ],
   "source": [
    "len(entities_dict_list)"
   ]
  },
  {
   "cell_type": "code",
   "execution_count": 127,
   "id": "0f9dc551-c6c2-496a-adbc-88f44c2c176f",
   "metadata": {},
   "outputs": [
    {
     "data": {
      "text/plain": [
       "{'word': 'miR-16-5p',\n",
       " 'wordBegin': 516917,\n",
       " 'wordEnd': 516926,\n",
       " 'sentenceBegin': 516909,\n",
       " 'sentenceEnd': 517030,\n",
       " 'sentence': 'In ECs, miR-16-5p, miR-451, miR-191-5p, miR-27a-3p, and miR-27b-3p, in that order, were the top detectable miRNAs in ECs.',\n",
       " 'ner': 'HALD_MICRORNA'}"
      ]
     },
     "execution_count": 127,
     "metadata": {},
     "output_type": "execute_result"
    }
   ],
   "source": [
    "entities_dict_list[2]"
   ]
  },
  {
   "cell_type": "code",
   "execution_count": 128,
   "id": "68134f94-545f-48a4-bd2e-0b1a3010c8a5",
   "metadata": {},
   "outputs": [],
   "source": [
    "length2pmid=[]\n",
    "start=0\n",
    "for i in raw_pick_pubtator:\n",
    "    mid=[]\n",
    "    mid.append(start)\n",
    "    mid.append(i.get('PMID'))\n",
    "    length2pmid.append(mid)\n",
    "    start+=len(i.get('AB'))+2"
   ]
  },
  {
   "cell_type": "code",
   "execution_count": 129,
   "id": "8694cb17-edfc-41a5-a86e-f4bf8fa29d68",
   "metadata": {},
   "outputs": [
    {
     "data": {
      "text/plain": [
       "1402"
      ]
     },
     "execution_count": 129,
     "metadata": {},
     "output_type": "execute_result"
    }
   ],
   "source": [
    "len(length2pmid)"
   ]
  },
  {
   "cell_type": "code",
   "execution_count": 130,
   "id": "07090ec1-3862-4b65-b213-b29e36d60f76",
   "metadata": {},
   "outputs": [
    {
     "data": {
      "text/plain": [
       "[16170, '37058445']"
      ]
     },
     "execution_count": 130,
     "metadata": {},
     "output_type": "execute_result"
    }
   ],
   "source": [
    "length2pmid[10]"
   ]
  },
  {
   "cell_type": "code",
   "execution_count": 131,
   "id": "58a11d6a-8773-40df-89c4-80ac002ea137",
   "metadata": {},
   "outputs": [],
   "source": [
    "k=0\n",
    "for i in entities_dict_list:\n",
    "    for j in range(k,len(length2pmid)):\n",
    "        if i.get('wordBegin')<length2pmid[j][0]:\n",
    "            i['PMID']=length2pmid[j-1][1]\n",
    "            i['AB']=pubtator_raw_dict2AB.get(i.get('PMID'))\n",
    "            k=j-1\n",
    "            break\n",
    "    else:\n",
    "        i['PMID']=length2pmid[-1][1]\n",
    "        i['AB']=pubtator_raw_dict2AB.get(i.get('PMID'))"
   ]
  },
  {
   "cell_type": "code",
   "execution_count": 132,
   "id": "3c15e9d8-156f-4bc2-9173-095065caf9e0",
   "metadata": {},
   "outputs": [
    {
     "data": {
      "text/plain": [
       "{'word': 'miR-128-3p',\n",
       " 'wordBegin': 518130,\n",
       " 'wordEnd': 518140,\n",
       " 'sentenceBegin': 517955,\n",
       " 'sentenceEnd': 518287,\n",
       " 'sentence': 'Remarkably, the observed SIV-mediated decrease in miR-128-3p levels in EVs from RMs agrees with publicly available EV miRNAome data by Kaddour et al., 2021, which showed that miR-128-3p levels were significantly lower in semen-derived EVs from HIV-infected men who used or did not use cocaine compared to HIV-uninfected individuals.',\n",
       " 'ner': 'HALD_MICRORNA',\n",
       " 'PMID': '36992331',\n",
       " 'AB': 'Background: This is Manuscript 1 of a two-part Manuscript of the same series. Here, we present findings from our first set of studies on the abundance and compartmentalization of blood plasma extracellular microRNAs (exmiRNAs) into extracellular particles, including blood plasma extracellular vesicles (EVs) and extracellular condensates (ECs) in the setting of untreated HIV/SIV infection. The goals of the study presented in this Manuscript 1 are to (i) assess the abundance and compartmentalization of exmiRNAs in EVs versus ECs in the healthy uninfected state, and (ii) evaluate how SIV infection may affect exmiRNA abundance and compartmentalization in these particles. Considerable effort has been devoted to studying the epigenetic control of viral infection, particularly in understanding the role of exmiRNAs as key regulators of viral pathogenesis. MicroRNA (miRNAs) are small (~20-22 nts) non-coding RNAs that regulate cellular processes through targeted mRNA degradation and/or repression of protein translation. Originally associated with the cellular microenvironment, circulating miRNAs are now known to be present in various extracellular environments, including blood serum and plasma. While in circulation, miRNAs are protected from degradation by ribonucleases through their association with lipid and protein carriers, such as lipoproteins and other extracellular particles-EVs and ECs. Functionally, miRNAs play important roles in diverse biological processes and diseases (cell proliferation, differentiation, apoptosis, stress responses, inflammation, cardiovascular diseases, cancer, aging, neurological diseases, and HIV/SIV pathogenesis). While lipoproteins and EV-associated exmiRNAs have been characterized and linked to various disease processes, the association of exmiRNAs with ECs is yet to be made. Likewise, the effect of SIV infection on the abundance and compartmentalization of exmiRNAs within extracellular particles is unclear. Literature in the EV field has suggested that most circulating miRNAs may not be associated with EVs. However, a systematic analysis of the carriers of exmiRNAs has not been conducted due to the inefficient separation of EVs from other extracellular particles, including ECs. Methods: Paired EVs and ECs were separated from EDTA blood plasma of SIV-uninfected male Indian rhesus macaques (RMs, n = 15). Additionally, paired EVs and ECs were isolated from EDTA blood plasma of combination anti-retroviral therapy (cART) naive SIV-infected (SIV+, n = 3) RMs at two time points (1- and 5-months post infection, 1 MPI and 5 MPI). Separation of EVs and ECs was achieved with PPLC, a state-of-the-art, innovative technology equipped with gradient agarose bead sizes and a fast fraction collector that allows high-resolution separation and retrieval of preparative quantities of sub-populations of extracellular particles. Global miRNA profiles of the paired EVs and ECs were determined with RealSeq Biosciences (Santa Cruz, CA) custom sequencing platform by conducting small RNA (sRNA)-seq. The sRNA-seq data were analyzed using various bioinformatic tools. Validation of key exmiRNAs was performed using specific TaqMan microRNA stem-loop RT-qPCR assays. Results: We showed that exmiRNAs in blood plasma are not restricted to any type of extracellular particles but are associated with lipid-based carriers-EVs and non-lipid-based carriers-ECs, with a significant (~30%) proportion of the exmiRNAs being associated with ECs. In the blood plasma of uninfected RMs, a total of 315 miRNAs were associated with EVs, while 410 miRNAs were associated with ECs. A comparison of detectable miRNAs within paired EVs and ECs revealed 19 and 114 common miRNAs, respectively, detected in all 15 RMs. Let-7a-5p, Let-7c-5p, miR-26a-5p, miR-191-5p, and let-7f-5p were among the top 5 detectable miRNAs associated with EVs in that order. In ECs, miR-16-5p, miR-451, miR-191-5p, miR-27a-3p, and miR-27b-3p, in that order, were the top detectable miRNAs in ECs. miRNA-target enrichment analysis of the top 10 detected common EV and EC miRNAs identified MYC and TNPO1 as top target genes, respectively. Functional enrichment analysis of top EV- and EC-associated miRNAs identified common and distinct gene-network signatures associated with various biological and disease processes. Top EV-associated miRNAs were implicated in cytokine-cytokine receptor interactions, Th17 cell differentiation, IL-17 signaling, inflammatory bowel disease, and glioma. On the other hand, top EC-associated miRNAs were implicated in lipid and atherosclerosis, Th1 and Th2 cell differentiation, Th17 cell differentiation, and glioma. Interestingly, infection of RMs with SIV revealed that the brain-enriched miR-128-3p was longitudinally and significantly downregulated in EVs, but not ECs. This SIV-mediated decrease in miR-128-3p counts was validated by specific TaqMan microRNA stem-loop RT-qPCR assay. Remarkably, the observed SIV-mediated decrease in miR-128-3p levels in EVs from RMs agrees with publicly available EV miRNAome data by Kaddour et al., 2021, which showed that miR-128-3p levels were significantly lower in semen-derived EVs from HIV-infected men who used or did not use cocaine compared to HIV-uninfected individuals. These findings confirmed our previously reported finding and suggested that miR-128 may be a target of HIV/SIV. Conclusions: In the present study, we used sRNA sequencing to provide a holistic understanding of the repertoire of circulating exmiRNAs and their association with extracellular particles, such as EVs and ECs. Our data also showed that SIV infection altered the profile of the miRNAome of EVs and revealed that miR-128-3p may be a potential target of HIV/SIV. The significant decrease in miR-128-3p in HIV-infected humans and in SIV-infected RMs may indicate disease progression. Our study has important implications for the development of biomarker approaches for various types of cancer, cardiovascular diseases, organ injury, and HIV based on the capture and analysis of circulating exmiRNAs.'}"
      ]
     },
     "execution_count": 132,
     "metadata": {},
     "output_type": "execute_result"
    }
   ],
   "source": [
    "entities_dict_list[10]"
   ]
  },
  {
   "cell_type": "code",
   "execution_count": 134,
   "id": "36e25d61-b8db-4578-aeda-6911b28e3b7f",
   "metadata": {},
   "outputs": [],
   "source": [
    "RNA2ncbi=pd.read_csv('../ncbi/RNA_ncbi.txt',sep='\\t',encoding='utf-8',converters = {'NCBI Gene ID(supplied by NCBI)':str})"
   ]
  },
  {
   "cell_type": "code",
   "execution_count": 135,
   "id": "d9080b56-4761-4220-b4d0-e906cd2a135a",
   "metadata": {},
   "outputs": [],
   "source": [
    "RNA2approved_dict=dict(zip(RNA2ncbi['NCBI Gene ID(supplied by NCBI)'],RNA2ncbi['Approved symbol'] ))"
   ]
  },
  {
   "cell_type": "code",
   "execution_count": 136,
   "id": "c3f3e53c-e913-4ca8-82a1-bb60b4fef852",
   "metadata": {},
   "outputs": [],
   "source": [
    "RNA2ncbi_dict=dict(zip(RNA2ncbi['Approved symbol'], RNA2ncbi['NCBI Gene ID(supplied by NCBI)']))"
   ]
  },
  {
   "cell_type": "code",
   "execution_count": 137,
   "id": "f77b9b1d-65e9-40e4-92ec-03a5dc04832f",
   "metadata": {},
   "outputs": [],
   "source": [
    "error_RNA=[]\n",
    "pubtator_RNAs=[]\n",
    "for i in pubtator_gene:\n",
    "    if RNA2approved_dict.get(i.get('identifier')):\n",
    "        i['entity']=RNA2approved_dict.get(i.get('identifier'))\n",
    "        pubtator_RNAs.append(i)\n",
    "    else:\n",
    "        error_RNA.append(i)"
   ]
  },
  {
   "cell_type": "code",
   "execution_count": 138,
   "id": "3aa79935-feff-4814-ba5b-635717424b2c",
   "metadata": {},
   "outputs": [
    {
     "data": {
      "text/plain": [
       "2124"
      ]
     },
     "execution_count": 138,
     "metadata": {},
     "output_type": "execute_result"
    }
   ],
   "source": [
    "len(error_RNA)"
   ]
  },
  {
   "cell_type": "code",
   "execution_count": 139,
   "id": "954ab9c4-1ae7-4213-98df-1b003484a800",
   "metadata": {},
   "outputs": [
    {
     "data": {
      "text/plain": [
       "28"
      ]
     },
     "execution_count": 139,
     "metadata": {},
     "output_type": "execute_result"
    }
   ],
   "source": [
    "len(pubtator_RNAs)"
   ]
  },
  {
   "cell_type": "code",
   "execution_count": 140,
   "id": "f0380454-83b0-4a48-888b-863e2329ea3a",
   "metadata": {},
   "outputs": [],
   "source": [
    "names=locals()\n",
    "HALDnames=[]\n",
    "for HALDname in [\"CLUSTERRNA\",\"LNCRNA\",\"MICRORNA\",\"MISCRNA\",\"RIBOSOMALRNA\",\"SMALL_NUCLEARRNA\",\"SMALL_NUCLEOLARRNA\",\"TRANSFERRNA\",\"VAULTRNA\",\"YRNA\"]:\n",
    "    HALDnames.append(\"HALD_\"+HALDname)\n",
    "for name in [\"clusterRNA\",\"lncRNA\",\"microRNA\",\"miscRNA\",\"ribosomalRNA\",\"small_nuclearRNA\",\"small_nucleolarRNA\",\"transferRNA\",\"vaultRNA\",\"yRNA\"]:\n",
    "    file=\"../dict/\"+name+\"/\"+name+\"dict.json\"\n",
    "    with open(file,\"r\") as f:\n",
    "        jsons=json.load(f)\n",
    "        json_lower={}\n",
    "        for i,j in jsons.items():\n",
    "            json_lower[i.lower()]=j\n",
    "        names[name+\"_dict\"]=json_lower"
   ]
  },
  {
   "cell_type": "code",
   "execution_count": 141,
   "id": "65bf272b-d588-49fb-b6c2-6a9a6441f1fc",
   "metadata": {},
   "outputs": [],
   "source": [
    "pattern=['([Hh][Ss][Aa])?[\\-]?[Mm][Ii][Cc][Rr][Oo][Rr][Nn][Aa][\\-]?\\d+[a-zA-Z]?[\\-]?[12345]?[\\-]?[35]?[Pp]?',\n",
    "'([Hh][Ss][Aa])?[\\-]?[Mm][Ii][Cc][Rr][Oo][Rr][Nn][Aa] \\d+[a-zA-Z]?[\\-]?[12345]?[\\-]?[35]?[Pp]?',\n",
    "'([Hh][Ss][Aa])?[\\-]?[Mm][Ii][Rr][Nn]?[\\-]?\\d+[a-zA-Z]?[\\-]?[12345]?[\\-]?[35]?[Pp]?',\n",
    "'([Hh][Ss][Aa])?[\\-]?[Mm][Ii][Rr][Nn]? \\d+[a-zA-Z]?[\\-]?[12345]?[\\-]?[35]?[Pp]?',\n",
    "'([Hh][Ss][Aa])?[\\-]?([Mm][Ii][Cc][Rr][Oo][Rr][Nn][Aa][\\-]?\\d+)([a-z][/]?)+',\n",
    "'([Hh][Ss][Aa])?[\\-]?[Mm][Ii][Cc][Rr][Oo][Rr][Nn][Aa] \\d+([a-z][/]?)+',\n",
    "'([Hh][Ss][Aa])?[\\-]?([Mm][Ii][Rr][Nn]?[\\-]?\\d+)([a-z][/]?)+',\n",
    "'([Hh][Ss][Aa])?[\\-]?[Mm][Ii][Rr][Nn]? \\d+([a-z][/]?)+',\n",
    "'[Hh][Ss][Aa][\\-][Mm][Ii][Rr][Nn]?[\\-]\\d+[a-zA-Z]?[\\-]?[12345]?[\\-]?[35]?[Pp]?',\n",
    "'([Hh][Ss][Aa][\\-][Mm][Ii][Rr][Nn]?[\\-]\\d+)([a-z][/]?)+',\n",
    "'[Mm][Ii][Rr][Nn]?[Ll][Ee][Tt]7[A-Ia-i][123]?',\n",
    "'([Mm][Ii][Rr][Nn]?[Ll][Ee][Tt]7)([A-Ia-i][/]?)+',\n",
    "'[Mm][Ii][Cc][Rr][Oo][Rr][Nn][Aa][\\-][Ll][Ee][Tt][\\-]\\d+[a-zA-Z]?[\\-]?[12345]?[\\-]?[35]?[Pp]?',\n",
    "'[Mm][Ii][Cc][Rr][Oo][Rr][Nn][Aa] [Ll][Ee][Tt] \\d+[a-zA-Z]?[\\-]?[12345]?[\\-]?[35]?[Pp]?',\n",
    "'[Mm][Ii][Rr][Nn]?[\\-][Ll][Ee][Tt][\\-]\\d+[a-zA-Z]?[\\-]?[12345]?[\\-]?[35]?[Pp]?',\n",
    "'[Mm][Ii][Rr][Nn]? [Ll][Ee][Tt] \\d+[a-zA-Z]?[\\-]?[12345]?[\\-]?[35]?[Pp]?',\n",
    "'([Mm][Ii][Cc][Rr][Oo][Rr][Nn][Aa][\\-][Ll][Ee][Tt][\\-]\\d+)([a-z][/]?)+',\n",
    "'[Mm][Ii][Cc][Rr][Oo][Rr][Nn][Aa] [Ll][Ee][Tt] \\d+([a-z][/]?)+',\n",
    "'([Mm][Ii][Rr][Nn]?[\\-][Ll][Ee][Tt][\\-]\\d+)([a-z][/]?)+',\n",
    "'[Mm][Ii][Rr][Nn]? [Ll][Ee][Tt] \\d+([a-z][/]?)+']"
   ]
  },
  {
   "cell_type": "code",
   "execution_count": 142,
   "id": "7b8ccb1e-9e6c-49c5-8f0e-8d1224f6cea4",
   "metadata": {},
   "outputs": [],
   "source": [
    "filtered_pubtator_RNAs=[]\n",
    "drop_RNAs=[]\n",
    "midcount1=0\n",
    "midcount2=0\n",
    "for i in pubtator_RNAs:\n",
    "    for name in [\"clusterRNA\",\"lncRNA\",\"microRNA\",\"miscRNA\",\"ribosomalRNA\",\"small_nuclearRNA\",\"small_nucleolarRNA\",\"transferRNA\",\"vaultRNA\",\"yRNA\"]:\n",
    "        if names[name+\"_dict\"].get(i.get('text').lower()):\n",
    "            i['ner']=\"HALD_\"+name.upper()\n",
    "            i['type']=\"RNA\"\n",
    "            i['specific_type']=name.upper()\n",
    "            filtered_pubtator_RNAs.append(i)\n",
    "            break\n",
    "    else:\n",
    "        for j in pattern:\n",
    "            if re.search(j,i.get('text').lower()):\n",
    "                midcount1+=1\n",
    "                i['ner']=\"HALD_MICRORNA\"\n",
    "                i['type']=\"RNA\"\n",
    "                i['specific_type']=\"MICRORNA\"\n",
    "                filtered_pubtator_RNAs.append(i)\n",
    "                break\n",
    "            elif re.search(r'linc\\d{5}',i.get('text').lower()):\n",
    "                midcount2+=1\n",
    "                i['ner']=\"HALD_LINCRNA\"\n",
    "                i['type']=\"RNA\"\n",
    "                i['specific_type']=\"LINCRNA\"\n",
    "                filtered_pubtator_RNAs.append(i)\n",
    "                break\n",
    "        else:\n",
    "            drop_RNAs.append(i)"
   ]
  },
  {
   "cell_type": "code",
   "execution_count": 143,
   "id": "70de38b7-1168-474b-951b-85bf57c5bd57",
   "metadata": {},
   "outputs": [
    {
     "name": "stdout",
     "output_type": "stream",
     "text": [
      "9\n",
      "0\n"
     ]
    }
   ],
   "source": [
    "print(midcount1)\n",
    "print(midcount2)"
   ]
  },
  {
   "cell_type": "code",
   "execution_count": 144,
   "id": "311ccd3a-1ce1-4f42-9b53-ace501b8ee4b",
   "metadata": {},
   "outputs": [
    {
     "data": {
      "text/plain": [
       "2"
      ]
     },
     "execution_count": 144,
     "metadata": {},
     "output_type": "execute_result"
    }
   ],
   "source": [
    "len(drop_RNAs)"
   ]
  },
  {
   "cell_type": "code",
   "execution_count": 145,
   "id": "812ddfe7-7695-452a-b491-1ff28c1d6eef",
   "metadata": {},
   "outputs": [],
   "source": [
    "filtered_pubtator_genes_pmid2word={}\n",
    "for i in filtered_pubtator_RNAs:\n",
    "    filtered_pubtator_genes_pmid2word[i.get('id')]=filtered_pubtator_genes_pmid2word.get(i.get('id'),[])+[i.get('text')]"
   ]
  },
  {
   "cell_type": "code",
   "execution_count": 146,
   "id": "0cac77c6-4463-48f9-ac8e-77b817544dbe",
   "metadata": {},
   "outputs": [
    {
     "data": {
      "text/plain": [
       "9"
      ]
     },
     "execution_count": 146,
     "metadata": {},
     "output_type": "execute_result"
    }
   ],
   "source": [
    "len(filtered_pubtator_genes_pmid2word)"
   ]
  },
  {
   "cell_type": "code",
   "execution_count": 147,
   "id": "7f52f6e8-329c-43dc-b954-49b479f28265",
   "metadata": {},
   "outputs": [],
   "source": [
    "# based on dict. Whether in pubtator\n",
    "RNA_entities_list=[]\n",
    "for i in entities_dict_list:\n",
    "    if filtered_pubtator_genes_pmid2word.get(i.get('PMID')):\n",
    "        if i.get('word') not in filtered_pubtator_genes_pmid2word.get(i.get('PMID')):\n",
    "            RNA_entities_list.append(i)\n",
    "    else:\n",
    "        RNA_entities_list.append(i)"
   ]
  },
  {
   "cell_type": "code",
   "execution_count": 148,
   "id": "601c6658-5b94-4807-ad66-866f48a40fdd",
   "metadata": {},
   "outputs": [
    {
     "data": {
      "text/plain": [
       "35"
      ]
     },
     "execution_count": 148,
     "metadata": {},
     "output_type": "execute_result"
    }
   ],
   "source": [
    "len(RNA_entities_list)"
   ]
  },
  {
   "cell_type": "code",
   "execution_count": 149,
   "id": "d633c123-707c-4cf5-8271-7d0632e6ec29",
   "metadata": {},
   "outputs": [
    {
     "data": {
      "text/plain": [
       "58"
      ]
     },
     "execution_count": 149,
     "metadata": {},
     "output_type": "execute_result"
    }
   ],
   "source": [
    "len(entities_dict_list)"
   ]
  },
  {
   "cell_type": "code",
   "execution_count": 150,
   "id": "e782fbd6-e6c3-4e8c-b064-ef08455be848",
   "metadata": {},
   "outputs": [
    {
     "data": {
      "text/plain": [
       "{'word': 'miR-29',\n",
       " 'wordBegin': 897914,\n",
       " 'wordEnd': 897920,\n",
       " 'sentenceBegin': 897872,\n",
       " 'sentenceEnd': 898000,\n",
       " 'sentence': 'The results displayed an up-regulation of miR-29 and miR-96 and a down-regulation of miR-146 in EVs derived from elderly donors.',\n",
       " 'ner': 'HALD_MICRORNA',\n",
       " 'PMID': '36921675',\n",
       " 'AB': 'Blood donor age has become a major concern due to the age-associated variations in the content and concentration of circulating extracellular nano-sized vesicles (EVs), including exosomes. These EVs mirror the state of their parental cells and transfer it to the recipient cells via biological messengers such as microRNAs (miRNAs, miRs). Since the behavior of hematopoietic stem cells (HSCs) is potentially affected by the miRs of plasma-derived EVs, a better understanding of the content of EVs is important for the safety and efficacy perspectives in blood transfusion medicine. Herein, we investigated whether the plasma-derived EVs of young (18-25 years) and elderly human donors (45-60 years) can deliver \"youth\" or \"aging\" signals into human umbilical cord blood (hUCB)-derived HSCs in vitro. The results showed that EVs altered the growth functionality and differentiation of HSCs depending on the age of the donor from which they are derived. EVs of young donors could ameliorate the proliferation and self-renewal potential of HSCs whereas those of aged donors induced senescence-associated differentiation in the target cells, particularly toward the myeloid lineage. These findings were confirmed by flow cytometric analysis of surface markers and microarray profiling of genes related to stemness (e.g., SOX-1, Nanog) and differentiation (e.g., PU-1). The results displayed an up-regulation of miR-29 and miR-96 and a down-regulation of miR-146 in EVs derived from elderly donors. The higher expression of miR-29 and miR-96 contributed to the diminished expression of CDK-6 and CDKN1A (p21), promoting senescence fate via cell growth suppression, while the lower expression of miR-146 positively regulates TRAF-6 expression to accelerate biological aging. Our findings reveal that plasma-derived EVs from young donors can reverse the aging-associated changes in HSCs, while vice versa, the EVs from elderly donors rather promote the senescence process.'}"
      ]
     },
     "execution_count": 150,
     "metadata": {},
     "output_type": "execute_result"
    }
   ],
   "source": [
    "RNA_entities_list[11]"
   ]
  },
  {
   "cell_type": "code",
   "execution_count": 151,
   "id": "cc380212-8a84-4521-a2ed-9da3d07cef52",
   "metadata": {},
   "outputs": [],
   "source": [
    "for i in RNA_entities_list:\n",
    "    i['type']='RNA'\n",
    "    i['specific_type']=i.get('ner')[5:]"
   ]
  },
  {
   "cell_type": "code",
   "execution_count": 152,
   "id": "99682332-69ba-41bb-85cb-c775a5413c02",
   "metadata": {},
   "outputs": [],
   "source": [
    "RNAdict=json.load(open('../dict/RNAdict.json','r'))"
   ]
  },
  {
   "cell_type": "code",
   "execution_count": 153,
   "id": "4e68f497-951b-40e0-b894-fafcb6b73b57",
   "metadata": {},
   "outputs": [],
   "source": [
    "RNAdict_lower={}\n",
    "for i,j in RNAdict.items():\n",
    "    RNAdict_lower[i.lower()]=RNAdict_lower.get(i.lower(),[])+j\n",
    "    RNAdict_lower[i.lower()]=list(set(RNAdict_lower.get(i.lower())))"
   ]
  },
  {
   "cell_type": "code",
   "execution_count": 154,
   "id": "a9d212a5-4201-46ac-865b-109f1aa1fe0d",
   "metadata": {},
   "outputs": [],
   "source": [
    "cccc=0\n",
    "final_RNA_entities_list=[]\n",
    "drop_RNA_entities_list=[]\n",
    "for i in RNA_entities_list:\n",
    "    if RNAdict_lower.get(i.get('word').lower()):\n",
    "        for j in RNAdict_lower.get(i.get('word').lower()):\n",
    "            i['entity']=j\n",
    "            final_RNA_entities_list.append(i)\n",
    "    elif re.search(r'-[3,5]p',i.get('word')):\n",
    "            if RNAdict_lower.get(re.sub(r'-[3,5]p','',i.get('word'))):\n",
    "                for j in RNAdict_lower.get(re.sub(r'-[3,5]p','',i.get('word'))):\n",
    "                    i['entity']=j\n",
    "                    final_RNA_entities_list.append(i)\n",
    "                    cccc+=1\n",
    "    else:\n",
    "        drop_RNA_entities_list.append(i)"
   ]
  },
  {
   "cell_type": "code",
   "execution_count": 155,
   "id": "591a5020-3546-4757-8940-3e6adbd4d8be",
   "metadata": {},
   "outputs": [
    {
     "data": {
      "text/plain": [
       "7"
      ]
     },
     "execution_count": 155,
     "metadata": {},
     "output_type": "execute_result"
    }
   ],
   "source": [
    "len(final_RNA_entities_list)"
   ]
  },
  {
   "cell_type": "code",
   "execution_count": 156,
   "id": "dae8ffb5-de89-4da3-85de-d648327d3f75",
   "metadata": {},
   "outputs": [
    {
     "data": {
      "text/plain": [
       "8"
      ]
     },
     "execution_count": 156,
     "metadata": {},
     "output_type": "execute_result"
    }
   ],
   "source": [
    "len(drop_RNA_entities_list)"
   ]
  },
  {
   "cell_type": "code",
   "execution_count": 157,
   "id": "9ba98668-2de1-412e-8f50-952e0d6c1a29",
   "metadata": {},
   "outputs": [
    {
     "data": {
      "text/plain": [
       "{'word': 'miR-128',\n",
       " 'wordBegin': 518364,\n",
       " 'wordEnd': 518371,\n",
       " 'sentenceBegin': 518288,\n",
       " 'sentenceEnd': 518399,\n",
       " 'sentence': 'These findings confirmed our previously reported finding and suggested that miR-128 may be a target of HIV/SIV.',\n",
       " 'ner': 'HALD_MICRORNA',\n",
       " 'PMID': '36992331',\n",
       " 'AB': 'Background: This is Manuscript 1 of a two-part Manuscript of the same series. Here, we present findings from our first set of studies on the abundance and compartmentalization of blood plasma extracellular microRNAs (exmiRNAs) into extracellular particles, including blood plasma extracellular vesicles (EVs) and extracellular condensates (ECs) in the setting of untreated HIV/SIV infection. The goals of the study presented in this Manuscript 1 are to (i) assess the abundance and compartmentalization of exmiRNAs in EVs versus ECs in the healthy uninfected state, and (ii) evaluate how SIV infection may affect exmiRNA abundance and compartmentalization in these particles. Considerable effort has been devoted to studying the epigenetic control of viral infection, particularly in understanding the role of exmiRNAs as key regulators of viral pathogenesis. MicroRNA (miRNAs) are small (~20-22 nts) non-coding RNAs that regulate cellular processes through targeted mRNA degradation and/or repression of protein translation. Originally associated with the cellular microenvironment, circulating miRNAs are now known to be present in various extracellular environments, including blood serum and plasma. While in circulation, miRNAs are protected from degradation by ribonucleases through their association with lipid and protein carriers, such as lipoproteins and other extracellular particles-EVs and ECs. Functionally, miRNAs play important roles in diverse biological processes and diseases (cell proliferation, differentiation, apoptosis, stress responses, inflammation, cardiovascular diseases, cancer, aging, neurological diseases, and HIV/SIV pathogenesis). While lipoproteins and EV-associated exmiRNAs have been characterized and linked to various disease processes, the association of exmiRNAs with ECs is yet to be made. Likewise, the effect of SIV infection on the abundance and compartmentalization of exmiRNAs within extracellular particles is unclear. Literature in the EV field has suggested that most circulating miRNAs may not be associated with EVs. However, a systematic analysis of the carriers of exmiRNAs has not been conducted due to the inefficient separation of EVs from other extracellular particles, including ECs. Methods: Paired EVs and ECs were separated from EDTA blood plasma of SIV-uninfected male Indian rhesus macaques (RMs, n = 15). Additionally, paired EVs and ECs were isolated from EDTA blood plasma of combination anti-retroviral therapy (cART) naive SIV-infected (SIV+, n = 3) RMs at two time points (1- and 5-months post infection, 1 MPI and 5 MPI). Separation of EVs and ECs was achieved with PPLC, a state-of-the-art, innovative technology equipped with gradient agarose bead sizes and a fast fraction collector that allows high-resolution separation and retrieval of preparative quantities of sub-populations of extracellular particles. Global miRNA profiles of the paired EVs and ECs were determined with RealSeq Biosciences (Santa Cruz, CA) custom sequencing platform by conducting small RNA (sRNA)-seq. The sRNA-seq data were analyzed using various bioinformatic tools. Validation of key exmiRNAs was performed using specific TaqMan microRNA stem-loop RT-qPCR assays. Results: We showed that exmiRNAs in blood plasma are not restricted to any type of extracellular particles but are associated with lipid-based carriers-EVs and non-lipid-based carriers-ECs, with a significant (~30%) proportion of the exmiRNAs being associated with ECs. In the blood plasma of uninfected RMs, a total of 315 miRNAs were associated with EVs, while 410 miRNAs were associated with ECs. A comparison of detectable miRNAs within paired EVs and ECs revealed 19 and 114 common miRNAs, respectively, detected in all 15 RMs. Let-7a-5p, Let-7c-5p, miR-26a-5p, miR-191-5p, and let-7f-5p were among the top 5 detectable miRNAs associated with EVs in that order. In ECs, miR-16-5p, miR-451, miR-191-5p, miR-27a-3p, and miR-27b-3p, in that order, were the top detectable miRNAs in ECs. miRNA-target enrichment analysis of the top 10 detected common EV and EC miRNAs identified MYC and TNPO1 as top target genes, respectively. Functional enrichment analysis of top EV- and EC-associated miRNAs identified common and distinct gene-network signatures associated with various biological and disease processes. Top EV-associated miRNAs were implicated in cytokine-cytokine receptor interactions, Th17 cell differentiation, IL-17 signaling, inflammatory bowel disease, and glioma. On the other hand, top EC-associated miRNAs were implicated in lipid and atherosclerosis, Th1 and Th2 cell differentiation, Th17 cell differentiation, and glioma. Interestingly, infection of RMs with SIV revealed that the brain-enriched miR-128-3p was longitudinally and significantly downregulated in EVs, but not ECs. This SIV-mediated decrease in miR-128-3p counts was validated by specific TaqMan microRNA stem-loop RT-qPCR assay. Remarkably, the observed SIV-mediated decrease in miR-128-3p levels in EVs from RMs agrees with publicly available EV miRNAome data by Kaddour et al., 2021, which showed that miR-128-3p levels were significantly lower in semen-derived EVs from HIV-infected men who used or did not use cocaine compared to HIV-uninfected individuals. These findings confirmed our previously reported finding and suggested that miR-128 may be a target of HIV/SIV. Conclusions: In the present study, we used sRNA sequencing to provide a holistic understanding of the repertoire of circulating exmiRNAs and their association with extracellular particles, such as EVs and ECs. Our data also showed that SIV infection altered the profile of the miRNAome of EVs and revealed that miR-128-3p may be a potential target of HIV/SIV. The significant decrease in miR-128-3p in HIV-infected humans and in SIV-infected RMs may indicate disease progression. Our study has important implications for the development of biomarker approaches for various types of cancer, cardiovascular diseases, organ injury, and HIV based on the capture and analysis of circulating exmiRNAs.',\n",
       " 'type': 'RNA',\n",
       " 'specific_type': 'MICRORNA'}"
      ]
     },
     "execution_count": 157,
     "metadata": {},
     "output_type": "execute_result"
    }
   ],
   "source": [
    "drop_RNA_entities_list[0]"
   ]
  },
  {
   "cell_type": "code",
   "execution_count": 158,
   "id": "2f1d56ba-fcac-4ec3-812a-e6668e496be4",
   "metadata": {},
   "outputs": [],
   "source": [
    "for i in filtered_pubtator_RNAs:\n",
    "    i['PMID']=i.get('id')\n",
    "    i['word']=i.get('text')"
   ]
  },
  {
   "cell_type": "code",
   "execution_count": 159,
   "id": "4fbc3fd3-0eb9-4809-a447-22a34eda4e08",
   "metadata": {},
   "outputs": [],
   "source": [
    "final_RNA=filtered_pubtator_RNAs+final_RNA_entities_list"
   ]
  },
  {
   "cell_type": "code",
   "execution_count": 160,
   "id": "d5a528f1-179e-4851-a3bb-e0864c4d68eb",
   "metadata": {},
   "outputs": [
    {
     "data": {
      "text/plain": [
       "33"
      ]
     },
     "execution_count": 160,
     "metadata": {},
     "output_type": "execute_result"
    }
   ],
   "source": [
    "len(final_RNA)"
   ]
  },
  {
   "cell_type": "code",
   "execution_count": 161,
   "id": "1a292b11-7498-45eb-9783-09ed4c47afae",
   "metadata": {},
   "outputs": [],
   "source": [
    "RNAs_inte_copy=copy.deepcopy(final_RNA)"
   ]
  },
  {
   "cell_type": "code",
   "execution_count": 162,
   "id": "95dae2dd-b5c9-42c6-a3c3-760a687a2265",
   "metadata": {},
   "outputs": [],
   "source": [
    "deduplicated_RNA=set()\n",
    "deduplicated_RNA_count=0\n",
    "RNA_list_raw=[]\n",
    "for i in RNAs_inte_copy:\n",
    "    k=i.get('PMID')\n",
    "    i['DP']=rawpickwithAB.get(k).get('DP')\n",
    "    i['AB']=rawpickwithAB.get(k).get('AB')\n",
    "    i['JT']=rawpickwithAB.get(k).get('JT')\n",
    "    i['URL']='https://pubmed.ncbi.nlm.nih.gov/'+k\n",
    "    i['TI']=rawpickwithAB.get(k).get('TI')\n",
    "    i['target']=i.get('word')\n",
    "    tuples=(i.get(\"PMID\"),i.get(\"entity\"),i.get(\"word\"),i.get(\"sentence\"))\n",
    "    if tuples not in deduplicated_RNA:\n",
    "        deduplicated_RNA.add(tuples)\n",
    "        RNA_list_raw.append(i)\n",
    "    else:\n",
    "        deduplicated_RNA_count+=1\n",
    "        continue"
   ]
  },
  {
   "cell_type": "code",
   "execution_count": 163,
   "id": "733e1c8e-dbc2-4d93-9008-ea2eed0b0087",
   "metadata": {},
   "outputs": [
    {
     "data": {
      "text/plain": [
       "32"
      ]
     },
     "execution_count": 163,
     "metadata": {},
     "output_type": "execute_result"
    }
   ],
   "source": [
    "len(RNA_list_raw)"
   ]
  },
  {
   "cell_type": "code",
   "execution_count": 164,
   "id": "b222f814-f248-40e1-b037-5cde48ca7e8c",
   "metadata": {},
   "outputs": [],
   "source": [
    "RNA2blank={}\n",
    "for i in RNA_list_raw:\n",
    "    RNA2blank[i.get('entity')]=''"
   ]
  },
  {
   "cell_type": "code",
   "execution_count": 165,
   "id": "a3bd4654-c838-4ea0-ac26-5277f66d3120",
   "metadata": {},
   "outputs": [
    {
     "data": {
      "text/plain": [
       "12"
      ]
     },
     "execution_count": 165,
     "metadata": {},
     "output_type": "execute_result"
    }
   ],
   "source": [
    "len(RNA2blank)"
   ]
  },
  {
   "cell_type": "code",
   "execution_count": 166,
   "id": "d87b1ee0-606b-49f8-80f3-813eb6ae73f5",
   "metadata": {},
   "outputs": [],
   "source": [
    "RNA_converter=pickle.load(open('../ncbi/RNA_converter.pkl','rb'))"
   ]
  },
  {
   "cell_type": "code",
   "execution_count": 167,
   "id": "8f0f5a4b-6148-4f0d-825c-c8d2894c5538",
   "metadata": {},
   "outputs": [
    {
     "data": {
      "text/plain": [
       "344"
      ]
     },
     "execution_count": 167,
     "metadata": {},
     "output_type": "execute_result"
    }
   ],
   "source": [
    "len(RNA_converter)"
   ]
  },
  {
   "cell_type": "code",
   "execution_count": 168,
   "id": "8a16128a-3be9-4c00-b293-636e2c3c5207",
   "metadata": {},
   "outputs": [],
   "source": [
    "def get_RNA_info(i,final_RNAs_inte):\n",
    "    ncbiid=RNA2ncbi_dict.get(i)\n",
    "    ncbiurl='https://www.ncbi.nlm.nih.gov/gene/' + ncbiid\n",
    "    headers = {\n",
    "        \"User-Agent\": \"Mozilla/5.0 (Windows NT 10.0; Win64; x64) AppleWebKit/537.36 \\\n",
    "        (KHTML, like Gecko) Chrome/83.0.4103.97 Safari/537.36\"\n",
    "    }\n",
    "    url = 'https://www.ncbi.nlm.nih.gov/gene/'+ncbiid\n",
    "    res=requests.get(url=url,headers=headers)\n",
    "    html = etree.HTML(res.content)\n",
    "    ncbisummary={\n",
    "    'Official_Symbol' : html.xpath('//*[@id=\"summaryDl\"]/dt[contains(.//text(),\"Official\")]/following::dd[1]/text()')[0],\n",
    "    'Official_Full_Name' : html.xpath('//*[@id=\"summaryDl\"]/dt[contains(.//text(),\"Official\")]/following::dd[1]/text()')[1],\n",
    "    'HGNC_ID' : ''.join(html.xpath('//*[@id=\"summaryDl\"]/dt[contains(.//text(),\"Primary source\")]/following::dd[1]/a/text()')),\n",
    "    'HGNC_URL' : ''.join(html.xpath('//*[@id=\"summaryDl\"]/dt[contains(.//text(),\"Primary source\")]/following::dd[1]/a/@href')),\n",
    "    'Ensembl_ID' :  ''.join(html.xpath('//*[@id=\"summaryDl\"]/dt[contains(.//text(),\"See related\")]/following::dd[1]/a[1]/text()')),\n",
    "    'Ensembl_URL' : ''.join(html.xpath('//*[@id=\"summaryDl\"]/dt[contains(.//text(),\"See related\")]/following::dd[1]/a[1]/@href')),\n",
    "    'MIM_ID' : ''.join(html.xpath('//*[@id=\"summaryDl\"]/dt[contains(.//text(),\"See related\")]/following::dd[1]/a[2]/text()')),\n",
    "    'MIM_URL' : ''.join(html.xpath('//*[@id=\"summaryDl\"]/dt[contains(.//text(),\"See related\")]/following::dd[1]/a[2]/@href')),\n",
    "    'AllianceGenome_ID' : ''.join(html.xpath('//*[@id=\"summaryDl\"]/dt[contains(.//text(),\"See related\")]/following::dd[1]/a[3]/text()')),\n",
    "    'AllianceGenome_URL' : ''.join(html.xpath('//*[@id=\"summaryDl\"]/dt[contains(.//text(),\"See related\")]/following::dd[1]/a[3]/@href')),\n",
    "    'NCBI_ID' : ncbiid ,\n",
    "    'NCBI_URL' : ncbiurl\n",
    "    }\n",
    "    try:\n",
    "        also=''.join(html.xpath('//*[@id=\"summaryDl\"]/dt[contains(.//text(),\"Also known as\")]/following::dd[1]/text()')).replace('HGNC:HGNC:','')\n",
    "    except:\n",
    "        also=''\n",
    "    finally:\n",
    "        ncbisummary.update({'Also_known_as' : also})\n",
    "    try:\n",
    "        also2=''.join(html.xpath('//*[@id=\"summaryDl\"]/dt[contains(.//text(),\"Summary\")]/following::dd[1]/text()'))\n",
    "    except:\n",
    "        also2=''\n",
    "    finally:\n",
    "        ncbisummary.update({'Summary' : also2})\n",
    "    final_RNAs_inte[i]=ncbisummary\n",
    "    time.sleep(0.5)"
   ]
  },
  {
   "cell_type": "code",
   "execution_count": 169,
   "id": "0b34c47c-9a58-4ef4-b916-34208bba60c7",
   "metadata": {},
   "outputs": [],
   "source": [
    "judge=False\n",
    "p = Pool(10)\n",
    "manager=Manager()\n",
    "final_RNAs_inte = manager.dict()\n",
    "for i in RNA2blank.keys():\n",
    "    if not RNA_converter.get(i):\n",
    "        p.apply_async(get_RNA_info, args=(i,final_RNAs_inte))\n",
    "        judge=True\n",
    "p.close()\n",
    "p.join()\n",
    "if judge:\n",
    "    RNA_converter.update(dict(final_RNAs_inte))\n",
    "    pickle.dump(RNA_converter, open('../ncbi/RNA_converter.pkl','wb'))"
   ]
  },
  {
   "cell_type": "code",
   "execution_count": 170,
   "id": "c935154c-317c-4eaf-9f2f-b5111750f399",
   "metadata": {},
   "outputs": [
    {
     "data": {
      "text/plain": [
       "350"
      ]
     },
     "execution_count": 170,
     "metadata": {},
     "output_type": "execute_result"
    }
   ],
   "source": [
    "len(RNA_converter)"
   ]
  },
  {
   "cell_type": "code",
   "execution_count": 171,
   "id": "f7230489-f864-4eaa-9ba8-66c2fdfb40ac",
   "metadata": {},
   "outputs": [],
   "source": [
    "for i in range(len(RNA_list_raw)):\n",
    "    RNA_list_raw[i]=dict(RNA_list_raw[i],**RNA_converter.get(RNA_list_raw[i].get('entity')))"
   ]
  },
  {
   "cell_type": "code",
   "execution_count": 172,
   "id": "68ff624a-77fd-4767-9487-37cd1b997048",
   "metadata": {},
   "outputs": [],
   "source": [
    "dropout=[]\n",
    "months=['Jan','Feb','Mar','Apr','May','Jun','Jul','Aug','Sep','Oct','Nov','Dec']\n",
    "for i in RNA_list_raw:\n",
    "    j=i.get('DP')\n",
    "    if re.search('[S,s]upplement',j,flags=re.M|re.I):\n",
    "        j=re.sub('[S,s]upplement.*','',j,flags=re.M|re.I)\n",
    "    j=re.sub('\\s?-\\s?','-',j)\n",
    "    j=re.sub('\\.','',j)\n",
    "    j=re.sub('Aout','Aug',j)\n",
    "    if len(j.split(' '))==3:\n",
    "        try:\n",
    "            date=int(datetime.datetime.strftime(datetime.datetime.strptime(j,'%Y %b %d'), '%Y%m%d'))\n",
    "        except:\n",
    "            if j.split()[1] in months:\n",
    "                if re.search(r'\\d+',j.split()[2],flags=re.M|re.I):\n",
    "                    j=j.split()[0]+' '+j.split()[1]+' '+ re.search(r'\\d+',j.split()[2],flags=re.M|re.I).group()\n",
    "                    try:\n",
    "                        date=int(datetime.datetime.strftime(datetime.datetime.strptime(j,'%Y %b %d'), '%Y%m%d'))\n",
    "                    except:\n",
    "                        j=j[:4]\n",
    "                        date=int(datetime.datetime.strftime(datetime.datetime.strptime(j,'%Y'), '%Y'+'0101'))\n",
    "                        print('***************************************ERROR**********************************************')\n",
    "                else:\n",
    "                    j=j.split()[0]+' '+j.split()[1]+' '+ '1'\n",
    "                    try:\n",
    "                        date=int(datetime.datetime.strftime(datetime.datetime.strptime(j,'%Y %b %d'), '%Y%m%d'))\n",
    "                    except:\n",
    "                        print(j)\n",
    "                        j=j[:4]\n",
    "                        date=int(datetime.datetime.strftime(datetime.datetime.strptime(j,'%Y'), '%Y'+'0101'))\n",
    "            elif j.split()[1] not in months:\n",
    "                if re.search(r'([a-zA-Z]+)[-/]([a-zA-Z]+)',j.split()[1],flags=re.M|re.I) or re.search(r'([a-zA-Z]+)[-/](\\d+)',j.split()[1],flags=re.M|re.I):\n",
    "                    if re.search(r'([a-zA-Z]+)[-/]([a-zA-Z]+)',j.split()[1],flags=re.M|re.I):\n",
    "                        middle=re.search(r'([a-zA-Z]+)[-/]([a-zA-Z]+)',j.split()[1],flags=re.M|re.I).group(1)\n",
    "                    else:\n",
    "                        middle=re.search(r'([a-zA-Z]+)[-/](\\d+)',j.split()[1],flags=re.M|re.I).group(1)\n",
    "                    if middle in months:\n",
    "                        if re.search(r'\\d+',j.split()[2],flags=re.M|re.I):\n",
    "                            j=j.split()[0]+' '+middle+' '+ re.search(r'\\d+',j.split()[2],flags=re.M|re.I).group()\n",
    "                        else:\n",
    "                            j=j.split()[0]+' '+middle+' '+ '1'\n",
    "                    elif re.match(r'Sum(mer)?',middle):\n",
    "                        if re.search(r'\\d+',j.split()[2],flags=re.M|re.I):\n",
    "                            j=j.split()[0]+' '+'Jun'+' '+ re.search(r'\\d+',j.split()[2],flags=re.M|re.I).group()\n",
    "                        else:\n",
    "                            j=j.split()[0]+' '+'Jun'+' '+ '1'\n",
    "                    elif re.match(r'Spr(ing)?',middle):\n",
    "                        if re.search(r'\\d+',j.split()[2],flags=re.M|re.I):\n",
    "                            j=j.split()[0]+' '+'Mar'+' '+ re.search(r'\\d+',j.split()[2],flags=re.M|re.I).group()\n",
    "                        else:\n",
    "                            j=j.split()[0]+' '+'Mar'+' '+ '1'\n",
    "                    elif re.match(r'Win(ter)?',middle):\n",
    "                        if re.search(r'\\d+',j.split()[2],flags=re.M|re.I):\n",
    "                            j=j.split()[0]+' '+'Dec'+' '+ re.search(r'\\d+',j.split()[2],flags=re.M|re.I).group()\n",
    "                        else:\n",
    "                            j=j.split()[0]+' '+'Dec'+' '+ '1'    \n",
    "                    elif re.match(r'Aut(umn)?',middle) or \\\n",
    "                    re.match(r'Fall',middle):\n",
    "                        if re.search(r'\\d+',j.split()[2],flags=re.M|re.I):\n",
    "                            j=j.split()[0]+' '+'Sep'+' '+ re.search(r'\\d+',j.split()[2],flags=re.M|re.I).group()\n",
    "                        else:\n",
    "                            j=j.split()[0]+' '+'Sep'+' '+ '1'      \n",
    "                    try:\n",
    "                        date=int(datetime.datetime.strftime(datetime.datetime.strptime(j,'%Y %b %d'), '%Y%m%d'))\n",
    "                    except:\n",
    "                        print(j)\n",
    "                        j=j[:4]\n",
    "                        date=int(datetime.datetime.strftime(datetime.datetime.strptime(j,'%Y'), '%Y'+'0101'))\n",
    "                else:\n",
    "                    j=j[:4]\n",
    "                    date=int(datetime.datetime.strftime(datetime.datetime.strptime(j,'%Y'), '%Y'+'0101'))\n",
    "    elif len(j.split())==2:\n",
    "        if re.match(r'Sum(mer)?',j.split()[1]):\n",
    "            date=int(j[:4]+'0601')\n",
    "        elif re.match(r'Spr(ing)?',j.split()[1]):\n",
    "            date=int(j[:4]+'0301')\n",
    "        elif re.match(r'Win(ter)?',j.split()[1]):\n",
    "            date=int(j[:4]+'1201')\n",
    "        elif re.match(r'Aut(umn)?',j.split()[1]) or re.match(r'Fall',j.split()[1]):\n",
    "            date=int(j[:4]+'0901')\n",
    "        elif re.match(r'Sum(mer)?',j.split()[0]):\n",
    "            date=int(j[-4:]+'0601')\n",
    "        elif re.match(r'Spr(ing)?',j.split()[0]):\n",
    "            date=int(j[-4:]+'0301')\n",
    "        elif re.match(r'Win(ter)?',j.split()[0]):\n",
    "            date=int(j[-4:]+'1201')\n",
    "        elif re.match(r'Aut(umn)?',j.split()[0]) or re.match(r'Fall',j.split()[0]):\n",
    "            date=int(j[-4:]+'0901')\n",
    "        else:\n",
    "            try:\n",
    "                date=int(datetime.datetime.strftime(datetime.datetime.strptime(j,'%Y %b'), '%Y%m'+'01'))\n",
    "            except:\n",
    "                if re.search(r'([a-zA-Z]+)[-/]([a-zA-Z]+)',j.split()[1],flags=re.M|re.I) or re.search(r'([a-zA-Z]+)[-/](\\d+)',j.split()[1],flags=re.M|re.I):\n",
    "                    if re.search(r'([a-zA-Z]+)[-/]([a-zA-Z]+)',j.split()[1],flags=re.M|re.I):\n",
    "                        middle=re.search(r'([a-zA-Z]+)[-/]([a-zA-Z]+)',j.split()[1],flags=re.M|re.I).group(1)\n",
    "                    else:\n",
    "                        middle=re.search(r'([a-zA-Z]+)[-/](\\d+)',j.split()[1],flags=re.M|re.I).group(1)\n",
    "                    if middle in months:\n",
    "                        j=j.split()[0]+' '+middle+' '+ '1'\n",
    "                    elif re.match(r'Sum(mer)?',middle):\n",
    "                        j=j.split()[0]+' '+'Jun'+' '+ '1'\n",
    "                    elif re.match(r'Spr(ing)?',middle):\n",
    "                        j=j.split()[0]+' '+'Mar'+' '+ '1'\n",
    "                    elif re.match(r'Win(ter)?',middle):\n",
    "                        j=j.split()[0]+' '+'Dec'+' '+ '1'    \n",
    "                    elif re.match(r'Aut(umn)?',middle) or \\\n",
    "                    re.match(r'Fall',middle):\n",
    "                        j=j.split()[0]+' '+'Sep'+' '+ '1'      \n",
    "                    try:\n",
    "                        date=int(datetime.datetime.strftime(datetime.datetime.strptime(j,'%Y %b %d'), '%Y%m%d'))\n",
    "                    except:\n",
    "                        j=j[:4]\n",
    "                        date=int(datetime.datetime.strftime(datetime.datetime.strptime(j,'%Y'), '%Y'+'0101'))\n",
    "                elif re.search(r'(\\d+)[-/](\\d+)',j.split()[1],flags=re.M|re.I):\n",
    "                    midd=re.search(r'(\\d+)[-/](\\d+)',j.split()[1],flags=re.M|re.I).group(1)\n",
    "                    if len(midd)!=2:\n",
    "                        midd='0'+midd\n",
    "                    j=j[:4]\n",
    "                    date=int(datetime.datetime.strftime(datetime.datetime.strptime(j,'%Y'), '%Y'+midd+'01'))\n",
    "                else:\n",
    "                    print(j)\n",
    "                    j=j[:4]\n",
    "                    date=int(datetime.datetime.strftime(datetime.datetime.strptime(j,'%Y'), '%Y'+'0101'))\n",
    "    elif len(j.split())==1:\n",
    "        j=j[:4]\n",
    "        date=int(datetime.datetime.strftime(datetime.datetime.strptime(j,'%Y'), '%Y'+'0101'))\n",
    "    else:\n",
    "        j=j.split()[0]+' '+j.split()[1]+' '+re.search(r'\\d+',j.split()[2],flags=re.M|re.I).group()\n",
    "        date=int(datetime.datetime.strftime(datetime.datetime.strptime(j,'%Y %b %d'), '%Y%m%d'))\n",
    "    i['date']=date\n",
    "    i['year']=int(str(i.get('date'))[:4])"
   ]
  },
  {
   "cell_type": "code",
   "execution_count": 173,
   "id": "e1d1118a-64f0-4b9f-83e0-ebde9ca35142",
   "metadata": {},
   "outputs": [
    {
     "data": {
      "text/plain": [
       "{'id': '36992331',\n",
       " 'AB': 'Background: This is Manuscript 1 of a two-part Manuscript of the same series. Here, we present findings from our first set of studies on the abundance and compartmentalization of blood plasma extracellular microRNAs (exmiRNAs) into extracellular particles, including blood plasma extracellular vesicles (EVs) and extracellular condensates (ECs) in the setting of untreated HIV/SIV infection. The goals of the study presented in this Manuscript 1 are to (i) assess the abundance and compartmentalization of exmiRNAs in EVs versus ECs in the healthy uninfected state, and (ii) evaluate how SIV infection may affect exmiRNA abundance and compartmentalization in these particles. Considerable effort has been devoted to studying the epigenetic control of viral infection, particularly in understanding the role of exmiRNAs as key regulators of viral pathogenesis. MicroRNA (miRNAs) are small (~20-22 nts) non-coding RNAs that regulate cellular processes through targeted mRNA degradation and/or repression of protein translation. Originally associated with the cellular microenvironment, circulating miRNAs are now known to be present in various extracellular environments, including blood serum and plasma. While in circulation, miRNAs are protected from degradation by ribonucleases through their association with lipid and protein carriers, such as lipoproteins and other extracellular particles-EVs and ECs. Functionally, miRNAs play important roles in diverse biological processes and diseases (cell proliferation, differentiation, apoptosis, stress responses, inflammation, cardiovascular diseases, cancer, aging, neurological diseases, and HIV/SIV pathogenesis). While lipoproteins and EV-associated exmiRNAs have been characterized and linked to various disease processes, the association of exmiRNAs with ECs is yet to be made. Likewise, the effect of SIV infection on the abundance and compartmentalization of exmiRNAs within extracellular particles is unclear. Literature in the EV field has suggested that most circulating miRNAs may not be associated with EVs. However, a systematic analysis of the carriers of exmiRNAs has not been conducted due to the inefficient separation of EVs from other extracellular particles, including ECs. Methods: Paired EVs and ECs were separated from EDTA blood plasma of SIV-uninfected male Indian rhesus macaques (RMs, n = 15). Additionally, paired EVs and ECs were isolated from EDTA blood plasma of combination anti-retroviral therapy (cART) naive SIV-infected (SIV+, n = 3) RMs at two time points (1- and 5-months post infection, 1 MPI and 5 MPI). Separation of EVs and ECs was achieved with PPLC, a state-of-the-art, innovative technology equipped with gradient agarose bead sizes and a fast fraction collector that allows high-resolution separation and retrieval of preparative quantities of sub-populations of extracellular particles. Global miRNA profiles of the paired EVs and ECs were determined with RealSeq Biosciences (Santa Cruz, CA) custom sequencing platform by conducting small RNA (sRNA)-seq. The sRNA-seq data were analyzed using various bioinformatic tools. Validation of key exmiRNAs was performed using specific TaqMan microRNA stem-loop RT-qPCR assays. Results: We showed that exmiRNAs in blood plasma are not restricted to any type of extracellular particles but are associated with lipid-based carriers-EVs and non-lipid-based carriers-ECs, with a significant (~30%) proportion of the exmiRNAs being associated with ECs. In the blood plasma of uninfected RMs, a total of 315 miRNAs were associated with EVs, while 410 miRNAs were associated with ECs. A comparison of detectable miRNAs within paired EVs and ECs revealed 19 and 114 common miRNAs, respectively, detected in all 15 RMs. Let-7a-5p, Let-7c-5p, miR-26a-5p, miR-191-5p, and let-7f-5p were among the top 5 detectable miRNAs associated with EVs in that order. In ECs, miR-16-5p, miR-451, miR-191-5p, miR-27a-3p, and miR-27b-3p, in that order, were the top detectable miRNAs in ECs. miRNA-target enrichment analysis of the top 10 detected common EV and EC miRNAs identified MYC and TNPO1 as top target genes, respectively. Functional enrichment analysis of top EV- and EC-associated miRNAs identified common and distinct gene-network signatures associated with various biological and disease processes. Top EV-associated miRNAs were implicated in cytokine-cytokine receptor interactions, Th17 cell differentiation, IL-17 signaling, inflammatory bowel disease, and glioma. On the other hand, top EC-associated miRNAs were implicated in lipid and atherosclerosis, Th1 and Th2 cell differentiation, Th17 cell differentiation, and glioma. Interestingly, infection of RMs with SIV revealed that the brain-enriched miR-128-3p was longitudinally and significantly downregulated in EVs, but not ECs. This SIV-mediated decrease in miR-128-3p counts was validated by specific TaqMan microRNA stem-loop RT-qPCR assay. Remarkably, the observed SIV-mediated decrease in miR-128-3p levels in EVs from RMs agrees with publicly available EV miRNAome data by Kaddour et al., 2021, which showed that miR-128-3p levels were significantly lower in semen-derived EVs from HIV-infected men who used or did not use cocaine compared to HIV-uninfected individuals. These findings confirmed our previously reported finding and suggested that miR-128 may be a target of HIV/SIV. Conclusions: In the present study, we used sRNA sequencing to provide a holistic understanding of the repertoire of circulating exmiRNAs and their association with extracellular particles, such as EVs and ECs. Our data also showed that SIV infection altered the profile of the miRNAome of EVs and revealed that miR-128-3p may be a potential target of HIV/SIV. The significant decrease in miR-128-3p in HIV-infected humans and in SIV-infected RMs may indicate disease progression. Our study has important implications for the development of biomarker approaches for various types of cancer, cardiovascular diseases, organ injury, and HIV based on the capture and analysis of circulating exmiRNAs.',\n",
       " 'type': 'RNA',\n",
       " 'identifier': '100302129',\n",
       " 'text': 'miR-191-5p',\n",
       " 'sentence': 'Let-7a-5p, Let-7c-5p, miR-26a-5p, miR-191-5p, and let-7f-5p were among the top 5 detectable miRNAs associated with EVs in that order.',\n",
       " 'sentenceSize': 35,\n",
       " 'sentenceIndex': 21,\n",
       " 'addtime': '2023_05_09',\n",
       " '_id': ObjectId('6459f29748e9c8c06012824b'),\n",
       " 'entity': 'MIR1915',\n",
       " 'ner': 'HALD_MICRORNA',\n",
       " 'specific_type': 'MICRORNA',\n",
       " 'PMID': '36992331',\n",
       " 'word': 'miR-191-5p',\n",
       " 'DP': '2023 Feb 24',\n",
       " 'JT': 'Viruses',\n",
       " 'URL': 'https://pubmed.ncbi.nlm.nih.gov/36992331',\n",
       " 'TI': 'SIV Infection Regulates Compartmentalization of Circulating Blood Plasma miRNAs within Extracellular Vesicles (EVs) and Extracellular Condensates (ECs) and Decreases EV-Associated miRNA-128.',\n",
       " 'target': 'miR-191-5p',\n",
       " 'Official_Symbol': 'MIR1915',\n",
       " 'Official_Full_Name': 'microRNA 1915',\n",
       " 'HGNC_ID': 'HGNC:HGNC:35399',\n",
       " 'HGNC_URL': 'https://www.genenames.org/data/gene-symbol-report/#!/hgnc_id/HGNC:35399',\n",
       " 'Ensembl_ID': 'Ensembl:ENSG00000222071',\n",
       " 'Ensembl_URL': 'http://www.ensembl.org/id/ENSG00000222071',\n",
       " 'MIM_ID': 'MIM:615202;',\n",
       " 'MIM_URL': 'https://www.ncbi.nlm.nih.gov/omim/615202',\n",
       " 'AllianceGenome_ID': 'miRBase:MI0008336;',\n",
       " 'AllianceGenome_URL': 'http://www.mirbase.org/cgi-bin/mirna_entry.pl?acc=MI0008336',\n",
       " 'NCBI_ID': '100302129',\n",
       " 'NCBI_URL': 'https://www.ncbi.nlm.nih.gov/gene/100302129',\n",
       " 'Also_known_as': 'MIRN1915; hsa-mir-1915',\n",
       " 'Summary': 'microRNAs (miRNAs) are short (20-24 nt) non-coding RNAs that are involved in post-transcriptional regulation of gene expression in multicellular organisms by affecting both the stability and translation of mRNAs. miRNAs are transcribed by RNA polymerase II as part of capped and polyadenylated primary transcripts (pri-miRNAs) that can be either protein-coding or non-coding. The primary transcript is cleaved by the Drosha ribonuclease III enzyme to produce an approximately 70-nt stem-loop precursor miRNA (pre-miRNA), which is further cleaved by the cytoplasmic Dicer ribonuclease to generate the mature miRNA and antisense miRNA star (miRNA*) products. The mature miRNA is incorporated into a RNA-induced silencing complex (RISC), which recognizes target mRNAs through imperfect base pairing with the miRNA and most commonly results in translational inhibition or destabilization of the target mRNA. The RefSeq represents the predicted microRNA stem-loop. [provided by RefSeq, Sep 2009]',\n",
       " 'date': 20230224,\n",
       " 'year': 2023}"
      ]
     },
     "execution_count": 173,
     "metadata": {},
     "output_type": "execute_result"
    }
   ],
   "source": [
    "RNA_list_raw[0]"
   ]
  },
  {
   "cell_type": "code",
   "execution_count": 174,
   "id": "22438c0b-fdba-4f55-93b7-9733c55b43d9",
   "metadata": {},
   "outputs": [],
   "source": [
    "for i in RNA_list_raw:\n",
    "    i['addtime']=now_time"
   ]
  },
  {
   "cell_type": "code",
   "execution_count": 175,
   "id": "6e1fb0cf-13cc-435b-8a3e-f3f7831880cb",
   "metadata": {},
   "outputs": [],
   "source": [
    "for i,j in RNA_converter.items():\n",
    "    if j.get('Summary') and j.get('Summary')[0]=='\\n':\n",
    "        print(i)"
   ]
  },
  {
   "cell_type": "code",
   "execution_count": 176,
   "id": "97a360d4-f85e-46e1-b2d9-9436a7781acf",
   "metadata": {},
   "outputs": [],
   "source": [
    "if len(RNA_list_raw)!=0:\n",
    "    collections_RNA_raw.insert_many(RNA_list_raw)"
   ]
  },
  {
   "cell_type": "code",
   "execution_count": null,
   "id": "7c54544e-d74d-4665-9515-631db241d17d",
   "metadata": {},
   "outputs": [],
   "source": []
  },
  {
   "cell_type": "code",
   "execution_count": null,
   "id": "bc2d528e-d9fc-4c3e-b926-bda3af334f64",
   "metadata": {},
   "outputs": [],
   "source": []
  },
  {
   "cell_type": "markdown",
   "id": "63b129fb-0219-421d-9059-fe472febcb90",
   "metadata": {
    "tags": []
   },
   "source": [
    "# RNA_all"
   ]
  },
  {
   "cell_type": "code",
   "execution_count": 177,
   "id": "991c82e9-c93b-4454-8ed1-3944d2160356",
   "metadata": {},
   "outputs": [],
   "source": [
    "RNA_raw_list=list(collections_RNA_raw.find())"
   ]
  },
  {
   "cell_type": "code",
   "execution_count": 178,
   "id": "64699806-bd6b-40dd-b7cf-fdd1570fcad9",
   "metadata": {},
   "outputs": [],
   "source": [
    "for i in RNA_raw_list:\n",
    "    i['type']='RNA'\n",
    "    i[\"PMID\"]=[i.get(\"PMID\")]\n",
    "    i[\"sentence\"]=[[i.get(\"sentence\")]]\n",
    "    pmid=i.get('PMID')[0]\n",
    "    i['DP']=[i.get(\"DP\")]\n",
    "    i['AB']=[i.get(\"AB\")]\n",
    "    i['URL']='https://pubmed.ncbi.nlm.nih.gov/'+pmid\n",
    "    i['TI']=[i.get(\"TI\")]\n",
    "    i['target']=[[i.get('word')]]\n",
    "    i[\"date\"]=[i.get(\"date\")]\n",
    "    i[\"year\"]=[i.get(\"year\")]\n",
    "    i['JT']=[i.get('JT')]"
   ]
  },
  {
   "cell_type": "code",
   "execution_count": 179,
   "id": "9643ad0d-ad78-4ec0-ae0c-185a6ad57097",
   "metadata": {},
   "outputs": [],
   "source": [
    "RNA_mid={}\n",
    "for i in RNA_raw_list:\n",
    "    if not RNA_mid.get(i.get(\"entity\")):\n",
    "        RNA_mid[i.get(\"entity\")]=i\n",
    "    else:\n",
    "        if i.get('PMID')[0] in RNA_mid.get(i.get('entity')).get('PMID'):\n",
    "            ind=RNA_mid.get(i.get('entity')).get('PMID').index(i.get('PMID')[0])\n",
    "            if i.get(\"sentence\")[0][0] in RNA_mid.get(i.get('entity')).get('sentence')[ind]:\n",
    "                continue\n",
    "            else:\n",
    "                RNA_mid[i.get('entity')]['sentence'][ind] = RNA_mid.get(i.get('entity')).get('sentence')[ind] + i.get(\"sentence\")[0]\n",
    "                RNA_mid[i.get('entity')]['target'][ind] = RNA_mid.get(i.get('entity')).get('target')[ind] + i.get(\"target\")[0]\n",
    "        else:\n",
    "            RNA_mid[i.get(\"entity\")][\"PMID\"]=RNA_mid.get(i.get(\"entity\")).get(\"PMID\")+i.get(\"PMID\")\n",
    "            RNA_mid[i.get(\"entity\")][\"sentence\"]=RNA_mid.get(i.get(\"entity\")).get(\"sentence\")+i.get(\"sentence\")\n",
    "            RNA_mid[i.get(\"entity\")][\"AB\"]=RNA_mid.get(i.get(\"entity\")).get(\"AB\")+i.get(\"AB\")\n",
    "            RNA_mid[i.get(\"entity\")][\"DP\"]=RNA_mid.get(i.get(\"entity\")).get(\"DP\")+i.get(\"DP\")\n",
    "            RNA_mid[i.get(\"entity\")][\"TI\"]=RNA_mid.get(i.get(\"entity\")).get(\"TI\")+i.get(\"TI\")\n",
    "            RNA_mid[i.get(\"entity\")][\"target\"]=RNA_mid.get(i.get(\"entity\")).get(\"target\")+i.get(\"target\")\n",
    "            RNA_mid[i.get(\"entity\")][\"date\"]=RNA_mid.get(i.get(\"entity\")).get(\"date\")+i.get(\"date\")\n",
    "            RNA_mid[i.get(\"entity\")][\"year\"]=RNA_mid.get(i.get(\"entity\")).get(\"year\")+i.get(\"year\")\n",
    "            RNA_mid[i.get(\"entity\")][\"JT\"]=RNA_mid.get(i.get(\"entity\")).get(\"JT\")+i.get(\"JT\")"
   ]
  },
  {
   "cell_type": "code",
   "execution_count": 180,
   "id": "379ef290-bfa7-49da-948a-381379a9fe38",
   "metadata": {},
   "outputs": [],
   "source": [
    "RNA_output_json_final=list(RNA_mid.values())"
   ]
  },
  {
   "cell_type": "code",
   "execution_count": 181,
   "id": "5cdd45f0-bcb3-47c3-957f-1a92e8e572df",
   "metadata": {},
   "outputs": [
    {
     "data": {
      "text/plain": [
       "350"
      ]
     },
     "execution_count": 181,
     "metadata": {},
     "output_type": "execute_result"
    }
   ],
   "source": [
    "len(RNA_output_json_final)"
   ]
  },
  {
   "cell_type": "code",
   "execution_count": 182,
   "id": "44ba6a3c-00dc-4bb7-a109-d4052aed432e",
   "metadata": {},
   "outputs": [],
   "source": [
    "for i in RNA_output_json_final:\n",
    "    i['allyears']=[]\n",
    "    i['datestring']=[]\n",
    "    for j in i.get('date'):\n",
    "        if int(str(j)[:4]) not in i.get('allyears'):\n",
    "            i['allyears']= i.get('allyears')+[int(str(j)[:4])]\n",
    "    for j in i.get('date'):\n",
    "        if str(j)[:4]+\"-\"+str(j)[4:6]+\"-\"+str(j)[6:] not in i.get('datestring'):\n",
    "            i['datestring']=i.get('datestring')+[str(j)[:4]+\"-\"+str(j)[4:6]+\"-\"+str(j)[6:]]\n",
    "    i['allyears']=sorted(i.get('allyears'), reverse=True)\n",
    "    i['datestring']=sorted(i.get('datestring'), reverse=True)\n",
    "    upperlist=set()\n",
    "    for j in sum(i.get('target'),[]):\n",
    "        upperlist.add(j.upper())\n",
    "    i['targetshapes']=list(upperlist)\n",
    "    i['addtime']=now_time"
   ]
  },
  {
   "cell_type": "code",
   "execution_count": 183,
   "id": "a61c47b4-f6ba-44e7-b6d0-e9d23530476b",
   "metadata": {},
   "outputs": [],
   "source": [
    "RNA_all=copy.deepcopy(RNA_output_json_final)"
   ]
  },
  {
   "cell_type": "code",
   "execution_count": 169,
   "id": "c0de5a98-0f03-4204-a205-53f491a42da0",
   "metadata": {},
   "outputs": [],
   "source": []
  },
  {
   "cell_type": "code",
   "execution_count": null,
   "id": "560e5a5a-5f5c-452a-bd01-b8ebb5d6412a",
   "metadata": {},
   "outputs": [],
   "source": []
  },
  {
   "cell_type": "markdown",
   "id": "5e1b98a0-7521-4ba2-9003-dcd03032e462",
   "metadata": {},
   "source": [
    "# chemical_raw"
   ]
  },
  {
   "cell_type": "code",
   "execution_count": 184,
   "id": "b3349195-fcbb-45ca-b2c1-d2be889e0f9a",
   "metadata": {},
   "outputs": [],
   "source": [
    "chemical_pubtator_addpmid={}\n",
    "for i in pubtator_raw:\n",
    "    if i.get('type')=='Chemical':\n",
    "        if chemical_pubtator_addpmid.get(i.get('id')):\n",
    "            chemical_pubtator_addpmid[i.get('id')]=chemical_pubtator_addpmid.get(i.get('id'))+[i]\n",
    "        else:\n",
    "            chemical_pubtator_addpmid[i.get('id')]=[i]"
   ]
  },
  {
   "cell_type": "code",
   "execution_count": 185,
   "id": "83d6ca7b-9265-405e-b661-cc61f3a2f270",
   "metadata": {},
   "outputs": [
    {
     "name": "stdout",
     "output_type": "stream",
     "text": [
      "538\n"
     ]
    }
   ],
   "source": [
    "print(len(chemical_pubtator_addpmid))"
   ]
  },
  {
   "cell_type": "code",
   "execution_count": 186,
   "id": "8155970c-6518-4def-9870-1fe869ca5431",
   "metadata": {},
   "outputs": [],
   "source": [
    "chemical_output_jsons=list(chemical_pubtator_addpmid.values())"
   ]
  },
  {
   "cell_type": "code",
   "execution_count": 187,
   "id": "5f3aac0a-3cd0-4c54-8b03-b3b23f996b2d",
   "metadata": {},
   "outputs": [],
   "source": [
    "chemical_output_json=[]\n",
    "for i in chemical_output_jsons:\n",
    "    for j in i:\n",
    "        chemical_output_json.append(j)"
   ]
  },
  {
   "cell_type": "code",
   "execution_count": 188,
   "id": "65d40c25-b111-4f4b-acf5-e666e731c2bb",
   "metadata": {},
   "outputs": [],
   "source": [
    "chemical_raw=copy.deepcopy(chemical_output_json)"
   ]
  },
  {
   "cell_type": "code",
   "execution_count": 190,
   "id": "38c5944d-7d78-48d1-8eaa-c7e9f0df6015",
   "metadata": {},
   "outputs": [],
   "source": [
    "pairs=['Toxin','Peptide','Lipid','Protein','Carbohydrate','Pharmaceutical Preparations']"
   ]
  },
  {
   "cell_type": "code",
   "execution_count": 191,
   "id": "151e74c2-679d-472e-b7cb-b8fa4fc17aef",
   "metadata": {},
   "outputs": [],
   "source": [
    "names=locals()"
   ]
  },
  {
   "cell_type": "code",
   "execution_count": 192,
   "id": "eee23a65-5fb7-4c80-8b69-49e4a96c8a1a",
   "metadata": {},
   "outputs": [],
   "source": [
    "alllist=[]\n",
    "for j in pairs:\n",
    "    names[j.replace(' ','_').lower()]=pickle.load(open('../chemical/'+j.replace(' ','_')+'/'+j.replace(' ','_')+'.pkl','rb'))\n",
    "    alllist+=names[j.replace(' ','_').lower()][1:]"
   ]
  },
  {
   "cell_type": "code",
   "execution_count": 193,
   "id": "14324647-89e9-4571-b4db-258cb27dadcf",
   "metadata": {},
   "outputs": [
    {
     "data": {
      "text/plain": [
       "{'text': 'Bacterial Toxins',\n",
       " 'url': '/mesh/68001427',\n",
       " 'MeSHUniqueID': 'D001427',\n",
       " 'type': 'Toxin'}"
      ]
     },
     "execution_count": 193,
     "metadata": {},
     "output_type": "execute_result"
    }
   ],
   "source": [
    "alllist[0]"
   ]
  },
  {
   "cell_type": "code",
   "execution_count": 194,
   "id": "cab37bcc-4016-420f-b78a-2783f24dc371",
   "metadata": {},
   "outputs": [],
   "source": [
    "for i in alllist:\n",
    "    if not i.get('MeSHUniqueID'):\n",
    "        i['MeSHUniqueID']='D'+i.get('url')[-6:]"
   ]
  },
  {
   "cell_type": "code",
   "execution_count": 195,
   "id": "56816ce7-6e4a-4b43-84cd-8140d79a7a9c",
   "metadata": {},
   "outputs": [],
   "source": [
    "chemicallist=[]\n",
    "MESHlist=[]\n",
    "notchemicallist=[]\n",
    "MESHurl=[]\n",
    "for i in alllist:\n",
    "    if i.get('MeSHUniqueID'):\n",
    "        chemicallist.append({'MESH':'MESH:'+i.get('MeSHUniqueID'),'type':i.get('type'),'url':i.get('url'),'text':i.get('text')})\n",
    "        MESHlist.append('MESH:'+i.get('MeSHUniqueID'))\n",
    "        MESHurl.append(i.get('url'))\n",
    "    else:\n",
    "        notchemicallist.append(i)"
   ]
  },
  {
   "cell_type": "code",
   "execution_count": 196,
   "id": "76de29f2-453d-49fd-975c-fc22cf6e488d",
   "metadata": {},
   "outputs": [
    {
     "data": {
      "text/plain": [
       "0"
      ]
     },
     "execution_count": 196,
     "metadata": {},
     "output_type": "execute_result"
    }
   ],
   "source": [
    "len(notchemicallist)"
   ]
  },
  {
   "cell_type": "code",
   "execution_count": 197,
   "id": "b3009b16-cc11-4cea-a3a1-e0395e93ed7e",
   "metadata": {},
   "outputs": [],
   "source": [
    "chemical2classdict={}\n",
    "count=0\n",
    "for i in chemicallist:\n",
    "    if not chemical2classdict.get(i.get('MESH')):\n",
    "        chemical2classdict[i.get('MESH')]=[i.get('type')]\n",
    "    else:\n",
    "        if i.get('type') in chemical2classdict.get(i.get('MESH')):\n",
    "            pass\n",
    "        else:\n",
    "            chemical2classdict[i.get('MESH')]=chemical2classdict.get(i.get('MESH'))+[i.get('type')]\n",
    "            count+=1"
   ]
  },
  {
   "cell_type": "code",
   "execution_count": 198,
   "id": "d1111f96-c71b-4082-8a75-2325aab78db1",
   "metadata": {},
   "outputs": [],
   "source": [
    "chemical2subclassdict={}\n",
    "for i in chemicallist:\n",
    "    chemical2subclassdict[i.get('MESH')]=i.get('text')"
   ]
  },
  {
   "cell_type": "code",
   "execution_count": 199,
   "id": "07792f06-115a-47a0-94e2-7e572a342a5d",
   "metadata": {},
   "outputs": [],
   "source": [
    "chemical2urldict={}\n",
    "for i in chemicallist:\n",
    "    chemical2urldict[i.get('MESH')]=i.get('url')"
   ]
  },
  {
   "cell_type": "code",
   "execution_count": 200,
   "id": "2860def6-123f-4ee3-ae23-2e8ba8ff30da",
   "metadata": {},
   "outputs": [],
   "source": [
    "for i in chemical_raw:\n",
    "    i['PMID']=i.get('id')\n",
    "    i['word']=i.get('text')\n",
    "    del i['id']\n",
    "    del i['text']"
   ]
  },
  {
   "cell_type": "code",
   "execution_count": 201,
   "id": "a4a75d6b-c4bc-4be6-a7ee-3874e28aa3e8",
   "metadata": {},
   "outputs": [],
   "source": [
    "chemical_final=[]\n",
    "chemical_mid=[]\n",
    "chemical_dropout=[]"
   ]
  },
  {
   "cell_type": "code",
   "execution_count": 202,
   "id": "1a51b05c-919b-46cb-a02f-63ba69f89af5",
   "metadata": {},
   "outputs": [],
   "source": [
    "multi_chemical_type={}\n",
    "for i in chemical_raw:\n",
    "    if chemical2classdict.get(i.get('identifier')):\n",
    "        chemical_final.append(dict(i,**{'class':chemical2classdict.get(i.get('identifier')),'subclass':chemical2subclassdict.get(i.get('identifier')),'url':chemical2urldict.get(i.get('identifier'))}))\n",
    "        for j in chemical2classdict.get(i.get('identifier')):\n",
    "            if len(chemical2classdict.get(i.get('identifier')))>1:\n",
    "                if multi_chemical_type.get(chemical2subclassdict.get(i.get('identifier'))):\n",
    "                    if j not in multi_chemical_type.get(chemical2subclassdict.get(i.get('identifier'))):\n",
    "                        multi_chemical_type[chemical2subclassdict.get(i.get('identifier'))]=multi_chemical_type.get(chemical2subclassdict.get(i.get('identifier')))+[j]\n",
    "                else:\n",
    "                    multi_chemical_type[chemical2subclassdict.get(i.get('identifier'))]=[j]\n",
    "    else:\n",
    "        chemical_dropout.append(i)"
   ]
  },
  {
   "cell_type": "code",
   "execution_count": 203,
   "id": "4d8ee9e8-24a7-4aa4-902e-46d5f3ff6bc2",
   "metadata": {},
   "outputs": [
    {
     "data": {
      "text/plain": [
       "255"
      ]
     },
     "execution_count": 203,
     "metadata": {},
     "output_type": "execute_result"
    }
   ],
   "source": [
    "len(chemical_final)"
   ]
  },
  {
   "cell_type": "code",
   "execution_count": 204,
   "id": "7f67d156-cae2-47f9-91d5-c03e6e116c47",
   "metadata": {},
   "outputs": [
    {
     "data": {
      "text/plain": [
       "{'Arginine Vasopressin': ['Peptide', 'Protein'],\n",
       " 'Bleomycin': ['Peptide', 'Carbohydrate']}"
      ]
     },
     "execution_count": 204,
     "metadata": {},
     "output_type": "execute_result"
    }
   ],
   "source": [
    "multi_chemical_type"
   ]
  },
  {
   "cell_type": "code",
   "execution_count": 205,
   "id": "571672b0-a1c7-4528-b1e2-f2be66fc8b96",
   "metadata": {},
   "outputs": [
    {
     "data": {
      "text/plain": [
       "2268"
      ]
     },
     "execution_count": 205,
     "metadata": {},
     "output_type": "execute_result"
    }
   ],
   "source": [
    "len(chemical_dropout)"
   ]
  },
  {
   "cell_type": "code",
   "execution_count": 206,
   "id": "d53ae0eb-3a22-4a37-81a9-9e3bd453d960",
   "metadata": {},
   "outputs": [
    {
     "name": "stdout",
     "output_type": "stream",
     "text": [
      "2\n",
      "33\n",
      "81\n",
      "18\n",
      "123\n",
      "1\n"
     ]
    }
   ],
   "source": [
    "for j in pairs:\n",
    "    names[j.replace(' ','_')+'list']=[]\n",
    "    for i in chemical_final:\n",
    "        if j in i.get('class'):\n",
    "            names[j.replace(' ','_')+'list'].append(i)\n",
    "    print(len(names[j.replace(' ','_')+'list']))"
   ]
  },
  {
   "cell_type": "code",
   "execution_count": 207,
   "id": "89a2d05e-acfc-46e6-8e42-605a9c1afdbf",
   "metadata": {},
   "outputs": [],
   "source": [
    "chemical_deduplicated=set()\n",
    "chemical_deduplicated_count=0\n",
    "for j in pairs:\n",
    "    names[j.replace(' ','_')+'list_raw']=[]\n",
    "    for i in names[j.replace(' ','_')+'list']:\n",
    "        k=i.get('PMID')\n",
    "        i['DP']=rawpickwithAB.get(k).get('DP')\n",
    "        i['AB']=rawpickwithAB.get(k).get('AB')\n",
    "        i['URL']='https://pubmed.ncbi.nlm.nih.gov/'+k\n",
    "        i['TI']=rawpickwithAB.get(k).get('TI')\n",
    "        i['entity']=i.get('subclass')\n",
    "        i['target']=i.get('word')\n",
    "        i['type']=j\n",
    "        i['JT']=rawpickwithAB.get(k).get('JT')\n",
    "        if i.get('identifier') and re.match(r'MESH:',i.get('identifier')):\n",
    "            i['MESH']=i.get('identifier')[5:]\n",
    "        else:\n",
    "            i['MESH']=''\n",
    "        tuples=(i.get(\"PMID\"),i.get(\"entity\"),i.get(\"word\"),i.get(\"sentence\"),i.get(\"type\"))\n",
    "        if tuples not in chemical_deduplicated:\n",
    "            chemical_deduplicated.add(tuples)\n",
    "            names[j.replace(' ','_')+'list_raw'].append(i)\n",
    "        else:\n",
    "            chemical_deduplicated_count+=1\n",
    "            continue"
   ]
  },
  {
   "cell_type": "code",
   "execution_count": 208,
   "id": "51b3b660-cea5-4c14-bd81-633019764f0e",
   "metadata": {},
   "outputs": [],
   "source": [
    "chemical2ncbi={}\n",
    "c=0\n",
    "for j in pairs:\n",
    "    for i in names[j.replace(' ','_')+'list_raw']:\n",
    "        chemical2ncbi[i.get('url')]=''\n",
    "        c+=1"
   ]
  },
  {
   "cell_type": "code",
   "execution_count": 209,
   "id": "dbc5826e-5f44-48e3-b41b-53bf2b4b8746",
   "metadata": {},
   "outputs": [
    {
     "data": {
      "text/plain": [
       "53"
      ]
     },
     "execution_count": 209,
     "metadata": {},
     "output_type": "execute_result"
    }
   ],
   "source": [
    "len(chemical2ncbi)"
   ]
  },
  {
   "cell_type": "code",
   "execution_count": 210,
   "id": "f6a5be78-cbc7-4c03-a1d9-8a081907d255",
   "metadata": {},
   "outputs": [],
   "source": [
    "chemical_converter=pickle.load(open('../ncbi/Chemical_converter.pkl','rb'))"
   ]
  },
  {
   "cell_type": "code",
   "execution_count": 211,
   "id": "3b776c35-d99a-4467-851c-e02a616abc62",
   "metadata": {},
   "outputs": [
    {
     "data": {
      "text/plain": [
       "484"
      ]
     },
     "execution_count": 211,
     "metadata": {},
     "output_type": "execute_result"
    }
   ],
   "source": [
    "len(chemical_converter)"
   ]
  },
  {
   "cell_type": "code",
   "execution_count": 212,
   "id": "8829ab64-840d-4b04-9db0-aaa88099f9c0",
   "metadata": {},
   "outputs": [],
   "source": [
    "def get_chemical_info(i,final_chemicals_inte):\n",
    "    headers = {\n",
    "        \"User-Agent\": \"Mozilla/5.0 (Windows NT 10.0; Win64; x64) AppleWebKit/537.36 \\\n",
    "        (KHTML, like Gecko) Chrome/83.0.4103.97 Safari/537.36\"\n",
    "    }\n",
    "    url = 'https://www.ncbi.nlm.nih.gov' + i\n",
    "    res=requests.get(url=url,headers=headers)\n",
    "    html = etree.HTML(res.content)\n",
    "    ncbisummary={\n",
    "    'Summary' : ''.join(html.xpath('//*[@class=\"mesh_ds_scope_note\"]/text()')),\n",
    "    'YearIntroduced' : ''.join(html.xpath('//*[@class=\"mesh_year_introduced\"]/text()'))[17:21],\n",
    "    }\n",
    "    final_chemicals_inte.update({i:ncbisummary})\n",
    "    time.sleep(0.5)"
   ]
  },
  {
   "cell_type": "code",
   "execution_count": 213,
   "id": "6b39049e-c794-4894-9069-04e8a1be8539",
   "metadata": {},
   "outputs": [],
   "source": [
    "judge=False\n",
    "p = Pool(10)\n",
    "manager=Manager()\n",
    "final_chemicals_inte = manager.dict()\n",
    "for i in chemical2ncbi.keys():\n",
    "    if not chemical_converter.get(i):\n",
    "        p.apply_async(get_chemical_info, args=(i,final_chemicals_inte))\n",
    "        judge=True\n",
    "p.close()\n",
    "p.join()\n",
    "if judge:\n",
    "    chemical_converter.update(dict(final_chemicals_inte))\n",
    "    pickle.dump(chemical_converter, open('../ncbi/Chemical_converter.pkl','wb'))"
   ]
  },
  {
   "cell_type": "code",
   "execution_count": 214,
   "id": "5483dbda-55a0-49e1-9088-908364fd0daa",
   "metadata": {},
   "outputs": [
    {
     "data": {
      "text/plain": [
       "488"
      ]
     },
     "execution_count": 214,
     "metadata": {},
     "output_type": "execute_result"
    }
   ],
   "source": [
    "len(chemical_converter)"
   ]
  },
  {
   "cell_type": "code",
   "execution_count": 215,
   "id": "6335f7b5-721b-4909-8ea2-1d2dc76ad39e",
   "metadata": {},
   "outputs": [
    {
     "data": {
      "text/plain": [
       "['Toxin',\n",
       " 'Peptide',\n",
       " 'Lipid',\n",
       " 'Protein',\n",
       " 'Carbohydrate',\n",
       " 'Pharmaceutical Preparations']"
      ]
     },
     "execution_count": 215,
     "metadata": {},
     "output_type": "execute_result"
    }
   ],
   "source": [
    "pairs"
   ]
  },
  {
   "cell_type": "code",
   "execution_count": 216,
   "id": "5bde0ec4-248d-45fb-a108-f2169afa6395",
   "metadata": {},
   "outputs": [],
   "source": [
    "for j in pairs:\n",
    "    for i in range(len(names[j.replace(' ','_')+'list_raw'])):\n",
    "        names[j.replace(' ','_')+'list_raw'][i]=dict(names[j.replace(' ','_')+'list_raw'][i],**chemical_converter.get(names[j.replace(' ','_')+'list_raw'][i].get('url')))"
   ]
  },
  {
   "cell_type": "code",
   "execution_count": 217,
   "id": "483b6782-e720-448d-94db-66bd0b62322e",
   "metadata": {},
   "outputs": [],
   "source": [
    "dropout=[]\n",
    "months=['Jan','Feb','Mar','Apr','May','Jun','Jul','Aug','Sep','Oct','Nov','Dec']\n",
    "for k in pairs:\n",
    "    for i in names[k.replace(' ','_')+'list_raw']:\n",
    "        j=i.get('DP')\n",
    "        if re.search('[S,s]upplement',j,flags=re.M|re.I):\n",
    "            j=re.sub('[S,s]upplement.*','',j,flags=re.M|re.I)\n",
    "        j=re.sub('\\s?-\\s?','-',j)\n",
    "        j=re.sub('\\.','',j)\n",
    "        j=re.sub('Aout','Aug',j)\n",
    "        if len(j.split(' '))==3:\n",
    "            try:\n",
    "                date=int(datetime.datetime.strftime(datetime.datetime.strptime(j,'%Y %b %d'), '%Y%m%d'))\n",
    "            except:\n",
    "                if j.split()[1] in months:\n",
    "                    if re.search(r'\\d+',j.split()[2],flags=re.M|re.I):\n",
    "                        j=j.split()[0]+' '+j.split()[1]+' '+ re.search(r'\\d+',j.split()[2],flags=re.M|re.I).group()\n",
    "                        try:\n",
    "                            date=int(datetime.datetime.strftime(datetime.datetime.strptime(j,'%Y %b %d'), '%Y%m%d'))\n",
    "                        except:\n",
    "                            j=j[:4]\n",
    "                            date=int(datetime.datetime.strftime(datetime.datetime.strptime(j,'%Y'), '%Y'+'0101'))\n",
    "                            print('***************************************ERROR**********************************************')\n",
    "                    else:\n",
    "                        j=j.split()[0]+' '+j.split()[1]+' '+ '1'\n",
    "                        try:\n",
    "                            date=int(datetime.datetime.strftime(datetime.datetime.strptime(j,'%Y %b %d'), '%Y%m%d'))\n",
    "                        except:\n",
    "                            print(j)\n",
    "                            j=j[:4]\n",
    "                            date=int(datetime.datetime.strftime(datetime.datetime.strptime(j,'%Y'), '%Y'+'0101'))\n",
    "                elif j.split()[1] not in months:\n",
    "                    if re.search(r'([a-zA-Z]+)[-/]([a-zA-Z]+)',j.split()[1],flags=re.M|re.I) or re.search(r'([a-zA-Z]+)[-/](\\d+)',j.split()[1],flags=re.M|re.I):\n",
    "                        if re.search(r'([a-zA-Z]+)[-/]([a-zA-Z]+)',j.split()[1],flags=re.M|re.I):\n",
    "                            middle=re.search(r'([a-zA-Z]+)[-/]([a-zA-Z]+)',j.split()[1],flags=re.M|re.I).group(1)\n",
    "                        else:\n",
    "                            middle=re.search(r'([a-zA-Z]+)[-/](\\d+)',j.split()[1],flags=re.M|re.I).group(1)\n",
    "                        if middle in months:\n",
    "                            if re.search(r'\\d+',j.split()[2],flags=re.M|re.I):\n",
    "                                j=j.split()[0]+' '+middle+' '+ re.search(r'\\d+',j.split()[2],flags=re.M|re.I).group()\n",
    "                            else:\n",
    "                                j=j.split()[0]+' '+middle+' '+ '1'\n",
    "                        elif re.match(r'Sum(mer)?',middle):\n",
    "                            if re.search(r'\\d+',j.split()[2],flags=re.M|re.I):\n",
    "                                j=j.split()[0]+' '+'Jun'+' '+ re.search(r'\\d+',j.split()[2],flags=re.M|re.I).group()\n",
    "                            else:\n",
    "                                j=j.split()[0]+' '+'Jun'+' '+ '1'\n",
    "                        elif re.match(r'Spr(ing)?',middle):\n",
    "                            if re.search(r'\\d+',j.split()[2],flags=re.M|re.I):\n",
    "                                j=j.split()[0]+' '+'Mar'+' '+ re.search(r'\\d+',j.split()[2],flags=re.M|re.I).group()\n",
    "                            else:\n",
    "                                j=j.split()[0]+' '+'Mar'+' '+ '1'\n",
    "                        elif re.match(r'Win(ter)?',middle):\n",
    "                            if re.search(r'\\d+',j.split()[2],flags=re.M|re.I):\n",
    "                                j=j.split()[0]+' '+'Dec'+' '+ re.search(r'\\d+',j.split()[2],flags=re.M|re.I).group()\n",
    "                            else:\n",
    "                                j=j.split()[0]+' '+'Dec'+' '+ '1'    \n",
    "                        elif re.match(r'Aut(umn)?',middle) or \\\n",
    "                        re.match(r'Fall',middle):\n",
    "                            if re.search(r'\\d+',j.split()[2],flags=re.M|re.I):\n",
    "                                j=j.split()[0]+' '+'Sep'+' '+ re.search(r'\\d+',j.split()[2],flags=re.M|re.I).group()\n",
    "                            else:\n",
    "                                j=j.split()[0]+' '+'Sep'+' '+ '1'      \n",
    "                        try:\n",
    "                            date=int(datetime.datetime.strftime(datetime.datetime.strptime(j,'%Y %b %d'), '%Y%m%d'))\n",
    "                        except:\n",
    "                            print(j)\n",
    "                            j=j[:4]\n",
    "                            date=int(datetime.datetime.strftime(datetime.datetime.strptime(j,'%Y'), '%Y'+'0101'))\n",
    "                    else:\n",
    "                        j=j[:4]\n",
    "                        date=int(datetime.datetime.strftime(datetime.datetime.strptime(j,'%Y'), '%Y'+'0101'))\n",
    "        elif len(j.split())==2:\n",
    "            if re.match(r'Sum(mer)?',j.split()[1]):\n",
    "                date=int(j[:4]+'0601')\n",
    "            elif re.match(r'Spr(ing)?',j.split()[1]):\n",
    "                date=int(j[:4]+'0301')\n",
    "            elif re.match(r'Win(ter)?',j.split()[1]):\n",
    "                date=int(j[:4]+'1201')\n",
    "            elif re.match(r'Aut(umn)?',j.split()[1]) or re.match(r'Fall',j.split()[1]):\n",
    "                date=int(j[:4]+'0901')\n",
    "            elif re.match(r'Sum(mer)?',j.split()[0]):\n",
    "                date=int(j[-4:]+'0601')\n",
    "            elif re.match(r'Spr(ing)?',j.split()[0]):\n",
    "                date=int(j[-4:]+'0301')\n",
    "            elif re.match(r'Win(ter)?',j.split()[0]):\n",
    "                date=int(j[-4:]+'1201')\n",
    "            elif re.match(r'Aut(umn)?',j.split()[0]) or re.match(r'Fall',j.split()[0]):\n",
    "                date=int(j[-4:]+'0901')\n",
    "            else:\n",
    "                try:\n",
    "                    date=int(datetime.datetime.strftime(datetime.datetime.strptime(j,'%Y %b'), '%Y%m'+'01'))\n",
    "                except:\n",
    "                    if re.search(r'([a-zA-Z]+)[-/]([a-zA-Z]+)',j.split()[1],flags=re.M|re.I) or re.search(r'([a-zA-Z]+)[-/](\\d+)',j.split()[1],flags=re.M|re.I):\n",
    "                        if re.search(r'([a-zA-Z]+)[-/]([a-zA-Z]+)',j.split()[1],flags=re.M|re.I):\n",
    "                            middle=re.search(r'([a-zA-Z]+)[-/]([a-zA-Z]+)',j.split()[1],flags=re.M|re.I).group(1)\n",
    "                        else:\n",
    "                            middle=re.search(r'([a-zA-Z]+)[-/](\\d+)',j.split()[1],flags=re.M|re.I).group(1)\n",
    "                        if middle in months:\n",
    "                            j=j.split()[0]+' '+middle+' '+ '1'\n",
    "                        elif re.match(r'Sum(mer)?',middle):\n",
    "                            j=j.split()[0]+' '+'Jun'+' '+ '1'\n",
    "                        elif re.match(r'Spr(ing)?',middle):\n",
    "                            j=j.split()[0]+' '+'Mar'+' '+ '1'\n",
    "                        elif re.match(r'Win(ter)?',middle):\n",
    "                            j=j.split()[0]+' '+'Dec'+' '+ '1'    \n",
    "                        elif re.match(r'Aut(umn)?',middle) or \\\n",
    "                        re.match(r'Fall',middle):\n",
    "                            j=j.split()[0]+' '+'Sep'+' '+ '1'      \n",
    "                        try:\n",
    "                            date=int(datetime.datetime.strftime(datetime.datetime.strptime(j,'%Y %b %d'), '%Y%m%d'))\n",
    "                        except:\n",
    "                            j=j[:4]\n",
    "                            date=int(datetime.datetime.strftime(datetime.datetime.strptime(j,'%Y'), '%Y'+'0101'))\n",
    "                    elif re.search(r'(\\d+)[-/](\\d+)',j.split()[1],flags=re.M|re.I):\n",
    "                        midd=re.search(r'(\\d+)[-/](\\d+)',j.split()[1],flags=re.M|re.I).group(1)\n",
    "                        if len(midd)!=2:\n",
    "                            midd='0'+midd\n",
    "                        j=j[:4]\n",
    "                        date=int(datetime.datetime.strftime(datetime.datetime.strptime(j,'%Y'), '%Y'+midd+'01'))\n",
    "                    else:\n",
    "                        print(j)\n",
    "                        j=j[:4]\n",
    "                        date=int(datetime.datetime.strftime(datetime.datetime.strptime(j,'%Y'), '%Y'+'0101'))\n",
    "        elif len(j.split())==1:\n",
    "            j=j[:4]\n",
    "            date=int(datetime.datetime.strftime(datetime.datetime.strptime(j,'%Y'), '%Y'+'0101'))\n",
    "        else:\n",
    "            j=j.split()[0]+' '+j.split()[1]+' '+re.search(r'\\d+',j.split()[2],flags=re.M|re.I).group()\n",
    "            date=int(datetime.datetime.strftime(datetime.datetime.strptime(j,'%Y %b %d'), '%Y%m%d'))\n",
    "        i['date']=date\n",
    "        i['year']=int(str(i.get('date'))[:4])"
   ]
  },
  {
   "cell_type": "code",
   "execution_count": 218,
   "id": "31394dab-ee07-4cc0-9fff-06be9c3ad470",
   "metadata": {},
   "outputs": [],
   "source": [
    "for k in pairs:\n",
    "    names[k.replace(' ','_')+'_raw']=copy.deepcopy(names[k.replace(' ','_')+'list_raw'])\n",
    "    for i in names[k.replace(' ','_')+'_raw']:\n",
    "        i['addtime']=now_time"
   ]
  },
  {
   "cell_type": "code",
   "execution_count": null,
   "id": "97578197-4d07-4808-b322-e5bc365d3c24",
   "metadata": {},
   "outputs": [],
   "source": []
  },
  {
   "cell_type": "code",
   "execution_count": null,
   "id": "45f04637-7771-4e20-9afa-ce58ef24e60f",
   "metadata": {},
   "outputs": [],
   "source": []
  },
  {
   "cell_type": "markdown",
   "id": "ddf47b96-db4d-4d3a-a1ff-0864f1c3e4c7",
   "metadata": {},
   "source": [
    "# Carbohydrate_raw"
   ]
  },
  {
   "cell_type": "code",
   "execution_count": 219,
   "id": "d6b0bf63-a9e3-4051-a264-5189176dc255",
   "metadata": {},
   "outputs": [],
   "source": [
    "collections_Carbohydrate_raw=db.Carbohydrate_raw"
   ]
  },
  {
   "cell_type": "code",
   "execution_count": 220,
   "id": "5a7c5548-4667-4f06-816e-c6ea0ad54d87",
   "metadata": {},
   "outputs": [
    {
     "data": {
      "text/plain": [
       "109"
      ]
     },
     "execution_count": 220,
     "metadata": {},
     "output_type": "execute_result"
    }
   ],
   "source": [
    "len(Carbohydrate_raw)"
   ]
  },
  {
   "cell_type": "code",
   "execution_count": 221,
   "id": "41f9465b-612c-4a1d-9f26-a3bea4c1777d",
   "metadata": {},
   "outputs": [
    {
     "data": {
      "text/plain": [
       "{'AB': 'Panax ginseng C. A. Meyer (ginseng), a traditional Chinese herb, is usually used to improve health and increase anti-aging activity for human. Polysaccharides are bioactive components of ginseng. Herein, using Caenorhabditis elegans as a model, we discovered a ginseng-derived rhamnogalacturonan I (RG-I) pectin WGPA-1-RG promoted longevity via TOR signalling pathway with transcription factors FOXO/DAF-16 and Nrf2/SKN-1 accumulated in the nucleus, where they activated target genes. And the WGPA-1-RG-mediated lifespan extension was dependent on endocytosis, rather than a bacterial metabolic process. Glycosidic linkage analyses combined with arabinose- and galactose-releasing enzyme hydrolyses identified the RG-I backbone of WGPA-1-RG was primarily substituted with alpha-1,5-linked arabinan, beta-1,4-linked galactan and arabinogalactan II (AG-II) side chains. Feeding worms with the WGPA-1-RG-derived fractions which lost distinct structural elements by enzymatic digestions, we found the arabinan side chains prominently contributed to the longevity-promoting activity of WGPA-1-RG. These findings provide a novel ginseng-derived nutrient that potentially increases human longevity.',\n",
       " 'type': 'Carbohydrate',\n",
       " 'identifier': 'MESH:D001089',\n",
       " 'sentence': 'Glycosidic linkage analyses combined with arabinose- and galactose-releasing enzyme hydrolyses identified the RG-I backbone of WGPA-1-RG was primarily substituted with alpha-1,5-linked arabinan, beta-1,4-linked galactan and arabinogalactan II (AG-II) side chains.',\n",
       " 'sentenceSize': 7,\n",
       " 'sentenceIndex': 4,\n",
       " 'addtime': '2023_05_09',\n",
       " '_id': ObjectId('6459f29748e9c8c0601271c3'),\n",
       " 'PMID': '37059546',\n",
       " 'word': 'arabinose',\n",
       " 'class': ['Carbohydrate'],\n",
       " 'subclass': 'Arabinose',\n",
       " 'url': '/mesh/68001089',\n",
       " 'DP': '2023 Jul 15',\n",
       " 'URL': 'https://pubmed.ncbi.nlm.nih.gov/37059546',\n",
       " 'TI': 'A ginseng-derived rhamnogalacturonan I (RG-I) pectin promotes longevity via TOR signalling in Caenorhabditis elegans.',\n",
       " 'entity': 'Arabinose',\n",
       " 'target': 'arabinose',\n",
       " 'JT': 'Carbohydrate polymers',\n",
       " 'MESH': 'D001089',\n",
       " 'Summary': '',\n",
       " 'YearIntroduced': '',\n",
       " 'date': 20230715,\n",
       " 'year': 2023}"
      ]
     },
     "execution_count": 221,
     "metadata": {},
     "output_type": "execute_result"
    }
   ],
   "source": [
    "Carbohydrate_raw[0]"
   ]
  },
  {
   "cell_type": "code",
   "execution_count": 222,
   "id": "f747b991-95c9-47eb-9f9f-b7d7a75c9ad0",
   "metadata": {},
   "outputs": [],
   "source": [
    "if len(Carbohydrate_raw)!=0:\n",
    "    collections_Carbohydrate_raw.insert_many(Carbohydrate_raw)"
   ]
  },
  {
   "cell_type": "code",
   "execution_count": 223,
   "id": "18258bbc-5089-43eb-9b4f-39649acdd9a2",
   "metadata": {},
   "outputs": [],
   "source": [
    "shenme=list(collections_Carbohydrate_raw.find())"
   ]
  },
  {
   "cell_type": "code",
   "execution_count": 224,
   "id": "b4370981-3994-438f-a1cc-09a097c53eff",
   "metadata": {},
   "outputs": [
    {
     "data": {
      "text/plain": [
       "{'_id': ObjectId('6459f29748e9c8c06012be44'),\n",
       " 'AB': 'CLINICAL RELEVANCE: Hand hygiene is important to reduce the spread of microbes in clinical settings. Hand sanitisers that last longer may be beneficial. BACKGROUND: Longevity of hand sanitisation products on fingers and hands may be important to help reduce microbial transmission. The current study evaluated the persistence of disinfection of three hand sanitisers. METHODS: Initially the minimum inhibitory concentrations of the hand sanitisers were determined using strains of Staphylococcus epidermidis and S. aureus. Then a cross-over study with participants randomly assigned to use three different hand sanitisers for 30 seconds was undertaken. The number of bacteria and fungi on fingers was assessed 10 and 20 minutes and 4 hours after use. The type of microbial inhibition of the capric acid sanitiser was studied by examining the effects of adding Tween 80 and lecithin to microbial agar. RESULTS: The minimum inhibitory concentration of an alcohol-based sanitiser (AS) was 10%, for the capric acid-based (CS) sanitiser was 70%, and for the quaternary ammonium-based (QS) sanitiser was < 10%. AS significantly reduced the number of microbes on fingers 10 minutes after hand washing (18.2 cfu/mL) compared to CS (59.7 cfu/mL; p < 0.0001) or QS (64.5 cfu/mL; p < 0.0001). Twenty minutes after use, microbes on fingers after AS (23 cfu/mL) or CS (16.7 cfu/mL) were significantly reduced compared to QS (72.2  cfu/mL; p < 0.0001) and the numbers on fingers after CS was significantly less than after AS (p = 0.002). Four hours after use of any hand sanitiser, the number of microbes increased to near baseline levels. The reduction in bacterial numbers was not affected by the use of neutralisers in agar (48 +- 28% reduction with, 47 +- 49% reduction without; p = 0.876). CONCLUSIONS: Hand sanitisers containing capric acid or alcohol out-performed one containing quaternary ammonium in the clinical trial and may help reduce the spread of microbes.',\n",
       " 'type': 'Carbohydrate',\n",
       " 'identifier': 'MESH:D000362',\n",
       " 'sentence': 'The reduction in bacterial numbers was not affected by the use of neutralisers in agar (48 +- 28% reduction with, 47 +- 49% reduction without; p = 0.876).',\n",
       " 'sentenceSize': 14,\n",
       " 'sentenceIndex': 12,\n",
       " 'addtime': '2023_05_09',\n",
       " 'PMID': '35263547',\n",
       " 'word': 'agar',\n",
       " 'class': ['Carbohydrate'],\n",
       " 'subclass': 'Agar',\n",
       " 'url': '/mesh/68000362',\n",
       " 'DP': '2023 May',\n",
       " 'URL': 'https://pubmed.ncbi.nlm.nih.gov/35263547',\n",
       " 'TI': 'Longevity of hand sanitisers on fingers.',\n",
       " 'entity': 'Agar',\n",
       " 'target': 'agar',\n",
       " 'JT': 'Clinical & experimental optometry',\n",
       " 'MESH': 'D000362',\n",
       " 'Summary': 'A complex sulfated polymer of galactose units, extracted from Gelidium cartilagineum, Gracilaria confervoides, and related red algae. It is used as a gel in the preparation of solid culture media for microorganisms, as a bulk laxative, in making emulsions, and as a supporting medium for immunodiffusion and immunoelectrophoresis.',\n",
       " 'YearIntroduced': '',\n",
       " 'date': 20230501,\n",
       " 'year': 2023}"
      ]
     },
     "execution_count": 224,
     "metadata": {},
     "output_type": "execute_result"
    }
   ],
   "source": [
    "shenme[-1]"
   ]
  },
  {
   "cell_type": "code",
   "execution_count": null,
   "id": "8d1884c0-c9c7-40a0-82d9-5b2b4d4cda2b",
   "metadata": {},
   "outputs": [],
   "source": []
  },
  {
   "cell_type": "code",
   "execution_count": null,
   "id": "a977ba55-741e-40a7-ad8a-3df434ac47c5",
   "metadata": {},
   "outputs": [],
   "source": []
  },
  {
   "cell_type": "markdown",
   "id": "5b2e4e32-1d25-4b25-9f38-041c3c13c2bf",
   "metadata": {},
   "source": [
    "# Carbohydrate_all"
   ]
  },
  {
   "cell_type": "code",
   "execution_count": 225,
   "id": "7514e4d9-5f5e-43a2-afa4-92c9c1ff7d6d",
   "metadata": {},
   "outputs": [],
   "source": [
    "Carbohydrate_raw_all=list(collections_Carbohydrate_raw.find())"
   ]
  },
  {
   "cell_type": "code",
   "execution_count": 226,
   "id": "ace42600-1ca3-40e7-934d-9d197011c8f7",
   "metadata": {},
   "outputs": [
    {
     "data": {
      "text/plain": [
       "17738"
      ]
     },
     "execution_count": 226,
     "metadata": {},
     "output_type": "execute_result"
    }
   ],
   "source": [
    "len(Carbohydrate_raw_all)"
   ]
  },
  {
   "cell_type": "code",
   "execution_count": 227,
   "id": "3f52ae34-31e1-4132-b6e9-3398b6522540",
   "metadata": {},
   "outputs": [],
   "source": [
    "for i in Carbohydrate_raw_all:\n",
    "    i['type']='Carbohydrate'\n",
    "    i[\"PMID\"]=[i.get(\"PMID\")]\n",
    "    i[\"sentence\"]=[[i.get(\"sentence\")]]\n",
    "    pmid=i.get('PMID')[0]\n",
    "    i['DP']=[i.get(\"DP\")]\n",
    "    i['AB']=[i.get(\"AB\")]\n",
    "    i['URL']='https://pubmed.ncbi.nlm.nih.gov/'+pmid\n",
    "    i['TI']=[i.get(\"TI\")]\n",
    "    i['target']=[[i.get('word')]]\n",
    "    i[\"date\"]=[i.get(\"date\")]\n",
    "    i[\"year\"]=[i.get(\"year\")]\n",
    "    i['JT']=[i.get('JT')]"
   ]
  },
  {
   "cell_type": "code",
   "execution_count": 228,
   "id": "478e2b31-626c-4572-ab5b-8f169a10c69a",
   "metadata": {},
   "outputs": [],
   "source": [
    "Carbohydrate_mid={}\n",
    "for i in Carbohydrate_raw_all:\n",
    "    if not Carbohydrate_mid.get(i.get(\"entity\")):\n",
    "        Carbohydrate_mid[i.get(\"entity\")]=i\n",
    "    else:\n",
    "        if i.get('PMID')[0] in Carbohydrate_mid.get(i.get('entity')).get('PMID'):\n",
    "            ind=Carbohydrate_mid.get(i.get('entity')).get('PMID').index(i.get('PMID')[0])\n",
    "            if i.get(\"sentence\")[0][0] in Carbohydrate_mid.get(i.get('entity')).get('sentence')[ind]:\n",
    "                continue\n",
    "            else:\n",
    "                Carbohydrate_mid[i.get('entity')]['sentence'][ind] = Carbohydrate_mid.get(i.get('entity')).get('sentence')[ind] + i.get(\"sentence\")[0]\n",
    "                Carbohydrate_mid[i.get('entity')]['target'][ind] = Carbohydrate_mid.get(i.get('entity')).get('target')[ind] + i.get(\"target\")[0]\n",
    "        else:\n",
    "            Carbohydrate_mid[i.get(\"entity\")][\"PMID\"]=Carbohydrate_mid.get(i.get(\"entity\")).get(\"PMID\")+i.get(\"PMID\")\n",
    "            Carbohydrate_mid[i.get(\"entity\")][\"sentence\"]=Carbohydrate_mid.get(i.get(\"entity\")).get(\"sentence\")+i.get(\"sentence\")\n",
    "            Carbohydrate_mid[i.get(\"entity\")][\"AB\"]=Carbohydrate_mid.get(i.get(\"entity\")).get(\"AB\")+i.get(\"AB\")\n",
    "            Carbohydrate_mid[i.get(\"entity\")][\"DP\"]=Carbohydrate_mid.get(i.get(\"entity\")).get(\"DP\")+i.get(\"DP\")\n",
    "            Carbohydrate_mid[i.get(\"entity\")][\"TI\"]=Carbohydrate_mid.get(i.get(\"entity\")).get(\"TI\")+i.get(\"TI\")\n",
    "            Carbohydrate_mid[i.get(\"entity\")][\"target\"]=Carbohydrate_mid.get(i.get(\"entity\")).get(\"target\")+i.get(\"target\")\n",
    "            Carbohydrate_mid[i.get(\"entity\")][\"date\"]=Carbohydrate_mid.get(i.get(\"entity\")).get(\"date\")+i.get(\"date\")\n",
    "            Carbohydrate_mid[i.get(\"entity\")][\"year\"]=Carbohydrate_mid.get(i.get(\"entity\")).get(\"year\")+i.get(\"year\")\n",
    "            Carbohydrate_mid[i.get(\"entity\")][\"JT\"]=Carbohydrate_mid.get(i.get(\"entity\")).get(\"JT\")+i.get(\"JT\")"
   ]
  },
  {
   "cell_type": "code",
   "execution_count": 229,
   "id": "ef50f1c2-a5e3-47a4-bddc-4b38e714343f",
   "metadata": {},
   "outputs": [],
   "source": [
    "Carbohydrate_all=list(Carbohydrate_mid.values())"
   ]
  },
  {
   "cell_type": "code",
   "execution_count": 230,
   "id": "fb1e2451-611d-4c43-ace0-09289d8c59c6",
   "metadata": {},
   "outputs": [
    {
     "data": {
      "text/plain": [
       "204"
      ]
     },
     "execution_count": 230,
     "metadata": {},
     "output_type": "execute_result"
    }
   ],
   "source": [
    "len(Carbohydrate_all)"
   ]
  },
  {
   "cell_type": "code",
   "execution_count": 231,
   "id": "9296ce15-8fa3-4871-b0ca-4a4f0c9a0905",
   "metadata": {},
   "outputs": [],
   "source": [
    "for i in Carbohydrate_all:\n",
    "    i['allyears']=[]\n",
    "    i['datestring']=[]\n",
    "    for j in i.get('date'):\n",
    "        if int(str(j)[:4]) not in i.get('allyears'):\n",
    "            i['allyears']= i.get('allyears')+[int(str(j)[:4])]\n",
    "    for j in i.get('date'):\n",
    "        if str(j)[:4]+\"-\"+str(j)[4:6]+\"-\"+str(j)[6:] not in i.get('datestring'):\n",
    "            i['datestring']=i.get('datestring')+[str(j)[:4]+\"-\"+str(j)[4:6]+\"-\"+str(j)[6:]]\n",
    "    i['allyears']=sorted(i.get('allyears'), reverse=True)\n",
    "    i['datestring']=sorted(i.get('datestring'), reverse=True)\n",
    "    upperlist=set()\n",
    "    for j in sum(i.get('target'),[]):\n",
    "        upperlist.add(j.upper())\n",
    "    i['targetshapes']=list(upperlist)\n",
    "    i['addtime']=now_time"
   ]
  },
  {
   "cell_type": "code",
   "execution_count": 232,
   "id": "3b5b49ad-9729-452e-bebc-04727fdce18d",
   "metadata": {},
   "outputs": [
    {
     "data": {
      "text/plain": [
       "'A class of sphingolipids found largely in the brain and other nervous tissue. They contain phosphocholine or phosphoethanolamine as their polar head group so therefore are the only sphingolipids classified as PHOSPHOLIPIDS.'"
      ]
     },
     "execution_count": 232,
     "metadata": {},
     "output_type": "execute_result"
    }
   ],
   "source": [
    "Carbohydrate_all[10].get('Summary')"
   ]
  },
  {
   "cell_type": "code",
   "execution_count": null,
   "id": "e96b9214-8662-42d1-b87f-1450989208c2",
   "metadata": {},
   "outputs": [],
   "source": []
  },
  {
   "cell_type": "code",
   "execution_count": null,
   "id": "b9ff94bc-6047-4ae2-9180-100580a2db9c",
   "metadata": {},
   "outputs": [],
   "source": []
  },
  {
   "cell_type": "markdown",
   "id": "e33bf01c-d9e3-4f04-9f91-c484e27ab764",
   "metadata": {},
   "source": [
    "# Lipid_raw"
   ]
  },
  {
   "cell_type": "code",
   "execution_count": 234,
   "id": "060de6ef-478a-47c5-b8ec-eed5b8e395e7",
   "metadata": {},
   "outputs": [],
   "source": [
    "collections_Lipid_raw=db.Lipid_raw"
   ]
  },
  {
   "cell_type": "code",
   "execution_count": 235,
   "id": "8df1691f-2bcb-438d-b175-3483b0827d9c",
   "metadata": {},
   "outputs": [
    {
     "data": {
      "text/plain": [
       "72"
      ]
     },
     "execution_count": 235,
     "metadata": {},
     "output_type": "execute_result"
    }
   ],
   "source": [
    "len(Lipid_raw)"
   ]
  },
  {
   "cell_type": "code",
   "execution_count": 236,
   "id": "9b61e1ed-8da6-4a52-a373-1c85cc1cccd9",
   "metadata": {},
   "outputs": [],
   "source": [
    "if len(Lipid_raw)!=0:\n",
    "    collections_Lipid_raw.insert_many(Lipid_raw)"
   ]
  },
  {
   "cell_type": "code",
   "execution_count": null,
   "id": "d7a6347d-790a-4467-ab7b-154cff9850cf",
   "metadata": {},
   "outputs": [],
   "source": []
  },
  {
   "cell_type": "code",
   "execution_count": null,
   "id": "ff92781f-eab4-42a1-9244-b6aa41ad37b7",
   "metadata": {},
   "outputs": [],
   "source": []
  },
  {
   "cell_type": "markdown",
   "id": "3d91e5d3-01aa-4ba8-88fd-dc719a427215",
   "metadata": {},
   "source": [
    "# Lipid_all"
   ]
  },
  {
   "cell_type": "code",
   "execution_count": 237,
   "id": "a377447a-c977-4c96-8869-64b9579c044b",
   "metadata": {},
   "outputs": [],
   "source": [
    "Lipid_raw_all=list(collections_Lipid_raw.find())"
   ]
  },
  {
   "cell_type": "code",
   "execution_count": 238,
   "id": "cf111280-668c-41bc-b16a-5a2f92c73669",
   "metadata": {},
   "outputs": [
    {
     "data": {
      "text/plain": [
       "19204"
      ]
     },
     "execution_count": 238,
     "metadata": {},
     "output_type": "execute_result"
    }
   ],
   "source": [
    "len(Lipid_raw_all)"
   ]
  },
  {
   "cell_type": "code",
   "execution_count": 239,
   "id": "ef2025e5-43c0-4745-819b-cffa71e2e983",
   "metadata": {},
   "outputs": [],
   "source": [
    "for i in Lipid_raw_all:\n",
    "    if i.get('entity')=='Angiotensins':\n",
    "        print(i)"
   ]
  },
  {
   "cell_type": "code",
   "execution_count": 240,
   "id": "689fd969-7949-4453-b646-617dd8cde27a",
   "metadata": {},
   "outputs": [],
   "source": [
    "for i in Lipid_raw_all:\n",
    "    i['type']='Lipid'\n",
    "    i[\"PMID\"]=[i.get(\"PMID\")]\n",
    "    i[\"sentence\"]=[[i.get(\"sentence\")]]\n",
    "    pmid=i.get('PMID')[0]\n",
    "    i['DP']=[i.get(\"DP\")]\n",
    "    i['AB']=[i.get(\"AB\")]\n",
    "    i['URL']='https://pubmed.ncbi.nlm.nih.gov/'+pmid\n",
    "    i['TI']=[i.get(\"TI\")]\n",
    "    i['target']=[[i.get('word')]]\n",
    "    i[\"date\"]=[i.get(\"date\")]\n",
    "    i[\"year\"]=[i.get(\"year\")]\n",
    "    i['JT']=[i.get('JT')]"
   ]
  },
  {
   "cell_type": "code",
   "execution_count": 241,
   "id": "feb007d5-4ad7-4d30-ba8c-7c95787408d4",
   "metadata": {},
   "outputs": [],
   "source": [
    "Lipid_mid={}\n",
    "for i in Lipid_raw_all:\n",
    "    if not Lipid_mid.get(i.get(\"entity\")):\n",
    "        Lipid_mid[i.get(\"entity\")]=i\n",
    "    else:\n",
    "        if i.get('PMID')[0] in Lipid_mid.get(i.get('entity')).get('PMID'):\n",
    "            ind=Lipid_mid.get(i.get('entity')).get('PMID').index(i.get('PMID')[0])\n",
    "            if i.get(\"sentence\")[0][0] in Lipid_mid.get(i.get('entity')).get('sentence')[ind]:\n",
    "                continue\n",
    "            else:\n",
    "                Lipid_mid[i.get('entity')]['sentence'][ind] = Lipid_mid.get(i.get('entity')).get('sentence')[ind] + i.get(\"sentence\")[0]\n",
    "                Lipid_mid[i.get('entity')]['target'][ind] = Lipid_mid.get(i.get('entity')).get('target')[ind] + i.get(\"target\")[0]\n",
    "        else:\n",
    "            Lipid_mid[i.get(\"entity\")][\"PMID\"]=Lipid_mid.get(i.get(\"entity\")).get(\"PMID\")+i.get(\"PMID\")\n",
    "            Lipid_mid[i.get(\"entity\")][\"sentence\"]=Lipid_mid.get(i.get(\"entity\")).get(\"sentence\")+i.get(\"sentence\")\n",
    "            Lipid_mid[i.get(\"entity\")][\"AB\"]=Lipid_mid.get(i.get(\"entity\")).get(\"AB\")+i.get(\"AB\")\n",
    "            Lipid_mid[i.get(\"entity\")][\"DP\"]=Lipid_mid.get(i.get(\"entity\")).get(\"DP\")+i.get(\"DP\")\n",
    "            Lipid_mid[i.get(\"entity\")][\"TI\"]=Lipid_mid.get(i.get(\"entity\")).get(\"TI\")+i.get(\"TI\")\n",
    "            Lipid_mid[i.get(\"entity\")][\"target\"]=Lipid_mid.get(i.get(\"entity\")).get(\"target\")+i.get(\"target\")\n",
    "            Lipid_mid[i.get(\"entity\")][\"date\"]=Lipid_mid.get(i.get(\"entity\")).get(\"date\")+i.get(\"date\")\n",
    "            Lipid_mid[i.get(\"entity\")][\"year\"]=Lipid_mid.get(i.get(\"entity\")).get(\"year\")+i.get(\"year\")\n",
    "            Lipid_mid[i.get(\"entity\")][\"JT\"]=Lipid_mid.get(i.get(\"entity\")).get(\"JT\")+i.get(\"JT\")"
   ]
  },
  {
   "cell_type": "code",
   "execution_count": 242,
   "id": "aa05c57b-399c-4b20-8273-70bd3b4e7539",
   "metadata": {},
   "outputs": [],
   "source": [
    "Lipid_all=list(Lipid_mid.values())"
   ]
  },
  {
   "cell_type": "code",
   "execution_count": 243,
   "id": "f47fa46f-e5ce-4f2f-95fd-18bb7acf7505",
   "metadata": {},
   "outputs": [
    {
     "data": {
      "text/plain": [
       "191"
      ]
     },
     "execution_count": 243,
     "metadata": {},
     "output_type": "execute_result"
    }
   ],
   "source": [
    "len(Lipid_all)"
   ]
  },
  {
   "cell_type": "code",
   "execution_count": 244,
   "id": "24ded20c-c039-4747-8abb-5e3ab908e7f7",
   "metadata": {},
   "outputs": [],
   "source": [
    "for i in Lipid_all:\n",
    "    i['allyears']=[]\n",
    "    i['datestring']=[]\n",
    "    for j in i.get('date'):\n",
    "        if int(str(j)[:4]) not in i.get('allyears'):\n",
    "            i['allyears']= i.get('allyears')+[int(str(j)[:4])]\n",
    "    for j in i.get('date'):\n",
    "        if str(j)[:4]+\"-\"+str(j)[4:6]+\"-\"+str(j)[6:] not in i.get('datestring'):\n",
    "            i['datestring']=i.get('datestring')+[str(j)[:4]+\"-\"+str(j)[4:6]+\"-\"+str(j)[6:]]\n",
    "    i['allyears']=sorted(i.get('allyears'), reverse=True)\n",
    "    i['datestring']=sorted(i.get('datestring'), reverse=True)\n",
    "    upperlist=set()\n",
    "    for j in sum(i.get('target'),[]):\n",
    "        upperlist.add(j.upper())\n",
    "    i['targetshapes']=list(upperlist)\n",
    "    i['addtime']=now_time"
   ]
  },
  {
   "cell_type": "code",
   "execution_count": null,
   "id": "722e0fb5-2a74-4435-9921-d7f73ab25cdc",
   "metadata": {},
   "outputs": [],
   "source": []
  },
  {
   "cell_type": "code",
   "execution_count": null,
   "id": "8eaeef78-e38e-474a-b550-817e0bdcc695",
   "metadata": {},
   "outputs": [],
   "source": []
  },
  {
   "cell_type": "markdown",
   "id": "e2960598-439e-4008-ba08-3e276df0121d",
   "metadata": {},
   "source": [
    "# Peptide_raw"
   ]
  },
  {
   "cell_type": "code",
   "execution_count": 246,
   "id": "ceebfcd5-ba72-451a-8b6c-40670a3dc3e8",
   "metadata": {},
   "outputs": [],
   "source": [
    "collections_Peptide_raw=db.Peptide_raw"
   ]
  },
  {
   "cell_type": "code",
   "execution_count": 247,
   "id": "742aab6d-7c80-429d-9f04-d591775e4dd7",
   "metadata": {},
   "outputs": [
    {
     "data": {
      "text/plain": [
       "31"
      ]
     },
     "execution_count": 247,
     "metadata": {},
     "output_type": "execute_result"
    }
   ],
   "source": [
    "len(Peptide_raw)"
   ]
  },
  {
   "cell_type": "code",
   "execution_count": 248,
   "id": "ee578111-9339-4bb6-960c-8e418ff673ca",
   "metadata": {},
   "outputs": [],
   "source": [
    "if len(Peptide_raw)!=0:\n",
    "    collections_Peptide_raw.insert_many(Peptide_raw)"
   ]
  },
  {
   "cell_type": "code",
   "execution_count": null,
   "id": "2e308e42-ed18-4782-91f5-fa2a48c8b996",
   "metadata": {},
   "outputs": [],
   "source": []
  },
  {
   "cell_type": "code",
   "execution_count": null,
   "id": "1a0e6389-3807-4117-b732-1e564d292a3f",
   "metadata": {},
   "outputs": [],
   "source": []
  },
  {
   "cell_type": "markdown",
   "id": "11fa5361-23d6-40b7-984f-67f6b42cfa80",
   "metadata": {},
   "source": [
    "# Peptide_all"
   ]
  },
  {
   "cell_type": "code",
   "execution_count": 250,
   "id": "09251b4b-62b5-4520-b4df-4266a7d6c603",
   "metadata": {},
   "outputs": [],
   "source": [
    "Peptide_raw_all=list(collections_Peptide_raw.find())"
   ]
  },
  {
   "cell_type": "code",
   "execution_count": 251,
   "id": "e64f82b5-d676-47a6-b92d-bbf9bd4692fd",
   "metadata": {},
   "outputs": [
    {
     "data": {
      "text/plain": [
       "3443"
      ]
     },
     "execution_count": 251,
     "metadata": {},
     "output_type": "execute_result"
    }
   ],
   "source": [
    "len(Peptide_raw_all)"
   ]
  },
  {
   "cell_type": "code",
   "execution_count": 252,
   "id": "5d1aa234-f2e5-4e7a-9b40-dc7a72b17c76",
   "metadata": {},
   "outputs": [
    {
     "name": "stdout",
     "output_type": "stream",
     "text": [
      "{'_id': ObjectId('64005023648b16758fce3875'), 'AB': 'AIMS: Real-world evidence about heart failure (HF) medical care for elderly patients is limited. The aim of this study was to clarify the age-dependent associations of HF medications at discharge with clinical outcomes in a super-aged society using a real-world big database. METHODS AND RESULTS: Patients hospitalized with a first episode of acute HF in 2013-2019 were identified in a nationwide claims database in Japan and were analyzed based on the HF medications at discharge. Hazard ratios (HRs) and 95 % confidence intervals (95 % CIs) for clinical outcomes were calculated after adjustment. Among 325,468 patients from 4351 hospitals, 130,230 (40.0 %) were aged >= 85 years. All-cause mortality and HF readmission rate within 1 year were 14 % and 23 %, respectively. beta-Blockers and angiotensin-converting-enzyme inhibitors or angiotensin II receptor blockers (ACEI/ARB) uses were associated with lower mortality (HR [95 %CI]: 0.84 [0.83,0.86] and 0.73 [0.71,0.74], respectively) and HF readmission (0.98 [0.97,0.99] and 0.89 [0.88,0.90], respectively). The associations were attenuated as the age increased and, in beta-blockers use, the favorable associations with mortality and HF readmission were not observed in patients with >= 95 years and >= 80 years, respectively. In contrast, mineralocorticoid receptor antagonists (MRA) use was associated only with lower HF readmission (0.83 [0.82,0.84]), which was not attenuated with increased age. CONCLUSIONS: The favorable associations of beta-blockers and ACEI/ARB uses with mortality and HF readmission were age-dependently attenuated in patients across a broad spectrum of HF in a super-aged society. In contrast, positive impact of MRA use on HF readmission was not attenuated with aging.', 'type': 'Protein', 'identifier': 'MESH:D000809', 'sentence': 'beta-Blockers and angiotensin-converting-enzyme inhibitors or angiotensin II receptor blockers (ACEI/ARB) uses were associated with lower mortality (HR [95 %CI]: 0.84 [0.83,0.86] and 0.73 [0.71,0.74], respectively) and HF readmission (0.98 [0.97,0.99] and 0.89 [0.88,0.90], respectively).', 'sentenceSize': 11, 'sentenceIndex': 6, 'addtime': '2022_12_09', 'PMID': '36271549', 'word': 'angiotensin', 'class': ['Peptide', 'Protein'], 'subclass': 'Angiotensins', 'url': '/mesh/68000809', 'DP': '2022 Nov', 'URL': 'https://pubmed.ncbi.nlm.nih.gov/36271549', 'TI': 'Age-dependent association of discharge heart-failure medications with clinical outcomes in a super-aged society.', 'entity': 'Angiotensins', 'target': 'angiotensin', 'JT': 'Biomedicine & pharmacotherapy = Biomedecine & pharmacotherapie', 'MESH': 'D000809', 'Summary': 'Oligopeptides which are important in the regulation of blood pressure (VASOCONSTRICTION) and fluid homeostasis via the RENIN-ANGIOTENSIN SYSTEM. These include angiotensins derived naturally from precursor ANGIOTENSINOGEN, and those synthesized.', 'YearIntroduced': '1978', 'date': 20221101, 'year': 2022}\n"
     ]
    }
   ],
   "source": [
    "for i in Peptide_raw_all:\n",
    "    if i.get('entity')=='Angiotensins':\n",
    "        print(i)\n",
    "        break"
   ]
  },
  {
   "cell_type": "code",
   "execution_count": 253,
   "id": "84052d44-fb20-4578-83b5-66a8f9e5a5e4",
   "metadata": {},
   "outputs": [],
   "source": [
    "for i in Peptide_raw_all:\n",
    "    i['type']='Peptide'\n",
    "    i[\"PMID\"]=[i.get(\"PMID\")]\n",
    "    i[\"sentence\"]=[[i.get(\"sentence\")]]\n",
    "    pmid=i.get('PMID')[0]\n",
    "    i['DP']=[i.get(\"DP\")]\n",
    "    i['AB']=[i.get(\"AB\")]\n",
    "    i['URL']='https://pubmed.ncbi.nlm.nih.gov/'+pmid\n",
    "    i['TI']=[i.get(\"TI\")]\n",
    "    i['target']=[[i.get('word')]]\n",
    "    i[\"date\"]=[i.get(\"date\")]\n",
    "    i[\"year\"]=[i.get(\"year\")]\n",
    "    i['JT']=[i.get('JT')]"
   ]
  },
  {
   "cell_type": "code",
   "execution_count": 254,
   "id": "1627ce72-74f8-4e61-87b4-7139888cc2d7",
   "metadata": {},
   "outputs": [],
   "source": [
    "Peptide_mid={}\n",
    "for i in Peptide_raw_all:\n",
    "    if not Peptide_mid.get(i.get(\"entity\")):\n",
    "        Peptide_mid[i.get(\"entity\")]=i\n",
    "    else:\n",
    "        if i.get('PMID')[0] in Peptide_mid.get(i.get('entity')).get('PMID'):\n",
    "\n",
    "            ind=Peptide_mid.get(i.get('entity')).get('PMID').index(i.get('PMID')[0])\n",
    "            if i.get(\"sentence\")[0][0] in Peptide_mid.get(i.get('entity')).get('sentence')[ind]:\n",
    "                continue\n",
    "            else:\n",
    "                Peptide_mid[i.get('entity')]['sentence'][ind] = Peptide_mid.get(i.get('entity')).get('sentence')[ind] + i.get(\"sentence\")[0]\n",
    "                Peptide_mid[i.get('entity')]['target'][ind] = Peptide_mid.get(i.get('entity')).get('target')[ind] + i.get(\"target\")[0]\n",
    "\n",
    "        else:\n",
    "            Peptide_mid[i.get(\"entity\")][\"PMID\"]=Peptide_mid.get(i.get(\"entity\")).get(\"PMID\")+i.get(\"PMID\")\n",
    "            Peptide_mid[i.get(\"entity\")][\"sentence\"]=Peptide_mid.get(i.get(\"entity\")).get(\"sentence\")+i.get(\"sentence\")\n",
    "            Peptide_mid[i.get(\"entity\")][\"AB\"]=Peptide_mid.get(i.get(\"entity\")).get(\"AB\")+i.get(\"AB\")\n",
    "            Peptide_mid[i.get(\"entity\")][\"DP\"]=Peptide_mid.get(i.get(\"entity\")).get(\"DP\")+i.get(\"DP\")\n",
    "            Peptide_mid[i.get(\"entity\")][\"TI\"]=Peptide_mid.get(i.get(\"entity\")).get(\"TI\")+i.get(\"TI\")\n",
    "            Peptide_mid[i.get(\"entity\")][\"target\"]=Peptide_mid.get(i.get(\"entity\")).get(\"target\")+i.get(\"target\")\n",
    "            Peptide_mid[i.get(\"entity\")][\"date\"]=Peptide_mid.get(i.get(\"entity\")).get(\"date\")+i.get(\"date\")\n",
    "            Peptide_mid[i.get(\"entity\")][\"year\"]=Peptide_mid.get(i.get(\"entity\")).get(\"year\")+i.get(\"year\")\n",
    "            Peptide_mid[i.get(\"entity\")][\"JT\"]=Peptide_mid.get(i.get(\"entity\")).get(\"JT\")+i.get(\"JT\")"
   ]
  },
  {
   "cell_type": "code",
   "execution_count": 255,
   "id": "7a051e8b-d7a0-42a9-898a-2b41bb230169",
   "metadata": {},
   "outputs": [],
   "source": [
    "Peptide_all=list(Peptide_mid.values())"
   ]
  },
  {
   "cell_type": "code",
   "execution_count": 256,
   "id": "9d510c9e-79c6-4427-bd33-dcbed2f22d33",
   "metadata": {},
   "outputs": [
    {
     "data": {
      "text/plain": [
       "79"
      ]
     },
     "execution_count": 256,
     "metadata": {},
     "output_type": "execute_result"
    }
   ],
   "source": [
    "len(Peptide_all)"
   ]
  },
  {
   "cell_type": "code",
   "execution_count": 257,
   "id": "46e64ea2-56d2-4a34-85af-cfcd41881aa5",
   "metadata": {},
   "outputs": [],
   "source": [
    "for i in Peptide_all:\n",
    "    i['allyears']=[]\n",
    "    i['datestring']=[]\n",
    "    for j in i.get('date'):\n",
    "        if int(str(j)[:4]) not in i.get('allyears'):\n",
    "            i['allyears']= i.get('allyears')+[int(str(j)[:4])]\n",
    "    for j in i.get('date'):\n",
    "        if str(j)[:4]+\"-\"+str(j)[4:6]+\"-\"+str(j)[6:] not in i.get('datestring'):\n",
    "            i['datestring']=i.get('datestring')+[str(j)[:4]+\"-\"+str(j)[4:6]+\"-\"+str(j)[6:]]\n",
    "    i['allyears']=sorted(i.get('allyears'), reverse=True)\n",
    "    i['datestring']=sorted(i.get('datestring'), reverse=True)\n",
    "    upperlist=set()\n",
    "    for j in sum(i.get('target'),[]):\n",
    "        upperlist.add(j.upper())\n",
    "    i['targetshapes']=list(upperlist)\n",
    "    i['addtime']=now_time"
   ]
  },
  {
   "cell_type": "code",
   "execution_count": null,
   "id": "14c805a8-9e94-4a6a-9a53-04feb543d645",
   "metadata": {},
   "outputs": [],
   "source": []
  },
  {
   "cell_type": "code",
   "execution_count": null,
   "id": "2179d56e-8c41-4c74-93bc-ecd645ae4c59",
   "metadata": {},
   "outputs": [],
   "source": []
  },
  {
   "cell_type": "markdown",
   "id": "7eb089c4-1d7e-4659-af46-be0bdf511584",
   "metadata": {},
   "source": [
    "# Pharmaceutical_Preparations_raw"
   ]
  },
  {
   "cell_type": "code",
   "execution_count": 259,
   "id": "ce02d879-2f10-40b0-b517-54938eeb74cc",
   "metadata": {},
   "outputs": [],
   "source": [
    "collections_Pharmaceutical_Preparations_raw=db.Pharmaceutical_Preparations_raw"
   ]
  },
  {
   "cell_type": "code",
   "execution_count": 260,
   "id": "8cfcc527-b4fc-4292-809c-2322fa82b741",
   "metadata": {},
   "outputs": [
    {
     "data": {
      "text/plain": [
       "1"
      ]
     },
     "execution_count": 260,
     "metadata": {},
     "output_type": "execute_result"
    }
   ],
   "source": [
    "len(Pharmaceutical_Preparations_raw)"
   ]
  },
  {
   "cell_type": "code",
   "execution_count": 261,
   "id": "28f26900-48db-4a62-9a22-5f54db19ed1f",
   "metadata": {},
   "outputs": [],
   "source": [
    "if len(Pharmaceutical_Preparations_raw)!=0:\n",
    "    collections_Pharmaceutical_Preparations_raw.insert_many(Pharmaceutical_Preparations_raw)"
   ]
  },
  {
   "cell_type": "code",
   "execution_count": null,
   "id": "9fcbd29b-1aba-4bca-a26d-936695b3f9bc",
   "metadata": {},
   "outputs": [],
   "source": []
  },
  {
   "cell_type": "code",
   "execution_count": null,
   "id": "fb849e35-3c44-472e-a179-ac15d89a42ab",
   "metadata": {},
   "outputs": [],
   "source": []
  },
  {
   "cell_type": "markdown",
   "id": "faa0a43c-24c4-4de6-abad-13c0da5a4a81",
   "metadata": {},
   "source": [
    "# Pharmaceutical_Preparations_all"
   ]
  },
  {
   "cell_type": "code",
   "execution_count": 263,
   "id": "dac48525-167b-42d8-8d85-ddbd7d9ea8b2",
   "metadata": {},
   "outputs": [],
   "source": [
    "Pharmaceutical_Preparations_raw_all=list(collections_Pharmaceutical_Preparations_raw.find())"
   ]
  },
  {
   "cell_type": "code",
   "execution_count": 264,
   "id": "817fd846-ec5c-4e98-a2aa-7ff41fcdbf85",
   "metadata": {},
   "outputs": [
    {
     "data": {
      "text/plain": [
       "270"
      ]
     },
     "execution_count": 264,
     "metadata": {},
     "output_type": "execute_result"
    }
   ],
   "source": [
    "len(Pharmaceutical_Preparations_raw_all)"
   ]
  },
  {
   "cell_type": "code",
   "execution_count": 265,
   "id": "a9bebeb4-c7a4-47bd-b102-bd9a85c794f9",
   "metadata": {},
   "outputs": [],
   "source": [
    "for i in Pharmaceutical_Preparations_raw_all:\n",
    "    i['type']='Pharmaceutical Preparations'\n",
    "    i[\"PMID\"]=[i.get(\"PMID\")]\n",
    "    i[\"sentence\"]=[[i.get(\"sentence\")]]\n",
    "    pmid=i.get('PMID')[0]\n",
    "    i['DP']=[i.get(\"DP\")]\n",
    "    i['AB']=[i.get(\"AB\")]\n",
    "    i['URL']='https://pubmed.ncbi.nlm.nih.gov/'+pmid\n",
    "    i['TI']=[i.get(\"TI\")]\n",
    "    i['target']=[[i.get('word')]]\n",
    "    i[\"date\"]=[i.get(\"date\")]\n",
    "    i[\"year\"]=[i.get(\"year\")]\n",
    "    i['JT']=[i.get('JT')]"
   ]
  },
  {
   "cell_type": "code",
   "execution_count": 266,
   "id": "7137138d-577b-4188-8f5c-0779e7207b20",
   "metadata": {},
   "outputs": [],
   "source": [
    "Pharmaceutical_Preparations_mid={}\n",
    "for i in Pharmaceutical_Preparations_raw_all:\n",
    "    if not Pharmaceutical_Preparations_mid.get(i.get(\"entity\")):\n",
    "        Pharmaceutical_Preparations_mid[i.get(\"entity\")]=i\n",
    "    else:\n",
    "        if i.get('PMID')[0] in Pharmaceutical_Preparations_mid.get(i.get('entity')).get('PMID'):\n",
    "            ind=Pharmaceutical_Preparations_mid.get(i.get('entity')).get('PMID').index(i.get('PMID')[0])\n",
    "            if i.get(\"sentence\")[0][0] in Pharmaceutical_Preparations_mid.get(i.get('entity')).get('sentence')[ind]:\n",
    "                continue\n",
    "            else:\n",
    "                Pharmaceutical_Preparations_mid[i.get('entity')]['sentence'][ind] = Pharmaceutical_Preparations_mid.get(i.get('entity')).get('sentence')[ind] + i.get(\"sentence\")[0]\n",
    "                Pharmaceutical_Preparations_mid[i.get('entity')]['target'][ind] = Pharmaceutical_Preparations_mid.get(i.get('entity')).get('target')[ind] + i.get(\"target\")[0]\n",
    "        else:\n",
    "            Pharmaceutical_Preparations_mid[i.get(\"entity\")][\"PMID\"]=Pharmaceutical_Preparations_mid.get(i.get(\"entity\")).get(\"PMID\")+i.get(\"PMID\")\n",
    "            Pharmaceutical_Preparations_mid[i.get(\"entity\")][\"sentence\"]=Pharmaceutical_Preparations_mid.get(i.get(\"entity\")).get(\"sentence\")+i.get(\"sentence\")\n",
    "            Pharmaceutical_Preparations_mid[i.get(\"entity\")][\"AB\"]=Pharmaceutical_Preparations_mid.get(i.get(\"entity\")).get(\"AB\")+i.get(\"AB\")\n",
    "            Pharmaceutical_Preparations_mid[i.get(\"entity\")][\"DP\"]=Pharmaceutical_Preparations_mid.get(i.get(\"entity\")).get(\"DP\")+i.get(\"DP\")\n",
    "            Pharmaceutical_Preparations_mid[i.get(\"entity\")][\"TI\"]=Pharmaceutical_Preparations_mid.get(i.get(\"entity\")).get(\"TI\")+i.get(\"TI\")\n",
    "            Pharmaceutical_Preparations_mid[i.get(\"entity\")][\"target\"]=Pharmaceutical_Preparations_mid.get(i.get(\"entity\")).get(\"target\")+i.get(\"target\")\n",
    "            Pharmaceutical_Preparations_mid[i.get(\"entity\")][\"date\"]=Pharmaceutical_Preparations_mid.get(i.get(\"entity\")).get(\"date\")+i.get(\"date\")\n",
    "            Pharmaceutical_Preparations_mid[i.get(\"entity\")][\"year\"]=Pharmaceutical_Preparations_mid.get(i.get(\"entity\")).get(\"year\")+i.get(\"year\")\n",
    "            Pharmaceutical_Preparations_mid[i.get(\"entity\")][\"JT\"]=Pharmaceutical_Preparations_mid.get(i.get(\"entity\")).get(\"JT\")+i.get(\"JT\")"
   ]
  },
  {
   "cell_type": "code",
   "execution_count": 267,
   "id": "4168936a-5d00-4728-99d7-d663022dbb7b",
   "metadata": {},
   "outputs": [],
   "source": [
    "Pharmaceutical_Preparations_all=list(Pharmaceutical_Preparations_mid.values())"
   ]
  },
  {
   "cell_type": "code",
   "execution_count": 268,
   "id": "9a7e0ce8-ae38-4ccd-bfa8-9ac9d1d1fc1d",
   "metadata": {},
   "outputs": [
    {
     "data": {
      "text/plain": [
       "11"
      ]
     },
     "execution_count": 268,
     "metadata": {},
     "output_type": "execute_result"
    }
   ],
   "source": [
    "len(Pharmaceutical_Preparations_all)"
   ]
  },
  {
   "cell_type": "code",
   "execution_count": 269,
   "id": "9020b753-bf58-4eb4-8918-556bdfbf267a",
   "metadata": {},
   "outputs": [],
   "source": [
    "for i in Pharmaceutical_Preparations_all:\n",
    "    i['allyears']=[]\n",
    "    i['datestring']=[]\n",
    "    for j in i.get('date'):\n",
    "        if int(str(j)[:4]) not in i.get('allyears'):\n",
    "            i['allyears']= i.get('allyears')+[int(str(j)[:4])]\n",
    "    for j in i.get('date'):\n",
    "        if str(j)[:4]+\"-\"+str(j)[4:6]+\"-\"+str(j)[6:] not in i.get('datestring'):\n",
    "            i['datestring']=i.get('datestring')+[str(j)[:4]+\"-\"+str(j)[4:6]+\"-\"+str(j)[6:]]\n",
    "    i['allyears']=sorted(i.get('allyears'), reverse=True)\n",
    "    i['datestring']=sorted(i.get('datestring'), reverse=True)\n",
    "    upperlist=set()\n",
    "    for j in sum(i.get('target'),[]):\n",
    "        upperlist.add(j.upper())\n",
    "    i['targetshapes']=list(upperlist)\n",
    "    i['addtime']=now_time"
   ]
  },
  {
   "cell_type": "code",
   "execution_count": null,
   "id": "b21a4a10-7f86-4c59-a408-bbebe973fa26",
   "metadata": {},
   "outputs": [],
   "source": []
  },
  {
   "cell_type": "code",
   "execution_count": null,
   "id": "6b276649-a4bc-4b1e-947f-1c2bdb947785",
   "metadata": {},
   "outputs": [],
   "source": []
  },
  {
   "cell_type": "markdown",
   "id": "a90a8b40-a9b9-4a42-85e0-6e206e06bc8b",
   "metadata": {},
   "source": [
    "# Protein_raw"
   ]
  },
  {
   "cell_type": "code",
   "execution_count": 271,
   "id": "92223ecf-313e-4cf2-9704-7dfc12726fbc",
   "metadata": {},
   "outputs": [],
   "source": [
    "collections_Protein_raw=db.Protein_raw"
   ]
  },
  {
   "cell_type": "code",
   "execution_count": 272,
   "id": "4d2dcbc0-05e3-4fed-a501-53a654c06de6",
   "metadata": {},
   "outputs": [
    {
     "data": {
      "text/plain": [
       "18"
      ]
     },
     "execution_count": 272,
     "metadata": {},
     "output_type": "execute_result"
    }
   ],
   "source": [
    "len(Protein_raw)"
   ]
  },
  {
   "cell_type": "code",
   "execution_count": 273,
   "id": "2aa8030d-a438-4476-958a-f72b517ee981",
   "metadata": {},
   "outputs": [],
   "source": [
    "if len(Protein_raw)!=0:\n",
    "    collections_Protein_raw.insert_many(Protein_raw)"
   ]
  },
  {
   "cell_type": "code",
   "execution_count": null,
   "id": "b5503279-35e3-4f00-8c1a-da37b884ee4b",
   "metadata": {},
   "outputs": [],
   "source": []
  },
  {
   "cell_type": "code",
   "execution_count": null,
   "id": "9fb63da9-433b-4b0e-b98c-5c21de55aeda",
   "metadata": {},
   "outputs": [],
   "source": []
  },
  {
   "cell_type": "markdown",
   "id": "0600b789-005a-473e-948c-0470d469c171",
   "metadata": {},
   "source": [
    "# Protein_all"
   ]
  },
  {
   "cell_type": "code",
   "execution_count": 275,
   "id": "a3f97229-bbb0-44ec-9605-fc1aed40a8ef",
   "metadata": {},
   "outputs": [],
   "source": [
    "Protein_raw_all=list(collections_Protein_raw.find())"
   ]
  },
  {
   "cell_type": "code",
   "execution_count": 276,
   "id": "c055c08d-bcff-467b-89a7-d361a69ce12e",
   "metadata": {},
   "outputs": [
    {
     "data": {
      "text/plain": [
       "1875"
      ]
     },
     "execution_count": 276,
     "metadata": {},
     "output_type": "execute_result"
    }
   ],
   "source": [
    "len(Protein_raw_all)"
   ]
  },
  {
   "cell_type": "code",
   "execution_count": 277,
   "id": "4e7c6bac-faab-40e1-a708-b2bbaed5ffa9",
   "metadata": {},
   "outputs": [
    {
     "name": "stdout",
     "output_type": "stream",
     "text": [
      "{'_id': ObjectId('6400506e648b16758fce4078'), 'AB': 'AIMS: Real-world evidence about heart failure (HF) medical care for elderly patients is limited. The aim of this study was to clarify the age-dependent associations of HF medications at discharge with clinical outcomes in a super-aged society using a real-world big database. METHODS AND RESULTS: Patients hospitalized with a first episode of acute HF in 2013-2019 were identified in a nationwide claims database in Japan and were analyzed based on the HF medications at discharge. Hazard ratios (HRs) and 95 % confidence intervals (95 % CIs) for clinical outcomes were calculated after adjustment. Among 325,468 patients from 4351 hospitals, 130,230 (40.0 %) were aged >= 85 years. All-cause mortality and HF readmission rate within 1 year were 14 % and 23 %, respectively. beta-Blockers and angiotensin-converting-enzyme inhibitors or angiotensin II receptor blockers (ACEI/ARB) uses were associated with lower mortality (HR [95 %CI]: 0.84 [0.83,0.86] and 0.73 [0.71,0.74], respectively) and HF readmission (0.98 [0.97,0.99] and 0.89 [0.88,0.90], respectively). The associations were attenuated as the age increased and, in beta-blockers use, the favorable associations with mortality and HF readmission were not observed in patients with >= 95 years and >= 80 years, respectively. In contrast, mineralocorticoid receptor antagonists (MRA) use was associated only with lower HF readmission (0.83 [0.82,0.84]), which was not attenuated with increased age. CONCLUSIONS: The favorable associations of beta-blockers and ACEI/ARB uses with mortality and HF readmission were age-dependently attenuated in patients across a broad spectrum of HF in a super-aged society. In contrast, positive impact of MRA use on HF readmission was not attenuated with aging.', 'type': 'Protein', 'identifier': 'MESH:D000809', 'sentence': 'beta-Blockers and angiotensin-converting-enzyme inhibitors or angiotensin II receptor blockers (ACEI/ARB) uses were associated with lower mortality (HR [95 %CI]: 0.84 [0.83,0.86] and 0.73 [0.71,0.74], respectively) and HF readmission (0.98 [0.97,0.99] and 0.89 [0.88,0.90], respectively).', 'sentenceSize': 11, 'sentenceIndex': 6, 'addtime': '2022_12_09', 'PMID': '36271549', 'word': 'angiotensin', 'class': ['Peptide', 'Protein'], 'subclass': 'Angiotensins', 'url': '/mesh/68000809', 'DP': '2022 Nov', 'URL': 'https://pubmed.ncbi.nlm.nih.gov/36271549', 'TI': 'Age-dependent association of discharge heart-failure medications with clinical outcomes in a super-aged society.', 'entity': 'Angiotensins', 'target': 'angiotensin', 'JT': 'Biomedicine & pharmacotherapy = Biomedecine & pharmacotherapie', 'MESH': 'D000809', 'Summary': 'Oligopeptides which are important in the regulation of blood pressure (VASOCONSTRICTION) and fluid homeostasis via the RENIN-ANGIOTENSIN SYSTEM. These include angiotensins derived naturally from precursor ANGIOTENSINOGEN, and those synthesized.', 'YearIntroduced': '1978', 'date': 20221101, 'year': 2022}\n",
      "{'_id': ObjectId('640ff7b7e6762ddb3340a460'), 'AB': 'Congestive heart failure (CHF) is the leading cause of morbidity and mortality in the elderly worldwide. Although many biomarkers associated with in heart failure, these are generally prognostic and identify patients with moderate and severe disease. Unfortunately, the role of biomarkers in decision making for early and advanced heart failure remains largely unexplored. Previous studies suggest the natriuretic peptides have the potential to improve the diagnosis of heart failure, but they still have significant limitations related to cut-off values. Although some promising cardiac biomarkers have emerged, comprehensive data from large cohort studies is lacking. The utility of multiple biomarkers that reflect various pathophysiologic pathways are increasingly being explored in heart failure risk stratification and to diagnose disease conditions promptly and accurately. MicroRNAs serve as mediators and/or regulators of renin-angiotensin-induced cardiac remodeling by directly targeting enzymes, receptors and signaling molecules. The role of miRNA in HF diagnosis is a promising area of research and further exploration may offer both diagnostic and prognostic applications and phenotype-specific targets. In this review, we provide insight into the classification of different biochemical and molecular markers associated with CHF, examine clinical usefulness in CHF and highlight the most clinically relevant.', 'type': 'Protein', 'identifier': 'MESH:D000809', 'sentence': 'MicroRNAs serve as mediators and/or regulators of renin-angiotensin-induced cardiac remodeling by directly targeting enzymes, receptors and signaling molecules.', 'sentenceSize': 9, 'sentenceIndex': 6, 'addtime': '2023_03_14', 'PMID': '36642484', 'word': 'angiotensin', 'class': ['Peptide', 'Protein'], 'subclass': 'Angiotensins', 'url': '/mesh/68000809', 'DP': '2023', 'URL': 'https://pubmed.ncbi.nlm.nih.gov/36642484', 'TI': 'Advances in congestive heart failure biomarkers.', 'entity': 'Angiotensins', 'target': 'angiotensin', 'JT': 'Advances in clinical chemistry', 'MESH': 'D000809', 'Summary': 'Oligopeptides which are important in the regulation of blood pressure (VASOCONSTRICTION) and fluid homeostasis via the RENIN-ANGIOTENSIN SYSTEM. These include angiotensins derived naturally from precursor ANGIOTENSINOGEN, and those synthesized.', 'YearIntroduced': '1978', 'date': 20230101, 'year': 2023}\n"
     ]
    }
   ],
   "source": [
    "for i in Protein_raw_all:\n",
    "    if i.get('entity')=='Angiotensins':\n",
    "        print(i)"
   ]
  },
  {
   "cell_type": "code",
   "execution_count": 278,
   "id": "53d63724-eeb2-4acc-b1c5-f5b81e9027e4",
   "metadata": {},
   "outputs": [],
   "source": [
    "for i in Protein_raw_all:\n",
    "    i['type']='Protein'\n",
    "    i[\"PMID\"]=[i.get(\"PMID\")]\n",
    "    i[\"sentence\"]=[[i.get(\"sentence\")]]\n",
    "    pmid=i.get('PMID')[0]\n",
    "    i['DP']=[i.get(\"DP\")]\n",
    "    i['AB']=[i.get(\"AB\")]\n",
    "    i['URL']='https://pubmed.ncbi.nlm.nih.gov/'+pmid\n",
    "    i['TI']=[i.get(\"TI\")]\n",
    "    i['target']=[[i.get('word')]]\n",
    "    i[\"date\"]=[i.get(\"date\")]\n",
    "    i[\"year\"]=[i.get(\"year\")]\n",
    "    i['JT']=[i.get('JT')]"
   ]
  },
  {
   "cell_type": "code",
   "execution_count": 279,
   "id": "cc980a7b-75e3-453c-b137-e76ffa389908",
   "metadata": {},
   "outputs": [],
   "source": [
    "Protein_mid={}\n",
    "for i in Protein_raw_all:\n",
    "    if not Protein_mid.get(i.get(\"entity\")):\n",
    "        Protein_mid[i.get(\"entity\")]=i\n",
    "    else:\n",
    "        if i.get('PMID')[0] in Protein_mid.get(i.get('entity')).get('PMID'):\n",
    "            ind=Protein_mid.get(i.get('entity')).get('PMID').index(i.get('PMID')[0])\n",
    "            if i.get(\"sentence\")[0][0] in Protein_mid.get(i.get('entity')).get('sentence')[ind]:\n",
    "                continue\n",
    "            else:\n",
    "                Protein_mid[i.get('entity')]['sentence'][ind] = Protein_mid.get(i.get('entity')).get('sentence')[ind] + i.get(\"sentence\")[0]\n",
    "                Protein_mid[i.get('entity')]['target'][ind] = Protein_mid.get(i.get('entity')).get('target')[ind] + i.get(\"target\")[0]\n",
    "        else:\n",
    "            Protein_mid[i.get(\"entity\")][\"PMID\"]=Protein_mid.get(i.get(\"entity\")).get(\"PMID\")+i.get(\"PMID\")\n",
    "            Protein_mid[i.get(\"entity\")][\"sentence\"]=Protein_mid.get(i.get(\"entity\")).get(\"sentence\")+i.get(\"sentence\")\n",
    "            Protein_mid[i.get(\"entity\")][\"AB\"]=Protein_mid.get(i.get(\"entity\")).get(\"AB\")+i.get(\"AB\")\n",
    "            Protein_mid[i.get(\"entity\")][\"DP\"]=Protein_mid.get(i.get(\"entity\")).get(\"DP\")+i.get(\"DP\")\n",
    "            Protein_mid[i.get(\"entity\")][\"TI\"]=Protein_mid.get(i.get(\"entity\")).get(\"TI\")+i.get(\"TI\")\n",
    "            Protein_mid[i.get(\"entity\")][\"target\"]=Protein_mid.get(i.get(\"entity\")).get(\"target\")+i.get(\"target\")\n",
    "            Protein_mid[i.get(\"entity\")][\"date\"]=Protein_mid.get(i.get(\"entity\")).get(\"date\")+i.get(\"date\")\n",
    "            Protein_mid[i.get(\"entity\")][\"year\"]=Protein_mid.get(i.get(\"entity\")).get(\"year\")+i.get(\"year\")\n",
    "            Protein_mid[i.get(\"entity\")][\"JT\"]=Protein_mid.get(i.get(\"entity\")).get(\"JT\")+i.get(\"JT\")"
   ]
  },
  {
   "cell_type": "code",
   "execution_count": 280,
   "id": "ab3c1ea9-563c-4c1e-b410-b3e8108c965a",
   "metadata": {},
   "outputs": [],
   "source": [
    "Protein_all=list(Protein_mid.values())"
   ]
  },
  {
   "cell_type": "code",
   "execution_count": 281,
   "id": "9153c316-2715-4df0-8a84-3694a94c5669",
   "metadata": {},
   "outputs": [
    {
     "data": {
      "text/plain": [
       "31"
      ]
     },
     "execution_count": 281,
     "metadata": {},
     "output_type": "execute_result"
    }
   ],
   "source": [
    "len(Protein_all)"
   ]
  },
  {
   "cell_type": "code",
   "execution_count": 282,
   "id": "b59cfcca-1ec7-4255-9515-26285cf88ba5",
   "metadata": {},
   "outputs": [],
   "source": [
    "for i in Protein_all:\n",
    "    i['allyears']=[]\n",
    "    i['datestring']=[]\n",
    "    for j in i.get('date'):\n",
    "        if int(str(j)[:4]) not in i.get('allyears'):\n",
    "            i['allyears']= i.get('allyears')+[int(str(j)[:4])]\n",
    "    for j in i.get('date'):\n",
    "        if str(j)[:4]+\"-\"+str(j)[4:6]+\"-\"+str(j)[6:] not in i.get('datestring'):\n",
    "            i['datestring']=i.get('datestring')+[str(j)[:4]+\"-\"+str(j)[4:6]+\"-\"+str(j)[6:]]\n",
    "    i['allyears']=sorted(i.get('allyears'), reverse=True)\n",
    "    i['datestring']=sorted(i.get('datestring'), reverse=True)\n",
    "    upperlist=set()\n",
    "    for j in sum(i.get('target'),[]):\n",
    "        upperlist.add(j.upper())\n",
    "    i['targetshapes']=list(upperlist)\n",
    "    i['addtime']=now_time"
   ]
  },
  {
   "cell_type": "code",
   "execution_count": null,
   "id": "36150de1-b97e-43f0-915f-d50a6f17eaba",
   "metadata": {},
   "outputs": [],
   "source": []
  },
  {
   "cell_type": "code",
   "execution_count": null,
   "id": "e1118ffc-becc-45d2-a173-b7156958aa52",
   "metadata": {},
   "outputs": [],
   "source": []
  },
  {
   "cell_type": "markdown",
   "id": "527e2d5d-9ca7-4cf8-b7a9-394e3aa373b3",
   "metadata": {},
   "source": [
    "# Toxin_raw"
   ]
  },
  {
   "cell_type": "code",
   "execution_count": 284,
   "id": "af9671ce-ba93-4c2a-9ce8-8cef9e203d44",
   "metadata": {},
   "outputs": [],
   "source": [
    "collections_Toxin_raw=db.Toxin_raw"
   ]
  },
  {
   "cell_type": "code",
   "execution_count": 285,
   "id": "cd6b13c3-e55f-4a2a-84e3-169f9a585f77",
   "metadata": {},
   "outputs": [
    {
     "data": {
      "text/plain": [
       "2"
      ]
     },
     "execution_count": 285,
     "metadata": {},
     "output_type": "execute_result"
    }
   ],
   "source": [
    "len(Toxin_raw)"
   ]
  },
  {
   "cell_type": "code",
   "execution_count": 286,
   "id": "933ce7fd-b1b7-477e-9714-c76e1a5a9ddd",
   "metadata": {},
   "outputs": [],
   "source": [
    "if len(Toxin_raw)!=0:\n",
    "    collections_Toxin_raw.insert_many(Toxin_raw)"
   ]
  },
  {
   "cell_type": "code",
   "execution_count": null,
   "id": "6efc3a08-1f04-4788-a2ba-eb3088d0b012",
   "metadata": {},
   "outputs": [],
   "source": []
  },
  {
   "cell_type": "code",
   "execution_count": null,
   "id": "c4dd4c54-43a5-4ae1-99ff-e60464d89e23",
   "metadata": {},
   "outputs": [],
   "source": []
  },
  {
   "cell_type": "markdown",
   "id": "e5358328-e66a-422b-b6b0-7cfebba6245a",
   "metadata": {},
   "source": [
    "# Toxin_all"
   ]
  },
  {
   "cell_type": "code",
   "execution_count": 288,
   "id": "2599a64f-e3bf-47fa-9460-1fed7156f57b",
   "metadata": {},
   "outputs": [],
   "source": [
    "Toxin_raw_all=list(collections_Toxin_raw.find())"
   ]
  },
  {
   "cell_type": "code",
   "execution_count": 289,
   "id": "83c8bdc6-0a2d-4ef1-b40c-ba52ee2ab846",
   "metadata": {},
   "outputs": [
    {
     "data": {
      "text/plain": [
       "542"
      ]
     },
     "execution_count": 289,
     "metadata": {},
     "output_type": "execute_result"
    }
   ],
   "source": [
    "len(Toxin_raw_all)"
   ]
  },
  {
   "cell_type": "code",
   "execution_count": 290,
   "id": "7bda1817-5c2f-4ec3-b1a9-32e47687e37b",
   "metadata": {},
   "outputs": [],
   "source": [
    "for i in Toxin_raw_all:\n",
    "    i['type']='Toxin'\n",
    "    i[\"PMID\"]=[i.get(\"PMID\")]\n",
    "    i[\"sentence\"]=[[i.get(\"sentence\")]]\n",
    "    pmid=i.get('PMID')[0]\n",
    "    i['DP']=[i.get(\"DP\")]\n",
    "    i['AB']=[i.get(\"AB\")]\n",
    "    i['URL']='https://pubmed.ncbi.nlm.nih.gov/'+pmid\n",
    "    i['TI']=[i.get(\"TI\")]\n",
    "    i['target']=[[i.get('word')]]\n",
    "    i[\"date\"]=[i.get(\"date\")]\n",
    "    i[\"year\"]=[i.get(\"year\")]\n",
    "    i['JT']=[i.get('JT')]"
   ]
  },
  {
   "cell_type": "code",
   "execution_count": 291,
   "id": "51adda98-1e40-4ee6-ae53-dc2e309e7472",
   "metadata": {},
   "outputs": [],
   "source": [
    "Toxin_mid={}\n",
    "for i in Toxin_raw_all:\n",
    "    if not Toxin_mid.get(i.get(\"entity\")):\n",
    "        Toxin_mid[i.get(\"entity\")]=i\n",
    "    else:\n",
    "        if i.get('PMID')[0] in Toxin_mid.get(i.get('entity')).get('PMID'):\n",
    "            ind=Toxin_mid.get(i.get('entity')).get('PMID').index(i.get('PMID')[0])\n",
    "            if i.get(\"sentence\")[0][0] in Toxin_mid.get(i.get('entity')).get('sentence')[ind]:\n",
    "                continue\n",
    "            else:\n",
    "                Toxin_mid[i.get('entity')]['sentence'][ind] = Toxin_mid.get(i.get('entity')).get('sentence')[ind] + i.get(\"sentence\")[0]\n",
    "                Toxin_mid[i.get('entity')]['target'][ind] = Toxin_mid.get(i.get('entity')).get('target')[ind] + i.get(\"target\")[0]\n",
    "        else:\n",
    "            Toxin_mid[i.get(\"entity\")][\"PMID\"]=Toxin_mid.get(i.get(\"entity\")).get(\"PMID\")+i.get(\"PMID\")\n",
    "            Toxin_mid[i.get(\"entity\")][\"sentence\"]=Toxin_mid.get(i.get(\"entity\")).get(\"sentence\")+i.get(\"sentence\")\n",
    "            Toxin_mid[i.get(\"entity\")][\"AB\"]=Toxin_mid.get(i.get(\"entity\")).get(\"AB\")+i.get(\"AB\")\n",
    "            Toxin_mid[i.get(\"entity\")][\"DP\"]=Toxin_mid.get(i.get(\"entity\")).get(\"DP\")+i.get(\"DP\")\n",
    "            Toxin_mid[i.get(\"entity\")][\"TI\"]=Toxin_mid.get(i.get(\"entity\")).get(\"TI\")+i.get(\"TI\")\n",
    "            Toxin_mid[i.get(\"entity\")][\"target\"]=Toxin_mid.get(i.get(\"entity\")).get(\"target\")+i.get(\"target\")\n",
    "            Toxin_mid[i.get(\"entity\")][\"date\"]=Toxin_mid.get(i.get(\"entity\")).get(\"date\")+i.get(\"date\")\n",
    "            Toxin_mid[i.get(\"entity\")][\"year\"]=Toxin_mid.get(i.get(\"entity\")).get(\"year\")+i.get(\"year\")\n",
    "            Toxin_mid[i.get(\"entity\")][\"JT\"]=Toxin_mid.get(i.get(\"entity\")).get(\"JT\")+i.get(\"JT\")"
   ]
  },
  {
   "cell_type": "code",
   "execution_count": 292,
   "id": "b951c8c6-a714-427a-a185-200bfd887204",
   "metadata": {},
   "outputs": [],
   "source": [
    "Toxin_all=list(Toxin_mid.values())"
   ]
  },
  {
   "cell_type": "code",
   "execution_count": 293,
   "id": "5f02de80-cb97-48fa-ae08-d1e4b697bc5d",
   "metadata": {},
   "outputs": [
    {
     "data": {
      "text/plain": [
       "19"
      ]
     },
     "execution_count": 293,
     "metadata": {},
     "output_type": "execute_result"
    }
   ],
   "source": [
    "len(Toxin_all)"
   ]
  },
  {
   "cell_type": "code",
   "execution_count": 294,
   "id": "58499e46-bf2b-474e-877a-8fa6bb60c36d",
   "metadata": {},
   "outputs": [],
   "source": [
    "for i in Toxin_all:\n",
    "    i['allyears']=[]\n",
    "    i['datestring']=[]\n",
    "    for j in i.get('date'):\n",
    "        if int(str(j)[:4]) not in i.get('allyears'):\n",
    "            i['allyears']= i.get('allyears')+[int(str(j)[:4])]\n",
    "    for j in i.get('date'):\n",
    "        if str(j)[:4]+\"-\"+str(j)[4:6]+\"-\"+str(j)[6:] not in i.get('datestring'):\n",
    "            i['datestring']=i.get('datestring')+[str(j)[:4]+\"-\"+str(j)[4:6]+\"-\"+str(j)[6:]]\n",
    "    i['allyears']=sorted(i.get('allyears'), reverse=True)\n",
    "    i['datestring']=sorted(i.get('datestring'), reverse=True)\n",
    "    upperlist=set()\n",
    "    for j in sum(i.get('target'),[]):\n",
    "        upperlist.add(j.upper())\n",
    "    i['targetshapes']=list(upperlist)\n",
    "    i['addtime']=now_time"
   ]
  },
  {
   "cell_type": "code",
   "execution_count": null,
   "id": "ef05b815-a0a2-45f3-86e7-3862042f0273",
   "metadata": {},
   "outputs": [],
   "source": []
  },
  {
   "cell_type": "code",
   "execution_count": null,
   "id": "772a6fc8-b7ad-4978-817c-031accbb1b61",
   "metadata": {},
   "outputs": [],
   "source": []
  },
  {
   "cell_type": "markdown",
   "id": "b51e41e7-bff4-4cc4-a4da-2b5c500f2329",
   "metadata": {},
   "source": [
    "# Mutation_raw"
   ]
  },
  {
   "cell_type": "code",
   "execution_count": 296,
   "id": "bd06e5fc-d58a-44ed-be1e-1efda3476946",
   "metadata": {},
   "outputs": [],
   "source": [
    "collections_Mutation_raw=db.Mutation_raw"
   ]
  },
  {
   "cell_type": "code",
   "execution_count": 297,
   "id": "5f5709d0-61d1-4124-a32f-1f8abbfbbf87",
   "metadata": {},
   "outputs": [],
   "source": [
    "Mutation_pubtator_addpmid={}\n",
    "for i in pubtator_raw:\n",
    "    if i.get('type')=='Mutation':\n",
    "        if Mutation_pubtator_addpmid.get(i.get('id')):\n",
    "            Mutation_pubtator_addpmid[i.get('id')]=Mutation_pubtator_addpmid.get(i.get('id'))+[i]\n",
    "        else:\n",
    "            Mutation_pubtator_addpmid[i.get('id')]=[i]"
   ]
  },
  {
   "cell_type": "code",
   "execution_count": 298,
   "id": "5348d5fb-0d7d-4d34-a9f1-0c28fc6fcf9f",
   "metadata": {},
   "outputs": [],
   "source": [
    "Mutation_output_json=list(Mutation_pubtator_addpmid.values())"
   ]
  },
  {
   "cell_type": "code",
   "execution_count": 299,
   "id": "041be998-2c86-4772-b88a-ad84741821f6",
   "metadata": {},
   "outputs": [],
   "source": [
    "Mutation_raw=sum(Mutation_output_json,[])"
   ]
  },
  {
   "cell_type": "code",
   "execution_count": 300,
   "id": "756ab719-9d98-491f-b1f9-25b1d422588d",
   "metadata": {},
   "outputs": [
    {
     "data": {
      "text/plain": [
       "38"
      ]
     },
     "execution_count": 300,
     "metadata": {},
     "output_type": "execute_result"
    }
   ],
   "source": [
    "len(Mutation_raw)"
   ]
  },
  {
   "cell_type": "code",
   "execution_count": 301,
   "id": "fb30ea18-5476-4cd6-8cd8-b2f33bf9848a",
   "metadata": {},
   "outputs": [],
   "source": [
    "for i in Mutation_raw:\n",
    "    i['PMID']=i.get('id')\n",
    "    i['word']=i.get('text')\n",
    "    del i['id']\n",
    "    del i['text']"
   ]
  },
  {
   "cell_type": "code",
   "execution_count": 302,
   "id": "06ddd7e6-d40b-4caf-ab96-8f55fbd250d0",
   "metadata": {},
   "outputs": [],
   "source": [
    "Mutation_deduplicated=set()\n",
    "Mutation_deduplicated_count=0\n",
    "mutation_list_raw=[]\n",
    "for i in Mutation_raw:\n",
    "    if i.get('identifier'):\n",
    "        k=i.get('PMID')\n",
    "        i['DP']=rawpickwithAB.get(k).get('DP')\n",
    "        i['AB']=rawpickwithAB.get(k).get('AB')\n",
    "        i['URL']='https://pubmed.ncbi.nlm.nih.gov/'+k\n",
    "        i['TI']=rawpickwithAB.get(k).get('TI')\n",
    "        i['entity']=i.get('identifier')\n",
    "        i['target']=i.get('word')\n",
    "        i['type']='Mutation'\n",
    "        i['JT']=rawpickwithAB.get(k).get('JT')\n",
    "        tuples=(i.get(\"PMID\"),i.get(\"entity\"),i.get(\"word\"),i.get(\"sentence\"))\n",
    "        if tuples not in Mutation_deduplicated:\n",
    "            Mutation_deduplicated.add(tuples)\n",
    "            mutation_list_raw.append(i)\n",
    "        else:\n",
    "            Mutation_deduplicated_count+=1\n",
    "            continue"
   ]
  },
  {
   "cell_type": "code",
   "execution_count": 303,
   "id": "57fded29-8121-414a-afa4-116732e2b54b",
   "metadata": {},
   "outputs": [
    {
     "data": {
      "text/plain": [
       "34"
      ]
     },
     "execution_count": 303,
     "metadata": {},
     "output_type": "execute_result"
    }
   ],
   "source": [
    "len(mutation_list_raw)"
   ]
  },
  {
   "cell_type": "code",
   "execution_count": 304,
   "id": "336578c7-8ac9-4bc5-a20f-5ed0aff21bc3",
   "metadata": {},
   "outputs": [],
   "source": [
    "dropout1=[]\n",
    "dropout2=[]\n",
    "for i in mutation_list_raw:\n",
    "    if re.match(r'rs\\d+',i.get('identifier')):\n",
    "        dropout1.append(i)\n",
    "    else:\n",
    "        dropout2.append(i)"
   ]
  },
  {
   "cell_type": "code",
   "execution_count": 305,
   "id": "40468481-b0bd-43ed-abb6-ae0c30f8fb1f",
   "metadata": {},
   "outputs": [
    {
     "data": {
      "text/plain": [
       "28"
      ]
     },
     "execution_count": 305,
     "metadata": {},
     "output_type": "execute_result"
    }
   ],
   "source": [
    "len(dropout1)"
   ]
  },
  {
   "cell_type": "code",
   "execution_count": 306,
   "id": "cc25e5aa-71b8-4222-bad9-776ce9ee38ce",
   "metadata": {},
   "outputs": [
    {
     "data": {
      "text/plain": [
       "6"
      ]
     },
     "execution_count": 306,
     "metadata": {},
     "output_type": "execute_result"
    }
   ],
   "source": [
    "len(dropout2)"
   ]
  },
  {
   "cell_type": "code",
   "execution_count": 307,
   "id": "2411a0eb-34df-45e0-a298-f792b87e9bc4",
   "metadata": {},
   "outputs": [],
   "source": [
    "mutation2ncbi={}\n",
    "for i in dropout1:\n",
    "    mutation2ncbi[i.get('entity')]={}"
   ]
  },
  {
   "cell_type": "code",
   "execution_count": 308,
   "id": "d7af6c7d-8236-4b04-be7f-ce26b05b76be",
   "metadata": {},
   "outputs": [
    {
     "data": {
      "text/plain": [
       "13"
      ]
     },
     "execution_count": 308,
     "metadata": {},
     "output_type": "execute_result"
    }
   ],
   "source": [
    "len(mutation2ncbi)"
   ]
  },
  {
   "cell_type": "code",
   "execution_count": 309,
   "id": "9c292db9-7637-493c-aceb-c82b3efc2cf6",
   "metadata": {},
   "outputs": [],
   "source": [
    "mutation_converter=pickle.load(open('../ncbi/Mutation_converter.pkl','rb'))"
   ]
  },
  {
   "cell_type": "code",
   "execution_count": 310,
   "id": "20b91565-96d5-45c0-90a4-0ed6f0cf7a9f",
   "metadata": {},
   "outputs": [
    {
     "data": {
      "text/plain": [
       "1893"
      ]
     },
     "execution_count": 310,
     "metadata": {},
     "output_type": "execute_result"
    }
   ],
   "source": [
    "len(mutation_converter)"
   ]
  },
  {
   "cell_type": "code",
   "execution_count": 311,
   "id": "e4d2ba8c-bc13-4638-824f-bc5db3c7312a",
   "metadata": {},
   "outputs": [],
   "source": [
    "def get_mutation_info(i,final_mutations_inte):\n",
    "    headers = {\n",
    "        \"User-Agent\": \"Mozilla/5.0 (Windows NT 10.0; Win64; x64) AppleWebKit/537.36 \\\n",
    "        (KHTML, like Gecko) Chrome/83.0.4103.97 Safari/537.36\"\n",
    "    }\n",
    "    url = 'https://www.ncbi.nlm.nih.gov/snp/' + i\n",
    "    html = etree.HTML(requests.get(url=url,headers=headers).content)\n",
    "    ncbisummary={\n",
    "    'Position':''.join(html.xpath('//*[@class=\"usa-width-one-half\"][1]/dd[2]/span[1]/text()'))+''.join(html.xpath('//*[@class=\"usa-width-one-half\"][1]/dd[2]/span[2]/text()')),\n",
    "    'Alleles':''.join(html.xpath('normalize-space(//*[@class=\"usa-width-one-half\"][1]/dd[3]/text())')),\n",
    "    'Clinical Significance':'https://www.ncbi.nlm.nih.gov'+''.join(html.xpath('//*[@class=\"usa-width-one-half\"][2]/dd[1]/a/@href')) if html.xpath('//*[@class=\"usa-width-one-half\"][2]/dd[1]/a/@href') else '',\n",
    "    'Gene : Consequence':[''.join(html.xpath('//*[@class=\"usa-width-one-half\"][2]/dd[2]/div[1]/text()')),''.join(html.xpath('//*[@class=\"usa-width-one-half\"][2]/dd[2]/span[1]/text()'))] if ''.join(html.xpath('//*[@class=\"usa-width-one-half\"][2]/dd[2]/div[1]/text()')) else [''.join(html.xpath('//*[@class=\"usa-width-one-half\"][2]/dd[2]/span[1]/text()'))],\n",
    "    'Genomic View':url+''.join(html.xpath('//*[@class=\"usa-width-one-half\"][2]/dd[4]/a/@href')),\n",
    "    }\n",
    "    final_mutations_inte.update({i:ncbisummary})\n",
    "    time.sleep(0.5)"
   ]
  },
  {
   "cell_type": "code",
   "execution_count": 312,
   "id": "ec7ed90a-637c-47f6-b46c-cc947bb4bf43",
   "metadata": {},
   "outputs": [],
   "source": [
    "judge=False\n",
    "p = Pool(10)\n",
    "manager=Manager()\n",
    "final_mutations_inte = manager.dict()\n",
    "for i in mutation2ncbi.keys():\n",
    "    if not mutation_converter.get(i):\n",
    "        p.apply_async(get_mutation_info, args=(i,final_mutations_inte))\n",
    "        judge=True\n",
    "p.close()\n",
    "p.join()\n",
    "if judge:\n",
    "    mutation_converter.update(dict(final_mutations_inte))\n",
    "    pickle.dump(mutation_converter, open('../ncbi/Mutation_converter.pkl','wb'))"
   ]
  },
  {
   "cell_type": "code",
   "execution_count": 313,
   "id": "2d6ac30e-c038-4b70-8c03-9b38ab7be02d",
   "metadata": {},
   "outputs": [
    {
     "data": {
      "text/plain": [
       "1902"
      ]
     },
     "execution_count": 313,
     "metadata": {},
     "output_type": "execute_result"
    }
   ],
   "source": [
    "len(mutation_converter)"
   ]
  },
  {
   "cell_type": "code",
   "execution_count": 314,
   "id": "7472c6c0-ac9d-4521-ad06-6bc2eea82038",
   "metadata": {},
   "outputs": [],
   "source": [
    "for i in range(len(mutation_list_raw)):\n",
    "    if re.match(r'rs\\d+',mutation_list_raw[i].get('entity')):\n",
    "        mutation_list_raw[i]=dict(mutation_list_raw[i],**mutation_converter.get(mutation_list_raw[i].get('entity')))\n",
    "    else:\n",
    "        mutation_list_raw[i]=dict(mutation_list_raw[i],**{'Position':'','Alleles':'','Clinical Significance':'','Gene : Consequence':[''],'Genomic View':''})"
   ]
  },
  {
   "cell_type": "code",
   "execution_count": 315,
   "id": "c85ec6f7-5601-438b-a44c-a718b6941da0",
   "metadata": {},
   "outputs": [],
   "source": [
    "dropout=[]\n",
    "months=['Jan','Feb','Mar','Apr','May','Jun','Jul','Aug','Sep','Oct','Nov','Dec']\n",
    "for i in mutation_list_raw:\n",
    "    j=i.get('DP')\n",
    "    if re.search('[S,s]upplement',j,flags=re.M|re.I):\n",
    "        j=re.sub('[S,s]upplement.*','',j,flags=re.M|re.I)\n",
    "    j=re.sub('\\s?-\\s?','-',j)\n",
    "    j=re.sub('\\.','',j)\n",
    "    j=re.sub('Aout','Aug',j)\n",
    "    if len(j.split(' '))==3:\n",
    "        try:\n",
    "            date=int(datetime.datetime.strftime(datetime.datetime.strptime(j,'%Y %b %d'), '%Y%m%d'))\n",
    "        except:\n",
    "            if j.split()[1] in months:\n",
    "                if re.search(r'\\d+',j.split()[2],flags=re.M|re.I):\n",
    "                    j=j.split()[0]+' '+j.split()[1]+' '+ re.search(r'\\d+',j.split()[2],flags=re.M|re.I).group()\n",
    "                    try:\n",
    "                        date=int(datetime.datetime.strftime(datetime.datetime.strptime(j,'%Y %b %d'), '%Y%m%d'))\n",
    "                    except:\n",
    "                        j=j[:4]\n",
    "                        date=int(datetime.datetime.strftime(datetime.datetime.strptime(j,'%Y'), '%Y'+'0101'))\n",
    "                        print('***************************************ERROR**********************************************')\n",
    "                else:\n",
    "                    j=j.split()[0]+' '+j.split()[1]+' '+ '1'\n",
    "                    try:\n",
    "                        date=int(datetime.datetime.strftime(datetime.datetime.strptime(j,'%Y %b %d'), '%Y%m%d'))\n",
    "                    except:\n",
    "                        print(j)\n",
    "                        j=j[:4]\n",
    "                        date=int(datetime.datetime.strftime(datetime.datetime.strptime(j,'%Y'), '%Y'+'0101'))\n",
    "            elif j.split()[1] not in months:\n",
    "                if re.search(r'([a-zA-Z]+)[-/]([a-zA-Z]+)',j.split()[1],flags=re.M|re.I) or re.search(r'([a-zA-Z]+)[-/](\\d+)',j.split()[1],flags=re.M|re.I):\n",
    "                    if re.search(r'([a-zA-Z]+)[-/]([a-zA-Z]+)',j.split()[1],flags=re.M|re.I):\n",
    "                        middle=re.search(r'([a-zA-Z]+)[-/]([a-zA-Z]+)',j.split()[1],flags=re.M|re.I).group(1)\n",
    "                    else:\n",
    "                        middle=re.search(r'([a-zA-Z]+)[-/](\\d+)',j.split()[1],flags=re.M|re.I).group(1)\n",
    "                    if middle in months:\n",
    "                        if re.search(r'\\d+',j.split()[2],flags=re.M|re.I):\n",
    "                            j=j.split()[0]+' '+middle+' '+ re.search(r'\\d+',j.split()[2],flags=re.M|re.I).group()\n",
    "                        else:\n",
    "                            j=j.split()[0]+' '+middle+' '+ '1'\n",
    "                    elif re.match(r'Sum(mer)?',middle):\n",
    "                        if re.search(r'\\d+',j.split()[2],flags=re.M|re.I):\n",
    "                            j=j.split()[0]+' '+'Jun'+' '+ re.search(r'\\d+',j.split()[2],flags=re.M|re.I).group()\n",
    "                        else:\n",
    "                            j=j.split()[0]+' '+'Jun'+' '+ '1'\n",
    "                    elif re.match(r'Spr(ing)?',middle):\n",
    "                        if re.search(r'\\d+',j.split()[2],flags=re.M|re.I):\n",
    "                            j=j.split()[0]+' '+'Mar'+' '+ re.search(r'\\d+',j.split()[2],flags=re.M|re.I).group()\n",
    "                        else:\n",
    "                            j=j.split()[0]+' '+'Mar'+' '+ '1'\n",
    "                    elif re.match(r'Win(ter)?',middle):\n",
    "                        if re.search(r'\\d+',j.split()[2],flags=re.M|re.I):\n",
    "                            j=j.split()[0]+' '+'Dec'+' '+ re.search(r'\\d+',j.split()[2],flags=re.M|re.I).group()\n",
    "                        else:\n",
    "                            j=j.split()[0]+' '+'Dec'+' '+ '1'    \n",
    "                    elif re.match(r'Aut(umn)?',middle) or \\\n",
    "                    re.match(r'Fall',middle):\n",
    "                        if re.search(r'\\d+',j.split()[2],flags=re.M|re.I):\n",
    "                            j=j.split()[0]+' '+'Sep'+' '+ re.search(r'\\d+',j.split()[2],flags=re.M|re.I).group()\n",
    "                        else:\n",
    "                            j=j.split()[0]+' '+'Sep'+' '+ '1'      \n",
    "                    try:\n",
    "                        date=int(datetime.datetime.strftime(datetime.datetime.strptime(j,'%Y %b %d'), '%Y%m%d'))\n",
    "                    except:\n",
    "                        print(j)\n",
    "                        j=j[:4]\n",
    "                        date=int(datetime.datetime.strftime(datetime.datetime.strptime(j,'%Y'), '%Y'+'0101'))\n",
    "                else:\n",
    "                    j=j[:4]\n",
    "                    date=int(datetime.datetime.strftime(datetime.datetime.strptime(j,'%Y'), '%Y'+'0101'))\n",
    "    elif len(j.split())==2:\n",
    "        if re.match(r'Sum(mer)?',j.split()[1]):\n",
    "            date=int(j[:4]+'0601')\n",
    "        elif re.match(r'Spr(ing)?',j.split()[1]):\n",
    "            date=int(j[:4]+'0301')\n",
    "        elif re.match(r'Win(ter)?',j.split()[1]):\n",
    "            date=int(j[:4]+'1201')\n",
    "        elif re.match(r'Aut(umn)?',j.split()[1]) or re.match(r'Fall',j.split()[1]):\n",
    "            date=int(j[:4]+'0901')\n",
    "        elif re.match(r'Sum(mer)?',j.split()[0]):\n",
    "            date=int(j[-4:]+'0601')\n",
    "        elif re.match(r'Spr(ing)?',j.split()[0]):\n",
    "            date=int(j[-4:]+'0301')\n",
    "        elif re.match(r'Win(ter)?',j.split()[0]):\n",
    "            date=int(j[-4:]+'1201')\n",
    "        elif re.match(r'Aut(umn)?',j.split()[0]) or re.match(r'Fall',j.split()[0]):\n",
    "            date=int(j[-4:]+'0901')\n",
    "        else:\n",
    "            try:\n",
    "                date=int(datetime.datetime.strftime(datetime.datetime.strptime(j,'%Y %b'), '%Y%m'+'01'))\n",
    "            except:\n",
    "                if re.search(r'([a-zA-Z]+)[-/]([a-zA-Z]+)',j.split()[1],flags=re.M|re.I) or re.search(r'([a-zA-Z]+)[-/](\\d+)',j.split()[1],flags=re.M|re.I):\n",
    "                    if re.search(r'([a-zA-Z]+)[-/]([a-zA-Z]+)',j.split()[1],flags=re.M|re.I):\n",
    "                        middle=re.search(r'([a-zA-Z]+)[-/]([a-zA-Z]+)',j.split()[1],flags=re.M|re.I).group(1)\n",
    "                    else:\n",
    "                        middle=re.search(r'([a-zA-Z]+)[-/](\\d+)',j.split()[1],flags=re.M|re.I).group(1)\n",
    "                    if middle in months:\n",
    "                        j=j.split()[0]+' '+middle+' '+ '1'\n",
    "                    elif re.match(r'Sum(mer)?',middle):\n",
    "                        j=j.split()[0]+' '+'Jun'+' '+ '1'\n",
    "                    elif re.match(r'Spr(ing)?',middle):\n",
    "                        j=j.split()[0]+' '+'Mar'+' '+ '1'\n",
    "                    elif re.match(r'Win(ter)?',middle):\n",
    "                        j=j.split()[0]+' '+'Dec'+' '+ '1'    \n",
    "                    elif re.match(r'Aut(umn)?',middle) or \\\n",
    "                    re.match(r'Fall',middle):\n",
    "                        j=j.split()[0]+' '+'Sep'+' '+ '1'      \n",
    "                    try:\n",
    "                        date=int(datetime.datetime.strftime(datetime.datetime.strptime(j,'%Y %b %d'), '%Y%m%d'))\n",
    "                    except:\n",
    "                        j=j[:4]\n",
    "                        date=int(datetime.datetime.strftime(datetime.datetime.strptime(j,'%Y'), '%Y'+'0101'))\n",
    "                elif re.search(r'(\\d+)[-/](\\d+)',j.split()[1],flags=re.M|re.I):\n",
    "                    midd=re.search(r'(\\d+)[-/](\\d+)',j.split()[1],flags=re.M|re.I).group(1)\n",
    "                    if len(midd)!=2:\n",
    "                        midd='0'+midd\n",
    "                    j=j[:4]\n",
    "                    date=int(datetime.datetime.strftime(datetime.datetime.strptime(j,'%Y'), '%Y'+midd+'01'))\n",
    "                else:\n",
    "                    print(j)\n",
    "                    j=j[:4]\n",
    "                    date=int(datetime.datetime.strftime(datetime.datetime.strptime(j,'%Y'), '%Y'+'0101'))\n",
    "    elif len(j.split())==1:\n",
    "        j=j[:4]\n",
    "        date=int(datetime.datetime.strftime(datetime.datetime.strptime(j,'%Y'), '%Y'+'0101'))\n",
    "    else:\n",
    "        j=j.split()[0]+' '+j.split()[1]+' '+re.search(r'\\d+',j.split()[2],flags=re.M|re.I).group()\n",
    "        date=int(datetime.datetime.strftime(datetime.datetime.strptime(j,'%Y %b %d'), '%Y%m%d'))\n",
    "    i['date']=date\n",
    "    i['year']=int(str(i.get('date'))[:4])"
   ]
  },
  {
   "cell_type": "code",
   "execution_count": 316,
   "id": "5917c706-0261-40cb-8fdc-15f69fd6b451",
   "metadata": {},
   "outputs": [
    {
     "data": {
      "text/plain": [
       "34"
      ]
     },
     "execution_count": 316,
     "metadata": {},
     "output_type": "execute_result"
    }
   ],
   "source": [
    "len(mutation_list_raw)"
   ]
  },
  {
   "cell_type": "code",
   "execution_count": 317,
   "id": "6cc49f1e-0a75-4373-b32d-cc039508d70f",
   "metadata": {},
   "outputs": [
    {
     "data": {
      "text/plain": [
       "{'AB': 'The clusterin (CLU) rs11136000 CC genotype is a probable risk factor for Alzheimer\\'s disease (AD). CLU, also known as the apolipoprotein J gene, shares certain properties with the apolipoprotein E (APOE) gene with a well-established relationship with AD. This study aimed to determine whether the electrophysiological patterns of brain activation during the letter fluency task (LFT) depend on CLU genotypes in adults without dementia. Previous studies have shown that LFT performance involves activation of the frontal cortex. We examined EEG alpha1 and alpha2 band desynchronization in the frontal regions during the LFT in 94 nondemented individuals stratified by CLU (rs11136000) genotype. Starting at 30 years of age, CLU CC carriers exhibited more pronounced task-related alpha2 desynchronization than CLU CT&TT carriers in the absence of any differences in LFT performance. In CLU CC carriers, alpha2 desynchronization was significantly correlated with age. Increased task-related activation in individuals at genetic risk for AD may reflect greater \"effort\" to perform the task and/or neuronal hyperexcitability. The results show that the CLU genotype is associated with neuronal hyperactivation in the frontal cortex during cognitive tasks performances in nondemented individuals, suggesting systematic vulnerability of LFT related cognitive networks in people carrying unfavorable CLU alleles.',\n",
       " 'type': 'Mutation',\n",
       " 'identifier': 'rs11136000',\n",
       " 'sentence': \"The clusterin (CLU) rs11136000 CC genotype is a probable risk factor for Alzheimer's disease (AD).\",\n",
       " 'sentenceSize': 9,\n",
       " 'sentenceIndex': 0,\n",
       " 'addtime': '2023_05_09',\n",
       " '_id': ObjectId('6459f29748e9c8c060127442'),\n",
       " 'PMID': '37047762',\n",
       " 'word': 'rs11136000',\n",
       " 'DP': '2023 Apr 5',\n",
       " 'URL': 'https://pubmed.ncbi.nlm.nih.gov/37047762',\n",
       " 'TI': 'Neuronal Hyperactivation in EEG Data during Cognitive Tasks Is Related to the Apolipoprotein J/Clusterin Genotype in Nondemented Adults.',\n",
       " 'entity': 'rs11136000',\n",
       " 'target': 'rs11136000',\n",
       " 'JT': 'International journal of molecular sciences',\n",
       " 'Position': 'chr8:27607002 (GRCh38.p13) ',\n",
       " 'Alleles': 'T>A / T>C',\n",
       " 'Clinical Significance': '',\n",
       " 'Gene : Consequence': ['CLU : Intron Variant'],\n",
       " 'Genomic View': 'https://www.ncbi.nlm.nih.gov/snp/rs11136000#seq_hash',\n",
       " 'date': 20230405,\n",
       " 'year': 2023}"
      ]
     },
     "execution_count": 317,
     "metadata": {},
     "output_type": "execute_result"
    }
   ],
   "source": [
    "mutation_list_raw[0]"
   ]
  },
  {
   "cell_type": "code",
   "execution_count": 318,
   "id": "fce9f8d9-abc7-43d3-bbed-dd8b3db0099b",
   "metadata": {},
   "outputs": [],
   "source": [
    "Mutation_raw=copy.deepcopy(mutation_list_raw)"
   ]
  },
  {
   "cell_type": "code",
   "execution_count": 319,
   "id": "7da8bafa-bb06-4e57-a73d-d928d83abe94",
   "metadata": {},
   "outputs": [
    {
     "data": {
      "text/plain": [
       "<pymongo.results.InsertManyResult at 0x7f8f9a85bfc0>"
      ]
     },
     "execution_count": 319,
     "metadata": {},
     "output_type": "execute_result"
    }
   ],
   "source": [
    "collections_Mutation_raw.insert_many(Mutation_raw)"
   ]
  },
  {
   "cell_type": "code",
   "execution_count": null,
   "id": "350e0a67-c663-4501-be93-485071a9bdbf",
   "metadata": {},
   "outputs": [],
   "source": []
  },
  {
   "cell_type": "code",
   "execution_count": null,
   "id": "caef372a-56a1-4405-bc9d-8aa115d2fb52",
   "metadata": {},
   "outputs": [],
   "source": []
  },
  {
   "cell_type": "markdown",
   "id": "a814a1c8-41a6-410c-8508-64140d206c9d",
   "metadata": {},
   "source": [
    "# Mutation_all"
   ]
  },
  {
   "cell_type": "code",
   "execution_count": 320,
   "id": "f0df93a4-c633-4439-805d-6cf33d8fe64f",
   "metadata": {},
   "outputs": [],
   "source": [
    "Mutation_testcopy=list(collections_Mutation_raw.find())"
   ]
  },
  {
   "cell_type": "code",
   "execution_count": 321,
   "id": "33d6e1f0-4c92-4565-bf70-e08ecfb4ce25",
   "metadata": {},
   "outputs": [
    {
     "data": {
      "text/plain": [
       "6915"
      ]
     },
     "execution_count": 321,
     "metadata": {},
     "output_type": "execute_result"
    }
   ],
   "source": [
    "len(Mutation_testcopy)"
   ]
  },
  {
   "cell_type": "code",
   "execution_count": 322,
   "id": "15f5920a-a3e8-453d-a309-2982ef120fba",
   "metadata": {},
   "outputs": [],
   "source": [
    "for i in Mutation_testcopy:\n",
    "    i['type']='Mutation'\n",
    "    i[\"PMID\"]=[i.get(\"PMID\")]\n",
    "    i[\"sentence\"]=[[i.get(\"sentence\")]]\n",
    "    pmid=i.get('PMID')[0]\n",
    "    i['DP']=[i.get(\"DP\")]\n",
    "    i['AB']=[i.get(\"AB\")]\n",
    "    i['URL']='https://pubmed.ncbi.nlm.nih.gov/'+pmid\n",
    "    i['TI']=[i.get(\"TI\")]\n",
    "    i['target']=[[i.get('word')]]\n",
    "    i[\"date\"]=[i.get(\"date\")]\n",
    "    i[\"year\"]=[i.get(\"year\")]\n",
    "    i['JT']=[i.get('JT')]"
   ]
  },
  {
   "cell_type": "code",
   "execution_count": 323,
   "id": "87ce7b7e-cd59-48fe-bb69-67de24d32fdd",
   "metadata": {},
   "outputs": [],
   "source": [
    "Mutation_mid={}\n",
    "for i in Mutation_testcopy:\n",
    "    if not Mutation_mid.get(i.get(\"entity\")):\n",
    "        Mutation_mid[i.get(\"entity\")]=i\n",
    "    else:\n",
    "        if i.get('PMID')[0] in Mutation_mid.get(i.get('entity')).get('PMID'):\n",
    "\n",
    "            ind=Mutation_mid.get(i.get('entity')).get('PMID').index(i.get('PMID')[0])\n",
    "            if i.get(\"sentence\")[0][0] in Mutation_mid.get(i.get('entity')).get('sentence')[ind]:\n",
    "                continue\n",
    "            else:\n",
    "                Mutation_mid[i.get('entity')]['sentence'][ind] = Mutation_mid.get(i.get('entity')).get('sentence')[ind] + i.get(\"sentence\")[0]\n",
    "                Mutation_mid[i.get('entity')]['target'][ind] = Mutation_mid.get(i.get('entity')).get('target')[ind] + i.get(\"target\")[0]\n",
    "        else:\n",
    "            Mutation_mid[i.get(\"entity\")][\"PMID\"]=Mutation_mid.get(i.get(\"entity\")).get(\"PMID\")+i.get(\"PMID\")\n",
    "            Mutation_mid[i.get(\"entity\")][\"sentence\"]=Mutation_mid.get(i.get(\"entity\")).get(\"sentence\")+i.get(\"sentence\")\n",
    "            Mutation_mid[i.get(\"entity\")][\"AB\"]=Mutation_mid.get(i.get(\"entity\")).get(\"AB\")+i.get(\"AB\")\n",
    "            Mutation_mid[i.get(\"entity\")][\"DP\"]=Mutation_mid.get(i.get(\"entity\")).get(\"DP\")+i.get(\"DP\")\n",
    "            Mutation_mid[i.get(\"entity\")][\"TI\"]=Mutation_mid.get(i.get(\"entity\")).get(\"TI\")+i.get(\"TI\")\n",
    "            Mutation_mid[i.get(\"entity\")][\"target\"]=Mutation_mid.get(i.get(\"entity\")).get(\"target\")+i.get(\"target\")\n",
    "            Mutation_mid[i.get(\"entity\")][\"date\"]=Mutation_mid.get(i.get(\"entity\")).get(\"date\")+i.get(\"date\")\n",
    "            Mutation_mid[i.get(\"entity\")][\"year\"]=Mutation_mid.get(i.get(\"entity\")).get(\"year\")+i.get(\"year\")\n",
    "            Mutation_mid[i.get(\"entity\")][\"JT\"]=Mutation_mid.get(i.get(\"entity\")).get(\"JT\")+i.get(\"JT\")"
   ]
  },
  {
   "cell_type": "code",
   "execution_count": 324,
   "id": "ffb69d04-1a33-4d42-8bb8-e68c5435d4a4",
   "metadata": {},
   "outputs": [],
   "source": [
    "Mutation_all=list(Mutation_mid.values())"
   ]
  },
  {
   "cell_type": "code",
   "execution_count": 325,
   "id": "822d4798-8082-4a6c-9645-56f3bdfbd6af",
   "metadata": {},
   "outputs": [],
   "source": [
    "for i in Mutation_all:\n",
    "    i['allyears']=[]\n",
    "    i['datestring']=[]\n",
    "    for j in i.get('date'):\n",
    "        if int(str(j)[:4]) not in i.get('allyears'):\n",
    "            i['allyears']= i.get('allyears')+[int(str(j)[:4])]\n",
    "    for j in i.get('date'):\n",
    "        if str(j)[:4]+\"-\"+str(j)[4:6]+\"-\"+str(j)[6:] not in i.get('datestring'):\n",
    "            i['datestring']=i.get('datestring')+[str(j)[:4]+\"-\"+str(j)[4:6]+\"-\"+str(j)[6:]]\n",
    "    i['allyears']=sorted(i.get('allyears'), reverse=True)\n",
    "    i['datestring']=sorted(i.get('datestring'), reverse=True)\n",
    "    upperlist=set()\n",
    "    for j in sum(i.get('target'),[]):\n",
    "        upperlist.add(j.upper())\n",
    "    i['targetshapes']=list(upperlist)\n",
    "    i['addtime']=now_time"
   ]
  },
  {
   "cell_type": "code",
   "execution_count": 326,
   "id": "ef3d3c26-17b8-4193-9966-69ed7f8d2b2f",
   "metadata": {},
   "outputs": [
    {
     "data": {
      "text/plain": [
       "2680"
      ]
     },
     "execution_count": 326,
     "metadata": {},
     "output_type": "execute_result"
    }
   ],
   "source": [
    "len(Mutation_all)"
   ]
  },
  {
   "cell_type": "code",
   "execution_count": null,
   "id": "44937779-1bc4-42f8-87b5-20db4ce9bf87",
   "metadata": {},
   "outputs": [],
   "source": []
  },
  {
   "cell_type": "code",
   "execution_count": null,
   "id": "9cc705dd-4093-46ac-b232-9de16118f94c",
   "metadata": {},
   "outputs": [],
   "source": []
  },
  {
   "cell_type": "markdown",
   "id": "f79687e4-9fee-4e94-98ac-fd9f9b537182",
   "metadata": {},
   "source": [
    "# Disease_raw"
   ]
  },
  {
   "cell_type": "code",
   "execution_count": 327,
   "id": "d0dd3a6a-0c7a-4860-a540-4d084c6e4cf9",
   "metadata": {},
   "outputs": [],
   "source": [
    "collections_Disease_raw=db.Disease_raw"
   ]
  },
  {
   "cell_type": "code",
   "execution_count": 328,
   "id": "449f9be4-c30b-4aad-93e5-28e527f43174",
   "metadata": {},
   "outputs": [],
   "source": [
    "Disease_pubtator_addpmid={}\n",
    "for i in pubtator_raw:\n",
    "    if i.get('type')=='Disease':\n",
    "        if Disease_pubtator_addpmid.get(i.get('id')):\n",
    "            Disease_pubtator_addpmid[i.get('id')]=Disease_pubtator_addpmid.get(i.get('id'))+[i]\n",
    "        else:\n",
    "            Disease_pubtator_addpmid[i.get('id')]=[i]"
   ]
  },
  {
   "cell_type": "code",
   "execution_count": 329,
   "id": "48e8ced4-8bba-4eeb-9f33-a891bfacc3a9",
   "metadata": {},
   "outputs": [],
   "source": [
    "Disease_output_json=[]\n",
    "for i,j in Disease_pubtator_addpmid.items():\n",
    "    Disease_output_json+=j"
   ]
  },
  {
   "cell_type": "code",
   "execution_count": 330,
   "id": "1bff79c0-592f-4e52-8271-c21855448c56",
   "metadata": {},
   "outputs": [
    {
     "data": {
      "text/plain": [
       "9539"
      ]
     },
     "execution_count": 330,
     "metadata": {},
     "output_type": "execute_result"
    }
   ],
   "source": [
    "len(Disease_output_json)"
   ]
  },
  {
   "cell_type": "code",
   "execution_count": 331,
   "id": "6a30a6c1-4ada-4a38-923b-28a6897266c0",
   "metadata": {},
   "outputs": [],
   "source": [
    "Disease_mesh=pickle.load(open('../disease/Disease.pkl','rb'))"
   ]
  },
  {
   "cell_type": "code",
   "execution_count": 332,
   "id": "34477079-955a-4d56-aae3-a25f46e09562",
   "metadata": {},
   "outputs": [],
   "source": [
    "Disease_mesh=Disease_mesh[1:]"
   ]
  },
  {
   "cell_type": "code",
   "execution_count": 333,
   "id": "3bbdc184-732d-421e-b393-b31cc783fe0d",
   "metadata": {},
   "outputs": [],
   "source": [
    "for i in Disease_mesh:\n",
    "    if i.get('text')=='Uveitis, Suppurative':\n",
    "        i['MeSHUniqueID']='D015829'"
   ]
  },
  {
   "cell_type": "code",
   "execution_count": 334,
   "id": "d2085482-321b-4754-a9ba-e61523cf3889",
   "metadata": {},
   "outputs": [
    {
     "name": "stdout",
     "output_type": "stream",
     "text": [
      "{'text': 'Hearing Loss', 'url': '/mesh/68034381', 'MeSHUniqueID': 'D034381', 'type': 'Disease'}\n",
      "{'text': 'Hearing Loss', 'url': '/mesh/68034381', 'MeSHUniqueID': 'D034381', 'type': 'Disease'}\n",
      "{'text': 'Hearing Loss', 'url': '/mesh/68034381', 'MeSHUniqueID': 'D034381', 'type': 'Disease'}\n"
     ]
    }
   ],
   "source": [
    "for i in Disease_mesh:\n",
    "    if i.get('text')=='Hearing Loss':\n",
    "        print(i)"
   ]
  },
  {
   "cell_type": "code",
   "execution_count": 335,
   "id": "3b2eb465-49f1-45d2-ba1b-03097a12b99f",
   "metadata": {},
   "outputs": [],
   "source": [
    "diseaselist=[]\n",
    "notdiseaselist=[]\n",
    "for i in Disease_mesh:\n",
    "    if i.get('MeSHUniqueID'):\n",
    "        diseaselist.append({'MESH':'MESH:'+i.get('MeSHUniqueID'),'type':i.get('type'),'url':i.get('url'),'text':i.get('text')})\n",
    "    else:\n",
    "        notdiseaselist.append(i)"
   ]
  },
  {
   "cell_type": "code",
   "execution_count": 336,
   "id": "bd203b56-dd8c-4a09-811a-fef7a20ff644",
   "metadata": {},
   "outputs": [
    {
     "data": {
      "text/plain": [
       "12791"
      ]
     },
     "execution_count": 336,
     "metadata": {},
     "output_type": "execute_result"
    }
   ],
   "source": [
    "len(diseaselist)"
   ]
  },
  {
   "cell_type": "code",
   "execution_count": 337,
   "id": "d5075827-0919-48e6-a0e6-40cc3a6f5c22",
   "metadata": {},
   "outputs": [
    {
     "data": {
      "text/plain": [
       "0"
      ]
     },
     "execution_count": 337,
     "metadata": {},
     "output_type": "execute_result"
    }
   ],
   "source": [
    "len(notdiseaselist)"
   ]
  },
  {
   "cell_type": "code",
   "execution_count": 338,
   "id": "312f5341-a4b3-4f29-864d-186d48a7f16a",
   "metadata": {},
   "outputs": [],
   "source": [
    "disease2classdict={}\n",
    "count=0\n",
    "for i in diseaselist:\n",
    "    if not disease2classdict.get(i.get('MESH')):\n",
    "        disease2classdict[i.get('MESH')]=[i.get('type')]\n",
    "    else:\n",
    "        if i.get('type') in disease2classdict.get(i.get('MESH')):\n",
    "            pass\n",
    "        else:\n",
    "            disease2classdict[i.get('MESH')]=disease2classdict.get(i.get('MESH'))+[i.get('type')]\n",
    "            count+=1\n",
    "            if count<=5:\n",
    "                print(i.get('MESH')+'\\t'+str(disease2classdict.get(i.get('MESH'))))"
   ]
  },
  {
   "cell_type": "code",
   "execution_count": 339,
   "id": "58a5fe2e-8a06-4cf8-b97b-c89f318744ff",
   "metadata": {},
   "outputs": [],
   "source": [
    "disease2subclassdict={}\n",
    "count=0\n",
    "for i in diseaselist:\n",
    "    disease2subclassdict[i.get('MESH')]=i.get('text')"
   ]
  },
  {
   "cell_type": "code",
   "execution_count": 340,
   "id": "38abface-62ee-4ce9-bad7-73f780c9402b",
   "metadata": {},
   "outputs": [],
   "source": [
    "disease2urldict={}\n",
    "count=0\n",
    "for i in diseaselist:\n",
    "    disease2urldict[i.get('MESH')]=i.get('url')"
   ]
  },
  {
   "cell_type": "code",
   "execution_count": 341,
   "id": "7b272f38-4b52-42c6-b632-55df4b46b827",
   "metadata": {},
   "outputs": [
    {
     "data": {
      "text/plain": [
       "4915"
      ]
     },
     "execution_count": 341,
     "metadata": {},
     "output_type": "execute_result"
    }
   ],
   "source": [
    "len(disease2classdict)"
   ]
  },
  {
   "cell_type": "code",
   "execution_count": 342,
   "id": "f7127c42-64fa-47a5-a3a0-36e43d0c95c9",
   "metadata": {},
   "outputs": [],
   "source": [
    "for i in Disease_output_json:\n",
    "    i['PMID']=i.get('id')\n",
    "    i['word']=i.get('text')\n",
    "    del i['id']\n",
    "    del i['text']"
   ]
  },
  {
   "cell_type": "code",
   "execution_count": 343,
   "id": "e5ccf958-b00f-4154-8859-9b4c05d6b157",
   "metadata": {},
   "outputs": [],
   "source": [
    "Disease_final=[]\n",
    "Disease_dropout=[]"
   ]
  },
  {
   "cell_type": "code",
   "execution_count": 344,
   "id": "3ed31c71-f6fa-4886-97f4-1b58a4289be0",
   "metadata": {},
   "outputs": [],
   "source": [
    "for i in Disease_output_json:\n",
    "    if i.get('identifier') in disease2classdict.keys():\n",
    "        Disease_final.append(dict(i,**{'class':disease2classdict.get(i.get('identifier')),'subclass':disease2subclassdict.get(i.get('identifier')),'url':disease2urldict.get(i.get('identifier'))}))\n",
    "    else:\n",
    "        Disease_dropout.append(i)"
   ]
  },
  {
   "cell_type": "code",
   "execution_count": 345,
   "id": "31395f19-ff79-4de8-b624-8517652f2495",
   "metadata": {},
   "outputs": [
    {
     "data": {
      "text/plain": [
       "9539"
      ]
     },
     "execution_count": 345,
     "metadata": {},
     "output_type": "execute_result"
    }
   ],
   "source": [
    "len(Disease_output_json)"
   ]
  },
  {
   "cell_type": "code",
   "execution_count": 346,
   "id": "eef14312-2542-4f3b-888c-8288d17e2065",
   "metadata": {},
   "outputs": [
    {
     "data": {
      "text/plain": [
       "1785"
      ]
     },
     "execution_count": 346,
     "metadata": {},
     "output_type": "execute_result"
    }
   ],
   "source": [
    "len(Disease_dropout)"
   ]
  },
  {
   "cell_type": "code",
   "execution_count": 347,
   "id": "e7bae632-6af3-478b-a20b-962bb9f50e52",
   "metadata": {},
   "outputs": [],
   "source": [
    "Disease_deduplicated=set()\n",
    "Disease_deduplicated_count=0\n",
    "disease_list_raw=[]\n",
    "for i in Disease_final:\n",
    "    k=i.get('PMID')\n",
    "    i['DP']=rawpickwithAB.get(k).get('DP')\n",
    "    i['AB']=rawpickwithAB.get(k).get('AB')\n",
    "    i['URL']='https://pubmed.ncbi.nlm.nih.gov/'+k\n",
    "    i['TI']=rawpickwithAB.get(k).get('TI')\n",
    "    i['entity']=i.get('subclass')\n",
    "    i['target']=i.get('word')\n",
    "    i['type']='Disease'\n",
    "    i['JT']=rawpickwithAB.get(k).get('JT')\n",
    "    if i.get('identifier') and re.match(r'MESH:',i.get('identifier')):\n",
    "        i['MESH']=i.get('identifier')[5:]\n",
    "    else:\n",
    "        i['MESH']=''\n",
    "    # tuples=(i.get(\"PMID\"),i.get(\"entity\"),i.get(\"word\"),i.get(\"sentence\"))\n",
    "    tuples=(i.get(\"PMID\"),i.get(\"entity\"),i.get(\"word\"),i.get(\"sentence\"))\n",
    "    if tuples not in Disease_deduplicated:\n",
    "        Disease_deduplicated.add(tuples)\n",
    "        disease_list_raw.append(i)\n",
    "    else:\n",
    "        Disease_deduplicated_count+=1\n",
    "        continue"
   ]
  },
  {
   "cell_type": "code",
   "execution_count": 348,
   "id": "ce1ea7b3-f73c-4b55-a64d-874833814477",
   "metadata": {},
   "outputs": [
    {
     "data": {
      "text/plain": [
       "580"
      ]
     },
     "execution_count": 348,
     "metadata": {},
     "output_type": "execute_result"
    }
   ],
   "source": [
    "Disease_deduplicated_count"
   ]
  },
  {
   "cell_type": "code",
   "execution_count": 349,
   "id": "133bd574-f7cd-45fc-b121-0a9c73494cf5",
   "metadata": {},
   "outputs": [],
   "source": [
    "disease2ncbi={}\n",
    "for i in disease_list_raw:\n",
    "    disease2ncbi[i.get('url')]=''"
   ]
  },
  {
   "cell_type": "code",
   "execution_count": 350,
   "id": "f6fc500f-bcee-4631-8d77-b4d0560341ba",
   "metadata": {},
   "outputs": [
    {
     "data": {
      "text/plain": [
       "677"
      ]
     },
     "execution_count": 350,
     "metadata": {},
     "output_type": "execute_result"
    }
   ],
   "source": [
    "len(disease2ncbi)"
   ]
  },
  {
   "cell_type": "code",
   "execution_count": 351,
   "id": "4b329861-5381-4f74-b57a-1c47b3f85bfc",
   "metadata": {},
   "outputs": [],
   "source": [
    "disease_converter=pickle.load(open('../ncbi/Disease_converter.pkl','rb'))"
   ]
  },
  {
   "cell_type": "code",
   "execution_count": 352,
   "id": "051e65fd-b0bc-487b-aada-bc2ae532bb64",
   "metadata": {},
   "outputs": [
    {
     "data": {
      "text/plain": [
       "3347"
      ]
     },
     "execution_count": 352,
     "metadata": {},
     "output_type": "execute_result"
    }
   ],
   "source": [
    "len(disease_converter)"
   ]
  },
  {
   "cell_type": "code",
   "execution_count": 353,
   "id": "0193ecdc-19be-449e-a80e-0b4bff45256e",
   "metadata": {},
   "outputs": [],
   "source": [
    "def get_disease_info(i,final_diseases_inte):\n",
    "    headers = {\n",
    "        \"User-Agent\": \"Mozilla/5.0 (Windows NT 10.0; Win64; x64) AppleWebKit/537.36 \\\n",
    "        (KHTML, like Gecko) Chrome/83.0.4103.97 Safari/537.36\"\n",
    "    }\n",
    "    url = 'https://www.ncbi.nlm.nih.gov' + i\n",
    "    res=requests.get(url=url,headers=headers)\n",
    "    html = etree.HTML(res.content)\n",
    "    ncbisummary={\n",
    "    # 'numbersOfLiterature' : len(i.get('PMID')),\n",
    "    'Summary' : ''.join(html.xpath('//*[@class=\"mesh_ds_scope_note\"]/text()'))\n",
    "    }\n",
    "    final_diseases_inte.update({i:ncbisummary})\n",
    "    time.sleep(0.5)"
   ]
  },
  {
   "cell_type": "code",
   "execution_count": 354,
   "id": "bb2d5997-9b9b-4e56-bd90-74bb15baf168",
   "metadata": {},
   "outputs": [],
   "source": [
    "judge=False\n",
    "p = Pool(10)\n",
    "manager=Manager()\n",
    "final_diseases_inte = manager.dict()\n",
    "for i in disease2ncbi.keys():\n",
    "    if not disease_converter.get(i):\n",
    "        p.apply_async(get_disease_info, args=(i,final_diseases_inte))\n",
    "        judge=True\n",
    "p.close()\n",
    "p.join()\n",
    "if judge:\n",
    "    disease_converter.update(dict(final_diseases_inte))\n",
    "    pickle.dump(disease_converter, open('../ncbi/Disease_converter.pkl','wb'))"
   ]
  },
  {
   "cell_type": "code",
   "execution_count": 355,
   "id": "fc915b20-4e86-4ebb-95ca-c987c7ee41d2",
   "metadata": {},
   "outputs": [
    {
     "data": {
      "text/plain": [
       "3352"
      ]
     },
     "execution_count": 355,
     "metadata": {},
     "output_type": "execute_result"
    }
   ],
   "source": [
    "len(disease_converter)"
   ]
  },
  {
   "cell_type": "code",
   "execution_count": 356,
   "id": "4ff7c684-6dba-4968-81cf-076521bd3de2",
   "metadata": {},
   "outputs": [],
   "source": [
    "for i in range(len(disease_list_raw)):\n",
    "    disease_list_raw[i]=dict(disease_list_raw[i],**disease_converter.get(disease_list_raw[i].get('url')))"
   ]
  },
  {
   "cell_type": "code",
   "execution_count": 357,
   "id": "f733c6c0-9eea-43b4-9534-2f3cfc5ecb26",
   "metadata": {},
   "outputs": [],
   "source": [
    "Disease_deduplicated_dropout=set()\n",
    "Disease_deduplicated_dropout_count=0\n",
    "Disease_dropout_raw=[]\n",
    "for i in Disease_dropout:\n",
    "    k=i.get('PMID')\n",
    "    i['DP']=rawpickwithAB.get(k).get('DP')\n",
    "    i['AB']=rawpickwithAB.get(k).get('AB')\n",
    "    i['URL']='https://pubmed.ncbi.nlm.nih.gov/'+k\n",
    "    i['TI']=rawpickwithAB.get(k).get('TI')\n",
    "    i['entity']=i.get('word')\n",
    "    i['target']=i.get('word')\n",
    "    i['type']='Disease'\n",
    "    i['JT']=rawpickwithAB.get(k).get('JT')\n",
    "    if i.get('identifier') and re.match('MESH:',i.get('identifier')):\n",
    "        i['MESH']=i.get('identifier')[5:]\n",
    "    else:\n",
    "        i['MESH']=''\n",
    "    # tuples=(i.get(\"PMID\"),i.get(\"entity\"),i.get(\"word\"),i.get(\"sentence\"))\n",
    "    tuples=(i.get(\"PMID\"),i.get(\"entity\"),i.get(\"word\"),i.get(\"sentence\"))\n",
    "    if tuples not in Disease_deduplicated_dropout:\n",
    "        Disease_deduplicated_dropout.add(tuples)\n",
    "        Disease_dropout_raw.append(i)\n",
    "    else:\n",
    "        Disease_deduplicated_dropout_count+=1\n",
    "        continue"
   ]
  },
  {
   "cell_type": "code",
   "execution_count": 358,
   "id": "e40b936a-7374-43d5-a0f2-ce33aa472fab",
   "metadata": {},
   "outputs": [],
   "source": [
    "for i in Disease_dropout_raw:\n",
    "    i['Summary']=''"
   ]
  },
  {
   "cell_type": "code",
   "execution_count": 359,
   "id": "758c1d8b-39ee-431c-94aa-7fb6885a8ff3",
   "metadata": {},
   "outputs": [
    {
     "data": {
      "text/plain": [
       "1697"
      ]
     },
     "execution_count": 359,
     "metadata": {},
     "output_type": "execute_result"
    }
   ],
   "source": [
    "len(Disease_dropout_raw)"
   ]
  },
  {
   "cell_type": "code",
   "execution_count": 360,
   "id": "a32add83-c7d8-4eff-9abe-616f7e208833",
   "metadata": {},
   "outputs": [],
   "source": [
    "Disease_raw=disease_list_raw+Disease_dropout_raw"
   ]
  },
  {
   "cell_type": "code",
   "execution_count": 361,
   "id": "ce676b7a-177b-4a5d-9354-f2902b12b84e",
   "metadata": {},
   "outputs": [
    {
     "data": {
      "text/plain": [
       "8871"
      ]
     },
     "execution_count": 361,
     "metadata": {},
     "output_type": "execute_result"
    }
   ],
   "source": [
    "len(Disease_raw)"
   ]
  },
  {
   "cell_type": "code",
   "execution_count": 362,
   "id": "4fedf008-4f5c-480b-b634-a0a39a9626ac",
   "metadata": {},
   "outputs": [],
   "source": [
    "dropout=[]\n",
    "months=['Jan','Feb','Mar','Apr','May','Jun','Jul','Aug','Sep','Oct','Nov','Dec']\n",
    "for i in Disease_raw:\n",
    "    j=i.get('DP')\n",
    "    if re.search('[S,s]upplement',j,flags=re.M|re.I):\n",
    "        j=re.sub('[S,s]upplement.*','',j,flags=re.M|re.I)\n",
    "    j=re.sub('\\s?-\\s?','-',j)\n",
    "    j=re.sub('\\.','',j)\n",
    "    j=re.sub('Aout','Aug',j)\n",
    "    if len(j.split(' '))==3:\n",
    "        try:\n",
    "            date=int(datetime.datetime.strftime(datetime.datetime.strptime(j,'%Y %b %d'), '%Y%m%d'))\n",
    "        except:\n",
    "            if j.split()[1] in months:\n",
    "                if re.search(r'\\d+',j.split()[2],flags=re.M|re.I):\n",
    "                    j=j.split()[0]+' '+j.split()[1]+' '+ re.search(r'\\d+',j.split()[2],flags=re.M|re.I).group()\n",
    "                    try:\n",
    "                        date=int(datetime.datetime.strftime(datetime.datetime.strptime(j,'%Y %b %d'), '%Y%m%d'))\n",
    "                    except:\n",
    "                        j=j[:4]\n",
    "                        date=int(datetime.datetime.strftime(datetime.datetime.strptime(j,'%Y'), '%Y'+'0101'))\n",
    "                        print('***************************************ERROR**********************************************')\n",
    "                else:\n",
    "                    j=j.split()[0]+' '+j.split()[1]+' '+ '1'\n",
    "                    try:\n",
    "                        date=int(datetime.datetime.strftime(datetime.datetime.strptime(j,'%Y %b %d'), '%Y%m%d'))\n",
    "                    except:\n",
    "                        print(j)\n",
    "                        j=j[:4]\n",
    "                        date=int(datetime.datetime.strftime(datetime.datetime.strptime(j,'%Y'), '%Y'+'0101'))\n",
    "            elif j.split()[1] not in months:\n",
    "                if re.search(r'([a-zA-Z]+)[-/]([a-zA-Z]+)',j.split()[1],flags=re.M|re.I) or re.search(r'([a-zA-Z]+)[-/](\\d+)',j.split()[1],flags=re.M|re.I):\n",
    "                    if re.search(r'([a-zA-Z]+)[-/]([a-zA-Z]+)',j.split()[1],flags=re.M|re.I):\n",
    "                        middle=re.search(r'([a-zA-Z]+)[-/]([a-zA-Z]+)',j.split()[1],flags=re.M|re.I).group(1)\n",
    "                    else:\n",
    "                        middle=re.search(r'([a-zA-Z]+)[-/](\\d+)',j.split()[1],flags=re.M|re.I).group(1)\n",
    "                    if middle in months:\n",
    "                        if re.search(r'\\d+',j.split()[2],flags=re.M|re.I):\n",
    "                            j=j.split()[0]+' '+middle+' '+ re.search(r'\\d+',j.split()[2],flags=re.M|re.I).group()\n",
    "                        else:\n",
    "                            j=j.split()[0]+' '+middle+' '+ '1'\n",
    "                    elif re.match(r'Sum(mer)?',middle):\n",
    "                        if re.search(r'\\d+',j.split()[2],flags=re.M|re.I):\n",
    "                            j=j.split()[0]+' '+'Jun'+' '+ re.search(r'\\d+',j.split()[2],flags=re.M|re.I).group()\n",
    "                        else:\n",
    "                            j=j.split()[0]+' '+'Jun'+' '+ '1'\n",
    "                    elif re.match(r'Spr(ing)?',middle):\n",
    "                        if re.search(r'\\d+',j.split()[2],flags=re.M|re.I):\n",
    "                            j=j.split()[0]+' '+'Mar'+' '+ re.search(r'\\d+',j.split()[2],flags=re.M|re.I).group()\n",
    "                        else:\n",
    "                            j=j.split()[0]+' '+'Mar'+' '+ '1'\n",
    "                    elif re.match(r'Win(ter)?',middle):\n",
    "                        if re.search(r'\\d+',j.split()[2],flags=re.M|re.I):\n",
    "                            j=j.split()[0]+' '+'Dec'+' '+ re.search(r'\\d+',j.split()[2],flags=re.M|re.I).group()\n",
    "                        else:\n",
    "                            j=j.split()[0]+' '+'Dec'+' '+ '1'    \n",
    "                    elif re.match(r'Aut(umn)?',middle) or \\\n",
    "                    re.match(r'Fall',middle):\n",
    "                        if re.search(r'\\d+',j.split()[2],flags=re.M|re.I):\n",
    "                            j=j.split()[0]+' '+'Sep'+' '+ re.search(r'\\d+',j.split()[2],flags=re.M|re.I).group()\n",
    "                        else:\n",
    "                            j=j.split()[0]+' '+'Sep'+' '+ '1'      \n",
    "                    try:\n",
    "                        date=int(datetime.datetime.strftime(datetime.datetime.strptime(j,'%Y %b %d'), '%Y%m%d'))\n",
    "                    except:\n",
    "                        print(j)\n",
    "                        j=j[:4]\n",
    "                        date=int(datetime.datetime.strftime(datetime.datetime.strptime(j,'%Y'), '%Y'+'0101'))\n",
    "                else:\n",
    "                    j=j[:4]\n",
    "                    date=int(datetime.datetime.strftime(datetime.datetime.strptime(j,'%Y'), '%Y'+'0101'))\n",
    "    elif len(j.split())==2:\n",
    "        if re.match(r'Sum(mer)?',j.split()[1]):\n",
    "            date=int(j[:4]+'0601')\n",
    "        elif re.match(r'Spr(ing)?',j.split()[1]):\n",
    "            date=int(j[:4]+'0301')\n",
    "        elif re.match(r'Win(ter)?',j.split()[1]):\n",
    "            date=int(j[:4]+'1201')\n",
    "        elif re.match(r'Aut(umn)?',j.split()[1]) or re.match(r'Fall',j.split()[1]):\n",
    "            date=int(j[:4]+'0901')\n",
    "        elif re.match(r'Sum(mer)?',j.split()[0]):\n",
    "            date=int(j[-4:]+'0601')\n",
    "        elif re.match(r'Spr(ing)?',j.split()[0]):\n",
    "            date=int(j[-4:]+'0301')\n",
    "        elif re.match(r'Win(ter)?',j.split()[0]):\n",
    "            date=int(j[-4:]+'1201')\n",
    "        elif re.match(r'Aut(umn)?',j.split()[0]) or re.match(r'Fall',j.split()[0]):\n",
    "            date=int(j[-4:]+'0901')\n",
    "        else:\n",
    "            try:\n",
    "                date=int(datetime.datetime.strftime(datetime.datetime.strptime(j,'%Y %b'), '%Y%m'+'01'))\n",
    "            except:\n",
    "                if re.search(r'([a-zA-Z]+)[-/]([a-zA-Z]+)',j.split()[1],flags=re.M|re.I) or re.search(r'([a-zA-Z]+)[-/](\\d+)',j.split()[1],flags=re.M|re.I):\n",
    "                    if re.search(r'([a-zA-Z]+)[-/]([a-zA-Z]+)',j.split()[1],flags=re.M|re.I):\n",
    "                        middle=re.search(r'([a-zA-Z]+)[-/]([a-zA-Z]+)',j.split()[1],flags=re.M|re.I).group(1)\n",
    "                    else:\n",
    "                        middle=re.search(r'([a-zA-Z]+)[-/](\\d+)',j.split()[1],flags=re.M|re.I).group(1)\n",
    "                    if middle in months:\n",
    "                        j=j.split()[0]+' '+middle+' '+ '1'\n",
    "                    elif re.match(r'Sum(mer)?',middle):\n",
    "                        j=j.split()[0]+' '+'Jun'+' '+ '1'\n",
    "                    elif re.match(r'Spr(ing)?',middle):\n",
    "                        j=j.split()[0]+' '+'Mar'+' '+ '1'\n",
    "                    elif re.match(r'Win(ter)?',middle):\n",
    "                        j=j.split()[0]+' '+'Dec'+' '+ '1'    \n",
    "                    elif re.match(r'Aut(umn)?',middle) or \\\n",
    "                    re.match(r'Fall',middle):\n",
    "                        j=j.split()[0]+' '+'Sep'+' '+ '1'      \n",
    "                    try:\n",
    "                        date=int(datetime.datetime.strftime(datetime.datetime.strptime(j,'%Y %b %d'), '%Y%m%d'))\n",
    "                    except:\n",
    "                        j=j[:4]\n",
    "                        date=int(datetime.datetime.strftime(datetime.datetime.strptime(j,'%Y'), '%Y'+'0101'))\n",
    "                elif re.search(r'(\\d+)[-/](\\d+)',j.split()[1],flags=re.M|re.I):\n",
    "                    midd=re.search(r'(\\d+)[-/](\\d+)',j.split()[1],flags=re.M|re.I).group(1)\n",
    "                    if len(midd)!=2:\n",
    "                        midd='0'+midd\n",
    "                    j=j[:4]\n",
    "                    date=int(datetime.datetime.strftime(datetime.datetime.strptime(j,'%Y'), '%Y'+midd+'01'))\n",
    "                else:\n",
    "                    print(j)\n",
    "                    j=j[:4]\n",
    "                    date=int(datetime.datetime.strftime(datetime.datetime.strptime(j,'%Y'), '%Y'+'0101'))\n",
    "    elif len(j.split())==1:\n",
    "        j=j[:4]\n",
    "        date=int(datetime.datetime.strftime(datetime.datetime.strptime(j,'%Y'), '%Y'+'0101'))\n",
    "    else:\n",
    "        j=j.split()[0]+' '+j.split()[1]+' '+re.search(r'\\d+',j.split()[2],flags=re.M|re.I).group()\n",
    "        date=int(datetime.datetime.strftime(datetime.datetime.strptime(j,'%Y %b %d'), '%Y%m%d'))\n",
    "    i['date']=date\n",
    "    i['year']=int(str(i.get('date'))[:4])"
   ]
  },
  {
   "cell_type": "code",
   "execution_count": 363,
   "id": "50a1cfce-8142-42cd-aa80-d9760acdec6a",
   "metadata": {},
   "outputs": [
    {
     "data": {
      "text/plain": [
       "<pymongo.results.InsertManyResult at 0x7f8f9a926180>"
      ]
     },
     "execution_count": 363,
     "metadata": {},
     "output_type": "execute_result"
    }
   ],
   "source": [
    "collections_Disease_raw.insert_many(Disease_raw)"
   ]
  },
  {
   "cell_type": "code",
   "execution_count": null,
   "id": "ee3e2550-f30a-4892-a339-a741b693a4a5",
   "metadata": {},
   "outputs": [],
   "source": []
  },
  {
   "cell_type": "code",
   "execution_count": null,
   "id": "1ad9de64-ff75-4707-a075-fccd231faade",
   "metadata": {},
   "outputs": [],
   "source": []
  },
  {
   "cell_type": "markdown",
   "id": "6f1a3aa6-ac01-4d38-8aed-7573b9d22991",
   "metadata": {},
   "source": [
    "# Disease_all"
   ]
  },
  {
   "cell_type": "code",
   "execution_count": 364,
   "id": "a0482352-f8d1-41b3-bce8-527f2021e6d1",
   "metadata": {},
   "outputs": [],
   "source": [
    "Disease_raw_list=list(collections_Disease_raw.find())"
   ]
  },
  {
   "cell_type": "code",
   "execution_count": 365,
   "id": "c664b53e-4a14-42b0-9817-ed4d88599f3b",
   "metadata": {},
   "outputs": [],
   "source": [
    "for i in Disease_raw_list:\n",
    "    if i.get('word').upper()==\"ALZHEI-MER'S DISEASE\":\n",
    "        i['entity']='Alzheimer Disease'"
   ]
  },
  {
   "cell_type": "code",
   "execution_count": 366,
   "id": "876a519d-fcfb-4288-9921-53fc53083946",
   "metadata": {},
   "outputs": [],
   "source": [
    "for i in Disease_raw_list:\n",
    "    i[\"PMID\"]=[i.get(\"PMID\")]\n",
    "    i[\"sentence\"]=[[i.get(\"sentence\")]]\n",
    "    pmid=i.get('PMID')[0]\n",
    "    i['DP']=[i.get(\"DP\")]\n",
    "    i['AB']=[i.get(\"AB\")]\n",
    "    i['URL']='https://pubmed.ncbi.nlm.nih.gov/'+pmid\n",
    "    i['TI']=[i.get(\"TI\")]\n",
    "    i['target']=[[i.get('word')]]\n",
    "    i[\"date\"]=[i.get(\"date\")]\n",
    "    i[\"year\"]=[i.get(\"year\")]\n",
    "    i['JT']=[i.get('JT')]"
   ]
  },
  {
   "cell_type": "code",
   "execution_count": 367,
   "id": "08ca30d9-3de5-49f6-96ee-b9d87ae77d15",
   "metadata": {},
   "outputs": [
    {
     "data": {
      "text/plain": [
       "{'_id': ObjectId('6459f29748e9c8c06012c085'),\n",
       " 'AB': ['OBJECTIVES: Exposures to adverse events are associated with impaired later-life psychological health. While these associations depend on the type of event, the manner in which associations for different event types depend on when they occur within the life course has received less attention. We investigated associations between counts of adverse events over the life course, and wellbeing and mental health outcomes in older people, according to their timing (age of occurrence), orientation (self or other) and, both their timing and orientation. DESIGN: Linear and logistic random-effects models for repeated observations. SETTING: England, 2002-2015. PARTICIPANTS: A total of 4,208 respondents aged >50 years with 22,146 observations across Waves 1-7 of the English Longitudinal Study of Ageing. MEASUREMENTS: Cumulative adversity was measured by counts of 16 types of events occurring within four age ranges over the life course using retrospective life history data. These were categorized into other- (experienced through harms to others) and self-oriented events. Outcomes included CASP-12 (control, autonomy, self-realization, and pleasure), the eight-item Centre of Epidemiological Studies Depression Scale, and self-appraised subjective life satisfaction. RESULTS: Additional adverse events were associated with lower CASP-12 and life satisfaction scores, and higher odds of probable depressive caseness. In childhood, other-oriented events had a larger negative association with later-life wellbeing than self-oriented events; the converse was found for events occurring in adulthood. CONCLUSIONS: Events occurring at all life course stages were independently associated with both later-life wellbeing and depression in a cumulative fashion. Certain age ranges may represent sensitive periods for specific event types.'],\n",
       " 'type': 'Disease',\n",
       " 'identifier': 'MESH:D000275',\n",
       " 'sentence': [['CONCLUSIONS: Events occurring at all life course stages were independently associated with both later-life wellbeing and depression in a cumulative fashion.']],\n",
       " 'sentenceSize': 13,\n",
       " 'sentenceIndex': 11,\n",
       " 'addtime': '2023_05_09',\n",
       " 'PMID': ['33050971'],\n",
       " 'word': 'depression',\n",
       " 'DP': ['2023 May'],\n",
       " 'URL': 'https://pubmed.ncbi.nlm.nih.gov/33050971',\n",
       " 'TI': ['Adverse events over the life course and later-life wellbeing and depressive symptoms in older people.'],\n",
       " 'entity': 'depression',\n",
       " 'target': [['depression']],\n",
       " 'JT': ['International psychogeriatrics'],\n",
       " 'MESH': 'D000275',\n",
       " 'Summary': '',\n",
       " 'date': [20230501],\n",
       " 'year': [2023]}"
      ]
     },
     "execution_count": 367,
     "metadata": {},
     "output_type": "execute_result"
    }
   ],
   "source": [
    "i"
   ]
  },
  {
   "cell_type": "code",
   "execution_count": 368,
   "id": "a585838e-5a12-49ef-8d2a-68cf6a001fa9",
   "metadata": {},
   "outputs": [],
   "source": [
    "Disease_mid={}\n",
    "for i in Disease_raw_list:\n",
    "    if not Disease_mid.get(i.get(\"entity\")):\n",
    "        Disease_mid[i.get(\"entity\")]=i\n",
    "    else:\n",
    "        if i.get('PMID')[0] in Disease_mid.get(i.get('entity')).get('PMID'):\n",
    "            ind=Disease_mid.get(i.get('entity')).get('PMID').index(i.get('PMID')[0])\n",
    "            if i.get(\"sentence\")[0][0] in Disease_mid.get(i.get('entity')).get('sentence')[ind]:\n",
    "                continue\n",
    "            else:\n",
    "                Disease_mid[i.get('entity')]['sentence'][ind] = Disease_mid.get(i.get('entity')).get('sentence')[ind] + i.get(\"sentence\")[0]\n",
    "                Disease_mid[i.get('entity')]['target'][ind] = Disease_mid.get(i.get('entity')).get('target')[ind] + i.get(\"target\")[0]\n",
    "        else:\n",
    "            Disease_mid[i.get(\"entity\")][\"PMID\"]=Disease_mid.get(i.get(\"entity\")).get(\"PMID\")+i.get(\"PMID\")\n",
    "            Disease_mid[i.get(\"entity\")][\"sentence\"]=Disease_mid.get(i.get(\"entity\")).get(\"sentence\")+i.get(\"sentence\")\n",
    "            Disease_mid[i.get(\"entity\")][\"AB\"]=Disease_mid.get(i.get(\"entity\")).get(\"AB\")+i.get(\"AB\")\n",
    "            Disease_mid[i.get(\"entity\")][\"DP\"]=Disease_mid.get(i.get(\"entity\")).get(\"DP\")+i.get(\"DP\")\n",
    "            Disease_mid[i.get(\"entity\")][\"TI\"]=Disease_mid.get(i.get(\"entity\")).get(\"TI\")+i.get(\"TI\")\n",
    "            Disease_mid[i.get(\"entity\")][\"target\"]=Disease_mid.get(i.get(\"entity\")).get(\"target\")+i.get(\"target\")\n",
    "            Disease_mid[i.get(\"entity\")][\"date\"]=Disease_mid.get(i.get(\"entity\")).get(\"date\")+i.get(\"date\")\n",
    "            Disease_mid[i.get(\"entity\")][\"year\"]=Disease_mid.get(i.get(\"entity\")).get(\"year\")+i.get(\"year\")\n",
    "            Disease_mid[i.get(\"entity\")][\"JT\"]=Disease_mid.get(i.get(\"entity\")).get(\"JT\")+i.get(\"JT\")"
   ]
  },
  {
   "cell_type": "code",
   "execution_count": 369,
   "id": "b5cb11f4-381f-468f-8ba9-3bc7bddf1dc5",
   "metadata": {},
   "outputs": [],
   "source": [
    "Disease_output_json_final=list(Disease_mid.values())"
   ]
  },
  {
   "cell_type": "code",
   "execution_count": 370,
   "id": "72926abe-2c72-4c2c-8aab-4aa8b9805a04",
   "metadata": {},
   "outputs": [
    {
     "data": {
      "text/plain": [
       "17750"
      ]
     },
     "execution_count": 370,
     "metadata": {},
     "output_type": "execute_result"
    }
   ],
   "source": [
    "len(Disease_output_json_final)"
   ]
  },
  {
   "cell_type": "code",
   "execution_count": 371,
   "id": "b2fd15c5-58a9-40aa-b0a9-9edc5c14cd43",
   "metadata": {},
   "outputs": [],
   "source": [
    "for i in Disease_output_json_final:\n",
    "    i['allyears']=[]\n",
    "    i['datestring']=[]\n",
    "    for j in i.get('date'):\n",
    "        if int(str(j)[:4]) not in i.get('allyears'):\n",
    "            i['allyears']= i.get('allyears')+[int(str(j)[:4])]\n",
    "    for j in i.get('date'):\n",
    "        if str(j)[:4]+\"-\"+str(j)[4:6]+\"-\"+str(j)[6:] not in i.get('datestring'):\n",
    "            i['datestring']=i.get('datestring')+[str(j)[:4]+\"-\"+str(j)[4:6]+\"-\"+str(j)[6:]]\n",
    "    i['allyears']=sorted(i.get('allyears'), reverse=True)\n",
    "    i['datestring']=sorted(i.get('datestring'), reverse=True)\n",
    "    upperlist=set()\n",
    "    for j in sum(i.get('target'),[]):\n",
    "        upperlist.add(j.upper())\n",
    "    i['targetshapes']=list(upperlist)\n",
    "    i['addtime']=now_time"
   ]
  },
  {
   "cell_type": "code",
   "execution_count": 372,
   "id": "e52f3bb0-ddd1-4b0a-bff9-ade5ff569e53",
   "metadata": {},
   "outputs": [],
   "source": [
    "Disease_all=copy.deepcopy(Disease_output_json_final)"
   ]
  },
  {
   "cell_type": "code",
   "execution_count": 373,
   "id": "2b13da91-2936-4e65-8555-9d14706d00c0",
   "metadata": {},
   "outputs": [
    {
     "data": {
      "text/plain": [
       "17750"
      ]
     },
     "execution_count": 373,
     "metadata": {},
     "output_type": "execute_result"
    }
   ],
   "source": [
    "len(Disease_all)"
   ]
  },
  {
   "cell_type": "code",
   "execution_count": null,
   "id": "90ee1e2f-c388-4c37-a73e-6c4fcd4800be",
   "metadata": {},
   "outputs": [],
   "source": []
  },
  {
   "cell_type": "code",
   "execution_count": null,
   "id": "5c3e387d-5781-4972-9d1f-6609f8035cbb",
   "metadata": {},
   "outputs": [],
   "source": []
  },
  {
   "cell_type": "code",
   "execution_count": 376,
   "id": "f6c817f2-94a9-4610-962e-3d299a91f882",
   "metadata": {},
   "outputs": [],
   "source": [
    "names=locals()"
   ]
  },
  {
   "cell_type": "code",
   "execution_count": 377,
   "id": "2f1f6bf7-7be7-4734-a546-219efe9c1c28",
   "metadata": {},
   "outputs": [],
   "source": [
    "entity_pairs=['Gene','RNA','Carbohydrate','Lipid','Peptide', 'Pharmaceutical_Preparations', 'Protein', 'Toxin','Mutation', 'Disease']"
   ]
  },
  {
   "cell_type": "code",
   "execution_count": 378,
   "id": "5a3af199-2a2f-481b-ab6a-b8cc0bb2255d",
   "metadata": {},
   "outputs": [],
   "source": [
    "for i in entity_pairs:\n",
    "    pickle.dump(names[i+'_all'],open('results/step2/'+i+'_all.pkl','wb'))"
   ]
  },
  {
   "cell_type": "code",
   "execution_count": 380,
   "id": "4eb5463c-0066-4f5c-9a9f-bda640b36d75",
   "metadata": {},
   "outputs": [],
   "source": [
    "for i in entity_pairs:\n",
    "    names[i+'_all']=pickle.load(open('results/step2/'+i+'_all.pkl','rb'))"
   ]
  },
  {
   "cell_type": "code",
   "execution_count": 385,
   "id": "784341a5-85ac-4ced-bdfe-041cebe5c619",
   "metadata": {},
   "outputs": [
    {
     "data": {
      "text/plain": [
       "dict_keys(['_id', 'AB', 'type', 'identifier', 'sentence', 'sentenceSize', 'sentenceIndex', 'entity', 'ner', 'PMID', 'word', 'jnlpba_tags', 'bc5cdr_tags', 'bionlp13cg_tags', 'ScispaCy', 'bern', 'DP', 'URL', 'TI', 'target', 'JT', 'Official_Symbol', 'Official_Full_Name', 'HGNC_ID', 'HGNC_URL', 'Ensembl_ID', 'Ensembl_URL', 'MIM_ID', 'MIM_URL', 'AllianceGenome_ID', 'AllianceGenome_URL', 'Gene_type', 'Lineage', 'Also_known_as', 'Summary', 'NCBI_ID', 'NCBI_URL', 'date', 'year', 'addtime', 'allyears', 'datestring', 'targetshapes'])"
      ]
     },
     "execution_count": 385,
     "metadata": {},
     "output_type": "execute_result"
    }
   ],
   "source": [
    "Gene_all[10].keys()"
   ]
  },
  {
   "cell_type": "code",
   "execution_count": 386,
   "id": "a56d6361-4963-4455-a634-52d9938607cb",
   "metadata": {},
   "outputs": [
    {
     "data": {
      "text/plain": [
       "dict_keys(['_id', 'AB', 'type', 'identifier', 'sentence', 'sentenceSize', 'sentenceIndex', 'entity', 'ner', 'specific_type', 'PMID', 'word', 'DP', 'URL', 'TI', 'target', 'Official_Symbol', 'Official_Full_Name', 'HGNC_ID', 'HGNC_URL', 'Ensembl_ID', 'Ensembl_URL', 'MIM_ID', 'MIM_URL', 'AllianceGenome_ID', 'AllianceGenome_URL', 'Gene_type', 'Lineage', 'Also_known_as', 'Summary', 'Expression', 'NCBI_ID', 'NCBI_URL', 'date', 'year', 'JT', 'addtime', 'allyears', 'datestring', 'targetshapes'])"
      ]
     },
     "execution_count": 386,
     "metadata": {},
     "output_type": "execute_result"
    }
   ],
   "source": [
    "RNA_all[10].keys()"
   ]
  },
  {
   "cell_type": "code",
   "execution_count": 387,
   "id": "392cff74-ee77-46b3-9c71-e14514049707",
   "metadata": {},
   "outputs": [],
   "source": [
    "all_es=[]\n",
    "mu=0\n",
    "di=0\n",
    "noturl=[]\n",
    "for i in Gene_all:\n",
    "    if i.get('Summary'):\n",
    "        all_es.append({'entity':i.get('entity'),'PMID':i.get('PMID'),'literature':len(i.get('PMID')),'targetshapes':i.get('targetshapes'),'allyears':i.get('allyears'),'type':i.get('type'),'Also_known_as':i.get('Also_known_as'),'Summary':sent_tokenize(i.get('Summary'))[0],'NCBI_URL':i.get('NCBI_URL'),'NCBI_ID':i.get('NCBI_ID'),'_id':i.get('type')+'_'+i.get('entity'),'datest':int(i.get('datestring')[0].replace('-',''))})\n",
    "    else:\n",
    "        all_es.append({'entity':i.get('entity'),'PMID':i.get('PMID'),'literature':len(i.get('PMID')),'targetshapes':i.get('targetshapes'),'allyears':i.get('allyears'),'type':i.get('type'),'Also_known_as':i.get('Also_known_as'),'Summary':'','NCBI_URL':i.get('NCBI_URL'),'NCBI_ID':i.get('NCBI_ID'),'_id':i.get('type')+'_'+i.get('entity'),'datest':int(i.get('datestring')[0].replace('-',''))})\n",
    "for i in RNA_all:\n",
    "    if i.get('Summary'):\n",
    "        all_es.append({'entity':i.get('entity'),'PMID':i.get('PMID'),'literature':len(i.get('PMID')),'targetshapes':i.get('targetshapes'),'allyears':i.get('allyears'),'type':i.get('type'),'specific_type':i.get('specific_type'),'Also_known_as':i.get('Also_known_as'),'Summary':sent_tokenize(i.get('Summary'))[0],'NCBI_URL':i.get('NCBI_URL'),'NCBI_ID':i.get('NCBI_ID'),'_id':i.get('type')+'_'+i.get('entity'),'datest':int(i.get('datestring')[0].replace('-',''))})\n",
    "    else:\n",
    "        all_es.append({'entity':i.get('entity'),'PMID':i.get('PMID'),'literature':len(i.get('PMID')),'targetshapes':i.get('targetshapes'),'allyears':i.get('allyears'),'type':i.get('type'),'specific_type':i.get('specific_type'),'Also_known_as':i.get('Also_known_as'),'Summary':'','NCBI_URL':i.get('NCBI_URL'),'NCBI_ID':i.get('NCBI_ID'),'_id':i.get('type')+'_'+i.get('entity'),'datest':int(i.get('datestring')[0].replace('-',''))})\n",
    "for i in Carbohydrate_all:\n",
    "    if i.get('Summary'):\n",
    "        all_es.append({'entity':i.get('entity'),'PMID':i.get('PMID'),'literature':len(i.get('PMID')),'targetshapes':i.get('targetshapes'),'allyears':i.get('allyears'),'type':i.get('type'),'MeshID':i.get('MESH'),'Summary':sent_tokenize(i.get('Summary'))[0],'url':'https://www.ncbi.nlm.nih.gov'+i.get('url'),'_id':i.get('type')+'_'+i.get('entity'),'datest':int(i.get('datestring')[0].replace('-',''))})\n",
    "    else:\n",
    "        all_es.append({'entity':i.get('entity'),'PMID':i.get('PMID'),'literature':len(i.get('PMID')),'targetshapes':i.get('targetshapes'),'allyears':i.get('allyears'),'type':i.get('type'),'MeshID':i.get('MESH'),'Summary':'','url':'https://www.ncbi.nlm.nih.gov'+i.get('url'),'_id':i.get('type')+'_'+i.get('entity'),'datest':int(i.get('datestring')[0].replace('-',''))})\n",
    "for i in Lipid_all:\n",
    "    if i.get('Summary'):\n",
    "        all_es.append({'entity':i.get('entity'),'PMID':i.get('PMID'),'literature':len(i.get('PMID')),'targetshapes':i.get('targetshapes'),'allyears':i.get('allyears'),'type':i.get('type'),'MeshID':i.get('MESH'),'Summary':sent_tokenize(i.get('Summary'))[0],'url':'https://www.ncbi.nlm.nih.gov'+i.get('url'),'_id':i.get('type')+'_'+i.get('entity'),'datest':int(i.get('datestring')[0].replace('-',''))})\n",
    "    else:\n",
    "        all_es.append({'entity':i.get('entity'),'PMID':i.get('PMID'),'literature':len(i.get('PMID')),'targetshapes':i.get('targetshapes'),'allyears':i.get('allyears'),'type':i.get('type'),'MeshID':i.get('MESH'),'Summary':'','url':'https://www.ncbi.nlm.nih.gov'+i.get('url'),'_id':i.get('type')+'_'+i.get('entity'),'datest':int(i.get('datestring')[0].replace('-',''))})\n",
    "for i in Peptide_all:\n",
    "    if i.get('Summary'):\n",
    "        all_es.append({'entity':i.get('entity'),'PMID':i.get('PMID'),'literature':len(i.get('PMID')),'targetshapes':i.get('targetshapes'),'allyears':i.get('allyears'),'type':i.get('type'),'MeshID':i.get('MESH'),'Summary':sent_tokenize(i.get('Summary'))[0],'url':'https://www.ncbi.nlm.nih.gov'+i.get('url'),'_id':i.get('type')+'_'+i.get('entity'),'datest':int(i.get('datestring')[0].replace('-',''))})\n",
    "    else:\n",
    "        all_es.append({'entity':i.get('entity'),'PMID':i.get('PMID'),'literature':len(i.get('PMID')),'targetshapes':i.get('targetshapes'),'allyears':i.get('allyears'),'type':i.get('type'),'MeshID':i.get('MESH'),'Summary':'','url':'https://www.ncbi.nlm.nih.gov'+i.get('url'),'_id':i.get('type')+'_'+i.get('entity'),'datest':int(i.get('datestring')[0].replace('-',''))})\n",
    "for i in Pharmaceutical_Preparations_all:\n",
    "    if i.get('Summary'):\n",
    "        all_es.append({'entity':i.get('entity'),'PMID':i.get('PMID'),'literature':len(i.get('PMID')),'targetshapes':i.get('targetshapes'),'allyears':i.get('allyears'),'type':i.get('type'),'MeshID':i.get('MESH'),'Summary':sent_tokenize(i.get('Summary'))[0],'url':'https://www.ncbi.nlm.nih.gov'+i.get('url'),'_id':'PharmaceuticalPreparations'+'_'+i.get('entity'),'datest':int(i.get('datestring')[0].replace('-',''))})\n",
    "    else:\n",
    "        all_es.append({'entity':i.get('entity'),'PMID':i.get('PMID'),'literature':len(i.get('PMID')),'targetshapes':i.get('targetshapes'),'allyears':i.get('allyears'),'type':i.get('type'),'MeshID':i.get('MESH'),'Summary':'','url':'https://www.ncbi.nlm.nih.gov'+i.get('url'),'_id':'PharmaceuticalPreparations'+'_'+i.get('entity'),'datest':int(i.get('datestring')[0].replace('-',''))})\n",
    "for i in Protein_all:\n",
    "    if i.get('Summary'):\n",
    "        all_es.append({'entity':i.get('entity'),'PMID':i.get('PMID'),'literature':len(i.get('PMID')),'targetshapes':i.get('targetshapes'),'allyears':i.get('allyears'),'type':i.get('type'),'MeshID':i.get('MESH'),'Summary':sent_tokenize(i.get('Summary'))[0],'url':'https://www.ncbi.nlm.nih.gov'+i.get('url'),'_id':i.get('type')+'_'+i.get('entity'),'datest':int(i.get('datestring')[0].replace('-',''))})\n",
    "    else:\n",
    "        all_es.append({'entity':i.get('entity'),'PMID':i.get('PMID'),'literature':len(i.get('PMID')),'targetshapes':i.get('targetshapes'),'allyears':i.get('allyears'),'type':i.get('type'),'MeshID':i.get('MESH'),'Summary':'','url':'https://www.ncbi.nlm.nih.gov'+i.get('url'),'_id':i.get('type')+'_'+i.get('entity'),'datest':int(i.get('datestring')[0].replace('-',''))})\n",
    "for i in Toxin_all:\n",
    "    if i.get('Summary'):\n",
    "        all_es.append({'entity':i.get('entity'),'PMID':i.get('PMID'),'literature':len(i.get('PMID')),'targetshapes':i.get('targetshapes'),'allyears':i.get('allyears'),'type':i.get('type'),'MeshID':i.get('MESH'),'Summary':sent_tokenize(i.get('Summary'))[0],'url':'https://www.ncbi.nlm.nih.gov'+i.get('url'),'_id':i.get('type')+'_'+i.get('entity'),'datest':int(i.get('datestring')[0].replace('-',''))})\n",
    "    else:\n",
    "        all_es.append({'entity':i.get('entity'),'PMID':i.get('PMID'),'literature':len(i.get('PMID')),'targetshapes':i.get('targetshapes'),'allyears':i.get('allyears'),'type':i.get('type'),'MeshID':i.get('MESH'),'Summary':'','url':'https://www.ncbi.nlm.nih.gov'+i.get('url'),'_id':i.get('type')+'_'+i.get('entity'),'datest':int(i.get('datestring')[0].replace('-',''))})\n",
    "for i in Mutation_all:\n",
    "    if i.get('Genomic View'):\n",
    "        all_es.append({'entity':i.get('entity'),'PMID':i.get('PMID'),'literature':len(i.get('PMID')),'targetshapes':i.get('targetshapes'),'allyears':i.get('allyears'),'type':i.get('type'),'Genomic_View':i.get('Genomic View'),'Alleles':i.get('Alleles'),'Position':i.get('Position'),'_id':i.get('type')+'_'+i.get('entity'),'datest':int(i.get('datestring')[0].replace('-',''))})\n",
    "    else:\n",
    "        mu+=1\n",
    "for i in Disease_all:\n",
    "    if i.get('url'):\n",
    "        if i.get('Summary'):\n",
    "            all_es.append({'entity':i.get('entity'),'PMID':i.get('PMID'),'literature':len(i.get('PMID')),'targetshapes':i.get('targetshapes'),'allyears':i.get('allyears'),'type':i.get('type'),'MeshID':i.get('MESH'),'url':'https://www.ncbi.nlm.nih.gov'+i.get('url'),'Summary':sent_tokenize(i.get('Summary'))[0],'_id':i.get('type')+'_'+i.get('entity'),'datest':int(i.get('datestring')[0].replace('-',''))})\n",
    "        else:\n",
    "            all_es.append({'entity':i.get('entity'),'PMID':i.get('PMID'),'literature':len(i.get('PMID')),'targetshapes':i.get('targetshapes'),'allyears':i.get('allyears'),'type':i.get('type'),'MeshID':i.get('MESH'),'url':'https://www.ncbi.nlm.nih.gov'+i.get('url'),'Summary':'','_id':i.get('type')+'_'+i.get('entity'),'datest':int(i.get('datestring')[0].replace('-',''))})\n",
    "    else:\n",
    "        di+=1\n",
    "        noturl.append(i)"
   ]
  },
  {
   "cell_type": "code",
   "execution_count": 388,
   "id": "0b99d223-a940-48a0-bdfb-92e95c7da13c",
   "metadata": {},
   "outputs": [],
   "source": [
    "all_es_copy=copy.deepcopy(all_es)"
   ]
  },
  {
   "cell_type": "code",
   "execution_count": 389,
   "id": "0dd4f871-3300-40c4-8ac7-b6159d560514",
   "metadata": {},
   "outputs": [
    {
     "data": {
      "text/plain": [
       "11127"
      ]
     },
     "execution_count": 389,
     "metadata": {},
     "output_type": "execute_result"
    }
   ],
   "source": [
    "len(all_es_copy)"
   ]
  },
  {
   "cell_type": "code",
   "execution_count": 390,
   "id": "ec08527e-c277-4f87-b222-23ab83ba83c6",
   "metadata": {},
   "outputs": [],
   "source": [
    "for i in all_es:\n",
    "    i['allwordsdict']={}\n",
    "    if i.get('Also_known_as'):\n",
    "        i['allwords']=i.get('allwords',[])+i.get('Also_known_as').split('; ')\n",
    "        for l in i.get('Also_known_as').split('; '):\n",
    "            i['allwordsdict'][l.upper()]=l\n",
    "    for j in i.get('targetshapes'):\n",
    "        if j.upper() != i.get('entity').upper() and not i.get('allwordsdict').get(j.upper()):\n",
    "            i['allwords']=i.get('allwords',[])+[j.upper()]\n",
    "            i['allwordsdict'][j.upper()]=j\n",
    "    if i.get('targetshapes'):\n",
    "        del i['targetshapes']\n",
    "    del i['allwordsdict']"
   ]
  },
  {
   "cell_type": "code",
   "execution_count": 391,
   "id": "3b775b41-bdac-4f5e-8e42-4a8c17d83776",
   "metadata": {},
   "outputs": [
    {
     "data": {
      "text/plain": [
       "{'entity': 'Periprosthetic Fractures',\n",
       " 'PMID': ['30539204'],\n",
       " 'literature': 1,\n",
       " 'allyears': [2019],\n",
       " 'type': 'Disease',\n",
       " 'MeshID': 'D057068',\n",
       " 'url': 'https://www.ncbi.nlm.nih.gov/mesh/68057068',\n",
       " 'Summary': 'Fractures around joint replacement prosthetics or implants.',\n",
       " '_id': 'Disease_Periprosthetic Fractures',\n",
       " 'datest': 20190301,\n",
       " 'allwords': ['PERIPROSTHETIC JOINT INFECTIONS', 'PJI']}"
      ]
     },
     "execution_count": 391,
     "metadata": {},
     "output_type": "execute_result"
    }
   ],
   "source": [
    "all_es[-1000]"
   ]
  },
  {
   "cell_type": "code",
   "execution_count": 392,
   "id": "43d3be21-78c6-42fa-af65-71ed4cb36d58",
   "metadata": {},
   "outputs": [
    {
     "data": {
      "text/plain": [
       "11127"
      ]
     },
     "execution_count": 392,
     "metadata": {},
     "output_type": "execute_result"
    }
   ],
   "source": [
    "len(all_es)"
   ]
  },
  {
   "cell_type": "code",
   "execution_count": 393,
   "id": "bef992eb-c82b-4411-b10b-5ad740d85adc",
   "metadata": {},
   "outputs": [],
   "source": [
    "noturls=[]\n",
    "for i in Disease_all:\n",
    "    if not i.get('url'):\n",
    "        noturls.append(i)"
   ]
  },
  {
   "cell_type": "code",
   "execution_count": 394,
   "id": "9656c6a3-1dda-4098-939e-28af79a36a94",
   "metadata": {},
   "outputs": [
    {
     "data": {
      "text/plain": [
       "14398"
      ]
     },
     "execution_count": 394,
     "metadata": {},
     "output_type": "execute_result"
    }
   ],
   "source": [
    "len(noturls)"
   ]
  },
  {
   "cell_type": "code",
   "execution_count": 395,
   "id": "7a31ffe6-fc00-408a-9c94-048c3677b784",
   "metadata": {},
   "outputs": [
    {
     "data": {
      "text/plain": [
       "17750"
      ]
     },
     "execution_count": 395,
     "metadata": {},
     "output_type": "execute_result"
    }
   ],
   "source": [
    "len(Disease_all)"
   ]
  },
  {
   "cell_type": "code",
   "execution_count": 396,
   "id": "868405ed-d094-4ac7-a156-65dc11542bd0",
   "metadata": {},
   "outputs": [],
   "source": [
    "json.dump(all_es,open('results/step2/all_es_lack.json','w'))"
   ]
  },
  {
   "cell_type": "code",
   "execution_count": 397,
   "id": "1c1703af-332d-4b0d-9ab3-7a191c7370d9",
   "metadata": {},
   "outputs": [],
   "source": [
    "entity_pairs=['Gene','RNA','Carbohydrate','Lipid','Peptide', 'Pharmaceutical_Preparations', 'Protein', 'Toxin','Mutation', 'Disease']"
   ]
  },
  {
   "cell_type": "code",
   "execution_count": 398,
   "id": "ec9f5321-22e1-4d84-b1b0-a80b420fdb76",
   "metadata": {},
   "outputs": [],
   "source": [
    "all_es_result=[]\n",
    "for j in entity_pairs:\n",
    "    for i in names[j+'_all']:\n",
    "        if i.get('specific_type'):\n",
    "            all_es_result.append({'entity':i.get('entity'),'PMID':i.get('PMID'),'target':i.get('target'),'date':i.get('date'),'type':i.get('specific_type'),'sentence':i.get('sentence'),'_id':i.get('type')+'_'+i.get('entity')})\n",
    "        else:\n",
    "            if i.get('type')=='Disease':\n",
    "                if i.get('url'):\n",
    "                    all_es_result.append({'entity':i.get('entity'),'PMID':i.get('PMID'),'target':i.get('target'),'date':i.get('date'),'type':i.get('type'),'sentence':i.get('sentence'),'_id':i.get('type')+'_'+i.get('entity')})\n",
    "            elif i.get('type')=='Mutation':\n",
    "                if i.get('Genomic View'):\n",
    "                    all_es_result.append({'entity':i.get('entity'),'PMID':i.get('PMID'),'target':i.get('target'),'date':i.get('date'),'type':i.get('type'),'sentence':i.get('sentence'),'_id':i.get('type')+'_'+i.get('entity')})\n",
    "            else:\n",
    "                all_es_result.append({'entity':i.get('entity'),'PMID':i.get('PMID'),'target':i.get('target'),'date':i.get('date'),'type':i.get('type'),'sentence':i.get('sentence'),'_id':i.get('type')+'_'+i.get('entity')})"
   ]
  },
  {
   "cell_type": "code",
   "execution_count": 399,
   "id": "20f6e96d-83cd-4b5d-bdc5-61c320e2ce35",
   "metadata": {},
   "outputs": [],
   "source": [
    "jcr=pd.read_csv(\"../JCR/jcr2022.tsv\",sep=\"\\t\")"
   ]
  },
  {
   "cell_type": "code",
   "execution_count": 400,
   "id": "12a76e18-8fdd-4712-8a38-26132422b519",
   "metadata": {},
   "outputs": [],
   "source": [
    "collections_pubtator_info = db.pubtator_info"
   ]
  },
  {
   "cell_type": "code",
   "execution_count": 401,
   "id": "35b4cf9d-b2cd-44f1-a6dc-a3747dd417de",
   "metadata": {},
   "outputs": [],
   "source": [
    "pubtator_info=list(collections_pubtator_info.find())"
   ]
  },
  {
   "cell_type": "code",
   "execution_count": 402,
   "id": "af027103-d80a-44b1-a9a7-344218ffa67c",
   "metadata": {},
   "outputs": [],
   "source": [
    "pubtator_info_dict={}\n",
    "for i in pubtator_info:\n",
    "    pubtator_info_dict[i.get('PMID')]=i"
   ]
  },
  {
   "cell_type": "code",
   "execution_count": 403,
   "id": "5a392cd5-5c8b-4823-b399-0f2d530b873c",
   "metadata": {},
   "outputs": [],
   "source": [
    "jt2if_all={}\n",
    "for i in range(len(jcr)):\n",
    "    if jt2if_all.get(jcr.iloc[i,1].lower()):\n",
    "        if jt2if_all.get(jcr.iloc[i,1].lower())==0.0:\n",
    "            jt2if_all[jcr.iloc[i,1].lower()]=jcr.iloc[i,7]\n",
    "    else:\n",
    "        jt2if_all[jcr.iloc[i,1].lower()]=jcr.iloc[i,7]\n",
    "jt2if_all['aging']=jt2if_all.get('aging-us')"
   ]
  },
  {
   "cell_type": "code",
   "execution_count": 404,
   "id": "97985fd5-2826-480c-8977-8932b8bc438c",
   "metadata": {},
   "outputs": [],
   "source": [
    "jt2if_brief={}\n",
    "for i in range(len(jcr)):\n",
    "    if jt2if_brief.get(jcr.iloc[i,2].lower()):\n",
    "        if jt2if_brief.get(jcr.iloc[i,2].lower())==0.0:\n",
    "            jt2if_brief[jcr.iloc[i,2].lower()]=jcr.iloc[i,7]\n",
    "    else:\n",
    "        jt2if_brief[jcr.iloc[i,2].lower()]=jcr.iloc[i,7]\n",
    "jt2if_brief['aging']=jt2if_brief.get('aging-us')"
   ]
  },
  {
   "cell_type": "code",
   "execution_count": 405,
   "id": "1f9e6a88-fc64-4093-b628-cfb3aa82cc0f",
   "metadata": {},
   "outputs": [],
   "source": [
    "jt2if5_all={}\n",
    "for i in range(len(jcr)):\n",
    "    if jt2if5_all.get(jcr.iloc[i,1].lower()):\n",
    "        if jt2if5_all.get(jcr.iloc[i,1].lower())==0.0:\n",
    "            jt2if5_all[jcr.iloc[i,1].lower()]=jcr.iloc[i,7]\n",
    "    else:\n",
    "        jt2if5_all[jcr.iloc[i,1].lower()]=jcr.iloc[i,9]\n",
    "jt2if5_all['aging']=jt2if5_all.get('aging-us')"
   ]
  },
  {
   "cell_type": "code",
   "execution_count": 406,
   "id": "639afe3b-f736-45c0-8e71-96c1c0b28630",
   "metadata": {},
   "outputs": [],
   "source": [
    "jt2if5_brief={}\n",
    "for i in range(len(jcr)):\n",
    "    \n",
    "    if jt2if5_brief.get(jcr.iloc[i,2].lower()):\n",
    "        if jt2if5_brief.get(jcr.iloc[i,2].lower())==0.0:\n",
    "            jt2if5_brief[jcr.iloc[i,2].lower()]=jcr.iloc[i,7]\n",
    "    else:\n",
    "        jt2if5_brief[jcr.iloc[i,2].lower()]=jcr.iloc[i,9]\n",
    "jt2if5_brief['aging']=jt2if5_brief.get('aging-us')"
   ]
  },
  {
   "cell_type": "code",
   "execution_count": 407,
   "id": "ec697c26-ac34-44ee-a758-5c91227574f0",
   "metadata": {},
   "outputs": [],
   "source": [
    "for i in all_es_result:\n",
    "    iflist=[]\n",
    "    if5list=[]\n",
    "    TAlist=[]\n",
    "    JTlist=[]\n",
    "    yearlist=[]\n",
    "    for j in i.get('PMID'):\n",
    "        if jt2if_brief.get(pubtator_info_dict.get(j).get('TA').lower()):\n",
    "            iflist.append(jt2if_brief.get(pubtator_info_dict.get(j).get('TA').lower()))\n",
    "        elif jt2if_all.get(pubtator_info_dict.get(j).get('JT').lower()):\n",
    "            iflist.append(jt2if_all.get(pubtator_info_dict.get(j).get('JT').lower()))\n",
    "        else:\n",
    "            iflist.append(0.0)\n",
    "        if jt2if5_brief.get(pubtator_info_dict.get(j).get('TA').lower()):\n",
    "            if5list.append(jt2if5_brief.get(pubtator_info_dict.get(j).get('TA').lower()))\n",
    "        elif jt2if5_all.get(pubtator_info_dict.get(j).get('JT').lower()):\n",
    "            if5list.append(jt2if5_all.get(pubtator_info_dict.get(j).get('JT').lower()))\n",
    "        else:\n",
    "            if5list.append(0.0)\n",
    "        TAlist.append(pubtator_info_dict.get(j).get('TA'))\n",
    "        JTlist.append(pubtator_info_dict.get(j).get('JT'))\n",
    "    for l in i.get('date'):\n",
    "        yearlist.append(int(str(l)[:4]))\n",
    "    i['IF']=iflist\n",
    "    i['IF5']=if5list\n",
    "    i['TA']=TAlist\n",
    "    i['JT']=JTlist\n",
    "    i['year']=yearlist"
   ]
  },
  {
   "cell_type": "code",
   "execution_count": 408,
   "id": "970bf637-e17c-4f3f-94a6-169fdd7d9eba",
   "metadata": {},
   "outputs": [],
   "source": [
    "json.dump(all_es_result,open('results/step2/all_es_result.json','w'))"
   ]
  },
  {
   "cell_type": "code",
   "execution_count": 409,
   "id": "cb37f7af-55a6-4a53-959a-50ff05eae4e1",
   "metadata": {},
   "outputs": [
    {
     "data": {
      "text/plain": [
       "11127"
      ]
     },
     "execution_count": 409,
     "metadata": {},
     "output_type": "execute_result"
    }
   ],
   "source": [
    "len(all_es_result)"
   ]
  },
  {
   "cell_type": "code",
   "execution_count": 410,
   "id": "83e40509-4fe2-4cdc-97ec-090008d3f25a",
   "metadata": {},
   "outputs": [],
   "source": [
    "blank=[{'Module':'','Description':'','Entity_Relation':'','Username':'','Email':''}]"
   ]
  },
  {
   "cell_type": "code",
   "execution_count": 411,
   "id": "901639b9-4f79-430d-8d5b-8a0118d6c6c3",
   "metadata": {},
   "outputs": [],
   "source": [
    "json.dump(blank,open('results/step2/feedback.json','w'))"
   ]
  },
  {
   "cell_type": "code",
   "execution_count": null,
   "id": "76570796-b945-4221-9f41-a7cd366eb872",
   "metadata": {},
   "outputs": [],
   "source": []
  }
 ],
 "metadata": {
  "kernelspec": {
   "display_name": "hald",
   "language": "python",
   "name": "hald"
  },
  "language_info": {
   "codemirror_mode": {
    "name": "ipython",
    "version": 3
   },
   "file_extension": ".py",
   "mimetype": "text/x-python",
   "name": "python",
   "nbconvert_exporter": "python",
   "pygments_lexer": "ipython3",
   "version": "3.8.15"
  }
 },
 "nbformat": 4,
 "nbformat_minor": 5
}
