{
 "cells": [
  {
   "cell_type": "code",
   "execution_count": 2,
   "id": "02fce29b-c245-49d2-9be8-2b3402d611a5",
   "metadata": {},
   "outputs": [],
   "source": [
    "# 31319413,19752556中发现\"ALZHEI-MER'S DISEASE\"划分到了'Parkinson Disease'，需要处理！"
   ]
  },
  {
   "cell_type": "code",
   "execution_count": 3,
   "id": "5d4b51ed-8a94-4f0a-bffe-e2d207741937",
   "metadata": {},
   "outputs": [
    {
     "data": {
      "text/plain": [
       "'/root/hald_autoupdate/2022_12_09'"
      ]
     },
     "execution_count": 3,
     "metadata": {},
     "output_type": "execute_result"
    }
   ],
   "source": [
    "pwd"
   ]
  },
  {
   "cell_type": "code",
   "execution_count": 95,
   "id": "b4e6f182-ac6e-4506-a208-6520940726d7",
   "metadata": {},
   "outputs": [],
   "source": [
    "import pickle\n",
    "import json\n",
    "import time\n",
    "import datetime\n",
    "import copy"
   ]
  },
  {
   "cell_type": "code",
   "execution_count": 5,
   "id": "5d070a40-c89a-4134-98c3-0f9569237cf9",
   "metadata": {},
   "outputs": [],
   "source": [
    "now=datetime.datetime.now()"
   ]
  },
  {
   "cell_type": "code",
   "execution_count": 6,
   "id": "40650a5f-10e5-4269-b2d5-3b1eda8d26df",
   "metadata": {},
   "outputs": [],
   "source": [
    "nowtime=now.strftime('%Y/%m/%d')"
   ]
  },
  {
   "cell_type": "code",
   "execution_count": 7,
   "id": "d3415f9e-01da-4911-9db3-296930a4418b",
   "metadata": {},
   "outputs": [],
   "source": [
    "now_time=now.strftime('%Y_%m_%d')"
   ]
  },
  {
   "cell_type": "code",
   "execution_count": 8,
   "id": "6de6a89a-852c-4998-bcba-38438ff27407",
   "metadata": {},
   "outputs": [
    {
     "name": "stdout",
     "output_type": "stream",
     "text": [
      "2023/02/25\n"
     ]
    }
   ],
   "source": [
    "print(nowtime)"
   ]
  },
  {
   "cell_type": "code",
   "execution_count": 9,
   "id": "0615c126-d157-43de-9ddc-6604e4dc86ab",
   "metadata": {},
   "outputs": [],
   "source": [
    "time_without_day=now.strftime('%Y/%m')"
   ]
  },
  {
   "cell_type": "code",
   "execution_count": 10,
   "id": "70ec84b3-2856-4993-bdd2-241277ee1071",
   "metadata": {},
   "outputs": [
    {
     "data": {
      "text/plain": [
       "'2023/02'"
      ]
     },
     "execution_count": 10,
     "metadata": {},
     "output_type": "execute_result"
    }
   ],
   "source": [
    "time_without_day"
   ]
  },
  {
   "cell_type": "code",
   "execution_count": 11,
   "id": "2c9609ea-157a-43c7-987f-06d58bdb3cbf",
   "metadata": {},
   "outputs": [],
   "source": [
    "### today 2022_07 FORMAT\n",
    "### now.strftime('%Y_%m')"
   ]
  },
  {
   "cell_type": "code",
   "execution_count": 12,
   "id": "aa4262cb-d4d7-4541-8785-ee258fbf0c0d",
   "metadata": {},
   "outputs": [],
   "source": [
    "### 2022/07/30 FORMAT\n",
    "def cal_time(time):\n",
    "    time = time.split('/')\n",
    "    year = int(time[0])\n",
    "    month = int(time[1]) - 3\n",
    "    day = int(time[2])\n",
    "    # 防止月份出界\n",
    "    if month < 1:\n",
    "        month = 12\n",
    "        year -= 1\n",
    "    time = datetime.datetime(year=year, month=month, day=1).strftime('%Y/%m/%d')\n",
    "    return time"
   ]
  },
  {
   "cell_type": "code",
   "execution_count": 13,
   "id": "a2c95bcf-b5f5-430c-a035-f7e1907416b0",
   "metadata": {},
   "outputs": [],
   "source": [
    "### 2022_07_30 FORMAT\n",
    "def cal_time2(time):\n",
    "    time = time.split('/')\n",
    "    year = int(time[0])\n",
    "    month = int(time[1]) - 3\n",
    "    day = int(time[2])\n",
    "    # 防止月份出界\n",
    "    if month < 1:\n",
    "        month = 12\n",
    "        year -= 1\n",
    "    time = datetime.datetime(year=year, month=month, day=1).strftime('%Y_%m_%d')\n",
    "    return time"
   ]
  },
  {
   "cell_type": "code",
   "execution_count": 14,
   "id": "6523ae2f-31b7-4b5e-8a5a-2d5b69740e77",
   "metadata": {},
   "outputs": [],
   "source": [
    "### 2022_07 FORMAT\n",
    "def cal_time3(time):\n",
    "    time = time.split('/')\n",
    "    year = int(time[0])\n",
    "    month = int(time[1]) - 3\n",
    "    day = int(time[2])\n",
    "    # 防止月份出界\n",
    "    if month < 1:\n",
    "        month = 12\n",
    "        year -= 1\n",
    "    time = datetime.datetime(year=year, month=month, day=1).strftime('%Y_%m')\n",
    "    return time"
   ]
  },
  {
   "cell_type": "code",
   "execution_count": 15,
   "id": "2942460a-0c22-4243-b91a-f93b48e3e5df",
   "metadata": {},
   "outputs": [],
   "source": [
    "former_time=cal_time(nowtime)"
   ]
  },
  {
   "cell_type": "code",
   "execution_count": 16,
   "id": "aa3e45be-0270-4b37-aae7-87b1276cdca0",
   "metadata": {},
   "outputs": [
    {
     "data": {
      "text/plain": [
       "<module 'time' (built-in)>"
      ]
     },
     "execution_count": 16,
     "metadata": {},
     "output_type": "execute_result"
    }
   ],
   "source": [
    "time"
   ]
  },
  {
   "cell_type": "code",
   "execution_count": 17,
   "id": "f8d22d57-e8a1-4f3e-bdd2-de6200b7c9e7",
   "metadata": {},
   "outputs": [
    {
     "data": {
      "text/plain": [
       "'2022/12/01'"
      ]
     },
     "execution_count": 17,
     "metadata": {},
     "output_type": "execute_result"
    }
   ],
   "source": [
    "former_time"
   ]
  },
  {
   "cell_type": "code",
   "execution_count": 18,
   "id": "8bc42c97-023c-4915-a422-3be844e27941",
   "metadata": {},
   "outputs": [],
   "source": [
    "former_time='2022/04/01'"
   ]
  },
  {
   "cell_type": "markdown",
   "id": "c8c69f2e-fcbc-4ec8-9d1b-21a7b5508461",
   "metadata": {},
   "source": [
    "now_time='2022_12_09'"
   ]
  },
  {
   "cell_type": "code",
   "execution_count": 19,
   "id": "4f24fcb3-cf32-4fd6-9a80-06c8c7bdd678",
   "metadata": {},
   "outputs": [],
   "source": [
    "import pymongo "
   ]
  },
  {
   "cell_type": "code",
   "execution_count": 20,
   "id": "17627f65-088f-4575-b112-f45732be4b45",
   "metadata": {},
   "outputs": [],
   "source": [
    "from pymongo import MongoClient"
   ]
  },
  {
   "cell_type": "code",
   "execution_count": 21,
   "id": "4e1fd558-b87f-4ba0-b7c8-a61ade7cd3e0",
   "metadata": {},
   "outputs": [],
   "source": [
    "client = MongoClient(username=\"hald\",password=\"ddd\")"
   ]
  },
  {
   "cell_type": "code",
   "execution_count": 22,
   "id": "9918bd7f-f56e-4c94-9809-a52348122da8",
   "metadata": {},
   "outputs": [],
   "source": [
    "db = client.hald"
   ]
  },
  {
   "cell_type": "code",
   "execution_count": 355,
   "id": "3f18f544-a2d0-4b6c-827d-c095335b973c",
   "metadata": {},
   "outputs": [],
   "source": [
    "raw_pick=pickle.load(open('raw_pick.pkl','rb'))"
   ]
  },
  {
   "cell_type": "code",
   "execution_count": 356,
   "id": "0934a9a0-6496-4fcd-abb3-8262389f1498",
   "metadata": {},
   "outputs": [],
   "source": [
    "raw_pick_pubtator=pickle.load(open('raw_pick_pubtator.pkl','rb'))"
   ]
  },
  {
   "cell_type": "code",
   "execution_count": 357,
   "id": "4401b908-540e-4ddc-b344-39de7ec3989f",
   "metadata": {},
   "outputs": [],
   "source": [
    "pubtator_raw=pickle.load(open('pubtator_raw.pkl','rb'))"
   ]
  },
  {
   "cell_type": "code",
   "execution_count": 358,
   "id": "365cfbf2-6dc1-4fd3-9a54-4a815ab0ed27",
   "metadata": {},
   "outputs": [],
   "source": [
    "pubtator_raw_dict2AB={}\n",
    "for i in pubtator_raw:\n",
    "    pubtator_raw_dict2AB[i.get('id')]=i.get('AB')"
   ]
  },
  {
   "cell_type": "markdown",
   "id": "f05a86ad-1258-454e-bf0c-aeac6dbe2e9d",
   "metadata": {
    "tags": []
   },
   "source": [
    "# Gene_raw"
   ]
  },
  {
   "cell_type": "code",
   "execution_count": 25,
   "id": "1e2cf092-9b0a-4b95-b056-c85ab2836756",
   "metadata": {},
   "outputs": [],
   "source": [
    "collections_Gene_raw=db.Gene_raw"
   ]
  },
  {
   "cell_type": "code",
   "execution_count": 359,
   "id": "11c70d47-5758-4794-998a-f1d3ff0837f0",
   "metadata": {},
   "outputs": [],
   "source": [
    "rawpickwithAB={}\n",
    "for i in raw_pick_pubtator:\n",
    "    rawpickwithAB[i.get('PMID')]=i"
   ]
  },
  {
   "cell_type": "code",
   "execution_count": 360,
   "id": "001fea3d-251b-4577-9c64-9c508d5f2376",
   "metadata": {},
   "outputs": [],
   "source": [
    "pubtator_gene=[]\n",
    "for i in pubtator_raw:\n",
    "    if i.get('type')=='Gene':\n",
    "        pubtator_gene.append(i)"
   ]
  },
  {
   "cell_type": "code",
   "execution_count": 361,
   "id": "0f72b01a-8fdc-4869-bf95-2a1b31dc32ab",
   "metadata": {},
   "outputs": [
    {
     "data": {
      "text/plain": [
       "7246"
      ]
     },
     "execution_count": 361,
     "metadata": {},
     "output_type": "execute_result"
    }
   ],
   "source": [
    "#7246\n",
    "len(pubtator_gene)"
   ]
  },
  {
   "cell_type": "code",
   "execution_count": 362,
   "id": "9a087c13-11b1-417a-a05a-435b9483a005",
   "metadata": {},
   "outputs": [],
   "source": [
    "import pandas as pd\n",
    "import json\n",
    "import re"
   ]
  },
  {
   "cell_type": "code",
   "execution_count": 363,
   "id": "187b5cd7-db8b-432f-ad78-32a6a768c49b",
   "metadata": {},
   "outputs": [],
   "source": [
    "Gene2ncbi=pd.read_csv('../ncbi/Gene_ncbi.txt',sep='\\t',encoding='utf-8',converters = {'NCBI Gene ID(supplied by NCBI)':str})"
   ]
  },
  {
   "cell_type": "code",
   "execution_count": 364,
   "id": "d837f56f-66ea-40ed-840e-e9a0d50409da",
   "metadata": {},
   "outputs": [],
   "source": [
    "ncbi2Gene_dict=dict(zip(Gene2ncbi['NCBI Gene ID(supplied by NCBI)'],Gene2ncbi['Approved symbol'] ))"
   ]
  },
  {
   "cell_type": "code",
   "execution_count": 365,
   "id": "bc98c3c2-5c9a-4cc8-a171-a3a0e756c40c",
   "metadata": {},
   "outputs": [],
   "source": [
    "error=[]\n",
    "pubtator_genes=[]\n",
    "for i in pubtator_gene:\n",
    "    if ncbi2Gene_dict.get(i.get('identifier')):\n",
    "        i['entity']=ncbi2Gene_dict.get(i.get('identifier'))\n",
    "        pubtator_genes.append(i)\n",
    "    else:\n",
    "        error.append(i)"
   ]
  },
  {
   "cell_type": "code",
   "execution_count": 366,
   "id": "15fb5e47-72b8-4d1e-bd4f-d41511866a53",
   "metadata": {},
   "outputs": [
    {
     "data": {
      "text/plain": [
       "5899"
      ]
     },
     "execution_count": 366,
     "metadata": {},
     "output_type": "execute_result"
    }
   ],
   "source": [
    "len(pubtator_genes)"
   ]
  },
  {
   "cell_type": "code",
   "execution_count": 367,
   "id": "1be0394b-cd28-451b-b00b-f312a2fe978b",
   "metadata": {},
   "outputs": [],
   "source": [
    "Genelist=pickle.load(open('../dict/Genedict_list.pkl','rb'))"
   ]
  },
  {
   "cell_type": "code",
   "execution_count": 368,
   "id": "dd7d640c-e23f-4315-8323-67a0466cf2b0",
   "metadata": {},
   "outputs": [],
   "source": [
    "Gene_list={}\n",
    "for i in Genelist:\n",
    "    Gene_list[i.lower()]=i.lower()"
   ]
  },
  {
   "cell_type": "code",
   "execution_count": 369,
   "id": "9814c76b-5e71-4ebd-99c2-b7fbbc55db04",
   "metadata": {},
   "outputs": [],
   "source": [
    "filtered_pubtator_genes=[]\n",
    "drop_genes=[]\n",
    "for i in pubtator_genes:\n",
    "    if Gene_list.get(i.get('text').lower()):\n",
    "        filtered_pubtator_genes.append(i)\n",
    "    else:\n",
    "        drop_genes.append(i)"
   ]
  },
  {
   "cell_type": "code",
   "execution_count": 370,
   "id": "36d03662-6793-48c1-b1f0-63409908d3cf",
   "metadata": {},
   "outputs": [
    {
     "data": {
      "text/plain": [
       "1361"
      ]
     },
     "execution_count": 370,
     "metadata": {},
     "output_type": "execute_result"
    }
   ],
   "source": [
    "len(drop_genes)"
   ]
  },
  {
   "cell_type": "code",
   "execution_count": 371,
   "id": "1966b636-19c2-4ce5-b5bc-5dc83f837b26",
   "metadata": {},
   "outputs": [
    {
     "data": {
      "text/plain": [
       "4538"
      ]
     },
     "execution_count": 371,
     "metadata": {},
     "output_type": "execute_result"
    }
   ],
   "source": [
    "len(filtered_pubtator_genes)"
   ]
  },
  {
   "cell_type": "code",
   "execution_count": 372,
   "id": "838b2191-d351-48b3-bbb3-13d095140205",
   "metadata": {},
   "outputs": [
    {
     "data": {
      "text/plain": [
       "{'id': '36466095',\n",
       " 'AB': 'Ovarian aging is associated with a decrease in fecundity. Increased oxidative stress of granulosa cells (GCs) is an important contributor. We thus asked whether there is an oxidative stress-related gene signature in GCs associated with ovarian aging. Public nonhuman primate (NHP) single-cell transcriptome was processed to identify GC cluster. Then, a GC signature for ovarian aging was established based on six oxidative stress-related differentially expressed genes (MAPK1, STK24, AREG, ATG7, ANXA1, and PON2). Receiver operating characteristic (ROC) analysis confirmed good discriminating capacity in both NHP single-cell and human bulk transcriptome datasets. Gene expression levels were investigated using qPCR in the human ovarian granulosa-like tumor cell line (KGN) and mouse GCs. In an oxidative stress model, KGN cells were treated with menadione (7.5 muM, 24 h) to induce oxidative stress, after which upregulation of MAPK1, STK24, ATG7, ANXA1, and PON2 and downregulation of AREG were observed (p < 0.05). In an aging model, KGN cells were continuously cultured for 3 months, leading to increased expressions of all genes (p < 0.05). In GCs of reproductively aged (8-month-old) Kunming mice, upregulated expression of Mapk1, Stk24, Atg7, and Pon2 and downregulated expression of Anxa1 and Areg were observed (p < 0.01). We therefore here identify a six-gene GC signature associated with oxidative stress and ovarian aging.',\n",
       " 'type': 'Gene',\n",
       " 'identifier': '10533',\n",
       " 'text': 'ATG7',\n",
       " 'sentence': 'Then, a GC signature for ovarian aging was established based on six oxidative stress-related differentially expressed genes (MAPK1, STK24, AREG, ATG7, ANXA1, and PON2).',\n",
       " 'sentenceSize': 11,\n",
       " 'sentenceIndex': 4,\n",
       " 'addtime': '2022_12_09',\n",
       " '_id': ObjectId('639369f87aeeb1f33fdb541d'),\n",
       " 'entity': 'ATG7'}"
      ]
     },
     "execution_count": 372,
     "metadata": {},
     "output_type": "execute_result"
    }
   ],
   "source": [
    "filtered_pubtator_genes[10]"
   ]
  },
  {
   "cell_type": "code",
   "execution_count": 373,
   "id": "269fb0b4-bb96-43ed-9d77-94593afcf34b",
   "metadata": {},
   "outputs": [],
   "source": [
    "for i in filtered_pubtator_genes:\n",
    "    i['ner']='HALD_Gene'\n",
    "    i['PMID']=i.get('id')\n",
    "    i['word']=i.get('text')"
   ]
  },
  {
   "cell_type": "code",
   "execution_count": 374,
   "id": "bf1e75c4-9666-4a6a-adb7-5c12fdcb3e23",
   "metadata": {},
   "outputs": [
    {
     "name": "stderr",
     "output_type": "stream",
     "text": [
      "/root/miniconda3/envs/hald/lib/python3.8/site-packages/tqdm/auto.py:22: TqdmWarning: IProgress not found. Please update jupyter and ipywidgets. See https://ipywidgets.readthedocs.io/en/stable/user_install.html\n",
      "  from .autonotebook import tqdm as notebook_tqdm\n"
     ]
    }
   ],
   "source": [
    "import spacy\n",
    "import scispacy\n",
    "\n",
    "import pandas as pd\n",
    "import requests \n",
    "from collections import Counter\n",
    "from tqdm.notebook import tqdm\n",
    "tqdm.pandas()\n",
    "import json\n",
    "import ast\n",
    "from math import ceil\n",
    "from itertools import combinations, permutations\n",
    "import en_ner_bc5cdr_md, en_ner_bionlp13cg_md, en_ner_jnlpba_md\n",
    "from spacy.tokenizer import Tokenizer\n",
    "import string\n",
    "from itertools import permutations"
   ]
  },
  {
   "cell_type": "code",
   "execution_count": 375,
   "id": "9310c7af-bd8b-4e19-8a64-a6010eeb1477",
   "metadata": {},
   "outputs": [],
   "source": [
    "ner_bc5c = en_ner_bc5cdr_md.load()\n",
    "ner_bionl = en_ner_bionlp13cg_md.load()\n",
    "ner_jnlp = en_ner_jnlpba_md.load()"
   ]
  },
  {
   "cell_type": "code",
   "execution_count": 376,
   "id": "e20d0969-8e4a-401e-8abe-0b891fdc92f3",
   "metadata": {},
   "outputs": [],
   "source": [
    "def get_entities(ti, model, keep=[]):\n",
    "    doc = model(ti)\n",
    "    if len(keep) > 0:\n",
    "        return [(x.text.replace('\\n', ''), x.label_) for x in doc.ents if str(x.label_) in keep]\n",
    "    return [(x.text.replace('\\n', ''), x.label_) for x in doc.ents ]"
   ]
  },
  {
   "cell_type": "code",
   "execution_count": 377,
   "id": "e4657cdb-2550-40e9-9989-d72f0e50d739",
   "metadata": {},
   "outputs": [],
   "source": [
    "raw_pick_pubtator_pmid=[]\n",
    "for i in raw_pick_pubtator:\n",
    "    if i.get('AB'):\n",
    "        raw_pick_pubtator_pmid.append(i.get('PMID'))\n",
    "    else:\n",
    "        pass"
   ]
  },
  {
   "cell_type": "code",
   "execution_count": 378,
   "id": "29add005-fa8e-48c8-803d-60d65413653b",
   "metadata": {},
   "outputs": [
    {
     "data": {
      "text/plain": [
       "{'id': '36472108',\n",
       " 'AB': \"The title usage of Unde venisti 'from where have you come' is from a now dead language (Latin) that foundationally influenced modern English (not the major influence, but an essential formative one). This is an apt analogy for how both the ancient eukaryotic and eumetazoan functions of PGRMC proteins (PGRMC1 and PGRMC2 in mammals) probably influence modern human biology: via a formative trajectory from an evolutionarily foundational fulcrum. There is an arguable probability, although not a certainty, that PGRMC-like proteins were involved in eukaryogenesis. If so, then the proto-eukaryotic ancestral protein is modelled as having initiated the oxygen-induced and CYP450 (Cytochrome P450)-mediated synthesis of sterols in the endoplasmic reticulum to regulate proto-mitochondrial activity and heme homeostasis, as well as having enabled sterol transport between endoplasmic reticulum (ER) and mitochondria membranes involving the actin cytoskeleton, transport of heme from mitochondria, and possibly the regulation/origins of mitosis/meiosis. Later, during animal evolution, the last eumetazoan common ancestor (LEUMCA) acquired PGRMC phosphorylated tyrosines coincidentally with the gastrulation organizer, Netrin/deleted in colorectal carcinoma (DCC) signaling, muscle fibers, synapsed neurons, and neural recovery via a sleep-like process. Modern PGRMC proteins regulate multiple functions, including CYP450-mediated steroidogenesis, membrane trafficking, heme homeostasis, glycolysis/Warburg effect, fatty acid metabolism, mitochondrial regulation, and genomic CpG epigenetic regulation of gene expression. The latter imposes the system of differentiation status-sensitive cell-type specific proteomic complements in multi-tissued descendants of the LEUMCA. This paper attempts to trace PGRMC functions through time, proposing that key functions were involved in early eukaryotes, and were later added upon in the LEUMCA. An accompanying paper considers the implications of this awareness for human health and disease.\",\n",
       " 'type': 'Gene',\n",
       " 'identifier': '10857',\n",
       " 'text': 'PGRMC1',\n",
       " 'sentence': 'This is an apt analogy for how both the ancient eukaryotic and eumetazoan functions of PGRMC proteins (PGRMC1 and PGRMC2 in mammals) probably influence modern human biology: via a formative trajectory from an evolutionarily foundational fulcrum.',\n",
       " 'sentenceSize': 9,\n",
       " 'sentenceIndex': 1,\n",
       " 'addtime': '2022_12_09',\n",
       " '_id': ObjectId('639369f87aeeb1f33fdb530a'),\n",
       " 'entity': 'PGRMC1',\n",
       " 'ner': 'HALD_Gene',\n",
       " 'PMID': '36472108',\n",
       " 'word': 'PGRMC1'}"
      ]
     },
     "execution_count": 378,
     "metadata": {},
     "output_type": "execute_result"
    }
   ],
   "source": [
    "filtered_pubtator_genes[0]"
   ]
  },
  {
   "cell_type": "markdown",
   "id": "acd5935e-5e65-4f09-9cb3-de4823ff0051",
   "metadata": {},
   "source": [
    "prepare_for_scispacy={}\n",
    "for i in filtered_pubtator_genes:\n",
    "    if not filtered_pubtator_genes.get(i.get('PMID')):\n",
    "        filtered_pubtator_genes[i.get('PMID')]=i"
   ]
  },
  {
   "cell_type": "code",
   "execution_count": 379,
   "id": "a16eec76-e0a6-4cf3-abb8-de6703a13538",
   "metadata": {},
   "outputs": [
    {
     "name": "stdout",
     "output_type": "stream",
     "text": [
      "Parent process 99086.\n",
      "Waiting for all subprocesses done...\n",
      "All subprocesses done.\n",
      "The running time is 45s\n"
     ]
    }
   ],
   "source": [
    "# 186s\n",
    "import datetime\n",
    "import re\n",
    "from multiprocessing import Process, Manager, Pool\n",
    "import os, time, random\n",
    "def work(i,finallist_tags,lock):\n",
    "    # lock.acquire()\n",
    "    finallist_tags.append({'PMID':i.get('PMID'), 'AB':i.get('AB'), 'sentence':i.get('sentence'), 'sentenceIndex': i.get('sentenceIndex'),\\\n",
    "                          'sentenceSize':i.get('sentenceSize'),'word': i.get('word'),'identifier':i.get('identifier'),'type':i.get('type'),\\\n",
    "                           'entity':i.get('entity'),'jnlpba_tags':get_entities(i.get('sentence'), model=ner_jnlp, keep=['DNA','RNA','PROTEIN']),\\\n",
    "                          'bc5cdr_tags':get_entities(i.get('sentence'), model=ner_bc5c),\\\n",
    "                          'bionlp13cg_tags':get_entities(i.get('sentence'), model=ner_bionl, \\\n",
    "                          keep=['GENE_OR_GENE_PRODUCT'])})\n",
    "    # lock.release()\n",
    "    # bc5cdr_tags: DISEASE, CHEMICAL\n",
    "    \n",
    "if __name__=='__main__':\n",
    "    start=datetime.datetime.now()\n",
    "    print('Parent process %s.' % os.getpid())\n",
    "    p=Pool(60)\n",
    "    manager=Manager()\n",
    "    finallist_tags=manager.list()\n",
    "    lock=manager.Lock()\n",
    "    for i in filtered_pubtator_genes:\n",
    "        p.apply_async(work, args=(i,finallist_tags,lock))\n",
    "\n",
    "    print('Waiting for all subprocesses done...')\n",
    "    \n",
    "    p.close()\n",
    "    p.join()\n",
    "    print('All subprocesses done.')\n",
    "\n",
    "    end=datetime.datetime.now()\n",
    "    print(\"The running time is \"+str((end-start).seconds)+\"s\")  "
   ]
  },
  {
   "cell_type": "code",
   "execution_count": 380,
   "id": "3fe54b5b-6f00-47a6-b6d1-932231649aba",
   "metadata": {},
   "outputs": [],
   "source": [
    "Gene_tags=list(finallist_tags)"
   ]
  },
  {
   "cell_type": "code",
   "execution_count": 381,
   "id": "ef5524d2-fd31-4bed-ae6d-6d78683172e2",
   "metadata": {},
   "outputs": [
    {
     "data": {
      "text/plain": [
       "4538"
      ]
     },
     "execution_count": 381,
     "metadata": {},
     "output_type": "execute_result"
    }
   ],
   "source": [
    "#4538\n",
    "len(Gene_tags)"
   ]
  },
  {
   "cell_type": "code",
   "execution_count": 382,
   "id": "84751410-1b68-45d0-80c1-b80a3bf385de",
   "metadata": {},
   "outputs": [],
   "source": [
    "import copy"
   ]
  },
  {
   "cell_type": "code",
   "execution_count": 383,
   "id": "a9079612-839d-40d0-8be6-1072513727cb",
   "metadata": {},
   "outputs": [],
   "source": [
    "scispicy_Gene=copy.deepcopy(Gene_tags)"
   ]
  },
  {
   "cell_type": "code",
   "execution_count": 384,
   "id": "da0af19d-955c-4aa1-b514-46682e73531d",
   "metadata": {},
   "outputs": [],
   "source": [
    "for i in scispicy_Gene:\n",
    "    i['ScispaCy']=[]\n",
    "    if i.get('jnlpba_tags'):\n",
    "        for j in i.get('jnlpba_tags'):\n",
    "            if j[1]=='DNA' or j[1]=='PROTEIN':\n",
    "                i['ScispaCy']+=[j[0]]\n",
    "    if i.get('bionlp13cg_tags'):\n",
    "        for k in i.get('bionlp13cg_tags'):\n",
    "            i['ScispaCy']+=[k[0]]\n",
    "    i['ScispaCy']=list(set(i.get('ScispaCy')))"
   ]
  },
  {
   "cell_type": "code",
   "execution_count": 386,
   "id": "76f5e86a-d90e-4ccf-bd0f-fab0bc607f72",
   "metadata": {},
   "outputs": [],
   "source": [
    "scicpacy_Genes=[]\n",
    "not_scicpacy_Genes=[]\n",
    "for i in scispicy_Gene:\n",
    "    if i.get('ScispaCy'):\n",
    "        scicpacy_Genes.append(i)\n",
    "    else:\n",
    "        not_scicpacy_Genes.append(i)"
   ]
  },
  {
   "cell_type": "code",
   "execution_count": 387,
   "id": "58aae675-758c-46f3-8a82-273d81a30d52",
   "metadata": {},
   "outputs": [
    {
     "data": {
      "text/plain": [
       "4123"
      ]
     },
     "execution_count": 387,
     "metadata": {},
     "output_type": "execute_result"
    }
   ],
   "source": [
    "# 4123\n",
    "len(scicpacy_Genes)"
   ]
  },
  {
   "cell_type": "code",
   "execution_count": 392,
   "id": "a2e7da89-f494-459c-a3f2-a381cbd4b8f3",
   "metadata": {},
   "outputs": [
    {
     "data": {
      "text/plain": [
       "415"
      ]
     },
     "execution_count": 392,
     "metadata": {},
     "output_type": "execute_result"
    }
   ],
   "source": [
    "len(not_scicpacy_Genes)"
   ]
  },
  {
   "cell_type": "code",
   "execution_count": 397,
   "id": "bf7d3d0c-07b9-48ba-a1a5-e5a41ccb355b",
   "metadata": {},
   "outputs": [],
   "source": [
    "not_scicpacy=[]\n",
    "for i in not_scicpacy_Genes:\n",
    "    not_scicpacy.append({'PMID':i.get('PMID'),'word':i.get('word'),'sentence':i.get('sentence')})"
   ]
  },
  {
   "cell_type": "code",
   "execution_count": 399,
   "id": "d511316d-b161-46b4-9da7-9e172e1f3801",
   "metadata": {},
   "outputs": [
    {
     "data": {
      "text/plain": [
       "[{'PMID': '35181743',\n",
       "  'word': 'Fus1',\n",
       "  'sentence': 'They suggest that Fus1-dependent mechanisms are relevant in etiologies of diseases beyond cancer, such as chronic inflammation, bacterial and viral infections, premature aging, and geriatric diseases.'},\n",
       " {'PMID': '35181743',\n",
       "  'word': 'Fus1',\n",
       "  'sentence': 'This Fus1-mediated cellular homeostasis is at the crux of tumor suppressor, anti-inflammatory and anti-aging activities.'},\n",
       " {'PMID': '35170409',\n",
       "  'word': 'CD8',\n",
       "  'sentence': 'Telomere length of naive (CD45RA+) and memory (CD45RO+) CD8 T cells was quantified by real-time PCR.'},\n",
       " {'PMID': '35202044',\n",
       "  'word': 'TN',\n",
       "  'sentence': 'As chronic pain disorders can differ in etiology, severity, pain frequency, and sex-linked prevalence, we hypothesize that the expression of brain-AGE may be pain specific and differ between discrete chronic pain disorders.We built a machine learning model using T1-weighted anatomical MRI from 812 healthy controls to extract brain-AGE for 45 trigeminal neuralgia (TN), 52 osteoarthritis (OA), and 50 chronic low-back pain (BP) individuals.'},\n",
       " {'PMID': '35170409',\n",
       "  'word': 'CD45',\n",
       "  'sentence': 'Telomere length of naive (CD45RA+) and memory (CD45RO+) CD8 T cells was quantified by real-time PCR.'},\n",
       " {'PMID': '35170409',\n",
       "  'word': 'CD45',\n",
       "  'sentence': 'Both naive (CD45RA+) and memory (CD45RO+) CD8 T cells in this population had significantly shorter telomere length (P<0.01) compared to HC group.'},\n",
       " {'PMID': '35170409',\n",
       "  'word': 'CD8',\n",
       "  'sentence': 'Both naive (CD45RA+) and memory (CD45RO+) CD8 T cells in this population had significantly shorter telomere length (P<0.01) compared to HC group.'},\n",
       " {'PMID': '35201978',\n",
       "  'word': 'hip',\n",
       "  'sentence': 'RESULTS: Compared to the unassisted scenario, the use of ideal hip actuators resulted in 215%, 265%, and 306% reductions in average metabolic power consumption at slow, comfortable, and fast walking speeds, respectively; use of ideal ankle actuators resulted in 123%, 142%, and 161% metabolic savings, respectively.'},\n",
       " {'PMID': '35150433',\n",
       "  'word': 'Trail',\n",
       "  'sentence': 'Before and after each period, cognitive and physical function was assessed by standardized test (Mini-Mental State Examination, Trail Making test and Phototest; Timed Up and Go, Back Scratch, Chair Sit and Reach and had grip strength, respectively).'}]"
      ]
     },
     "execution_count": 399,
     "metadata": {},
     "output_type": "execute_result"
    }
   ],
   "source": [
    "not_scicpacy[-10:-1]"
   ]
  },
  {
   "cell_type": "code",
   "execution_count": 388,
   "id": "023802bd-4594-4a62-a1e0-f03e723b8c76",
   "metadata": {},
   "outputs": [],
   "source": [
    "scicpacy_Genes_final=[]\n",
    "drop_scispacy=[]\n",
    "for i in scicpacy_Genes:\n",
    "    pattern=i.get('word').translate(str.maketrans({\"-\":  r\"\\-\",\"\\\\\": r\"\\\\\", \"^\":  r\"\\^\",\"$\":  r\"\\$\",\"*\":  r\"\\*\",\".\":  r\"\\.\",\"(\":  r\"\\(\",\")\":  r\"\\)\",\"+\":  r\"\\+\",\"[\":  r\"\\[\",\"]\":  r\"\\]\",\n",
    "                              \"{\":  r\"\\{\",\"}\":  r\"\\}\",\"|\":  r\"\\|\",\"?\":  r\"\\?\"}))\n",
    "    for j in i.get('ScispaCy'):\n",
    "        if i.get('word')==j or re.search(pattern, j):\n",
    "            scicpacy_Genes_final.append(i)\n",
    "            break\n",
    "    else:\n",
    "        drop_scispacy.append(i)"
   ]
  },
  {
   "cell_type": "code",
   "execution_count": 389,
   "id": "cc93e914-d043-41bb-9e49-4ca4c36388b5",
   "metadata": {},
   "outputs": [
    {
     "data": {
      "text/plain": [
       "3701"
      ]
     },
     "execution_count": 389,
     "metadata": {},
     "output_type": "execute_result"
    }
   ],
   "source": [
    "# 3701\n",
    "len(scicpacy_Genes_final)"
   ]
  },
  {
   "cell_type": "code",
   "execution_count": 396,
   "id": "6cf16f1d-ae18-45ba-b2f9-5c53d336adcd",
   "metadata": {},
   "outputs": [
    {
     "name": "stdout",
     "output_type": "stream",
     "text": [
      "{'PMID': '36460954', 'AB': 'BACKGROUND: Cardiovascular disease was the most common disease among the elderly with high morbidity and mortality. Circ_0004104 was demonstrated to be involved in the regulation of atherosclerosis. METHODS: Quantitative real-time polymerase chain reaction was employed to measure the expression of circ_0004104, miR-942-5p and Rho associated coiled-coil containing protein kinase 2 (ROCK2). Cell proliferation was tested by 3-(4,5-dimethyl-2-thiazolyl)-2,5-diphenyl-2-H-tetrazolium bromide (MTT) assay. Cell apoptosis was measured by flow cytometry, and tube formation assay was used to detect the angiogenesis ability of cells. Western blot assay was performed to assess protein levels. Enzyme-linked immunosorbent assay was used to detect the release of IL-1beta and TNF-alpha. The relationship between miR-942-5p and circ_0004104 or ROCK2 was identified by dual-luciferase reporter assay, RNA immunoprecipitation (RIP) assay, and RNA pull-down assay. RESULTS: Oxidized low-density lipoprotein (ox-LDL) inhibited the proliferation of human umbilical vein endothelial cells (HUVECs) and promoted apoptosis in a dose-dependent manner. Circ_0004104 was increased in serum of atherosclerosis patients and ox-LDL-treated HUVECs, and silence of circ_0004104 promoted the proliferation of ox-LDL-exposed HUVECs and inhibited cell apoptosis. MiR-942-5p downregulation reversed si-circ_0004104-mediated influences in HUVECs upon ox-LDL exposure. ROCK2 was the target of miR-942-5p and circ_0004104 regulated the expression of ROCK2 through sponging miR-942-5p. ROCK2 abated the influences of miR-942-5p in ox-LDL-stimulated HUVECs. Circ_0004104 was increased in the exosomes derived from ox-LDL-exposed HUVECs, and the expression of circ_0004104 was promoted in HUVECs after stimulation with ox-LDL-treated HUVECs cells-derived exosomes. CONCLUSION: Circ_0004104 downregulation receded ox-LDL-induced injury in HUVECs through miR-942-5p and ROCK2.', 'sentence': 'Enzyme-linked immunosorbent assay was used to detect the release of IL-1beta and TNF-alpha.', 'sentenceIndex': 6, 'sentenceSize': 15, 'word': 'TNF-alpha', 'identifier': '7124', 'type': 'Gene', 'entity': 'TNF', 'jnlpba_tags': [('IL-1beta', 'PROTEIN'), ('TNF-alpha', 'PROTEIN')], 'bc5cdr_tags': [], 'bionlp13cg_tags': [('IL-1beta', 'GENE_OR_GENE_PRODUCT'), ('TNF-alpha', 'GENE_OR_GENE_PRODUCT')], 'ScispaCy': ['IL-1beta', 'TNF-alpha']}\n"
     ]
    }
   ],
   "source": [
    "for i in scicpacy_Genes_final:\n",
    "    if re.search('-',i.get('word')):\n",
    "        print(i)\n",
    "        break"
   ]
  },
  {
   "cell_type": "code",
   "execution_count": 390,
   "id": "9aca9228-44a9-45ce-b2dc-76531c625910",
   "metadata": {},
   "outputs": [
    {
     "data": {
      "text/plain": [
       "{'PMID': '36472108',\n",
       " 'AB': \"The title usage of Unde venisti 'from where have you come' is from a now dead language (Latin) that foundationally influenced modern English (not the major influence, but an essential formative one). This is an apt analogy for how both the ancient eukaryotic and eumetazoan functions of PGRMC proteins (PGRMC1 and PGRMC2 in mammals) probably influence modern human biology: via a formative trajectory from an evolutionarily foundational fulcrum. There is an arguable probability, although not a certainty, that PGRMC-like proteins were involved in eukaryogenesis. If so, then the proto-eukaryotic ancestral protein is modelled as having initiated the oxygen-induced and CYP450 (Cytochrome P450)-mediated synthesis of sterols in the endoplasmic reticulum to regulate proto-mitochondrial activity and heme homeostasis, as well as having enabled sterol transport between endoplasmic reticulum (ER) and mitochondria membranes involving the actin cytoskeleton, transport of heme from mitochondria, and possibly the regulation/origins of mitosis/meiosis. Later, during animal evolution, the last eumetazoan common ancestor (LEUMCA) acquired PGRMC phosphorylated tyrosines coincidentally with the gastrulation organizer, Netrin/deleted in colorectal carcinoma (DCC) signaling, muscle fibers, synapsed neurons, and neural recovery via a sleep-like process. Modern PGRMC proteins regulate multiple functions, including CYP450-mediated steroidogenesis, membrane trafficking, heme homeostasis, glycolysis/Warburg effect, fatty acid metabolism, mitochondrial regulation, and genomic CpG epigenetic regulation of gene expression. The latter imposes the system of differentiation status-sensitive cell-type specific proteomic complements in multi-tissued descendants of the LEUMCA. This paper attempts to trace PGRMC functions through time, proposing that key functions were involved in early eukaryotes, and were later added upon in the LEUMCA. An accompanying paper considers the implications of this awareness for human health and disease.\",\n",
       " 'sentence': 'This is an apt analogy for how both the ancient eukaryotic and eumetazoan functions of PGRMC proteins (PGRMC1 and PGRMC2 in mammals) probably influence modern human biology: via a formative trajectory from an evolutionarily foundational fulcrum.',\n",
       " 'sentenceIndex': 1,\n",
       " 'sentenceSize': 9,\n",
       " 'word': 'PGRMC1',\n",
       " 'identifier': '10857',\n",
       " 'type': 'Gene',\n",
       " 'entity': 'PGRMC1',\n",
       " 'jnlpba_tags': [('PGRMC proteins', 'PROTEIN'),\n",
       "  ('PGRMC1', 'PROTEIN'),\n",
       "  ('PGRMC2', 'PROTEIN')],\n",
       " 'bc5cdr_tags': [],\n",
       " 'bionlp13cg_tags': [('PGRMC proteins', 'GENE_OR_GENE_PRODUCT'),\n",
       "  ('PGRMC1', 'GENE_OR_GENE_PRODUCT'),\n",
       "  ('PGRMC2', 'GENE_OR_GENE_PRODUCT')],\n",
       " 'ScispaCy': ['PGRMC2', 'PGRMC proteins', 'PGRMC1']}"
      ]
     },
     "execution_count": 390,
     "metadata": {},
     "output_type": "execute_result"
    }
   ],
   "source": [
    "scicpacy_Genes_final[0]"
   ]
  },
  {
   "cell_type": "code",
   "execution_count": 391,
   "id": "37ad4faa-d25f-40a0-aac9-e9548091fa29",
   "metadata": {},
   "outputs": [
    {
     "data": {
      "text/plain": [
       "422"
      ]
     },
     "execution_count": 391,
     "metadata": {},
     "output_type": "execute_result"
    }
   ],
   "source": [
    "len(drop_scispacy)"
   ]
  },
  {
   "cell_type": "code",
   "execution_count": 58,
   "id": "639e47a1-e53c-4fd2-b8b9-6ef2159973a4",
   "metadata": {},
   "outputs": [],
   "source": [
    "scicpacy_pmids=[]\n",
    "for i in scicpacy_Genes_final:\n",
    "    if i.get('PMID') not in scicpacy_pmids:\n",
    "        scicpacy_pmids.append(i.get('PMID'))"
   ]
  },
  {
   "cell_type": "code",
   "execution_count": 59,
   "id": "d8fd3261-58f8-43ef-b70a-eb7f248d817a",
   "metadata": {},
   "outputs": [
    {
     "data": {
      "text/plain": [
       "792"
      ]
     },
     "execution_count": 59,
     "metadata": {},
     "output_type": "execute_result"
    }
   ],
   "source": [
    "len(scicpacy_pmids)"
   ]
  },
  {
   "cell_type": "code",
   "execution_count": 60,
   "id": "1526a64a-112a-4bec-9168-8bea0019f7cc",
   "metadata": {},
   "outputs": [],
   "source": [
    "def query_raw_id(ids, url=\"https://bern.korea.ac.kr/pubmed/\"):\n",
    "    return requests.get(url + ','.join(ids), verify=False).json()"
   ]
  },
  {
   "cell_type": "markdown",
   "id": "90c7a637-d2a7-47c1-a55a-265ea7df6019",
   "metadata": {},
   "source": [
    "now_time='2022_12_01'"
   ]
  },
  {
   "cell_type": "code",
   "execution_count": null,
   "id": "c43f2236-af37-4d46-bb65-c9b295d2b905",
   "metadata": {},
   "outputs": [],
   "source": []
  },
  {
   "cell_type": "code",
   "execution_count": null,
   "id": "09e470ee-a871-4574-84a4-34a3071ca50b",
   "metadata": {},
   "outputs": [],
   "source": []
  },
  {
   "cell_type": "code",
   "execution_count": null,
   "id": "0819915b-f11e-4a82-b7c7-47b59d3191d5",
   "metadata": {},
   "outputs": [],
   "source": []
  },
  {
   "cell_type": "code",
   "execution_count": null,
   "id": "cb275768-ce8f-4ffc-913c-0cb6756bab7d",
   "metadata": {},
   "outputs": [],
   "source": []
  },
  {
   "cell_type": "code",
   "execution_count": null,
   "id": "6c836f96-2f57-48e4-82c3-4cb0d5342a65",
   "metadata": {},
   "outputs": [],
   "source": []
  },
  {
   "cell_type": "code",
   "execution_count": 61,
   "id": "7809be3f-2072-44da-ac75-aff84fd4d512",
   "metadata": {},
   "outputs": [],
   "source": [
    "os.makedirs('../bern/'+now_time)"
   ]
  },
  {
   "cell_type": "code",
   "execution_count": 62,
   "id": "07307055-b4ca-44d7-b5a2-b93b49c2a955",
   "metadata": {},
   "outputs": [],
   "source": [
    "f=open('../bern/'+now_time+'/download.txt','a')\n",
    "bern_download_id=1\n",
    "for j in range(0,len(scicpacy_pmids),5):\n",
    "    f.write('wget https://bern.korea.ac.kr/pubmed/'+','.join(scicpacy_pmids[j:j+5])+' --no-check-certificate -O '+'../bern/'+now_time+'/bern'+str(bern_download_id)+'.json \\n')\n",
    "    bern_download_id+=1\n",
    "f.close()"
   ]
  },
  {
   "cell_type": "code",
   "execution_count": 63,
   "id": "ceaf58c5-dfa9-48ef-a028-31d960b16e40",
   "metadata": {},
   "outputs": [],
   "source": [
    "f=open('../bern/'+now_time+'/run.sh','w')\n",
    "f.write(\"while read rows; do $rows  ; done < ../bern/\"+now_time+'/download.txt')\n",
    "f.close()"
   ]
  },
  {
   "cell_type": "code",
   "execution_count": 64,
   "id": "492f874f-c448-4796-82a5-cd81b86719c8",
   "metadata": {},
   "outputs": [
    {
     "name": "stdout",
     "output_type": "stream",
     "text": [
      "nohup bash ../bern/2022_12_09/run.sh > ../bern/2022_12_09/bern.log &\n"
     ]
    }
   ],
   "source": [
    "print(\"nohup bash \"+'../bern/'+now_time+'/run.sh > '+'../bern/'+now.strftime('%Y_%m_%d')+'/bern.log &')"
   ]
  },
  {
   "cell_type": "markdown",
   "id": "aff6cbda-692e-47f8-9538-05e6471dca3d",
   "metadata": {
    "tags": []
   },
   "source": [
    "## RUN BERN ON LINUX!!!!!!"
   ]
  },
  {
   "cell_type": "code",
   "execution_count": 66,
   "id": "7334cf9e-bc31-4f77-9de0-f5144ceb2fcc",
   "metadata": {},
   "outputs": [
    {
     "data": {
      "text/plain": [
       "'\\n%%capture\\nos.system(\"bash \"+\\'../bern/\\'+now.strftime(\\'%Y_%m_%d\\')+\\'/run.sh > \\'+\\'../bern/\\'+now.strftime(\\'%Y_%m_%d\\')+\\'/bern.log\\')\\n'"
      ]
     },
     "execution_count": 66,
     "metadata": {},
     "output_type": "execute_result"
    }
   ],
   "source": [
    "'''\n",
    "%%capture\n",
    "os.system(\"bash \"+'../bern/'+now.strftime('%Y_%m_%d')+'/run.sh > '+'../bern/'+now.strftime('%Y_%m_%d')+'/bern.log')\n",
    "'''"
   ]
  },
  {
   "cell_type": "code",
   "execution_count": 67,
   "id": "8292771e-51f1-4ab5-a0e0-f5c64a87e35b",
   "metadata": {},
   "outputs": [
    {
     "data": {
      "text/plain": [
       "'/root/hald_autoupdate/2022_12_05'"
      ]
     },
     "execution_count": 67,
     "metadata": {},
     "output_type": "execute_result"
    }
   ],
   "source": [
    "pwd"
   ]
  },
  {
   "cell_type": "code",
   "execution_count": null,
   "id": "e49c05d0-a28b-4b81-b83e-559ffa056c4e",
   "metadata": {},
   "outputs": [],
   "source": []
  },
  {
   "cell_type": "code",
   "execution_count": null,
   "id": "fb28b691-32ee-4c3c-b401-ed494ebb1800",
   "metadata": {},
   "outputs": [],
   "source": []
  },
  {
   "cell_type": "code",
   "execution_count": null,
   "id": "5eba91dc-6114-4a3b-971f-79dec45cbf77",
   "metadata": {},
   "outputs": [],
   "source": []
  },
  {
   "cell_type": "code",
   "execution_count": null,
   "id": "e3caac2f-2be6-4ac1-aee6-4c99fb3f65ef",
   "metadata": {},
   "outputs": [],
   "source": []
  },
  {
   "cell_type": "code",
   "execution_count": null,
   "id": "3eb373eb-c130-4354-8319-f2fcd479a47d",
   "metadata": {},
   "outputs": [],
   "source": []
  },
  {
   "cell_type": "code",
   "execution_count": null,
   "id": "63e3099b-800a-4fc7-9097-b38603f57833",
   "metadata": {},
   "outputs": [],
   "source": []
  },
  {
   "cell_type": "code",
   "execution_count": 61,
   "id": "713556ca-9f98-46aa-aae1-12ef4718d477",
   "metadata": {},
   "outputs": [],
   "source": [
    "all_json=[]\n",
    "for i in os.listdir('../bern/'+now_time+'/'):\n",
    "    if i.split('.')[-1] == 'json':\n",
    "        all_json+=json.load(open('../bern/'+now_time+'/'+i))"
   ]
  },
  {
   "cell_type": "code",
   "execution_count": 62,
   "id": "f42de7dd-d968-4fa5-8148-05b3052dd259",
   "metadata": {},
   "outputs": [],
   "source": [
    "allbern=copy.deepcopy(all_json)"
   ]
  },
  {
   "cell_type": "code",
   "execution_count": 63,
   "id": "0f89b113-43f4-4905-b193-3dcd122a151e",
   "metadata": {},
   "outputs": [
    {
     "data": {
      "text/plain": [
       "792"
      ]
     },
     "execution_count": 63,
     "metadata": {},
     "output_type": "execute_result"
    }
   ],
   "source": [
    "len(allbern)"
   ]
  },
  {
   "cell_type": "code",
   "execution_count": 64,
   "id": "f7fe5b28-bc56-4cd5-ae0d-57bcf37da4f0",
   "metadata": {},
   "outputs": [],
   "source": [
    "bern_json={}\n",
    "for i in allbern:\n",
    "    bern_value=[]\n",
    "    if i.get('denotations'):\n",
    "        for j in i.get('denotations'):\n",
    "            if j.get('obj')=='gene' or j.get('obj')=='protein':\n",
    "                bern_value.append(i.get('text')[j.get('span').get('begin'):j.get('span').get('end')])\n",
    "    bern_json[i.get('sourceid')]=bern_value    "
   ]
  },
  {
   "cell_type": "code",
   "execution_count": 65,
   "id": "df7b4b96-2244-4a68-aebd-c7dbef0c9261",
   "metadata": {},
   "outputs": [
    {
     "data": {
      "text/plain": [
       "792"
      ]
     },
     "execution_count": 65,
     "metadata": {},
     "output_type": "execute_result"
    }
   ],
   "source": [
    "len(bern_json)"
   ]
  },
  {
   "cell_type": "code",
   "execution_count": 66,
   "id": "b9f0c7d0-e574-402b-936a-4b77c66866bc",
   "metadata": {},
   "outputs": [
    {
     "name": "stdout",
     "output_type": "stream",
     "text": [
      "766\n"
     ]
    }
   ],
   "source": [
    "count=0\n",
    "filtered_bern_json={}\n",
    "for i,j in bern_json.items():\n",
    "    if j:\n",
    "        count+=1\n",
    "        filtered_bern_json[i]=j\n",
    "print(count)"
   ]
  },
  {
   "cell_type": "code",
   "execution_count": 67,
   "id": "3480f714-85cd-4a8d-91ac-c11ead5cdb78",
   "metadata": {},
   "outputs": [
    {
     "data": {
      "text/plain": [
       "('36053756',\n",
       " ['amyloid beta',\n",
       "  'Abeta',\n",
       "  'tau',\n",
       "  'Abeta',\n",
       "  'Abeta',\n",
       "  'mitochondrial 18 kDa translocator protein',\n",
       "  'TSPO'])"
      ]
     },
     "execution_count": 67,
     "metadata": {},
     "output_type": "execute_result"
    }
   ],
   "source": [
    "list(filtered_bern_json.items())[0]"
   ]
  },
  {
   "cell_type": "code",
   "execution_count": 68,
   "id": "adc72d02-862c-44d4-82ce-02e3e183e075",
   "metadata": {},
   "outputs": [],
   "source": [
    "SciSpacy_raw=copy.deepcopy(scicpacy_Genes_final)"
   ]
  },
  {
   "cell_type": "code",
   "execution_count": 69,
   "id": "842ae03b-312a-4dcb-8097-8319b02f4b09",
   "metadata": {},
   "outputs": [
    {
     "data": {
      "text/plain": [
       "3701"
      ]
     },
     "execution_count": 69,
     "metadata": {},
     "output_type": "execute_result"
    }
   ],
   "source": [
    "len(SciSpacy_raw)"
   ]
  },
  {
   "cell_type": "code",
   "execution_count": 70,
   "id": "f6415f19-b1d1-4abc-b22b-8a25039d2ce5",
   "metadata": {},
   "outputs": [],
   "source": [
    "SciSpacy_raw_dict={}\n",
    "for i in SciSpacy_raw:\n",
    "    SciSpacy_raw_dict[i.get('PMID')]=SciSpacy_raw_dict.get(i.get('PMID'),[])+[i]"
   ]
  },
  {
   "cell_type": "code",
   "execution_count": 71,
   "id": "ea62bc60-9c36-4aed-b026-d70f78fbb090",
   "metadata": {},
   "outputs": [
    {
     "data": {
      "text/plain": [
       "792"
      ]
     },
     "execution_count": 71,
     "metadata": {},
     "output_type": "execute_result"
    }
   ],
   "source": [
    "len(SciSpacy_raw_dict)"
   ]
  },
  {
   "cell_type": "code",
   "execution_count": 72,
   "id": "024d3fbd-ff22-4c46-9d04-3f05d21f0b84",
   "metadata": {},
   "outputs": [],
   "source": [
    "cs=0\n",
    "intersec={}\n",
    "dropout=[]\n",
    "for i,j in filtered_bern_json.items():\n",
    "    if SciSpacy_raw_dict.get(i):\n",
    "        midd=[]\n",
    "        for k in SciSpacy_raw_dict.get(i):\n",
    "            if k.get('word') in j:\n",
    "                k['bern']=j\n",
    "                midd.append(k)\n",
    "            else:\n",
    "                for m in j:\n",
    "                    pattern=k.get('word').translate(str.maketrans({\"-\":  r\"\\-\",\"\\\\\": r\"\\\\\", \"^\":  r\"\\^\",\"$\":  r\"\\$\",\"*\":  r\"\\*\",\".\":  r\"\\.\",\"(\":  r\"\\(\",\")\":  r\"\\)\",\"+\":  r\"\\+\",\"[\":  r\"\\[\",\"]\":  r\"\\]\",\n",
    "                      \"{\":  r\"\\{\",\"}\":  r\"\\}\",\"|\":  r\"\\|\",\"?\":  r\"\\?\"}))\n",
    "                    if re.search(pattern, m):\n",
    "                        k['bern']=j\n",
    "                        midd.append(k)\n",
    "                        break\n",
    "                else:\n",
    "                    dropout.append(k)\n",
    "        intersec[i]=midd\n",
    "        "
   ]
  },
  {
   "cell_type": "code",
   "execution_count": 73,
   "id": "659883ef-2a4d-4741-a49b-566aa6759c4d",
   "metadata": {},
   "outputs": [
    {
     "data": {
      "text/plain": [
       "766"
      ]
     },
     "execution_count": 73,
     "metadata": {},
     "output_type": "execute_result"
    }
   ],
   "source": [
    "len(intersec)"
   ]
  },
  {
   "cell_type": "code",
   "execution_count": 74,
   "id": "3db3577f-de50-463a-b3f0-fca1f9fb7515",
   "metadata": {},
   "outputs": [
    {
     "data": {
      "text/plain": [
       "59"
      ]
     },
     "execution_count": 74,
     "metadata": {},
     "output_type": "execute_result"
    }
   ],
   "source": [
    "len(dropout)"
   ]
  },
  {
   "cell_type": "code",
   "execution_count": 75,
   "id": "78cb1138-bc92-4d6d-91a7-399e62c98d84",
   "metadata": {},
   "outputs": [],
   "source": [
    "final_Gene_raw=[]\n",
    "for i in intersec.values():\n",
    "    final_Gene_raw+=i"
   ]
  },
  {
   "cell_type": "code",
   "execution_count": 76,
   "id": "fc79846a-2093-4d59-86e6-dce96f66d25d",
   "metadata": {},
   "outputs": [
    {
     "data": {
      "text/plain": [
       "3580"
      ]
     },
     "execution_count": 76,
     "metadata": {},
     "output_type": "execute_result"
    }
   ],
   "source": [
    "len(final_Gene_raw)"
   ]
  },
  {
   "cell_type": "code",
   "execution_count": 77,
   "id": "1f60f7e9-5bd1-448b-b95b-14678c9a9bc1",
   "metadata": {},
   "outputs": [],
   "source": [
    "Genes_inte=copy.deepcopy(final_Gene_raw)"
   ]
  },
  {
   "cell_type": "code",
   "execution_count": 78,
   "id": "1ef562d2-0ca4-42ac-8f24-d3434238a10c",
   "metadata": {},
   "outputs": [],
   "source": [
    "Gene2blank={}\n",
    "for i in Genes_inte:\n",
    "    Gene2blank[i.get('entity')]=''"
   ]
  },
  {
   "cell_type": "code",
   "execution_count": 79,
   "id": "3cde54b2-6998-4be7-bd79-0b6af6f3098d",
   "metadata": {},
   "outputs": [
    {
     "data": {
      "text/plain": [
       "741"
      ]
     },
     "execution_count": 79,
     "metadata": {},
     "output_type": "execute_result"
    }
   ],
   "source": [
    "len(Gene2blank)"
   ]
  },
  {
   "cell_type": "code",
   "execution_count": 80,
   "id": "01fd7f45-35e3-4ac4-8e8b-0955816a4bcd",
   "metadata": {},
   "outputs": [],
   "source": [
    "Gene2ncbi=pd.read_csv('../ncbi/Gene_ncbi.txt',sep='\\t',encoding='utf-8',converters = {'NCBI Gene ID(supplied by NCBI)':str})"
   ]
  },
  {
   "cell_type": "code",
   "execution_count": 81,
   "id": "2d53ac16-1dfc-4aab-973c-79b07a65dfc6",
   "metadata": {},
   "outputs": [],
   "source": [
    "Gene2ncbi_dict=dict(zip(Gene2ncbi['Approved symbol'], Gene2ncbi['NCBI Gene ID(supplied by NCBI)']))"
   ]
  },
  {
   "cell_type": "code",
   "execution_count": 183,
   "id": "2b2f00f5-4d57-4b93-bdb5-c8f019196238",
   "metadata": {},
   "outputs": [],
   "source": [
    "Gene_converter=pickle.load(open('../ncbi/Gene_converter.pkl','rb'))"
   ]
  },
  {
   "cell_type": "code",
   "execution_count": 83,
   "id": "14048fee-4200-4e7a-83bc-66ad0387807c",
   "metadata": {},
   "outputs": [
    {
     "data": {
      "text/plain": [
       "4854"
      ]
     },
     "execution_count": 83,
     "metadata": {},
     "output_type": "execute_result"
    }
   ],
   "source": [
    "len(Gene_converter)"
   ]
  },
  {
   "cell_type": "code",
   "execution_count": 84,
   "id": "98d50ffc-5d17-4670-ab79-80b489344c61",
   "metadata": {},
   "outputs": [],
   "source": [
    "Genes_inte_copy=copy.deepcopy(Genes_inte)"
   ]
  },
  {
   "cell_type": "code",
   "execution_count": 290,
   "id": "400c5975-7eca-4044-814a-83688be24637",
   "metadata": {},
   "outputs": [],
   "source": [
    "rawpickwithAB={}\n",
    "for raw in raw_pick_pubtator:\n",
    "    if raw.get('AB'):\n",
    "        rawpickwithAB[raw.get('PMID')]=raw"
   ]
  },
  {
   "cell_type": "code",
   "execution_count": 86,
   "id": "588b16ef-0a06-4637-b751-05b6ed90cd18",
   "metadata": {},
   "outputs": [],
   "source": [
    "Gene_deduplicated=set()\n",
    "Gene_deduplicated_count=0\n",
    "Gene_list_raw=[]\n",
    "\n",
    "for i in Genes_inte_copy:\n",
    "    k=i.get('PMID')\n",
    "    i['DP']=rawpickwithAB.get(k).get('DP')\n",
    "    i['AB']=rawpickwithAB.get(k).get('AB')\n",
    "    i['JT']=rawpickwithAB.get(k).get('JT')\n",
    "    i['URL']='https://pubmed.ncbi.nlm.nih.gov/'+k\n",
    "    i['TI']=rawpickwithAB.get(k).get('TI')\n",
    "    i['target']=i.get('word')\n",
    "    i['type']='Gene'\n",
    "    tuples=(i.get(\"PMID\"),i.get(\"entity\"),i.get(\"word\"),i.get(\"sentence\"))\n",
    "    if tuples not in Gene_deduplicated:\n",
    "        Gene_deduplicated.add(tuples)\n",
    "        Gene_list_raw.append(i)\n",
    "    else:\n",
    "        Gene_deduplicated_count+=1\n",
    "        continue"
   ]
  },
  {
   "cell_type": "code",
   "execution_count": 87,
   "id": "dd785161-cf58-4ff7-a1dd-2ec7fabec9dd",
   "metadata": {},
   "outputs": [
    {
     "data": {
      "text/plain": [
       "3216"
      ]
     },
     "execution_count": 87,
     "metadata": {},
     "output_type": "execute_result"
    }
   ],
   "source": [
    "len(Gene_list_raw)"
   ]
  },
  {
   "cell_type": "code",
   "execution_count": 464,
   "id": "3d54191a-0700-44c7-a97d-3d0a7b9ba20e",
   "metadata": {},
   "outputs": [],
   "source": [
    "Gene2blank={}\n",
    "for i in Gene_list_raw:\n",
    "    Gene2blank[i.get('entity')]=''"
   ]
  },
  {
   "cell_type": "code",
   "execution_count": 465,
   "id": "7b18874b-8a9b-47a3-a75d-a722121e2ca4",
   "metadata": {},
   "outputs": [
    {
     "data": {
      "text/plain": [
       "741"
      ]
     },
     "execution_count": 465,
     "metadata": {},
     "output_type": "execute_result"
    }
   ],
   "source": [
    "len(Gene2blank)"
   ]
  },
  {
   "cell_type": "code",
   "execution_count": 90,
   "id": "5215e521-e652-4591-9bfa-c072dcc7e571",
   "metadata": {},
   "outputs": [],
   "source": [
    "import time\n",
    "import datetime\n",
    "from multiprocessing import Process, Manager, Pool\n",
    "import os, time, random\n",
    "from lxml import etree\n",
    "import requests\n",
    "def get_RNA_info(i,final_RNAs_inte):\n",
    "    ncbiid=RNA2ncbi_dict.get(i)\n",
    "    ncbiurl='https://www.ncbi.nlm.nih.gov/gene/' + ncbiid\n",
    "    headers = {\n",
    "        \"User-Agent\": \"Mozilla/5.0 (Windows NT 10.0; Win64; x64) AppleWebKit/537.36 \\\n",
    "        (KHTML, like Gecko) Chrome/83.0.4103.97 Safari/537.36\"\n",
    "    }\n",
    "    url = 'https://www.ncbi.nlm.nih.gov/gene/'+ncbiid\n",
    "    \n",
    "    res=requests.get(url=url,headers=headers)\n",
    "    html = etree.HTML(res.content)\n",
    "    ncbisummary={\n",
    "    # 'numbersOfLiterature' : len(i.get('PMID')),\n",
    "    'Official_Symbol' : html.xpath('//*[@id=\"summaryDl\"]/dt[contains(.//text(),\"Official\")]/following::dd[1]/text()')[0],\n",
    "    'Official_Full_Name' : html.xpath('//*[@id=\"summaryDl\"]/dt[contains(.//text(),\"Official\")]/following::dd[1]/text()')[1],\n",
    "    # 'Also_known_as' : ''.join(html.xpath('//*[@id=\"summaryDl\"]/dt[contains(.//text(),\"Also known as\")]/following::dd[1]/text()')).replace('HGNC:HGNC:',''),\n",
    "    'HGNC_ID' : ''.join(html.xpath('//*[@id=\"summaryDl\"]/dt[contains(.//text(),\"Primary source\")]/following::dd[1]/a/text()')),\n",
    "    'HGNC_URL' : ''.join(html.xpath('//*[@id=\"summaryDl\"]/dt[contains(.//text(),\"Primary source\")]/following::dd[1]/a/@href')),\n",
    "    'Ensembl_ID' :  ''.join(html.xpath('//*[@id=\"summaryDl\"]/dt[contains(.//text(),\"See related\")]/following::dd[1]/a[1]/text()')),\n",
    "    'Ensembl_URL' : ''.join(html.xpath('//*[@id=\"summaryDl\"]/dt[contains(.//text(),\"See related\")]/following::dd[1]/a[1]/@href')),\n",
    "    'MIM_ID' : ''.join(html.xpath('//*[@id=\"summaryDl\"]/dt[contains(.//text(),\"See related\")]/following::dd[1]/a[2]/text()')),\n",
    "    'MIM_URL' : ''.join(html.xpath('//*[@id=\"summaryDl\"]/dt[contains(.//text(),\"See related\")]/following::dd[1]/a[2]/@href')),\n",
    "    'AllianceGenome_ID' : ''.join(html.xpath('//*[@id=\"summaryDl\"]/dt[contains(.//text(),\"See related\")]/following::dd[1]/a[3]/text()')),\n",
    "    'AllianceGenome_URL' : ''.join(html.xpath('//*[@id=\"summaryDl\"]/dt[contains(.//text(),\"See related\")]/following::dd[1]/a[3]/@href')),\n",
    "    'NCBI_ID' : ncbiid ,\n",
    "    'NCBI_URL' : ncbiurl\n",
    "    }\n",
    "    try:\n",
    "        also=''.join(html.xpath('//*[@id=\"summaryDl\"]/dt[contains(.//text(),\"Also known as\")]/following::dd[1]/text()')).replace('HGNC:HGNC:','')\n",
    "    except:\n",
    "        also=''\n",
    "    finally:\n",
    "        ncbisummary.update({'Also_known_as' : also})\n",
    "    try:\n",
    "        also2=''.join(html.xpath('//*[@id=\"summaryDl\"]/dt[contains(.//text(),\"Summary\")]/following::dd[1]/text()'))\n",
    "    except:\n",
    "        also2=''\n",
    "    finally:\n",
    "        ncbisummary.update({'Summary' : also2})\n",
    "    final_RNAs_inte[i]=ncbisummary\n",
    "    # print(ncbisummary)\n",
    "    time.sleep(0.5)"
   ]
  },
  {
   "cell_type": "code",
   "execution_count": 91,
   "id": "8b77049c-c475-47db-97cb-3bf755ea2100",
   "metadata": {},
   "outputs": [],
   "source": [
    "judge=False\n",
    "p = Pool(10)\n",
    "manager=Manager()\n",
    "final_Genes_inte = manager.dict()\n",
    "for i in Gene2blank.keys():\n",
    "    if not Gene_converter.get(i):\n",
    "        p.apply_async(get_Gene_info, args=(i,final_Genes_inte))\n",
    "        judge=True\n",
    "p.close()\n",
    "p.join()\n",
    "if judge:\n",
    "    Gene_converter.update(dict(final_Genes_inte))\n",
    "    pickle.dump(Gene_converter, open('../ncbi/Gene_converter.pkl','wb'))"
   ]
  },
  {
   "cell_type": "code",
   "execution_count": 468,
   "id": "96fd3d68-771f-445a-afac-708a2923fe62",
   "metadata": {},
   "outputs": [
    {
     "data": {
      "text/plain": [
       "4854"
      ]
     },
     "execution_count": 468,
     "metadata": {},
     "output_type": "execute_result"
    }
   ],
   "source": [
    "# 4854\n",
    "len(Gene_converter)"
   ]
  },
  {
   "cell_type": "code",
   "execution_count": 560,
   "id": "63e4a6db-1a8c-4958-844b-a812f36e045d",
   "metadata": {},
   "outputs": [
    {
     "data": {
      "text/plain": [
       "{'Official_Symbol': 'CLPS',\n",
       " 'Official_Full_Name': 'colipase',\n",
       " 'HGNC_ID': 'HGNC:HGNC:2085',\n",
       " 'HGNC_URL': 'https://www.genenames.org/data/gene-symbol-report/#!/hgnc_id/HGNC:2085',\n",
       " 'Ensembl_ID': 'Ensembl:ENSG00000137392',\n",
       " 'Ensembl_URL': 'http://www.ensembl.org/id/ENSG00000137392',\n",
       " 'MIM_ID': 'MIM:120105;',\n",
       " 'MIM_URL': 'https://www.ncbi.nlm.nih.gov/omim/120105',\n",
       " 'AllianceGenome_ID': 'AllianceGenome:HGNC:2085',\n",
       " 'AllianceGenome_URL': 'https://www.alliancegenome.org/gene/HGNC:2085',\n",
       " 'NCBI_ID': '1208',\n",
       " 'NCBI_URL': 'https://www.ncbi.nlm.nih.gov/gene/1208',\n",
       " 'Also_known_as': '',\n",
       " 'Summary': 'The protein encoded by this gene is a cofactor needed by pancreatic lipase for efficient dietary lipid hydrolysis. It binds to the C-terminal, non-catalytic domain of lipase, thereby stabilizing an active conformation and considerably increasing the overall hydrophobic binding site. The gene product allows lipase to anchor noncovalently to the surface of lipid micelles, counteracting the destabilizing influence of intestinal bile salts. This cofactor is only expressed in pancreatic acinar cells, suggesting regulation of expression by tissue-specific elements. Three transcript variants encoding different isoforms have been found for this gene. [provided by RefSeq, Nov 2011]'}"
      ]
     },
     "execution_count": 560,
     "metadata": {},
     "output_type": "execute_result"
    }
   ],
   "source": [
    "Gene_converter.get('CLPS')"
   ]
  },
  {
   "cell_type": "code",
   "execution_count": 469,
   "id": "b93110a5-7884-4c8a-86cb-baccc10cb882",
   "metadata": {},
   "outputs": [],
   "source": [
    "for i in range(len(Gene_list_raw)):\n",
    "    Gene_list_raw[i]=dict(Gene_list_raw[i],**Gene_converter.get(Gene_list_raw[i].get('entity')))"
   ]
  },
  {
   "cell_type": "code",
   "execution_count": 470,
   "id": "535b9778-31d3-4872-b72c-7587450318eb",
   "metadata": {},
   "outputs": [],
   "source": [
    "import time\n",
    "import datetime\n",
    "import re\n",
    "dropout=[]\n",
    "months=['Jan','Feb','Mar','Apr','May','Jun','Jul','Aug','Sep','Oct','Nov','Dec']\n",
    "import re\n",
    "\n",
    "for i in Gene_list_raw:\n",
    "    j=i.get('DP')\n",
    "    if re.search('[S,s]upplement',j,flags=re.M|re.I):\n",
    "        j=re.sub('[S,s]upplement.*','',j,flags=re.M|re.I)\n",
    "    j=re.sub('\\s?-\\s?','-',j)\n",
    "    j=re.sub('\\.','',j)\n",
    "    j=re.sub('Aout','Aug',j)\n",
    "    if len(j.split(' '))==3:\n",
    "        try:\n",
    "            date=int(datetime.datetime.strftime(datetime.datetime.strptime(j,'%Y %b %d'), '%Y%m%d'))\n",
    "        except:\n",
    "            if j.split()[1] in months:\n",
    "                if re.search(r'\\d+',j.split()[2],flags=re.M|re.I):\n",
    "                    j=j.split()[0]+' '+j.split()[1]+' '+ re.search(r'\\d+',j.split()[2],flags=re.M|re.I).group()\n",
    "                    try:\n",
    "                        date=int(datetime.datetime.strftime(datetime.datetime.strptime(j,'%Y %b %d'), '%Y%m%d'))\n",
    "                    except:\n",
    "                        j=j[:4]\n",
    "                        date=int(datetime.datetime.strftime(datetime.datetime.strptime(j,'%Y'), '%Y'+'0101'))\n",
    "                        print('***************************************ERROR**********************************************')\n",
    "                else:\n",
    "                    j=j.split()[0]+' '+j.split()[1]+' '+ '1'\n",
    "                    try:\n",
    "                        date=int(datetime.datetime.strftime(datetime.datetime.strptime(j,'%Y %b %d'), '%Y%m%d'))\n",
    "                    except:\n",
    "                        print(j)\n",
    "                        j=j[:4]\n",
    "                        date=int(datetime.datetime.strftime(datetime.datetime.strptime(j,'%Y'), '%Y'+'0101'))\n",
    "            elif j.split()[1] not in months:\n",
    "                if re.search(r'([a-zA-Z]+)[-/]([a-zA-Z]+)',j.split()[1],flags=re.M|re.I) or re.search(r'([a-zA-Z]+)[-/](\\d+)',j.split()[1],flags=re.M|re.I):\n",
    "                    if re.search(r'([a-zA-Z]+)[-/]([a-zA-Z]+)',j.split()[1],flags=re.M|re.I):\n",
    "                        middle=re.search(r'([a-zA-Z]+)[-/]([a-zA-Z]+)',j.split()[1],flags=re.M|re.I).group(1)\n",
    "                    else:\n",
    "                        middle=re.search(r'([a-zA-Z]+)[-/](\\d+)',j.split()[1],flags=re.M|re.I).group(1)\n",
    "                    if middle in months:\n",
    "                        if re.search(r'\\d+',j.split()[2],flags=re.M|re.I):\n",
    "                            j=j.split()[0]+' '+middle+' '+ re.search(r'\\d+',j.split()[2],flags=re.M|re.I).group()\n",
    "                        else:\n",
    "                            j=j.split()[0]+' '+middle+' '+ '1'\n",
    "                    elif re.match(r'Sum(mer)?',middle):\n",
    "                        if re.search(r'\\d+',j.split()[2],flags=re.M|re.I):\n",
    "                            j=j.split()[0]+' '+'Jun'+' '+ re.search(r'\\d+',j.split()[2],flags=re.M|re.I).group()\n",
    "                        else:\n",
    "                            j=j.split()[0]+' '+'Jun'+' '+ '1'\n",
    "                    elif re.match(r'Spr(ing)?',middle):\n",
    "                        if re.search(r'\\d+',j.split()[2],flags=re.M|re.I):\n",
    "                            j=j.split()[0]+' '+'Mar'+' '+ re.search(r'\\d+',j.split()[2],flags=re.M|re.I).group()\n",
    "                        else:\n",
    "                            j=j.split()[0]+' '+'Mar'+' '+ '1'\n",
    "                    elif re.match(r'Win(ter)?',middle):\n",
    "                        if re.search(r'\\d+',j.split()[2],flags=re.M|re.I):\n",
    "                            j=j.split()[0]+' '+'Dec'+' '+ re.search(r'\\d+',j.split()[2],flags=re.M|re.I).group()\n",
    "                        else:\n",
    "                            j=j.split()[0]+' '+'Dec'+' '+ '1'    \n",
    "                    elif re.match(r'Aut(umn)?',middle) or \\\n",
    "                    re.match(r'Fall',middle):\n",
    "                        if re.search(r'\\d+',j.split()[2],flags=re.M|re.I):\n",
    "                            j=j.split()[0]+' '+'Sep'+' '+ re.search(r'\\d+',j.split()[2],flags=re.M|re.I).group()\n",
    "                        else:\n",
    "                            j=j.split()[0]+' '+'Sep'+' '+ '1'      \n",
    "                    try:\n",
    "                        date=int(datetime.datetime.strftime(datetime.datetime.strptime(j,'%Y %b %d'), '%Y%m%d'))\n",
    "                    except:\n",
    "                        print(j)\n",
    "                        j=j[:4]\n",
    "                        date=int(datetime.datetime.strftime(datetime.datetime.strptime(j,'%Y'), '%Y'+'0101'))\n",
    "                else:\n",
    "                    j=j[:4]\n",
    "                    date=int(datetime.datetime.strftime(datetime.datetime.strptime(j,'%Y'), '%Y'+'0101'))\n",
    "    elif len(j.split())==2:\n",
    "        if re.match(r'Sum(mer)?',j.split()[1]):\n",
    "            date=int(j[:4]+'0601')\n",
    "        elif re.match(r'Spr(ing)?',j.split()[1]):\n",
    "            date=int(j[:4]+'0301')\n",
    "        elif re.match(r'Win(ter)?',j.split()[1]):\n",
    "            date=int(j[:4]+'1201')\n",
    "        elif re.match(r'Aut(umn)?',j.split()[1]) or re.match(r'Fall',j.split()[1]):\n",
    "            date=int(j[:4]+'0901')\n",
    "        elif re.match(r'Sum(mer)?',j.split()[0]):\n",
    "            date=int(j[-4:]+'0601')\n",
    "        elif re.match(r'Spr(ing)?',j.split()[0]):\n",
    "            date=int(j[-4:]+'0301')\n",
    "        elif re.match(r'Win(ter)?',j.split()[0]):\n",
    "            date=int(j[-4:]+'1201')\n",
    "        elif re.match(r'Aut(umn)?',j.split()[0]) or re.match(r'Fall',j.split()[0]):\n",
    "            date=int(j[-4:]+'0901')\n",
    "        else:\n",
    "            try:\n",
    "                date=int(datetime.datetime.strftime(datetime.datetime.strptime(j,'%Y %b'), '%Y%m'+'01'))\n",
    "            except:\n",
    "                if re.search(r'([a-zA-Z]+)[-/]([a-zA-Z]+)',j.split()[1],flags=re.M|re.I) or re.search(r'([a-zA-Z]+)[-/](\\d+)',j.split()[1],flags=re.M|re.I):\n",
    "                    if re.search(r'([a-zA-Z]+)[-/]([a-zA-Z]+)',j.split()[1],flags=re.M|re.I):\n",
    "                        middle=re.search(r'([a-zA-Z]+)[-/]([a-zA-Z]+)',j.split()[1],flags=re.M|re.I).group(1)\n",
    "                    else:\n",
    "                        middle=re.search(r'([a-zA-Z]+)[-/](\\d+)',j.split()[1],flags=re.M|re.I).group(1)\n",
    "                    if middle in months:\n",
    "                        j=j.split()[0]+' '+middle+' '+ '1'\n",
    "                    elif re.match(r'Sum(mer)?',middle):\n",
    "                        j=j.split()[0]+' '+'Jun'+' '+ '1'\n",
    "                    elif re.match(r'Spr(ing)?',middle):\n",
    "                        j=j.split()[0]+' '+'Mar'+' '+ '1'\n",
    "                    elif re.match(r'Win(ter)?',middle):\n",
    "                        j=j.split()[0]+' '+'Dec'+' '+ '1'    \n",
    "                    elif re.match(r'Aut(umn)?',middle) or \\\n",
    "                    re.match(r'Fall',middle):\n",
    "                        j=j.split()[0]+' '+'Sep'+' '+ '1'      \n",
    "                    try:\n",
    "                        date=int(datetime.datetime.strftime(datetime.datetime.strptime(j,'%Y %b %d'), '%Y%m%d'))\n",
    "                    except:\n",
    "                        j=j[:4]\n",
    "                        date=int(datetime.datetime.strftime(datetime.datetime.strptime(j,'%Y'), '%Y'+'0101'))\n",
    "                elif re.search(r'(\\d+)[-/](\\d+)',j.split()[1],flags=re.M|re.I):\n",
    "                    midd=re.search(r'(\\d+)[-/](\\d+)',j.split()[1],flags=re.M|re.I).group(1)\n",
    "                    if len(midd)!=2:\n",
    "                        midd='0'+midd\n",
    "                    j=j[:4]\n",
    "                    date=int(datetime.datetime.strftime(datetime.datetime.strptime(j,'%Y'), '%Y'+midd+'01'))\n",
    "                else:\n",
    "                    print(j)\n",
    "                    j=j[:4]\n",
    "                    date=int(datetime.datetime.strftime(datetime.datetime.strptime(j,'%Y'), '%Y'+'0101'))\n",
    "    elif len(j.split())==1:\n",
    "        j=j[:4]\n",
    "        date=int(datetime.datetime.strftime(datetime.datetime.strptime(j,'%Y'), '%Y'+'0101'))\n",
    "    else:\n",
    "        j=j.split()[0]+' '+j.split()[1]+' '+re.search(r'\\d+',j.split()[2],flags=re.M|re.I).group()\n",
    "        date=int(datetime.datetime.strftime(datetime.datetime.strptime(j,'%Y %b %d'), '%Y%m%d'))\n",
    "    i['date']=date\n",
    "    i['year']=int(str(i.get('date'))[:4])"
   ]
  },
  {
   "cell_type": "code",
   "execution_count": 471,
   "id": "d9bb2ca9-4cf2-4d43-ac4c-6ebe3d751fa6",
   "metadata": {},
   "outputs": [],
   "source": [
    "for i in Gene_list_raw:\n",
    "    i['addtime']=now_time"
   ]
  },
  {
   "cell_type": "code",
   "execution_count": 472,
   "id": "491be330-15d7-43be-98bc-4a2c06d86a4e",
   "metadata": {},
   "outputs": [],
   "source": [
    "Gene_raw=copy.deepcopy(Gene_list_raw)"
   ]
  },
  {
   "cell_type": "markdown",
   "id": "5e59b64e-4bcf-4df6-8997-8d72abf9b5f5",
   "metadata": {},
   "source": [
    "collections_Gene_raw.remove({'addtime':now_time})"
   ]
  },
  {
   "cell_type": "markdown",
   "id": "ff5d7f92-ec54-4092-b986-f489d7f69315",
   "metadata": {},
   "source": [
    "collections_Gene_raw.remove({'addtime':now_time})"
   ]
  },
  {
   "cell_type": "code",
   "execution_count": 475,
   "id": "fe9d4fb1-307f-4e3b-beef-54b55f4f1f77",
   "metadata": {},
   "outputs": [],
   "source": [
    "if len(Gene_raw)!=0:\n",
    "    collections_Gene_raw.insert_many(Gene_raw)"
   ]
  },
  {
   "cell_type": "code",
   "execution_count": null,
   "id": "d0146884-7e67-4113-9cc3-c36262a63e42",
   "metadata": {},
   "outputs": [],
   "source": []
  },
  {
   "cell_type": "markdown",
   "id": "42decae3-2375-426b-9729-3ec2b2fa0563",
   "metadata": {},
   "source": [
    "collections_Gene_raw.remove({'addtime':now_time})"
   ]
  },
  {
   "cell_type": "markdown",
   "id": "8e9b513d-8ffc-4a3e-932a-8e68568b9059",
   "metadata": {},
   "source": [
    "for i in Gene_raw_list:\n",
    "    if i.get('Expression'):\n",
    "        del i['Expression']\n",
    "    if Gene_converter.get(i.get('entity')).get('Summary'):\n",
    "        i['Summary']=Gene_converter.get(i.get('entity')).get('Summary')\n",
    "    else:\n",
    "        i['Summary']=''\n",
    "    i['ner']='HALD_Gene'"
   ]
  },
  {
   "cell_type": "markdown",
   "id": "aee83dad-a2c3-4a92-99c5-811277c56597",
   "metadata": {},
   "source": [
    "for i in Gene_raw_list:\n",
    "    if i.get('addtime')=='2023_02_25':\n",
    "        print(i)\n",
    "        break"
   ]
  },
  {
   "cell_type": "markdown",
   "id": "04c0c609-4bc6-4df2-acce-884407676c22",
   "metadata": {},
   "source": [
    "len(Gene_raw_list)"
   ]
  },
  {
   "cell_type": "markdown",
   "id": "8ae6a411-fa81-45db-ba7a-d5c610ffa14f",
   "metadata": {},
   "source": [
    "collections_Gene_raw.drop()"
   ]
  },
  {
   "cell_type": "markdown",
   "id": "09631478-0bd5-4bf8-b751-17dd8b11698e",
   "metadata": {},
   "source": [
    "collections_Gene_raw.insert_many(Gene_raw_list)"
   ]
  },
  {
   "cell_type": "markdown",
   "id": "9c0863e7-0b84-4898-b1ed-cad68fd87164",
   "metadata": {
    "tags": []
   },
   "source": [
    "# Gene_all"
   ]
  },
  {
   "cell_type": "code",
   "execution_count": 574,
   "id": "cc44dcfd-8eed-463c-bafb-7e9d033557fc",
   "metadata": {},
   "outputs": [],
   "source": [
    "Gene_raw_list=list(collections_Gene_raw.find())"
   ]
  },
  {
   "cell_type": "code",
   "execution_count": 567,
   "id": "167deb13-07bc-4b08-ad95-f86855d04a92",
   "metadata": {},
   "outputs": [
    {
     "name": "stdout",
     "output_type": "stream",
     "text": [
      "{'_id': ObjectId('63fa3d5e648b16758fb9bbca'), 'AB': 'Amongst the main issues challenging the food manufacturing sector, health and nutrition are becoming increasingly important. Global concerns such as obesity, the ageing population and food security will have to be addressed. Food security is not just about assuring food supply, but is also about optimising nutritional delivery from the food that is available [1]. Therefore one challenge is to optimise the health benefits from the lipids and lipid soluble nutrients. Colloid scientists have an affinity for lipids because they are water insoluble, however this presents a challenge to the digestive system, which has to convert them to structures that are less insoluble so they are available for uptake. Despite this, the human digestive system is remarkably effective at digesting and absorbing most lipids. This is primarily driven through maximising energy intake, as lipids possess the highest calorific value, which was a survival trait to survive times of famine, but is now an underlying cause of obesity in developed countries with high food availability. The critical region here is the lipid-water interface, where the key reactions take place to solubilise lipids and lipid soluble nutrients. Digestive lipases have to adsorb to the oil water interface in order to hydrolyse triacylglycerols into fatty acids and mono glycerides, which accumulate at the interface [2], and inhibit lipase activity. Pancreatic lipase, which is responsible for the majority of lipid hydrolysis, also requires the action of bile salts and colipase to function effectively. Bile salts both aid the adsorption of co-lipase and lipase, and help solubilise the lipolysis products which have accumulated at the interface, into mixed micelles composing bile salts and a range of other lipids, to facilitate transport to the gut mucosal surface prior to uptake and absorption. The process can be affected by the lipid type, as shorter chain, fatty acids are more easily absorbed, whereas the uptake of longer chain fatty acids, particularly the very long chain n-3 fatty acids from fish oils are dependent on source and so may depend on food microstructure for optimal uptake [3]. The uptake of some poorly water soluble nutrients are enhanced by the presence of lipids, but the mechanisms are not clear. In addition, controlling the digestion of lipids can be beneficial as slower release of lipids into the bloodstream can reduce risk of cardiovascular disease, and can promote gut feedback processes that reduce appetite. This presents an opportunity to colloid and interfacial science, as there are many unanswered questions regarding the specific physicochemical mechanisms underlying the process of lipid digestion and uptake. I will review our current knowledge of lipid digestion and present examples of how fundamental research in colloidal and interface science is beginning to address these issues. These include the adsorption behaviour of physiological surfactants such as bile salts; interfacial processes by which different polar lipids can influence lipolysis; and the effect of emulsion based delivery systems on cellular uptake of lipid soluble nutrients. A fundamental understanding of these processes is required if we are to develop intelligent design strategies for foods that will deliver optimal nutrition and improved health benefits in order to address the global challenges facing the food sector in the future.', 'type': 'Gene', 'identifier': '1208', 'sentence': 'Pancreatic lipase, which is responsible for the majority of lipid hydrolysis, also requires the action of bile salts and colipase to function effectively.', 'sentenceSize': 18, 'sentenceIndex': 9, 'entity': 'CLPS', 'ner': 'HALD_Gene', 'PMID': '21377138', 'word': 'colipase', 'jnlpba_tags': [], 'bc5cdr_tags': [['salts', 'CHEMICAL']], 'bionlp13cg_tags': [['colipase', 'GENE_OR_GENE_PRODUCT']], 'ScispaCy': ['colipase'], 'bern': ['Digestive lipases', 'lipase', 'Pancreatic lipase', 'colipase', 'co-lipase', 'lipase'], 'DP': '2011 Jun 9', 'URL': 'https://pubmed.ncbi.nlm.nih.gov/21377138', 'TI': 'Interfacial & colloidal aspects of lipid digestion.', 'target': 'colipase', 'JT': 'Advances in colloid and interface science', 'Official_Symbol': 'CLPS', 'Official_Full_Name': 'colipase', 'HGNC_ID': 'HGNC:HGNC:2085', 'HGNC_URL': 'https://www.genenames.org/data/gene-symbol-report/#!/hgnc_id/HGNC:2085', 'Ensembl_ID': 'Ensembl:ENSG00000137392', 'Ensembl_URL': 'http://www.ensembl.org/id/ENSG00000137392', 'MIM_ID': 'MIM:120105;', 'MIM_URL': 'https://www.ncbi.nlm.nih.gov/omim/120105', 'AllianceGenome_ID': 'AllianceGenome:HGNC:2085', 'AllianceGenome_URL': 'https://www.alliancegenome.org/gene/HGNC:2085', 'Gene_type': 'protein coding', 'Lineage': 'Eukaryota; Metazoa; Chordata; Craniata; Vertebrata; Euteleostomi; Mammalia; Eutheria; Euarchontoglires; Primates; Haplorrhini; Catarrhini; Hominidae; Homo', 'Also_known_as': '', 'Summary': 'The protein encoded by this gene is a cofactor needed by pancreatic lipase for efficient dietary lipid hydrolysis. It binds to the C-terminal, non-catalytic domain of lipase, thereby stabilizing an active conformation and considerably increasing the overall hydrophobic binding site. The gene product allows lipase to anchor noncovalently to the surface of lipid micelles, counteracting the destabilizing influence of intestinal bile salts. This cofactor is only expressed in pancreatic acinar cells, suggesting regulation of expression by tissue-specific elements. Three transcript variants encoding different isoforms have been found for this gene. [provided by RefSeq, Nov 2011]', 'NCBI_ID': '1208', 'NCBI_URL': 'https://www.ncbi.nlm.nih.gov/gene/1208', 'date': 20110609, 'year': 2011, 'addtime': '2022_07_24'}\n"
     ]
    }
   ],
   "source": [
    "for i in Gene_raw_list:\n",
    "    if i.get('entity')=='CLPS':\n",
    "        print(i)\n",
    "        break"
   ]
  },
  {
   "cell_type": "code",
   "execution_count": 568,
   "id": "8b259fb3-6e61-4118-8114-b6979133692e",
   "metadata": {},
   "outputs": [],
   "source": [
    "for i in Gene_raw_list:\n",
    "    i['type']='Gene'\n",
    "    i['JT']=[i.get('JT')]\n",
    "    i[\"PMID\"]=[i.get(\"PMID\")]\n",
    "    i[\"sentence\"]=[[i.get(\"sentence\")]]\n",
    "    pmid=i.get('PMID')[0]\n",
    "    i['DP']=[i.get(\"DP\")]\n",
    "    i['AB']=[i.get(\"AB\")]\n",
    "    i['URL']='https://pubmed.ncbi.nlm.nih.gov/'+pmid\n",
    "    i['TI']=[i.get(\"TI\")]\n",
    "    i['target']=[[i.get('word')]]\n",
    "    i[\"date\"]=[i.get(\"date\")]\n",
    "    i[\"year\"]=[i.get(\"year\")]"
   ]
  },
  {
   "cell_type": "code",
   "execution_count": 569,
   "id": "bedf4874-0b21-48ed-bf2d-a8c6f0aed40a",
   "metadata": {},
   "outputs": [],
   "source": [
    "Gene_mid={}\n",
    "for i in Gene_raw_list:\n",
    "    if not Gene_mid.get(i.get(\"entity\")):\n",
    "        Gene_mid[i.get(\"entity\")]=i\n",
    "    else:\n",
    "        if i.get('PMID')[0] in Gene_mid.get(i.get('entity')).get('PMID'):\n",
    "\n",
    "            ind=Gene_mid.get(i.get('entity')).get('PMID').index(i.get('PMID')[0])\n",
    "            if i.get(\"sentence\")[0][0] in Gene_mid.get(i.get('entity')).get('sentence')[ind]:\n",
    "                continue\n",
    "            else:\n",
    "                Gene_mid[i.get('entity')]['sentence'][ind] = Gene_mid.get(i.get('entity')).get('sentence')[ind] + i.get(\"sentence\")[0]\n",
    "                Gene_mid[i.get('entity')]['target'][ind] = Gene_mid.get(i.get('entity')).get('target')[ind] + i.get(\"target\")[0]\n",
    "\n",
    "        else:\n",
    "            Gene_mid[i.get(\"entity\")][\"PMID\"]=Gene_mid.get(i.get(\"entity\")).get(\"PMID\")+i.get(\"PMID\")\n",
    "            Gene_mid[i.get(\"entity\")][\"sentence\"]=Gene_mid.get(i.get(\"entity\")).get(\"sentence\")+i.get(\"sentence\")\n",
    "            Gene_mid[i.get(\"entity\")][\"AB\"]=Gene_mid.get(i.get(\"entity\")).get(\"AB\")+i.get(\"AB\")\n",
    "            Gene_mid[i.get(\"entity\")][\"DP\"]=Gene_mid.get(i.get(\"entity\")).get(\"DP\")+i.get(\"DP\")\n",
    "            Gene_mid[i.get(\"entity\")][\"TI\"]=Gene_mid.get(i.get(\"entity\")).get(\"TI\")+i.get(\"TI\")\n",
    "            Gene_mid[i.get(\"entity\")][\"target\"]=Gene_mid.get(i.get(\"entity\")).get(\"target\")+i.get(\"target\")\n",
    "            Gene_mid[i.get(\"entity\")][\"date\"]=Gene_mid.get(i.get(\"entity\")).get(\"date\")+i.get(\"date\")\n",
    "            Gene_mid[i.get(\"entity\")][\"year\"]=Gene_mid.get(i.get(\"entity\")).get(\"year\")+i.get(\"year\")\n",
    "            Gene_mid[i.get(\"entity\")][\"JT\"]=Gene_mid.get(i.get(\"entity\")).get(\"JT\")+i.get(\"JT\")"
   ]
  },
  {
   "cell_type": "code",
   "execution_count": 570,
   "id": "486221ea-49c7-4849-853d-a20b4e1b89b3",
   "metadata": {},
   "outputs": [],
   "source": [
    "Gene_output_json_final=list(Gene_mid.values())"
   ]
  },
  {
   "cell_type": "code",
   "execution_count": 571,
   "id": "51d89f98-cf91-49d5-a140-dcf019530a72",
   "metadata": {},
   "outputs": [
    {
     "data": {
      "text/plain": [
       "4854"
      ]
     },
     "execution_count": 571,
     "metadata": {},
     "output_type": "execute_result"
    }
   ],
   "source": [
    "# 4854\n",
    "len(Gene_output_json_final)"
   ]
  },
  {
   "cell_type": "markdown",
   "id": "f438c021-2e46-400a-ba87-ab2fe83a28fd",
   "metadata": {},
   "source": [
    "now_time='2022_12_09'"
   ]
  },
  {
   "cell_type": "code",
   "execution_count": 572,
   "id": "137fdc25-e223-427d-a2d0-cb9f2d0db525",
   "metadata": {},
   "outputs": [],
   "source": [
    "for i in Gene_output_json_final:\n",
    "    i['allyears']=[]\n",
    "    i['datestring']=[]\n",
    "    for j in i.get('date'):\n",
    "        if int(str(j)[:4]) not in i.get('allyears'):\n",
    "            i['allyears']= i.get('allyears')+[int(str(j)[:4])]\n",
    "    for j in i.get('date'):\n",
    "        if str(j)[:4]+\"-\"+str(j)[4:6]+\"-\"+str(j)[6:] not in i.get('datestring'):\n",
    "            i['datestring']=i.get('datestring')+[str(j)[:4]+\"-\"+str(j)[4:6]+\"-\"+str(j)[6:]]\n",
    "    i['allyears']=sorted(i.get('allyears'), reverse=True)\n",
    "    i['datestring']=sorted(i.get('datestring'), reverse=True)\n",
    "    upperlist=set()\n",
    "    for j in sum(i.get('target'),[]):\n",
    "        upperlist.add(j.upper())\n",
    "    i['targetshapes']=list(upperlist)\n",
    "    i['addtime']=now_time"
   ]
  },
  {
   "cell_type": "code",
   "execution_count": 573,
   "id": "faa04a49-20ec-41a2-8a51-456ef39a83b9",
   "metadata": {},
   "outputs": [],
   "source": [
    "Gene_all=copy.deepcopy(Gene_output_json_final)"
   ]
  },
  {
   "cell_type": "code",
   "execution_count": null,
   "id": "14f41293-1def-433a-a18b-8928fc019e15",
   "metadata": {},
   "outputs": [],
   "source": []
  },
  {
   "cell_type": "code",
   "execution_count": null,
   "id": "7318ceba-b53b-40cf-b2b5-6038dec2941b",
   "metadata": {},
   "outputs": [],
   "source": []
  },
  {
   "cell_type": "code",
   "execution_count": null,
   "id": "ebab2ba6-3f56-44ca-9c07-d3dfef46af29",
   "metadata": {},
   "outputs": [],
   "source": []
  },
  {
   "cell_type": "markdown",
   "id": "1cfd59b6-f54f-48cc-abf3-90e7d93e19e5",
   "metadata": {
    "tags": []
   },
   "source": [
    "# RNA_raw"
   ]
  },
  {
   "cell_type": "code",
   "execution_count": 240,
   "id": "ec67745f-b018-4445-99d0-82d51ea582d4",
   "metadata": {},
   "outputs": [],
   "source": [
    "collections_RNA_raw=db.RNA_raw"
   ]
  },
  {
   "cell_type": "markdown",
   "id": "93bc736c-3a15-4441-ab98-55d5bb1a7d1b",
   "metadata": {},
   "source": [
    "collections_RNA_raw.remove({'addtime':now_time})"
   ]
  },
  {
   "cell_type": "code",
   "execution_count": 241,
   "id": "57722064-5d0b-4261-9566-ae0d92a43059",
   "metadata": {},
   "outputs": [],
   "source": [
    "names=locals()"
   ]
  },
  {
   "cell_type": "code",
   "execution_count": null,
   "id": "34d6b2b2-1065-4686-b581-c8125a70a562",
   "metadata": {},
   "outputs": [],
   "source": []
  },
  {
   "cell_type": "code",
   "execution_count": null,
   "id": "a2bb372e-2b77-4377-bbb5-6b7128679cee",
   "metadata": {},
   "outputs": [],
   "source": []
  },
  {
   "cell_type": "code",
   "execution_count": null,
   "id": "31e7bd23-530a-400b-9f37-c22e59bde89a",
   "metadata": {},
   "outputs": [],
   "source": []
  },
  {
   "cell_type": "code",
   "execution_count": null,
   "id": "3bb46d07-1e35-4b70-929d-5f0bb87269cb",
   "metadata": {},
   "outputs": [],
   "source": []
  },
  {
   "cell_type": "code",
   "execution_count": null,
   "id": "aa5080be-8a73-4681-86c2-dce0a33460b6",
   "metadata": {},
   "outputs": [],
   "source": []
  },
  {
   "cell_type": "code",
   "execution_count": null,
   "id": "4a20fedc-5c23-49e3-bea6-b65fa7638552",
   "metadata": {},
   "outputs": [],
   "source": []
  },
  {
   "cell_type": "code",
   "execution_count": null,
   "id": "81cf5008-60c0-43c5-a466-df236ae4d586",
   "metadata": {},
   "outputs": [],
   "source": [
    "os.makedirs('../microRNA_lncRNA_rules/'+now_time)"
   ]
  },
  {
   "cell_type": "code",
   "execution_count": null,
   "id": "2b2dfe3b-3cf7-47a3-aee5-e7c47eb21485",
   "metadata": {},
   "outputs": [],
   "source": [
    "with open('../microRNA_lncRNA_rules/'+now_time+'/allsentences.txt','a') as f:\n",
    "    for i in raw_pick_pubtator:\n",
    "        f.write(i.get('AB')+'\\n'+'\\n')"
   ]
  },
  {
   "cell_type": "code",
   "execution_count": null,
   "id": "3cfc9587-f310-486a-93a2-a231a01f8a85",
   "metadata": {
    "tags": []
   },
   "outputs": [],
   "source": [
    "with open('../microRNA_lncRNA_rules/'+now_time+'/run.sh','w') as f:\n",
    "    f.write('''\n",
    "#!/bin/bash\\n\n",
    "start_time=$(date +%s)\n",
    "java -cp \"../stanza_corenlp/*\" -Xmx500g edu.stanford.nlp.pipeline.StanfordCoreNLP -annotators 'tokenize,ssplit,regexner' -file \"../microRNA_lncRNA_rules/'''\n",
    "+now_time+'''/allsentences.txt\" -regexner.mapping ../microRNA_lncRNA_rules/jg-regexner.txt -regexner.ignorecase true -tokenize.options \"splitHyphenated=false\" --outputFormat json --outputDirectory ../microRNA_lncRNA_rules/'''+now_time+'''/  \n",
    "end_time=$(date +%s)\n",
    "cost_time=$[ $end_time-$start_time ]\n",
    "echo \"build kernel time is $(($cost_time/60))min $(($cost_time%60))s\"\n",
    "    \n",
    "    \n",
    "    ''')"
   ]
  },
  {
   "cell_type": "code",
   "execution_count": null,
   "id": "c662b8de-fffd-4d71-b414-b31cbf602a12",
   "metadata": {},
   "outputs": [],
   "source": [
    "import os"
   ]
  },
  {
   "cell_type": "code",
   "execution_count": null,
   "id": "e6107584-294b-4e34-97b9-a1317ac4f054",
   "metadata": {},
   "outputs": [],
   "source": [
    "os.system(\"bash ../microRNA_lncRNA_rules/\"+now_time+\"/run.sh > ../microRNA_lncRNA_rules/\"+now_time+\"/run.log\")"
   ]
  },
  {
   "cell_type": "code",
   "execution_count": null,
   "id": "26af21ac-8b60-4b1c-9ee4-7d8003c01cfe",
   "metadata": {},
   "outputs": [],
   "source": []
  },
  {
   "cell_type": "code",
   "execution_count": null,
   "id": "aa48557a-8d5a-49db-afd9-ed1d5e6422af",
   "metadata": {},
   "outputs": [],
   "source": []
  },
  {
   "cell_type": "code",
   "execution_count": null,
   "id": "f970a6d5-695e-489c-9224-ed1da73b15e5",
   "metadata": {},
   "outputs": [],
   "source": []
  },
  {
   "cell_type": "code",
   "execution_count": null,
   "id": "58351938-0ded-4ab1-bac8-9f8daacf34bc",
   "metadata": {},
   "outputs": [],
   "source": []
  },
  {
   "cell_type": "code",
   "execution_count": null,
   "id": "37ae7fb9-8120-4b7e-b230-927e1ff1fb62",
   "metadata": {},
   "outputs": [],
   "source": []
  },
  {
   "cell_type": "code",
   "execution_count": null,
   "id": "30021023-be8b-4a13-88f7-d904a7a16386",
   "metadata": {},
   "outputs": [],
   "source": []
  },
  {
   "cell_type": "code",
   "execution_count": 242,
   "id": "9909273b-d0f6-4b96-9dcb-1b4526026121",
   "metadata": {},
   "outputs": [],
   "source": [
    "jsonfile={}\n",
    "json_file=json.load(open('../microRNA_lncRNA_rules/'+now_time+'/allsentences.txt.json',\"r\"))\n",
    "jsonfile[\"sentences\"]=json_file.get(\"sentences\")"
   ]
  },
  {
   "cell_type": "code",
   "execution_count": 243,
   "id": "943c82bc-74fa-4672-86b1-fec5ab6d51bb",
   "metadata": {},
   "outputs": [
    {
     "name": "stdout",
     "output_type": "stream",
     "text": [
      "The running time is 0s\n"
     ]
    }
   ],
   "source": [
    "import time\n",
    "import datetime\n",
    "words=[]\n",
    "entities_dict_list=[]\n",
    "starttime=datetime.datetime.now()\n",
    "l=0\n",
    "HALDnames=[]\n",
    "start=0\n",
    "\n",
    "for HALDname in [\"LNCRNA\",\"MICRORNA\"]:\n",
    "    HALDnames.append(\"HALD_\"+HALDname)\n",
    "    \n",
    "\n",
    "f=open('../microRNA_lncRNA_rules/'+now_time+'/allsentences.txt')\n",
    "sentences=f.read()\n",
    "for i in jsonfile.get(\"sentences\"):\n",
    "    for HALDname in HALDnames:\n",
    "        judge=True\n",
    "        size=len(i.get(\"tokens\"))\n",
    "        for k,j in enumerate(i.get(\"tokens\")):\n",
    "            if j.get(\"ner\"):\n",
    "                if j.get(\"ner\")==HALDname:\n",
    "                    combination=j.get('word')\n",
    "                    words.append(combination)\n",
    "                    entities_dict={}\n",
    "                    entities_dict[\"word\"]=combination\n",
    "                    entities_dict[\"wordBegin\"]=j.get(\"characterOffsetBegin\")+start\n",
    "                    entities_dict[\"wordEnd\"]=j.get(\"characterOffsetEnd\")+start\n",
    "                    entities_dict[\"sentenceBegin\"]=i.get(\"tokens\")[0].get(\"characterOffsetBegin\")+start\n",
    "                    entities_dict[\"sentenceEnd\"]=i.get(\"tokens\")[-1].get(\"characterOffsetEnd\")+start\n",
    "                    entities_dict[\"sentence\"]=sentences[i.get(\"tokens\")[0].get(\"characterOffsetBegin\"):i.get(\"tokens\")[-1].get(\"characterOffsetEnd\")]\n",
    "                    entities_dict[\"ner\"]=HALDname\n",
    "                    entities_dict_list.append(entities_dict)\n",
    "\n",
    "\n",
    "                    if judge:\n",
    "                        names['l'+HALDname]=k+1\n",
    "                        judge=False\n",
    "                    if names['l'+HALDname]<k:\n",
    "                        names['l'+HALDname]=k+1\n",
    "\n",
    "                    if k != names['l'+HALDname] -1:\n",
    "                        continue\n",
    "\n",
    "\n",
    "                    if names['l'+HALDname]<size:\n",
    "                        if i.get(\"tokens\")[names['l'+HALDname]].get(\"ner\"):\n",
    "                            if i.get(\"tokens\")[names['l'+HALDname]].get(\"ner\")==HALDname:\n",
    "                                while i.get(\"tokens\")[names['l'+HALDname]].get(\"ner\")==HALDname:\n",
    "                                    combination+=\" \"+i.get(\"tokens\")[names['l'+HALDname]].get(\"word\")\n",
    "                                    names['l'+HALDname]+=1\n",
    "                                    if names['l'+HALDname]>=size:\n",
    "                                        break\n",
    "                                names['l'+HALDname]+=1\n",
    "                                words.append(combination)\n",
    "                                entities_dict={}\n",
    "                                entities_dict[\"word\"]=combination\n",
    "                                entities_dict[\"wordBegin\"]=j.get(\"characterOffsetBegin\")+start\n",
    "                                entities_dict[\"wordEnd\"]=j.get(\"characterOffsetEnd\")+start\n",
    "                                entities_dict[\"sentenceBegin\"]=i.get(\"tokens\")[0].get(\"characterOffsetBegin\")+start\n",
    "                                entities_dict[\"sentenceEnd\"]=i.get(\"tokens\")[-1].get(\"characterOffsetEnd\")+start\n",
    "                                entities_dict[\"sentence\"]=sentences[i.get(\"tokens\")[0].get(\"characterOffsetBegin\"):i.get(\"tokens\")[-1].get(\"characterOffsetEnd\")]\n",
    "                                entities_dict[\"ner\"]=HALDname\n",
    "                                entities_dict_list.append(entities_dict)\n",
    "\n",
    "f.close()\n",
    "start+=len(sentences)\n",
    "                    \n",
    "endtime=datetime.datetime.now()\n",
    "print(\"The running time is \"+str((endtime-starttime).seconds)+\"s\")"
   ]
  },
  {
   "cell_type": "code",
   "execution_count": 244,
   "id": "b2482958-acf3-420a-b7bf-6b6d8a2bc1ff",
   "metadata": {},
   "outputs": [
    {
     "data": {
      "text/plain": [
       "124"
      ]
     },
     "execution_count": 244,
     "metadata": {},
     "output_type": "execute_result"
    }
   ],
   "source": [
    "len(entities_dict_list)"
   ]
  },
  {
   "cell_type": "code",
   "execution_count": 245,
   "id": "0f9dc551-c6c2-496a-adbc-88f44c2c176f",
   "metadata": {},
   "outputs": [
    {
     "data": {
      "text/plain": [
       "{'word': 'MiR-942-5p',\n",
       " 'wordBegin': 75004,\n",
       " 'wordEnd': 75014,\n",
       " 'sentenceBegin': 75004,\n",
       " 'sentenceEnd': 75106,\n",
       " 'sentence': 'MiR-942-5p downregulation reversed si-circ_0004104-mediated influences in HUVECs upon ox-LDL exposure.',\n",
       " 'ner': 'HALD_MICRORNA'}"
      ]
     },
     "execution_count": 245,
     "metadata": {},
     "output_type": "execute_result"
    }
   ],
   "source": [
    "entities_dict_list[2]"
   ]
  },
  {
   "cell_type": "code",
   "execution_count": 246,
   "id": "68134f94-545f-48a4-bd2e-0b1a3010c8a5",
   "metadata": {},
   "outputs": [],
   "source": [
    "length2pmid=[]\n",
    "start=0\n",
    "for i in raw_pick_pubtator:\n",
    "    mid=[]\n",
    "    mid.append(start)\n",
    "    mid.append(i.get('PMID'))\n",
    "    length2pmid.append(mid)\n",
    "    start+=len(i.get('AB'))+2"
   ]
  },
  {
   "cell_type": "code",
   "execution_count": 247,
   "id": "8694cb17-edfc-41a5-a86e-f4bf8fa29d68",
   "metadata": {},
   "outputs": [
    {
     "data": {
      "text/plain": [
       "4398"
      ]
     },
     "execution_count": 247,
     "metadata": {},
     "output_type": "execute_result"
    }
   ],
   "source": [
    "len(length2pmid)"
   ]
  },
  {
   "cell_type": "code",
   "execution_count": 248,
   "id": "07090ec1-3862-4b65-b213-b29e36d60f76",
   "metadata": {},
   "outputs": [
    {
     "data": {
      "text/plain": [
       "[18177, '36466890']"
      ]
     },
     "execution_count": 248,
     "metadata": {},
     "output_type": "execute_result"
    }
   ],
   "source": [
    "length2pmid[10]"
   ]
  },
  {
   "cell_type": "code",
   "execution_count": 249,
   "id": "58a11d6a-8773-40df-89c4-80ac002ea137",
   "metadata": {},
   "outputs": [],
   "source": [
    "k=0\n",
    "for i in entities_dict_list:\n",
    "    for j in range(k,len(length2pmid)):\n",
    "        if i.get('wordBegin')<length2pmid[j][0]:\n",
    "            i['PMID']=length2pmid[j-1][1]\n",
    "            i['AB']=pubtator_raw_dict2AB.get(i.get('PMID'))\n",
    "            k=j-1\n",
    "            break\n",
    "    else:\n",
    "        i['PMID']=length2pmid[-1][1]\n",
    "        i['AB']=pubtator_raw_dict2AB.get(i.get('PMID'))"
   ]
  },
  {
   "cell_type": "code",
   "execution_count": 250,
   "id": "3c15e9d8-156f-4bc2-9173-095065caf9e0",
   "metadata": {},
   "outputs": [
    {
     "data": {
      "text/plain": [
       "{'word': 'miR-34a-5p',\n",
       " 'wordBegin': 463865,\n",
       " 'wordEnd': 463875,\n",
       " 'sentenceBegin': 463845,\n",
       " 'sentenceEnd': 463934,\n",
       " 'sentence': 'The binding between miR-34a-5p and SIRT1 was confirmed by dual-luciferase reporter assay.',\n",
       " 'ner': 'HALD_MICRORNA',\n",
       " 'PMID': '36401446',\n",
       " 'AB': 'Chronic obstructive pulmonary disease (COPD) is characterized by accelerated lung aging. Smoking is the critical risk factor for COPD. Cellular senescence of airway epithelial cells is the cytological basis of accelerated lung aging in COPD, and the regulation of microRNAs (miRNAs) is the central epigenetic mechanism of cellular senescence. Resveratrol (Res) is a polyphenol with anti-aging properties. This study investigated whether Res attenuates cigarette smoke extract (CSE)-induced cellular senescence in human airway epithelial cells (BEAS-2B) through the miR-34a/SIRT1/nuclear factor-kappaB (NF-kappaB) pathway. BEAS-2B cells were treated with Res, CSE and transfected with miR-34a-5p mimics. Cellular senescence was evaluated by senescence -related beta-galactosidase (SA-beta-gal) staining and expression of senescence-related genes (p16, p21, and p53). The expressions of miR-34a-5p, SIRT1, and NF-kappaB p65 were examined using quantitative real time polymerase chain reaction and western blotting. The senescence-associated secretory phenotype (SASP) cytokines (IL-1beta, IL-6, IL-8, TNF-alpha) were assessed by enzyme-linked immunosorbent assay. The binding between miR-34a-5p and SIRT1 was confirmed by dual-luciferase reporter assay. The results showed that CSE dose-dependently decreased cell viability and elevated cellular senescence, characterized by increased SA-beta-gal staining and senescence-related gene expressions (p16, p21, and p53). Further, CSE dose-dependently increased the expression of miR-34a-5p and SASP cytokines (IL-1beta, IL-6, IL-8, TNF-alpha) in BEAS-2B cells. Pretreatment with Res inhibited CSE-induced cellular senescence and secretion of SASP cytokines (IL-1beta, IL-6, IL-8, TNF-alpha) in a dose-dependent manner. Moreover, Res reversed the CSE-induced down-regulation of SIRT1 and up-regulation of miR-34a-5p and NF-kappaB p65. SIRT1 is a target of miR-34a-5p. Overexpression of miR-34a-5p via transfection with miR-34a-5p mimic in BEAS-2B cells attenuated the inhibitory effect of Res on cellular senescence, accompanied by reversing the expression of SIRT1 and NF-kappaB p65. In conclusion, Res attenuated CSE-induced cellular senescence in BEAS-2B cells by regulating the miR-34a/SIRT1/NF-kappaB pathway, which may provide a new approach for COPD treatment.'}"
      ]
     },
     "execution_count": 250,
     "metadata": {},
     "output_type": "execute_result"
    }
   ],
   "source": [
    "entities_dict_list[10]"
   ]
  },
  {
   "cell_type": "code",
   "execution_count": 254,
   "id": "fd5702a2-c69d-45a5-8714-5fbea419d4e2",
   "metadata": {},
   "outputs": [],
   "source": [
    "import pandas as pd"
   ]
  },
  {
   "cell_type": "code",
   "execution_count": 255,
   "id": "36e25d61-b8db-4578-aeda-6911b28e3b7f",
   "metadata": {},
   "outputs": [],
   "source": [
    "RNA2ncbi=pd.read_csv('../ncbi/RNA_ncbi.txt',sep='\\t',encoding='utf-8',converters = {'NCBI Gene ID(supplied by NCBI)':str})"
   ]
  },
  {
   "cell_type": "code",
   "execution_count": 256,
   "id": "d9080b56-4761-4220-b4d0-e906cd2a135a",
   "metadata": {},
   "outputs": [],
   "source": [
    "RNA2approved_dict=dict(zip(RNA2ncbi['NCBI Gene ID(supplied by NCBI)'],RNA2ncbi['Approved symbol'] ))"
   ]
  },
  {
   "cell_type": "code",
   "execution_count": 257,
   "id": "c3f3e53c-e913-4ca8-82a1-bb60b4fef852",
   "metadata": {},
   "outputs": [],
   "source": [
    "RNA2ncbi_dict=dict(zip(RNA2ncbi['Approved symbol'], RNA2ncbi['NCBI Gene ID(supplied by NCBI)']))"
   ]
  },
  {
   "cell_type": "code",
   "execution_count": 263,
   "id": "f77b9b1d-65e9-40e4-92ec-03a5dc04832f",
   "metadata": {},
   "outputs": [],
   "source": [
    "# add entity\n",
    "error_RNA=[]\n",
    "pubtator_RNAs=[]\n",
    "for i in pubtator_gene:\n",
    "    if RNA2approved_dict.get(i.get('identifier')):\n",
    "        i['entity']=RNA2approved_dict.get(i.get('identifier'))\n",
    "        pubtator_RNAs.append(i)\n",
    "    else:\n",
    "        error_RNA.append(i)"
   ]
  },
  {
   "cell_type": "code",
   "execution_count": 264,
   "id": "3aa79935-feff-4814-ba5b-635717424b2c",
   "metadata": {},
   "outputs": [
    {
     "data": {
      "text/plain": [
       "7165"
      ]
     },
     "execution_count": 264,
     "metadata": {},
     "output_type": "execute_result"
    }
   ],
   "source": [
    "len(error_RNA)"
   ]
  },
  {
   "cell_type": "code",
   "execution_count": 265,
   "id": "954ab9c4-1ae7-4213-98df-1b003484a800",
   "metadata": {},
   "outputs": [
    {
     "data": {
      "text/plain": [
       "81"
      ]
     },
     "execution_count": 265,
     "metadata": {},
     "output_type": "execute_result"
    }
   ],
   "source": [
    "len(pubtator_RNAs)"
   ]
  },
  {
   "cell_type": "code",
   "execution_count": 266,
   "id": "f0380454-83b0-4a48-888b-863e2329ea3a",
   "metadata": {},
   "outputs": [],
   "source": [
    "names=locals()\n",
    "HALDnames=[]\n",
    "for HALDname in [\"CLUSTERRNA\",\"LNCRNA\",\"MICRORNA\",\"MISCRNA\",\"RIBOSOMALRNA\",\"SMALL_NUCLEARRNA\",\"SMALL_NUCLEOLARRNA\",\"TRANSFERRNA\",\"VAULTRNA\",\"YRNA\"]:\n",
    "    HALDnames.append(\"HALD_\"+HALDname)\n",
    "\n",
    "for name in [\"clusterRNA\",\"lncRNA\",\"microRNA\",\"miscRNA\",\"ribosomalRNA\",\"small_nuclearRNA\",\"small_nucleolarRNA\",\"transferRNA\",\"vaultRNA\",\"yRNA\"]:\n",
    "    file=\"../dict/\"+name+\"/\"+name+\"dict.json\"\n",
    "    with open(file,\"r\") as f:\n",
    "        jsons=json.load(f)\n",
    "        json_lower={}\n",
    "        for i,j in jsons.items():\n",
    "            json_lower[i.lower()]=j\n",
    "        names[name+\"_dict\"]=json_lower"
   ]
  },
  {
   "cell_type": "code",
   "execution_count": 267,
   "id": "65bf272b-d588-49fb-b6c2-6a9a6441f1fc",
   "metadata": {},
   "outputs": [],
   "source": [
    "pattern=['([Hh][Ss][Aa])?[\\-]?[Mm][Ii][Cc][Rr][Oo][Rr][Nn][Aa][\\-]?\\d+[a-zA-Z]?[\\-]?[12345]?[\\-]?[35]?[Pp]?',\n",
    "'([Hh][Ss][Aa])?[\\-]?[Mm][Ii][Cc][Rr][Oo][Rr][Nn][Aa] \\d+[a-zA-Z]?[\\-]?[12345]?[\\-]?[35]?[Pp]?',\n",
    "'([Hh][Ss][Aa])?[\\-]?[Mm][Ii][Rr][Nn]?[\\-]?\\d+[a-zA-Z]?[\\-]?[12345]?[\\-]?[35]?[Pp]?',\n",
    "'([Hh][Ss][Aa])?[\\-]?[Mm][Ii][Rr][Nn]? \\d+[a-zA-Z]?[\\-]?[12345]?[\\-]?[35]?[Pp]?',\n",
    "'([Hh][Ss][Aa])?[\\-]?([Mm][Ii][Cc][Rr][Oo][Rr][Nn][Aa][\\-]?\\d+)([a-z][/]?)+',\n",
    "'([Hh][Ss][Aa])?[\\-]?[Mm][Ii][Cc][Rr][Oo][Rr][Nn][Aa] \\d+([a-z][/]?)+',\n",
    "'([Hh][Ss][Aa])?[\\-]?([Mm][Ii][Rr][Nn]?[\\-]?\\d+)([a-z][/]?)+',\n",
    "'([Hh][Ss][Aa])?[\\-]?[Mm][Ii][Rr][Nn]? \\d+([a-z][/]?)+',\n",
    "'[Hh][Ss][Aa][\\-][Mm][Ii][Rr][Nn]?[\\-]\\d+[a-zA-Z]?[\\-]?[12345]?[\\-]?[35]?[Pp]?',\n",
    "'([Hh][Ss][Aa][\\-][Mm][Ii][Rr][Nn]?[\\-]\\d+)([a-z][/]?)+',\n",
    "'[Mm][Ii][Rr][Nn]?[Ll][Ee][Tt]7[A-Ia-i][123]?',\n",
    "'([Mm][Ii][Rr][Nn]?[Ll][Ee][Tt]7)([A-Ia-i][/]?)+',\n",
    "'[Mm][Ii][Cc][Rr][Oo][Rr][Nn][Aa][\\-][Ll][Ee][Tt][\\-]\\d+[a-zA-Z]?[\\-]?[12345]?[\\-]?[35]?[Pp]?',\n",
    "'[Mm][Ii][Cc][Rr][Oo][Rr][Nn][Aa] [Ll][Ee][Tt] \\d+[a-zA-Z]?[\\-]?[12345]?[\\-]?[35]?[Pp]?',\n",
    "'[Mm][Ii][Rr][Nn]?[\\-][Ll][Ee][Tt][\\-]\\d+[a-zA-Z]?[\\-]?[12345]?[\\-]?[35]?[Pp]?',\n",
    "'[Mm][Ii][Rr][Nn]? [Ll][Ee][Tt] \\d+[a-zA-Z]?[\\-]?[12345]?[\\-]?[35]?[Pp]?',\n",
    "'([Mm][Ii][Cc][Rr][Oo][Rr][Nn][Aa][\\-][Ll][Ee][Tt][\\-]\\d+)([a-z][/]?)+',\n",
    "'[Mm][Ii][Cc][Rr][Oo][Rr][Nn][Aa] [Ll][Ee][Tt] \\d+([a-z][/]?)+',\n",
    "'([Mm][Ii][Rr][Nn]?[\\-][Ll][Ee][Tt][\\-]\\d+)([a-z][/]?)+',\n",
    "'[Mm][Ii][Rr][Nn]? [Ll][Ee][Tt] \\d+([a-z][/]?)+']"
   ]
  },
  {
   "cell_type": "code",
   "execution_count": 268,
   "id": "7b8ccb1e-9e6c-49c5-8f0e-8d1224f6cea4",
   "metadata": {},
   "outputs": [],
   "source": [
    "# add RNA type\n",
    "filtered_pubtator_RNAs=[]\n",
    "drop_RNAs=[]\n",
    "import re\n",
    "midcount1=0\n",
    "midcount2=0\n",
    "for i in pubtator_RNAs:\n",
    "    for name in [\"clusterRNA\",\"lncRNA\",\"microRNA\",\"miscRNA\",\"ribosomalRNA\",\"small_nuclearRNA\",\"small_nucleolarRNA\",\"transferRNA\",\"vaultRNA\",\"yRNA\"]:\n",
    "        if names[name+\"_dict\"].get(i.get('text').lower()):\n",
    "            i['ner']=\"HALD_\"+name.upper()\n",
    "            i['type']=\"RNA\"\n",
    "            i['specific_type']=name.upper()\n",
    "            filtered_pubtator_RNAs.append(i)\n",
    "            break\n",
    "    else:\n",
    "        for j in pattern:\n",
    "            if re.search(j,i.get('text').lower()):\n",
    "                midcount1+=1\n",
    "                i['ner']=\"HALD_MICRORNA\"\n",
    "                i['type']=\"RNA\"\n",
    "                i['specific_type']=\"MICRORNA\"\n",
    "                filtered_pubtator_RNAs.append(i)\n",
    "                break\n",
    "            elif re.search(r'linc\\d{5}',i.get('text').lower()):\n",
    "                midcount2+=1\n",
    "                i['ner']=\"HALD_LINCRNA\"\n",
    "                i['type']=\"RNA\"\n",
    "                i['specific_type']=\"LINCRNA\"\n",
    "                filtered_pubtator_RNAs.append(i)\n",
    "                break\n",
    "        else:\n",
    "            drop_RNAs.append(i)"
   ]
  },
  {
   "cell_type": "code",
   "execution_count": 269,
   "id": "70de38b7-1168-474b-951b-85bf57c5bd57",
   "metadata": {},
   "outputs": [
    {
     "name": "stdout",
     "output_type": "stream",
     "text": [
      "10\n",
      "0\n"
     ]
    }
   ],
   "source": [
    "print(midcount1)\n",
    "print(midcount2)"
   ]
  },
  {
   "cell_type": "code",
   "execution_count": 270,
   "id": "311ccd3a-1ce1-4f42-9b53-ace501b8ee4b",
   "metadata": {},
   "outputs": [
    {
     "data": {
      "text/plain": [
       "7"
      ]
     },
     "execution_count": 270,
     "metadata": {},
     "output_type": "execute_result"
    }
   ],
   "source": [
    "len(drop_RNAs)"
   ]
  },
  {
   "cell_type": "code",
   "execution_count": 271,
   "id": "812ddfe7-7695-452a-b491-1ff28c1d6eef",
   "metadata": {},
   "outputs": [],
   "source": [
    "filtered_pubtator_genes_pmid2word={}\n",
    "for i in filtered_pubtator_RNAs:\n",
    "    filtered_pubtator_genes_pmid2word[i.get('id')]=filtered_pubtator_genes_pmid2word.get(i.get('id'),[])+[i.get('text')]"
   ]
  },
  {
   "cell_type": "code",
   "execution_count": 272,
   "id": "0cac77c6-4463-48f9-ac8e-77b817544dbe",
   "metadata": {},
   "outputs": [
    {
     "data": {
      "text/plain": [
       "18"
      ]
     },
     "execution_count": 272,
     "metadata": {},
     "output_type": "execute_result"
    }
   ],
   "source": [
    "len(filtered_pubtator_genes_pmid2word)"
   ]
  },
  {
   "cell_type": "code",
   "execution_count": 273,
   "id": "7f52f6e8-329c-43dc-b954-49b479f28265",
   "metadata": {},
   "outputs": [],
   "source": [
    "# based on dict. Whether in pubtator\n",
    "RNA_entities_list=[]\n",
    "for i in entities_dict_list:\n",
    "    if filtered_pubtator_genes_pmid2word.get(i.get('PMID')):\n",
    "        if i.get('word') not in filtered_pubtator_genes_pmid2word.get(i.get('PMID')):\n",
    "            RNA_entities_list.append(i)\n",
    "    else:\n",
    "        RNA_entities_list.append(i)"
   ]
  },
  {
   "cell_type": "code",
   "execution_count": 274,
   "id": "601c6658-5b94-4807-ad66-866f48a40fdd",
   "metadata": {},
   "outputs": [
    {
     "data": {
      "text/plain": [
       "71"
      ]
     },
     "execution_count": 274,
     "metadata": {},
     "output_type": "execute_result"
    }
   ],
   "source": [
    "len(RNA_entities_list)"
   ]
  },
  {
   "cell_type": "code",
   "execution_count": 275,
   "id": "d633c123-707c-4cf5-8271-7d0632e6ec29",
   "metadata": {},
   "outputs": [
    {
     "data": {
      "text/plain": [
       "124"
      ]
     },
     "execution_count": 275,
     "metadata": {},
     "output_type": "execute_result"
    }
   ],
   "source": [
    "len(entities_dict_list)"
   ]
  },
  {
   "cell_type": "code",
   "execution_count": 276,
   "id": "e782fbd6-e6c3-4e8c-b064-ef08455be848",
   "metadata": {},
   "outputs": [
    {
     "data": {
      "text/plain": [
       "{'word': 'miR-34a-5p',\n",
       " 'wordBegin': 464531,\n",
       " 'wordEnd': 464541,\n",
       " 'sentenceBegin': 464446,\n",
       " 'sentenceEnd': 464560,\n",
       " 'sentence': 'Moreover, Res reversed the CSE-induced down-regulation of SIRT1 and up-regulation of miR-34a-5p and NF-kappaB p65.',\n",
       " 'ner': 'HALD_MICRORNA',\n",
       " 'PMID': '36401446',\n",
       " 'AB': 'Chronic obstructive pulmonary disease (COPD) is characterized by accelerated lung aging. Smoking is the critical risk factor for COPD. Cellular senescence of airway epithelial cells is the cytological basis of accelerated lung aging in COPD, and the regulation of microRNAs (miRNAs) is the central epigenetic mechanism of cellular senescence. Resveratrol (Res) is a polyphenol with anti-aging properties. This study investigated whether Res attenuates cigarette smoke extract (CSE)-induced cellular senescence in human airway epithelial cells (BEAS-2B) through the miR-34a/SIRT1/nuclear factor-kappaB (NF-kappaB) pathway. BEAS-2B cells were treated with Res, CSE and transfected with miR-34a-5p mimics. Cellular senescence was evaluated by senescence -related beta-galactosidase (SA-beta-gal) staining and expression of senescence-related genes (p16, p21, and p53). The expressions of miR-34a-5p, SIRT1, and NF-kappaB p65 were examined using quantitative real time polymerase chain reaction and western blotting. The senescence-associated secretory phenotype (SASP) cytokines (IL-1beta, IL-6, IL-8, TNF-alpha) were assessed by enzyme-linked immunosorbent assay. The binding between miR-34a-5p and SIRT1 was confirmed by dual-luciferase reporter assay. The results showed that CSE dose-dependently decreased cell viability and elevated cellular senescence, characterized by increased SA-beta-gal staining and senescence-related gene expressions (p16, p21, and p53). Further, CSE dose-dependently increased the expression of miR-34a-5p and SASP cytokines (IL-1beta, IL-6, IL-8, TNF-alpha) in BEAS-2B cells. Pretreatment with Res inhibited CSE-induced cellular senescence and secretion of SASP cytokines (IL-1beta, IL-6, IL-8, TNF-alpha) in a dose-dependent manner. Moreover, Res reversed the CSE-induced down-regulation of SIRT1 and up-regulation of miR-34a-5p and NF-kappaB p65. SIRT1 is a target of miR-34a-5p. Overexpression of miR-34a-5p via transfection with miR-34a-5p mimic in BEAS-2B cells attenuated the inhibitory effect of Res on cellular senescence, accompanied by reversing the expression of SIRT1 and NF-kappaB p65. In conclusion, Res attenuated CSE-induced cellular senescence in BEAS-2B cells by regulating the miR-34a/SIRT1/NF-kappaB pathway, which may provide a new approach for COPD treatment.'}"
      ]
     },
     "execution_count": 276,
     "metadata": {},
     "output_type": "execute_result"
    }
   ],
   "source": [
    "RNA_entities_list[11]"
   ]
  },
  {
   "cell_type": "code",
   "execution_count": 277,
   "id": "cc380212-8a84-4521-a2ed-9da3d07cef52",
   "metadata": {},
   "outputs": [],
   "source": [
    "import re\n",
    "for i in RNA_entities_list:\n",
    "    i['type']='RNA'\n",
    "    i['specific_type']=i.get('ner')[5:]"
   ]
  },
  {
   "cell_type": "code",
   "execution_count": 278,
   "id": "99682332-69ba-41bb-85cb-c775a5413c02",
   "metadata": {},
   "outputs": [],
   "source": [
    "RNAdict=json.load(open('../dict/RNAdict.json','r'))"
   ]
  },
  {
   "cell_type": "code",
   "execution_count": 279,
   "id": "4e68f497-951b-40e0-b894-fafcb6b73b57",
   "metadata": {},
   "outputs": [],
   "source": [
    "# 考虑了大小写引起的可能不是一个实体的问题\n",
    "# 验证后发现不会发生\n",
    "RNAdict_lower={}\n",
    "for i,j in RNAdict.items():\n",
    "    RNAdict_lower[i.lower()]=RNAdict_lower.get(i.lower(),[])+j\n",
    "    RNAdict_lower[i.lower()]=list(set(RNAdict_lower.get(i.lower())))"
   ]
  },
  {
   "cell_type": "code",
   "execution_count": 280,
   "id": "a9d212a5-4201-46ac-865b-109f1aa1fe0d",
   "metadata": {},
   "outputs": [],
   "source": [
    "cccc=0\n",
    "final_RNA_entities_list=[]\n",
    "drop_RNA_entities_list=[]\n",
    "for i in RNA_entities_list:\n",
    "    if RNAdict_lower.get(i.get('word').lower()):\n",
    "        for j in RNAdict_lower.get(i.get('word').lower()):\n",
    "            i['entity']=j\n",
    "            final_RNA_entities_list.append(i)\n",
    "    elif re.search(r'-[3,5]p',i.get('word')):\n",
    "            if RNAdict_lower.get(re.sub(r'-[3,5]p','',i.get('word'))):\n",
    "                for j in RNAdict_lower.get(re.sub(r'-[3,5]p','',i.get('word'))):\n",
    "                    i['entity']=j\n",
    "                    final_RNA_entities_list.append(i)\n",
    "                    cccc+=1\n",
    "    else:\n",
    "        drop_RNA_entities_list.append(i)"
   ]
  },
  {
   "cell_type": "code",
   "execution_count": 281,
   "id": "591a5020-3546-4757-8940-3e6adbd4d8be",
   "metadata": {},
   "outputs": [
    {
     "data": {
      "text/plain": [
       "14"
      ]
     },
     "execution_count": 281,
     "metadata": {},
     "output_type": "execute_result"
    }
   ],
   "source": [
    "len(final_RNA_entities_list)"
   ]
  },
  {
   "cell_type": "code",
   "execution_count": 282,
   "id": "dae8ffb5-de89-4da3-85de-d648327d3f75",
   "metadata": {},
   "outputs": [
    {
     "data": {
      "text/plain": [
       "6"
      ]
     },
     "execution_count": 282,
     "metadata": {},
     "output_type": "execute_result"
    }
   ],
   "source": [
    "len(drop_RNA_entities_list)"
   ]
  },
  {
   "cell_type": "code",
   "execution_count": 283,
   "id": "9ba98668-2de1-412e-8f50-952e0d6c1a29",
   "metadata": {},
   "outputs": [
    {
     "data": {
      "text/plain": [
       "{'word': 'MiR-181a',\n",
       " 'wordBegin': 2133730,\n",
       " 'wordEnd': 2133738,\n",
       " 'sentenceBegin': 2133721,\n",
       " 'sentenceEnd': 2133844,\n",
       " 'sentence': 'METHODS: MiR-181a was isolated from plasma according to standardized procedures and its expression levels measured by qPCR.',\n",
       " 'ner': 'HALD_MICRORNA',\n",
       " 'PMID': '36175844',\n",
       " 'AB': 'BACKGROUND: Chronic low-level inflammation is thought to play a role in many age-related diseases and to contribute to multimorbidity and to the disability related to this condition. In this framework, inflamma-miRs, an important subset of miRNA able to regulate inflammation molecules, appear to be key players. This study aimed to evaluate plasma levels of the inflamma-miR-181a in relation to age, parameters of health status (clinical, physical, and cognitive) and indices of multimorbidity in a cohort of 244 subjects aged 65- 97. METHODS: MiR-181a was isolated from plasma according to standardized procedures and its expression levels measured by qPCR. Correlation tests and multivariate regression analyses were applied on gender-stratified groups. RESULTS: MiR-181a levels resulted increased in old men, and significantly correlated with worsened blood parameters of inflammation (such as low levels of albumin and bilirubin and high lymphocyte content), particularly in females. Furthermore, we found miR-181a positively correlated with the overall multimorbidity burden, measured by CIRS Comorbidity Score, in both genders. CONCLUSIONS: These data support a role of miR-181a in age-related chronic inflammation and in the development of multimorbidity in older adults and indicate that the routes by which this miRNA influence health status are likely to be gender specific. Based on our results, we suggest that miR-181a is a promising biomarker of health status of the older population.',\n",
       " 'type': 'RNA',\n",
       " 'specific_type': 'MICRORNA'}"
      ]
     },
     "execution_count": 283,
     "metadata": {},
     "output_type": "execute_result"
    }
   ],
   "source": [
    "drop_RNA_entities_list[0]"
   ]
  },
  {
   "cell_type": "code",
   "execution_count": 284,
   "id": "2f1d56ba-fcac-4ec3-812a-e6668e496be4",
   "metadata": {},
   "outputs": [],
   "source": [
    "for i in filtered_pubtator_RNAs:\n",
    "    i['PMID']=i.get('id')\n",
    "    i['word']=i.get('text')"
   ]
  },
  {
   "cell_type": "code",
   "execution_count": 285,
   "id": "4fbc3fd3-0eb9-4809-a447-22a34eda4e08",
   "metadata": {},
   "outputs": [],
   "source": [
    "final_RNA=filtered_pubtator_RNAs+final_RNA_entities_list"
   ]
  },
  {
   "cell_type": "code",
   "execution_count": 286,
   "id": "d5a528f1-179e-4851-a3bb-e0864c4d68eb",
   "metadata": {},
   "outputs": [
    {
     "data": {
      "text/plain": [
       "88"
      ]
     },
     "execution_count": 286,
     "metadata": {},
     "output_type": "execute_result"
    }
   ],
   "source": [
    "len(final_RNA)"
   ]
  },
  {
   "cell_type": "code",
   "execution_count": 287,
   "id": "1a292b11-7498-45eb-9783-09ed4c47afae",
   "metadata": {},
   "outputs": [],
   "source": [
    "RNAs_inte_copy=copy.deepcopy(final_RNA)"
   ]
  },
  {
   "cell_type": "code",
   "execution_count": 291,
   "id": "95dae2dd-b5c9-42c6-a3c3-760a687a2265",
   "metadata": {},
   "outputs": [],
   "source": [
    "deduplicated_RNA=set()\n",
    "deduplicated_RNA_count=0\n",
    "RNA_list_raw=[]\n",
    "for i in RNAs_inte_copy:\n",
    "    k=i.get('PMID')\n",
    "    i['DP']=rawpickwithAB.get(k).get('DP')\n",
    "    i['AB']=rawpickwithAB.get(k).get('AB')\n",
    "    i['JT']=rawpickwithAB.get(k).get('JT')\n",
    "    i['URL']='https://pubmed.ncbi.nlm.nih.gov/'+k\n",
    "    i['TI']=rawpickwithAB.get(k).get('TI')\n",
    "    i['target']=i.get('word')\n",
    "    tuples=(i.get(\"PMID\"),i.get(\"entity\"),i.get(\"word\"),i.get(\"sentence\"))\n",
    "    if tuples not in deduplicated_RNA:\n",
    "        deduplicated_RNA.add(tuples)\n",
    "        RNA_list_raw.append(i)\n",
    "    else:\n",
    "        deduplicated_RNA_count+=1\n",
    "        continue"
   ]
  },
  {
   "cell_type": "code",
   "execution_count": 292,
   "id": "733e1c8e-dbc2-4d93-9008-ea2eed0b0087",
   "metadata": {},
   "outputs": [
    {
     "data": {
      "text/plain": [
       "82"
      ]
     },
     "execution_count": 292,
     "metadata": {},
     "output_type": "execute_result"
    }
   ],
   "source": [
    "len(RNA_list_raw)"
   ]
  },
  {
   "cell_type": "code",
   "execution_count": 293,
   "id": "b222f814-f248-40e1-b037-5cde48ca7e8c",
   "metadata": {},
   "outputs": [],
   "source": [
    "RNA2blank={}\n",
    "for i in RNA_list_raw:\n",
    "    RNA2blank[i.get('entity')]=''"
   ]
  },
  {
   "cell_type": "code",
   "execution_count": 294,
   "id": "a3bd4654-c838-4ea0-ac26-5277f66d3120",
   "metadata": {},
   "outputs": [
    {
     "data": {
      "text/plain": [
       "22"
      ]
     },
     "execution_count": 294,
     "metadata": {},
     "output_type": "execute_result"
    }
   ],
   "source": [
    "len(RNA2blank)"
   ]
  },
  {
   "cell_type": "code",
   "execution_count": 295,
   "id": "d87b1ee0-606b-49f8-80f3-813eb6ae73f5",
   "metadata": {},
   "outputs": [],
   "source": [
    "RNA_converter=pickle.load(open('../ncbi/RNA_converter.pkl','rb'))"
   ]
  },
  {
   "cell_type": "code",
   "execution_count": 296,
   "id": "8f0f5a4b-6148-4f0d-825c-c8d2894c5538",
   "metadata": {},
   "outputs": [
    {
     "data": {
      "text/plain": [
       "339"
      ]
     },
     "execution_count": 296,
     "metadata": {},
     "output_type": "execute_result"
    }
   ],
   "source": [
    "len(RNA_converter)"
   ]
  },
  {
   "cell_type": "code",
   "execution_count": 297,
   "id": "8a16128a-3be9-4c00-b293-636e2c3c5207",
   "metadata": {},
   "outputs": [],
   "source": [
    "import time\n",
    "import datetime\n",
    "from multiprocessing import Process, Manager, Pool\n",
    "import os, time, random\n",
    "from lxml import etree\n",
    "import requests\n",
    "def get_RNA_info(i,final_RNAs_inte):\n",
    "    ncbiid=RNA2ncbi_dict.get(i)\n",
    "    ncbiurl='https://www.ncbi.nlm.nih.gov/gene/' + ncbiid\n",
    "    headers = {\n",
    "        \"User-Agent\": \"Mozilla/5.0 (Windows NT 10.0; Win64; x64) AppleWebKit/537.36 \\\n",
    "        (KHTML, like Gecko) Chrome/83.0.4103.97 Safari/537.36\"\n",
    "    }\n",
    "    url = 'https://www.ncbi.nlm.nih.gov/gene/'+ncbiid\n",
    "    \n",
    "    res=requests.get(url=url,headers=headers)\n",
    "    html = etree.HTML(res.content)\n",
    "    ncbisummary={\n",
    "    # 'numbersOfLiterature' : len(i.get('PMID')),\n",
    "    'Official_Symbol' : html.xpath('//*[@id=\"summaryDl\"]/dt[contains(.//text(),\"Official\")]/following::dd[1]/text()')[0],\n",
    "    'Official_Full_Name' : html.xpath('//*[@id=\"summaryDl\"]/dt[contains(.//text(),\"Official\")]/following::dd[1]/text()')[1],\n",
    "    # 'Also_known_as' : ''.join(html.xpath('//*[@id=\"summaryDl\"]/dt[contains(.//text(),\"Also known as\")]/following::dd[1]/text()')).replace('HGNC:HGNC:',''),\n",
    "    'HGNC_ID' : ''.join(html.xpath('//*[@id=\"summaryDl\"]/dt[contains(.//text(),\"Primary source\")]/following::dd[1]/a/text()')),\n",
    "    'HGNC_URL' : ''.join(html.xpath('//*[@id=\"summaryDl\"]/dt[contains(.//text(),\"Primary source\")]/following::dd[1]/a/@href')),\n",
    "    'Ensembl_ID' :  ''.join(html.xpath('//*[@id=\"summaryDl\"]/dt[contains(.//text(),\"See related\")]/following::dd[1]/a[1]/text()')),\n",
    "    'Ensembl_URL' : ''.join(html.xpath('//*[@id=\"summaryDl\"]/dt[contains(.//text(),\"See related\")]/following::dd[1]/a[1]/@href')),\n",
    "    'MIM_ID' : ''.join(html.xpath('//*[@id=\"summaryDl\"]/dt[contains(.//text(),\"See related\")]/following::dd[1]/a[2]/text()')),\n",
    "    'MIM_URL' : ''.join(html.xpath('//*[@id=\"summaryDl\"]/dt[contains(.//text(),\"See related\")]/following::dd[1]/a[2]/@href')),\n",
    "    'AllianceGenome_ID' : ''.join(html.xpath('//*[@id=\"summaryDl\"]/dt[contains(.//text(),\"See related\")]/following::dd[1]/a[3]/text()')),\n",
    "    'AllianceGenome_URL' : ''.join(html.xpath('//*[@id=\"summaryDl\"]/dt[contains(.//text(),\"See related\")]/following::dd[1]/a[3]/@href')),\n",
    "    'NCBI_ID' : ncbiid ,\n",
    "    'NCBI_URL' : ncbiurl\n",
    "    }\n",
    "    try:\n",
    "        also=''.join(html.xpath('//*[@id=\"summaryDl\"]/dt[contains(.//text(),\"Also known as\")]/following::dd[1]/text()')).replace('HGNC:HGNC:','')\n",
    "    except:\n",
    "        also=''\n",
    "    finally:\n",
    "        ncbisummary.update({'Also_known_as' : also})\n",
    "    try:\n",
    "        also2=''.join(html.xpath('//*[@id=\"summaryDl\"]/dt[contains(.//text(),\"Summary\")]/following::dd[1]/text()'))\n",
    "    except:\n",
    "        also2=''\n",
    "    finally:\n",
    "        ncbisummary.update({'Summary' : also2})\n",
    "    final_RNAs_inte[i]=ncbisummary\n",
    "    # print(ncbisummary)\n",
    "    time.sleep(0.5)"
   ]
  },
  {
   "cell_type": "code",
   "execution_count": 298,
   "id": "0b34c47c-9a58-4ef4-b916-34208bba60c7",
   "metadata": {},
   "outputs": [],
   "source": [
    "judge=False\n",
    "p = Pool(10)\n",
    "manager=Manager()\n",
    "final_RNAs_inte = manager.dict()\n",
    "for i in RNA2blank.keys():\n",
    "    if not RNA_converter.get(i):\n",
    "        p.apply_async(get_RNA_info, args=(i,final_RNAs_inte))\n",
    "        judge=True\n",
    "p.close()\n",
    "p.join()\n",
    "if judge:\n",
    "    RNA_converter.update(dict(final_RNAs_inte))\n",
    "    pickle.dump(RNA_converter, open('../ncbi/RNA_converter.pkl','wb'))"
   ]
  },
  {
   "cell_type": "code",
   "execution_count": 299,
   "id": "c935154c-317c-4eaf-9f2f-b5111750f399",
   "metadata": {},
   "outputs": [
    {
     "data": {
      "text/plain": [
       "339"
      ]
     },
     "execution_count": 299,
     "metadata": {},
     "output_type": "execute_result"
    }
   ],
   "source": [
    "len(RNA_converter)"
   ]
  },
  {
   "cell_type": "code",
   "execution_count": 300,
   "id": "f7230489-f864-4eaa-9ba8-66c2fdfb40ac",
   "metadata": {},
   "outputs": [],
   "source": [
    "for i in range(len(RNA_list_raw)):\n",
    "    RNA_list_raw[i]=dict(RNA_list_raw[i],**RNA_converter.get(RNA_list_raw[i].get('entity')))"
   ]
  },
  {
   "cell_type": "code",
   "execution_count": 301,
   "id": "68ff624a-77fd-4767-9487-37cd1b997048",
   "metadata": {},
   "outputs": [],
   "source": [
    "import time\n",
    "import datetime\n",
    "import re\n",
    "dropout=[]\n",
    "months=['Jan','Feb','Mar','Apr','May','Jun','Jul','Aug','Sep','Oct','Nov','Dec']\n",
    "import re\n",
    "\n",
    "for i in RNA_list_raw:\n",
    "    j=i.get('DP')\n",
    "    if re.search('[S,s]upplement',j,flags=re.M|re.I):\n",
    "        j=re.sub('[S,s]upplement.*','',j,flags=re.M|re.I)\n",
    "    j=re.sub('\\s?-\\s?','-',j)\n",
    "    j=re.sub('\\.','',j)\n",
    "    j=re.sub('Aout','Aug',j)\n",
    "    if len(j.split(' '))==3:\n",
    "        try:\n",
    "            date=int(datetime.datetime.strftime(datetime.datetime.strptime(j,'%Y %b %d'), '%Y%m%d'))\n",
    "        except:\n",
    "            if j.split()[1] in months:\n",
    "                if re.search(r'\\d+',j.split()[2],flags=re.M|re.I):\n",
    "                    j=j.split()[0]+' '+j.split()[1]+' '+ re.search(r'\\d+',j.split()[2],flags=re.M|re.I).group()\n",
    "                    try:\n",
    "                        date=int(datetime.datetime.strftime(datetime.datetime.strptime(j,'%Y %b %d'), '%Y%m%d'))\n",
    "                    except:\n",
    "                        j=j[:4]\n",
    "                        date=int(datetime.datetime.strftime(datetime.datetime.strptime(j,'%Y'), '%Y'+'0101'))\n",
    "                        print('***************************************ERROR**********************************************')\n",
    "                else:\n",
    "                    j=j.split()[0]+' '+j.split()[1]+' '+ '1'\n",
    "                    try:\n",
    "                        date=int(datetime.datetime.strftime(datetime.datetime.strptime(j,'%Y %b %d'), '%Y%m%d'))\n",
    "                    except:\n",
    "                        print(j)\n",
    "                        j=j[:4]\n",
    "                        date=int(datetime.datetime.strftime(datetime.datetime.strptime(j,'%Y'), '%Y'+'0101'))\n",
    "            elif j.split()[1] not in months:\n",
    "                if re.search(r'([a-zA-Z]+)[-/]([a-zA-Z]+)',j.split()[1],flags=re.M|re.I) or re.search(r'([a-zA-Z]+)[-/](\\d+)',j.split()[1],flags=re.M|re.I):\n",
    "                    if re.search(r'([a-zA-Z]+)[-/]([a-zA-Z]+)',j.split()[1],flags=re.M|re.I):\n",
    "                        middle=re.search(r'([a-zA-Z]+)[-/]([a-zA-Z]+)',j.split()[1],flags=re.M|re.I).group(1)\n",
    "                    else:\n",
    "                        middle=re.search(r'([a-zA-Z]+)[-/](\\d+)',j.split()[1],flags=re.M|re.I).group(1)\n",
    "                    if middle in months:\n",
    "                        if re.search(r'\\d+',j.split()[2],flags=re.M|re.I):\n",
    "                            j=j.split()[0]+' '+middle+' '+ re.search(r'\\d+',j.split()[2],flags=re.M|re.I).group()\n",
    "                        else:\n",
    "                            j=j.split()[0]+' '+middle+' '+ '1'\n",
    "                    elif re.match(r'Sum(mer)?',middle):\n",
    "                        if re.search(r'\\d+',j.split()[2],flags=re.M|re.I):\n",
    "                            j=j.split()[0]+' '+'Jun'+' '+ re.search(r'\\d+',j.split()[2],flags=re.M|re.I).group()\n",
    "                        else:\n",
    "                            j=j.split()[0]+' '+'Jun'+' '+ '1'\n",
    "                    elif re.match(r'Spr(ing)?',middle):\n",
    "                        if re.search(r'\\d+',j.split()[2],flags=re.M|re.I):\n",
    "                            j=j.split()[0]+' '+'Mar'+' '+ re.search(r'\\d+',j.split()[2],flags=re.M|re.I).group()\n",
    "                        else:\n",
    "                            j=j.split()[0]+' '+'Mar'+' '+ '1'\n",
    "                    elif re.match(r'Win(ter)?',middle):\n",
    "                        if re.search(r'\\d+',j.split()[2],flags=re.M|re.I):\n",
    "                            j=j.split()[0]+' '+'Dec'+' '+ re.search(r'\\d+',j.split()[2],flags=re.M|re.I).group()\n",
    "                        else:\n",
    "                            j=j.split()[0]+' '+'Dec'+' '+ '1'    \n",
    "                    elif re.match(r'Aut(umn)?',middle) or \\\n",
    "                    re.match(r'Fall',middle):\n",
    "                        if re.search(r'\\d+',j.split()[2],flags=re.M|re.I):\n",
    "                            j=j.split()[0]+' '+'Sep'+' '+ re.search(r'\\d+',j.split()[2],flags=re.M|re.I).group()\n",
    "                        else:\n",
    "                            j=j.split()[0]+' '+'Sep'+' '+ '1'      \n",
    "                    try:\n",
    "                        date=int(datetime.datetime.strftime(datetime.datetime.strptime(j,'%Y %b %d'), '%Y%m%d'))\n",
    "                    except:\n",
    "                        print(j)\n",
    "                        j=j[:4]\n",
    "                        date=int(datetime.datetime.strftime(datetime.datetime.strptime(j,'%Y'), '%Y'+'0101'))\n",
    "                else:\n",
    "                    j=j[:4]\n",
    "                    date=int(datetime.datetime.strftime(datetime.datetime.strptime(j,'%Y'), '%Y'+'0101'))\n",
    "    elif len(j.split())==2:\n",
    "        if re.match(r'Sum(mer)?',j.split()[1]):\n",
    "            date=int(j[:4]+'0601')\n",
    "        elif re.match(r'Spr(ing)?',j.split()[1]):\n",
    "            date=int(j[:4]+'0301')\n",
    "        elif re.match(r'Win(ter)?',j.split()[1]):\n",
    "            date=int(j[:4]+'1201')\n",
    "        elif re.match(r'Aut(umn)?',j.split()[1]) or re.match(r'Fall',j.split()[1]):\n",
    "            date=int(j[:4]+'0901')\n",
    "        elif re.match(r'Sum(mer)?',j.split()[0]):\n",
    "            date=int(j[-4:]+'0601')\n",
    "        elif re.match(r'Spr(ing)?',j.split()[0]):\n",
    "            date=int(j[-4:]+'0301')\n",
    "        elif re.match(r'Win(ter)?',j.split()[0]):\n",
    "            date=int(j[-4:]+'1201')\n",
    "        elif re.match(r'Aut(umn)?',j.split()[0]) or re.match(r'Fall',j.split()[0]):\n",
    "            date=int(j[-4:]+'0901')\n",
    "        else:\n",
    "            try:\n",
    "                date=int(datetime.datetime.strftime(datetime.datetime.strptime(j,'%Y %b'), '%Y%m'+'01'))\n",
    "            except:\n",
    "                if re.search(r'([a-zA-Z]+)[-/]([a-zA-Z]+)',j.split()[1],flags=re.M|re.I) or re.search(r'([a-zA-Z]+)[-/](\\d+)',j.split()[1],flags=re.M|re.I):\n",
    "                    if re.search(r'([a-zA-Z]+)[-/]([a-zA-Z]+)',j.split()[1],flags=re.M|re.I):\n",
    "                        middle=re.search(r'([a-zA-Z]+)[-/]([a-zA-Z]+)',j.split()[1],flags=re.M|re.I).group(1)\n",
    "                    else:\n",
    "                        middle=re.search(r'([a-zA-Z]+)[-/](\\d+)',j.split()[1],flags=re.M|re.I).group(1)\n",
    "                    if middle in months:\n",
    "                        j=j.split()[0]+' '+middle+' '+ '1'\n",
    "                    elif re.match(r'Sum(mer)?',middle):\n",
    "                        j=j.split()[0]+' '+'Jun'+' '+ '1'\n",
    "                    elif re.match(r'Spr(ing)?',middle):\n",
    "                        j=j.split()[0]+' '+'Mar'+' '+ '1'\n",
    "                    elif re.match(r'Win(ter)?',middle):\n",
    "                        j=j.split()[0]+' '+'Dec'+' '+ '1'    \n",
    "                    elif re.match(r'Aut(umn)?',middle) or \\\n",
    "                    re.match(r'Fall',middle):\n",
    "                        j=j.split()[0]+' '+'Sep'+' '+ '1'      \n",
    "                    try:\n",
    "                        date=int(datetime.datetime.strftime(datetime.datetime.strptime(j,'%Y %b %d'), '%Y%m%d'))\n",
    "                    except:\n",
    "                        j=j[:4]\n",
    "                        date=int(datetime.datetime.strftime(datetime.datetime.strptime(j,'%Y'), '%Y'+'0101'))\n",
    "                elif re.search(r'(\\d+)[-/](\\d+)',j.split()[1],flags=re.M|re.I):\n",
    "                    midd=re.search(r'(\\d+)[-/](\\d+)',j.split()[1],flags=re.M|re.I).group(1)\n",
    "                    if len(midd)!=2:\n",
    "                        midd='0'+midd\n",
    "                    j=j[:4]\n",
    "                    date=int(datetime.datetime.strftime(datetime.datetime.strptime(j,'%Y'), '%Y'+midd+'01'))\n",
    "                else:\n",
    "                    print(j)\n",
    "                    j=j[:4]\n",
    "                    date=int(datetime.datetime.strftime(datetime.datetime.strptime(j,'%Y'), '%Y'+'0101'))\n",
    "    elif len(j.split())==1:\n",
    "        j=j[:4]\n",
    "        date=int(datetime.datetime.strftime(datetime.datetime.strptime(j,'%Y'), '%Y'+'0101'))\n",
    "    else:\n",
    "        j=j.split()[0]+' '+j.split()[1]+' '+re.search(r'\\d+',j.split()[2],flags=re.M|re.I).group()\n",
    "        date=int(datetime.datetime.strftime(datetime.datetime.strptime(j,'%Y %b %d'), '%Y%m%d'))\n",
    "    i['date']=date\n",
    "    i['year']=int(str(i.get('date'))[:4])"
   ]
  },
  {
   "cell_type": "code",
   "execution_count": 302,
   "id": "e1d1118a-64f0-4b9f-83e0-ebde9ca35142",
   "metadata": {},
   "outputs": [
    {
     "data": {
      "text/plain": [
       "{'id': '36460954',\n",
       " 'AB': 'BACKGROUND: Cardiovascular disease was the most common disease among the elderly with high morbidity and mortality. Circ_0004104 was demonstrated to be involved in the regulation of atherosclerosis. METHODS: Quantitative real-time polymerase chain reaction was employed to measure the expression of circ_0004104, miR-942-5p and Rho associated coiled-coil containing protein kinase 2 (ROCK2). Cell proliferation was tested by 3-(4,5-dimethyl-2-thiazolyl)-2,5-diphenyl-2-H-tetrazolium bromide (MTT) assay. Cell apoptosis was measured by flow cytometry, and tube formation assay was used to detect the angiogenesis ability of cells. Western blot assay was performed to assess protein levels. Enzyme-linked immunosorbent assay was used to detect the release of IL-1beta and TNF-alpha. The relationship between miR-942-5p and circ_0004104 or ROCK2 was identified by dual-luciferase reporter assay, RNA immunoprecipitation (RIP) assay, and RNA pull-down assay. RESULTS: Oxidized low-density lipoprotein (ox-LDL) inhibited the proliferation of human umbilical vein endothelial cells (HUVECs) and promoted apoptosis in a dose-dependent manner. Circ_0004104 was increased in serum of atherosclerosis patients and ox-LDL-treated HUVECs, and silence of circ_0004104 promoted the proliferation of ox-LDL-exposed HUVECs and inhibited cell apoptosis. MiR-942-5p downregulation reversed si-circ_0004104-mediated influences in HUVECs upon ox-LDL exposure. ROCK2 was the target of miR-942-5p and circ_0004104 regulated the expression of ROCK2 through sponging miR-942-5p. ROCK2 abated the influences of miR-942-5p in ox-LDL-stimulated HUVECs. Circ_0004104 was increased in the exosomes derived from ox-LDL-exposed HUVECs, and the expression of circ_0004104 was promoted in HUVECs after stimulation with ox-LDL-treated HUVECs cells-derived exosomes. CONCLUSION: Circ_0004104 downregulation receded ox-LDL-induced injury in HUVECs through miR-942-5p and ROCK2.',\n",
       " 'type': 'RNA',\n",
       " 'identifier': '100126331',\n",
       " 'text': 'miR-942',\n",
       " 'sentence': 'METHODS: Quantitative real-time polymerase chain reaction was employed to measure the expression of circ_0004104, miR-942-5p and Rho associated coiled-coil containing protein kinase 2 (ROCK2).',\n",
       " 'sentenceSize': 15,\n",
       " 'sentenceIndex': 2,\n",
       " 'addtime': '2022_12_09',\n",
       " '_id': ObjectId('639369f87aeeb1f33fdb54f3'),\n",
       " 'entity': 'MIR942',\n",
       " 'ner': 'HALD_MICRORNA',\n",
       " 'specific_type': 'MICRORNA',\n",
       " 'PMID': '36460954',\n",
       " 'word': 'miR-942',\n",
       " 'DP': '2022 Dec 2',\n",
       " 'JT': 'BMC cardiovascular disorders',\n",
       " 'URL': 'https://pubmed.ncbi.nlm.nih.gov/36460954',\n",
       " 'TI': 'Circ_0004104 participates in the regulation of ox-LDL-induced endothelial cells injury via miR-942-5p/ROCK2 axis.',\n",
       " 'target': 'miR-942',\n",
       " 'Official_Symbol': 'MIR942',\n",
       " 'Official_Full_Name': 'microRNA 942',\n",
       " 'HGNC_ID': 'HGNC:HGNC:33688',\n",
       " 'HGNC_URL': 'https://www.genenames.org/data/gene-symbol-report/#!/hgnc_id/HGNC:33688',\n",
       " 'Ensembl_ID': 'Ensembl:ENSG00000215930',\n",
       " 'Ensembl_URL': 'http://www.ensembl.org/id/ENSG00000215930',\n",
       " 'MIM_ID': 'miRBase:MI0005767;',\n",
       " 'MIM_URL': 'http://www.mirbase.org/cgi-bin/mirna_entry.pl?acc=MI0005767',\n",
       " 'AllianceGenome_ID': 'AllianceGenome:HGNC:33688',\n",
       " 'AllianceGenome_URL': 'https://www.alliancegenome.org/gene/HGNC:33688',\n",
       " 'NCBI_ID': '100126331',\n",
       " 'NCBI_URL': 'https://www.ncbi.nlm.nih.gov/gene/100126331',\n",
       " 'Also_known_as': 'MIRN942; mir-942; hsa-mir-942',\n",
       " 'Summary': 'microRNAs (miRNAs) are short (20-24 nt) non-coding RNAs that are involved in post-transcriptional regulation of gene expression in multicellular organisms by affecting both the stability and translation of mRNAs. miRNAs are transcribed by RNA polymerase II as part of capped and polyadenylated primary transcripts (pri-miRNAs) that can be either protein-coding or non-coding. The primary transcript is cleaved by the Drosha ribonuclease III enzyme to produce an approximately 70-nt stem-loop precursor miRNA (pre-miRNA), which is further cleaved by the cytoplasmic Dicer ribonuclease to generate the mature miRNA and antisense miRNA star (miRNA*) products. The mature miRNA is incorporated into a RNA-induced silencing complex (RISC), which recognizes target mRNAs through imperfect base pairing with the miRNA and most commonly results in translational inhibition or destabilization of the target mRNA. The RefSeq represents the predicted microRNA stem-loop. [provided by RefSeq, Sep 2009]',\n",
       " 'date': 20221202,\n",
       " 'year': 2022}"
      ]
     },
     "execution_count": 302,
     "metadata": {},
     "output_type": "execute_result"
    }
   ],
   "source": [
    "RNA_list_raw[0]"
   ]
  },
  {
   "cell_type": "code",
   "execution_count": 303,
   "id": "22438c0b-fdba-4f55-93b7-9733c55b43d9",
   "metadata": {},
   "outputs": [],
   "source": [
    "for i in RNA_list_raw:\n",
    "    i['addtime']=now_time"
   ]
  },
  {
   "cell_type": "code",
   "execution_count": 322,
   "id": "6e1fb0cf-13cc-435b-8a3e-f3f7831880cb",
   "metadata": {},
   "outputs": [],
   "source": [
    "for i,j in RNA_converter.items():\n",
    "    if j.get('Summary') and j.get('Summary')[0]=='\\n':\n",
    "        print(i)"
   ]
  },
  {
   "cell_type": "markdown",
   "id": "27add949-fe3e-4d3d-b4ae-45e47c4c6766",
   "metadata": {},
   "source": [
    "collections_RNA_raw.remove({'addtime':now_time})"
   ]
  },
  {
   "cell_type": "code",
   "execution_count": 305,
   "id": "97a360d4-f85e-46e1-b2d9-9436a7781acf",
   "metadata": {},
   "outputs": [],
   "source": [
    "if len(RNA_list_raw)!=0:\n",
    "    collections_RNA_raw.insert_many(RNA_list_raw)"
   ]
  },
  {
   "cell_type": "markdown",
   "id": "5ee2acbd-a81b-4f55-9167-ba5ded2d3c7a",
   "metadata": {},
   "source": [
    "collections_RNA_raw.remove({'addtime':now_time})"
   ]
  },
  {
   "cell_type": "code",
   "execution_count": 307,
   "id": "ad2f1293-d79e-4211-8a59-b8c394377880",
   "metadata": {},
   "outputs": [],
   "source": [
    "for i in RNA_raw_list:\n",
    "    if RNA_converter.get(i.get('entity')).get('Summary'):\n",
    "        i['Summary']=RNA_converter.get(i.get('entity')).get('Summary')\n",
    "    else:\n",
    "        i['Summary']=''"
   ]
  },
  {
   "cell_type": "code",
   "execution_count": 325,
   "id": "79c3efdd-9a45-4351-84f8-6a8c6a2ad9c1",
   "metadata": {},
   "outputs": [],
   "source": [
    "for j in RNA_all:\n",
    "    if j.get('Summary') and j.get('Summary')[0]=='\\n':\n",
    "        print(i)"
   ]
  },
  {
   "cell_type": "code",
   "execution_count": 308,
   "id": "c09b0be7-6b04-43f0-aafb-cec151c75ec0",
   "metadata": {},
   "outputs": [
    {
     "data": {
      "text/plain": [
       "2492"
      ]
     },
     "execution_count": 308,
     "metadata": {},
     "output_type": "execute_result"
    }
   ],
   "source": [
    "len(RNA_raw_list)"
   ]
  },
  {
   "cell_type": "code",
   "execution_count": 309,
   "id": "92b644bd-bd21-4494-85fc-10376d697fe9",
   "metadata": {},
   "outputs": [],
   "source": [
    "collections_RNA_raw.drop()"
   ]
  },
  {
   "cell_type": "code",
   "execution_count": 310,
   "id": "eb064527-5a6c-4284-99a0-373b2320f7fb",
   "metadata": {},
   "outputs": [
    {
     "data": {
      "text/plain": [
       "<pymongo.results.InsertManyResult at 0x7fa72e32e640>"
      ]
     },
     "execution_count": 310,
     "metadata": {},
     "output_type": "execute_result"
    }
   ],
   "source": [
    "collections_RNA_raw.insert_many(RNA_raw_list)"
   ]
  },
  {
   "cell_type": "markdown",
   "id": "63b129fb-0219-421d-9059-fe472febcb90",
   "metadata": {
    "tags": []
   },
   "source": [
    "# RNA_all"
   ]
  },
  {
   "cell_type": "code",
   "execution_count": 421,
   "id": "a6115848-27ef-4ddd-9704-fee6a8482bf0",
   "metadata": {},
   "outputs": [],
   "source": [
    "collections_RNA_all=db.RNA_all"
   ]
  },
  {
   "cell_type": "code",
   "execution_count": 438,
   "id": "991c82e9-c93b-4454-8ed1-3944d2160356",
   "metadata": {},
   "outputs": [],
   "source": [
    "RNA_raw_list=list(collections_RNA_raw.find())"
   ]
  },
  {
   "cell_type": "code",
   "execution_count": 439,
   "id": "64699806-bd6b-40dd-b7cf-fdd1570fcad9",
   "metadata": {},
   "outputs": [],
   "source": [
    "for i in RNA_raw_list:\n",
    "    i['type']='RNA'\n",
    "    i[\"PMID\"]=[i.get(\"PMID\")]\n",
    "    i[\"sentence\"]=[[i.get(\"sentence\")]]\n",
    "    pmid=i.get('PMID')[0]\n",
    "    i['DP']=[i.get(\"DP\")]\n",
    "    i['AB']=[i.get(\"AB\")]\n",
    "    i['URL']='https://pubmed.ncbi.nlm.nih.gov/'+pmid\n",
    "    i['TI']=[i.get(\"TI\")]\n",
    "    i['target']=[[i.get('word')]]\n",
    "    i[\"date\"]=[i.get(\"date\")]\n",
    "    i[\"year\"]=[i.get(\"year\")]\n",
    "    i['JT']=[i.get('JT')]"
   ]
  },
  {
   "cell_type": "code",
   "execution_count": 440,
   "id": "9643ad0d-ad78-4ec0-ae0c-185a6ad57097",
   "metadata": {},
   "outputs": [],
   "source": [
    "RNA_mid={}\n",
    "for i in RNA_raw_list:\n",
    "    if not RNA_mid.get(i.get(\"entity\")):\n",
    "        RNA_mid[i.get(\"entity\")]=i\n",
    "    else:\n",
    "        if i.get('PMID')[0] in RNA_mid.get(i.get('entity')).get('PMID'):\n",
    "\n",
    "            ind=RNA_mid.get(i.get('entity')).get('PMID').index(i.get('PMID')[0])\n",
    "            if i.get(\"sentence\")[0][0] in RNA_mid.get(i.get('entity')).get('sentence')[ind]:\n",
    "                continue\n",
    "            else:\n",
    "                RNA_mid[i.get('entity')]['sentence'][ind] = RNA_mid.get(i.get('entity')).get('sentence')[ind] + i.get(\"sentence\")[0]\n",
    "                RNA_mid[i.get('entity')]['target'][ind] = RNA_mid.get(i.get('entity')).get('target')[ind] + i.get(\"target\")[0]\n",
    "\n",
    "        else:\n",
    "            RNA_mid[i.get(\"entity\")][\"PMID\"]=RNA_mid.get(i.get(\"entity\")).get(\"PMID\")+i.get(\"PMID\")\n",
    "            RNA_mid[i.get(\"entity\")][\"sentence\"]=RNA_mid.get(i.get(\"entity\")).get(\"sentence\")+i.get(\"sentence\")\n",
    "            RNA_mid[i.get(\"entity\")][\"AB\"]=RNA_mid.get(i.get(\"entity\")).get(\"AB\")+i.get(\"AB\")\n",
    "            RNA_mid[i.get(\"entity\")][\"DP\"]=RNA_mid.get(i.get(\"entity\")).get(\"DP\")+i.get(\"DP\")\n",
    "            RNA_mid[i.get(\"entity\")][\"TI\"]=RNA_mid.get(i.get(\"entity\")).get(\"TI\")+i.get(\"TI\")\n",
    "            RNA_mid[i.get(\"entity\")][\"target\"]=RNA_mid.get(i.get(\"entity\")).get(\"target\")+i.get(\"target\")\n",
    "            RNA_mid[i.get(\"entity\")][\"date\"]=RNA_mid.get(i.get(\"entity\")).get(\"date\")+i.get(\"date\")\n",
    "            RNA_mid[i.get(\"entity\")][\"year\"]=RNA_mid.get(i.get(\"entity\")).get(\"year\")+i.get(\"year\")\n",
    "            RNA_mid[i.get(\"entity\")][\"JT\"]=RNA_mid.get(i.get(\"entity\")).get(\"JT\")+i.get(\"JT\")"
   ]
  },
  {
   "cell_type": "code",
   "execution_count": 441,
   "id": "379ef290-bfa7-49da-948a-381379a9fe38",
   "metadata": {},
   "outputs": [],
   "source": [
    "RNA_output_json_final=list(RNA_mid.values())"
   ]
  },
  {
   "cell_type": "code",
   "execution_count": 442,
   "id": "5cdd45f0-bcb3-47c3-957f-1a92e8e572df",
   "metadata": {},
   "outputs": [
    {
     "data": {
      "text/plain": [
       "339"
      ]
     },
     "execution_count": 442,
     "metadata": {},
     "output_type": "execute_result"
    }
   ],
   "source": [
    "len(RNA_output_json_final)"
   ]
  },
  {
   "cell_type": "code",
   "execution_count": 443,
   "id": "44ba6a3c-00dc-4bb7-a109-d4052aed432e",
   "metadata": {},
   "outputs": [],
   "source": [
    "for i in RNA_output_json_final:\n",
    "    i['allyears']=[]\n",
    "    i['datestring']=[]\n",
    "    for j in i.get('date'):\n",
    "        if int(str(j)[:4]) not in i.get('allyears'):\n",
    "            i['allyears']= i.get('allyears')+[int(str(j)[:4])]\n",
    "    for j in i.get('date'):\n",
    "        if str(j)[:4]+\"-\"+str(j)[4:6]+\"-\"+str(j)[6:] not in i.get('datestring'):\n",
    "            i['datestring']=i.get('datestring')+[str(j)[:4]+\"-\"+str(j)[4:6]+\"-\"+str(j)[6:]]\n",
    "    i['allyears']=sorted(i.get('allyears'), reverse=True)\n",
    "    i['datestring']=sorted(i.get('datestring'), reverse=True)\n",
    "    upperlist=set()\n",
    "    for j in sum(i.get('target'),[]):\n",
    "        upperlist.add(j.upper())\n",
    "    i['targetshapes']=list(upperlist)\n",
    "    i['addtime']=now_time"
   ]
  },
  {
   "cell_type": "markdown",
   "id": "e6538820-33b6-4c37-8583-933d9ac88b76",
   "metadata": {},
   "source": [
    "collections_RNA_all.drop()"
   ]
  },
  {
   "cell_type": "code",
   "execution_count": 444,
   "id": "a61c47b4-f6ba-44e7-b6d0-e9d23530476b",
   "metadata": {},
   "outputs": [],
   "source": [
    "RNA_all=copy.deepcopy(RNA_output_json_final)"
   ]
  },
  {
   "cell_type": "code",
   "execution_count": 168,
   "id": "461fc89f-bf37-43e4-b5e3-7027b2f9d93a",
   "metadata": {},
   "outputs": [],
   "source": [
    "# collections_RNA_all.insert_many(RNA_all)"
   ]
  },
  {
   "cell_type": "code",
   "execution_count": 169,
   "id": "c0de5a98-0f03-4204-a205-53f491a42da0",
   "metadata": {},
   "outputs": [],
   "source": [
    "# json.dump(RNA_all_copy,open('results/RNA_all.json','w'))"
   ]
  },
  {
   "cell_type": "code",
   "execution_count": null,
   "id": "560e5a5a-5f5c-452a-bd01-b8ebb5d6412a",
   "metadata": {},
   "outputs": [],
   "source": []
  },
  {
   "cell_type": "markdown",
   "id": "5e1b98a0-7521-4ba2-9003-dcd03032e462",
   "metadata": {},
   "source": [
    "# chemical_raw"
   ]
  },
  {
   "cell_type": "code",
   "execution_count": 170,
   "id": "b3349195-fcbb-45ca-b2c1-d2be889e0f9a",
   "metadata": {},
   "outputs": [],
   "source": [
    "chemical_pubtator_addpmid={}\n",
    "for i in pubtator_raw:\n",
    "    if i.get('type')=='Chemical':\n",
    "        if chemical_pubtator_addpmid.get(i.get('id')):\n",
    "            chemical_pubtator_addpmid[i.get('id')]=chemical_pubtator_addpmid.get(i.get('id'))+[i]\n",
    "        else:\n",
    "            chemical_pubtator_addpmid[i.get('id')]=[i]"
   ]
  },
  {
   "cell_type": "code",
   "execution_count": 171,
   "id": "83d6ca7b-9265-405e-b661-cc61f3a2f270",
   "metadata": {},
   "outputs": [
    {
     "name": "stdout",
     "output_type": "stream",
     "text": [
      "1592\n"
     ]
    }
   ],
   "source": [
    "print(len(chemical_pubtator_addpmid))"
   ]
  },
  {
   "cell_type": "code",
   "execution_count": 172,
   "id": "8155970c-6518-4def-9870-1fe869ca5431",
   "metadata": {},
   "outputs": [],
   "source": [
    "chemical_output_jsons=list(chemical_pubtator_addpmid.values())"
   ]
  },
  {
   "cell_type": "code",
   "execution_count": 173,
   "id": "5f3aac0a-3cd0-4c54-8b03-b3b23f996b2d",
   "metadata": {},
   "outputs": [],
   "source": [
    "chemical_output_json=[]\n",
    "for i in chemical_output_jsons:\n",
    "    for j in i:\n",
    "        chemical_output_json.append(j)"
   ]
  },
  {
   "cell_type": "code",
   "execution_count": 174,
   "id": "65d40c25-b111-4f4b-acf5-e666e731c2bb",
   "metadata": {},
   "outputs": [],
   "source": [
    "chemical_raw=copy.deepcopy(chemical_output_json)"
   ]
  },
  {
   "cell_type": "code",
   "execution_count": 175,
   "id": "94378fee-27c9-456b-82cb-7387010e99a4",
   "metadata": {},
   "outputs": [
    {
     "data": {
      "text/plain": [
       "'/root/hald_autoupdate/2022_12_09'"
      ]
     },
     "execution_count": 175,
     "metadata": {},
     "output_type": "execute_result"
    }
   ],
   "source": [
    "pwd"
   ]
  },
  {
   "cell_type": "code",
   "execution_count": 176,
   "id": "38c5944d-7d78-48d1-8eaa-c7e9f0df6015",
   "metadata": {},
   "outputs": [],
   "source": [
    "pairs=['Toxin','Peptide','Lipid','Protein','Carbohydrate','Pharmaceutical Preparations']"
   ]
  },
  {
   "cell_type": "code",
   "execution_count": 177,
   "id": "151e74c2-679d-472e-b7cb-b8fa4fc17aef",
   "metadata": {},
   "outputs": [],
   "source": [
    "names=locals()"
   ]
  },
  {
   "cell_type": "code",
   "execution_count": 178,
   "id": "eee23a65-5fb7-4c80-8b69-49e4a96c8a1a",
   "metadata": {},
   "outputs": [],
   "source": [
    "alllist=[]\n",
    "for j in pairs:\n",
    "    names[j.replace(' ','_').lower()]=pickle.load(open('../chemical/'+j.replace(' ','_')+'/'+j.replace(' ','_')+'.pkl','rb'))\n",
    "    alllist+=names[j.replace(' ','_').lower()][1:]"
   ]
  },
  {
   "cell_type": "code",
   "execution_count": 719,
   "id": "14324647-89e9-4571-b4db-258cb27dadcf",
   "metadata": {},
   "outputs": [
    {
     "data": {
      "text/plain": [
       "{'text': 'Bacterial Toxins',\n",
       " 'url': '/mesh/68001427',\n",
       " 'MeSHUniqueID': 'D001427',\n",
       " 'type': 'Toxin'}"
      ]
     },
     "execution_count": 719,
     "metadata": {},
     "output_type": "execute_result"
    }
   ],
   "source": [
    "alllist[0]"
   ]
  },
  {
   "cell_type": "code",
   "execution_count": 179,
   "id": "cab37bcc-4016-420f-b78a-2783f24dc371",
   "metadata": {},
   "outputs": [],
   "source": [
    "for i in alllist:\n",
    "    if not i.get('MeSHUniqueID'):\n",
    "        i['MeSHUniqueID']='D'+i.get('url')[-6:]"
   ]
  },
  {
   "cell_type": "code",
   "execution_count": 180,
   "id": "56816ce7-6e4a-4b43-84cd-8140d79a7a9c",
   "metadata": {},
   "outputs": [],
   "source": [
    "chemicallist=[]\n",
    "MESHlist=[]\n",
    "notchemicallist=[]\n",
    "MESHurl=[]\n",
    "for i in alllist:\n",
    "    if i.get('MeSHUniqueID'):\n",
    "        chemicallist.append({'MESH':'MESH:'+i.get('MeSHUniqueID'),'type':i.get('type'),'url':i.get('url'),'text':i.get('text')})\n",
    "        MESHlist.append('MESH:'+i.get('MeSHUniqueID'))\n",
    "        MESHurl.append(i.get('url'))\n",
    "    else:\n",
    "        notchemicallist.append(i)"
   ]
  },
  {
   "cell_type": "code",
   "execution_count": 722,
   "id": "76de29f2-453d-49fd-975c-fc22cf6e488d",
   "metadata": {},
   "outputs": [
    {
     "data": {
      "text/plain": [
       "0"
      ]
     },
     "execution_count": 722,
     "metadata": {},
     "output_type": "execute_result"
    }
   ],
   "source": [
    "len(notchemicallist)"
   ]
  },
  {
   "cell_type": "code",
   "execution_count": 181,
   "id": "b3009b16-cc11-4cea-a3a1-e0395e93ed7e",
   "metadata": {},
   "outputs": [],
   "source": [
    "chemical2classdict={}\n",
    "count=0\n",
    "for i in chemicallist:\n",
    "    if not chemical2classdict.get(i.get('MESH')):\n",
    "        chemical2classdict[i.get('MESH')]=[i.get('type')]\n",
    "    else:\n",
    "        if i.get('type') in chemical2classdict.get(i.get('MESH')):\n",
    "            pass\n",
    "        else:\n",
    "            chemical2classdict[i.get('MESH')]=chemical2classdict.get(i.get('MESH'))+[i.get('type')]\n",
    "            count+=1"
   ]
  },
  {
   "cell_type": "code",
   "execution_count": 182,
   "id": "d1111f96-c71b-4082-8a75-2325aab78db1",
   "metadata": {},
   "outputs": [],
   "source": [
    "chemical2subclassdict={}\n",
    "for i in chemicallist:\n",
    "    chemical2subclassdict[i.get('MESH')]=i.get('text')"
   ]
  },
  {
   "cell_type": "code",
   "execution_count": 183,
   "id": "07792f06-115a-47a0-94e2-7e572a342a5d",
   "metadata": {},
   "outputs": [],
   "source": [
    "chemical2urldict={}\n",
    "for i in chemicallist:\n",
    "    chemical2urldict[i.get('MESH')]=i.get('url')"
   ]
  },
  {
   "cell_type": "code",
   "execution_count": 184,
   "id": "2860def6-123f-4ee3-ae23-2e8ba8ff30da",
   "metadata": {},
   "outputs": [],
   "source": [
    "for i in chemical_raw:\n",
    "    i['PMID']=i.get('id')\n",
    "    i['word']=i.get('text')\n",
    "    del i['id']\n",
    "    del i['text']"
   ]
  },
  {
   "cell_type": "code",
   "execution_count": 760,
   "id": "a4a75d6b-c4bc-4be6-a7ee-3874e28aa3e8",
   "metadata": {},
   "outputs": [],
   "source": [
    "chemical_final=[]\n",
    "chemical_mid=[]\n",
    "chemical_dropout=[]"
   ]
  },
  {
   "cell_type": "code",
   "execution_count": 761,
   "id": "1a51b05c-919b-46cb-a02f-63ba69f89af5",
   "metadata": {},
   "outputs": [],
   "source": [
    "multi_chemical_type={}\n",
    "for i in chemical_raw:\n",
    "    if chemical2classdict.get(i.get('identifier')):\n",
    "        chemical_final.append(dict(i,**{'class':chemical2classdict.get(i.get('identifier')),'subclass':chemical2subclassdict.get(i.get('identifier')),'url':chemical2urldict.get(i.get('identifier'))}))\n",
    "        for j in chemical2classdict.get(i.get('identifier')):\n",
    "            if len(chemical2classdict.get(i.get('identifier')))>1:\n",
    "                if multi_chemical_type.get(chemical2subclassdict.get(i.get('identifier'))):\n",
    "                    if j not in multi_chemical_type.get(chemical2subclassdict.get(i.get('identifier'))):\n",
    "                        multi_chemical_type[chemical2subclassdict.get(i.get('identifier'))]=multi_chemical_type.get(chemical2subclassdict.get(i.get('identifier')))+[j]\n",
    "                else:\n",
    "                    multi_chemical_type[chemical2subclassdict.get(i.get('identifier'))]=[j]\n",
    "    else:\n",
    "        chemical_dropout.append(i)"
   ]
  },
  {
   "cell_type": "code",
   "execution_count": 762,
   "id": "4d8ee9e8-24a7-4aa4-902e-46d5f3ff6bc2",
   "metadata": {},
   "outputs": [
    {
     "data": {
      "text/plain": [
       "1012"
      ]
     },
     "execution_count": 762,
     "metadata": {},
     "output_type": "execute_result"
    }
   ],
   "source": [
    "# 1012\n",
    "len(chemical_final)"
   ]
  },
  {
   "cell_type": "code",
   "execution_count": 763,
   "id": "7f67d156-cae2-47f9-91d5-c03e6e116c47",
   "metadata": {},
   "outputs": [
    {
     "data": {
      "text/plain": [
       "{'Vancomycin': ['Peptide', 'Carbohydrate'],\n",
       " 'Ceramides': ['Lipid', 'Carbohydrate'],\n",
       " 'Angiotensins': ['Peptide', 'Protein'],\n",
       " 'Lipopolysaccharides': ['Toxin', 'Lipid', 'Carbohydrate'],\n",
       " 'Sphingomyelins': ['Lipid', 'Carbohydrate'],\n",
       " 'Bleomycin': ['Peptide', 'Carbohydrate'],\n",
       " 'O Antigens': ['Toxin', 'Lipid', 'Carbohydrate']}"
      ]
     },
     "execution_count": 763,
     "metadata": {},
     "output_type": "execute_result"
    }
   ],
   "source": [
    "multi_chemical_type"
   ]
  },
  {
   "cell_type": "markdown",
   "id": "3658dfc3-d0f6-4010-b98a-b9093d6dba37",
   "metadata": {},
   "source": [
    "for i in chemical_raw:\n",
    "    if i.get('identifier') in chemical2classdict.keys():\n",
    "        chemical_final.append(dict(i,**{'class':chemical2classdict.get(i.get('identifier')),'subclass':chemical2subclassdict.get(i.get('identifier')),'url':chemical2urldict.get(i.get('identifier'))}))\n",
    "    else:\n",
    "        chemical_dropout.append(i)"
   ]
  },
  {
   "cell_type": "code",
   "execution_count": 764,
   "id": "571672b0-a1c7-4528-b1e2-f2be66fc8b96",
   "metadata": {},
   "outputs": [
    {
     "data": {
      "text/plain": [
       "6433"
      ]
     },
     "execution_count": 764,
     "metadata": {},
     "output_type": "execute_result"
    }
   ],
   "source": [
    "len(chemical_dropout)"
   ]
  },
  {
   "cell_type": "code",
   "execution_count": 765,
   "id": "d53ae0eb-3a22-4a37-81a9-9e3bd453d960",
   "metadata": {},
   "outputs": [
    {
     "name": "stdout",
     "output_type": "stream",
     "text": [
      "15\n",
      "62\n",
      "482\n",
      "96\n",
      "409\n",
      "0\n"
     ]
    }
   ],
   "source": [
    "for j in pairs:\n",
    "    names[j.replace(' ','_')+'list']=[]\n",
    "    for i in chemical_final:\n",
    "        if j in i.get('class'):\n",
    "            names[j.replace(' ','_')+'list'].append(i)\n",
    "    print(len(names[j.replace(' ','_')+'list']))"
   ]
  },
  {
   "cell_type": "code",
   "execution_count": 766,
   "id": "1f132fba-209c-48d3-9442-178bb37ebedf",
   "metadata": {},
   "outputs": [
    {
     "data": {
      "text/plain": [
       "1064"
      ]
     },
     "execution_count": 766,
     "metadata": {},
     "output_type": "execute_result"
    }
   ],
   "source": [
    "15+62+482+96+409"
   ]
  },
  {
   "cell_type": "code",
   "execution_count": 767,
   "id": "89a2d05e-acfc-46e6-8e42-605a9c1afdbf",
   "metadata": {},
   "outputs": [],
   "source": [
    "chemical_deduplicated=set()\n",
    "chemical_deduplicated_count=0\n",
    "for j in pairs:\n",
    "    names[j.replace(' ','_')+'list_raw']=[]\n",
    "    for i in names[j.replace(' ','_')+'list']:\n",
    "        k=i.get('PMID')\n",
    "        i['DP']=rawpickwithAB.get(k).get('DP')\n",
    "        i['AB']=rawpickwithAB.get(k).get('AB')\n",
    "        i['URL']='https://pubmed.ncbi.nlm.nih.gov/'+k\n",
    "        i['TI']=rawpickwithAB.get(k).get('TI')\n",
    "        i['entity']=i.get('subclass')\n",
    "        i['target']=i.get('word')\n",
    "        i['type']=j\n",
    "        i['JT']=rawpickwithAB.get(k).get('JT')\n",
    "        if i.get('identifier') and re.match(r'MESH:',i.get('identifier')):\n",
    "            i['MESH']=i.get('identifier')[5:]\n",
    "        else:\n",
    "            i['MESH']=''\n",
    "        # tuples=(i.get(\"PMID\"),i.get(\"entity\"),i.get(\"word\"),i.get(\"sentence\"))\n",
    "        tuples=(i.get(\"PMID\"),i.get(\"entity\"),i.get(\"word\"),i.get(\"sentence\"),i.get(\"type\"))\n",
    "        if tuples not in chemical_deduplicated:\n",
    "            chemical_deduplicated.add(tuples)\n",
    "            names[j.replace(' ','_')+'list_raw'].append(i)\n",
    "        else:\n",
    "            chemical_deduplicated_count+=1\n",
    "            continue"
   ]
  },
  {
   "cell_type": "code",
   "execution_count": 768,
   "id": "51b3b660-cea5-4c14-bd81-633019764f0e",
   "metadata": {},
   "outputs": [],
   "source": [
    "chemical2ncbi={}\n",
    "c=0\n",
    "for j in pairs:\n",
    "    for i in names[j.replace(' ','_')+'list_raw']:\n",
    "        chemical2ncbi[i.get('url')]=''\n",
    "        c+=1"
   ]
  },
  {
   "cell_type": "code",
   "execution_count": 769,
   "id": "dbc5826e-5f44-48e3-b41b-53bf2b4b8746",
   "metadata": {},
   "outputs": [
    {
     "data": {
      "text/plain": [
       "124"
      ]
     },
     "execution_count": 769,
     "metadata": {},
     "output_type": "execute_result"
    }
   ],
   "source": [
    "# 124\n",
    "len(chemical2ncbi)"
   ]
  },
  {
   "cell_type": "code",
   "execution_count": 193,
   "id": "f6a5be78-cbc7-4c03-a1d9-8a081907d255",
   "metadata": {},
   "outputs": [],
   "source": [
    "chemical_converter=pickle.load(open('../ncbi/Chemical_converter.pkl','rb'))"
   ]
  },
  {
   "cell_type": "code",
   "execution_count": 194,
   "id": "3b776c35-d99a-4467-851c-e02a616abc62",
   "metadata": {},
   "outputs": [
    {
     "data": {
      "text/plain": [
       "475"
      ]
     },
     "execution_count": 194,
     "metadata": {},
     "output_type": "execute_result"
    }
   ],
   "source": [
    "len(chemical_converter)"
   ]
  },
  {
   "cell_type": "code",
   "execution_count": 195,
   "id": "8829ab64-840d-4b04-9db0-aaa88099f9c0",
   "metadata": {},
   "outputs": [],
   "source": [
    "import time\n",
    "import datetime\n",
    "from multiprocessing import Process, Manager, Pool\n",
    "import os, time, random\n",
    "from lxml import etree\n",
    "import requests\n",
    "def get_chemical_info(i,final_chemicals_inte):\n",
    "    headers = {\n",
    "        \"User-Agent\": \"Mozilla/5.0 (Windows NT 10.0; Win64; x64) AppleWebKit/537.36 \\\n",
    "        (KHTML, like Gecko) Chrome/83.0.4103.97 Safari/537.36\"\n",
    "    }\n",
    "    url = 'https://www.ncbi.nlm.nih.gov' + i\n",
    "    \n",
    "    res=requests.get(url=url,headers=headers)\n",
    "    html = etree.HTML(res.content)\n",
    "    ncbisummary={\n",
    "    'Summary' : ''.join(html.xpath('//*[@class=\"mesh_ds_scope_note\"]/text()')),\n",
    "    'YearIntroduced' : ''.join(html.xpath('//*[@class=\"mesh_year_introduced\"]/text()'))[17:21],\n",
    "    }\n",
    "    final_chemicals_inte.update({i:ncbisummary})\n",
    "    time.sleep(0.5)"
   ]
  },
  {
   "cell_type": "code",
   "execution_count": 770,
   "id": "6b39049e-c794-4894-9069-04e8a1be8539",
   "metadata": {},
   "outputs": [],
   "source": [
    "judge=False\n",
    "p = Pool(10)\n",
    "manager=Manager()\n",
    "final_chemicals_inte = manager.dict()\n",
    "for i in chemical2ncbi.keys():\n",
    "    if not chemical_converter.get(i):\n",
    "        p.apply_async(get_chemical_info, args=(i,final_chemicals_inte))\n",
    "        judge=True\n",
    "p.close()\n",
    "p.join()\n",
    "if judge:\n",
    "    chemical_converter.update(dict(final_chemicals_inte))\n",
    "    pickle.dump(chemical_converter, open('../ncbi/Chemical_converter.pkl','wb'))"
   ]
  },
  {
   "cell_type": "code",
   "execution_count": 771,
   "id": "5483dbda-55a0-49e1-9088-908364fd0daa",
   "metadata": {},
   "outputs": [
    {
     "data": {
      "text/plain": [
       "475"
      ]
     },
     "execution_count": 771,
     "metadata": {},
     "output_type": "execute_result"
    }
   ],
   "source": [
    "len(chemical_converter)"
   ]
  },
  {
   "cell_type": "code",
   "execution_count": 772,
   "id": "6335f7b5-721b-4909-8ea2-1d2dc76ad39e",
   "metadata": {},
   "outputs": [
    {
     "data": {
      "text/plain": [
       "['Toxin',\n",
       " 'Peptide',\n",
       " 'Lipid',\n",
       " 'Protein',\n",
       " 'Carbohydrate',\n",
       " 'Pharmaceutical Preparations']"
      ]
     },
     "execution_count": 772,
     "metadata": {},
     "output_type": "execute_result"
    }
   ],
   "source": [
    "pairs"
   ]
  },
  {
   "cell_type": "code",
   "execution_count": 773,
   "id": "5bde0ec4-248d-45fb-a108-f2169afa6395",
   "metadata": {},
   "outputs": [],
   "source": [
    "for j in pairs:\n",
    "    for i in range(len(names[j.replace(' ','_')+'list_raw'])):\n",
    "        names[j.replace(' ','_')+'list_raw'][i]=dict(names[j.replace(' ','_')+'list_raw'][i],**chemical_converter.get(names[j.replace(' ','_')+'list_raw'][i].get('url')))"
   ]
  },
  {
   "cell_type": "code",
   "execution_count": 774,
   "id": "483b6782-e720-448d-94db-66bd0b62322e",
   "metadata": {},
   "outputs": [],
   "source": [
    "import time\n",
    "import datetime\n",
    "import re\n",
    "dropout=[]\n",
    "months=['Jan','Feb','Mar','Apr','May','Jun','Jul','Aug','Sep','Oct','Nov','Dec']\n",
    "import re\n",
    "for k in pairs:\n",
    "    for i in names[k.replace(' ','_')+'list_raw']:\n",
    "        j=i.get('DP')\n",
    "        if re.search('[S,s]upplement',j,flags=re.M|re.I):\n",
    "            j=re.sub('[S,s]upplement.*','',j,flags=re.M|re.I)\n",
    "        j=re.sub('\\s?-\\s?','-',j)\n",
    "        j=re.sub('\\.','',j)\n",
    "        j=re.sub('Aout','Aug',j)\n",
    "        if len(j.split(' '))==3:\n",
    "            try:\n",
    "                date=int(datetime.datetime.strftime(datetime.datetime.strptime(j,'%Y %b %d'), '%Y%m%d'))\n",
    "            except:\n",
    "                if j.split()[1] in months:\n",
    "                    if re.search(r'\\d+',j.split()[2],flags=re.M|re.I):\n",
    "                        j=j.split()[0]+' '+j.split()[1]+' '+ re.search(r'\\d+',j.split()[2],flags=re.M|re.I).group()\n",
    "                        try:\n",
    "                            date=int(datetime.datetime.strftime(datetime.datetime.strptime(j,'%Y %b %d'), '%Y%m%d'))\n",
    "                        except:\n",
    "                            j=j[:4]\n",
    "                            date=int(datetime.datetime.strftime(datetime.datetime.strptime(j,'%Y'), '%Y'+'0101'))\n",
    "                            print('***************************************ERROR**********************************************')\n",
    "                    else:\n",
    "                        j=j.split()[0]+' '+j.split()[1]+' '+ '1'\n",
    "                        try:\n",
    "                            date=int(datetime.datetime.strftime(datetime.datetime.strptime(j,'%Y %b %d'), '%Y%m%d'))\n",
    "                        except:\n",
    "                            print(j)\n",
    "                            j=j[:4]\n",
    "                            date=int(datetime.datetime.strftime(datetime.datetime.strptime(j,'%Y'), '%Y'+'0101'))\n",
    "                elif j.split()[1] not in months:\n",
    "                    if re.search(r'([a-zA-Z]+)[-/]([a-zA-Z]+)',j.split()[1],flags=re.M|re.I) or re.search(r'([a-zA-Z]+)[-/](\\d+)',j.split()[1],flags=re.M|re.I):\n",
    "                        if re.search(r'([a-zA-Z]+)[-/]([a-zA-Z]+)',j.split()[1],flags=re.M|re.I):\n",
    "                            middle=re.search(r'([a-zA-Z]+)[-/]([a-zA-Z]+)',j.split()[1],flags=re.M|re.I).group(1)\n",
    "                        else:\n",
    "                            middle=re.search(r'([a-zA-Z]+)[-/](\\d+)',j.split()[1],flags=re.M|re.I).group(1)\n",
    "                        if middle in months:\n",
    "                            if re.search(r'\\d+',j.split()[2],flags=re.M|re.I):\n",
    "                                j=j.split()[0]+' '+middle+' '+ re.search(r'\\d+',j.split()[2],flags=re.M|re.I).group()\n",
    "                            else:\n",
    "                                j=j.split()[0]+' '+middle+' '+ '1'\n",
    "                        elif re.match(r'Sum(mer)?',middle):\n",
    "                            if re.search(r'\\d+',j.split()[2],flags=re.M|re.I):\n",
    "                                j=j.split()[0]+' '+'Jun'+' '+ re.search(r'\\d+',j.split()[2],flags=re.M|re.I).group()\n",
    "                            else:\n",
    "                                j=j.split()[0]+' '+'Jun'+' '+ '1'\n",
    "                        elif re.match(r'Spr(ing)?',middle):\n",
    "                            if re.search(r'\\d+',j.split()[2],flags=re.M|re.I):\n",
    "                                j=j.split()[0]+' '+'Mar'+' '+ re.search(r'\\d+',j.split()[2],flags=re.M|re.I).group()\n",
    "                            else:\n",
    "                                j=j.split()[0]+' '+'Mar'+' '+ '1'\n",
    "                        elif re.match(r'Win(ter)?',middle):\n",
    "                            if re.search(r'\\d+',j.split()[2],flags=re.M|re.I):\n",
    "                                j=j.split()[0]+' '+'Dec'+' '+ re.search(r'\\d+',j.split()[2],flags=re.M|re.I).group()\n",
    "                            else:\n",
    "                                j=j.split()[0]+' '+'Dec'+' '+ '1'    \n",
    "                        elif re.match(r'Aut(umn)?',middle) or \\\n",
    "                        re.match(r'Fall',middle):\n",
    "                            if re.search(r'\\d+',j.split()[2],flags=re.M|re.I):\n",
    "                                j=j.split()[0]+' '+'Sep'+' '+ re.search(r'\\d+',j.split()[2],flags=re.M|re.I).group()\n",
    "                            else:\n",
    "                                j=j.split()[0]+' '+'Sep'+' '+ '1'      \n",
    "                        try:\n",
    "                            date=int(datetime.datetime.strftime(datetime.datetime.strptime(j,'%Y %b %d'), '%Y%m%d'))\n",
    "                        except:\n",
    "                            print(j)\n",
    "                            j=j[:4]\n",
    "                            date=int(datetime.datetime.strftime(datetime.datetime.strptime(j,'%Y'), '%Y'+'0101'))\n",
    "                    else:\n",
    "                        j=j[:4]\n",
    "                        date=int(datetime.datetime.strftime(datetime.datetime.strptime(j,'%Y'), '%Y'+'0101'))\n",
    "        elif len(j.split())==2:\n",
    "            if re.match(r'Sum(mer)?',j.split()[1]):\n",
    "                date=int(j[:4]+'0601')\n",
    "            elif re.match(r'Spr(ing)?',j.split()[1]):\n",
    "                date=int(j[:4]+'0301')\n",
    "            elif re.match(r'Win(ter)?',j.split()[1]):\n",
    "                date=int(j[:4]+'1201')\n",
    "            elif re.match(r'Aut(umn)?',j.split()[1]) or re.match(r'Fall',j.split()[1]):\n",
    "                date=int(j[:4]+'0901')\n",
    "            elif re.match(r'Sum(mer)?',j.split()[0]):\n",
    "                date=int(j[-4:]+'0601')\n",
    "            elif re.match(r'Spr(ing)?',j.split()[0]):\n",
    "                date=int(j[-4:]+'0301')\n",
    "            elif re.match(r'Win(ter)?',j.split()[0]):\n",
    "                date=int(j[-4:]+'1201')\n",
    "            elif re.match(r'Aut(umn)?',j.split()[0]) or re.match(r'Fall',j.split()[0]):\n",
    "                date=int(j[-4:]+'0901')\n",
    "            else:\n",
    "                try:\n",
    "                    date=int(datetime.datetime.strftime(datetime.datetime.strptime(j,'%Y %b'), '%Y%m'+'01'))\n",
    "                except:\n",
    "                    if re.search(r'([a-zA-Z]+)[-/]([a-zA-Z]+)',j.split()[1],flags=re.M|re.I) or re.search(r'([a-zA-Z]+)[-/](\\d+)',j.split()[1],flags=re.M|re.I):\n",
    "                        if re.search(r'([a-zA-Z]+)[-/]([a-zA-Z]+)',j.split()[1],flags=re.M|re.I):\n",
    "                            middle=re.search(r'([a-zA-Z]+)[-/]([a-zA-Z]+)',j.split()[1],flags=re.M|re.I).group(1)\n",
    "                        else:\n",
    "                            middle=re.search(r'([a-zA-Z]+)[-/](\\d+)',j.split()[1],flags=re.M|re.I).group(1)\n",
    "                        if middle in months:\n",
    "                            j=j.split()[0]+' '+middle+' '+ '1'\n",
    "                        elif re.match(r'Sum(mer)?',middle):\n",
    "                            j=j.split()[0]+' '+'Jun'+' '+ '1'\n",
    "                        elif re.match(r'Spr(ing)?',middle):\n",
    "                            j=j.split()[0]+' '+'Mar'+' '+ '1'\n",
    "                        elif re.match(r'Win(ter)?',middle):\n",
    "                            j=j.split()[0]+' '+'Dec'+' '+ '1'    \n",
    "                        elif re.match(r'Aut(umn)?',middle) or \\\n",
    "                        re.match(r'Fall',middle):\n",
    "                            j=j.split()[0]+' '+'Sep'+' '+ '1'      \n",
    "                        try:\n",
    "                            date=int(datetime.datetime.strftime(datetime.datetime.strptime(j,'%Y %b %d'), '%Y%m%d'))\n",
    "                        except:\n",
    "                            j=j[:4]\n",
    "                            date=int(datetime.datetime.strftime(datetime.datetime.strptime(j,'%Y'), '%Y'+'0101'))\n",
    "                    elif re.search(r'(\\d+)[-/](\\d+)',j.split()[1],flags=re.M|re.I):\n",
    "                        midd=re.search(r'(\\d+)[-/](\\d+)',j.split()[1],flags=re.M|re.I).group(1)\n",
    "                        if len(midd)!=2:\n",
    "                            midd='0'+midd\n",
    "                        j=j[:4]\n",
    "                        date=int(datetime.datetime.strftime(datetime.datetime.strptime(j,'%Y'), '%Y'+midd+'01'))\n",
    "                    else:\n",
    "                        print(j)\n",
    "                        j=j[:4]\n",
    "                        date=int(datetime.datetime.strftime(datetime.datetime.strptime(j,'%Y'), '%Y'+'0101'))\n",
    "        elif len(j.split())==1:\n",
    "            j=j[:4]\n",
    "            date=int(datetime.datetime.strftime(datetime.datetime.strptime(j,'%Y'), '%Y'+'0101'))\n",
    "        else:\n",
    "            j=j.split()[0]+' '+j.split()[1]+' '+re.search(r'\\d+',j.split()[2],flags=re.M|re.I).group()\n",
    "            date=int(datetime.datetime.strftime(datetime.datetime.strptime(j,'%Y %b %d'), '%Y%m%d'))\n",
    "        i['date']=date\n",
    "        i['year']=int(str(i.get('date'))[:4])"
   ]
  },
  {
   "cell_type": "code",
   "execution_count": 775,
   "id": "31394dab-ee07-4cc0-9fff-06be9c3ad470",
   "metadata": {},
   "outputs": [],
   "source": [
    "for k in pairs:\n",
    "    names[k.replace(' ','_')+'_raw']=copy.deepcopy(names[k.replace(' ','_')+'list_raw'])\n",
    "    for i in names[k.replace(' ','_')+'_raw']:\n",
    "        i['addtime']=now_time"
   ]
  },
  {
   "cell_type": "code",
   "execution_count": null,
   "id": "3d6bc8af-7365-4d2d-b536-abc5932b18fc",
   "metadata": {},
   "outputs": [],
   "source": []
  },
  {
   "cell_type": "code",
   "execution_count": null,
   "id": "f5380b90-c116-4a19-b61a-ebecdecfdd18",
   "metadata": {},
   "outputs": [],
   "source": []
  },
  {
   "cell_type": "code",
   "execution_count": null,
   "id": "97578197-4d07-4808-b322-e5bc365d3c24",
   "metadata": {},
   "outputs": [],
   "source": []
  },
  {
   "cell_type": "code",
   "execution_count": null,
   "id": "45f04637-7771-4e20-9afa-ce58ef24e60f",
   "metadata": {},
   "outputs": [],
   "source": []
  },
  {
   "cell_type": "markdown",
   "id": "ddf47b96-db4d-4d3a-a1ff-0864f1c3e4c7",
   "metadata": {},
   "source": [
    "# Carbohydrate_raw"
   ]
  },
  {
   "cell_type": "code",
   "execution_count": 105,
   "id": "d6b0bf63-a9e3-4051-a264-5189176dc255",
   "metadata": {},
   "outputs": [],
   "source": [
    "collections_Carbohydrate_raw=db.Carbohydrate_raw"
   ]
  },
  {
   "cell_type": "code",
   "execution_count": 777,
   "id": "5a7c5548-4667-4f06-816e-c6ea0ad54d87",
   "metadata": {},
   "outputs": [
    {
     "data": {
      "text/plain": [
       "381"
      ]
     },
     "execution_count": 777,
     "metadata": {},
     "output_type": "execute_result"
    }
   ],
   "source": [
    "len(Carbohydrate_raw)"
   ]
  },
  {
   "cell_type": "code",
   "execution_count": 778,
   "id": "41f9465b-612c-4a1d-9f26-a3bea4c1777d",
   "metadata": {},
   "outputs": [
    {
     "data": {
      "text/plain": [
       "{'AB': 'The world is moving towards a healthier lifestyle where people are changing their eating habits, which influenced edible rose flowers to emerge as a pioneer in the field of nutraceutical and food industries. Roses are a good source of dietary phytochemicals viz., flavonoids (anthocyanins, flavonols, and flavonols), carotenoids, and phenolic acids. The presence of such phytochemicals makes rose as an anti-oxidant, anti-inflammatory, anti-cancerous, anti-aging, anti-microbial, hepatoprotective, and neurogenic agent. Historically edible rose flowers have been used in the preparation of traditional food products and delicacies such as gulkand, punkhuri, and rose petal tea and have found application in traditional medicine such as Ayurveda to treat hyperacidity, vata, pitta, constipation, abdominal pains, and various other illnesses. Over a period of time, concept of edible flowers has gotten more recognition and now roses are used in the preparation of many food products such as jams, jellies, cookies, salads, ice-creams, juices, and wines. In this review, we established a connection between phytochemicals and their biological activity, nutritional composition, traditional usage, and functional food aspects of edible rose flowers. Overall, these concepts help to set a new trend in culinary science and further research on the nutraceutical composition, and health benefits of edible rose flowers.',\n",
       " 'type': 'Carbohydrate',\n",
       " 'identifier': 'MESH:D000872',\n",
       " 'sentence': 'Roses are a good source of dietary phytochemicals viz., flavonoids (anthocyanins, flavonols, and flavonols), carotenoids, and phenolic acids.',\n",
       " 'sentenceSize': 7,\n",
       " 'sentenceIndex': 1,\n",
       " 'addtime': '2022_12_09',\n",
       " '_id': ObjectId('639369f87aeeb1f33fdb54dc'),\n",
       " 'PMID': '36461291',\n",
       " 'word': 'anthocyanins',\n",
       " 'class': ['Carbohydrate'],\n",
       " 'subclass': 'Anthocyanins',\n",
       " 'url': '/mesh/68000872',\n",
       " 'DP': '2022 Dec',\n",
       " 'URL': 'https://pubmed.ncbi.nlm.nih.gov/36461291',\n",
       " 'TI': 'Edible rose flowers: A doorway to gastronomic and nutraceutical research.',\n",
       " 'entity': 'Anthocyanins',\n",
       " 'target': 'anthocyanins',\n",
       " 'JT': 'Food research international (Ottawa, Ont.)',\n",
       " 'MESH': 'D000872',\n",
       " 'Summary': 'A group of FLAVONOIDS derived from FLAVONOLS, which lack the ketone oxygen at the 4-position. They are glycosylated versions of cyanidin, pelargonidin or delphinidin. The conjugated bonds result in blue, red, and purple colors in flowers of plants.',\n",
       " 'YearIntroduced': '1963',\n",
       " 'date': 20221201,\n",
       " 'year': 2022}"
      ]
     },
     "execution_count": 778,
     "metadata": {},
     "output_type": "execute_result"
    }
   ],
   "source": [
    "Carbohydrate_raw[0]"
   ]
  },
  {
   "cell_type": "code",
   "execution_count": 779,
   "id": "f747b991-95c9-47eb-9f9f-b7d7a75c9ad0",
   "metadata": {},
   "outputs": [],
   "source": [
    "if len(Carbohydrate_raw)!=0:\n",
    "    collections_Carbohydrate_raw.insert_many(Carbohydrate_raw)"
   ]
  },
  {
   "cell_type": "code",
   "execution_count": 709,
   "id": "18258bbc-5089-43eb-9b4f-39649acdd9a2",
   "metadata": {},
   "outputs": [],
   "source": [
    "shenme=list(collections_Carbohydrate_raw.find())"
   ]
  },
  {
   "cell_type": "code",
   "execution_count": 715,
   "id": "31abe4e2-efde-4675-9d12-47f96c344096",
   "metadata": {},
   "outputs": [],
   "source": [
    "for i in shenme:\n",
    "    if i.get('PMID')=='35302400':\n",
    "        print('i')\n",
    "        break"
   ]
  },
  {
   "cell_type": "code",
   "execution_count": 714,
   "id": "b4370981-3994-438f-a1cc-09a097c53eff",
   "metadata": {},
   "outputs": [
    {
     "data": {
      "text/plain": [
       "{'_id': ObjectId('639369f87aeeb1f33fdc493d'),\n",
       " 'AB': 'OBJECTIVE: To investigate non-urological patients with multiple comorbidities for factors contributing towards differences in testosterone concentration in multi-ethnic Malaysian men. METHODS: Sexually active men >=40 years with no known urological problems were recruited at the phlebotomy clinic at our center. A brief history along with latest fasting lipid profile and plasma glucose levels were obtained. An Aging Male Symptoms (AMS) questionnaire was administered; waist circumference (WC) and serum testosterone concentration were measured. Analysis of testosterone concentration between Malay, Indian and Chinese men was performed. Statistical tests such as ANOVA, Chi square test, univariate and multivariable regression were performed. Any P<0.05 denoted as statistically significant. RESULTS: Among the 604 participants analyzed, mean testosterone concentration was significantly lower in Malays (15.1+-5.9 nmol/L) compared to the Chinese (17.0+-5.9 nmol/L) and Indian (16.1+-6.5 nmol/L) participants. The mean WC was also found to be higher among the Malays (96.1+-10.9 cm) compared to Chinese (92.6+-9.6 cm) and Indians (95.6+-9.9 cm). Testosterone concentration tended to be lower with higher age, but this was not statistically significant (P>0.05). In the multivariable analysis only Malay ethnicity, WC >= 90 cm and low HDL were associated with lower testosterone concentration. CONCLUSION: In this study, Malaysian men of Malay origin had lower testosterone concentration compared with Indian and Chinese men. WC and low HDL were also associated with lower testosterone concentrations. This article is protected by copyright. All rights reserved.',\n",
       " 'type': 'Carbohydrate',\n",
       " 'identifier': 'MESH:D005947',\n",
       " 'sentence': 'A brief history along with latest fasting lipid profile and plasma glucose levels were obtained.',\n",
       " 'sentenceSize': 15,\n",
       " 'sentenceIndex': 2,\n",
       " 'addtime': '2022_12_09',\n",
       " 'PMID': '35107834',\n",
       " 'word': 'glucose',\n",
       " 'class': ['Carbohydrate'],\n",
       " 'subclass': 'Glucose',\n",
       " 'url': '/mesh/68005947',\n",
       " 'DP': '2022 Sep',\n",
       " 'URL': 'https://pubmed.ncbi.nlm.nih.gov/35107834',\n",
       " 'TI': 'Ethnic differences in serum testosterone concentration among Malay, Chinese and Indian men: A cross-sectional study.',\n",
       " 'entity': 'Glucose',\n",
       " 'target': 'glucose',\n",
       " 'JT': 'Clinical endocrinology',\n",
       " 'MESH': 'D005947',\n",
       " 'Summary': 'A primary source of energy for living organisms. It is naturally occurring and is found in fruits and other parts of plants in its free state. It is used therapeutically in fluid and nutrient replacement.',\n",
       " 'YearIntroduced': '/met',\n",
       " 'date': 20220901,\n",
       " 'year': 2022}"
      ]
     },
     "execution_count": 714,
     "metadata": {},
     "output_type": "execute_result"
    }
   ],
   "source": [
    "shenme[-1]"
   ]
  },
  {
   "cell_type": "code",
   "execution_count": null,
   "id": "a977ba55-741e-40a7-ad8a-3df434ac47c5",
   "metadata": {},
   "outputs": [],
   "source": []
  },
  {
   "cell_type": "markdown",
   "id": "5b2e4e32-1d25-4b25-9f38-041c3c13c2bf",
   "metadata": {},
   "source": [
    "# Carbohydrate_all"
   ]
  },
  {
   "cell_type": "code",
   "execution_count": 429,
   "id": "61790bfe-ded1-4bca-8851-33562f546ba9",
   "metadata": {},
   "outputs": [],
   "source": [
    "collections_Carbohydrate_all=db.Carbohydrate_all"
   ]
  },
  {
   "cell_type": "markdown",
   "id": "93f36008-f5e8-48f1-be18-6738514fb0e6",
   "metadata": {},
   "source": [
    "collections_Carbohydrate_all.remove({'addtime':now_time})"
   ]
  },
  {
   "cell_type": "code",
   "execution_count": 579,
   "id": "7514e4d9-5f5e-43a2-afa4-92c9c1ff7d6d",
   "metadata": {},
   "outputs": [],
   "source": [
    "Carbohydrate_raw_all=list(collections_Carbohydrate_raw.find())"
   ]
  },
  {
   "cell_type": "code",
   "execution_count": 431,
   "id": "ace42600-1ca3-40e7-934d-9d197011c8f7",
   "metadata": {},
   "outputs": [
    {
     "data": {
      "text/plain": [
       "17390"
      ]
     },
     "execution_count": 431,
     "metadata": {},
     "output_type": "execute_result"
    }
   ],
   "source": [
    "len(Carbohydrate_raw_all)"
   ]
  },
  {
   "cell_type": "code",
   "execution_count": 432,
   "id": "3f52ae34-31e1-4132-b6e9-3398b6522540",
   "metadata": {},
   "outputs": [],
   "source": [
    "for i in Carbohydrate_raw_all:\n",
    "    i['type']='Carbohydrate'\n",
    "    i[\"PMID\"]=[i.get(\"PMID\")]\n",
    "    i[\"sentence\"]=[[i.get(\"sentence\")]]\n",
    "    pmid=i.get('PMID')[0]\n",
    "    i['DP']=[i.get(\"DP\")]\n",
    "    i['AB']=[i.get(\"AB\")]\n",
    "    i['URL']='https://pubmed.ncbi.nlm.nih.gov/'+pmid\n",
    "    i['TI']=[i.get(\"TI\")]\n",
    "    i['target']=[[i.get('word')]]\n",
    "    i[\"date\"]=[i.get(\"date\")]\n",
    "    i[\"year\"]=[i.get(\"year\")]\n",
    "    i['JT']=[i.get('JT')]"
   ]
  },
  {
   "cell_type": "code",
   "execution_count": 433,
   "id": "478e2b31-626c-4572-ab5b-8f169a10c69a",
   "metadata": {},
   "outputs": [],
   "source": [
    "Carbohydrate_mid={}\n",
    "for i in Carbohydrate_raw_all:\n",
    "    if not Carbohydrate_mid.get(i.get(\"entity\")):\n",
    "        Carbohydrate_mid[i.get(\"entity\")]=i\n",
    "    else:\n",
    "        if i.get('PMID')[0] in Carbohydrate_mid.get(i.get('entity')).get('PMID'):\n",
    "\n",
    "            ind=Carbohydrate_mid.get(i.get('entity')).get('PMID').index(i.get('PMID')[0])\n",
    "            if i.get(\"sentence\")[0][0] in Carbohydrate_mid.get(i.get('entity')).get('sentence')[ind]:\n",
    "                continue\n",
    "            else:\n",
    "                Carbohydrate_mid[i.get('entity')]['sentence'][ind] = Carbohydrate_mid.get(i.get('entity')).get('sentence')[ind] + i.get(\"sentence\")[0]\n",
    "                Carbohydrate_mid[i.get('entity')]['target'][ind] = Carbohydrate_mid.get(i.get('entity')).get('target')[ind] + i.get(\"target\")[0]\n",
    "\n",
    "        else:\n",
    "            Carbohydrate_mid[i.get(\"entity\")][\"PMID\"]=Carbohydrate_mid.get(i.get(\"entity\")).get(\"PMID\")+i.get(\"PMID\")\n",
    "            Carbohydrate_mid[i.get(\"entity\")][\"sentence\"]=Carbohydrate_mid.get(i.get(\"entity\")).get(\"sentence\")+i.get(\"sentence\")\n",
    "            Carbohydrate_mid[i.get(\"entity\")][\"AB\"]=Carbohydrate_mid.get(i.get(\"entity\")).get(\"AB\")+i.get(\"AB\")\n",
    "            Carbohydrate_mid[i.get(\"entity\")][\"DP\"]=Carbohydrate_mid.get(i.get(\"entity\")).get(\"DP\")+i.get(\"DP\")\n",
    "            Carbohydrate_mid[i.get(\"entity\")][\"TI\"]=Carbohydrate_mid.get(i.get(\"entity\")).get(\"TI\")+i.get(\"TI\")\n",
    "            Carbohydrate_mid[i.get(\"entity\")][\"target\"]=Carbohydrate_mid.get(i.get(\"entity\")).get(\"target\")+i.get(\"target\")\n",
    "            Carbohydrate_mid[i.get(\"entity\")][\"date\"]=Carbohydrate_mid.get(i.get(\"entity\")).get(\"date\")+i.get(\"date\")\n",
    "            Carbohydrate_mid[i.get(\"entity\")][\"year\"]=Carbohydrate_mid.get(i.get(\"entity\")).get(\"year\")+i.get(\"year\")\n",
    "            Carbohydrate_mid[i.get(\"entity\")][\"JT\"]=Carbohydrate_mid.get(i.get(\"entity\")).get(\"JT\")+i.get(\"JT\")"
   ]
  },
  {
   "cell_type": "code",
   "execution_count": 434,
   "id": "ef50f1c2-a5e3-47a4-bddc-4b38e714343f",
   "metadata": {},
   "outputs": [],
   "source": [
    "Carbohydrate_all=list(Carbohydrate_mid.values())"
   ]
  },
  {
   "cell_type": "code",
   "execution_count": 435,
   "id": "fb1e2451-611d-4c43-ace0-09289d8c59c6",
   "metadata": {},
   "outputs": [
    {
     "data": {
      "text/plain": [
       "202"
      ]
     },
     "execution_count": 435,
     "metadata": {},
     "output_type": "execute_result"
    }
   ],
   "source": [
    "len(Carbohydrate_all)"
   ]
  },
  {
   "cell_type": "code",
   "execution_count": 436,
   "id": "9296ce15-8fa3-4871-b0ca-4a4f0c9a0905",
   "metadata": {},
   "outputs": [],
   "source": [
    "for i in Carbohydrate_all:\n",
    "    i['allyears']=[]\n",
    "    i['datestring']=[]\n",
    "    for j in i.get('date'):\n",
    "        if int(str(j)[:4]) not in i.get('allyears'):\n",
    "            i['allyears']= i.get('allyears')+[int(str(j)[:4])]\n",
    "    for j in i.get('date'):\n",
    "        if str(j)[:4]+\"-\"+str(j)[4:6]+\"-\"+str(j)[6:] not in i.get('datestring'):\n",
    "            i['datestring']=i.get('datestring')+[str(j)[:4]+\"-\"+str(j)[4:6]+\"-\"+str(j)[6:]]\n",
    "    i['allyears']=sorted(i.get('allyears'), reverse=True)\n",
    "    i['datestring']=sorted(i.get('datestring'), reverse=True)\n",
    "    upperlist=set()\n",
    "    for j in sum(i.get('target'),[]):\n",
    "        upperlist.add(j.upper())\n",
    "    i['targetshapes']=list(upperlist)\n",
    "    i['addtime']=now_time"
   ]
  },
  {
   "cell_type": "code",
   "execution_count": 437,
   "id": "3b5b49ad-9729-452e-bebc-04727fdce18d",
   "metadata": {},
   "outputs": [
    {
     "data": {
      "text/plain": [
       "'A class of sphingolipids found largely in the brain and other nervous tissue. They contain phosphocholine or phosphoethanolamine as their polar head group so therefore are the only sphingolipids classified as PHOSPHOLIPIDS.'"
      ]
     },
     "execution_count": 437,
     "metadata": {},
     "output_type": "execute_result"
    }
   ],
   "source": [
    "Carbohydrate_all[10].get('Summary')"
   ]
  },
  {
   "cell_type": "code",
   "execution_count": 789,
   "id": "bef8de5e-381e-45d2-abe2-74f95d4f7eba",
   "metadata": {},
   "outputs": [],
   "source": [
    "# collections_Carbohydrate_all.insert_many(Carbohydrate_all)"
   ]
  },
  {
   "cell_type": "code",
   "execution_count": null,
   "id": "e96b9214-8662-42d1-b87f-1450989208c2",
   "metadata": {},
   "outputs": [],
   "source": []
  },
  {
   "cell_type": "code",
   "execution_count": null,
   "id": "b9ff94bc-6047-4ae2-9180-100580a2db9c",
   "metadata": {},
   "outputs": [],
   "source": []
  },
  {
   "cell_type": "markdown",
   "id": "e33bf01c-d9e3-4f04-9f91-c484e27ab764",
   "metadata": {},
   "source": [
    "# Lipid_raw"
   ]
  },
  {
   "cell_type": "code",
   "execution_count": 114,
   "id": "060de6ef-478a-47c5-b8ec-eed5b8e395e7",
   "metadata": {},
   "outputs": [],
   "source": [
    "collections_Lipid_raw=db.Lipid_raw"
   ]
  },
  {
   "cell_type": "code",
   "execution_count": 793,
   "id": "8df1691f-2bcb-438d-b175-3483b0827d9c",
   "metadata": {},
   "outputs": [
    {
     "data": {
      "text/plain": [
       "455"
      ]
     },
     "execution_count": 793,
     "metadata": {},
     "output_type": "execute_result"
    }
   ],
   "source": [
    "len(Lipid_raw)"
   ]
  },
  {
   "cell_type": "code",
   "execution_count": 794,
   "id": "9b61e1ed-8da6-4a52-a373-1c85cc1cccd9",
   "metadata": {},
   "outputs": [],
   "source": [
    "if len(Lipid_raw)!=0:\n",
    "    collections_Lipid_raw.insert_many(Lipid_raw)"
   ]
  },
  {
   "cell_type": "code",
   "execution_count": null,
   "id": "d7a6347d-790a-4467-ab7b-154cff9850cf",
   "metadata": {},
   "outputs": [],
   "source": []
  },
  {
   "cell_type": "markdown",
   "id": "3d91e5d3-01aa-4ba8-88fd-dc719a427215",
   "metadata": {},
   "source": [
    "# Lipid_all"
   ]
  },
  {
   "cell_type": "code",
   "execution_count": 795,
   "id": "a11e60fc-5cf9-4123-bff5-c5499d05acc3",
   "metadata": {},
   "outputs": [],
   "source": [
    "collections_Lipid_all=db.Lipid_all"
   ]
  },
  {
   "cell_type": "markdown",
   "id": "d74de3fb-a0fc-41e1-99e5-56e50f5fe8d0",
   "metadata": {},
   "source": [
    "collections_Lipid_all.remove({'addtime':now_time})"
   ]
  },
  {
   "cell_type": "code",
   "execution_count": 584,
   "id": "a377447a-c977-4c96-8869-64b9579c044b",
   "metadata": {},
   "outputs": [],
   "source": [
    "Lipid_raw_all=list(collections_Lipid_raw.find())"
   ]
  },
  {
   "cell_type": "code",
   "execution_count": 589,
   "id": "cf111280-668c-41bc-b16a-5a2f92c73669",
   "metadata": {},
   "outputs": [
    {
     "data": {
      "text/plain": [
       "18859"
      ]
     },
     "execution_count": 589,
     "metadata": {},
     "output_type": "execute_result"
    }
   ],
   "source": [
    "len(Lipid_raw_all)"
   ]
  },
  {
   "cell_type": "code",
   "execution_count": 500,
   "id": "ef2025e5-43c0-4745-819b-cffa71e2e983",
   "metadata": {},
   "outputs": [],
   "source": [
    "for i in Lipid_raw_all:\n",
    "    if i.get('entity')=='Angiotensins':\n",
    "        print(i)"
   ]
  },
  {
   "cell_type": "code",
   "execution_count": 447,
   "id": "689fd969-7949-4453-b646-617dd8cde27a",
   "metadata": {},
   "outputs": [],
   "source": [
    "for i in Lipid_raw_all:\n",
    "    i['type']='Lipid'\n",
    "    i[\"PMID\"]=[i.get(\"PMID\")]\n",
    "    i[\"sentence\"]=[[i.get(\"sentence\")]]\n",
    "    pmid=i.get('PMID')[0]\n",
    "    i['DP']=[i.get(\"DP\")]\n",
    "    i['AB']=[i.get(\"AB\")]\n",
    "    i['URL']='https://pubmed.ncbi.nlm.nih.gov/'+pmid\n",
    "    i['TI']=[i.get(\"TI\")]\n",
    "    i['target']=[[i.get('word')]]\n",
    "    i[\"date\"]=[i.get(\"date\")]\n",
    "    i[\"year\"]=[i.get(\"year\")]\n",
    "    i['JT']=[i.get('JT')]"
   ]
  },
  {
   "cell_type": "code",
   "execution_count": 448,
   "id": "feb007d5-4ad7-4d30-ba8c-7c95787408d4",
   "metadata": {},
   "outputs": [],
   "source": [
    "Lipid_mid={}\n",
    "for i in Lipid_raw_all:\n",
    "    if not Lipid_mid.get(i.get(\"entity\")):\n",
    "        Lipid_mid[i.get(\"entity\")]=i\n",
    "    else:\n",
    "        if i.get('PMID')[0] in Lipid_mid.get(i.get('entity')).get('PMID'):\n",
    "\n",
    "            ind=Lipid_mid.get(i.get('entity')).get('PMID').index(i.get('PMID')[0])\n",
    "            if i.get(\"sentence\")[0][0] in Lipid_mid.get(i.get('entity')).get('sentence')[ind]:\n",
    "                continue\n",
    "            else:\n",
    "                Lipid_mid[i.get('entity')]['sentence'][ind] = Lipid_mid.get(i.get('entity')).get('sentence')[ind] + i.get(\"sentence\")[0]\n",
    "                Lipid_mid[i.get('entity')]['target'][ind] = Lipid_mid.get(i.get('entity')).get('target')[ind] + i.get(\"target\")[0]\n",
    "\n",
    "        else:\n",
    "            Lipid_mid[i.get(\"entity\")][\"PMID\"]=Lipid_mid.get(i.get(\"entity\")).get(\"PMID\")+i.get(\"PMID\")\n",
    "            Lipid_mid[i.get(\"entity\")][\"sentence\"]=Lipid_mid.get(i.get(\"entity\")).get(\"sentence\")+i.get(\"sentence\")\n",
    "            Lipid_mid[i.get(\"entity\")][\"AB\"]=Lipid_mid.get(i.get(\"entity\")).get(\"AB\")+i.get(\"AB\")\n",
    "            Lipid_mid[i.get(\"entity\")][\"DP\"]=Lipid_mid.get(i.get(\"entity\")).get(\"DP\")+i.get(\"DP\")\n",
    "            Lipid_mid[i.get(\"entity\")][\"TI\"]=Lipid_mid.get(i.get(\"entity\")).get(\"TI\")+i.get(\"TI\")\n",
    "            Lipid_mid[i.get(\"entity\")][\"target\"]=Lipid_mid.get(i.get(\"entity\")).get(\"target\")+i.get(\"target\")\n",
    "            Lipid_mid[i.get(\"entity\")][\"date\"]=Lipid_mid.get(i.get(\"entity\")).get(\"date\")+i.get(\"date\")\n",
    "            Lipid_mid[i.get(\"entity\")][\"year\"]=Lipid_mid.get(i.get(\"entity\")).get(\"year\")+i.get(\"year\")\n",
    "            Lipid_mid[i.get(\"entity\")][\"JT\"]=Lipid_mid.get(i.get(\"entity\")).get(\"JT\")+i.get(\"JT\")"
   ]
  },
  {
   "cell_type": "code",
   "execution_count": 449,
   "id": "aa05c57b-399c-4b20-8273-70bd3b4e7539",
   "metadata": {},
   "outputs": [],
   "source": [
    "Lipid_all=list(Lipid_mid.values())"
   ]
  },
  {
   "cell_type": "code",
   "execution_count": 450,
   "id": "f47fa46f-e5ce-4f2f-95fd-18bb7acf7505",
   "metadata": {},
   "outputs": [
    {
     "data": {
      "text/plain": [
       "190"
      ]
     },
     "execution_count": 450,
     "metadata": {},
     "output_type": "execute_result"
    }
   ],
   "source": [
    "len(Lipid_all)"
   ]
  },
  {
   "cell_type": "code",
   "execution_count": 451,
   "id": "24ded20c-c039-4747-8abb-5e3ab908e7f7",
   "metadata": {},
   "outputs": [],
   "source": [
    "for i in Lipid_all:\n",
    "    i['allyears']=[]\n",
    "    i['datestring']=[]\n",
    "    for j in i.get('date'):\n",
    "        if int(str(j)[:4]) not in i.get('allyears'):\n",
    "            i['allyears']= i.get('allyears')+[int(str(j)[:4])]\n",
    "    for j in i.get('date'):\n",
    "        if str(j)[:4]+\"-\"+str(j)[4:6]+\"-\"+str(j)[6:] not in i.get('datestring'):\n",
    "            i['datestring']=i.get('datestring')+[str(j)[:4]+\"-\"+str(j)[4:6]+\"-\"+str(j)[6:]]\n",
    "    i['allyears']=sorted(i.get('allyears'), reverse=True)\n",
    "    i['datestring']=sorted(i.get('datestring'), reverse=True)\n",
    "    upperlist=set()\n",
    "    for j in sum(i.get('target'),[]):\n",
    "        upperlist.add(j.upper())\n",
    "    i['targetshapes']=list(upperlist)\n",
    "    i['addtime']=now_time"
   ]
  },
  {
   "cell_type": "code",
   "execution_count": 803,
   "id": "7253678a-688c-4136-9999-c4a5d9272a3b",
   "metadata": {},
   "outputs": [],
   "source": [
    "# collections_Lipid_all.insert_many(Lipid_all)"
   ]
  },
  {
   "cell_type": "code",
   "execution_count": null,
   "id": "8eaeef78-e38e-474a-b550-817e0bdcc695",
   "metadata": {},
   "outputs": [],
   "source": []
  },
  {
   "cell_type": "markdown",
   "id": "e2960598-439e-4008-ba08-3e276df0121d",
   "metadata": {},
   "source": [
    "# Peptide_raw"
   ]
  },
  {
   "cell_type": "code",
   "execution_count": 122,
   "id": "ceebfcd5-ba72-451a-8b6c-40670a3dc3e8",
   "metadata": {},
   "outputs": [],
   "source": [
    "collections_Peptide_raw=db.Peptide_raw"
   ]
  },
  {
   "cell_type": "code",
   "execution_count": 805,
   "id": "742aab6d-7c80-429d-9f04-d591775e4dd7",
   "metadata": {},
   "outputs": [
    {
     "data": {
      "text/plain": [
       "55"
      ]
     },
     "execution_count": 805,
     "metadata": {},
     "output_type": "execute_result"
    }
   ],
   "source": [
    "len(Peptide_raw)"
   ]
  },
  {
   "cell_type": "code",
   "execution_count": 806,
   "id": "ee578111-9339-4bb6-960c-8e418ff673ca",
   "metadata": {},
   "outputs": [],
   "source": [
    "if len(Peptide_raw)!=0:\n",
    "    collections_Peptide_raw.insert_many(Peptide_raw)"
   ]
  },
  {
   "cell_type": "code",
   "execution_count": null,
   "id": "2e308e42-ed18-4782-91f5-fa2a48c8b996",
   "metadata": {},
   "outputs": [],
   "source": []
  },
  {
   "cell_type": "markdown",
   "id": "11fa5361-23d6-40b7-984f-67f6b42cfa80",
   "metadata": {},
   "source": [
    "# Peptide_all"
   ]
  },
  {
   "cell_type": "code",
   "execution_count": 405,
   "id": "4027bfcf-bc33-4335-8f88-596ad3298599",
   "metadata": {},
   "outputs": [],
   "source": [
    "collections_Peptide_all=db.Peptide_all"
   ]
  },
  {
   "cell_type": "markdown",
   "id": "c859e359-55d7-43ab-9779-1facbef54ced",
   "metadata": {},
   "source": [
    "collections_Peptide_all.remove({'addtime':now_time})"
   ]
  },
  {
   "cell_type": "code",
   "execution_count": 591,
   "id": "09251b4b-62b5-4520-b4df-4266a7d6c603",
   "metadata": {},
   "outputs": [],
   "source": [
    "Peptide_raw_all=list(collections_Peptide_raw.find())"
   ]
  },
  {
   "cell_type": "code",
   "execution_count": 595,
   "id": "e64f82b5-d676-47a6-b92d-bbf9bd4692fd",
   "metadata": {},
   "outputs": [
    {
     "data": {
      "text/plain": [
       "3345"
      ]
     },
     "execution_count": 595,
     "metadata": {},
     "output_type": "execute_result"
    }
   ],
   "source": [
    "len(Peptide_raw_all)"
   ]
  },
  {
   "cell_type": "code",
   "execution_count": 504,
   "id": "5d1aa234-f2e5-4e7a-9b40-dc7a72b17c76",
   "metadata": {},
   "outputs": [
    {
     "name": "stdout",
     "output_type": "stream",
     "text": [
      "{'_id': ObjectId('63fa3ff3648b16758fbbf424'), 'AB': 'AIMS: Real-world evidence about heart failure (HF) medical care for elderly patients is limited. The aim of this study was to clarify the age-dependent associations of HF medications at discharge with clinical outcomes in a super-aged society using a real-world big database. METHODS AND RESULTS: Patients hospitalized with a first episode of acute HF in 2013-2019 were identified in a nationwide claims database in Japan and were analyzed based on the HF medications at discharge. Hazard ratios (HRs) and 95 % confidence intervals (95 % CIs) for clinical outcomes were calculated after adjustment. Among 325,468 patients from 4351 hospitals, 130,230 (40.0 %) were aged >= 85 years. All-cause mortality and HF readmission rate within 1 year were 14 % and 23 %, respectively. beta-Blockers and angiotensin-converting-enzyme inhibitors or angiotensin II receptor blockers (ACEI/ARB) uses were associated with lower mortality (HR [95 %CI]: 0.84 [0.83,0.86] and 0.73 [0.71,0.74], respectively) and HF readmission (0.98 [0.97,0.99] and 0.89 [0.88,0.90], respectively). The associations were attenuated as the age increased and, in beta-blockers use, the favorable associations with mortality and HF readmission were not observed in patients with >= 95 years and >= 80 years, respectively. In contrast, mineralocorticoid receptor antagonists (MRA) use was associated only with lower HF readmission (0.83 [0.82,0.84]), which was not attenuated with increased age. CONCLUSIONS: The favorable associations of beta-blockers and ACEI/ARB uses with mortality and HF readmission were age-dependently attenuated in patients across a broad spectrum of HF in a super-aged society. In contrast, positive impact of MRA use on HF readmission was not attenuated with aging.', 'type': 'Protein', 'identifier': 'MESH:D000809', 'sentence': 'beta-Blockers and angiotensin-converting-enzyme inhibitors or angiotensin II receptor blockers (ACEI/ARB) uses were associated with lower mortality (HR [95 %CI]: 0.84 [0.83,0.86] and 0.73 [0.71,0.74], respectively) and HF readmission (0.98 [0.97,0.99] and 0.89 [0.88,0.90], respectively).', 'sentenceSize': 11, 'sentenceIndex': 6, 'addtime': '2022_12_09', 'PMID': '36271549', 'word': 'angiotensin', 'class': ['Peptide', 'Protein'], 'subclass': 'Angiotensins', 'url': '/mesh/68000809', 'DP': '2022 Nov', 'URL': 'https://pubmed.ncbi.nlm.nih.gov/36271549', 'TI': 'Age-dependent association of discharge heart-failure medications with clinical outcomes in a super-aged society.', 'entity': 'Angiotensins', 'target': 'angiotensin', 'JT': 'Biomedicine & pharmacotherapy = Biomedecine & pharmacotherapie', 'MESH': 'D000809', 'Summary': 'Oligopeptides which are important in the regulation of blood pressure (VASOCONSTRICTION) and fluid homeostasis via the RENIN-ANGIOTENSIN SYSTEM. These include angiotensins derived naturally from precursor ANGIOTENSINOGEN, and those synthesized.', 'YearIntroduced': '1978', 'date': 20221101, 'year': 2022}\n"
     ]
    }
   ],
   "source": [
    "for i in Peptide_raw_all:\n",
    "    if i.get('entity')=='Angiotensins':\n",
    "        print(i)\n",
    "        break"
   ]
  },
  {
   "cell_type": "code",
   "execution_count": 505,
   "id": "84052d44-fb20-4578-83b5-66a8f9e5a5e4",
   "metadata": {},
   "outputs": [],
   "source": [
    "for i in Peptide_raw_all:\n",
    "    i['type']='Peptide'\n",
    "    i[\"PMID\"]=[i.get(\"PMID\")]\n",
    "    i[\"sentence\"]=[[i.get(\"sentence\")]]\n",
    "    pmid=i.get('PMID')[0]\n",
    "    i['DP']=[i.get(\"DP\")]\n",
    "    i['AB']=[i.get(\"AB\")]\n",
    "    i['URL']='https://pubmed.ncbi.nlm.nih.gov/'+pmid\n",
    "    i['TI']=[i.get(\"TI\")]\n",
    "    i['target']=[[i.get('word')]]\n",
    "    i[\"date\"]=[i.get(\"date\")]\n",
    "    i[\"year\"]=[i.get(\"year\")]\n",
    "    i['JT']=[i.get('JT')]"
   ]
  },
  {
   "cell_type": "code",
   "execution_count": 506,
   "id": "1627ce72-74f8-4e61-87b4-7139888cc2d7",
   "metadata": {},
   "outputs": [],
   "source": [
    "Peptide_mid={}\n",
    "for i in Peptide_raw_all:\n",
    "    if not Peptide_mid.get(i.get(\"entity\")):\n",
    "        Peptide_mid[i.get(\"entity\")]=i\n",
    "    else:\n",
    "        if i.get('PMID')[0] in Peptide_mid.get(i.get('entity')).get('PMID'):\n",
    "\n",
    "            ind=Peptide_mid.get(i.get('entity')).get('PMID').index(i.get('PMID')[0])\n",
    "            if i.get(\"sentence\")[0][0] in Peptide_mid.get(i.get('entity')).get('sentence')[ind]:\n",
    "                continue\n",
    "            else:\n",
    "                Peptide_mid[i.get('entity')]['sentence'][ind] = Peptide_mid.get(i.get('entity')).get('sentence')[ind] + i.get(\"sentence\")[0]\n",
    "                Peptide_mid[i.get('entity')]['target'][ind] = Peptide_mid.get(i.get('entity')).get('target')[ind] + i.get(\"target\")[0]\n",
    "\n",
    "        else:\n",
    "            Peptide_mid[i.get(\"entity\")][\"PMID\"]=Peptide_mid.get(i.get(\"entity\")).get(\"PMID\")+i.get(\"PMID\")\n",
    "            Peptide_mid[i.get(\"entity\")][\"sentence\"]=Peptide_mid.get(i.get(\"entity\")).get(\"sentence\")+i.get(\"sentence\")\n",
    "            Peptide_mid[i.get(\"entity\")][\"AB\"]=Peptide_mid.get(i.get(\"entity\")).get(\"AB\")+i.get(\"AB\")\n",
    "            Peptide_mid[i.get(\"entity\")][\"DP\"]=Peptide_mid.get(i.get(\"entity\")).get(\"DP\")+i.get(\"DP\")\n",
    "            Peptide_mid[i.get(\"entity\")][\"TI\"]=Peptide_mid.get(i.get(\"entity\")).get(\"TI\")+i.get(\"TI\")\n",
    "            Peptide_mid[i.get(\"entity\")][\"target\"]=Peptide_mid.get(i.get(\"entity\")).get(\"target\")+i.get(\"target\")\n",
    "            Peptide_mid[i.get(\"entity\")][\"date\"]=Peptide_mid.get(i.get(\"entity\")).get(\"date\")+i.get(\"date\")\n",
    "            Peptide_mid[i.get(\"entity\")][\"year\"]=Peptide_mid.get(i.get(\"entity\")).get(\"year\")+i.get(\"year\")\n",
    "            Peptide_mid[i.get(\"entity\")][\"JT\"]=Peptide_mid.get(i.get(\"entity\")).get(\"JT\")+i.get(\"JT\")"
   ]
  },
  {
   "cell_type": "code",
   "execution_count": 507,
   "id": "7a051e8b-d7a0-42a9-898a-2b41bb230169",
   "metadata": {},
   "outputs": [],
   "source": [
    "Peptide_all=list(Peptide_mid.values())"
   ]
  },
  {
   "cell_type": "code",
   "execution_count": 508,
   "id": "9d510c9e-79c6-4427-bd33-dcbed2f22d33",
   "metadata": {},
   "outputs": [
    {
     "data": {
      "text/plain": [
       "74"
      ]
     },
     "execution_count": 508,
     "metadata": {},
     "output_type": "execute_result"
    }
   ],
   "source": [
    "len(Peptide_all)"
   ]
  },
  {
   "cell_type": "code",
   "execution_count": 509,
   "id": "46e64ea2-56d2-4a34-85af-cfcd41881aa5",
   "metadata": {},
   "outputs": [],
   "source": [
    "for i in Peptide_all:\n",
    "    i['allyears']=[]\n",
    "    i['datestring']=[]\n",
    "    for j in i.get('date'):\n",
    "        if int(str(j)[:4]) not in i.get('allyears'):\n",
    "            i['allyears']= i.get('allyears')+[int(str(j)[:4])]\n",
    "    for j in i.get('date'):\n",
    "        if str(j)[:4]+\"-\"+str(j)[4:6]+\"-\"+str(j)[6:] not in i.get('datestring'):\n",
    "            i['datestring']=i.get('datestring')+[str(j)[:4]+\"-\"+str(j)[4:6]+\"-\"+str(j)[6:]]\n",
    "    i['allyears']=sorted(i.get('allyears'), reverse=True)\n",
    "    i['datestring']=sorted(i.get('datestring'), reverse=True)\n",
    "    upperlist=set()\n",
    "    for j in sum(i.get('target'),[]):\n",
    "        upperlist.add(j.upper())\n",
    "    i['targetshapes']=list(upperlist)\n",
    "    i['addtime']=now_time"
   ]
  },
  {
   "cell_type": "code",
   "execution_count": 815,
   "id": "b7d52a3f-d671-47fe-a17c-7c0795e896a0",
   "metadata": {},
   "outputs": [],
   "source": [
    "# collections_Peptide_all.insert_many(Peptide_all)"
   ]
  },
  {
   "cell_type": "code",
   "execution_count": null,
   "id": "2179d56e-8c41-4c74-93bc-ecd645ae4c59",
   "metadata": {},
   "outputs": [],
   "source": []
  },
  {
   "cell_type": "markdown",
   "id": "7eb089c4-1d7e-4659-af46-be0bdf511584",
   "metadata": {},
   "source": [
    "# Pharmaceutical_Preparations_raw"
   ]
  },
  {
   "cell_type": "code",
   "execution_count": 130,
   "id": "ce02d879-2f10-40b0-b517-54938eeb74cc",
   "metadata": {},
   "outputs": [],
   "source": [
    "collections_Pharmaceutical_Preparations_raw=db.Pharmaceutical_Preparations_raw"
   ]
  },
  {
   "cell_type": "code",
   "execution_count": 817,
   "id": "8cfcc527-b4fc-4292-809c-2322fa82b741",
   "metadata": {},
   "outputs": [
    {
     "data": {
      "text/plain": [
       "0"
      ]
     },
     "execution_count": 817,
     "metadata": {},
     "output_type": "execute_result"
    }
   ],
   "source": [
    "len(Pharmaceutical_Preparations_raw)"
   ]
  },
  {
   "cell_type": "code",
   "execution_count": 818,
   "id": "28f26900-48db-4a62-9a22-5f54db19ed1f",
   "metadata": {},
   "outputs": [],
   "source": [
    "if len(Pharmaceutical_Preparations_raw)!=0:\n",
    "    collections_Pharmaceutical_Preparations_raw.insert_many(Pharmaceutical_Preparations_raw)"
   ]
  },
  {
   "cell_type": "code",
   "execution_count": null,
   "id": "9fcbd29b-1aba-4bca-a26d-936695b3f9bc",
   "metadata": {},
   "outputs": [],
   "source": []
  },
  {
   "cell_type": "markdown",
   "id": "faa0a43c-24c4-4de6-abad-13c0da5a4a81",
   "metadata": {},
   "source": [
    "# Pharmaceutical_Preparations_all"
   ]
  },
  {
   "cell_type": "code",
   "execution_count": 819,
   "id": "e75c1a8a-3044-46df-abe5-d1b939792259",
   "metadata": {},
   "outputs": [],
   "source": [
    "collections_Pharmaceutical_Preparations_all=db.Pharmaceutical_Preparations_all"
   ]
  },
  {
   "cell_type": "markdown",
   "id": "89258feb-7fa9-4c38-9d54-a045d6d0ee14",
   "metadata": {},
   "source": [
    "collections_Pharmaceutical_Preparations_all.remove({'addtime':now_time})"
   ]
  },
  {
   "cell_type": "code",
   "execution_count": 596,
   "id": "dac48525-167b-42d8-8d85-ddbd7d9ea8b2",
   "metadata": {},
   "outputs": [],
   "source": [
    "Pharmaceutical_Preparations_raw_all=list(collections_Pharmaceutical_Preparations_raw.find())"
   ]
  },
  {
   "cell_type": "code",
   "execution_count": 600,
   "id": "817fd846-ec5c-4e98-a2aa-7ff41fcdbf85",
   "metadata": {},
   "outputs": [
    {
     "data": {
      "text/plain": [
       "267"
      ]
     },
     "execution_count": 600,
     "metadata": {},
     "output_type": "execute_result"
    }
   ],
   "source": [
    "len(Pharmaceutical_Preparations_raw_all)"
   ]
  },
  {
   "cell_type": "code",
   "execution_count": 463,
   "id": "a9bebeb4-c7a4-47bd-b102-bd9a85c794f9",
   "metadata": {},
   "outputs": [],
   "source": [
    "for i in Pharmaceutical_Preparations_raw_all:\n",
    "    i['type']='Pharmaceutical Preparations'\n",
    "    i[\"PMID\"]=[i.get(\"PMID\")]\n",
    "    i[\"sentence\"]=[[i.get(\"sentence\")]]\n",
    "    pmid=i.get('PMID')[0]\n",
    "    i['DP']=[i.get(\"DP\")]\n",
    "    i['AB']=[i.get(\"AB\")]\n",
    "    i['URL']='https://pubmed.ncbi.nlm.nih.gov/'+pmid\n",
    "    i['TI']=[i.get(\"TI\")]\n",
    "    i['target']=[[i.get('word')]]\n",
    "    i[\"date\"]=[i.get(\"date\")]\n",
    "    i[\"year\"]=[i.get(\"year\")]\n",
    "    i['JT']=[i.get('JT')]"
   ]
  },
  {
   "cell_type": "code",
   "execution_count": 464,
   "id": "7137138d-577b-4188-8f5c-0779e7207b20",
   "metadata": {},
   "outputs": [],
   "source": [
    "Pharmaceutical_Preparations_mid={}\n",
    "for i in Pharmaceutical_Preparations_raw_all:\n",
    "    if not Pharmaceutical_Preparations_mid.get(i.get(\"entity\")):\n",
    "        Pharmaceutical_Preparations_mid[i.get(\"entity\")]=i\n",
    "    else:\n",
    "        if i.get('PMID')[0] in Pharmaceutical_Preparations_mid.get(i.get('entity')).get('PMID'):\n",
    "\n",
    "            ind=Pharmaceutical_Preparations_mid.get(i.get('entity')).get('PMID').index(i.get('PMID')[0])\n",
    "            if i.get(\"sentence\")[0][0] in Pharmaceutical_Preparations_mid.get(i.get('entity')).get('sentence')[ind]:\n",
    "                continue\n",
    "            else:\n",
    "                Pharmaceutical_Preparations_mid[i.get('entity')]['sentence'][ind] = Pharmaceutical_Preparations_mid.get(i.get('entity')).get('sentence')[ind] + i.get(\"sentence\")[0]\n",
    "                Pharmaceutical_Preparations_mid[i.get('entity')]['target'][ind] = Pharmaceutical_Preparations_mid.get(i.get('entity')).get('target')[ind] + i.get(\"target\")[0]\n",
    "\n",
    "        else:\n",
    "            Pharmaceutical_Preparations_mid[i.get(\"entity\")][\"PMID\"]=Pharmaceutical_Preparations_mid.get(i.get(\"entity\")).get(\"PMID\")+i.get(\"PMID\")\n",
    "            Pharmaceutical_Preparations_mid[i.get(\"entity\")][\"sentence\"]=Pharmaceutical_Preparations_mid.get(i.get(\"entity\")).get(\"sentence\")+i.get(\"sentence\")\n",
    "            Pharmaceutical_Preparations_mid[i.get(\"entity\")][\"AB\"]=Pharmaceutical_Preparations_mid.get(i.get(\"entity\")).get(\"AB\")+i.get(\"AB\")\n",
    "            Pharmaceutical_Preparations_mid[i.get(\"entity\")][\"DP\"]=Pharmaceutical_Preparations_mid.get(i.get(\"entity\")).get(\"DP\")+i.get(\"DP\")\n",
    "            Pharmaceutical_Preparations_mid[i.get(\"entity\")][\"TI\"]=Pharmaceutical_Preparations_mid.get(i.get(\"entity\")).get(\"TI\")+i.get(\"TI\")\n",
    "            Pharmaceutical_Preparations_mid[i.get(\"entity\")][\"target\"]=Pharmaceutical_Preparations_mid.get(i.get(\"entity\")).get(\"target\")+i.get(\"target\")\n",
    "            Pharmaceutical_Preparations_mid[i.get(\"entity\")][\"date\"]=Pharmaceutical_Preparations_mid.get(i.get(\"entity\")).get(\"date\")+i.get(\"date\")\n",
    "            Pharmaceutical_Preparations_mid[i.get(\"entity\")][\"year\"]=Pharmaceutical_Preparations_mid.get(i.get(\"entity\")).get(\"year\")+i.get(\"year\")\n",
    "            Pharmaceutical_Preparations_mid[i.get(\"entity\")][\"JT\"]=Pharmaceutical_Preparations_mid.get(i.get(\"entity\")).get(\"JT\")+i.get(\"JT\")"
   ]
  },
  {
   "cell_type": "code",
   "execution_count": 465,
   "id": "4168936a-5d00-4728-99d7-d663022dbb7b",
   "metadata": {},
   "outputs": [],
   "source": [
    "Pharmaceutical_Preparations_all=list(Pharmaceutical_Preparations_mid.values())"
   ]
  },
  {
   "cell_type": "code",
   "execution_count": 466,
   "id": "9a7e0ce8-ae38-4ccd-bfa8-9ac9d1d1fc1d",
   "metadata": {},
   "outputs": [
    {
     "data": {
      "text/plain": [
       "10"
      ]
     },
     "execution_count": 466,
     "metadata": {},
     "output_type": "execute_result"
    }
   ],
   "source": [
    "len(Pharmaceutical_Preparations_all)"
   ]
  },
  {
   "cell_type": "code",
   "execution_count": 467,
   "id": "9020b753-bf58-4eb4-8918-556bdfbf267a",
   "metadata": {},
   "outputs": [],
   "source": [
    "for i in Pharmaceutical_Preparations_all:\n",
    "    i['allyears']=[]\n",
    "    i['datestring']=[]\n",
    "    for j in i.get('date'):\n",
    "        if int(str(j)[:4]) not in i.get('allyears'):\n",
    "            i['allyears']= i.get('allyears')+[int(str(j)[:4])]\n",
    "    for j in i.get('date'):\n",
    "        if str(j)[:4]+\"-\"+str(j)[4:6]+\"-\"+str(j)[6:] not in i.get('datestring'):\n",
    "            i['datestring']=i.get('datestring')+[str(j)[:4]+\"-\"+str(j)[4:6]+\"-\"+str(j)[6:]]\n",
    "    i['allyears']=sorted(i.get('allyears'), reverse=True)\n",
    "    i['datestring']=sorted(i.get('datestring'), reverse=True)\n",
    "    upperlist=set()\n",
    "    for j in sum(i.get('target'),[]):\n",
    "        upperlist.add(j.upper())\n",
    "    i['targetshapes']=list(upperlist)\n",
    "    i['addtime']=now_time"
   ]
  },
  {
   "cell_type": "code",
   "execution_count": 827,
   "id": "6e5435d4-5b4d-4da9-be17-9c8e21313cfe",
   "metadata": {},
   "outputs": [],
   "source": [
    "# collections_Pharmaceutical_Preparations_all.insert_many(Pharmaceutical_Preparations_all)"
   ]
  },
  {
   "cell_type": "code",
   "execution_count": null,
   "id": "6b276649-a4bc-4b1e-947f-1c2bdb947785",
   "metadata": {},
   "outputs": [],
   "source": []
  },
  {
   "cell_type": "markdown",
   "id": "a90a8b40-a9b9-4a42-85e0-6e206e06bc8b",
   "metadata": {},
   "source": [
    "# Protein_raw"
   ]
  },
  {
   "cell_type": "code",
   "execution_count": 138,
   "id": "92223ecf-313e-4cf2-9704-7dfc12726fbc",
   "metadata": {},
   "outputs": [],
   "source": [
    "collections_Protein_raw=db.Protein_raw"
   ]
  },
  {
   "cell_type": "code",
   "execution_count": 829,
   "id": "4d2dcbc0-05e3-4fed-a501-53a654c06de6",
   "metadata": {},
   "outputs": [
    {
     "data": {
      "text/plain": [
       "77"
      ]
     },
     "execution_count": 829,
     "metadata": {},
     "output_type": "execute_result"
    }
   ],
   "source": [
    "len(Protein_raw)"
   ]
  },
  {
   "cell_type": "code",
   "execution_count": 830,
   "id": "2aa8030d-a438-4476-958a-f72b517ee981",
   "metadata": {},
   "outputs": [],
   "source": [
    "if len(Protein_raw)!=0:\n",
    "    collections_Protein_raw.insert_many(Protein_raw)"
   ]
  },
  {
   "cell_type": "code",
   "execution_count": null,
   "id": "b5503279-35e3-4f00-8c1a-da37b884ee4b",
   "metadata": {},
   "outputs": [],
   "source": []
  },
  {
   "cell_type": "markdown",
   "id": "0600b789-005a-473e-948c-0470d469c171",
   "metadata": {},
   "source": [
    "# Protein_all"
   ]
  },
  {
   "cell_type": "code",
   "execution_count": 409,
   "id": "53e6012f-052e-42b2-bcb4-4fa4b5969ba6",
   "metadata": {},
   "outputs": [],
   "source": [
    "collections_Protein_all=db.Protein_all"
   ]
  },
  {
   "cell_type": "markdown",
   "id": "ac1ea661-0cd4-40bb-b71d-0844db5e49fd",
   "metadata": {},
   "source": [
    "collections_Protein_all.remove({'addtime':now_time})"
   ]
  },
  {
   "cell_type": "code",
   "execution_count": 601,
   "id": "a3f97229-bbb0-44ec-9605-fc1aed40a8ef",
   "metadata": {},
   "outputs": [],
   "source": [
    "Protein_raw_all=list(collections_Protein_raw.find())"
   ]
  },
  {
   "cell_type": "code",
   "execution_count": 605,
   "id": "c055c08d-bcff-467b-89a7-d361a69ce12e",
   "metadata": {},
   "outputs": [
    {
     "data": {
      "text/plain": [
       "1828"
      ]
     },
     "execution_count": 605,
     "metadata": {},
     "output_type": "execute_result"
    }
   ],
   "source": [
    "len(Protein_raw_all)"
   ]
  },
  {
   "cell_type": "code",
   "execution_count": 470,
   "id": "4e7c6bac-faab-40e1-a708-b2bbaed5ffa9",
   "metadata": {},
   "outputs": [
    {
     "name": "stdout",
     "output_type": "stream",
     "text": [
      "{'_id': ObjectId('63fa4011648b16758fbbfc27'), 'AB': 'AIMS: Real-world evidence about heart failure (HF) medical care for elderly patients is limited. The aim of this study was to clarify the age-dependent associations of HF medications at discharge with clinical outcomes in a super-aged society using a real-world big database. METHODS AND RESULTS: Patients hospitalized with a first episode of acute HF in 2013-2019 were identified in a nationwide claims database in Japan and were analyzed based on the HF medications at discharge. Hazard ratios (HRs) and 95 % confidence intervals (95 % CIs) for clinical outcomes were calculated after adjustment. Among 325,468 patients from 4351 hospitals, 130,230 (40.0 %) were aged >= 85 years. All-cause mortality and HF readmission rate within 1 year were 14 % and 23 %, respectively. beta-Blockers and angiotensin-converting-enzyme inhibitors or angiotensin II receptor blockers (ACEI/ARB) uses were associated with lower mortality (HR [95 %CI]: 0.84 [0.83,0.86] and 0.73 [0.71,0.74], respectively) and HF readmission (0.98 [0.97,0.99] and 0.89 [0.88,0.90], respectively). The associations were attenuated as the age increased and, in beta-blockers use, the favorable associations with mortality and HF readmission were not observed in patients with >= 95 years and >= 80 years, respectively. In contrast, mineralocorticoid receptor antagonists (MRA) use was associated only with lower HF readmission (0.83 [0.82,0.84]), which was not attenuated with increased age. CONCLUSIONS: The favorable associations of beta-blockers and ACEI/ARB uses with mortality and HF readmission were age-dependently attenuated in patients across a broad spectrum of HF in a super-aged society. In contrast, positive impact of MRA use on HF readmission was not attenuated with aging.', 'type': 'Protein', 'identifier': 'MESH:D000809', 'sentence': 'beta-Blockers and angiotensin-converting-enzyme inhibitors or angiotensin II receptor blockers (ACEI/ARB) uses were associated with lower mortality (HR [95 %CI]: 0.84 [0.83,0.86] and 0.73 [0.71,0.74], respectively) and HF readmission (0.98 [0.97,0.99] and 0.89 [0.88,0.90], respectively).', 'sentenceSize': 11, 'sentenceIndex': 6, 'addtime': '2022_12_09', 'PMID': '36271549', 'word': 'angiotensin', 'class': ['Peptide', 'Protein'], 'subclass': 'Angiotensins', 'url': '/mesh/68000809', 'DP': '2022 Nov', 'URL': 'https://pubmed.ncbi.nlm.nih.gov/36271549', 'TI': 'Age-dependent association of discharge heart-failure medications with clinical outcomes in a super-aged society.', 'entity': 'Angiotensins', 'target': 'angiotensin', 'JT': 'Biomedicine & pharmacotherapy = Biomedecine & pharmacotherapie', 'MESH': 'D000809', 'Summary': 'Oligopeptides which are important in the regulation of blood pressure (VASOCONSTRICTION) and fluid homeostasis via the RENIN-ANGIOTENSIN SYSTEM. These include angiotensins derived naturally from precursor ANGIOTENSINOGEN, and those synthesized.', 'YearIntroduced': '1978', 'date': 20221101, 'year': 2022}\n"
     ]
    }
   ],
   "source": [
    "for i in Protein_raw_all:\n",
    "    if i.get('entity')=='Angiotensins':\n",
    "        print(i)\n"
   ]
  },
  {
   "cell_type": "code",
   "execution_count": 471,
   "id": "53d63724-eeb2-4acc-b1c5-f5b81e9027e4",
   "metadata": {},
   "outputs": [],
   "source": [
    "for i in Protein_raw_all:\n",
    "    i['type']='Protein'\n",
    "    i[\"PMID\"]=[i.get(\"PMID\")]\n",
    "    i[\"sentence\"]=[[i.get(\"sentence\")]]\n",
    "    pmid=i.get('PMID')[0]\n",
    "    i['DP']=[i.get(\"DP\")]\n",
    "    i['AB']=[i.get(\"AB\")]\n",
    "    i['URL']='https://pubmed.ncbi.nlm.nih.gov/'+pmid\n",
    "    i['TI']=[i.get(\"TI\")]\n",
    "    i['target']=[[i.get('word')]]\n",
    "    i[\"date\"]=[i.get(\"date\")]\n",
    "    i[\"year\"]=[i.get(\"year\")]\n",
    "    i['JT']=[i.get('JT')]"
   ]
  },
  {
   "cell_type": "code",
   "execution_count": 472,
   "id": "cc980a7b-75e3-453c-b137-e76ffa389908",
   "metadata": {},
   "outputs": [],
   "source": [
    "Protein_mid={}\n",
    "for i in Protein_raw_all:\n",
    "    if not Protein_mid.get(i.get(\"entity\")):\n",
    "        Protein_mid[i.get(\"entity\")]=i\n",
    "    else:\n",
    "        if i.get('PMID')[0] in Protein_mid.get(i.get('entity')).get('PMID'):\n",
    "\n",
    "            ind=Protein_mid.get(i.get('entity')).get('PMID').index(i.get('PMID')[0])\n",
    "            if i.get(\"sentence\")[0][0] in Protein_mid.get(i.get('entity')).get('sentence')[ind]:\n",
    "                continue\n",
    "            else:\n",
    "                Protein_mid[i.get('entity')]['sentence'][ind] = Protein_mid.get(i.get('entity')).get('sentence')[ind] + i.get(\"sentence\")[0]\n",
    "                Protein_mid[i.get('entity')]['target'][ind] = Protein_mid.get(i.get('entity')).get('target')[ind] + i.get(\"target\")[0]\n",
    "\n",
    "        else:\n",
    "            Protein_mid[i.get(\"entity\")][\"PMID\"]=Protein_mid.get(i.get(\"entity\")).get(\"PMID\")+i.get(\"PMID\")\n",
    "            Protein_mid[i.get(\"entity\")][\"sentence\"]=Protein_mid.get(i.get(\"entity\")).get(\"sentence\")+i.get(\"sentence\")\n",
    "            Protein_mid[i.get(\"entity\")][\"AB\"]=Protein_mid.get(i.get(\"entity\")).get(\"AB\")+i.get(\"AB\")\n",
    "            Protein_mid[i.get(\"entity\")][\"DP\"]=Protein_mid.get(i.get(\"entity\")).get(\"DP\")+i.get(\"DP\")\n",
    "            Protein_mid[i.get(\"entity\")][\"TI\"]=Protein_mid.get(i.get(\"entity\")).get(\"TI\")+i.get(\"TI\")\n",
    "            Protein_mid[i.get(\"entity\")][\"target\"]=Protein_mid.get(i.get(\"entity\")).get(\"target\")+i.get(\"target\")\n",
    "            Protein_mid[i.get(\"entity\")][\"date\"]=Protein_mid.get(i.get(\"entity\")).get(\"date\")+i.get(\"date\")\n",
    "            Protein_mid[i.get(\"entity\")][\"year\"]=Protein_mid.get(i.get(\"entity\")).get(\"year\")+i.get(\"year\")\n",
    "            Protein_mid[i.get(\"entity\")][\"JT\"]=Protein_mid.get(i.get(\"entity\")).get(\"JT\")+i.get(\"JT\")"
   ]
  },
  {
   "cell_type": "code",
   "execution_count": 473,
   "id": "ab3c1ea9-563c-4c1e-b410-b3e8108c965a",
   "metadata": {},
   "outputs": [],
   "source": [
    "Protein_all=list(Protein_mid.values())"
   ]
  },
  {
   "cell_type": "code",
   "execution_count": 474,
   "id": "9153c316-2715-4df0-8a84-3694a94c5669",
   "metadata": {},
   "outputs": [
    {
     "data": {
      "text/plain": [
       "23"
      ]
     },
     "execution_count": 474,
     "metadata": {},
     "output_type": "execute_result"
    }
   ],
   "source": [
    "len(Protein_all)"
   ]
  },
  {
   "cell_type": "code",
   "execution_count": 475,
   "id": "b59cfcca-1ec7-4255-9515-26285cf88ba5",
   "metadata": {},
   "outputs": [],
   "source": [
    "for i in Protein_all:\n",
    "    i['allyears']=[]\n",
    "    i['datestring']=[]\n",
    "    for j in i.get('date'):\n",
    "        if int(str(j)[:4]) not in i.get('allyears'):\n",
    "            i['allyears']= i.get('allyears')+[int(str(j)[:4])]\n",
    "    for j in i.get('date'):\n",
    "        if str(j)[:4]+\"-\"+str(j)[4:6]+\"-\"+str(j)[6:] not in i.get('datestring'):\n",
    "            i['datestring']=i.get('datestring')+[str(j)[:4]+\"-\"+str(j)[4:6]+\"-\"+str(j)[6:]]\n",
    "    i['allyears']=sorted(i.get('allyears'), reverse=True)\n",
    "    i['datestring']=sorted(i.get('datestring'), reverse=True)\n",
    "    upperlist=set()\n",
    "    for j in sum(i.get('target'),[]):\n",
    "        upperlist.add(j.upper())\n",
    "    i['targetshapes']=list(upperlist)\n",
    "    i['addtime']=now_time"
   ]
  },
  {
   "cell_type": "code",
   "execution_count": 839,
   "id": "2bcfc552-a299-4ed8-acff-6f52a8364a7e",
   "metadata": {},
   "outputs": [],
   "source": [
    "# collections_Protein_all.insert_many(Protein_all)"
   ]
  },
  {
   "cell_type": "code",
   "execution_count": null,
   "id": "36150de1-b97e-43f0-915f-d50a6f17eaba",
   "metadata": {},
   "outputs": [],
   "source": []
  },
  {
   "cell_type": "markdown",
   "id": "527e2d5d-9ca7-4cf8-b7a9-394e3aa373b3",
   "metadata": {},
   "source": [
    "# Toxin_raw"
   ]
  },
  {
   "cell_type": "code",
   "execution_count": 146,
   "id": "af9671ce-ba93-4c2a-9ce8-8cef9e203d44",
   "metadata": {},
   "outputs": [],
   "source": [
    "collections_Toxin_raw=db.Toxin_raw"
   ]
  },
  {
   "cell_type": "code",
   "execution_count": 841,
   "id": "cd6b13c3-e55f-4a2a-84e3-169f9a585f77",
   "metadata": {},
   "outputs": [
    {
     "data": {
      "text/plain": [
       "14"
      ]
     },
     "execution_count": 841,
     "metadata": {},
     "output_type": "execute_result"
    }
   ],
   "source": [
    "len(Toxin_raw)"
   ]
  },
  {
   "cell_type": "code",
   "execution_count": 842,
   "id": "933ce7fd-b1b7-477e-9714-c76e1a5a9ddd",
   "metadata": {},
   "outputs": [],
   "source": [
    "if len(Toxin_raw)!=0:\n",
    "    collections_Toxin_raw.insert_many(Toxin_raw)"
   ]
  },
  {
   "cell_type": "code",
   "execution_count": null,
   "id": "c4dd4c54-43a5-4ae1-99ff-e60464d89e23",
   "metadata": {},
   "outputs": [],
   "source": []
  },
  {
   "cell_type": "markdown",
   "id": "e5358328-e66a-422b-b6b0-7cfebba6245a",
   "metadata": {},
   "source": [
    "# Toxin_all"
   ]
  },
  {
   "cell_type": "code",
   "execution_count": 843,
   "id": "11971828-2004-4af1-a9ae-dc5fb572e66e",
   "metadata": {},
   "outputs": [],
   "source": [
    "collections_Toxin_all=db.Toxin_all"
   ]
  },
  {
   "cell_type": "markdown",
   "id": "dcd47f47-485e-49ab-8ba2-94e187478240",
   "metadata": {},
   "source": [
    "collections_Toxin_all.remove({'addtime':now_time})"
   ]
  },
  {
   "cell_type": "code",
   "execution_count": 476,
   "id": "2599a64f-e3bf-47fa-9460-1fed7156f57b",
   "metadata": {},
   "outputs": [],
   "source": [
    "Toxin_raw_all=list(collections_Toxin_raw.find())"
   ]
  },
  {
   "cell_type": "code",
   "execution_count": 609,
   "id": "83c8bdc6-0a2d-4ef1-b40c-ba52ee2ab846",
   "metadata": {},
   "outputs": [
    {
     "data": {
      "text/plain": [
       "539"
      ]
     },
     "execution_count": 609,
     "metadata": {},
     "output_type": "execute_result"
    }
   ],
   "source": [
    "len(Toxin_raw_all)"
   ]
  },
  {
   "cell_type": "code",
   "execution_count": 478,
   "id": "7bda1817-5c2f-4ec3-b1a9-32e47687e37b",
   "metadata": {},
   "outputs": [],
   "source": [
    "for i in Toxin_raw_all:\n",
    "    i['type']='Toxin'\n",
    "    i[\"PMID\"]=[i.get(\"PMID\")]\n",
    "    i[\"sentence\"]=[[i.get(\"sentence\")]]\n",
    "    pmid=i.get('PMID')[0]\n",
    "    i['DP']=[i.get(\"DP\")]\n",
    "    i['AB']=[i.get(\"AB\")]\n",
    "    i['URL']='https://pubmed.ncbi.nlm.nih.gov/'+pmid\n",
    "    i['TI']=[i.get(\"TI\")]\n",
    "    i['target']=[[i.get('word')]]\n",
    "    i[\"date\"]=[i.get(\"date\")]\n",
    "    i[\"year\"]=[i.get(\"year\")]\n",
    "    i['JT']=[i.get('JT')]"
   ]
  },
  {
   "cell_type": "code",
   "execution_count": 479,
   "id": "51adda98-1e40-4ee6-ae53-dc2e309e7472",
   "metadata": {},
   "outputs": [],
   "source": [
    "Toxin_mid={}\n",
    "for i in Toxin_raw_all:\n",
    "    if not Toxin_mid.get(i.get(\"entity\")):\n",
    "        Toxin_mid[i.get(\"entity\")]=i\n",
    "    else:\n",
    "        if i.get('PMID')[0] in Toxin_mid.get(i.get('entity')).get('PMID'):\n",
    "\n",
    "            ind=Toxin_mid.get(i.get('entity')).get('PMID').index(i.get('PMID')[0])\n",
    "            if i.get(\"sentence\")[0][0] in Toxin_mid.get(i.get('entity')).get('sentence')[ind]:\n",
    "                continue\n",
    "            else:\n",
    "                Toxin_mid[i.get('entity')]['sentence'][ind] = Toxin_mid.get(i.get('entity')).get('sentence')[ind] + i.get(\"sentence\")[0]\n",
    "                Toxin_mid[i.get('entity')]['target'][ind] = Toxin_mid.get(i.get('entity')).get('target')[ind] + i.get(\"target\")[0]\n",
    "\n",
    "        else:\n",
    "            Toxin_mid[i.get(\"entity\")][\"PMID\"]=Toxin_mid.get(i.get(\"entity\")).get(\"PMID\")+i.get(\"PMID\")\n",
    "            Toxin_mid[i.get(\"entity\")][\"sentence\"]=Toxin_mid.get(i.get(\"entity\")).get(\"sentence\")+i.get(\"sentence\")\n",
    "            Toxin_mid[i.get(\"entity\")][\"AB\"]=Toxin_mid.get(i.get(\"entity\")).get(\"AB\")+i.get(\"AB\")\n",
    "            Toxin_mid[i.get(\"entity\")][\"DP\"]=Toxin_mid.get(i.get(\"entity\")).get(\"DP\")+i.get(\"DP\")\n",
    "            Toxin_mid[i.get(\"entity\")][\"TI\"]=Toxin_mid.get(i.get(\"entity\")).get(\"TI\")+i.get(\"TI\")\n",
    "            Toxin_mid[i.get(\"entity\")][\"target\"]=Toxin_mid.get(i.get(\"entity\")).get(\"target\")+i.get(\"target\")\n",
    "            Toxin_mid[i.get(\"entity\")][\"date\"]=Toxin_mid.get(i.get(\"entity\")).get(\"date\")+i.get(\"date\")\n",
    "            Toxin_mid[i.get(\"entity\")][\"year\"]=Toxin_mid.get(i.get(\"entity\")).get(\"year\")+i.get(\"year\")\n",
    "            Toxin_mid[i.get(\"entity\")][\"JT\"]=Toxin_mid.get(i.get(\"entity\")).get(\"JT\")+i.get(\"JT\")"
   ]
  },
  {
   "cell_type": "code",
   "execution_count": 480,
   "id": "b951c8c6-a714-427a-a185-200bfd887204",
   "metadata": {},
   "outputs": [],
   "source": [
    "Toxin_all=list(Toxin_mid.values())"
   ]
  },
  {
   "cell_type": "code",
   "execution_count": 481,
   "id": "5f02de80-cb97-48fa-ae08-d1e4b697bc5d",
   "metadata": {},
   "outputs": [
    {
     "data": {
      "text/plain": [
       "18"
      ]
     },
     "execution_count": 481,
     "metadata": {},
     "output_type": "execute_result"
    }
   ],
   "source": [
    "len(Toxin_all)"
   ]
  },
  {
   "cell_type": "code",
   "execution_count": 482,
   "id": "58499e46-bf2b-474e-877a-8fa6bb60c36d",
   "metadata": {},
   "outputs": [],
   "source": [
    "for i in Toxin_all:\n",
    "    i['allyears']=[]\n",
    "    i['datestring']=[]\n",
    "    for j in i.get('date'):\n",
    "        if int(str(j)[:4]) not in i.get('allyears'):\n",
    "            i['allyears']= i.get('allyears')+[int(str(j)[:4])]\n",
    "    for j in i.get('date'):\n",
    "        if str(j)[:4]+\"-\"+str(j)[4:6]+\"-\"+str(j)[6:] not in i.get('datestring'):\n",
    "            i['datestring']=i.get('datestring')+[str(j)[:4]+\"-\"+str(j)[4:6]+\"-\"+str(j)[6:]]\n",
    "    i['allyears']=sorted(i.get('allyears'), reverse=True)\n",
    "    i['datestring']=sorted(i.get('datestring'), reverse=True)\n",
    "    upperlist=set()\n",
    "    for j in sum(i.get('target'),[]):\n",
    "        upperlist.add(j.upper())\n",
    "    i['targetshapes']=list(upperlist)\n",
    "    i['addtime']=now_time"
   ]
  },
  {
   "cell_type": "code",
   "execution_count": 851,
   "id": "4e0466a9-d3e9-496c-9056-dbb73a492773",
   "metadata": {},
   "outputs": [],
   "source": [
    "# collections_Toxin_all.insert_many(Toxin_all)"
   ]
  },
  {
   "cell_type": "code",
   "execution_count": null,
   "id": "ef05b815-a0a2-45f3-86e7-3862042f0273",
   "metadata": {},
   "outputs": [],
   "source": []
  },
  {
   "cell_type": "markdown",
   "id": "b51e41e7-bff4-4cc4-a4da-2b5c500f2329",
   "metadata": {},
   "source": [
    "# Mutation_raw"
   ]
  },
  {
   "cell_type": "code",
   "execution_count": 154,
   "id": "bd06e5fc-d58a-44ed-be1e-1efda3476946",
   "metadata": {},
   "outputs": [],
   "source": [
    "collections_Mutation_raw=db.Mutation_raw"
   ]
  },
  {
   "cell_type": "markdown",
   "id": "97847d7c-084b-4c3a-b505-6dc1fb7078f2",
   "metadata": {},
   "source": [
    "collections_Mutation_raw.remove({'addtime':now_time})"
   ]
  },
  {
   "cell_type": "code",
   "execution_count": 275,
   "id": "5f5709d0-61d1-4124-a32f-1f8abbfbbf87",
   "metadata": {},
   "outputs": [],
   "source": [
    "Mutation_pubtator_addpmid={}\n",
    "for i in pubtator_raw:\n",
    "    if i.get('type')=='Mutation':\n",
    "        if Mutation_pubtator_addpmid.get(i.get('id')):\n",
    "            Mutation_pubtator_addpmid[i.get('id')]=Mutation_pubtator_addpmid.get(i.get('id'))+[i]\n",
    "        else:\n",
    "            Mutation_pubtator_addpmid[i.get('id')]=[i]"
   ]
  },
  {
   "cell_type": "code",
   "execution_count": 276,
   "id": "5348d5fb-0d7d-4d34-a9f1-0c28fc6fcf9f",
   "metadata": {},
   "outputs": [],
   "source": [
    "Mutation_output_json=list(Mutation_pubtator_addpmid.values())"
   ]
  },
  {
   "cell_type": "code",
   "execution_count": 277,
   "id": "041be998-2c86-4772-b88a-ad84741821f6",
   "metadata": {},
   "outputs": [],
   "source": [
    "Mutation_raw=sum(Mutation_output_json,[])"
   ]
  },
  {
   "cell_type": "code",
   "execution_count": 278,
   "id": "756ab719-9d98-491f-b1f9-25b1d422588d",
   "metadata": {},
   "outputs": [
    {
     "data": {
      "text/plain": [
       "169"
      ]
     },
     "execution_count": 278,
     "metadata": {},
     "output_type": "execute_result"
    }
   ],
   "source": [
    "len(Mutation_raw)"
   ]
  },
  {
   "cell_type": "code",
   "execution_count": 279,
   "id": "fb30ea18-5476-4cd6-8cd8-b2f33bf9848a",
   "metadata": {},
   "outputs": [],
   "source": [
    "for i in Mutation_raw:\n",
    "    i['PMID']=i.get('id')\n",
    "    i['word']=i.get('text')\n",
    "    del i['id']\n",
    "    del i['text']"
   ]
  },
  {
   "cell_type": "code",
   "execution_count": 280,
   "id": "06ddd7e6-d40b-4caf-ab96-8f55fbd250d0",
   "metadata": {},
   "outputs": [],
   "source": [
    "Mutation_deduplicated=set()\n",
    "Mutation_deduplicated_count=0\n",
    "mutation_list_raw=[]\n",
    "for i in Mutation_raw:\n",
    "    if i.get('identifier'):\n",
    "        k=i.get('PMID')\n",
    "        i['DP']=rawpickwithAB.get(k).get('DP')\n",
    "        i['AB']=rawpickwithAB.get(k).get('AB')\n",
    "        i['URL']='https://pubmed.ncbi.nlm.nih.gov/'+k\n",
    "        i['TI']=rawpickwithAB.get(k).get('TI')\n",
    "        i['entity']=i.get('identifier')\n",
    "        i['target']=i.get('word')\n",
    "        i['type']='Mutation'\n",
    "        i['JT']=rawpickwithAB.get(k).get('JT')\n",
    "        # tuples=(i.get(\"PMID\"),i.get(\"entity\"),i.get(\"word\"),i.get(\"sentence\"))\n",
    "        tuples=(i.get(\"PMID\"),i.get(\"entity\"),i.get(\"word\"),i.get(\"sentence\"))\n",
    "        if tuples not in Mutation_deduplicated:\n",
    "            Mutation_deduplicated.add(tuples)\n",
    "            mutation_list_raw.append(i)\n",
    "        else:\n",
    "            Mutation_deduplicated_count+=1\n",
    "            continue"
   ]
  },
  {
   "cell_type": "code",
   "execution_count": 281,
   "id": "57fded29-8121-414a-afa4-116732e2b54b",
   "metadata": {},
   "outputs": [
    {
     "data": {
      "text/plain": [
       "149"
      ]
     },
     "execution_count": 281,
     "metadata": {},
     "output_type": "execute_result"
    }
   ],
   "source": [
    "len(mutation_list_raw)"
   ]
  },
  {
   "cell_type": "code",
   "execution_count": 282,
   "id": "336578c7-8ac9-4bc5-a20f-5ed0aff21bc3",
   "metadata": {},
   "outputs": [],
   "source": [
    "import re\n",
    "dropout1=[]\n",
    "dropout2=[]\n",
    "for i in mutation_list_raw:\n",
    "    if re.match(r'rs\\d+',i.get('identifier')):\n",
    "        dropout1.append(i)\n",
    "    else:\n",
    "        dropout2.append(i)"
   ]
  },
  {
   "cell_type": "code",
   "execution_count": 283,
   "id": "40468481-b0bd-43ed-abb6-ae0c30f8fb1f",
   "metadata": {},
   "outputs": [
    {
     "data": {
      "text/plain": [
       "124"
      ]
     },
     "execution_count": 283,
     "metadata": {},
     "output_type": "execute_result"
    }
   ],
   "source": [
    "len(dropout1)"
   ]
  },
  {
   "cell_type": "code",
   "execution_count": 284,
   "id": "cc25e5aa-71b8-4222-bad9-776ce9ee38ce",
   "metadata": {},
   "outputs": [
    {
     "data": {
      "text/plain": [
       "25"
      ]
     },
     "execution_count": 284,
     "metadata": {},
     "output_type": "execute_result"
    }
   ],
   "source": [
    "len(dropout2)"
   ]
  },
  {
   "cell_type": "code",
   "execution_count": 285,
   "id": "2411a0eb-34df-45e0-a298-f792b87e9bc4",
   "metadata": {},
   "outputs": [],
   "source": [
    "mutation2ncbi={}\n",
    "for i in dropout1:\n",
    "    mutation2ncbi[i.get('entity')]={}"
   ]
  },
  {
   "cell_type": "code",
   "execution_count": 286,
   "id": "d7af6c7d-8236-4b04-be7f-ce26b05b76be",
   "metadata": {},
   "outputs": [
    {
     "data": {
      "text/plain": [
       "69"
      ]
     },
     "execution_count": 286,
     "metadata": {},
     "output_type": "execute_result"
    }
   ],
   "source": [
    "len(mutation2ncbi)"
   ]
  },
  {
   "cell_type": "code",
   "execution_count": 287,
   "id": "9c292db9-7637-493c-aceb-c82b3efc2cf6",
   "metadata": {},
   "outputs": [],
   "source": [
    "mutation_converter=pickle.load(open('../ncbi/Mutation_converter.pkl','rb'))"
   ]
  },
  {
   "cell_type": "code",
   "execution_count": 288,
   "id": "20b91565-96d5-45c0-90a4-0ed6f0cf7a9f",
   "metadata": {},
   "outputs": [
    {
     "data": {
      "text/plain": [
       "1853"
      ]
     },
     "execution_count": 288,
     "metadata": {},
     "output_type": "execute_result"
    }
   ],
   "source": [
    "len(mutation_converter)"
   ]
  },
  {
   "cell_type": "code",
   "execution_count": 289,
   "id": "e4d2ba8c-bc13-4638-824f-bc5db3c7312a",
   "metadata": {},
   "outputs": [],
   "source": [
    "import time\n",
    "import datetime\n",
    "from multiprocessing import Process, Manager, Pool\n",
    "import os, time, random\n",
    "from lxml import etree\n",
    "import requests\n",
    "def get_mutation_info(i,final_mutations_inte):\n",
    "    headers = {\n",
    "        \"User-Agent\": \"Mozilla/5.0 (Windows NT 10.0; Win64; x64) AppleWebKit/537.36 \\\n",
    "        (KHTML, like Gecko) Chrome/83.0.4103.97 Safari/537.36\"\n",
    "    }\n",
    "    url = 'https://www.ncbi.nlm.nih.gov/snp/' + i\n",
    "    html = etree.HTML(requests.get(url=url,headers=headers).content)\n",
    "    ncbisummary={\n",
    "    'Position':''.join(html.xpath('//*[@class=\"usa-width-one-half\"][1]/dd[2]/span[1]/text()'))+''.join(html.xpath('//*[@class=\"usa-width-one-half\"][1]/dd[2]/span[2]/text()')),\n",
    "    # 'Position':html.xpath('//*[@class=\"usa-width-one-half\"][1]/dd[2]/span[1]/text()')+html.xpath('//*[@class=\"usa-width-one-half\"][1]/dd[2]/span[2]/text()'),\n",
    "    'Alleles':''.join(html.xpath('normalize-space(//*[@class=\"usa-width-one-half\"][1]/dd[3]/text())')),\n",
    "    'Clinical Significance':'https://www.ncbi.nlm.nih.gov'+''.join(html.xpath('//*[@class=\"usa-width-one-half\"][2]/dd[1]/a/@href')) if html.xpath('//*[@class=\"usa-width-one-half\"][2]/dd[1]/a/@href') else '',\n",
    "    'Gene : Consequence':[''.join(html.xpath('//*[@class=\"usa-width-one-half\"][2]/dd[2]/div[1]/text()')),''.join(html.xpath('//*[@class=\"usa-width-one-half\"][2]/dd[2]/span[1]/text()'))] if ''.join(html.xpath('//*[@class=\"usa-width-one-half\"][2]/dd[2]/div[1]/text()')) else [''.join(html.xpath('//*[@class=\"usa-width-one-half\"][2]/dd[2]/span[1]/text()'))],\n",
    "    'Genomic View':url+''.join(html.xpath('//*[@class=\"usa-width-one-half\"][2]/dd[4]/a/@href')),\n",
    "    }\n",
    "    final_mutations_inte.update({i:ncbisummary})\n",
    "    time.sleep(0.5)"
   ]
  },
  {
   "cell_type": "code",
   "execution_count": 290,
   "id": "ec7ed90a-637c-47f6-b46c-cc947bb4bf43",
   "metadata": {},
   "outputs": [],
   "source": [
    "judge=False\n",
    "p = Pool(10)\n",
    "manager=Manager()\n",
    "final_mutations_inte = manager.dict()\n",
    "for i in mutation2ncbi.keys():\n",
    "    if not mutation_converter.get(i):\n",
    "        p.apply_async(get_mutation_info, args=(i,final_mutations_inte))\n",
    "        judge=True\n",
    "p.close()\n",
    "p.join()\n",
    "if judge:\n",
    "    mutation_converter.update(dict(final_mutations_inte))\n",
    "    pickle.dump(mutation_converter, open('../ncbi/Mutation_converter.pkl','wb'))"
   ]
  },
  {
   "cell_type": "code",
   "execution_count": 291,
   "id": "2d6ac30e-c038-4b70-8c03-9b38ab7be02d",
   "metadata": {},
   "outputs": [
    {
     "data": {
      "text/plain": [
       "1853"
      ]
     },
     "execution_count": 291,
     "metadata": {},
     "output_type": "execute_result"
    }
   ],
   "source": [
    "len(mutation_converter)"
   ]
  },
  {
   "cell_type": "code",
   "execution_count": 292,
   "id": "7472c6c0-ac9d-4521-ad06-6bc2eea82038",
   "metadata": {},
   "outputs": [],
   "source": [
    "for i in range(len(mutation_list_raw)):\n",
    "    if re.match(r'rs\\d+',mutation_list_raw[i].get('entity')):\n",
    "        mutation_list_raw[i]=dict(mutation_list_raw[i],**mutation_converter.get(mutation_list_raw[i].get('entity')))\n",
    "    else:\n",
    "        mutation_list_raw[i]=dict(mutation_list_raw[i],**{'Position':'','Alleles':'','Clinical Significance':'','Gene : Consequence':[''],'Genomic View':''})"
   ]
  },
  {
   "cell_type": "code",
   "execution_count": 293,
   "id": "c85ec6f7-5601-438b-a44c-a718b6941da0",
   "metadata": {},
   "outputs": [],
   "source": [
    "import time\n",
    "import datetime\n",
    "import re\n",
    "dropout=[]\n",
    "months=['Jan','Feb','Mar','Apr','May','Jun','Jul','Aug','Sep','Oct','Nov','Dec']\n",
    "import re\n",
    "\n",
    "for i in mutation_list_raw:\n",
    "    j=i.get('DP')\n",
    "    if re.search('[S,s]upplement',j,flags=re.M|re.I):\n",
    "        j=re.sub('[S,s]upplement.*','',j,flags=re.M|re.I)\n",
    "    j=re.sub('\\s?-\\s?','-',j)\n",
    "    j=re.sub('\\.','',j)\n",
    "    j=re.sub('Aout','Aug',j)\n",
    "    if len(j.split(' '))==3:\n",
    "        try:\n",
    "            date=int(datetime.datetime.strftime(datetime.datetime.strptime(j,'%Y %b %d'), '%Y%m%d'))\n",
    "        except:\n",
    "            if j.split()[1] in months:\n",
    "                if re.search(r'\\d+',j.split()[2],flags=re.M|re.I):\n",
    "                    j=j.split()[0]+' '+j.split()[1]+' '+ re.search(r'\\d+',j.split()[2],flags=re.M|re.I).group()\n",
    "                    try:\n",
    "                        date=int(datetime.datetime.strftime(datetime.datetime.strptime(j,'%Y %b %d'), '%Y%m%d'))\n",
    "                    except:\n",
    "                        j=j[:4]\n",
    "                        date=int(datetime.datetime.strftime(datetime.datetime.strptime(j,'%Y'), '%Y'+'0101'))\n",
    "                        print('***************************************ERROR**********************************************')\n",
    "                else:\n",
    "                    j=j.split()[0]+' '+j.split()[1]+' '+ '1'\n",
    "                    try:\n",
    "                        date=int(datetime.datetime.strftime(datetime.datetime.strptime(j,'%Y %b %d'), '%Y%m%d'))\n",
    "                    except:\n",
    "                        print(j)\n",
    "                        j=j[:4]\n",
    "                        date=int(datetime.datetime.strftime(datetime.datetime.strptime(j,'%Y'), '%Y'+'0101'))\n",
    "            elif j.split()[1] not in months:\n",
    "                if re.search(r'([a-zA-Z]+)[-/]([a-zA-Z]+)',j.split()[1],flags=re.M|re.I) or re.search(r'([a-zA-Z]+)[-/](\\d+)',j.split()[1],flags=re.M|re.I):\n",
    "                    if re.search(r'([a-zA-Z]+)[-/]([a-zA-Z]+)',j.split()[1],flags=re.M|re.I):\n",
    "                        middle=re.search(r'([a-zA-Z]+)[-/]([a-zA-Z]+)',j.split()[1],flags=re.M|re.I).group(1)\n",
    "                    else:\n",
    "                        middle=re.search(r'([a-zA-Z]+)[-/](\\d+)',j.split()[1],flags=re.M|re.I).group(1)\n",
    "                    if middle in months:\n",
    "                        if re.search(r'\\d+',j.split()[2],flags=re.M|re.I):\n",
    "                            j=j.split()[0]+' '+middle+' '+ re.search(r'\\d+',j.split()[2],flags=re.M|re.I).group()\n",
    "                        else:\n",
    "                            j=j.split()[0]+' '+middle+' '+ '1'\n",
    "                    elif re.match(r'Sum(mer)?',middle):\n",
    "                        if re.search(r'\\d+',j.split()[2],flags=re.M|re.I):\n",
    "                            j=j.split()[0]+' '+'Jun'+' '+ re.search(r'\\d+',j.split()[2],flags=re.M|re.I).group()\n",
    "                        else:\n",
    "                            j=j.split()[0]+' '+'Jun'+' '+ '1'\n",
    "                    elif re.match(r'Spr(ing)?',middle):\n",
    "                        if re.search(r'\\d+',j.split()[2],flags=re.M|re.I):\n",
    "                            j=j.split()[0]+' '+'Mar'+' '+ re.search(r'\\d+',j.split()[2],flags=re.M|re.I).group()\n",
    "                        else:\n",
    "                            j=j.split()[0]+' '+'Mar'+' '+ '1'\n",
    "                    elif re.match(r'Win(ter)?',middle):\n",
    "                        if re.search(r'\\d+',j.split()[2],flags=re.M|re.I):\n",
    "                            j=j.split()[0]+' '+'Dec'+' '+ re.search(r'\\d+',j.split()[2],flags=re.M|re.I).group()\n",
    "                        else:\n",
    "                            j=j.split()[0]+' '+'Dec'+' '+ '1'    \n",
    "                    elif re.match(r'Aut(umn)?',middle) or \\\n",
    "                    re.match(r'Fall',middle):\n",
    "                        if re.search(r'\\d+',j.split()[2],flags=re.M|re.I):\n",
    "                            j=j.split()[0]+' '+'Sep'+' '+ re.search(r'\\d+',j.split()[2],flags=re.M|re.I).group()\n",
    "                        else:\n",
    "                            j=j.split()[0]+' '+'Sep'+' '+ '1'      \n",
    "                    try:\n",
    "                        date=int(datetime.datetime.strftime(datetime.datetime.strptime(j,'%Y %b %d'), '%Y%m%d'))\n",
    "                    except:\n",
    "                        print(j)\n",
    "                        j=j[:4]\n",
    "                        date=int(datetime.datetime.strftime(datetime.datetime.strptime(j,'%Y'), '%Y'+'0101'))\n",
    "                else:\n",
    "                    j=j[:4]\n",
    "                    date=int(datetime.datetime.strftime(datetime.datetime.strptime(j,'%Y'), '%Y'+'0101'))\n",
    "    elif len(j.split())==2:\n",
    "        if re.match(r'Sum(mer)?',j.split()[1]):\n",
    "            date=int(j[:4]+'0601')\n",
    "        elif re.match(r'Spr(ing)?',j.split()[1]):\n",
    "            date=int(j[:4]+'0301')\n",
    "        elif re.match(r'Win(ter)?',j.split()[1]):\n",
    "            date=int(j[:4]+'1201')\n",
    "        elif re.match(r'Aut(umn)?',j.split()[1]) or re.match(r'Fall',j.split()[1]):\n",
    "            date=int(j[:4]+'0901')\n",
    "        elif re.match(r'Sum(mer)?',j.split()[0]):\n",
    "            date=int(j[-4:]+'0601')\n",
    "        elif re.match(r'Spr(ing)?',j.split()[0]):\n",
    "            date=int(j[-4:]+'0301')\n",
    "        elif re.match(r'Win(ter)?',j.split()[0]):\n",
    "            date=int(j[-4:]+'1201')\n",
    "        elif re.match(r'Aut(umn)?',j.split()[0]) or re.match(r'Fall',j.split()[0]):\n",
    "            date=int(j[-4:]+'0901')\n",
    "        else:\n",
    "            try:\n",
    "                date=int(datetime.datetime.strftime(datetime.datetime.strptime(j,'%Y %b'), '%Y%m'+'01'))\n",
    "            except:\n",
    "                if re.search(r'([a-zA-Z]+)[-/]([a-zA-Z]+)',j.split()[1],flags=re.M|re.I) or re.search(r'([a-zA-Z]+)[-/](\\d+)',j.split()[1],flags=re.M|re.I):\n",
    "                    if re.search(r'([a-zA-Z]+)[-/]([a-zA-Z]+)',j.split()[1],flags=re.M|re.I):\n",
    "                        middle=re.search(r'([a-zA-Z]+)[-/]([a-zA-Z]+)',j.split()[1],flags=re.M|re.I).group(1)\n",
    "                    else:\n",
    "                        middle=re.search(r'([a-zA-Z]+)[-/](\\d+)',j.split()[1],flags=re.M|re.I).group(1)\n",
    "                    if middle in months:\n",
    "                        j=j.split()[0]+' '+middle+' '+ '1'\n",
    "                    elif re.match(r'Sum(mer)?',middle):\n",
    "                        j=j.split()[0]+' '+'Jun'+' '+ '1'\n",
    "                    elif re.match(r'Spr(ing)?',middle):\n",
    "                        j=j.split()[0]+' '+'Mar'+' '+ '1'\n",
    "                    elif re.match(r'Win(ter)?',middle):\n",
    "                        j=j.split()[0]+' '+'Dec'+' '+ '1'    \n",
    "                    elif re.match(r'Aut(umn)?',middle) or \\\n",
    "                    re.match(r'Fall',middle):\n",
    "                        j=j.split()[0]+' '+'Sep'+' '+ '1'      \n",
    "                    try:\n",
    "                        date=int(datetime.datetime.strftime(datetime.datetime.strptime(j,'%Y %b %d'), '%Y%m%d'))\n",
    "                    except:\n",
    "                        j=j[:4]\n",
    "                        date=int(datetime.datetime.strftime(datetime.datetime.strptime(j,'%Y'), '%Y'+'0101'))\n",
    "                elif re.search(r'(\\d+)[-/](\\d+)',j.split()[1],flags=re.M|re.I):\n",
    "                    midd=re.search(r'(\\d+)[-/](\\d+)',j.split()[1],flags=re.M|re.I).group(1)\n",
    "                    if len(midd)!=2:\n",
    "                        midd='0'+midd\n",
    "                    j=j[:4]\n",
    "                    date=int(datetime.datetime.strftime(datetime.datetime.strptime(j,'%Y'), '%Y'+midd+'01'))\n",
    "                else:\n",
    "                    print(j)\n",
    "                    j=j[:4]\n",
    "                    date=int(datetime.datetime.strftime(datetime.datetime.strptime(j,'%Y'), '%Y'+'0101'))\n",
    "    elif len(j.split())==1:\n",
    "        j=j[:4]\n",
    "        date=int(datetime.datetime.strftime(datetime.datetime.strptime(j,'%Y'), '%Y'+'0101'))\n",
    "    else:\n",
    "        j=j.split()[0]+' '+j.split()[1]+' '+re.search(r'\\d+',j.split()[2],flags=re.M|re.I).group()\n",
    "        date=int(datetime.datetime.strftime(datetime.datetime.strptime(j,'%Y %b %d'), '%Y%m%d'))\n",
    "    i['date']=date\n",
    "    i['year']=int(str(i.get('date'))[:4])"
   ]
  },
  {
   "cell_type": "code",
   "execution_count": 294,
   "id": "5917c706-0261-40cb-8fdc-15f69fd6b451",
   "metadata": {},
   "outputs": [
    {
     "data": {
      "text/plain": [
       "149"
      ]
     },
     "execution_count": 294,
     "metadata": {},
     "output_type": "execute_result"
    }
   ],
   "source": [
    "len(mutation_list_raw)"
   ]
  },
  {
   "cell_type": "code",
   "execution_count": 295,
   "id": "6cc49f1e-0a75-4373-b32d-cc039508d70f",
   "metadata": {},
   "outputs": [
    {
     "data": {
      "text/plain": [
       "{'AB': 'Cognitive decline is part of the normal aging process. However, some people experience a more rapid decline than others due to environmental and genetic factors. Numerous single nucleotide polymorphisms (SNPs) have been linked to cognitive function, but only a few to cognitive decline. To understand whether cognitive function and cognitive decline are driven by the same mechanisms, we investigated whether 433 SNPs previously linked to cognitive function and 2 SNPs previously linked to cognitive decline are associated with both general cognitive functioning at baseline and general cognitive decline up to 20-years follow-up in the Doetinchem Cohort Study (DCS). The DCS is a longitudinal population-based study that enrolled men and women aged 20-59 years between 1987-1991, with follow-up examinations every 5 years. We used data of rounds 2-6 (1993-2017, n = 2559). General cognitive function was assessed using four cognition tests measuring memory, speed, fluency and flexibility. With these test scores, standardized residuals (adjusted for sex, age and examination round) were calculated for each cognition test at each round and subsequently combined into one general cognitive function measure using principal component analyses. None of the 435 previously identified variants were associated with baseline general cognitive function in the DCS. But rs429358-C, a coding apolipoprotein E (APOE) SNP and one of the variants previously associated with cognitive decline, was associated with general cognitive decline in our study as well (p-value = 1 x 10-5, Beta = -0.013). These findings suggest that decline of general cognitive function is influenced by other mechanisms than those that are involved in the regulation of general cognitive function.',\n",
       " 'type': 'Mutation',\n",
       " 'identifier': 'rs429358',\n",
       " 'sentence': 'But rs429358-C, a coding apolipoprotein E (APOE) SNP and one of the variants previously associated with cognitive decline, was associated with general cognitive decline in our study as well (p-value = 1 x 10-5, Beta = -0.013).',\n",
       " 'sentenceSize': 11,\n",
       " 'sentenceIndex': 9,\n",
       " 'addtime': '2022_12_09',\n",
       " '_id': ObjectId('639369f87aeeb1f33fdb57ae'),\n",
       " 'PMID': '36446774',\n",
       " 'word': 'rs429358',\n",
       " 'DP': '2022 Nov 29',\n",
       " 'URL': 'https://pubmed.ncbi.nlm.nih.gov/36446774',\n",
       " 'TI': 'The APOE locus is linked to decline in general cognitive function: 20-years follow-up in the Doetinchem Cohort Study.',\n",
       " 'entity': 'rs429358',\n",
       " 'target': 'rs429358',\n",
       " 'JT': 'Translational psychiatry',\n",
       " 'Position': 'chr19:44908684 (GRCh38.p13) ',\n",
       " 'Alleles': 'T>C',\n",
       " 'Clinical Significance': 'https://www.ncbi.nlm.nih.gov/clinvar?term=((682795[AlleleID])OR(32903[AlleleID]))',\n",
       " 'Gene : Consequence': ['APOE : Missense Variant'],\n",
       " 'Genomic View': 'https://www.ncbi.nlm.nih.gov/snp/rs429358#seq_hash',\n",
       " 'date': 20221129,\n",
       " 'year': 2022}"
      ]
     },
     "execution_count": 295,
     "metadata": {},
     "output_type": "execute_result"
    }
   ],
   "source": [
    "mutation_list_raw[0]"
   ]
  },
  {
   "cell_type": "code",
   "execution_count": 296,
   "id": "fce9f8d9-abc7-43d3-bbed-dd8b3db0099b",
   "metadata": {},
   "outputs": [],
   "source": [
    "Mutation_raw=copy.deepcopy(mutation_list_raw)"
   ]
  },
  {
   "cell_type": "code",
   "execution_count": 297,
   "id": "7da8bafa-bb06-4e57-a73d-d928d83abe94",
   "metadata": {},
   "outputs": [
    {
     "data": {
      "text/plain": [
       "<pymongo.results.InsertManyResult at 0x7f244ba5de40>"
      ]
     },
     "execution_count": 297,
     "metadata": {},
     "output_type": "execute_result"
    }
   ],
   "source": [
    "collections_Mutation_raw.insert_many(Mutation_raw)"
   ]
  },
  {
   "cell_type": "code",
   "execution_count": null,
   "id": "350e0a67-c663-4501-be93-485071a9bdbf",
   "metadata": {},
   "outputs": [],
   "source": []
  },
  {
   "cell_type": "markdown",
   "id": "a814a1c8-41a6-410c-8508-64140d206c9d",
   "metadata": {},
   "source": [
    "# Mutation_all"
   ]
  },
  {
   "cell_type": "code",
   "execution_count": 298,
   "id": "4b913388-5f36-47a3-8372-6c16411bd5be",
   "metadata": {},
   "outputs": [],
   "source": [
    "collections_Mutation_all=db.Mutation_all"
   ]
  },
  {
   "cell_type": "code",
   "execution_count": 483,
   "id": "f0df93a4-c633-4439-805d-6cf33d8fe64f",
   "metadata": {},
   "outputs": [],
   "source": [
    "Mutation_testcopy=list(collections_Mutation_raw.find())"
   ]
  },
  {
   "cell_type": "code",
   "execution_count": 484,
   "id": "33d6e1f0-4c92-4565-bf70-e08ecfb4ce25",
   "metadata": {},
   "outputs": [
    {
     "data": {
      "text/plain": [
       "6752"
      ]
     },
     "execution_count": 484,
     "metadata": {},
     "output_type": "execute_result"
    }
   ],
   "source": [
    "len(Mutation_testcopy)"
   ]
  },
  {
   "cell_type": "code",
   "execution_count": 485,
   "id": "15f5920a-a3e8-453d-a309-2982ef120fba",
   "metadata": {},
   "outputs": [],
   "source": [
    "for i in Mutation_testcopy:\n",
    "    i['type']='Mutation'\n",
    "    i[\"PMID\"]=[i.get(\"PMID\")]\n",
    "    i[\"sentence\"]=[[i.get(\"sentence\")]]\n",
    "    pmid=i.get('PMID')[0]\n",
    "    i['DP']=[i.get(\"DP\")]\n",
    "    i['AB']=[i.get(\"AB\")]\n",
    "    i['URL']='https://pubmed.ncbi.nlm.nih.gov/'+pmid\n",
    "    i['TI']=[i.get(\"TI\")]\n",
    "    i['target']=[[i.get('word')]]\n",
    "    i[\"date\"]=[i.get(\"date\")]\n",
    "    i[\"year\"]=[i.get(\"year\")]\n",
    "    i['JT']=[i.get('JT')]"
   ]
  },
  {
   "cell_type": "code",
   "execution_count": 486,
   "id": "87ce7b7e-cd59-48fe-bb69-67de24d32fdd",
   "metadata": {},
   "outputs": [],
   "source": [
    "Mutation_mid={}\n",
    "for i in Mutation_testcopy:\n",
    "    if not Mutation_mid.get(i.get(\"entity\")):\n",
    "        Mutation_mid[i.get(\"entity\")]=i\n",
    "    else:\n",
    "        if i.get('PMID')[0] in Mutation_mid.get(i.get('entity')).get('PMID'):\n",
    "\n",
    "            ind=Mutation_mid.get(i.get('entity')).get('PMID').index(i.get('PMID')[0])\n",
    "            if i.get(\"sentence\")[0][0] in Mutation_mid.get(i.get('entity')).get('sentence')[ind]:\n",
    "                continue\n",
    "            else:\n",
    "                Mutation_mid[i.get('entity')]['sentence'][ind] = Mutation_mid.get(i.get('entity')).get('sentence')[ind] + i.get(\"sentence\")[0]\n",
    "                Mutation_mid[i.get('entity')]['target'][ind] = Mutation_mid.get(i.get('entity')).get('target')[ind] + i.get(\"target\")[0]\n",
    "\n",
    "        else:\n",
    "            Mutation_mid[i.get(\"entity\")][\"PMID\"]=Mutation_mid.get(i.get(\"entity\")).get(\"PMID\")+i.get(\"PMID\")\n",
    "            Mutation_mid[i.get(\"entity\")][\"sentence\"]=Mutation_mid.get(i.get(\"entity\")).get(\"sentence\")+i.get(\"sentence\")\n",
    "            Mutation_mid[i.get(\"entity\")][\"AB\"]=Mutation_mid.get(i.get(\"entity\")).get(\"AB\")+i.get(\"AB\")\n",
    "            Mutation_mid[i.get(\"entity\")][\"DP\"]=Mutation_mid.get(i.get(\"entity\")).get(\"DP\")+i.get(\"DP\")\n",
    "            Mutation_mid[i.get(\"entity\")][\"TI\"]=Mutation_mid.get(i.get(\"entity\")).get(\"TI\")+i.get(\"TI\")\n",
    "            Mutation_mid[i.get(\"entity\")][\"target\"]=Mutation_mid.get(i.get(\"entity\")).get(\"target\")+i.get(\"target\")\n",
    "            Mutation_mid[i.get(\"entity\")][\"date\"]=Mutation_mid.get(i.get(\"entity\")).get(\"date\")+i.get(\"date\")\n",
    "            Mutation_mid[i.get(\"entity\")][\"year\"]=Mutation_mid.get(i.get(\"entity\")).get(\"year\")+i.get(\"year\")\n",
    "            Mutation_mid[i.get(\"entity\")][\"JT\"]=Mutation_mid.get(i.get(\"entity\")).get(\"JT\")+i.get(\"JT\")"
   ]
  },
  {
   "cell_type": "code",
   "execution_count": 487,
   "id": "ffb69d04-1a33-4d42-8bb8-e68c5435d4a4",
   "metadata": {},
   "outputs": [],
   "source": [
    "Mutation_all=list(Mutation_mid.values())"
   ]
  },
  {
   "cell_type": "code",
   "execution_count": 488,
   "id": "822d4798-8082-4a6c-9645-56f3bdfbd6af",
   "metadata": {},
   "outputs": [],
   "source": [
    "for i in Mutation_all:\n",
    "    i['allyears']=[]\n",
    "    i['datestring']=[]\n",
    "    for j in i.get('date'):\n",
    "        if int(str(j)[:4]) not in i.get('allyears'):\n",
    "            i['allyears']= i.get('allyears')+[int(str(j)[:4])]\n",
    "    for j in i.get('date'):\n",
    "        if str(j)[:4]+\"-\"+str(j)[4:6]+\"-\"+str(j)[6:] not in i.get('datestring'):\n",
    "            i['datestring']=i.get('datestring')+[str(j)[:4]+\"-\"+str(j)[4:6]+\"-\"+str(j)[6:]]\n",
    "    i['allyears']=sorted(i.get('allyears'), reverse=True)\n",
    "    i['datestring']=sorted(i.get('datestring'), reverse=True)\n",
    "    upperlist=set()\n",
    "    for j in sum(i.get('target'),[]):\n",
    "        upperlist.add(j.upper())\n",
    "    i['targetshapes']=list(upperlist)\n",
    "    i['addtime']=now_time"
   ]
  },
  {
   "cell_type": "code",
   "execution_count": 489,
   "id": "ef3d3c26-17b8-4193-9966-69ed7f8d2b2f",
   "metadata": {},
   "outputs": [
    {
     "data": {
      "text/plain": [
       "2612"
      ]
     },
     "execution_count": 489,
     "metadata": {},
     "output_type": "execute_result"
    }
   ],
   "source": [
    "len(Mutation_all)"
   ]
  },
  {
   "cell_type": "code",
   "execution_count": null,
   "id": "44937779-1bc4-42f8-87b5-20db4ce9bf87",
   "metadata": {},
   "outputs": [],
   "source": []
  },
  {
   "cell_type": "markdown",
   "id": "f79687e4-9fee-4e94-98ac-fd9f9b537182",
   "metadata": {},
   "source": [
    "# Disease_raw"
   ]
  },
  {
   "cell_type": "code",
   "execution_count": 162,
   "id": "d0dd3a6a-0c7a-4860-a540-4d084c6e4cf9",
   "metadata": {},
   "outputs": [],
   "source": [
    "collections_Disease_raw=db.Disease_raw"
   ]
  },
  {
   "cell_type": "markdown",
   "id": "e24203f6-943d-4ed6-ad5b-e1a27fb05793",
   "metadata": {},
   "source": [
    "collections_Disease_raw.remove({'addtime':now_time})"
   ]
  },
  {
   "cell_type": "code",
   "execution_count": 307,
   "id": "449f9be4-c30b-4aad-93e5-28e527f43174",
   "metadata": {},
   "outputs": [],
   "source": [
    "Disease_pubtator_addpmid={}\n",
    "for i in pubtator_raw:\n",
    "    if i.get('type')=='Disease':\n",
    "        if Disease_pubtator_addpmid.get(i.get('id')):\n",
    "            Disease_pubtator_addpmid[i.get('id')]=Disease_pubtator_addpmid.get(i.get('id'))+[i]\n",
    "        else:\n",
    "            Disease_pubtator_addpmid[i.get('id')]=[i]"
   ]
  },
  {
   "cell_type": "code",
   "execution_count": 308,
   "id": "48e8ced4-8bba-4eeb-9f33-a891bfacc3a9",
   "metadata": {},
   "outputs": [],
   "source": [
    "Disease_output_json=[]\n",
    "for i,j in Disease_pubtator_addpmid.items():\n",
    "    Disease_output_json+=j"
   ]
  },
  {
   "cell_type": "code",
   "execution_count": 309,
   "id": "1bff79c0-592f-4e52-8271-c21855448c56",
   "metadata": {},
   "outputs": [
    {
     "data": {
      "text/plain": [
       "29495"
      ]
     },
     "execution_count": 309,
     "metadata": {},
     "output_type": "execute_result"
    }
   ],
   "source": [
    "len(Disease_output_json)"
   ]
  },
  {
   "cell_type": "code",
   "execution_count": 310,
   "id": "6a30a6c1-4ada-4a38-923b-28a6897266c0",
   "metadata": {},
   "outputs": [],
   "source": [
    "Disease_mesh=pickle.load(open('../disease/Disease.pkl','rb'))"
   ]
  },
  {
   "cell_type": "code",
   "execution_count": 311,
   "id": "34477079-955a-4d56-aae3-a25f46e09562",
   "metadata": {},
   "outputs": [],
   "source": [
    "Disease_mesh=Disease_mesh[1:]"
   ]
  },
  {
   "cell_type": "code",
   "execution_count": 312,
   "id": "3bbdc184-732d-421e-b393-b31cc783fe0d",
   "metadata": {},
   "outputs": [],
   "source": [
    "for i in Disease_mesh:\n",
    "    if i.get('text')=='Uveitis, Suppurative':\n",
    "        i['MeSHUniqueID']='D015829'"
   ]
  },
  {
   "cell_type": "code",
   "execution_count": 551,
   "id": "d2085482-321b-4754-a9ba-e61523cf3889",
   "metadata": {},
   "outputs": [
    {
     "name": "stdout",
     "output_type": "stream",
     "text": [
      "{'text': 'Hearing Loss', 'url': '/mesh/68034381', 'MeSHUniqueID': 'D034381', 'type': 'Disease'}\n",
      "{'text': 'Hearing Loss', 'url': '/mesh/68034381', 'MeSHUniqueID': 'D034381', 'type': 'Disease'}\n",
      "{'text': 'Hearing Loss', 'url': '/mesh/68034381', 'MeSHUniqueID': 'D034381', 'type': 'Disease'}\n"
     ]
    }
   ],
   "source": [
    "for i in Disease_mesh:\n",
    "    if i.get('text')=='Hearing Loss':\n",
    "        print(i)"
   ]
  },
  {
   "cell_type": "code",
   "execution_count": 313,
   "id": "3b2eb465-49f1-45d2-ba1b-03097a12b99f",
   "metadata": {},
   "outputs": [],
   "source": [
    "diseaselist=[]\n",
    "notdiseaselist=[]\n",
    "for i in Disease_mesh:\n",
    "    if i.get('MeSHUniqueID'):\n",
    "        diseaselist.append({'MESH':'MESH:'+i.get('MeSHUniqueID'),'type':i.get('type'),'url':i.get('url'),'text':i.get('text')})\n",
    "    else:\n",
    "        notdiseaselist.append(i)"
   ]
  },
  {
   "cell_type": "code",
   "execution_count": 314,
   "id": "bd203b56-dd8c-4a09-811a-fef7a20ff644",
   "metadata": {},
   "outputs": [
    {
     "data": {
      "text/plain": [
       "12791"
      ]
     },
     "execution_count": 314,
     "metadata": {},
     "output_type": "execute_result"
    }
   ],
   "source": [
    "len(diseaselist)"
   ]
  },
  {
   "cell_type": "code",
   "execution_count": 643,
   "id": "d5075827-0919-48e6-a0e6-40cc3a6f5c22",
   "metadata": {},
   "outputs": [
    {
     "data": {
      "text/plain": [
       "0"
      ]
     },
     "execution_count": 643,
     "metadata": {},
     "output_type": "execute_result"
    }
   ],
   "source": [
    "len(notdiseaselist)"
   ]
  },
  {
   "cell_type": "code",
   "execution_count": 315,
   "id": "312f5341-a4b3-4f29-864d-186d48a7f16a",
   "metadata": {},
   "outputs": [],
   "source": [
    "disease2classdict={}\n",
    "count=0\n",
    "for i in diseaselist:\n",
    "    if not disease2classdict.get(i.get('MESH')):\n",
    "        disease2classdict[i.get('MESH')]=[i.get('type')]\n",
    "    else:\n",
    "        if i.get('type') in disease2classdict.get(i.get('MESH')):\n",
    "            pass\n",
    "        else:\n",
    "            disease2classdict[i.get('MESH')]=disease2classdict.get(i.get('MESH'))+[i.get('type')]\n",
    "            count+=1\n",
    "            if count<=5:\n",
    "                print(i.get('MESH')+'\\t'+str(disease2classdict.get(i.get('MESH'))))"
   ]
  },
  {
   "cell_type": "code",
   "execution_count": 316,
   "id": "58a5fe2e-8a06-4cf8-b97b-c89f318744ff",
   "metadata": {},
   "outputs": [],
   "source": [
    "disease2subclassdict={}\n",
    "count=0\n",
    "for i in diseaselist:\n",
    "    disease2subclassdict[i.get('MESH')]=i.get('text')"
   ]
  },
  {
   "cell_type": "code",
   "execution_count": 317,
   "id": "38abface-62ee-4ce9-bad7-73f780c9402b",
   "metadata": {},
   "outputs": [],
   "source": [
    "disease2urldict={}\n",
    "count=0\n",
    "for i in diseaselist:\n",
    "    disease2urldict[i.get('MESH')]=i.get('url')"
   ]
  },
  {
   "cell_type": "code",
   "execution_count": 318,
   "id": "7b272f38-4b52-42c6-b632-55df4b46b827",
   "metadata": {},
   "outputs": [
    {
     "data": {
      "text/plain": [
       "4915"
      ]
     },
     "execution_count": 318,
     "metadata": {},
     "output_type": "execute_result"
    }
   ],
   "source": [
    "len(disease2classdict)"
   ]
  },
  {
   "cell_type": "code",
   "execution_count": 319,
   "id": "f7127c42-64fa-47a5-a3a0-36e43d0c95c9",
   "metadata": {},
   "outputs": [],
   "source": [
    "for i in Disease_output_json:\n",
    "    i['PMID']=i.get('id')\n",
    "    i['word']=i.get('text')\n",
    "    del i['id']\n",
    "    del i['text']"
   ]
  },
  {
   "cell_type": "code",
   "execution_count": 320,
   "id": "e5ccf958-b00f-4154-8859-9b4c05d6b157",
   "metadata": {},
   "outputs": [],
   "source": [
    "Disease_final=[]\n",
    "Disease_dropout=[]"
   ]
  },
  {
   "cell_type": "code",
   "execution_count": 321,
   "id": "3ed31c71-f6fa-4886-97f4-1b58a4289be0",
   "metadata": {},
   "outputs": [],
   "source": [
    "for i in Disease_output_json:\n",
    "    if i.get('identifier') in disease2classdict.keys():\n",
    "        Disease_final.append(dict(i,**{'class':disease2classdict.get(i.get('identifier')),'subclass':disease2subclassdict.get(i.get('identifier')),'url':disease2urldict.get(i.get('identifier'))}))\n",
    "    else:\n",
    "        Disease_dropout.append(i)"
   ]
  },
  {
   "cell_type": "code",
   "execution_count": 699,
   "id": "31395f19-ff79-4de8-b624-8517652f2495",
   "metadata": {},
   "outputs": [
    {
     "data": {
      "text/plain": [
       "29495"
      ]
     },
     "execution_count": 699,
     "metadata": {},
     "output_type": "execute_result"
    }
   ],
   "source": [
    "len(Disease_output_json)"
   ]
  },
  {
   "cell_type": "code",
   "execution_count": 698,
   "id": "eef14312-2542-4f3b-888c-8288d17e2065",
   "metadata": {},
   "outputs": [
    {
     "data": {
      "text/plain": [
       "6248"
      ]
     },
     "execution_count": 698,
     "metadata": {},
     "output_type": "execute_result"
    }
   ],
   "source": [
    "len(Disease_dropout)"
   ]
  },
  {
   "cell_type": "code",
   "execution_count": 555,
   "id": "e7bae632-6af3-478b-a20b-962bb9f50e52",
   "metadata": {},
   "outputs": [],
   "source": [
    "Disease_deduplicated=set()\n",
    "Disease_deduplicated_count=0\n",
    "disease_list_raw=[]\n",
    "for i in Disease_final:\n",
    "    k=i.get('PMID')\n",
    "    i['DP']=rawpickwithAB.get(k).get('DP')\n",
    "    i['AB']=rawpickwithAB.get(k).get('AB')\n",
    "    i['URL']='https://pubmed.ncbi.nlm.nih.gov/'+k\n",
    "    i['TI']=rawpickwithAB.get(k).get('TI')\n",
    "    i['entity']=i.get('subclass')\n",
    "    i['target']=i.get('word')\n",
    "    i['type']='Disease'\n",
    "    i['JT']=rawpickwithAB.get(k).get('JT')\n",
    "    if i.get('identifier') and re.match(r'MESH:',i.get('identifier')):\n",
    "        i['MESH']=i.get('identifier')[5:]\n",
    "    else:\n",
    "        i['MESH']=''\n",
    "    # tuples=(i.get(\"PMID\"),i.get(\"entity\"),i.get(\"word\"),i.get(\"sentence\"))\n",
    "    tuples=(i.get(\"PMID\"),i.get(\"entity\"),i.get(\"word\"),i.get(\"sentence\"))\n",
    "    if tuples not in Disease_deduplicated:\n",
    "        Disease_deduplicated.add(tuples)\n",
    "        disease_list_raw.append(i)\n",
    "    else:\n",
    "        Disease_deduplicated_count+=1\n",
    "        continue"
   ]
  },
  {
   "cell_type": "code",
   "execution_count": 556,
   "id": "ce1ea7b3-f73c-4b55-a64d-874833814477",
   "metadata": {},
   "outputs": [
    {
     "data": {
      "text/plain": [
       "1418"
      ]
     },
     "execution_count": 556,
     "metadata": {},
     "output_type": "execute_result"
    }
   ],
   "source": [
    "Disease_deduplicated_count"
   ]
  },
  {
   "cell_type": "code",
   "execution_count": 557,
   "id": "133bd574-f7cd-45fc-b121-0a9c73494cf5",
   "metadata": {},
   "outputs": [],
   "source": [
    "disease2ncbi={}\n",
    "for i in disease_list_raw:\n",
    "    disease2ncbi[i.get('url')]=''"
   ]
  },
  {
   "cell_type": "code",
   "execution_count": 558,
   "id": "f6fc500f-bcee-4631-8d77-b4d0560341ba",
   "metadata": {},
   "outputs": [
    {
     "data": {
      "text/plain": [
       "1113"
      ]
     },
     "execution_count": 558,
     "metadata": {},
     "output_type": "execute_result"
    }
   ],
   "source": [
    "len(disease2ncbi)"
   ]
  },
  {
   "cell_type": "code",
   "execution_count": 559,
   "id": "4b329861-5381-4f74-b57a-1c47b3f85bfc",
   "metadata": {},
   "outputs": [],
   "source": [
    "disease_converter=pickle.load(open('../ncbi/Disease_converter.pkl','rb'))"
   ]
  },
  {
   "cell_type": "code",
   "execution_count": 560,
   "id": "051e65fd-b0bc-487b-aada-bc2ae532bb64",
   "metadata": {},
   "outputs": [
    {
     "data": {
      "text/plain": [
       "3344"
      ]
     },
     "execution_count": 560,
     "metadata": {},
     "output_type": "execute_result"
    }
   ],
   "source": [
    "len(disease_converter)"
   ]
  },
  {
   "cell_type": "code",
   "execution_count": 561,
   "id": "0193ecdc-19be-449e-a80e-0b4bff45256e",
   "metadata": {},
   "outputs": [],
   "source": [
    "import time\n",
    "import datetime\n",
    "from multiprocessing import Process, Manager, Pool\n",
    "import os, time, random\n",
    "from lxml import etree\n",
    "import requests\n",
    "def get_disease_info(i,final_diseases_inte):\n",
    "    headers = {\n",
    "        \"User-Agent\": \"Mozilla/5.0 (Windows NT 10.0; Win64; x64) AppleWebKit/537.36 \\\n",
    "        (KHTML, like Gecko) Chrome/83.0.4103.97 Safari/537.36\"\n",
    "    }\n",
    "    url = 'https://www.ncbi.nlm.nih.gov' + i\n",
    "    \n",
    "    res=requests.get(url=url,headers=headers)\n",
    "    html = etree.HTML(res.content)\n",
    "    ncbisummary={\n",
    "    # 'numbersOfLiterature' : len(i.get('PMID')),\n",
    "    'Summary' : ''.join(html.xpath('//*[@class=\"mesh_ds_scope_note\"]/text()'))\n",
    "    }\n",
    "    final_diseases_inte.update({i:ncbisummary})\n",
    "    time.sleep(0.5)"
   ]
  },
  {
   "cell_type": "code",
   "execution_count": 562,
   "id": "bb2d5997-9b9b-4e56-bd90-74bb15baf168",
   "metadata": {},
   "outputs": [],
   "source": [
    "judge=False\n",
    "p = Pool(10)\n",
    "manager=Manager()\n",
    "final_diseases_inte = manager.dict()\n",
    "for i in disease2ncbi.keys():\n",
    "    if not disease_converter.get(i):\n",
    "        p.apply_async(get_disease_info, args=(i,final_diseases_inte))\n",
    "        judge=True\n",
    "p.close()\n",
    "p.join()\n",
    "if judge:\n",
    "    disease_converter.update(dict(final_diseases_inte))\n",
    "    pickle.dump(disease_converter, open('../ncbi/Disease_converter.pkl','wb'))"
   ]
  },
  {
   "cell_type": "code",
   "execution_count": 563,
   "id": "fc915b20-4e86-4ebb-95ca-c987c7ee41d2",
   "metadata": {},
   "outputs": [
    {
     "data": {
      "text/plain": [
       "3344"
      ]
     },
     "execution_count": 563,
     "metadata": {},
     "output_type": "execute_result"
    }
   ],
   "source": [
    "len(disease_converter)"
   ]
  },
  {
   "cell_type": "code",
   "execution_count": 564,
   "id": "4ff7c684-6dba-4968-81cf-076521bd3de2",
   "metadata": {},
   "outputs": [],
   "source": [
    "for i in range(len(disease_list_raw)):\n",
    "    disease_list_raw[i]=dict(disease_list_raw[i],**disease_converter.get(disease_list_raw[i].get('url')))"
   ]
  },
  {
   "cell_type": "code",
   "execution_count": 565,
   "id": "f733c6c0-9eea-43b4-9534-2f3cfc5ecb26",
   "metadata": {},
   "outputs": [],
   "source": [
    "Disease_deduplicated_dropout=set()\n",
    "Disease_deduplicated_dropout_count=0\n",
    "Disease_dropout_raw=[]\n",
    "for i in Disease_dropout:\n",
    "    k=i.get('PMID')\n",
    "    i['DP']=rawpickwithAB.get(k).get('DP')\n",
    "    i['AB']=rawpickwithAB.get(k).get('AB')\n",
    "    i['URL']='https://pubmed.ncbi.nlm.nih.gov/'+k\n",
    "    i['TI']=rawpickwithAB.get(k).get('TI')\n",
    "    i['entity']=i.get('word')\n",
    "    i['target']=i.get('word')\n",
    "    i['type']='Disease'\n",
    "    i['JT']=rawpickwithAB.get(k).get('JT')\n",
    "    if i.get('identifier') and re.match('MESH:',i.get('identifier')):\n",
    "        i['MESH']=i.get('identifier')[5:]\n",
    "    else:\n",
    "        i['MESH']=''\n",
    "    # tuples=(i.get(\"PMID\"),i.get(\"entity\"),i.get(\"word\"),i.get(\"sentence\"))\n",
    "    tuples=(i.get(\"PMID\"),i.get(\"entity\"),i.get(\"word\"),i.get(\"sentence\"))\n",
    "    if tuples not in Disease_deduplicated_dropout:\n",
    "        Disease_deduplicated_dropout.add(tuples)\n",
    "        Disease_dropout_raw.append(i)\n",
    "    else:\n",
    "        Disease_deduplicated_dropout_count+=1\n",
    "        continue"
   ]
  },
  {
   "cell_type": "code",
   "execution_count": 566,
   "id": "e40b936a-7374-43d5-a0f2-ce33aa472fab",
   "metadata": {},
   "outputs": [],
   "source": [
    "for i in Disease_dropout_raw:\n",
    "    i['Summary']=''"
   ]
  },
  {
   "cell_type": "code",
   "execution_count": 697,
   "id": "758c1d8b-39ee-431c-94aa-7fb6885a8ff3",
   "metadata": {},
   "outputs": [
    {
     "data": {
      "text/plain": [
       "5901"
      ]
     },
     "execution_count": 697,
     "metadata": {},
     "output_type": "execute_result"
    }
   ],
   "source": [
    "len(Disease_dropout_raw)"
   ]
  },
  {
   "cell_type": "code",
   "execution_count": 567,
   "id": "a32add83-c7d8-4eff-9abe-616f7e208833",
   "metadata": {},
   "outputs": [],
   "source": [
    "Disease_raw=disease_list_raw+Disease_dropout_raw"
   ]
  },
  {
   "cell_type": "code",
   "execution_count": 568,
   "id": "ce676b7a-177b-4a5d-9354-f2902b12b84e",
   "metadata": {},
   "outputs": [
    {
     "data": {
      "text/plain": [
       "27730"
      ]
     },
     "execution_count": 568,
     "metadata": {},
     "output_type": "execute_result"
    }
   ],
   "source": [
    "len(Disease_raw)"
   ]
  },
  {
   "cell_type": "code",
   "execution_count": 569,
   "id": "4fedf008-4f5c-480b-b634-a0a39a9626ac",
   "metadata": {},
   "outputs": [],
   "source": [
    "import time\n",
    "import datetime\n",
    "import re\n",
    "dropout=[]\n",
    "months=['Jan','Feb','Mar','Apr','May','Jun','Jul','Aug','Sep','Oct','Nov','Dec']\n",
    "import re\n",
    "\n",
    "for i in Disease_raw:\n",
    "    j=i.get('DP')\n",
    "    if re.search('[S,s]upplement',j,flags=re.M|re.I):\n",
    "        j=re.sub('[S,s]upplement.*','',j,flags=re.M|re.I)\n",
    "    j=re.sub('\\s?-\\s?','-',j)\n",
    "    j=re.sub('\\.','',j)\n",
    "    j=re.sub('Aout','Aug',j)\n",
    "    if len(j.split(' '))==3:\n",
    "        try:\n",
    "            date=int(datetime.datetime.strftime(datetime.datetime.strptime(j,'%Y %b %d'), '%Y%m%d'))\n",
    "        except:\n",
    "            if j.split()[1] in months:\n",
    "                if re.search(r'\\d+',j.split()[2],flags=re.M|re.I):\n",
    "                    j=j.split()[0]+' '+j.split()[1]+' '+ re.search(r'\\d+',j.split()[2],flags=re.M|re.I).group()\n",
    "                    try:\n",
    "                        date=int(datetime.datetime.strftime(datetime.datetime.strptime(j,'%Y %b %d'), '%Y%m%d'))\n",
    "                    except:\n",
    "                        j=j[:4]\n",
    "                        date=int(datetime.datetime.strftime(datetime.datetime.strptime(j,'%Y'), '%Y'+'0101'))\n",
    "                        print('***************************************ERROR**********************************************')\n",
    "                else:\n",
    "                    j=j.split()[0]+' '+j.split()[1]+' '+ '1'\n",
    "                    try:\n",
    "                        date=int(datetime.datetime.strftime(datetime.datetime.strptime(j,'%Y %b %d'), '%Y%m%d'))\n",
    "                    except:\n",
    "                        print(j)\n",
    "                        j=j[:4]\n",
    "                        date=int(datetime.datetime.strftime(datetime.datetime.strptime(j,'%Y'), '%Y'+'0101'))\n",
    "            elif j.split()[1] not in months:\n",
    "                if re.search(r'([a-zA-Z]+)[-/]([a-zA-Z]+)',j.split()[1],flags=re.M|re.I) or re.search(r'([a-zA-Z]+)[-/](\\d+)',j.split()[1],flags=re.M|re.I):\n",
    "                    if re.search(r'([a-zA-Z]+)[-/]([a-zA-Z]+)',j.split()[1],flags=re.M|re.I):\n",
    "                        middle=re.search(r'([a-zA-Z]+)[-/]([a-zA-Z]+)',j.split()[1],flags=re.M|re.I).group(1)\n",
    "                    else:\n",
    "                        middle=re.search(r'([a-zA-Z]+)[-/](\\d+)',j.split()[1],flags=re.M|re.I).group(1)\n",
    "                    if middle in months:\n",
    "                        if re.search(r'\\d+',j.split()[2],flags=re.M|re.I):\n",
    "                            j=j.split()[0]+' '+middle+' '+ re.search(r'\\d+',j.split()[2],flags=re.M|re.I).group()\n",
    "                        else:\n",
    "                            j=j.split()[0]+' '+middle+' '+ '1'\n",
    "                    elif re.match(r'Sum(mer)?',middle):\n",
    "                        if re.search(r'\\d+',j.split()[2],flags=re.M|re.I):\n",
    "                            j=j.split()[0]+' '+'Jun'+' '+ re.search(r'\\d+',j.split()[2],flags=re.M|re.I).group()\n",
    "                        else:\n",
    "                            j=j.split()[0]+' '+'Jun'+' '+ '1'\n",
    "                    elif re.match(r'Spr(ing)?',middle):\n",
    "                        if re.search(r'\\d+',j.split()[2],flags=re.M|re.I):\n",
    "                            j=j.split()[0]+' '+'Mar'+' '+ re.search(r'\\d+',j.split()[2],flags=re.M|re.I).group()\n",
    "                        else:\n",
    "                            j=j.split()[0]+' '+'Mar'+' '+ '1'\n",
    "                    elif re.match(r'Win(ter)?',middle):\n",
    "                        if re.search(r'\\d+',j.split()[2],flags=re.M|re.I):\n",
    "                            j=j.split()[0]+' '+'Dec'+' '+ re.search(r'\\d+',j.split()[2],flags=re.M|re.I).group()\n",
    "                        else:\n",
    "                            j=j.split()[0]+' '+'Dec'+' '+ '1'    \n",
    "                    elif re.match(r'Aut(umn)?',middle) or \\\n",
    "                    re.match(r'Fall',middle):\n",
    "                        if re.search(r'\\d+',j.split()[2],flags=re.M|re.I):\n",
    "                            j=j.split()[0]+' '+'Sep'+' '+ re.search(r'\\d+',j.split()[2],flags=re.M|re.I).group()\n",
    "                        else:\n",
    "                            j=j.split()[0]+' '+'Sep'+' '+ '1'      \n",
    "                    try:\n",
    "                        date=int(datetime.datetime.strftime(datetime.datetime.strptime(j,'%Y %b %d'), '%Y%m%d'))\n",
    "                    except:\n",
    "                        print(j)\n",
    "                        j=j[:4]\n",
    "                        date=int(datetime.datetime.strftime(datetime.datetime.strptime(j,'%Y'), '%Y'+'0101'))\n",
    "                else:\n",
    "                    j=j[:4]\n",
    "                    date=int(datetime.datetime.strftime(datetime.datetime.strptime(j,'%Y'), '%Y'+'0101'))\n",
    "    elif len(j.split())==2:\n",
    "        if re.match(r'Sum(mer)?',j.split()[1]):\n",
    "            date=int(j[:4]+'0601')\n",
    "        elif re.match(r'Spr(ing)?',j.split()[1]):\n",
    "            date=int(j[:4]+'0301')\n",
    "        elif re.match(r'Win(ter)?',j.split()[1]):\n",
    "            date=int(j[:4]+'1201')\n",
    "        elif re.match(r'Aut(umn)?',j.split()[1]) or re.match(r'Fall',j.split()[1]):\n",
    "            date=int(j[:4]+'0901')\n",
    "        elif re.match(r'Sum(mer)?',j.split()[0]):\n",
    "            date=int(j[-4:]+'0601')\n",
    "        elif re.match(r'Spr(ing)?',j.split()[0]):\n",
    "            date=int(j[-4:]+'0301')\n",
    "        elif re.match(r'Win(ter)?',j.split()[0]):\n",
    "            date=int(j[-4:]+'1201')\n",
    "        elif re.match(r'Aut(umn)?',j.split()[0]) or re.match(r'Fall',j.split()[0]):\n",
    "            date=int(j[-4:]+'0901')\n",
    "        else:\n",
    "            try:\n",
    "                date=int(datetime.datetime.strftime(datetime.datetime.strptime(j,'%Y %b'), '%Y%m'+'01'))\n",
    "            except:\n",
    "                if re.search(r'([a-zA-Z]+)[-/]([a-zA-Z]+)',j.split()[1],flags=re.M|re.I) or re.search(r'([a-zA-Z]+)[-/](\\d+)',j.split()[1],flags=re.M|re.I):\n",
    "                    if re.search(r'([a-zA-Z]+)[-/]([a-zA-Z]+)',j.split()[1],flags=re.M|re.I):\n",
    "                        middle=re.search(r'([a-zA-Z]+)[-/]([a-zA-Z]+)',j.split()[1],flags=re.M|re.I).group(1)\n",
    "                    else:\n",
    "                        middle=re.search(r'([a-zA-Z]+)[-/](\\d+)',j.split()[1],flags=re.M|re.I).group(1)\n",
    "                    if middle in months:\n",
    "                        j=j.split()[0]+' '+middle+' '+ '1'\n",
    "                    elif re.match(r'Sum(mer)?',middle):\n",
    "                        j=j.split()[0]+' '+'Jun'+' '+ '1'\n",
    "                    elif re.match(r'Spr(ing)?',middle):\n",
    "                        j=j.split()[0]+' '+'Mar'+' '+ '1'\n",
    "                    elif re.match(r'Win(ter)?',middle):\n",
    "                        j=j.split()[0]+' '+'Dec'+' '+ '1'    \n",
    "                    elif re.match(r'Aut(umn)?',middle) or \\\n",
    "                    re.match(r'Fall',middle):\n",
    "                        j=j.split()[0]+' '+'Sep'+' '+ '1'      \n",
    "                    try:\n",
    "                        date=int(datetime.datetime.strftime(datetime.datetime.strptime(j,'%Y %b %d'), '%Y%m%d'))\n",
    "                    except:\n",
    "                        j=j[:4]\n",
    "                        date=int(datetime.datetime.strftime(datetime.datetime.strptime(j,'%Y'), '%Y'+'0101'))\n",
    "                elif re.search(r'(\\d+)[-/](\\d+)',j.split()[1],flags=re.M|re.I):\n",
    "                    midd=re.search(r'(\\d+)[-/](\\d+)',j.split()[1],flags=re.M|re.I).group(1)\n",
    "                    if len(midd)!=2:\n",
    "                        midd='0'+midd\n",
    "                    j=j[:4]\n",
    "                    date=int(datetime.datetime.strftime(datetime.datetime.strptime(j,'%Y'), '%Y'+midd+'01'))\n",
    "                else:\n",
    "                    print(j)\n",
    "                    j=j[:4]\n",
    "                    date=int(datetime.datetime.strftime(datetime.datetime.strptime(j,'%Y'), '%Y'+'0101'))\n",
    "    elif len(j.split())==1:\n",
    "        j=j[:4]\n",
    "        date=int(datetime.datetime.strftime(datetime.datetime.strptime(j,'%Y'), '%Y'+'0101'))\n",
    "    else:\n",
    "        j=j.split()[0]+' '+j.split()[1]+' '+re.search(r'\\d+',j.split()[2],flags=re.M|re.I).group()\n",
    "        date=int(datetime.datetime.strftime(datetime.datetime.strptime(j,'%Y %b %d'), '%Y%m%d'))\n",
    "    i['date']=date\n",
    "    i['year']=int(str(i.get('date'))[:4])"
   ]
  },
  {
   "cell_type": "code",
   "execution_count": 573,
   "id": "50a1cfce-8142-42cd-aa80-d9760acdec6a",
   "metadata": {},
   "outputs": [
    {
     "data": {
      "text/plain": [
       "<pymongo.results.InsertManyResult at 0x7f23111efa80>"
      ]
     },
     "execution_count": 573,
     "metadata": {},
     "output_type": "execute_result"
    }
   ],
   "source": [
    "collections_Disease_raw.insert_many(Disease_raw)"
   ]
  },
  {
   "cell_type": "code",
   "execution_count": null,
   "id": "ee3e2550-f30a-4892-a339-a741b693a4a5",
   "metadata": {},
   "outputs": [],
   "source": []
  },
  {
   "cell_type": "code",
   "execution_count": 645,
   "id": "37133ad2-df3d-4902-8a02-25c462664ae1",
   "metadata": {},
   "outputs": [],
   "source": [
    "\n",
    "qq=0\n",
    "for i in Disease_raw:\n",
    "    if not i.get('Summary'):\n",
    "        qq+=1"
   ]
  },
  {
   "cell_type": "code",
   "execution_count": 646,
   "id": "9b35e840-83cf-4eef-a59d-0c79864b8536",
   "metadata": {},
   "outputs": [
    {
     "data": {
      "text/plain": [
       "5901"
      ]
     },
     "execution_count": 646,
     "metadata": {},
     "output_type": "execute_result"
    }
   ],
   "source": [
    "qq"
   ]
  },
  {
   "cell_type": "code",
   "execution_count": 647,
   "id": "aabda38a-1cf5-4b59-a65c-d20852cba747",
   "metadata": {},
   "outputs": [
    {
     "data": {
      "text/plain": [
       "27730"
      ]
     },
     "execution_count": 647,
     "metadata": {},
     "output_type": "execute_result"
    }
   ],
   "source": [
    "len(Disease_raw)"
   ]
  },
  {
   "cell_type": "code",
   "execution_count": 644,
   "id": "7e59c731-0987-4bd9-be40-b201e465234d",
   "metadata": {},
   "outputs": [
    {
     "name": "stdout",
     "output_type": "stream",
     "text": [
      "{'AB': \"The title usage of Unde venisti 'from where have you come' is from a now dead language (Latin) that foundationally influenced modern English (not the major influence, but an essential formative one). This is an apt analogy for how both the ancient eukaryotic and eumetazoan functions of PGRMC proteins (PGRMC1 and PGRMC2 in mammals) probably influence modern human biology: via a formative trajectory from an evolutionarily foundational fulcrum. There is an arguable probability, although not a certainty, that PGRMC-like proteins were involved in eukaryogenesis. If so, then the proto-eukaryotic ancestral protein is modelled as having initiated the oxygen-induced and CYP450 (Cytochrome P450)-mediated synthesis of sterols in the endoplasmic reticulum to regulate proto-mitochondrial activity and heme homeostasis, as well as having enabled sterol transport between endoplasmic reticulum (ER) and mitochondria membranes involving the actin cytoskeleton, transport of heme from mitochondria, and possibly the regulation/origins of mitosis/meiosis. Later, during animal evolution, the last eumetazoan common ancestor (LEUMCA) acquired PGRMC phosphorylated tyrosines coincidentally with the gastrulation organizer, Netrin/deleted in colorectal carcinoma (DCC) signaling, muscle fibers, synapsed neurons, and neural recovery via a sleep-like process. Modern PGRMC proteins regulate multiple functions, including CYP450-mediated steroidogenesis, membrane trafficking, heme homeostasis, glycolysis/Warburg effect, fatty acid metabolism, mitochondrial regulation, and genomic CpG epigenetic regulation of gene expression. The latter imposes the system of differentiation status-sensitive cell-type specific proteomic complements in multi-tissued descendants of the LEUMCA. This paper attempts to trace PGRMC functions through time, proposing that key functions were involved in early eukaryotes, and were later added upon in the LEUMCA. An accompanying paper considers the implications of this awareness for human health and disease.\", 'type': 'Disease', 'identifier': 'MESH:C536875', 'sentence': 'If so, then the proto-eukaryotic ancestral protein is modelled as having initiated the oxygen-induced and CYP450 (Cytochrome P450)-mediated synthesis of sterols in the endoplasmic reticulum to regulate proto-mitochondrial activity and heme homeostasis, as well as having enabled sterol transport between endoplasmic reticulum (ER) and mitochondria membranes involving the actin cytoskeleton, transport of heme from mitochondria, and possibly the regulation/origins of mitosis/meiosis.', 'sentenceSize': 9, 'sentenceIndex': 3, 'addtime': '2022_12_09', '_id': ObjectId('639369f87aeeb1f33fdb5312'), 'PMID': '36472108', 'word': 'mitosis/meiosis', 'DP': '2022 Nov 30', 'URL': 'https://pubmed.ncbi.nlm.nih.gov/36472108', 'TI': 'Unde venisti PGRMC? Grand-Scale Biology from Early Eukaryotes and Eumetazoan Animal Origins.', 'entity': 'mitosis/meiosis', 'target': 'mitosis/meiosis', 'JT': 'Frontiers in bioscience (Landmark edition)', 'MESH': 'C536875', 'Summary': '', 'date': 20221130, 'year': 2022}\n"
     ]
    }
   ],
   "source": [
    "for i in Disease_raw:\n",
    "    if not i.get('Summary'):\n",
    "        print(i)\n",
    "        break\n",
    "    # if i.get('identifier') and not i.get('MESH'):\n",
    "    #     if i.get('identifier')[:4]=='MESH':\n",
    "    #         print(i)\n",
    "    #         break"
   ]
  },
  {
   "cell_type": "code",
   "execution_count": null,
   "id": "c08a62f7-8908-46a9-a21f-72909b88e6a5",
   "metadata": {},
   "outputs": [],
   "source": []
  },
  {
   "cell_type": "code",
   "execution_count": null,
   "id": "fc7499a0-f463-4b8d-bc7e-91e881ee6ecf",
   "metadata": {},
   "outputs": [],
   "source": []
  },
  {
   "cell_type": "markdown",
   "id": "06ee82fa-ac22-44d8-b269-6c54e2a23619",
   "metadata": {},
   "source": [
    "disease_all_today=list(collections_Disease_raw.find())"
   ]
  },
  {
   "cell_type": "markdown",
   "id": "07ab0cdc-8907-4a62-b6fb-e7c18e8f7f12",
   "metadata": {},
   "source": [
    "for i in disease_all_today:\n",
    "    if i.get('identifier') and re.match('MESH:',i.get('identifier')):\n",
    "        i['MESH']=i.get('identifier')[5:]\n",
    "    else:\n",
    "        i['MESH']=''"
   ]
  },
  {
   "cell_type": "markdown",
   "id": "5216e4c9-4309-47a3-8b8d-bfbd68bd4ec2",
   "metadata": {},
   "source": [
    "i"
   ]
  },
  {
   "cell_type": "markdown",
   "id": "f181294d-392a-4743-ac56-2012ab209e54",
   "metadata": {},
   "source": [
    "for i in disease_all_today:\n",
    "    if i.get('identifier') and not i.get('MESH'):\n",
    "        if i.get('identifier')[:4]=='MESH':\n",
    "            print(i)\n",
    "            break"
   ]
  },
  {
   "cell_type": "code",
   "execution_count": null,
   "id": "55c29020-8f81-4bb4-a52d-a5c94a432cbe",
   "metadata": {},
   "outputs": [],
   "source": [
    "collections_Disease_raw.insert_many(disease_all_today)"
   ]
  },
  {
   "cell_type": "code",
   "execution_count": null,
   "id": "2d0a2b3a-2868-4e7c-8383-0a17815af023",
   "metadata": {},
   "outputs": [],
   "source": [
    "collections_Disease_raw.remove({'addtime':now_time})"
   ]
  },
  {
   "cell_type": "markdown",
   "id": "e78e815b-5b07-4f63-9d08-fe7ba56588b6",
   "metadata": {},
   "source": [
    "Disease_raw[0]"
   ]
  },
  {
   "cell_type": "markdown",
   "id": "6f1a3aa6-ac01-4d38-8aed-7573b9d22991",
   "metadata": {},
   "source": [
    "# Disease_all"
   ]
  },
  {
   "cell_type": "code",
   "execution_count": 607,
   "id": "3b508584-2e6e-44c0-b48b-1d361477decd",
   "metadata": {},
   "outputs": [],
   "source": [
    "collections_Disease_all=db.Disease_all"
   ]
  },
  {
   "cell_type": "code",
   "execution_count": 163,
   "id": "a0482352-f8d1-41b3-bce8-527f2021e6d1",
   "metadata": {},
   "outputs": [],
   "source": [
    "Disease_raw_list=list(collections_Disease_raw.find())"
   ]
  },
  {
   "cell_type": "code",
   "execution_count": 164,
   "id": "f9771a1e-a233-4f52-baf6-d43353684a30",
   "metadata": {},
   "outputs": [
    {
     "ename": "NameError",
     "evalue": "name 'disease_all_today' is not defined",
     "output_type": "error",
     "traceback": [
      "\u001b[0;31m---------------------------------------------------------------------------\u001b[0m",
      "\u001b[0;31mNameError\u001b[0m                                 Traceback (most recent call last)",
      "Cell \u001b[0;32mIn [164], line 1\u001b[0m\n\u001b[0;32m----> 1\u001b[0m \u001b[38;5;28;01mfor\u001b[39;00m i \u001b[38;5;129;01min\u001b[39;00m \u001b[43mdisease_all_today\u001b[49m:\n\u001b[1;32m      2\u001b[0m     \u001b[38;5;28;01mif\u001b[39;00m i\u001b[38;5;241m.\u001b[39mget(\u001b[38;5;124m'\u001b[39m\u001b[38;5;124mSummary\u001b[39m\u001b[38;5;124m'\u001b[39m) \u001b[38;5;129;01mand\u001b[39;00m \u001b[38;5;129;01mnot\u001b[39;00m i\u001b[38;5;241m.\u001b[39mget(\u001b[38;5;124m'\u001b[39m\u001b[38;5;124mMesh\u001b[39m\u001b[38;5;124m'\u001b[39m):\n\u001b[1;32m      3\u001b[0m         \u001b[38;5;28mprint\u001b[39m(i\u001b[38;5;241m.\u001b[39mget(\u001b[38;5;124m'\u001b[39m\u001b[38;5;124mSummary\u001b[39m\u001b[38;5;124m'\u001b[39m))\n",
      "\u001b[0;31mNameError\u001b[0m: name 'disease_all_today' is not defined"
     ]
    }
   ],
   "source": [
    "for i in disease_all_today:\n",
    "    if i.get('Summary') and not i.get('Mesh'):\n",
    "        print(i.get('Summary'))\n",
    "        print(i.get('entity'))\n",
    "        print(i.get('addtime'))\n",
    "        print(i.get('identifier'))\n",
    "        print(i.get('Mesh'))\n",
    "        break"
   ]
  },
  {
   "cell_type": "code",
   "execution_count": 165,
   "id": "876a519d-fcfb-4288-9921-53fc53083946",
   "metadata": {},
   "outputs": [],
   "source": [
    "for i in Disease_raw_list:\n",
    "    i[\"PMID\"]=[i.get(\"PMID\")]\n",
    "    i[\"sentence\"]=[[i.get(\"sentence\")]]\n",
    "    pmid=i.get('PMID')[0]\n",
    "    i['DP']=[i.get(\"DP\")]\n",
    "    i['AB']=[i.get(\"AB\")]\n",
    "    i['URL']='https://pubmed.ncbi.nlm.nih.gov/'+pmid\n",
    "    i['TI']=[i.get(\"TI\")]\n",
    "    i['target']=[[i.get('word')]]\n",
    "    i[\"date\"]=[i.get(\"date\")]\n",
    "    i[\"year\"]=[i.get(\"year\")]\n",
    "    i['JT']=[i.get('JT')]"
   ]
  },
  {
   "cell_type": "code",
   "execution_count": 166,
   "id": "08ca30d9-3de5-49f6-96ee-b9d87ae77d15",
   "metadata": {},
   "outputs": [
    {
     "data": {
      "text/plain": [
       "{'_id': ObjectId('63fa4073648b16758fcc08f4'),\n",
       " 'AB': ['SIGNIFICANCE: Oxygen is indispensable for aerobic life but its utilization exposes cells and tissues to oxidative stress; thus, tight regulation of cellular, tissue and systemic oxygen concentrations is crucial. Here, we review the current understanding of how the human organism (mal-)adapts to low (hypoxia) and high (hyperoxia) oxygen levels and how these adaptations may be harnessed as therapeutic or performance enhancing strategies at the systemic level. Recent Advances: Hyperbaric oxygen therapy is already a cornerstone of modern medicine and the application of mild hypoxia, i.e., hypoxia conditioning, to strengthen the resilience of organs or the whole body to severe hypoxic insults is important preparation for high-altitude sojourns or to protect the cardiovascular system from hypoxic/ischemic damage. Many other applications of adaptations to hypo- and/or hyperoxia are only just emerging. Hypoxia conditioning - sometimes in combination with hyperoxic interventions - is gaining traction for the treatment of chronic diseases, including numerous neurological disorders, and for performance enhancement. CRITICAL ISSUES: The dose- and intensity-dependent effects of varying oxygen concentrations render hypoxia- and/or hyperoxia-based interventions potentially highly beneficial, yet hazardous, although the risks vs. benefits are as yet ill-defined. FUTURE DIRECTIONS: The field of low and high oxygen conditioning is expanding rapidly and novel applications are increasingly recognized, e.g., the modulation of aging processes, mood disorders or metabolic diseases. To advance hypoxia/hyperoxia conditioning to clinical applications, more research on the effects of the intensity, duration and frequency of altered oxygen concentrations, as well as on individual vulnerabilities to such interventions, is paramount.'],\n",
       " 'type': 'Disease',\n",
       " 'identifier': 'MESH:D019964',\n",
       " 'sentence': [['FUTURE DIRECTIONS: The field of low and high oxygen conditioning is expanding rapidly and novel applications are increasingly recognized, e.g., the modulation of aging processes, mood disorders or metabolic diseases.']],\n",
       " 'sentenceSize': 8,\n",
       " 'sentenceIndex': 6,\n",
       " 'addtime': '2022_12_09',\n",
       " 'PMID': ['35102747'],\n",
       " 'word': 'mood disorders',\n",
       " 'DP': ['2022 Nov'],\n",
       " 'URL': 'https://pubmed.ncbi.nlm.nih.gov/35102747',\n",
       " 'TI': ['Adaptive Responses to Hypoxia and/or Hyperoxia in Humans.'],\n",
       " 'entity': 'mood disorders',\n",
       " 'target': [['mood disorders']],\n",
       " 'JT': ['Antioxidants & redox signaling'],\n",
       " 'MESH': 'D019964',\n",
       " 'Summary': '',\n",
       " 'date': [20221101],\n",
       " 'year': [2022]}"
      ]
     },
     "execution_count": 166,
     "metadata": {},
     "output_type": "execute_result"
    }
   ],
   "source": [
    "i"
   ]
  },
  {
   "cell_type": "code",
   "execution_count": 167,
   "id": "a585838e-5a12-49ef-8d2a-68cf6a001fa9",
   "metadata": {},
   "outputs": [],
   "source": [
    "Disease_mid={}\n",
    "for i in Disease_raw_list:\n",
    "    if not Disease_mid.get(i.get(\"entity\")):\n",
    "        Disease_mid[i.get(\"entity\")]=i\n",
    "    else:\n",
    "        if i.get('PMID')[0] in Disease_mid.get(i.get('entity')).get('PMID'):\n",
    "\n",
    "            ind=Disease_mid.get(i.get('entity')).get('PMID').index(i.get('PMID')[0])\n",
    "            if i.get(\"sentence\")[0][0] in Disease_mid.get(i.get('entity')).get('sentence')[ind]:\n",
    "                continue\n",
    "            else:\n",
    "                Disease_mid[i.get('entity')]['sentence'][ind] = Disease_mid.get(i.get('entity')).get('sentence')[ind] + i.get(\"sentence\")[0]\n",
    "                Disease_mid[i.get('entity')]['target'][ind] = Disease_mid.get(i.get('entity')).get('target')[ind] + i.get(\"target\")[0]\n",
    "\n",
    "        else:\n",
    "            Disease_mid[i.get(\"entity\")][\"PMID\"]=Disease_mid.get(i.get(\"entity\")).get(\"PMID\")+i.get(\"PMID\")\n",
    "            Disease_mid[i.get(\"entity\")][\"sentence\"]=Disease_mid.get(i.get(\"entity\")).get(\"sentence\")+i.get(\"sentence\")\n",
    "            Disease_mid[i.get(\"entity\")][\"AB\"]=Disease_mid.get(i.get(\"entity\")).get(\"AB\")+i.get(\"AB\")\n",
    "            Disease_mid[i.get(\"entity\")][\"DP\"]=Disease_mid.get(i.get(\"entity\")).get(\"DP\")+i.get(\"DP\")\n",
    "            Disease_mid[i.get(\"entity\")][\"TI\"]=Disease_mid.get(i.get(\"entity\")).get(\"TI\")+i.get(\"TI\")\n",
    "            Disease_mid[i.get(\"entity\")][\"target\"]=Disease_mid.get(i.get(\"entity\")).get(\"target\")+i.get(\"target\")\n",
    "            Disease_mid[i.get(\"entity\")][\"date\"]=Disease_mid.get(i.get(\"entity\")).get(\"date\")+i.get(\"date\")\n",
    "            Disease_mid[i.get(\"entity\")][\"year\"]=Disease_mid.get(i.get(\"entity\")).get(\"year\")+i.get(\"year\")\n",
    "            Disease_mid[i.get(\"entity\")][\"JT\"]=Disease_mid.get(i.get(\"entity\")).get(\"JT\")+i.get(\"JT\")"
   ]
  },
  {
   "cell_type": "code",
   "execution_count": 168,
   "id": "b5cb11f4-381f-468f-8ba9-3bc7bddf1dc5",
   "metadata": {},
   "outputs": [],
   "source": [
    "Disease_output_json_final=list(Disease_mid.values())"
   ]
  },
  {
   "cell_type": "code",
   "execution_count": 169,
   "id": "72926abe-2c72-4c2c-8aab-4aa8b9805a04",
   "metadata": {},
   "outputs": [
    {
     "data": {
      "text/plain": [
       "17330"
      ]
     },
     "execution_count": 169,
     "metadata": {},
     "output_type": "execute_result"
    }
   ],
   "source": [
    "# 17330\n",
    "len(Disease_output_json_final)"
   ]
  },
  {
   "cell_type": "code",
   "execution_count": 170,
   "id": "b2fd15c5-58a9-40aa-b0a9-9edc5c14cd43",
   "metadata": {},
   "outputs": [],
   "source": [
    "for i in Disease_output_json_final:\n",
    "    i['allyears']=[]\n",
    "    i['datestring']=[]\n",
    "    for j in i.get('date'):\n",
    "        if int(str(j)[:4]) not in i.get('allyears'):\n",
    "            i['allyears']= i.get('allyears')+[int(str(j)[:4])]\n",
    "    for j in i.get('date'):\n",
    "        if str(j)[:4]+\"-\"+str(j)[4:6]+\"-\"+str(j)[6:] not in i.get('datestring'):\n",
    "            i['datestring']=i.get('datestring')+[str(j)[:4]+\"-\"+str(j)[4:6]+\"-\"+str(j)[6:]]\n",
    "    i['allyears']=sorted(i.get('allyears'), reverse=True)\n",
    "    i['datestring']=sorted(i.get('datestring'), reverse=True)\n",
    "    upperlist=set()\n",
    "    for j in sum(i.get('target'),[]):\n",
    "        upperlist.add(j.upper())\n",
    "    i['targetshapes']=list(upperlist)\n",
    "    i['addtime']=now_time"
   ]
  },
  {
   "cell_type": "code",
   "execution_count": 171,
   "id": "e52f3bb0-ddd1-4b0a-bff9-ade5ff569e53",
   "metadata": {},
   "outputs": [],
   "source": [
    "Disease_all=copy.deepcopy(Disease_output_json_final)"
   ]
  },
  {
   "cell_type": "code",
   "execution_count": 172,
   "id": "2b13da91-2936-4e65-8555-9d14706d00c0",
   "metadata": {},
   "outputs": [
    {
     "data": {
      "text/plain": [
       "17330"
      ]
     },
     "execution_count": 172,
     "metadata": {},
     "output_type": "execute_result"
    }
   ],
   "source": [
    "len(Disease_all)"
   ]
  },
  {
   "cell_type": "code",
   "execution_count": null,
   "id": "90ee1e2f-c388-4c37-a73e-6c4fcd4800be",
   "metadata": {},
   "outputs": [],
   "source": []
  },
  {
   "cell_type": "code",
   "execution_count": null,
   "id": "5c3e387d-5781-4972-9d1f-6609f8035cbb",
   "metadata": {},
   "outputs": [],
   "source": []
  },
  {
   "cell_type": "code",
   "execution_count": null,
   "id": "f308df52-9c8b-4bc7-83aa-5dc41e9dd45a",
   "metadata": {},
   "outputs": [],
   "source": []
  },
  {
   "cell_type": "code",
   "execution_count": null,
   "id": "f125a18d-fb56-4f70-8210-5f158a4c1185",
   "metadata": {},
   "outputs": [],
   "source": []
  },
  {
   "cell_type": "code",
   "execution_count": 490,
   "id": "3834343d-0c06-4415-823e-4d6b24e33940",
   "metadata": {},
   "outputs": [
    {
     "data": {
      "text/plain": [
       "'/root/hald_autoupdate/2022_12_09'"
      ]
     },
     "execution_count": 490,
     "metadata": {},
     "output_type": "execute_result"
    }
   ],
   "source": [
    "pwd"
   ]
  },
  {
   "cell_type": "code",
   "execution_count": 510,
   "id": "f6c817f2-94a9-4610-962e-3d299a91f882",
   "metadata": {},
   "outputs": [],
   "source": [
    "names=locals()"
   ]
  },
  {
   "cell_type": "code",
   "execution_count": 610,
   "id": "2f1f6bf7-7be7-4734-a546-219efe9c1c28",
   "metadata": {},
   "outputs": [],
   "source": [
    "entity_pairs=['Gene','RNA','Carbohydrate','Lipid','Peptide', 'Pharmaceutical_Preparations', 'Protein', 'Toxin','Mutation', 'Disease']"
   ]
  },
  {
   "cell_type": "markdown",
   "id": "7ad71a15-d97f-4d66-ae9c-e93f620df9fd",
   "metadata": {},
   "source": [
    "for i in entity_pairs:\n",
    "    for j in names[i+'_all']:\n",
    "        j['addtime']=now_time"
   ]
  },
  {
   "cell_type": "code",
   "execution_count": 611,
   "id": "5a3af199-2a2f-481b-ab6a-b8cc0bb2255d",
   "metadata": {},
   "outputs": [],
   "source": [
    "for i in entity_pairs:\n",
    "    pickle.dump(names[i+'_all'],open('results/'+i+'_all.pkl','wb'))"
   ]
  },
  {
   "cell_type": "code",
   "execution_count": 513,
   "id": "87ded736-511b-46b4-af58-07285e2699a4",
   "metadata": {},
   "outputs": [],
   "source": [
    "from nltk.tokenize import sent_tokenize"
   ]
  },
  {
   "cell_type": "code",
   "execution_count": 559,
   "id": "9294f0bd-b4ef-4446-9de4-967e6385f1a8",
   "metadata": {},
   "outputs": [
    {
     "name": "stdout",
     "output_type": "stream",
     "text": [
      "CLPS\n"
     ]
    }
   ],
   "source": [
    "for i in Gene_all:\n",
    "    if i.get('Also_known_as')=='''The protein encoded by this gene is a cofactor needed by pancreatic lipase for efficient dietary lipid hydrolysis. It binds to the C-terminal, non-catalytic domain of lipase, thereby stabilizing an active conformation and considerably increasing the overall hydrophobic binding site. The gene product allows lipase to anchor noncovalently to the surface of lipid micelles, counteracting the destabilizing influence of intestinal bile salts. This cofactor is only expressed in pancreatic acinar cells, suggesting regulation of expression by tissue-specific elements. Three transcript variants encoding different isoforms have been found for this gene. [provided by RefSeq, Nov 2011]''':\n",
    "        print(i.get('entity'))\n",
    "        break"
   ]
  },
  {
   "cell_type": "markdown",
   "id": "82a7395e-1b08-49e5-9b3b-ca1da6167b54",
   "metadata": {},
   "source": [
    "for i in Gene_raw_list:\n",
    "    if i.get('entity')=='FZD1':\n",
    "        print(i)\n",
    "        break"
   ]
  },
  {
   "cell_type": "code",
   "execution_count": 612,
   "id": "392cff74-ee77-46b3-9c71-e14514049707",
   "metadata": {},
   "outputs": [],
   "source": [
    "all_es=[]\n",
    "mu=0\n",
    "di=0\n",
    "noturl=[]\n",
    "for i in Gene_all:\n",
    "    if i.get('Summary'):\n",
    "        all_es.append({'entity':i.get('entity'),'PMID':i.get('PMID'),'literature':len(i.get('PMID')),'targetshapes':i.get('targetshapes'),'allyears':i.get('allyears'),'type':i.get('type'),'Also_known_as':i.get('Also_known_as'),'Summary':sent_tokenize(i.get('Summary'))[0],'_id':i.get('type')+'_'+i.get('entity'),'datest':int(i.get('datestring')[0].replace('-',''))})\n",
    "    else:\n",
    "        all_es.append({'entity':i.get('entity'),'PMID':i.get('PMID'),'literature':len(i.get('PMID')),'targetshapes':i.get('targetshapes'),'allyears':i.get('allyears'),'type':i.get('type'),'Also_known_as':i.get('Also_known_as'),'Summary':'','_id':i.get('type')+'_'+i.get('entity'),'datest':int(i.get('datestring')[0].replace('-',''))})\n",
    "for i in RNA_all:\n",
    "    if i.get('Summary'):\n",
    "        all_es.append({'entity':i.get('entity'),'PMID':i.get('PMID'),'literature':len(i.get('PMID')),'targetshapes':i.get('targetshapes'),'allyears':i.get('allyears'),'type':i.get('type'),'specific_type':i.get('specific_type'),'Also_known_as':i.get('Also_known_as'),'Summary':sent_tokenize(i.get('Summary'))[0],'_id':i.get('type')+'_'+i.get('entity'),'datest':int(i.get('datestring')[0].replace('-',''))})\n",
    "    else:\n",
    "        all_es.append({'entity':i.get('entity'),'PMID':i.get('PMID'),'literature':len(i.get('PMID')),'targetshapes':i.get('targetshapes'),'allyears':i.get('allyears'),'type':i.get('type'),'specific_type':i.get('specific_type'),'Also_known_as':i.get('Also_known_as'),'Summary':'','_id':i.get('type')+'_'+i.get('entity'),'datest':int(i.get('datestring')[0].replace('-',''))})\n",
    "for i in Carbohydrate_all:\n",
    "    if i.get('Summary'):\n",
    "        all_es.append({'entity':i.get('entity'),'PMID':i.get('PMID'),'literature':len(i.get('PMID')),'targetshapes':i.get('targetshapes'),'allyears':i.get('allyears'),'type':i.get('type'),'MeshID':i.get('MESH'),'Summary':sent_tokenize(i.get('Summary'))[0],'url':'https://www.ncbi.nlm.nih.gov'+i.get('url'),'_id':i.get('type')+'_'+i.get('entity'),'datest':int(i.get('datestring')[0].replace('-',''))})\n",
    "    else:\n",
    "        all_es.append({'entity':i.get('entity'),'PMID':i.get('PMID'),'literature':len(i.get('PMID')),'targetshapes':i.get('targetshapes'),'allyears':i.get('allyears'),'type':i.get('type'),'MeshID':i.get('MESH'),'Summary':'','url':'https://www.ncbi.nlm.nih.gov'+i.get('url'),'_id':i.get('type')+'_'+i.get('entity'),'datest':int(i.get('datestring')[0].replace('-',''))})\n",
    "for i in Lipid_all:\n",
    "    if i.get('Summary'):\n",
    "        all_es.append({'entity':i.get('entity'),'PMID':i.get('PMID'),'literature':len(i.get('PMID')),'targetshapes':i.get('targetshapes'),'allyears':i.get('allyears'),'type':i.get('type'),'MeshID':i.get('MESH'),'Summary':sent_tokenize(i.get('Summary'))[0],'url':'https://www.ncbi.nlm.nih.gov'+i.get('url'),'_id':i.get('type')+'_'+i.get('entity'),'datest':int(i.get('datestring')[0].replace('-',''))})\n",
    "    else:\n",
    "        all_es.append({'entity':i.get('entity'),'PMID':i.get('PMID'),'literature':len(i.get('PMID')),'targetshapes':i.get('targetshapes'),'allyears':i.get('allyears'),'type':i.get('type'),'MeshID':i.get('MESH'),'Summary':'','url':'https://www.ncbi.nlm.nih.gov'+i.get('url'),'_id':i.get('type')+'_'+i.get('entity'),'datest':int(i.get('datestring')[0].replace('-',''))})\n",
    "for i in Peptide_all:\n",
    "    if i.get('Summary'):\n",
    "        all_es.append({'entity':i.get('entity'),'PMID':i.get('PMID'),'literature':len(i.get('PMID')),'targetshapes':i.get('targetshapes'),'allyears':i.get('allyears'),'type':i.get('type'),'MeshID':i.get('MESH'),'Summary':sent_tokenize(i.get('Summary'))[0],'url':'https://www.ncbi.nlm.nih.gov'+i.get('url'),'_id':i.get('type')+'_'+i.get('entity'),'datest':int(i.get('datestring')[0].replace('-',''))})\n",
    "    else:\n",
    "        all_es.append({'entity':i.get('entity'),'PMID':i.get('PMID'),'literature':len(i.get('PMID')),'targetshapes':i.get('targetshapes'),'allyears':i.get('allyears'),'type':i.get('type'),'MeshID':i.get('MESH'),'Summary':'','url':'https://www.ncbi.nlm.nih.gov'+i.get('url'),'_id':i.get('type')+'_'+i.get('entity'),'datest':int(i.get('datestring')[0].replace('-',''))})\n",
    "for i in Pharmaceutical_Preparations_all:\n",
    "    if i.get('Summary'):\n",
    "        all_es.append({'entity':i.get('entity'),'PMID':i.get('PMID'),'literature':len(i.get('PMID')),'targetshapes':i.get('targetshapes'),'allyears':i.get('allyears'),'type':i.get('type'),'MeshID':i.get('MESH'),'Summary':sent_tokenize(i.get('Summary'))[0],'url':'https://www.ncbi.nlm.nih.gov'+i.get('url'),'_id':'PharmaceuticalPreparations'+'_'+i.get('entity'),'datest':int(i.get('datestring')[0].replace('-',''))})\n",
    "    else:\n",
    "        all_es.append({'entity':i.get('entity'),'PMID':i.get('PMID'),'literature':len(i.get('PMID')),'targetshapes':i.get('targetshapes'),'allyears':i.get('allyears'),'type':i.get('type'),'MeshID':i.get('MESH'),'Summary':'','url':'https://www.ncbi.nlm.nih.gov'+i.get('url'),'_id':'PharmaceuticalPreparations'+'_'+i.get('entity'),'datest':int(i.get('datestring')[0].replace('-',''))})\n",
    "for i in Protein_all:\n",
    "    if i.get('Summary'):\n",
    "        all_es.append({'entity':i.get('entity'),'PMID':i.get('PMID'),'literature':len(i.get('PMID')),'targetshapes':i.get('targetshapes'),'allyears':i.get('allyears'),'type':i.get('type'),'MeshID':i.get('MESH'),'Summary':sent_tokenize(i.get('Summary'))[0],'url':'https://www.ncbi.nlm.nih.gov'+i.get('url'),'_id':i.get('type')+'_'+i.get('entity'),'datest':int(i.get('datestring')[0].replace('-',''))})\n",
    "    else:\n",
    "        all_es.append({'entity':i.get('entity'),'PMID':i.get('PMID'),'literature':len(i.get('PMID')),'targetshapes':i.get('targetshapes'),'allyears':i.get('allyears'),'type':i.get('type'),'MeshID':i.get('MESH'),'Summary':'','url':'https://www.ncbi.nlm.nih.gov'+i.get('url'),'_id':i.get('type')+'_'+i.get('entity'),'datest':int(i.get('datestring')[0].replace('-',''))})\n",
    "for i in Toxin_all:\n",
    "    if i.get('Summary'):\n",
    "        all_es.append({'entity':i.get('entity'),'PMID':i.get('PMID'),'literature':len(i.get('PMID')),'targetshapes':i.get('targetshapes'),'allyears':i.get('allyears'),'type':i.get('type'),'MeshID':i.get('MESH'),'Summary':sent_tokenize(i.get('Summary'))[0],'url':'https://www.ncbi.nlm.nih.gov'+i.get('url'),'_id':i.get('type')+'_'+i.get('entity'),'datest':int(i.get('datestring')[0].replace('-',''))})\n",
    "    else:\n",
    "        all_es.append({'entity':i.get('entity'),'PMID':i.get('PMID'),'literature':len(i.get('PMID')),'targetshapes':i.get('targetshapes'),'allyears':i.get('allyears'),'type':i.get('type'),'MeshID':i.get('MESH'),'Summary':'','url':'https://www.ncbi.nlm.nih.gov'+i.get('url'),'_id':i.get('type')+'_'+i.get('entity'),'datest':int(i.get('datestring')[0].replace('-',''))})\n",
    "for i in Mutation_all:\n",
    "    if i.get('Genomic View'):\n",
    "        all_es.append({'entity':i.get('entity'),'PMID':i.get('PMID'),'literature':len(i.get('PMID')),'targetshapes':i.get('targetshapes'),'allyears':i.get('allyears'),'type':i.get('type'),'Genomic_View':i.get('Genomic View'),'Alleles':i.get('Alleles'),'Position':i.get('Position'),'_id':i.get('type')+'_'+i.get('entity'),'datest':int(i.get('datestring')[0].replace('-',''))})\n",
    "    else:\n",
    "        mu+=1\n",
    "for i in Disease_all:\n",
    "    if i.get('url'):\n",
    "        if i.get('Summary'):\n",
    "            all_es.append({'entity':i.get('entity'),'PMID':i.get('PMID'),'literature':len(i.get('PMID')),'targetshapes':i.get('targetshapes'),'allyears':i.get('allyears'),'type':i.get('type'),'MeshID':i.get('MESH'),'url':'https://www.ncbi.nlm.nih.gov'+i.get('url'),'Summary':sent_tokenize(i.get('Summary'))[0],'_id':i.get('type')+'_'+i.get('entity'),'datest':int(i.get('datestring')[0].replace('-',''))})\n",
    "        else:\n",
    "            all_es.append({'entity':i.get('entity'),'PMID':i.get('PMID'),'literature':len(i.get('PMID')),'targetshapes':i.get('targetshapes'),'allyears':i.get('allyears'),'type':i.get('type'),'MeshID':i.get('MESH'),'url':'https://www.ncbi.nlm.nih.gov'+i.get('url'),'Summary':'','_id':i.get('type')+'_'+i.get('entity'),'datest':int(i.get('datestring')[0].replace('-',''))})\n",
    "    else:\n",
    "        di+=1\n",
    "        noturl.append(i)"
   ]
  },
  {
   "cell_type": "code",
   "execution_count": 613,
   "id": "0b99d223-a940-48a0-bdfb-92e95c7da13c",
   "metadata": {},
   "outputs": [],
   "source": [
    "all_es_copy=copy.deepcopy(all_es)"
   ]
  },
  {
   "cell_type": "code",
   "execution_count": 614,
   "id": "0dd4f871-3300-40c4-8ac7-b6159d560514",
   "metadata": {},
   "outputs": [
    {
     "data": {
      "text/plain": [
       "10907"
      ]
     },
     "execution_count": 614,
     "metadata": {},
     "output_type": "execute_result"
    }
   ],
   "source": [
    "#10907\n",
    "len(all_es_copy)"
   ]
  },
  {
   "cell_type": "code",
   "execution_count": 615,
   "id": "ec08527e-c277-4f87-b222-23ab83ba83c6",
   "metadata": {},
   "outputs": [],
   "source": [
    "for i in all_es:\n",
    "    i['allwordsdict']={}\n",
    "    if i.get('Also_known_as'):\n",
    "        i['allwords']=i.get('allwords',[])+i.get('Also_known_as').split('; ')\n",
    "        for l in i.get('Also_known_as').split('; '):\n",
    "            i['allwordsdict'][l.upper()]=l\n",
    "    for j in i.get('targetshapes'):\n",
    "        if j.upper() != i.get('entity').upper() and not i.get('allwordsdict').get(j.upper()):\n",
    "            i['allwords']=i.get('allwords',[])+[j.upper()]\n",
    "            i['allwordsdict'][j.upper()]=j\n",
    "    if i.get('targetshapes'):\n",
    "        del i['targetshapes']\n",
    "    del i['allwordsdict']"
   ]
  },
  {
   "cell_type": "code",
   "execution_count": 616,
   "id": "3b775b41-bdac-4f5e-8e42-4a8c17d83776",
   "metadata": {},
   "outputs": [
    {
     "data": {
      "text/plain": [
       "{'entity': 'Abnormalities, Multiple',\n",
       " 'PMID': ['30612976',\n",
       "  '29488253',\n",
       "  '25514088',\n",
       "  '16207588',\n",
       "  '15901576',\n",
       "  '15613268',\n",
       "  '11207836',\n",
       "  '7844065',\n",
       "  '1612301'],\n",
       " 'literature': 9,\n",
       " 'allyears': [2019, 2018, 2015, 2005, 2004, 2001, 1994, 1992],\n",
       " 'type': 'Disease',\n",
       " 'MeshID': 'D000015',\n",
       " 'url': 'https://www.ncbi.nlm.nih.gov/mesh/68000015',\n",
       " 'Summary': 'Congenital abnormalities that affect more than one organ or body structure.',\n",
       " '_id': 'Disease_Abnormalities, Multiple',\n",
       " 'datest': 20190701,\n",
       " 'allwords': ['NERVOUS ABNORMALITY',\n",
       "  'MULTIPLE VISUAL DEFECTS',\n",
       "  'MULTIPLE ABNORMALITIES']}"
      ]
     },
     "execution_count": 616,
     "metadata": {},
     "output_type": "execute_result"
    }
   ],
   "source": [
    "all_es[-1000]"
   ]
  },
  {
   "cell_type": "code",
   "execution_count": null,
   "id": "6ee6dcac-d622-4090-bbc6-c0e2e6ac68a4",
   "metadata": {},
   "outputs": [],
   "source": []
  },
  {
   "cell_type": "code",
   "execution_count": 617,
   "id": "43d3be21-78c6-42fa-af65-71ed4cb36d58",
   "metadata": {},
   "outputs": [
    {
     "data": {
      "text/plain": [
       "10907"
      ]
     },
     "execution_count": 617,
     "metadata": {},
     "output_type": "execute_result"
    }
   ],
   "source": [
    "len(all_es)"
   ]
  },
  {
   "cell_type": "code",
   "execution_count": 618,
   "id": "bef992eb-c82b-4411-b10b-5ad740d85adc",
   "metadata": {},
   "outputs": [],
   "source": [
    "noturls=[]\n",
    "for i in Disease_all:\n",
    "    if not i.get('url'):\n",
    "        noturls.append(i)"
   ]
  },
  {
   "cell_type": "code",
   "execution_count": 619,
   "id": "9656c6a3-1dda-4098-939e-28af79a36a94",
   "metadata": {},
   "outputs": [
    {
     "data": {
      "text/plain": [
       "13986"
      ]
     },
     "execution_count": 619,
     "metadata": {},
     "output_type": "execute_result"
    }
   ],
   "source": [
    "#13986\n",
    "len(noturls)"
   ]
  },
  {
   "cell_type": "code",
   "execution_count": 620,
   "id": "7a31ffe6-fc00-408a-9c94-048c3677b784",
   "metadata": {},
   "outputs": [
    {
     "data": {
      "text/plain": [
       "17330"
      ]
     },
     "execution_count": 620,
     "metadata": {},
     "output_type": "execute_result"
    }
   ],
   "source": [
    "# 17330\n",
    "len(Disease_all)"
   ]
  },
  {
   "cell_type": "code",
   "execution_count": 621,
   "id": "ddc81cec-7929-4696-afca-cf7699067236",
   "metadata": {},
   "outputs": [
    {
     "name": "stdout",
     "output_type": "stream",
     "text": [
      "['SEPSIS DEATH', 'HEAD INJURY AND ACCIDENTAL DEATH', 'DIED OF HEART DISEASE', 'NEUROLOGICAL DISEASE DEATHS', 'BRAIN METASTASES DIED', 'DECREASED HEMORRHAGIC DEATHS', 'STROKE DIED', 'CANCER-MORTALITY', 'DI PALMA', 'TRAUMA DEATH', 'DETERMINATION OF FAILURE', 'DEATH HYPOGLYCEMIC SYNCOPE', 'COLORECTAL MORTALITY', 'LATE DEATHS', 'MORTALITY OF EPILEPSY', 'DIED OF MALIGNANT DISEASE', 'DIED OF RENAL DISEASE', 'DI ONCOLOGIA', 'INJURIES DIED', 'CARCINOMA DEATH']\n"
     ]
    }
   ],
   "source": [
    "for i in all_es:\n",
    "    if i.get('entity')=='Death':\n",
    "        print(i.get('allwords')[:20])\n",
    "        break"
   ]
  },
  {
   "cell_type": "code",
   "execution_count": 622,
   "id": "e167b879-a3ff-4edf-919a-8307fea32697",
   "metadata": {},
   "outputs": [
    {
     "data": {
      "text/plain": [
       "10907"
      ]
     },
     "execution_count": 622,
     "metadata": {},
     "output_type": "execute_result"
    }
   ],
   "source": [
    "len(all_es)"
   ]
  },
  {
   "cell_type": "markdown",
   "id": "79505a22-e727-4859-8423-7782fe4548ec",
   "metadata": {},
   "source": [
    "for i in Disease_all:\n",
    "    if i.get('entity')=='Parkinson Disease':\n",
    "        for j,k in enumerate(i.get('target')):\n",
    "            for l in k:\n",
    "                if \"ALZHEI-MER'S DISEASE\" == l.upper():\n",
    "                    print(i.get('PMID')[j])\n",
    "                    break"
   ]
  },
  {
   "cell_type": "markdown",
   "id": "0d633040-9335-4ebe-bd65-629aed78a027",
   "metadata": {},
   "source": [
    "for i in all_es:\n",
    "    if i.get('allwords') and \"ALZHEI-MER'S DISEASE\" in i.get('allwords'):\n",
    "        # print(i.get('PMID'))\n",
    "        print(i.get('entity'))\n",
    "        print(i.get('allwords').index(\"ALZHEI-MER'S DISEASE\"))\n",
    "        print(i.get('PMID')[i.get('allwords').index(\"ALZHEI-MER'S DISEASE\")])\n"
   ]
  },
  {
   "cell_type": "code",
   "execution_count": 623,
   "id": "868405ed-d094-4ac7-a156-65dc11542bd0",
   "metadata": {},
   "outputs": [],
   "source": [
    "json.dump(all_es,open('results/all_es_lack.json','w'))"
   ]
  },
  {
   "cell_type": "code",
   "execution_count": 627,
   "id": "1c1703af-332d-4b0d-9ab3-7a191c7370d9",
   "metadata": {},
   "outputs": [],
   "source": [
    "entity_pairs=['Gene','RNA','Carbohydrate','Lipid','Peptide', 'Pharmaceutical_Preparations', 'Protein', 'Toxin','Mutation', 'Disease']"
   ]
  },
  {
   "cell_type": "code",
   "execution_count": 628,
   "id": "ec9f5321-22e1-4d84-b1b0-a80b420fdb76",
   "metadata": {},
   "outputs": [],
   "source": [
    "all_es_result=[]\n",
    "for j in entity_pairs:\n",
    "    for i in names[j+'_all']:\n",
    "        if i.get('specific_type'):\n",
    "            all_es_result.append({'entity':i.get('entity'),'PMID':i.get('PMID'),'target':i.get('target'),'date':i.get('date'),'type':i.get('specific_type'),'sentence':i.get('sentence'),'_id':i.get('type')+'_'+i.get('entity')})\n",
    "        else:\n",
    "            if i.get('type')=='Disease':\n",
    "                if i.get('url'):\n",
    "                    all_es_result.append({'entity':i.get('entity'),'PMID':i.get('PMID'),'target':i.get('target'),'date':i.get('date'),'type':i.get('type'),'sentence':i.get('sentence'),'_id':i.get('type')+'_'+i.get('entity')})\n",
    "            elif i.get('type')=='Mutation':\n",
    "                if i.get('Genomic View'):\n",
    "                    all_es_result.append({'entity':i.get('entity'),'PMID':i.get('PMID'),'target':i.get('target'),'date':i.get('date'),'type':i.get('type'),'sentence':i.get('sentence'),'_id':i.get('type')+'_'+i.get('entity')})\n",
    "            else:\n",
    "                all_es_result.append({'entity':i.get('entity'),'PMID':i.get('PMID'),'target':i.get('target'),'date':i.get('date'),'type':i.get('type'),'sentence':i.get('sentence'),'_id':i.get('type')+'_'+i.get('entity')})"
   ]
  },
  {
   "cell_type": "code",
   "execution_count": 629,
   "id": "20f6e96d-83cd-4b5d-bdc5-61c320e2ce35",
   "metadata": {},
   "outputs": [],
   "source": [
    "jcr=pd.read_csv(\"../JCR/jcr2022.tsv\",sep=\"\\t\")"
   ]
  },
  {
   "cell_type": "code",
   "execution_count": 630,
   "id": "12a76e18-8fdd-4712-8a38-26132422b519",
   "metadata": {},
   "outputs": [],
   "source": [
    "collections_pubtator_info = db.pubtator_info"
   ]
  },
  {
   "cell_type": "code",
   "execution_count": 631,
   "id": "35b4cf9d-b2cd-44f1-a6dc-a3747dd417de",
   "metadata": {},
   "outputs": [],
   "source": [
    "pubtator_info=list(collections_pubtator_info.find())"
   ]
  },
  {
   "cell_type": "code",
   "execution_count": 632,
   "id": "af027103-d80a-44b1-a9a7-344218ffa67c",
   "metadata": {},
   "outputs": [],
   "source": [
    "pubtator_info_dict={}\n",
    "for i in pubtator_info:\n",
    "    pubtator_info_dict[i.get('PMID')]=i"
   ]
  },
  {
   "cell_type": "code",
   "execution_count": 633,
   "id": "5a392cd5-5c8b-4823-b399-0f2d530b873c",
   "metadata": {},
   "outputs": [],
   "source": [
    "jt2if_all={}\n",
    "for i in range(len(jcr)):\n",
    "    if jt2if_all.get(jcr.iloc[i,1].lower()):\n",
    "        if jt2if_all.get(jcr.iloc[i,1].lower())==0.0:\n",
    "            jt2if_all[jcr.iloc[i,1].lower()]=jcr.iloc[i,7]\n",
    "    else:\n",
    "        jt2if_all[jcr.iloc[i,1].lower()]=jcr.iloc[i,7]\n",
    "jt2if_all['aging']=jt2if_all.get('aging-us')"
   ]
  },
  {
   "cell_type": "code",
   "execution_count": 634,
   "id": "97985fd5-2826-480c-8977-8932b8bc438c",
   "metadata": {},
   "outputs": [],
   "source": [
    "jt2if_brief={}\n",
    "for i in range(len(jcr)):\n",
    "    if jt2if_brief.get(jcr.iloc[i,2].lower()):\n",
    "        if jt2if_brief.get(jcr.iloc[i,2].lower())==0.0:\n",
    "            jt2if_brief[jcr.iloc[i,2].lower()]=jcr.iloc[i,7]\n",
    "    else:\n",
    "        jt2if_brief[jcr.iloc[i,2].lower()]=jcr.iloc[i,7]\n",
    "jt2if_brief['aging']=jt2if_brief.get('aging-us')"
   ]
  },
  {
   "cell_type": "code",
   "execution_count": 635,
   "id": "1f9e6a88-fc64-4093-b628-cfb3aa82cc0f",
   "metadata": {},
   "outputs": [],
   "source": [
    "jt2if5_all={}\n",
    "for i in range(len(jcr)):\n",
    "    if jt2if5_all.get(jcr.iloc[i,1].lower()):\n",
    "        if jt2if5_all.get(jcr.iloc[i,1].lower())==0.0:\n",
    "            jt2if5_all[jcr.iloc[i,1].lower()]=jcr.iloc[i,7]\n",
    "    else:\n",
    "        jt2if5_all[jcr.iloc[i,1].lower()]=jcr.iloc[i,9]\n",
    "jt2if5_all['aging']=jt2if5_all.get('aging-us')"
   ]
  },
  {
   "cell_type": "code",
   "execution_count": 636,
   "id": "639afe3b-f736-45c0-8e71-96c1c0b28630",
   "metadata": {},
   "outputs": [],
   "source": [
    "jt2if5_brief={}\n",
    "for i in range(len(jcr)):\n",
    "    \n",
    "    if jt2if5_brief.get(jcr.iloc[i,2].lower()):\n",
    "        if jt2if5_brief.get(jcr.iloc[i,2].lower())==0.0:\n",
    "            jt2if5_brief[jcr.iloc[i,2].lower()]=jcr.iloc[i,7]\n",
    "    else:\n",
    "        jt2if5_brief[jcr.iloc[i,2].lower()]=jcr.iloc[i,9]\n",
    "jt2if5_brief['aging']=jt2if5_brief.get('aging-us')"
   ]
  },
  {
   "cell_type": "markdown",
   "id": "4215cf38-08d2-4f72-a431-fc762c18759b",
   "metadata": {},
   "source": [
    "        if jt2if_brief.get(pubtator_info_dict.get(j).get('TA').lower()):\n",
    "            iflist.append(jt2if_brief.get(pubtator_info_dict.get(j).get('TA').lower()))\n",
    "        elif jt2if_all.get(pubtator_info_dict.get(j).get('JT').lower()):\n",
    "            iflist.append(jt2if_all.get(pubtator_info_dict.get(j).get('JT').lower()))\n",
    "        else:\n",
    "            iflist.append(0.0)\n",
    "        if jt2if5_brief.get(pubtator_info_dict.get(j).get('TA').lower()):\n",
    "            if5list.append(jt2if5_brief.get(pubtator_info_dict.get(j).get('TA').lower()))\n",
    "        elif jt2if5_all.get(pubtator_info_dict.get(j).get('JT').lower()):\n",
    "            if5list.append(jt2if5_all.get(pubtator_info_dict.get(j).get('JT').lower()))\n",
    "        else:\n",
    "            if5list.append(0.0)"
   ]
  },
  {
   "cell_type": "code",
   "execution_count": 637,
   "id": "ec697c26-ac34-44ee-a758-5c91227574f0",
   "metadata": {},
   "outputs": [],
   "source": [
    "for i in all_es_result:\n",
    "    iflist=[]\n",
    "    if5list=[]\n",
    "    TAlist=[]\n",
    "    JTlist=[]\n",
    "    yearlist=[]\n",
    "    for j in i.get('PMID'):\n",
    "        if jt2if_brief.get(pubtator_info_dict.get(j).get('TA').lower()):\n",
    "            iflist.append(jt2if_brief.get(pubtator_info_dict.get(j).get('TA').lower()))\n",
    "        elif jt2if_all.get(pubtator_info_dict.get(j).get('JT').lower()):\n",
    "            iflist.append(jt2if_all.get(pubtator_info_dict.get(j).get('JT').lower()))\n",
    "        else:\n",
    "            iflist.append(0.0)\n",
    "        if jt2if5_brief.get(pubtator_info_dict.get(j).get('TA').lower()):\n",
    "            if5list.append(jt2if5_brief.get(pubtator_info_dict.get(j).get('TA').lower()))\n",
    "        elif jt2if5_all.get(pubtator_info_dict.get(j).get('JT').lower()):\n",
    "            if5list.append(jt2if5_all.get(pubtator_info_dict.get(j).get('JT').lower()))\n",
    "        else:\n",
    "            if5list.append(0.0)\n",
    "        TAlist.append(pubtator_info_dict.get(j).get('TA'))\n",
    "        JTlist.append(pubtator_info_dict.get(j).get('JT'))\n",
    "    for l in i.get('date'):\n",
    "        yearlist.append(int(str(l)[:4]))\n",
    "    i['IF']=iflist\n",
    "    i['IF5']=if5list\n",
    "    i['TA']=TAlist\n",
    "    i['JT']=JTlist\n",
    "    i['year']=yearlist"
   ]
  },
  {
   "cell_type": "code",
   "execution_count": 638,
   "id": "970bf637-e17c-4f3f-94a6-169fdd7d9eba",
   "metadata": {},
   "outputs": [],
   "source": [
    "json.dump(all_es_result,open('results/all_es_result.json','w'))"
   ]
  },
  {
   "cell_type": "code",
   "execution_count": 639,
   "id": "cb37f7af-55a6-4a53-959a-50ff05eae4e1",
   "metadata": {},
   "outputs": [
    {
     "data": {
      "text/plain": [
       "10907"
      ]
     },
     "execution_count": 639,
     "metadata": {},
     "output_type": "execute_result"
    }
   ],
   "source": [
    "#10907\n",
    "len(all_es_result)"
   ]
  },
  {
   "cell_type": "code",
   "execution_count": null,
   "id": "8f986325-9ab3-48de-a9d5-cca90f73aede",
   "metadata": {},
   "outputs": [],
   "source": [
    "Pharmaceutical_Preparations_all[0].get('type')"
   ]
  },
  {
   "cell_type": "code",
   "execution_count": null,
   "id": "67c25331-00ac-4fd9-a1d2-60420d93b1cc",
   "metadata": {},
   "outputs": [],
   "source": [
    "pwd"
   ]
  },
  {
   "cell_type": "code",
   "execution_count": 1029,
   "id": "83e40509-4fe2-4cdc-97ec-090008d3f25a",
   "metadata": {},
   "outputs": [],
   "source": [
    "blank=[{'Module':'','Description':'','Entity_Relation':'','Username':'','Email':''}]"
   ]
  },
  {
   "cell_type": "code",
   "execution_count": 1030,
   "id": "901639b9-4f79-430d-8d5b-8a0118d6c6c3",
   "metadata": {},
   "outputs": [],
   "source": [
    "json.dump(blank,open('feedback.json','w'))"
   ]
  },
  {
   "cell_type": "code",
   "execution_count": null,
   "id": "06f2a93f-8035-4fd2-a154-36ba87d3aad4",
   "metadata": {},
   "outputs": [],
   "source": []
  },
  {
   "cell_type": "code",
   "execution_count": null,
   "id": "a19043d2-53d9-48e9-8bed-d8b127b3b3b5",
   "metadata": {},
   "outputs": [],
   "source": []
  },
  {
   "cell_type": "code",
   "execution_count": null,
   "id": "a9cfc934-5e90-42e0-ae10-efbd573016d3",
   "metadata": {},
   "outputs": [],
   "source": []
  },
  {
   "cell_type": "code",
   "execution_count": null,
   "id": "78a86b6d-d398-47dc-8999-aa3b4b805167",
   "metadata": {},
   "outputs": [],
   "source": []
  },
  {
   "cell_type": "code",
   "execution_count": null,
   "id": "94c30216-f1da-4f1b-b67c-1a5bfae7bd47",
   "metadata": {},
   "outputs": [],
   "source": []
  },
  {
   "cell_type": "code",
   "execution_count": null,
   "id": "43342fe1-a678-49f4-a636-5034cb11d8cf",
   "metadata": {},
   "outputs": [],
   "source": []
  },
  {
   "cell_type": "code",
   "execution_count": null,
   "id": "533aa5d5-f217-407c-a1de-b2ab9d9b47ce",
   "metadata": {},
   "outputs": [],
   "source": []
  },
  {
   "cell_type": "code",
   "execution_count": null,
   "id": "43b3d9e2-c241-4323-8802-6b991d644b99",
   "metadata": {},
   "outputs": [],
   "source": []
  },
  {
   "cell_type": "code",
   "execution_count": null,
   "id": "d2510124-ba0f-4c18-b712-13cdd816f24e",
   "metadata": {},
   "outputs": [],
   "source": []
  },
  {
   "cell_type": "code",
   "execution_count": 322,
   "id": "b9867c64-6813-4a99-b7f0-5d6f021db06a",
   "metadata": {},
   "outputs": [
    {
     "data": {
      "text/plain": [
       "8883"
      ]
     },
     "execution_count": 322,
     "metadata": {},
     "output_type": "execute_result"
    }
   ],
   "source": [
    "len(RNA2approved_dict)"
   ]
  },
  {
   "cell_type": "code",
   "execution_count": 323,
   "id": "8a689b32-5540-4fe3-8946-5b00ae2e4cb0",
   "metadata": {},
   "outputs": [
    {
     "data": {
      "text/plain": [
       "'MIR29A'"
      ]
     },
     "execution_count": 323,
     "metadata": {},
     "output_type": "execute_result"
    }
   ],
   "source": [
    "i"
   ]
  },
  {
   "cell_type": "code",
   "execution_count": 140,
   "id": "87580fb4-5d46-4eba-b53e-85b82ee25df0",
   "metadata": {},
   "outputs": [
    {
     "name": "stdout",
     "output_type": "stream",
     "text": [
      "11\n",
      "HTTP/1.1\n"
     ]
    }
   ],
   "source": [
    "import http.client\n",
    "print(http.client.HTTPConnection._http_vsn)\n",
    "print(http.client.HTTPConnection._http_vsn_str)"
   ]
  },
  {
   "cell_type": "markdown",
   "id": "55a96704-8dd4-45f2-9127-6c2f8dc5d06d",
   "metadata": {},
   "source": [
    "list(db.Disease_raw.find().limit(1))"
   ]
  },
  {
   "cell_type": "markdown",
   "id": "d350f0cc-5494-4ff7-9cc3-7dd6bc8f2add",
   "metadata": {},
   "source": [
    "list(db.Peptide_raw.find().limit(3))"
   ]
  },
  {
   "cell_type": "markdown",
   "id": "70ff0ee7-6cc1-48aa-821d-59c54cda3068",
   "metadata": {},
   "source": [
    "list(db.Gene_raw.find().limit(1))"
   ]
  },
  {
   "cell_type": "markdown",
   "id": "4453e44b-2732-422c-ae18-422432d6a19d",
   "metadata": {},
   "source": [
    "list(db.RNA_raw.find().limit(1))"
   ]
  },
  {
   "cell_type": "markdown",
   "id": "6f56c2c0-851f-4a9f-97d0-cf934bbbfa08",
   "metadata": {},
   "source": [
    "list(db.Carbohydrate_raw.find().limit(1))"
   ]
  },
  {
   "cell_type": "markdown",
   "id": "42d0bb44-60db-43a4-b558-e34bbcac2499",
   "metadata": {},
   "source": [
    "list(db.Lipid_raw.find().limit(1))"
   ]
  },
  {
   "cell_type": "markdown",
   "id": "ce0b4ace-d51d-45c2-ac8e-da54b7d7b3da",
   "metadata": {},
   "source": [
    "list(db.Mutation_raw.find().limit(1))"
   ]
  },
  {
   "cell_type": "markdown",
   "id": "a52da6a8-7414-4463-88f3-fe3ca3652853",
   "metadata": {},
   "source": [
    "list(db.Disease_raw.find().limit(1))"
   ]
  },
  {
   "cell_type": "markdown",
   "id": "d914e1d0-62da-4a4d-859d-82ae58239776",
   "metadata": {},
   "source": [
    "db.Disease_raw.remove({'addtime':now_time})"
   ]
  },
  {
   "cell_type": "markdown",
   "id": "1a794e0c-20c5-480f-b960-718ca1ad85e5",
   "metadata": {},
   "source": [
    "db.Carbohydrate_raw.remove({'addtime':now_time})"
   ]
  },
  {
   "cell_type": "markdown",
   "id": "28ea0039-36a6-43b9-8ac9-45ee0e98c310",
   "metadata": {},
   "source": [
    "db.Lipid_raw.remove({'addtime':now_time})"
   ]
  },
  {
   "cell_type": "markdown",
   "id": "f9fa6387-9b1f-4324-a691-33b35edfc739",
   "metadata": {},
   "source": [
    "db.Peptide_raw.remove({'addtime':now_time})"
   ]
  },
  {
   "cell_type": "markdown",
   "id": "f0f2841b-26f2-4b51-a4b5-4f5f4c789e88",
   "metadata": {},
   "source": [
    "db.Pharmaceutical_Preparations_raw.remove({'addtime':now_time})"
   ]
  },
  {
   "cell_type": "markdown",
   "id": "b7c9ead0-b5fe-40db-90b5-e600b18cf14f",
   "metadata": {},
   "source": [
    "db.Protein_raw.remove({'addtime':now_time})"
   ]
  },
  {
   "cell_type": "markdown",
   "id": "0da90c6f-6df7-465a-9c3e-fbde4f30218c",
   "metadata": {},
   "source": [
    "db.Toxin_raw.remove({'addtime':now_time})"
   ]
  },
  {
   "cell_type": "code",
   "execution_count": 372,
   "id": "c112d506-0b08-4799-832b-2811ef81b299",
   "metadata": {},
   "outputs": [],
   "source": [
    "Gene_entity_blank=[]\n",
    "for i in Gene_all:\n",
    "    Gene_entity_blank.append(i.get('entity'))"
   ]
  },
  {
   "cell_type": "code",
   "execution_count": 373,
   "id": "b7856573-3a93-469c-bd06-6bd805618ffc",
   "metadata": {},
   "outputs": [
    {
     "data": {
      "text/plain": [
       "4854"
      ]
     },
     "execution_count": 373,
     "metadata": {},
     "output_type": "execute_result"
    }
   ],
   "source": [
    "len(Gene_entity_blank)"
   ]
  },
  {
   "cell_type": "code",
   "execution_count": 395,
   "id": "48f915ea-89a7-4d2e-9c76-508b63a69216",
   "metadata": {},
   "outputs": [
    {
     "data": {
      "text/plain": [
       "4854"
      ]
     },
     "execution_count": 395,
     "metadata": {},
     "output_type": "execute_result"
    }
   ],
   "source": [
    "len(set(Gene_entity_blank))"
   ]
  },
  {
   "cell_type": "code",
   "execution_count": 453,
   "id": "df33ae17-72f0-4d23-9262-3d62541863fd",
   "metadata": {},
   "outputs": [],
   "source": [
    "import time\n",
    "import datetime\n",
    "from multiprocessing import Process, Manager, Pool\n",
    "import os, time, random\n",
    "from lxml import etree\n",
    "import requests\n",
    "def get_Gene_info(i,final_Genes_inte):\n",
    "    ncbiid=Gene2ncbi_dict.get(i)\n",
    "    ncbiurl='https://www.ncbi.nlm.nih.gov/gene/' + ncbiid\n",
    "    headers = {\n",
    "        \"User-Agent\": \"Mozilla/5.0 (Windows NT 10.0; Win64; x64) AppleWebKit/537.36 \\\n",
    "        (KHTML, like Gecko) Chrome/83.0.4103.97 Safari/537.36\"\n",
    "    }\n",
    "    url = 'https://www.ncbi.nlm.nih.gov/gene/'+ncbiid\n",
    "    \n",
    "    res=requests.get(url=url,headers=headers)\n",
    "    html = etree.HTML(res.content)\n",
    "    ncbisummary={\n",
    "    # 'numbersOfLiterature' : len(i.get('PMID')),\n",
    "    'Official_Symbol' : html.xpath('//*[@id=\"summaryDl\"]/dt[contains(.//text(),\"Official\")]/following::dd[1]/text()')[0],\n",
    "    'Official_Full_Name' : html.xpath('//*[@id=\"summaryDl\"]/dt[contains(.//text(),\"Official\")]/following::dd[1]/text()')[1],\n",
    "    # 'Also_known_as' : ''.join(html.xpath('//*[@id=\"summaryDl\"]/dt[contains(.//text(),\"Also known as\")]/following::dd[1]/text()')).replace('HGNC:HGNC:',''),\n",
    "    'HGNC_ID' : ''.join(html.xpath('//*[@id=\"summaryDl\"]/dt[contains(.//text(),\"Primary source\")]/following::dd[1]/a/text()')),\n",
    "    'HGNC_URL' : ''.join(html.xpath('//*[@id=\"summaryDl\"]/dt[contains(.//text(),\"Primary source\")]/following::dd[1]/a/@href')),\n",
    "    'Ensembl_ID' :  ''.join(html.xpath('//*[@id=\"summaryDl\"]/dt[contains(.//text(),\"See related\")]/following::dd[1]/a[1]/text()')),\n",
    "    'Ensembl_URL' : ''.join(html.xpath('//*[@id=\"summaryDl\"]/dt[contains(.//text(),\"See related\")]/following::dd[1]/a[1]/@href')),\n",
    "    'MIM_ID' : ''.join(html.xpath('//*[@id=\"summaryDl\"]/dt[contains(.//text(),\"See related\")]/following::dd[1]/a[2]/text()')),\n",
    "    'MIM_URL' : ''.join(html.xpath('//*[@id=\"summaryDl\"]/dt[contains(.//text(),\"See related\")]/following::dd[1]/a[2]/@href')),\n",
    "    'AllianceGenome_ID' : ''.join(html.xpath('//*[@id=\"summaryDl\"]/dt[contains(.//text(),\"See related\")]/following::dd[1]/a[3]/text()')),\n",
    "    'AllianceGenome_URL' : ''.join(html.xpath('//*[@id=\"summaryDl\"]/dt[contains(.//text(),\"See related\")]/following::dd[1]/a[3]/@href')),\n",
    "    'NCBI_ID' : ncbiid ,\n",
    "    'NCBI_URL' : ncbiurl\n",
    "    }\n",
    "    try:\n",
    "        also=''.join(html.xpath('//*[@id=\"summaryDl\"]/dt[contains(.//text(),\"Also known as\")]/following::dd[1]/text()')).replace('HGNC:HGNC:','')\n",
    "    except:\n",
    "        also=''\n",
    "    finally:\n",
    "        ncbisummary.update({'Also_known_as' : also})\n",
    "    try:\n",
    "        also2=''.join(html.xpath('//*[@id=\"summaryDl\"]/dt[contains(.//text(),\"Summary\")]/following::dd[1]/text()'))\n",
    "    except:\n",
    "        also2=''\n",
    "    finally:\n",
    "        ncbisummary.update({'Summary' : also2})\n",
    "    final_Genes_inte[i]=ncbisummary\n",
    "    # print(ncbisummary)\n",
    "    time.sleep(0.5)"
   ]
  },
  {
   "cell_type": "markdown",
   "id": "2df3d690-eb2e-4919-9e07-c40d366babad",
   "metadata": {},
   "source": [
    "get_Gene_info(i)"
   ]
  },
  {
   "cell_type": "code",
   "execution_count": 454,
   "id": "50914af9-2c92-40ec-8042-382c6ef0cf78",
   "metadata": {},
   "outputs": [],
   "source": [
    "p = Pool(10)\n",
    "manager=Manager()\n",
    "final_Genes_inte = manager.dict()\n",
    "for i in Gene_entity_blank:\n",
    "    p.apply_async(get_Gene_info, args=(i,final_Genes_inte))\n",
    "p.close()\n",
    "p.join()"
   ]
  },
  {
   "cell_type": "code",
   "execution_count": 455,
   "id": "3ebd6b45-aefe-4bfc-96d5-aa9eb07497fe",
   "metadata": {},
   "outputs": [
    {
     "data": {
      "text/plain": [
       "4854"
      ]
     },
     "execution_count": 455,
     "metadata": {},
     "output_type": "execute_result"
    }
   ],
   "source": [
    "len(dict(final_Genes_inte))"
   ]
  },
  {
   "cell_type": "code",
   "execution_count": 466,
   "id": "5a34f891-ba90-40e1-9721-710ad788340b",
   "metadata": {},
   "outputs": [],
   "source": [
    "Gene_converter=dict(final_Genes_inte)"
   ]
  },
  {
   "cell_type": "code",
   "execution_count": 457,
   "id": "bc6dbdfb-a7a4-41db-a93a-98aece703a4a",
   "metadata": {},
   "outputs": [],
   "source": [
    "pickle.dump(dict(final_Genes_inte), open('../ncbi/Gene_converter.pkl','wb'))"
   ]
  },
  {
   "cell_type": "code",
   "execution_count": null,
   "id": "7340765e-3452-4fa4-a81b-773b5032168d",
   "metadata": {},
   "outputs": [],
   "source": []
  },
  {
   "cell_type": "code",
   "execution_count": 376,
   "id": "799e5808-3a75-428e-86dd-23a77f17d326",
   "metadata": {},
   "outputs": [],
   "source": [
    "RNA_entity_blank=[]\n",
    "for i in RNA_all:\n",
    "    RNA_entity_blank.append(i.get('entity'))"
   ]
  },
  {
   "cell_type": "code",
   "execution_count": 377,
   "id": "6e164de5-03b0-42bd-86a4-720fc45598a3",
   "metadata": {},
   "outputs": [
    {
     "data": {
      "text/plain": [
       "339"
      ]
     },
     "execution_count": 377,
     "metadata": {},
     "output_type": "execute_result"
    }
   ],
   "source": [
    "len(RNA_entity_blank)"
   ]
  },
  {
   "cell_type": "code",
   "execution_count": 459,
   "id": "046f903d-21f2-47ee-878e-b6e879a9794a",
   "metadata": {},
   "outputs": [],
   "source": [
    "import time\n",
    "import datetime\n",
    "from multiprocessing import Process, Manager, Pool\n",
    "import os, time, random\n",
    "from lxml import etree\n",
    "import requests\n",
    "def get_RNA_info(i,final_RNAs_inte):\n",
    "    ncbiid=RNA2ncbi_dict.get(i)\n",
    "    ncbiurl='https://www.ncbi.nlm.nih.gov/gene/' + ncbiid\n",
    "    headers = {\n",
    "        \"User-Agent\": \"Mozilla/5.0 (Windows NT 10.0; Win64; x64) AppleWebKit/537.36 \\\n",
    "        (KHTML, like Gecko) Chrome/83.0.4103.97 Safari/537.36\"\n",
    "    }\n",
    "    url = 'https://www.ncbi.nlm.nih.gov/gene/'+ncbiid\n",
    "    \n",
    "    res=requests.get(url=url,headers=headers)\n",
    "    html = etree.HTML(res.content)\n",
    "    ncbisummary={\n",
    "    # 'numbersOfLiterature' : len(i.get('PMID')),\n",
    "    'Official_Symbol' : html.xpath('//*[@id=\"summaryDl\"]/dt[contains(.//text(),\"Official\")]/following::dd[1]/text()')[0],\n",
    "    'Official_Full_Name' : html.xpath('//*[@id=\"summaryDl\"]/dt[contains(.//text(),\"Official\")]/following::dd[1]/text()')[1],\n",
    "    # 'Also_known_as' : ''.join(html.xpath('//*[@id=\"summaryDl\"]/dt[contains(.//text(),\"Also known as\")]/following::dd[1]/text()')).replace('HGNC:HGNC:',''),\n",
    "    'HGNC_ID' : ''.join(html.xpath('//*[@id=\"summaryDl\"]/dt[contains(.//text(),\"Primary source\")]/following::dd[1]/a/text()')),\n",
    "    'HGNC_URL' : ''.join(html.xpath('//*[@id=\"summaryDl\"]/dt[contains(.//text(),\"Primary source\")]/following::dd[1]/a/@href')),\n",
    "    'Ensembl_ID' :  ''.join(html.xpath('//*[@id=\"summaryDl\"]/dt[contains(.//text(),\"See related\")]/following::dd[1]/a[1]/text()')),\n",
    "    'Ensembl_URL' : ''.join(html.xpath('//*[@id=\"summaryDl\"]/dt[contains(.//text(),\"See related\")]/following::dd[1]/a[1]/@href')),\n",
    "    'MIM_ID' : ''.join(html.xpath('//*[@id=\"summaryDl\"]/dt[contains(.//text(),\"See related\")]/following::dd[1]/a[2]/text()')),\n",
    "    'MIM_URL' : ''.join(html.xpath('//*[@id=\"summaryDl\"]/dt[contains(.//text(),\"See related\")]/following::dd[1]/a[2]/@href')),\n",
    "    'AllianceGenome_ID' : ''.join(html.xpath('//*[@id=\"summaryDl\"]/dt[contains(.//text(),\"See related\")]/following::dd[1]/a[3]/text()')),\n",
    "    'AllianceGenome_URL' : ''.join(html.xpath('//*[@id=\"summaryDl\"]/dt[contains(.//text(),\"See related\")]/following::dd[1]/a[3]/@href')),\n",
    "    'NCBI_ID' : ncbiid ,\n",
    "    'NCBI_URL' : ncbiurl\n",
    "    }\n",
    "    try:\n",
    "        also=''.join(html.xpath('//*[@id=\"summaryDl\"]/dt[contains(.//text(),\"Also known as\")]/following::dd[1]/text()')).replace('HGNC:HGNC:','')\n",
    "    except:\n",
    "        also=''\n",
    "    finally:\n",
    "        ncbisummary.update({'Also_known_as' : also})\n",
    "    try:\n",
    "        also2=''.join(html.xpath('//*[@id=\"summaryDl\"]/dt[contains(.//text(),\"Summary\")]/following::dd[1]/text()'))\n",
    "    except:\n",
    "        also2=''\n",
    "    finally:\n",
    "        ncbisummary.update({'Summary' : also2})\n",
    "    final_RNAs_inte[i]=ncbisummary\n",
    "    # print(ncbisummary)\n",
    "    time.sleep(0.5)"
   ]
  },
  {
   "cell_type": "code",
   "execution_count": 460,
   "id": "67edf8cf-f8d9-4ee8-bb14-ca4db9a0a5b7",
   "metadata": {},
   "outputs": [],
   "source": [
    "p = Pool(10)\n",
    "manager=Manager()\n",
    "final_RNAs_inte = manager.dict()\n",
    "for i in RNA_entity_blank:\n",
    "    p.apply_async(get_RNA_info, args=(i,final_RNAs_inte))\n",
    "p.close()\n",
    "p.join()"
   ]
  },
  {
   "cell_type": "code",
   "execution_count": 461,
   "id": "a2d6da6a-5226-4ba5-8544-6c80db512c18",
   "metadata": {},
   "outputs": [
    {
     "data": {
      "text/plain": [
       "339"
      ]
     },
     "execution_count": 461,
     "metadata": {},
     "output_type": "execute_result"
    }
   ],
   "source": [
    "len(dict(final_RNAs_inte))"
   ]
  },
  {
   "cell_type": "code",
   "execution_count": 467,
   "id": "c7288916-417f-4f28-8026-8d5aca542c0b",
   "metadata": {},
   "outputs": [],
   "source": [
    "RNA_converter=dict(final_RNAs_inte)"
   ]
  },
  {
   "cell_type": "code",
   "execution_count": 462,
   "id": "979cd82e-4e1c-4a8b-859f-16a510b6b5e5",
   "metadata": {},
   "outputs": [
    {
     "data": {
      "text/plain": [
       "[('MIR30A',\n",
       "  {'Official_Symbol': 'MIR30A',\n",
       "   'Official_Full_Name': 'microRNA 30a',\n",
       "   'HGNC_ID': 'HGNC:HGNC:31624',\n",
       "   'HGNC_URL': 'https://www.genenames.org/data/gene-symbol-report/#!/hgnc_id/HGNC:31624',\n",
       "   'Ensembl_ID': 'Ensembl:ENSG00000207827',\n",
       "   'Ensembl_URL': 'http://www.ensembl.org/id/ENSG00000207827',\n",
       "   'MIM_ID': 'MIM:612329;',\n",
       "   'MIM_URL': 'https://www.ncbi.nlm.nih.gov/omim/612329',\n",
       "   'AllianceGenome_ID': 'miRBase:MI0000088;',\n",
       "   'AllianceGenome_URL': 'http://www.mirbase.org/cgi-bin/mirna_entry.pl?acc=MI0000088',\n",
       "   'NCBI_ID': '407029',\n",
       "   'NCBI_URL': 'https://www.ncbi.nlm.nih.gov/gene/407029',\n",
       "   'Also_known_as': 'MIRN30A; mir-30a',\n",
       "   'Summary': 'microRNAs (miRNAs) are short (20-24 nt) non-coding RNAs that are involved in post-transcriptional regulation of gene expression in multicellular organisms by affecting both the stability and translation of mRNAs. miRNAs are transcribed by RNA polymerase II as part of capped and polyadenylated primary transcripts (pri-miRNAs) that can be either protein-coding or non-coding. The primary transcript is cleaved by the Drosha ribonuclease III enzyme to produce an approximately 70-nt stem-loop precursor miRNA (pre-miRNA), which is further cleaved by the cytoplasmic Dicer ribonuclease to generate the mature miRNA and antisense miRNA star (miRNA*) products. The mature miRNA is incorporated into a RNA-induced silencing complex (RISC), which recognizes target mRNAs through imperfect base pairing with the miRNA and most commonly results in translational inhibition or destabilization of the target mRNA. The encoded miRNA is one of five members of the miR-30 family of highly conserved miRNAs and participates in many cellular processes. It has additionally been implicated in the development of several types of cancer. The RefSeq represents the predicted microRNA stem-loop. [provided by RefSeq, Sep 2017]'}),\n",
       " ('MIR372',\n",
       "  {'Official_Symbol': 'MIR372',\n",
       "   'Official_Full_Name': 'microRNA 372',\n",
       "   'HGNC_ID': 'HGNC:HGNC:31786',\n",
       "   'HGNC_URL': 'https://www.genenames.org/data/gene-symbol-report/#!/hgnc_id/HGNC:31786',\n",
       "   'Ensembl_ID': 'Ensembl:ENSG00000199095',\n",
       "   'Ensembl_URL': 'http://www.ensembl.org/id/ENSG00000199095',\n",
       "   'MIM_ID': 'MIM:612044;',\n",
       "   'MIM_URL': 'https://www.ncbi.nlm.nih.gov/omim/612044',\n",
       "   'AllianceGenome_ID': 'miRBase:MI0000780;',\n",
       "   'AllianceGenome_URL': 'http://www.mirbase.org/cgi-bin/mirna_entry.pl?acc=MI0000780',\n",
       "   'NCBI_ID': '442917',\n",
       "   'NCBI_URL': 'https://www.ncbi.nlm.nih.gov/gene/442917',\n",
       "   'Also_known_as': 'MIRN372; hsa-mir-372',\n",
       "   'Summary': 'microRNAs (miRNAs) are short (20-24 nt) non-coding RNAs that are involved in post-transcriptional regulation of gene expression in multicellular organisms by affecting both the stability and translation of mRNAs. miRNAs are transcribed by RNA polymerase II as part of capped and polyadenylated primary transcripts (pri-miRNAs) that can be either protein-coding or non-coding. The primary transcript is cleaved by the Drosha ribonuclease III enzyme to produce an approximately 70-nt stem-loop precursor miRNA (pre-miRNA), which is further cleaved by the cytoplasmic Dicer ribonuclease to generate the mature miRNA and antisense miRNA star (miRNA*) products. The mature miRNA is incorporated into a RNA-induced silencing complex (RISC), which recognizes target mRNAs through imperfect base pairing with the miRNA and most commonly results in translational inhibition or destabilization of the target mRNA. The RefSeq represents the predicted microRNA stem-loop. [provided by RefSeq, Sep 2009]'})]"
      ]
     },
     "execution_count": 462,
     "metadata": {},
     "output_type": "execute_result"
    }
   ],
   "source": [
    "list(dict(final_RNAs_inte).items())[:2]"
   ]
  },
  {
   "cell_type": "code",
   "execution_count": 463,
   "id": "75351617-e22f-4595-ae50-80ce725e79b4",
   "metadata": {},
   "outputs": [],
   "source": [
    "pickle.dump(dict(final_RNAs_inte), open('../ncbi/RNA_converter.pkl','wb'))"
   ]
  },
  {
   "cell_type": "code",
   "execution_count": 950,
   "id": "40454261-87ee-494d-874b-1fbfdd593a75",
   "metadata": {},
   "outputs": [
    {
     "data": {
      "text/plain": [
       "'/root/hald_autoupdate/2022_12_09'"
      ]
     },
     "execution_count": 950,
     "metadata": {},
     "output_type": "execute_result"
    }
   ],
   "source": [
    "pwd"
   ]
  },
  {
   "cell_type": "code",
   "execution_count": 951,
   "id": "b570a450-86b1-4d07-89e0-bdd2c1c955c1",
   "metadata": {},
   "outputs": [
    {
     "data": {
      "text/plain": [
       "['Toxin',\n",
       " 'Peptide',\n",
       " 'Lipid',\n",
       " 'Protein',\n",
       " 'Carbohydrate',\n",
       " 'Pharmaceutical Preparations']"
      ]
     },
     "execution_count": 951,
     "metadata": {},
     "output_type": "execute_result"
    }
   ],
   "source": [
    "pairs"
   ]
  },
  {
   "cell_type": "code",
   "execution_count": 956,
   "id": "62b44858-625a-4eaf-8848-d5c3d8a19173",
   "metadata": {},
   "outputs": [
    {
     "data": {
      "text/plain": [
       "{'entity': 'Amino Acid Metabolism, Inborn Errors',\n",
       " 'PMID': ['33742102',\n",
       "  '20564567',\n",
       "  '12052660',\n",
       "  '10563973',\n",
       "  '7676443',\n",
       "  '35527334'],\n",
       " 'target': [['inborn errors of amino acid metabolism'],\n",
       "  ['cross-linked amino acids'],\n",
       "  ['excitotoxic amino acids'],\n",
       "  ['cross-linked amino acids'],\n",
       "  ['excitotoxic amino acids'],\n",
       "  ['amino acid metabolism']],\n",
       " 'date': [20210319, 20100601, 20020228, 19990401, 19950901, 20220701],\n",
       " 'type': 'Disease',\n",
       " 'sentence': [['They represent a general class of metabolites for inborn errors of amino acid metabolism that show potential as biomarkers and may provide further insight in disease pathophysiology.'],\n",
       "  ['Exposure of food proteins to certain processing conditions induces two major chemical changes: racemization of all L-amino acids (LAAs) to D-amino acids (DAAs) and concurrent formation of cross-linked amino acids such as lysinoalanine (LAL).'],\n",
       "  ['Both in vivo and in culture, nicotine protects striatal, hippocampal and cortical neurons against the neurotoxicity induced by excitotoxic amino acids as well as the toxicity caused by beta-amyloid, the major component of senile plaques.'],\n",
       "  ['Heat and alkali treatments of foods, widely used in food processing, result in the formation of dehydro and cross-linked amino acids such as dehydroalanine, methyldehydroalanine, beta-aminoalanine, lysinoalanine (LAL), ornithinoalanine, histidinoalanine (HAL), phenylethylaminoalanine, lanthionine (LAN), and methyl-lanthionine present in proteins and are frequently accompanied by concurrent racemization of L-amino acid isomers to D-analogues.'],\n",
       "  ['Bioenergetic defects and oxidative stress were found to be critical links in a neurotoxic cascade of events that trigger the sustained release of excitotoxic amino acids.'],\n",
       "  ['Finally, the precise metabolomics approach reveals perturbations in a diverse array of metabolic pathways across aging that principally implicate steroid metabolism, amino acid metabolism, lipid metabolism, and purine metabolism, which allows the authors to draw correlates to the pathology of various age-related diseases.']],\n",
       " '_id': 'Disease_Amino Acid Metabolism, Inborn Errors',\n",
       " 'IF': [6.548, 2.745, 4.271, 5.895, 4.46, 15.367],\n",
       " 'IF5': [6.816, 2.581, 4.293, 6.048, 4.484, 15.158],\n",
       " 'TA': ['Commun Biol',\n",
       "  'Chem Biodivers',\n",
       "  'Toxicol Lett',\n",
       "  'J Agric Food Chem',\n",
       "  'Toxicol Appl Pharmacol',\n",
       "  'Small Methods'],\n",
       " 'JT': ['Communications biology',\n",
       "  'Chemistry & biodiversity',\n",
       "  'Toxicology letters',\n",
       "  'Journal of agricultural and food chemistry',\n",
       "  'Toxicology and applied pharmacology',\n",
       "  'Small methods'],\n",
       " 'year': [2021, 2010, 2002, 1999, 1995, 2022]}"
      ]
     },
     "execution_count": 956,
     "metadata": {},
     "output_type": "execute_result"
    }
   ],
   "source": [
    "all_es_result[10000]"
   ]
  },
  {
   "cell_type": "code",
   "execution_count": 955,
   "id": "810427c0-0cae-4e24-be46-76be3d885e4c",
   "metadata": {},
   "outputs": [
    {
     "name": "stdout",
     "output_type": "stream",
     "text": [
      "w\n"
     ]
    }
   ],
   "source": [
    "for i in all_es_copy:\n",
    "    if i.get('type')=='Pharmaceutical Preparations':\n",
    "        print('w')\n",
    "        break"
   ]
  },
  {
   "cell_type": "code",
   "execution_count": 968,
   "id": "88b9721f-f65f-478d-b9c0-1878cfc0563d",
   "metadata": {},
   "outputs": [],
   "source": [
    "for i in all_es_result:\n",
    "    if i.get('type')=='microRNA':\n",
    "        print('i')\n",
    "        break"
   ]
  },
  {
   "cell_type": "code",
   "execution_count": 953,
   "id": "c0f415f2-9ec3-4d72-a932-1878e6979f12",
   "metadata": {},
   "outputs": [
    {
     "data": {
      "text/plain": [
       "['DNA',\n",
       " 'RNA',\n",
       " 'Carbohydrate',\n",
       " 'Lipid',\n",
       " 'Peptide',\n",
       " 'Pharmaceutical_Preparations',\n",
       " 'Protein',\n",
       " 'Toxin',\n",
       " 'Mutation',\n",
       " 'Disease']"
      ]
     },
     "execution_count": 953,
     "metadata": {},
     "output_type": "execute_result"
    }
   ],
   "source": [
    "entity_pairs"
   ]
  },
  {
   "cell_type": "code",
   "execution_count": 640,
   "id": "33ae15e6-f661-4415-b3bd-97675b499b07",
   "metadata": {},
   "outputs": [
    {
     "data": {
      "text/plain": [
       "10907"
      ]
     },
     "execution_count": 640,
     "metadata": {},
     "output_type": "execute_result"
    }
   ],
   "source": [
    "len(all_es_result)"
   ]
  },
  {
   "cell_type": "code",
   "execution_count": 641,
   "id": "bfa0faba-eec1-4478-85ff-5adee6373c46",
   "metadata": {},
   "outputs": [],
   "source": [
    "for i in entity_pairs:\n",
    "    names[i+'_literature']=set()\n",
    "    names[i+'_sentence']=set()\n",
    "\n",
    "for j in entity_pairs:\n",
    "    for i in all_es_result:\n",
    "        if i.get('type')==j.replace('_',' '):\n",
    "            for k in i.get('PMID'):\n",
    "                names[j+'_literature'].add(k)\n",
    "            for l in i.get('sentence'):\n",
    "                for m in l:\n",
    "                    names[j+'_sentence'].add(m)\n",
    "            continue\n",
    "        elif i.get('type')[-3:]=='RNA':\n",
    "            for k in i.get('PMID'):\n",
    "                names[j+'_literature'].add(k)\n",
    "            for l in i.get('sentence'):\n",
    "                for m in l:\n",
    "                    names[j+'_sentence'].add(m)"
   ]
  },
  {
   "cell_type": "code",
   "execution_count": 642,
   "id": "3113310d-5f45-49e8-a640-bc237bc64fea",
   "metadata": {},
   "outputs": [
    {
     "name": "stdout",
     "output_type": "stream",
     "text": [
      "Gene 25896\n",
      "RNA 643\n",
      "Carbohydrate 8484\n",
      "Lipid 7862\n",
      "Peptide 2200\n",
      "Pharmaceutical_Preparations 790\n",
      "Protein 1350\n",
      "Toxin 908\n",
      "Mutation 2073\n",
      "Disease 145981\n"
     ]
    }
   ],
   "source": [
    "for i in entity_pairs:\n",
    "    print(i+' '+str(len(list(names[i+'_literature']))))"
   ]
  },
  {
   "cell_type": "code",
   "execution_count": 1003,
   "id": "e49c0f5c-fe98-48f6-b8e5-df54d4070e8c",
   "metadata": {},
   "outputs": [
    {
     "name": "stdout",
     "output_type": "stream",
     "text": [
      "DNA 25896\n",
      "RNA 643\n",
      "Carbohydrate 8484\n",
      "Lipid 7861\n",
      "Peptide 2199\n",
      "Pharmaceutical_Preparations 790\n",
      "Protein 1350\n",
      "Toxin 907\n",
      "Mutation 2617\n",
      "Disease 145981\n"
     ]
    }
   ],
   "source": [
    "for i in entity_pairs:\n",
    "    print(i+' '+str(len(list(names[i+'_literature']))))"
   ]
  },
  {
   "cell_type": "code",
   "execution_count": 643,
   "id": "d9042967-8a97-4291-aaef-3cbbc0256c99",
   "metadata": {},
   "outputs": [
    {
     "name": "stdout",
     "output_type": "stream",
     "text": [
      "Gene 78418\n",
      "RNA 1986\n",
      "Carbohydrate 17462\n",
      "Lipid 16921\n",
      "Peptide 5035\n",
      "Pharmaceutical_Preparations 2222\n",
      "Protein 3677\n",
      "Toxin 2438\n",
      "Mutation 5345\n",
      "Disease 619831\n"
     ]
    }
   ],
   "source": [
    "for i in entity_pairs:\n",
    "    print(i+' '+str(len(list(names[i+'_sentence']))))"
   ]
  },
  {
   "cell_type": "code",
   "execution_count": 995,
   "id": "90b07150-1001-44a5-bf98-bf8039771300",
   "metadata": {},
   "outputs": [
    {
     "name": "stdout",
     "output_type": "stream",
     "text": [
      "17330\n"
     ]
    }
   ],
   "source": [
    "nnn=0\n",
    "for i in all_es_result:\n",
    "    if i.get('type')=='Disease':\n",
    "        nnn+=1\n",
    "print(nnn)"
   ]
  },
  {
   "cell_type": "code",
   "execution_count": 1012,
   "id": "82bcefd9-e553-43de-84cf-8ffcd513da29",
   "metadata": {},
   "outputs": [
    {
     "data": {
      "text/plain": [
       "10907"
      ]
     },
     "execution_count": 1012,
     "metadata": {},
     "output_type": "execute_result"
    }
   ],
   "source": [
    "len(all_es_result)"
   ]
  },
  {
   "cell_type": "code",
   "execution_count": 1009,
   "id": "e8788ed6-f9b4-443d-a4f5-bdd2a733df66",
   "metadata": {},
   "outputs": [
    {
     "data": {
      "text/plain": [
       "10907"
      ]
     },
     "execution_count": 1009,
     "metadata": {},
     "output_type": "execute_result"
    }
   ],
   "source": [
    "len(all_es)"
   ]
  },
  {
   "cell_type": "code",
   "execution_count": null,
   "id": "de1a945d-42de-4909-8274-4704623c5085",
   "metadata": {},
   "outputs": [],
   "source": []
  },
  {
   "cell_type": "code",
   "execution_count": null,
   "id": "c45ca58a-3105-41e2-8189-4ceac8ffaa2b",
   "metadata": {},
   "outputs": [],
   "source": []
  },
  {
   "cell_type": "code",
   "execution_count": 963,
   "id": "a9f48597-7a53-4769-bcd2-1cfa91b17d0f",
   "metadata": {},
   "outputs": [
    {
     "name": "stdout",
     "output_type": "stream",
     "text": [
      "DNA 25615\n",
      "RNA 0\n",
      "Carbohydrate 7886\n",
      "Lipid 7250\n",
      "Peptide 1558\n",
      "Pharmaceutical_Preparations 147\n",
      "Protein 709\n",
      "Toxin 270\n",
      "Mutation 2005\n",
      "Disease 156964\n"
     ]
    }
   ],
   "source": [
    "for i in entity_pairs:\n",
    "    print(i+' '+str(len(list(names[i+'_literature']))))"
   ]
  },
  {
   "cell_type": "code",
   "execution_count": 960,
   "id": "f54c59ae-470d-474f-b41d-8e43f2d2c56c",
   "metadata": {},
   "outputs": [
    {
     "data": {
      "text/plain": [
       "25615"
      ]
     },
     "execution_count": 960,
     "metadata": {},
     "output_type": "execute_result"
    }
   ],
   "source": [
    "len(list(Gene_literature))"
   ]
  },
  {
   "cell_type": "code",
   "execution_count": 961,
   "id": "6671fe4f-4424-4286-a21a-bd4c5637f07b",
   "metadata": {},
   "outputs": [
    {
     "data": {
      "text/plain": [
       "77013"
      ]
     },
     "execution_count": 961,
     "metadata": {},
     "output_type": "execute_result"
    }
   ],
   "source": [
    "len(list(Gene_sentence))"
   ]
  },
  {
   "cell_type": "code",
   "execution_count": 644,
   "id": "41f7ca0b-0ad2-43bd-9acc-9fb99c21b142",
   "metadata": {},
   "outputs": [
    {
     "data": {
      "text/plain": [
       "'/root/hald_autoupdate/2022_12_09'"
      ]
     },
     "execution_count": 644,
     "metadata": {},
     "output_type": "execute_result"
    }
   ],
   "source": [
    "pwd"
   ]
  },
  {
   "cell_type": "code",
   "execution_count": null,
   "id": "43c0afd9-b4be-4e99-b669-12cf10bcd7f8",
   "metadata": {},
   "outputs": [],
   "source": []
  }
 ],
 "metadata": {
  "kernelspec": {
   "display_name": "hald",
   "language": "python",
   "name": "hald"
  },
  "language_info": {
   "codemirror_mode": {
    "name": "ipython",
    "version": 3
   },
   "file_extension": ".py",
   "mimetype": "text/x-python",
   "name": "python",
   "nbconvert_exporter": "python",
   "pygments_lexer": "ipython3",
   "version": "3.8.15"
  }
 },
 "nbformat": 4,
 "nbformat_minor": 5
}
