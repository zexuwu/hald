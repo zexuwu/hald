{
 "cells": [
  {
   "cell_type": "code",
   "execution_count": 1,
   "id": "8c2aee83-020a-4d96-917f-2ec2215c538c",
   "metadata": {},
   "outputs": [
    {
     "data": {
      "text/plain": [
       "'/root/hald_autoupdate/2022_12_09'"
      ]
     },
     "execution_count": 1,
     "metadata": {},
     "output_type": "execute_result"
    }
   ],
   "source": [
    "pwd"
   ]
  },
  {
   "cell_type": "code",
   "execution_count": 2,
   "id": "257527a4-b258-442a-a1f8-1da6ecef2833",
   "metadata": {},
   "outputs": [],
   "source": [
    "import os\n",
    "import pandas as pd\n",
    "\n",
    "import csv\n",
    "import pickle\n",
    "import json\n"
   ]
  },
  {
   "cell_type": "code",
   "execution_count": 3,
   "id": "f384408f-5721-4c45-9996-8675c4e237f7",
   "metadata": {},
   "outputs": [],
   "source": [
    "pd.set_option('display.max_columns', 50)"
   ]
  },
  {
   "cell_type": "code",
   "execution_count": 4,
   "id": "3e8f82a3-2bc6-409f-a793-3e8dc5039bf0",
   "metadata": {},
   "outputs": [],
   "source": [
    "jcr=pd.read_csv(\"../JCR/jcr2022.tsv\",sep=\"\\t\")"
   ]
  },
  {
   "cell_type": "code",
   "execution_count": 5,
   "id": "2abdbb65-ba26-4947-b585-5333e8e639a0",
   "metadata": {},
   "outputs": [
    {
     "data": {
      "text/plain": [
       "21430"
      ]
     },
     "execution_count": 5,
     "metadata": {},
     "output_type": "execute_result"
    }
   ],
   "source": [
    "len(jcr)"
   ]
  },
  {
   "cell_type": "code",
   "execution_count": 6,
   "id": "db326362-ce39-4510-8e80-7c68261fa323",
   "metadata": {},
   "outputs": [
    {
     "data": {
      "text/html": [
       "<div>\n",
       "<style scoped>\n",
       "    .dataframe tbody tr th:only-of-type {\n",
       "        vertical-align: middle;\n",
       "    }\n",
       "\n",
       "    .dataframe tbody tr th {\n",
       "        vertical-align: top;\n",
       "    }\n",
       "\n",
       "    .dataframe thead th {\n",
       "        text-align: right;\n",
       "    }\n",
       "</style>\n",
       "<table border=\"1\" class=\"dataframe\">\n",
       "  <thead>\n",
       "    <tr style=\"text-align: right;\">\n",
       "      <th></th>\n",
       "      <th>rank</th>\n",
       "      <th>journalTitle</th>\n",
       "      <th>abbrJournal</th>\n",
       "      <th>year</th>\n",
       "      <th>edition</th>\n",
       "      <th>issn</th>\n",
       "      <th>totalCites</th>\n",
       "      <th>journalImpactFactor</th>\n",
       "      <th>impactFactorWithoutJournalSelfCites</th>\n",
       "      <th>fiveYearImpactFactor</th>\n",
       "      <th>immediacyIndex</th>\n",
       "      <th>citableItems</th>\n",
       "      <th>citedHalfLife</th>\n",
       "      <th>citingHalfLife</th>\n",
       "      <th>eigenFactorScore</th>\n",
       "      <th>articleInfluenceScore</th>\n",
       "      <th>citesCurrent</th>\n",
       "      <th>articlesCurrent</th>\n",
       "      <th>selfCites</th>\n",
       "      <th>impactFactorSelfCites</th>\n",
       "      <th>originalResearch</th>\n",
       "      <th>jifPercentile</th>\n",
       "      <th>normEigenFactor</th>\n",
       "    </tr>\n",
       "  </thead>\n",
       "  <tbody>\n",
       "    <tr>\n",
       "      <th>21420</th>\n",
       "      <td>12425</td>\n",
       "      <td>AGENDA</td>\n",
       "      <td>AGENDA</td>\n",
       "      <td>2022</td>\n",
       "      <td>NaN</td>\n",
       "      <td>0002-0796</td>\n",
       "      <td>159</td>\n",
       "      <td>0.0</td>\n",
       "      <td>0.0</td>\n",
       "      <td>0.0</td>\n",
       "      <td>0.0</td>\n",
       "      <td>0</td>\n",
       "      <td>17.8</td>\n",
       "      <td>0.0</td>\n",
       "      <td>0.00005</td>\n",
       "      <td>0.114</td>\n",
       "      <td>NaN</td>\n",
       "      <td>NaN</td>\n",
       "      <td>NaN</td>\n",
       "      <td>NaN</td>\n",
       "      <td>NaN</td>\n",
       "      <td>0.0</td>\n",
       "      <td>0.01206</td>\n",
       "    </tr>\n",
       "    <tr>\n",
       "      <th>21421</th>\n",
       "      <td>12425</td>\n",
       "      <td>Abakos</td>\n",
       "      <td>ABAKOS</td>\n",
       "      <td>2022</td>\n",
       "      <td>NaN</td>\n",
       "      <td>2316-9451</td>\n",
       "      <td>7</td>\n",
       "      <td>0.0</td>\n",
       "      <td>0.0</td>\n",
       "      <td>0.0</td>\n",
       "      <td>0.0</td>\n",
       "      <td>18</td>\n",
       "      <td>0.0</td>\n",
       "      <td>10.7</td>\n",
       "      <td>0.00003</td>\n",
       "      <td>0.068</td>\n",
       "      <td>NaN</td>\n",
       "      <td>NaN</td>\n",
       "      <td>NaN</td>\n",
       "      <td>NaN</td>\n",
       "      <td>NaN</td>\n",
       "      <td>0.0</td>\n",
       "      <td>0.00733</td>\n",
       "    </tr>\n",
       "    <tr>\n",
       "      <th>21422</th>\n",
       "      <td>12425</td>\n",
       "      <td>Adalya</td>\n",
       "      <td>ADALYA</td>\n",
       "      <td>2022</td>\n",
       "      <td>NaN</td>\n",
       "      <td>1301-2746</td>\n",
       "      <td>75</td>\n",
       "      <td>0.0</td>\n",
       "      <td>0.0</td>\n",
       "      <td>0.0</td>\n",
       "      <td>0.0</td>\n",
       "      <td>19</td>\n",
       "      <td>0.0</td>\n",
       "      <td>16.2</td>\n",
       "      <td>0.00027</td>\n",
       "      <td>0.306</td>\n",
       "      <td>NaN</td>\n",
       "      <td>NaN</td>\n",
       "      <td>NaN</td>\n",
       "      <td>NaN</td>\n",
       "      <td>NaN</td>\n",
       "      <td>0.0</td>\n",
       "      <td>0.05846</td>\n",
       "    </tr>\n",
       "    <tr>\n",
       "      <th>21423</th>\n",
       "      <td>12425</td>\n",
       "      <td>Anduli</td>\n",
       "      <td>ANDULI</td>\n",
       "      <td>2022</td>\n",
       "      <td>NaN</td>\n",
       "      <td>1696-0270</td>\n",
       "      <td>35</td>\n",
       "      <td>0.0</td>\n",
       "      <td>0.0</td>\n",
       "      <td>0.0</td>\n",
       "      <td>0.0</td>\n",
       "      <td>15</td>\n",
       "      <td>0.0</td>\n",
       "      <td>14.6</td>\n",
       "      <td>0.00007</td>\n",
       "      <td>0.150</td>\n",
       "      <td>NaN</td>\n",
       "      <td>NaN</td>\n",
       "      <td>NaN</td>\n",
       "      <td>NaN</td>\n",
       "      <td>NaN</td>\n",
       "      <td>0.0</td>\n",
       "      <td>0.01555</td>\n",
       "    </tr>\n",
       "    <tr>\n",
       "      <th>21424</th>\n",
       "      <td>12425</td>\n",
       "      <td>Anemia</td>\n",
       "      <td>ANEMIA</td>\n",
       "      <td>2022</td>\n",
       "      <td>NaN</td>\n",
       "      <td>2090-1267</td>\n",
       "      <td>502</td>\n",
       "      <td>0.0</td>\n",
       "      <td>0.0</td>\n",
       "      <td>0.0</td>\n",
       "      <td>0.0</td>\n",
       "      <td>14</td>\n",
       "      <td>7.3</td>\n",
       "      <td>7.7</td>\n",
       "      <td>0.00030</td>\n",
       "      <td>0.550</td>\n",
       "      <td>NaN</td>\n",
       "      <td>NaN</td>\n",
       "      <td>NaN</td>\n",
       "      <td>NaN</td>\n",
       "      <td>NaN</td>\n",
       "      <td>0.0</td>\n",
       "      <td>0.06589</td>\n",
       "    </tr>\n",
       "    <tr>\n",
       "      <th>21425</th>\n",
       "      <td>12425</td>\n",
       "      <td>Appeal</td>\n",
       "      <td>APPEAL</td>\n",
       "      <td>2022</td>\n",
       "      <td>NaN</td>\n",
       "      <td>1205-612X</td>\n",
       "      <td>56</td>\n",
       "      <td>0.0</td>\n",
       "      <td>0.0</td>\n",
       "      <td>0.0</td>\n",
       "      <td>0.0</td>\n",
       "      <td>6</td>\n",
       "      <td>0.0</td>\n",
       "      <td>4.8</td>\n",
       "      <td>0.00019</td>\n",
       "      <td>0.550</td>\n",
       "      <td>NaN</td>\n",
       "      <td>NaN</td>\n",
       "      <td>NaN</td>\n",
       "      <td>NaN</td>\n",
       "      <td>NaN</td>\n",
       "      <td>0.0</td>\n",
       "      <td>0.04134</td>\n",
       "    </tr>\n",
       "    <tr>\n",
       "      <th>21426</th>\n",
       "      <td>12425</td>\n",
       "      <td>Atenas</td>\n",
       "      <td>ATENAS</td>\n",
       "      <td>2022</td>\n",
       "      <td>NaN</td>\n",
       "      <td>1682-2749</td>\n",
       "      <td>60</td>\n",
       "      <td>0.0</td>\n",
       "      <td>0.0</td>\n",
       "      <td>0.0</td>\n",
       "      <td>0.0</td>\n",
       "      <td>0</td>\n",
       "      <td>0.0</td>\n",
       "      <td>0.0</td>\n",
       "      <td>0.00007</td>\n",
       "      <td>0.034</td>\n",
       "      <td>NaN</td>\n",
       "      <td>NaN</td>\n",
       "      <td>NaN</td>\n",
       "      <td>NaN</td>\n",
       "      <td>NaN</td>\n",
       "      <td>0.0</td>\n",
       "      <td>0.01561</td>\n",
       "    </tr>\n",
       "    <tr>\n",
       "      <th>21427</th>\n",
       "      <td>12425</td>\n",
       "      <td>Atenea</td>\n",
       "      <td>ATENEA-CONCEPC</td>\n",
       "      <td>2022</td>\n",
       "      <td>NaN</td>\n",
       "      <td>0718-0462</td>\n",
       "      <td>105</td>\n",
       "      <td>0.0</td>\n",
       "      <td>0.0</td>\n",
       "      <td>0.0</td>\n",
       "      <td>0.0</td>\n",
       "      <td>35</td>\n",
       "      <td>8.8</td>\n",
       "      <td>15.8</td>\n",
       "      <td>0.00034</td>\n",
       "      <td>0.281</td>\n",
       "      <td>NaN</td>\n",
       "      <td>NaN</td>\n",
       "      <td>NaN</td>\n",
       "      <td>NaN</td>\n",
       "      <td>NaN</td>\n",
       "      <td>0.0</td>\n",
       "      <td>0.07463</td>\n",
       "    </tr>\n",
       "    <tr>\n",
       "      <th>21428</th>\n",
       "      <td>12425</td>\n",
       "      <td>AusArt</td>\n",
       "      <td>AUSART</td>\n",
       "      <td>2022</td>\n",
       "      <td>NaN</td>\n",
       "      <td>2340-9134</td>\n",
       "      <td>13</td>\n",
       "      <td>0.0</td>\n",
       "      <td>0.0</td>\n",
       "      <td>0.0</td>\n",
       "      <td>0.0</td>\n",
       "      <td>32</td>\n",
       "      <td>0.0</td>\n",
       "      <td>11.8</td>\n",
       "      <td>0.00002</td>\n",
       "      <td>0.017</td>\n",
       "      <td>NaN</td>\n",
       "      <td>NaN</td>\n",
       "      <td>NaN</td>\n",
       "      <td>NaN</td>\n",
       "      <td>NaN</td>\n",
       "      <td>0.0</td>\n",
       "      <td>0.00594</td>\n",
       "    </tr>\n",
       "  </tbody>\n",
       "</table>\n",
       "</div>"
      ],
      "text/plain": [
       "        rank journalTitle     abbrJournal  year  edition       issn  \\\n",
       "21420  12425       AGENDA          AGENDA  2022      NaN  0002-0796   \n",
       "21421  12425       Abakos          ABAKOS  2022      NaN  2316-9451   \n",
       "21422  12425       Adalya          ADALYA  2022      NaN  1301-2746   \n",
       "21423  12425       Anduli          ANDULI  2022      NaN  1696-0270   \n",
       "21424  12425       Anemia          ANEMIA  2022      NaN  2090-1267   \n",
       "21425  12425       Appeal          APPEAL  2022      NaN  1205-612X   \n",
       "21426  12425       Atenas          ATENAS  2022      NaN  1682-2749   \n",
       "21427  12425       Atenea  ATENEA-CONCEPC  2022      NaN  0718-0462   \n",
       "21428  12425       AusArt          AUSART  2022      NaN  2340-9134   \n",
       "\n",
       "       totalCites  journalImpactFactor  impactFactorWithoutJournalSelfCites  \\\n",
       "21420         159                  0.0                                  0.0   \n",
       "21421           7                  0.0                                  0.0   \n",
       "21422          75                  0.0                                  0.0   \n",
       "21423          35                  0.0                                  0.0   \n",
       "21424         502                  0.0                                  0.0   \n",
       "21425          56                  0.0                                  0.0   \n",
       "21426          60                  0.0                                  0.0   \n",
       "21427         105                  0.0                                  0.0   \n",
       "21428          13                  0.0                                  0.0   \n",
       "\n",
       "       fiveYearImpactFactor  immediacyIndex  citableItems  citedHalfLife  \\\n",
       "21420                   0.0             0.0             0           17.8   \n",
       "21421                   0.0             0.0            18            0.0   \n",
       "21422                   0.0             0.0            19            0.0   \n",
       "21423                   0.0             0.0            15            0.0   \n",
       "21424                   0.0             0.0            14            7.3   \n",
       "21425                   0.0             0.0             6            0.0   \n",
       "21426                   0.0             0.0             0            0.0   \n",
       "21427                   0.0             0.0            35            8.8   \n",
       "21428                   0.0             0.0            32            0.0   \n",
       "\n",
       "       citingHalfLife  eigenFactorScore  articleInfluenceScore  citesCurrent  \\\n",
       "21420             0.0           0.00005                  0.114           NaN   \n",
       "21421            10.7           0.00003                  0.068           NaN   \n",
       "21422            16.2           0.00027                  0.306           NaN   \n",
       "21423            14.6           0.00007                  0.150           NaN   \n",
       "21424             7.7           0.00030                  0.550           NaN   \n",
       "21425             4.8           0.00019                  0.550           NaN   \n",
       "21426             0.0           0.00007                  0.034           NaN   \n",
       "21427            15.8           0.00034                  0.281           NaN   \n",
       "21428            11.8           0.00002                  0.017           NaN   \n",
       "\n",
       "       articlesCurrent  selfCites  impactFactorSelfCites  originalResearch  \\\n",
       "21420              NaN        NaN                    NaN               NaN   \n",
       "21421              NaN        NaN                    NaN               NaN   \n",
       "21422              NaN        NaN                    NaN               NaN   \n",
       "21423              NaN        NaN                    NaN               NaN   \n",
       "21424              NaN        NaN                    NaN               NaN   \n",
       "21425              NaN        NaN                    NaN               NaN   \n",
       "21426              NaN        NaN                    NaN               NaN   \n",
       "21427              NaN        NaN                    NaN               NaN   \n",
       "21428              NaN        NaN                    NaN               NaN   \n",
       "\n",
       "       jifPercentile  normEigenFactor  \n",
       "21420            0.0          0.01206  \n",
       "21421            0.0          0.00733  \n",
       "21422            0.0          0.05846  \n",
       "21423            0.0          0.01555  \n",
       "21424            0.0          0.06589  \n",
       "21425            0.0          0.04134  \n",
       "21426            0.0          0.01561  \n",
       "21427            0.0          0.07463  \n",
       "21428            0.0          0.00594  "
      ]
     },
     "execution_count": 6,
     "metadata": {},
     "output_type": "execute_result"
    }
   ],
   "source": [
    "jcr[-10:-1]"
   ]
  },
  {
   "cell_type": "code",
   "execution_count": 7,
   "id": "df9e020e-4177-4b93-bccb-a23922bfa56a",
   "metadata": {},
   "outputs": [],
   "source": [
    "jt2if_all={}\n",
    "for i in range(len(jcr)):\n",
    "    if jt2if_all.get(jcr.iloc[i,1].lower()):\n",
    "        if jt2if_all.get(jcr.iloc[i,1].lower())==0.0:\n",
    "            jt2if_all[jcr.iloc[i,1].lower()]=jcr.iloc[i,7]\n",
    "    else:\n",
    "        jt2if_all[jcr.iloc[i,1].lower()]=jcr.iloc[i,7]\n",
    "jt2if_all['aging']=jt2if_all.get('aging-us')"
   ]
  },
  {
   "cell_type": "code",
   "execution_count": 8,
   "id": "cb798f4a-acb4-4484-8076-40c17cb691e4",
   "metadata": {},
   "outputs": [],
   "source": [
    "jt2if_brief={}\n",
    "for i in range(len(jcr)):\n",
    "    if jt2if_brief.get(jcr.iloc[i,2].lower()):\n",
    "        if jt2if_brief.get(jcr.iloc[i,2].lower())==0.0:\n",
    "            jt2if_brief[jcr.iloc[i,2].lower()]=jcr.iloc[i,7]\n",
    "    else:\n",
    "        jt2if_brief[jcr.iloc[i,2].lower()]=jcr.iloc[i,7]\n",
    "jt2if_brief['aging']=jt2if_brief.get('aging-us')"
   ]
  },
  {
   "cell_type": "code",
   "execution_count": 9,
   "id": "521ea96e-5f92-423b-b508-fb00115972e2",
   "metadata": {},
   "outputs": [
    {
     "data": {
      "text/plain": [
       "[('ca-cancer j clin', 286.13), ('lancet', 202.731)]"
      ]
     },
     "execution_count": 9,
     "metadata": {},
     "output_type": "execute_result"
    }
   ],
   "source": [
    "list(jt2if_brief.items())[:2]"
   ]
  },
  {
   "cell_type": "code",
   "execution_count": 10,
   "id": "9df7e3d9-bcaa-4c59-b84b-7b678b348fe8",
   "metadata": {},
   "outputs": [
    {
     "data": {
      "text/plain": [
       "21429"
      ]
     },
     "execution_count": 10,
     "metadata": {},
     "output_type": "execute_result"
    }
   ],
   "source": [
    "len(jt2if_brief)"
   ]
  },
  {
   "cell_type": "code",
   "execution_count": null,
   "id": "7a6eb80e-760f-471d-9ac8-e290959b56b1",
   "metadata": {},
   "outputs": [],
   "source": []
  },
  {
   "cell_type": "code",
   "execution_count": 11,
   "id": "397429a2-d5e3-49fd-a9d9-d2f0879327ed",
   "metadata": {},
   "outputs": [],
   "source": [
    "jt2if5_all={}\n",
    "for i in range(len(jcr)):\n",
    "    if jt2if5_all.get(jcr.iloc[i,1].lower()):\n",
    "        if jt2if5_all.get(jcr.iloc[i,1].lower())==0.0:\n",
    "            jt2if5_all[jcr.iloc[i,1].lower()]=jcr.iloc[i,7]\n",
    "    else:\n",
    "        jt2if5_all[jcr.iloc[i,1].lower()]=jcr.iloc[i,9]\n",
    "jt2if5_all['aging']=jt2if5_all.get('aging-us')"
   ]
  },
  {
   "cell_type": "code",
   "execution_count": 12,
   "id": "b48c477f-f879-4470-a638-1f94924f7f2e",
   "metadata": {},
   "outputs": [],
   "source": [
    "jt2if5_brief={}\n",
    "for i in range(len(jcr)):\n",
    "    \n",
    "    if jt2if5_brief.get(jcr.iloc[i,2].lower()):\n",
    "        if jt2if5_brief.get(jcr.iloc[i,2].lower())==0.0:\n",
    "            jt2if5_brief[jcr.iloc[i,2].lower()]=jcr.iloc[i,7]\n",
    "    else:\n",
    "        jt2if5_brief[jcr.iloc[i,2].lower()]=jcr.iloc[i,9]\n",
    "jt2if5_brief['aging']=jt2if5_brief.get('aging-us')"
   ]
  },
  {
   "cell_type": "code",
   "execution_count": 13,
   "id": "6bf9caa9-6918-4acf-9c59-c02d519bf8c5",
   "metadata": {},
   "outputs": [
    {
     "data": {
      "text/plain": [
       "[('ca-cancer j clin', 334.259), ('lancet', 130.838)]"
      ]
     },
     "execution_count": 13,
     "metadata": {},
     "output_type": "execute_result"
    }
   ],
   "source": [
    "list(jt2if5_brief.items())[:2]"
   ]
  },
  {
   "cell_type": "code",
   "execution_count": 14,
   "id": "f2a81d86-6077-4668-b51a-48a67bc5bb12",
   "metadata": {},
   "outputs": [],
   "source": [
    "import pymongo "
   ]
  },
  {
   "cell_type": "code",
   "execution_count": 15,
   "id": "3f75606d-c321-46b3-8284-a29cfb2dcf63",
   "metadata": {},
   "outputs": [],
   "source": [
    "from pymongo import MongoClient"
   ]
  },
  {
   "cell_type": "code",
   "execution_count": 16,
   "id": "07047826-1f1c-4c7b-b9e2-0d1f6aa9a72d",
   "metadata": {},
   "outputs": [],
   "source": [
    "client = MongoClient(username=\"hald\",password=\"ddd\")"
   ]
  },
  {
   "cell_type": "code",
   "execution_count": 17,
   "id": "48e349dd-fc13-43fa-bb87-77e437e8df7e",
   "metadata": {},
   "outputs": [],
   "source": [
    "db = client.hald"
   ]
  },
  {
   "cell_type": "code",
   "execution_count": 18,
   "id": "f262b9c5-a35e-42f7-bdae-8438c8d5a482",
   "metadata": {},
   "outputs": [],
   "source": [
    "collections_pubtator_info = db.pubtator_info"
   ]
  },
  {
   "cell_type": "code",
   "execution_count": 19,
   "id": "d189a7bb-e8fa-4c3b-ba95-f38c25e8ac5e",
   "metadata": {},
   "outputs": [],
   "source": [
    "pubtator_info=list(collections_pubtator_info.find())"
   ]
  },
  {
   "cell_type": "code",
   "execution_count": 20,
   "id": "e7ee9191-8d91-4e82-8700-d36398ad4e42",
   "metadata": {},
   "outputs": [
    {
     "data": {
      "text/plain": [
       "170387"
      ]
     },
     "execution_count": 20,
     "metadata": {},
     "output_type": "execute_result"
    }
   ],
   "source": [
    "len(pubtator_info)"
   ]
  },
  {
   "cell_type": "code",
   "execution_count": 21,
   "id": "1d3b6831-dbb4-415f-9437-335613c7570b",
   "metadata": {},
   "outputs": [
    {
     "data": {
      "text/plain": [
       "{'_id': ObjectId('6393478a5303aaecac2745e7'),\n",
       " 'PMID': '35794516',\n",
       " 'OWN': 'NLM',\n",
       " 'STAT': 'MEDLINE',\n",
       " 'DCOM': '20220708',\n",
       " 'LR': '20220708',\n",
       " 'IS': '1471-227X (Electronic) 1471-227X (Linking)',\n",
       " 'VI': '22',\n",
       " 'IP': '1',\n",
       " 'DP': '2022 Jul 6',\n",
       " 'TI': 'Long-term prognosis and clinical course of choking-induced cardiac arrest in patients without the return of spontaneous circulation at hospital arrival: a population-based community study from the Shizuoka Kokuho Database.',\n",
       " 'PG': '120',\n",
       " 'LID': '10.1186/s12873-022-00676-8 [doi]',\n",
       " 'AB': 'BACKGROUND: The risk of choking increases with aging, and the number of cases of choking-induced cardiac arrest is increasing. However, few studies have examined the prognosis of choking-induced cardiac arrest. The aim of this study was to reveal the rates of survival and dependence on devices in the long term after choking-induced cardiac arrest. METHODS: We analyzed data from the Shizuoka Kokuho Database, which consists of claims data of approximately 2.2 million people, from April 2012 to September 2018. We selected patients with choking-induced cardiac arrest who received cardiopulmonary resuscitation in the hospital. Patients were excluded if they were less than 20 years old, had an upper airway tumor, received ventilation assistance, or received enteral nutrition in the month prior to cardiac arrest. The primary outcome was death, and the secondary outcomes were the rates of survival at 3-months and independence on devices. Descriptive statistics are presented and compared among age groups (20-64 years, 65-74 years, 75-84 years, 85 years and older), and survival time analysis (Kaplan-Meier method) was performed. RESULTS: In total, 268 patients were analyzed, including 26 patients in the 20-64 age group, 33 patients in the 65-74 age group, 70 patients in the 75-84 age group, and 139 patients in the >=85 age group. The overall 3-month survival rate was 5.6% (15/268). The 3-month survival rates were 3.8% (1/26) in the 20-64 age group, 15.2% (5/33) in the 65-74 age group, 8.6% (6/70) in the 75-84 age group, and 2.2% (3/139) in the >=85 age group. The overall 12-month survival rate was 2.6% (7/268). Of the 7 patients who survived for 12 months, 3 received ventilation management and 5 received tube or intravenous feedings at 3 months. These survivors were still receiving ventilation assistance and tube feedings in the hospital and had not been discharged at 12 months. CONCLUSIONS: The prognosis of choking-induced cardiac arrest was extremely poor when patients were not resuscitated before hospital arrival. Those who survived were mostly dependent on assistive devices. Additionally, none of the survivors dependent on assistive devices had discontinued the use of the devices at the long-term follow-up.',\n",
       " 'CI': ['(c) 2022. The Author(s).'],\n",
       " 'FAU': ['Miyoshi, Takahiro',\n",
       "  'Endo, Hideki',\n",
       "  'Yamamoto, Hiroyuki',\n",
       "  'Shimada, Koki',\n",
       "  'Kumamaru, Hiraku',\n",
       "  'Ichihara, Nao',\n",
       "  'Miyachi, Yoshiki',\n",
       "  'Miyata, Hiroaki'],\n",
       " 'AU': ['Miyoshi T',\n",
       "  'Endo H',\n",
       "  'Yamamoto H',\n",
       "  'Shimada K',\n",
       "  'Kumamaru H',\n",
       "  'Ichihara N',\n",
       "  'Miyachi Y',\n",
       "  'Miyata H'],\n",
       " 'AD': ['Shizuoka Graduate University of Public Health, 4-27-2 Kita Ando Aoi-ku, Shizuoka City, 420-0881, Japan.',\n",
       "  'Department of Health Policy and Management, School of Medicine, Keio University, Tokyo, Japan.',\n",
       "  'Department of Health Policy and Management, School of Medicine, Keio University, Tokyo, Japan.',\n",
       "  'Shizuoka Graduate University of Public Health, 4-27-2 Kita Ando Aoi-ku, Shizuoka City, 420-0881, Japan. yama-h@umin.ac.jp.',\n",
       "  'Department of Health Policy and Management, School of Medicine, Keio University, Tokyo, Japan. yama-h@umin.ac.jp.',\n",
       "  'Department of Health Policy and Management, School of Medicine, Keio University, Tokyo, Japan.',\n",
       "  'Shizuoka Graduate University of Public Health, 4-27-2 Kita Ando Aoi-ku, Shizuoka City, 420-0881, Japan.',\n",
       "  'Department of Healthcare Quality Assessment, The University of Tokyo Graduate School of Medicine, Tokyo, Japan.',\n",
       "  'Shizuoka Graduate University of Public Health, 4-27-2 Kita Ando Aoi-ku, Shizuoka City, 420-0881, Japan.',\n",
       "  'Department of Healthcare Quality Assessment, The University of Tokyo Graduate School of Medicine, Tokyo, Japan.',\n",
       "  'Shizuoka Graduate University of Public Health, 4-27-2 Kita Ando Aoi-ku, Shizuoka City, 420-0881, Japan.',\n",
       "  'Shizuoka Graduate University of Public Health, 4-27-2 Kita Ando Aoi-ku, Shizuoka City, 420-0881, Japan.',\n",
       "  'Department of Health Policy and Management, School of Medicine, Keio University, Tokyo, Japan.',\n",
       "  'Department of Healthcare Quality Assessment, The University of Tokyo Graduate School of Medicine, Tokyo, Japan.'],\n",
       " 'LA': ['eng'],\n",
       " 'PT': ['Journal Article'],\n",
       " 'DEP': '20220706',\n",
       " 'PL': 'England',\n",
       " 'TA': 'BMC Emerg Med',\n",
       " 'JT': 'BMC emergency medicine',\n",
       " 'JID': '100968543',\n",
       " 'SB': 'IM',\n",
       " 'MH': ['Adult',\n",
       "  '*Airway Obstruction/epidemiology/etiology',\n",
       "  'Heart Arrest, Induced',\n",
       "  'Hospitals',\n",
       "  'Humans',\n",
       "  'Middle Aged',\n",
       "  'Prognosis',\n",
       "  '*Return of Spontaneous Circulation',\n",
       "  'Young Adult'],\n",
       " 'OTO': ['NOTNLM'],\n",
       " 'OT': ['Cardiac arrest',\n",
       "  'Choking',\n",
       "  'Clinical course',\n",
       "  'Long-term prognosis',\n",
       "  'Resuscitation'],\n",
       " 'EDAT': '2022/07/07 06:00',\n",
       " 'MHDA': '2022/07/09 06:00',\n",
       " 'CRDT': ['2022/07/06 23:41'],\n",
       " 'PHST': ['2022/02/28 00:00 [received]',\n",
       "  '2022/06/16 00:00 [accepted]',\n",
       "  '2022/07/06 23:41 [entrez]',\n",
       "  '2022/07/07 06:00 [pubmed]',\n",
       "  '2022/07/09 06:00 [medline]'],\n",
       " 'AID': ['10.1186/s12873-022-00676-8 [doi]',\n",
       "  '10.1186/s12873-022-00676-8 [pii]'],\n",
       " 'PST': 'epublish',\n",
       " 'SO': 'BMC Emerg Med. 2022 Jul 6;22(1):120. doi: 10.1186/s12873-022-00676-8.',\n",
       " 'addtime': '20220724'}"
      ]
     },
     "execution_count": 21,
     "metadata": {},
     "output_type": "execute_result"
    }
   ],
   "source": [
    "pubtator_info[10]"
   ]
  },
  {
   "cell_type": "code",
   "execution_count": 22,
   "id": "593a74a6-7273-4f6d-9981-c51aeb3aec95",
   "metadata": {},
   "outputs": [],
   "source": [
    "pubtator_info_dict={}\n",
    "for i in pubtator_info:\n",
    "    pubtator_info_dict[i.get('PMID')]=i"
   ]
  },
  {
   "cell_type": "code",
   "execution_count": 23,
   "id": "f1b6819e-ec48-40a5-817b-959f0484447b",
   "metadata": {},
   "outputs": [],
   "source": [
    "triplelist=[]"
   ]
  },
  {
   "cell_type": "code",
   "execution_count": 24,
   "id": "158d091d-4e04-479d-839c-09b1f07c8df2",
   "metadata": {},
   "outputs": [],
   "source": [
    "triplelist=json.load(open('triplelist.json'))"
   ]
  },
  {
   "cell_type": "code",
   "execution_count": 25,
   "id": "f8c3e2b4-9e3a-4fa6-b0c2-2bc7294c875a",
   "metadata": {},
   "outputs": [],
   "source": [
    "for i in triplelist:\n",
    "    if i.get('target1_type')=='DNA':\n",
    "        i['target1_type']='Gene'\n",
    "    if i.get('target2_type')=='DNA':\n",
    "        i['target2_type']='Gene'"
   ]
  },
  {
   "cell_type": "code",
   "execution_count": 26,
   "id": "16334f71-5147-498b-aac1-ef4c4666780f",
   "metadata": {},
   "outputs": [
    {
     "data": {
      "text/plain": [
       "{'PMID': '35926182',\n",
       " 'entity1': 'SF3B1',\n",
       " 'entity2': 'EIF2AK1',\n",
       " 'sentence': 'Here, using single-cell technologies and functional validation studies of primary SF3B1-mutant MDS-RS samples, we show that SF3B1 mutations lead to the activation of the EIF2AK1 pathway in response to heme deficiency and that targeting this pathway rescues aberrant erythroid differentiation and enables the red blood cell maturation of MDS-RS erythroblasts.',\n",
       " 'AB': 'SF3B1 mutations, which occur in 20% of patients with myelodysplastic syndromes (MDS), are the hallmarks of a specific MDS subtype, MDS with ringed sideroblasts (MDS-RS), which is characterized by the accumulation of erythroid precursors in the bone marrow and primarily affects the elderly population. Here, using single-cell technologies and functional validation studies of primary SF3B1-mutant MDS-RS samples, we show that SF3B1 mutations lead to the activation of the EIF2AK1 pathway in response to heme deficiency and that targeting this pathway rescues aberrant erythroid differentiation and enables the red blood cell maturation of MDS-RS erythroblasts. These data support the development of EIF2AK1 inhibitors to overcome transfusion dependency in patients with SF3B1-mutant MDS-RS with impaired red blood cell production.',\n",
       " 'target1': 'SF3B1',\n",
       " 'target1_type': 'Gene',\n",
       " 'target2': 'EIF2AK1',\n",
       " 'target2_type': 'Gene',\n",
       " 'networkx': ['SF3B1', 'lead', 'EIF2AK1'],\n",
       " 'openie_final': [],\n",
       " 'allennlp_final': [],\n",
       " 'bidirection': False,\n",
       " 'addtime': '2022_12_09'}"
      ]
     },
     "execution_count": 26,
     "metadata": {},
     "output_type": "execute_result"
    }
   ],
   "source": [
    "triplelist[0]"
   ]
  },
  {
   "cell_type": "code",
   "execution_count": 27,
   "id": "c45711d7-0cb1-47af-80d4-55fd702c44c1",
   "metadata": {},
   "outputs": [
    {
     "data": {
      "text/plain": [
       "122534"
      ]
     },
     "execution_count": 27,
     "metadata": {},
     "output_type": "execute_result"
    }
   ],
   "source": [
    "# 122534\n",
    "len(triplelist)"
   ]
  },
  {
   "cell_type": "code",
   "execution_count": 28,
   "id": "0055a81c-8863-468c-9809-01519047805f",
   "metadata": {},
   "outputs": [
    {
     "data": {
      "text/plain": [
       "{'PMID': '35926182',\n",
       " 'entity1': 'SF3B1',\n",
       " 'entity2': 'EIF2AK1',\n",
       " 'sentence': 'Here, using single-cell technologies and functional validation studies of primary SF3B1-mutant MDS-RS samples, we show that SF3B1 mutations lead to the activation of the EIF2AK1 pathway in response to heme deficiency and that targeting this pathway rescues aberrant erythroid differentiation and enables the red blood cell maturation of MDS-RS erythroblasts.',\n",
       " 'AB': 'SF3B1 mutations, which occur in 20% of patients with myelodysplastic syndromes (MDS), are the hallmarks of a specific MDS subtype, MDS with ringed sideroblasts (MDS-RS), which is characterized by the accumulation of erythroid precursors in the bone marrow and primarily affects the elderly population. Here, using single-cell technologies and functional validation studies of primary SF3B1-mutant MDS-RS samples, we show that SF3B1 mutations lead to the activation of the EIF2AK1 pathway in response to heme deficiency and that targeting this pathway rescues aberrant erythroid differentiation and enables the red blood cell maturation of MDS-RS erythroblasts. These data support the development of EIF2AK1 inhibitors to overcome transfusion dependency in patients with SF3B1-mutant MDS-RS with impaired red blood cell production.',\n",
       " 'target1': 'SF3B1',\n",
       " 'target1_type': 'Gene',\n",
       " 'target2': 'EIF2AK1',\n",
       " 'target2_type': 'Gene',\n",
       " 'networkx': ['SF3B1', 'lead', 'EIF2AK1'],\n",
       " 'openie_final': [],\n",
       " 'allennlp_final': [],\n",
       " 'bidirection': False,\n",
       " 'addtime': '2022_12_09'}"
      ]
     },
     "execution_count": 28,
     "metadata": {},
     "output_type": "execute_result"
    }
   ],
   "source": [
    "triplelist[0]"
   ]
  },
  {
   "cell_type": "code",
   "execution_count": null,
   "id": "4a0aac82-a446-419a-8def-14b811c861fd",
   "metadata": {},
   "outputs": [],
   "source": []
  },
  {
   "cell_type": "code",
   "execution_count": null,
   "id": "765a694c-ad0a-452a-9d67-7d488a351bfb",
   "metadata": {},
   "outputs": [],
   "source": []
  },
  {
   "cell_type": "code",
   "execution_count": 29,
   "id": "f1f96ab7-9f8a-450e-a223-30435566131b",
   "metadata": {},
   "outputs": [],
   "source": [
    "be=['am','is','are','was','were','been','have been','has been']\n",
    "bedict={}\n",
    "for i in be:\n",
    "    bedict[i]='be'\n"
   ]
  },
  {
   "cell_type": "code",
   "execution_count": 30,
   "id": "bf1081ae-5f27-4159-941d-49a8c682a994",
   "metadata": {},
   "outputs": [
    {
     "data": {
      "text/plain": [
       "['investigated']"
      ]
     },
     "execution_count": 30,
     "metadata": {},
     "output_type": "execute_result"
    }
   ],
   "source": [
    "triplelist[10].get('networkx')[1].split(' ')"
   ]
  },
  {
   "cell_type": "code",
   "execution_count": 31,
   "id": "949081be-3095-4a28-91aa-31a4b23ce99b",
   "metadata": {},
   "outputs": [
    {
     "name": "stdout",
     "output_type": "stream",
     "text": [
      "{'PMID': '35955698', 'entity1': 'LRG1', 'entity2': 'LEP', 'sentence': 'In this study, we investigated the association of LRG1 with obesity markers, including leptin and other adipokines in adolescents (11-14 years; n = 425).', 'AB': 'Leucine-rich alpha-2 glycoprotein1 (LRG1) is a member of the leucine-rich repeat (LRR) family that is implicated in multiple diseases, including cancer, aging, and heart failure, as well as diabetes and obesity. LRG1 plays a key role in diet-induced hepatosteatosis and insulin resistance by mediating the crosstalk between adipocytes and hepatocytes. LRG1 also promotes hepatosteatosis by upregulating de novo lipogenesis in the liver and suppressing fatty acid beta-oxidation. In this study, we investigated the association of LRG1 with obesity markers, including leptin and other adipokines in adolescents (11-14 years; n = 425). BMI-for-age classification based on WHO growth charts was used to define obesity. Plasma LRG1 was measured by ELISA, while other markers were measured by multiplexing assay. Median (IQR) of LRG1 levels was higher in obese (30 (25, 38) microg/mL) and overweight (30 (24, 39) microg/mL) adolescents, compared to normal-weight participants (27 (22, 35) microg/mL). The highest tertile of LRG1 had an OR [95% CI] of 2.55 [1.44, 4.53] for obesity. LRG1 was positively correlated to plasma levels of high sensitivity c-reactive protein (HsCRP) (rho = 0.2), leptin (rho = 0.2), and chemerin (rho = 0.24) with p < 0.001. Additionally, it was positively associated with plasma level of IL6 (rho = 0.17) and IL10 (rho = 0.14) but not TNF-alpha. In conclusion, LRG1 levels are increased in obese adolescents and are associated with increased levels of adipogenic markers. These results suggest the usefulness of LRG1 as an early biomarker for obesity and its related pathologies in adolescents.', 'target1': 'LRG1', 'target1_type': 'Gene', 'target2': 'leptin', 'target2_type': 'Gene', 'allennlp': [['LRG1', 'investigated', 'leptin'], ['leptin', 'including', 'LRG1']], 'openie_final': [], 'allennlp_final': [['LRG1', 'investigate', 'leptin'], ['leptin', 'include', 'LRG1']], 'networkx': '', 'bidirection': False, 'addtime': '2022_12_09'}\n"
     ]
    }
   ],
   "source": [
    "for i in triplelist:\n",
    "    if i.get('allennlp_final') and len(i.get('allennlp_final'))>1:\n",
    "        print(i)\n",
    "        break"
   ]
  },
  {
   "cell_type": "code",
   "execution_count": 32,
   "id": "c96e6a74-e285-4abb-9835-6cf00d352530",
   "metadata": {},
   "outputs": [],
   "source": [
    "'''将entity_one_transformed和entity_two_transformed的列表外套脱掉，筛掉同篇文献同一个实体对，筛掉两个单词为同一实体'''\n",
    "import copy\n",
    "triplelist_takeoff=[]\n",
    "transformed_triples=set()\n",
    "box=[]\n",
    "box2=[]\n",
    "acount=0\n",
    "for i in triplelist:\n",
    "    maxlength=[]\n",
    "    allennlp_list=[]\n",
    "    if i.get('openie_final'):\n",
    "        maxlength=i.get('openie_final')[0]\n",
    "        for j in i.get('openie_final'):\n",
    "            if len(j[1])>len(maxlength[1]):\n",
    "                maxlength=j\n",
    "        mid_list=maxlength[1].split(' ')\n",
    "        for p,q in enumerate(mid_list):\n",
    "            if bedict.get(q):\n",
    "                mid_list[p]='be'\n",
    "        maxlength[1]=' '.join(mid_list)\n",
    "        for k in maxlength[1]:\n",
    "            if k in maxlength[0].split(' ') or k in maxlength[2].split(' '):\n",
    "                break\n",
    "        else:\n",
    "            mid=tuple([maxlength[0],maxlength[1],maxlength[2],i.get('PMID')])\n",
    "            if mid not in transformed_triples:\n",
    "                copydict={'triple':maxlength,'PMID':i.get('PMID'),'sentence':i.get('sentence'),\n",
    "                          'AB':i.get('AB'),'entity_one':i.get('target1'),'entity_one_type':i.get('target1_type'),\n",
    "                          'entity_two':i.get('target2'),'entity_two_type':i.get('target2_type'),\n",
    "                          'entity_one_transformed':i.get('entity1'),'entity_two_transformed':i.get('entity2'),\n",
    "                            'transformed_triple':mid}\n",
    "                triplelist_takeoff.append(copydict)\n",
    "                transformed_triples.add(mid)\n",
    "            if maxlength[1]=='associated' or maxlength[1]=='associate' :\n",
    "                mid=tuple([maxlength[2],maxlength[1],maxlength[0],i.get('PMID')])\n",
    "                if mid not in transformed_triples:\n",
    "                    copydict={'triple':maxlength,'PMID':i.get('PMID'),'sentence':i.get('sentence'),\n",
    "                              'AB':i.get('AB'),'entity_one':i.get('target2'),'entity_one_type':i.get('target2_type'),\n",
    "                              'entity_two':i.get('target1'),'entity_two_type':i.get('target1_type'),\n",
    "                              'entity_one_transformed':i.get('entity2'),'entity_two_transformed':i.get('entity1'),\n",
    "                                'transformed_triple':mid}\n",
    "                    triplelist_takeoff.append(copydict)\n",
    "                    transformed_triples.add(mid)\n",
    "        for j in i.get('openie_final'):\n",
    "            if j==maxlength:\n",
    "                continue\n",
    "            judge=True\n",
    "            for k in j[1].split(' '):\n",
    "                if k not in maxlength[1].split(' '):\n",
    "                    judge=False\n",
    "                    break\n",
    "            if not judge:\n",
    "                mid_list=j[1].split(' ')\n",
    "                for p,q in enumerate(mid_list):\n",
    "                    if bedict.get(q):\n",
    "                        mid_list[p]='be'\n",
    "                j[1]=' '.join(mid_list)\n",
    "                mid=tuple([j[0],j[1],j[2],i.get('PMID')])\n",
    "                for k in j[1]:\n",
    "                    if k in j[0].split(\" \") or k in j[1].split(\" \"):\n",
    "                        break\n",
    "                else:\n",
    "                    if mid not in transformed_triples:\n",
    "                        copydict={'triple':j,'PMID':i.get('PMID'),'sentence':i.get('sentence'),\n",
    "                                  'AB':i.get('AB'),'entity_one':i.get('target1'),'entity_one_type':i.get('target1_type'),\n",
    "                                  'entity_two':i.get('target2'),'entity_two_type':i.get('target2_type'),\n",
    "                                  'entity_one_transformed':i.get('entity1'),'entity_two_transformed':i.get('entity2'),\n",
    "                                    'transformed_triple':mid}\n",
    "                        triplelist_takeoff.append(copydict)\n",
    "                        transformed_triples.add(mid)\n",
    "                    if j[1]=='associated' or j[1]=='associate' :\n",
    "                        mid=tuple([j[2],j[1],j[0],i.get('PMID')])\n",
    "                        if mid not in transformed_triples:\n",
    "                            copydict={'triple':j,'PMID':i.get('PMID'),'sentence':i.get('sentence'),\n",
    "                                      'AB':i.get('AB'),'entity_one':i.get('target2'),'entity_one_type':i.get('target2_type'),\n",
    "                                      'entity_two':i.get('target1'),'entity_two_type':i.get('target1_type'),\n",
    "                                      'entity_one_transformed':i.get('entity2'),'entity_two_transformed':i.get('entity1'),\n",
    "                                        'transformed_triple':mid}\n",
    "                            triplelist_takeoff.append(copydict)\n",
    "                            transformed_triples.add(mid)\n",
    "    if i.get('allennlp_final'):\n",
    "        for j in i.get('allennlp_final'):\n",
    "            if len(maxlength)>0 and j[1] in maxlength[1].split(' '):\n",
    "                pass\n",
    "            else:\n",
    "                mid=tuple([j[0],j[1],j[2],i.get('PMID')])\n",
    "                if j[1] in j[0].split(' ') or j[1] in j[2].split(' '):\n",
    "                    continue\n",
    "                if mid not in transformed_triples:\n",
    "                    allennlp_list.append((j[0],j[2]))\n",
    "                    copydict={'triple':j,'PMID':i.get('PMID'),'sentence':i.get('sentence'),\n",
    "                              'AB':i.get('AB'),'entity_one':i.get('target1'),'entity_one_type':i.get('target1_type'),\n",
    "                              'entity_two':i.get('target2'),'entity_two_type':i.get('target2_type'),\n",
    "                              'entity_one_transformed':i.get('entity1'),'entity_two_transformed':i.get('entity2'),\n",
    "                                'transformed_triple':mid}\n",
    "                    triplelist_takeoff.append(copydict)\n",
    "                    transformed_triples.add(mid)\n",
    "                else:\n",
    "                    box2.append(i)\n",
    "                if j[1]=='associated' or j[1]=='associate' :\n",
    "                    mid=tuple([j[2],j[1],j[0],i.get('PMID')])\n",
    "                    if mid not in transformed_triples:\n",
    "                        allennlp_list.append([j[2],j[0]])\n",
    "                        copydict={'triple':j,'PMID':i.get('PMID'),'sentence':i.get('sentence'),\n",
    "                                  'AB':i.get('AB'),'entity_one':i.get('target2'),'entity_one_type':i.get('target2_type'),\n",
    "                                  'entity_two':i.get('target1'),'entity_two_type':i.get('target1_type'),\n",
    "                                  'entity_one_transformed':i.get('entity2'),'entity_two_transformed':i.get('entity1'),\n",
    "                                    'transformed_triple':mid}\n",
    "                        triplelist_takeoff.append(copydict)\n",
    "                        transformed_triples.add(mid)\n",
    "                    else:\n",
    "                        box2.append(i)\n",
    "    if i.get('networkx'):\n",
    "        if len(maxlength)>0 and i.get('networkx')[1] in maxlength[1].split(' '):\n",
    "            box.append(i)\n",
    "            pass\n",
    "        else:\n",
    "            # for j in allennlp_list:\n",
    "            #     if i.get('networkx')[0]==j[1] and i.get('networkx')[1]==j[0]:\n",
    "            #         print(i.get('networkx'))\n",
    "            #         print(i)\n",
    "            if i.get('networkx')[1] in i.get('networkx')[0].split(' ') or i.get('networkx')[1] in i.get('networkx')[2].split(' '):\n",
    "                acount+=1\n",
    "                continue\n",
    "            mid=tuple([i.get('networkx')[0],i.get('networkx')[1],i.get('networkx')[2],i.get('PMID')])\n",
    "            if mid not in transformed_triples:\n",
    "                copydict={'triple':i.get('networkx'),'PMID':i.get('PMID'),'sentence':i.get('sentence'),\n",
    "                          'AB':i.get('AB'),'entity_one':i.get('target1'),'entity_one_type':i.get('target1_type'),\n",
    "                          'entity_two':i.get('target2'),'entity_two_type':i.get('target2_type'),\n",
    "                          'entity_one_transformed':i.get('entity1'),'entity_two_transformed':i.get('entity2'),\n",
    "                            'transformed_triple':mid}\n",
    "                triplelist_takeoff.append(copydict)\n",
    "                transformed_triples.add(mid)\n",
    "            if i.get('networkx')[1]=='associated' or i.get('networkx')[1]=='associate' :\n",
    "                mid=tuple([i.get('networkx')[2],i.get('networkx')[1],i.get('networkx')[0],i.get('PMID')])\n",
    "                if mid not in transformed_triples:\n",
    "                    copydict={'triple':i.get('networkx'),'PMID':i.get('PMID'),'sentence':i.get('sentence'),\n",
    "                              'AB':i.get('AB'),'entity_one':i.get('target2'),'entity_one_type':i.get('target2_type'),\n",
    "                              'entity_two':i.get('target1'),'entity_two_type':i.get('target1_type'),\n",
    "                              'entity_one_transformed':i.get('entity2'),'entity_two_transformed':i.get('entity1'),\n",
    "                                'transformed_triple':mid}\n",
    "                    triplelist_takeoff.append(copydict)\n",
    "                    transformed_triples.add(mid)\n",
    "\n"
   ]
  },
  {
   "cell_type": "code",
   "execution_count": 33,
   "id": "44ebf476-e6eb-4809-a576-4f76ad3c712f",
   "metadata": {},
   "outputs": [
    {
     "data": {
      "text/plain": [
       "1363"
      ]
     },
     "execution_count": 33,
     "metadata": {},
     "output_type": "execute_result"
    }
   ],
   "source": [
    "len(box)"
   ]
  },
  {
   "cell_type": "code",
   "execution_count": 34,
   "id": "1d812bf1-72cb-467b-8945-0a14199cdf73",
   "metadata": {},
   "outputs": [
    {
     "data": {
      "text/plain": [
       "1771"
      ]
     },
     "execution_count": 34,
     "metadata": {},
     "output_type": "execute_result"
    }
   ],
   "source": [
    "len(box2)"
   ]
  },
  {
   "cell_type": "code",
   "execution_count": 35,
   "id": "39673996-7b1f-4408-b01b-1d1268207ebf",
   "metadata": {},
   "outputs": [
    {
     "data": {
      "text/plain": [
       "('cardiovascular disease', 'associated', 'rs5882', '17531380')"
      ]
     },
     "execution_count": 35,
     "metadata": {},
     "output_type": "execute_result"
    }
   ],
   "source": [
    "mid"
   ]
  },
  {
   "cell_type": "code",
   "execution_count": 36,
   "id": "4f09012d-6e18-4bf0-9055-a2474722bfcb",
   "metadata": {},
   "outputs": [
    {
     "name": "stdout",
     "output_type": "stream",
     "text": [
      "143005\n",
      "143005\n"
     ]
    }
   ],
   "source": [
    "print(len(triplelist_takeoff))\n",
    "print(len(transformed_triples))"
   ]
  },
  {
   "cell_type": "markdown",
   "id": "d8d3d3e9-994c-4e20-87bd-517c9fe2a144",
   "metadata": {},
   "source": [
    "#114062\n",
    "#114062\n",
    "print(len(triplelist_takeoff))\n",
    "print(len(transformed_triples))"
   ]
  },
  {
   "cell_type": "markdown",
   "id": "56859592-fb40-41bf-b067-aaef01d2ca14",
   "metadata": {},
   "source": [
    "'''将entity_one_transformed和entity_two_transformed的列表外套脱掉，筛掉同篇文献同一个实体对，筛掉两个单词为同一实体'''\n",
    "import copy\n",
    "triplelist_takeoff=[]\n",
    "transformed_triples=set()\n",
    "for i in triplelist:\n",
    "    openie_final_list=[]\n",
    "    if i.get('openie_final'):\n",
    "        for j in i.get('openie_final'):\n",
    "            \n",
    "            mid=tuple([j[0],j[1],j[2],i.get('PMID')])\n",
    "            if mid not in transformed_triples:\n",
    "                copydict={'triple':j,'PMID':i.get('PMID'),'sentence':i.get('sentence'),\n",
    "                          'AB':i.get('AB'),'entity_one':i.get('target1'),'entity_one_type':i.get('target1_type'),\n",
    "                          'entity_two':i.get('target2'),'entity_two_type':i.get('target2_type'),\n",
    "                          'entity_one_transformed':i.get('entity1'),'entity_two_transformed':i.get('entity2'),\n",
    "                            'transformed_triple':mid}\n",
    "                triplelist_takeoff.append(copydict)\n",
    "                transformed_triples.add(mid)\n",
    "            if j[1]=='associated' or j[1]=='associate' :\n",
    "                mid=tuple([j[2],j[1],j[0],i.get('PMID')])\n",
    "                if mid not in transformed_triples:\n",
    "                    copydict={'triple':i.get('networkx'),'PMID':i.get('PMID'),'sentence':i.get('sentence'),\n",
    "                              'AB':i.get('AB'),'entity_one':i.get('target2'),'entity_one_type':i.get('target2_type'),\n",
    "                              'entity_two':i.get('target1'),'entity_two_type':i.get('target1_type'),\n",
    "                              'entity_one_transformed':i.get('entity2'),'entity_two_transformed':i.get('entity1'),\n",
    "                                'transformed_triple':mid}\n",
    "                    triplelist_takeoff.append(copydict)\n",
    "                    transformed_triples.add(mid)\n",
    "    if i.get('networkx'):\n",
    "        # mid_list=i.get('networkx')[1].split(' ')\n",
    "        # for p,q in enumerate(mid_list):\n",
    "        #     if bedict.get(q):\n",
    "        #         mid_list[p]='be'\n",
    "        # i['networkx'][1]=' '.join(mid_list)\n",
    "        mid=tuple([i.get('networkx')[0],i.get('networkx')[1],i.get('networkx')[2],i.get('PMID')])\n",
    "        if mid not in transformed_triples:\n",
    "            copydict={'triple':i.get('networkx'),'PMID':i.get('PMID'),'sentence':i.get('sentence'),\n",
    "                      'AB':i.get('AB'),'entity_one':i.get('target1'),'entity_one_type':i.get('target1_type'),\n",
    "                      'entity_two':i.get('target2'),'entity_two_type':i.get('target2_type'),\n",
    "                      'entity_one_transformed':i.get('entity1'),'entity_two_transformed':i.get('entity2'),\n",
    "                        'transformed_triple':mid}\n",
    "            triplelist_takeoff.append(copydict)\n",
    "            transformed_triples.add(mid)\n",
    "        if i.get('networkx')[1]=='associated' or i.get('networkx')[1]=='associate' :\n",
    "            mid=tuple([i.get('networkx')[2],i.get('networkx')[1],i.get('networkx')[0],i.get('PMID')])\n",
    "            if mid not in transformed_triples:\n",
    "                copydict={'triple':i.get('networkx'),'PMID':i.get('PMID'),'sentence':i.get('sentence'),\n",
    "                          'AB':i.get('AB'),'entity_one':i.get('target2'),'entity_one_type':i.get('target2_type'),\n",
    "                          'entity_two':i.get('target1'),'entity_two_type':i.get('target1_type'),\n",
    "                          'entity_one_transformed':i.get('entity2'),'entity_two_transformed':i.get('entity1'),\n",
    "                            'transformed_triple':mid}\n",
    "                triplelist_takeoff.append(copydict)\n",
    "                transformed_triples.add(mid)\n",
    "\n",
    "    if i.get('allennlp_final'):\n",
    "        for j in i.get('allennlp_final'):\n",
    "            # mid_list=j[1].split(' ')\n",
    "            # for p,q in enumerate(mid_list):\n",
    "            #     if bedict.get(q):\n",
    "            #         mid_list[p]='be'\n",
    "            # j[1]=' '.join(mid_list)\n",
    "            mid=tuple([j[0],j[1],j[2],i.get('PMID')])\n",
    "            if mid not in transformed_triples:\n",
    "                copydict={'triple':j,'PMID':i.get('PMID'),'sentence':i.get('sentence'),\n",
    "                          'AB':i.get('AB'),'entity_one':i.get('entity1'),'entity_one_type':i.get('target1_type'),\n",
    "                          'entity_two':i.get('entity2'),'entity_two_type':i.get('target2_type'),\n",
    "                          'entity_one_transformed':i.get('target1'),'entity_two_transformed':i.get('target2'),\n",
    "                            'transformed_triple':mid}\n",
    "                triplelist_takeoff.append(copydict)\n",
    "                transformed_triples.add(mid)\n",
    "            if j[1]=='associated' or j[1]=='associate' :\n",
    "                mid=tuple([j[2],j[1],j[0],i.get('PMID')])\n",
    "                if mid not in transformed_triples:\n",
    "                    copydict={'triple':i.get('networkx'),'PMID':i.get('PMID'),'sentence':i.get('sentence'),\n",
    "                              'AB':i.get('AB'),'entity_one':i.get('target2'),'entity_one_type':i.get('target2_type'),\n",
    "                              'entity_two':i.get('target1'),'entity_two_type':i.get('target1_type'),\n",
    "                              'entity_one_transformed':i.get('entity2'),'entity_two_transformed':i.get('entity1'),\n",
    "                                'transformed_triple':mid}\n",
    "                    triplelist_takeoff.append(copydict)\n",
    "                    transformed_triples.add(mid)"
   ]
  },
  {
   "cell_type": "markdown",
   "id": "5a3f97c7-2339-4286-b8e4-33c5cbb93964",
   "metadata": {},
   "source": [
    "for i in triplelist:\n",
    "    if i.get('PMID')=='23396152' and i.get('entity1')=='ADIPOQ':\n",
    "        print(i)"
   ]
  },
  {
   "cell_type": "markdown",
   "id": "8a3ed64a-6a46-4126-8391-fd3417d8bba0",
   "metadata": {},
   "source": [
    "'''将entity_one_transformed和entity_two_transformed的列表外套脱掉，筛掉同篇文献同一个实体对，筛掉两个单词为同一实体'''\n",
    "import copy\n",
    "triplelist_takeoff=[]\n",
    "transformed_triples=set()\n",
    "for i in triplelist:\n",
    "    for j in i.get('entity_one_transformed'):\n",
    "        for k in i.get('entity_two_transformed'):\n",
    "            if j==k:\n",
    "                continue\n",
    "            else:\n",
    "                mid=(j,i.get('verb'),k,i.get('PMID'))\n",
    "                if mid not in transformed_triples:\n",
    "                    copydict=copy.deepcopy(i)\n",
    "                    copydict.update({'entity_one_transformed':j,'entity_two_transformed':k,'transformed_triple':mid})\n",
    "                    triplelist_takeoff.append(copydict)\n",
    "                    transformed_triples.add(mid)"
   ]
  },
  {
   "cell_type": "code",
   "execution_count": 37,
   "id": "b3c28f7f-59a2-4041-8faa-b1798556b994",
   "metadata": {},
   "outputs": [
    {
     "data": {
      "text/plain": [
       "143005"
      ]
     },
     "execution_count": 37,
     "metadata": {},
     "output_type": "execute_result"
    }
   ],
   "source": [
    "# 114062\n",
    "len(triplelist_takeoff)"
   ]
  },
  {
   "cell_type": "code",
   "execution_count": 38,
   "id": "3735fdc4-db51-4848-96a6-0de1aaad61b6",
   "metadata": {},
   "outputs": [],
   "source": [
    "import re\n",
    "triplelist_takesoff=[]\n",
    "for i in triplelist_takeoff:\n",
    "    if not re.search(r'\\`|\\~|\\!|\\@|\\#|\\$|\\%|\\^|\\&|\\*|\\(|\\)|\\_|\\+|\\=|\\{|\\[|\\}|\\]|\\;|\\:|\\'|\\\"|\\,|\\<|\\.|\\>|\\/|\\?',i.get('triple')[1]):\n",
    "        if not re.search(r'(\\s\\d+\\s)|(\\b\\d+\\b)',i.get('triple')[1]): \n",
    "            triplelist_takesoff.append(i)  \n",
    "        "
   ]
  },
  {
   "cell_type": "markdown",
   "id": "dad114b6-61d1-443d-995f-dfbe284de2d3",
   "metadata": {},
   "source": [
    "for i in triplelist_takeoff:\n",
    "    if i.get('triple')=='4':\n",
    "        print(i)"
   ]
  },
  {
   "cell_type": "markdown",
   "id": "e5813c9f-0bdd-481f-89e9-99e8f1ff5cd2",
   "metadata": {},
   "source": [
    "cxz=0\n",
    "for i in triplelist:\n",
    "    if i.get('networkx') and i.get('allennlp_final'):\n",
    "        if i.get('networkx')[1]!=i.get('allennlp')[0][1]:\n",
    "            cxz+=1\n",
    "            if cxz<30:\n",
    "                print(i)\n",
    "            else:\n",
    "                break"
   ]
  },
  {
   "cell_type": "code",
   "execution_count": 39,
   "id": "fa37a20c-f220-4db8-b854-ab885648fe97",
   "metadata": {},
   "outputs": [],
   "source": [
    "triplelistnewcopy=copy.deepcopy(triplelist_takesoff)"
   ]
  },
  {
   "cell_type": "markdown",
   "id": "0ff78836-4c8b-49fa-9d2b-c7a030f8fb3d",
   "metadata": {},
   "source": [
    "initial_count=0\n",
    "for i in triplelistnewcopy:\n",
    "    if re.search(r'\\`|\\~|\\!|\\@|\\#|\\$|\\%|\\^|\\&|\\*|\\(|\\)|\\_|\\+|\\=|\\{|\\[|\\}|\\]|\\;|\\:|\\'|\\\"|\\,|\\<|\\.|\\>|\\/|\\?',i.get('triple')[1]):\n",
    "        initial_count+=1\n",
    "        # print(i.get('triple'))\n",
    "        # if initial_count>20:\n",
    "        #     break\n",
    "    elif re.search(r'(\\s\\d+\\s)|(\\b\\d+\\b)',i.get('triple')[1]):\n",
    "        print(i.get('triple')+[i.get('sentence')])"
   ]
  },
  {
   "cell_type": "markdown",
   "id": "033cd9df-3ca3-49c0-b475-bd78e059210f",
   "metadata": {},
   "source": [
    "initial_count"
   ]
  },
  {
   "cell_type": "markdown",
   "id": "6bb93783-a48a-4b4f-9f70-c2ebd2f4fd3b",
   "metadata": {},
   "source": [
    "deprecated_relations=pd.read_csv('classofrelations/deprecated_relations.csv',header=None,names=['word'])"
   ]
  },
  {
   "cell_type": "code",
   "execution_count": 40,
   "id": "bba48378-cd96-419c-b843-b4df9c3bcec1",
   "metadata": {},
   "outputs": [],
   "source": [
    "deprecated_relations=pd.read_csv('classofrelations/deprecated.csv',header=None,names=['word'])"
   ]
  },
  {
   "cell_type": "code",
   "execution_count": 41,
   "id": "3a3ebdcb-27b3-46b0-a1dc-074ede14faac",
   "metadata": {},
   "outputs": [
    {
     "data": {
      "text/plain": [
       "208"
      ]
     },
     "execution_count": 41,
     "metadata": {},
     "output_type": "execute_result"
    }
   ],
   "source": [
    "len(deprecated_relations)"
   ]
  },
  {
   "cell_type": "code",
   "execution_count": 42,
   "id": "4555db78-2437-43c3-a486-150b10738fb7",
   "metadata": {},
   "outputs": [
    {
     "data": {
      "text/html": [
       "<div>\n",
       "<style scoped>\n",
       "    .dataframe tbody tr th:only-of-type {\n",
       "        vertical-align: middle;\n",
       "    }\n",
       "\n",
       "    .dataframe tbody tr th {\n",
       "        vertical-align: top;\n",
       "    }\n",
       "\n",
       "    .dataframe thead th {\n",
       "        text-align: right;\n",
       "    }\n",
       "</style>\n",
       "<table border=\"1\" class=\"dataframe\">\n",
       "  <thead>\n",
       "    <tr style=\"text-align: right;\">\n",
       "      <th></th>\n",
       "      <th>word</th>\n",
       "    </tr>\n",
       "  </thead>\n",
       "  <tbody>\n",
       "    <tr>\n",
       "      <th>0</th>\n",
       "      <td>% for</td>\n",
       "    </tr>\n",
       "    <tr>\n",
       "      <th>1</th>\n",
       "      <td>'s III be</td>\n",
       "    </tr>\n",
       "    <tr>\n",
       "      <th>2</th>\n",
       "      <td>)evaluate</td>\n",
       "    </tr>\n",
       "    <tr>\n",
       "      <th>3</th>\n",
       "      <td>#NAME?</td>\n",
       "    </tr>\n",
       "    <tr>\n",
       "      <th>4</th>\n",
       "      <td>#NAME?</td>\n",
       "    </tr>\n",
       "  </tbody>\n",
       "</table>\n",
       "</div>"
      ],
      "text/plain": [
       "        word\n",
       "0      % for\n",
       "1  's III be\n",
       "2  )evaluate\n",
       "3     #NAME?\n",
       "4     #NAME?"
      ]
     },
     "execution_count": 42,
     "metadata": {},
     "output_type": "execute_result"
    }
   ],
   "source": [
    "deprecated_relations.head()"
   ]
  },
  {
   "cell_type": "code",
   "execution_count": 43,
   "id": "278033e1-5ad3-4775-b621-6cadec7e84fc",
   "metadata": {},
   "outputs": [],
   "source": [
    "deprecated_relations_dict={}\n",
    "for i in deprecated_relations['word'].to_list():\n",
    "    deprecated_relations_dict[i.lower()]=True"
   ]
  },
  {
   "cell_type": "code",
   "execution_count": 44,
   "id": "3fc600f5-5222-4557-81e2-0d9d31eeb59a",
   "metadata": {},
   "outputs": [
    {
     "data": {
      "text/plain": [
       "('aforemention', True)"
      ]
     },
     "execution_count": 44,
     "metadata": {},
     "output_type": "execute_result"
    }
   ],
   "source": [
    "list(deprecated_relations_dict.items())[20]"
   ]
  },
  {
   "cell_type": "code",
   "execution_count": 45,
   "id": "3e44f08d-3221-4d5f-b03c-d1455f4333f9",
   "metadata": {},
   "outputs": [
    {
     "data": {
      "text/plain": [
       "{'triple': ['SF3B1', 'lead', 'EIF2AK1'],\n",
       " 'PMID': '35926182',\n",
       " 'sentence': 'Here, using single-cell technologies and functional validation studies of primary SF3B1-mutant MDS-RS samples, we show that SF3B1 mutations lead to the activation of the EIF2AK1 pathway in response to heme deficiency and that targeting this pathway rescues aberrant erythroid differentiation and enables the red blood cell maturation of MDS-RS erythroblasts.',\n",
       " 'AB': 'SF3B1 mutations, which occur in 20% of patients with myelodysplastic syndromes (MDS), are the hallmarks of a specific MDS subtype, MDS with ringed sideroblasts (MDS-RS), which is characterized by the accumulation of erythroid precursors in the bone marrow and primarily affects the elderly population. Here, using single-cell technologies and functional validation studies of primary SF3B1-mutant MDS-RS samples, we show that SF3B1 mutations lead to the activation of the EIF2AK1 pathway in response to heme deficiency and that targeting this pathway rescues aberrant erythroid differentiation and enables the red blood cell maturation of MDS-RS erythroblasts. These data support the development of EIF2AK1 inhibitors to overcome transfusion dependency in patients with SF3B1-mutant MDS-RS with impaired red blood cell production.',\n",
       " 'entity_one': 'SF3B1',\n",
       " 'entity_one_type': 'Gene',\n",
       " 'entity_two': 'EIF2AK1',\n",
       " 'entity_two_type': 'Gene',\n",
       " 'entity_one_transformed': 'SF3B1',\n",
       " 'entity_two_transformed': 'EIF2AK1',\n",
       " 'transformed_triple': ('SF3B1', 'lead', 'EIF2AK1', '35926182')}"
      ]
     },
     "execution_count": 45,
     "metadata": {},
     "output_type": "execute_result"
    }
   ],
   "source": [
    "triplelistnewcopy[0]"
   ]
  },
  {
   "cell_type": "code",
   "execution_count": 46,
   "id": "31f7a947-3b32-40c9-8ecc-5c4c31cd308d",
   "metadata": {},
   "outputs": [
    {
     "data": {
      "text/plain": [
       "'vaccinated'"
      ]
     },
     "execution_count": 46,
     "metadata": {},
     "output_type": "execute_result"
    }
   ],
   "source": [
    "i"
   ]
  },
  {
   "cell_type": "code",
   "execution_count": 47,
   "id": "b1355945-8c81-4a38-a27a-6a83423d753c",
   "metadata": {},
   "outputs": [],
   "source": [
    "triplelistnew=[]\n",
    "for i in triplelistnewcopy:\n",
    "    if not deprecated_relations_dict.get(i.get('triple')[1].lower()):\n",
    "        triplelistnew.append(i)"
   ]
  },
  {
   "cell_type": "code",
   "execution_count": 48,
   "id": "e2823b1a-f85e-4b9a-9c26-7c7d22b6f33d",
   "metadata": {},
   "outputs": [
    {
     "data": {
      "text/plain": [
       "'\\n含有重复的triplelistnew数量为56723\\n'"
      ]
     },
     "execution_count": 48,
     "metadata": {},
     "output_type": "execute_result"
    }
   ],
   "source": [
    "'''\n",
    "含有重复的triplelistnew数量为56723\n",
    "'''"
   ]
  },
  {
   "cell_type": "code",
   "execution_count": 49,
   "id": "06ba5ede-1af5-4834-af25-f43fa0803409",
   "metadata": {},
   "outputs": [
    {
     "data": {
      "text/plain": [
       "133446"
      ]
     },
     "execution_count": 49,
     "metadata": {},
     "output_type": "execute_result"
    }
   ],
   "source": [
    "len(triplelistnew)"
   ]
  },
  {
   "cell_type": "code",
   "execution_count": null,
   "id": "ad2e3b60-8e54-4c78-9a07-43b1bdcc93e7",
   "metadata": {},
   "outputs": [],
   "source": []
  },
  {
   "cell_type": "code",
   "execution_count": 50,
   "id": "18aa1aa9-ad3a-4f13-96d5-c10a8eb3ca05",
   "metadata": {},
   "outputs": [
    {
     "data": {
      "text/plain": [
       "{'triple': ['rs1001179', 'investigated', 'cataract'],\n",
       " 'PMID': '35556207',\n",
       " 'sentence': 'Association of SOD1 50 bp Indel, GPX1 (rs1800668), and CAT (rs1001179) genotypes with all clinical variables was investigated in cataract groups by regression statistics in SPSS  16.0.',\n",
       " 'AB': 'Hyperglycemia plays a pronounced role in accelerating the process of aging due to high oxidative stress which triggers dyslipidemia and subsequently led to the progression of cataract. The aim of this study was to investigate lipid profile and its relationship with genotypes of SOD1, GPX1, and CAT variants in cataract patients. Total n = 680 samples were screened in four groups: senile cataract (SC), diabetic cataract (DC), type 2 diabetes mellitus (DM), and controls (CL). Lipid profile was estimated and compared between groups, and its correlation was tested with glycemic markers. Association of SOD1 50 bp Indel, GPX1 (rs1800668), and CAT (rs1001179) genotypes with all clinical variables was investigated in cataract groups by regression statistics in SPSS  16.0. Comparative analysis revealed that amount of total cholesterol and low-density lipoprotein parameters were significantly higher in both groups of cataracts when compared with controls (p < 0.01). Statistically higher levels of triglycerides were also evident in DM patients as compared with other three groups (p < 0.01). Significant weak positive correlation of glycated hemoglobin, fasting (FBG), and random blood glucose (RBG) levels was observed with triglycerides in DM (r = 0.16), SC (r = 0.15), and DC (r = 0.18) groups. Mutant genotype of SOD1 and CAT variants indicated significant association with TC, whereas GPX1 variant with FBG levels in accelerating predisposition of cataract in patients with diabetes (OR > 1.0). Outcomes suggested that TG may serve as a potential biomarker of lipid profile with manifestation of cataract in type 2 DM. Furthermore, hypercholesterolemia and hypertriglyceridemia demonstrated an inducing role in the pathogenesis of cataract with aging in hyperglycemia.',\n",
       " 'entity_one': 'rs1001179',\n",
       " 'entity_one_type': 'Mutation',\n",
       " 'entity_two': 'cataract',\n",
       " 'entity_two_type': 'Disease',\n",
       " 'entity_one_transformed': 'rs1001179',\n",
       " 'entity_two_transformed': 'Cataract',\n",
       " 'transformed_triple': ('rs1001179', 'investigated', 'cataract', '35556207')}"
      ]
     },
     "execution_count": 50,
     "metadata": {},
     "output_type": "execute_result"
    }
   ],
   "source": [
    "triplelistnew[10]"
   ]
  },
  {
   "cell_type": "code",
   "execution_count": 51,
   "id": "1d989efb-3a9e-4c14-a565-cce3aced8f63",
   "metadata": {},
   "outputs": [],
   "source": [
    "f1=open(r'triple.txt','a')"
   ]
  },
  {
   "cell_type": "code",
   "execution_count": 52,
   "id": "889f6e2a-c0d6-4867-8ec1-2cb2b7d0fb1d",
   "metadata": {
    "tags": []
   },
   "outputs": [],
   "source": [
    "for i in triplelistnew:\n",
    "    for j,k in enumerate(i.get('transformed_triple')):\n",
    "        if j==2:\n",
    "            f1.write(k+'\\n')\n",
    "        elif j==0 or j==1:\n",
    "            f1.write(k+'\\t')\n"
   ]
  },
  {
   "cell_type": "code",
   "execution_count": 53,
   "id": "073d8caf-1c70-4d99-a181-4096f74915bc",
   "metadata": {},
   "outputs": [],
   "source": [
    "f1.close()"
   ]
  },
  {
   "cell_type": "code",
   "execution_count": 54,
   "id": "883ebbf6-41c5-47c5-bb84-4d08cbd396f3",
   "metadata": {},
   "outputs": [],
   "source": [
    "\n",
    "h_r_t_name = [\":START_ID\", \"role\", \":END_ID\"]\n"
   ]
  },
  {
   "cell_type": "code",
   "execution_count": 55,
   "id": "f588315c-54a3-45f8-9ea0-b562479ea0bd",
   "metadata": {},
   "outputs": [],
   "source": [
    "h_r_t = pd.read_csv('triple.txt',sep='\\t',names=h_r_t_name)"
   ]
  },
  {
   "cell_type": "code",
   "execution_count": 56,
   "id": "7d88ddef-47c5-4eec-b9ab-54c0620188f6",
   "metadata": {},
   "outputs": [
    {
     "data": {
      "text/plain": [
       "133446"
      ]
     },
     "execution_count": 56,
     "metadata": {},
     "output_type": "execute_result"
    }
   ],
   "source": [
    "# 114062\n",
    "len(h_r_t)"
   ]
  },
  {
   "cell_type": "code",
   "execution_count": 57,
   "id": "fd6de920-cf44-423f-8690-9b7fb45c2b73",
   "metadata": {},
   "outputs": [
    {
     "name": "stdout",
     "output_type": "stream",
     "text": [
      "23957\n"
     ]
    }
   ],
   "source": [
    "# 去除重复实体 22849\n",
    "\n",
    "entity = set()\n",
    "\n",
    "entity_h = h_r_t[':START_ID'].tolist()\n",
    "\n",
    "entity_t = h_r_t[':END_ID'].tolist()\n",
    "\n",
    "for i in entity_h:\n",
    "\n",
    "    entity.add(i)\n",
    "\n",
    "for i in entity_t:\n",
    "\n",
    "    entity.add(i)\n",
    "\n",
    "print(len(entity))"
   ]
  },
  {
   "cell_type": "code",
   "execution_count": null,
   "id": "3768d808-1d65-49ba-bcb5-f3514447b514",
   "metadata": {},
   "outputs": [],
   "source": []
  },
  {
   "cell_type": "code",
   "execution_count": 58,
   "id": "515cf495-6e6a-4850-9dc8-fe9bbcacd71f",
   "metadata": {},
   "outputs": [],
   "source": [
    "entity = list(entity)"
   ]
  },
  {
   "cell_type": "code",
   "execution_count": 59,
   "id": "6c58d9a7-7255-426e-995d-69420bd7ea75",
   "metadata": {},
   "outputs": [],
   "source": [
    "'''\n",
    "整合所有实体可能存在的类型 \n",
    "entitydict就是实体转类型（分号相隔）\n",
    "'''\n",
    "import re\n",
    "entitydict={}\n",
    "for i,j in enumerate(triplelistnew):\n",
    "    # if j.get('entity_one')==j.get('entity_two'):\n",
    "    #     continue\n",
    "    if not entitydict.get(j.get('entity_one_transformed')) and not entitydict.get(j.get('entity_two_transformed')):\n",
    "        entitydict[j.get('entity_one_transformed')]=j.get('entity_one_type')\n",
    "        entitydict[j.get('entity_two_transformed')]=j.get('entity_two_type')\n",
    "    else:\n",
    "        if entitydict.get(j.get('entity_one_transformed')):\n",
    "            if re.search(j.get('entity_one_type'), entitydict.get(j.get('entity_one_transformed'))) :\n",
    "                pass\n",
    "            else:\n",
    "                entitydict[j.get('entity_one_transformed')]+=\";\"+j.get('entity_one_type')\n",
    "        else:\n",
    "            entitydict[j.get('entity_one_transformed')]=j.get('entity_one_type')\n",
    "        if entitydict.get(j.get('entity_two_transformed')):\n",
    "            if re.search(j.get('entity_two_type'), entitydict.get(j.get('entity_two_transformed'))) :\n",
    "                pass\n",
    "            else:\n",
    "                entitydict[j.get('entity_two_transformed')]+=\";\"+j.get('entity_two_type')\n",
    "        else:\n",
    "            entitydict[j.get('entity_two_transformed')]=j.get('entity_two_type')"
   ]
  },
  {
   "cell_type": "code",
   "execution_count": 60,
   "id": "7b57747e-90d0-44cd-a8a1-5c76be328576",
   "metadata": {},
   "outputs": [
    {
     "data": {
      "text/plain": [
       "6181"
      ]
     },
     "execution_count": 60,
     "metadata": {},
     "output_type": "execute_result"
    }
   ],
   "source": [
    "# 5862\n",
    "len(entitydict)"
   ]
  },
  {
   "cell_type": "code",
   "execution_count": 61,
   "id": "4526a522-f854-448a-9889-3224982dcf4c",
   "metadata": {},
   "outputs": [
    {
     "data": {
      "text/plain": [
       "[('rs764254110', 'Mutation'),\n",
       " ('rs10137185', 'Mutation'),\n",
       " ('rs1256059', 'Mutation'),\n",
       " ('rs4988235', 'Mutation'),\n",
       " ('rs696217', 'Mutation'),\n",
       " ('rs3918242', 'Mutation'),\n",
       " ('rs401681', 'Mutation'),\n",
       " ('rs9272461', 'Mutation'),\n",
       " ('rs2004776', 'Mutation'),\n",
       " ('rs10824026', 'Mutation'),\n",
       " ('rs2971609', 'Mutation'),\n",
       " ('rs121918339', 'Mutation'),\n",
       " ('rs7503726', 'Mutation'),\n",
       " ('rs12252', 'Mutation'),\n",
       " ('rs2970848', 'Mutation'),\n",
       " ('rs6821591', 'Mutation'),\n",
       " ('rs2208454', 'Mutation'),\n",
       " ('rs79658334', 'Mutation'),\n",
       " ('rs28365927', 'Mutation'),\n",
       " ('Myopathy, Central Core', 'Disease'),\n",
       " ('rs12425791', 'Mutation'),\n",
       " ('rs188286943', 'Mutation'),\n",
       " ('rs3810950', 'Mutation'),\n",
       " ('rs7078012', 'Mutation'),\n",
       " ('rs17081935', 'Mutation'),\n",
       " ('rs2076260', 'Mutation'),\n",
       " ('rs3027178', 'Mutation'),\n",
       " ('rs1801020', 'Mutation'),\n",
       " ('rs1801155', 'Mutation')]"
      ]
     },
     "execution_count": 61,
     "metadata": {},
     "output_type": "execute_result"
    }
   ],
   "source": [
    "list(entitydict.items())[-30:-1]"
   ]
  },
  {
   "cell_type": "code",
   "execution_count": 62,
   "id": "cc0977cf-e80d-4662-b2ac-9e0e17a4a0db",
   "metadata": {},
   "outputs": [
    {
     "name": "stdout",
     "output_type": "stream",
     "text": [
      "{'Ceramides': 'Lipid;Carbohydrate'}\n",
      "{'Bleomycin': 'Carbohydrate;Peptide'}\n",
      "{'Lipopolysaccharides': 'Carbohydrate;Toxin'}\n"
     ]
    }
   ],
   "source": [
    "for i,j in entitydict.items():\n",
    "    if re.search(';',j):\n",
    "        print({i:j})\n"
   ]
  },
  {
   "cell_type": "markdown",
   "id": "41e4bed0-831c-452b-b1ab-817657457479",
   "metadata": {},
   "source": [
    "for i in triplelist:\n",
    "    if i.get('entity1')=='Ceramides' and i.get('target1_type')=='Carbohydrate':\n",
    "        print(i)\n",
    "        break\n",
    "    elif i.get('entity2')=='Ceramides' and i.get('target2_type')=='Carbohydrate':\n",
    "        print(i)\n",
    "        break"
   ]
  },
  {
   "cell_type": "code",
   "execution_count": null,
   "id": "bd941c89-3c5d-4de9-90a4-02db2f5e46e7",
   "metadata": {},
   "outputs": [],
   "source": []
  },
  {
   "cell_type": "code",
   "execution_count": null,
   "id": "d9970b76-11fa-4b8c-a8d1-0ca3fbca0da1",
   "metadata": {},
   "outputs": [],
   "source": []
  },
  {
   "cell_type": "code",
   "execution_count": null,
   "id": "e5c7ab8f-86b7-48cf-bbb5-0af51c400ba1",
   "metadata": {},
   "outputs": [],
   "source": []
  },
  {
   "cell_type": "code",
   "execution_count": null,
   "id": "6f9d4242-7e6a-42b3-970e-7b17192412a8",
   "metadata": {},
   "outputs": [],
   "source": []
  },
  {
   "cell_type": "code",
   "execution_count": null,
   "id": "6bdf081d-aa78-4eb6-b41e-4c8bf534a32f",
   "metadata": {},
   "outputs": [],
   "source": []
  },
  {
   "cell_type": "code",
   "execution_count": 63,
   "id": "6354efd9-0f5c-4462-8f87-ba6c116dc0e9",
   "metadata": {},
   "outputs": [
    {
     "data": {
      "text/plain": [
       "[('SF3B1', 'Gene'),\n",
       " ('EIF2AK1', 'Gene'),\n",
       " ('Protoporphyria, Erythropoietic', 'Disease'),\n",
       " ('SOD1', 'Gene'),\n",
       " ('GPX1', 'Gene'),\n",
       " ('Cataract', 'Disease'),\n",
       " ('CAT', 'Gene'),\n",
       " ('rs1800668', 'Mutation'),\n",
       " ('Inflammation', 'Disease'),\n",
       " ('Seizures', 'Disease'),\n",
       " ('rs1001179', 'Mutation'),\n",
       " ('CDKN1A', 'Gene'),\n",
       " ('EGR1', 'Gene'),\n",
       " ('CPT1A', 'Gene'),\n",
       " ('TP53', 'Gene'),\n",
       " ('Fatty Acids', 'Lipid'),\n",
       " ('ACAN', 'Gene'),\n",
       " ('COL11A1', 'Gene'),\n",
       " ('WNT3', 'Gene'),\n",
       " ('Sclerosis', 'Disease')]"
      ]
     },
     "execution_count": 63,
     "metadata": {},
     "output_type": "execute_result"
    }
   ],
   "source": [
    "list(entitydict.items())[:20]"
   ]
  },
  {
   "cell_type": "markdown",
   "id": "895d765a-c5d6-4286-9814-5f1e6009e399",
   "metadata": {},
   "source": [
    "'''标注entity序号ID'''\n",
    "entitynum={}\n",
    "for i in entitydict.keys():\n",
    "    entitynum[i]=i"
   ]
  },
  {
   "cell_type": "code",
   "execution_count": 64,
   "id": "0a4dcc7b-3aae-4604-8093-71c527b3b407",
   "metadata": {},
   "outputs": [],
   "source": [
    "'''标注entity序号ID'''\n",
    "entitynum={}\n",
    "num=1\n",
    "for i in entitydict.keys():\n",
    "    entitynum[i]=num\n",
    "    num+=1"
   ]
  },
  {
   "cell_type": "code",
   "execution_count": 65,
   "id": "a0016065-7705-4e60-976e-080e44cc631d",
   "metadata": {},
   "outputs": [
    {
     "data": {
      "text/plain": [
       "849"
      ]
     },
     "execution_count": 65,
     "metadata": {},
     "output_type": "execute_result"
    }
   ],
   "source": [
    "entitynum.get('APOE')"
   ]
  },
  {
   "cell_type": "markdown",
   "id": "446cabfd-012b-4dce-8b37-40f9af8fed48",
   "metadata": {},
   "source": [
    "for i,j in entitynum.items():\n",
    "    if j==768:\n",
    "        print(i)"
   ]
  },
  {
   "cell_type": "code",
   "execution_count": 66,
   "id": "47a70fdb-876d-4816-89ea-5fcab6a30e36",
   "metadata": {},
   "outputs": [],
   "source": [
    "for i in triplelistnew:\n",
    "    i['verb']=i.get('triple')[1]"
   ]
  },
  {
   "cell_type": "markdown",
   "id": "8016537d-a7b1-48dd-9a8b-41389b3ec3ed",
   "metadata": {},
   "source": [
    "# 9481\n",
    "num"
   ]
  },
  {
   "cell_type": "code",
   "execution_count": 67,
   "id": "47d25cae-0b86-42a3-8039-8d62f73d72e2",
   "metadata": {},
   "outputs": [],
   "source": [
    "'''分别计算entity出现次数，relation出现次数和triple出现次数'''\n",
    "entity_countnum={}\n",
    "relation_countnum={}\n",
    "tripleWeight={}\n",
    "tripleWeightunique=set()\n",
    "for i in triplelistnew:\n",
    "    if i.get('entity_one_transformed')!=i.get('entity_two_transformed'):\n",
    "        if (i.get('entity_one_transformed'),i.get('triple')[1],i.get('entity_two_transformed'),i.get('PMID')) not in tripleWeightunique:\n",
    "            tripleWeightunique.add((i.get('entity_one_transformed'),i.get('triple')[1],i.get('entity_two_transformed'),i.get('PMID')))\n",
    "            entity_countnum[i.get('entity_one_transformed')]=entity_countnum.get(i.get('entity_one_transformed'),0)+1\n",
    "            entity_countnum[i.get('entity_two_transformed')]=entity_countnum.get(i.get('entity_two_transformed'),0)+1\n",
    "            relation_countnum[i.get('triple')[1]]=relation_countnum.get(i.get('triple')[1],0)+1\n",
    "            tripleWeight[(i.get('entity_one_transformed'),i.get('triple')[1], i.get('entity_two_transformed'))]=tripleWeight.get((i.get('entity_one_transformed'),i.get('triple')[1], i.get('entity_two_transformed')),0)+1"
   ]
  },
  {
   "cell_type": "code",
   "execution_count": 68,
   "id": "8e1a380a-830b-484e-a2eb-a783fc963bcf",
   "metadata": {},
   "outputs": [
    {
     "data": {
      "text/plain": [
       "99033"
      ]
     },
     "execution_count": 68,
     "metadata": {},
     "output_type": "execute_result"
    }
   ],
   "source": [
    "# 51551\n",
    "len(tripleWeight)"
   ]
  },
  {
   "cell_type": "code",
   "execution_count": 69,
   "id": "a783727a-93cb-4ba7-a022-0574750a7bc6",
   "metadata": {},
   "outputs": [
    {
     "data": {
      "text/plain": [
       "133446"
      ]
     },
     "execution_count": 69,
     "metadata": {},
     "output_type": "execute_result"
    }
   ],
   "source": [
    "len(triplelistnew)"
   ]
  },
  {
   "cell_type": "code",
   "execution_count": 70,
   "id": "d68741ce-c45f-4bec-9cf4-a7a602a2b826",
   "metadata": {},
   "outputs": [
    {
     "data": {
      "text/plain": [
       "{'triple': ['SF3B1', 'lead', 'EIF2AK1'],\n",
       " 'PMID': '35926182',\n",
       " 'sentence': 'Here, using single-cell technologies and functional validation studies of primary SF3B1-mutant MDS-RS samples, we show that SF3B1 mutations lead to the activation of the EIF2AK1 pathway in response to heme deficiency and that targeting this pathway rescues aberrant erythroid differentiation and enables the red blood cell maturation of MDS-RS erythroblasts.',\n",
       " 'AB': 'SF3B1 mutations, which occur in 20% of patients with myelodysplastic syndromes (MDS), are the hallmarks of a specific MDS subtype, MDS with ringed sideroblasts (MDS-RS), which is characterized by the accumulation of erythroid precursors in the bone marrow and primarily affects the elderly population. Here, using single-cell technologies and functional validation studies of primary SF3B1-mutant MDS-RS samples, we show that SF3B1 mutations lead to the activation of the EIF2AK1 pathway in response to heme deficiency and that targeting this pathway rescues aberrant erythroid differentiation and enables the red blood cell maturation of MDS-RS erythroblasts. These data support the development of EIF2AK1 inhibitors to overcome transfusion dependency in patients with SF3B1-mutant MDS-RS with impaired red blood cell production.',\n",
       " 'entity_one': 'SF3B1',\n",
       " 'entity_one_type': 'Gene',\n",
       " 'entity_two': 'EIF2AK1',\n",
       " 'entity_two_type': 'Gene',\n",
       " 'entity_one_transformed': 'SF3B1',\n",
       " 'entity_two_transformed': 'EIF2AK1',\n",
       " 'transformed_triple': ('SF3B1', 'lead', 'EIF2AK1', '35926182'),\n",
       " 'verb': 'lead'}"
      ]
     },
     "execution_count": 70,
     "metadata": {},
     "output_type": "execute_result"
    }
   ],
   "source": [
    "triplelistnew[0]"
   ]
  },
  {
   "cell_type": "code",
   "execution_count": 71,
   "id": "91be1251-5b67-4a60-9e01-8c905cd5504b",
   "metadata": {},
   "outputs": [],
   "source": [
    "import time\n",
    "import datetime\n",
    "import re\n",
    "dropout=[]\n",
    "months=['Jan','Feb','Mar','Apr','May','Jun','Jul','Aug','Sep','Oct','Nov','Dec']\n",
    "import re\n",
    "def cal_date(i):\n",
    "    j=i\n",
    "    if re.search('[S,s]upplement',j,flags=re.M|re.I):\n",
    "        j=re.sub('[S,s]upplement.*','',j,flags=re.M|re.I)\n",
    "    j=re.sub('\\s?-\\s?','-',j)\n",
    "    j=re.sub('\\.','',j)\n",
    "    j=re.sub('Aout','Aug',j)\n",
    "    if len(j.split(' '))==3:\n",
    "        try:\n",
    "            date=int(datetime.datetime.strftime(datetime.datetime.strptime(j,'%Y %b %d'), '%Y%m%d'))\n",
    "        except:\n",
    "            if j.split()[1] in months:\n",
    "                if re.search(r'\\d+',j.split()[2],flags=re.M|re.I):\n",
    "                    j=j.split()[0]+' '+j.split()[1]+' '+ re.search(r'\\d+',j.split()[2],flags=re.M|re.I).group()\n",
    "                    try:\n",
    "                        date=int(datetime.datetime.strftime(datetime.datetime.strptime(j,'%Y %b %d'), '%Y%m%d'))\n",
    "                    except:\n",
    "                        j=j[:4]\n",
    "                        date=int(datetime.datetime.strftime(datetime.datetime.strptime(j,'%Y'), '%Y'+'0101'))\n",
    "                        print('***************************************ERROR**********************************************')\n",
    "                else:\n",
    "                    j=j.split()[0]+' '+j.split()[1]+' '+ '1'\n",
    "                    try:\n",
    "                        date=int(datetime.datetime.strftime(datetime.datetime.strptime(j,'%Y %b %d'), '%Y%m%d'))\n",
    "                    except:\n",
    "                        print(j)\n",
    "                        j=j[:4]\n",
    "                        date=int(datetime.datetime.strftime(datetime.datetime.strptime(j,'%Y'), '%Y'+'0101'))\n",
    "            elif j.split()[1] not in months:\n",
    "                if re.search(r'([a-zA-Z]+)[-/]([a-zA-Z]+)',j.split()[1],flags=re.M|re.I) or re.search(r'([a-zA-Z]+)[-/](\\d+)',j.split()[1],flags=re.M|re.I):\n",
    "                    if re.search(r'([a-zA-Z]+)[-/]([a-zA-Z]+)',j.split()[1],flags=re.M|re.I):\n",
    "                        middle=re.search(r'([a-zA-Z]+)[-/]([a-zA-Z]+)',j.split()[1],flags=re.M|re.I).group(1)\n",
    "                    else:\n",
    "                        middle=re.search(r'([a-zA-Z]+)[-/](\\d+)',j.split()[1],flags=re.M|re.I).group(1)\n",
    "                    if middle in months:\n",
    "                        if re.search(r'\\d+',j.split()[2],flags=re.M|re.I):\n",
    "                            j=j.split()[0]+' '+middle+' '+ re.search(r'\\d+',j.split()[2],flags=re.M|re.I).group()\n",
    "                        else:\n",
    "                            j=j.split()[0]+' '+middle+' '+ '1'\n",
    "                    elif re.match(r'Sum(mer)?',middle):\n",
    "                        if re.search(r'\\d+',j.split()[2],flags=re.M|re.I):\n",
    "                            j=j.split()[0]+' '+'Jun'+' '+ re.search(r'\\d+',j.split()[2],flags=re.M|re.I).group()\n",
    "                        else:\n",
    "                            j=j.split()[0]+' '+'Jun'+' '+ '1'\n",
    "                    elif re.match(r'Spr(ing)?',middle):\n",
    "                        if re.search(r'\\d+',j.split()[2],flags=re.M|re.I):\n",
    "                            j=j.split()[0]+' '+'Mar'+' '+ re.search(r'\\d+',j.split()[2],flags=re.M|re.I).group()\n",
    "                        else:\n",
    "                            j=j.split()[0]+' '+'Mar'+' '+ '1'\n",
    "                    elif re.match(r'Win(ter)?',middle):\n",
    "                        if re.search(r'\\d+',j.split()[2],flags=re.M|re.I):\n",
    "                            j=j.split()[0]+' '+'Dec'+' '+ re.search(r'\\d+',j.split()[2],flags=re.M|re.I).group()\n",
    "                        else:\n",
    "                            j=j.split()[0]+' '+'Dec'+' '+ '1'    \n",
    "                    elif re.match(r'Aut(umn)?',middle) or \\\n",
    "                    re.match(r'Fall',middle):\n",
    "                        if re.search(r'\\d+',j.split()[2],flags=re.M|re.I):\n",
    "                            j=j.split()[0]+' '+'Sep'+' '+ re.search(r'\\d+',j.split()[2],flags=re.M|re.I).group()\n",
    "                        else:\n",
    "                            j=j.split()[0]+' '+'Sep'+' '+ '1'      \n",
    "                    try:\n",
    "                        date=int(datetime.datetime.strftime(datetime.datetime.strptime(j,'%Y %b %d'), '%Y%m%d'))\n",
    "                    except:\n",
    "                        print(j)\n",
    "                        j=j[:4]\n",
    "                        date=int(datetime.datetime.strftime(datetime.datetime.strptime(j,'%Y'), '%Y'+'0101'))\n",
    "                else:\n",
    "                    j=j[:4]\n",
    "                    date=int(datetime.datetime.strftime(datetime.datetime.strptime(j,'%Y'), '%Y'+'0101'))\n",
    "    elif len(j.split())==2:\n",
    "        if re.match(r'Sum(mer)?',j.split()[1]):\n",
    "            date=int(j[:4]+'0601')\n",
    "        elif re.match(r'Spr(ing)?',j.split()[1]):\n",
    "            date=int(j[:4]+'0301')\n",
    "        elif re.match(r'Win(ter)?',j.split()[1]):\n",
    "            date=int(j[:4]+'1201')\n",
    "        elif re.match(r'Aut(umn)?',j.split()[1]) or re.match(r'Fall',j.split()[1]):\n",
    "            date=int(j[:4]+'0901')\n",
    "        elif re.match(r'Sum(mer)?',j.split()[0]):\n",
    "            date=int(j[-4:]+'0601')\n",
    "        elif re.match(r'Spr(ing)?',j.split()[0]):\n",
    "            date=int(j[-4:]+'0301')\n",
    "        elif re.match(r'Win(ter)?',j.split()[0]):\n",
    "            date=int(j[-4:]+'1201')\n",
    "        elif re.match(r'Aut(umn)?',j.split()[0]) or re.match(r'Fall',j.split()[0]):\n",
    "            date=int(j[-4:]+'0901')\n",
    "        else:\n",
    "            try:\n",
    "                date=int(datetime.datetime.strftime(datetime.datetime.strptime(j,'%Y %b'), '%Y%m'+'01'))\n",
    "            except:\n",
    "                if re.search(r'([a-zA-Z]+)[-/]([a-zA-Z]+)',j.split()[1],flags=re.M|re.I) or re.search(r'([a-zA-Z]+)[-/](\\d+)',j.split()[1],flags=re.M|re.I):\n",
    "                    if re.search(r'([a-zA-Z]+)[-/]([a-zA-Z]+)',j.split()[1],flags=re.M|re.I):\n",
    "                        middle=re.search(r'([a-zA-Z]+)[-/]([a-zA-Z]+)',j.split()[1],flags=re.M|re.I).group(1)\n",
    "                    else:\n",
    "                        middle=re.search(r'([a-zA-Z]+)[-/](\\d+)',j.split()[1],flags=re.M|re.I).group(1)\n",
    "                    if middle in months:\n",
    "                        j=j.split()[0]+' '+middle+' '+ '1'\n",
    "                    elif re.match(r'Sum(mer)?',middle):\n",
    "                        j=j.split()[0]+' '+'Jun'+' '+ '1'\n",
    "                    elif re.match(r'Spr(ing)?',middle):\n",
    "                        j=j.split()[0]+' '+'Mar'+' '+ '1'\n",
    "                    elif re.match(r'Win(ter)?',middle):\n",
    "                        j=j.split()[0]+' '+'Dec'+' '+ '1'    \n",
    "                    elif re.match(r'Aut(umn)?',middle) or \\\n",
    "                    re.match(r'Fall',middle):\n",
    "                        j=j.split()[0]+' '+'Sep'+' '+ '1'      \n",
    "                    try:\n",
    "                        date=int(datetime.datetime.strftime(datetime.datetime.strptime(j,'%Y %b %d'), '%Y%m%d'))\n",
    "                    except:\n",
    "                        j=j[:4]\n",
    "                        date=int(datetime.datetime.strftime(datetime.datetime.strptime(j,'%Y'), '%Y'+'0101'))\n",
    "                elif re.search(r'(\\d+)[-/](\\d+)',j.split()[1],flags=re.M|re.I):\n",
    "                    midd=re.search(r'(\\d+)[-/](\\d+)',j.split()[1],flags=re.M|re.I).group(1)\n",
    "                    if len(midd)!=2:\n",
    "                        midd='0'+midd\n",
    "                    j=j[:4]\n",
    "                    date=int(datetime.datetime.strftime(datetime.datetime.strptime(j,'%Y'), '%Y'+midd+'01'))\n",
    "                else:\n",
    "                    print(j)\n",
    "                    j=j[:4]\n",
    "                    date=int(datetime.datetime.strftime(datetime.datetime.strptime(j,'%Y'), '%Y'+'0101'))\n",
    "    elif len(j.split())==1:\n",
    "        j=j[:4]\n",
    "        date=int(datetime.datetime.strftime(datetime.datetime.strptime(j,'%Y'), '%Y'+'0101'))\n",
    "    else:\n",
    "        j=j.split()[0]+' '+j.split()[1]+' '+re.search(r'\\d+',j.split()[2],flags=re.M|re.I).group()\n",
    "        date=int(datetime.datetime.strftime(datetime.datetime.strptime(j,'%Y %b %d'), '%Y%m%d'))\n",
    "    return date\n"
   ]
  },
  {
   "cell_type": "markdown",
   "id": "5a3091a8-2f16-4682-b89b-427185f89ad5",
   "metadata": {},
   "source": [
    "his=[]\n",
    "for i in triplelistnew:\n",
    "    if not jt2if_brief.get(pubtator_info_dict.get(i.get('PMID')).get('TA').lower()) and jt2if_brief.get(pubtator_info_dict.get(i.get('PMID')).get('TA').lower())!=0.0:\n",
    "        if not jt2if_all.get(pubtator_info_dict.get(i.get('PMID')).get('JT').lower()) and jt2if_all.get(pubtator_info_dict.get(i.get('PMID')).get('JT').lower())!=0.0:\n",
    "            his.append(i)"
   ]
  },
  {
   "cell_type": "markdown",
   "id": "1e5baa58-d9a6-4b24-a1e2-de6c5880ffad",
   "metadata": {},
   "source": [
    "len(triplelistnew)"
   ]
  },
  {
   "cell_type": "markdown",
   "id": "34074018-7f1c-44ce-a488-7064db261d65",
   "metadata": {},
   "source": [
    "# 42529\n",
    "len(his)"
   ]
  },
  {
   "cell_type": "markdown",
   "id": "20cda325-a538-4753-a6f5-95623b4918df",
   "metadata": {},
   "source": [
    "hiss=[]\n",
    "for i in triplelistnew:\n",
    "    if not jt2if_brief.get(pubtator_info_dict.get(i.get('PMID')).get('TA').lower()) and jt2if_brief.get(pubtator_info_dict.get(i.get('PMID')).get('TA').lower())!=0.0:\n",
    "        if not jt2if_all.get(pubtator_info_dict.get(i.get('PMID')).get('JT').lower()) and jt2if_all.get(pubtator_info_dict.get(i.get('PMID')).get('JT').lower())!=0.0:\n",
    "            hiss.append(pubtator_info_dict.get(i.get('PMID')).get('JT').lower())"
   ]
  },
  {
   "cell_type": "markdown",
   "id": "aeb406b2-1072-44a9-8112-44bf53929cab",
   "metadata": {},
   "source": [
    "len(list(set(hiss)))"
   ]
  },
  {
   "cell_type": "markdown",
   "id": "d9cfae27-9d89-47b9-bfff-36e376b7623e",
   "metadata": {},
   "source": [
    "list(set(hiss))[:30]"
   ]
  },
  {
   "cell_type": "markdown",
   "id": "3cb203ed-c4db-4449-998c-e7b1cb88b893",
   "metadata": {},
   "source": [
    "jt2if_brief.get(pubtator_info_dict.get(his[100].get('PMID')).get('TA').lower())"
   ]
  },
  {
   "cell_type": "code",
   "execution_count": 72,
   "id": "9cd98161-67da-4eee-871a-22eb4fe474db",
   "metadata": {},
   "outputs": [],
   "source": [
    "for i in triplelistnew:\n",
    "    if jt2if_brief.get(pubtator_info_dict.get(i.get('PMID')).get('TA').lower()):\n",
    "        i['IF']=jt2if_brief.get(pubtator_info_dict.get(i.get('PMID')).get('TA').lower())\n",
    "    elif jt2if_all.get(pubtator_info_dict.get(i.get('PMID')).get('JT').lower()):\n",
    "        i['IF']=jt2if_all.get(pubtator_info_dict.get(i.get('PMID')).get('JT').lower())\n",
    "    else:\n",
    "        i['IF']=0.0\n",
    "    if jt2if5_brief.get(pubtator_info_dict.get(i.get('PMID')).get('TA').lower()):\n",
    "        i['IF5']=jt2if5_brief.get(pubtator_info_dict.get(i.get('PMID')).get('TA').lower())\n",
    "    elif jt2if5_all.get(pubtator_info_dict.get(i.get('PMID')).get('JT').lower()):\n",
    "        i['IF5']=jt2if5_all.get(pubtator_info_dict.get(i.get('PMID')).get('JT').lower())\n",
    "    else:\n",
    "        i['IF5']=0.0"
   ]
  },
  {
   "cell_type": "code",
   "execution_count": 167,
   "id": "8f359558-3d2b-42c7-94b1-daca5513ce0c",
   "metadata": {},
   "outputs": [
    {
     "data": {
      "text/plain": [
       "{'triple': ['SF3B1', 'lead', 'EIF2AK1'],\n",
       " 'PMID': '35926182',\n",
       " 'sentence': 'Here, using single-cell technologies and functional validation studies of primary SF3B1-mutant MDS-RS samples, we show that SF3B1 mutations lead to the activation of the EIF2AK1 pathway in response to heme deficiency and that targeting this pathway rescues aberrant erythroid differentiation and enables the red blood cell maturation of MDS-RS erythroblasts.',\n",
       " 'AB': 'SF3B1 mutations, which occur in 20% of patients with myelodysplastic syndromes (MDS), are the hallmarks of a specific MDS subtype, MDS with ringed sideroblasts (MDS-RS), which is characterized by the accumulation of erythroid precursors in the bone marrow and primarily affects the elderly population. Here, using single-cell technologies and functional validation studies of primary SF3B1-mutant MDS-RS samples, we show that SF3B1 mutations lead to the activation of the EIF2AK1 pathway in response to heme deficiency and that targeting this pathway rescues aberrant erythroid differentiation and enables the red blood cell maturation of MDS-RS erythroblasts. These data support the development of EIF2AK1 inhibitors to overcome transfusion dependency in patients with SF3B1-mutant MDS-RS with impaired red blood cell production.',\n",
       " 'entity_one': 'SF3B1',\n",
       " 'entity_one_type': 'Gene',\n",
       " 'entity_two': 'EIF2AK1',\n",
       " 'entity_two_type': 'Gene',\n",
       " 'entity_one_transformed': 'SF3B1',\n",
       " 'entity_two_transformed': 'EIF2AK1',\n",
       " 'transformed_triple': ('SF3B1', 'lead', 'EIF2AK1', '35926182'),\n",
       " 'verb': 'lead',\n",
       " 'IF': 0.0,\n",
       " 'IF5': 0.0}"
      ]
     },
     "execution_count": 167,
     "metadata": {},
     "output_type": "execute_result"
    }
   ],
   "source": [
    "triplelistnew[0]"
   ]
  },
  {
   "cell_type": "code",
   "execution_count": 168,
   "id": "f938f6bc-9a5e-4f78-9792-451b246dcf74",
   "metadata": {},
   "outputs": [],
   "source": [
    "'''计算同一组triple分别在哪些文章那些句子中出现'''\n",
    "relation_interpolation_list=[]\n",
    "relation_interpolation_dict={}\n",
    "for i in triplelistnew:\n",
    "    if (i.get('entity_one_transformed'),i.get('triple')[1], i.get('entity_two_transformed')) not in relation_interpolation_dict.keys():\n",
    "        relation_interpolation_dict[(i.get('entity_one_transformed'),i.get('triple')[1], i.get('entity_two_transformed'))]={'from':entitynum.get(i.get('entity_one_transformed'))-1,\n",
    "                                   'to':entitynum.get(i.get('entity_two_transformed'))-1,'relation':i.get('triple')[1],\n",
    "                                   'PMID':[i.get('PMID')],'sentence':[i.get('sentence')],\n",
    "                                   'DP':[pubtator_info_dict.get(i.get('PMID')).get('DP')],\n",
    "                                   'TI':[pubtator_info_dict.get(i.get('PMID')).get('TI')],\n",
    "                                    'TA':[pubtator_info_dict.get(i.get('PMID')).get('TA')],\n",
    "                                    'IF':[i.get('IF')],   'IF5':[i.get('IF5')],   \n",
    "                                    'date':[cal_date(pubtator_info_dict.get(i.get('PMID')).get('DP'))],\n",
    "                                    'first_entity_transformed':i.get('entity_one_transformed'),'second_entity_transformed':i.get('entity_two_transformed'),                                                     \n",
    "                                    'first_entity':[i.get('entity_one')],'second_entity':[i.get('entity_two')],\n",
    "                                    'first_type':i.get('entity_one_type'),'second_type':i.get('entity_two_type')}\n",
    "\n",
    "    else:\n",
    "        relation_interpolation_dict[(i.get('entity_one_transformed'),i.get('triple')[1], i.get('entity_two_transformed'))]['PMID']=relation_interpolation_dict.get((i.get('entity_one_transformed'),i.get('triple')[1], i.get('entity_two_transformed'))).get('PMID')+[i.get('PMID')]\n",
    "        relation_interpolation_dict[(i.get('entity_one_transformed'),i.get('triple')[1], i.get('entity_two_transformed'))]['sentence']=relation_interpolation_dict.get((i.get('entity_one_transformed'),i.get('triple')[1], i.get('entity_two_transformed'))).get('sentence')+[i.get('sentence')]\n",
    "        relation_interpolation_dict[(i.get('entity_one_transformed'),i.get('triple')[1], i.get('entity_two_transformed'))]['first_entity']=relation_interpolation_dict.get((i.get('entity_one_transformed'),i.get('triple')[1], i.get('entity_two_transformed'))).get('first_entity')+[i.get('entity_one')]\n",
    "        relation_interpolation_dict[(i.get('entity_one_transformed'),i.get('triple')[1], i.get('entity_two_transformed'))]['second_entity']=relation_interpolation_dict.get((i.get('entity_one_transformed'),i.get('triple')[1], i.get('entity_two_transformed'))).get('second_entity')+[i.get('entity_two')]\n",
    "        relation_interpolation_dict[(i.get('entity_one_transformed'),i.get('triple')[1], i.get('entity_two_transformed'))]['DP']=relation_interpolation_dict.get((i.get('entity_one_transformed'),i.get('triple')[1], i.get('entity_two_transformed'))).get('DP')+[pubtator_info_dict.get(i.get('PMID')).get('DP')]\n",
    "        relation_interpolation_dict[(i.get('entity_one_transformed'),i.get('triple')[1], i.get('entity_two_transformed'))]['TI']=relation_interpolation_dict.get((i.get('entity_one_transformed'),i.get('triple')[1], i.get('entity_two_transformed'))).get('TI')+[pubtator_info_dict.get(i.get('PMID')).get('TI')]\n",
    "        relation_interpolation_dict[(i.get('entity_one_transformed'),i.get('triple')[1], i.get('entity_two_transformed'))]['TA']=relation_interpolation_dict.get((i.get('entity_one_transformed'),i.get('triple')[1], i.get('entity_two_transformed'))).get('TA')+[pubtator_info_dict.get(i.get('PMID')).get('TA')]\n",
    "        relation_interpolation_dict[(i.get('entity_one_transformed'),i.get('triple')[1], i.get('entity_two_transformed'))]['date']=relation_interpolation_dict.get((i.get('entity_one_transformed'),i.get('triple')[1], i.get('entity_two_transformed'))).get('date')+[cal_date(pubtator_info_dict.get(i.get('PMID')).get('DP'))]\n",
    "        relation_interpolation_dict[(i.get('entity_one_transformed'),i.get('triple')[1], i.get('entity_two_transformed'))]['IF']=relation_interpolation_dict.get((i.get('entity_one_transformed'),i.get('triple')[1], i.get('entity_two_transformed'))).get('IF')+[i.get('IF')]\n",
    "        relation_interpolation_dict[(i.get('entity_one_transformed'),i.get('triple')[1], i.get('entity_two_transformed'))]['IF5']=relation_interpolation_dict.get((i.get('entity_one_transformed'),i.get('triple')[1], i.get('entity_two_transformed'))).get('IF5')+[i.get('IF5')]"
   ]
  },
  {
   "cell_type": "markdown",
   "id": "8cf246ff-0a94-40ea-a351-7021738d13e6",
   "metadata": {},
   "source": [
    "'''计算同一组triple分别在哪些文章那些句子中出现'''\n",
    "relation_interpolation_list=[]\n",
    "relation_interpolation_dict={}\n",
    "for i in triplelistnew:\n",
    "    if (i.get('entity_one_transformed'),i.get('verb'), i.get('entity_two_transformed')) not in relation_interpolation_dict.keys():\n",
    "        relation_interpolation_dict[(i.get('entity_one_transformed'),i.get('verb'), i.get('entity_two_transformed'))]={'from':entitynum.get(i.get('entity_one_transformed'))-1,\n",
    "                                   'to':entitynum.get(i.get('entity_two_transformed'))-1,'relation':i.get('verb'),\n",
    "                                   'PMID':[i.get('PMID')],'sentence':[i.get('sentence')],\n",
    "                                    'first_entity_transformed':i.get('entity_one_transformed'),'second_entity_transformed':i.get('entity_two_transformed'),                                                     \n",
    "                                    'first_entity':[i.get('entity_one')],'second_entity':[i.get('entity_two')]}\n",
    "    else:\n",
    "        relation_interpolation_dict[(i.get('entity_one_transformed'),i.get('verb'), i.get('entity_two_transformed'))]['PMID']=relation_interpolation_dict.get((i.get('entity_one_transformed'),i.get('verb'), i.get('entity_two_transformed'))).get('PMID')+[i.get('PMID')]\n",
    "        relation_interpolation_dict[(i.get('entity_one_transformed'),i.get('verb'), i.get('entity_two_transformed'))]['sentence']=relation_interpolation_dict.get((i.get('entity_one_transformed'),i.get('verb'), i.get('entity_two_transformed'))).get('sentence')+[i.get('sentence')]\n",
    "        relation_interpolation_dict[(i.get('entity_one_transformed'),i.get('verb'), i.get('entity_two_transformed'))]['first_entity']=relation_interpolation_dict.get((i.get('entity_one_transformed'),i.get('verb'), i.get('entity_two_transformed'))).get('first_entity')+[i.get('entity_one')]\n",
    "        relation_interpolation_dict[(i.get('entity_one_transformed'),i.get('verb'), i.get('entity_two_transformed'))]['second_entity']=relation_interpolation_dict.get((i.get('entity_one_transformed'),i.get('verb'), i.get('entity_two_transformed'))).get('second_entity')+[i.get('entity_two')]"
   ]
  },
  {
   "cell_type": "code",
   "execution_count": 169,
   "id": "c7c5c55b-a3c8-4639-9727-1982f6f32d17",
   "metadata": {},
   "outputs": [
    {
     "data": {
      "text/plain": [
       "(('rs1001179', 'investigated', 'Cataract'),\n",
       " {'from': 10,\n",
       "  'to': 5,\n",
       "  'relation': 'investigated',\n",
       "  'PMID': ['35556207'],\n",
       "  'sentence': ['Association of SOD1 50 bp Indel, GPX1 (rs1800668), and CAT (rs1001179) genotypes with all clinical variables was investigated in cataract groups by regression statistics in SPSS  16.0.'],\n",
       "  'DP': ['2022 Sep'],\n",
       "  'TI': ['Clinical Association of Biochemical Variations Among Multilocus Genotypes of Antioxidant Enzymes with Susceptibility of Cataract in Hyperglycemia.'],\n",
       "  'TA': ['Appl Biochem Biotechnol'],\n",
       "  'IF': [3.094],\n",
       "  'IF5': [2.973],\n",
       "  'date': [20220901],\n",
       "  'first_entity_transformed': 'rs1001179',\n",
       "  'second_entity_transformed': 'Cataract',\n",
       "  'first_entity': ['rs1001179'],\n",
       "  'second_entity': ['cataract'],\n",
       "  'first_type': 'Mutation',\n",
       "  'second_type': 'Disease'})"
      ]
     },
     "execution_count": 169,
     "metadata": {},
     "output_type": "execute_result"
    }
   ],
   "source": [
    "list(relation_interpolation_dict.items())[10]"
   ]
  },
  {
   "cell_type": "code",
   "execution_count": 170,
   "id": "4c83650e-0ff2-46a2-aefc-91887289b030",
   "metadata": {},
   "outputs": [],
   "source": [
    "relation_interpolation_list=list(relation_interpolation_dict.values())"
   ]
  },
  {
   "cell_type": "code",
   "execution_count": 171,
   "id": "457fb10b-effc-4eb9-9eed-e0d8ed5243ae",
   "metadata": {},
   "outputs": [
    {
     "name": "stdout",
     "output_type": "stream",
     "text": [
      "0\n",
      "0\n",
      "0\n",
      "0\n",
      "0\n"
     ]
    }
   ],
   "source": [
    "for i in relation_interpolation_list:\n",
    "    if i.get('from')==0:\n",
    "        print(i.get('from'))"
   ]
  },
  {
   "cell_type": "code",
   "execution_count": 172,
   "id": "aae86e51-3119-4ae9-85d1-ca6b58ddc468",
   "metadata": {},
   "outputs": [
    {
     "data": {
      "text/plain": [
       "99033"
      ]
     },
     "execution_count": 172,
     "metadata": {},
     "output_type": "execute_result"
    }
   ],
   "source": [
    "# 51551\n",
    "len(relation_interpolation_list)"
   ]
  },
  {
   "cell_type": "markdown",
   "id": "05e72823-ec20-4870-bccb-d71b5272b1e7",
   "metadata": {},
   "source": [
    "c=0\n",
    "for i in relation_interpolation_list:\n",
    "    if len(i.get('first_entity'))!=1:\n",
    "        c+=1\n",
    "        if c<=10:\n",
    "            print(i)\n",
    "        else:\n",
    "            break"
   ]
  },
  {
   "cell_type": "code",
   "execution_count": 79,
   "id": "8728c501-48fd-4ec4-846b-9dc424c55f7e",
   "metadata": {},
   "outputs": [],
   "source": [
    "'''一个entity对应所有可能的句子和PMID'''\n",
    "entity2content={}\n",
    "for i,j in enumerate(triplelistnew):\n",
    "    if j.get('entity_one_transformed') in entity2content.keys():\n",
    "        entity2content[j.get('entity_one_transformed')]['sentence']=entity2content.get(j.get('entity_one_transformed')).get('sentence')+[j.get('sentence')]\n",
    "        entity2content[j.get('entity_one_transformed')]['PMID']=entity2content.get(j.get('entity_one_transformed')).get('PMID')+[j.get('PMID')]\n",
    "        entity2content[j.get('entity_one_transformed')]['entity']=entity2content.get(j.get('entity_one_transformed')).get('entity')+[j.get('entity_one')]\n",
    "        entity2content[j.get('entity_one_transformed')]['DP']=entity2content.get(j.get('entity_one_transformed')).get('DP')+[pubtator_info_dict.get(j.get('PMID')).get('DP')]\n",
    "        entity2content[j.get('entity_one_transformed')]['TI']=entity2content.get(j.get('entity_one_transformed')).get('TI')+[pubtator_info_dict.get(j.get('PMID')).get('TI')]\n",
    "        entity2content[j.get('entity_one_transformed')]['TA']=entity2content.get(j.get('entity_one_transformed')).get('TA')+[pubtator_info_dict.get(j.get('PMID')).get('TA')]\n",
    "        entity2content[j.get('entity_one_transformed')]['date']=entity2content.get(j.get('entity_one_transformed')).get('date')+[cal_date(pubtator_info_dict.get(j.get('PMID')).get('DP'))]\n",
    "        entity2content[j.get('entity_one_transformed')]['IF']=entity2content.get(j.get('entity_one_transformed')).get('IF')+[j.get('IF')]\n",
    "        entity2content[j.get('entity_one_transformed')]['IF5']=entity2content.get(j.get('entity_one_transformed')).get('IF5')+[j.get('IF5')]\n",
    "    else:\n",
    "        entity2content[j.get('entity_one_transformed')]={'entity_transformed':j.get('entity_one_transformed'),'entity':[j.get('entity_one')],'sentence':[j.get('sentence')],'PMID':[j.get('PMID')],\n",
    "                                                         'DP':[pubtator_info_dict.get(j.get('PMID')).get('DP')],'TI':[pubtator_info_dict.get(j.get('PMID')).get('TI')],\n",
    "                                                        'TA':[pubtator_info_dict.get(j.get('PMID')).get('TA')],'date':[cal_date(pubtator_info_dict.get(j.get('PMID')).get('DP'))],\n",
    "                                                        'IF':[j.get('IF')],'IF5':[j.get('IF5')]}\n",
    "    if j.get('entity_two_transformed') in entity2content.keys():\n",
    "        entity2content[j.get('entity_two_transformed')]['sentence']=entity2content.get(j.get('entity_two_transformed')).get('sentence')+[j.get('sentence')]\n",
    "        entity2content[j.get('entity_two_transformed')]['PMID']=entity2content.get(j.get('entity_two_transformed')).get('PMID')+[j.get('PMID')]\n",
    "        entity2content[j.get('entity_two_transformed')]['entity']=entity2content.get(j.get('entity_two_transformed')).get('entity')+[j.get('entity_two')]\n",
    "        entity2content[j.get('entity_two_transformed')]['DP']=entity2content.get(j.get('entity_two_transformed')).get('DP')+[pubtator_info_dict.get(j.get('PMID')).get('DP')]\n",
    "        entity2content[j.get('entity_two_transformed')]['TI']=entity2content.get(j.get('entity_two_transformed')).get('TI')+[pubtator_info_dict.get(j.get('PMID')).get('TI')]\n",
    "        entity2content[j.get('entity_two_transformed')]['TA']=entity2content.get(j.get('entity_two_transformed')).get('TA')+[pubtator_info_dict.get(j.get('PMID')).get('TA')]\n",
    "        entity2content[j.get('entity_two_transformed')]['date']=entity2content.get(j.get('entity_two_transformed')).get('date')+[cal_date(pubtator_info_dict.get(j.get('PMID')).get('DP'))]\n",
    "        entity2content[j.get('entity_two_transformed')]['IF']=entity2content.get(j.get('entity_two_transformed')).get('IF')+[j.get('IF')]\n",
    "        entity2content[j.get('entity_two_transformed')]['IF5']=entity2content.get(j.get('entity_two_transformed')).get('IF5')+[j.get('IF5')]\n",
    "    else:\n",
    "        entity2content[j.get('entity_two_transformed')]={'entity_transformed':j.get('entity_two_transformed'),'entity':[j.get('entity_two')],'sentence':[j.get('sentence')],'PMID':[j.get('PMID')],\n",
    "                                                         'DP':[pubtator_info_dict.get(j.get('PMID')).get('DP')],'TI':[pubtator_info_dict.get(j.get('PMID')).get('TI')],\n",
    "                                                        'TA':[pubtator_info_dict.get(j.get('PMID')).get('TA')],'date':[cal_date(pubtator_info_dict.get(j.get('PMID')).get('DP'))],\n",
    "                                                        'IF':[j.get('IF')],'IF5':[j.get('IF5')]}"
   ]
  },
  {
   "cell_type": "code",
   "execution_count": 80,
   "id": "f680a4e3-7be1-410a-92be-30f1a1410f3c",
   "metadata": {},
   "outputs": [
    {
     "data": {
      "text/plain": [
       "6181"
      ]
     },
     "execution_count": 80,
     "metadata": {},
     "output_type": "execute_result"
    }
   ],
   "source": [
    "# 9480\n",
    "len(entity2content)"
   ]
  },
  {
   "cell_type": "markdown",
   "id": "1c0548d5-c653-4896-afdc-6dc4c2ae639e",
   "metadata": {},
   "source": [
    "list(entity2content.items())[1041]"
   ]
  },
  {
   "cell_type": "code",
   "execution_count": 81,
   "id": "7e1f42c3-08e0-48d5-8e76-9caa84a048d3",
   "metadata": {},
   "outputs": [],
   "source": [
    "entity2list=list(entity2content.values())"
   ]
  },
  {
   "cell_type": "markdown",
   "id": "0ff6ee4e-8c25-47a6-80fb-ec7e3a4c0276",
   "metadata": {},
   "source": [
    "entity2list[1001]"
   ]
  },
  {
   "cell_type": "code",
   "execution_count": 82,
   "id": "8fed53ff-496d-429c-a1fd-9c553cc9c7c7",
   "metadata": {},
   "outputs": [
    {
     "data": {
      "text/plain": [
       "6181"
      ]
     },
     "execution_count": 82,
     "metadata": {},
     "output_type": "execute_result"
    }
   ],
   "source": [
    "len(entity2list)"
   ]
  },
  {
   "cell_type": "code",
   "execution_count": 83,
   "id": "e6af434a-0c6f-40c7-abb0-48cfa50c1bf1",
   "metadata": {},
   "outputs": [],
   "source": [
    "for i in entity2list:\n",
    "    i['_id']=i.get('entity_transformed')"
   ]
  },
  {
   "cell_type": "code",
   "execution_count": 84,
   "id": "ded6fcdb-54ff-451d-8834-f5597ebead3e",
   "metadata": {},
   "outputs": [
    {
     "data": {
      "text/plain": [
       "{'entity_transformed': 'WNT1',\n",
       " 'entity': ['Wnt1',\n",
       "  'Wnt1',\n",
       "  'WNT1',\n",
       "  'Wnt1',\n",
       "  'Wnt1',\n",
       "  'WNT1',\n",
       "  'WNT1',\n",
       "  'Wnt1',\n",
       "  'Wnt1',\n",
       "  'Wnt1'],\n",
       " 'sentence': ['In HKC-8 cells, Klotho significantly inhibited Wnt1- and Wnt9a-induced mitochondrial injury, cellular senescence, and fibrotic lesions.',\n",
       "  'Quantitative real-time PCR shown that Wnt1, Wnt5a, Wnt7a, and Wnt9a mRNAs were lower expressed in osteoporosis derived EVs.',\n",
       "  'Loss-of-function variants in LRP5 and WNT1 may lead to early-onset osteoporosis.',\n",
       "  'Besides, Klotho caused downregulation of Wnt1 level, upregulation of phosphorylated cyclic AMP response element binding (pCREB), and mRNA levels of nuclear factor erythroid 2-related factor 2 (Nrf2) and heme oxygenase 1 (HO-1) with no significant alteration of epsilon isoform of protein kinase C (PKCepsilon) after Abeta toxicity.',\n",
       "  'Besides, Klotho caused downregulation of Wnt1 level, upregulation of phosphorylated cyclic AMP response element binding (pCREB), and mRNA levels of nuclear factor erythroid 2-related factor 2 (Nrf2) and heme oxygenase 1 (HO-1) with no significant alteration of epsilon isoform of protein kinase C (PKCepsilon) after Abeta toxicity.',\n",
       "  'WNT1 mutations in humans are associated with a new form of osteogenesis imperfecta and with early-onset osteoporosis, suggesting a key role of WNT1 in bone mass regulation.',\n",
       "  'WNT1 mutations in humans are associated with a new form of osteogenesis imperfecta and with early-onset osteoporosis, suggesting a key role of WNT1 in bone mass regulation.',\n",
       "  'We confirmed in vitro that Wnt3a or Wnt1 treatment of human vascular smooth muscle cells (VSMCs) induced beta-catenin phosphorylation at Ser675 and WISP1, SPP1, and IGFBP-2 expression.',\n",
       "  'We confirmed in vitro that Wnt3a or Wnt1 treatment of human vascular smooth muscle cells (VSMCs) induced beta-catenin phosphorylation at Ser675 and WISP1, SPP1, and IGFBP-2 expression.',\n",
       "  'Consistent with the phenotype, RT-qPCR array revealed that FGF9 (10 ng/mL) increased the expression of Icam1 while decreased the expression of Wnt1 and Wnt6 decreased, respectively.'],\n",
       " 'PMID': ['33463897',\n",
       "  '34375951',\n",
       "  '34236445',\n",
       "  '32627121',\n",
       "  '32627121',\n",
       "  '30404864',\n",
       "  '30404864',\n",
       "  '21108734',\n",
       "  '21108734',\n",
       "  '31735119'],\n",
       " 'DP': ['2021 Jan',\n",
       "  '2021 Aug 10',\n",
       "  '2022 May',\n",
       "  '2021 Jan',\n",
       "  '2021 Jan',\n",
       "  '2018 Nov 7',\n",
       "  '2018 Nov 7',\n",
       "  '2011 Apr',\n",
       "  '2011 Apr',\n",
       "  '2019 Dec'],\n",
       " 'TI': ['Klotho retards renal fibrosis through targeting mitochondrial dysfunction and cellular senescence in renal tubular cells.',\n",
       "  'Evaluation of the cargo contents and potential role of extracellular vesicles in osteoporosis.',\n",
       "  'Early-Onset Osteoporosis.',\n",
       "  'Anti-aging Klotho Protects SH-SY5Y Cells Against Amyloid beta1-42 Neurotoxicity: Involvement of Wnt1/pCREB/Nrf2/HO-1 Signaling.',\n",
       "  'Anti-aging Klotho Protects SH-SY5Y Cells Against Amyloid beta1-42 Neurotoxicity: Involvement of Wnt1/pCREB/Nrf2/HO-1 Signaling.',\n",
       "  'Wnt1 is an Lrp5-independent bone-anabolic Wnt ligand.',\n",
       "  'Wnt1 is an Lrp5-independent bone-anabolic Wnt ligand.',\n",
       "  'The Wnt/beta-catenin pathway is activated during advanced arterial aging in humans.',\n",
       "  'The Wnt/beta-catenin pathway is activated during advanced arterial aging in humans.',\n",
       "  'Fibroblast growth factor 9 (FGF9) inhibits myogenic differentiation of C2C12 and human muscle cells.'],\n",
       " 'TA': ['Physiol Rep',\n",
       "  'Aging (Albany NY)',\n",
       "  'Calcif Tissue Int',\n",
       "  'J Mol Neurosci',\n",
       "  'J Mol Neurosci',\n",
       "  'Sci Transl Med',\n",
       "  'Sci Transl Med',\n",
       "  'Aging Cell',\n",
       "  'Aging Cell',\n",
       "  'Cell Cycle'],\n",
       " 'date': [20210101,\n",
       "  20210810,\n",
       "  20220501,\n",
       "  20210101,\n",
       "  20210101,\n",
       "  20181107,\n",
       "  20181107,\n",
       "  20110401,\n",
       "  20110401,\n",
       "  20191201],\n",
       " 'IF': [0.0, 5.955, 4.0, 2.866, 2.866, 19.319, 19.319, 11.005, 11.005, 5.173],\n",
       " 'IF5': [0.0, 6.458, 4.227, 3.078, 3.078, 22.18, 22.18, 11.072, 11.072, 4.948],\n",
       " '_id': 'WNT1'}"
      ]
     },
     "execution_count": 84,
     "metadata": {},
     "output_type": "execute_result"
    }
   ],
   "source": [
    "entity2list[1001]"
   ]
  },
  {
   "cell_type": "code",
   "execution_count": 85,
   "id": "0f5cd222-86d7-40af-a796-813c657e78a8",
   "metadata": {},
   "outputs": [],
   "source": [
    "for i in entity2list:\n",
    "    i['type']=entitydict.get(i.get('entity_transformed')).split(';')"
   ]
  },
  {
   "cell_type": "code",
   "execution_count": 86,
   "id": "8ff13702-ce09-48fe-adc6-cff3c22bdab8",
   "metadata": {},
   "outputs": [
    {
     "data": {
      "text/plain": [
       "{'entity_transformed': 'rs1001179',\n",
       " 'entity': ['rs1001179'],\n",
       " 'sentence': ['Association of SOD1 50 bp Indel, GPX1 (rs1800668), and CAT (rs1001179) genotypes with all clinical variables was investigated in cataract groups by regression statistics in SPSS  16.0.'],\n",
       " 'PMID': ['35556207'],\n",
       " 'DP': ['2022 Sep'],\n",
       " 'TI': ['Clinical Association of Biochemical Variations Among Multilocus Genotypes of Antioxidant Enzymes with Susceptibility of Cataract in Hyperglycemia.'],\n",
       " 'TA': ['Appl Biochem Biotechnol'],\n",
       " 'date': [20220901],\n",
       " 'IF': [3.094],\n",
       " 'IF5': [2.973],\n",
       " '_id': 'rs1001179',\n",
       " 'type': ['Mutation']}"
      ]
     },
     "execution_count": 86,
     "metadata": {},
     "output_type": "execute_result"
    }
   ],
   "source": [
    "entity2list[10]"
   ]
  },
  {
   "cell_type": "code",
   "execution_count": 87,
   "id": "e3c37627-f2de-4b85-9dd3-f28068480cad",
   "metadata": {},
   "outputs": [],
   "source": [
    "import json\n",
    "json.dump(entity2list,open('entityinfo.json','w'))"
   ]
  },
  {
   "cell_type": "code",
   "execution_count": 88,
   "id": "24e55d5d-95cb-4f37-bf82-d886430a8674",
   "metadata": {},
   "outputs": [
    {
     "data": {
      "text/plain": [
       "[(('SF3B1', 'lead', 'EIF2AK1'),\n",
       "  {'from': 0,\n",
       "   'to': 1,\n",
       "   'relation': 'lead',\n",
       "   'PMID': ['35926182'],\n",
       "   'sentence': ['Here, using single-cell technologies and functional validation studies of primary SF3B1-mutant MDS-RS samples, we show that SF3B1 mutations lead to the activation of the EIF2AK1 pathway in response to heme deficiency and that targeting this pathway rescues aberrant erythroid differentiation and enables the red blood cell maturation of MDS-RS erythroblasts.'],\n",
       "   'DP': ['2022 Nov 2'],\n",
       "   'TI': ['Targeting the EIF2AK1 Signaling Pathway Rescues Red Blood Cell Production in SF3B1-Mutant Myelodysplastic Syndromes With Ringed Sideroblasts.'],\n",
       "   'TA': ['Blood Cancer Discov'],\n",
       "   'IF': [0.0],\n",
       "   'IF5': [0.0],\n",
       "   'date': [20221102],\n",
       "   'first_entity_transformed': 'SF3B1',\n",
       "   'second_entity_transformed': 'EIF2AK1',\n",
       "   'first_entity': ['SF3B1'],\n",
       "   'second_entity': ['EIF2AK1']}),\n",
       " (('SF3B1', 'lead', 'Protoporphyria, Erythropoietic'),\n",
       "  {'from': 0,\n",
       "   'to': 2,\n",
       "   'relation': 'lead',\n",
       "   'PMID': ['35926182'],\n",
       "   'sentence': ['Here, using single-cell technologies and functional validation studies of primary SF3B1-mutant MDS-RS samples, we show that SF3B1 mutations lead to the activation of the EIF2AK1 pathway in response to heme deficiency and that targeting this pathway rescues aberrant erythroid differentiation and enables the red blood cell maturation of MDS-RS erythroblasts.'],\n",
       "   'DP': ['2022 Nov 2'],\n",
       "   'TI': ['Targeting the EIF2AK1 Signaling Pathway Rescues Red Blood Cell Production in SF3B1-Mutant Myelodysplastic Syndromes With Ringed Sideroblasts.'],\n",
       "   'TA': ['Blood Cancer Discov'],\n",
       "   'IF': [0.0],\n",
       "   'IF5': [0.0],\n",
       "   'date': [20221102],\n",
       "   'first_entity_transformed': 'SF3B1',\n",
       "   'second_entity_transformed': 'Protoporphyria, Erythropoietic',\n",
       "   'first_entity': ['SF3B1'],\n",
       "   'second_entity': ['heme deficiency']}),\n",
       " (('SOD1', 'indicate', 'GPX1'),\n",
       "  {'from': 3,\n",
       "   'to': 4,\n",
       "   'relation': 'indicate',\n",
       "   'PMID': ['35556207'],\n",
       "   'sentence': ['Mutant genotype of SOD1 and CAT variants indicated significant association with TC, whereas GPX1 variant with FBG levels in accelerating predisposition of cataract in patients with diabetes (OR > 1.0).'],\n",
       "   'DP': ['2022 Sep'],\n",
       "   'TI': ['Clinical Association of Biochemical Variations Among Multilocus Genotypes of Antioxidant Enzymes with Susceptibility of Cataract in Hyperglycemia.'],\n",
       "   'TA': ['Appl Biochem Biotechnol'],\n",
       "   'IF': [3.094],\n",
       "   'IF5': [2.973],\n",
       "   'date': [20220901],\n",
       "   'first_entity_transformed': 'SOD1',\n",
       "   'second_entity_transformed': 'GPX1',\n",
       "   'first_entity': ['SOD1'],\n",
       "   'second_entity': ['GPX1']})]"
      ]
     },
     "execution_count": 88,
     "metadata": {},
     "output_type": "execute_result"
    }
   ],
   "source": [
    "list(relation_interpolation_dict.items())[:3]"
   ]
  },
  {
   "cell_type": "markdown",
   "id": "d3c68241-c53e-4d0a-85f9-17bda12d96b0",
   "metadata": {},
   "source": [
    "for i,j in relation_interpolation_dict.items():\n",
    "    if j.get('from')==768 and j.get('to')==2214:\n",
    "        print({i:j})"
   ]
  },
  {
   "cell_type": "markdown",
   "id": "fe42c80e-0db2-4a09-bde5-9cf8fa31d72d",
   "metadata": {},
   "source": [
    "for i,j in relation_interpolation_dict.items():\n",
    "    if j.get('first_entity_transformed')=='APOE' and j.get('second_entity_transformed')=='APOB':\n",
    "        print({i:j})"
   ]
  },
  {
   "cell_type": "code",
   "execution_count": 173,
   "id": "abf9a047-960b-43bb-9116-2a89006581b9",
   "metadata": {},
   "outputs": [
    {
     "data": {
      "text/plain": [
       "{'from': 10,\n",
       " 'to': 5,\n",
       " 'relation': 'investigated',\n",
       " 'PMID': ['35556207'],\n",
       " 'sentence': ['Association of SOD1 50 bp Indel, GPX1 (rs1800668), and CAT (rs1001179) genotypes with all clinical variables was investigated in cataract groups by regression statistics in SPSS  16.0.'],\n",
       " 'DP': ['2022 Sep'],\n",
       " 'TI': ['Clinical Association of Biochemical Variations Among Multilocus Genotypes of Antioxidant Enzymes with Susceptibility of Cataract in Hyperglycemia.'],\n",
       " 'TA': ['Appl Biochem Biotechnol'],\n",
       " 'IF': [3.094],\n",
       " 'IF5': [2.973],\n",
       " 'date': [20220901],\n",
       " 'first_entity_transformed': 'rs1001179',\n",
       " 'second_entity_transformed': 'Cataract',\n",
       " 'first_entity': ['rs1001179'],\n",
       " 'second_entity': ['cataract'],\n",
       " 'first_type': 'Mutation',\n",
       " 'second_type': 'Disease'}"
      ]
     },
     "execution_count": 173,
     "metadata": {},
     "output_type": "execute_result"
    }
   ],
   "source": [
    "relation_interpolation_list[10]"
   ]
  },
  {
   "cell_type": "code",
   "execution_count": 90,
   "id": "e06fc100-cc1a-4d75-bb98-a8873bf43874",
   "metadata": {},
   "outputs": [
    {
     "name": "stdout",
     "output_type": "stream",
     "text": [
      "{'from': 848, 'to': 2447, 'relation': 'confirm', 'PMID': ['33948810'], 'sentence': ['The analysis replicated a protein signature associated with APOE genotypes and confirmed strong overexpression of BIRC2 (p < 5E-16) and under-expression of APOB in carriers of the APOE2 allele (p < 0.05).'], 'DP': ['2021 Jun'], 'TI': ['Effect of longevity genetic variants on the molecular aging rate.'], 'TA': ['Geroscience'], 'IF': [7.581], 'IF5': [7.617], 'date': [20210601], 'first_entity_transformed': 'APOE', 'second_entity_transformed': 'APOB', 'first_entity': ['APOE'], 'second_entity': ['APOB']}\n",
      "{'from': 848, 'to': 2447, 'relation': 'associated', 'PMID': ['27755538'], 'sentence': ['In NPHSII, ApoE concentration was additionally associated with apolipoprotein B (correlation coefficient 0.13, p = 0.001) and lipoprotein(a) (correlation coefficient -0.11, p < 0.001).'], 'DP': ['2016 Oct'], 'TI': ['Circulating Apolipoprotein E Concentration and Cardiovascular Disease Risk: Meta-analysis of Results from Three Studies.'], 'TA': ['PLoS Med'], 'IF': [11.613], 'IF5': [14.148], 'date': [20161001], 'first_entity_transformed': 'APOE', 'second_entity_transformed': 'APOB', 'first_entity': ['ApoE'], 'second_entity': ['apolipoprotein B']}\n"
     ]
    }
   ],
   "source": [
    "for i in relation_interpolation_list:\n",
    "    if i.get('first_entity_transformed')=='APOE' and i.get('second_entity_transformed')=='APOB':\n",
    "        print(i)"
   ]
  },
  {
   "cell_type": "code",
   "execution_count": 91,
   "id": "7b231a5b-6fa2-459c-b712-05e1b3472b1b",
   "metadata": {},
   "outputs": [
    {
     "data": {
      "text/plain": [
       "99033"
      ]
     },
     "execution_count": 91,
     "metadata": {},
     "output_type": "execute_result"
    }
   ],
   "source": [
    "len(relation_interpolation_list)"
   ]
  },
  {
   "cell_type": "code",
   "execution_count": 174,
   "id": "bf4672bb-c5f0-4c1c-8095-b56f29bfb021",
   "metadata": {},
   "outputs": [],
   "source": [
    "json.dump(relation_interpolation_list,open('relationinfo.json','w'))"
   ]
  },
  {
   "cell_type": "code",
   "execution_count": 175,
   "id": "c5abfc35-f2dd-4408-a7c2-e9c4883be93f",
   "metadata": {},
   "outputs": [
    {
     "data": {
      "text/plain": [
       "99033"
      ]
     },
     "execution_count": 175,
     "metadata": {},
     "output_type": "execute_result"
    }
   ],
   "source": [
    "len(relation_interpolation_list)"
   ]
  },
  {
   "cell_type": "markdown",
   "id": "2f2953fb-654f-4fd2-8b5a-9c5d676a383f",
   "metadata": {},
   "source": [
    "for i in relation_interpolation_list:\n",
    "    if i.get('from')==25 and i.get('to')==2070:\n",
    "        print(i)"
   ]
  },
  {
   "cell_type": "code",
   "execution_count": 93,
   "id": "c3194271-ae0a-4396-b154-4ea183f6c4a5",
   "metadata": {},
   "outputs": [
    {
     "data": {
      "text/plain": [
       "133446"
      ]
     },
     "execution_count": 93,
     "metadata": {},
     "output_type": "execute_result"
    }
   ],
   "source": [
    "len(triplelistnew)"
   ]
  },
  {
   "cell_type": "code",
   "execution_count": 94,
   "id": "2d3d05db-db3b-4b5d-8c9d-4b8c5c8379b6",
   "metadata": {},
   "outputs": [],
   "source": [
    "csvf_entity = open(\"entity.csv\", \"w\", newline='', encoding='utf-8')\n",
    "\n",
    "w_entity = csv.writer(csvf_entity)"
   ]
  },
  {
   "cell_type": "code",
   "execution_count": 95,
   "id": "2cd32075-42fe-48e5-ac93-656954f3255e",
   "metadata": {},
   "outputs": [
    {
     "data": {
      "text/plain": [
       "37"
      ]
     },
     "execution_count": 95,
     "metadata": {},
     "output_type": "execute_result"
    }
   ],
   "source": [
    "w_entity.writerow((\"entity:ID\", \"name\",\"type\",\"pagerank\",\":LABEL\"))"
   ]
  },
  {
   "cell_type": "code",
   "execution_count": 96,
   "id": "10618bc5-e703-4c4e-aa51-358a7e35f675",
   "metadata": {},
   "outputs": [],
   "source": [
    "for i,j in entitydict.items():\n",
    "    \n",
    "    w_entity.writerow((entitynum.get(i), i,j,int(entity_countnum.get(i)),j))\n"
   ]
  },
  {
   "cell_type": "markdown",
   "id": "39393ac9-c9a4-4621-9639-665a13414a96",
   "metadata": {},
   "source": [
    "for i,j in enumerate(triplelist):\n",
    "    w_entity.writerow((entitynum.get(j.get('entity_one')), j.get('entity_one'), entitydict.get(j.get('entity_one'))))\n",
    "    w_entity.writerow((entitynum.get(j.get('entity_two')), j.get('entity_two'), entitydict.get(j.get('entity_two'))))\n"
   ]
  },
  {
   "cell_type": "code",
   "execution_count": 97,
   "id": "00ca847a-1bcb-47e2-8d98-6e987ca6fd7c",
   "metadata": {},
   "outputs": [],
   "source": [
    "csvf_entity.close()"
   ]
  },
  {
   "cell_type": "code",
   "execution_count": 98,
   "id": "0e4028b7-6394-49fb-a427-fd500efce5dc",
   "metadata": {},
   "outputs": [
    {
     "data": {
      "text/html": [
       "<div>\n",
       "<style scoped>\n",
       "    .dataframe tbody tr th:only-of-type {\n",
       "        vertical-align: middle;\n",
       "    }\n",
       "\n",
       "    .dataframe tbody tr th {\n",
       "        vertical-align: top;\n",
       "    }\n",
       "\n",
       "    .dataframe thead th {\n",
       "        text-align: right;\n",
       "    }\n",
       "</style>\n",
       "<table border=\"1\" class=\"dataframe\">\n",
       "  <thead>\n",
       "    <tr style=\"text-align: right;\">\n",
       "      <th></th>\n",
       "      <th>:START_ID</th>\n",
       "      <th>role</th>\n",
       "      <th>:END_ID</th>\n",
       "    </tr>\n",
       "  </thead>\n",
       "  <tbody>\n",
       "    <tr>\n",
       "      <th>0</th>\n",
       "      <td>SF3B1</td>\n",
       "      <td>lead</td>\n",
       "      <td>EIF2AK1</td>\n",
       "    </tr>\n",
       "  </tbody>\n",
       "</table>\n",
       "</div>"
      ],
      "text/plain": [
       "  :START_ID  role  :END_ID\n",
       "0     SF3B1  lead  EIF2AK1"
      ]
     },
     "execution_count": 98,
     "metadata": {},
     "output_type": "execute_result"
    }
   ],
   "source": [
    "h_r_t[:1]"
   ]
  },
  {
   "cell_type": "code",
   "execution_count": 99,
   "id": "7cd488e2-3d85-4bf1-9104-436acbba073e",
   "metadata": {},
   "outputs": [],
   "source": [
    "entitycsv=pd.read_csv('entity.csv')"
   ]
  },
  {
   "cell_type": "code",
   "execution_count": 100,
   "id": "66790e97-6796-49b7-953f-82db10cba240",
   "metadata": {},
   "outputs": [
    {
     "data": {
      "text/html": [
       "<div>\n",
       "<style scoped>\n",
       "    .dataframe tbody tr th:only-of-type {\n",
       "        vertical-align: middle;\n",
       "    }\n",
       "\n",
       "    .dataframe tbody tr th {\n",
       "        vertical-align: top;\n",
       "    }\n",
       "\n",
       "    .dataframe thead th {\n",
       "        text-align: right;\n",
       "    }\n",
       "</style>\n",
       "<table border=\"1\" class=\"dataframe\">\n",
       "  <thead>\n",
       "    <tr style=\"text-align: right;\">\n",
       "      <th></th>\n",
       "      <th>entity:ID</th>\n",
       "      <th>name</th>\n",
       "      <th>type</th>\n",
       "      <th>pagerank</th>\n",
       "      <th>:LABEL</th>\n",
       "    </tr>\n",
       "  </thead>\n",
       "  <tbody>\n",
       "    <tr>\n",
       "      <th>0</th>\n",
       "      <td>1</td>\n",
       "      <td>SF3B1</td>\n",
       "      <td>Gene</td>\n",
       "      <td>5</td>\n",
       "      <td>Gene</td>\n",
       "    </tr>\n",
       "    <tr>\n",
       "      <th>1</th>\n",
       "      <td>2</td>\n",
       "      <td>EIF2AK1</td>\n",
       "      <td>Gene</td>\n",
       "      <td>3</td>\n",
       "      <td>Gene</td>\n",
       "    </tr>\n",
       "    <tr>\n",
       "      <th>2</th>\n",
       "      <td>3</td>\n",
       "      <td>Protoporphyria, Erythropoietic</td>\n",
       "      <td>Disease</td>\n",
       "      <td>6</td>\n",
       "      <td>Disease</td>\n",
       "    </tr>\n",
       "  </tbody>\n",
       "</table>\n",
       "</div>"
      ],
      "text/plain": [
       "   entity:ID                            name     type  pagerank   :LABEL\n",
       "0          1                           SF3B1     Gene         5     Gene\n",
       "1          2                         EIF2AK1     Gene         3     Gene\n",
       "2          3  Protoporphyria, Erythropoietic  Disease         6  Disease"
      ]
     },
     "execution_count": 100,
     "metadata": {},
     "output_type": "execute_result"
    }
   ],
   "source": [
    "entitycsv[:3]"
   ]
  },
  {
   "cell_type": "code",
   "execution_count": 101,
   "id": "b5b40aa9-3817-4f33-8e17-e190d494da29",
   "metadata": {},
   "outputs": [
    {
     "data": {
      "text/plain": [
       "6181"
      ]
     },
     "execution_count": 101,
     "metadata": {},
     "output_type": "execute_result"
    }
   ],
   "source": [
    "len(entitycsv)"
   ]
  },
  {
   "cell_type": "markdown",
   "id": "a8a465e3-0956-48d0-bf26-ecaf5fc605cb",
   "metadata": {},
   "source": [
    "entityone=[]\n",
    "for z in range(0,21156,2):\n",
    "    entityone.append(entitycsv['entity:ID'].tolist()[z])"
   ]
  },
  {
   "cell_type": "markdown",
   "id": "421a7a7b-4e68-4e6c-a5ce-602ffb29b8f8",
   "metadata": {},
   "source": [
    "entitytwo=[]\n",
    "for z in range(1,21156,2):\n",
    "    entitytwo.append(entitycsv['entity:ID'].tolist()[z])"
   ]
  },
  {
   "cell_type": "code",
   "execution_count": null,
   "id": "6424704d-a058-43de-8caa-79570699a406",
   "metadata": {},
   "outputs": [],
   "source": []
  },
  {
   "cell_type": "code",
   "execution_count": 102,
   "id": "645fedbb-8d9a-4cbc-a0da-97f62b7173aa",
   "metadata": {},
   "outputs": [],
   "source": [
    "csvf_entity = open(\"roles.csv\", \"w\", newline='', encoding='utf-8')\n",
    "\n",
    "w_entity = csv.writer(csvf_entity)"
   ]
  },
  {
   "cell_type": "code",
   "execution_count": 103,
   "id": "1ece3295-ddc7-4a43-876e-677ea05801e9",
   "metadata": {},
   "outputs": [
    {
     "data": {
      "text/plain": [
       "41"
      ]
     },
     "execution_count": 103,
     "metadata": {},
     "output_type": "execute_result"
    }
   ],
   "source": [
    "w_entity.writerow((':START_ID', ':END_ID', \"relation\", \"weight\",\":TYPE\" ))"
   ]
  },
  {
   "cell_type": "code",
   "execution_count": 104,
   "id": "cf49016f-7f53-4407-a803-ac6ab4f55ba4",
   "metadata": {},
   "outputs": [],
   "source": [
    "entitynotsame=[]\n",
    "for i in triplelistnew:\n",
    "    if i.get('entity_one_transformed')!=i.get('entity_two_transformed'):\n",
    "        if (i.get('entity_one_transformed'),i.get('triple')[1], i.get('entity_two_transformed')) not in entitynotsame:\n",
    "            w_entity.writerow((  entitynum.get(i.get('entity_one_transformed')),entitynum.get(i.get('entity_two_transformed')), i.get('triple')[1],int(tripleWeight.get((i.get('entity_one_transformed'),i.get('triple')[1], i.get('entity_two_transformed')))), i.get('triple')[1]   ))\n",
    "        else:\n",
    "            continue\n",
    "        entitynotsame.append((i.get('entity_one_transformed'),i.get('triple')[1], i.get('entity_two_transformed')))"
   ]
  },
  {
   "cell_type": "code",
   "execution_count": 105,
   "id": "33bc50a6-b450-43b3-958a-49136b33e5e4",
   "metadata": {},
   "outputs": [
    {
     "data": {
      "text/plain": [
       "849"
      ]
     },
     "execution_count": 105,
     "metadata": {},
     "output_type": "execute_result"
    }
   ],
   "source": [
    "entitynum.get('APOE')"
   ]
  },
  {
   "cell_type": "code",
   "execution_count": 106,
   "id": "f0e0ae29-bfd9-4ec4-a0ce-dafee91b6316",
   "metadata": {},
   "outputs": [],
   "source": [
    "csvf_entity.close()"
   ]
  },
  {
   "cell_type": "code",
   "execution_count": 107,
   "id": "f505061f-ced6-4aa2-8116-3c6ca520e064",
   "metadata": {},
   "outputs": [
    {
     "data": {
      "text/plain": [
       "(1, 2, 3)"
      ]
     },
     "execution_count": 107,
     "metadata": {},
     "output_type": "execute_result"
    }
   ],
   "source": [
    "tuple((1,2,3))"
   ]
  },
  {
   "cell_type": "code",
   "execution_count": 108,
   "id": "3a96d8b0-4593-4e76-beb9-f558e598c40a",
   "metadata": {},
   "outputs": [
    {
     "data": {
      "text/plain": [
       "'/root/hald_autoupdate/2022_12_09'"
      ]
     },
     "execution_count": 108,
     "metadata": {},
     "output_type": "execute_result"
    }
   ],
   "source": [
    "pwd"
   ]
  },
  {
   "cell_type": "code",
   "execution_count": null,
   "id": "3da16338-4bb7-403a-beac-4dfa968e3f24",
   "metadata": {},
   "outputs": [],
   "source": []
  },
  {
   "cell_type": "code",
   "execution_count": null,
   "id": "0f24f2c5-98bb-41a7-8bf4-48354fe34f8f",
   "metadata": {},
   "outputs": [],
   "source": []
  },
  {
   "cell_type": "code",
   "execution_count": null,
   "id": "8f66acff-8fd0-4685-bf67-eb4c5d956083",
   "metadata": {},
   "outputs": [],
   "source": []
  },
  {
   "cell_type": "code",
   "execution_count": 109,
   "id": "b17d1bd4-daba-45e7-ad18-5555e7b4523a",
   "metadata": {},
   "outputs": [],
   "source": [
    "import pandas as pd"
   ]
  },
  {
   "cell_type": "code",
   "execution_count": 110,
   "id": "05b87ee5-4d73-444d-8920-12e69f560287",
   "metadata": {},
   "outputs": [],
   "source": [
    "roles=pd.read_csv(\"roles.csv\")"
   ]
  },
  {
   "cell_type": "code",
   "execution_count": 111,
   "id": "5a082981-e2b7-4853-a62a-9a9628e548b0",
   "metadata": {},
   "outputs": [
    {
     "data": {
      "text/html": [
       "<div>\n",
       "<style scoped>\n",
       "    .dataframe tbody tr th:only-of-type {\n",
       "        vertical-align: middle;\n",
       "    }\n",
       "\n",
       "    .dataframe tbody tr th {\n",
       "        vertical-align: top;\n",
       "    }\n",
       "\n",
       "    .dataframe thead th {\n",
       "        text-align: right;\n",
       "    }\n",
       "</style>\n",
       "<table border=\"1\" class=\"dataframe\">\n",
       "  <thead>\n",
       "    <tr style=\"text-align: right;\">\n",
       "      <th></th>\n",
       "      <th>:START_ID</th>\n",
       "      <th>:END_ID</th>\n",
       "      <th>relation</th>\n",
       "      <th>weight</th>\n",
       "      <th>:TYPE</th>\n",
       "    </tr>\n",
       "  </thead>\n",
       "  <tbody>\n",
       "    <tr>\n",
       "      <th>0</th>\n",
       "      <td>1</td>\n",
       "      <td>2</td>\n",
       "      <td>lead</td>\n",
       "      <td>1</td>\n",
       "      <td>lead</td>\n",
       "    </tr>\n",
       "    <tr>\n",
       "      <th>1</th>\n",
       "      <td>1</td>\n",
       "      <td>3</td>\n",
       "      <td>lead</td>\n",
       "      <td>1</td>\n",
       "      <td>lead</td>\n",
       "    </tr>\n",
       "    <tr>\n",
       "      <th>2</th>\n",
       "      <td>4</td>\n",
       "      <td>5</td>\n",
       "      <td>indicate</td>\n",
       "      <td>1</td>\n",
       "      <td>indicate</td>\n",
       "    </tr>\n",
       "    <tr>\n",
       "      <th>3</th>\n",
       "      <td>5</td>\n",
       "      <td>6</td>\n",
       "      <td>investigated</td>\n",
       "      <td>1</td>\n",
       "      <td>investigated</td>\n",
       "    </tr>\n",
       "    <tr>\n",
       "      <th>4</th>\n",
       "      <td>7</td>\n",
       "      <td>5</td>\n",
       "      <td>indicate</td>\n",
       "      <td>1</td>\n",
       "      <td>indicate</td>\n",
       "    </tr>\n",
       "  </tbody>\n",
       "</table>\n",
       "</div>"
      ],
      "text/plain": [
       "   :START_ID  :END_ID      relation  weight         :TYPE\n",
       "0          1        2          lead       1          lead\n",
       "1          1        3          lead       1          lead\n",
       "2          4        5      indicate       1      indicate\n",
       "3          5        6  investigated       1  investigated\n",
       "4          7        5      indicate       1      indicate"
      ]
     },
     "execution_count": 111,
     "metadata": {},
     "output_type": "execute_result"
    }
   ],
   "source": [
    "roles.head()"
   ]
  },
  {
   "cell_type": "code",
   "execution_count": 112,
   "id": "ac06d7ef-868e-4817-a354-40cb8826911b",
   "metadata": {},
   "outputs": [],
   "source": [
    "relation_list=roles.relation.to_list()"
   ]
  },
  {
   "cell_type": "code",
   "execution_count": 113,
   "id": "71010f2d-41bc-4ead-b92c-5a642c8874b8",
   "metadata": {},
   "outputs": [
    {
     "data": {
      "text/plain": [
       "list"
      ]
     },
     "execution_count": 113,
     "metadata": {},
     "output_type": "execute_result"
    }
   ],
   "source": [
    "type(relation_list)"
   ]
  },
  {
   "cell_type": "code",
   "execution_count": 114,
   "id": "a9231304-fef3-4fbd-87f3-feefa1f4fed9",
   "metadata": {},
   "outputs": [
    {
     "data": {
      "text/plain": [
       "['lead', 'lead', 'indicate']"
      ]
     },
     "execution_count": 114,
     "metadata": {},
     "output_type": "execute_result"
    }
   ],
   "source": [
    "relation_list[:3]"
   ]
  },
  {
   "cell_type": "code",
   "execution_count": 115,
   "id": "150e76d7-a0d3-4b1f-b1cb-f3ea6439e044",
   "metadata": {},
   "outputs": [
    {
     "data": {
      "text/plain": [
       "99033"
      ]
     },
     "execution_count": 115,
     "metadata": {},
     "output_type": "execute_result"
    }
   ],
   "source": [
    "len(relation_list)"
   ]
  },
  {
   "cell_type": "code",
   "execution_count": null,
   "id": "d958ec6d-917d-4078-89d6-e6a663b5aec0",
   "metadata": {},
   "outputs": [],
   "source": []
  },
  {
   "cell_type": "code",
   "execution_count": 116,
   "id": "851a4b18-615d-4f65-9f9a-2e140c41c29c",
   "metadata": {},
   "outputs": [
    {
     "data": {
      "text/plain": [
       "3322"
      ]
     },
     "execution_count": 116,
     "metadata": {},
     "output_type": "execute_result"
    }
   ],
   "source": [
    "len(set(relation_list))"
   ]
  },
  {
   "cell_type": "code",
   "execution_count": null,
   "id": "48cd2954-f37e-42c3-9d76-c25013a2da5c",
   "metadata": {},
   "outputs": [],
   "source": []
  },
  {
   "cell_type": "code",
   "execution_count": null,
   "id": "6e1cab79-630f-44a6-b935-271f7027a1da",
   "metadata": {},
   "outputs": [],
   "source": []
  },
  {
   "cell_type": "markdown",
   "id": "9e20863a-15ec-4e7a-8162-b481b41290e7",
   "metadata": {},
   "source": [
    "dropout"
   ]
  },
  {
   "cell_type": "markdown",
   "id": "56f57ae3-54ae-49d3-9124-100c210d4a41",
   "metadata": {},
   "source": [
    "for i in dropout:\n",
    "    print(i.get('triple'))"
   ]
  },
  {
   "cell_type": "markdown",
   "id": "31204865-3e03-458d-a406-5315e38a9255",
   "metadata": {},
   "source": [
    "relation_list=[]\n",
    "disease_list=[]\n",
    "for i in triplelistnew:\n",
    "    if i.get('entity_two_type')=='Disease':\n",
    "        if i.get('entity_one_transformed')!= i.get('entity_two_transformed'):\n",
    "            relation_list.append(i.get('triple')[1].lower())\n",
    "            disease_list.append(i)"
   ]
  },
  {
   "cell_type": "code",
   "execution_count": 117,
   "id": "eb789085-619d-4e41-b014-2cb2a72b0202",
   "metadata": {},
   "outputs": [],
   "source": [
    "relation_list=[]\n",
    "disease_list=[]\n",
    "for i in triplelistnew:\n",
    "    if i.get('entity_two_type')=='Disease':\n",
    "        if i.get('entity_one_type')!='Disease':\n",
    "            if i.get('entity_one_transformed')!= i.get('entity_two_transformed'):\n",
    "                relation_list.append(i.get('triple')[1].lower())\n",
    "                disease_list.append(i)"
   ]
  },
  {
   "cell_type": "code",
   "execution_count": 118,
   "id": "4c76fade-5cba-4469-9aab-0c2326ebc223",
   "metadata": {},
   "outputs": [
    {
     "data": {
      "text/plain": [
       "18210"
      ]
     },
     "execution_count": 118,
     "metadata": {},
     "output_type": "execute_result"
    }
   ],
   "source": [
    "len(relation_list)"
   ]
  },
  {
   "cell_type": "code",
   "execution_count": 119,
   "id": "c41af5a3-cd67-40f5-83fd-7911214b1d7c",
   "metadata": {},
   "outputs": [],
   "source": [
    "import time\n",
    "import datetime\n",
    "import re\n",
    "dropout=[]\n",
    "months=['Jan','Feb','Mar','Apr','May','Jun','Jul','Aug','Sep','Oct','Nov','Dec']\n",
    "import re\n",
    "\n",
    "for i in disease_list:\n",
    "    j=pubtator_info_dict.get(i.get('PMID')).get('DP')\n",
    "    if re.search('[S,s]upplement',j,flags=re.M|re.I):\n",
    "        j=re.sub('[S,s]upplement.*','',j,flags=re.M|re.I)\n",
    "    j=re.sub('\\s?-\\s?','-',j)\n",
    "    j=re.sub('\\.','',j)\n",
    "    j=re.sub('Aout','Aug',j)\n",
    "    if len(j.split(' '))==3:\n",
    "        try:\n",
    "            date=int(datetime.datetime.strftime(datetime.datetime.strptime(j,'%Y %b %d'), '%Y%m%d'))\n",
    "        except:\n",
    "            if j.split()[1] in months:\n",
    "                if re.search(r'\\d+',j.split()[2],flags=re.M|re.I):\n",
    "                    j=j.split()[0]+' '+j.split()[1]+' '+ re.search(r'\\d+',j.split()[2],flags=re.M|re.I).group()\n",
    "                    try:\n",
    "                        date=int(datetime.datetime.strftime(datetime.datetime.strptime(j,'%Y %b %d'), '%Y%m%d'))\n",
    "                    except:\n",
    "                        j=j[:4]\n",
    "                        date=int(datetime.datetime.strftime(datetime.datetime.strptime(j,'%Y'), '%Y'+'0101'))\n",
    "                        print('***************************************ERROR**********************************************')\n",
    "                else:\n",
    "                    j=j.split()[0]+' '+j.split()[1]+' '+ '1'\n",
    "                    try:\n",
    "                        date=int(datetime.datetime.strftime(datetime.datetime.strptime(j,'%Y %b %d'), '%Y%m%d'))\n",
    "                    except:\n",
    "                        print(j)\n",
    "                        j=j[:4]\n",
    "                        date=int(datetime.datetime.strftime(datetime.datetime.strptime(j,'%Y'), '%Y'+'0101'))\n",
    "            elif j.split()[1] not in months:\n",
    "                if re.search(r'([a-zA-Z]+)[-/]([a-zA-Z]+)',j.split()[1],flags=re.M|re.I) or re.search(r'([a-zA-Z]+)[-/](\\d+)',j.split()[1],flags=re.M|re.I):\n",
    "                    if re.search(r'([a-zA-Z]+)[-/]([a-zA-Z]+)',j.split()[1],flags=re.M|re.I):\n",
    "                        middle=re.search(r'([a-zA-Z]+)[-/]([a-zA-Z]+)',j.split()[1],flags=re.M|re.I).group(1)\n",
    "                    else:\n",
    "                        middle=re.search(r'([a-zA-Z]+)[-/](\\d+)',j.split()[1],flags=re.M|re.I).group(1)\n",
    "                    if middle in months:\n",
    "                        if re.search(r'\\d+',j.split()[2],flags=re.M|re.I):\n",
    "                            j=j.split()[0]+' '+middle+' '+ re.search(r'\\d+',j.split()[2],flags=re.M|re.I).group()\n",
    "                        else:\n",
    "                            j=j.split()[0]+' '+middle+' '+ '1'\n",
    "                    elif re.match(r'Sum(mer)?',middle):\n",
    "                        if re.search(r'\\d+',j.split()[2],flags=re.M|re.I):\n",
    "                            j=j.split()[0]+' '+'Jun'+' '+ re.search(r'\\d+',j.split()[2],flags=re.M|re.I).group()\n",
    "                        else:\n",
    "                            j=j.split()[0]+' '+'Jun'+' '+ '1'\n",
    "                    elif re.match(r'Spr(ing)?',middle):\n",
    "                        if re.search(r'\\d+',j.split()[2],flags=re.M|re.I):\n",
    "                            j=j.split()[0]+' '+'Mar'+' '+ re.search(r'\\d+',j.split()[2],flags=re.M|re.I).group()\n",
    "                        else:\n",
    "                            j=j.split()[0]+' '+'Mar'+' '+ '1'\n",
    "                    elif re.match(r'Win(ter)?',middle):\n",
    "                        if re.search(r'\\d+',j.split()[2],flags=re.M|re.I):\n",
    "                            j=j.split()[0]+' '+'Dec'+' '+ re.search(r'\\d+',j.split()[2],flags=re.M|re.I).group()\n",
    "                        else:\n",
    "                            j=j.split()[0]+' '+'Dec'+' '+ '1'    \n",
    "                    elif re.match(r'Aut(umn)?',middle) or \\\n",
    "                    re.match(r'Fall',middle):\n",
    "                        if re.search(r'\\d+',j.split()[2],flags=re.M|re.I):\n",
    "                            j=j.split()[0]+' '+'Sep'+' '+ re.search(r'\\d+',j.split()[2],flags=re.M|re.I).group()\n",
    "                        else:\n",
    "                            j=j.split()[0]+' '+'Sep'+' '+ '1'      \n",
    "                    try:\n",
    "                        date=int(datetime.datetime.strftime(datetime.datetime.strptime(j,'%Y %b %d'), '%Y%m%d'))\n",
    "                    except:\n",
    "                        print(j)\n",
    "                        j=j[:4]\n",
    "                        date=int(datetime.datetime.strftime(datetime.datetime.strptime(j,'%Y'), '%Y'+'0101'))\n",
    "                else:\n",
    "                    j=j[:4]\n",
    "                    date=int(datetime.datetime.strftime(datetime.datetime.strptime(j,'%Y'), '%Y'+'0101'))\n",
    "    elif len(j.split())==2:\n",
    "        if re.match(r'Sum(mer)?',j.split()[1]):\n",
    "            date=int(j[:4]+'0601')\n",
    "        elif re.match(r'Spr(ing)?',j.split()[1]):\n",
    "            date=int(j[:4]+'0301')\n",
    "        elif re.match(r'Win(ter)?',j.split()[1]):\n",
    "            date=int(j[:4]+'1201')\n",
    "        elif re.match(r'Aut(umn)?',j.split()[1]) or re.match(r'Fall',j.split()[1]):\n",
    "            date=int(j[:4]+'0901')\n",
    "        elif re.match(r'Sum(mer)?',j.split()[0]):\n",
    "            date=int(j[-4:]+'0601')\n",
    "        elif re.match(r'Spr(ing)?',j.split()[0]):\n",
    "            date=int(j[-4:]+'0301')\n",
    "        elif re.match(r'Win(ter)?',j.split()[0]):\n",
    "            date=int(j[-4:]+'1201')\n",
    "        elif re.match(r'Aut(umn)?',j.split()[0]) or re.match(r'Fall',j.split()[0]):\n",
    "            date=int(j[-4:]+'0901')\n",
    "        else:\n",
    "            try:\n",
    "                date=int(datetime.datetime.strftime(datetime.datetime.strptime(j,'%Y %b'), '%Y%m'+'01'))\n",
    "            except:\n",
    "                if re.search(r'([a-zA-Z]+)[-/]([a-zA-Z]+)',j.split()[1],flags=re.M|re.I) or re.search(r'([a-zA-Z]+)[-/](\\d+)',j.split()[1],flags=re.M|re.I):\n",
    "                    if re.search(r'([a-zA-Z]+)[-/]([a-zA-Z]+)',j.split()[1],flags=re.M|re.I):\n",
    "                        middle=re.search(r'([a-zA-Z]+)[-/]([a-zA-Z]+)',j.split()[1],flags=re.M|re.I).group(1)\n",
    "                    else:\n",
    "                        middle=re.search(r'([a-zA-Z]+)[-/](\\d+)',j.split()[1],flags=re.M|re.I).group(1)\n",
    "                    if middle in months:\n",
    "                        j=j.split()[0]+' '+middle+' '+ '1'\n",
    "                    elif re.match(r'Sum(mer)?',middle):\n",
    "                        j=j.split()[0]+' '+'Jun'+' '+ '1'\n",
    "                    elif re.match(r'Spr(ing)?',middle):\n",
    "                        j=j.split()[0]+' '+'Mar'+' '+ '1'\n",
    "                    elif re.match(r'Win(ter)?',middle):\n",
    "                        j=j.split()[0]+' '+'Dec'+' '+ '1'    \n",
    "                    elif re.match(r'Aut(umn)?',middle) or \\\n",
    "                    re.match(r'Fall',middle):\n",
    "                        j=j.split()[0]+' '+'Sep'+' '+ '1'      \n",
    "                    try:\n",
    "                        date=int(datetime.datetime.strftime(datetime.datetime.strptime(j,'%Y %b %d'), '%Y%m%d'))\n",
    "                    except:\n",
    "                        j=j[:4]\n",
    "                        date=int(datetime.datetime.strftime(datetime.datetime.strptime(j,'%Y'), '%Y'+'0101'))\n",
    "                elif re.search(r'(\\d+)[-/](\\d+)',j.split()[1],flags=re.M|re.I):\n",
    "                    midd=re.search(r'(\\d+)[-/](\\d+)',j.split()[1],flags=re.M|re.I).group(1)\n",
    "                    if len(midd)!=2:\n",
    "                        midd='0'+midd\n",
    "                    j=j[:4]\n",
    "                    date=int(datetime.datetime.strftime(datetime.datetime.strptime(j,'%Y'), '%Y'+midd+'01'))\n",
    "                else:\n",
    "                    print(j)\n",
    "                    j=j[:4]\n",
    "                    date=int(datetime.datetime.strftime(datetime.datetime.strptime(j,'%Y'), '%Y'+'0101'))\n",
    "    elif len(j.split())==1:\n",
    "        j=j[:4]\n",
    "        date=int(datetime.datetime.strftime(datetime.datetime.strptime(j,'%Y'), '%Y'+'0101'))\n",
    "    else:\n",
    "        j=j.split()[0]+' '+j.split()[1]+' '+re.search(r'\\d+',j.split()[2],flags=re.M|re.I).group()\n",
    "        date=int(datetime.datetime.strftime(datetime.datetime.strptime(j,'%Y %b %d'), '%Y%m%d'))\n",
    "    i['date']=date\n",
    "    i['TA']=pubtator_info_dict.get(i.get('PMID')).get('TA')\n",
    "    i['JT']=pubtator_info_dict.get(i.get('PMID')).get('JT')\n",
    "    i['year']=int(str(date)[:4])\n",
    "    # del i['_id']\n",
    "    # i['_id']=i.get('entity_one_type')+'_'+i.get('entity_one_transformed')"
   ]
  },
  {
   "cell_type": "code",
   "execution_count": 120,
   "id": "9a81f098-1859-41b4-8200-6279f84c1afb",
   "metadata": {},
   "outputs": [
    {
     "data": {
      "text/plain": [
       "{'triple': ['coronary artery disease', 'associated', 'GDNF'],\n",
       " 'PMID': '35957925',\n",
       " 'sentence': 'The Wilcoxon-Gehan test indicates that a higher probability of three-year CE completion was associated with an age >65 years (P = 0.006), coronary artery disease (CAD) (P = 0.008), 6-Minute Walk Test <432 m (P = 0.034), serum glucose >120 mg/dL (P = 0.047), serum cortisol >10 mug/dL (P = 0.011), leptin >=15 ng/mL (P = 0.018), P-selectin >=23 ng/mL (P = 0.006) and GDNF >=20 pg/mL (P = 0.004).',\n",
       " 'AB': 'Background: Societal aging - as a global demographic phenomenon - shows no indication of abating. As a result, the problem of age-associated disability and related long-term care is emerging as a major public health challenge. It is important that methods for identifying older adults at risk of adverse outcomes are implemented early. Methods: The study group consisted of 145 individuals, 44.1% women, who were randomized from community-dwelling 60-74-year-old adults. A comprehensive geriatric assessment was supplemented with Fried frailty phenotype evaluation and blood tests (including adhesion molecules, matrix metalloproteinases and neurotrophic factors). A follow-up by phone call was made for at least 3 years after the initial examination. Composite endpoint (CE) included falls, hospitalization, institutionalization and death. Results: Mean study group age was 66.5 +- 4.1 years () and mean number of diseases was 3.7 +- 2.2. Functional status of the subjects was good, as indicated by high Barthel Index scores of 99.1 +- 2.4, MMSE scores of 29.0 +-1.5 and no frailty case. During a three-year follow-up, 71 participants (49.0%) experienced any CE-events. The Wilcoxon-Gehan test indicates that a higher probability of three-year CE completion was associated with an age >65 years (P = 0.006), coronary artery disease (CAD) (P = 0.008), 6-Minute Walk Test <432 m (P = 0.034), serum glucose >120 mg/dL (P = 0.047), serum cortisol >10 mug/dL (P = 0.011), leptin >=15 ng/mL (P = 0.018), P-selectin >=23 ng/mL (P = 0.006) and GDNF >=20 pg/mL (P = 0.004). CAD (OR = 3.64, 95% CI = 1.53-8.69, P = 0.004), educational status (OR = 0.87, 95% CI = 0.77-0.98, P = 0.022) and P-selectin levels (OR = 1.07, 95% CI = 1.02-1.13, P = 0.013) were independent measures predicting three-year CE occurrence in multivariate logistic regression analysis adjusted for clinical and functional measures, and blood tests. Conclusion: Coronary artery disease, poorer lower educational status and higher P-selectin levels were predictive of adverse outcomes in the community-dwelling healthy-aging early-old adults during three-year follow-up.',\n",
       " 'entity_one': 'GDNF',\n",
       " 'entity_one_type': 'Gene',\n",
       " 'entity_two': 'coronary artery disease',\n",
       " 'entity_two_type': 'Disease',\n",
       " 'entity_one_transformed': 'GDNF',\n",
       " 'entity_two_transformed': 'Coronary Artery Disease',\n",
       " 'transformed_triple': ('GDNF',\n",
       "  'associated',\n",
       "  'coronary artery disease',\n",
       "  '35957925'),\n",
       " 'verb': 'associated',\n",
       " 'IF': 3.829,\n",
       " 'IF5': 5.102,\n",
       " 'date': 20220101,\n",
       " 'TA': 'Clin Interv Aging',\n",
       " 'JT': 'Clinical interventions in aging',\n",
       " 'year': 2022}"
      ]
     },
     "execution_count": 120,
     "metadata": {},
     "output_type": "execute_result"
    }
   ],
   "source": [
    "disease_list[20]"
   ]
  },
  {
   "cell_type": "code",
   "execution_count": 121,
   "id": "46181065-5c69-47e7-b26c-3c58dbba962c",
   "metadata": {},
   "outputs": [
    {
     "data": {
      "text/plain": [
       "18210"
      ]
     },
     "execution_count": 121,
     "metadata": {},
     "output_type": "execute_result"
    }
   ],
   "source": [
    "len(disease_list)"
   ]
  },
  {
   "cell_type": "code",
   "execution_count": 122,
   "id": "ad61b934-41d0-407c-a94a-17497468ec7b",
   "metadata": {},
   "outputs": [],
   "source": [
    "relation_list=[]\n",
    "for i in disease_list:\n",
    "    relation_list.append(i.get('triple')[1])"
   ]
  },
  {
   "cell_type": "code",
   "execution_count": 123,
   "id": "41167220-d56f-4587-a45a-9083fe376d5c",
   "metadata": {},
   "outputs": [
    {
     "data": {
      "text/plain": [
       "1562"
      ]
     },
     "execution_count": 123,
     "metadata": {},
     "output_type": "execute_result"
    }
   ],
   "source": [
    "len(set(relation_list))"
   ]
  },
  {
   "cell_type": "code",
   "execution_count": 124,
   "id": "8d2fd227-c4ed-41a2-bee6-f883a213b816",
   "metadata": {},
   "outputs": [],
   "source": [
    "relation_list_set=list(set(relation_list))"
   ]
  },
  {
   "cell_type": "code",
   "execution_count": 125,
   "id": "dc14b469-29b6-4691-8a42-b45cccd7f371",
   "metadata": {},
   "outputs": [],
   "source": [
    "relation_list_set.sort()"
   ]
  },
  {
   "cell_type": "code",
   "execution_count": null,
   "id": "cff6cf81-75fe-4d94-953d-d310bc3946f5",
   "metadata": {},
   "outputs": [],
   "source": []
  },
  {
   "cell_type": "markdown",
   "id": "417d4ce6-0f08-40b9-96df-2d1b1973b959",
   "metadata": {},
   "source": [
    "for i in triplelistnew:\n",
    "    if i.get('triple')[1].lower()=='with cad be':\n",
    "        print(i)"
   ]
  },
  {
   "cell_type": "code",
   "execution_count": 126,
   "id": "7957c8ec-a556-4b34-8ba4-9a6f0c4b3ae1",
   "metadata": {},
   "outputs": [],
   "source": [
    "df_relation_list_set = pd.DataFrame(relation_list_set)"
   ]
  },
  {
   "cell_type": "code",
   "execution_count": 127,
   "id": "adf6c2de-49b1-4326-a26e-6a832a9f31e6",
   "metadata": {},
   "outputs": [
    {
     "data": {
      "text/html": [
       "<div>\n",
       "<style scoped>\n",
       "    .dataframe tbody tr th:only-of-type {\n",
       "        vertical-align: middle;\n",
       "    }\n",
       "\n",
       "    .dataframe tbody tr th {\n",
       "        vertical-align: top;\n",
       "    }\n",
       "\n",
       "    .dataframe thead th {\n",
       "        text-align: right;\n",
       "    }\n",
       "</style>\n",
       "<table border=\"1\" class=\"dataframe\">\n",
       "  <thead>\n",
       "    <tr style=\"text-align: right;\">\n",
       "      <th></th>\n",
       "      <th>0</th>\n",
       "    </tr>\n",
       "  </thead>\n",
       "  <tbody>\n",
       "    <tr>\n",
       "      <th>0</th>\n",
       "      <td>By may serve as</td>\n",
       "    </tr>\n",
       "    <tr>\n",
       "      <th>1</th>\n",
       "      <td>Determine</td>\n",
       "    </tr>\n",
       "    <tr>\n",
       "      <th>2</th>\n",
       "      <td>Established adverse effects of be</td>\n",
       "    </tr>\n",
       "    <tr>\n",
       "      <th>3</th>\n",
       "      <td>Expression of be</td>\n",
       "    </tr>\n",
       "    <tr>\n",
       "      <th>4</th>\n",
       "      <td>Loss of be</td>\n",
       "    </tr>\n",
       "    <tr>\n",
       "      <th>5</th>\n",
       "      <td>Overexpression of be</td>\n",
       "    </tr>\n",
       "  </tbody>\n",
       "</table>\n",
       "</div>"
      ],
      "text/plain": [
       "                                   0\n",
       "0                    By may serve as\n",
       "1                          Determine\n",
       "2  Established adverse effects of be\n",
       "3                   Expression of be\n",
       "4                         Loss of be\n",
       "5               Overexpression of be"
      ]
     },
     "execution_count": 127,
     "metadata": {},
     "output_type": "execute_result"
    }
   ],
   "source": [
    "df_relation_list_set[:6]"
   ]
  },
  {
   "cell_type": "code",
   "execution_count": 128,
   "id": "4ec09b7f-175a-445e-8343-32f244c6f875",
   "metadata": {},
   "outputs": [],
   "source": [
    "df_relation_list_set.to_csv('relation_list_set_02_28.csv')"
   ]
  },
  {
   "cell_type": "code",
   "execution_count": null,
   "id": "b2041280-d962-483d-9de4-55df1e91f9af",
   "metadata": {},
   "outputs": [],
   "source": []
  },
  {
   "cell_type": "code",
   "execution_count": null,
   "id": "ca83ade0-eaef-41b3-a51d-72eb2b8fe67a",
   "metadata": {},
   "outputs": [],
   "source": []
  },
  {
   "cell_type": "markdown",
   "id": "f660ac95-db4f-4e9c-9bd9-0f2eb49aab75",
   "metadata": {},
   "source": [
    "positive_relations=pd.read_csv('classofrelations/positive_relations.csv',header=None,names=['word'])"
   ]
  },
  {
   "cell_type": "code",
   "execution_count": 129,
   "id": "9ddfcb9f-434d-4683-8354-8669fd99af0f",
   "metadata": {},
   "outputs": [],
   "source": [
    "positive_relations=pd.read_csv('classofrelations/positive-relations.csv',header=None,names=['word'])"
   ]
  },
  {
   "cell_type": "code",
   "execution_count": 130,
   "id": "cf27ebc9-a6ca-48d5-816d-c29ec16d256e",
   "metadata": {},
   "outputs": [],
   "source": [
    "\n",
    "positive_relations_dict={}\n",
    "for i in positive_relations['word'].to_list():\n",
    "    positive_relations_dict[i.lower()]=True"
   ]
  },
  {
   "cell_type": "markdown",
   "id": "98fb20f4-517b-48c4-b227-48dc6281d010",
   "metadata": {},
   "source": [
    "negative_relations=pd.read_csv('classofrelations/negative_relations.csv',header=None,names=['word'])"
   ]
  },
  {
   "cell_type": "code",
   "execution_count": 131,
   "id": "e0e5ad5f-d6de-446f-a2df-adeb1aad68d8",
   "metadata": {},
   "outputs": [],
   "source": [
    "negative_relations=pd.read_csv('classofrelations/negative-relations.csv',header=None,names=['word'])"
   ]
  },
  {
   "cell_type": "code",
   "execution_count": 132,
   "id": "0cb7b68c-4046-4c21-a3fa-78b7f20938c6",
   "metadata": {},
   "outputs": [],
   "source": [
    "\n",
    "negative_relations_dict={}\n",
    "for i in negative_relations['word'].to_list():\n",
    "    negative_relations_dict[i.lower()]=True"
   ]
  },
  {
   "cell_type": "code",
   "execution_count": 133,
   "id": "31ddc5fa-a93a-4896-9cef-5caede5473c6",
   "metadata": {},
   "outputs": [
    {
     "data": {
      "text/plain": [
       "{'triple': ['SF3B1', 'lead', 'EIF2AK1'],\n",
       " 'PMID': '35926182',\n",
       " 'sentence': 'Here, using single-cell technologies and functional validation studies of primary SF3B1-mutant MDS-RS samples, we show that SF3B1 mutations lead to the activation of the EIF2AK1 pathway in response to heme deficiency and that targeting this pathway rescues aberrant erythroid differentiation and enables the red blood cell maturation of MDS-RS erythroblasts.',\n",
       " 'AB': 'SF3B1 mutations, which occur in 20% of patients with myelodysplastic syndromes (MDS), are the hallmarks of a specific MDS subtype, MDS with ringed sideroblasts (MDS-RS), which is characterized by the accumulation of erythroid precursors in the bone marrow and primarily affects the elderly population. Here, using single-cell technologies and functional validation studies of primary SF3B1-mutant MDS-RS samples, we show that SF3B1 mutations lead to the activation of the EIF2AK1 pathway in response to heme deficiency and that targeting this pathway rescues aberrant erythroid differentiation and enables the red blood cell maturation of MDS-RS erythroblasts. These data support the development of EIF2AK1 inhibitors to overcome transfusion dependency in patients with SF3B1-mutant MDS-RS with impaired red blood cell production.',\n",
       " 'entity_one': 'SF3B1',\n",
       " 'entity_one_type': 'Gene',\n",
       " 'entity_two': 'EIF2AK1',\n",
       " 'entity_two_type': 'Gene',\n",
       " 'entity_one_transformed': 'SF3B1',\n",
       " 'entity_two_transformed': 'EIF2AK1',\n",
       " 'transformed_triple': ('SF3B1', 'lead', 'EIF2AK1', '35926182'),\n",
       " 'verb': 'lead',\n",
       " 'IF': 0.0,\n",
       " 'IF5': 0.0}"
      ]
     },
     "execution_count": 133,
     "metadata": {},
     "output_type": "execute_result"
    }
   ],
   "source": [
    "triplelistnew[0]"
   ]
  },
  {
   "cell_type": "markdown",
   "id": "6c53195b-318e-4dfd-9809-7c85a91aa8d3",
   "metadata": {},
   "source": [
    "dropout=[]\n",
    "for i in triplelistnew:\n",
    "    if i.get('entity_two_type')=='Disease':\n",
    "        if i.get('entity_one_transformed')!= i.get('entity_two_transformed'):\n",
    "            if positive_relations_dict.get(i.get('triple')[1].lower()):\n",
    "                i['partofspeech']='positive'\n",
    "            elif negative_relations_dict.get(i.get('triple')[1].lower()):\n",
    "                i['partofspeech']='negative'\n",
    "            else:\n",
    "                i['partofspeech']='none'\n",
    "                dropout.append(i)"
   ]
  },
  {
   "cell_type": "code",
   "execution_count": 134,
   "id": "66a1e6bf-7949-4a7e-860e-3c2c12fba3c0",
   "metadata": {},
   "outputs": [],
   "source": [
    "dropout=[]\n",
    "for i in triplelistnew:\n",
    "    if i.get('entity_two_type')=='Disease':\n",
    "        if i.get('entity_one_type')!='Disease':\n",
    "            if i.get('entity_one_transformed')!= i.get('entity_two_transformed'):\n",
    "                if positive_relations_dict.get(i.get('triple')[1].lower()):\n",
    "                    i['partofspeech']='positive'\n",
    "                elif negative_relations_dict.get(i.get('triple')[1].lower()):\n",
    "                    i['partofspeech']='negative'\n",
    "                else:\n",
    "                    i['partofspeech']='none'\n",
    "                    dropout.append(i)"
   ]
  },
  {
   "cell_type": "markdown",
   "id": "41504c7a-856a-41b1-8293-6292616df63c",
   "metadata": {},
   "source": []
  },
  {
   "cell_type": "code",
   "execution_count": 135,
   "id": "fbe96d65-7af0-44b6-82c9-77acce4f3988",
   "metadata": {},
   "outputs": [
    {
     "data": {
      "text/plain": [
       "8949"
      ]
     },
     "execution_count": 135,
     "metadata": {},
     "output_type": "execute_result"
    }
   ],
   "source": [
    "len(dropout)"
   ]
  },
  {
   "cell_type": "code",
   "execution_count": null,
   "id": "3f1df6e7-5b16-48b1-a72b-a6739bbda353",
   "metadata": {},
   "outputs": [],
   "source": []
  },
  {
   "cell_type": "code",
   "execution_count": null,
   "id": "fd226a46-05dc-4c00-8ca7-99971b6f1c00",
   "metadata": {},
   "outputs": [],
   "source": []
  },
  {
   "cell_type": "code",
   "execution_count": 136,
   "id": "c1463d67-2500-4c0f-8d68-c89a4c75922f",
   "metadata": {},
   "outputs": [],
   "source": [
    "entity_pairs=['Gene','RNA','Carbohydrate','Lipid','Peptide', 'Pharmaceutical_Preparations', 'Protein', 'Toxin','Mutation', 'Disease']"
   ]
  },
  {
   "cell_type": "code",
   "execution_count": 137,
   "id": "5877e2a0-b172-4116-b420-135ffa1866aa",
   "metadata": {},
   "outputs": [],
   "source": [
    "names=locals()\n",
    "for i in entity_pairs:\n",
    "    names[i+'_typecount']=set()\n",
    "for i in entity_pairs:\n",
    "    for j in disease_list:\n",
    "        if j.get('entity_one_type')==i.replace('_',' '):\n",
    "            names[i+'_typecount'].add(j.get('entity_one_transformed'))"
   ]
  },
  {
   "cell_type": "code",
   "execution_count": 138,
   "id": "40d1c0a4-20b0-4367-9d81-cdb22071f766",
   "metadata": {},
   "outputs": [
    {
     "name": "stdout",
     "output_type": "stream",
     "text": [
      "Gene 2310\n",
      "RNA 62\n",
      "Carbohydrate 206\n",
      "Lipid 274\n",
      "Peptide 55\n",
      "Pharmaceutical_Preparations 10\n",
      "Protein 35\n",
      "Toxin 4\n",
      "Mutation 394\n",
      "Disease 0\n"
     ]
    }
   ],
   "source": [
    "for i in entity_pairs:\n",
    "    print(i+' '+str(len(list(names[i+'_typecount']))))"
   ]
  },
  {
   "cell_type": "code",
   "execution_count": 139,
   "id": "627b17cf-14b3-4fbc-9a7e-29cfd7db56a2",
   "metadata": {},
   "outputs": [],
   "source": [
    "json.dump(disease_list,open('disease_relation.json','w'))"
   ]
  },
  {
   "cell_type": "code",
   "execution_count": 423,
   "id": "c1ecb476-aab5-45d7-ad60-38e4f57689f4",
   "metadata": {},
   "outputs": [
    {
     "name": "stdout",
     "output_type": "stream",
     "text": [
      "Gene\t1130\n",
      "RNA\t36\n",
      "Carbohydrate\t56\n",
      "Lipid\t69\n",
      "Peptide\t20\n",
      "Pharmaceutical Preparations\t2\n",
      "Protein\t12\n",
      "Toxin\t1\n",
      "Mutation\t268\n",
      "Disease\t0\n"
     ]
    }
   ],
   "source": [
    "# Table 3\n",
    "for j in entity_pairs:\n",
    "    j=j.replace('_',' ')\n",
    "    names[j+'_aging']=set()\n",
    "    for i in disease_list:\n",
    "        if i.get('partofspeech')=='positive' and i.get('entity_one_type')==j:\n",
    "            names[j+'_aging'].add(i.get('entity_one_transformed'))\n",
    "    print(j+'\\t'+str(len(names[j+'_aging'])))\n",
    "    "
   ]
  },
  {
   "cell_type": "code",
   "execution_count": 424,
   "id": "8d282274-a618-48d3-97df-3e6ac7df2340",
   "metadata": {},
   "outputs": [
    {
     "name": "stdout",
     "output_type": "stream",
     "text": [
      "Gene\t328\n",
      "RNA\t10\n",
      "Carbohydrate\t46\n",
      "Lipid\t37\n",
      "Peptide\t10\n",
      "Pharmaceutical Preparations\t2\n",
      "Protein\t7\n",
      "Toxin\t0\n",
      "Mutation\t7\n",
      "Disease\t0\n"
     ]
    }
   ],
   "source": [
    "# Table 3\n",
    "for j in entity_pairs:\n",
    "    j=j.replace('_',' ')\n",
    "    names[j+'_longevity']=set()\n",
    "    for i in disease_list:\n",
    "        if i.get('partofspeech')=='negative' and i.get('entity_one_type')==j:\n",
    "            names[j+'_longevity'].add(i.get('entity_one_transformed'))\n",
    "    print(j+'\\t'+str(len(names[j+'_longevity'])))\n",
    "    "
   ]
  },
  {
   "cell_type": "code",
   "execution_count": null,
   "id": "1c3f9642-695c-4abd-a1e6-c923ff3c0ca9",
   "metadata": {},
   "outputs": [],
   "source": []
  },
  {
   "cell_type": "code",
   "execution_count": null,
   "id": "1eb2530e-2f80-41b7-839f-dbe8ba09bb91",
   "metadata": {},
   "outputs": [],
   "source": []
  },
  {
   "cell_type": "code",
   "execution_count": null,
   "id": "642faf1e-9ae7-4af1-a7f2-4cc316503714",
   "metadata": {},
   "outputs": [],
   "source": []
  },
  {
   "cell_type": "code",
   "execution_count": null,
   "id": "96694f2c-52c9-4287-9222-39edd10bab0e",
   "metadata": {},
   "outputs": [],
   "source": []
  },
  {
   "cell_type": "code",
   "execution_count": 441,
   "id": "161447d7-b609-4ccc-ae1d-8dce84beafcf",
   "metadata": {},
   "outputs": [],
   "source": [
    "Genedict=json.load(open('../dict/Genedict.json'))"
   ]
  },
  {
   "cell_type": "code",
   "execution_count": 443,
   "id": "a208ef32-a7eb-495c-a645-a0859f749894",
   "metadata": {},
   "outputs": [
    {
     "data": {
      "text/plain": [
       "[('A1BG', ['A1BG']),\n",
       " ('A1CF', ['A1CF']),\n",
       " ('A2M', ['A2M']),\n",
       " ('A2ML1', ['A2ML1']),\n",
       " ('A3GALT2', ['A3GALT2']),\n",
       " ('A4GALT', ['A4GALT']),\n",
       " ('A4GNT', ['A4GNT']),\n",
       " ('AAAS', ['AAAS']),\n",
       " ('AACS', ['AACS']),\n",
       " ('AADAC', ['AADAC'])]"
      ]
     },
     "execution_count": 443,
     "metadata": {},
     "output_type": "execute_result"
    }
   ],
   "source": [
    "list(Genedict.items())[:10]"
   ]
  },
  {
   "cell_type": "code",
   "execution_count": 444,
   "id": "7da0ebdf-324d-4718-ba52-ec17b2d30bba",
   "metadata": {},
   "outputs": [],
   "source": [
    "Genedict_upper={}\n",
    "for i,j in Genedict.items():\n",
    "    Genedict_upper[i.upper()]=j"
   ]
  },
  {
   "cell_type": "code",
   "execution_count": 418,
   "id": "33d3cef5-00f7-4647-b321-27d0055799e3",
   "metadata": {},
   "outputs": [
    {
     "name": "stdout",
     "output_type": "stream",
     "text": [
      "1594\n",
      "447\n"
     ]
    }
   ],
   "source": [
    "num_of_aging=set()\n",
    "num_of_longevity=set()\n",
    "for i in disease_list:\n",
    "    if i.get('partofspeech')=='positive':\n",
    "        num_of_aging.add(i.get('entity_one_transformed'))\n",
    "    elif i.get('partofspeech')=='negative':\n",
    "        num_of_longevity.add(i.get('entity_one_transformed'))\n",
    "print(len(num_of_aging))\n",
    "print(len(num_of_longevity))"
   ]
  },
  {
   "cell_type": "code",
   "execution_count": 414,
   "id": "68b2171e-310d-4657-9999-3a0fc32b59e4",
   "metadata": {},
   "outputs": [],
   "source": [
    "disease_entity_list=[]\n",
    "disease_entity_triple=set()\n",
    "disease_entity_dict={}\n",
    "for i in disease_list:\n",
    "    if i.get('partofspeech')=='positive':\n",
    "        if i.get('entity_one_type')=='Gene':\n",
    "            # if (i.get('entity_one_transformed'),i.get('entity_two_transformed'),i.get('PMID')) not in disease_entity_triple:\n",
    "\n",
    "            disease_entity_triple.add((i.get('entity_one_transformed'),i.get('entity_two_transformed'),i.get('PMID')))\n",
    "            disease_entity_list.append(i)\n",
    "            disease_entity_dict[i.get('entity_one_transformed')]=disease_entity_dict.get(i.get('entity_one_transformed'),0)+1"
   ]
  },
  {
   "cell_type": "code",
   "execution_count": 417,
   "id": "26b8beff-e617-457c-8a8f-a9dbaa583e6e",
   "metadata": {},
   "outputs": [
    {
     "data": {
      "text/plain": [
       "1130"
      ]
     },
     "execution_count": 417,
     "metadata": {},
     "output_type": "execute_result"
    }
   ],
   "source": [
    "len(disease_entity_dict)"
   ]
  },
  {
   "cell_type": "code",
   "execution_count": 415,
   "id": "0c6ddfde-85f3-4981-95e8-ad56c266117d",
   "metadata": {},
   "outputs": [],
   "source": [
    "disease_entity_dict_sorted = sorted(disease_entity_dict.items(), key=lambda x: x[1], reverse=True)"
   ]
  },
  {
   "cell_type": "code",
   "execution_count": 416,
   "id": "af546138-fe74-477d-8c3e-2b4babd1a8ae",
   "metadata": {},
   "outputs": [
    {
     "data": {
      "text/plain": [
       "1130"
      ]
     },
     "execution_count": 416,
     "metadata": {},
     "output_type": "execute_result"
    }
   ],
   "source": [
    "len(disease_entity_dict_sorted)"
   ]
  },
  {
   "cell_type": "code",
   "execution_count": 261,
   "id": "0172c694-5142-4a17-a111-7b1c6aa97a82",
   "metadata": {},
   "outputs": [
    {
     "name": "stdout",
     "output_type": "stream",
     "text": [
      "('INS', 427)\n",
      "('CRP', 297)\n",
      "('APOE', 227)\n",
      "('KL', 191)\n",
      "('MAPT', 151)\n",
      "('SIRT1', 114)\n",
      "('IL6', 97)\n",
      "('ADIPOQ', 91)\n",
      "('LMNA', 72)\n",
      "('LEP', 70)\n",
      "('ALB', 66)\n",
      "('WRN', 66)\n",
      "('CD4', 64)\n",
      "('TP53', 51)\n",
      "('BDNF', 43)\n",
      "('CST3', 43)\n",
      "('SHBG', 43)\n",
      "('FGF23', 41)\n",
      "('ACE', 39)\n",
      "('SIRT6', 37)\n"
     ]
    }
   ],
   "source": [
    "for i in disease_entity_dict_sorted[:20]:\n",
    "    print(i)"
   ]
  },
  {
   "cell_type": "code",
   "execution_count": 484,
   "id": "026cce6f-6e54-4b27-8197-d3107794a8b2",
   "metadata": {},
   "outputs": [],
   "source": [
    "genage=pd.read_csv('genage_human.csv')"
   ]
  },
  {
   "cell_type": "code",
   "execution_count": 485,
   "id": "e71a74ab-d74e-46d3-80a8-94278f35eab7",
   "metadata": {},
   "outputs": [
    {
     "data": {
      "text/html": [
       "<div>\n",
       "<style scoped>\n",
       "    .dataframe tbody tr th:only-of-type {\n",
       "        vertical-align: middle;\n",
       "    }\n",
       "\n",
       "    .dataframe tbody tr th {\n",
       "        vertical-align: top;\n",
       "    }\n",
       "\n",
       "    .dataframe thead th {\n",
       "        text-align: right;\n",
       "    }\n",
       "</style>\n",
       "<table border=\"1\" class=\"dataframe\">\n",
       "  <thead>\n",
       "    <tr style=\"text-align: right;\">\n",
       "      <th></th>\n",
       "      <th>GenAge ID</th>\n",
       "      <th>symbol</th>\n",
       "      <th>name</th>\n",
       "      <th>entrez gene id</th>\n",
       "      <th>uniprot</th>\n",
       "      <th>why</th>\n",
       "    </tr>\n",
       "  </thead>\n",
       "  <tbody>\n",
       "    <tr>\n",
       "      <th>0</th>\n",
       "      <td>1</td>\n",
       "      <td>GHR</td>\n",
       "      <td>growth hormone receptor</td>\n",
       "      <td>2690</td>\n",
       "      <td>GHR_HUMAN</td>\n",
       "      <td>mammal</td>\n",
       "    </tr>\n",
       "    <tr>\n",
       "      <th>1</th>\n",
       "      <td>2</td>\n",
       "      <td>GHRH</td>\n",
       "      <td>growth hormone releasing hormone</td>\n",
       "      <td>2691</td>\n",
       "      <td>SLIB_HUMAN</td>\n",
       "      <td>mammal</td>\n",
       "    </tr>\n",
       "  </tbody>\n",
       "</table>\n",
       "</div>"
      ],
      "text/plain": [
       "   GenAge ID symbol                              name  entrez gene id  \\\n",
       "0          1    GHR           growth hormone receptor            2690   \n",
       "1          2   GHRH  growth hormone releasing hormone            2691   \n",
       "\n",
       "      uniprot     why  \n",
       "0   GHR_HUMAN  mammal  \n",
       "1  SLIB_HUMAN  mammal  "
      ]
     },
     "execution_count": 485,
     "metadata": {},
     "output_type": "execute_result"
    }
   ],
   "source": [
    "genage[:2]"
   ]
  },
  {
   "cell_type": "code",
   "execution_count": 486,
   "id": "910f7647-be67-4549-9832-b7961279b3e5",
   "metadata": {},
   "outputs": [
    {
     "data": {
      "text/plain": [
       "307"
      ]
     },
     "execution_count": 486,
     "metadata": {},
     "output_type": "execute_result"
    }
   ],
   "source": [
    "len(genage)"
   ]
  },
  {
   "cell_type": "code",
   "execution_count": 649,
   "id": "b7cf8fc6-931f-489b-a570-1769616cd1e1",
   "metadata": {},
   "outputs": [
    {
     "name": "stdout",
     "output_type": "stream",
     "text": [
      "TERC\n"
     ]
    }
   ],
   "source": [
    "genage_symbol=set()\n",
    "genage_symbol_transfer={}\n",
    "for i in genage['symbol'].tolist():\n",
    "    if Genedict_upper.get(i.upper()):\n",
    "        genage_symbol.add(Genedict_upper.get(i.upper())[0])\n",
    "        if genage_symbol_transfer.get(Genedict_upper.get(i.upper())[0]) and i not in genage_symbol_transfer.get(Genedict_upper.get(i.upper())[0]):\n",
    "            genage_symbol_transfer[Genedict_upper.get(i.upper())[0]]+=[i]\n",
    "            print(Genedict_upper.get(i.upper())[0])\n",
    "            print(genage_symbol_transfer.get(Genedict_upper.get(i.upper())[0]))\n",
    "        else:\n",
    "            genage_symbol_transfer[Genedict_upper.get(i.upper())[0]]=[i]\n",
    "    else:\n",
    "        print(i)"
   ]
  },
  {
   "cell_type": "code",
   "execution_count": 650,
   "id": "e151db4b-2f51-490f-81ac-81abbb179378",
   "metadata": {},
   "outputs": [
    {
     "data": {
      "text/plain": [
       "306"
      ]
     },
     "execution_count": 650,
     "metadata": {},
     "output_type": "execute_result"
    }
   ],
   "source": [
    "len(genage_symbol)"
   ]
  },
  {
   "cell_type": "code",
   "execution_count": 651,
   "id": "d3b87e8d-0d1b-4f51-89ac-4d174c2b0d9e",
   "metadata": {},
   "outputs": [],
   "source": [
    "vcx=0\n",
    "for i in disease_entity_dict_sorted:\n",
    "    if i[0] in genage_symbol:\n",
    "        vcx+=1"
   ]
  },
  {
   "cell_type": "code",
   "execution_count": 652,
   "id": "40c987a3-7647-4e2e-b072-d9d071f1d016",
   "metadata": {},
   "outputs": [
    {
     "data": {
      "text/plain": [
       "156"
      ]
     },
     "execution_count": 652,
     "metadata": {},
     "output_type": "execute_result"
    }
   ],
   "source": [
    "vcx"
   ]
  },
  {
   "cell_type": "code",
   "execution_count": 653,
   "id": "2f295158-38da-4b60-b0ab-2e1dadb50450",
   "metadata": {},
   "outputs": [
    {
     "name": "stdout",
     "output_type": "stream",
     "text": [
      "8\n"
     ]
    }
   ],
   "source": [
    "vcx0=0\n",
    "for i in disease_entity_dict_sorted[:10]:\n",
    "    if i[0] in genage_symbol:\n",
    "        vcx0+=1\n",
    "print(vcx0)"
   ]
  },
  {
   "cell_type": "code",
   "execution_count": 336,
   "id": "ef30f941-8f1f-48dd-a053-318cec1280d5",
   "metadata": {},
   "outputs": [],
   "source": [
    "disease_entity_list2=[]\n",
    "disease_entity_triple2=set()\n",
    "disease_entity_dict2={}\n",
    "for i in disease_list:\n",
    "    if i.get('partofspeech')=='negative':\n",
    "        if i.get('entity_one_type')=='Gene':\n",
    "            # if (i.get('entity_one_transformed'),i.get('entity_two_transformed'),i.get('PMID')) not in disease_entity_triple:\n",
    "\n",
    "            disease_entity_triple2.add((i.get('entity_one_transformed'),i.get('entity_two_transformed'),i.get('PMID')))\n",
    "            disease_entity_list2.append(i)\n",
    "            disease_entity_dict2[i.get('entity_one_transformed')]=disease_entity_dict2.get(i.get('entity_one_transformed'),0)+1"
   ]
  },
  {
   "cell_type": "markdown",
   "id": "8bf31d51-fb70-4a0b-aef3-59d02a8b3952",
   "metadata": {},
   "source": [
    "disease_entity_list3=[]\n",
    "disease_entity_triple3=set()\n",
    "disease_entity_dict3={}\n",
    "for i in disease_list:\n",
    "    if i.get('partofspeech')=='negative':\n",
    "        if i.get('entity_one_type')=='Mutation':\n",
    "            # if (i.get('entity_one_transformed'),i.get('entity_two_transformed'),i.get('PMID')) not in disease_entity_triple:\n",
    "\n",
    "            disease_entity_triple3.add((i.get('entity_one_transformed'),i.get('entity_two_transformed'),i.get('PMID')))\n",
    "            disease_entity_list3.append(i)\n",
    "            disease_entity_dict3[i.get('entity_one_transformed')]=disease_entity_dict3.get(i.get('entity_one_transformed'),0)+1"
   ]
  },
  {
   "cell_type": "code",
   "execution_count": 358,
   "id": "24533725-765c-4f29-be72-2df0ea287f46",
   "metadata": {},
   "outputs": [],
   "source": [
    "disease_entity_dict2_sorted = sorted(disease_entity_dict2.items(), key=lambda x: x[1], reverse=True)"
   ]
  },
  {
   "cell_type": "markdown",
   "id": "285d496f-7f42-4367-ae94-b4b176332a7d",
   "metadata": {},
   "source": [
    "disease_entity_dict3_sorted = sorted(disease_entity_dict3.items(), key=lambda x: x[1], reverse=True)"
   ]
  },
  {
   "cell_type": "code",
   "execution_count": 497,
   "id": "494a651f-9841-41c8-96b3-13c272dc565c",
   "metadata": {},
   "outputs": [
    {
     "data": {
      "text/plain": [
       "328"
      ]
     },
     "execution_count": 497,
     "metadata": {},
     "output_type": "execute_result"
    }
   ],
   "source": [
    "len(disease_entity_dict2_sorted)"
   ]
  },
  {
   "cell_type": "markdown",
   "id": "ea17522d-c7c0-40d2-a351-50ee1c1c74a3",
   "metadata": {},
   "source": [
    "len(disease_entity_dict3_sorted)"
   ]
  },
  {
   "cell_type": "code",
   "execution_count": 284,
   "id": "1b9d4da7-5239-4d48-a72d-0e481dd719ed",
   "metadata": {},
   "outputs": [
    {
     "name": "stdout",
     "output_type": "stream",
     "text": [
      "('SIRT1', 63)\n",
      "('KL', 56)\n",
      "('INS', 50)\n",
      "('ACE', 24)\n",
      "('SIRT6', 20)\n",
      "('MAPT', 20)\n",
      "('NFE2L2', 15)\n",
      "('TP53', 15)\n",
      "('APOE', 14)\n",
      "('EPO', 14)\n",
      "('PRKAA2', 11)\n",
      "('MTOR', 11)\n",
      "('SIRT3', 10)\n",
      "('PTH', 10)\n",
      "('CRP', 9)\n",
      "('PRKAB1', 8)\n",
      "('ADIPOQ', 8)\n",
      "('NR3C2', 8)\n",
      "('WRN', 7)\n",
      "('AGER', 7)\n"
     ]
    }
   ],
   "source": [
    "for i in disease_entity_dict2_sorted[:20]:\n",
    "    print(i)"
   ]
  },
  {
   "cell_type": "code",
   "execution_count": 498,
   "id": "32cfbd5e-7adb-437d-9c58-a83ce90ec465",
   "metadata": {},
   "outputs": [],
   "source": [
    "longevity_human=pd.read_csv('longevity_human.csv')"
   ]
  },
  {
   "cell_type": "code",
   "execution_count": 499,
   "id": "ebc03b54-2c7e-4e03-ab79-6b64cf9d9d91",
   "metadata": {},
   "outputs": [
    {
     "data": {
      "text/html": [
       "<div>\n",
       "<style scoped>\n",
       "    .dataframe tbody tr th:only-of-type {\n",
       "        vertical-align: middle;\n",
       "    }\n",
       "\n",
       "    .dataframe tbody tr th {\n",
       "        vertical-align: top;\n",
       "    }\n",
       "\n",
       "    .dataframe thead th {\n",
       "        text-align: right;\n",
       "    }\n",
       "</style>\n",
       "<table border=\"1\" class=\"dataframe\">\n",
       "  <thead>\n",
       "    <tr style=\"text-align: right;\">\n",
       "      <th></th>\n",
       "      <th>id</th>\n",
       "      <th>Association</th>\n",
       "      <th>Population</th>\n",
       "      <th>Variant(s)</th>\n",
       "      <th>Gene(s)</th>\n",
       "      <th>PubMed</th>\n",
       "    </tr>\n",
       "  </thead>\n",
       "  <tbody>\n",
       "    <tr>\n",
       "      <th>0</th>\n",
       "      <td>1</td>\n",
       "      <td>non-significant</td>\n",
       "      <td>Dutch</td>\n",
       "      <td>HLA-B40</td>\n",
       "      <td>HLA-B</td>\n",
       "      <td>1859103</td>\n",
       "    </tr>\n",
       "    <tr>\n",
       "      <th>1</th>\n",
       "      <td>2</td>\n",
       "      <td>non-significant</td>\n",
       "      <td>Dutch</td>\n",
       "      <td>HLA-DRB5</td>\n",
       "      <td>HLA-DRB5</td>\n",
       "      <td>1859103</td>\n",
       "    </tr>\n",
       "  </tbody>\n",
       "</table>\n",
       "</div>"
      ],
      "text/plain": [
       "  id      Association Population Variant(s)   Gene(s)   PubMed\n",
       "0  1  non-significant      Dutch    HLA-B40     HLA-B  1859103\n",
       "1  2  non-significant      Dutch   HLA-DRB5  HLA-DRB5  1859103"
      ]
     },
     "execution_count": 499,
     "metadata": {},
     "output_type": "execute_result"
    }
   ],
   "source": [
    "longevity_human[:2]"
   ]
  },
  {
   "cell_type": "code",
   "execution_count": 500,
   "id": "f6eed028-7c9a-4bb1-a783-807b9e2191a1",
   "metadata": {},
   "outputs": [
    {
     "data": {
      "text/plain": [
       "550"
      ]
     },
     "execution_count": 500,
     "metadata": {},
     "output_type": "execute_result"
    }
   ],
   "source": [
    "len(longevity_human)"
   ]
  },
  {
   "cell_type": "code",
   "execution_count": 656,
   "id": "43cc40d8-f24c-46d1-8e80-57a9a52dad5e",
   "metadata": {},
   "outputs": [],
   "source": [
    "\n",
    "longevity_human_symbol=set()\n",
    "longevity_human_symbol_transfer={}\n",
    "for j in longevity_human['Gene(s)'].tolist():\n",
    "    if type(j)==str:\n",
    "        for i in j.split(','):\n",
    "            if Genedict_upper.get(i.upper()):\n",
    "                longevity_human_symbol.add(Genedict_upper.get(i.upper())[0])\n",
    "                if longevity_human_symbol_transfer.get(Genedict_upper.get(i.upper())[0]) and i not in longevity_human_symbol_transfer.get(Genedict_upper.get(i.upper())[0]):\n",
    "                    longevity_human_symbol_transfer[Genedict_upper.get(i.upper())[0]]+=[i]\n",
    "                    print(Genedict_upper.get(i.upper())[0])\n",
    "                    print(longevity_human_symbol_transfer.get(Genedict_upper.get(i.upper())[0]))\n",
    "                else:\n",
    "                    longevity_human_symbol_transfer[Genedict_upper.get(i.upper())[0]]=[i]"
   ]
  },
  {
   "cell_type": "markdown",
   "id": "a55dfad1-bf9a-444a-b25b-dd73bcd8a650",
   "metadata": {},
   "source": [
    "longevity_human_mutation=set()\n",
    "for j,i in enumerate(longevity_human['Variant(s)'].tolist()):\n",
    "    if type(i)==str:\n",
    "        for j in i.split(','):\n",
    "            longevity_human_mutation.add(j)"
   ]
  },
  {
   "cell_type": "code",
   "execution_count": 657,
   "id": "d64fabfd-d722-4f94-85b0-ad83418afa45",
   "metadata": {},
   "outputs": [
    {
     "data": {
      "text/plain": [
       "766"
      ]
     },
     "execution_count": 657,
     "metadata": {},
     "output_type": "execute_result"
    }
   ],
   "source": [
    "#884\n",
    "len(longevity_human_symbol)"
   ]
  },
  {
   "cell_type": "markdown",
   "id": "07f3b568-fb9c-412c-af2d-bd0b4da24722",
   "metadata": {},
   "source": [
    "len(longevity_human_mutation)"
   ]
  },
  {
   "cell_type": "code",
   "execution_count": null,
   "id": "c08a3b06-787c-450e-8e42-112074e3bcc1",
   "metadata": {},
   "outputs": [],
   "source": []
  },
  {
   "cell_type": "code",
   "execution_count": 658,
   "id": "e7ddfe32-f094-49ba-8761-523838cb05d0",
   "metadata": {},
   "outputs": [
    {
     "data": {
      "text/plain": [
       "328"
      ]
     },
     "execution_count": 658,
     "metadata": {},
     "output_type": "execute_result"
    }
   ],
   "source": [
    "len(disease_entity_dict2_sorted)"
   ]
  },
  {
   "cell_type": "code",
   "execution_count": 659,
   "id": "2fe91d65-04f4-4617-a6fe-29809a204f79",
   "metadata": {},
   "outputs": [],
   "source": [
    "vcx2=0\n",
    "for i in disease_entity_dict2_sorted[:10]:\n",
    "    if i[0] in longevity_human_symbol:\n",
    "        vcx2+=1"
   ]
  },
  {
   "cell_type": "code",
   "execution_count": 660,
   "id": "dfb64ea3-d1cc-407e-91d3-37c49c34d84c",
   "metadata": {},
   "outputs": [
    {
     "data": {
      "text/plain": [
       "7"
      ]
     },
     "execution_count": 660,
     "metadata": {},
     "output_type": "execute_result"
    }
   ],
   "source": [
    "vcx2"
   ]
  },
  {
   "cell_type": "markdown",
   "id": "f6580b2f-16fc-4f1d-8403-b7a93a91824a",
   "metadata": {},
   "source": [
    "len(disease_entity_dict3_sorted)"
   ]
  },
  {
   "cell_type": "code",
   "execution_count": 661,
   "id": "8a8831cd-fc27-450b-ac27-6f04a61b4535",
   "metadata": {},
   "outputs": [],
   "source": [
    "vcx2=0\n",
    "for i in disease_entity_dict2_sorted:\n",
    "    if i[0] in longevity_human_symbol:\n",
    "        vcx2+=1"
   ]
  },
  {
   "cell_type": "code",
   "execution_count": 662,
   "id": "4977a999-eb5d-40fc-9139-0c8686769a7e",
   "metadata": {},
   "outputs": [
    {
     "data": {
      "text/plain": [
       "75"
      ]
     },
     "execution_count": 662,
     "metadata": {},
     "output_type": "execute_result"
    }
   ],
   "source": [
    "#73\n",
    "vcx2"
   ]
  },
  {
   "cell_type": "markdown",
   "id": "20ffbae8-d700-43b2-a050-dbbae5971f36",
   "metadata": {},
   "source": [
    "aging_longevity_all=set()\n",
    "for i in genage_symbol:\n",
    "    aging_longevity_all.add(i)\n",
    "for i in longevity_human_symbol:\n",
    "    aging_longevity_all.add(i)"
   ]
  },
  {
   "cell_type": "markdown",
   "id": "53023811-a681-4854-ac4f-12eada8c5133",
   "metadata": {},
   "source": [
    "len(aging_longevity_all)"
   ]
  },
  {
   "cell_type": "markdown",
   "id": "4fcffc71-dfa4-4dfb-b03d-afe00235e0fb",
   "metadata": {},
   "source": [
    "vcx4=0\n",
    "for i in disease_entity_dict_sorted:\n",
    "    if i[0] in aging_longevity_all:\n",
    "        vcx4+=1\n",
    "for i in disease_entity_dict2_sorted:\n",
    "    if i[0] in aging_longevity_all:\n",
    "        vcx4+=1"
   ]
  },
  {
   "cell_type": "markdown",
   "id": "d272c953-e210-450e-98af-b29293e7bf94",
   "metadata": {},
   "source": [
    "vcx4"
   ]
  },
  {
   "cell_type": "code",
   "execution_count": 605,
   "id": "0bfbd8cc-3c33-4f4f-8626-cc803e5d85ef",
   "metadata": {},
   "outputs": [],
   "source": [
    "gene_longevity_symbol_dict={}\n",
    "# gene_longevity_symbol=[]\n",
    "for i in disease_entity_dict_sorted:\n",
    "    gene_longevity_symbol_dict[i[0]]=gene_longevity_symbol_dict.get(i[0],0)+i[1]\n",
    "for i in disease_entity_dict2_sorted:\n",
    "    gene_longevity_symbol_dict[i[0]]=gene_longevity_symbol_dict.get(i[0],0)+i[1]"
   ]
  },
  {
   "cell_type": "code",
   "execution_count": 606,
   "id": "66014e01-b5a9-4bcf-9fb4-a7b86df2c2f7",
   "metadata": {},
   "outputs": [
    {
     "data": {
      "text/plain": [
       "1232"
      ]
     },
     "execution_count": 606,
     "metadata": {},
     "output_type": "execute_result"
    }
   ],
   "source": [
    "len(gene_longevity_symbol_dict)"
   ]
  },
  {
   "cell_type": "code",
   "execution_count": 607,
   "id": "984171c0-ac1e-474b-b1ea-9553da3aa335",
   "metadata": {},
   "outputs": [],
   "source": [
    "gene_longevity_symbol = sorted(gene_longevity_symbol_dict.items(), key=lambda x: x[1], reverse=True)"
   ]
  },
  {
   "cell_type": "code",
   "execution_count": 609,
   "id": "bcaa4b89-e791-4dab-b855-96700089e5e9",
   "metadata": {},
   "outputs": [
    {
     "data": {
      "text/plain": [
       "[('INS', 477), ('CRP', 306)]"
      ]
     },
     "execution_count": 609,
     "metadata": {},
     "output_type": "execute_result"
    }
   ],
   "source": [
    "gene_longevity_symbol[:2]"
   ]
  },
  {
   "cell_type": "code",
   "execution_count": 663,
   "id": "a525cd9a-d56c-4ddb-b3dc-0e6376a39083",
   "metadata": {},
   "outputs": [
    {
     "name": "stdout",
     "output_type": "stream",
     "text": [
      "164\n"
     ]
    }
   ],
   "source": [
    "vcx4=0\n",
    "for i in gene_longevity_symbol:\n",
    "    if i[0] in genage_symbol:\n",
    "        vcx4+=1\n",
    "print(vcx4)"
   ]
  },
  {
   "cell_type": "code",
   "execution_count": 664,
   "id": "19a846e5-edd9-49cd-b630-ceddec0ec8e2",
   "metadata": {},
   "outputs": [
    {
     "name": "stdout",
     "output_type": "stream",
     "text": [
      "215\n"
     ]
    }
   ],
   "source": [
    "vcx5=0\n",
    "for i in gene_longevity_symbol:\n",
    "    if i[0] in longevity_human_symbol:\n",
    "        vcx5+=1\n",
    "print(vcx5)"
   ]
  },
  {
   "cell_type": "code",
   "execution_count": 665,
   "id": "07b65ca4-ea0a-4798-95e8-51763edd4acb",
   "metadata": {},
   "outputs": [
    {
     "name": "stdout",
     "output_type": "stream",
     "text": [
      "8\n"
     ]
    }
   ],
   "source": [
    "vcx44=0\n",
    "for i in gene_longevity_symbol[:10]:\n",
    "    if i[0] in genage_symbol:\n",
    "        vcx44+=1\n",
    "print(vcx44)"
   ]
  },
  {
   "cell_type": "code",
   "execution_count": 667,
   "id": "95b7490c-b2fc-435e-b64e-e85121c3cd12",
   "metadata": {},
   "outputs": [
    {
     "name": "stdout",
     "output_type": "stream",
     "text": [
      "8\n"
     ]
    }
   ],
   "source": [
    "vcx55=0\n",
    "for i in gene_longevity_symbol[:10]:\n",
    "    if i[0] in longevity_human_symbol:\n",
    "        vcx55+=1\n",
    "print(vcx55)"
   ]
  },
  {
   "cell_type": "markdown",
   "id": "8eea116a-815a-4ab7-b0fc-589f26caadf9",
   "metadata": {},
   "source": [
    "276/884"
   ]
  },
  {
   "cell_type": "code",
   "execution_count": 521,
   "id": "7cb4ccba-5df9-4466-9883-feeace65fb02",
   "metadata": {},
   "outputs": [
    {
     "data": {
      "text/plain": [
       "0.5098039215686274"
      ]
     },
     "execution_count": 521,
     "metadata": {},
     "output_type": "execute_result"
    }
   ],
   "source": [
    "156/306"
   ]
  },
  {
   "cell_type": "code",
   "execution_count": 522,
   "id": "9dd48755-18bf-4530-8ca6-cba67d10f7db",
   "metadata": {},
   "outputs": [
    {
     "data": {
      "text/plain": [
       "0.097911227154047"
      ]
     },
     "execution_count": 522,
     "metadata": {},
     "output_type": "execute_result"
    }
   ],
   "source": [
    "75/766"
   ]
  },
  {
   "cell_type": "code",
   "execution_count": 617,
   "id": "7a0337e2-be9d-4758-bbc3-3072996244f9",
   "metadata": {},
   "outputs": [
    {
     "data": {
      "text/plain": [
       "0.5359477124183006"
      ]
     },
     "execution_count": 617,
     "metadata": {},
     "output_type": "execute_result"
    }
   ],
   "source": [
    "164/306"
   ]
  },
  {
   "cell_type": "code",
   "execution_count": 618,
   "id": "8f100dc2-992d-4769-9cb1-dd6b67fabab2",
   "metadata": {},
   "outputs": [
    {
     "data": {
      "text/plain": [
       "0.28067885117493474"
      ]
     },
     "execution_count": 618,
     "metadata": {},
     "output_type": "execute_result"
    }
   ],
   "source": [
    "215/766"
   ]
  },
  {
   "cell_type": "markdown",
   "id": "fab38447-0750-4eb4-8246-b756995dab7b",
   "metadata": {},
   "source": [
    "vcx3=0\n",
    "for i in disease_entity_dict3_sorted:\n",
    "    if i[0] in longevity_human_mutation:\n",
    "        vcx3+=1"
   ]
  },
  {
   "cell_type": "markdown",
   "id": "9eed38ad-e92e-45ac-a9a9-fd6f93cd6d76",
   "metadata": {},
   "source": [
    "disease_entity_dict3_sorted"
   ]
  },
  {
   "cell_type": "markdown",
   "id": "0da0f264-79b5-47c5-9a0e-e3c07dc1438f",
   "metadata": {},
   "source": [
    "vcx3"
   ]
  },
  {
   "cell_type": "markdown",
   "id": "07913f56-fe31-4ab8-90d8-485b8cf3114e",
   "metadata": {},
   "source": [
    "for i in disease_entity_dict_sorted[:10]:\n",
    "    if i[0] not in genage_symbol:\n",
    "        print(i)"
   ]
  },
  {
   "cell_type": "code",
   "execution_count": null,
   "id": "ed294856-d83d-4714-a7b0-648393a2752e",
   "metadata": {},
   "outputs": [],
   "source": []
  },
  {
   "cell_type": "markdown",
   "id": "d76bfaf8-2f67-473d-904f-b5bf8818d92c",
   "metadata": {},
   "source": [
    "#Supplementary Table 1\n",
    "data1=[]\n",
    "data2=[]\n",
    "data3=[]\n",
    "for j,i in enumerate(gene_longevity_symbol):\n",
    "    if i[0] in genage_symbol:\n",
    "        data1.append(i[0])\n",
    "        data2.append(i[1])\n",
    "        data3.append(genage_symbol_transfer.get(i[0]))\n",
    "dataframe = pd.DataFrame({'Genes':data1,'Frequency of occurrence':data2,'Corresponding to GenAge':data3})\n",
    "dataframe.to_csv(\"./table4.csv\", index=False)"
   ]
  },
  {
   "cell_type": "markdown",
   "id": "74118ff0-801e-4dd9-9eb8-4dea526e800f",
   "metadata": {},
   "source": [
    "#Supplementary Table 1\n",
    "data1 = []\n",
    "data2=[]\n",
    "data3=[]\n",
    "for i in disease_entity_dict_sorted:\n",
    "    if i[0] in genage_symbol:\n",
    "        data1.append(i[0])\n",
    "        data2.append(i[1])\n",
    "        data3.append(genage_symbol_transfer.get(i[0]))\n",
    "dataframe = pd.DataFrame({'Genes':data1,'Frequency of occurrence':data2,'Corresponding to GenAge':data3})\n",
    "dataframe.to_csv(\"./table4.csv\", index=False)\n"
   ]
  },
  {
   "cell_type": "markdown",
   "id": "66541dec-766f-4fa3-ab64-bd9969efa036",
   "metadata": {},
   "source": [
    "#Supplementary Table 2\n",
    "data4 = []\n",
    "data5=[]\n",
    "data6=[]\n",
    "for i in disease_entity_dict2_sorted:\n",
    "    if i[0] in longevity_human_symbol:\n",
    "        data4.append(i[0])\n",
    "        data5.append(i[1])\n",
    "        data6.append(longevity_human_symbol_transfer.get(i[0]))\n",
    "dataframe2 = pd.DataFrame({'Genes':data4,'Frequency of occurrence':data5,'Corresponding to LongevityMap':data6})\n",
    "dataframe2.to_csv(\"./table5.csv\", index=False)\n"
   ]
  },
  {
   "cell_type": "code",
   "execution_count": 619,
   "id": "c566b84d-ab34-426d-b154-f50c1de3a402",
   "metadata": {},
   "outputs": [
    {
     "name": "stdout",
     "output_type": "stream",
     "text": [
      "766\n"
     ]
    }
   ],
   "source": [
    "print(len(longevity_human_symbol))"
   ]
  },
  {
   "cell_type": "code",
   "execution_count": 620,
   "id": "4af3bf44-1cac-4a1e-90cd-854ed0840d66",
   "metadata": {},
   "outputs": [
    {
     "name": "stdout",
     "output_type": "stream",
     "text": [
      "328\n"
     ]
    }
   ],
   "source": [
    "print(len(disease_entity_dict2_sorted))"
   ]
  },
  {
   "cell_type": "code",
   "execution_count": 432,
   "id": "9360cd03-2370-4eea-9732-f512eca71cae",
   "metadata": {},
   "outputs": [
    {
     "name": "stdout",
     "output_type": "stream",
     "text": [
      "INS\n",
      "CRP\n",
      "APOE\n",
      "KL\n",
      "MAPT\n",
      "SIRT1\n",
      "IL6\n",
      "ADIPOQ\n",
      "LMNA\n",
      "LEP\n",
      "ALB\n",
      "WRN\n",
      "CD4\n",
      "TP53\n",
      "BDNF\n",
      "CST3\n",
      "SHBG\n",
      "FGF23\n",
      "ACE\n",
      "SIRT6\n"
     ]
    }
   ],
   "source": [
    "#Figure 3\n",
    "for i in disease_entity_dict_sorted[:20]:\n",
    "    print(i[0])\n"
   ]
  },
  {
   "cell_type": "code",
   "execution_count": 435,
   "id": "6d1c2fbd-00eb-4f88-a228-5e49b4f647b8",
   "metadata": {},
   "outputs": [
    {
     "name": "stdout",
     "output_type": "stream",
     "text": [
      "SIRT1\n",
      "KL\n",
      "INS\n",
      "ACE\n",
      "SIRT6\n",
      "MAPT\n",
      "NFE2L2\n",
      "TP53\n",
      "APOE\n",
      "EPO\n",
      "PRKAA2\n",
      "MTOR\n",
      "SIRT3\n",
      "PTH\n",
      "CRP\n",
      "PRKAB1\n",
      "ADIPOQ\n",
      "NR3C2\n",
      "WRN\n",
      "AGER\n"
     ]
    }
   ],
   "source": [
    "#Figure 3\n",
    "for i in disease_entity_dict2_sorted[:20]:\n",
    "    print(i[0])\n"
   ]
  },
  {
   "cell_type": "code",
   "execution_count": 621,
   "id": "610d8d27-b0c5-447e-8fea-ddf23b4ae9e6",
   "metadata": {},
   "outputs": [],
   "source": [
    "agingbank_genes_pro=pd.read_csv('agingbank_genes_pro.csv')"
   ]
  },
  {
   "cell_type": "code",
   "execution_count": 622,
   "id": "07395637-7c5f-48bd-a0d7-54df72cf57ad",
   "metadata": {},
   "outputs": [
    {
     "data": {
      "text/html": [
       "<div>\n",
       "<style scoped>\n",
       "    .dataframe tbody tr th:only-of-type {\n",
       "        vertical-align: middle;\n",
       "    }\n",
       "\n",
       "    .dataframe tbody tr th {\n",
       "        vertical-align: top;\n",
       "    }\n",
       "\n",
       "    .dataframe thead th {\n",
       "        text-align: right;\n",
       "    }\n",
       "</style>\n",
       "<table border=\"1\" class=\"dataframe\">\n",
       "  <thead>\n",
       "    <tr style=\"text-align: right;\">\n",
       "      <th></th>\n",
       "      <th>Species</th>\n",
       "      <th>Type</th>\n",
       "      <th>name</th>\n",
       "      <th>sample</th>\n",
       "      <th>Tissue</th>\n",
       "      <th>Up/Down</th>\n",
       "      <th>Pro/Anti</th>\n",
       "      <th>Pubmed ID</th>\n",
       "      <th>Details</th>\n",
       "    </tr>\n",
       "  </thead>\n",
       "  <tbody>\n",
       "    <tr>\n",
       "      <th>0</th>\n",
       "      <td>Homo sapiens</td>\n",
       "      <td>gene</td>\n",
       "      <td>ABI3</td>\n",
       "      <td>human</td>\n",
       "      <td>7 normal thyroid tissues, 21 follicular thyroi...</td>\n",
       "      <td>Down</td>\n",
       "      <td>Pro</td>\n",
       "      <td>21223585</td>\n",
       "      <td>details</td>\n",
       "    </tr>\n",
       "    <tr>\n",
       "      <th>1</th>\n",
       "      <td>Homo sapiens</td>\n",
       "      <td>gene</td>\n",
       "      <td>ABI3BP</td>\n",
       "      <td>human</td>\n",
       "      <td>7 normal thyroid tissues, 21 follicular thyroi...</td>\n",
       "      <td>Down</td>\n",
       "      <td>Pro</td>\n",
       "      <td>21223585</td>\n",
       "      <td>details</td>\n",
       "    </tr>\n",
       "    <tr>\n",
       "      <th>2</th>\n",
       "      <td>Homo sapiens</td>\n",
       "      <td>gene</td>\n",
       "      <td>ACE</td>\n",
       "      <td>human</td>\n",
       "      <td>NaN</td>\n",
       "      <td>NaN</td>\n",
       "      <td>Pro</td>\n",
       "      <td>16971231</td>\n",
       "      <td>details</td>\n",
       "    </tr>\n",
       "  </tbody>\n",
       "</table>\n",
       "</div>"
      ],
      "text/plain": [
       "        Species  Type    name sample  \\\n",
       "0  Homo sapiens  gene    ABI3  human   \n",
       "1  Homo sapiens  gene  ABI3BP  human   \n",
       "2  Homo sapiens  gene     ACE  human   \n",
       "\n",
       "                                              Tissue Up/Down Pro/Anti  \\\n",
       "0  7 normal thyroid tissues, 21 follicular thyroi...    Down      Pro   \n",
       "1  7 normal thyroid tissues, 21 follicular thyroi...    Down      Pro   \n",
       "2                                                NaN     NaN      Pro   \n",
       "\n",
       "   Pubmed ID  Details  \n",
       "0   21223585  details  \n",
       "1   21223585  details  \n",
       "2   16971231  details  "
      ]
     },
     "execution_count": 622,
     "metadata": {},
     "output_type": "execute_result"
    }
   ],
   "source": [
    "agingbank_genes_pro[:3]"
   ]
  },
  {
   "cell_type": "code",
   "execution_count": 623,
   "id": "3527ab36-1635-4c3a-9f06-51a93c9da792",
   "metadata": {},
   "outputs": [],
   "source": [
    "agingbank_genes_pro_list=agingbank_genes_pro['name'].tolist()"
   ]
  },
  {
   "cell_type": "code",
   "execution_count": 624,
   "id": "d710ed9d-57ee-458d-bc0b-87eeba9130c3",
   "metadata": {},
   "outputs": [
    {
     "data": {
      "text/plain": [
       "97"
      ]
     },
     "execution_count": 624,
     "metadata": {},
     "output_type": "execute_result"
    }
   ],
   "source": [
    "len(agingbank_genes_pro_list)"
   ]
  },
  {
   "cell_type": "code",
   "execution_count": 625,
   "id": "4b40d5d2-a05c-4952-8647-a291183caf64",
   "metadata": {},
   "outputs": [
    {
     "name": "stdout",
     "output_type": "stream",
     "text": [
      "IGF1\n",
      "['IGF1', 'IGF-I']\n",
      "CDKN2A\n",
      "['CDKN2A', 'p16']\n",
      "CDKN2A\n",
      "['CDKN2A', 'p16', 'p16INK4a']\n",
      "TP53\n",
      "['p53', 'TP53']\n",
      "CDKN2A\n",
      "['p16INK4a', 'CDKN2A']\n",
      "TP53\n",
      "['TP53', 'p53']\n",
      "CDKN2A\n",
      "['CDKN2A', 'p16']\n"
     ]
    }
   ],
   "source": [
    "# 发现有同一个实体对应不同的名字\n",
    "agingbank_genes_pro_symbol=set()\n",
    "agingbank_genes_pro_symbol_transfer={}\n",
    "for i in agingbank_genes_pro_list:\n",
    "    if re.search(r'(.*)(\\(.*\\))',i):\n",
    "        i=re.search(r'(.*)(\\(.*\\))',i).groups()[0]\n",
    "    if re.search(r'(.*)(\\s.*)',i):\n",
    "        i=re.search(r'(.*)(\\s.*)',i).groups()[0]\n",
    "    if Genedict_upper.get(i.upper()):\n",
    "        agingbank_genes_pro_symbol.add(Genedict_upper.get(i.upper())[0])\n",
    "        if agingbank_genes_pro_symbol_transfer.get(Genedict_upper.get(i.upper())[0]) and i not in agingbank_genes_pro_symbol_transfer.get(Genedict_upper.get(i.upper())[0]):\n",
    "            agingbank_genes_pro_symbol_transfer[Genedict_upper.get(i.upper())[0]]+=[i]\n",
    "            print(Genedict_upper.get(i.upper())[0])\n",
    "            print(agingbank_genes_pro_symbol_transfer.get(Genedict_upper.get(i.upper())[0]))\n",
    "        else:\n",
    "            agingbank_genes_pro_symbol_transfer[Genedict_upper.get(i.upper())[0]]=[i]"
   ]
  },
  {
   "cell_type": "code",
   "execution_count": 626,
   "id": "5346a467-4568-4503-ba11-66321c8e6bff",
   "metadata": {},
   "outputs": [
    {
     "data": {
      "text/plain": [
       "54"
      ]
     },
     "execution_count": 626,
     "metadata": {},
     "output_type": "execute_result"
    }
   ],
   "source": [
    "len(agingbank_genes_pro_symbol)"
   ]
  },
  {
   "cell_type": "code",
   "execution_count": 599,
   "id": "b38a146c-1046-4c4c-8e5d-509276eed0e7",
   "metadata": {},
   "outputs": [
    {
     "name": "stdout",
     "output_type": "stream",
     "text": [
      "3\n"
     ]
    }
   ],
   "source": [
    "counts=[]\n",
    "for i in agingbank_genes_pro_symbol:\n",
    "    for j in disease_entity_dict_sorted[:10]:\n",
    "        if i==j[0]:\n",
    "            counts.append(i)\n",
    "print(len(counts))\n",
    "# for i in gene_trans:\n",
    "#     if i not in counts:\n",
    "#         print(i)\n",
    "        "
   ]
  },
  {
   "cell_type": "code",
   "execution_count": 627,
   "id": "bbf4afdd-0a68-45a4-8117-a3c0c5483141",
   "metadata": {},
   "outputs": [
    {
     "name": "stdout",
     "output_type": "stream",
     "text": [
      "32\n"
     ]
    }
   ],
   "source": [
    "counts=[]\n",
    "for i in agingbank_genes_pro_symbol:\n",
    "    for j in disease_entity_dict_sorted:\n",
    "        if i==j[0]:\n",
    "            counts.append(i)\n",
    "print(len(counts))\n",
    "# for i in gene_trans:\n",
    "#     if i not in counts:\n",
    "#         print(i)\n",
    "        "
   ]
  },
  {
   "cell_type": "code",
   "execution_count": 561,
   "id": "d1fd46b0-bc89-4d6f-b108-6d90658073b3",
   "metadata": {},
   "outputs": [
    {
     "data": {
      "text/plain": [
       "0.5925925925925926"
      ]
     },
     "execution_count": 561,
     "metadata": {},
     "output_type": "execute_result"
    }
   ],
   "source": [
    "32/54"
   ]
  },
  {
   "cell_type": "code",
   "execution_count": 628,
   "id": "6fc596d8-833f-4a19-b881-fe6d6102ac86",
   "metadata": {},
   "outputs": [
    {
     "name": "stdout",
     "output_type": "stream",
     "text": [
      "33\n"
     ]
    }
   ],
   "source": [
    "vcx11=0\n",
    "for i in gene_longevity_symbol:\n",
    "    if i[0] in agingbank_genes_pro_symbol:\n",
    "        vcx11+=1\n",
    "print(vcx11)"
   ]
  },
  {
   "cell_type": "code",
   "execution_count": 630,
   "id": "034d809d-29c7-44fd-ad50-3e93c2f02985",
   "metadata": {},
   "outputs": [
    {
     "data": {
      "text/plain": [
       "0.6111111111111112"
      ]
     },
     "execution_count": 630,
     "metadata": {},
     "output_type": "execute_result"
    }
   ],
   "source": [
    "33/54"
   ]
  },
  {
   "cell_type": "code",
   "execution_count": 668,
   "id": "af601061-107e-4bbc-b22f-8538f7cc89c8",
   "metadata": {},
   "outputs": [
    {
     "name": "stdout",
     "output_type": "stream",
     "text": [
      "3\n"
     ]
    }
   ],
   "source": [
    "vcx66=0\n",
    "for i in gene_longevity_symbol[:10]:\n",
    "    if i[0] in agingbank_genes_pro_symbol:\n",
    "        vcx66+=1\n",
    "print(vcx66)"
   ]
  },
  {
   "cell_type": "markdown",
   "id": "cdc90f9e-8357-4f2e-a8e8-e6e2cf1957f3",
   "metadata": {},
   "source": [
    "#Supplementary Table 3\n",
    "data7 = []\n",
    "data8=[]\n",
    "data9=[]\n",
    "for i in disease_entity_dict_sorted:\n",
    "    if i[0] in agingbank_genes_pro_symbol:\n",
    "        data7.append(i[0])\n",
    "        data8.append(i[1])\n",
    "        data9.append('; '.join(agingbank_genes_pro_symbol_transfer.get(i[0])))\n",
    "dataframe2 = pd.DataFrame({'Genes':data7,'Frequency of occurrence':data8,'Corresponding to AgingBank':data9})\n",
    "dataframe2.to_csv(\"./table6.csv\", index=False)\n"
   ]
  },
  {
   "cell_type": "code",
   "execution_count": null,
   "id": "c627a48c-d8e4-4261-9419-60425a9ef0c9",
   "metadata": {},
   "outputs": [],
   "source": []
  },
  {
   "cell_type": "code",
   "execution_count": null,
   "id": "9ad5ed1a-a122-4cf3-b04b-5152d1a53e5a",
   "metadata": {},
   "outputs": [],
   "source": []
  },
  {
   "cell_type": "code",
   "execution_count": 631,
   "id": "fcf70a74-4cc0-4956-840a-e670621a7274",
   "metadata": {},
   "outputs": [],
   "source": [
    "agingbank_genes_anti=pd.read_csv('agingbank_genes_anti.csv')"
   ]
  },
  {
   "cell_type": "code",
   "execution_count": 632,
   "id": "1b5884bb-12e4-4d30-b561-09f1073d0d82",
   "metadata": {},
   "outputs": [
    {
     "data": {
      "text/html": [
       "<div>\n",
       "<style scoped>\n",
       "    .dataframe tbody tr th:only-of-type {\n",
       "        vertical-align: middle;\n",
       "    }\n",
       "\n",
       "    .dataframe tbody tr th {\n",
       "        vertical-align: top;\n",
       "    }\n",
       "\n",
       "    .dataframe thead th {\n",
       "        text-align: right;\n",
       "    }\n",
       "</style>\n",
       "<table border=\"1\" class=\"dataframe\">\n",
       "  <thead>\n",
       "    <tr style=\"text-align: right;\">\n",
       "      <th></th>\n",
       "      <th>Species</th>\n",
       "      <th>Type</th>\n",
       "      <th>name</th>\n",
       "      <th>sample</th>\n",
       "      <th>Tissue</th>\n",
       "      <th>Up/Down</th>\n",
       "      <th>Pro/Anti</th>\n",
       "      <th>Pubmed ID</th>\n",
       "      <th>Details</th>\n",
       "    </tr>\n",
       "  </thead>\n",
       "  <tbody>\n",
       "    <tr>\n",
       "      <th>0</th>\n",
       "      <td>Homo sapiens</td>\n",
       "      <td>gene</td>\n",
       "      <td>AEG-1</td>\n",
       "      <td>cell line</td>\n",
       "      <td>LNCaP;C42B</td>\n",
       "      <td>Down</td>\n",
       "      <td>Anti</td>\n",
       "      <td>28923415</td>\n",
       "      <td>details</td>\n",
       "    </tr>\n",
       "    <tr>\n",
       "      <th>1</th>\n",
       "      <td>Homo sapiens</td>\n",
       "      <td>gene</td>\n",
       "      <td>AKT1</td>\n",
       "      <td>human</td>\n",
       "      <td>Brain</td>\n",
       "      <td>NaN</td>\n",
       "      <td>Anti</td>\n",
       "      <td>16914869</td>\n",
       "      <td>details</td>\n",
       "    </tr>\n",
       "    <tr>\n",
       "      <th>2</th>\n",
       "      <td>Homo sapiens</td>\n",
       "      <td>gene</td>\n",
       "      <td>APOE</td>\n",
       "      <td>human</td>\n",
       "      <td>NaN</td>\n",
       "      <td>NaN</td>\n",
       "      <td>Anti</td>\n",
       "      <td>17234815</td>\n",
       "      <td>details</td>\n",
       "    </tr>\n",
       "  </tbody>\n",
       "</table>\n",
       "</div>"
      ],
      "text/plain": [
       "        Species  Type   name     sample      Tissue Up/Down Pro/Anti  \\\n",
       "0  Homo sapiens  gene  AEG-1  cell line  LNCaP;C42B    Down     Anti   \n",
       "1  Homo sapiens  gene   AKT1      human       Brain     NaN     Anti   \n",
       "2  Homo sapiens  gene   APOE      human         NaN     NaN     Anti   \n",
       "\n",
       "   Pubmed ID  Details  \n",
       "0   28923415  details  \n",
       "1   16914869  details  \n",
       "2   17234815  details  "
      ]
     },
     "execution_count": 632,
     "metadata": {},
     "output_type": "execute_result"
    }
   ],
   "source": [
    "agingbank_genes_anti[:3]"
   ]
  },
  {
   "cell_type": "code",
   "execution_count": 633,
   "id": "8eda6db4-d489-4b96-9bb2-46d0a7a51e77",
   "metadata": {},
   "outputs": [],
   "source": [
    "agingbank_genes_anti_list=agingbank_genes_anti['name'].tolist()"
   ]
  },
  {
   "cell_type": "code",
   "execution_count": 634,
   "id": "67091d63-997c-403b-a7de-63a5dfbde70b",
   "metadata": {},
   "outputs": [
    {
     "data": {
      "text/plain": [
       "154"
      ]
     },
     "execution_count": 634,
     "metadata": {},
     "output_type": "execute_result"
    }
   ],
   "source": [
    "len(agingbank_genes_anti_list)"
   ]
  },
  {
   "cell_type": "code",
   "execution_count": 635,
   "id": "5e4a0cb5-152a-44e6-991d-e67bc6250c4e",
   "metadata": {},
   "outputs": [
    {
     "name": "stdout",
     "output_type": "stream",
     "text": [
      "FOXO3\n",
      "['FOXO3', 'FOXO3a']\n",
      "PARP1\n",
      "['PARP', 'PARP1']\n",
      "STAG2\n",
      "['SA2', 'STAG2']\n",
      "TERT\n",
      "['hEST2', 'TERT']\n",
      "KL\n",
      "['klotho', 'KL']\n"
     ]
    }
   ],
   "source": [
    "# 发现有同一个实体对应不同的名字\n",
    "agingbank_genes_anti_symbol=set()\n",
    "agingbank_genes_anti_symbol_transfer={}\n",
    "for i in agingbank_genes_anti_list:\n",
    "    if re.search(r'(.*)(\\(.*\\))',i):\n",
    "        i=re.search(r'(.*)(\\(.*\\))',i).groups()[0]\n",
    "    if re.search(r'(.*)(\\s.*)',i):\n",
    "        i=re.search(r'(.*)(\\s.*)',i).groups()[0]\n",
    "    if Genedict_upper.get(i.upper()):\n",
    "        agingbank_genes_anti_symbol.add(Genedict_upper.get(i.upper())[0])\n",
    "        if agingbank_genes_anti_symbol_transfer.get(Genedict_upper.get(i.upper())[0]) and i not in agingbank_genes_anti_symbol_transfer.get(Genedict_upper.get(i.upper())[0]):\n",
    "            agingbank_genes_anti_symbol_transfer[Genedict_upper.get(i.upper())[0]]+=[i]\n",
    "            print(Genedict_upper.get(i.upper())[0])\n",
    "            print(agingbank_genes_anti_symbol_transfer.get(Genedict_upper.get(i.upper())[0]))\n",
    "        else:\n",
    "            agingbank_genes_anti_symbol_transfer[Genedict_upper.get(i.upper())[0]]=[i]"
   ]
  },
  {
   "cell_type": "code",
   "execution_count": 636,
   "id": "fc330dfb-a043-4e5c-89d1-fa6933519baf",
   "metadata": {},
   "outputs": [
    {
     "data": {
      "text/plain": [
       "96"
      ]
     },
     "execution_count": 636,
     "metadata": {},
     "output_type": "execute_result"
    }
   ],
   "source": [
    "len(agingbank_genes_anti_symbol)"
   ]
  },
  {
   "cell_type": "code",
   "execution_count": 600,
   "id": "94402dea-5339-4f06-b042-f03c495c098b",
   "metadata": {},
   "outputs": [
    {
     "name": "stdout",
     "output_type": "stream",
     "text": [
      "6\n"
     ]
    }
   ],
   "source": [
    "counts2=[]\n",
    "for i in agingbank_genes_anti_symbol:\n",
    "    for j in disease_entity_dict2_sorted[:10]:\n",
    "        if i==j[0]:\n",
    "            counts2.append(i)\n",
    "print(len(counts2))\n",
    "# for i in gene_trans:\n",
    "#     if i not in counts:\n",
    "#         print(i)\n",
    "        "
   ]
  },
  {
   "cell_type": "code",
   "execution_count": 571,
   "id": "8eb6742b-08ab-40aa-98f7-fcc466be5d0f",
   "metadata": {},
   "outputs": [
    {
     "name": "stdout",
     "output_type": "stream",
     "text": [
      "28\n"
     ]
    }
   ],
   "source": [
    "counts2=[]\n",
    "for i in agingbank_genes_anti_symbol:\n",
    "    for j in disease_entity_dict2_sorted:\n",
    "        if i==j[0]:\n",
    "            counts2.append(i)\n",
    "print(len(counts2))\n",
    "# for i in gene_trans:\n",
    "#     if i not in counts:\n",
    "#         print(i)\n",
    "        "
   ]
  },
  {
   "cell_type": "code",
   "execution_count": 572,
   "id": "b250f3b7-0918-47d0-9873-c6086aaa0161",
   "metadata": {},
   "outputs": [
    {
     "data": {
      "text/plain": [
       "0.2916666666666667"
      ]
     },
     "execution_count": 572,
     "metadata": {},
     "output_type": "execute_result"
    }
   ],
   "source": [
    "28/96"
   ]
  },
  {
   "cell_type": "code",
   "execution_count": 637,
   "id": "c3804a45-6323-4fa0-be23-3d479ad1ae3e",
   "metadata": {},
   "outputs": [
    {
     "name": "stdout",
     "output_type": "stream",
     "text": [
      "45\n"
     ]
    }
   ],
   "source": [
    "vcx12=0\n",
    "for i in gene_longevity_symbol:\n",
    "    if i[0] in agingbank_genes_anti_symbol:\n",
    "        vcx12+=1\n",
    "print(vcx12)"
   ]
  },
  {
   "cell_type": "code",
   "execution_count": 638,
   "id": "41b9fce9-51c8-4951-bd98-a9641b5ec850",
   "metadata": {},
   "outputs": [
    {
     "data": {
      "text/plain": [
       "0.46875"
      ]
     },
     "execution_count": 638,
     "metadata": {},
     "output_type": "execute_result"
    }
   ],
   "source": [
    "45/96"
   ]
  },
  {
   "cell_type": "code",
   "execution_count": 670,
   "id": "fa927443-ca47-4b86-b8b5-95c1d142640c",
   "metadata": {},
   "outputs": [
    {
     "name": "stdout",
     "output_type": "stream",
     "text": [
      "6\n"
     ]
    }
   ],
   "source": [
    "vcx77=0\n",
    "for i in gene_longevity_symbol[:10]:\n",
    "    if i[0] in agingbank_genes_anti_symbol:\n",
    "        vcx77+=1\n",
    "print(vcx77)"
   ]
  },
  {
   "cell_type": "markdown",
   "id": "d609aee6-125f-452c-9d06-aa0b41b8df0f",
   "metadata": {},
   "source": [
    "#Supplementary Table 4\n",
    "data10 = []\n",
    "data11=[]\n",
    "data12=[]\n",
    "for i in disease_entity_dict2_sorted:\n",
    "    if i[0] in agingbank_genes_anti_symbol:\n",
    "        data10.append(i[0])\n",
    "        data11.append(i[1])\n",
    "        data12.append('; '.join(agingbank_genes_anti_symbol_transfer.get(i[0])))\n",
    "dataframe2 = pd.DataFrame({'Genes':data10,'Frequency of occurrence':data11,'Corresponding to AgingBank':data12})\n",
    "dataframe2.to_csv(\"./table7.csv\", index=False)\n"
   ]
  },
  {
   "cell_type": "markdown",
   "id": "0b5106b9-932f-4531-ae34-788e0df92c63",
   "metadata": {},
   "source": [
    "vcx6=0\n",
    "for i in disease_entity_dict_sorted:\n",
    "    if i[0] in agingbank_genes_pro_symbol:\n",
    "        vcx6+=1\n",
    "for i in disease_entity_dict2_sorted:\n",
    "    if i[0] in agingbank_genes_pro_symbol:\n",
    "        vcx6+=1"
   ]
  },
  {
   "cell_type": "markdown",
   "id": "084281a0-db56-44e4-8f23-f0b3941c3d43",
   "metadata": {},
   "source": [
    "vcx6"
   ]
  },
  {
   "cell_type": "markdown",
   "id": "3823f81c-4029-45bc-8dc7-068f8365455f",
   "metadata": {},
   "source": [
    "49/54"
   ]
  },
  {
   "cell_type": "markdown",
   "id": "0b0e914d-9286-48ba-954a-21c6d1a3d89f",
   "metadata": {},
   "source": [
    "vcx7=0\n",
    "for i in disease_entity_dict_sorted:\n",
    "    if i[0] in agingbank_genes_anti_symbol:\n",
    "        vcx7+=1\n",
    "for i in disease_entity_dict2_sorted:\n",
    "    if i[0] in agingbank_genes_anti_symbol:\n",
    "        vcx7+=1"
   ]
  },
  {
   "cell_type": "markdown",
   "id": "8b9174c8-9ba1-42b0-9774-1ca866dd572c",
   "metadata": {},
   "source": [
    "vcx7"
   ]
  },
  {
   "cell_type": "markdown",
   "id": "ce8bf8d6-ebf5-469c-a0d9-ed3b8b561841",
   "metadata": {},
   "source": [
    "70/96"
   ]
  },
  {
   "cell_type": "code",
   "execution_count": null,
   "id": "5a75852c-be36-40a3-8db0-e39155c0462d",
   "metadata": {},
   "outputs": [],
   "source": []
  },
  {
   "cell_type": "code",
   "execution_count": null,
   "id": "983f3063-1643-401f-8eb3-1d8077554280",
   "metadata": {},
   "outputs": [],
   "source": []
  },
  {
   "cell_type": "code",
   "execution_count": 639,
   "id": "62dd61e3-f3c2-4dc0-b708-1506d41f6ace",
   "metadata": {},
   "outputs": [],
   "source": [
    "agingatlas_genes=pd.read_csv('agingatlas_genes.csv')"
   ]
  },
  {
   "cell_type": "code",
   "execution_count": 640,
   "id": "8cfe3431-bce7-492b-8d1b-07cce4bde852",
   "metadata": {},
   "outputs": [
    {
     "data": {
      "text/html": [
       "<div>\n",
       "<style scoped>\n",
       "    .dataframe tbody tr th:only-of-type {\n",
       "        vertical-align: middle;\n",
       "    }\n",
       "\n",
       "    .dataframe tbody tr th {\n",
       "        vertical-align: top;\n",
       "    }\n",
       "\n",
       "    .dataframe thead th {\n",
       "        text-align: right;\n",
       "    }\n",
       "</style>\n",
       "<table border=\"1\" class=\"dataframe\">\n",
       "  <thead>\n",
       "    <tr style=\"text-align: right;\">\n",
       "      <th></th>\n",
       "      <th>Symbol</th>\n",
       "    </tr>\n",
       "  </thead>\n",
       "  <tbody>\n",
       "    <tr>\n",
       "      <th>0</th>\n",
       "      <td>IL2RB</td>\n",
       "    </tr>\n",
       "    <tr>\n",
       "      <th>1</th>\n",
       "      <td>PSAT1</td>\n",
       "    </tr>\n",
       "    <tr>\n",
       "      <th>2</th>\n",
       "      <td>A2M</td>\n",
       "    </tr>\n",
       "  </tbody>\n",
       "</table>\n",
       "</div>"
      ],
      "text/plain": [
       "  Symbol\n",
       "0  IL2RB\n",
       "1  PSAT1\n",
       "2    A2M"
      ]
     },
     "execution_count": 640,
     "metadata": {},
     "output_type": "execute_result"
    }
   ],
   "source": [
    "agingatlas_genes[:3]"
   ]
  },
  {
   "cell_type": "code",
   "execution_count": 641,
   "id": "4159b497-ab71-45a9-8533-6bbfb5ff78a8",
   "metadata": {},
   "outputs": [],
   "source": [
    "agingatlas_genes_list=agingatlas_genes['Symbol'].tolist()"
   ]
  },
  {
   "cell_type": "code",
   "execution_count": 642,
   "id": "189bd62a-a67f-4423-84dc-6d2bf327d40e",
   "metadata": {},
   "outputs": [
    {
     "data": {
      "text/plain": [
       "502"
      ]
     },
     "execution_count": 642,
     "metadata": {},
     "output_type": "execute_result"
    }
   ],
   "source": [
    "len(agingatlas_genes_list)"
   ]
  },
  {
   "cell_type": "code",
   "execution_count": 643,
   "id": "7729a56f-18ac-4f90-83fa-7389e0e25a6b",
   "metadata": {},
   "outputs": [
    {
     "name": "stdout",
     "output_type": "stream",
     "text": [
      "RAD27\n",
      "TERC\n"
     ]
    }
   ],
   "source": [
    "# 发现有同一个实体对应不同的名字\n",
    "agingatlas_genes_symbol=set()\n",
    "agingatlas_genes_symbol_transfer={}\n",
    "for i in agingatlas_genes_list:\n",
    "    if Genedict_upper.get(i.upper()):\n",
    "        if Genedict_upper.get(i.upper())[0] in agingatlas_genes_symbol:\n",
    "            print(Genedict_upper.get(i.upper())[0])\n",
    "            print(i)\n",
    "        agingatlas_genes_symbol.add(Genedict_upper.get(i.upper())[0])\n",
    "\n",
    "        if agingatlas_genes_symbol_transfer.get(Genedict_upper.get(i.upper())[0]) and i not in agingatlas_genes_symbol_transfer.get(Genedict_upper.get(i.upper())[0]):\n",
    "            agingatlas_genes_symbol_transfer[Genedict_upper.get(i.upper())[0]]+=[i]\n",
    "            print(Genedict_upper.get(i.upper())[0])\n",
    "            print(agingatlas_genes_symbol_transfer.get(Genedict_upper.get(i.upper())[0]))\n",
    "        else:\n",
    "            agingatlas_genes_symbol_transfer[Genedict_upper.get(i.upper())[0]]=[i]\n",
    "    else:\n",
    "        print(i)"
   ]
  },
  {
   "cell_type": "code",
   "execution_count": 644,
   "id": "6066783a-2c26-4fa7-ba3b-9da2400e81fc",
   "metadata": {},
   "outputs": [
    {
     "data": {
      "text/plain": [
       "500"
      ]
     },
     "execution_count": 644,
     "metadata": {},
     "output_type": "execute_result"
    }
   ],
   "source": [
    "len(agingatlas_genes_symbol)"
   ]
  },
  {
   "cell_type": "code",
   "execution_count": 645,
   "id": "37d4ee4b-c2fa-4d98-8155-c6aab54ba7fa",
   "metadata": {},
   "outputs": [
    {
     "name": "stdout",
     "output_type": "stream",
     "text": [
      "9\n"
     ]
    }
   ],
   "source": [
    "counts=[]\n",
    "for i in agingatlas_genes_symbol:\n",
    "    for j in disease_entity_dict_sorted[:10]:\n",
    "        if i==j[0]:\n",
    "            counts.append(i)\n",
    "print(len(counts))\n",
    "# for i in gene_trans:\n",
    "#     if i not in counts:\n",
    "#         print(i)"
   ]
  },
  {
   "cell_type": "code",
   "execution_count": 646,
   "id": "42a33725-746d-43c9-9d29-e1a60a31a92b",
   "metadata": {},
   "outputs": [
    {
     "name": "stdout",
     "output_type": "stream",
     "text": [
      "222\n"
     ]
    }
   ],
   "source": [
    "counts=[]\n",
    "for i in agingatlas_genes_symbol:\n",
    "    for j in disease_entity_dict_sorted:\n",
    "        if i==j[0]:\n",
    "            counts.append(i)\n",
    "print(len(counts))\n",
    "# for i in gene_trans:\n",
    "#     if i not in counts:\n",
    "#         print(i)\n",
    "        "
   ]
  },
  {
   "cell_type": "code",
   "execution_count": 597,
   "id": "366aaf0f-6126-4dae-916f-2b2fcd0e5c92",
   "metadata": {},
   "outputs": [
    {
     "data": {
      "text/plain": [
       "0.444"
      ]
     },
     "execution_count": 597,
     "metadata": {},
     "output_type": "execute_result"
    }
   ],
   "source": [
    "222/500"
   ]
  },
  {
   "cell_type": "markdown",
   "id": "4e68585c-1116-4c71-bd48-0a5494342b2c",
   "metadata": {},
   "source": [
    "#Supplementary Table 5\n",
    "data13 = []\n",
    "data14=[]\n",
    "data15=[]\n",
    "for i in disease_entity_dict_sorted:\n",
    "    if i[0] in agingatlas_genes_symbol:\n",
    "        data13.append(i[0])\n",
    "        data14.append(i[1])\n",
    "        data15.append('; '.join(agingatlas_genes_symbol_transfer.get(i[0])))\n",
    "dataframe2 = pd.DataFrame({'Genes':data13,'Frequency of occurrence':data14,'Corresponding to AgingAtlas':data15})\n",
    "dataframe2.to_csv(\"./table8.csv\", index=False)\n"
   ]
  },
  {
   "cell_type": "code",
   "execution_count": 671,
   "id": "f8c12fa0-e549-4979-a737-cf52f83acc3b",
   "metadata": {},
   "outputs": [
    {
     "name": "stdout",
     "output_type": "stream",
     "text": [
      "9\n"
     ]
    }
   ],
   "source": [
    "vcx88=0\n",
    "for i in gene_longevity_symbol[:10]:\n",
    "    if i[0] in agingatlas_genes_symbol:\n",
    "        vcx88+=1\n",
    "print(vcx88)"
   ]
  },
  {
   "cell_type": "code",
   "execution_count": 679,
   "id": "d408f471-b29a-480b-9733-51bcc18e90e6",
   "metadata": {},
   "outputs": [
    {
     "data": {
      "text/plain": [
       "[('INS', 427), ('CRP', 297)]"
      ]
     },
     "execution_count": 679,
     "metadata": {},
     "output_type": "execute_result"
    }
   ],
   "source": [
    "disease_entity_dict_sorted[:2]"
   ]
  },
  {
   "cell_type": "code",
   "execution_count": 678,
   "id": "50bd9b38-75e6-4029-869e-3832f73a5366",
   "metadata": {},
   "outputs": [
    {
     "data": {
      "text/plain": [
       "[('INS', 477), ('CRP', 306)]"
      ]
     },
     "execution_count": 678,
     "metadata": {},
     "output_type": "execute_result"
    }
   ],
   "source": [
    "gene_longevity_symbol[:2]"
   ]
  },
  {
   "cell_type": "code",
   "execution_count": 647,
   "id": "676d5878-ad37-4f6f-bec8-86878217ab84",
   "metadata": {},
   "outputs": [
    {
     "name": "stdout",
     "output_type": "stream",
     "text": [
      "233\n"
     ]
    }
   ],
   "source": [
    "vcx13=0\n",
    "for i in gene_longevity_symbol:\n",
    "    if i[0] in agingatlas_genes_symbol:\n",
    "        vcx13+=1\n",
    "print(vcx13)"
   ]
  },
  {
   "cell_type": "code",
   "execution_count": 648,
   "id": "8a3afc26-5961-40c8-918c-ecd6b198a391",
   "metadata": {},
   "outputs": [
    {
     "data": {
      "text/plain": [
       "0.466"
      ]
     },
     "execution_count": 648,
     "metadata": {},
     "output_type": "execute_result"
    }
   ],
   "source": [
    "233/500"
   ]
  },
  {
   "cell_type": "markdown",
   "id": "6ccc02e1-b78b-4cd3-8c98-4fc7a5d92002",
   "metadata": {},
   "source": [
    "vcx8=0\n",
    "for i in disease_entity_dict_sorted:\n",
    "    if i[0] in agingatlas_genes_symbol:\n",
    "        vcx8+=1\n",
    "for i in disease_entity_dict2_sorted:\n",
    "    if i[0] in agingatlas_genes_symbol:\n",
    "        vcx8+=1"
   ]
  },
  {
   "cell_type": "markdown",
   "id": "af579653-a544-4b10-ae4a-0431c8665a76",
   "metadata": {},
   "source": [
    "vcx8"
   ]
  },
  {
   "cell_type": "markdown",
   "id": "73b8ec08-1589-490a-bebf-833ea91806b1",
   "metadata": {},
   "source": [
    "319/500"
   ]
  },
  {
   "cell_type": "code",
   "execution_count": 689,
   "id": "a99859b6-a8e6-4633-aeae-897c52091be0",
   "metadata": {},
   "outputs": [],
   "source": [
    "#Supplementary Table 1\n",
    "\n",
    "datas1= []\n",
    "datas2=[]\n",
    "datas3=[]\n",
    "datas4=[]\n",
    "datas5=[]\n",
    "for i in disease_entity_dict_sorted:\n",
    "    datas1.append(i[0])\n",
    "    datas2.append(i[1])\n",
    "    if genage_symbol_transfer.get(i[0]):\n",
    "        datas3.append('; '.join(genage_symbol_transfer.get(i[0])))\n",
    "    else:\n",
    "        datas3.append('')\n",
    "    if agingbank_genes_pro_symbol_transfer.get(i[0]):\n",
    "        datas4.append('; '.join(agingbank_genes_pro_symbol_transfer.get(i[0])))\n",
    "    else:\n",
    "        datas4.append('') \n",
    "    if agingatlas_genes_symbol_transfer.get(i[0]):\n",
    "        datas5.append('; '.join(agingatlas_genes_symbol_transfer.get(i[0])))\n",
    "    else:\n",
    "        datas5.append('') \n",
    "dataframe1 = pd.DataFrame({'HALD':datas1,'Frequency of occurrence':datas2,'GenAge':datas3,'AgingBank (Pro)':datas4,'Aging Atlas':datas5})\n",
    "dataframe1.to_csv(\"./Supplementary1.csv\", index=False)"
   ]
  },
  {
   "cell_type": "code",
   "execution_count": 690,
   "id": "4168ec5d-b979-4ee8-8cba-90cc398483aa",
   "metadata": {},
   "outputs": [],
   "source": [
    "#Supplementary Table 2\n",
    "\n",
    "datas6= []\n",
    "datas7=[]\n",
    "datas8=[]\n",
    "datas9=[]\n",
    "datas10=[]\n",
    "for i in disease_entity_dict2_sorted:\n",
    "    datas6.append(i[0])\n",
    "    datas7.append(i[1])\n",
    "    if longevity_human_symbol_transfer.get(i[0]):\n",
    "        datas8.append('; '.join(longevity_human_symbol_transfer.get(i[0])))\n",
    "    else:\n",
    "        datas8.append('')\n",
    "    if agingbank_genes_anti_symbol_transfer.get(i[0]):\n",
    "        datas9.append('; '.join(agingbank_genes_anti_symbol_transfer.get(i[0])))\n",
    "    else:\n",
    "        datas9.append('') \n",
    "dataframe2 = pd.DataFrame({'HALD':datas6,'Frequency of occurrence':datas7,'LongevityMap':datas8,'AgingBank (Anti)':datas9})\n",
    "dataframe2.to_csv(\"./Supplementary2.csv\", index=False)"
   ]
  },
  {
   "cell_type": "code",
   "execution_count": 691,
   "id": "1726a42f-f5b5-4cc6-8bcf-a687ecf61692",
   "metadata": {},
   "outputs": [],
   "source": [
    "#Supplementary Table 3\n",
    "\n",
    "data1= []\n",
    "data2=[]\n",
    "data3=[]\n",
    "data4=[]\n",
    "data5=[]\n",
    "data6=[]\n",
    "data7=[]\n",
    "data8=[]\n",
    "for i in gene_longevity_symbol:\n",
    "    label1=[]\n",
    "    label2=[]\n",
    "    data1.append(i[0])\n",
    "    for j in disease_entity_dict_sorted:\n",
    "        if i[0]==j[0]:\n",
    "            label1.append('Aging')\n",
    "            label2.append(str(j[1]))\n",
    "            break\n",
    "    for j in disease_entity_dict2_sorted:\n",
    "        if i[0]==j[0]:\n",
    "            label1.append('Longevity')\n",
    "            label2.append(str(j[1]))\n",
    "            break\n",
    "    data2.append(' | '.join(label1))\n",
    "    data3.append(' | '.join(label2))\n",
    "    if genage_symbol_transfer.get(i[0]):\n",
    "        data4.append('; '.join(genage_symbol_transfer.get(i[0])))\n",
    "    else:\n",
    "        data4.append('')\n",
    "    if longevity_human_symbol_transfer.get(i[0]):\n",
    "        data5.append('; '.join(longevity_human_symbol_transfer.get(i[0])))\n",
    "    else:\n",
    "        data5.append('')\n",
    "    if agingbank_genes_pro_symbol_transfer.get(i[0]):\n",
    "        data6.append('; '.join(agingbank_genes_pro_symbol_transfer.get(i[0])))\n",
    "    else:\n",
    "        data6.append('') \n",
    "    if agingbank_genes_anti_symbol_transfer.get(i[0]):\n",
    "        data7.append('; '.join(agingbank_genes_anti_symbol_transfer.get(i[0])))\n",
    "    else:\n",
    "        data7.append('') \n",
    "    if agingatlas_genes_symbol_transfer.get(i[0]):\n",
    "        data8.append('; '.join(agingatlas_genes_symbol_transfer.get(i[0])))\n",
    "    else:\n",
    "        data8.append('') \n",
    "dataframe3 = pd.DataFrame({'HALD':data1,'Aging or Longevity':data2,'Frequency of occurrence':data3,'GenAge':data4,'LongevityMap':data5,'AgingBank (Pro)':data6,'AgingBank (Anti)':data7,'Aging Atlas':data8})\n",
    "dataframe3.to_csv(\"./Supplementary3.csv\", index=False)"
   ]
  },
  {
   "cell_type": "code",
   "execution_count": null,
   "id": "7c05fe5d-8044-406e-a7da-02b192457994",
   "metadata": {},
   "outputs": [],
   "source": []
  },
  {
   "cell_type": "code",
   "execution_count": null,
   "id": "38a4043b-844d-4932-8922-3185d7276744",
   "metadata": {},
   "outputs": [],
   "source": []
  },
  {
   "cell_type": "code",
   "execution_count": null,
   "id": "14fa796c-3e9d-48c9-8a50-b8ffcabba878",
   "metadata": {},
   "outputs": [],
   "source": []
  },
  {
   "cell_type": "code",
   "execution_count": null,
   "id": "a15b263f-fbda-4098-9a14-1743904d097f",
   "metadata": {},
   "outputs": [],
   "source": []
  },
  {
   "cell_type": "code",
   "execution_count": 142,
   "id": "f3406b8c-4779-424a-9cd1-eb1c1481d36f",
   "metadata": {},
   "outputs": [],
   "source": [
    "disease_entity_list=[]\n",
    "disease_entity_triple=set()\n",
    "for i in disease_list:\n",
    "    if (i.get('entity_one_transformed'),i.get('entity_two_transformed'),i.get('triple')[1]) not in disease_entity_triple:\n",
    "        disease_entity_triple.add((i.get('entity_one_transformed'),i.get('entity_two_transformed'),i.get('triple')[1]))\n",
    "        disease_entity_list.append(i)"
   ]
  },
  {
   "cell_type": "code",
   "execution_count": 143,
   "id": "8bb10c55-e39a-4d9c-b073-8f76da4068d1",
   "metadata": {},
   "outputs": [
    {
     "data": {
      "text/plain": [
       "15430"
      ]
     },
     "execution_count": 143,
     "metadata": {},
     "output_type": "execute_result"
    }
   ],
   "source": [
    "len(disease_entity_list)"
   ]
  },
  {
   "cell_type": "markdown",
   "id": "9b535b93-2f45-4d6d-afe9-f13609172714",
   "metadata": {},
   "source": [
    "ssss=[]\n",
    "for i in range(2023,1958,-1):\n",
    "    ssss.append(i)\n",
    "print(ssss)"
   ]
  },
  {
   "cell_type": "code",
   "execution_count": 144,
   "id": "ae38856f-6d4e-4b76-ad5d-95a542a1b41a",
   "metadata": {},
   "outputs": [
    {
     "data": {
      "text/plain": [
       "{'from': 0,\n",
       " 'to': 1,\n",
       " 'relation': 'lead',\n",
       " 'PMID': ['35926182'],\n",
       " 'sentence': ['Here, using single-cell technologies and functional validation studies of primary SF3B1-mutant MDS-RS samples, we show that SF3B1 mutations lead to the activation of the EIF2AK1 pathway in response to heme deficiency and that targeting this pathway rescues aberrant erythroid differentiation and enables the red blood cell maturation of MDS-RS erythroblasts.'],\n",
       " 'DP': ['2022 Nov 2'],\n",
       " 'TI': ['Targeting the EIF2AK1 Signaling Pathway Rescues Red Blood Cell Production in SF3B1-Mutant Myelodysplastic Syndromes With Ringed Sideroblasts.'],\n",
       " 'TA': ['Blood Cancer Discov'],\n",
       " 'IF': [0.0],\n",
       " 'IF5': [0.0],\n",
       " 'date': [20221102],\n",
       " 'first_entity_transformed': 'SF3B1',\n",
       " 'second_entity_transformed': 'EIF2AK1',\n",
       " 'first_entity': ['SF3B1'],\n",
       " 'second_entity': ['EIF2AK1']}"
      ]
     },
     "execution_count": 144,
     "metadata": {},
     "output_type": "execute_result"
    }
   ],
   "source": [
    "relation_interpolation_list[0]"
   ]
  },
  {
   "cell_type": "code",
   "execution_count": 145,
   "id": "47c4e8f4-dcb3-49b5-b983-3c7647a20639",
   "metadata": {},
   "outputs": [
    {
     "data": {
      "text/plain": [
       "{'triple': ['SF3B1', 'lead', 'EIF2AK1'],\n",
       " 'PMID': '35926182',\n",
       " 'sentence': 'Here, using single-cell technologies and functional validation studies of primary SF3B1-mutant MDS-RS samples, we show that SF3B1 mutations lead to the activation of the EIF2AK1 pathway in response to heme deficiency and that targeting this pathway rescues aberrant erythroid differentiation and enables the red blood cell maturation of MDS-RS erythroblasts.',\n",
       " 'AB': 'SF3B1 mutations, which occur in 20% of patients with myelodysplastic syndromes (MDS), are the hallmarks of a specific MDS subtype, MDS with ringed sideroblasts (MDS-RS), which is characterized by the accumulation of erythroid precursors in the bone marrow and primarily affects the elderly population. Here, using single-cell technologies and functional validation studies of primary SF3B1-mutant MDS-RS samples, we show that SF3B1 mutations lead to the activation of the EIF2AK1 pathway in response to heme deficiency and that targeting this pathway rescues aberrant erythroid differentiation and enables the red blood cell maturation of MDS-RS erythroblasts. These data support the development of EIF2AK1 inhibitors to overcome transfusion dependency in patients with SF3B1-mutant MDS-RS with impaired red blood cell production.',\n",
       " 'entity_one': 'SF3B1',\n",
       " 'entity_one_type': 'Gene',\n",
       " 'entity_two': 'EIF2AK1',\n",
       " 'entity_two_type': 'Gene',\n",
       " 'entity_one_transformed': 'SF3B1',\n",
       " 'entity_two_transformed': 'EIF2AK1',\n",
       " 'transformed_triple': ('SF3B1', 'lead', 'EIF2AK1', '35926182'),\n",
       " 'verb': 'lead',\n",
       " 'IF': 0.0,\n",
       " 'IF5': 0.0}"
      ]
     },
     "execution_count": 145,
     "metadata": {},
     "output_type": "execute_result"
    }
   ],
   "source": [
    "triplelistnew[0]"
   ]
  },
  {
   "cell_type": "code",
   "execution_count": 394,
   "id": "4f7ad870-9346-4d32-a1eb-8e0ad2064b5e",
   "metadata": {},
   "outputs": [],
   "source": [
    "direction=set()\n",
    "direction_list=[]\n",
    "direction_type=[]\n",
    "for i in triplelistnew:\n",
    "    if (i.get('entity_one_transformed'),(i.get('entity_two_transformed'))) not in direction:\n",
    "        direction.add((i.get('entity_one_transformed'),(i.get('entity_two_transformed'))))\n",
    "        direction_list.append((i.get('entity_one_transformed'),(i.get('entity_two_transformed'))))\n",
    "        direction_type.append((i.get('entity_one_type').replace(' ','_'),(i.get('entity_two_type').replace(' ','_'))))"
   ]
  },
  {
   "cell_type": "code",
   "execution_count": 395,
   "id": "486605a0-763c-4f61-8756-de1d7493c072",
   "metadata": {},
   "outputs": [
    {
     "data": {
      "text/plain": [
       "51203"
      ]
     },
     "execution_count": 395,
     "metadata": {},
     "output_type": "execute_result"
    }
   ],
   "source": [
    "len(direction_list)"
   ]
  },
  {
   "cell_type": "code",
   "execution_count": 396,
   "id": "054d9c63-f5c3-4d3e-aaa5-dfd2364f6bef",
   "metadata": {},
   "outputs": [],
   "source": [
    "type_dict={}\n",
    "type_dict_ensure={}\n",
    "for i in range(len(direction_list)):\n",
    "    if not type_dict_ensure.get((direction_list[i][0],direction_list[i][1],direction_type[i][0],direction_type[i][1])):\n",
    "        type_dict[(direction_list[i][0],direction_list[i][1])]=tuple((direction_type[i][0],direction_type[i][1]))\n",
    "        type_dict_ensure[(direction_list[i][0],direction_list[i][1],direction_type[i][0],direction_type[i][1])]=tuple((direction_type[i][0],direction_type[i][1]))"
   ]
  },
  {
   "cell_type": "code",
   "execution_count": 397,
   "id": "9fa12acf-0aea-49d1-9352-5c07f75f1c90",
   "metadata": {},
   "outputs": [
    {
     "data": {
      "text/plain": [
       "51203"
      ]
     },
     "execution_count": 397,
     "metadata": {},
     "output_type": "execute_result"
    }
   ],
   "source": [
    "len(type_dict)"
   ]
  },
  {
   "cell_type": "code",
   "execution_count": null,
   "id": "27bcfbbc-d5f5-4b9e-abd7-8bb750643e13",
   "metadata": {},
   "outputs": [],
   "source": []
  },
  {
   "cell_type": "code",
   "execution_count": null,
   "id": "c5841140-6add-4cf2-92d6-b7f1982a0f7f",
   "metadata": {},
   "outputs": [],
   "source": []
  },
  {
   "cell_type": "code",
   "execution_count": null,
   "id": "58680450-864c-4cef-b383-bf5d242e84c0",
   "metadata": {},
   "outputs": [],
   "source": []
  },
  {
   "cell_type": "code",
   "execution_count": null,
   "id": "4f6880af-e1aa-4c92-9259-b8ab5dd6aaeb",
   "metadata": {},
   "outputs": [],
   "source": []
  },
  {
   "cell_type": "code",
   "execution_count": 398,
   "id": "3a7a362f-c4d3-4452-ba7f-acbe5e0c6428",
   "metadata": {},
   "outputs": [
    {
     "data": {
      "text/plain": [
       "['Gene',\n",
       " 'RNA',\n",
       " 'Carbohydrate',\n",
       " 'Lipid',\n",
       " 'Peptide',\n",
       " 'Pharmaceutical_Preparations',\n",
       " 'Protein',\n",
       " 'Toxin',\n",
       " 'Mutation',\n",
       " 'Disease']"
      ]
     },
     "execution_count": 398,
     "metadata": {},
     "output_type": "execute_result"
    }
   ],
   "source": [
    "entity_pairs"
   ]
  },
  {
   "cell_type": "code",
   "execution_count": 399,
   "id": "3752b0d0-f2b2-4247-b10a-6ab5310217c6",
   "metadata": {},
   "outputs": [],
   "source": [
    "entity_pairs_dict={}\n",
    "entity_pairs_dict_num={}\n",
    "for i in entity_pairs:\n",
    "    temp={}\n",
    "    temp2={}\n",
    "    for j in entity_pairs:\n",
    "        temp.update({j:0})\n",
    "        temp2.update({j:set()})\n",
    "    entity_pairs_dict_num[i]=temp\n",
    "    entity_pairs_dict[i]=temp2"
   ]
  },
  {
   "cell_type": "code",
   "execution_count": 400,
   "id": "66cf062c-e1be-4841-be33-0b9912d2b3b2",
   "metadata": {},
   "outputs": [
    {
     "data": {
      "text/plain": [
       "{'Gene': {'Gene': set(),\n",
       "  'RNA': set(),\n",
       "  'Carbohydrate': set(),\n",
       "  'Lipid': set(),\n",
       "  'Peptide': set(),\n",
       "  'Pharmaceutical_Preparations': set(),\n",
       "  'Protein': set(),\n",
       "  'Toxin': set(),\n",
       "  'Mutation': set(),\n",
       "  'Disease': set()},\n",
       " 'RNA': {'Gene': set(),\n",
       "  'RNA': set(),\n",
       "  'Carbohydrate': set(),\n",
       "  'Lipid': set(),\n",
       "  'Peptide': set(),\n",
       "  'Pharmaceutical_Preparations': set(),\n",
       "  'Protein': set(),\n",
       "  'Toxin': set(),\n",
       "  'Mutation': set(),\n",
       "  'Disease': set()},\n",
       " 'Carbohydrate': {'Gene': set(),\n",
       "  'RNA': set(),\n",
       "  'Carbohydrate': set(),\n",
       "  'Lipid': set(),\n",
       "  'Peptide': set(),\n",
       "  'Pharmaceutical_Preparations': set(),\n",
       "  'Protein': set(),\n",
       "  'Toxin': set(),\n",
       "  'Mutation': set(),\n",
       "  'Disease': set()},\n",
       " 'Lipid': {'Gene': set(),\n",
       "  'RNA': set(),\n",
       "  'Carbohydrate': set(),\n",
       "  'Lipid': set(),\n",
       "  'Peptide': set(),\n",
       "  'Pharmaceutical_Preparations': set(),\n",
       "  'Protein': set(),\n",
       "  'Toxin': set(),\n",
       "  'Mutation': set(),\n",
       "  'Disease': set()},\n",
       " 'Peptide': {'Gene': set(),\n",
       "  'RNA': set(),\n",
       "  'Carbohydrate': set(),\n",
       "  'Lipid': set(),\n",
       "  'Peptide': set(),\n",
       "  'Pharmaceutical_Preparations': set(),\n",
       "  'Protein': set(),\n",
       "  'Toxin': set(),\n",
       "  'Mutation': set(),\n",
       "  'Disease': set()},\n",
       " 'Pharmaceutical_Preparations': {'Gene': set(),\n",
       "  'RNA': set(),\n",
       "  'Carbohydrate': set(),\n",
       "  'Lipid': set(),\n",
       "  'Peptide': set(),\n",
       "  'Pharmaceutical_Preparations': set(),\n",
       "  'Protein': set(),\n",
       "  'Toxin': set(),\n",
       "  'Mutation': set(),\n",
       "  'Disease': set()},\n",
       " 'Protein': {'Gene': set(),\n",
       "  'RNA': set(),\n",
       "  'Carbohydrate': set(),\n",
       "  'Lipid': set(),\n",
       "  'Peptide': set(),\n",
       "  'Pharmaceutical_Preparations': set(),\n",
       "  'Protein': set(),\n",
       "  'Toxin': set(),\n",
       "  'Mutation': set(),\n",
       "  'Disease': set()},\n",
       " 'Toxin': {'Gene': set(),\n",
       "  'RNA': set(),\n",
       "  'Carbohydrate': set(),\n",
       "  'Lipid': set(),\n",
       "  'Peptide': set(),\n",
       "  'Pharmaceutical_Preparations': set(),\n",
       "  'Protein': set(),\n",
       "  'Toxin': set(),\n",
       "  'Mutation': set(),\n",
       "  'Disease': set()},\n",
       " 'Mutation': {'Gene': set(),\n",
       "  'RNA': set(),\n",
       "  'Carbohydrate': set(),\n",
       "  'Lipid': set(),\n",
       "  'Peptide': set(),\n",
       "  'Pharmaceutical_Preparations': set(),\n",
       "  'Protein': set(),\n",
       "  'Toxin': set(),\n",
       "  'Mutation': set(),\n",
       "  'Disease': set()},\n",
       " 'Disease': {'Gene': set(),\n",
       "  'RNA': set(),\n",
       "  'Carbohydrate': set(),\n",
       "  'Lipid': set(),\n",
       "  'Peptide': set(),\n",
       "  'Pharmaceutical_Preparations': set(),\n",
       "  'Protein': set(),\n",
       "  'Toxin': set(),\n",
       "  'Mutation': set(),\n",
       "  'Disease': set()}}"
      ]
     },
     "execution_count": 400,
     "metadata": {},
     "output_type": "execute_result"
    }
   ],
   "source": [
    "entity_pairs_dict"
   ]
  },
  {
   "cell_type": "code",
   "execution_count": 401,
   "id": "d179b027-6d2e-49f7-b664-2a4a06ea48dc",
   "metadata": {},
   "outputs": [],
   "source": [
    "for i in range(len(direction_list)):\n",
    "    if direction_list[i][0] not in entity_pairs_dict.get(direction_type[i][1]).get(direction_type[i][0]):\n",
    "        entity_pairs_dict[direction_type[i][1]][direction_type[i][0]].add(direction_list[i][0])\n",
    "        entity_pairs_dict_num[direction_type[i][1]][direction_type[i][0]]+=1\n",
    "            "
   ]
  },
  {
   "cell_type": "code",
   "execution_count": 402,
   "id": "9df99ce9-12a7-45b5-9710-fe6d629e75c1",
   "metadata": {},
   "outputs": [
    {
     "data": {
      "text/plain": [
       "{'Gene': {'Gene': 1039,\n",
       "  'RNA': 34,\n",
       "  'Carbohydrate': 43,\n",
       "  'Lipid': 43,\n",
       "  'Peptide': 19,\n",
       "  'Pharmaceutical_Preparations': 0,\n",
       "  'Protein': 9,\n",
       "  'Toxin': 1,\n",
       "  'Mutation': 236,\n",
       "  'Disease': 681},\n",
       " 'RNA': {'Gene': 38,\n",
       "  'RNA': 6,\n",
       "  'Carbohydrate': 1,\n",
       "  'Lipid': 0,\n",
       "  'Peptide': 0,\n",
       "  'Pharmaceutical_Preparations': 0,\n",
       "  'Protein': 0,\n",
       "  'Toxin': 0,\n",
       "  'Mutation': 1,\n",
       "  'Disease': 35},\n",
       " 'Carbohydrate': {'Gene': 125,\n",
       "  'RNA': 1,\n",
       "  'Carbohydrate': 58,\n",
       "  'Lipid': 23,\n",
       "  'Peptide': 7,\n",
       "  'Pharmaceutical_Preparations': 1,\n",
       "  'Protein': 3,\n",
       "  'Toxin': 0,\n",
       "  'Mutation': 6,\n",
       "  'Disease': 264},\n",
       " 'Lipid': {'Gene': 150,\n",
       "  'RNA': 0,\n",
       "  'Carbohydrate': 20,\n",
       "  'Lipid': 67,\n",
       "  'Peptide': 4,\n",
       "  'Pharmaceutical_Preparations': 0,\n",
       "  'Protein': 2,\n",
       "  'Toxin': 1,\n",
       "  'Mutation': 13,\n",
       "  'Disease': 304},\n",
       " 'Peptide': {'Gene': 49,\n",
       "  'RNA': 0,\n",
       "  'Carbohydrate': 7,\n",
       "  'Lipid': 8,\n",
       "  'Peptide': 7,\n",
       "  'Pharmaceutical_Preparations': 1,\n",
       "  'Protein': 1,\n",
       "  'Toxin': 0,\n",
       "  'Mutation': 1,\n",
       "  'Disease': 88},\n",
       " 'Pharmaceutical_Preparations': {'Gene': 0,\n",
       "  'RNA': 0,\n",
       "  'Carbohydrate': 0,\n",
       "  'Lipid': 0,\n",
       "  'Peptide': 0,\n",
       "  'Pharmaceutical_Preparations': 0,\n",
       "  'Protein': 0,\n",
       "  'Toxin': 0,\n",
       "  'Mutation': 0,\n",
       "  'Disease': 11},\n",
       " 'Protein': {'Gene': 31,\n",
       "  'RNA': 0,\n",
       "  'Carbohydrate': 5,\n",
       "  'Lipid': 3,\n",
       "  'Peptide': 0,\n",
       "  'Pharmaceutical_Preparations': 0,\n",
       "  'Protein': 3,\n",
       "  'Toxin': 0,\n",
       "  'Mutation': 0,\n",
       "  'Disease': 72},\n",
       " 'Toxin': {'Gene': 20,\n",
       "  'RNA': 2,\n",
       "  'Carbohydrate': 0,\n",
       "  'Lipid': 3,\n",
       "  'Peptide': 0,\n",
       "  'Pharmaceutical_Preparations': 0,\n",
       "  'Protein': 0,\n",
       "  'Toxin': 2,\n",
       "  'Mutation': 0,\n",
       "  'Disease': 18},\n",
       " 'Mutation': {'Gene': 130,\n",
       "  'RNA': 1,\n",
       "  'Carbohydrate': 1,\n",
       "  'Lipid': 6,\n",
       "  'Peptide': 1,\n",
       "  'Pharmaceutical_Preparations': 0,\n",
       "  'Protein': 0,\n",
       "  'Toxin': 0,\n",
       "  'Mutation': 94,\n",
       "  'Disease': 137},\n",
       " 'Disease': {'Gene': 1693,\n",
       "  'RNA': 55,\n",
       "  'Carbohydrate': 92,\n",
       "  'Lipid': 101,\n",
       "  'Peptide': 29,\n",
       "  'Pharmaceutical_Preparations': 6,\n",
       "  'Protein': 15,\n",
       "  'Toxin': 2,\n",
       "  'Mutation': 364,\n",
       "  'Disease': 2159}}"
      ]
     },
     "execution_count": 402,
     "metadata": {},
     "output_type": "execute_result"
    }
   ],
   "source": [
    "entity_pairs_dict_num"
   ]
  },
  {
   "cell_type": "code",
   "execution_count": 403,
   "id": "0f9db0a6-9314-44d2-9de1-29297cee2346",
   "metadata": {},
   "outputs": [
    {
     "name": "stdout",
     "output_type": "stream",
     "text": [
      "8453\n"
     ]
    }
   ],
   "source": [
    "#8462\n",
    "countnum=0\n",
    "for i in entity_pairs_dict_num.values():\n",
    "    for j in i.values():\n",
    "        countnum+=j\n",
    "print(countnum)"
   ]
  },
  {
   "cell_type": "code",
   "execution_count": 404,
   "id": "39ac1d8a-1d79-4e9b-85c1-7fad8d1091eb",
   "metadata": {},
   "outputs": [],
   "source": [
    "relation_display=[]\n",
    "for i,j in entity_pairs_dict_num.items():\n",
    "    for k,l in j.items():\n",
    "        relation_display.append([k,i+' ',l])"
   ]
  },
  {
   "cell_type": "code",
   "execution_count": null,
   "id": "cf6a7fa7-056b-4248-af27-cf3bf0fe0e4d",
   "metadata": {},
   "outputs": [
    {
     "data": {
      "text/plain": [
       "[['Gene', 'Gene ', 1039],\n",
       " ['RNA', 'Gene ', 34],\n",
       " ['Carbohydrate', 'Gene ', 43],\n",
       " ['Lipid', 'Gene ', 43],\n",
       " ['Peptide', 'Gene ', 19],\n",
       " ['Pharmaceutical_Preparations', 'Gene ', 0],\n",
       " ['Protein', 'Gene ', 9],\n",
       " ['Toxin', 'Gene ', 1],\n",
       " ['Mutation', 'Gene ', 236],\n",
       " ['Disease', 'Gene ', 681],\n",
       " ['Gene', 'RNA ', 38],\n",
       " ['RNA', 'RNA ', 6],\n",
       " ['Carbohydrate', 'RNA ', 1],\n",
       " ['Lipid', 'RNA ', 0],\n",
       " ['Peptide', 'RNA ', 0],\n",
       " ['Pharmaceutical_Preparations', 'RNA ', 0],\n",
       " ['Protein', 'RNA ', 0],\n",
       " ['Toxin', 'RNA ', 0],\n",
       " ['Mutation', 'RNA ', 1],\n",
       " ['Disease', 'RNA ', 35],\n",
       " ['Gene', 'Carbohydrate ', 125],\n",
       " ['RNA', 'Carbohydrate ', 1],\n",
       " ['Carbohydrate', 'Carbohydrate ', 58],\n",
       " ['Lipid', 'Carbohydrate ', 23],\n",
       " ['Peptide', 'Carbohydrate ', 7],\n",
       " ['Pharmaceutical_Preparations', 'Carbohydrate ', 1],\n",
       " ['Protein', 'Carbohydrate ', 3],\n",
       " ['Toxin', 'Carbohydrate ', 0],\n",
       " ['Mutation', 'Carbohydrate ', 6],\n",
       " ['Disease', 'Carbohydrate ', 264],\n",
       " ['Gene', 'Lipid ', 150],\n",
       " ['RNA', 'Lipid ', 0],\n",
       " ['Carbohydrate', 'Lipid ', 20],\n",
       " ['Lipid', 'Lipid ', 67],\n",
       " ['Peptide', 'Lipid ', 4],\n",
       " ['Pharmaceutical_Preparations', 'Lipid ', 0],\n",
       " ['Protein', 'Lipid ', 2],\n",
       " ['Toxin', 'Lipid ', 1],\n",
       " ['Mutation', 'Lipid ', 13],\n",
       " ['Disease', 'Lipid ', 304],\n",
       " ['Gene', 'Peptide ', 49],\n",
       " ['RNA', 'Peptide ', 0],\n",
       " ['Carbohydrate', 'Peptide ', 7],\n",
       " ['Lipid', 'Peptide ', 8],\n",
       " ['Peptide', 'Peptide ', 7],\n",
       " ['Pharmaceutical_Preparations', 'Peptide ', 1],\n",
       " ['Protein', 'Peptide ', 1],\n",
       " ['Toxin', 'Peptide ', 0],\n",
       " ['Mutation', 'Peptide ', 1],\n",
       " ['Disease', 'Peptide ', 88],\n",
       " ['Gene', 'Pharmaceutical_Preparations ', 0],\n",
       " ['RNA', 'Pharmaceutical_Preparations ', 0],\n",
       " ['Carbohydrate', 'Pharmaceutical_Preparations ', 0],\n",
       " ['Lipid', 'Pharmaceutical_Preparations ', 0],\n",
       " ['Peptide', 'Pharmaceutical_Preparations ', 0],\n",
       " ['Pharmaceutical_Preparations', 'Pharmaceutical_Preparations ', 0],\n",
       " ['Protein', 'Pharmaceutical_Preparations ', 0],\n",
       " ['Toxin', 'Pharmaceutical_Preparations ', 0],\n",
       " ['Mutation', 'Pharmaceutical_Preparations ', 0],\n",
       " ['Disease', 'Pharmaceutical_Preparations ', 11],\n",
       " ['Gene', 'Protein ', 31],\n",
       " ['RNA', 'Protein ', 0],\n",
       " ['Carbohydrate', 'Protein ', 5],\n",
       " ['Lipid', 'Protein ', 3],\n",
       " ['Peptide', 'Protein ', 0],\n",
       " ['Pharmaceutical_Preparations', 'Protein ', 0],\n",
       " ['Protein', 'Protein ', 3],\n",
       " ['Toxin', 'Protein ', 0],\n",
       " ['Mutation', 'Protein ', 0],\n",
       " ['Disease', 'Protein ', 72],\n",
       " ['Gene', 'Toxin ', 20],\n",
       " ['RNA', 'Toxin ', 2],\n",
       " ['Carbohydrate', 'Toxin ', 0],\n",
       " ['Lipid', 'Toxin ', 3],\n",
       " ['Peptide', 'Toxin ', 0],\n",
       " ['Pharmaceutical_Preparations', 'Toxin ', 0],\n",
       " ['Protein', 'Toxin ', 0],\n",
       " ['Toxin', 'Toxin ', 2],\n",
       " ['Mutation', 'Toxin ', 0],\n",
       " ['Disease', 'Toxin ', 18],\n",
       " ['Gene', 'Mutation ', 130],\n",
       " ['RNA', 'Mutation ', 1],\n",
       " ['Carbohydrate', 'Mutation ', 1],\n",
       " ['Lipid', 'Mutation ', 6],\n",
       " ['Peptide', 'Mutation ', 1],\n",
       " ['Pharmaceutical_Preparations', 'Mutation ', 0],\n",
       " ['Protein', 'Mutation ', 0],\n",
       " ['Toxin', 'Mutation ', 0],\n",
       " ['Mutation', 'Mutation ', 94],\n",
       " ['Disease', 'Mutation ', 137],\n",
       " ['Gene', 'Disease ', 1693],\n",
       " ['RNA', 'Disease ', 55],\n",
       " ['Carbohydrate', 'Disease ', 92],\n",
       " ['Lipid', 'Disease ', 101],\n",
       " ['Peptide', 'Disease ', 29],\n",
       " ['Pharmaceutical_Preparations', 'Disease ', 6],\n",
       " ['Protein', 'Disease ', 15],\n",
       " ['Toxin', 'Disease ', 2],\n",
       " ['Mutation', 'Disease ', 364],\n",
       " ['Disease', 'Disease ', 2159]]"
      ]
     },
     "execution_count": 405,
     "metadata": {},
     "output_type": "execute_result"
    }
   ],
   "source": [
    "relation_display"
   ]
  },
  {
   "cell_type": "code",
   "execution_count": 381,
   "id": "1ebb048b-4998-4d44-abc1-3dfad288c3ff",
   "metadata": {},
   "outputs": [],
   "source": [
    "all_es=json.load(open('results/all_es_lack.json'))"
   ]
  },
  {
   "cell_type": "code",
   "execution_count": 382,
   "id": "8f1d14f8-9765-4291-a344-1b3774f8b8db",
   "metadata": {},
   "outputs": [],
   "source": [
    "entity2aging={}\n",
    "entity2longevity={}\n",
    "for i in triplelistnew:\n",
    "    if i.get('entity_two_type')=='Disease':\n",
    "        if i.get('entity_one_type')!='Disease':\n",
    "            if i.get('entity_one_transformed')!= i.get('entity_two_transformed'):\n",
    "                if positive_relations_dict.get(i.get('triple')[1].lower()):\n",
    "                    entity2aging[i.get('entity_one_transformed')]=True\n",
    "                elif negative_relations_dict.get(i.get('triple')[1].lower()):\n",
    "                    entity2longevity[i.get('entity_one_transformed')]=True"
   ]
  },
  {
   "cell_type": "code",
   "execution_count": 383,
   "id": "df43c45c-73ff-4d20-850f-bb163f3a4044",
   "metadata": {},
   "outputs": [
    {
     "data": {
      "text/plain": [
       "1594"
      ]
     },
     "execution_count": 383,
     "metadata": {},
     "output_type": "execute_result"
    }
   ],
   "source": [
    "len(entity2aging)"
   ]
  },
  {
   "cell_type": "code",
   "execution_count": 384,
   "id": "07c95ad9-dc41-4664-8aea-dbf9603ce31c",
   "metadata": {},
   "outputs": [
    {
     "data": {
      "text/plain": [
       "447"
      ]
     },
     "execution_count": 384,
     "metadata": {},
     "output_type": "execute_result"
    }
   ],
   "source": [
    "len(entity2longevity)"
   ]
  },
  {
   "cell_type": "code",
   "execution_count": 385,
   "id": "c49e19ea-6bef-4bb6-bc50-5ac1debe70ee",
   "metadata": {},
   "outputs": [
    {
     "name": "stdout",
     "output_type": "stream",
     "text": [
      "316\n"
     ]
    }
   ],
   "source": [
    "aaaa=0\n",
    "for i in entity2aging.keys():\n",
    "    if entity2longevity.get(i):\n",
    "        aaaa+=1\n",
    "print(aaaa)"
   ]
  },
  {
   "cell_type": "code",
   "execution_count": 386,
   "id": "69c4d06b-955d-4ef1-bcd2-8815f7cc00ac",
   "metadata": {},
   "outputs": [],
   "source": [
    "for i in all_es:\n",
    "    if entitydict.get(i.get('entity')):\n",
    "        i['network']=True\n",
    "    else:\n",
    "        i['network']=False\n",
    "    if entity2aging.get(i.get('entity')):\n",
    "        i['aging']=True\n",
    "    else:\n",
    "        i['aging']=False\n",
    "    if entity2longevity.get(i.get('entity')):\n",
    "        i['longevity']=True\n",
    "    else:\n",
    "        i['longevity']=False"
   ]
  },
  {
   "cell_type": "code",
   "execution_count": 387,
   "id": "45d789ab-7e02-41ad-b391-674e03eec307",
   "metadata": {},
   "outputs": [],
   "source": [
    "json.dump(all_es,open('results/all_es.json','w'))"
   ]
  },
  {
   "cell_type": "code",
   "execution_count": 388,
   "id": "faf88e9d-2ca0-442a-bd32-9fd5f1393aaa",
   "metadata": {},
   "outputs": [
    {
     "data": {
      "text/plain": [
       "10907"
      ]
     },
     "execution_count": 388,
     "metadata": {},
     "output_type": "execute_result"
    }
   ],
   "source": [
    "len(all_es)"
   ]
  },
  {
   "cell_type": "code",
   "execution_count": null,
   "id": "a1d1863b-2938-4e9e-996e-792f7f95fdae",
   "metadata": {},
   "outputs": [],
   "source": []
  },
  {
   "cell_type": "code",
   "execution_count": null,
   "id": "e85aa440-f8d7-4df8-900c-f909b3e56fc7",
   "metadata": {},
   "outputs": [],
   "source": []
  },
  {
   "cell_type": "code",
   "execution_count": null,
   "id": "d1876afd-0a30-4ea3-baba-3302399439e7",
   "metadata": {},
   "outputs": [],
   "source": []
  },
  {
   "cell_type": "code",
   "execution_count": null,
   "id": "a3993457-1daf-43f9-8763-a66398431f42",
   "metadata": {},
   "outputs": [],
   "source": []
  },
  {
   "cell_type": "code",
   "execution_count": null,
   "id": "96de3c06-fa60-4cfc-a3ea-e583c89cd266",
   "metadata": {},
   "outputs": [],
   "source": []
  },
  {
   "cell_type": "code",
   "execution_count": null,
   "id": "90aff56f-a5e8-4c60-bf9e-cf3b44963651",
   "metadata": {},
   "outputs": [],
   "source": []
  },
  {
   "cell_type": "code",
   "execution_count": null,
   "id": "e0319fc4-d5b4-402a-8f04-7a951d9e0876",
   "metadata": {},
   "outputs": [],
   "source": []
  },
  {
   "cell_type": "code",
   "execution_count": null,
   "id": "1a64f119-1fbb-4889-8fff-ac9c4c07130f",
   "metadata": {},
   "outputs": [],
   "source": []
  },
  {
   "cell_type": "code",
   "execution_count": null,
   "id": "0f5161db-32c0-47e4-bb9f-0013804cf65a",
   "metadata": {},
   "outputs": [],
   "source": []
  },
  {
   "cell_type": "code",
   "execution_count": null,
   "id": "99b40ffb-8d5e-43d3-8af0-f4000442c250",
   "metadata": {},
   "outputs": [],
   "source": []
  },
  {
   "cell_type": "code",
   "execution_count": null,
   "id": "9c23d7ac-2f89-4e93-8c61-fc56ab2990f2",
   "metadata": {},
   "outputs": [],
   "source": []
  },
  {
   "cell_type": "code",
   "execution_count": null,
   "id": "231145ce-e7a4-4a15-92c6-9588523e6336",
   "metadata": {},
   "outputs": [],
   "source": []
  },
  {
   "cell_type": "code",
   "execution_count": null,
   "id": "f7189bba-3722-4de4-8abe-77f1d6a7f87d",
   "metadata": {},
   "outputs": [],
   "source": []
  },
  {
   "cell_type": "code",
   "execution_count": null,
   "id": "ee73539e-7a08-4d16-bed9-aa7e8526ae1d",
   "metadata": {},
   "outputs": [],
   "source": []
  },
  {
   "cell_type": "code",
   "execution_count": 140,
   "id": "89e820ba-d251-44ad-b1a8-0400f2a4b5ca",
   "metadata": {},
   "outputs": [],
   "source": [
    "type_dict2num={}\n",
    "for i,j in type_dict.items():\n",
    "    type_dict2num[j]=type_dict2num.get(j,0)+1"
   ]
  },
  {
   "cell_type": "code",
   "execution_count": 141,
   "id": "d443d9a3-7d4c-4753-b11e-3202d20a8a98",
   "metadata": {},
   "outputs": [
    {
     "data": {
      "text/plain": [
       "67"
      ]
     },
     "execution_count": 141,
     "metadata": {},
     "output_type": "execute_result"
    }
   ],
   "source": [
    "len(type_dict2num)"
   ]
  },
  {
   "cell_type": "code",
   "execution_count": 142,
   "id": "750a76d4-80f7-4b5f-9f18-b6d7da13634f",
   "metadata": {},
   "outputs": [
    {
     "data": {
      "text/plain": [
       "{('Gene', 'Gene'): 2739,\n",
       " ('Gene', 'Disease'): 6290,\n",
       " ('Mutation', 'Disease'): 518,\n",
       " ('Disease', 'Disease'): 31816,\n",
       " ('Lipid', 'Gene'): 177,\n",
       " ('Disease', 'Gene'): 3816,\n",
       " ('Gene', 'Lipid'): 209,\n",
       " ('Lipid', 'Disease'): 934,\n",
       " ('Gene', 'Carbohydrate'): 155,\n",
       " ('Lipid', 'Lipid'): 249,\n",
       " ('Protein', 'Gene'): 30,\n",
       " ('Carbohydrate', 'Disease'): 677,\n",
       " ('Mutation', 'Carbohydrate'): 6,\n",
       " ('Disease', 'Lipid'): 672,\n",
       " ('Disease', 'Protein'): 91,\n",
       " ('Protein', 'Disease'): 127,\n",
       " ('Mutation', 'Mutation'): 167,\n",
       " ('Mutation', 'Gene'): 286,\n",
       " ('Disease', 'Mutation'): 375,\n",
       " ('Disease', 'Carbohydrate'): 498,\n",
       " ('Carbohydrate', 'Carbohydrate'): 140,\n",
       " ('Gene', 'RNA'): 43,\n",
       " ('RNA', 'Gene'): 56,\n",
       " ('Carbohydrate', 'Gene'): 139,\n",
       " ('Lipid', 'Carbohydrate'): 32,\n",
       " ('Gene', 'Protein'): 33,\n",
       " ('Gene', 'Peptide'): 56,\n",
       " ('Gene', 'Mutation'): 226,\n",
       " ('Disease', 'RNA'): 52,\n",
       " ('RNA', 'Disease'): 143,\n",
       " ('Protein', 'Carbohydrate'): 5,\n",
       " ('Mutation', 'Lipid'): 14,\n",
       " ('Lipid', 'Mutation'): 17,\n",
       " ('Peptide', 'Gene'): 59,\n",
       " ('Peptide', 'Carbohydrate'): 10,\n",
       " ('Carbohydrate', 'Lipid'): 34,\n",
       " ('Carbohydrate', 'Peptide'): 10,\n",
       " ('Disease', 'Toxin'): 19,\n",
       " ('Carbohydrate', 'RNA'): 1,\n",
       " ('RNA', 'Carbohydrate'): 1,\n",
       " ('Gene', 'Toxin'): 20,\n",
       " ('Toxin', 'Gene'): 18,\n",
       " ('Disease', 'Peptide'): 119,\n",
       " ('Carbohydrate', 'Mutation'): 4,\n",
       " ('Lipid', 'Peptide'): 8,\n",
       " ('Peptide', 'Disease'): 208,\n",
       " ('Carbohydrate', 'Protein'): 6,\n",
       " ('RNA', 'RNA'): 6,\n",
       " ('RNA', 'Toxin'): 2,\n",
       " ('Peptide', 'Peptide'): 7,\n",
       " ('Pharmaceutical_Preparations', 'Disease'): 15,\n",
       " ('Protein', 'Protein'): 3,\n",
       " ('Pharmaceutical_Preparations', 'Peptide'): 1,\n",
       " ('Mutation', 'RNA'): 1,\n",
       " ('RNA', 'Mutation'): 4,\n",
       " ('Toxin', 'Disease'): 16,\n",
       " ('Disease', 'Pharmaceutical_Preparations'): 12,\n",
       " ('Toxin', 'Toxin'): 2,\n",
       " ('Peptide', 'Lipid'): 6,\n",
       " ('Toxin', 'Lipid'): 1,\n",
       " ('Mutation', 'Peptide'): 1,\n",
       " ('Peptide', 'Mutation'): 1,\n",
       " ('Pharmaceutical_Preparations', 'Carbohydrate'): 1,\n",
       " ('Protein', 'Lipid'): 2,\n",
       " ('Lipid', 'Protein'): 3,\n",
       " ('Lipid', 'Toxin'): 3,\n",
       " ('Protein', 'Peptide'): 1}"
      ]
     },
     "execution_count": 142,
     "metadata": {},
     "output_type": "execute_result"
    }
   ],
   "source": [
    "type_dict2num"
   ]
  },
  {
   "cell_type": "code",
   "execution_count": 169,
   "id": "337f500d-a891-4175-be15-1bb3216542fa",
   "metadata": {},
   "outputs": [],
   "source": [
    "type_list=[]\n",
    "for i,j in type_dict2num.items():\n",
    "    type_list.append(list(i)+[j])"
   ]
  },
  {
   "cell_type": "code",
   "execution_count": 170,
   "id": "e7040c0d-8200-4339-a6e6-29f530fd7318",
   "metadata": {},
   "outputs": [],
   "source": [
    "for i in range(len(type_list)):\n",
    "    if type_list[i][0]==type_list[i][1]:\n",
    "        type_list[i][1]='per se'"
   ]
  },
  {
   "cell_type": "code",
   "execution_count": 171,
   "id": "b433be19-60e8-4098-8cc0-7e63ff4d8104",
   "metadata": {},
   "outputs": [],
   "source": [
    "pairs=['Gene','RNA','Carbohydrate','Lipid','Peptide', 'Pharmaceutical_Preparations', 'Protein', 'Toxin','Mutation', 'Disease']"
   ]
  },
  {
   "cell_type": "code",
   "execution_count": 172,
   "id": "924df30b-037c-46e2-90a8-1da6f5731d73",
   "metadata": {},
   "outputs": [],
   "source": [
    "pairs_sorted=sorted(pairs)+['per se']"
   ]
  },
  {
   "cell_type": "code",
   "execution_count": 173,
   "id": "9b0b0bae-4fa6-440b-9315-1f48cb09d9e7",
   "metadata": {},
   "outputs": [],
   "source": [
    "type_list_two=[]\n",
    "for i in type_list:\n",
    "    type_list_two.append(i[:2])"
   ]
  },
  {
   "cell_type": "code",
   "execution_count": 174,
   "id": "ea29f2a8-5868-4025-8f59-b23600d6e322",
   "metadata": {},
   "outputs": [],
   "source": [
    "type_list_mid=copy.deepcopy(type_list)\n",
    "for i in range(len(pairs_sorted)-1):\n",
    "    for j in list(range(0,i))+list(range(i+1,len(pairs_sorted))):\n",
    "        if [pairs_sorted[i],pairs_sorted[j]] not in type_list_two:\n",
    "            type_list_mid.append([pairs_sorted[i],pairs_sorted[j],0])"
   ]
  },
  {
   "cell_type": "code",
   "execution_count": 175,
   "id": "0a968c38-8e03-4556-a91f-e84b87be0dff",
   "metadata": {},
   "outputs": [],
   "source": [
    "type_list_sorted=sorted(type_list_mid)"
   ]
  },
  {
   "cell_type": "code",
   "execution_count": 176,
   "id": "212dc2f7-3f41-4f1f-8dd0-b41e8f0f584e",
   "metadata": {},
   "outputs": [
    {
     "data": {
      "text/plain": [
       "[['Carbohydrate', 'DNA', 111],\n",
       " ['Carbohydrate', 'Disease', 610],\n",
       " ['Carbohydrate', 'Lipid', 31],\n",
       " ['Carbohydrate', 'Mutation', 2],\n",
       " ['Carbohydrate', 'Peptide', 9],\n",
       " ['Carbohydrate', 'Pharmaceutical_Preparations', 0],\n",
       " ['Carbohydrate', 'Protein', 4],\n",
       " ['Carbohydrate', 'RNA', 0],\n",
       " ['Carbohydrate', 'Toxin', 0],\n",
       " ['Carbohydrate', 'per se', 127],\n",
       " ['DNA', 'Carbohydrate', 137],\n",
       " ['DNA', 'Disease', 5332],\n",
       " ['DNA', 'Lipid', 174],\n",
       " ['DNA', 'Mutation', 178],\n",
       " ['DNA', 'Peptide', 46],\n",
       " ['DNA', 'Pharmaceutical_Preparations', 0],\n",
       " ['DNA', 'Protein', 32],\n",
       " ['DNA', 'RNA', 11],\n",
       " ['DNA', 'Toxin', 17],\n",
       " ['DNA', 'per se', 2257],\n",
       " ['Disease', 'Carbohydrate', 432],\n",
       " ['Disease', 'DNA', 3079],\n",
       " ['Disease', 'Lipid', 532],\n",
       " ['Disease', 'Mutation', 272],\n",
       " ['Disease', 'Peptide', 104],\n",
       " ['Disease', 'Pharmaceutical_Preparations', 10],\n",
       " ['Disease', 'Protein', 78],\n",
       " ['Disease', 'RNA', 31],\n",
       " ['Disease', 'Toxin', 15],\n",
       " ['Disease', 'per se', 27994],\n",
       " ['Lipid', 'Carbohydrate', 31],\n",
       " ['Lipid', 'DNA', 153],\n",
       " ['Lipid', 'Disease', 835],\n",
       " ['Lipid', 'Mutation', 11],\n",
       " ['Lipid', 'Peptide', 7],\n",
       " ['Lipid', 'Pharmaceutical_Preparations', 0],\n",
       " ['Lipid', 'Protein', 3],\n",
       " ['Lipid', 'RNA', 0],\n",
       " ['Lipid', 'Toxin', 2],\n",
       " ['Lipid', 'per se', 204],\n",
       " ['Mutation', 'Carbohydrate', 4],\n",
       " ['Mutation', 'DNA', 223],\n",
       " ['Mutation', 'Disease', 411],\n",
       " ['Mutation', 'Lipid', 8],\n",
       " ['Mutation', 'Peptide', 0],\n",
       " ['Mutation', 'Pharmaceutical_Preparations', 0],\n",
       " ['Mutation', 'Protein', 0],\n",
       " ['Mutation', 'RNA', 1],\n",
       " ['Mutation', 'Toxin', 0],\n",
       " ['Mutation', 'per se', 83],\n",
       " ['Peptide', 'Carbohydrate', 8],\n",
       " ['Peptide', 'DNA', 47],\n",
       " ['Peptide', 'Disease', 189],\n",
       " ['Peptide', 'Lipid', 6],\n",
       " ['Peptide', 'Mutation', 0],\n",
       " ['Peptide', 'Pharmaceutical_Preparations', 0],\n",
       " ['Peptide', 'Protein', 0],\n",
       " ['Peptide', 'RNA', 0],\n",
       " ['Peptide', 'Toxin', 0],\n",
       " ['Peptide', 'per se', 5],\n",
       " ['Pharmaceutical_Preparations', 'Carbohydrate', 1],\n",
       " ['Pharmaceutical_Preparations', 'DNA', 0],\n",
       " ['Pharmaceutical_Preparations', 'Disease', 15],\n",
       " ['Pharmaceutical_Preparations', 'Lipid', 0],\n",
       " ['Pharmaceutical_Preparations', 'Mutation', 0],\n",
       " ['Pharmaceutical_Preparations', 'Peptide', 1],\n",
       " ['Pharmaceutical_Preparations', 'Protein', 0],\n",
       " ['Pharmaceutical_Preparations', 'RNA', 0],\n",
       " ['Pharmaceutical_Preparations', 'Toxin', 0],\n",
       " ['Pharmaceutical_Preparations', 'per se', 0],\n",
       " ['Protein', 'Carbohydrate', 4],\n",
       " ['Protein', 'DNA', 28],\n",
       " ['Protein', 'Disease', 109],\n",
       " ['Protein', 'Lipid', 2],\n",
       " ['Protein', 'Mutation', 0],\n",
       " ['Protein', 'Peptide', 1],\n",
       " ['Protein', 'Pharmaceutical_Preparations', 0],\n",
       " ['Protein', 'RNA', 0],\n",
       " ['Protein', 'Toxin', 0],\n",
       " ['Protein', 'per se', 1],\n",
       " ['RNA', 'Carbohydrate', 0],\n",
       " ['RNA', 'DNA', 22],\n",
       " ['RNA', 'Disease', 67],\n",
       " ['RNA', 'Lipid', 0],\n",
       " ['RNA', 'Mutation', 4],\n",
       " ['RNA', 'Peptide', 0],\n",
       " ['RNA', 'Pharmaceutical_Preparations', 0],\n",
       " ['RNA', 'Protein', 0],\n",
       " ['RNA', 'Toxin', 1],\n",
       " ['RNA', 'per se', 3],\n",
       " ['Toxin', 'Carbohydrate', 0],\n",
       " ['Toxin', 'DNA', 18],\n",
       " ['Toxin', 'Disease', 14],\n",
       " ['Toxin', 'Lipid', 1],\n",
       " ['Toxin', 'Mutation', 0],\n",
       " ['Toxin', 'Peptide', 0],\n",
       " ['Toxin', 'Pharmaceutical_Preparations', 0],\n",
       " ['Toxin', 'Protein', 0],\n",
       " ['Toxin', 'RNA', 0],\n",
       " ['Toxin', 'per se', 2]]"
      ]
     },
     "execution_count": 176,
     "metadata": {},
     "output_type": "execute_result"
    }
   ],
   "source": [
    "type_list_sorted"
   ]
  },
  {
   "cell_type": "code",
   "execution_count": null,
   "id": "fd885b29-c0e7-451b-ae8f-7f73901d98a8",
   "metadata": {},
   "outputs": [],
   "source": []
  },
  {
   "cell_type": "code",
   "execution_count": null,
   "id": "7f212705-400c-4e07-9f4c-39cf58a6c202",
   "metadata": {},
   "outputs": [],
   "source": []
  },
  {
   "cell_type": "code",
   "execution_count": null,
   "id": "3882b185-873b-4cc1-b67e-91baa7d99996",
   "metadata": {},
   "outputs": [],
   "source": []
  },
  {
   "cell_type": "code",
   "execution_count": null,
   "id": "3223543e-bd07-4209-b221-9372cd996c1c",
   "metadata": {},
   "outputs": [],
   "source": [
    "len(set(relation_list))"
   ]
  },
  {
   "cell_type": "code",
   "execution_count": null,
   "id": "8a8349ac-6bb2-468b-a596-e5b5558e4f27",
   "metadata": {},
   "outputs": [],
   "source": [
    "len(entitynotsame)"
   ]
  },
  {
   "cell_type": "code",
   "execution_count": null,
   "id": "e7309820-f99c-4980-8a93-935549263b42",
   "metadata": {},
   "outputs": [],
   "source": [
    "relation_list_set=list(set(relation_list))"
   ]
  },
  {
   "cell_type": "code",
   "execution_count": null,
   "id": "36d58e10-4605-49a0-b19d-2ab80805a4d9",
   "metadata": {},
   "outputs": [],
   "source": [
    "relation_list_set.sort()"
   ]
  },
  {
   "cell_type": "code",
   "execution_count": null,
   "id": "c8efa8a2-41df-4714-a175-5a9158bff604",
   "metadata": {},
   "outputs": [],
   "source": []
  },
  {
   "cell_type": "code",
   "execution_count": null,
   "id": "8d055a07-4796-4b2e-880c-9e866f45383a",
   "metadata": {},
   "outputs": [],
   "source": [
    "for i in triplelistnew:\n",
    "    if i.get('triple')[1].lower()=='with cad be':\n",
    "        print(i)"
   ]
  },
  {
   "cell_type": "code",
   "execution_count": null,
   "id": "a12a757d-e4c8-40f6-b7c3-d59e615f8e02",
   "metadata": {},
   "outputs": [],
   "source": [
    "df_relation_list_set = pd.DataFrame(relation_list_set)"
   ]
  },
  {
   "cell_type": "code",
   "execution_count": null,
   "id": "9d13be8d-7f8d-4830-9812-1bb6f29c0a21",
   "metadata": {},
   "outputs": [],
   "source": [
    "df_relation_list_set[:6]"
   ]
  },
  {
   "cell_type": "code",
   "execution_count": null,
   "id": "7320f269-168d-4f60-8571-6f75d37cb1a0",
   "metadata": {},
   "outputs": [],
   "source": [
    "df_relation_list_set.to_csv('relation_list_set.csv')"
   ]
  },
  {
   "cell_type": "markdown",
   "id": "a2506f7b-09d5-4db9-be34-803002c644f0",
   "metadata": {},
   "source": [
    "relation_list_set[:50]"
   ]
  },
  {
   "cell_type": "code",
   "execution_count": null,
   "id": "d0e1a35d-b1c6-4bf2-99cf-a9299a187406",
   "metadata": {},
   "outputs": [],
   "source": []
  },
  {
   "cell_type": "code",
   "execution_count": 152,
   "id": "9d1f1425-5831-40b3-8efb-b8949ac43bd6",
   "metadata": {},
   "outputs": [
    {
     "data": {
      "text/plain": [
       "{'PMID': '35926182',\n",
       " 'entity1': 'SF3B1',\n",
       " 'entity2': 'EIF2AK1',\n",
       " 'sentence': 'Here, using single-cell technologies and functional validation studies of primary SF3B1-mutant MDS-RS samples, we show that SF3B1 mutations lead to the activation of the EIF2AK1 pathway in response to heme deficiency and that targeting this pathway rescues aberrant erythroid differentiation and enables the red blood cell maturation of MDS-RS erythroblasts.',\n",
       " 'AB': 'SF3B1 mutations, which occur in 20% of patients with myelodysplastic syndromes (MDS), are the hallmarks of a specific MDS subtype, MDS with ringed sideroblasts (MDS-RS), which is characterized by the accumulation of erythroid precursors in the bone marrow and primarily affects the elderly population. Here, using single-cell technologies and functional validation studies of primary SF3B1-mutant MDS-RS samples, we show that SF3B1 mutations lead to the activation of the EIF2AK1 pathway in response to heme deficiency and that targeting this pathway rescues aberrant erythroid differentiation and enables the red blood cell maturation of MDS-RS erythroblasts. These data support the development of EIF2AK1 inhibitors to overcome transfusion dependency in patients with SF3B1-mutant MDS-RS with impaired red blood cell production.',\n",
       " 'target1': 'SF3B1',\n",
       " 'target1_type': 'DNA',\n",
       " 'target2': 'EIF2AK1',\n",
       " 'target2_type': 'DNA',\n",
       " 'networkx': ['SF3B1', 'lead', 'EIF2AK1'],\n",
       " 'openie_final': [],\n",
       " 'allennlp_final': [],\n",
       " 'bidirection': False,\n",
       " 'addtime': '2022_12_09'}"
      ]
     },
     "execution_count": 152,
     "metadata": {},
     "output_type": "execute_result"
    }
   ],
   "source": [
    "triplelist[0]"
   ]
  },
  {
   "cell_type": "code",
   "execution_count": 177,
   "id": "8710dfe7-9ac5-48a4-b57c-58b53b562212",
   "metadata": {},
   "outputs": [],
   "source": [
    "all_es_result=json.load(open('results/all_es_result.json'))"
   ]
  },
  {
   "cell_type": "code",
   "execution_count": 178,
   "id": "2c1b4456-40f4-4919-ba09-8f9a343b2509",
   "metadata": {},
   "outputs": [],
   "source": [
    "disease_dict_new={}\n",
    "for i in all_es_result:\n",
    "    if i.get('type')=='Disease':\n",
    "        disease_dict_new[i.get('entity')]=True\n",
    "    if i.get('type')=='Mutation':\n",
    "        disease_dict_new[i.get('entity')]=True"
   ]
  },
  {
   "cell_type": "code",
   "execution_count": 179,
   "id": "07c706b2-b190-4b26-a4c5-58149a493981",
   "metadata": {},
   "outputs": [],
   "source": [
    "errorss=[]\n",
    "for i in triplelist:\n",
    "    if i.get('target1_type')=='Disease' or i.get('target1_type')=='Mutation':\n",
    "        if not disease_dict_new.get(i.get('entity1')):\n",
    "            errorss.append(i.get('entity1'))\n",
    "    if i.get('target2_type')=='Disease' or i.get('target2_type')=='Mutation':\n",
    "        if not disease_dict_new.get(i.get('entity2')):\n",
    "            errorss.append(i.get('entity2'))"
   ]
  },
  {
   "cell_type": "code",
   "execution_count": 180,
   "id": "e051a76f-e873-4944-870b-b254f97f14ae",
   "metadata": {},
   "outputs": [
    {
     "data": {
      "text/plain": [
       "0"
      ]
     },
     "execution_count": 180,
     "metadata": {},
     "output_type": "execute_result"
    }
   ],
   "source": [
    "len(errorss)"
   ]
  },
  {
   "cell_type": "code",
   "execution_count": null,
   "id": "8a13d8a8-39ca-4d1a-a83c-526eb7523cbb",
   "metadata": {},
   "outputs": [],
   "source": []
  },
  {
   "cell_type": "code",
   "execution_count": 194,
   "id": "fc754dff-7ec4-4169-a1aa-7f224ff5dac1",
   "metadata": {},
   "outputs": [
    {
     "data": {
      "text/plain": [
       "{'triple': ['rs1001179', 'investigated', 'cataract'],\n",
       " 'PMID': '35556207',\n",
       " 'sentence': 'Association of SOD1 50 bp Indel, GPX1 (rs1800668), and CAT (rs1001179) genotypes with all clinical variables was investigated in cataract groups by regression statistics in SPSS  16.0.',\n",
       " 'AB': 'Hyperglycemia plays a pronounced role in accelerating the process of aging due to high oxidative stress which triggers dyslipidemia and subsequently led to the progression of cataract. The aim of this study was to investigate lipid profile and its relationship with genotypes of SOD1, GPX1, and CAT variants in cataract patients. Total n = 680 samples were screened in four groups: senile cataract (SC), diabetic cataract (DC), type 2 diabetes mellitus (DM), and controls (CL). Lipid profile was estimated and compared between groups, and its correlation was tested with glycemic markers. Association of SOD1 50 bp Indel, GPX1 (rs1800668), and CAT (rs1001179) genotypes with all clinical variables was investigated in cataract groups by regression statistics in SPSS  16.0. Comparative analysis revealed that amount of total cholesterol and low-density lipoprotein parameters were significantly higher in both groups of cataracts when compared with controls (p < 0.01). Statistically higher levels of triglycerides were also evident in DM patients as compared with other three groups (p < 0.01). Significant weak positive correlation of glycated hemoglobin, fasting (FBG), and random blood glucose (RBG) levels was observed with triglycerides in DM (r = 0.16), SC (r = 0.15), and DC (r = 0.18) groups. Mutant genotype of SOD1 and CAT variants indicated significant association with TC, whereas GPX1 variant with FBG levels in accelerating predisposition of cataract in patients with diabetes (OR > 1.0). Outcomes suggested that TG may serve as a potential biomarker of lipid profile with manifestation of cataract in type 2 DM. Furthermore, hypercholesterolemia and hypertriglyceridemia demonstrated an inducing role in the pathogenesis of cataract with aging in hyperglycemia.',\n",
       " 'entity_one': 'rs1001179',\n",
       " 'entity_one_type': 'Mutation',\n",
       " 'entity_two': 'cataract',\n",
       " 'entity_two_type': 'Disease',\n",
       " 'entity_one_transformed': 'rs1001179',\n",
       " 'entity_two_transformed': 'Cataract',\n",
       " 'transformed_triple': ('rs1001179', 'investigated', 'cataract', '35556207'),\n",
       " 'verb': 'investigated',\n",
       " 'IF': 3.094,\n",
       " 'IF5': 2.973,\n",
       " 'partofspeech': 'positive',\n",
       " 'date': 20220901,\n",
       " 'TA': 'Appl Biochem Biotechnol',\n",
       " 'JT': 'Applied biochemistry and biotechnology',\n",
       " 'year': 2022}"
      ]
     },
     "execution_count": 194,
     "metadata": {},
     "output_type": "execute_result"
    }
   ],
   "source": [
    "triplelistnew[10]"
   ]
  },
  {
   "cell_type": "code",
   "execution_count": 195,
   "id": "ff8d5701-dccf-436d-a145-f577998fc549",
   "metadata": {},
   "outputs": [],
   "source": [
    "entity_pairs=['Gene','RNA','Carbohydrate','Lipid','Peptide', 'Pharmaceutical_Preparations', 'Protein', 'Toxin','Mutation', 'Disease']"
   ]
  },
  {
   "cell_type": "code",
   "execution_count": null,
   "id": "876e0426-1c15-4a09-a294-cce3e6e44a22",
   "metadata": {},
   "outputs": [],
   "source": [
    "for i in entity_pairs:\n",
    "    names[i+'_temp']=[]"
   ]
  },
  {
   "cell_type": "code",
   "execution_count": 197,
   "id": "1493aa23-b853-4f03-bade-fea375002ed6",
   "metadata": {},
   "outputs": [],
   "source": [
    "relation_temp_set=set()\n",
    "relation_temp_list=[]\n",
    "relation_temp_type=[]\n",
    "for i in entity_pairs:\n",
    "    for j in triplelistnew:\n",
    "        if (j.get('entity_one_transformed'),j.get('verb'),j.get('entity_two_transformed')) not in relation_temp_set:\n",
    "            relation_temp_set.add((j.get('entity_one_transformed'),j.get('verb'),j.get('entity_two_transformed')))\n",
    "            relation_temp_list.append((j.get('entity_one_transformed'),(j.get('entity_two_transformed'))))\n",
    "            relation_temp_type.append((j.get('entity_one_type').replace(' ','_'),(j.get('entity_two_type').replace(' ','_'))))"
   ]
  },
  {
   "cell_type": "code",
   "execution_count": 198,
   "id": "de69d707-61e6-4555-942b-c77ab48b05a2",
   "metadata": {},
   "outputs": [
    {
     "data": {
      "text/plain": [
       "81818"
      ]
     },
     "execution_count": 198,
     "metadata": {},
     "output_type": "execute_result"
    }
   ],
   "source": [
    "len(list(relation_temp_set))"
   ]
  },
  {
   "cell_type": "code",
   "execution_count": 205,
   "id": "6be8d13c-2e76-4570-af6e-551872220eab",
   "metadata": {},
   "outputs": [
    {
     "data": {
      "text/plain": [
       "81818"
      ]
     },
     "execution_count": 205,
     "metadata": {},
     "output_type": "execute_result"
    }
   ],
   "source": [
    "len(relation_temp_list)"
   ]
  },
  {
   "cell_type": "code",
   "execution_count": 206,
   "id": "c053f8dd-0097-45c2-9e59-390097d3fc0b",
   "metadata": {},
   "outputs": [
    {
     "data": {
      "text/plain": [
       "('SF3B1', 'EIF2AK1')"
      ]
     },
     "execution_count": 206,
     "metadata": {},
     "output_type": "execute_result"
    }
   ],
   "source": [
    "relation_temp_list[0]"
   ]
  },
  {
   "cell_type": "code",
   "execution_count": 216,
   "id": "1684ce2b-5600-4853-9a78-86bcf611be25",
   "metadata": {},
   "outputs": [],
   "source": [
    "type_dict_temp={}\n",
    "for i in range(len(relation_temp_list)):\n",
    "    # if not type_dict_temp.get((relation_temp_list[i][0],relation_temp_list[i][1])):\n",
    "    if relation_temp_type[i][0]!=relation_temp_type[i][1]:\n",
    "        type_dict_temp[(relation_temp_type[i][0],relation_temp_type[i][1])]=type_dict_temp.get((relation_temp_type[i][0],relation_temp_type[i][1]),0)+1\n",
    "    else:\n",
    "        type_dict_temp[(relation_temp_type[i][0],'per se')]=type_dict_temp.get((relation_temp_type[i][0],'per se'),0)+1"
   ]
  },
  {
   "cell_type": "code",
   "execution_count": 217,
   "id": "79c859d7-6cfc-44e1-8bc2-1ed86c640e43",
   "metadata": {},
   "outputs": [
    {
     "data": {
      "text/plain": [
       "63"
      ]
     },
     "execution_count": 217,
     "metadata": {},
     "output_type": "execute_result"
    }
   ],
   "source": [
    "len(type_dict_temp)"
   ]
  },
  {
   "cell_type": "code",
   "execution_count": 218,
   "id": "f0154d36-1119-4d64-8545-cb7d27e9fb24",
   "metadata": {},
   "outputs": [
    {
     "data": {
      "text/plain": [
       "{('DNA', 'per se'): 2854,\n",
       " ('DNA', 'Disease'): 9158,\n",
       " ('Mutation', 'Disease'): 458,\n",
       " ('Disease', 'per se'): 57009,\n",
       " ('Lipid', 'DNA'): 197,\n",
       " ('Disease', 'DNA'): 4466,\n",
       " ('DNA', 'Lipid'): 233,\n",
       " ('DNA', 'Carbohydrate'): 261,\n",
       " ('Lipid', 'per se'): 308,\n",
       " ('Protein', 'DNA'): 39,\n",
       " ('Carbohydrate', 'Disease'): 1183,\n",
       " ('Lipid', 'Disease'): 1445,\n",
       " ('Mutation', 'Carbohydrate'): 5,\n",
       " ('Disease', 'Lipid'): 825,\n",
       " ('Protein', 'Disease'): 182,\n",
       " ('Disease', 'Mutation'): 292,\n",
       " ('Mutation', 'per se'): 86,\n",
       " ('Disease', 'Carbohydrate'): 793,\n",
       " ('Carbohydrate', 'per se'): 180,\n",
       " ('Carbohydrate', 'DNA'): 191,\n",
       " ('RNA', 'DNA'): 29,\n",
       " ('DNA', 'Protein'): 41,\n",
       " ('DNA', 'Peptide'): 53,\n",
       " ('DNA', 'Mutation'): 184,\n",
       " ('Mutation', 'DNA'): 244,\n",
       " ('RNA', 'Disease'): 98,\n",
       " ('Disease', 'RNA'): 41,\n",
       " ('Lipid', 'Carbohydrate'): 53,\n",
       " ('Protein', 'Carbohydrate'): 9,\n",
       " ('Disease', 'Protein'): 113,\n",
       " ('Mutation', 'Lipid'): 8,\n",
       " ('DNA', 'RNA'): 14,\n",
       " ('Peptide', 'DNA'): 64,\n",
       " ('Peptide', 'Carbohydrate'): 19,\n",
       " ('Disease', 'Toxin'): 17,\n",
       " ('DNA', 'Toxin'): 22,\n",
       " ('Toxin', 'DNA'): 18,\n",
       " ('Carbohydrate', 'Lipid'): 54,\n",
       " ('Lipid', 'Mutation'): 11,\n",
       " ('Disease', 'Peptide'): 152,\n",
       " ('Carbohydrate', 'Mutation'): 2,\n",
       " ('Peptide', 'Disease'): 300,\n",
       " ('RNA', 'Toxin'): 1,\n",
       " ('RNA', 'per se'): 4,\n",
       " ('Carbohydrate', 'Peptide'): 10,\n",
       " ('Peptide', 'per se'): 7,\n",
       " ('Pharmaceutical_Preparations', 'Disease'): 16,\n",
       " ('Pharmaceutical_Preparations', 'Peptide'): 1,\n",
       " ('Protein', 'per se'): 1,\n",
       " ('Mutation', 'RNA'): 1,\n",
       " ('RNA', 'Mutation'): 4,\n",
       " ('Toxin', 'Disease'): 15,\n",
       " ('Carbohydrate', 'Protein'): 6,\n",
       " ('Disease', 'Pharmaceutical_Preparations'): 10,\n",
       " ('Toxin', 'per se'): 2,\n",
       " ('Peptide', 'Lipid'): 9,\n",
       " ('Toxin', 'Lipid'): 2,\n",
       " ('Pharmaceutical_Preparations', 'Carbohydrate'): 1,\n",
       " ('Lipid', 'Peptide'): 8,\n",
       " ('Protein', 'Lipid'): 2,\n",
       " ('Lipid', 'Protein'): 3,\n",
       " ('Lipid', 'Toxin'): 3,\n",
       " ('Protein', 'Peptide'): 1}"
      ]
     },
     "execution_count": 218,
     "metadata": {},
     "output_type": "execute_result"
    }
   ],
   "source": [
    "type_dict_temp"
   ]
  },
  {
   "cell_type": "code",
   "execution_count": 219,
   "id": "f6e0c2f0-4c71-4748-9e59-aebb0d4c462f",
   "metadata": {},
   "outputs": [],
   "source": [
    "type_dict_output={}\n",
    "for i in range(len(pairs_sorted)-1):\n",
    "    for j in list(range(0,i))+list(range(i+1,len(pairs_sorted))):\n",
    "        type_dict_output[(pairs_sorted[i],pairs_sorted[j])]=type_dict_temp.get((pairs_sorted[i],pairs_sorted[j]),0)"
   ]
  },
  {
   "cell_type": "code",
   "execution_count": 220,
   "id": "c0c895c7-c70d-4a22-beb5-64327775cb7a",
   "metadata": {},
   "outputs": [
    {
     "name": "stdout",
     "output_type": "stream",
     "text": [
      "81818\n"
     ]
    }
   ],
   "source": [
    "pppp=0\n",
    "for j in type_dict_output.values():\n",
    "    pppp+=j\n",
    "print(pppp)"
   ]
  },
  {
   "cell_type": "code",
   "execution_count": 226,
   "id": "ad29f828-0238-4dae-b099-152f9aa548e0",
   "metadata": {},
   "outputs": [],
   "source": [
    "type_list_output=[]\n",
    "for i,j in type_dict_output.items():\n",
    "    type_list_output.append(list(i)+[j])"
   ]
  },
  {
   "cell_type": "code",
   "execution_count": 221,
   "id": "ced445be-fead-42cc-973d-f540563a7808",
   "metadata": {},
   "outputs": [
    {
     "data": {
      "text/plain": [
       "{('Carbohydrate', 'DNA'): 191,\n",
       " ('Carbohydrate', 'Disease'): 1183,\n",
       " ('Carbohydrate', 'Lipid'): 54,\n",
       " ('Carbohydrate', 'Mutation'): 2,\n",
       " ('Carbohydrate', 'Peptide'): 10,\n",
       " ('Carbohydrate', 'Pharmaceutical_Preparations'): 0,\n",
       " ('Carbohydrate', 'Protein'): 6,\n",
       " ('Carbohydrate', 'RNA'): 0,\n",
       " ('Carbohydrate', 'Toxin'): 0,\n",
       " ('Carbohydrate', 'per se'): 180,\n",
       " ('DNA', 'Carbohydrate'): 261,\n",
       " ('DNA', 'Disease'): 9158,\n",
       " ('DNA', 'Lipid'): 233,\n",
       " ('DNA', 'Mutation'): 184,\n",
       " ('DNA', 'Peptide'): 53,\n",
       " ('DNA', 'Pharmaceutical_Preparations'): 0,\n",
       " ('DNA', 'Protein'): 41,\n",
       " ('DNA', 'RNA'): 14,\n",
       " ('DNA', 'Toxin'): 22,\n",
       " ('DNA', 'per se'): 2854,\n",
       " ('Disease', 'Carbohydrate'): 793,\n",
       " ('Disease', 'DNA'): 4466,\n",
       " ('Disease', 'Lipid'): 825,\n",
       " ('Disease', 'Mutation'): 292,\n",
       " ('Disease', 'Peptide'): 152,\n",
       " ('Disease', 'Pharmaceutical_Preparations'): 10,\n",
       " ('Disease', 'Protein'): 113,\n",
       " ('Disease', 'RNA'): 41,\n",
       " ('Disease', 'Toxin'): 17,\n",
       " ('Disease', 'per se'): 57009,\n",
       " ('Lipid', 'Carbohydrate'): 53,\n",
       " ('Lipid', 'DNA'): 197,\n",
       " ('Lipid', 'Disease'): 1445,\n",
       " ('Lipid', 'Mutation'): 11,\n",
       " ('Lipid', 'Peptide'): 8,\n",
       " ('Lipid', 'Pharmaceutical_Preparations'): 0,\n",
       " ('Lipid', 'Protein'): 3,\n",
       " ('Lipid', 'RNA'): 0,\n",
       " ('Lipid', 'Toxin'): 3,\n",
       " ('Lipid', 'per se'): 308,\n",
       " ('Mutation', 'Carbohydrate'): 5,\n",
       " ('Mutation', 'DNA'): 244,\n",
       " ('Mutation', 'Disease'): 458,\n",
       " ('Mutation', 'Lipid'): 8,\n",
       " ('Mutation', 'Peptide'): 0,\n",
       " ('Mutation', 'Pharmaceutical_Preparations'): 0,\n",
       " ('Mutation', 'Protein'): 0,\n",
       " ('Mutation', 'RNA'): 1,\n",
       " ('Mutation', 'Toxin'): 0,\n",
       " ('Mutation', 'per se'): 86,\n",
       " ('Peptide', 'Carbohydrate'): 19,\n",
       " ('Peptide', 'DNA'): 64,\n",
       " ('Peptide', 'Disease'): 300,\n",
       " ('Peptide', 'Lipid'): 9,\n",
       " ('Peptide', 'Mutation'): 0,\n",
       " ('Peptide', 'Pharmaceutical_Preparations'): 0,\n",
       " ('Peptide', 'Protein'): 0,\n",
       " ('Peptide', 'RNA'): 0,\n",
       " ('Peptide', 'Toxin'): 0,\n",
       " ('Peptide', 'per se'): 7,\n",
       " ('Pharmaceutical_Preparations', 'Carbohydrate'): 1,\n",
       " ('Pharmaceutical_Preparations', 'DNA'): 0,\n",
       " ('Pharmaceutical_Preparations', 'Disease'): 16,\n",
       " ('Pharmaceutical_Preparations', 'Lipid'): 0,\n",
       " ('Pharmaceutical_Preparations', 'Mutation'): 0,\n",
       " ('Pharmaceutical_Preparations', 'Peptide'): 1,\n",
       " ('Pharmaceutical_Preparations', 'Protein'): 0,\n",
       " ('Pharmaceutical_Preparations', 'RNA'): 0,\n",
       " ('Pharmaceutical_Preparations', 'Toxin'): 0,\n",
       " ('Pharmaceutical_Preparations', 'per se'): 0,\n",
       " ('Protein', 'Carbohydrate'): 9,\n",
       " ('Protein', 'DNA'): 39,\n",
       " ('Protein', 'Disease'): 182,\n",
       " ('Protein', 'Lipid'): 2,\n",
       " ('Protein', 'Mutation'): 0,\n",
       " ('Protein', 'Peptide'): 1,\n",
       " ('Protein', 'Pharmaceutical_Preparations'): 0,\n",
       " ('Protein', 'RNA'): 0,\n",
       " ('Protein', 'Toxin'): 0,\n",
       " ('Protein', 'per se'): 1,\n",
       " ('RNA', 'Carbohydrate'): 0,\n",
       " ('RNA', 'DNA'): 29,\n",
       " ('RNA', 'Disease'): 98,\n",
       " ('RNA', 'Lipid'): 0,\n",
       " ('RNA', 'Mutation'): 4,\n",
       " ('RNA', 'Peptide'): 0,\n",
       " ('RNA', 'Pharmaceutical_Preparations'): 0,\n",
       " ('RNA', 'Protein'): 0,\n",
       " ('RNA', 'Toxin'): 1,\n",
       " ('RNA', 'per se'): 4,\n",
       " ('Toxin', 'Carbohydrate'): 0,\n",
       " ('Toxin', 'DNA'): 18,\n",
       " ('Toxin', 'Disease'): 15,\n",
       " ('Toxin', 'Lipid'): 2,\n",
       " ('Toxin', 'Mutation'): 0,\n",
       " ('Toxin', 'Peptide'): 0,\n",
       " ('Toxin', 'Pharmaceutical_Preparations'): 0,\n",
       " ('Toxin', 'Protein'): 0,\n",
       " ('Toxin', 'RNA'): 0,\n",
       " ('Toxin', 'per se'): 2}"
      ]
     },
     "execution_count": 221,
     "metadata": {},
     "output_type": "execute_result"
    }
   ],
   "source": [
    "type_dict_output"
   ]
  },
  {
   "cell_type": "code",
   "execution_count": 224,
   "id": "c9e2601f-678b-4971-b9cf-48e0811ed10c",
   "metadata": {},
   "outputs": [
    {
     "name": "stdout",
     "output_type": "stream",
     "text": [
      "Carbohydrate 1183\n",
      "DNA 9158\n",
      "Disease 57009\n",
      "Lipid 1445\n",
      "Mutation 458\n",
      "Peptide 300\n",
      "Pharmaceutical_Preparations 16\n",
      "Protein 182\n",
      "RNA 98\n",
      "Toxin 15\n"
     ]
    }
   ],
   "source": [
    "for i,j in type_dict_output.items():\n",
    "    if i[1]=='Disease':\n",
    "        print(i[0]+' '+str(j))\n",
    "    elif i[0]=='Disease' and i[1]=='per se':\n",
    "        print(i[0]+' '+str(j))"
   ]
  },
  {
   "cell_type": "code",
   "execution_count": 227,
   "id": "a269eb6c-b607-443e-9ad2-da1e8220474c",
   "metadata": {},
   "outputs": [
    {
     "data": {
      "text/plain": [
       "[['Carbohydrate', 'DNA', 191],\n",
       " ['Carbohydrate', 'Disease', 1183],\n",
       " ['Carbohydrate', 'Lipid', 54],\n",
       " ['Carbohydrate', 'Mutation', 2],\n",
       " ['Carbohydrate', 'Peptide', 10],\n",
       " ['Carbohydrate', 'Pharmaceutical_Preparations', 0],\n",
       " ['Carbohydrate', 'Protein', 6],\n",
       " ['Carbohydrate', 'RNA', 0],\n",
       " ['Carbohydrate', 'Toxin', 0],\n",
       " ['Carbohydrate', 'per se', 180],\n",
       " ['DNA', 'Carbohydrate', 261],\n",
       " ['DNA', 'Disease', 9158],\n",
       " ['DNA', 'Lipid', 233],\n",
       " ['DNA', 'Mutation', 184],\n",
       " ['DNA', 'Peptide', 53],\n",
       " ['DNA', 'Pharmaceutical_Preparations', 0],\n",
       " ['DNA', 'Protein', 41],\n",
       " ['DNA', 'RNA', 14],\n",
       " ['DNA', 'Toxin', 22],\n",
       " ['DNA', 'per se', 2854],\n",
       " ['Disease', 'Carbohydrate', 793],\n",
       " ['Disease', 'DNA', 4466],\n",
       " ['Disease', 'Lipid', 825],\n",
       " ['Disease', 'Mutation', 292],\n",
       " ['Disease', 'Peptide', 152],\n",
       " ['Disease', 'Pharmaceutical_Preparations', 10],\n",
       " ['Disease', 'Protein', 113],\n",
       " ['Disease', 'RNA', 41],\n",
       " ['Disease', 'Toxin', 17],\n",
       " ['Disease', 'per se', 57009],\n",
       " ['Lipid', 'Carbohydrate', 53],\n",
       " ['Lipid', 'DNA', 197],\n",
       " ['Lipid', 'Disease', 1445],\n",
       " ['Lipid', 'Mutation', 11],\n",
       " ['Lipid', 'Peptide', 8],\n",
       " ['Lipid', 'Pharmaceutical_Preparations', 0],\n",
       " ['Lipid', 'Protein', 3],\n",
       " ['Lipid', 'RNA', 0],\n",
       " ['Lipid', 'Toxin', 3],\n",
       " ['Lipid', 'per se', 308],\n",
       " ['Mutation', 'Carbohydrate', 5],\n",
       " ['Mutation', 'DNA', 244],\n",
       " ['Mutation', 'Disease', 458],\n",
       " ['Mutation', 'Lipid', 8],\n",
       " ['Mutation', 'Peptide', 0],\n",
       " ['Mutation', 'Pharmaceutical_Preparations', 0],\n",
       " ['Mutation', 'Protein', 0],\n",
       " ['Mutation', 'RNA', 1],\n",
       " ['Mutation', 'Toxin', 0],\n",
       " ['Mutation', 'per se', 86],\n",
       " ['Peptide', 'Carbohydrate', 19],\n",
       " ['Peptide', 'DNA', 64],\n",
       " ['Peptide', 'Disease', 300],\n",
       " ['Peptide', 'Lipid', 9],\n",
       " ['Peptide', 'Mutation', 0],\n",
       " ['Peptide', 'Pharmaceutical_Preparations', 0],\n",
       " ['Peptide', 'Protein', 0],\n",
       " ['Peptide', 'RNA', 0],\n",
       " ['Peptide', 'Toxin', 0],\n",
       " ['Peptide', 'per se', 7],\n",
       " ['Pharmaceutical_Preparations', 'Carbohydrate', 1],\n",
       " ['Pharmaceutical_Preparations', 'DNA', 0],\n",
       " ['Pharmaceutical_Preparations', 'Disease', 16],\n",
       " ['Pharmaceutical_Preparations', 'Lipid', 0],\n",
       " ['Pharmaceutical_Preparations', 'Mutation', 0],\n",
       " ['Pharmaceutical_Preparations', 'Peptide', 1],\n",
       " ['Pharmaceutical_Preparations', 'Protein', 0],\n",
       " ['Pharmaceutical_Preparations', 'RNA', 0],\n",
       " ['Pharmaceutical_Preparations', 'Toxin', 0],\n",
       " ['Pharmaceutical_Preparations', 'per se', 0],\n",
       " ['Protein', 'Carbohydrate', 9],\n",
       " ['Protein', 'DNA', 39],\n",
       " ['Protein', 'Disease', 182],\n",
       " ['Protein', 'Lipid', 2],\n",
       " ['Protein', 'Mutation', 0],\n",
       " ['Protein', 'Peptide', 1],\n",
       " ['Protein', 'Pharmaceutical_Preparations', 0],\n",
       " ['Protein', 'RNA', 0],\n",
       " ['Protein', 'Toxin', 0],\n",
       " ['Protein', 'per se', 1],\n",
       " ['RNA', 'Carbohydrate', 0],\n",
       " ['RNA', 'DNA', 29],\n",
       " ['RNA', 'Disease', 98],\n",
       " ['RNA', 'Lipid', 0],\n",
       " ['RNA', 'Mutation', 4],\n",
       " ['RNA', 'Peptide', 0],\n",
       " ['RNA', 'Pharmaceutical_Preparations', 0],\n",
       " ['RNA', 'Protein', 0],\n",
       " ['RNA', 'Toxin', 1],\n",
       " ['RNA', 'per se', 4],\n",
       " ['Toxin', 'Carbohydrate', 0],\n",
       " ['Toxin', 'DNA', 18],\n",
       " ['Toxin', 'Disease', 15],\n",
       " ['Toxin', 'Lipid', 2],\n",
       " ['Toxin', 'Mutation', 0],\n",
       " ['Toxin', 'Peptide', 0],\n",
       " ['Toxin', 'Pharmaceutical_Preparations', 0],\n",
       " ['Toxin', 'Protein', 0],\n",
       " ['Toxin', 'RNA', 0],\n",
       " ['Toxin', 'per se', 2]]"
      ]
     },
     "execution_count": 227,
     "metadata": {},
     "output_type": "execute_result"
    }
   ],
   "source": [
    "sorted(type_list_output)"
   ]
  },
  {
   "cell_type": "code",
   "execution_count": null,
   "id": "03867eb8-0a20-4809-9725-d7c0ccfe946b",
   "metadata": {},
   "outputs": [],
   "source": []
  },
  {
   "cell_type": "code",
   "execution_count": 150,
   "id": "81f7f816-fca3-4019-afec-8c16838326cc",
   "metadata": {},
   "outputs": [
    {
     "data": {
      "text/plain": [
       "{'PMID': '35926182',\n",
       " 'entity1': 'SF3B1',\n",
       " 'entity2': 'EIF2AK1',\n",
       " 'sentence': 'Here, using single-cell technologies and functional validation studies of primary SF3B1-mutant MDS-RS samples, we show that SF3B1 mutations lead to the activation of the EIF2AK1 pathway in response to heme deficiency and that targeting this pathway rescues aberrant erythroid differentiation and enables the red blood cell maturation of MDS-RS erythroblasts.',\n",
       " 'AB': 'SF3B1 mutations, which occur in 20% of patients with myelodysplastic syndromes (MDS), are the hallmarks of a specific MDS subtype, MDS with ringed sideroblasts (MDS-RS), which is characterized by the accumulation of erythroid precursors in the bone marrow and primarily affects the elderly population. Here, using single-cell technologies and functional validation studies of primary SF3B1-mutant MDS-RS samples, we show that SF3B1 mutations lead to the activation of the EIF2AK1 pathway in response to heme deficiency and that targeting this pathway rescues aberrant erythroid differentiation and enables the red blood cell maturation of MDS-RS erythroblasts. These data support the development of EIF2AK1 inhibitors to overcome transfusion dependency in patients with SF3B1-mutant MDS-RS with impaired red blood cell production.',\n",
       " 'target1': 'SF3B1',\n",
       " 'target1_type': 'Gene',\n",
       " 'target2': 'EIF2AK1',\n",
       " 'target2_type': 'Gene',\n",
       " 'networkx': ['SF3B1', 'lead', 'EIF2AK1'],\n",
       " 'openie_final': [],\n",
       " 'allennlp_final': [],\n",
       " 'bidirection': False,\n",
       " 'addtime': '2022_12_09'}"
      ]
     },
     "execution_count": 150,
     "metadata": {},
     "output_type": "execute_result"
    }
   ],
   "source": [
    "triplelist[0]"
   ]
  },
  {
   "cell_type": "code",
   "execution_count": 152,
   "id": "64c29892-7571-4598-a099-d1f404589275",
   "metadata": {},
   "outputs": [],
   "source": [
    "for i in triplelist:\n",
    "    if i.get('entity2')=='apolipoprotein E':\n",
    "        print(i)\n",
    "        break"
   ]
  },
  {
   "cell_type": "code",
   "execution_count": 165,
   "id": "a41ecd41-c7c5-4ede-b78c-e402133d2872",
   "metadata": {},
   "outputs": [
    {
     "data": {
      "text/plain": [
       "{'triple': ['SF3B1', 'lead', 'heme deficiency'],\n",
       " 'PMID': '35926182',\n",
       " 'sentence': 'Here, using single-cell technologies and functional validation studies of primary SF3B1-mutant MDS-RS samples, we show that SF3B1 mutations lead to the activation of the EIF2AK1 pathway in response to heme deficiency and that targeting this pathway rescues aberrant erythroid differentiation and enables the red blood cell maturation of MDS-RS erythroblasts.',\n",
       " 'AB': 'SF3B1 mutations, which occur in 20% of patients with myelodysplastic syndromes (MDS), are the hallmarks of a specific MDS subtype, MDS with ringed sideroblasts (MDS-RS), which is characterized by the accumulation of erythroid precursors in the bone marrow and primarily affects the elderly population. Here, using single-cell technologies and functional validation studies of primary SF3B1-mutant MDS-RS samples, we show that SF3B1 mutations lead to the activation of the EIF2AK1 pathway in response to heme deficiency and that targeting this pathway rescues aberrant erythroid differentiation and enables the red blood cell maturation of MDS-RS erythroblasts. These data support the development of EIF2AK1 inhibitors to overcome transfusion dependency in patients with SF3B1-mutant MDS-RS with impaired red blood cell production.',\n",
       " 'entity_one': 'SF3B1',\n",
       " 'entity_one_type': 'Gene',\n",
       " 'entity_two': 'heme deficiency',\n",
       " 'entity_two_type': 'Disease',\n",
       " 'entity_one_transformed': 'SF3B1',\n",
       " 'entity_two_transformed': 'Protoporphyria, Erythropoietic',\n",
       " 'transformed_triple': ('SF3B1', 'lead', 'heme deficiency', '35926182'),\n",
       " 'verb': 'lead',\n",
       " 'IF': 0.0,\n",
       " 'IF5': 0.0,\n",
       " 'partofspeech': 'positive',\n",
       " 'date': 20221102,\n",
       " 'TA': 'Blood Cancer Discov',\n",
       " 'JT': 'Blood cancer discovery',\n",
       " 'year': 2022}"
      ]
     },
     "execution_count": 165,
     "metadata": {},
     "output_type": "execute_result"
    }
   ],
   "source": [
    "disease_list[0]"
   ]
  },
  {
   "cell_type": "code",
   "execution_count": 411,
   "id": "0d54193c-dd33-439b-8a26-e3d9420dd032",
   "metadata": {},
   "outputs": [],
   "source": [
    "for i in disease_list:\n",
    "    if i.get('triple')==['KL', 'may serve as', 'colon cancer']:\n",
    "        print(i)"
   ]
  },
  {
   "cell_type": "code",
   "execution_count": 447,
   "id": "80346f6b-88ae-4ab7-8b05-74b8b811f036",
   "metadata": {},
   "outputs": [
    {
     "name": "stdout",
     "output_type": "stream",
     "text": [
      "{'triple': ['Tet2', 'yield', 'CMML'], 'PMID': '36271153', 'sentence': 'We reproduce Srsf2/Tet2 co-operativity in vivo, yielding a disease with core characteristics of CMML, unlike single Srsf2 or Tet2 mutation.', 'AB': 'Recurrent mutations in RNA splicing proteins and epigenetic regulators contribute to the development of myelodysplastic syndrome (MDS) and related myeloid neoplasms. In chronic myelomonocytic leukemia (CMML), SRSF2 mutations occur in ~50% of patients and TET2 mutations in ~60%. Clonal analysis indicates that either mutation can arise as the founder lesion. Based on human cancer genetics we crossed an inducible Srsf2P95H/+ mutant model with Tet2fl/fl mice to mutate both concomitantly in hematopoietic stem cells. At 20-24 weeks post mutation induction, we observed subtle differences in the Srsf2/Tet2 mutants compared to either single mutant. Under conditions of native hematopoiesis with aging, we see a distinct myeloid bias and monocytosis in the Srsf2/Tet2 mutants. A subset of the compound Srsf2/Tet2 mutants display an increased granulocytic and distinctive monocytic proliferation (myelomonocytic hyperplasia), with increased immature promonocytes and monoblasts and binucleate promonocytes. Exome analysis of progressed disease demonstrated mutations in genes and pathways similar to those reported in human CMML. Upon transplantation, recipients developed leukocytosis, monocytosis, and splenomegaly. We reproduce Srsf2/Tet2 co-operativity in vivo, yielding a disease with core characteristics of CMML, unlike single Srsf2 or Tet2 mutation. This model represents a significant step toward building high fidelity and genetically tractable models of CMML.', 'entity_one': 'Tet2', 'entity_one_type': 'Gene', 'entity_two': 'CMML', 'entity_two_type': 'Disease', 'entity_one_transformed': 'TET2', 'entity_two_transformed': 'Leukemia, Myelomonocytic, Juvenile', 'transformed_triple': ('Tet2', 'yield', 'CMML', '36271153'), 'verb': 'yield', 'IF': 12.883, 'IF5': 12.255, 'date': 20221201, 'TA': 'Leukemia', 'JT': 'Leukemia', 'year': 2022}\n",
      "{'triple': ['Srsf2', 'yield', 'CMML'], 'PMID': '36271153', 'sentence': 'We reproduce Srsf2/Tet2 co-operativity in vivo, yielding a disease with core characteristics of CMML, unlike single Srsf2 or Tet2 mutation.', 'AB': 'Recurrent mutations in RNA splicing proteins and epigenetic regulators contribute to the development of myelodysplastic syndrome (MDS) and related myeloid neoplasms. In chronic myelomonocytic leukemia (CMML), SRSF2 mutations occur in ~50% of patients and TET2 mutations in ~60%. Clonal analysis indicates that either mutation can arise as the founder lesion. Based on human cancer genetics we crossed an inducible Srsf2P95H/+ mutant model with Tet2fl/fl mice to mutate both concomitantly in hematopoietic stem cells. At 20-24 weeks post mutation induction, we observed subtle differences in the Srsf2/Tet2 mutants compared to either single mutant. Under conditions of native hematopoiesis with aging, we see a distinct myeloid bias and monocytosis in the Srsf2/Tet2 mutants. A subset of the compound Srsf2/Tet2 mutants display an increased granulocytic and distinctive monocytic proliferation (myelomonocytic hyperplasia), with increased immature promonocytes and monoblasts and binucleate promonocytes. Exome analysis of progressed disease demonstrated mutations in genes and pathways similar to those reported in human CMML. Upon transplantation, recipients developed leukocytosis, monocytosis, and splenomegaly. We reproduce Srsf2/Tet2 co-operativity in vivo, yielding a disease with core characteristics of CMML, unlike single Srsf2 or Tet2 mutation. This model represents a significant step toward building high fidelity and genetically tractable models of CMML.', 'entity_one': 'Srsf2', 'entity_one_type': 'Gene', 'entity_two': 'CMML', 'entity_two_type': 'Disease', 'entity_one_transformed': 'SRSF2', 'entity_two_transformed': 'Leukemia, Myelomonocytic, Juvenile', 'transformed_triple': ('Srsf2', 'yield', 'CMML', '36271153'), 'verb': 'yield', 'IF': 12.883, 'IF5': 12.255, 'date': 20221201, 'TA': 'Leukemia', 'JT': 'Leukemia', 'year': 2022}\n",
      "{'triple': ['Ste24', 'yield', 'HGPS'], 'PMID': '16186497', 'sentence': 'Prelamin A is subsequently internally cleaved by the zinc metalloprotease Ste24 (Zmpste24) protease, which removes the 15 C-terminal amino acids, including the CaaX modifications, to yield mature lamin A. HGPS results from a dominant mutant form of prelamin A (progerin) that has an internal deletion of 50 aa near the C terminus that includes the Zmpste24 cleavage site and blocks removal of the CaaX-modified C terminus.', 'AB': 'Hutchinson-Gilford progeria syndrome (HGPS) is a devastating premature aging disease resulting from a mutation in the LMNA gene, which encodes nuclear lamins A and C. Lamin A is synthesized as a precursor (prelamin A) with a C-terminal CaaX motif that undergoes farnesylation, endoproteolytic cleavage, and carboxylmethylation. Prelamin A is subsequently internally cleaved by the zinc metalloprotease Ste24 (Zmpste24) protease, which removes the 15 C-terminal amino acids, including the CaaX modifications, to yield mature lamin A. HGPS results from a dominant mutant form of prelamin A (progerin) that has an internal deletion of 50 aa near the C terminus that includes the Zmpste24 cleavage site and blocks removal of the CaaX-modified C terminus. Fibroblasts from HGPS patients have aberrant nuclei with irregular shapes, which we hypothesize result from the abnormal persistence of the farnesyl and/or carboxylmethyl CaaX modifications on progerin. If this hypothesis is correct, inhibition of CaaX modification by mutation or pharmacological treatment should alleviate the nuclear morphology defect. Consistent with our hypothesis, we find that expression in HeLa cells of GFP-progerin or an uncleavable form of prelamin A with a Zmpste24 cleavage site mutation induces the formation of abnormal nuclei similar to those in HGPS fibroblasts. Strikingly, inhibition of farnesylation pharmacologically with the farnesyl transferase inhibitor rac-R115777 or mutationally by alteration of the CaaX motif dramatically reverses the abnormal nuclear morphology. These results suggest that farnesyl transferase inhibitors represent a possible therapeutic option for individuals with HGPS and/or other laminopathies due to Zmpste24 processing defects.', 'entity_one': 'Ste24', 'entity_one_type': 'Gene', 'entity_two': 'HGPS', 'entity_two_type': 'Disease', 'entity_one_transformed': 'ZMPSTE24', 'entity_two_transformed': 'Progeria', 'transformed_triple': ('Ste24', 'yield', 'HGPS', '16186497'), 'verb': 'yield', 'IF': 12.779, 'IF5': 13.45, 'date': 20051004, 'TA': 'Proc Natl Acad Sci U S A', 'JT': 'Proceedings of the National Academy of Sciences of the United States of America', 'year': 2005}\n",
      "{'triple': ['Zmpste24', 'yield', 'HGPS'], 'PMID': '16186497', 'sentence': 'Prelamin A is subsequently internally cleaved by the zinc metalloprotease Ste24 (Zmpste24) protease, which removes the 15 C-terminal amino acids, including the CaaX modifications, to yield mature lamin A. HGPS results from a dominant mutant form of prelamin A (progerin) that has an internal deletion of 50 aa near the C terminus that includes the Zmpste24 cleavage site and blocks removal of the CaaX-modified C terminus.', 'AB': 'Hutchinson-Gilford progeria syndrome (HGPS) is a devastating premature aging disease resulting from a mutation in the LMNA gene, which encodes nuclear lamins A and C. Lamin A is synthesized as a precursor (prelamin A) with a C-terminal CaaX motif that undergoes farnesylation, endoproteolytic cleavage, and carboxylmethylation. Prelamin A is subsequently internally cleaved by the zinc metalloprotease Ste24 (Zmpste24) protease, which removes the 15 C-terminal amino acids, including the CaaX modifications, to yield mature lamin A. HGPS results from a dominant mutant form of prelamin A (progerin) that has an internal deletion of 50 aa near the C terminus that includes the Zmpste24 cleavage site and blocks removal of the CaaX-modified C terminus. Fibroblasts from HGPS patients have aberrant nuclei with irregular shapes, which we hypothesize result from the abnormal persistence of the farnesyl and/or carboxylmethyl CaaX modifications on progerin. If this hypothesis is correct, inhibition of CaaX modification by mutation or pharmacological treatment should alleviate the nuclear morphology defect. Consistent with our hypothesis, we find that expression in HeLa cells of GFP-progerin or an uncleavable form of prelamin A with a Zmpste24 cleavage site mutation induces the formation of abnormal nuclei similar to those in HGPS fibroblasts. Strikingly, inhibition of farnesylation pharmacologically with the farnesyl transferase inhibitor rac-R115777 or mutationally by alteration of the CaaX motif dramatically reverses the abnormal nuclear morphology. These results suggest that farnesyl transferase inhibitors represent a possible therapeutic option for individuals with HGPS and/or other laminopathies due to Zmpste24 processing defects.', 'entity_one': 'Zmpste24', 'entity_one_type': 'Gene', 'entity_two': 'HGPS', 'entity_two_type': 'Disease', 'entity_one_transformed': 'ZMPSTE24', 'entity_two_transformed': 'Progeria', 'transformed_triple': ('Zmpste24', 'yield', 'HGPS', '16186497'), 'verb': 'yield', 'IF': 12.779, 'IF5': 13.45, 'date': 20051004, 'TA': 'Proc Natl Acad Sci U S A', 'JT': 'Proceedings of the National Academy of Sciences of the United States of America', 'year': 2005}\n"
     ]
    }
   ],
   "source": [
    "for i in disease_list:\n",
    "    if i.get('verb')=='yield':\n",
    "        print(i)\n",
    "        # break"
   ]
  },
  {
   "cell_type": "code",
   "execution_count": 304,
   "id": "879fed8e-b366-4b17-a4f4-e94c1caa81dd",
   "metadata": {},
   "outputs": [
    {
     "name": "stdout",
     "output_type": "stream",
     "text": [
      "{'PMID': '22197663', 'entity1': 'Polycystic Ovary Syndrome', 'entity2': 'Neurologic Manifestations', 'sentence': 'The dysfunction has involved insulin resistance (IR), which occurs in most women with PCOS.', 'AB': 'Life-long apolipoprotein lipid metabolic dysfunction in women with PCOS exaggerates the risk for cardiovascular disease (CVD) with aging. The dysfunction has involved insulin resistance (IR), which occurs in most women with PCOS. Women with PCOS have androgen excess, IR, variable amounts of estrogen exposure, and many environmental factors, all of which can influence lipid metabolism. On average, women with PCOS were higher triglyceride [26.39 95% CI (17.24, 35.54)], lower HDL-cholesterol [6.41 95% CI (3.69, 9.14)], and higher non HDL cholesterol levels [18.82 95% CI (15.53, 22.11)] than their non-PCOS counterparts. They have higher ApoCIII/ApoCII ratios and higher ApoCI even if they are not obese. ApoC1 elevation in women with PCOS needs to be further evaluated as a marker of dysfunction and potential CVD risk. ApoB measurements track with non-HDL cholesterol as a surrogate for increased atherogenic circulating small LDL particles. Elevated triglycerides and waist circumference predict CVD risk and women with PCOS often have these phenotypes. Diet and exercise interventions followed by selective lipid lowering medications are encouraged to normalize the dyslipidemia.', 'target1': 'PCOS', 'target1_type': 'Disease', 'target2': 'dysfunction', 'target2_type': 'Disease', 'allennlp': [['PCOS', 'involved', 'dysfunction']], 'networkx': ['dysfunction', 'occur', 'PCOS'], 'openie_final': [], 'allennlp_final': [['PCOS', 'involve', 'dysfunction']], 'bidirection': False, 'addtime': '20220724'}\n",
      "{'PMID': '22197663', 'entity1': 'INS', 'entity2': 'Neurologic Manifestations', 'sentence': 'The dysfunction has involved insulin resistance (IR), which occurs in most women with PCOS.', 'AB': 'Life-long apolipoprotein lipid metabolic dysfunction in women with PCOS exaggerates the risk for cardiovascular disease (CVD) with aging. The dysfunction has involved insulin resistance (IR), which occurs in most women with PCOS. Women with PCOS have androgen excess, IR, variable amounts of estrogen exposure, and many environmental factors, all of which can influence lipid metabolism. On average, women with PCOS were higher triglyceride [26.39 95% CI (17.24, 35.54)], lower HDL-cholesterol [6.41 95% CI (3.69, 9.14)], and higher non HDL cholesterol levels [18.82 95% CI (15.53, 22.11)] than their non-PCOS counterparts. They have higher ApoCIII/ApoCII ratios and higher ApoCI even if they are not obese. ApoC1 elevation in women with PCOS needs to be further evaluated as a marker of dysfunction and potential CVD risk. ApoB measurements track with non-HDL cholesterol as a surrogate for increased atherogenic circulating small LDL particles. Elevated triglycerides and waist circumference predict CVD risk and women with PCOS often have these phenotypes. Diet and exercise interventions followed by selective lipid lowering medications are encouraged to normalize the dyslipidemia.', 'target1': 'insulin', 'target1_type': 'Gene', 'target2': 'dysfunction', 'target2_type': 'Disease', 'allennlp': [['insulin', 'involved', 'dysfunction']], 'openie': [['dysfunction', 'have involve', 'insulin']], 'networkx': ['dysfunction', 'involve', 'insulin'], 'openie_final': [['dysfunction', 'have involve', 'insulin']], 'allennlp_final': [['insulin', 'involve', 'dysfunction']], 'bidirection': False, 'addtime': '20220724'}\n",
      "{'PMID': '22197663', 'entity1': 'INS', 'entity2': 'Polycystic Ovary Syndrome', 'sentence': 'The dysfunction has involved insulin resistance (IR), which occurs in most women with PCOS.', 'AB': 'Life-long apolipoprotein lipid metabolic dysfunction in women with PCOS exaggerates the risk for cardiovascular disease (CVD) with aging. The dysfunction has involved insulin resistance (IR), which occurs in most women with PCOS. Women with PCOS have androgen excess, IR, variable amounts of estrogen exposure, and many environmental factors, all of which can influence lipid metabolism. On average, women with PCOS were higher triglyceride [26.39 95% CI (17.24, 35.54)], lower HDL-cholesterol [6.41 95% CI (3.69, 9.14)], and higher non HDL cholesterol levels [18.82 95% CI (15.53, 22.11)] than their non-PCOS counterparts. They have higher ApoCIII/ApoCII ratios and higher ApoCI even if they are not obese. ApoC1 elevation in women with PCOS needs to be further evaluated as a marker of dysfunction and potential CVD risk. ApoB measurements track with non-HDL cholesterol as a surrogate for increased atherogenic circulating small LDL particles. Elevated triglycerides and waist circumference predict CVD risk and women with PCOS often have these phenotypes. Diet and exercise interventions followed by selective lipid lowering medications are encouraged to normalize the dyslipidemia.', 'target1': 'insulin', 'target1_type': 'Gene', 'target2': 'PCOS', 'target2_type': 'Disease', 'networkx': ['insulin', 'occur', 'PCOS'], 'openie_final': [], 'allennlp_final': [], 'bidirection': False, 'addtime': '20220724'}\n"
     ]
    }
   ],
   "source": [
    "for i in triplelist:\n",
    "    if i.get('PMID')=='22197663' and i.get('sentence')=='The dysfunction has involved insulin resistance (IR), which occurs in most women with PCOS.':\n",
    "        print(i)"
   ]
  },
  {
   "cell_type": "code",
   "execution_count": 183,
   "id": "558d1162-fb09-4cfe-9d3e-a5c1ac03d36c",
   "metadata": {},
   "outputs": [
    {
     "name": "stdout",
     "output_type": "stream",
     "text": [
      "{'PMID': '11190416', 'entity1': 'Digoxin', 'entity2': 'Death', 'sentence': 'Greater knowledge about the causes and prevention of digoxin toxicity should further reduce the morbidity and mortality arising from digoxin toxicity, especially in the elderly population.', 'AB': 'Digoxin remains one of the most commonly prescribed of all cardiac medications. The main indications for digoxin usage include atrial fibrillation and heart failure; both these conditions are more prevalent in older patients. Given the aging population and the increasing incidence of heart failure we would expect prescribing of digoxin to remain as frequent or to even increase in older patients. Older patients are also more likely to develop toxicity and diagnosis of digoxin toxicity can be difficult in this group. Numerous components contribute to the development of toxicity in older patients, ranging from aging-related changes in renal function or body mass to polypharmacy and possible interactions with digoxin. It is therefore important to understand how the pharmacokinetics of digoxin may be altered in the older population. Application of basic pharmacological principles may be helpful in anticipating these problems. This review describes the pharmacokinetics of digoxin, the changes in pharmacokinetics with increasing age and how concomitant disease states or drug interactions may affect the pharmacokinetics of digoxin. Greater knowledge about the causes and prevention of digoxin toxicity should further reduce the morbidity and mortality arising from digoxin toxicity, especially in the elderly population.', 'target1': 'digoxin', 'target1_type': 'Carbohydrate', 'target2': 'mortality', 'target2_type': 'Disease', 'allennlp': [['mortality', 'arising', 'digoxin']], 'networkx': ['digoxin', 'arise', 'mortality'], 'openie_final': [], 'allennlp_final': [['mortality', 'arising', 'digoxin']], 'bidirection': False, 'addtime': '20220724'}\n",
      "{'PMID': '1794026', 'entity1': 'Digoxin', 'entity2': 'Death', 'sentence': 'Greater knowledge about the causes and prevention of digoxin toxicity should further reduce the morbidity and mortality arising from digoxin overdose, especially in the elderly population.', 'AB': 'Digoxin is one of the most frequently prescribed drugs, particularly in the elderly population where there is an increased prevalence of atrial fibrillation and cardiac failure. The drug has a narrow therapeutic range and has gained a reputation for producing adverse effects in older patients. The more frail elderly patients with coexistent disease, often taking other treatments, are more at risk from digoxin toxicity due to inappropriate dosing, noncompliance, or increased sensitivity to digoxin resulting from pharmacokinetic or pharmacodynamic interactions. Application of basic pharmacological principles may be helpful in anticipating these problems. Elderly patients more commonly receive digoxin than younger patients, which in part accounts for the higher rates of toxicity in this group. Numerous components contribute to the development of toxicity, and diagnosis of toxicity is difficult in this age group. The measurement of serum concentrations can contribute to the clinical diagnosis. A major problem is the accurate diagnosis of digoxin toxicity which may have numerous nonspecific clinical manifestations, many of which are related to coexisting disease in elderly patients. This diagnostic imprecision is well recognised but has been helped by the introduction of serum digoxin measurement. However, reliance on serum concentrations should not replace clinical judgement, since these do not always correlate with toxicity. The apparently decreasing incidence of toxicity over recent years probably reflects several factors: the improvement in digoxin formulations, awareness of digoxin pharmacology, utilisation of serum concentrations, and the realisation that digoxin withdrawal is a viable proposition in elderly patients. Greater knowledge about the causes and prevention of digoxin toxicity should further reduce the morbidity and mortality arising from digoxin overdose, especially in the elderly population.', 'target1': 'digoxin', 'target1_type': 'Carbohydrate', 'target2': 'mortality', 'target2_type': 'Disease', 'allennlp': [['mortality', 'arising', 'digoxin']], 'networkx': ['digoxin', 'arise', 'mortality'], 'openie_final': [], 'allennlp_final': [['mortality', 'arising', 'digoxin']], 'bidirection': False, 'addtime': '20220724'}\n",
      "{'PMID': '26936152', 'entity1': 'Digoxin', 'entity2': 'Death', 'sentence': 'Renin-angiotensin system blockers and statins may confer a survival benefit, and digoxin use may be associated with higher mortality in these patients.', 'AB': 'BACKGROUND: Severe mitral annular calcification causing degenerative mitral stenosis (DMS) is increasingly encountered in patients undergoing mitral and aortic valve interventions. However, its clinical profile and natural history and the factors affecting survival remain poorly characterized. The goal of this study was to characterize the factors affecting survival in patients with DMS. METHODS: An institutional echocardiographic database was searched for patients with DMS, defined as severe mitral annular calcification without commissural fusion and a mean transmitral diastolic gradient of >=2 mm Hg. This resulted in a cohort of 1,004 patients. Survival was analyzed as a function of clinical, pharmacologic, and echocardiographic variables. RESULTS: The patient characteristics were as follows: mean age, 73 +- 14 years; 73% women; coronary artery disease in 49%; and diabetes mellitus in 50%. The 1- and 5-year survival rates were 78% and 47%, respectively, and were slightly worse with higher DMS grades (P = .02). Risk factors for higher mortality included greater age (P < .0001), atrial fibrillation (P = .0009), renal insufficiency (P = .004), mitral regurgitation (P < .0001), tricuspid regurgitation (P < .0001), elevated right atrial pressure (P < .0001), concomitant aortic stenosis (P = .02), and low serum albumin level (P < .0001). Adjusted for propensity scores, use of renin-angiotensin system blockers (P = .02) or statins (P = .04) was associated with better survival, and use of digoxin was associated with higher mortality (P = .007). CONCLUSIONS: Prognosis in patients with DMS is poor, being worse in the aged and those with renal insufficiency, atrial fibrillation, and other concomitant valvular lesions. Renin-angiotensin system blockers and statins may confer a survival benefit, and digoxin use may be associated with higher mortality in these patients.', 'target1': 'digoxin', 'target1_type': 'Carbohydrate', 'target2': 'mortality', 'target2_type': 'Disease', 'allennlp': [['digoxin', 'associated', 'mortality']], 'networkx': ['digoxin', 'associated', 'mortality'], 'openie_final': [], 'allennlp_final': [['digoxin', 'associated', 'mortality']], 'bidirection': True, 'addtime': '20220724'}\n",
      "{'PMID': '26936152', 'entity1': 'Digoxin', 'entity2': 'Death', 'sentence': 'Adjusted for propensity scores, use of renin-angiotensin system blockers (P = .02) or statins (P = .04) was associated with better survival, and use of digoxin was associated with higher mortality (P = .007).', 'AB': 'BACKGROUND: Severe mitral annular calcification causing degenerative mitral stenosis (DMS) is increasingly encountered in patients undergoing mitral and aortic valve interventions. However, its clinical profile and natural history and the factors affecting survival remain poorly characterized. The goal of this study was to characterize the factors affecting survival in patients with DMS. METHODS: An institutional echocardiographic database was searched for patients with DMS, defined as severe mitral annular calcification without commissural fusion and a mean transmitral diastolic gradient of >=2 mm Hg. This resulted in a cohort of 1,004 patients. Survival was analyzed as a function of clinical, pharmacologic, and echocardiographic variables. RESULTS: The patient characteristics were as follows: mean age, 73 +- 14 years; 73% women; coronary artery disease in 49%; and diabetes mellitus in 50%. The 1- and 5-year survival rates were 78% and 47%, respectively, and were slightly worse with higher DMS grades (P = .02). Risk factors for higher mortality included greater age (P < .0001), atrial fibrillation (P = .0009), renal insufficiency (P = .004), mitral regurgitation (P < .0001), tricuspid regurgitation (P < .0001), elevated right atrial pressure (P < .0001), concomitant aortic stenosis (P = .02), and low serum albumin level (P < .0001). Adjusted for propensity scores, use of renin-angiotensin system blockers (P = .02) or statins (P = .04) was associated with better survival, and use of digoxin was associated with higher mortality (P = .007). CONCLUSIONS: Prognosis in patients with DMS is poor, being worse in the aged and those with renal insufficiency, atrial fibrillation, and other concomitant valvular lesions. Renin-angiotensin system blockers and statins may confer a survival benefit, and digoxin use may be associated with higher mortality in these patients.', 'target1': 'digoxin', 'target1_type': 'Carbohydrate', 'target2': 'mortality', 'target2_type': 'Disease', 'allennlp': [['digoxin', 'associated', 'mortality']], 'networkx': ['digoxin', 'associated', 'mortality'], 'openie_final': [], 'allennlp_final': [['digoxin', 'associated', 'mortality']], 'bidirection': True, 'addtime': '20220724'}\n"
     ]
    }
   ],
   "source": [
    "for i in triplelist:\n",
    "    if i.get('target2')=='mortality' and i.get('target1')=='digoxin':\n",
    "        print(i)"
   ]
  },
  {
   "cell_type": "code",
   "execution_count": 181,
   "id": "aeb108c3-be86-45a4-a865-33ad537ebabe",
   "metadata": {},
   "outputs": [
    {
     "data": {
      "text/plain": [
       "{'PMID': '35926182',\n",
       " 'entity1': 'SF3B1',\n",
       " 'entity2': 'EIF2AK1',\n",
       " 'sentence': 'Here, using single-cell technologies and functional validation studies of primary SF3B1-mutant MDS-RS samples, we show that SF3B1 mutations lead to the activation of the EIF2AK1 pathway in response to heme deficiency and that targeting this pathway rescues aberrant erythroid differentiation and enables the red blood cell maturation of MDS-RS erythroblasts.',\n",
       " 'AB': 'SF3B1 mutations, which occur in 20% of patients with myelodysplastic syndromes (MDS), are the hallmarks of a specific MDS subtype, MDS with ringed sideroblasts (MDS-RS), which is characterized by the accumulation of erythroid precursors in the bone marrow and primarily affects the elderly population. Here, using single-cell technologies and functional validation studies of primary SF3B1-mutant MDS-RS samples, we show that SF3B1 mutations lead to the activation of the EIF2AK1 pathway in response to heme deficiency and that targeting this pathway rescues aberrant erythroid differentiation and enables the red blood cell maturation of MDS-RS erythroblasts. These data support the development of EIF2AK1 inhibitors to overcome transfusion dependency in patients with SF3B1-mutant MDS-RS with impaired red blood cell production.',\n",
       " 'target1': 'SF3B1',\n",
       " 'target1_type': 'Gene',\n",
       " 'target2': 'EIF2AK1',\n",
       " 'target2_type': 'Gene',\n",
       " 'networkx': ['SF3B1', 'lead', 'EIF2AK1'],\n",
       " 'openie_final': [],\n",
       " 'allennlp_final': [],\n",
       " 'bidirection': False,\n",
       " 'addtime': '2022_12_09'}"
      ]
     },
     "execution_count": 181,
     "metadata": {},
     "output_type": "execute_result"
    }
   ],
   "source": [
    "triplelist[0]"
   ]
  },
  {
   "cell_type": "code",
   "execution_count": null,
   "id": "133e79a4-2c11-4e41-be19-c4afe8f9552f",
   "metadata": {},
   "outputs": [],
   "source": []
  }
 ],
 "metadata": {
  "kernelspec": {
   "display_name": "hald",
   "language": "python",
   "name": "hald"
  },
  "language_info": {
   "codemirror_mode": {
    "name": "ipython",
    "version": 3
   },
   "file_extension": ".py",
   "mimetype": "text/x-python",
   "name": "python",
   "nbconvert_exporter": "python",
   "pygments_lexer": "ipython3",
   "version": "3.8.15"
  }
 },
 "nbformat": 4,
 "nbformat_minor": 5
}
