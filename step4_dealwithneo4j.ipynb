{
 "cells": [
  {
   "cell_type": "code",
   "execution_count": 4,
   "id": "257527a4-b258-442a-a1f8-1da6ecef2833",
   "metadata": {},
   "outputs": [],
   "source": [
    "import os, csv, pickle, json, pymongo, copy, re, time, datetime, math\n",
    "import pandas as pd\n",
    "from pymongo import MongoClient"
   ]
  },
  {
   "cell_type": "code",
   "execution_count": 5,
   "id": "f384408f-5721-4c45-9996-8675c4e237f7",
   "metadata": {},
   "outputs": [],
   "source": [
    "pd.set_option('display.max_columns', 50)"
   ]
  },
  {
   "cell_type": "code",
   "execution_count": 6,
   "id": "3e8f82a3-2bc6-409f-a793-3e8dc5039bf0",
   "metadata": {},
   "outputs": [],
   "source": [
    "jcr=pd.read_csv(\"../JCR/jcr2023.tsv\",sep=\"\\t\")"
   ]
  },
  {
   "cell_type": "code",
   "execution_count": 7,
   "id": "2abdbb65-ba26-4947-b585-5333e8e639a0",
   "metadata": {},
   "outputs": [
    {
     "data": {
      "text/plain": [
       "20522"
      ]
     },
     "execution_count": 7,
     "metadata": {},
     "output_type": "execute_result"
    }
   ],
   "source": [
    "len(jcr)"
   ]
  },
  {
   "cell_type": "code",
   "execution_count": 8,
   "id": "db326362-ce39-4510-8e80-7c68261fa323",
   "metadata": {},
   "outputs": [
    {
     "data": {
      "text/html": [
       "<div>\n",
       "<style scoped>\n",
       "    .dataframe tbody tr th:only-of-type {\n",
       "        vertical-align: middle;\n",
       "    }\n",
       "\n",
       "    .dataframe tbody tr th {\n",
       "        vertical-align: top;\n",
       "    }\n",
       "\n",
       "    .dataframe thead th {\n",
       "        text-align: right;\n",
       "    }\n",
       "</style>\n",
       "<table border=\"1\" class=\"dataframe\">\n",
       "  <thead>\n",
       "    <tr style=\"text-align: right;\">\n",
       "      <th></th>\n",
       "      <th>rank</th>\n",
       "      <th>journalTitle</th>\n",
       "      <th>abbrJournal</th>\n",
       "      <th>year</th>\n",
       "      <th>edition</th>\n",
       "      <th>issn</th>\n",
       "      <th>totalCites</th>\n",
       "      <th>journalImpactFactor</th>\n",
       "      <th>impactFactorWithoutJournalSelfCites</th>\n",
       "      <th>fiveYearImpactFactor</th>\n",
       "      <th>immediacyIndex</th>\n",
       "      <th>citableItems</th>\n",
       "      <th>citedHalfLife</th>\n",
       "      <th>citingHalfLife</th>\n",
       "      <th>eigenFactorScore</th>\n",
       "      <th>articleInfluenceScore</th>\n",
       "      <th>citesCurrent</th>\n",
       "      <th>articlesCurrent</th>\n",
       "      <th>selfCites</th>\n",
       "      <th>impactFactorSelfCites</th>\n",
       "      <th>originalResearch</th>\n",
       "      <th>jifPercentile</th>\n",
       "      <th>normEigenFactor</th>\n",
       "    </tr>\n",
       "  </thead>\n",
       "  <tbody>\n",
       "    <tr>\n",
       "      <th>20512</th>\n",
       "      <td>9855</td>\n",
       "      <td>European Journal of Orthopaedic Surgery and Tr...</td>\n",
       "      <td>EUR J ORTHOP SURG TR</td>\n",
       "      <td>2023</td>\n",
       "      <td>NaN</td>\n",
       "      <td>1633-8065</td>\n",
       "      <td>3574</td>\n",
       "      <td>1.7</td>\n",
       "      <td>1.6</td>\n",
       "      <td>NaN</td>\n",
       "      <td>0.3</td>\n",
       "      <td>326</td>\n",
       "      <td>4.7</td>\n",
       "      <td>8.3</td>\n",
       "      <td>0.00518</td>\n",
       "      <td>NaN</td>\n",
       "      <td>0</td>\n",
       "      <td>0</td>\n",
       "      <td>0</td>\n",
       "      <td>0</td>\n",
       "      <td>0</td>\n",
       "      <td>NaN</td>\n",
       "      <td>1.11597</td>\n",
       "    </tr>\n",
       "    <tr>\n",
       "      <th>20513</th>\n",
       "      <td>9855</td>\n",
       "      <td>European Journal of Transport and Infrastructu...</td>\n",
       "      <td>EUR J TRANSP INFRAST</td>\n",
       "      <td>2023</td>\n",
       "      <td>NaN</td>\n",
       "      <td>1567-7133</td>\n",
       "      <td>664</td>\n",
       "      <td>1.7</td>\n",
       "      <td>1.7</td>\n",
       "      <td>1.5</td>\n",
       "      <td>0.5</td>\n",
       "      <td>19</td>\n",
       "      <td>8.4</td>\n",
       "      <td>6.2</td>\n",
       "      <td>0.00036</td>\n",
       "      <td>0.336</td>\n",
       "      <td>0</td>\n",
       "      <td>0</td>\n",
       "      <td>0</td>\n",
       "      <td>0</td>\n",
       "      <td>0</td>\n",
       "      <td>9.5</td>\n",
       "      <td>0.07776</td>\n",
       "    </tr>\n",
       "    <tr>\n",
       "      <th>20514</th>\n",
       "      <td>9855</td>\n",
       "      <td>European Journal on Criminal Policy and Research</td>\n",
       "      <td>EUR J CRIM POLICY RE</td>\n",
       "      <td>2023</td>\n",
       "      <td>NaN</td>\n",
       "      <td>0928-1371</td>\n",
       "      <td>773</td>\n",
       "      <td>1.7</td>\n",
       "      <td>1.6</td>\n",
       "      <td>1.9</td>\n",
       "      <td>0.5</td>\n",
       "      <td>35</td>\n",
       "      <td>6.8</td>\n",
       "      <td>8.0</td>\n",
       "      <td>0.00092</td>\n",
       "      <td>0.630</td>\n",
       "      <td>0</td>\n",
       "      <td>0</td>\n",
       "      <td>0</td>\n",
       "      <td>0</td>\n",
       "      <td>0</td>\n",
       "      <td>44.2</td>\n",
       "      <td>0.19839</td>\n",
       "    </tr>\n",
       "    <tr>\n",
       "      <th>20515</th>\n",
       "      <td>9855</td>\n",
       "      <td>EXPERIMENTAL LUNG RESEARCH</td>\n",
       "      <td>EXP LUNG RES</td>\n",
       "      <td>2023</td>\n",
       "      <td>NaN</td>\n",
       "      <td>0190-2148</td>\n",
       "      <td>1340</td>\n",
       "      <td>1.7</td>\n",
       "      <td>1.7</td>\n",
       "      <td>2.0</td>\n",
       "      <td>0.3</td>\n",
       "      <td>24</td>\n",
       "      <td>9.5</td>\n",
       "      <td>6.0</td>\n",
       "      <td>0.00067</td>\n",
       "      <td>0.379</td>\n",
       "      <td>0</td>\n",
       "      <td>0</td>\n",
       "      <td>0</td>\n",
       "      <td>0</td>\n",
       "      <td>0</td>\n",
       "      <td>8.5</td>\n",
       "      <td>0.14451</td>\n",
       "    </tr>\n",
       "    <tr>\n",
       "      <th>20516</th>\n",
       "      <td>9855</td>\n",
       "      <td>FEDERAL RESERVE BANK OF ST LOUIS REVIEW</td>\n",
       "      <td>FED RESERVE BANK ST</td>\n",
       "      <td>2023</td>\n",
       "      <td>NaN</td>\n",
       "      <td>0014-9187</td>\n",
       "      <td>576</td>\n",
       "      <td>1.7</td>\n",
       "      <td>1.6</td>\n",
       "      <td>1.4</td>\n",
       "      <td>0.4</td>\n",
       "      <td>18</td>\n",
       "      <td>13.5</td>\n",
       "      <td>6.7</td>\n",
       "      <td>0.00069</td>\n",
       "      <td>0.857</td>\n",
       "      <td>0</td>\n",
       "      <td>0</td>\n",
       "      <td>0</td>\n",
       "      <td>0</td>\n",
       "      <td>0</td>\n",
       "      <td>40.1</td>\n",
       "      <td>0.14960</td>\n",
       "    </tr>\n",
       "    <tr>\n",
       "      <th>20517</th>\n",
       "      <td>9855</td>\n",
       "      <td>Feminist Media Studies</td>\n",
       "      <td>FEM MEDIA STUD</td>\n",
       "      <td>2023</td>\n",
       "      <td>NaN</td>\n",
       "      <td>1468-0777</td>\n",
       "      <td>2273</td>\n",
       "      <td>1.7</td>\n",
       "      <td>1.4</td>\n",
       "      <td>2.3</td>\n",
       "      <td>0.3</td>\n",
       "      <td>175</td>\n",
       "      <td>4.9</td>\n",
       "      <td>8.2</td>\n",
       "      <td>0.00502</td>\n",
       "      <td>1.025</td>\n",
       "      <td>0</td>\n",
       "      <td>0</td>\n",
       "      <td>0</td>\n",
       "      <td>0</td>\n",
       "      <td>0</td>\n",
       "      <td>55.7</td>\n",
       "      <td>1.08187</td>\n",
       "    </tr>\n",
       "    <tr>\n",
       "      <th>20518</th>\n",
       "      <td>9855</td>\n",
       "      <td>FIBER AND INTEGRATED OPTICS</td>\n",
       "      <td>FIBER INTEGRATED OPT</td>\n",
       "      <td>2023</td>\n",
       "      <td>NaN</td>\n",
       "      <td>0146-8030</td>\n",
       "      <td>265</td>\n",
       "      <td>1.7</td>\n",
       "      <td>1.7</td>\n",
       "      <td>1.0</td>\n",
       "      <td>0.3</td>\n",
       "      <td>8</td>\n",
       "      <td>8.8</td>\n",
       "      <td>6.4</td>\n",
       "      <td>0.00013</td>\n",
       "      <td>0.161</td>\n",
       "      <td>0</td>\n",
       "      <td>0</td>\n",
       "      <td>0</td>\n",
       "      <td>0</td>\n",
       "      <td>0</td>\n",
       "      <td>27.5</td>\n",
       "      <td>0.02988</td>\n",
       "    </tr>\n",
       "    <tr>\n",
       "      <th>20519</th>\n",
       "      <td>9855</td>\n",
       "      <td>Field Methods</td>\n",
       "      <td>FIELD METHOD</td>\n",
       "      <td>2023</td>\n",
       "      <td>NaN</td>\n",
       "      <td>1525-822X</td>\n",
       "      <td>3624</td>\n",
       "      <td>1.7</td>\n",
       "      <td>1.6</td>\n",
       "      <td>3.9</td>\n",
       "      <td>0.3</td>\n",
       "      <td>41</td>\n",
       "      <td>16.3</td>\n",
       "      <td>9.4</td>\n",
       "      <td>0.00150</td>\n",
       "      <td>1.336</td>\n",
       "      <td>0</td>\n",
       "      <td>0</td>\n",
       "      <td>0</td>\n",
       "      <td>0</td>\n",
       "      <td>0</td>\n",
       "      <td>67.6</td>\n",
       "      <td>0.32450</td>\n",
       "    </tr>\n",
       "    <tr>\n",
       "      <th>20520</th>\n",
       "      <td>9855</td>\n",
       "      <td>FINANCE AND STOCHASTICS</td>\n",
       "      <td>FINANC STOCH</td>\n",
       "      <td>2023</td>\n",
       "      <td>NaN</td>\n",
       "      <td>0949-2984</td>\n",
       "      <td>1384</td>\n",
       "      <td>1.7</td>\n",
       "      <td>1.6</td>\n",
       "      <td>2.3</td>\n",
       "      <td>0.3</td>\n",
       "      <td>31</td>\n",
       "      <td>12.7</td>\n",
       "      <td>13.2</td>\n",
       "      <td>0.00202</td>\n",
       "      <td>1.563</td>\n",
       "      <td>0</td>\n",
       "      <td>0</td>\n",
       "      <td>0</td>\n",
       "      <td>0</td>\n",
       "      <td>0</td>\n",
       "      <td>59.6</td>\n",
       "      <td>0.43612</td>\n",
       "    </tr>\n",
       "  </tbody>\n",
       "</table>\n",
       "</div>"
      ],
      "text/plain": [
       "       rank                                       journalTitle  \\\n",
       "20512  9855  European Journal of Orthopaedic Surgery and Tr...   \n",
       "20513  9855  European Journal of Transport and Infrastructu...   \n",
       "20514  9855   European Journal on Criminal Policy and Research   \n",
       "20515  9855                         EXPERIMENTAL LUNG RESEARCH   \n",
       "20516  9855            FEDERAL RESERVE BANK OF ST LOUIS REVIEW   \n",
       "20517  9855                             Feminist Media Studies   \n",
       "20518  9855                        FIBER AND INTEGRATED OPTICS   \n",
       "20519  9855                                      Field Methods   \n",
       "20520  9855                            FINANCE AND STOCHASTICS   \n",
       "\n",
       "                abbrJournal  year  edition       issn  totalCites  \\\n",
       "20512  EUR J ORTHOP SURG TR  2023      NaN  1633-8065        3574   \n",
       "20513  EUR J TRANSP INFRAST  2023      NaN  1567-7133         664   \n",
       "20514  EUR J CRIM POLICY RE  2023      NaN  0928-1371         773   \n",
       "20515          EXP LUNG RES  2023      NaN  0190-2148        1340   \n",
       "20516   FED RESERVE BANK ST  2023      NaN  0014-9187         576   \n",
       "20517        FEM MEDIA STUD  2023      NaN  1468-0777        2273   \n",
       "20518  FIBER INTEGRATED OPT  2023      NaN  0146-8030         265   \n",
       "20519          FIELD METHOD  2023      NaN  1525-822X        3624   \n",
       "20520          FINANC STOCH  2023      NaN  0949-2984        1384   \n",
       "\n",
       "      journalImpactFactor impactFactorWithoutJournalSelfCites  \\\n",
       "20512                 1.7                                 1.6   \n",
       "20513                 1.7                                 1.7   \n",
       "20514                 1.7                                 1.6   \n",
       "20515                 1.7                                 1.7   \n",
       "20516                 1.7                                 1.6   \n",
       "20517                 1.7                                 1.4   \n",
       "20518                 1.7                                 1.7   \n",
       "20519                 1.7                                 1.6   \n",
       "20520                 1.7                                 1.6   \n",
       "\n",
       "      fiveYearImpactFactor immediacyIndex  citableItems  citedHalfLife  \\\n",
       "20512                  NaN            0.3           326            4.7   \n",
       "20513                  1.5            0.5            19            8.4   \n",
       "20514                  1.9            0.5            35            6.8   \n",
       "20515                  2.0            0.3            24            9.5   \n",
       "20516                  1.4            0.4            18           13.5   \n",
       "20517                  2.3            0.3           175            4.9   \n",
       "20518                  1.0            0.3             8            8.8   \n",
       "20519                  3.9            0.3            41           16.3   \n",
       "20520                  2.3            0.3            31           12.7   \n",
       "\n",
       "       citingHalfLife  eigenFactorScore  articleInfluenceScore  citesCurrent  \\\n",
       "20512             8.3           0.00518                    NaN             0   \n",
       "20513             6.2           0.00036                  0.336             0   \n",
       "20514             8.0           0.00092                  0.630             0   \n",
       "20515             6.0           0.00067                  0.379             0   \n",
       "20516             6.7           0.00069                  0.857             0   \n",
       "20517             8.2           0.00502                  1.025             0   \n",
       "20518             6.4           0.00013                  0.161             0   \n",
       "20519             9.4           0.00150                  1.336             0   \n",
       "20520            13.2           0.00202                  1.563             0   \n",
       "\n",
       "       articlesCurrent  selfCites  impactFactorSelfCites  originalResearch  \\\n",
       "20512                0          0                      0                 0   \n",
       "20513                0          0                      0                 0   \n",
       "20514                0          0                      0                 0   \n",
       "20515                0          0                      0                 0   \n",
       "20516                0          0                      0                 0   \n",
       "20517                0          0                      0                 0   \n",
       "20518                0          0                      0                 0   \n",
       "20519                0          0                      0                 0   \n",
       "20520                0          0                      0                 0   \n",
       "\n",
       "       jifPercentile  normEigenFactor  \n",
       "20512            NaN          1.11597  \n",
       "20513            9.5          0.07776  \n",
       "20514           44.2          0.19839  \n",
       "20515            8.5          0.14451  \n",
       "20516           40.1          0.14960  \n",
       "20517           55.7          1.08187  \n",
       "20518           27.5          0.02988  \n",
       "20519           67.6          0.32450  \n",
       "20520           59.6          0.43612  "
      ]
     },
     "execution_count": 8,
     "metadata": {},
     "output_type": "execute_result"
    }
   ],
   "source": [
    "jcr[-10:-1]"
   ]
  },
  {
   "cell_type": "code",
   "execution_count": 9,
   "id": "30777fe3-fc7c-4968-be03-42d86a9138f4",
   "metadata": {},
   "outputs": [],
   "source": [
    "jt2if_all={}\n",
    "for i in range(len(jcr)):\n",
    "    if jcr.iloc[i,7]=='<0.1':\n",
    "        jcr.iloc[i,7]='0.0'\n",
    "    if math.isnan(float(jcr.iloc[i,7])):\n",
    "        jt2if_all[jcr.iloc[i,1].lower()]=0.0\n",
    "    else:\n",
    "        jt2if_all[jcr.iloc[i,1].lower()]=float(jcr.iloc[i,7])\n",
    "jt2if_all['aging']=jt2if_all.get('aging-us')"
   ]
  },
  {
   "cell_type": "code",
   "execution_count": 10,
   "id": "90c8f2c1-2571-409f-ad7d-9b9ca93834a7",
   "metadata": {},
   "outputs": [],
   "source": [
    "jt2if_brief={}\n",
    "for i in range(len(jcr)):\n",
    "    if jcr.iloc[i,7]=='<0.1':\n",
    "        jcr.iloc[i,7]='0.0'\n",
    "    if math.isnan(float(jcr.iloc[i,7])):\n",
    "        jt2if_brief[jcr.iloc[i,1].lower()]=0.0\n",
    "    else:\n",
    "        jt2if_brief[jcr.iloc[i,2].lower()]=float(jcr.iloc[i,7])\n",
    "jt2if_brief['aging']=jt2if_brief.get('aging-us')"
   ]
  },
  {
   "cell_type": "code",
   "execution_count": 11,
   "id": "2117e1bf-8b60-41b8-9709-98d325eee7bc",
   "metadata": {},
   "outputs": [],
   "source": [
    "jt2if5_all={}\n",
    "for i in range(len(jcr)):\n",
    "    if jcr.iloc[i,9]=='<0.1':\n",
    "        jcr.iloc[i,9]='0.0'\n",
    "    if math.isnan(float(jcr.iloc[i,9])):\n",
    "        jt2if5_all[jcr.iloc[i,1].lower()]=0.0\n",
    "    else:\n",
    "        jt2if5_all[jcr.iloc[i,1].lower()]=float(jcr.iloc[i,9])\n",
    "jt2if5_all['aging']=jt2if5_all.get('aging-us')"
   ]
  },
  {
   "cell_type": "code",
   "execution_count": 12,
   "id": "0c83d702-6433-4a26-ad1c-cc2ec0b55b17",
   "metadata": {},
   "outputs": [],
   "source": [
    "jt2if5_brief={}\n",
    "for i in range(len(jcr)):\n",
    "    if jcr.iloc[i,9]=='<0.1':\n",
    "        jcr.iloc[i,9]='0.0'\n",
    "    if math.isnan(float(jcr.iloc[i,9])):\n",
    "        jt2if5_brief[jcr.iloc[i,1].lower()]=0.0\n",
    "    else:\n",
    "        jt2if5_brief[jcr.iloc[i,2].lower()]=float(jcr.iloc[i,9])\n",
    "jt2if5_brief['aging']=jt2if5_brief.get('aging-us')"
   ]
  },
  {
   "cell_type": "code",
   "execution_count": 15,
   "id": "6bf9caa9-6918-4acf-9c59-c02d519bf8c5",
   "metadata": {},
   "outputs": [
    {
     "data": {
      "text/plain": [
       "[('ca-cancer j clin', '307.2'), ('lancet', '118.1')]"
      ]
     },
     "execution_count": 15,
     "metadata": {},
     "output_type": "execute_result"
    }
   ],
   "source": [
    "list(jt2if5_brief.items())[:2]"
   ]
  },
  {
   "cell_type": "code",
   "execution_count": 16,
   "id": "07047826-1f1c-4c7b-b9e2-0d1f6aa9a72d",
   "metadata": {},
   "outputs": [],
   "source": [
    "client = MongoClient(username=\"hald\",password=\"mclab236\")"
   ]
  },
  {
   "cell_type": "code",
   "execution_count": 17,
   "id": "48e349dd-fc13-43fa-bb87-77e437e8df7e",
   "metadata": {},
   "outputs": [],
   "source": [
    "db = client.hald"
   ]
  },
  {
   "cell_type": "code",
   "execution_count": 18,
   "id": "f262b9c5-a35e-42f7-bdae-8438c8d5a482",
   "metadata": {},
   "outputs": [],
   "source": [
    "collections_pubtator_info = db.pubtator_info"
   ]
  },
  {
   "cell_type": "code",
   "execution_count": 19,
   "id": "d189a7bb-e8fa-4c3b-ba95-f38c25e8ac5e",
   "metadata": {},
   "outputs": [],
   "source": [
    "pubtator_info=list(collections_pubtator_info.find())"
   ]
  },
  {
   "cell_type": "code",
   "execution_count": 20,
   "id": "e7ee9191-8d91-4e82-8700-d36398ad4e42",
   "metadata": {},
   "outputs": [
    {
     "data": {
      "text/plain": [
       "208697"
      ]
     },
     "execution_count": 20,
     "metadata": {},
     "output_type": "execute_result"
    }
   ],
   "source": [
    "len(pubtator_info)"
   ]
  },
  {
   "cell_type": "code",
   "execution_count": 21,
   "id": "1d3b6831-dbb4-415f-9437-335613c7570b",
   "metadata": {},
   "outputs": [
    {
     "data": {
      "text/plain": [
       "{'_id': ObjectId('6393478a5303aaecac2745e7'),\n",
       " 'PMID': '35794516',\n",
       " 'OWN': 'NLM',\n",
       " 'STAT': 'MEDLINE',\n",
       " 'DCOM': '20220708',\n",
       " 'LR': '20220708',\n",
       " 'IS': '1471-227X (Electronic) 1471-227X (Linking)',\n",
       " 'VI': '22',\n",
       " 'IP': '1',\n",
       " 'DP': '2022 Jul 6',\n",
       " 'TI': 'Long-term prognosis and clinical course of choking-induced cardiac arrest in patients without the return of spontaneous circulation at hospital arrival: a population-based community study from the Shizuoka Kokuho Database.',\n",
       " 'PG': '120',\n",
       " 'LID': '10.1186/s12873-022-00676-8 [doi]',\n",
       " 'AB': 'BACKGROUND: The risk of choking increases with aging, and the number of cases of choking-induced cardiac arrest is increasing. However, few studies have examined the prognosis of choking-induced cardiac arrest. The aim of this study was to reveal the rates of survival and dependence on devices in the long term after choking-induced cardiac arrest. METHODS: We analyzed data from the Shizuoka Kokuho Database, which consists of claims data of approximately 2.2 million people, from April 2012 to September 2018. We selected patients with choking-induced cardiac arrest who received cardiopulmonary resuscitation in the hospital. Patients were excluded if they were less than 20 years old, had an upper airway tumor, received ventilation assistance, or received enteral nutrition in the month prior to cardiac arrest. The primary outcome was death, and the secondary outcomes were the rates of survival at 3-months and independence on devices. Descriptive statistics are presented and compared among age groups (20-64 years, 65-74 years, 75-84 years, 85 years and older), and survival time analysis (Kaplan-Meier method) was performed. RESULTS: In total, 268 patients were analyzed, including 26 patients in the 20-64 age group, 33 patients in the 65-74 age group, 70 patients in the 75-84 age group, and 139 patients in the >=85 age group. The overall 3-month survival rate was 5.6% (15/268). The 3-month survival rates were 3.8% (1/26) in the 20-64 age group, 15.2% (5/33) in the 65-74 age group, 8.6% (6/70) in the 75-84 age group, and 2.2% (3/139) in the >=85 age group. The overall 12-month survival rate was 2.6% (7/268). Of the 7 patients who survived for 12 months, 3 received ventilation management and 5 received tube or intravenous feedings at 3 months. These survivors were still receiving ventilation assistance and tube feedings in the hospital and had not been discharged at 12 months. CONCLUSIONS: The prognosis of choking-induced cardiac arrest was extremely poor when patients were not resuscitated before hospital arrival. Those who survived were mostly dependent on assistive devices. Additionally, none of the survivors dependent on assistive devices had discontinued the use of the devices at the long-term follow-up.',\n",
       " 'CI': ['(c) 2022. The Author(s).'],\n",
       " 'FAU': ['Miyoshi, Takahiro',\n",
       "  'Endo, Hideki',\n",
       "  'Yamamoto, Hiroyuki',\n",
       "  'Shimada, Koki',\n",
       "  'Kumamaru, Hiraku',\n",
       "  'Ichihara, Nao',\n",
       "  'Miyachi, Yoshiki',\n",
       "  'Miyata, Hiroaki'],\n",
       " 'AU': ['Miyoshi T',\n",
       "  'Endo H',\n",
       "  'Yamamoto H',\n",
       "  'Shimada K',\n",
       "  'Kumamaru H',\n",
       "  'Ichihara N',\n",
       "  'Miyachi Y',\n",
       "  'Miyata H'],\n",
       " 'AD': ['Shizuoka Graduate University of Public Health, 4-27-2 Kita Ando Aoi-ku, Shizuoka City, 420-0881, Japan.',\n",
       "  'Department of Health Policy and Management, School of Medicine, Keio University, Tokyo, Japan.',\n",
       "  'Department of Health Policy and Management, School of Medicine, Keio University, Tokyo, Japan.',\n",
       "  'Shizuoka Graduate University of Public Health, 4-27-2 Kita Ando Aoi-ku, Shizuoka City, 420-0881, Japan. yama-h@umin.ac.jp.',\n",
       "  'Department of Health Policy and Management, School of Medicine, Keio University, Tokyo, Japan. yama-h@umin.ac.jp.',\n",
       "  'Department of Health Policy and Management, School of Medicine, Keio University, Tokyo, Japan.',\n",
       "  'Shizuoka Graduate University of Public Health, 4-27-2 Kita Ando Aoi-ku, Shizuoka City, 420-0881, Japan.',\n",
       "  'Department of Healthcare Quality Assessment, The University of Tokyo Graduate School of Medicine, Tokyo, Japan.',\n",
       "  'Shizuoka Graduate University of Public Health, 4-27-2 Kita Ando Aoi-ku, Shizuoka City, 420-0881, Japan.',\n",
       "  'Department of Healthcare Quality Assessment, The University of Tokyo Graduate School of Medicine, Tokyo, Japan.',\n",
       "  'Shizuoka Graduate University of Public Health, 4-27-2 Kita Ando Aoi-ku, Shizuoka City, 420-0881, Japan.',\n",
       "  'Shizuoka Graduate University of Public Health, 4-27-2 Kita Ando Aoi-ku, Shizuoka City, 420-0881, Japan.',\n",
       "  'Department of Health Policy and Management, School of Medicine, Keio University, Tokyo, Japan.',\n",
       "  'Department of Healthcare Quality Assessment, The University of Tokyo Graduate School of Medicine, Tokyo, Japan.'],\n",
       " 'LA': ['eng'],\n",
       " 'PT': ['Journal Article'],\n",
       " 'DEP': '20220706',\n",
       " 'PL': 'England',\n",
       " 'TA': 'BMC Emerg Med',\n",
       " 'JT': 'BMC emergency medicine',\n",
       " 'JID': '100968543',\n",
       " 'SB': 'IM',\n",
       " 'MH': ['Adult',\n",
       "  '*Airway Obstruction/epidemiology/etiology',\n",
       "  'Heart Arrest, Induced',\n",
       "  'Hospitals',\n",
       "  'Humans',\n",
       "  'Middle Aged',\n",
       "  'Prognosis',\n",
       "  '*Return of Spontaneous Circulation',\n",
       "  'Young Adult'],\n",
       " 'OTO': ['NOTNLM'],\n",
       " 'OT': ['Cardiac arrest',\n",
       "  'Choking',\n",
       "  'Clinical course',\n",
       "  'Long-term prognosis',\n",
       "  'Resuscitation'],\n",
       " 'EDAT': '2022/07/07 06:00',\n",
       " 'MHDA': '2022/07/09 06:00',\n",
       " 'CRDT': ['2022/07/06 23:41'],\n",
       " 'PHST': ['2022/02/28 00:00 [received]',\n",
       "  '2022/06/16 00:00 [accepted]',\n",
       "  '2022/07/06 23:41 [entrez]',\n",
       "  '2022/07/07 06:00 [pubmed]',\n",
       "  '2022/07/09 06:00 [medline]'],\n",
       " 'AID': ['10.1186/s12873-022-00676-8 [doi]',\n",
       "  '10.1186/s12873-022-00676-8 [pii]'],\n",
       " 'PST': 'epublish',\n",
       " 'SO': 'BMC Emerg Med. 2022 Jul 6;22(1):120. doi: 10.1186/s12873-022-00676-8.',\n",
       " 'addtime': '20220724'}"
      ]
     },
     "execution_count": 21,
     "metadata": {},
     "output_type": "execute_result"
    }
   ],
   "source": [
    "pubtator_info[10]"
   ]
  },
  {
   "cell_type": "code",
   "execution_count": 22,
   "id": "593a74a6-7273-4f6d-9981-c51aeb3aec95",
   "metadata": {},
   "outputs": [],
   "source": [
    "pubtator_info_dict={}\n",
    "for i in pubtator_info:\n",
    "    pubtator_info_dict[i.get('PMID')]=i"
   ]
  },
  {
   "cell_type": "code",
   "execution_count": 23,
   "id": "77d99d3f-f7b5-4972-ac2a-5325ffce7b82",
   "metadata": {},
   "outputs": [],
   "source": [
    "collections_Relations_final=db.Relations_final"
   ]
  },
  {
   "cell_type": "code",
   "execution_count": 24,
   "id": "b3ee848d-c26c-4342-b3e0-75313b51dad6",
   "metadata": {},
   "outputs": [],
   "source": [
    "triplelist=list(collections_Relations_final.find())"
   ]
  },
  {
   "cell_type": "code",
   "execution_count": 25,
   "id": "16334f71-5147-498b-aac1-ef4c4666780f",
   "metadata": {},
   "outputs": [
    {
     "data": {
      "text/plain": [
       "{'_id': ObjectId('64611763a2e9cde11765b7be'),\n",
       " 'PMID': '30781849',\n",
       " 'entity1': 'Pulmonary Disease, Chronic Obstructive',\n",
       " 'entity2': 'Inflammation',\n",
       " 'sentence': '(1) Background: Chronic obstructive pulmonary disease (COPD) is defined as an inflammatory disorder that presents an increasingly prevalent health problem.',\n",
       " 'AB': '(1) Background: Chronic obstructive pulmonary disease (COPD) is defined as an inflammatory disorder that presents an increasingly prevalent health problem. Accelerated aging has been examined as a pathologic mechanism of many chronic diseases like COPD. We examined whether COPD is combined with accelerated aging, studying two hormones, dehydroepiandrosterone (DHEA) and growth hormone (GH), known to be characteristic biological markers of aging. (2) Methods: Data were collected from 119 participants, 70 (58.8%) COPD patients and 49 (41.2%) from a health control group over the period of 2014-2016 in a spirometry program. Information about their medical history, tobacco use, and blood tests was obtained. (3) Results: The average age of the health control patients was 73.5 years (SD = 5.5), and that of the COPD patients was 75.4 years (SD = 6.9). Both groups were similar in age and sex. A greater proportion of smokers were found in the COPD group (87.1%) versus the control group (36.7%). The majority of COPD patients were classified as STAGE II (51.4%) and STAGE III (37.1%) according to GOLD (Global Initiative for Chronic Obstructive Pulmonary Disease). Levels of DHEA (SD = 17.1) and GH (SD = 0.37) were significantly lower in the COPD group (p < 0.001) compared to those in the controls (SD = 26.3, SD = 0.79). DHEA and GH were more significant and negatively correlated with age. The regression equation of DHEA with age produced a coefficient equal to 1.26. In this study, the difference in DHEA between COPD patients and controls was, on average, 30.2 mug/dL, indicating that the biological age of a COPD patient is on average about 24 years older than that of a control subject of the same age. Similarly, the difference in GH between COPD patients and controls was, on average, 0.42 ng/mL, indicating that the biological age of a COPD patient is on average about 13.1 years older than that of a control subject of the same age. (4) Conclusions: The findings of our study strongly suggest the presence of premature biological aging in COPD patients. Their biological age could actually vary from 13 to 23 years older than non-COPD controls according to DHEA and GH variation.',\n",
       " 'target1': 'Chronic obstructive pulmonary disease',\n",
       " 'target1_type': 'Disease',\n",
       " 'target2': 'inflammatory disorder',\n",
       " 'target2_type': 'Disease',\n",
       " 'openie_final': [['Chronic obstructive pulmonary disease',\n",
       "   'defined',\n",
       "   'inflammatory disorder']],\n",
       " 'bidirection': False,\n",
       " 'addtime': '2023_05_14',\n",
       " 'sentence_transformed': 'Chronic obstructive pulmonary disease (COPD) is defined as an inflammatory disorder that presents an increasingly prevalent health problem.',\n",
       " 'openie': [['Chronic obstructive pulmonary disease',\n",
       "   'defined',\n",
       "   'inflammatory disorder']],\n",
       " 'allennlp': [['Chronic obstructive pulmonary disease',\n",
       "   'defined',\n",
       "   'inflammatory disorder']],\n",
       " 'networkx': ['Chronic obstructive pulmonary disease',\n",
       "  'defined',\n",
       "  'inflammatory disorder'],\n",
       " 'allennlp_final': [['Chronic obstructive pulmonary disease',\n",
       "   'defined',\n",
       "   'inflammatory disorder']]}"
      ]
     },
     "execution_count": 25,
     "metadata": {},
     "output_type": "execute_result"
    }
   ],
   "source": [
    "triplelist[0]"
   ]
  },
  {
   "cell_type": "code",
   "execution_count": 26,
   "id": "c45711d7-0cb1-47af-80d4-55fd702c44c1",
   "metadata": {},
   "outputs": [
    {
     "data": {
      "text/plain": [
       "150664"
      ]
     },
     "execution_count": 26,
     "metadata": {},
     "output_type": "execute_result"
    }
   ],
   "source": [
    "len(triplelist)"
   ]
  },
  {
   "cell_type": "code",
   "execution_count": 27,
   "id": "b36109f0-8fdb-4167-897b-936364d1ac9d",
   "metadata": {},
   "outputs": [
    {
     "data": {
      "text/plain": [
       "{'_id': ObjectId('64611763a2e9cde11765b7be'),\n",
       " 'PMID': '30781849',\n",
       " 'entity1': 'Pulmonary Disease, Chronic Obstructive',\n",
       " 'entity2': 'Inflammation',\n",
       " 'sentence': '(1) Background: Chronic obstructive pulmonary disease (COPD) is defined as an inflammatory disorder that presents an increasingly prevalent health problem.',\n",
       " 'AB': '(1) Background: Chronic obstructive pulmonary disease (COPD) is defined as an inflammatory disorder that presents an increasingly prevalent health problem. Accelerated aging has been examined as a pathologic mechanism of many chronic diseases like COPD. We examined whether COPD is combined with accelerated aging, studying two hormones, dehydroepiandrosterone (DHEA) and growth hormone (GH), known to be characteristic biological markers of aging. (2) Methods: Data were collected from 119 participants, 70 (58.8%) COPD patients and 49 (41.2%) from a health control group over the period of 2014-2016 in a spirometry program. Information about their medical history, tobacco use, and blood tests was obtained. (3) Results: The average age of the health control patients was 73.5 years (SD = 5.5), and that of the COPD patients was 75.4 years (SD = 6.9). Both groups were similar in age and sex. A greater proportion of smokers were found in the COPD group (87.1%) versus the control group (36.7%). The majority of COPD patients were classified as STAGE II (51.4%) and STAGE III (37.1%) according to GOLD (Global Initiative for Chronic Obstructive Pulmonary Disease). Levels of DHEA (SD = 17.1) and GH (SD = 0.37) were significantly lower in the COPD group (p < 0.001) compared to those in the controls (SD = 26.3, SD = 0.79). DHEA and GH were more significant and negatively correlated with age. The regression equation of DHEA with age produced a coefficient equal to 1.26. In this study, the difference in DHEA between COPD patients and controls was, on average, 30.2 mug/dL, indicating that the biological age of a COPD patient is on average about 24 years older than that of a control subject of the same age. Similarly, the difference in GH between COPD patients and controls was, on average, 0.42 ng/mL, indicating that the biological age of a COPD patient is on average about 13.1 years older than that of a control subject of the same age. (4) Conclusions: The findings of our study strongly suggest the presence of premature biological aging in COPD patients. Their biological age could actually vary from 13 to 23 years older than non-COPD controls according to DHEA and GH variation.',\n",
       " 'target1': 'Chronic obstructive pulmonary disease',\n",
       " 'target1_type': 'Disease',\n",
       " 'target2': 'inflammatory disorder',\n",
       " 'target2_type': 'Disease',\n",
       " 'openie_final': [['Chronic obstructive pulmonary disease',\n",
       "   'defined',\n",
       "   'inflammatory disorder']],\n",
       " 'bidirection': False,\n",
       " 'addtime': '2023_05_14',\n",
       " 'sentence_transformed': 'Chronic obstructive pulmonary disease (COPD) is defined as an inflammatory disorder that presents an increasingly prevalent health problem.',\n",
       " 'openie': [['Chronic obstructive pulmonary disease',\n",
       "   'defined',\n",
       "   'inflammatory disorder']],\n",
       " 'allennlp': [['Chronic obstructive pulmonary disease',\n",
       "   'defined',\n",
       "   'inflammatory disorder']],\n",
       " 'networkx': ['Chronic obstructive pulmonary disease',\n",
       "  'defined',\n",
       "  'inflammatory disorder'],\n",
       " 'allennlp_final': [['Chronic obstructive pulmonary disease',\n",
       "   'defined',\n",
       "   'inflammatory disorder']]}"
      ]
     },
     "execution_count": 27,
     "metadata": {},
     "output_type": "execute_result"
    }
   ],
   "source": [
    "triplelist[0]"
   ]
  },
  {
   "cell_type": "code",
   "execution_count": 28,
   "id": "f1f96ab7-9f8a-450e-a223-30435566131b",
   "metadata": {},
   "outputs": [],
   "source": [
    "be=['am','is','are','was','were','been','have been','has been']\n",
    "bedict={}\n",
    "for i in be:\n",
    "    bedict[i]='be'"
   ]
  },
  {
   "cell_type": "markdown",
   "id": "807bee19-edbd-47b0-bd59-1a24c18dc2ff",
   "metadata": {
    "tags": []
   },
   "source": [
    "triplelist_takeoff=[]\n",
    "transformed_triples=set()\n",
    "box=[]\n",
    "box2=[]\n",
    "acount=0\n",
    "for i in triplelist:\n",
    "    maxlength=[]\n",
    "    allennlp_list=[]\n",
    "    if i.get('openie_final'):\n",
    "        maxlength=i.get('openie_final')[0]\n",
    "        for j in i.get('openie_final'):\n",
    "            if len(j[1])>len(maxlength[1]):\n",
    "                maxlength=j\n",
    "        mid_list=maxlength[1].split(' ')\n",
    "        for p,q in enumerate(mid_list):\n",
    "            if bedict.get(q):\n",
    "                mid_list[p]='be'\n",
    "        maxlength[1]=' '.join(mid_list)\n",
    "        for k in maxlength[1]:\n",
    "            if k in maxlength[0].split(' ') or k in maxlength[2].split(' '):\n",
    "                break\n",
    "        else:\n",
    "            mid=tuple([maxlength[0],maxlength[1].lower(),maxlength[2],i.get('PMID')])\n",
    "            if mid not in transformed_triples:\n",
    "                copydict={'triple':maxlength,'PMID':i.get('PMID'),'sentence':i.get('sentence'),\n",
    "                          'AB':i.get('AB'),'entity_one':i.get('target1'),'entity_one_type':i.get('target1_type'),\n",
    "                          'entity_two':i.get('target2'),'entity_two_type':i.get('target2_type'),\n",
    "                          'entity_one_transformed':i.get('entity1'),'entity_two_transformed':i.get('entity2'),\n",
    "                            'transformed_triple':mid}\n",
    "                triplelist_takeoff.append(copydict)\n",
    "                transformed_triples.add(mid)\n",
    "            if maxlength[1]=='associated' or maxlength[1]=='associate' :\n",
    "                mid=tuple([maxlength[2],maxlength[1].lower(),maxlength[0],i.get('PMID')])\n",
    "                if mid not in transformed_triples:\n",
    "                    copydict={'triple':maxlength,'PMID':i.get('PMID'),'sentence':i.get('sentence'),\n",
    "                              'AB':i.get('AB'),'entity_one':i.get('target2'),'entity_one_type':i.get('target2_type'),\n",
    "                              'entity_two':i.get('target1'),'entity_two_type':i.get('target1_type'),\n",
    "                              'entity_one_transformed':i.get('entity2'),'entity_two_transformed':i.get('entity1'),\n",
    "                                'transformed_triple':mid}\n",
    "                    triplelist_takeoff.append(copydict)\n",
    "                    transformed_triples.add(mid)\n",
    "        for j in i.get('openie_final'):\n",
    "            if j==maxlength:\n",
    "                continue\n",
    "            judge=True\n",
    "            for k in j[1].split(' '):\n",
    "                if k not in maxlength[1].split(' '):\n",
    "                    judge=False\n",
    "                    break\n",
    "            if not judge:\n",
    "                mid_list=j[1].split(' ')\n",
    "                for p,q in enumerate(mid_list):\n",
    "                    if bedict.get(q):\n",
    "                        mid_list[p]='be'\n",
    "                j[1]=' '.join(mid_list)\n",
    "                mid=tuple([j[0],j[1].lower(),j[2],i.get('PMID')])\n",
    "                for k in j[1]:\n",
    "                    if k in j[0].split(\" \") or k in j[1].split(\" \"):\n",
    "                        break\n",
    "                else:\n",
    "                    if mid not in transformed_triples:\n",
    "                        copydict={'triple':j,'PMID':i.get('PMID'),'sentence':i.get('sentence'),\n",
    "                                  'AB':i.get('AB'),'entity_one':i.get('target1'),'entity_one_type':i.get('target1_type'),\n",
    "                                  'entity_two':i.get('target2'),'entity_two_type':i.get('target2_type'),\n",
    "                                  'entity_one_transformed':i.get('entity1'),'entity_two_transformed':i.get('entity2'),\n",
    "                                    'transformed_triple':mid}\n",
    "                        triplelist_takeoff.append(copydict)\n",
    "                        transformed_triples.add(mid)\n",
    "                    if j[1]=='associated' or j[1]=='associate' :\n",
    "                        mid=tuple([j[2],j[1].lower(),j[0],i.get('PMID')])\n",
    "                        if mid not in transformed_triples:\n",
    "                            copydict={'triple':j,'PMID':i.get('PMID'),'sentence':i.get('sentence'),\n",
    "                                      'AB':i.get('AB'),'entity_one':i.get('target2'),'entity_one_type':i.get('target2_type'),\n",
    "                                      'entity_two':i.get('target1'),'entity_two_type':i.get('target1_type'),\n",
    "                                      'entity_one_transformed':i.get('entity2'),'entity_two_transformed':i.get('entity1'),\n",
    "                                        'transformed_triple':mid}\n",
    "                            triplelist_takeoff.append(copydict)\n",
    "                            transformed_triples.add(mid)\n",
    "    if i.get('allennlp_final'):\n",
    "        for j in i.get('allennlp_final'):\n",
    "            if len(maxlength)>0 and j[1] in maxlength[1].split(' '):\n",
    "                pass\n",
    "            else:\n",
    "                mid=tuple([j[0],j[1].lower(),j[2],i.get('PMID')])\n",
    "                if j[1] in j[0].split(' ') or j[1] in j[2].split(' '):\n",
    "                    continue\n",
    "                if mid not in transformed_triples:\n",
    "                    allennlp_list.append((j[0],j[2]))\n",
    "                    copydict={'triple':j,'PMID':i.get('PMID'),'sentence':i.get('sentence'),\n",
    "                              'AB':i.get('AB'),'entity_one':i.get('target1'),'entity_one_type':i.get('target1_type'),\n",
    "                              'entity_two':i.get('target2'),'entity_two_type':i.get('target2_type'),\n",
    "                              'entity_one_transformed':i.get('entity1'),'entity_two_transformed':i.get('entity2'),\n",
    "                                'transformed_triple':mid}\n",
    "                    triplelist_takeoff.append(copydict)\n",
    "                    transformed_triples.add(mid)\n",
    "                else:\n",
    "                    box2.append(i)\n",
    "                if j[1]=='associated' or j[1]=='associate' :\n",
    "                    mid=tuple([j[2],j[1].lower(),j[0],i.get('PMID')])\n",
    "                    if mid not in transformed_triples:\n",
    "                        allennlp_list.append([j[2],j[0]])\n",
    "                        copydict={'triple':j,'PMID':i.get('PMID'),'sentence':i.get('sentence'),\n",
    "                                  'AB':i.get('AB'),'entity_one':i.get('target2'),'entity_one_type':i.get('target2_type'),\n",
    "                                  'entity_two':i.get('target1'),'entity_two_type':i.get('target1_type'),\n",
    "                                  'entity_one_transformed':i.get('entity2'),'entity_two_transformed':i.get('entity1'),\n",
    "                                    'transformed_triple':mid}\n",
    "                        triplelist_takeoff.append(copydict)\n",
    "                        transformed_triples.add(mid)\n",
    "                    else:\n",
    "                        box2.append(i)\n",
    "    if i.get('networkx'):\n",
    "        if len(maxlength)>0 and i.get('networkx')[1] in maxlength[1].split(' '):\n",
    "            box.append(i)\n",
    "            pass\n",
    "        else:\n",
    "            if i.get('networkx')[1] in i.get('networkx')[0].split(' ') or i.get('networkx')[1] in i.get('networkx')[2].split(' '):\n",
    "                acount+=1\n",
    "                continue\n",
    "            mid=tuple([i.get('networkx')[0],i.get('networkx')[1].lower(),i.get('networkx')[2],i.get('PMID')])\n",
    "            if mid not in transformed_triples:\n",
    "                copydict={'triple':i.get('networkx'),'PMID':i.get('PMID'),'sentence':i.get('sentence'),\n",
    "                          'AB':i.get('AB'),'entity_one':i.get('target1'),'entity_one_type':i.get('target1_type'),\n",
    "                          'entity_two':i.get('target2'),'entity_two_type':i.get('target2_type'),\n",
    "                          'entity_one_transformed':i.get('entity1'),'entity_two_transformed':i.get('entity2'),\n",
    "                            'transformed_triple':mid}\n",
    "                triplelist_takeoff.append(copydict)\n",
    "                transformed_triples.add(mid)\n",
    "            if i.get('networkx')[1]=='associated' or i.get('networkx')[1]=='associate' :\n",
    "                mid=tuple([i.get('networkx')[2],i.get('networkx')[1].lower(),i.get('networkx')[0],i.get('PMID')])\n",
    "                if mid not in transformed_triples:\n",
    "                    copydict={'triple':i.get('networkx'),'PMID':i.get('PMID'),'sentence':i.get('sentence'),\n",
    "                              'AB':i.get('AB'),'entity_one':i.get('target2'),'entity_one_type':i.get('target2_type'),\n",
    "                              'entity_two':i.get('target1'),'entity_two_type':i.get('target1_type'),\n",
    "                              'entity_one_transformed':i.get('entity2'),'entity_two_transformed':i.get('entity1'),\n",
    "                                'transformed_triple':mid}\n",
    "                    triplelist_takeoff.append(copydict)\n",
    "                    transformed_triples.add(mid)"
   ]
  },
  {
   "cell_type": "code",
   "execution_count": 29,
   "id": "c96e6a74-e285-4abb-9835-6cf00d352530",
   "metadata": {},
   "outputs": [],
   "source": [
    "triplelist_takeoffed=[]\n",
    "transformed_triples=set()\n",
    "box=[]\n",
    "box2=[]\n",
    "acount=0\n",
    "for i in triplelist:\n",
    "    maxlength=[]\n",
    "    allennlp_list=[]\n",
    "    if i.get('openie_final'):\n",
    "        maxlength=i.get('openie_final')[0]\n",
    "        for j in i.get('openie_final'):\n",
    "            if len(j[1])>len(maxlength[1]):\n",
    "                maxlength=j\n",
    "        mid_list=maxlength[1].split(' ')\n",
    "        for p,q in enumerate(mid_list):\n",
    "            if bedict.get(q):\n",
    "                mid_list[p]='be'\n",
    "        maxlength[1]=' '.join(mid_list)\n",
    "        for k in maxlength[1]:\n",
    "            if k in maxlength[0].split(' ') or k in maxlength[2].split(' '):\n",
    "                break\n",
    "        else:\n",
    "            mid=tuple([maxlength[0],maxlength[1].lower(),maxlength[2],i.get('PMID')])\n",
    "            if mid not in transformed_triples:\n",
    "                copydict={'triple':maxlength,'PMID':i.get('PMID'),'sentence':i.get('sentence'),\n",
    "                          'AB':i.get('AB'),'entity_one':i.get('target1'),'entity_one_type':i.get('target1_type'),\n",
    "                          'entity_two':i.get('target2'),'entity_two_type':i.get('target2_type'),\n",
    "                          'entity_one_transformed':i.get('entity1'),'entity_two_transformed':i.get('entity2'),\n",
    "                            'transformed_triple':mid,'method':[\"open domain\"]}\n",
    "                triplelist_takeoffed.append(copydict)\n",
    "                transformed_triples.add(mid)\n",
    "            if maxlength[1]=='associated' or maxlength[1]=='associate' :\n",
    "                mid=tuple([maxlength[2],maxlength[1].lower(),maxlength[0],i.get('PMID')])\n",
    "                if mid not in transformed_triples:\n",
    "                    copydict={'triple':maxlength,'PMID':i.get('PMID'),'sentence':i.get('sentence'),\n",
    "                              'AB':i.get('AB'),'entity_one':i.get('target2'),'entity_one_type':i.get('target2_type'),\n",
    "                              'entity_two':i.get('target1'),'entity_two_type':i.get('target1_type'),\n",
    "                              'entity_one_transformed':i.get('entity2'),'entity_two_transformed':i.get('entity1'),\n",
    "                                'transformed_triple':mid,'method':[\"open domain\"]}\n",
    "                    triplelist_takeoffed.append(copydict)\n",
    "                    transformed_triples.add(mid)\n",
    "        for j in i.get('openie_final'):\n",
    "            if j==maxlength:\n",
    "                continue\n",
    "            judge=True\n",
    "            for k in j[1].split(' '):\n",
    "                if k not in maxlength[1].split(' '):\n",
    "                    judge=False\n",
    "                    break\n",
    "            if not judge:\n",
    "                mid_list=j[1].split(' ')\n",
    "                for p,q in enumerate(mid_list):\n",
    "                    if bedict.get(q):\n",
    "                        mid_list[p]='be'\n",
    "                j[1]=' '.join(mid_list)\n",
    "                mid=tuple([j[0],j[1].lower(),j[2],i.get('PMID')])\n",
    "                for k in j[1]:\n",
    "                    if k in j[0].split(\" \") or k in j[1].split(\" \"):\n",
    "                        break\n",
    "                else:\n",
    "                    if mid not in transformed_triples:\n",
    "                        copydict={'triple':j,'PMID':i.get('PMID'),'sentence':i.get('sentence'),\n",
    "                                  'AB':i.get('AB'),'entity_one':i.get('target1'),'entity_one_type':i.get('target1_type'),\n",
    "                                  'entity_two':i.get('target2'),'entity_two_type':i.get('target2_type'),\n",
    "                                  'entity_one_transformed':i.get('entity1'),'entity_two_transformed':i.get('entity2'),\n",
    "                                    'transformed_triple':mid,'method':[\"open domain\"]}\n",
    "                        triplelist_takeoffed.append(copydict)\n",
    "                        transformed_triples.add(mid)\n",
    "                    if j[1]=='associated' or j[1]=='associate' :\n",
    "                        mid=tuple([j[2],j[1].lower(),j[0],i.get('PMID')])\n",
    "                        if mid not in transformed_triples:\n",
    "                            copydict={'triple':j,'PMID':i.get('PMID'),'sentence':i.get('sentence'),\n",
    "                                      'AB':i.get('AB'),'entity_one':i.get('target2'),'entity_one_type':i.get('target2_type'),\n",
    "                                      'entity_two':i.get('target1'),'entity_two_type':i.get('target1_type'),\n",
    "                                      'entity_one_transformed':i.get('entity2'),'entity_two_transformed':i.get('entity1'),\n",
    "                                        'transformed_triple':mid,'method':[\"open domain\"]}\n",
    "                            triplelist_takeoffed.append(copydict)\n",
    "                            transformed_triples.add(mid)\n",
    "    if i.get('allennlp_final'):\n",
    "        for j in i.get('allennlp_final'):\n",
    "            if len(maxlength)>0 and j[1] in maxlength[1].split(' '):\n",
    "                pass\n",
    "            else:\n",
    "                mid=tuple([j[0],j[1].lower(),j[2],i.get('PMID')])\n",
    "                if j[1] in j[0].split(' ') or j[1] in j[2].split(' '):\n",
    "                    continue\n",
    "                allennlp_list.append((j[0],j[2]))\n",
    "                copydict={'triple':j,'PMID':i.get('PMID'),'sentence':i.get('sentence'),\n",
    "                          'AB':i.get('AB'),'entity_one':i.get('target1'),'entity_one_type':i.get('target1_type'),\n",
    "                          'entity_two':i.get('target2'),'entity_two_type':i.get('target2_type'),\n",
    "                          'entity_one_transformed':i.get('entity1'),'entity_two_transformed':i.get('entity2'),\n",
    "                            'transformed_triple':mid,'method':[\"deep learning\"]}\n",
    "                triplelist_takeoffed.append(copydict)\n",
    "                transformed_triples.add(mid)\n",
    "                if j[1]=='associated' or j[1]=='associate' :\n",
    "                    mid=tuple([j[2],j[1].lower(),j[0],i.get('PMID')])\n",
    "                    allennlp_list.append([j[2],j[0]])\n",
    "                    copydict={'triple':j,'PMID':i.get('PMID'),'sentence':i.get('sentence'),\n",
    "                              'AB':i.get('AB'),'entity_one':i.get('target2'),'entity_one_type':i.get('target2_type'),\n",
    "                              'entity_two':i.get('target1'),'entity_two_type':i.get('target1_type'),\n",
    "                              'entity_one_transformed':i.get('entity2'),'entity_two_transformed':i.get('entity1'),\n",
    "                                'transformed_triple':mid,'method':[\"deep learning\"]}\n",
    "                    triplelist_takeoffed.append(copydict)\n",
    "                    transformed_triples.add(mid)\n",
    "    if i.get('networkx'):\n",
    "        if len(maxlength)>0 and i.get('networkx')[1] in maxlength[1].split(' '):\n",
    "            box.append(i)\n",
    "            pass\n",
    "        else:\n",
    "            if i.get('networkx')[1] in i.get('networkx')[0].split(' ') or i.get('networkx')[1] in i.get('networkx')[2].split(' '):\n",
    "                acount+=1\n",
    "                continue\n",
    "            mid=tuple([i.get('networkx')[0],i.get('networkx')[1].lower(),i.get('networkx')[2],i.get('PMID')])\n",
    "            copydict={'triple':i.get('networkx'),'PMID':i.get('PMID'),'sentence':i.get('sentence'),\n",
    "                      'AB':i.get('AB'),'entity_one':i.get('target1'),'entity_one_type':i.get('target1_type'),\n",
    "                      'entity_two':i.get('target2'),'entity_two_type':i.get('target2_type'),\n",
    "                      'entity_one_transformed':i.get('entity1'),'entity_two_transformed':i.get('entity2'),\n",
    "                        'transformed_triple':mid,'method':[\"shortest path\"]}\n",
    "            triplelist_takeoffed.append(copydict)\n",
    "            transformed_triples.add(mid)\n",
    "            if i.get('networkx')[1]=='associated' or i.get('networkx')[1]=='associate' :\n",
    "                mid=tuple([i.get('networkx')[2],i.get('networkx')[1].lower(),i.get('networkx')[0],i.get('PMID')])\n",
    "\n",
    "                copydict={'triple':i.get('networkx'),'PMID':i.get('PMID'),'sentence':i.get('sentence'),\n",
    "                          'AB':i.get('AB'),'entity_one':i.get('target2'),'entity_one_type':i.get('target2_type'),\n",
    "                          'entity_two':i.get('target1'),'entity_two_type':i.get('target1_type'),\n",
    "                          'entity_one_transformed':i.get('entity2'),'entity_two_transformed':i.get('entity1'),\n",
    "                            'transformed_triple':mid,'method':[\"shortest path\"]}\n",
    "                triplelist_takeoffed.append(copydict)\n",
    "                transformed_triples.add(mid)"
   ]
  },
  {
   "cell_type": "markdown",
   "id": "4d8bb182-9f6a-467a-b316-6d4ceb4dcb35",
   "metadata": {},
   "source": [
    "for i in triplelist:\n",
    "    if i.get('networkx') and i.get('openie_final'):\n",
    "        print(i)\n",
    "        break"
   ]
  },
  {
   "cell_type": "code",
   "execution_count": 30,
   "id": "5c10c72b-83ca-4bc6-9aa4-c955cab2e0e0",
   "metadata": {},
   "outputs": [
    {
     "data": {
      "text/plain": [
       "202542"
      ]
     },
     "execution_count": 30,
     "metadata": {},
     "output_type": "execute_result"
    }
   ],
   "source": [
    "len(triplelist_takeoffed)"
   ]
  },
  {
   "cell_type": "code",
   "execution_count": 31,
   "id": "98122217-6365-4fdc-9529-0bc9b2a5a2a1",
   "metadata": {},
   "outputs": [],
   "source": [
    "triplelist_takeoffed_dict={}\n",
    "triplelist_takeoff=[]\n",
    "for i in triplelist_takeoffed:\n",
    "    if not triplelist_takeoffed_dict.get((i.get('transformed_triple'),tuple(i.get('triple')),i.get('PMID'),i.get('sentence'),i.get('AB'),i.get('entity_one_type'),i.get('entity_two_type'))):\n",
    "        triplelist_takeoffed_dict[(i.get('transformed_triple'),tuple(i.get('triple')),i.get('PMID'),i.get('sentence'),i.get('AB'),i.get('entity_one_type'),i.get('entity_two_type'))]=i\n",
    "    else:\n",
    "        if i.get('method')[0] in triplelist_takeoffed_dict.get((i.get('transformed_triple'),tuple(i.get('triple')),i.get('PMID'),i.get('sentence'),i.get('AB'),i.get('entity_one_type'),i.get('entity_two_type'))).get('method'):\n",
    "            continue\n",
    "        else:\n",
    "            triplelist_takeoffed_dict[(i.get('transformed_triple'),tuple(i.get('triple')),i.get('PMID'),i.get('sentence'),i.get('AB'),i.get('entity_one_type'),i.get('entity_two_type'))]['method']=triplelist_takeoffed_dict.get((i.get('transformed_triple'),tuple(i.get('triple')),i.get('PMID'),i.get('sentence'),i.get('AB'),i.get('entity_one_type'),i.get('entity_two_type'))).get('method')+i.get('method')"
   ]
  },
  {
   "cell_type": "code",
   "execution_count": 32,
   "id": "899e0ded-77bf-4930-b526-b29420c9cdd9",
   "metadata": {},
   "outputs": [],
   "source": [
    "triplelist_takeoff=list(triplelist_takeoffed_dict.values())"
   ]
  },
  {
   "cell_type": "code",
   "execution_count": 33,
   "id": "ecf3daa3-e89b-4809-b79d-384153020419",
   "metadata": {},
   "outputs": [
    {
     "name": "stdout",
     "output_type": "stream",
     "text": [
      "{'triple': ['COPD', 'defined', 'inflammatory disorder'], 'PMID': '30781849', 'sentence': '(1) Background: Chronic obstructive pulmonary disease (COPD) is defined as an inflammatory disorder that presents an increasingly prevalent health problem.', 'AB': '(1) Background: Chronic obstructive pulmonary disease (COPD) is defined as an inflammatory disorder that presents an increasingly prevalent health problem. Accelerated aging has been examined as a pathologic mechanism of many chronic diseases like COPD. We examined whether COPD is combined with accelerated aging, studying two hormones, dehydroepiandrosterone (DHEA) and growth hormone (GH), known to be characteristic biological markers of aging. (2) Methods: Data were collected from 119 participants, 70 (58.8%) COPD patients and 49 (41.2%) from a health control group over the period of 2014-2016 in a spirometry program. Information about their medical history, tobacco use, and blood tests was obtained. (3) Results: The average age of the health control patients was 73.5 years (SD = 5.5), and that of the COPD patients was 75.4 years (SD = 6.9). Both groups were similar in age and sex. A greater proportion of smokers were found in the COPD group (87.1%) versus the control group (36.7%). The majority of COPD patients were classified as STAGE II (51.4%) and STAGE III (37.1%) according to GOLD (Global Initiative for Chronic Obstructive Pulmonary Disease). Levels of DHEA (SD = 17.1) and GH (SD = 0.37) were significantly lower in the COPD group (p < 0.001) compared to those in the controls (SD = 26.3, SD = 0.79). DHEA and GH were more significant and negatively correlated with age. The regression equation of DHEA with age produced a coefficient equal to 1.26. In this study, the difference in DHEA between COPD patients and controls was, on average, 30.2 mug/dL, indicating that the biological age of a COPD patient is on average about 24 years older than that of a control subject of the same age. Similarly, the difference in GH between COPD patients and controls was, on average, 0.42 ng/mL, indicating that the biological age of a COPD patient is on average about 13.1 years older than that of a control subject of the same age. (4) Conclusions: The findings of our study strongly suggest the presence of premature biological aging in COPD patients. Their biological age could actually vary from 13 to 23 years older than non-COPD controls according to DHEA and GH variation.', 'entity_one': 'COPD', 'entity_one_type': 'Disease', 'entity_two': 'inflammatory disorder', 'entity_two_type': 'Disease', 'entity_one_transformed': 'Pulmonary Disease, Chronic Obstructive', 'entity_two_transformed': 'Inflammation', 'transformed_triple': ('COPD', 'defined', 'inflammatory disorder', '30781849'), 'method': ['deep learning', 'shortest path']}\n"
     ]
    }
   ],
   "source": [
    "for i in triplelist_takeoff:\n",
    "    if len(i.get('method'))>1:\n",
    "        print(i)\n",
    "        break"
   ]
  },
  {
   "cell_type": "code",
   "execution_count": 34,
   "id": "44ebf476-e6eb-4809-a576-4f76ad3c712f",
   "metadata": {},
   "outputs": [
    {
     "data": {
      "text/plain": [
       "1452"
      ]
     },
     "execution_count": 34,
     "metadata": {},
     "output_type": "execute_result"
    }
   ],
   "source": [
    "len(box)"
   ]
  },
  {
   "cell_type": "code",
   "execution_count": 35,
   "id": "1d812bf1-72cb-467b-8945-0a14199cdf73",
   "metadata": {},
   "outputs": [
    {
     "data": {
      "text/plain": [
       "0"
      ]
     },
     "execution_count": 35,
     "metadata": {},
     "output_type": "execute_result"
    }
   ],
   "source": [
    "len(box2)"
   ]
  },
  {
   "cell_type": "code",
   "execution_count": 36,
   "id": "4f09012d-6e18-4bf0-9055-a2474722bfcb",
   "metadata": {},
   "outputs": [
    {
     "name": "stdout",
     "output_type": "stream",
     "text": [
      "175830\n",
      "171992\n"
     ]
    }
   ],
   "source": [
    "print(len(triplelist_takeoff))\n",
    "print(len(transformed_triples))"
   ]
  },
  {
   "cell_type": "code",
   "execution_count": 37,
   "id": "936106d8-a352-408d-9f78-b42efa2ede6a",
   "metadata": {},
   "outputs": [
    {
     "data": {
      "text/plain": [
       "{'triple': ['Chronic obstructive pulmonary disease',\n",
       "  'defined',\n",
       "  'inflammatory disorder'],\n",
       " 'PMID': '30781849',\n",
       " 'sentence': '(1) Background: Chronic obstructive pulmonary disease (COPD) is defined as an inflammatory disorder that presents an increasingly prevalent health problem.',\n",
       " 'AB': '(1) Background: Chronic obstructive pulmonary disease (COPD) is defined as an inflammatory disorder that presents an increasingly prevalent health problem. Accelerated aging has been examined as a pathologic mechanism of many chronic diseases like COPD. We examined whether COPD is combined with accelerated aging, studying two hormones, dehydroepiandrosterone (DHEA) and growth hormone (GH), known to be characteristic biological markers of aging. (2) Methods: Data were collected from 119 participants, 70 (58.8%) COPD patients and 49 (41.2%) from a health control group over the period of 2014-2016 in a spirometry program. Information about their medical history, tobacco use, and blood tests was obtained. (3) Results: The average age of the health control patients was 73.5 years (SD = 5.5), and that of the COPD patients was 75.4 years (SD = 6.9). Both groups were similar in age and sex. A greater proportion of smokers were found in the COPD group (87.1%) versus the control group (36.7%). The majority of COPD patients were classified as STAGE II (51.4%) and STAGE III (37.1%) according to GOLD (Global Initiative for Chronic Obstructive Pulmonary Disease). Levels of DHEA (SD = 17.1) and GH (SD = 0.37) were significantly lower in the COPD group (p < 0.001) compared to those in the controls (SD = 26.3, SD = 0.79). DHEA and GH were more significant and negatively correlated with age. The regression equation of DHEA with age produced a coefficient equal to 1.26. In this study, the difference in DHEA between COPD patients and controls was, on average, 30.2 mug/dL, indicating that the biological age of a COPD patient is on average about 24 years older than that of a control subject of the same age. Similarly, the difference in GH between COPD patients and controls was, on average, 0.42 ng/mL, indicating that the biological age of a COPD patient is on average about 13.1 years older than that of a control subject of the same age. (4) Conclusions: The findings of our study strongly suggest the presence of premature biological aging in COPD patients. Their biological age could actually vary from 13 to 23 years older than non-COPD controls according to DHEA and GH variation.',\n",
       " 'entity_one': 'Chronic obstructive pulmonary disease',\n",
       " 'entity_one_type': 'Disease',\n",
       " 'entity_two': 'inflammatory disorder',\n",
       " 'entity_two_type': 'Disease',\n",
       " 'entity_one_transformed': 'Pulmonary Disease, Chronic Obstructive',\n",
       " 'entity_two_transformed': 'Inflammation',\n",
       " 'transformed_triple': ('Chronic obstructive pulmonary disease',\n",
       "  'defined',\n",
       "  'inflammatory disorder',\n",
       "  '30781849'),\n",
       " 'method': ['open domain']}"
      ]
     },
     "execution_count": 37,
     "metadata": {},
     "output_type": "execute_result"
    }
   ],
   "source": [
    "triplelist_takeoff[0]"
   ]
  },
  {
   "cell_type": "code",
   "execution_count": 38,
   "id": "9f4df73f-31a9-47af-9ffc-65831be75d2f",
   "metadata": {},
   "outputs": [],
   "source": [
    "triplelist_takeoff_dict={}\n",
    "for i in triplelist_takeoff:\n",
    "    triplelist_takeoff_dict[(i.get('entity_one_transformed'),i.get('triple')[1],i.get('entity_two_transformed'),i.get('PMID'))]=triplelist_takeoff_dict.get((i.get('entity_one_transformed'),i.get('entity_two_transformed'),i.get('PMID')),[])+[i]"
   ]
  },
  {
   "cell_type": "code",
   "execution_count": 39,
   "id": "e574651b-2a77-4df0-b27c-424e624e2b53",
   "metadata": {},
   "outputs": [
    {
     "data": {
      "text/plain": [
       "158128"
      ]
     },
     "execution_count": 39,
     "metadata": {},
     "output_type": "execute_result"
    }
   ],
   "source": [
    "len(triplelist_takeoff_dict)"
   ]
  },
  {
   "cell_type": "code",
   "execution_count": 40,
   "id": "e363bb86-06db-4cbe-b6df-79c686f19fb9",
   "metadata": {},
   "outputs": [],
   "source": [
    "triplelist_takeoffs=[]\n",
    "a=[]\n",
    "b=[]\n",
    "c=[]\n",
    "d=[]\n",
    "for i,j in triplelist_takeoff_dict.items():\n",
    "    if len(j)==1:\n",
    "        triplelist_takeoffs.append(j[0])\n",
    "    else:\n",
    "        deprecated_set=set()\n",
    "        for k in j:\n",
    "            if k.get('entity_one').lower()==k.get('entity_one_transformed').lower() and k.get('entity_two').lower()==k.get('entity_two_transformed').lower():\n",
    "                triplelist_takeoffs.append(k)\n",
    "                a.append(k)\n",
    "                break\n",
    "        else:\n",
    "            for k in j:\n",
    "                if k.get('entity_one').lower()==k.get('entity_one_transformed').lower():\n",
    "                    triplelist_takeoffs.append(k)\n",
    "                    b.append(k)\n",
    "                    break\n",
    "            else:\n",
    "                for k in j:\n",
    "                    if k.get('entity_two').lower()==k.get('entity_two_transformed').lower():\n",
    "                        c.append(k)\n",
    "                        triplelist_takeoffs.append(k)\n",
    "                        break\n",
    "                else:\n",
    "                    d.append(k)\n",
    "                    triplelist_takeoffs.append(j[0])"
   ]
  },
  {
   "cell_type": "code",
   "execution_count": 41,
   "id": "e54b08cc-4a7c-4bab-9c83-803a4348897e",
   "metadata": {},
   "outputs": [
    {
     "name": "stdout",
     "output_type": "stream",
     "text": [
      "0\n",
      "0\n",
      "0\n",
      "0\n"
     ]
    }
   ],
   "source": [
    "names=locals()\n",
    "for i in ['a','b','c','d']:\n",
    "    print(len(names[i]))"
   ]
  },
  {
   "cell_type": "code",
   "execution_count": 42,
   "id": "77e2f824-0e75-416d-addc-c7ef53f3748a",
   "metadata": {},
   "outputs": [
    {
     "data": {
      "text/plain": [
       "158128"
      ]
     },
     "execution_count": 42,
     "metadata": {},
     "output_type": "execute_result"
    }
   ],
   "source": [
    "len(triplelist_takeoffs)"
   ]
  },
  {
   "cell_type": "code",
   "execution_count": 43,
   "id": "b3c28f7f-59a2-4041-8faa-b1798556b994",
   "metadata": {},
   "outputs": [
    {
     "data": {
      "text/plain": [
       "175830"
      ]
     },
     "execution_count": 43,
     "metadata": {},
     "output_type": "execute_result"
    }
   ],
   "source": [
    "len(triplelist_takeoff)"
   ]
  },
  {
   "cell_type": "code",
   "execution_count": 44,
   "id": "3735fdc4-db51-4848-96a6-0de1aaad61b6",
   "metadata": {},
   "outputs": [],
   "source": [
    "triplelist_takesoff=[]\n",
    "for i in triplelist_takeoffs:\n",
    "    if not re.search(r'\\`|\\~|\\!|\\@|\\#|\\$|\\%|\\^|\\&|\\*|\\(|\\)|\\_|\\+|\\=|\\{|\\[|\\}|\\]|\\;|\\:|\\'|\\\"|\\,|\\<|\\.|\\>|\\/|\\?',i.get('triple')[1]):\n",
    "        if not re.search(r'(\\s\\d+\\s)|(\\b\\d+\\b)',i.get('triple')[1]): \n",
    "            triplelist_takesoff.append(i)"
   ]
  },
  {
   "cell_type": "code",
   "execution_count": 45,
   "id": "fa37a20c-f220-4db8-b854-ab885648fe97",
   "metadata": {},
   "outputs": [],
   "source": [
    "triplelistnewcopy=copy.deepcopy(triplelist_takesoff)"
   ]
  },
  {
   "cell_type": "code",
   "execution_count": 46,
   "id": "bba48378-cd96-419c-b843-b4df9c3bcec1",
   "metadata": {},
   "outputs": [],
   "source": [
    "deprecated_relations=pd.read_csv('../classofrelations/deprecated.csv',header=None,names=['word'])"
   ]
  },
  {
   "cell_type": "code",
   "execution_count": 47,
   "id": "3a3ebdcb-27b3-46b0-a1dc-074ede14faac",
   "metadata": {},
   "outputs": [
    {
     "data": {
      "text/plain": [
       "209"
      ]
     },
     "execution_count": 47,
     "metadata": {},
     "output_type": "execute_result"
    }
   ],
   "source": [
    "len(deprecated_relations)"
   ]
  },
  {
   "cell_type": "code",
   "execution_count": 48,
   "id": "4555db78-2437-43c3-a486-150b10738fb7",
   "metadata": {},
   "outputs": [
    {
     "data": {
      "text/html": [
       "<div>\n",
       "<style scoped>\n",
       "    .dataframe tbody tr th:only-of-type {\n",
       "        vertical-align: middle;\n",
       "    }\n",
       "\n",
       "    .dataframe tbody tr th {\n",
       "        vertical-align: top;\n",
       "    }\n",
       "\n",
       "    .dataframe thead th {\n",
       "        text-align: right;\n",
       "    }\n",
       "</style>\n",
       "<table border=\"1\" class=\"dataframe\">\n",
       "  <thead>\n",
       "    <tr style=\"text-align: right;\">\n",
       "      <th></th>\n",
       "      <th>word</th>\n",
       "    </tr>\n",
       "  </thead>\n",
       "  <tbody>\n",
       "    <tr>\n",
       "      <th>0</th>\n",
       "      <td>% for</td>\n",
       "    </tr>\n",
       "    <tr>\n",
       "      <th>1</th>\n",
       "      <td>'s III be</td>\n",
       "    </tr>\n",
       "    <tr>\n",
       "      <th>2</th>\n",
       "      <td>)evaluate</td>\n",
       "    </tr>\n",
       "    <tr>\n",
       "      <th>3</th>\n",
       "      <td>#NAME?</td>\n",
       "    </tr>\n",
       "    <tr>\n",
       "      <th>4</th>\n",
       "      <td>#NAME?</td>\n",
       "    </tr>\n",
       "  </tbody>\n",
       "</table>\n",
       "</div>"
      ],
      "text/plain": [
       "        word\n",
       "0      % for\n",
       "1  's III be\n",
       "2  )evaluate\n",
       "3     #NAME?\n",
       "4     #NAME?"
      ]
     },
     "execution_count": 48,
     "metadata": {},
     "output_type": "execute_result"
    }
   ],
   "source": [
    "deprecated_relations.head()"
   ]
  },
  {
   "cell_type": "code",
   "execution_count": 49,
   "id": "278033e1-5ad3-4775-b621-6cadec7e84fc",
   "metadata": {},
   "outputs": [],
   "source": [
    "deprecated_relations_dict={}\n",
    "for i in deprecated_relations['word'].to_list():\n",
    "    deprecated_relations_dict[i.lower()]=True"
   ]
  },
  {
   "cell_type": "code",
   "execution_count": 50,
   "id": "210c6242-1ceb-425c-878b-a3b204205f54",
   "metadata": {},
   "outputs": [
    {
     "data": {
      "text/plain": [
       "True"
      ]
     },
     "execution_count": 50,
     "metadata": {},
     "output_type": "execute_result"
    }
   ],
   "source": [
    "deprecated_relations_dict.get('have')"
   ]
  },
  {
   "cell_type": "code",
   "execution_count": 51,
   "id": "3fc600f5-5222-4557-81e2-0d9d31eeb59a",
   "metadata": {},
   "outputs": [
    {
     "data": {
      "text/plain": [
       "('aforemention', True)"
      ]
     },
     "execution_count": 51,
     "metadata": {},
     "output_type": "execute_result"
    }
   ],
   "source": [
    "list(deprecated_relations_dict.items())[20]"
   ]
  },
  {
   "cell_type": "code",
   "execution_count": 52,
   "id": "3e44f08d-3221-4d5f-b03c-d1455f4333f9",
   "metadata": {},
   "outputs": [
    {
     "data": {
      "text/plain": [
       "{'triple': ['COPD', 'defined', 'inflammatory disorder'],\n",
       " 'PMID': '30781849',\n",
       " 'sentence': '(1) Background: Chronic obstructive pulmonary disease (COPD) is defined as an inflammatory disorder that presents an increasingly prevalent health problem.',\n",
       " 'AB': '(1) Background: Chronic obstructive pulmonary disease (COPD) is defined as an inflammatory disorder that presents an increasingly prevalent health problem. Accelerated aging has been examined as a pathologic mechanism of many chronic diseases like COPD. We examined whether COPD is combined with accelerated aging, studying two hormones, dehydroepiandrosterone (DHEA) and growth hormone (GH), known to be characteristic biological markers of aging. (2) Methods: Data were collected from 119 participants, 70 (58.8%) COPD patients and 49 (41.2%) from a health control group over the period of 2014-2016 in a spirometry program. Information about their medical history, tobacco use, and blood tests was obtained. (3) Results: The average age of the health control patients was 73.5 years (SD = 5.5), and that of the COPD patients was 75.4 years (SD = 6.9). Both groups were similar in age and sex. A greater proportion of smokers were found in the COPD group (87.1%) versus the control group (36.7%). The majority of COPD patients were classified as STAGE II (51.4%) and STAGE III (37.1%) according to GOLD (Global Initiative for Chronic Obstructive Pulmonary Disease). Levels of DHEA (SD = 17.1) and GH (SD = 0.37) were significantly lower in the COPD group (p < 0.001) compared to those in the controls (SD = 26.3, SD = 0.79). DHEA and GH were more significant and negatively correlated with age. The regression equation of DHEA with age produced a coefficient equal to 1.26. In this study, the difference in DHEA between COPD patients and controls was, on average, 30.2 mug/dL, indicating that the biological age of a COPD patient is on average about 24 years older than that of a control subject of the same age. Similarly, the difference in GH between COPD patients and controls was, on average, 0.42 ng/mL, indicating that the biological age of a COPD patient is on average about 13.1 years older than that of a control subject of the same age. (4) Conclusions: The findings of our study strongly suggest the presence of premature biological aging in COPD patients. Their biological age could actually vary from 13 to 23 years older than non-COPD controls according to DHEA and GH variation.',\n",
       " 'entity_one': 'COPD',\n",
       " 'entity_one_type': 'Disease',\n",
       " 'entity_two': 'inflammatory disorder',\n",
       " 'entity_two_type': 'Disease',\n",
       " 'entity_one_transformed': 'Pulmonary Disease, Chronic Obstructive',\n",
       " 'entity_two_transformed': 'Inflammation',\n",
       " 'transformed_triple': ('COPD',\n",
       "  'defined',\n",
       "  'inflammatory disorder',\n",
       "  '30781849'),\n",
       " 'method': ['deep learning', 'shortest path']}"
      ]
     },
     "execution_count": 52,
     "metadata": {},
     "output_type": "execute_result"
    }
   ],
   "source": [
    "triplelistnewcopy[0]"
   ]
  },
  {
   "cell_type": "code",
   "execution_count": 53,
   "id": "31f7a947-3b32-40c9-8ecc-5c4c31cd308d",
   "metadata": {},
   "outputs": [
    {
     "data": {
      "text/plain": [
       "'promising'"
      ]
     },
     "execution_count": 53,
     "metadata": {},
     "output_type": "execute_result"
    }
   ],
   "source": [
    "i"
   ]
  },
  {
   "cell_type": "code",
   "execution_count": 54,
   "id": "c8a850dd-d205-489d-8f1a-e93eca93a798",
   "metadata": {},
   "outputs": [
    {
     "data": {
      "text/plain": [
       "{'am': 'be',\n",
       " 'is': 'be',\n",
       " 'are': 'be',\n",
       " 'was': 'be',\n",
       " 'were': 'be',\n",
       " 'been': 'be',\n",
       " 'have been': 'be',\n",
       " 'has been': 'be'}"
      ]
     },
     "execution_count": 54,
     "metadata": {},
     "output_type": "execute_result"
    }
   ],
   "source": [
    "bedict"
   ]
  },
  {
   "cell_type": "code",
   "execution_count": 55,
   "id": "4f14456d-0efd-4034-9d9c-76d79bffa37f",
   "metadata": {},
   "outputs": [],
   "source": [
    "not_relations=pd.read_csv('../classofrelations/not_relations.csv',header=None,names=['word'])"
   ]
  },
  {
   "cell_type": "code",
   "execution_count": 56,
   "id": "0eae5ab5-83a1-4297-9852-6179b88bd656",
   "metadata": {},
   "outputs": [
    {
     "data": {
      "text/plain": [
       "61"
      ]
     },
     "execution_count": 56,
     "metadata": {},
     "output_type": "execute_result"
    }
   ],
   "source": [
    "len(not_relations)"
   ]
  },
  {
   "cell_type": "code",
   "execution_count": 57,
   "id": "03ab7e62-aea7-454a-8795-4578df407dda",
   "metadata": {},
   "outputs": [
    {
     "data": {
      "text/html": [
       "<div>\n",
       "<style scoped>\n",
       "    .dataframe tbody tr th:only-of-type {\n",
       "        vertical-align: middle;\n",
       "    }\n",
       "\n",
       "    .dataframe tbody tr th {\n",
       "        vertical-align: top;\n",
       "    }\n",
       "\n",
       "    .dataframe thead th {\n",
       "        text-align: right;\n",
       "    }\n",
       "</style>\n",
       "<table border=\"1\" class=\"dataframe\">\n",
       "  <thead>\n",
       "    <tr style=\"text-align: right;\">\n",
       "      <th></th>\n",
       "      <th>word</th>\n",
       "    </tr>\n",
       "  </thead>\n",
       "  <tbody>\n",
       "    <tr>\n",
       "      <th>0</th>\n",
       "      <td>1p13 near</td>\n",
       "    </tr>\n",
       "    <tr>\n",
       "      <th>1</th>\n",
       "      <td>a of</td>\n",
       "    </tr>\n",
       "    <tr>\n",
       "      <th>2</th>\n",
       "      <td>abstractdiagnosing</td>\n",
       "    </tr>\n",
       "    <tr>\n",
       "      <th>3</th>\n",
       "      <td>acetylcholinesterase</td>\n",
       "    </tr>\n",
       "    <tr>\n",
       "      <th>4</th>\n",
       "      <td>apolipoprotein</td>\n",
       "    </tr>\n",
       "  </tbody>\n",
       "</table>\n",
       "</div>"
      ],
      "text/plain": [
       "                   word\n",
       "0             1p13 near\n",
       "1                  a of\n",
       "2    abstractdiagnosing\n",
       "3  acetylcholinesterase\n",
       "4        apolipoprotein"
      ]
     },
     "execution_count": 57,
     "metadata": {},
     "output_type": "execute_result"
    }
   ],
   "source": [
    "not_relations.head()"
   ]
  },
  {
   "cell_type": "code",
   "execution_count": 58,
   "id": "482e32b6-9bc7-4e20-bbcf-a97ed477f765",
   "metadata": {},
   "outputs": [],
   "source": [
    "not_relations_dict={}\n",
    "for i in not_relations['word'].to_list():\n",
    "    not_relations_dict[i.lower()]=True"
   ]
  },
  {
   "cell_type": "code",
   "execution_count": 59,
   "id": "3746bd64-fdd4-45e5-9062-a027ca683c08",
   "metadata": {},
   "outputs": [
    {
     "data": {
      "text/plain": [
       "('near 7q11 be', True)"
      ]
     },
     "execution_count": 59,
     "metadata": {},
     "output_type": "execute_result"
    }
   ],
   "source": [
    "list(not_relations_dict.items())[20]"
   ]
  },
  {
   "cell_type": "code",
   "execution_count": 60,
   "id": "b1355945-8c81-4a38-a27a-6a83423d753c",
   "metadata": {},
   "outputs": [],
   "source": [
    "triplelistnew=[]\n",
    "for i in triplelistnewcopy: \n",
    "    if not deprecated_relations_dict.get(i.get('triple')[1].lower()) and not not_relations_dict.get(i.get('triple')[1].lower()):\n",
    "        if i.get('triple')[1][0]=='\\-':\n",
    "            continue\n",
    "        temp_triple=i.get('triple')[1].split(' ')\n",
    "        for j,k in enumerate(temp_triple):\n",
    "            if bedict.get(k.lower()):\n",
    "                temp_triple[j]=bedict.get(k.lower())\n",
    "        i['triple'][1]=' '.join(temp_triple)\n",
    "        if i.get('triple')[1].lower()=='be' or bedict.get(i.get('triple')[1].lower()):\n",
    "            continue\n",
    "        if i.get('triple')[1].lower()=='means':\n",
    "            i['triple'][1]='mean'\n",
    "        if i.get('triple')[1].lower()=='meets':\n",
    "            i['triple'][1]='meet'\n",
    "        mid_judge=True\n",
    "        for j in i.get('triple')[1].split(' '):\n",
    "            if j.lower() not in i.get('triple')[0].lower().split(' ') and j.lower() not in i.get('triple')[2].lower().split(' '):\n",
    "                pass\n",
    "            else:\n",
    "                mid_judge=False\n",
    "        if mid_judge:\n",
    "            triplelistnew.append(i)"
   ]
  },
  {
   "cell_type": "code",
   "execution_count": 61,
   "id": "4325cbf8-e390-4d1f-a408-0294084fcf73",
   "metadata": {},
   "outputs": [
    {
     "data": {
      "text/plain": [
       "146384"
      ]
     },
     "execution_count": 61,
     "metadata": {},
     "output_type": "execute_result"
    }
   ],
   "source": [
    "len(triplelistnew)"
   ]
  },
  {
   "cell_type": "code",
   "execution_count": 62,
   "id": "18aa1aa9-ad3a-4f13-96d5-c10a8eb3ca05",
   "metadata": {},
   "outputs": [
    {
     "data": {
      "text/plain": [
       "{'triple': ['Sarcopenia', 'associated', 'constipation'],\n",
       " 'PMID': '34769606',\n",
       " 'sentence': '(4) Conclusions: Sarcopenia and slow gait speed associated with constipation in community-dwelling older adults.',\n",
       " 'AB': '(1) Background: As the clinical relevance of constipation and sarcopenia is not well studied, we aimed to investigate the association between them in older adults. (2) Methods: A cross-sectional study was conducted on 1278 community-dwelling older adults in South Korea. The Rome IV criteria were used to identify patients with clinically defined constipation, while sarcopenia was defined by the Asian Working Group for Sarcopenia consensus. The cohort was classified into three groups: no constipation, self-reported constipation only, and clinically defined constipation. (3) Results: The presence of constipation was associated with sarcopenia and slow gait speed (p < 0.001). After adjustment for possible covariates, the association with sarcopenia attenuated, while that for slow gait speed persisted. In terms of geriatric parameters, both groups with clinically defined and self-reported constipation had a higher burden of cognitive impairment, IADL disability, and lower QOL scores (p < 0.05) compared with those without constipation. (4) Conclusions: Sarcopenia and slow gait speed associated with constipation in community-dwelling older adults. Individuals with self-reported constipation symptoms alone showed comparable sarcopenic and geriatric burden to those with clinically defined constipation. Clinical suspicion for possible co-existing sarcopenia is warranted in older patients with constipation.',\n",
       " 'entity_one': 'Sarcopenia',\n",
       " 'entity_one_type': 'Disease',\n",
       " 'entity_two': 'constipation',\n",
       " 'entity_two_type': 'Disease',\n",
       " 'entity_one_transformed': 'Sarcopenia',\n",
       " 'entity_two_transformed': 'Constipation',\n",
       " 'transformed_triple': ('Sarcopenia',\n",
       "  'associated',\n",
       "  'constipation',\n",
       "  '34769606'),\n",
       " 'method': ['open domain']}"
      ]
     },
     "execution_count": 62,
     "metadata": {},
     "output_type": "execute_result"
    }
   ],
   "source": [
    "triplelistnew[10]"
   ]
  },
  {
   "cell_type": "code",
   "execution_count": 63,
   "id": "c6af93bd-a594-440c-a87a-7f2e086fdf63",
   "metadata": {},
   "outputs": [
    {
     "data": {
      "text/plain": [
       "{'triple': ['COPD', 'defined', 'inflammatory disorder'],\n",
       " 'PMID': '30781849',\n",
       " 'sentence': '(1) Background: Chronic obstructive pulmonary disease (COPD) is defined as an inflammatory disorder that presents an increasingly prevalent health problem.',\n",
       " 'AB': '(1) Background: Chronic obstructive pulmonary disease (COPD) is defined as an inflammatory disorder that presents an increasingly prevalent health problem. Accelerated aging has been examined as a pathologic mechanism of many chronic diseases like COPD. We examined whether COPD is combined with accelerated aging, studying two hormones, dehydroepiandrosterone (DHEA) and growth hormone (GH), known to be characteristic biological markers of aging. (2) Methods: Data were collected from 119 participants, 70 (58.8%) COPD patients and 49 (41.2%) from a health control group over the period of 2014-2016 in a spirometry program. Information about their medical history, tobacco use, and blood tests was obtained. (3) Results: The average age of the health control patients was 73.5 years (SD = 5.5), and that of the COPD patients was 75.4 years (SD = 6.9). Both groups were similar in age and sex. A greater proportion of smokers were found in the COPD group (87.1%) versus the control group (36.7%). The majority of COPD patients were classified as STAGE II (51.4%) and STAGE III (37.1%) according to GOLD (Global Initiative for Chronic Obstructive Pulmonary Disease). Levels of DHEA (SD = 17.1) and GH (SD = 0.37) were significantly lower in the COPD group (p < 0.001) compared to those in the controls (SD = 26.3, SD = 0.79). DHEA and GH were more significant and negatively correlated with age. The regression equation of DHEA with age produced a coefficient equal to 1.26. In this study, the difference in DHEA between COPD patients and controls was, on average, 30.2 mug/dL, indicating that the biological age of a COPD patient is on average about 24 years older than that of a control subject of the same age. Similarly, the difference in GH between COPD patients and controls was, on average, 0.42 ng/mL, indicating that the biological age of a COPD patient is on average about 13.1 years older than that of a control subject of the same age. (4) Conclusions: The findings of our study strongly suggest the presence of premature biological aging in COPD patients. Their biological age could actually vary from 13 to 23 years older than non-COPD controls according to DHEA and GH variation.',\n",
       " 'entity_one': 'COPD',\n",
       " 'entity_one_type': 'Disease',\n",
       " 'entity_two': 'inflammatory disorder',\n",
       " 'entity_two_type': 'Disease',\n",
       " 'entity_one_transformed': 'Pulmonary Disease, Chronic Obstructive',\n",
       " 'entity_two_transformed': 'Inflammation',\n",
       " 'transformed_triple': ('COPD',\n",
       "  'defined',\n",
       "  'inflammatory disorder',\n",
       "  '30781849'),\n",
       " 'method': ['deep learning', 'shortest path']}"
      ]
     },
     "execution_count": 63,
     "metadata": {},
     "output_type": "execute_result"
    }
   ],
   "source": [
    "triplelistnew[0]"
   ]
  },
  {
   "cell_type": "code",
   "execution_count": 64,
   "id": "8fa88fa2-0d93-4581-a857-efa9ed76e4c9",
   "metadata": {},
   "outputs": [],
   "source": [
    "entity_set=set()\n",
    "for i in triplelistnew:\n",
    "    entity_set.add(i.get('entity_one_transformed'))\n",
    "    entity_set.add(i.get('entity_two_transformed'))"
   ]
  },
  {
   "cell_type": "code",
   "execution_count": 65,
   "id": "849fc752-948f-4426-b7a7-4fc284e5fd9f",
   "metadata": {},
   "outputs": [
    {
     "data": {
      "text/plain": [
       "6922"
      ]
     },
     "execution_count": 65,
     "metadata": {},
     "output_type": "execute_result"
    }
   ],
   "source": [
    "len(entity_set)"
   ]
  },
  {
   "cell_type": "code",
   "execution_count": 66,
   "id": "6c58d9a7-7255-426e-995d-69420bd7ea75",
   "metadata": {},
   "outputs": [],
   "source": [
    "entitydict={}\n",
    "for i,j in enumerate(triplelist):\n",
    "    if j.get('entity1') in entity_set and j.get('entity2') in entity_set:\n",
    "        if not entitydict.get(j.get('entity1')) and not entitydict.get(j.get('entity2')):\n",
    "            entitydict[j.get('entity1')]=j.get('target1_type')\n",
    "            entitydict[j.get('entity2')]=j.get('target2_type')\n",
    "        else:\n",
    "            if entitydict.get(j.get('entity1')):\n",
    "                if re.search(j.get('target1_type'), entitydict.get(j.get('entity1'))) :\n",
    "                    pass\n",
    "                else:\n",
    "                    entitydict[j.get('entity1')]+=\";\"+j.get('target1_type')\n",
    "            else:\n",
    "                entitydict[j.get('entity1')]=j.get('target1_type')\n",
    "            if entitydict.get(j.get('entity2')):\n",
    "                if re.search(j.get('target2_type'), entitydict.get(j.get('entity2'))) :\n",
    "                    pass\n",
    "                else:\n",
    "                    entitydict[j.get('entity2')]+=\";\"+j.get('target2_type')\n",
    "            else:\n",
    "                entitydict[j.get('entity2')]=j.get('target2_type')"
   ]
  },
  {
   "cell_type": "code",
   "execution_count": 67,
   "id": "397c5d5a-dfc6-4add-bed6-171600883a70",
   "metadata": {},
   "outputs": [
    {
     "data": {
      "text/plain": [
       "6922"
      ]
     },
     "execution_count": 67,
     "metadata": {},
     "output_type": "execute_result"
    }
   ],
   "source": [
    "len(entitydict)"
   ]
  },
  {
   "cell_type": "code",
   "execution_count": 68,
   "id": "a295d049-139e-4857-bccb-c9afadfaba62",
   "metadata": {},
   "outputs": [],
   "source": [
    "entitydict_tolist={}\n",
    "for i,j in enumerate(triplelist):\n",
    "    if j.get('entity1') in entity_set and j.get('entity2') in entity_set:\n",
    "        if not entitydict_tolist.get(j.get('entity1')) and not entitydict_tolist.get(j.get('entity2')):\n",
    "            entitydict_tolist[j.get('entity1')]=[j.get('target1_type')]\n",
    "            entitydict_tolist[j.get('entity2')]=[j.get('target2_type')]\n",
    "        else:\n",
    "            if entitydict_tolist.get(j.get('entity1')):\n",
    "                if j.get('target1_type') in entitydict_tolist.get(j.get('entity1')):\n",
    "                    pass\n",
    "                else:\n",
    "                    entitydict_tolist[j.get('entity1')]+=[j.get('target1_type')]\n",
    "            else:\n",
    "                entitydict_tolist[j.get('entity1')]=[j.get('target1_type')]\n",
    "            if entitydict_tolist.get(j.get('entity2')):\n",
    "                if j.get('target2_type') in  entitydict_tolist.get(j.get('entity2')) :\n",
    "                    pass\n",
    "                else:\n",
    "                    entitydict_tolist[j.get('entity2')]+=[j.get('target2_type')]\n",
    "            else:\n",
    "                entitydict_tolist[j.get('entity2')]=[j.get('target2_type')]"
   ]
  },
  {
   "cell_type": "code",
   "execution_count": 69,
   "id": "176748a0-d3bd-4504-8aa4-90d24bb98f9d",
   "metadata": {},
   "outputs": [
    {
     "data": {
      "text/plain": [
       "'Carbohydrate;Lipid;Toxin'"
      ]
     },
     "execution_count": 69,
     "metadata": {},
     "output_type": "execute_result"
    }
   ],
   "source": [
    "entitydict.get('Lipopolysaccharides')"
   ]
  },
  {
   "cell_type": "code",
   "execution_count": 70,
   "id": "b47bf92b-21c4-428a-b8ab-431e84437ecd",
   "metadata": {},
   "outputs": [
    {
     "data": {
      "text/plain": [
       "['Carbohydrate', 'Lipid', 'Toxin']"
      ]
     },
     "execution_count": 70,
     "metadata": {},
     "output_type": "execute_result"
    }
   ],
   "source": [
    "entitydict_tolist.get('Lipopolysaccharides')"
   ]
  },
  {
   "cell_type": "code",
   "execution_count": 71,
   "id": "7b57747e-90d0-44cd-a8a1-5c76be328576",
   "metadata": {},
   "outputs": [
    {
     "data": {
      "text/plain": [
       "6922"
      ]
     },
     "execution_count": 71,
     "metadata": {},
     "output_type": "execute_result"
    }
   ],
   "source": [
    "len(entitydict)"
   ]
  },
  {
   "cell_type": "code",
   "execution_count": 72,
   "id": "4526a522-f854-448a-9889-3224982dcf4c",
   "metadata": {},
   "outputs": [
    {
     "data": {
      "text/plain": [
       "[('CSH2', 'Gene'),\n",
       " ('NOC3L', 'Gene'),\n",
       " ('WT1', 'Gene'),\n",
       " ('SIX2', 'Gene'),\n",
       " ('SIX1', 'Gene'),\n",
       " ('LTA', 'Gene'),\n",
       " ('IL12A', 'Gene'),\n",
       " ('CEBPB', 'Gene'),\n",
       " ('CTH', 'Gene'),\n",
       " ('CXCL2', 'Gene'),\n",
       " ('HMGB2', 'Gene'),\n",
       " ('CCR1', 'Gene'),\n",
       " ('KIF5A', 'Gene'),\n",
       " ('HPS1', 'Gene'),\n",
       " ('SLC25A4', 'Gene'),\n",
       " ('Ototoxicity', 'Disease'),\n",
       " ('MED28', 'Gene'),\n",
       " ('WSB1', 'Gene'),\n",
       " ('APELA', 'Gene'),\n",
       " ('Trisomy', 'Disease'),\n",
       " ('Cytokines', 'Peptide;Protein'),\n",
       " ('rs63750001', 'Mutation'),\n",
       " ('rs7141087', 'Mutation'),\n",
       " ('BEGAIN', 'Gene'),\n",
       " ('GOLPH3', 'Gene'),\n",
       " ('SUPT5H', 'Gene'),\n",
       " ('HOXA3', 'Gene'),\n",
       " ('G6PC1', 'Gene'),\n",
       " ('OSR1', 'Gene')]"
      ]
     },
     "execution_count": 72,
     "metadata": {},
     "output_type": "execute_result"
    }
   ],
   "source": [
    "list(entitydict.items())[-30:-1]"
   ]
  },
  {
   "cell_type": "code",
   "execution_count": 73,
   "id": "cc0977cf-e80d-4662-b2ac-9e0e17a4a0db",
   "metadata": {},
   "outputs": [
    {
     "name": "stdout",
     "output_type": "stream",
     "text": [
      "{'Ceramides': 'Carbohydrate;Lipid'}\n",
      "{'Ristocetin': 'Carbohydrate;Peptide'}\n",
      "{'Lipopolysaccharides': 'Carbohydrate;Lipid;Toxin'}\n",
      "{'Sphingomyelins': 'Carbohydrate;Lipid'}\n",
      "{'Daptomycin': 'Lipid;Peptide'}\n",
      "{'Vancomycin': 'Carbohydrate;Peptide'}\n",
      "{'Bleomycin': 'Carbohydrate;Peptide'}\n",
      "{'Glycosylphosphatidylinositols': 'Carbohydrate;Lipid'}\n",
      "{'Abciximab': 'Peptide;Protein'}\n",
      "{'Angiotensin II': 'Peptide;Protein'}\n",
      "{'Angiotensins': 'Peptide;Protein'}\n",
      "{'Psychosine': 'Carbohydrate;Lipid'}\n",
      "{'Glycolipids': 'Carbohydrate;Lipid'}\n",
      "{'Gangliosides': 'Carbohydrate;Lipid'}\n",
      "{'G(M1) Ganglioside': 'Carbohydrate;Lipid'}\n",
      "{'G(M3) Ganglioside': 'Carbohydrate;Lipid'}\n",
      "{'Glycosphingolipids': 'Carbohydrate;Lipid'}\n",
      "{'Phospholipid Ethers': 'Carbohydrate;Lipid'}\n",
      "{'Glycopeptides': 'Carbohydrate;Peptide'}\n",
      "{'Cilastatin, Imipenem Drug Combination': 'Lipid;Pharmaceutical Preparations'}\n",
      "{'Phalloidine': 'Peptide;Toxin'}\n",
      "{'Globosides': 'Carbohydrate;Lipid'}\n",
      "{'Glucosylceramides': 'Carbohydrate;Lipid'}\n",
      "{'Cerebrosides': 'Carbohydrate;Lipid'}\n",
      "{'Sulfoglycosphingolipids': 'Carbohydrate;Lipid'}\n",
      "{'Exenatide': 'Peptide;Toxin'}\n",
      "{'Lipid A': 'Carbohydrate;Lipid;Toxin'}\n",
      "{'Glycerylphosphorylcholine': 'Carbohydrate;Lipid'}\n",
      "{'Polymyxin B': 'Lipid;Peptide;Protein'}\n",
      "{'Arginine Vasopressin': 'Peptide;Protein'}\n",
      "{'Lactosylceramides': 'Carbohydrate;Lipid'}\n",
      "{'Salivary Cystatins': 'Peptide;Protein'}\n",
      "{'Caspofungin': 'Lipid;Peptide'}\n",
      "{'Micafungin': 'Lipid;Peptide'}\n",
      "{'G(M2) Ganglioside': 'Carbohydrate;Lipid'}\n",
      "{'Leuprolide': 'Peptide;Protein'}\n",
      "{'Carnosine': 'Peptide;Protein'}\n",
      "{'Cytokines': 'Peptide;Protein'}\n"
     ]
    }
   ],
   "source": [
    "for i,j in entitydict.items():\n",
    "    if re.search(';',j):\n",
    "        print({i:j})"
   ]
  },
  {
   "cell_type": "code",
   "execution_count": 74,
   "id": "0a4dcc7b-3aae-4604-8093-71c527b3b407",
   "metadata": {},
   "outputs": [],
   "source": [
    "entitynum={}\n",
    "num=1\n",
    "for i in entitydict.keys():\n",
    "    entitynum[i]=num\n",
    "    num+=1"
   ]
  },
  {
   "cell_type": "code",
   "execution_count": 75,
   "id": "a0016065-7705-4e60-976e-080e44cc631d",
   "metadata": {},
   "outputs": [
    {
     "data": {
      "text/plain": [
       "243"
      ]
     },
     "execution_count": 75,
     "metadata": {},
     "output_type": "execute_result"
    }
   ],
   "source": [
    "entitynum.get('APOE')"
   ]
  },
  {
   "cell_type": "code",
   "execution_count": 76,
   "id": "47a70fdb-876d-4816-89ea-5fcab6a30e36",
   "metadata": {},
   "outputs": [],
   "source": [
    "for i in triplelistnew:\n",
    "    i['verb']=i.get('triple')[1]"
   ]
  },
  {
   "cell_type": "code",
   "execution_count": 77,
   "id": "47d25cae-0b86-42a3-8039-8d62f73d72e2",
   "metadata": {},
   "outputs": [],
   "source": [
    "entity_countnum={}\n",
    "relation_countnum={}\n",
    "tripleWeight={}\n",
    "tripleWeightunique=set()\n",
    "for i in triplelistnew:\n",
    "    if i.get('entity_one_transformed')!=i.get('entity_two_transformed'):\n",
    "        if (i.get('entity_one_transformed'),i.get('triple')[1].lower(),i.get('entity_two_transformed'),i.get('PMID')) not in tripleWeightunique:\n",
    "            tripleWeightunique.add((i.get('entity_one_transformed'),i.get('triple')[1].lower(),i.get('entity_two_transformed'),i.get('PMID')))\n",
    "            entity_countnum[i.get('entity_one_transformed')]=entity_countnum.get(i.get('entity_one_transformed'),0)+1\n",
    "            entity_countnum[i.get('entity_two_transformed')]=entity_countnum.get(i.get('entity_two_transformed'),0)+1\n",
    "            relation_countnum[i.get('triple')[1]]=relation_countnum.get(i.get('triple')[1],0)+1\n",
    "            tripleWeight[(i.get('entity_one_transformed'),i.get('triple')[1].lower(), i.get('entity_two_transformed'))]=tripleWeight.get((i.get('entity_one_transformed'),i.get('triple')[1].lower(), i.get('entity_two_transformed')),0)+1"
   ]
  },
  {
   "cell_type": "code",
   "execution_count": 78,
   "id": "ba729adf-dc26-43f3-896b-eb16ca3b0a53",
   "metadata": {},
   "outputs": [
    {
     "data": {
      "text/plain": [
       "6922"
      ]
     },
     "execution_count": 78,
     "metadata": {},
     "output_type": "execute_result"
    }
   ],
   "source": [
    "len(entity_countnum)"
   ]
  },
  {
   "cell_type": "code",
   "execution_count": 79,
   "id": "8e1a380a-830b-484e-a2eb-a783fc963bcf",
   "metadata": {},
   "outputs": [
    {
     "data": {
      "text/plain": [
       "116487"
      ]
     },
     "execution_count": 79,
     "metadata": {},
     "output_type": "execute_result"
    }
   ],
   "source": [
    "len(tripleWeight)"
   ]
  },
  {
   "cell_type": "code",
   "execution_count": 80,
   "id": "a783727a-93cb-4ba7-a022-0574750a7bc6",
   "metadata": {},
   "outputs": [
    {
     "data": {
      "text/plain": [
       "146384"
      ]
     },
     "execution_count": 80,
     "metadata": {},
     "output_type": "execute_result"
    }
   ],
   "source": [
    "len(triplelistnew)"
   ]
  },
  {
   "cell_type": "code",
   "execution_count": 81,
   "id": "d68741ce-c45f-4bec-9cf4-a7a602a2b826",
   "metadata": {},
   "outputs": [
    {
     "data": {
      "text/plain": [
       "{'triple': ['COPD', 'defined', 'inflammatory disorder'],\n",
       " 'PMID': '30781849',\n",
       " 'sentence': '(1) Background: Chronic obstructive pulmonary disease (COPD) is defined as an inflammatory disorder that presents an increasingly prevalent health problem.',\n",
       " 'AB': '(1) Background: Chronic obstructive pulmonary disease (COPD) is defined as an inflammatory disorder that presents an increasingly prevalent health problem. Accelerated aging has been examined as a pathologic mechanism of many chronic diseases like COPD. We examined whether COPD is combined with accelerated aging, studying two hormones, dehydroepiandrosterone (DHEA) and growth hormone (GH), known to be characteristic biological markers of aging. (2) Methods: Data were collected from 119 participants, 70 (58.8%) COPD patients and 49 (41.2%) from a health control group over the period of 2014-2016 in a spirometry program. Information about their medical history, tobacco use, and blood tests was obtained. (3) Results: The average age of the health control patients was 73.5 years (SD = 5.5), and that of the COPD patients was 75.4 years (SD = 6.9). Both groups were similar in age and sex. A greater proportion of smokers were found in the COPD group (87.1%) versus the control group (36.7%). The majority of COPD patients were classified as STAGE II (51.4%) and STAGE III (37.1%) according to GOLD (Global Initiative for Chronic Obstructive Pulmonary Disease). Levels of DHEA (SD = 17.1) and GH (SD = 0.37) were significantly lower in the COPD group (p < 0.001) compared to those in the controls (SD = 26.3, SD = 0.79). DHEA and GH were more significant and negatively correlated with age. The regression equation of DHEA with age produced a coefficient equal to 1.26. In this study, the difference in DHEA between COPD patients and controls was, on average, 30.2 mug/dL, indicating that the biological age of a COPD patient is on average about 24 years older than that of a control subject of the same age. Similarly, the difference in GH between COPD patients and controls was, on average, 0.42 ng/mL, indicating that the biological age of a COPD patient is on average about 13.1 years older than that of a control subject of the same age. (4) Conclusions: The findings of our study strongly suggest the presence of premature biological aging in COPD patients. Their biological age could actually vary from 13 to 23 years older than non-COPD controls according to DHEA and GH variation.',\n",
       " 'entity_one': 'COPD',\n",
       " 'entity_one_type': 'Disease',\n",
       " 'entity_two': 'inflammatory disorder',\n",
       " 'entity_two_type': 'Disease',\n",
       " 'entity_one_transformed': 'Pulmonary Disease, Chronic Obstructive',\n",
       " 'entity_two_transformed': 'Inflammation',\n",
       " 'transformed_triple': ('COPD',\n",
       "  'defined',\n",
       "  'inflammatory disorder',\n",
       "  '30781849'),\n",
       " 'method': ['deep learning', 'shortest path'],\n",
       " 'verb': 'defined'}"
      ]
     },
     "execution_count": 81,
     "metadata": {},
     "output_type": "execute_result"
    }
   ],
   "source": [
    "triplelistnew[0]"
   ]
  },
  {
   "cell_type": "code",
   "execution_count": 82,
   "id": "91be1251-5b67-4a60-9e01-8c905cd5504b",
   "metadata": {},
   "outputs": [],
   "source": [
    "dropout=[]\n",
    "months=['Jan','Feb','Mar','Apr','May','Jun','Jul','Aug','Sep','Oct','Nov','Dec']\n",
    "def cal_date(i):\n",
    "    j=i\n",
    "    if re.search('[S,s]upplement',j,flags=re.M|re.I):\n",
    "        j=re.sub('[S,s]upplement.*','',j,flags=re.M|re.I)\n",
    "    j=re.sub('\\s?-\\s?','-',j)\n",
    "    j=re.sub('\\.','',j)\n",
    "    j=re.sub('Aout','Aug',j)\n",
    "    if len(j.split(' '))==3:\n",
    "        try:\n",
    "            date=int(datetime.datetime.strftime(datetime.datetime.strptime(j,'%Y %b %d'), '%Y%m%d'))\n",
    "        except:\n",
    "            if j.split()[1] in months:\n",
    "                if re.search(r'\\d+',j.split()[2],flags=re.M|re.I):\n",
    "                    j=j.split()[0]+' '+j.split()[1]+' '+ re.search(r'\\d+',j.split()[2],flags=re.M|re.I).group()\n",
    "                    try:\n",
    "                        date=int(datetime.datetime.strftime(datetime.datetime.strptime(j,'%Y %b %d'), '%Y%m%d'))\n",
    "                    except:\n",
    "                        j=j[:4]\n",
    "                        date=int(datetime.datetime.strftime(datetime.datetime.strptime(j,'%Y'), '%Y'+'0101'))\n",
    "                        print('***************************************ERROR**********************************************')\n",
    "                else:\n",
    "                    j=j.split()[0]+' '+j.split()[1]+' '+ '1'\n",
    "                    try:\n",
    "                        date=int(datetime.datetime.strftime(datetime.datetime.strptime(j,'%Y %b %d'), '%Y%m%d'))\n",
    "                    except:\n",
    "                        print(j)\n",
    "                        j=j[:4]\n",
    "                        date=int(datetime.datetime.strftime(datetime.datetime.strptime(j,'%Y'), '%Y'+'0101'))\n",
    "            elif j.split()[1] not in months:\n",
    "                if re.search(r'([a-zA-Z]+)[-/]([a-zA-Z]+)',j.split()[1],flags=re.M|re.I) or re.search(r'([a-zA-Z]+)[-/](\\d+)',j.split()[1],flags=re.M|re.I):\n",
    "                    if re.search(r'([a-zA-Z]+)[-/]([a-zA-Z]+)',j.split()[1],flags=re.M|re.I):\n",
    "                        middle=re.search(r'([a-zA-Z]+)[-/]([a-zA-Z]+)',j.split()[1],flags=re.M|re.I).group(1)\n",
    "                    else:\n",
    "                        middle=re.search(r'([a-zA-Z]+)[-/](\\d+)',j.split()[1],flags=re.M|re.I).group(1)\n",
    "                    if middle in months:\n",
    "                        if re.search(r'\\d+',j.split()[2],flags=re.M|re.I):\n",
    "                            j=j.split()[0]+' '+middle+' '+ re.search(r'\\d+',j.split()[2],flags=re.M|re.I).group()\n",
    "                        else:\n",
    "                            j=j.split()[0]+' '+middle+' '+ '1'\n",
    "                    elif re.match(r'Sum(mer)?',middle):\n",
    "                        if re.search(r'\\d+',j.split()[2],flags=re.M|re.I):\n",
    "                            j=j.split()[0]+' '+'Jun'+' '+ re.search(r'\\d+',j.split()[2],flags=re.M|re.I).group()\n",
    "                        else:\n",
    "                            j=j.split()[0]+' '+'Jun'+' '+ '1'\n",
    "                    elif re.match(r'Spr(ing)?',middle):\n",
    "                        if re.search(r'\\d+',j.split()[2],flags=re.M|re.I):\n",
    "                            j=j.split()[0]+' '+'Mar'+' '+ re.search(r'\\d+',j.split()[2],flags=re.M|re.I).group()\n",
    "                        else:\n",
    "                            j=j.split()[0]+' '+'Mar'+' '+ '1'\n",
    "                    elif re.match(r'Win(ter)?',middle):\n",
    "                        if re.search(r'\\d+',j.split()[2],flags=re.M|re.I):\n",
    "                            j=j.split()[0]+' '+'Dec'+' '+ re.search(r'\\d+',j.split()[2],flags=re.M|re.I).group()\n",
    "                        else:\n",
    "                            j=j.split()[0]+' '+'Dec'+' '+ '1'    \n",
    "                    elif re.match(r'Aut(umn)?',middle) or \\\n",
    "                    re.match(r'Fall',middle):\n",
    "                        if re.search(r'\\d+',j.split()[2],flags=re.M|re.I):\n",
    "                            j=j.split()[0]+' '+'Sep'+' '+ re.search(r'\\d+',j.split()[2],flags=re.M|re.I).group()\n",
    "                        else:\n",
    "                            j=j.split()[0]+' '+'Sep'+' '+ '1'      \n",
    "                    try:\n",
    "                        date=int(datetime.datetime.strftime(datetime.datetime.strptime(j,'%Y %b %d'), '%Y%m%d'))\n",
    "                    except:\n",
    "                        print(j)\n",
    "                        j=j[:4]\n",
    "                        date=int(datetime.datetime.strftime(datetime.datetime.strptime(j,'%Y'), '%Y'+'0101'))\n",
    "                else:\n",
    "                    j=j[:4]\n",
    "                    date=int(datetime.datetime.strftime(datetime.datetime.strptime(j,'%Y'), '%Y'+'0101'))\n",
    "    elif len(j.split())==2:\n",
    "        if re.match(r'Sum(mer)?',j.split()[1]):\n",
    "            date=int(j[:4]+'0601')\n",
    "        elif re.match(r'Spr(ing)?',j.split()[1]):\n",
    "            date=int(j[:4]+'0301')\n",
    "        elif re.match(r'Win(ter)?',j.split()[1]):\n",
    "            date=int(j[:4]+'1201')\n",
    "        elif re.match(r'Aut(umn)?',j.split()[1]) or re.match(r'Fall',j.split()[1]):\n",
    "            date=int(j[:4]+'0901')\n",
    "        elif re.match(r'Sum(mer)?',j.split()[0]):\n",
    "            date=int(j[-4:]+'0601')\n",
    "        elif re.match(r'Spr(ing)?',j.split()[0]):\n",
    "            date=int(j[-4:]+'0301')\n",
    "        elif re.match(r'Win(ter)?',j.split()[0]):\n",
    "            date=int(j[-4:]+'1201')\n",
    "        elif re.match(r'Aut(umn)?',j.split()[0]) or re.match(r'Fall',j.split()[0]):\n",
    "            date=int(j[-4:]+'0901')\n",
    "        else:\n",
    "            try:\n",
    "                date=int(datetime.datetime.strftime(datetime.datetime.strptime(j,'%Y %b'), '%Y%m'+'01'))\n",
    "            except:\n",
    "                if re.search(r'([a-zA-Z]+)[-/]([a-zA-Z]+)',j.split()[1],flags=re.M|re.I) or re.search(r'([a-zA-Z]+)[-/](\\d+)',j.split()[1],flags=re.M|re.I):\n",
    "                    if re.search(r'([a-zA-Z]+)[-/]([a-zA-Z]+)',j.split()[1],flags=re.M|re.I):\n",
    "                        middle=re.search(r'([a-zA-Z]+)[-/]([a-zA-Z]+)',j.split()[1],flags=re.M|re.I).group(1)\n",
    "                    else:\n",
    "                        middle=re.search(r'([a-zA-Z]+)[-/](\\d+)',j.split()[1],flags=re.M|re.I).group(1)\n",
    "                    if middle in months:\n",
    "                        j=j.split()[0]+' '+middle+' '+ '1'\n",
    "                    elif re.match(r'Sum(mer)?',middle):\n",
    "                        j=j.split()[0]+' '+'Jun'+' '+ '1'\n",
    "                    elif re.match(r'Spr(ing)?',middle):\n",
    "                        j=j.split()[0]+' '+'Mar'+' '+ '1'\n",
    "                    elif re.match(r'Win(ter)?',middle):\n",
    "                        j=j.split()[0]+' '+'Dec'+' '+ '1'    \n",
    "                    elif re.match(r'Aut(umn)?',middle) or \\\n",
    "                    re.match(r'Fall',middle):\n",
    "                        j=j.split()[0]+' '+'Sep'+' '+ '1'      \n",
    "                    try:\n",
    "                        date=int(datetime.datetime.strftime(datetime.datetime.strptime(j,'%Y %b %d'), '%Y%m%d'))\n",
    "                    except:\n",
    "                        j=j[:4]\n",
    "                        date=int(datetime.datetime.strftime(datetime.datetime.strptime(j,'%Y'), '%Y'+'0101'))\n",
    "                elif re.search(r'(\\d+)[-/](\\d+)',j.split()[1],flags=re.M|re.I):\n",
    "                    midd=re.search(r'(\\d+)[-/](\\d+)',j.split()[1],flags=re.M|re.I).group(1)\n",
    "                    if len(midd)!=2:\n",
    "                        midd='0'+midd\n",
    "                    j=j[:4]\n",
    "                    date=int(datetime.datetime.strftime(datetime.datetime.strptime(j,'%Y'), '%Y'+midd+'01'))\n",
    "                else:\n",
    "                    print(j)\n",
    "                    j=j[:4]\n",
    "                    date=int(datetime.datetime.strftime(datetime.datetime.strptime(j,'%Y'), '%Y'+'0101'))\n",
    "    elif len(j.split())==1:\n",
    "        j=j[:4]\n",
    "        date=int(datetime.datetime.strftime(datetime.datetime.strptime(j,'%Y'), '%Y'+'0101'))\n",
    "    else:\n",
    "        j=j.split()[0]+' '+j.split()[1]+' '+re.search(r'\\d+',j.split()[2],flags=re.M|re.I).group()\n",
    "        date=int(datetime.datetime.strftime(datetime.datetime.strptime(j,'%Y %b %d'), '%Y%m%d'))\n",
    "    return date"
   ]
  },
  {
   "cell_type": "code",
   "execution_count": 83,
   "id": "9cd98161-67da-4eee-871a-22eb4fe474db",
   "metadata": {},
   "outputs": [],
   "source": [
    "for i in triplelistnew:\n",
    "    if jt2if_brief.get(pubtator_info_dict.get(i.get('PMID')).get('TA').lower()):\n",
    "        i['IF']=jt2if_brief.get(pubtator_info_dict.get(i.get('PMID')).get('TA').lower())\n",
    "    elif jt2if_all.get(pubtator_info_dict.get(i.get('PMID')).get('JT').lower()):\n",
    "        i['IF']=jt2if_all.get(pubtator_info_dict.get(i.get('PMID')).get('JT').lower())\n",
    "    else:\n",
    "        i['IF']=0.0\n",
    "    if jt2if5_brief.get(pubtator_info_dict.get(i.get('PMID')).get('TA').lower()):\n",
    "        i['IF5']=jt2if5_brief.get(pubtator_info_dict.get(i.get('PMID')).get('TA').lower())\n",
    "    elif jt2if5_all.get(pubtator_info_dict.get(i.get('PMID')).get('JT').lower()):\n",
    "        i['IF5']=jt2if5_all.get(pubtator_info_dict.get(i.get('PMID')).get('JT').lower())\n",
    "    else:\n",
    "        i['IF5']=0.0"
   ]
  },
  {
   "cell_type": "code",
   "execution_count": 84,
   "id": "8f359558-3d2b-42c7-94b1-daca5513ce0c",
   "metadata": {},
   "outputs": [
    {
     "data": {
      "text/plain": [
       "{'triple': ['COPD', 'defined', 'inflammatory disorder'],\n",
       " 'PMID': '30781849',\n",
       " 'sentence': '(1) Background: Chronic obstructive pulmonary disease (COPD) is defined as an inflammatory disorder that presents an increasingly prevalent health problem.',\n",
       " 'AB': '(1) Background: Chronic obstructive pulmonary disease (COPD) is defined as an inflammatory disorder that presents an increasingly prevalent health problem. Accelerated aging has been examined as a pathologic mechanism of many chronic diseases like COPD. We examined whether COPD is combined with accelerated aging, studying two hormones, dehydroepiandrosterone (DHEA) and growth hormone (GH), known to be characteristic biological markers of aging. (2) Methods: Data were collected from 119 participants, 70 (58.8%) COPD patients and 49 (41.2%) from a health control group over the period of 2014-2016 in a spirometry program. Information about their medical history, tobacco use, and blood tests was obtained. (3) Results: The average age of the health control patients was 73.5 years (SD = 5.5), and that of the COPD patients was 75.4 years (SD = 6.9). Both groups were similar in age and sex. A greater proportion of smokers were found in the COPD group (87.1%) versus the control group (36.7%). The majority of COPD patients were classified as STAGE II (51.4%) and STAGE III (37.1%) according to GOLD (Global Initiative for Chronic Obstructive Pulmonary Disease). Levels of DHEA (SD = 17.1) and GH (SD = 0.37) were significantly lower in the COPD group (p < 0.001) compared to those in the controls (SD = 26.3, SD = 0.79). DHEA and GH were more significant and negatively correlated with age. The regression equation of DHEA with age produced a coefficient equal to 1.26. In this study, the difference in DHEA between COPD patients and controls was, on average, 30.2 mug/dL, indicating that the biological age of a COPD patient is on average about 24 years older than that of a control subject of the same age. Similarly, the difference in GH between COPD patients and controls was, on average, 0.42 ng/mL, indicating that the biological age of a COPD patient is on average about 13.1 years older than that of a control subject of the same age. (4) Conclusions: The findings of our study strongly suggest the presence of premature biological aging in COPD patients. Their biological age could actually vary from 13 to 23 years older than non-COPD controls according to DHEA and GH variation.',\n",
       " 'entity_one': 'COPD',\n",
       " 'entity_one_type': 'Disease',\n",
       " 'entity_two': 'inflammatory disorder',\n",
       " 'entity_two_type': 'Disease',\n",
       " 'entity_one_transformed': 'Pulmonary Disease, Chronic Obstructive',\n",
       " 'entity_two_transformed': 'Inflammation',\n",
       " 'transformed_triple': ('COPD',\n",
       "  'defined',\n",
       "  'inflammatory disorder',\n",
       "  '30781849'),\n",
       " 'method': ['deep learning', 'shortest path'],\n",
       " 'verb': 'defined',\n",
       " 'IF': 0.0,\n",
       " 'IF5': 0.0}"
      ]
     },
     "execution_count": 84,
     "metadata": {},
     "output_type": "execute_result"
    }
   ],
   "source": [
    "triplelistnew[0]"
   ]
  },
  {
   "cell_type": "code",
   "execution_count": 85,
   "id": "713db686-d05e-4a38-ba73-efc833b0bdab",
   "metadata": {},
   "outputs": [],
   "source": [
    "relation_interpolation_list=[]\n",
    "relation_interpolation_dict={}\n",
    "for i in triplelistnew:\n",
    "    if (i.get('entity_one_transformed'),i.get('triple')[1], i.get('entity_two_transformed')) not in relation_interpolation_dict.keys():\n",
    "        relation_interpolation_dict[(i.get('entity_one_transformed'),i.get('triple')[1], i.get('entity_two_transformed'))]={'from':entitynum.get(i.get('entity_one_transformed'))-1,\n",
    "                                   'to':entitynum.get(i.get('entity_two_transformed'))-1,'relation':i.get('triple')[1],\n",
    "                                   'PMID':[i.get('PMID')],'sentence':[i.get('sentence')],\n",
    "                                   'DP':[pubtator_info_dict.get(i.get('PMID')).get('DP')],\n",
    "                                   'TI':[pubtator_info_dict.get(i.get('PMID')).get('TI')],\n",
    "                                    'TA':[pubtator_info_dict.get(i.get('PMID')).get('TA')],\n",
    "                                    'IF':[i.get('IF')],   'IF5':[i.get('IF5')],   \n",
    "                                    'date':[cal_date(pubtator_info_dict.get(i.get('PMID')).get('DP'))],\n",
    "                                    'first_entity_transformed':i.get('entity_one_transformed'),'second_entity_transformed':i.get('entity_two_transformed'),                                                     \n",
    "                                    'first_entity':[i.get('entity_one')],'second_entity':[i.get('entity_two')],\n",
    "                                    'first_type':entitydict_tolist.get(i.get('entity_one_transformed')),'second_type':entitydict_tolist.get(i.get('entity_two_transformed')),\n",
    "                                     'method':[', '.join(i.get('method'))]\n",
    "                                                                                                                           }\n",
    "    else:\n",
    "        relation_interpolation_dict[(i.get('entity_one_transformed'),i.get('triple')[1], i.get('entity_two_transformed'))]['PMID']=relation_interpolation_dict.get((i.get('entity_one_transformed'),i.get('triple')[1], i.get('entity_two_transformed'))).get('PMID')+[i.get('PMID')]\n",
    "        relation_interpolation_dict[(i.get('entity_one_transformed'),i.get('triple')[1], i.get('entity_two_transformed'))]['sentence']=relation_interpolation_dict.get((i.get('entity_one_transformed'),i.get('triple')[1], i.get('entity_two_transformed'))).get('sentence')+[i.get('sentence')]\n",
    "        relation_interpolation_dict[(i.get('entity_one_transformed'),i.get('triple')[1], i.get('entity_two_transformed'))]['first_entity']=relation_interpolation_dict.get((i.get('entity_one_transformed'),i.get('triple')[1], i.get('entity_two_transformed'))).get('first_entity')+[i.get('entity_one')]\n",
    "        relation_interpolation_dict[(i.get('entity_one_transformed'),i.get('triple')[1], i.get('entity_two_transformed'))]['second_entity']=relation_interpolation_dict.get((i.get('entity_one_transformed'),i.get('triple')[1], i.get('entity_two_transformed'))).get('second_entity')+[i.get('entity_two')]\n",
    "        relation_interpolation_dict[(i.get('entity_one_transformed'),i.get('triple')[1], i.get('entity_two_transformed'))]['DP']=relation_interpolation_dict.get((i.get('entity_one_transformed'),i.get('triple')[1], i.get('entity_two_transformed'))).get('DP')+[pubtator_info_dict.get(i.get('PMID')).get('DP')]\n",
    "        relation_interpolation_dict[(i.get('entity_one_transformed'),i.get('triple')[1], i.get('entity_two_transformed'))]['TI']=relation_interpolation_dict.get((i.get('entity_one_transformed'),i.get('triple')[1], i.get('entity_two_transformed'))).get('TI')+[pubtator_info_dict.get(i.get('PMID')).get('TI')]\n",
    "        relation_interpolation_dict[(i.get('entity_one_transformed'),i.get('triple')[1], i.get('entity_two_transformed'))]['TA']=relation_interpolation_dict.get((i.get('entity_one_transformed'),i.get('triple')[1], i.get('entity_two_transformed'))).get('TA')+[pubtator_info_dict.get(i.get('PMID')).get('TA')]\n",
    "        relation_interpolation_dict[(i.get('entity_one_transformed'),i.get('triple')[1], i.get('entity_two_transformed'))]['date']=relation_interpolation_dict.get((i.get('entity_one_transformed'),i.get('triple')[1], i.get('entity_two_transformed'))).get('date')+[cal_date(pubtator_info_dict.get(i.get('PMID')).get('DP'))]\n",
    "        relation_interpolation_dict[(i.get('entity_one_transformed'),i.get('triple')[1], i.get('entity_two_transformed'))]['IF']=relation_interpolation_dict.get((i.get('entity_one_transformed'),i.get('triple')[1], i.get('entity_two_transformed'))).get('IF')+[i.get('IF')]\n",
    "        relation_interpolation_dict[(i.get('entity_one_transformed'),i.get('triple')[1], i.get('entity_two_transformed'))]['IF5']=relation_interpolation_dict.get((i.get('entity_one_transformed'),i.get('triple')[1], i.get('entity_two_transformed'))).get('IF5')+[i.get('IF5')]\n",
    "        relation_interpolation_dict[(i.get('entity_one_transformed'),i.get('triple')[1], i.get('entity_two_transformed'))]['method']=relation_interpolation_dict.get((i.get('entity_one_transformed'),i.get('triple')[1], i.get('entity_two_transformed'))).get('method')+[', '.join(i.get('method'))]"
   ]
  },
  {
   "cell_type": "code",
   "execution_count": 86,
   "id": "c7c5c55b-a3c8-4639-9727-1982f6f32d17",
   "metadata": {},
   "outputs": [
    {
     "data": {
      "text/plain": [
       "(('Sarcopenia', 'associated', 'Constipation'),\n",
       " {'from': 3,\n",
       "  'to': 13,\n",
       "  'relation': 'associated',\n",
       "  'PMID': ['34769606'],\n",
       "  'sentence': ['(4) Conclusions: Sarcopenia and slow gait speed associated with constipation in community-dwelling older adults.'],\n",
       "  'DP': ['2021 Oct 21'],\n",
       "  'TI': ['Status of Constipation and Its Association with Sarcopenia in Older Adults: A Population-Based Cohort Study.'],\n",
       "  'TA': ['Int J Environ Res Public Health'],\n",
       "  'IF': [0.0],\n",
       "  'IF5': [0.0],\n",
       "  'date': [20211021],\n",
       "  'first_entity_transformed': 'Sarcopenia',\n",
       "  'second_entity_transformed': 'Constipation',\n",
       "  'first_entity': ['Sarcopenia'],\n",
       "  'second_entity': ['constipation'],\n",
       "  'first_type': ['Disease'],\n",
       "  'second_type': ['Disease'],\n",
       "  'method': ['open domain']})"
      ]
     },
     "execution_count": 86,
     "metadata": {},
     "output_type": "execute_result"
    }
   ],
   "source": [
    "list(relation_interpolation_dict.items())[10]"
   ]
  },
  {
   "cell_type": "code",
   "execution_count": 87,
   "id": "9749e0fb-1bf3-4bd0-ad62-ebd772b8d877",
   "metadata": {},
   "outputs": [
    {
     "data": {
      "text/plain": [
       "116495"
      ]
     },
     "execution_count": 87,
     "metadata": {},
     "output_type": "execute_result"
    }
   ],
   "source": [
    "len(relation_interpolation_dict)"
   ]
  },
  {
   "cell_type": "code",
   "execution_count": 88,
   "id": "4c83650e-0ff2-46a2-aefc-91887289b030",
   "metadata": {},
   "outputs": [],
   "source": [
    "relation_interpolation_list=list(relation_interpolation_dict.values())"
   ]
  },
  {
   "cell_type": "code",
   "execution_count": 89,
   "id": "aae86e51-3119-4ae9-85d1-ca6b58ddc468",
   "metadata": {},
   "outputs": [
    {
     "data": {
      "text/plain": [
       "116495"
      ]
     },
     "execution_count": 89,
     "metadata": {},
     "output_type": "execute_result"
    }
   ],
   "source": [
    "len(relation_interpolation_list)"
   ]
  },
  {
   "cell_type": "code",
   "execution_count": 90,
   "id": "8728c501-48fd-4ec4-846b-9dc424c55f7e",
   "metadata": {},
   "outputs": [],
   "source": [
    "entity2content={}\n",
    "for i,j in enumerate(triplelistnew):\n",
    "    if j.get('entity_one_transformed') in entity2content.keys():\n",
    "        entity2content[j.get('entity_one_transformed')]['sentence']=entity2content.get(j.get('entity_one_transformed')).get('sentence')+[j.get('sentence')]\n",
    "        entity2content[j.get('entity_one_transformed')]['PMID']=entity2content.get(j.get('entity_one_transformed')).get('PMID')+[j.get('PMID')]\n",
    "        entity2content[j.get('entity_one_transformed')]['entity']=entity2content.get(j.get('entity_one_transformed')).get('entity')+[j.get('entity_one')]\n",
    "        entity2content[j.get('entity_one_transformed')]['DP']=entity2content.get(j.get('entity_one_transformed')).get('DP')+[pubtator_info_dict.get(j.get('PMID')).get('DP')]\n",
    "        entity2content[j.get('entity_one_transformed')]['TI']=entity2content.get(j.get('entity_one_transformed')).get('TI')+[pubtator_info_dict.get(j.get('PMID')).get('TI')]\n",
    "        entity2content[j.get('entity_one_transformed')]['TA']=entity2content.get(j.get('entity_one_transformed')).get('TA')+[pubtator_info_dict.get(j.get('PMID')).get('TA')]\n",
    "        entity2content[j.get('entity_one_transformed')]['date']=entity2content.get(j.get('entity_one_transformed')).get('date')+[cal_date(pubtator_info_dict.get(j.get('PMID')).get('DP'))]\n",
    "        entity2content[j.get('entity_one_transformed')]['IF']=entity2content.get(j.get('entity_one_transformed')).get('IF')+[j.get('IF')]\n",
    "        entity2content[j.get('entity_one_transformed')]['IF5']=entity2content.get(j.get('entity_one_transformed')).get('IF5')+[j.get('IF5')]\n",
    "        entity2content[j.get('entity_one_transformed')]['method']=entity2content.get(j.get('entity_one_transformed')).get('method')+[', '.join(j.get('method'))]\n",
    "    else:\n",
    "        entity2content[j.get('entity_one_transformed')]={'entity_transformed':j.get('entity_one_transformed'),'entity':[j.get('entity_one')],'sentence':[j.get('sentence')],'PMID':[j.get('PMID')],\n",
    "                                                         'DP':[pubtator_info_dict.get(j.get('PMID')).get('DP')],'TI':[pubtator_info_dict.get(j.get('PMID')).get('TI')],\n",
    "                                                        'TA':[pubtator_info_dict.get(j.get('PMID')).get('TA')],'date':[cal_date(pubtator_info_dict.get(j.get('PMID')).get('DP'))],\n",
    "                                                        'IF':[j.get('IF')],'IF5':[j.get('IF5')],'method':[', '.join(j.get('method'))]}\n",
    "    if j.get('entity_two_transformed') in entity2content.keys():\n",
    "        entity2content[j.get('entity_two_transformed')]['sentence']=entity2content.get(j.get('entity_two_transformed')).get('sentence')+[j.get('sentence')]\n",
    "        entity2content[j.get('entity_two_transformed')]['PMID']=entity2content.get(j.get('entity_two_transformed')).get('PMID')+[j.get('PMID')]\n",
    "        entity2content[j.get('entity_two_transformed')]['entity']=entity2content.get(j.get('entity_two_transformed')).get('entity')+[j.get('entity_two')]\n",
    "        entity2content[j.get('entity_two_transformed')]['DP']=entity2content.get(j.get('entity_two_transformed')).get('DP')+[pubtator_info_dict.get(j.get('PMID')).get('DP')]\n",
    "        entity2content[j.get('entity_two_transformed')]['TI']=entity2content.get(j.get('entity_two_transformed')).get('TI')+[pubtator_info_dict.get(j.get('PMID')).get('TI')]\n",
    "        entity2content[j.get('entity_two_transformed')]['TA']=entity2content.get(j.get('entity_two_transformed')).get('TA')+[pubtator_info_dict.get(j.get('PMID')).get('TA')]\n",
    "        entity2content[j.get('entity_two_transformed')]['date']=entity2content.get(j.get('entity_two_transformed')).get('date')+[cal_date(pubtator_info_dict.get(j.get('PMID')).get('DP'))]\n",
    "        entity2content[j.get('entity_two_transformed')]['IF']=entity2content.get(j.get('entity_two_transformed')).get('IF')+[j.get('IF')]\n",
    "        entity2content[j.get('entity_two_transformed')]['IF5']=entity2content.get(j.get('entity_two_transformed')).get('IF5')+[j.get('IF5')]\n",
    "        entity2content[j.get('entity_two_transformed')]['method']=entity2content.get(j.get('entity_two_transformed')).get('method')+[', '.join(j.get('method'))]\n",
    "    else:\n",
    "        entity2content[j.get('entity_two_transformed')]={'entity_transformed':j.get('entity_two_transformed'),'entity':[j.get('entity_two')],'sentence':[j.get('sentence')],'PMID':[j.get('PMID')],\n",
    "                                                         'DP':[pubtator_info_dict.get(j.get('PMID')).get('DP')],'TI':[pubtator_info_dict.get(j.get('PMID')).get('TI')],\n",
    "                                                        'TA':[pubtator_info_dict.get(j.get('PMID')).get('TA')],'date':[cal_date(pubtator_info_dict.get(j.get('PMID')).get('DP'))],\n",
    "                                                        'IF':[j.get('IF')],'IF5':[j.get('IF5')],'method':[', '.join(j.get('method'))]}"
   ]
  },
  {
   "cell_type": "code",
   "execution_count": 91,
   "id": "f680a4e3-7be1-410a-92be-30f1a1410f3c",
   "metadata": {},
   "outputs": [
    {
     "data": {
      "text/plain": [
       "6922"
      ]
     },
     "execution_count": 91,
     "metadata": {},
     "output_type": "execute_result"
    }
   ],
   "source": [
    "len(entity2content)"
   ]
  },
  {
   "cell_type": "code",
   "execution_count": 92,
   "id": "7e1f42c3-08e0-48d5-8e76-9caa84a048d3",
   "metadata": {},
   "outputs": [],
   "source": [
    "entity2list=list(entity2content.values())"
   ]
  },
  {
   "cell_type": "code",
   "execution_count": 93,
   "id": "8fed53ff-496d-429c-a1fd-9c553cc9c7c7",
   "metadata": {},
   "outputs": [
    {
     "data": {
      "text/plain": [
       "6922"
      ]
     },
     "execution_count": 93,
     "metadata": {},
     "output_type": "execute_result"
    }
   ],
   "source": [
    "len(entity2list)"
   ]
  },
  {
   "cell_type": "code",
   "execution_count": 94,
   "id": "e6af434a-0c6f-40c7-abb0-48cfa50c1bf1",
   "metadata": {},
   "outputs": [],
   "source": [
    "for i in entity2list:\n",
    "    i['_id']=i.get('entity_transformed')"
   ]
  },
  {
   "cell_type": "code",
   "execution_count": 95,
   "id": "a942e5cb-92a5-41c5-88a6-7e67ac2b486f",
   "metadata": {},
   "outputs": [
    {
     "data": {
      "text/plain": [
       "'Disease'"
      ]
     },
     "execution_count": 95,
     "metadata": {},
     "output_type": "execute_result"
    }
   ],
   "source": [
    "entitydict.get(entity2list[0].get('entity_transformed'))"
   ]
  },
  {
   "cell_type": "code",
   "execution_count": 96,
   "id": "0f5cd222-86d7-40af-a796-813c657e78a8",
   "metadata": {},
   "outputs": [],
   "source": [
    "for i in entity2list:\n",
    "    i['type']=entitydict.get(i.get('entity_transformed')).split(';')"
   ]
  },
  {
   "cell_type": "code",
   "execution_count": 97,
   "id": "90ad8f14-2cbb-4679-a947-2271ec4f55db",
   "metadata": {},
   "outputs": [
    {
     "data": {
      "text/plain": [
       "6922"
      ]
     },
     "execution_count": 97,
     "metadata": {},
     "output_type": "execute_result"
    }
   ],
   "source": [
    "len(entity2list)"
   ]
  },
  {
   "cell_type": "code",
   "execution_count": 98,
   "id": "e3c37627-f2de-4b85-9dd3-f28068480cad",
   "metadata": {},
   "outputs": [],
   "source": [
    "json.dump(entity2list,open('results/step4/entityinfo.json','w'))"
   ]
  },
  {
   "cell_type": "code",
   "execution_count": 99,
   "id": "1479f65e-f2bf-411e-92d6-bd0413161e93",
   "metadata": {},
   "outputs": [
    {
     "name": "stdout",
     "output_type": "stream",
     "text": [
      "{'entity_transformed': 'HMGB1', 'entity': ['HMGB1', 'HMGB1', 'HMGB1', 'HMGB1', 'HMGB1', 'HMGB1', 'HMGB1', 'HMGB1', 'HMGB1', 'HMGB1', 'HMGB1', 'HMGB1', 'HMGB1', 'HMGB1', 'HMGB1', 'HMGB1', 'HMGB1', 'HMGB1', 'HMGB1', 'HMGB1', 'HMGB1', 'HMGB1', 'HMGB1', 'HMGB1', 'HMGB1', 'HMGB1', 'HMGB1', 'HMGB1', 'HMGB1', 'HMGB1', 'HMGB1', 'HMGB1'], 'sentence': ['In an in vitro study we used the 18-beta-stereoisomer of GTA to enhance Sirt6 expression levels, inhibiting through this mechanism the translocation of HMGB1 protein from nucleus and reversing its extracellular accumulation stimulated by lipopolysaccharides.', 'In an in vitro study we used the 18-beta-stereoisomer of GTA to enhance Sirt6 expression levels, inhibiting through this mechanism the translocation of HMGB1 protein from nucleus and reversing its extracellular accumulation stimulated by lipopolysaccharides.', 'In an in vitro study we used the 18-beta-stereoisomer of GTA to enhance Sirt6 expression levels, inhibiting through this mechanism the translocation of HMGB1 protein from nucleus and reversing its extracellular accumulation stimulated by lipopolysaccharides.', 'The identified antigens showed cellular accumulation (p53), aberrant cellular expression (high mobility group B1 (HMGB1)) and overexpression (tripartite motif-containing 28 (TRIM28), p53, HMGB1, transcription factor 3 (TCF3), longevity assurance gene homologue 5 (LASS5) and zinc finger protein 346 (ZNF346)) in colorectal cancer tissue compared with normal colorectal mucosa.', 'Collectively, TauO-induced HMGB1 release promotes cellular senescence and neuropathology, which could represent an important common pathomechanism in tauopathies including AD and FTD.', 'Collectively, TauO-induced HMGB1 release promotes cellular senescence and neuropathology, which could represent an important common pathomechanism in tauopathies including AD and FTD.', 'Dysregulated systemic inflammation is a classic characteristic of sepsis, and suppression of HMGB1 may ameliorate inflammation and improve patient outcomes.', 'Dysregulated systemic inflammation is a classic characteristic of sepsis, and suppression of HMGB1 may ameliorate inflammation and improve patient outcomes.', 'High-mobility group box 1 (HMGB1) is a nuclear protein that triggers inflammation when released from activated immune or necrotic cells and drives the pathogenesis of various infectious agents.', 'High-mobility group box 1 (HMGB1) is a nuclear protein that triggers inflammation when released from activated immune or necrotic cells and drives the pathogenesis of various infectious agents.', 'Notably, restoring this pathway by elevating HMGB1 expression largely offset the protective function of CuE against LPS-triggered cell injury, inflammatory response and MUC5AC expression.', 'In particular, the protective effect of AQP4 reduction following HMGB1 neutralization was noteworthy.', 'We found that depletion of Sirt6 suppressed the number of human nasal epithelial cell cilia, and dramatically induced HMGB1 translocation from nucleus to cytoplasm in the HNE cells.', 'Linear regression analysis showed that HMGB1 and MyD88 positively correlated with CTSB among the whole healthy people.', 'Rise of myokine irisin induced by exercise correlated inversely with HMGB1 and the correlation was more pronounced at the baseline as well as after training among MVD participants.', 'Rise of myokine irisin induced by exercise correlated inversely with HMGB1 and the correlation was more pronounced at the baseline as well as after training among MVD participants.', 'Here we show that high mobility group box 1 (HMGB1) is released following fracture in both humans and mice, forms a heterocomplex with CXCL12, and acts via CXCR4 to accelerate skeletal, hematopoietic, and muscle regeneration in vivo.', 'HMGB1 led to sustained increase in cell cycling in vivo, and using Hmgb1-/- mice we identified the underlying mechanism as the transition of multiple quiescent stem cells from G0 to GAlert HMGB1 also transitions human stem and progenitor cells to GAlert Therefore, exogenous HMGB1 may benefit patients in many clinical scenarios, including trauma, chemotherapy, and elective surgery.', 'Current evidence suggests that HMGB1 plays a pivotal role in human pathological and pathophysiological processes such as the inflammatory response, immune reactions, cell migration, aging, and cell death.', 'This review highlights recent advances related to HMGB1: the regulation of HMBG1 might be helpful for both basic research and drug development for the treatment of sepsis and sepsis-related organ injury.', 'Immunofluorescence microscopy and Western blotting results showed that RSV infection of human airway epithelial cells induced a significant release of HMGB1 as a result of translocation of HMGB1 from the cell nuclei to the cytoplasm and subsequent release into the extracellular space.', 'Although HMGB1 has been implicated in many inflammatory diseases, its role in RSV-induced airway inflammation has not been investigated.', 'HMGB1 is a ubiquitous redox-sensitive multifunctional protein that serves as both a DNA regulatory protein and an extracellular cytokine signaling molecule that promotes airway inflammation as a damage-associated molecular pattern.', 'Finally, HMGB1 released by airway epithelial cells due to RSV infection appears to function as a paracrine factor priming epithelial cells and monocytes to inflammatory stimuli in the airways.', 'Several such biomarkers were identified, namely transmembrane TNFalpha (tmTNF), human serum albumin (HSA) and its half-life receptor, the neonatal Fc receptor (FcRn) which is also involved in IgG lifespan; calprotectin, high mobility group protein B1 (HMGB1) and advanced glycation end products (AGEs) whose overexpression lead to excessive production of pro-inflammatory cytokines; lymphotoxin alpha (LTalpha) which induces inflammation by binding to TNF receptor (TNFR); and T helper 17 (Th17) cells which induce inflammation by IL-17A secretion.', 'Twenty-two obese subjects were prospectively enrolled.HMGB1 values were 12.6 +- 2ng/ml, significantly higher compared to a previously studied healthy control group.', 'Mechanistically, asbestos carcinogenesis has been linked to the asbestos-induced release of HMGB1 from the nucleus to the cytoplasm, where HMGB1 promotes autophagy and cell survival, and to the extracellular space where HMGB1 promotes chronic inflammation and mesothelioma growth.', 'Mechanistically, asbestos carcinogenesis has been linked to the asbestos-induced release of HMGB1 from the nucleus to the cytoplasm, where HMGB1 promotes autophagy and cell survival, and to the extracellular space where HMGB1 promotes chronic inflammation and mesothelioma growth.', 'Mechanistically, asbestos carcinogenesis has been linked to the asbestos-induced release of HMGB1 from the nucleus to the cytoplasm, where HMGB1 promotes autophagy and cell survival, and to the extracellular space where HMGB1 promotes chronic inflammation and mesothelioma growth.', 'Targeting HMGB1 inhibited asbestos carcinogenesis and the growth of mesothelioma.', 'Targeting HMGB1 inhibited asbestos carcinogenesis and the growth of mesothelioma.', 'It is hoped that targeting HMGB1 will be a novel therapeutic strategy that benefits mesothelioma patients.'], 'PMID': ['28685526', '28685526', '28685526', '19828471', '34289368', '34289368', '34040166', '34040166', '27535058', '27535058', '31525576', '34650163', '28685526', '26130428', '28316011', '28316011', '29674451', '29674451', '34040166', '34040166', '27535058', '27535058', '27535058', '27535058', '36508130', '31630719', '37880686', '37880686', '37880686', '37880686', '37880686', '37880686'], 'DP': ['2017 Apr-Jun', '2017 Apr-Jun', '2017 Apr-Jun', '2010 Jan', '2021 Jul 20', '2021 Jul 20', '2022 Mar', '2022 Mar', '2016 Nov 1', '2016 Nov 1', '2019 Oct', '2021 Oct 14', '2017 Apr-Jun', '2016 Apr', '2017 Aug', '2017 Aug', '2018 May 8', '2018 May 8', '2022 Mar', '2022 Mar', '2016 Nov 1', '2016 Nov 1', '2016 Nov 1', '2016 Nov 1', '2023 Feb', '2019 Sep-Oct', '2023 Oct 25', '2023 Oct 25', '2023 Oct 25', '2023 Oct 25', '2023 Oct 25', '2023 Oct 25'], 'TI': ['Glycyrrhetinic acid suppressed hmgb1 release by up-regulation of Sirt6 in nasal inflammation.', 'Glycyrrhetinic acid suppressed hmgb1 release by up-regulation of Sirt6 in nasal inflammation.', 'Glycyrrhetinic acid suppressed hmgb1 release by up-regulation of Sirt6 in nasal inflammation.', 'Human IgG antibody profiles differentiate between symptomatic patients with and without colorectal cancer.', \"Tau oligomer induced HMGB1 release contributes to cellular senescence and neuropathology linked to Alzheimer's disease and frontotemporal dementia.\", \"Tau oligomer induced HMGB1 release contributes to cellular senescence and neuropathology linked to Alzheimer's disease and frontotemporal dementia.\", 'Targeting HMGB1 for the treatment of sepsis and sepsis-induced organ injury.', 'Targeting HMGB1 for the treatment of sepsis and sepsis-induced organ injury.', 'Respiratory Syncytial Virus Infection Triggers Epithelial HMGB1 Release as a Damage-Associated Molecular Pattern Promoting a Monocytic Inflammatory Response.', 'Respiratory Syncytial Virus Infection Triggers Epithelial HMGB1 Release as a Damage-Associated Molecular Pattern Promoting a Monocytic Inflammatory Response.', 'Cucurbitacin E ameliorates lipopolysaccharide-evoked injury, inflammation and MUC5AC expression in bronchial epithelial cells by restraining the HMGB1-TLR4-NF-kappaB signaling.', 'Differential regulation of the water channel protein aquaporins in chondrocytes of human knee articular cartilage by aging.', 'Glycyrrhetinic acid suppressed hmgb1 release by up-regulation of Sirt6 in nasal inflammation.', 'Decreased serum level of HMGB1 and MyD88 during human aging progress in healthy individuals.', 'Changes in pro-inflammatory markers and leucine concentrations in response to Nordic Walking training combined with vitamin D supplementation in elderly women.', 'Changes in pro-inflammatory markers and leucine concentrations in response to Nordic Walking training combined with vitamin D supplementation in elderly women.', 'Fully reduced HMGB1 accelerates the regeneration of multiple tissues by transitioning stem cells to GAlert.', 'Fully reduced HMGB1 accelerates the regeneration of multiple tissues by transitioning stem cells to GAlert.', 'Targeting HMGB1 for the treatment of sepsis and sepsis-induced organ injury.', 'Targeting HMGB1 for the treatment of sepsis and sepsis-induced organ injury.', 'Respiratory Syncytial Virus Infection Triggers Epithelial HMGB1 Release as a Damage-Associated Molecular Pattern Promoting a Monocytic Inflammatory Response.', 'Respiratory Syncytial Virus Infection Triggers Epithelial HMGB1 Release as a Damage-Associated Molecular Pattern Promoting a Monocytic Inflammatory Response.', 'Respiratory Syncytial Virus Infection Triggers Epithelial HMGB1 Release as a Damage-Associated Molecular Pattern Promoting a Monocytic Inflammatory Response.', 'Respiratory Syncytial Virus Infection Triggers Epithelial HMGB1 Release as a Damage-Associated Molecular Pattern Promoting a Monocytic Inflammatory Response.', 'Psoriatic arthritis: review of potential biomarkers predicting response to TNF inhibitors.', 'Cardiac dysfunction in children with essential obesity: preliminary data.', 'Preventive and therapeutic opportunities: targeting BAP1 and/or HMGB1 pathways to diminish the burden of mesothelioma.', 'Preventive and therapeutic opportunities: targeting BAP1 and/or HMGB1 pathways to diminish the burden of mesothelioma.', 'Preventive and therapeutic opportunities: targeting BAP1 and/or HMGB1 pathways to diminish the burden of mesothelioma.', 'Preventive and therapeutic opportunities: targeting BAP1 and/or HMGB1 pathways to diminish the burden of mesothelioma.', 'Preventive and therapeutic opportunities: targeting BAP1 and/or HMGB1 pathways to diminish the burden of mesothelioma.', 'Preventive and therapeutic opportunities: targeting BAP1 and/or HMGB1 pathways to diminish the burden of mesothelioma.'], 'TA': ['J Biol Regul Homeost Agents', 'J Biol Regul Homeost Agents', 'J Biol Regul Homeost Agents', 'Gut', 'Cell Rep', 'Cell Rep', 'Acta Pharmacol Sin', 'Acta Pharmacol Sin', 'J Virol', 'J Virol', 'Mol Immunol', 'Sci Rep', 'J Biol Regul Homeost Agents', 'Aging Clin Exp Res', 'Biogerontology', 'Biogerontology', 'Proc Natl Acad Sci U S A', 'Proc Natl Acad Sci U S A', 'Acta Pharmacol Sin', 'Acta Pharmacol Sin', 'J Virol', 'J Virol', 'J Virol', 'J Virol', 'Inflammopharmacology', 'J Biol Regul Homeost Agents', 'J Transl Med', 'J Transl Med', 'J Transl Med', 'J Transl Med', 'J Transl Med', 'J Transl Med'], 'date': [20170401, 20170401, 20170401, 20100101, 20210720, 20210720, 20220301, 20220301, 20161101, 20161101, 20191001, 20211014, 20170401, 20160401, 20170801, 20170801, 20180508, 20180508, 20220301, 20220301, 20161101, 20161101, 20161101, 20161101, 20230201, 20190901, 20231025, 20231025, 20231025, 20231025, 20231025, 20231025], 'IF': ['3.2', '3.2', '3.2', '24.5', '8.8', '8.8', '8.2', '8.2', 0.0, 0.0, '3.6', 0.0, '3.2', '4.0', 0.0, 0.0, '11.1', '11.1', '8.2', '8.2', 0.0, 0.0, 0.0, 0.0, '5.8', '3.2', '7.4', '7.4', '7.4', '7.4', '7.4', '7.4'], 'IF5': ['2.2', '2.2', '2.2', '25.2', '9.9', '9.9', '8.2', '8.2', 0.0, 0.0, '4.0', 0.0, '2.2', '4.0', 0.0, 0.0, '12.0', '12.0', '8.2', '8.2', 0.0, 0.0, 0.0, 0.0, '5.4', '2.2', '6.9', '6.9', '6.9', '6.9', '6.9', '6.9'], 'method': ['2.2', '2.2', '2.2', '25.2', '9.9', '9.9', '8.2', '8.2', 0.0, 0.0, '4.0', 0.0, '2.2', '4.0', 0.0, 0.0, '12.0', '12.0', '8.2', '8.2', 0.0, 0.0, 0.0, 0.0, '5.4', '2.2', '6.9', 'deep learning, shortest path', 'shortest path', 'shortest path', 'shortest path', 'shortest path', 'shortest path'], '_id': 'HMGB1', 'type': ['Gene']}\n"
     ]
    }
   ],
   "source": [
    "for i in entity2list:\n",
    "    if i.get('entity_transformed')=='HMGB1':\n",
    "        print(i)"
   ]
  },
  {
   "cell_type": "code",
   "execution_count": 100,
   "id": "0e6c3884-bb8c-401b-a8e4-df416b315ea5",
   "metadata": {},
   "outputs": [
    {
     "data": {
      "text/plain": [
       "{'entity_transformed': 'Saxitoxin',\n",
       " 'entity': ['Saxitoxin'],\n",
       " 'sentence': ['Saxitoxin (STX) causes high toxicity by blocking voltage-gated sodium channels, and it poses a major threat to marine ecosystems and human health worldwide.'],\n",
       " 'PMID': ['37888479'],\n",
       " 'DP': ['2023 Oct 19'],\n",
       " 'TI': ['Physiological Effects of Oxidative Stress Caused by Saxitoxin in the Nematode Caenorhabditis elegans.'],\n",
       " 'TA': ['Mar Drugs'],\n",
       " 'date': [20231019],\n",
       " 'IF': [0.0],\n",
       " 'IF5': [0.0],\n",
       " 'method': ['shortest path'],\n",
       " '_id': 'Saxitoxin',\n",
       " 'type': ['Toxin']}"
      ]
     },
     "execution_count": 100,
     "metadata": {},
     "output_type": "execute_result"
    }
   ],
   "source": [
    "entity2list[-1]"
   ]
  },
  {
   "cell_type": "code",
   "execution_count": 101,
   "id": "b0474747-bc15-4060-acc8-67aae5eb6c59",
   "metadata": {},
   "outputs": [
    {
     "name": "stdout",
     "output_type": "stream",
     "text": [
      "['Carbohydrate', 'Lipid', 'Toxin']\n"
     ]
    }
   ],
   "source": [
    "for i in entity2list:\n",
    "    if i.get('entity_transformed')=='Lipopolysaccharides':\n",
    "        print(i.get('type'))"
   ]
  },
  {
   "cell_type": "code",
   "execution_count": 102,
   "id": "24e55d5d-95cb-4f37-bf82-d886430a8674",
   "metadata": {},
   "outputs": [
    {
     "data": {
      "text/plain": [
       "[(('Pulmonary Disease, Chronic Obstructive', 'defined', 'Inflammation'),\n",
       "  {'from': 0,\n",
       "   'to': 1,\n",
       "   'relation': 'defined',\n",
       "   'PMID': ['30781849'],\n",
       "   'sentence': ['(1) Background: Chronic obstructive pulmonary disease (COPD) is defined as an inflammatory disorder that presents an increasingly prevalent health problem.'],\n",
       "   'DP': ['2019 Feb 13'],\n",
       "   'TI': ['Chronic Obstructive Pulmonary Disease as a Main Factor of Premature Aging.'],\n",
       "   'TA': ['Int J Environ Res Public Health'],\n",
       "   'IF': [0.0],\n",
       "   'IF5': [0.0],\n",
       "   'date': [20190213],\n",
       "   'first_entity_transformed': 'Pulmonary Disease, Chronic Obstructive',\n",
       "   'second_entity_transformed': 'Inflammation',\n",
       "   'first_entity': ['COPD'],\n",
       "   'second_entity': ['inflammatory disorder'],\n",
       "   'first_type': ['Disease'],\n",
       "   'second_type': ['Disease'],\n",
       "   'method': ['deep learning, shortest path']}),\n",
       " (('Anorexia', 'associate', 'Sarcopenia'),\n",
       "  {'from': 2,\n",
       "   'to': 3,\n",
       "   'relation': 'associate',\n",
       "   'PMID': ['30641897'],\n",
       "   'sentence': [\"(1) Background: Appetite loss in older people, the 'Anorexia of Aging' (AA), is common, associated with under-nutrition, sarcopenia, and frailty and yet receives little attention.\"],\n",
       "   'DP': ['2019 Jan 11'],\n",
       "   'TI': ['Assessment and Treatment of the Anorexia of Aging: A Systematic Review.'],\n",
       "   'TA': ['Nutrients'],\n",
       "   'IF': ['5.9'],\n",
       "   'IF5': ['6.6'],\n",
       "   'date': [20190111],\n",
       "   'first_entity_transformed': 'Anorexia',\n",
       "   'second_entity_transformed': 'Sarcopenia',\n",
       "   'first_entity': ['Anorexia'],\n",
       "   'second_entity': ['sarcopenia'],\n",
       "   'first_type': ['Disease'],\n",
       "   'second_type': ['Disease'],\n",
       "   'method': ['deep learning']}),\n",
       " (('Sarcopenia', 'associate', 'Anorexia'),\n",
       "  {'from': 3,\n",
       "   'to': 2,\n",
       "   'relation': 'associate',\n",
       "   'PMID': ['30641897'],\n",
       "   'sentence': [\"(1) Background: Appetite loss in older people, the 'Anorexia of Aging' (AA), is common, associated with under-nutrition, sarcopenia, and frailty and yet receives little attention.\"],\n",
       "   'DP': ['2019 Jan 11'],\n",
       "   'TI': ['Assessment and Treatment of the Anorexia of Aging: A Systematic Review.'],\n",
       "   'TA': ['Nutrients'],\n",
       "   'IF': ['5.9'],\n",
       "   'IF5': ['6.6'],\n",
       "   'date': [20190111],\n",
       "   'first_entity_transformed': 'Sarcopenia',\n",
       "   'second_entity_transformed': 'Anorexia',\n",
       "   'first_entity': ['sarcopenia'],\n",
       "   'second_entity': ['Anorexia'],\n",
       "   'first_type': ['Disease'],\n",
       "   'second_type': ['Disease'],\n",
       "   'method': ['deep learning']})]"
      ]
     },
     "execution_count": 102,
     "metadata": {},
     "output_type": "execute_result"
    }
   ],
   "source": [
    "list(relation_interpolation_dict.items())[:3]"
   ]
  },
  {
   "cell_type": "code",
   "execution_count": 103,
   "id": "abf9a047-960b-43bb-9116-2a89006581b9",
   "metadata": {},
   "outputs": [
    {
     "data": {
      "text/plain": [
       "{'from': 3,\n",
       " 'to': 13,\n",
       " 'relation': 'associated',\n",
       " 'PMID': ['34769606'],\n",
       " 'sentence': ['(4) Conclusions: Sarcopenia and slow gait speed associated with constipation in community-dwelling older adults.'],\n",
       " 'DP': ['2021 Oct 21'],\n",
       " 'TI': ['Status of Constipation and Its Association with Sarcopenia in Older Adults: A Population-Based Cohort Study.'],\n",
       " 'TA': ['Int J Environ Res Public Health'],\n",
       " 'IF': [0.0],\n",
       " 'IF5': [0.0],\n",
       " 'date': [20211021],\n",
       " 'first_entity_transformed': 'Sarcopenia',\n",
       " 'second_entity_transformed': 'Constipation',\n",
       " 'first_entity': ['Sarcopenia'],\n",
       " 'second_entity': ['constipation'],\n",
       " 'first_type': ['Disease'],\n",
       " 'second_type': ['Disease'],\n",
       " 'method': ['open domain']}"
      ]
     },
     "execution_count": 103,
     "metadata": {},
     "output_type": "execute_result"
    }
   ],
   "source": [
    "relation_interpolation_list[10]"
   ]
  },
  {
   "cell_type": "code",
   "execution_count": 104,
   "id": "7b231a5b-6fa2-459c-b712-05e1b3472b1b",
   "metadata": {},
   "outputs": [
    {
     "data": {
      "text/plain": [
       "116495"
      ]
     },
     "execution_count": 104,
     "metadata": {},
     "output_type": "execute_result"
    }
   ],
   "source": [
    "len(relation_interpolation_list)"
   ]
  },
  {
   "cell_type": "code",
   "execution_count": 105,
   "id": "bf4672bb-c5f0-4c1c-8095-b56f29bfb021",
   "metadata": {},
   "outputs": [],
   "source": [
    "json.dump(relation_interpolation_list,open('results/step4/relationinfo.json','w'))"
   ]
  },
  {
   "cell_type": "code",
   "execution_count": 106,
   "id": "89f8672d-7c6c-4750-aaca-58d9668e9f02",
   "metadata": {},
   "outputs": [
    {
     "data": {
      "text/plain": [
       "{'from': 5,\n",
       " 'to': 96,\n",
       " 'relation': 'associated',\n",
       " 'PMID': ['34772307'],\n",
       " 'sentence': ['Drowsiness/lethargy (OR = 1.48, 95% CI: 1.22-1.82), agitation (OR = 1.66, 95% CI: 1.11-2.50), coma (OR = 23.95, 95% CI: 17.05-33.64), bradycardia (OR = 2.29, 95% CI: 1.22-4.32), rhabdomyolysis (OR = 8.84, 95% CI: 3.71-21.03), hypothermia (OR = 4.1, 95% CI: 1.77-9.51), and hyperthermia 2.10 (OR = 2.10, 95% CI: 1.04-4.22) were likely associated with major outcomes or death.'],\n",
       " 'DP': ['2021 Dec'],\n",
       " 'TI': ['Prognostic factors of acetaminophen exposure in the United States: An analysis of 39,000 patients.'],\n",
       " 'TA': ['Hum Exp Toxicol'],\n",
       " 'IF': ['2.8'],\n",
       " 'IF5': ['2.9'],\n",
       " 'date': [20211201],\n",
       " 'first_entity_transformed': 'Death',\n",
       " 'second_entity_transformed': 'Rhabdomyolysis',\n",
       " 'first_entity': ['death'],\n",
       " 'second_entity': ['rhabdomyolysis'],\n",
       " 'first_type': ['Disease'],\n",
       " 'second_type': ['Disease'],\n",
       " 'method': ['shortest path']}"
      ]
     },
     "execution_count": 106,
     "metadata": {},
     "output_type": "execute_result"
    }
   ],
   "source": [
    "relation_interpolation_list[100]"
   ]
  },
  {
   "cell_type": "code",
   "execution_count": 107,
   "id": "c5abfc35-f2dd-4408-a7c2-e9c4883be93f",
   "metadata": {},
   "outputs": [
    {
     "data": {
      "text/plain": [
       "116495"
      ]
     },
     "execution_count": 107,
     "metadata": {},
     "output_type": "execute_result"
    }
   ],
   "source": [
    "len(relation_interpolation_list)"
   ]
  },
  {
   "cell_type": "code",
   "execution_count": 108,
   "id": "c3194271-ae0a-4396-b154-4ea183f6c4a5",
   "metadata": {},
   "outputs": [
    {
     "data": {
      "text/plain": [
       "146384"
      ]
     },
     "execution_count": 108,
     "metadata": {},
     "output_type": "execute_result"
    }
   ],
   "source": [
    "len(triplelistnew)"
   ]
  },
  {
   "cell_type": "code",
   "execution_count": 109,
   "id": "2d3d05db-db3b-4b5d-8c9d-4b8c5c8379b6",
   "metadata": {},
   "outputs": [],
   "source": [
    "csvf_entity = open(\"results/step4/entity.csv\", \"w\", newline='', encoding='utf-8')\n",
    "w_entity = csv.writer(csvf_entity)"
   ]
  },
  {
   "cell_type": "code",
   "execution_count": 110,
   "id": "2cd32075-42fe-48e5-ac93-656954f3255e",
   "metadata": {},
   "outputs": [
    {
     "data": {
      "text/plain": [
       "38"
      ]
     },
     "execution_count": 110,
     "metadata": {},
     "output_type": "execute_result"
    }
   ],
   "source": [
    "w_entity.writerow((\"entity:ID\", \"name\",\"type\",\"frequency\",\":LABEL\"))"
   ]
  },
  {
   "cell_type": "code",
   "execution_count": 111,
   "id": "10618bc5-e703-4c4e-aa51-358a7e35f675",
   "metadata": {},
   "outputs": [],
   "source": [
    "for i,j in entitydict.items():\n",
    "    w_entity.writerow((entitynum.get(i), i,j,int(entity_countnum.get(i)),j))"
   ]
  },
  {
   "cell_type": "code",
   "execution_count": 112,
   "id": "00ca847a-1bcb-47e2-8d98-6e987ca6fd7c",
   "metadata": {},
   "outputs": [],
   "source": [
    "csvf_entity.close()"
   ]
  },
  {
   "cell_type": "code",
   "execution_count": 113,
   "id": "7cd488e2-3d85-4bf1-9104-436acbba073e",
   "metadata": {},
   "outputs": [],
   "source": [
    "entitycsv=pd.read_csv('results/step4/entity.csv')"
   ]
  },
  {
   "cell_type": "code",
   "execution_count": 114,
   "id": "66790e97-6796-49b7-953f-82db10cba240",
   "metadata": {},
   "outputs": [
    {
     "data": {
      "text/html": [
       "<div>\n",
       "<style scoped>\n",
       "    .dataframe tbody tr th:only-of-type {\n",
       "        vertical-align: middle;\n",
       "    }\n",
       "\n",
       "    .dataframe tbody tr th {\n",
       "        vertical-align: top;\n",
       "    }\n",
       "\n",
       "    .dataframe thead th {\n",
       "        text-align: right;\n",
       "    }\n",
       "</style>\n",
       "<table border=\"1\" class=\"dataframe\">\n",
       "  <thead>\n",
       "    <tr style=\"text-align: right;\">\n",
       "      <th></th>\n",
       "      <th>entity:ID</th>\n",
       "      <th>name</th>\n",
       "      <th>type</th>\n",
       "      <th>frequency</th>\n",
       "      <th>:LABEL</th>\n",
       "    </tr>\n",
       "  </thead>\n",
       "  <tbody>\n",
       "    <tr>\n",
       "      <th>0</th>\n",
       "      <td>1</td>\n",
       "      <td>Pulmonary Disease, Chronic Obstructive</td>\n",
       "      <td>Disease</td>\n",
       "      <td>1034</td>\n",
       "      <td>Disease</td>\n",
       "    </tr>\n",
       "    <tr>\n",
       "      <th>1</th>\n",
       "      <td>2</td>\n",
       "      <td>Inflammation</td>\n",
       "      <td>Disease</td>\n",
       "      <td>4175</td>\n",
       "      <td>Disease</td>\n",
       "    </tr>\n",
       "    <tr>\n",
       "      <th>2</th>\n",
       "      <td>3</td>\n",
       "      <td>Anorexia</td>\n",
       "      <td>Disease</td>\n",
       "      <td>147</td>\n",
       "      <td>Disease</td>\n",
       "    </tr>\n",
       "  </tbody>\n",
       "</table>\n",
       "</div>"
      ],
      "text/plain": [
       "   entity:ID                                    name     type  frequency  \\\n",
       "0          1  Pulmonary Disease, Chronic Obstructive  Disease       1034   \n",
       "1          2                            Inflammation  Disease       4175   \n",
       "2          3                                Anorexia  Disease        147   \n",
       "\n",
       "    :LABEL  \n",
       "0  Disease  \n",
       "1  Disease  \n",
       "2  Disease  "
      ]
     },
     "execution_count": 114,
     "metadata": {},
     "output_type": "execute_result"
    }
   ],
   "source": [
    "entitycsv[:3]"
   ]
  },
  {
   "cell_type": "code",
   "execution_count": 115,
   "id": "b5b40aa9-3817-4f33-8e17-e190d494da29",
   "metadata": {},
   "outputs": [
    {
     "data": {
      "text/plain": [
       "6922"
      ]
     },
     "execution_count": 115,
     "metadata": {},
     "output_type": "execute_result"
    }
   ],
   "source": [
    "len(entitycsv)"
   ]
  },
  {
   "cell_type": "code",
   "execution_count": 116,
   "id": "645fedbb-8d9a-4cbc-a0da-97f62b7173aa",
   "metadata": {},
   "outputs": [],
   "source": [
    "csvf_entity = open(\"results/step4/roles.csv\", \"w\", newline='', encoding='utf-8')\n",
    "w_entity = csv.writer(csvf_entity)"
   ]
  },
  {
   "cell_type": "code",
   "execution_count": 117,
   "id": "1ece3295-ddc7-4a43-876e-677ea05801e9",
   "metadata": {},
   "outputs": [
    {
     "data": {
      "text/plain": [
       "48"
      ]
     },
     "execution_count": 117,
     "metadata": {},
     "output_type": "execute_result"
    }
   ],
   "source": [
    "w_entity.writerow((':START_ID', ':END_ID', \"relation\", \"weight\", \"method\", \":TYPE\" ))"
   ]
  },
  {
   "cell_type": "code",
   "execution_count": 118,
   "id": "0f789935-7b45-4d9b-9ba1-4a35cfc17dba",
   "metadata": {},
   "outputs": [
    {
     "data": {
      "text/plain": [
       "{'triple': ['COPD', 'defined', 'inflammatory disorder'],\n",
       " 'PMID': '30781849',\n",
       " 'sentence': '(1) Background: Chronic obstructive pulmonary disease (COPD) is defined as an inflammatory disorder that presents an increasingly prevalent health problem.',\n",
       " 'AB': '(1) Background: Chronic obstructive pulmonary disease (COPD) is defined as an inflammatory disorder that presents an increasingly prevalent health problem. Accelerated aging has been examined as a pathologic mechanism of many chronic diseases like COPD. We examined whether COPD is combined with accelerated aging, studying two hormones, dehydroepiandrosterone (DHEA) and growth hormone (GH), known to be characteristic biological markers of aging. (2) Methods: Data were collected from 119 participants, 70 (58.8%) COPD patients and 49 (41.2%) from a health control group over the period of 2014-2016 in a spirometry program. Information about their medical history, tobacco use, and blood tests was obtained. (3) Results: The average age of the health control patients was 73.5 years (SD = 5.5), and that of the COPD patients was 75.4 years (SD = 6.9). Both groups were similar in age and sex. A greater proportion of smokers were found in the COPD group (87.1%) versus the control group (36.7%). The majority of COPD patients were classified as STAGE II (51.4%) and STAGE III (37.1%) according to GOLD (Global Initiative for Chronic Obstructive Pulmonary Disease). Levels of DHEA (SD = 17.1) and GH (SD = 0.37) were significantly lower in the COPD group (p < 0.001) compared to those in the controls (SD = 26.3, SD = 0.79). DHEA and GH were more significant and negatively correlated with age. The regression equation of DHEA with age produced a coefficient equal to 1.26. In this study, the difference in DHEA between COPD patients and controls was, on average, 30.2 mug/dL, indicating that the biological age of a COPD patient is on average about 24 years older than that of a control subject of the same age. Similarly, the difference in GH between COPD patients and controls was, on average, 0.42 ng/mL, indicating that the biological age of a COPD patient is on average about 13.1 years older than that of a control subject of the same age. (4) Conclusions: The findings of our study strongly suggest the presence of premature biological aging in COPD patients. Their biological age could actually vary from 13 to 23 years older than non-COPD controls according to DHEA and GH variation.',\n",
       " 'entity_one': 'COPD',\n",
       " 'entity_one_type': 'Disease',\n",
       " 'entity_two': 'inflammatory disorder',\n",
       " 'entity_two_type': 'Disease',\n",
       " 'entity_one_transformed': 'Pulmonary Disease, Chronic Obstructive',\n",
       " 'entity_two_transformed': 'Inflammation',\n",
       " 'transformed_triple': ('COPD',\n",
       "  'defined',\n",
       "  'inflammatory disorder',\n",
       "  '30781849'),\n",
       " 'method': ['deep learning', 'shortest path'],\n",
       " 'verb': 'defined',\n",
       " 'IF': 0.0,\n",
       " 'IF5': 0.0}"
      ]
     },
     "execution_count": 118,
     "metadata": {},
     "output_type": "execute_result"
    }
   ],
   "source": [
    "triplelistnew[0]"
   ]
  },
  {
   "cell_type": "code",
   "execution_count": 119,
   "id": "bda981ca-cd8d-43e4-ae9f-94dd996a37b1",
   "metadata": {},
   "outputs": [],
   "source": [
    "entitynotsame={}\n",
    "for i in triplelistnew:\n",
    "    if i.get('entity_one_transformed')!=i.get('entity_two_transformed'):\n",
    "        if not entitynotsame.get((i.get('entity_one_transformed'),i.get('triple')[1].lower(), i.get('entity_two_transformed'))) :\n",
    "            w_entity.writerow((  entitynum.get(i.get('entity_one_transformed')),entitynum.get(i.get('entity_two_transformed')), i.get('triple')[1].lower(),int(tripleWeight.get((i.get('entity_one_transformed'),i.get('triple')[1].lower(), i.get('entity_two_transformed')))),'; '.join(i.get('method')), i.get('triple')[1]   ))\n",
    "        else:\n",
    "            continue\n",
    "        entitynotsame[(i.get('entity_one_transformed'),i.get('triple')[1].lower(), i.get('entity_two_transformed'))]=True"
   ]
  },
  {
   "cell_type": "code",
   "execution_count": 120,
   "id": "33bc50a6-b450-43b3-958a-49136b33e5e4",
   "metadata": {},
   "outputs": [
    {
     "data": {
      "text/plain": [
       "243"
      ]
     },
     "execution_count": 120,
     "metadata": {},
     "output_type": "execute_result"
    }
   ],
   "source": [
    "entitynum.get('APOE')"
   ]
  },
  {
   "cell_type": "code",
   "execution_count": 121,
   "id": "f0e0ae29-bfd9-4ec4-a0ce-dafee91b6316",
   "metadata": {},
   "outputs": [],
   "source": [
    "csvf_entity.close()"
   ]
  },
  {
   "cell_type": "code",
   "execution_count": 122,
   "id": "0c9f81e8-8974-4a79-95e8-552578bb389a",
   "metadata": {},
   "outputs": [
    {
     "name": "stdout",
     "output_type": "stream",
     "text": [
      "{'triple': ['dementia', 'report', 'head injury'], 'PMID': '16870396', 'sentence': 'Incidence of epilepsy was not statistically elevated among males, those with dementia, or individuals reporting a history of head injury or treatment for depression.', 'AB': 'OBJECTIVE: To determine age-specific incidence and cumulative incidence of epilepsy in a well-defined cohort of elderly people, and to examine how rates of epilepsy are modified by sex, race, stroke, dementia, head injury, and depression. METHODS: The authors examined data from a reconstructed cohort based on 1919 community-dwelling volunteers, followed as part of a large ongoing prospective aging study. RESULTS: Age-specific incidence was 10.6 (per 100,000 person-years) between ages 45 and 59, 25.8 between ages 60 and 74, and 101.1 between ages 75 and 89. Cumulative incidence was 0.15% from age 45 to age 60, 0.38% to age 70, 1.01% to age 80, and 1.47% to age 90. In addition, the difference in cumulative incidence among African-American subjects approached statistical significance (57.6/100,000 person-years versus 26.1 in Caucasian, p=0.10), and the difference in incidence among subjects reporting a history of stroke was significantly elevated (p=0.029). Incidence of epilepsy was not statistically elevated among males, those with dementia, or individuals reporting a history of head injury or treatment for depression. Among \"healthy\" subjects without history of stroke, head injury, or dementia, we observed a cumulative risk of epilepsy with onset after age 60 of only 1.1%. CONCLUSIONS: The incidence of epilepsy was low in this relatively healthy cohort of elderly people, especially among subjects without known risk factors. In this study we identified African-American race as a risk factor in the elderly for epilepsy independent of stroke.', 'entity_one': 'dementia', 'entity_one_type': 'Disease', 'entity_two': 'head injury', 'entity_two_type': 'Disease', 'entity_one_transformed': 'Dementia', 'entity_two_transformed': 'Craniocerebral Trauma', 'transformed_triple': ('dementia', 'report', 'head injury', '16870396'), 'method': ['shortest path'], 'verb': 'report', 'IF': '2.2', 'IF5': '2.6'}\n"
     ]
    }
   ],
   "source": [
    "for i in triplelistnew:\n",
    "    if i.get('sentence')=='Incidence of epilepsy was not statistically elevated among males, those with dementia, or individuals reporting a history of head injury or treatment for depression.':\n",
    "        print(i)"
   ]
  },
  {
   "cell_type": "code",
   "execution_count": 123,
   "id": "05b87ee5-4d73-444d-8920-12e69f560287",
   "metadata": {},
   "outputs": [],
   "source": [
    "roles=pd.read_csv(\"results/step4/roles.csv\")"
   ]
  },
  {
   "cell_type": "code",
   "execution_count": 124,
   "id": "0c8dd560-9a56-4bc9-b17e-2b555b89052c",
   "metadata": {},
   "outputs": [
    {
     "data": {
      "text/plain": [
       "116487"
      ]
     },
     "execution_count": 124,
     "metadata": {},
     "output_type": "execute_result"
    }
   ],
   "source": [
    "len(roles)"
   ]
  },
  {
   "cell_type": "code",
   "execution_count": 125,
   "id": "5a082981-e2b7-4853-a62a-9a9628e548b0",
   "metadata": {},
   "outputs": [
    {
     "data": {
      "text/html": [
       "<div>\n",
       "<style scoped>\n",
       "    .dataframe tbody tr th:only-of-type {\n",
       "        vertical-align: middle;\n",
       "    }\n",
       "\n",
       "    .dataframe tbody tr th {\n",
       "        vertical-align: top;\n",
       "    }\n",
       "\n",
       "    .dataframe thead th {\n",
       "        text-align: right;\n",
       "    }\n",
       "</style>\n",
       "<table border=\"1\" class=\"dataframe\">\n",
       "  <thead>\n",
       "    <tr style=\"text-align: right;\">\n",
       "      <th></th>\n",
       "      <th>:START_ID</th>\n",
       "      <th>:END_ID</th>\n",
       "      <th>relation</th>\n",
       "      <th>weight</th>\n",
       "      <th>method</th>\n",
       "      <th>:TYPE</th>\n",
       "    </tr>\n",
       "  </thead>\n",
       "  <tbody>\n",
       "    <tr>\n",
       "      <th>0</th>\n",
       "      <td>1</td>\n",
       "      <td>2</td>\n",
       "      <td>defined</td>\n",
       "      <td>1</td>\n",
       "      <td>deep learning; shortest path</td>\n",
       "      <td>defined</td>\n",
       "    </tr>\n",
       "    <tr>\n",
       "      <th>1</th>\n",
       "      <td>3</td>\n",
       "      <td>4</td>\n",
       "      <td>associate</td>\n",
       "      <td>1</td>\n",
       "      <td>deep learning</td>\n",
       "      <td>associate</td>\n",
       "    </tr>\n",
       "    <tr>\n",
       "      <th>2</th>\n",
       "      <td>4</td>\n",
       "      <td>3</td>\n",
       "      <td>associate</td>\n",
       "      <td>1</td>\n",
       "      <td>deep learning</td>\n",
       "      <td>associate</td>\n",
       "    </tr>\n",
       "    <tr>\n",
       "      <th>3</th>\n",
       "      <td>5</td>\n",
       "      <td>6</td>\n",
       "      <td>recognized</td>\n",
       "      <td>1</td>\n",
       "      <td>deep learning</td>\n",
       "      <td>recognized</td>\n",
       "    </tr>\n",
       "    <tr>\n",
       "      <th>4</th>\n",
       "      <td>5</td>\n",
       "      <td>6</td>\n",
       "      <td>increase</td>\n",
       "      <td>1</td>\n",
       "      <td>shortest path</td>\n",
       "      <td>increase</td>\n",
       "    </tr>\n",
       "  </tbody>\n",
       "</table>\n",
       "</div>"
      ],
      "text/plain": [
       "   :START_ID  :END_ID    relation  weight                        method  \\\n",
       "0          1        2     defined       1  deep learning; shortest path   \n",
       "1          3        4   associate       1                 deep learning   \n",
       "2          4        3   associate       1                 deep learning   \n",
       "3          5        6  recognized       1                 deep learning   \n",
       "4          5        6    increase       1                 shortest path   \n",
       "\n",
       "        :TYPE  \n",
       "0     defined  \n",
       "1   associate  \n",
       "2   associate  \n",
       "3  recognized  \n",
       "4    increase  "
      ]
     },
     "execution_count": 125,
     "metadata": {},
     "output_type": "execute_result"
    }
   ],
   "source": [
    "roles.head()"
   ]
  },
  {
   "cell_type": "code",
   "execution_count": 126,
   "id": "ac06d7ef-868e-4817-a354-40cb8826911b",
   "metadata": {},
   "outputs": [],
   "source": [
    "relation_list=roles.relation.to_list()"
   ]
  },
  {
   "cell_type": "code",
   "execution_count": 127,
   "id": "71010f2d-41bc-4ead-b92c-5a642c8874b8",
   "metadata": {},
   "outputs": [
    {
     "data": {
      "text/plain": [
       "list"
      ]
     },
     "execution_count": 127,
     "metadata": {},
     "output_type": "execute_result"
    }
   ],
   "source": [
    "type(relation_list)"
   ]
  },
  {
   "cell_type": "code",
   "execution_count": 128,
   "id": "a9231304-fef3-4fbd-87f3-feefa1f4fed9",
   "metadata": {},
   "outputs": [
    {
     "data": {
      "text/plain": [
       "['defined', 'associate', 'associate']"
      ]
     },
     "execution_count": 128,
     "metadata": {},
     "output_type": "execute_result"
    }
   ],
   "source": [
    "relation_list[:3]"
   ]
  },
  {
   "cell_type": "code",
   "execution_count": 129,
   "id": "150e76d7-a0d3-4b1f-b1cb-f3ea6439e044",
   "metadata": {},
   "outputs": [
    {
     "data": {
      "text/plain": [
       "116487"
      ]
     },
     "execution_count": 129,
     "metadata": {},
     "output_type": "execute_result"
    }
   ],
   "source": [
    "len(relation_list)"
   ]
  },
  {
   "cell_type": "code",
   "execution_count": 130,
   "id": "851a4b18-615d-4f65-9f9a-2e140c41c29c",
   "metadata": {},
   "outputs": [
    {
     "data": {
      "text/plain": [
       "3027"
      ]
     },
     "execution_count": 130,
     "metadata": {},
     "output_type": "execute_result"
    }
   ],
   "source": [
    "len(set(relation_list))"
   ]
  },
  {
   "cell_type": "code",
   "execution_count": 131,
   "id": "a4c4a0c4-615a-4215-9deb-283442f794ad",
   "metadata": {},
   "outputs": [],
   "source": [
    "relation_list_set=pd.read_csv('../classofrelations/relation_list_set.csv',header=None,names=['word'])"
   ]
  },
  {
   "cell_type": "code",
   "execution_count": 132,
   "id": "cda77c53-58c9-40ec-a37e-a6241dbd4011",
   "metadata": {},
   "outputs": [],
   "source": [
    "relation_list_set_dict={}\n",
    "for i in relation_list_set['word'].to_list():\n",
    "    relation_list_set_dict[i.lower()]=True"
   ]
  },
  {
   "cell_type": "code",
   "execution_count": 133,
   "id": "9ddfcb9f-434d-4683-8354-8669fd99af0f",
   "metadata": {},
   "outputs": [],
   "source": [
    "positive_relations=pd.read_csv('../classofrelations/positive-relations.csv',header=None,names=['word'])"
   ]
  },
  {
   "cell_type": "code",
   "execution_count": 134,
   "id": "cf27ebc9-a6ca-48d5-816d-c29ec16d256e",
   "metadata": {},
   "outputs": [],
   "source": [
    "positive_relations_dict={}\n",
    "for i in positive_relations['word'].to_list():\n",
    "    positive_relations_dict[i.lower()]=True"
   ]
  },
  {
   "cell_type": "code",
   "execution_count": 135,
   "id": "e0e5ad5f-d6de-446f-a2df-adeb1aad68d8",
   "metadata": {},
   "outputs": [],
   "source": [
    "negative_relations=pd.read_csv('../classofrelations/negative-relations.csv',header=None,names=['word'])"
   ]
  },
  {
   "cell_type": "code",
   "execution_count": 136,
   "id": "0cb7b68c-4046-4c21-a3fa-78b7f20938c6",
   "metadata": {},
   "outputs": [],
   "source": [
    "negative_relations_dict={}\n",
    "for i in negative_relations['word'].to_list():\n",
    "    negative_relations_dict[i.lower()]=True"
   ]
  },
  {
   "cell_type": "code",
   "execution_count": 137,
   "id": "cdccc83d-664f-4540-90cc-0c8276869c06",
   "metadata": {},
   "outputs": [
    {
     "data": {
      "text/plain": [
       "['rescued', 'restrained', 'reduce complications in', 'reduce relative in']"
      ]
     },
     "execution_count": 137,
     "metadata": {},
     "output_type": "execute_result"
    }
   ],
   "source": [
    "negative_relations['word'].to_list()[-5:-1]"
   ]
  },
  {
   "cell_type": "code",
   "execution_count": 138,
   "id": "31ddc5fa-a93a-4896-9cef-5caede5473c6",
   "metadata": {},
   "outputs": [
    {
     "data": {
      "text/plain": [
       "{'triple': ['COPD', 'defined', 'inflammatory disorder'],\n",
       " 'PMID': '30781849',\n",
       " 'sentence': '(1) Background: Chronic obstructive pulmonary disease (COPD) is defined as an inflammatory disorder that presents an increasingly prevalent health problem.',\n",
       " 'AB': '(1) Background: Chronic obstructive pulmonary disease (COPD) is defined as an inflammatory disorder that presents an increasingly prevalent health problem. Accelerated aging has been examined as a pathologic mechanism of many chronic diseases like COPD. We examined whether COPD is combined with accelerated aging, studying two hormones, dehydroepiandrosterone (DHEA) and growth hormone (GH), known to be characteristic biological markers of aging. (2) Methods: Data were collected from 119 participants, 70 (58.8%) COPD patients and 49 (41.2%) from a health control group over the period of 2014-2016 in a spirometry program. Information about their medical history, tobacco use, and blood tests was obtained. (3) Results: The average age of the health control patients was 73.5 years (SD = 5.5), and that of the COPD patients was 75.4 years (SD = 6.9). Both groups were similar in age and sex. A greater proportion of smokers were found in the COPD group (87.1%) versus the control group (36.7%). The majority of COPD patients were classified as STAGE II (51.4%) and STAGE III (37.1%) according to GOLD (Global Initiative for Chronic Obstructive Pulmonary Disease). Levels of DHEA (SD = 17.1) and GH (SD = 0.37) were significantly lower in the COPD group (p < 0.001) compared to those in the controls (SD = 26.3, SD = 0.79). DHEA and GH were more significant and negatively correlated with age. The regression equation of DHEA with age produced a coefficient equal to 1.26. In this study, the difference in DHEA between COPD patients and controls was, on average, 30.2 mug/dL, indicating that the biological age of a COPD patient is on average about 24 years older than that of a control subject of the same age. Similarly, the difference in GH between COPD patients and controls was, on average, 0.42 ng/mL, indicating that the biological age of a COPD patient is on average about 13.1 years older than that of a control subject of the same age. (4) Conclusions: The findings of our study strongly suggest the presence of premature biological aging in COPD patients. Their biological age could actually vary from 13 to 23 years older than non-COPD controls according to DHEA and GH variation.',\n",
       " 'entity_one': 'COPD',\n",
       " 'entity_one_type': 'Disease',\n",
       " 'entity_two': 'inflammatory disorder',\n",
       " 'entity_two_type': 'Disease',\n",
       " 'entity_one_transformed': 'Pulmonary Disease, Chronic Obstructive',\n",
       " 'entity_two_transformed': 'Inflammation',\n",
       " 'transformed_triple': ('COPD',\n",
       "  'defined',\n",
       "  'inflammatory disorder',\n",
       "  '30781849'),\n",
       " 'method': ['deep learning', 'shortest path'],\n",
       " 'verb': 'defined',\n",
       " 'IF': 0.0,\n",
       " 'IF5': 0.0}"
      ]
     },
     "execution_count": 138,
     "metadata": {},
     "output_type": "execute_result"
    }
   ],
   "source": [
    "triplelistnew[0]"
   ]
  },
  {
   "cell_type": "code",
   "execution_count": null,
   "id": "5cddea63-99f5-4c2f-bb2d-1657bba42148",
   "metadata": {},
   "outputs": [],
   "source": []
  },
  {
   "cell_type": "code",
   "execution_count": null,
   "id": "c14568bd-c17b-481d-8a84-306bc0279ba9",
   "metadata": {},
   "outputs": [],
   "source": []
  },
  {
   "cell_type": "code",
   "execution_count": 139,
   "id": "66a1e6bf-7949-4a7e-860e-3c2c12fba3c0",
   "metadata": {},
   "outputs": [],
   "source": [
    "dropout=[]\n",
    "for i in triplelistnew:\n",
    "    if i.get('entity_two_type')=='Disease':\n",
    "        if i.get('entity_one_type')!='Disease':\n",
    "            if i.get('entity_one_transformed')!= i.get('entity_two_transformed'):\n",
    "                if positive_relations_dict.get(i.get('triple')[1].lower()):\n",
    "                    i['partofspeech']='positive'\n",
    "                elif negative_relations_dict.get(i.get('triple')[1].lower()):\n",
    "                    i['partofspeech']='negative'\n",
    "                else:\n",
    "                    i['partofspeech']='none'\n",
    "                    dropout.append(i)"
   ]
  },
  {
   "cell_type": "code",
   "execution_count": 140,
   "id": "fbe96d65-7af0-44b6-82c9-77acce4f3988",
   "metadata": {},
   "outputs": [
    {
     "data": {
      "text/plain": [
       "9794"
      ]
     },
     "execution_count": 140,
     "metadata": {},
     "output_type": "execute_result"
    }
   ],
   "source": [
    "len(dropout)"
   ]
  },
  {
   "cell_type": "code",
   "execution_count": 141,
   "id": "eb789085-619d-4e41-b014-2cb2a72b0202",
   "metadata": {},
   "outputs": [],
   "source": [
    "relation_list=[]\n",
    "disease_list_raw=[]\n",
    "for i in triplelistnew:\n",
    "    if i.get('entity_two_type')=='Disease':\n",
    "        if i.get('entity_one_type')!='Disease':\n",
    "            if i.get('entity_one_transformed')!= i.get('entity_two_transformed'):\n",
    "                relation_list.append(i.get('triple')[1].lower())\n",
    "                disease_list_raw.append(i)"
   ]
  },
  {
   "cell_type": "code",
   "execution_count": 142,
   "id": "4c76fade-5cba-4469-9aab-0c2326ebc223",
   "metadata": {},
   "outputs": [
    {
     "data": {
      "text/plain": [
       "19691"
      ]
     },
     "execution_count": 142,
     "metadata": {},
     "output_type": "execute_result"
    }
   ],
   "source": [
    "len(relation_list)"
   ]
  },
  {
   "cell_type": "code",
   "execution_count": 143,
   "id": "c7ceb0eb-2f20-4cb2-861f-417259cff9da",
   "metadata": {},
   "outputs": [
    {
     "data": {
      "text/plain": [
       "19691"
      ]
     },
     "execution_count": 143,
     "metadata": {},
     "output_type": "execute_result"
    }
   ],
   "source": [
    "len(disease_list_raw)"
   ]
  },
  {
   "cell_type": "code",
   "execution_count": 144,
   "id": "2c9bdb2f-bda1-4bd1-859c-8d9b21741969",
   "metadata": {},
   "outputs": [],
   "source": [
    "new_relation=set()\n",
    "for i in disease_list_raw:\n",
    "    if not relation_list_set_dict.get(i.get('triple')[1].lower()):\n",
    "        new_relation.add(i.get('triple')[1].lower())"
   ]
  },
  {
   "cell_type": "code",
   "execution_count": 145,
   "id": "c598c52e-48b9-4f26-ab2f-e44aac393660",
   "metadata": {},
   "outputs": [
    {
     "data": {
      "text/plain": [
       "7"
      ]
     },
     "execution_count": 145,
     "metadata": {},
     "output_type": "execute_result"
    }
   ],
   "source": [
    "len(new_relation)"
   ]
  },
  {
   "cell_type": "code",
   "execution_count": 146,
   "id": "7112629b-2249-45b7-93db-736ff7f35da9",
   "metadata": {},
   "outputs": [
    {
     "name": "stdout",
     "output_type": "stream",
     "text": [
      "['CD4', 'with those be', 'neuroretinal disease']\n",
      "RESULTS: Ocular manifestations from any cause develop from 35 years of age in patients with HIV/AIDS, with the highest risk for age-related macular degeneration over the fourth decade of life and for the development of neuroretinal disorder on the fifth decade of life; some studies report a slight tendency to diagnose macular degeneration in women and those who acquired AIDS through sexual contact; data contrasted with increased risk for diagnosing neuroretinal disorder in homosexual men who also use intravenous drugs, possibly due to oversampling in studies; non-Hispanic whites and African Americans were the races most commonly affected by neuroretinal disease; the means between the 11.3-14.5 years elapsed since the HIV diagnosis were more frequently associated with cognitive impairment and both in those with high or low CD4 counts, and in patients with high or low viral loads, neuroretinal disease without Statistically significant differences.\n"
     ]
    }
   ],
   "source": [
    "for i in disease_list_raw:\n",
    "    if i.get('triple')[1].lower()=='with those be':\n",
    "        print(i.get('triple'))\n",
    "        print(i.get('sentence'))\n",
    "        # break"
   ]
  },
  {
   "cell_type": "code",
   "execution_count": null,
   "id": "1562baf7-4b3b-413a-8b8d-107ab81e5c44",
   "metadata": {},
   "outputs": [],
   "source": []
  },
  {
   "cell_type": "code",
   "execution_count": null,
   "id": "ed151f0e-5aec-4100-a901-c0909e46258c",
   "metadata": {},
   "outputs": [],
   "source": []
  },
  {
   "cell_type": "code",
   "execution_count": 147,
   "id": "fc5ad641-8ba3-45c2-ad6e-4a13d36f00fa",
   "metadata": {},
   "outputs": [
    {
     "data": {
      "text/plain": [
       "{'assist', 'boost', 'compares', 'oversee', 'posed', 'saturated', 'tied'}"
      ]
     },
     "execution_count": 147,
     "metadata": {},
     "output_type": "execute_result"
    }
   ],
   "source": [
    "new_relation"
   ]
  },
  {
   "cell_type": "code",
   "execution_count": 148,
   "id": "45c923c2-a349-4443-ad4d-188cbb3fcdc2",
   "metadata": {},
   "outputs": [
    {
     "data": {
      "text/plain": [
       "1721"
      ]
     },
     "execution_count": 148,
     "metadata": {},
     "output_type": "execute_result"
    }
   ],
   "source": [
    "len(relation_list_set['word'].to_list())"
   ]
  },
  {
   "cell_type": "code",
   "execution_count": 149,
   "id": "fe44922d-ebbb-42ef-b761-ba2152234bee",
   "metadata": {},
   "outputs": [],
   "source": [
    "relation_list_set_new=sorted(relation_list_set['word'].to_list())\n",
    "for i in new_relation:\n",
    "    relation_list_set_new.append(i)\n",
    "pd.DataFrame(relation_list_set_new,columns=['word']).to_csv('../classofrelations/relation_list_set.csv')"
   ]
  },
  {
   "cell_type": "code",
   "execution_count": 150,
   "id": "50eb07e9-ad01-4bf1-8cea-08940d1d8a83",
   "metadata": {},
   "outputs": [],
   "source": [
    "pd.DataFrame(relation_list_set_new,columns=['word']).to_csv('results/step4/relation_list_set.csv')"
   ]
  },
  {
   "cell_type": "code",
   "execution_count": null,
   "id": "d14169d9-f329-40c8-8543-926d8a203163",
   "metadata": {},
   "outputs": [],
   "source": []
  },
  {
   "cell_type": "code",
   "execution_count": null,
   "id": "32c96a77-3377-4d76-addf-2ccede771a5b",
   "metadata": {},
   "outputs": [],
   "source": []
  },
  {
   "cell_type": "markdown",
   "id": "1b65df29-afed-4854-bcf9-8b950216318b",
   "metadata": {
    "tags": []
   },
   "source": [
    "# DEAL WITH new_relation!!!!!!!!!!!!\n",
    "## Classify the new_relation list into posit, negat, and middle lists."
   ]
  },
  {
   "cell_type": "code",
   "execution_count": 157,
   "id": "00f7657f-e094-42e6-8a64-06b8b0024077",
   "metadata": {},
   "outputs": [],
   "source": [
    "posit=[]\n",
    "negat=['assist']\n",
    "# middle=['blocked','drifting','engage','expanded','hyperactivated','incorporated','mistaken','processed',\n",
    "#        'reformed','relapsed','span','supplemented']"
   ]
  },
  {
   "cell_type": "code",
   "execution_count": 158,
   "id": "cd79d3aa-7788-46d4-87a7-683392ba6718",
   "metadata": {},
   "outputs": [
    {
     "name": "stdout",
     "output_type": "stream",
     "text": [
      "{'triple': ['AMPK', 'tied', 'death'], 'PMID': '38022638', 'sentence': 'The silent mating type information regulation 2 homolog 1 (Saccharomyces cerevisiae) (SIRT1), AMP activated protein kinase (AMPK), and Wnt1 inducible signaling pathway protein 1 (WISP1) are novel targets that can oversee programmed cell death pathways tied to beta-nicotinamide adenine dinucleotide (NAD+), nicotinamide, apolipoprotein E (APOE), severe acute respiratory syndrome (SARS-CoV-2) exposure with coronavirus disease 2019 (COVID-19), and trophic factors, such as erythropoietin (EPO).', 'AB': 'Life expectancy is increasing throughout the world and coincides with a rise in non-communicable diseases (NCDs), especially for metabolic disease that includes diabetes mellitus (DM) and neurodegenerative disorders. The debilitating effects of metabolic disorders influence the entire body and significantly affect the nervous system impacting greater than one billion people with disability in the peripheral nervous system as well as with cognitive loss, now the seventh leading cause of death worldwide. Metabolic disorders, such as DM, and neurologic disease remain a significant challenge for the treatment and care of individuals since present therapies may limit symptoms but do not halt overall disease progression. These clinical challenges to address the interplay between metabolic and neurodegenerative disorders warrant innovative strategies that can focus upon the underlying mechanisms of aging-related disorders, oxidative stress, cell senescence, and cell death. Programmed cell death pathways that involve autophagy, apoptosis, ferroptosis, and pyroptosis can play a critical role in metabolic and neurodegenerative disorders and oversee processes that include insulin resistance, beta-cell function, mitochondrial integrity, reactive oxygen species release, and inflammatory cell activation. The silent mating type information regulation 2 homolog 1 (Saccharomyces cerevisiae) (SIRT1), AMP activated protein kinase (AMPK), and Wnt1 inducible signaling pathway protein 1 (WISP1) are novel targets that can oversee programmed cell death pathways tied to beta-nicotinamide adenine dinucleotide (NAD+), nicotinamide, apolipoprotein E (APOE), severe acute respiratory syndrome (SARS-CoV-2) exposure with coronavirus disease 2019 (COVID-19), and trophic factors, such as erythropoietin (EPO). The pathways of programmed cell death, SIRT1, AMPK, and WISP1 offer exciting prospects for maintaining metabolic homeostasis and nervous system function that can be compromised during aging-related disorders and lead to cognitive impairment, but these pathways have dual roles in determining the ultimate fate of cells and organ systems that warrant thoughtful insight into complex autofeedback mechanisms.', 'entity_one': 'AMPK', 'entity_one_type': 'Gene', 'entity_two': 'death', 'entity_two_type': 'Disease', 'entity_one_transformed': 'PRKAB1', 'entity_two_transformed': 'Death', 'transformed_triple': ('AMPK', 'tied', 'death', '38022638'), 'method': ['shortest path'], 'verb': 'tied', 'IF': '7.3', 'IF5': '8.0', 'partofspeech': 'none'}\n"
     ]
    }
   ],
   "source": [
    "for i in disease_list_raw:\n",
    "    if i.get('triple')[1]=='tied':\n",
    "        print(i)\n",
    "        break"
   ]
  },
  {
   "cell_type": "code",
   "execution_count": 159,
   "id": "b86d52fb-fba0-42fe-aca1-be99db59d3d2",
   "metadata": {},
   "outputs": [],
   "source": [
    "positive_relations_new=positive_relations['word'].to_list()\n",
    "negative_relations_new=negative_relations['word'].to_list()"
   ]
  },
  {
   "cell_type": "code",
   "execution_count": 160,
   "id": "016b762b-6aca-44b1-a4e2-e5e2577d2a68",
   "metadata": {},
   "outputs": [],
   "source": [
    "positive_relations_new=positive_relations['word'].to_list()\n",
    "for i in posit:\n",
    "    positive_relations_new.append(i)\n",
    "pd.DataFrame(positive_relations_new,columns=['word']).to_csv('../classofrelations/positive-relations.csv')"
   ]
  },
  {
   "cell_type": "code",
   "execution_count": 161,
   "id": "acdbd3ba-57e8-49a7-a931-4f7448c23488",
   "metadata": {},
   "outputs": [],
   "source": [
    "negative_relations_new=negative_relations['word'].to_list()\n",
    "for i in negat:\n",
    "    negative_relations_new.append(i)\n",
    "pd.DataFrame(negative_relations_new,columns=['word']).to_csv('../classofrelations/negative-relations.csv')"
   ]
  },
  {
   "cell_type": "code",
   "execution_count": 162,
   "id": "0f722b57-5e30-4051-9b05-762685c9c139",
   "metadata": {},
   "outputs": [],
   "source": [
    "pd.DataFrame(positive_relations_new,columns=['word']).to_csv('results/step4/positive-relations.csv')\n",
    "pd.DataFrame(negative_relations_new,columns=['word']).to_csv('results/step4/negative-relations.csv')"
   ]
  },
  {
   "cell_type": "code",
   "execution_count": 163,
   "id": "291f60a5-773e-406e-bf21-96ae86b3d91e",
   "metadata": {},
   "outputs": [
    {
     "name": "stdout",
     "output_type": "stream",
     "text": [
      "328\n",
      "272\n"
     ]
    }
   ],
   "source": [
    "print(len(positive_relations_new))\n",
    "print(len(negative_relations_new))"
   ]
  },
  {
   "cell_type": "code",
   "execution_count": 172,
   "id": "2962983e-e5fa-4d78-acc0-8c8b218f57ec",
   "metadata": {},
   "outputs": [
    {
     "data": {
      "text/plain": [
       "['restrained',\n",
       " 'reduce complications in',\n",
       " 'reduce relative in',\n",
       " 'show activity without',\n",
       " 'assist']"
      ]
     },
     "execution_count": 172,
     "metadata": {},
     "output_type": "execute_result"
    }
   ],
   "source": [
    "negative_relations_new[-5:]"
   ]
  },
  {
   "cell_type": "code",
   "execution_count": 165,
   "id": "3daa0915-05bc-455b-bda8-47ed4455b486",
   "metadata": {},
   "outputs": [],
   "source": [
    "positive_relations_new_dict={}\n",
    "for i in positive_relations_new:\n",
    "    positive_relations_new_dict[i.lower()]=True"
   ]
  },
  {
   "cell_type": "code",
   "execution_count": 166,
   "id": "0a756d0b-69a4-45f0-80d1-2f73d65864fa",
   "metadata": {},
   "outputs": [],
   "source": [
    "negative_relations_new_dict={}\n",
    "for i in negative_relations_new:\n",
    "    negative_relations_new_dict[i.lower()]=True"
   ]
  },
  {
   "cell_type": "code",
   "execution_count": 167,
   "id": "34c95391-e7b5-4cc2-8702-463b7776ff3f",
   "metadata": {},
   "outputs": [],
   "source": [
    "dropout=[]\n",
    "disease_list=[]\n",
    "for i in disease_list_raw:\n",
    "    if positive_relations_new_dict.get(i.get('triple')[1].lower()):\n",
    "        i['partofspeech']='positive'\n",
    "        disease_list.append(i)\n",
    "    elif negative_relations_new_dict.get(i.get('triple')[1].lower()):\n",
    "        i['partofspeech']='negative'\n",
    "        disease_list.append(i)\n",
    "    else:\n",
    "        i['partofspeech']='none'\n",
    "        dropout.append(i)"
   ]
  },
  {
   "cell_type": "code",
   "execution_count": 168,
   "id": "4a93f0b7-4798-4d00-abf7-3c777ed8f93e",
   "metadata": {},
   "outputs": [
    {
     "data": {
      "text/plain": [
       "9898"
      ]
     },
     "execution_count": 168,
     "metadata": {},
     "output_type": "execute_result"
    }
   ],
   "source": [
    "len(disease_list)"
   ]
  },
  {
   "cell_type": "code",
   "execution_count": 173,
   "id": "c41af5a3-cd67-40f5-83fd-7911214b1d7c",
   "metadata": {},
   "outputs": [],
   "source": [
    "dropout=[]\n",
    "months=['Jan','Feb','Mar','Apr','May','Jun','Jul','Aug','Sep','Oct','Nov','Dec']\n",
    "for i in disease_list:\n",
    "    j=pubtator_info_dict.get(i.get('PMID')).get('DP')\n",
    "    if re.search('[S,s]upplement',j,flags=re.M|re.I):\n",
    "        j=re.sub('[S,s]upplement.*','',j,flags=re.M|re.I)\n",
    "    j=re.sub('\\s?-\\s?','-',j)\n",
    "    j=re.sub('\\.','',j)\n",
    "    j=re.sub('Aout','Aug',j)\n",
    "    if len(j.split(' '))==3:\n",
    "        try:\n",
    "            date=int(datetime.datetime.strftime(datetime.datetime.strptime(j,'%Y %b %d'), '%Y%m%d'))\n",
    "        except:\n",
    "            if j.split()[1] in months:\n",
    "                if re.search(r'\\d+',j.split()[2],flags=re.M|re.I):\n",
    "                    j=j.split()[0]+' '+j.split()[1]+' '+ re.search(r'\\d+',j.split()[2],flags=re.M|re.I).group()\n",
    "                    try:\n",
    "                        date=int(datetime.datetime.strftime(datetime.datetime.strptime(j,'%Y %b %d'), '%Y%m%d'))\n",
    "                    except:\n",
    "                        j=j[:4]\n",
    "                        date=int(datetime.datetime.strftime(datetime.datetime.strptime(j,'%Y'), '%Y'+'0101'))\n",
    "                        print('***************************************ERROR**********************************************')\n",
    "                else:\n",
    "                    j=j.split()[0]+' '+j.split()[1]+' '+ '1'\n",
    "                    try:\n",
    "                        date=int(datetime.datetime.strftime(datetime.datetime.strptime(j,'%Y %b %d'), '%Y%m%d'))\n",
    "                    except:\n",
    "                        print(j)\n",
    "                        j=j[:4]\n",
    "                        date=int(datetime.datetime.strftime(datetime.datetime.strptime(j,'%Y'), '%Y'+'0101'))\n",
    "            elif j.split()[1] not in months:\n",
    "                if re.search(r'([a-zA-Z]+)[-/]([a-zA-Z]+)',j.split()[1],flags=re.M|re.I) or re.search(r'([a-zA-Z]+)[-/](\\d+)',j.split()[1],flags=re.M|re.I):\n",
    "                    if re.search(r'([a-zA-Z]+)[-/]([a-zA-Z]+)',j.split()[1],flags=re.M|re.I):\n",
    "                        middle=re.search(r'([a-zA-Z]+)[-/]([a-zA-Z]+)',j.split()[1],flags=re.M|re.I).group(1)\n",
    "                    else:\n",
    "                        middle=re.search(r'([a-zA-Z]+)[-/](\\d+)',j.split()[1],flags=re.M|re.I).group(1)\n",
    "                    if middle in months:\n",
    "                        if re.search(r'\\d+',j.split()[2],flags=re.M|re.I):\n",
    "                            j=j.split()[0]+' '+middle+' '+ re.search(r'\\d+',j.split()[2],flags=re.M|re.I).group()\n",
    "                        else:\n",
    "                            j=j.split()[0]+' '+middle+' '+ '1'\n",
    "                    elif re.match(r'Sum(mer)?',middle):\n",
    "                        if re.search(r'\\d+',j.split()[2],flags=re.M|re.I):\n",
    "                            j=j.split()[0]+' '+'Jun'+' '+ re.search(r'\\d+',j.split()[2],flags=re.M|re.I).group()\n",
    "                        else:\n",
    "                            j=j.split()[0]+' '+'Jun'+' '+ '1'\n",
    "                    elif re.match(r'Spr(ing)?',middle):\n",
    "                        if re.search(r'\\d+',j.split()[2],flags=re.M|re.I):\n",
    "                            j=j.split()[0]+' '+'Mar'+' '+ re.search(r'\\d+',j.split()[2],flags=re.M|re.I).group()\n",
    "                        else:\n",
    "                            j=j.split()[0]+' '+'Mar'+' '+ '1'\n",
    "                    elif re.match(r'Win(ter)?',middle):\n",
    "                        if re.search(r'\\d+',j.split()[2],flags=re.M|re.I):\n",
    "                            j=j.split()[0]+' '+'Dec'+' '+ re.search(r'\\d+',j.split()[2],flags=re.M|re.I).group()\n",
    "                        else:\n",
    "                            j=j.split()[0]+' '+'Dec'+' '+ '1'    \n",
    "                    elif re.match(r'Aut(umn)?',middle) or \\\n",
    "                    re.match(r'Fall',middle):\n",
    "                        if re.search(r'\\d+',j.split()[2],flags=re.M|re.I):\n",
    "                            j=j.split()[0]+' '+'Sep'+' '+ re.search(r'\\d+',j.split()[2],flags=re.M|re.I).group()\n",
    "                        else:\n",
    "                            j=j.split()[0]+' '+'Sep'+' '+ '1'      \n",
    "                    try:\n",
    "                        date=int(datetime.datetime.strftime(datetime.datetime.strptime(j,'%Y %b %d'), '%Y%m%d'))\n",
    "                    except:\n",
    "                        print(j)\n",
    "                        j=j[:4]\n",
    "                        date=int(datetime.datetime.strftime(datetime.datetime.strptime(j,'%Y'), '%Y'+'0101'))\n",
    "                else:\n",
    "                    j=j[:4]\n",
    "                    date=int(datetime.datetime.strftime(datetime.datetime.strptime(j,'%Y'), '%Y'+'0101'))\n",
    "    elif len(j.split())==2:\n",
    "        if re.match(r'Sum(mer)?',j.split()[1]):\n",
    "            date=int(j[:4]+'0601')\n",
    "        elif re.match(r'Spr(ing)?',j.split()[1]):\n",
    "            date=int(j[:4]+'0301')\n",
    "        elif re.match(r'Win(ter)?',j.split()[1]):\n",
    "            date=int(j[:4]+'1201')\n",
    "        elif re.match(r'Aut(umn)?',j.split()[1]) or re.match(r'Fall',j.split()[1]):\n",
    "            date=int(j[:4]+'0901')\n",
    "        elif re.match(r'Sum(mer)?',j.split()[0]):\n",
    "            date=int(j[-4:]+'0601')\n",
    "        elif re.match(r'Spr(ing)?',j.split()[0]):\n",
    "            date=int(j[-4:]+'0301')\n",
    "        elif re.match(r'Win(ter)?',j.split()[0]):\n",
    "            date=int(j[-4:]+'1201')\n",
    "        elif re.match(r'Aut(umn)?',j.split()[0]) or re.match(r'Fall',j.split()[0]):\n",
    "            date=int(j[-4:]+'0901')\n",
    "        else:\n",
    "            try:\n",
    "                date=int(datetime.datetime.strftime(datetime.datetime.strptime(j,'%Y %b'), '%Y%m'+'01'))\n",
    "            except:\n",
    "                if re.search(r'([a-zA-Z]+)[-/]([a-zA-Z]+)',j.split()[1],flags=re.M|re.I) or re.search(r'([a-zA-Z]+)[-/](\\d+)',j.split()[1],flags=re.M|re.I):\n",
    "                    if re.search(r'([a-zA-Z]+)[-/]([a-zA-Z]+)',j.split()[1],flags=re.M|re.I):\n",
    "                        middle=re.search(r'([a-zA-Z]+)[-/]([a-zA-Z]+)',j.split()[1],flags=re.M|re.I).group(1)\n",
    "                    else:\n",
    "                        middle=re.search(r'([a-zA-Z]+)[-/](\\d+)',j.split()[1],flags=re.M|re.I).group(1)\n",
    "                    if middle in months:\n",
    "                        j=j.split()[0]+' '+middle+' '+ '1'\n",
    "                    elif re.match(r'Sum(mer)?',middle):\n",
    "                        j=j.split()[0]+' '+'Jun'+' '+ '1'\n",
    "                    elif re.match(r'Spr(ing)?',middle):\n",
    "                        j=j.split()[0]+' '+'Mar'+' '+ '1'\n",
    "                    elif re.match(r'Win(ter)?',middle):\n",
    "                        j=j.split()[0]+' '+'Dec'+' '+ '1'    \n",
    "                    elif re.match(r'Aut(umn)?',middle) or \\\n",
    "                    re.match(r'Fall',middle):\n",
    "                        j=j.split()[0]+' '+'Sep'+' '+ '1'      \n",
    "                    try:\n",
    "                        date=int(datetime.datetime.strftime(datetime.datetime.strptime(j,'%Y %b %d'), '%Y%m%d'))\n",
    "                    except:\n",
    "                        j=j[:4]\n",
    "                        date=int(datetime.datetime.strftime(datetime.datetime.strptime(j,'%Y'), '%Y'+'0101'))\n",
    "                elif re.search(r'(\\d+)[-/](\\d+)',j.split()[1],flags=re.M|re.I):\n",
    "                    midd=re.search(r'(\\d+)[-/](\\d+)',j.split()[1],flags=re.M|re.I).group(1)\n",
    "                    if len(midd)!=2:\n",
    "                        midd='0'+midd\n",
    "                    j=j[:4]\n",
    "                    date=int(datetime.datetime.strftime(datetime.datetime.strptime(j,'%Y'), '%Y'+midd+'01'))\n",
    "                else:\n",
    "                    print(j)\n",
    "                    j=j[:4]\n",
    "                    date=int(datetime.datetime.strftime(datetime.datetime.strptime(j,'%Y'), '%Y'+'0101'))\n",
    "    elif len(j.split())==1:\n",
    "        j=j[:4]\n",
    "        date=int(datetime.datetime.strftime(datetime.datetime.strptime(j,'%Y'), '%Y'+'0101'))\n",
    "    else:\n",
    "        j=j.split()[0]+' '+j.split()[1]+' '+re.search(r'\\d+',j.split()[2],flags=re.M|re.I).group()\n",
    "        date=int(datetime.datetime.strftime(datetime.datetime.strptime(j,'%Y %b %d'), '%Y%m%d'))\n",
    "    i['date']=date\n",
    "    i['TA']=pubtator_info_dict.get(i.get('PMID')).get('TA')\n",
    "    i['JT']=pubtator_info_dict.get(i.get('PMID')).get('JT')\n",
    "    i['year']=int(str(date)[:4])"
   ]
  },
  {
   "cell_type": "code",
   "execution_count": 174,
   "id": "9a81f098-1859-41b4-8200-6279f84c1afb",
   "metadata": {},
   "outputs": [
    {
     "data": {
      "text/plain": [
       "{'triple': ['Saxitoxin', 'cause', 'toxicity'],\n",
       " 'PMID': '37888479',\n",
       " 'sentence': 'Saxitoxin (STX) causes high toxicity by blocking voltage-gated sodium channels, and it poses a major threat to marine ecosystems and human health worldwide.',\n",
       " 'AB': 'Saxitoxin (STX) causes high toxicity by blocking voltage-gated sodium channels, and it poses a major threat to marine ecosystems and human health worldwide. Our work evaluated the neurotoxicity and chronic toxicology of STX to Caenorhabditis elegans by an analysis of lifespan, brood size, growth ability, reactive oxygen species (ROS) and adenosine triphosphate (ATP) levels, and the overexpression of green fluorescent protein (GFP). After exposure to a series of concentrations of STX for 24 h, worms showed paralysis symptoms and fully recovered within 6 h; less than 5% of worms died at the highest concentration of 1000 ng/mL for first larval stage (L1) worms and 10,000 ng/mL for fourth larval stage (L4) worms. Declines in lifespan, productivity, and body size of C. elegans were observed under the stress of 1, 10, and 100 ng/mL STX, and the lifespan was shorter than that in controls. With STX exposure, the productivity declined by 32-49%; the body size, including body length and body area, declined by 13-18% and 25-27%, respectively. The levels of ROS exhibited a gradual increase over time, accompanied by a positive concentration effect of STX resulting in 1.14-1.86 times higher levels compared to the control group in L4 worms. Conversely, no statistically significant differences were observed between L1 worms. Finally, after exposure to STX for 48 h, ATP levels and GFP expression in C. elegans showed a significant dose-dependent increase. Our study reports the first evidence that STX is not lethal but imposes substantial oxidative stress on C. elegans, with a dose-responsive relationship. Our results indicated that C. elegans is an ideal model to further study the mechanisms underlying the fitness of organisms under the stress caused by paralytic shellfish toxins including STX.',\n",
       " 'entity_one': 'Saxitoxin',\n",
       " 'entity_one_type': 'Toxin',\n",
       " 'entity_two': 'toxicity',\n",
       " 'entity_two_type': 'Disease',\n",
       " 'entity_one_transformed': 'Saxitoxin',\n",
       " 'entity_two_transformed': 'Drug-Related Side Effects and Adverse Reactions',\n",
       " 'transformed_triple': ('Saxitoxin', 'cause', 'toxicity', '37888479'),\n",
       " 'method': ['shortest path'],\n",
       " 'verb': 'cause',\n",
       " 'IF': 0.0,\n",
       " 'IF5': 0.0,\n",
       " 'partofspeech': 'positive',\n",
       " 'date': 20231019,\n",
       " 'TA': 'Mar Drugs',\n",
       " 'JT': 'Marine drugs',\n",
       " 'year': 2023}"
      ]
     },
     "execution_count": 174,
     "metadata": {},
     "output_type": "execute_result"
    }
   ],
   "source": [
    "disease_list[-1]"
   ]
  },
  {
   "cell_type": "code",
   "execution_count": 175,
   "id": "bec53a4e-9e83-4432-9870-37c98ed2cd78",
   "metadata": {},
   "outputs": [
    {
     "name": "stdout",
     "output_type": "stream",
     "text": [
      "{'triple': ['NOTCH1', 'impede', 'carcinogenesis'], 'PMID': '36658434', 'sentence': 'NOTCH1 mutant clones occupy the majority of normal human esophagus by middle age but are comparatively rare in esophageal cancers, suggesting NOTCH1 mutations drive clonal expansion but impede carcinogenesis.', 'AB': 'NOTCH1 mutant clones occupy the majority of normal human esophagus by middle age but are comparatively rare in esophageal cancers, suggesting NOTCH1 mutations drive clonal expansion but impede carcinogenesis. Here we test this hypothesis. Sequencing NOTCH1 mutant clones in aging human esophagus reveals frequent biallelic mutations that block NOTCH1 signaling. In mouse esophagus, heterozygous Notch1 mutation confers a competitive advantage over wild-type cells, an effect enhanced by loss of the second allele. Widespread Notch1 loss alters transcription but has minimal effects on the epithelial structure and cell dynamics. In a carcinogenesis model, Notch1 mutations were less prevalent in tumors than normal epithelium. Deletion of Notch1 reduced tumor growth, an effect recapitulated by anti-NOTCH1 antibody treatment. Notch1 null tumors showed reduced proliferation. We conclude that Notch1 mutations in normal epithelium are beneficial as wild-type Notch1 favors tumor expansion. NOTCH1 blockade may have therapeutic potential in preventing esophageal squamous cancer.', 'entity_one': 'NOTCH1', 'entity_one_type': 'Gene', 'entity_two': 'carcinogenesis', 'entity_two_type': 'Disease', 'entity_one_transformed': 'NOTCH1', 'entity_two_transformed': 'Carcinogenesis', 'transformed_triple': ('NOTCH1', 'impede', 'carcinogenesis', '36658434'), 'method': ['open domain'], 'verb': 'impede', 'IF': '30.8', 'IF5': '37.4', 'partofspeech': 'negative', 'date': 20230201, 'TA': 'Nat Genet', 'JT': 'Nature genetics', 'year': 2023}\n"
     ]
    }
   ],
   "source": [
    "for i in disease_list:\n",
    "    if i.get('triple')[1]=='impede':\n",
    "        print(i)\n",
    "        break"
   ]
  },
  {
   "cell_type": "code",
   "execution_count": 176,
   "id": "46181065-5c69-47e7-b26c-3c58dbba962c",
   "metadata": {},
   "outputs": [
    {
     "data": {
      "text/plain": [
       "9898"
      ]
     },
     "execution_count": 176,
     "metadata": {},
     "output_type": "execute_result"
    }
   ],
   "source": [
    "len(disease_list)"
   ]
  },
  {
   "cell_type": "code",
   "execution_count": 177,
   "id": "c1463d67-2500-4c0f-8d68-c89a4c75922f",
   "metadata": {},
   "outputs": [],
   "source": [
    "entity_pairs=['Gene',\n",
    " 'RNA',\n",
    " 'Protein',\n",
    " 'Carbohydrate',\n",
    " 'Lipid',\n",
    " 'Peptide',\n",
    " 'Pharmaceutical_Preparations',\n",
    " 'Toxin',\n",
    " 'Mutation',\n",
    " 'Disease']"
   ]
  },
  {
   "cell_type": "code",
   "execution_count": 178,
   "id": "2737b933-a72c-4ba3-b000-9770ea1b3345",
   "metadata": {},
   "outputs": [],
   "source": [
    "names=locals()\n",
    "for i in entity_pairs:\n",
    "    names[i+'_typecount']=set()\n",
    "for j in disease_list:\n",
    "    for i in entitydict_tolist.get(j.get('entity_one_transformed')):\n",
    "        i=i.replace(' ','_')\n",
    "        names[i+'_typecount'].add(j.get('entity_one_transformed'))"
   ]
  },
  {
   "cell_type": "code",
   "execution_count": 179,
   "id": "000af99d-8dbf-4119-9334-b5d068b6303e",
   "metadata": {},
   "outputs": [
    {
     "data": {
      "text/plain": [
       "['Carbohydrate', 'Lipid', 'Toxin']"
      ]
     },
     "execution_count": 179,
     "metadata": {},
     "output_type": "execute_result"
    }
   ],
   "source": [
    "entitydict_tolist.get('Lipopolysaccharides')"
   ]
  },
  {
   "cell_type": "code",
   "execution_count": 180,
   "id": "e24d4221-790a-41d3-b53c-3dd9d52fac6f",
   "metadata": {},
   "outputs": [
    {
     "name": "stdout",
     "output_type": "stream",
     "text": [
      "Gene 1492\n",
      "RNA 43\n",
      "Protein 18\n",
      "Carbohydrate 82\n",
      "Lipid 84\n",
      "Peptide 27\n",
      "Pharmaceutical_Preparations 3\n",
      "Toxin 4\n",
      "Mutation 293\n",
      "Disease 0\n"
     ]
    }
   ],
   "source": [
    "for i in entity_pairs:\n",
    "    print(i+' '+str(len(list(names[i+'_typecount']))))"
   ]
  },
  {
   "cell_type": "code",
   "execution_count": 181,
   "id": "8d0441c2-936f-4931-9582-62936194f7b3",
   "metadata": {},
   "outputs": [],
   "source": [
    "disease_list_copy=copy.deepcopy(disease_list)"
   ]
  },
  {
   "cell_type": "code",
   "execution_count": 182,
   "id": "0978f6f1-ff62-4556-9662-920fe50ebdab",
   "metadata": {},
   "outputs": [
    {
     "data": {
      "text/plain": [
       "{'triple': ['alanine aminotransferase', 'recognized', 'mortality'],\n",
       " 'PMID': '34063029',\n",
       " 'sentence': '(1) Background: A significantly reduced alanine aminotransferase (ALT) level is being recognized as a risk factor of increasing mortality in the elderly in relation to frailty.',\n",
       " 'AB': '(1) Background: A significantly reduced alanine aminotransferase (ALT) level is being recognized as a risk factor of increasing mortality in the elderly in relation to frailty. In the elderly, both frailty and ischemic stroke are not only common, but are also associated with mortality. The aim of this research was to investigate whether a significantly reduced ALT level increases the all-cause mortality rate in the elderly with ischemic stroke. (2) Methods: Between February 2014 and April 2019, a retrospective study of 901 patients with ischemic stroke admitted to a university-affiliated hospital was conducted. Cox proportional hazard regression was used to determine whether a significantly reduced ALT level is an independent risk factor for mortality in elderly patients after an ischemic stroke. (3) Results: This study enrolled 323 older adults (age >= 65 years) who were first diagnosed with ischemic stroke. The mean age of the participants was 76.5 +- 6.6 years, the mean survival time was 37.1 +- 20.4 months, and the number of deaths was 96 (29.7%). Our results showed that reduced ALT level (less than 10 U/L) increased the risk of all-cause mortality in the elderly after ischemic stroke (adjusted HR: 3.24, 95% CI: 1.95-5.41; p < 0.001). (4) Conclusions: A significantly reduced ALT level at the time of diagnosis (less than 10 U/L) is an independent risk factor that increases the mortality rate in the elderly after ischemic stroke.',\n",
       " 'entity_one': 'alanine aminotransferase',\n",
       " 'entity_one_type': 'Gene',\n",
       " 'entity_two': 'mortality',\n",
       " 'entity_two_type': 'Disease',\n",
       " 'entity_one_transformed': 'GPT',\n",
       " 'entity_two_transformed': 'Death',\n",
       " 'transformed_triple': ('alanine aminotransferase',\n",
       "  'recognized',\n",
       "  'mortality',\n",
       "  '34063029'),\n",
       " 'method': ['deep learning'],\n",
       " 'verb': 'recognized',\n",
       " 'IF': 0.0,\n",
       " 'IF5': 0.0,\n",
       " 'partofspeech': 'positive',\n",
       " 'date': 20210505,\n",
       " 'TA': 'Int J Environ Res Public Health',\n",
       " 'JT': 'International journal of environmental research and public health',\n",
       " 'year': 2021}"
      ]
     },
     "execution_count": 182,
     "metadata": {},
     "output_type": "execute_result"
    }
   ],
   "source": [
    "disease_list_copy[0]"
   ]
  },
  {
   "cell_type": "code",
   "execution_count": 183,
   "id": "60605fdc-f2b9-44a4-b165-195a0cb48006",
   "metadata": {},
   "outputs": [],
   "source": [
    "for i in disease_list_copy:\n",
    "    if len(entitydict_tolist.get(i.get('entity_one_transformed')))>1:\n",
    "        i['entity_one_type']='; '.join(entitydict_tolist.get(i.get('entity_one_transformed')))"
   ]
  },
  {
   "cell_type": "code",
   "execution_count": 184,
   "id": "9fc3006b-3509-4c6b-899b-68cd676cfbeb",
   "metadata": {},
   "outputs": [
    {
     "data": {
      "text/plain": [
       "('Pulmonary Disease, Chronic Obstructive', ['Disease'])"
      ]
     },
     "execution_count": 184,
     "metadata": {},
     "output_type": "execute_result"
    }
   ],
   "source": [
    "list(entitydict_tolist.items())[0]"
   ]
  },
  {
   "cell_type": "code",
   "execution_count": 185,
   "id": "ebd10888-9a1d-4ce3-bf2b-b8f234650e65",
   "metadata": {},
   "outputs": [
    {
     "data": {
      "text/plain": [
       "{'triple': ['alanine aminotransferase', 'recognized', 'mortality'],\n",
       " 'PMID': '34063029',\n",
       " 'sentence': '(1) Background: A significantly reduced alanine aminotransferase (ALT) level is being recognized as a risk factor of increasing mortality in the elderly in relation to frailty.',\n",
       " 'AB': '(1) Background: A significantly reduced alanine aminotransferase (ALT) level is being recognized as a risk factor of increasing mortality in the elderly in relation to frailty. In the elderly, both frailty and ischemic stroke are not only common, but are also associated with mortality. The aim of this research was to investigate whether a significantly reduced ALT level increases the all-cause mortality rate in the elderly with ischemic stroke. (2) Methods: Between February 2014 and April 2019, a retrospective study of 901 patients with ischemic stroke admitted to a university-affiliated hospital was conducted. Cox proportional hazard regression was used to determine whether a significantly reduced ALT level is an independent risk factor for mortality in elderly patients after an ischemic stroke. (3) Results: This study enrolled 323 older adults (age >= 65 years) who were first diagnosed with ischemic stroke. The mean age of the participants was 76.5 +- 6.6 years, the mean survival time was 37.1 +- 20.4 months, and the number of deaths was 96 (29.7%). Our results showed that reduced ALT level (less than 10 U/L) increased the risk of all-cause mortality in the elderly after ischemic stroke (adjusted HR: 3.24, 95% CI: 1.95-5.41; p < 0.001). (4) Conclusions: A significantly reduced ALT level at the time of diagnosis (less than 10 U/L) is an independent risk factor that increases the mortality rate in the elderly after ischemic stroke.',\n",
       " 'entity_one': 'alanine aminotransferase',\n",
       " 'entity_one_type': 'Gene',\n",
       " 'entity_two': 'mortality',\n",
       " 'entity_two_type': 'Disease',\n",
       " 'entity_one_transformed': 'GPT',\n",
       " 'entity_two_transformed': 'Death',\n",
       " 'transformed_triple': ('alanine aminotransferase',\n",
       "  'recognized',\n",
       "  'mortality',\n",
       "  '34063029'),\n",
       " 'method': ['deep learning'],\n",
       " 'verb': 'recognized',\n",
       " 'IF': 0.0,\n",
       " 'IF5': 0.0,\n",
       " 'partofspeech': 'positive',\n",
       " 'date': 20210505,\n",
       " 'TA': 'Int J Environ Res Public Health',\n",
       " 'JT': 'International journal of environmental research and public health',\n",
       " 'year': 2021}"
      ]
     },
     "execution_count": 185,
     "metadata": {},
     "output_type": "execute_result"
    }
   ],
   "source": [
    "disease_list_copy[0]"
   ]
  },
  {
   "cell_type": "code",
   "execution_count": 186,
   "id": "a8cec183-c9d7-483f-b943-bc0b43aa84b0",
   "metadata": {},
   "outputs": [
    {
     "data": {
      "text/plain": [
       "9898"
      ]
     },
     "execution_count": 186,
     "metadata": {},
     "output_type": "execute_result"
    }
   ],
   "source": [
    "len(disease_list_copy)"
   ]
  },
  {
   "cell_type": "code",
   "execution_count": 187,
   "id": "1590d61a-f4c1-491d-912f-d4b4040aab4f",
   "metadata": {},
   "outputs": [],
   "source": [
    "positive_relations=[]\n",
    "negative_relations=[]\n",
    "for i in disease_list_copy:\n",
    "    if i.get('partofspeech')=='positive':\n",
    "        positive_relations.append(i)\n",
    "    else:\n",
    "        negative_relations.append(i)"
   ]
  },
  {
   "cell_type": "code",
   "execution_count": 188,
   "id": "82c02f35-23ed-470d-8a21-518f915132c0",
   "metadata": {},
   "outputs": [
    {
     "data": {
      "text/plain": [
       "8416"
      ]
     },
     "execution_count": 188,
     "metadata": {},
     "output_type": "execute_result"
    }
   ],
   "source": [
    "len(positive_relations)"
   ]
  },
  {
   "cell_type": "code",
   "execution_count": 189,
   "id": "40d261c7-260a-4e53-9fa2-2d62ee2cb7b8",
   "metadata": {},
   "outputs": [],
   "source": [
    "json.dump(positive_relations,open('results/step4/aging_relations.json','w'))\n",
    "json.dump(negative_relations,open('results/step4/longevity_relations.json','w'))"
   ]
  },
  {
   "cell_type": "code",
   "execution_count": 190,
   "id": "627b17cf-14b3-4fbc-9a7e-29cfd7db56a2",
   "metadata": {},
   "outputs": [],
   "source": [
    "json.dump(disease_list_copy,open('results/step4/disease_relation.json','w'))"
   ]
  },
  {
   "cell_type": "code",
   "execution_count": null,
   "id": "84a3124f-af29-4e23-bfb3-69e2085de7bf",
   "metadata": {},
   "outputs": [],
   "source": []
  },
  {
   "cell_type": "code",
   "execution_count": 191,
   "id": "6828dc83-720b-4b6b-a28f-5b7dfe47b89a",
   "metadata": {},
   "outputs": [],
   "source": [
    "positive_relations=json.load(open('results/step4/aging_relations.json','r'))\n",
    "negative_relations=json.load(open('results/step4/longevity_relations.json','r'))\n",
    "disease_list_copy=json.load(open('results/step4/disease_relation.json','r'))"
   ]
  },
  {
   "cell_type": "markdown",
   "id": "9caee489-adca-4d06-b660-a33226f72690",
   "metadata": {},
   "source": [
    "# Statistics"
   ]
  },
  {
   "cell_type": "code",
   "execution_count": 192,
   "id": "54692628-746d-4d8b-a915-333588c9e2c9",
   "metadata": {},
   "outputs": [
    {
     "name": "stdout",
     "output_type": "stream",
     "text": [
      "Gene\t1368\n",
      "RNA\t39\n",
      "Protein\t17\n",
      "Carbohydrate\t70\n",
      "Lipid\t75\n",
      "Peptide\t22\n",
      "Pharmaceutical Preparations\t2\n",
      "Toxin\t4\n",
      "Mutation\t289\n",
      "Disease\t0\n"
     ]
    }
   ],
   "source": [
    "for j in entity_pairs:\n",
    "    j=j.replace('_',' ')\n",
    "    names[j+'_aging']=set()\n",
    "for i in disease_list:\n",
    "    if i.get('partofspeech')=='positive':\n",
    "        for j in entitydict_tolist.get(i.get('entity_one_transformed')):\n",
    "            j=j.replace('_',' ')\n",
    "            names[j+'_aging'].add(i.get('entity_one_transformed'))\n",
    "for j in entity_pairs:    \n",
    "    j=j.replace('_',' ')\n",
    "    print(j+'\\t'+str(len(names[j+'_aging'])))"
   ]
  },
  {
   "cell_type": "code",
   "execution_count": 193,
   "id": "1b5ae6c5-55f5-485d-add2-77a48db0dad8",
   "metadata": {},
   "outputs": [
    {
     "name": "stdout",
     "output_type": "stream",
     "text": [
      "1368,39,17,70,75,22,2,4,289,0,"
     ]
    }
   ],
   "source": [
    "for j in entity_pairs:    \n",
    "    j=j.replace('_',' ')\n",
    "    print(str(len(names[j+'_aging']))+',', end='')"
   ]
  },
  {
   "cell_type": "code",
   "execution_count": 194,
   "id": "c32de65d-9ca8-46f9-affe-cb9a95c888be",
   "metadata": {},
   "outputs": [
    {
     "name": "stdout",
     "output_type": "stream",
     "text": [
      "Gene\t400\n",
      "RNA\t12\n",
      "Protein\t9\n",
      "Carbohydrate\t53\n",
      "Lipid\t40\n",
      "Peptide\t13\n",
      "Pharmaceutical Preparations\t3\n",
      "Toxin\t1\n",
      "Mutation\t8\n",
      "Disease\t0\n"
     ]
    }
   ],
   "source": [
    "for j in entity_pairs:\n",
    "    j=j.replace('_',' ')\n",
    "    names[j+'_longevity']=set()\n",
    "for i in disease_list:\n",
    "    if i.get('partofspeech')=='negative':\n",
    "        for j in entitydict_tolist.get(i.get('entity_one_transformed')):\n",
    "            j=j.replace('_',' ')\n",
    "            names[j+'_longevity'].add(i.get('entity_one_transformed'))\n",
    "for j in entity_pairs:    \n",
    "    j=j.replace('_',' ')\n",
    "    print(j+'\\t'+str(len(names[j+'_longevity'])))"
   ]
  },
  {
   "cell_type": "code",
   "execution_count": 195,
   "id": "161447d7-b609-4ccc-ae1d-8dce84beafcf",
   "metadata": {},
   "outputs": [],
   "source": [
    "Genedict=json.load(open('../dict/Genedict.json'))"
   ]
  },
  {
   "cell_type": "code",
   "execution_count": 196,
   "id": "a208ef32-a7eb-495c-a645-a0859f749894",
   "metadata": {},
   "outputs": [
    {
     "data": {
      "text/plain": [
       "[('A1BG', ['A1BG']),\n",
       " ('A1CF', ['A1CF']),\n",
       " ('A2M', ['A2M']),\n",
       " ('A2ML1', ['A2ML1']),\n",
       " ('A3GALT2', ['A3GALT2']),\n",
       " ('A4GALT', ['A4GALT']),\n",
       " ('A4GNT', ['A4GNT']),\n",
       " ('AAAS', ['AAAS']),\n",
       " ('AACS', ['AACS']),\n",
       " ('AADAC', ['AADAC'])]"
      ]
     },
     "execution_count": 196,
     "metadata": {},
     "output_type": "execute_result"
    }
   ],
   "source": [
    "list(Genedict.items())[:10]"
   ]
  },
  {
   "cell_type": "code",
   "execution_count": 197,
   "id": "7da0ebdf-324d-4718-ba52-ec17b2d30bba",
   "metadata": {},
   "outputs": [],
   "source": [
    "Genedict_upper={}\n",
    "for i,j in Genedict.items():\n",
    "    Genedict_upper[i.upper()]=j"
   ]
  },
  {
   "cell_type": "code",
   "execution_count": 198,
   "id": "89f5594d-16b4-445d-aafb-9acec1430f4a",
   "metadata": {},
   "outputs": [
    {
     "name": "stdout",
     "output_type": "stream",
     "text": [
      "1871\n",
      "531\n"
     ]
    }
   ],
   "source": [
    "num_of_aging=set()\n",
    "num_of_longevity=set()\n",
    "for i in disease_list:\n",
    "    if i.get('partofspeech')=='positive':\n",
    "        num_of_aging.add(i.get('entity_one_transformed'))\n",
    "    elif i.get('partofspeech')=='negative':\n",
    "        num_of_longevity.add(i.get('entity_one_transformed'))\n",
    "print(len(num_of_aging))\n",
    "print(len(num_of_longevity))"
   ]
  },
  {
   "cell_type": "code",
   "execution_count": 199,
   "id": "68b2171e-310d-4657-9999-3a0fc32b59e4",
   "metadata": {},
   "outputs": [],
   "source": [
    "disease_entity_list=[]\n",
    "disease_entity_triple=set()\n",
    "disease_entity_dict={}\n",
    "for i in disease_list:\n",
    "    if i.get('partofspeech')=='positive':\n",
    "        if i.get('entity_one_type')=='Gene':\n",
    "            disease_entity_triple.add((i.get('entity_one_transformed'),i.get('entity_two_transformed'),i.get('PMID')))\n",
    "            disease_entity_list.append(i)\n",
    "            disease_entity_dict[i.get('entity_one_transformed')]=disease_entity_dict.get(i.get('entity_one_transformed'),0)+1"
   ]
  },
  {
   "cell_type": "code",
   "execution_count": 200,
   "id": "26b8beff-e617-457c-8a8f-a9dbaa583e6e",
   "metadata": {},
   "outputs": [
    {
     "data": {
      "text/plain": [
       "1368"
      ]
     },
     "execution_count": 200,
     "metadata": {},
     "output_type": "execute_result"
    }
   ],
   "source": [
    "len(disease_entity_dict)"
   ]
  },
  {
   "cell_type": "code",
   "execution_count": 201,
   "id": "0c6ddfde-85f3-4981-95e8-ad56c266117d",
   "metadata": {},
   "outputs": [],
   "source": [
    "disease_entity_dict_sorted = sorted(disease_entity_dict.items(), key=lambda x: x[1], reverse=True)"
   ]
  },
  {
   "cell_type": "code",
   "execution_count": 202,
   "id": "af546138-fe74-477d-8c3e-2b4babd1a8ae",
   "metadata": {},
   "outputs": [
    {
     "data": {
      "text/plain": [
       "1368"
      ]
     },
     "execution_count": 202,
     "metadata": {},
     "output_type": "execute_result"
    }
   ],
   "source": [
    "len(disease_entity_dict_sorted)"
   ]
  },
  {
   "cell_type": "code",
   "execution_count": 203,
   "id": "0172c694-5142-4a17-a111-7b1c6aa97a82",
   "metadata": {},
   "outputs": [
    {
     "name": "stdout",
     "output_type": "stream",
     "text": [
      "('INS', 474)\n",
      "('CRP', 241)\n",
      "('APOE', 181)\n",
      "('KL', 180)\n",
      "('MAPT', 165)\n",
      "('SIRT1', 103)\n",
      "('IL6', 94)\n",
      "('ADIPOQ', 80)\n",
      "('CD4', 76)\n",
      "('LEP', 70)\n",
      "('LMNA', 69)\n",
      "('ALB', 65)\n",
      "('WRN', 62)\n",
      "('TP53', 57)\n",
      "('SIRT6', 46)\n",
      "('ACE', 43)\n",
      "('MTOR', 42)\n",
      "('CST3', 41)\n",
      "('SHBG', 39)\n",
      "('BDNF', 36)\n"
     ]
    }
   ],
   "source": [
    "for i in disease_entity_dict_sorted[:20]:\n",
    "    print(i)"
   ]
  },
  {
   "cell_type": "code",
   "execution_count": 204,
   "id": "ae38856f-6d4e-4b76-ad5d-95a542a1b41a",
   "metadata": {},
   "outputs": [
    {
     "data": {
      "text/plain": [
       "{'from': 0,\n",
       " 'to': 1,\n",
       " 'relation': 'defined',\n",
       " 'PMID': ['30781849'],\n",
       " 'sentence': ['(1) Background: Chronic obstructive pulmonary disease (COPD) is defined as an inflammatory disorder that presents an increasingly prevalent health problem.'],\n",
       " 'DP': ['2019 Feb 13'],\n",
       " 'TI': ['Chronic Obstructive Pulmonary Disease as a Main Factor of Premature Aging.'],\n",
       " 'TA': ['Int J Environ Res Public Health'],\n",
       " 'IF': [0.0],\n",
       " 'IF5': [0.0],\n",
       " 'date': [20190213],\n",
       " 'first_entity_transformed': 'Pulmonary Disease, Chronic Obstructive',\n",
       " 'second_entity_transformed': 'Inflammation',\n",
       " 'first_entity': ['COPD'],\n",
       " 'second_entity': ['inflammatory disorder'],\n",
       " 'first_type': ['Disease'],\n",
       " 'second_type': ['Disease'],\n",
       " 'method': ['deep learning, shortest path']}"
      ]
     },
     "execution_count": 204,
     "metadata": {},
     "output_type": "execute_result"
    }
   ],
   "source": [
    "relation_interpolation_list[0]"
   ]
  },
  {
   "cell_type": "code",
   "execution_count": 205,
   "id": "47c4e8f4-dcb3-49b5-b983-3c7647a20639",
   "metadata": {},
   "outputs": [
    {
     "data": {
      "text/plain": [
       "{'triple': ['COPD', 'defined', 'inflammatory disorder'],\n",
       " 'PMID': '30781849',\n",
       " 'sentence': '(1) Background: Chronic obstructive pulmonary disease (COPD) is defined as an inflammatory disorder that presents an increasingly prevalent health problem.',\n",
       " 'AB': '(1) Background: Chronic obstructive pulmonary disease (COPD) is defined as an inflammatory disorder that presents an increasingly prevalent health problem. Accelerated aging has been examined as a pathologic mechanism of many chronic diseases like COPD. We examined whether COPD is combined with accelerated aging, studying two hormones, dehydroepiandrosterone (DHEA) and growth hormone (GH), known to be characteristic biological markers of aging. (2) Methods: Data were collected from 119 participants, 70 (58.8%) COPD patients and 49 (41.2%) from a health control group over the period of 2014-2016 in a spirometry program. Information about their medical history, tobacco use, and blood tests was obtained. (3) Results: The average age of the health control patients was 73.5 years (SD = 5.5), and that of the COPD patients was 75.4 years (SD = 6.9). Both groups were similar in age and sex. A greater proportion of smokers were found in the COPD group (87.1%) versus the control group (36.7%). The majority of COPD patients were classified as STAGE II (51.4%) and STAGE III (37.1%) according to GOLD (Global Initiative for Chronic Obstructive Pulmonary Disease). Levels of DHEA (SD = 17.1) and GH (SD = 0.37) were significantly lower in the COPD group (p < 0.001) compared to those in the controls (SD = 26.3, SD = 0.79). DHEA and GH were more significant and negatively correlated with age. The regression equation of DHEA with age produced a coefficient equal to 1.26. In this study, the difference in DHEA between COPD patients and controls was, on average, 30.2 mug/dL, indicating that the biological age of a COPD patient is on average about 24 years older than that of a control subject of the same age. Similarly, the difference in GH between COPD patients and controls was, on average, 0.42 ng/mL, indicating that the biological age of a COPD patient is on average about 13.1 years older than that of a control subject of the same age. (4) Conclusions: The findings of our study strongly suggest the presence of premature biological aging in COPD patients. Their biological age could actually vary from 13 to 23 years older than non-COPD controls according to DHEA and GH variation.',\n",
       " 'entity_one': 'COPD',\n",
       " 'entity_one_type': 'Disease',\n",
       " 'entity_two': 'inflammatory disorder',\n",
       " 'entity_two_type': 'Disease',\n",
       " 'entity_one_transformed': 'Pulmonary Disease, Chronic Obstructive',\n",
       " 'entity_two_transformed': 'Inflammation',\n",
       " 'transformed_triple': ('COPD',\n",
       "  'defined',\n",
       "  'inflammatory disorder',\n",
       "  '30781849'),\n",
       " 'method': ['deep learning', 'shortest path'],\n",
       " 'verb': 'defined',\n",
       " 'IF': 0.0,\n",
       " 'IF5': 0.0}"
      ]
     },
     "execution_count": 205,
     "metadata": {},
     "output_type": "execute_result"
    }
   ],
   "source": [
    "triplelistnew[0]"
   ]
  },
  {
   "cell_type": "code",
   "execution_count": 206,
   "id": "063a2012-34fd-46e8-82b2-f0e952e7df7a",
   "metadata": {},
   "outputs": [],
   "source": [
    "direction=set()\n",
    "direction_list=[]\n",
    "direction_type=[]\n",
    "for i in triplelistnew:\n",
    "    for j in entitydict_tolist.get(i.get('entity_one_transformed')):\n",
    "        for k in entitydict_tolist.get(i.get('entity_two_transformed')):\n",
    "            if (i.get('entity_one_transformed'),(i.get('entity_two_transformed')),j,k) not in direction:\n",
    "                direction.add((i.get('entity_one_transformed'),(i.get('entity_two_transformed')),j,k))\n",
    "                direction_list.append((i.get('entity_one_transformed'),(i.get('entity_two_transformed'))))\n",
    "                direction_type.append((j.replace(' ','_'),k.replace(' ','_')))"
   ]
  },
  {
   "cell_type": "code",
   "execution_count": 207,
   "id": "44ee1acd-ef0d-46a4-b0e3-21ac42c7e3b8",
   "metadata": {},
   "outputs": [
    {
     "data": {
      "text/plain": [
       "60203"
      ]
     },
     "execution_count": 207,
     "metadata": {},
     "output_type": "execute_result"
    }
   ],
   "source": [
    "len(direction_list)"
   ]
  },
  {
   "cell_type": "code",
   "execution_count": 208,
   "id": "054d9c63-f5c3-4d3e-aaa5-dfd2364f6bef",
   "metadata": {},
   "outputs": [],
   "source": [
    "type_dict={}\n",
    "type_dict_ensure={}\n",
    "for i in range(len(direction_list)):\n",
    "    if not type_dict_ensure.get((direction_list[i][0],direction_list[i][1],direction_type[i][0],direction_type[i][1])):\n",
    "        type_dict[(direction_list[i][0],direction_list[i][1])]=tuple((direction_type[i][0],direction_type[i][1]))\n",
    "        type_dict_ensure[(direction_list[i][0],direction_list[i][1],direction_type[i][0],direction_type[i][1])]=tuple((direction_type[i][0],direction_type[i][1]))"
   ]
  },
  {
   "cell_type": "code",
   "execution_count": 209,
   "id": "9fa12acf-0aea-49d1-9352-5c07f75f1c90",
   "metadata": {},
   "outputs": [
    {
     "data": {
      "text/plain": [
       "59693"
      ]
     },
     "execution_count": 209,
     "metadata": {},
     "output_type": "execute_result"
    }
   ],
   "source": [
    "len(type_dict)"
   ]
  },
  {
   "cell_type": "code",
   "execution_count": 210,
   "id": "3a7a362f-c4d3-4452-ba7f-acbe5e0c6428",
   "metadata": {},
   "outputs": [
    {
     "data": {
      "text/plain": [
       "['Gene',\n",
       " 'RNA',\n",
       " 'Protein',\n",
       " 'Carbohydrate',\n",
       " 'Lipid',\n",
       " 'Peptide',\n",
       " 'Pharmaceutical_Preparations',\n",
       " 'Toxin',\n",
       " 'Mutation',\n",
       " 'Disease']"
      ]
     },
     "execution_count": 210,
     "metadata": {},
     "output_type": "execute_result"
    }
   ],
   "source": [
    "entity_pairs"
   ]
  },
  {
   "cell_type": "code",
   "execution_count": 211,
   "id": "711fa26d-9d12-4060-a2f5-450752197158",
   "metadata": {},
   "outputs": [],
   "source": [
    "entity_pairs=['Gene',\n",
    " 'RNA',\n",
    " 'Protein',\n",
    " 'Carbohydrate',\n",
    " 'Lipid',\n",
    " 'Peptide',\n",
    " 'Pharmaceutical_Preparations',\n",
    " 'Toxin',\n",
    " 'Mutation',\n",
    " 'Disease']"
   ]
  },
  {
   "cell_type": "code",
   "execution_count": 212,
   "id": "3752b0d0-f2b2-4247-b10a-6ab5310217c6",
   "metadata": {},
   "outputs": [],
   "source": [
    "entity_pairs_dict={}\n",
    "entity_pairs_dict_num={}\n",
    "for i in entity_pairs:\n",
    "    temp={}\n",
    "    temp2={}\n",
    "    for j in entity_pairs:\n",
    "        temp.update({j:0})\n",
    "        temp2.update({j:set()})\n",
    "    entity_pairs_dict_num[i]=temp\n",
    "    entity_pairs_dict[i]=temp2"
   ]
  },
  {
   "cell_type": "code",
   "execution_count": 213,
   "id": "66cf062c-e1be-4841-be33-0b9912d2b3b2",
   "metadata": {},
   "outputs": [
    {
     "data": {
      "text/plain": [
       "{'Gene': {'Gene': set(),\n",
       "  'RNA': set(),\n",
       "  'Protein': set(),\n",
       "  'Carbohydrate': set(),\n",
       "  'Lipid': set(),\n",
       "  'Peptide': set(),\n",
       "  'Pharmaceutical_Preparations': set(),\n",
       "  'Toxin': set(),\n",
       "  'Mutation': set(),\n",
       "  'Disease': set()},\n",
       " 'RNA': {'Gene': set(),\n",
       "  'RNA': set(),\n",
       "  'Protein': set(),\n",
       "  'Carbohydrate': set(),\n",
       "  'Lipid': set(),\n",
       "  'Peptide': set(),\n",
       "  'Pharmaceutical_Preparations': set(),\n",
       "  'Toxin': set(),\n",
       "  'Mutation': set(),\n",
       "  'Disease': set()},\n",
       " 'Protein': {'Gene': set(),\n",
       "  'RNA': set(),\n",
       "  'Protein': set(),\n",
       "  'Carbohydrate': set(),\n",
       "  'Lipid': set(),\n",
       "  'Peptide': set(),\n",
       "  'Pharmaceutical_Preparations': set(),\n",
       "  'Toxin': set(),\n",
       "  'Mutation': set(),\n",
       "  'Disease': set()},\n",
       " 'Carbohydrate': {'Gene': set(),\n",
       "  'RNA': set(),\n",
       "  'Protein': set(),\n",
       "  'Carbohydrate': set(),\n",
       "  'Lipid': set(),\n",
       "  'Peptide': set(),\n",
       "  'Pharmaceutical_Preparations': set(),\n",
       "  'Toxin': set(),\n",
       "  'Mutation': set(),\n",
       "  'Disease': set()},\n",
       " 'Lipid': {'Gene': set(),\n",
       "  'RNA': set(),\n",
       "  'Protein': set(),\n",
       "  'Carbohydrate': set(),\n",
       "  'Lipid': set(),\n",
       "  'Peptide': set(),\n",
       "  'Pharmaceutical_Preparations': set(),\n",
       "  'Toxin': set(),\n",
       "  'Mutation': set(),\n",
       "  'Disease': set()},\n",
       " 'Peptide': {'Gene': set(),\n",
       "  'RNA': set(),\n",
       "  'Protein': set(),\n",
       "  'Carbohydrate': set(),\n",
       "  'Lipid': set(),\n",
       "  'Peptide': set(),\n",
       "  'Pharmaceutical_Preparations': set(),\n",
       "  'Toxin': set(),\n",
       "  'Mutation': set(),\n",
       "  'Disease': set()},\n",
       " 'Pharmaceutical_Preparations': {'Gene': set(),\n",
       "  'RNA': set(),\n",
       "  'Protein': set(),\n",
       "  'Carbohydrate': set(),\n",
       "  'Lipid': set(),\n",
       "  'Peptide': set(),\n",
       "  'Pharmaceutical_Preparations': set(),\n",
       "  'Toxin': set(),\n",
       "  'Mutation': set(),\n",
       "  'Disease': set()},\n",
       " 'Toxin': {'Gene': set(),\n",
       "  'RNA': set(),\n",
       "  'Protein': set(),\n",
       "  'Carbohydrate': set(),\n",
       "  'Lipid': set(),\n",
       "  'Peptide': set(),\n",
       "  'Pharmaceutical_Preparations': set(),\n",
       "  'Toxin': set(),\n",
       "  'Mutation': set(),\n",
       "  'Disease': set()},\n",
       " 'Mutation': {'Gene': set(),\n",
       "  'RNA': set(),\n",
       "  'Protein': set(),\n",
       "  'Carbohydrate': set(),\n",
       "  'Lipid': set(),\n",
       "  'Peptide': set(),\n",
       "  'Pharmaceutical_Preparations': set(),\n",
       "  'Toxin': set(),\n",
       "  'Mutation': set(),\n",
       "  'Disease': set()},\n",
       " 'Disease': {'Gene': set(),\n",
       "  'RNA': set(),\n",
       "  'Protein': set(),\n",
       "  'Carbohydrate': set(),\n",
       "  'Lipid': set(),\n",
       "  'Peptide': set(),\n",
       "  'Pharmaceutical_Preparations': set(),\n",
       "  'Toxin': set(),\n",
       "  'Mutation': set(),\n",
       "  'Disease': set()}}"
      ]
     },
     "execution_count": 213,
     "metadata": {},
     "output_type": "execute_result"
    }
   ],
   "source": [
    "entity_pairs_dict"
   ]
  },
  {
   "cell_type": "code",
   "execution_count": 214,
   "id": "10b29bee-96da-4cc0-8407-5ae3b62d29d8",
   "metadata": {},
   "outputs": [],
   "source": [
    "for i in range(len(direction_list)):\n",
    "        if direction_list[i][0] not in entity_pairs_dict.get(direction_type[i][1]).get(direction_type[i][0]):\n",
    "            entity_pairs_dict[direction_type[i][1]][direction_type[i][0]].add(direction_list[i][0])\n",
    "            entity_pairs_dict_num[direction_type[i][1]][direction_type[i][0]]+=1"
   ]
  },
  {
   "cell_type": "code",
   "execution_count": 215,
   "id": "aaf96454-1752-4003-9b41-3c0dd331c142",
   "metadata": {},
   "outputs": [
    {
     "data": {
      "text/plain": [
       "{'Gene': {'Gene': 1253,\n",
       "  'RNA': 39,\n",
       "  'Protein': 10,\n",
       "  'Carbohydrate': 57,\n",
       "  'Lipid': 46,\n",
       "  'Peptide': 24,\n",
       "  'Pharmaceutical_Preparations': 0,\n",
       "  'Toxin': 2,\n",
       "  'Mutation': 234,\n",
       "  'Disease': 799},\n",
       " 'RNA': {'Gene': 41,\n",
       "  'RNA': 6,\n",
       "  'Protein': 0,\n",
       "  'Carbohydrate': 1,\n",
       "  'Lipid': 0,\n",
       "  'Peptide': 0,\n",
       "  'Pharmaceutical_Preparations': 0,\n",
       "  'Toxin': 0,\n",
       "  'Mutation': 1,\n",
       "  'Disease': 39},\n",
       " 'Protein': {'Gene': 38,\n",
       "  'RNA': 0,\n",
       "  'Protein': 4,\n",
       "  'Carbohydrate': 5,\n",
       "  'Lipid': 4,\n",
       "  'Peptide': 0,\n",
       "  'Pharmaceutical_Preparations': 0,\n",
       "  'Toxin': 0,\n",
       "  'Mutation': 0,\n",
       "  'Disease': 82},\n",
       " 'Carbohydrate': {'Gene': 166,\n",
       "  'RNA': 3,\n",
       "  'Protein': 3,\n",
       "  'Carbohydrate': 69,\n",
       "  'Lipid': 38,\n",
       "  'Peptide': 10,\n",
       "  'Pharmaceutical_Preparations': 2,\n",
       "  'Toxin': 1,\n",
       "  'Mutation': 7,\n",
       "  'Disease': 326},\n",
       " 'Lipid': {'Gene': 184,\n",
       "  'RNA': 5,\n",
       "  'Protein': 2,\n",
       "  'Carbohydrate': 28,\n",
       "  'Lipid': 70,\n",
       "  'Peptide': 6,\n",
       "  'Pharmaceutical_Preparations': 0,\n",
       "  'Toxin': 1,\n",
       "  'Mutation': 16,\n",
       "  'Disease': 336},\n",
       " 'Peptide': {'Gene': 54,\n",
       "  'RNA': 0,\n",
       "  'Protein': 1,\n",
       "  'Carbohydrate': 5,\n",
       "  'Lipid': 12,\n",
       "  'Peptide': 9,\n",
       "  'Pharmaceutical_Preparations': 1,\n",
       "  'Toxin': 1,\n",
       "  'Mutation': 1,\n",
       "  'Disease': 110},\n",
       " 'Pharmaceutical_Preparations': {'Gene': 1,\n",
       "  'RNA': 0,\n",
       "  'Protein': 0,\n",
       "  'Carbohydrate': 0,\n",
       "  'Lipid': 0,\n",
       "  'Peptide': 0,\n",
       "  'Pharmaceutical_Preparations': 0,\n",
       "  'Toxin': 0,\n",
       "  'Mutation': 0,\n",
       "  'Disease': 14},\n",
       " 'Toxin': {'Gene': 24,\n",
       "  'RNA': 2,\n",
       "  'Protein': 0,\n",
       "  'Carbohydrate': 0,\n",
       "  'Lipid': 2,\n",
       "  'Peptide': 1,\n",
       "  'Pharmaceutical_Preparations': 0,\n",
       "  'Toxin': 2,\n",
       "  'Mutation': 0,\n",
       "  'Disease': 31},\n",
       " 'Mutation': {'Gene': 142,\n",
       "  'RNA': 1,\n",
       "  'Protein': 0,\n",
       "  'Carbohydrate': 2,\n",
       "  'Lipid': 8,\n",
       "  'Peptide': 1,\n",
       "  'Pharmaceutical_Preparations': 0,\n",
       "  'Toxin': 0,\n",
       "  'Mutation': 94,\n",
       "  'Disease': 161},\n",
       " 'Disease': {'Gene': 2060,\n",
       "  'RNA': 65,\n",
       "  'Protein': 24,\n",
       "  'Carbohydrate': 109,\n",
       "  'Lipid': 112,\n",
       "  'Peptide': 39,\n",
       "  'Pharmaceutical_Preparations': 8,\n",
       "  'Toxin': 6,\n",
       "  'Mutation': 398,\n",
       "  'Disease': 2334}}"
      ]
     },
     "execution_count": 215,
     "metadata": {},
     "output_type": "execute_result"
    }
   ],
   "source": [
    "entity_pairs_dict_num"
   ]
  },
  {
   "cell_type": "code",
   "execution_count": 216,
   "id": "0f9db0a6-9314-44d2-9de1-29297cee2346",
   "metadata": {},
   "outputs": [
    {
     "name": "stdout",
     "output_type": "stream",
     "text": [
      "9793\n"
     ]
    }
   ],
   "source": [
    "countnum=0\n",
    "for i in entity_pairs_dict_num.values():\n",
    "    for j in i.values():\n",
    "        countnum+=j\n",
    "print(countnum)"
   ]
  },
  {
   "cell_type": "code",
   "execution_count": 217,
   "id": "39ac1d8a-1d79-4e9b-85c1-7fad8d1091eb",
   "metadata": {},
   "outputs": [],
   "source": [
    "relation_display=[]\n",
    "for i,j in entity_pairs_dict_num.items():\n",
    "    for k,l in j.items():\n",
    "        relation_display.append([k,i+' ',l])"
   ]
  },
  {
   "cell_type": "code",
   "execution_count": 218,
   "id": "af7a705e-0b19-49ec-8ec6-63b3f98ba26b",
   "metadata": {},
   "outputs": [
    {
     "data": {
      "text/plain": [
       "{'Gene': 2060,\n",
       " 'RNA': 65,\n",
       " 'Protein': 24,\n",
       " 'Carbohydrate': 109,\n",
       " 'Lipid': 112,\n",
       " 'Peptide': 39,\n",
       " 'Pharmaceutical_Preparations': 8,\n",
       " 'Toxin': 6,\n",
       " 'Mutation': 398,\n",
       " 'Disease': 2334}"
      ]
     },
     "execution_count": 218,
     "metadata": {},
     "output_type": "execute_result"
    }
   ],
   "source": [
    "j"
   ]
  },
  {
   "cell_type": "code",
   "execution_count": 219,
   "id": "cf6a7fa7-056b-4248-af27-cf3bf0fe0e4d",
   "metadata": {},
   "outputs": [
    {
     "data": {
      "text/plain": [
       "[['Gene', 'Gene ', 1253],\n",
       " ['RNA', 'Gene ', 39],\n",
       " ['Protein', 'Gene ', 10],\n",
       " ['Carbohydrate', 'Gene ', 57],\n",
       " ['Lipid', 'Gene ', 46],\n",
       " ['Peptide', 'Gene ', 24],\n",
       " ['Pharmaceutical_Preparations', 'Gene ', 0],\n",
       " ['Toxin', 'Gene ', 2],\n",
       " ['Mutation', 'Gene ', 234],\n",
       " ['Disease', 'Gene ', 799],\n",
       " ['Gene', 'RNA ', 41],\n",
       " ['RNA', 'RNA ', 6],\n",
       " ['Protein', 'RNA ', 0],\n",
       " ['Carbohydrate', 'RNA ', 1],\n",
       " ['Lipid', 'RNA ', 0],\n",
       " ['Peptide', 'RNA ', 0],\n",
       " ['Pharmaceutical_Preparations', 'RNA ', 0],\n",
       " ['Toxin', 'RNA ', 0],\n",
       " ['Mutation', 'RNA ', 1],\n",
       " ['Disease', 'RNA ', 39],\n",
       " ['Gene', 'Protein ', 38],\n",
       " ['RNA', 'Protein ', 0],\n",
       " ['Protein', 'Protein ', 4],\n",
       " ['Carbohydrate', 'Protein ', 5],\n",
       " ['Lipid', 'Protein ', 4],\n",
       " ['Peptide', 'Protein ', 0],\n",
       " ['Pharmaceutical_Preparations', 'Protein ', 0],\n",
       " ['Toxin', 'Protein ', 0],\n",
       " ['Mutation', 'Protein ', 0],\n",
       " ['Disease', 'Protein ', 82],\n",
       " ['Gene', 'Carbohydrate ', 166],\n",
       " ['RNA', 'Carbohydrate ', 3],\n",
       " ['Protein', 'Carbohydrate ', 3],\n",
       " ['Carbohydrate', 'Carbohydrate ', 69],\n",
       " ['Lipid', 'Carbohydrate ', 38],\n",
       " ['Peptide', 'Carbohydrate ', 10],\n",
       " ['Pharmaceutical_Preparations', 'Carbohydrate ', 2],\n",
       " ['Toxin', 'Carbohydrate ', 1],\n",
       " ['Mutation', 'Carbohydrate ', 7],\n",
       " ['Disease', 'Carbohydrate ', 326],\n",
       " ['Gene', 'Lipid ', 184],\n",
       " ['RNA', 'Lipid ', 5],\n",
       " ['Protein', 'Lipid ', 2],\n",
       " ['Carbohydrate', 'Lipid ', 28],\n",
       " ['Lipid', 'Lipid ', 70],\n",
       " ['Peptide', 'Lipid ', 6],\n",
       " ['Pharmaceutical_Preparations', 'Lipid ', 0],\n",
       " ['Toxin', 'Lipid ', 1],\n",
       " ['Mutation', 'Lipid ', 16],\n",
       " ['Disease', 'Lipid ', 336],\n",
       " ['Gene', 'Peptide ', 54],\n",
       " ['RNA', 'Peptide ', 0],\n",
       " ['Protein', 'Peptide ', 1],\n",
       " ['Carbohydrate', 'Peptide ', 5],\n",
       " ['Lipid', 'Peptide ', 12],\n",
       " ['Peptide', 'Peptide ', 9],\n",
       " ['Pharmaceutical_Preparations', 'Peptide ', 1],\n",
       " ['Toxin', 'Peptide ', 1],\n",
       " ['Mutation', 'Peptide ', 1],\n",
       " ['Disease', 'Peptide ', 110],\n",
       " ['Gene', 'Pharmaceutical_Preparations ', 1],\n",
       " ['RNA', 'Pharmaceutical_Preparations ', 0],\n",
       " ['Protein', 'Pharmaceutical_Preparations ', 0],\n",
       " ['Carbohydrate', 'Pharmaceutical_Preparations ', 0],\n",
       " ['Lipid', 'Pharmaceutical_Preparations ', 0],\n",
       " ['Peptide', 'Pharmaceutical_Preparations ', 0],\n",
       " ['Pharmaceutical_Preparations', 'Pharmaceutical_Preparations ', 0],\n",
       " ['Toxin', 'Pharmaceutical_Preparations ', 0],\n",
       " ['Mutation', 'Pharmaceutical_Preparations ', 0],\n",
       " ['Disease', 'Pharmaceutical_Preparations ', 14],\n",
       " ['Gene', 'Toxin ', 24],\n",
       " ['RNA', 'Toxin ', 2],\n",
       " ['Protein', 'Toxin ', 0],\n",
       " ['Carbohydrate', 'Toxin ', 0],\n",
       " ['Lipid', 'Toxin ', 2],\n",
       " ['Peptide', 'Toxin ', 1],\n",
       " ['Pharmaceutical_Preparations', 'Toxin ', 0],\n",
       " ['Toxin', 'Toxin ', 2],\n",
       " ['Mutation', 'Toxin ', 0],\n",
       " ['Disease', 'Toxin ', 31],\n",
       " ['Gene', 'Mutation ', 142],\n",
       " ['RNA', 'Mutation ', 1],\n",
       " ['Protein', 'Mutation ', 0],\n",
       " ['Carbohydrate', 'Mutation ', 2],\n",
       " ['Lipid', 'Mutation ', 8],\n",
       " ['Peptide', 'Mutation ', 1],\n",
       " ['Pharmaceutical_Preparations', 'Mutation ', 0],\n",
       " ['Toxin', 'Mutation ', 0],\n",
       " ['Mutation', 'Mutation ', 94],\n",
       " ['Disease', 'Mutation ', 161],\n",
       " ['Gene', 'Disease ', 2060],\n",
       " ['RNA', 'Disease ', 65],\n",
       " ['Protein', 'Disease ', 24],\n",
       " ['Carbohydrate', 'Disease ', 109],\n",
       " ['Lipid', 'Disease ', 112],\n",
       " ['Peptide', 'Disease ', 39],\n",
       " ['Pharmaceutical_Preparations', 'Disease ', 8],\n",
       " ['Toxin', 'Disease ', 6],\n",
       " ['Mutation', 'Disease ', 398],\n",
       " ['Disease', 'Disease ', 2334]]"
      ]
     },
     "execution_count": 219,
     "metadata": {},
     "output_type": "execute_result"
    }
   ],
   "source": [
    "relation_display"
   ]
  },
  {
   "cell_type": "code",
   "execution_count": 220,
   "id": "e58306ba-7192-4278-8379-79d94d6b6ae5",
   "metadata": {},
   "outputs": [
    {
     "data": {
      "text/plain": [
       "['Gene',\n",
       " 'RNA',\n",
       " 'Protein',\n",
       " 'Carbohydrate',\n",
       " 'Lipid',\n",
       " 'Peptide',\n",
       " 'Pharmaceutical_Preparations',\n",
       " 'Toxin',\n",
       " 'Mutation',\n",
       " 'Disease']"
      ]
     },
     "execution_count": 220,
     "metadata": {},
     "output_type": "execute_result"
    }
   ],
   "source": [
    "entity_pairs"
   ]
  },
  {
   "cell_type": "code",
   "execution_count": 221,
   "id": "7b7ab662-fb84-4830-9b92-3285e6676ce4",
   "metadata": {},
   "outputs": [
    {
     "name": "stdout",
     "output_type": "stream",
     "text": [
      "1253\t41\t38\t166\t184\t54\t1\t24\t142\t2060\n",
      "39\t6\t0\t3\t5\t0\t0\t2\t1\t65\n",
      "10\t0\t4\t3\t2\t1\t0\t0\t0\t24\n",
      "57\t1\t5\t69\t28\t5\t0\t0\t2\t109\n",
      "46\t0\t4\t38\t70\t12\t0\t2\t8\t112\n",
      "24\t0\t0\t10\t6\t9\t0\t1\t1\t39\n",
      "0\t0\t0\t2\t0\t1\t0\t0\t0\t8\n",
      "2\t0\t0\t1\t1\t1\t0\t2\t0\t6\n",
      "234\t1\t0\t7\t16\t1\t0\t0\t94\t398\n",
      "799\t39\t82\t326\t336\t110\t14\t31\t161\t2334\n"
     ]
    }
   ],
   "source": [
    "for i in entity_pairs:\n",
    "    xs=[]\n",
    "    for j in relation_display:\n",
    "        if j[0]==i.replace(' ','_'):\n",
    "            xs.append(str(j[-1]))\n",
    "    print('\\t'.join(xs))"
   ]
  },
  {
   "cell_type": "code",
   "execution_count": 222,
   "id": "1ebb048b-4998-4d44-abc1-3dfad288c3ff",
   "metadata": {},
   "outputs": [],
   "source": [
    "all_es=json.load(open('results/step2/all_es_lack.json'))"
   ]
  },
  {
   "cell_type": "code",
   "execution_count": 223,
   "id": "8f1d14f8-9765-4291-a344-1b3774f8b8db",
   "metadata": {},
   "outputs": [],
   "source": [
    "entity2aging={}\n",
    "entity2longevity={}\n",
    "for i in triplelistnew:\n",
    "    if i.get('entity_two_type')=='Disease':\n",
    "        if i.get('entity_one_type')!='Disease':\n",
    "            if i.get('entity_one_transformed')!= i.get('entity_two_transformed'):\n",
    "                if positive_relations_new_dict.get(i.get('triple')[1].lower()):\n",
    "                    entity2aging[i.get('entity_one_transformed')]=True\n",
    "                elif negative_relations_new_dict.get(i.get('triple')[1].lower()):\n",
    "                    entity2longevity[i.get('entity_one_transformed')]=True"
   ]
  },
  {
   "cell_type": "code",
   "execution_count": 224,
   "id": "df43c45c-73ff-4d20-850f-bb163f3a4044",
   "metadata": {},
   "outputs": [
    {
     "data": {
      "text/plain": [
       "1871"
      ]
     },
     "execution_count": 224,
     "metadata": {},
     "output_type": "execute_result"
    }
   ],
   "source": [
    "len(entity2aging)"
   ]
  },
  {
   "cell_type": "code",
   "execution_count": 225,
   "id": "07c95ad9-dc41-4664-8aea-dbf9603ce31c",
   "metadata": {},
   "outputs": [
    {
     "data": {
      "text/plain": [
       "531"
      ]
     },
     "execution_count": 225,
     "metadata": {},
     "output_type": "execute_result"
    }
   ],
   "source": [
    "len(entity2longevity)"
   ]
  },
  {
   "cell_type": "code",
   "execution_count": 226,
   "id": "c49e19ea-6bef-4bb6-bc50-5ac1debe70ee",
   "metadata": {},
   "outputs": [
    {
     "name": "stdout",
     "output_type": "stream",
     "text": [
      "373\n"
     ]
    }
   ],
   "source": [
    "aaaa=0\n",
    "for i in entity2aging.keys():\n",
    "    if entity2longevity.get(i):\n",
    "        aaaa+=1\n",
    "print(aaaa)"
   ]
  },
  {
   "cell_type": "code",
   "execution_count": 227,
   "id": "69c4d06b-955d-4ef1-bcd2-8815f7cc00ac",
   "metadata": {},
   "outputs": [],
   "source": [
    "for i in all_es:\n",
    "    if entitydict.get(i.get('entity')):\n",
    "        i['network']=True\n",
    "    else:\n",
    "        i['network']=False\n",
    "    if entity2aging.get(i.get('entity')):\n",
    "        i['aging']=True\n",
    "    else:\n",
    "        i['aging']=False\n",
    "    if entity2longevity.get(i.get('entity')):\n",
    "        i['longevity']=True\n",
    "    else:\n",
    "        i['longevity']=False"
   ]
  },
  {
   "cell_type": "code",
   "execution_count": 228,
   "id": "5c6ccdc7-7fd0-43c8-8c29-16f9e842bf95",
   "metadata": {},
   "outputs": [
    {
     "data": {
      "text/plain": [
       "{'entity': 'Ototoxicity',\n",
       " 'PMID': ['37319406'],\n",
       " 'literature': 1,\n",
       " 'allyears': [2023],\n",
       " 'type': 'Disease',\n",
       " 'MeshID': 'D000081015',\n",
       " 'url': 'https://www.ncbi.nlm.nih.gov/mesh/2031054',\n",
       " 'Summary': 'Damage to the EAR or its function secondary to exposure to toxic substances such as drugs used in CHEMOTHERAPY; IMMUNOTHERAPY; or RADIATION.',\n",
       " '_id': 'Disease_Ototoxicity',\n",
       " 'datest': 20231101,\n",
       " 'allwords': ['COCHLEOTOXICITY'],\n",
       " 'network': True,\n",
       " 'aging': False,\n",
       " 'longevity': False}"
      ]
     },
     "execution_count": 228,
     "metadata": {},
     "output_type": "execute_result"
    }
   ],
   "source": [
    "all_es[-1]"
   ]
  },
  {
   "cell_type": "code",
   "execution_count": 229,
   "id": "45d789ab-7e02-41ad-b391-674e03eec307",
   "metadata": {},
   "outputs": [],
   "source": [
    "json.dump(all_es,open('results/step4/all_es.json','w'))"
   ]
  },
  {
   "cell_type": "code",
   "execution_count": 230,
   "id": "faf88e9d-2ca0-442a-bd32-9fd5f1393aaa",
   "metadata": {},
   "outputs": [
    {
     "data": {
      "text/plain": [
       "12315"
      ]
     },
     "execution_count": 230,
     "metadata": {},
     "output_type": "execute_result"
    }
   ],
   "source": [
    "len(all_es)"
   ]
  },
  {
   "cell_type": "code",
   "execution_count": 231,
   "id": "44af53bb-78dc-4b5a-ab60-810057faa22b",
   "metadata": {},
   "outputs": [],
   "source": [
    "entity_es_set=set()\n",
    "for i in all_es:\n",
    "    entity_es_set.add(i.get('entity'))"
   ]
  },
  {
   "cell_type": "code",
   "execution_count": 232,
   "id": "905cd5d3-d667-4b94-a218-7613b4eeadc2",
   "metadata": {},
   "outputs": [
    {
     "data": {
      "text/plain": [
       "12257"
      ]
     },
     "execution_count": 232,
     "metadata": {},
     "output_type": "execute_result"
    }
   ],
   "source": [
    "len(list(entity_es_set))"
   ]
  },
  {
   "cell_type": "code",
   "execution_count": 233,
   "id": "08cf2d78-2331-4b7e-971c-437ca6335b2c",
   "metadata": {},
   "outputs": [],
   "source": [
    "names=locals()\n",
    "for i in entity_pairs:\n",
    "    names[i+'_all']=[]\n",
    "    for j in all_es:\n",
    "        if j.get('type')==i.replace('_',' '):\n",
    "            names[i+'_all'].append(j)"
   ]
  },
  {
   "cell_type": "code",
   "execution_count": 234,
   "id": "c949e28c-2249-4863-9358-26274d8a9c39",
   "metadata": {},
   "outputs": [
    {
     "data": {
      "text/plain": [
       "5624"
      ]
     },
     "execution_count": 234,
     "metadata": {},
     "output_type": "execute_result"
    }
   ],
   "source": [
    "len(Gene_all)"
   ]
  },
  {
   "cell_type": "code",
   "execution_count": 235,
   "id": "da92dc1a-de61-49e1-a583-73946c31f231",
   "metadata": {},
   "outputs": [
    {
     "data": {
      "text/plain": [
       "3501"
      ]
     },
     "execution_count": 235,
     "metadata": {},
     "output_type": "execute_result"
    }
   ],
   "source": [
    "len(Disease_all)"
   ]
  },
  {
   "cell_type": "code",
   "execution_count": 236,
   "id": "8e0c0347-2e24-4e98-9cc3-ef2be6897201",
   "metadata": {},
   "outputs": [],
   "source": [
    "Gene_all_sorted=sorted(Gene_all,key=lambda x:x['literature'],reverse=True)"
   ]
  },
  {
   "cell_type": "markdown",
   "id": "d08f02f2-c2ea-4758-a83a-56adc1135d28",
   "metadata": {},
   "source": [
    "printdata=[]\n",
    "for i in entity_pairs:\n",
    "    print('\\n')\n",
    "    print(i)\n",
    "    names[i+'_all_sorted']=sorted(names[i+'_all'],key=lambda x:x['literature'],reverse=True)\n",
    "    names[i+'_all_sorted_num']=0\n",
    "    for j in names[i+'_all_sorted'][:10]:\n",
    "        printdata.append({'y':10,'color':'colors[0]'})\n",
    "        print(\"'\"+j.get('entity')+\"',\")\n",
    "for i in entity_pairs:\n",
    "    print('\\n')\n",
    "    print(i)\n",
    "    for j in names[i+'_all_sorted'][:10]:\n",
    "        print(str(j.get('literature'))+\",\")\n",
    "        names[i+'_all_sorted_num']+=j.get('literature')\n",
    "for i in entity_pairs:\n",
    "    print('\\n')\n",
    "    print(i)\n",
    "    cxv=0\n",
    "    for j in names[i+'_all_sorted'][:10]:\n",
    "        z=j.get('literature')*100/names[i+'_all_sorted_num']\n",
    "        print(str(round(z,2))+\",\")"
   ]
  },
  {
   "cell_type": "code",
   "execution_count": 238,
   "id": "4f55f8d2-2801-4246-8975-bfa9513ea580",
   "metadata": {},
   "outputs": [
    {
     "data": {
      "text/plain": [
       "388"
      ]
     },
     "execution_count": 238,
     "metadata": {},
     "output_type": "execute_result"
    }
   ],
   "source": [
    "len(RNA_all)"
   ]
  },
  {
   "cell_type": "code",
   "execution_count": 279,
   "id": "61156ca7-a794-4543-bd48-8fb1ed87150c",
   "metadata": {},
   "outputs": [
    {
     "name": "stdout",
     "output_type": "stream",
     "text": [
      "\n",
      "\n",
      "Gene\n",
      "12616\n",
      "\n",
      "\n",
      "'INS',\n",
      "'CRP',\n",
      "'IL6',\n",
      "'APOE',\n",
      "'CD4',\n",
      "'MAPT',\n",
      "'TNF',\n",
      "'ALB',\n",
      "'SIRT1',\n",
      "'CD8A',\n",
      "\n",
      "\n",
      "3014,\n",
      "1830,\n",
      "1375,\n",
      "1363,\n",
      "1244,\n",
      "927,\n",
      "893,\n",
      "713,\n",
      "680,\n",
      "577,\n",
      "\n",
      "\n",
      "23.89,\n",
      "14.51,\n",
      "10.9,\n",
      "10.8,\n",
      "9.86,\n",
      "7.35,\n",
      "7.08,\n",
      "5.65,\n",
      "5.39,\n",
      "4.57,\n",
      "\n",
      "\n",
      "\n",
      "\n",
      "RNA\n",
      "324\n",
      "\n",
      "\n",
      "'H19',\n",
      "'MIR34A',\n",
      "'TERC',\n",
      "'MIR21',\n",
      "'MIR146A',\n",
      "'MIR155',\n",
      "'MIR132',\n",
      "'MIR221',\n",
      "'HCCAT5',\n",
      "'MIR31',\n",
      "\n",
      "\n",
      "64,\n",
      "60,\n",
      "53,\n",
      "42,\n",
      "31,\n",
      "18,\n",
      "15,\n",
      "14,\n",
      "14,\n",
      "13,\n",
      "\n",
      "\n",
      "19.75,\n",
      "18.52,\n",
      "16.36,\n",
      "12.96,\n",
      "9.57,\n",
      "5.56,\n",
      "4.63,\n",
      "4.32,\n",
      "4.32,\n",
      "4.01,\n",
      "\n",
      "\n",
      "\n",
      "\n",
      "Protein\n",
      "882\n",
      "\n",
      "\n",
      "'Infliximab',\n",
      "'Rituximab',\n",
      "'Bevacizumab',\n",
      "'Denosumab',\n",
      "'Trastuzumab',\n",
      "'Nivolumab',\n",
      "'Cetuximab',\n",
      "'Palivizumab',\n",
      "'Ipilimumab',\n",
      "'Ranibizumab',\n",
      "\n",
      "\n",
      "314,\n",
      "184,\n",
      "96,\n",
      "63,\n",
      "61,\n",
      "43,\n",
      "37,\n",
      "32,\n",
      "28,\n",
      "24,\n",
      "\n",
      "\n",
      "35.6,\n",
      "20.86,\n",
      "10.88,\n",
      "7.14,\n",
      "6.92,\n",
      "4.88,\n",
      "4.2,\n",
      "3.63,\n",
      "3.17,\n",
      "2.72,\n",
      "\n",
      "\n",
      "\n",
      "\n",
      "Carbohydrate\n",
      "6821\n",
      "\n",
      "\n",
      "'Glucose',\n",
      "'Ascorbic Acid',\n",
      "'Hyaluronic Acid',\n",
      "'Heparin',\n",
      "'Doxorubicin',\n",
      "'Sugars',\n",
      "'Polysaccharides',\n",
      "'Lipopolysaccharides',\n",
      "'Digoxin',\n",
      "'Fluorodeoxyglucose F18',\n",
      "\n",
      "\n",
      "3900,\n",
      "678,\n",
      "401,\n",
      "331,\n",
      "298,\n",
      "269,\n",
      "263,\n",
      "248,\n",
      "225,\n",
      "208,\n",
      "\n",
      "\n",
      "57.18,\n",
      "9.94,\n",
      "5.88,\n",
      "4.85,\n",
      "4.37,\n",
      "3.94,\n",
      "3.86,\n",
      "3.64,\n",
      "3.3,\n",
      "3.05,\n",
      "\n",
      "\n",
      "\n",
      "\n",
      "Lipid\n",
      "7654\n",
      "\n",
      "\n",
      "'Cholesterol',\n",
      "'Triglycerides',\n",
      "'Fatty Acids',\n",
      "'Fatty Acids, Omega-3',\n",
      "'Fatty Acids, Unsaturated',\n",
      "'Lipofuscin',\n",
      "'Lipopolysaccharides',\n",
      "'Phospholipids',\n",
      "'Cholecalciferol',\n",
      "'Docosahexaenoic Acids',\n",
      "\n",
      "\n",
      "3604,\n",
      "1576,\n",
      "695,\n",
      "310,\n",
      "307,\n",
      "270,\n",
      "248,\n",
      "229,\n",
      "226,\n",
      "189,\n",
      "\n",
      "\n",
      "47.09,\n",
      "20.59,\n",
      "9.08,\n",
      "4.05,\n",
      "4.01,\n",
      "3.53,\n",
      "3.24,\n",
      "2.99,\n",
      "2.95,\n",
      "2.47,\n",
      "\n",
      "\n",
      "\n",
      "\n",
      "Peptide\n",
      "1504\n",
      "\n",
      "\n",
      "'Glutathione',\n",
      "'Cyclosporine',\n",
      "'Vancomycin',\n",
      "'Thyrotropin',\n",
      "'Bleomycin',\n",
      "'Ghrelin',\n",
      "'Enalapril',\n",
      "'Teriparatide',\n",
      "'Glutathione Disulfide',\n",
      "'Insulin Glargine',\n",
      "\n",
      "\n",
      "671,\n",
      "208,\n",
      "109,\n",
      "104,\n",
      "94,\n",
      "83,\n",
      "81,\n",
      "53,\n",
      "51,\n",
      "50,\n",
      "\n",
      "\n",
      "44.61,\n",
      "13.83,\n",
      "7.25,\n",
      "6.91,\n",
      "6.25,\n",
      "5.52,\n",
      "5.39,\n",
      "3.52,\n",
      "3.39,\n",
      "3.32,\n",
      "\n",
      "\n",
      "\n",
      "\n",
      "Pharmaceutical_Preparations\n",
      "187\n",
      "\n",
      "\n",
      "'Trimethoprim, Sulfamethoxazole Drug Combination',\n",
      "'Amoxicillin-Potassium Clavulanate Combination',\n",
      "'Piperacillin, Tazobactam Drug Combination',\n",
      "'Aminophylline',\n",
      "'Crack Cocaine',\n",
      "'Cilastatin, Imipenem Drug Combination',\n",
      "'Ezetimibe, Simvastatin Drug Combination',\n",
      "'Dimenhydrinate',\n",
      "'Lidocaine, Prilocaine Drug Combination',\n",
      "'Silica Gel',\n",
      "\n",
      "\n",
      "99,\n",
      "35,\n",
      "20,\n",
      "11,\n",
      "7,\n",
      "7,\n",
      "2,\n",
      "2,\n",
      "2,\n",
      "2,\n",
      "\n",
      "\n",
      "52.94,\n",
      "18.72,\n",
      "10.7,\n",
      "5.88,\n",
      "3.74,\n",
      "3.74,\n",
      "1.07,\n",
      "1.07,\n",
      "1.07,\n",
      "1.07,\n",
      "\n",
      "\n",
      "\n",
      "\n",
      "Toxin\n",
      "315\n",
      "\n",
      "\n",
      "'Lipopolysaccharides',\n",
      "'Exenatide',\n",
      "'Okadaic Acid',\n",
      "'Aflatoxins',\n",
      "'Cytochalasin B',\n",
      "'Phalloidine',\n",
      "'Aflatoxin B1',\n",
      "'Lipid A',\n",
      "'Tetrodotoxin',\n",
      "'Muscimol',\n",
      "\n",
      "\n",
      "248,\n",
      "19,\n",
      "10,\n",
      "9,\n",
      "8,\n",
      "6,\n",
      "6,\n",
      "3,\n",
      "3,\n",
      "3,\n",
      "\n",
      "\n",
      "78.73,\n",
      "6.03,\n",
      "3.17,\n",
      "2.86,\n",
      "2.54,\n",
      "1.9,\n",
      "1.9,\n",
      "0.95,\n",
      "0.95,\n",
      "0.95,\n",
      "\n",
      "\n",
      "\n",
      "\n",
      "Mutation\n",
      "260\n",
      "\n",
      "\n",
      "'rs58596362',\n",
      "'rs1801133',\n",
      "'rs1800795',\n",
      "'rs1800562',\n",
      "'rs113488022',\n",
      "'rs1800629',\n",
      "'rs2802292',\n",
      "'rs104893877',\n",
      "'rs1799945',\n",
      "'rs429358',\n",
      "\n",
      "\n",
      "44,\n",
      "41,\n",
      "27,\n",
      "24,\n",
      "23,\n",
      "21,\n",
      "21,\n",
      "21,\n",
      "19,\n",
      "19,\n",
      "\n",
      "\n",
      "16.92,\n",
      "15.77,\n",
      "10.38,\n",
      "9.23,\n",
      "8.85,\n",
      "8.08,\n",
      "8.08,\n",
      "8.08,\n",
      "7.31,\n",
      "7.31,\n",
      "\n",
      "\n",
      "\n",
      "\n",
      "Disease\n",
      "147423\n",
      "\n",
      "\n",
      "'Death',\n",
      "'Neoplasms',\n",
      "'Diabetes Mellitus',\n",
      "'Dementia',\n",
      "'Alzheimer Disease',\n",
      "'Hypertension',\n",
      "'Cardiovascular Diseases',\n",
      "'Infections',\n",
      "'Stroke',\n",
      "'Obesity',\n",
      "\n",
      "\n",
      "39038,\n",
      "22646,\n",
      "14724,\n",
      "13400,\n",
      "11795,\n",
      "10979,\n",
      "10447,\n",
      "9722,\n",
      "7492,\n",
      "7180,\n",
      "\n",
      "\n",
      "26.48,\n",
      "15.36,\n",
      "9.99,\n",
      "9.09,\n",
      "8.0,\n",
      "7.45,\n",
      "7.09,\n",
      "6.59,\n",
      "5.08,\n",
      "4.87,\n",
      "\n",
      "\n"
     ]
    }
   ],
   "source": [
    "for i in entity_pairs:\n",
    "    print('\\n')\n",
    "    print(i)\n",
    "    names[i+'_all_sorted']=sorted(names[i+'_all'],key=lambda x:x['literature'],reverse=True)\n",
    "    names[i+'_all_sorted_num']=0\n",
    "    for j in names[i+'_all_sorted'][:10]:\n",
    "        names[i+'_all_sorted_num']+=j.get('literature')\n",
    "    print(names[i+'_all_sorted_num'])\n",
    "    print('\\n')\n",
    "    for j in names[i+'_all_sorted'][:10]:\n",
    "        print(\"'\"+j.get('entity')+\"',\")\n",
    "    print('\\n')\n",
    "    for j in names[i+'_all_sorted'][:10]:\n",
    "        print(str(j.get('literature'))+\",\")\n",
    "    print('\\n')\n",
    "    for j in names[i+'_all_sorted'][:10]:\n",
    "        z=j.get('literature')*100/names[i+'_all_sorted_num']\n",
    "        print(str(round(z,2))+\",\")\n",
    "    print('\\n')\n",
    "# for i in entity_pairs:\n",
    "#     print('\\n')\n",
    "#     print(i)\n",
    "#     for j in names[i+'_all_sorted'][:10]:\n",
    "#         print(str(j.get('literature'))+\",\")\n",
    "#         names[i+'_all_sorted_num']+=j.get('literature')\n",
    "# for i in entity_pairs:\n",
    "#     print('\\n')\n",
    "#     print(i)\n",
    "#     cxv=0\n",
    "#     for j in names[i+'_all_sorted'][:10]:\n",
    "#         z=j.get('literature')*100/names[i+'_all_sorted_num']\n",
    "#         print(str(round(z,2))+\",\")"
   ]
  },
  {
   "cell_type": "code",
   "execution_count": null,
   "id": "db947668-1f76-41f2-bb5f-d18369a1b272",
   "metadata": {},
   "outputs": [],
   "source": [
    "all_es_result=json.load(open('results/step2/all_es_result.json'))"
   ]
  },
  {
   "cell_type": "code",
   "execution_count": null,
   "id": "35be2946-97c7-4af6-a87d-babea62d2edf",
   "metadata": {},
   "outputs": [],
   "source": [
    "for i in entity_pairs:\n",
    "    names[i.replace(' ','_')+'_sentences']=set()\n",
    "for i in all_es_result:\n",
    "    for j in i.get('sentence'):\n",
    "        for k in j:\n",
    "            if re.search('RNA',i.get('type')):\n",
    "                names['RNA'.replace(' ','_')+'_sentences'].add(k)\n",
    "            else:\n",
    "                names[i.get('type').replace(' ','_')+'_sentences'].add(k)"
   ]
  },
  {
   "cell_type": "code",
   "execution_count": null,
   "id": "142527c1-a63f-4067-8a5d-1fbc9770ea20",
   "metadata": {},
   "outputs": [
    {
     "name": "stdout",
     "output_type": "stream",
     "text": [
      "Gene\n",
      "93798\n",
      "RNA\n",
      "2341\n",
      "Protein\n",
      "2305\n",
      "Carbohydrate\n",
      "18383\n",
      "Lipid\n",
      "17388\n",
      "Peptide\n",
      "3850\n",
      "Pharmaceutical_Preparations\n",
      "297\n",
      "Toxin\n",
      "579\n",
      "Mutation\n",
      "4147\n",
      "Disease\n",
      "758812\n"
     ]
    }
   ],
   "source": [
    "for i in entity_pairs:\n",
    "    print(i)\n",
    "    print(len(names[i.replace(' ','_')+'_sentences']))"
   ]
  },
  {
   "cell_type": "code",
   "execution_count": null,
   "id": "86faa162-0c7d-4e95-8ec2-5d8a763d88e2",
   "metadata": {},
   "outputs": [],
   "source": []
  },
  {
   "cell_type": "code",
   "execution_count": null,
   "id": "204a1c24-a515-4997-9195-d960a99e9d0a",
   "metadata": {},
   "outputs": [],
   "source": []
  },
  {
   "cell_type": "markdown",
   "id": "de20018c-0a02-477d-93d7-a317c1f4e812",
   "metadata": {},
   "source": [
    "# Entity_Info.json"
   ]
  },
  {
   "cell_type": "code",
   "execution_count": 248,
   "id": "522363ca-0fa2-4cbe-8627-bc99f47ccaa1",
   "metadata": {},
   "outputs": [],
   "source": [
    "all_es_result_dict={}\n",
    "for i in all_es_result:\n",
    "    if not all_es_result_dict.get(i.get('entity')):\n",
    "        all_es_result_dict[i.get('entity')]=i"
   ]
  },
  {
   "cell_type": "code",
   "execution_count": 249,
   "id": "5a1706f6-9965-44ea-aa0a-8e02bf271123",
   "metadata": {},
   "outputs": [
    {
     "data": {
      "text/plain": [
       "{'entity': 'Keratosis, Seborrheic',\n",
       " 'PMID': ['34830382',\n",
       "  '32646224',\n",
       "  '31722568',\n",
       "  '31508199',\n",
       "  '30954583',\n",
       "  '29168986',\n",
       "  '27593207',\n",
       "  '25798694',\n",
       "  '23427523',\n",
       "  '23331299',\n",
       "  '21054564',\n",
       "  '18688106',\n",
       "  '11493097',\n",
       "  '8682971',\n",
       "  '8496484',\n",
       "  '1621628',\n",
       "  '1533233',\n",
       "  '2566238',\n",
       "  '36065721',\n",
       "  '36932111',\n",
       "  '36610814',\n",
       "  '37467376',\n",
       "  '37843094'],\n",
       " 'target': [['Seborrheic keratosis',\n",
       "   'seborrheic keratosis',\n",
       "   'Seborrheic keratosis',\n",
       "   'seborrheic keratosis',\n",
       "   'seborrheic keratosis'],\n",
       "  ['seborrheic keratosis', 'seborrheic keratosis'],\n",
       "  ['Seborrheic keratosis', 'SK'],\n",
       "  ['Seborrheic keratosis', 'SK', 'SK', 'SK'],\n",
       "  ['seborrheic keratosis'],\n",
       "  ['seborrheic keratosis', 'Seborrheic keratosis'],\n",
       "  ['seborrheic keratosis', 'seborrheic keratoses', 'seborrheic keratosis'],\n",
       "  ['Seborrheic keratoses', 'SK', 'SK'],\n",
       "  ['Seborrheic keratosis', 'seborrheic keratosis'],\n",
       "  ['seborrheic keratosis'],\n",
       "  ['seborrheic keratosis'],\n",
       "  ['seborrheic keratosis'],\n",
       "  ['Seborrheic keratosis'],\n",
       "  ['sudden eruption of multiple seborrheic keratoses', 'seborrheic keratoses'],\n",
       "  ['Seborrheic keratoses'],\n",
       "  ['seborrheic keratoses'],\n",
       "  ['seborrheic keratoses',\n",
       "   'seborrheic keratoses and malignancy',\n",
       "   'eruptions of seborrheic keratoses',\n",
       "   'eruptive seborrheic keratoses'],\n",
       "  ['seborrheic keratosis'],\n",
       "  ['seborrheic keratosis'],\n",
       "  ['Seborrheic keratosis'],\n",
       "  ['seborrheic keratosis',\n",
       "   'skin lesions of seborrheic keratosis',\n",
       "   'seborrheic keratosis'],\n",
       "  ['seborrheic keratosis'],\n",
       "  ['sudden eruption of multiple seborrheic keratoses']],\n",
       " 'date': [20211119,\n",
       "  20210201,\n",
       "  20191001,\n",
       "  20190101,\n",
       "  20190801,\n",
       "  20180101,\n",
       "  20170201,\n",
       "  20151001,\n",
       "  20120901,\n",
       "  20130501,\n",
       "  20110701,\n",
       "  20080101,\n",
       "  20010801,\n",
       "  19960701,\n",
       "  19930501,\n",
       "  19920701,\n",
       "  19920201,\n",
       "  19890101,\n",
       "  20221201,\n",
       "  20230317,\n",
       "  20230501,\n",
       "  20231101,\n",
       "  20230801],\n",
       " 'type': 'Disease',\n",
       " 'sentence': [['Seborrheic keratosis, which is a benign tumor composed of epidermal keratinocytes, develops common in the elderly.',\n",
       "   'Uric acid generated by upregulated guanine deaminase (GDA) has been identified to cause UV-induced keratinocyte senescence in seborrheic keratosis.',\n",
       "   'Seborrheic keratosis is also frequently pigmented.',\n",
       "   'The objective of this study was to investigate role of GDA and its metabolic end product, uric acid, in hyperpigmentation of patients with seborrheic keratosis using their lesional and non-lesional skin specimen sets and cultured primary human epidermal keratinocytes with or without GDA overexpression or uric acid treatment.',\n",
       "   'Overall, GDA upregulation in seborrheic keratosis plays a role in melanogenesis via its metabolic end product uric acid, suggesting that seborrheic keratosis as an example of hyperpigmentation associated with photoaging.'],\n",
       "  ['OBJECTIVE: Hydrogen peroxide 40% (HP40) was approved by the US Food and Drug Administration for topical treatment of seborrheic keratosis (SK) in December 2017.',\n",
       "   'DATA SOURCES: A systematic literature review was performed using the terms \"Eskata AND seborrheic keratosis,\" and \"hydrogen peroxide AND seborrheic keratosis\" in the OVID MEDLINE, PubMed, Cochrane Library, EMBASE, and Web of Science databases.'],\n",
       "  ['Seborrheic keratosis (SK) is a common, benign, cutaneous skin tumor of the elderly patients.',\n",
       "   'We experienced rare SK in the auricle that was completely removed and did not recur.'],\n",
       "  ['Seborrheic keratosis (SK) is a common benign epidermal tumor with predominance in adult patients.',\n",
       "   'There seems to be a link between extrinsic skin aging and the occurrence of SK.',\n",
       "   'Mutations of fibroblast growth factor receptor 3 and other signaling molecules are a frequent finding in SK lesions.',\n",
       "   'Viral infections are particularly common in genital lesions, although their pathogenetic relevance for SK is questionable.'],\n",
       "  ['RESULTS: Actinic and seborrheic keratosis, telangiectasia, and prior incidence of skin cancers were statistically significantly greater and photoaging scale severity, coarse wrinkles, thickness, and sallowness were significantly reduced in atrophic versus hypertrophic groups.'],\n",
       "  ['Coronary angiography was also performed when indicated for patients in group D. RESULTS: Patients in group D had a higher percentages of uneven pigmentation, fine skin wrinkles, lax appearance, seborrheic keratosis, total score > 7 (38 [77.55%] vs 10 [20.83%]), mitral annular calcification score of 33 (67.34%) vs 5 (10.41%), aortic sclerosis score of 21 (42.85%) vs 4 (8.33%), and mean LA diameter of 39.98 +- 5.52 vs 36.21 +- 3 mm (P < 0.001).',\n",
       "   'Seborrheic keratosis was the strongest independent predictor.'],\n",
       "  ['OBJECTIVE: To investigate the association between fine particulate matter (PM2.5 ) and skin ageing, particularly senile lentigo and seborrheic keratosis.',\n",
       "   'Skin ageing symptoms, particularly senile lentigines and seborrheic keratoses, were clinically assessed using scores of intrinsic and extrinsic skin ageing.',\n",
       "   'However, no association was found between PM2.5 and seborrheic keratosis.'],\n",
       "  ['BACKGROUND AND OBJECTIVE: Seborrheic keratoses (SK) are benign cutaneous lesions frequently seen in old age.',\n",
       "   'The aim of the study is to compare the efficiency of Er:YAG lasers with cryotherapy in the treatment of SK.',\n",
       "   'PATIENTS AND METHODS: The study was carried out on 42 patients with SK sized 0.5-3 cm, located on the back, chest, face and neck.'],\n",
       "  ['Seborrheic keratosis is a common and benign cutaneous lesion occurring on the trunk, extremities, and head and neck of the elderly.',\n",
       "   'We present a case of seborrheic keratosis in the external auditory canal of a one-year-old child.'],\n",
       "  [\"All participant's facial sun-exposed areas were examined by dermoscopy in terms of telangiectasia, vascular changes, pigmentation changes, seborrheic keratosis, actinic keratosis, periorbital comedones and cysts, superficial- deep- criss-cross wrinkles as the signs of photoaging and scored with the help of dermoscopic photoaging scale (DPAS).\"],\n",
       "  ['Risk of HPV positivity was also higher in blond-haired subjects, fair/pale skin colour, history of sunburn, solar lentigines and seborrheic keratosis but the differences were not significant.'],\n",
       "  ['INDICATIONS FOR CO 2 LASER: Therapeutic indications: Actinic and seborrheic keratosis, warts, moles, skin tags, epidermal and dermal nevi, vitiligo blister and punch grafting, rhinophyma, sebaceous hyperplasia, xanthelasma, syringomas, actinic cheilitis angiofibroma, scar treatment, keloid, skin cancer, neurofibroma and diffuse actinic keratoses.'],\n",
       "  ['Seborrheic keratosis is the major pigmentary lesion in men, whereas hyperpigmented macules are the prominent features in women.'],\n",
       "  ['It is defined as the sudden eruption of multiple seborrheic keratoses caused by a malignancy.',\n",
       "   'Because both seborrheic keratoses and cancer are common in the elderly, it is not always easy to tell from the literature or in any given patient if this sign is present.'],\n",
       "  ['BACKGROUND: Seborrheic keratoses have on rare occasion been reported to undergo malignant transformation.'],\n",
       "  ['Lesions frequently encountered in elderly patients include benign tumors such as seborrheic keratoses, lentigo, keratoacanthoma, epidermal cyst and sebaceous hyperplasia.'],\n",
       "  ['The sign of Leser-Trelat refers to a sudden increase in size and number of seborrheic keratoses associated with internal malignancy.',\n",
       "   'The validity of this cutaneous sign continues to be debated, particularly because of the prevalence of both seborrheic keratoses and malignancy in the elderly population.',\n",
       "   'Preceding inflammatory skin conditions are known to precipitate eruptions of seborrheic keratoses in otherwise healthy persons.',\n",
       "   'We present a young female patient with osteogenic sarcoma in whom eruptive seborrheic keratoses developed.'],\n",
       "  ['The leading diagnoses were seborrheic keratosis (15.6%), basal cell carcinoma (13.6%), solar keratosis (13.2%), psoriasis (9.7%) and leg ulcer (9.3%).'],\n",
       "  ['BACKGROUND: Currently, most studies of ELAV (Embryonic Lethal, Abnormal Vision, Drosophila)-like protein 4 (Hu antigen D, HuD) focus on nervous system-related diseases; the role of HuD in the occurrence of skin aging and seborrheic keratosis (SK) has not been reported.'],\n",
       "  ['Seborrheic keratosis (SK) was the most common benign skin tumor with a prevalence of 100%.'],\n",
       "  ['OBJECTIVE: To investigate the correlation of the level of Hcit in seborrheic keratosis, skin aging, and its clinical significance.',\n",
       "   'METHODS: Immunohistochemistry was used to analyze the level of Hcit in skin lesions of seborrheic keratosis (SK), unaffected skin (distant 0.5 centimeters from SK lesion), and normal skin of healthy subjects in the control group.',\n",
       "   'CONCLUSION: The high expressional level of Hcit is correlated with seborrheic keratosis and skin aging.'],\n",
       "  ['Many benign simulators of LM and LMM, known as atypical pigmented facial lesions (aPFLs - pigmented actinic keratosis, solar lentigo, seborrheic keratosis, seborrheic-lichenoid keratosis, atypical nevus) may be found on photodamaged skin.'],\n",
       "  ['Dear Editor, The Leser-Trelat sign is a rare paraneoplastic cutaneous marker of internal malignancy characterized by sudden eruption of multiple seborrheic keratoses (SK).']],\n",
       " '_id': 'Disease_Keratosis, Seborrheic',\n",
       " 'IF': ['5.6',\n",
       "  '2.9',\n",
       "  0.0,\n",
       "  0.0,\n",
       "  '13.8',\n",
       "  '2.7',\n",
       "  0.0,\n",
       "  0.0,\n",
       "  0.0,\n",
       "  '2.2',\n",
       "  0.0,\n",
       "  0.0,\n",
       "  0.0,\n",
       "  '13.8',\n",
       "  0.0,\n",
       "  '4.0',\n",
       "  '13.8',\n",
       "  '3.6',\n",
       "  '2.3',\n",
       "  0.0,\n",
       "  '1.7',\n",
       "  0.0,\n",
       "  0.0],\n",
       " 'IF5': ['6.2',\n",
       "  '2.9',\n",
       "  0.0,\n",
       "  0.0,\n",
       "  '11.1',\n",
       "  '2.7',\n",
       "  0.0,\n",
       "  0.0,\n",
       "  0.0,\n",
       "  '2.4',\n",
       "  0.0,\n",
       "  0.0,\n",
       "  0.0,\n",
       "  '11.1',\n",
       "  0.0,\n",
       "  '7.4',\n",
       "  '11.1',\n",
       "  '4.2',\n",
       "  '2.5',\n",
       "  0.0,\n",
       "  '2.0',\n",
       "  0.0,\n",
       "  0.0],\n",
       " 'TA': ['Int J Mol Sci',\n",
       "  'Ann Pharmacother',\n",
       "  'Ear Nose Throat J',\n",
       "  'F1000Res',\n",
       "  'J Am Acad Dermatol',\n",
       "  'Clin Cardiol',\n",
       "  'J Eur Acad Dermatol Venereol',\n",
       "  'J Dermatolog Treat',\n",
       "  'Turk J Pediatr',\n",
       "  'Skin Res Technol',\n",
       "  'J Eur Acad Dermatol Venereol',\n",
       "  'Indian J Dermatol Venereol Leprol',\n",
       "  'Arch Dermatol',\n",
       "  'J Am Acad Dermatol',\n",
       "  'J Dermatol Surg Oncol',\n",
       "  'Am Fam Physician',\n",
       "  'J Am Acad Dermatol',\n",
       "  'Acta Derm Venereol',\n",
       "  'J Cosmet Dermatol',\n",
       "  'Sci Rep',\n",
       "  'An Bras Dermatol',\n",
       "  'J Eur Acad Dermatol Venereol',\n",
       "  'Acta Dermatovenerol Croat'],\n",
       " 'JT': ['International journal of molecular sciences',\n",
       "  'The Annals of pharmacotherapy',\n",
       "  'Ear, nose, & throat journal',\n",
       "  'F1000Research',\n",
       "  'Journal of the American Academy of Dermatology',\n",
       "  'Clinical cardiology',\n",
       "  'Journal of the European Academy of Dermatology and Venereology : JEADV',\n",
       "  'The Journal of dermatological treatment',\n",
       "  'The Turkish journal of pediatrics',\n",
       "  'Skin research and technology : official journal of International Society for Bioengineering and the Skin (ISBS) [and] International Society for Digital Imaging of Skin (ISDIS) [and] International Society for Skin Imaging (ISSI)',\n",
       "  'Journal of the European Academy of Dermatology and Venereology : JEADV',\n",
       "  'Indian journal of dermatology, venereology and leprology',\n",
       "  'Archives of dermatology',\n",
       "  'Journal of the American Academy of Dermatology',\n",
       "  'The Journal of dermatologic surgery and oncology',\n",
       "  'American family physician',\n",
       "  'Journal of the American Academy of Dermatology',\n",
       "  'Acta dermato-venereologica',\n",
       "  'Journal of cosmetic dermatology',\n",
       "  'Scientific reports',\n",
       "  'Anais brasileiros de dermatologia',\n",
       "  'Journal of the European Academy of Dermatology and Venereology : JEADV',\n",
       "  'Acta dermatovenerologica Croatica : ADC'],\n",
       " 'year': [2021,\n",
       "  2021,\n",
       "  2019,\n",
       "  2019,\n",
       "  2019,\n",
       "  2018,\n",
       "  2017,\n",
       "  2015,\n",
       "  2012,\n",
       "  2013,\n",
       "  2011,\n",
       "  2008,\n",
       "  2001,\n",
       "  1996,\n",
       "  1993,\n",
       "  1992,\n",
       "  1992,\n",
       "  1989,\n",
       "  2022,\n",
       "  2023,\n",
       "  2023,\n",
       "  2023,\n",
       "  2023]}"
      ]
     },
     "execution_count": 249,
     "metadata": {},
     "output_type": "execute_result"
    }
   ],
   "source": [
    "all_es_result[10000]"
   ]
  },
  {
   "cell_type": "code",
   "execution_count": 250,
   "id": "b05a783f-4f15-43b5-8735-cd123733e83e",
   "metadata": {},
   "outputs": [],
   "source": [
    "all_es_dict={}\n",
    "for i in all_es:\n",
    "    if not i.get('url'):\n",
    "        i['url']=i.get('NCBI_URL')\n",
    "    j={'entity':i.get('entity'),'type':i.get('type'),'PMID':i.get('PMID'),\n",
    "       'official full name':i.get('Official_Full_Name'),\n",
    "       'sentence':all_es_result_dict.get(i.get('entity')).get('sentence'),\n",
    "      'numbers of articles':i.get('literature'),\n",
    "       'JT':all_es_result_dict.get(i.get('entity')).get('JT'),\n",
    "       'TA':all_es_result_dict.get(i.get('entity')).get('TA'),\n",
    "       'IF':all_es_result_dict.get(i.get('entity')).get('IF'),\n",
    "       'IF5':all_es_result_dict.get(i.get('entity')).get('IF5'),\n",
    "       'year':all_es_result_dict.get(i.get('entity')).get('year'),\n",
    "       'date':all_es_result_dict.get(i.get('entity')).get('date'),\n",
    "       'alias names':i.get('Also_known_as',''),\n",
    "       'description':i.get('Summary',''),\n",
    "       'url':i.get('url',''),\n",
    "       'mutation position':i.get('position',''),\n",
    "       'mutation alleles':i.get('Alleles',''),\n",
    "       'MeSH ID':i.get('MeshID',''),\n",
    "       'relation':i.get('network'),\n",
    "       'external links':[],\n",
    "       'aging biomarker':i.get('aging'),\n",
    "       'longevity biomarker':i.get('longevity')}\n",
    "    if i.get('NCBI_URL'):\n",
    "        j['external links']+=[{'NCBI':{'NCBI_URL':i.get('NCBI_URL'),'NCBI_ID':i.get('NCBI_ID')}}]\n",
    "    if i.get('GenAge_URL'):\n",
    "        j['external links']+=[{'GenAge':{'GenAge_URL':i.get('GenAge_URL'),'GenAge_symbol':i.get('GenAge_symbol')}}]\n",
    "    if i.get('LongevityMap_URL'):\n",
    "        j['external links']+=[{'LongevityMap':{'LongevityMap_URL':i.get('LongevityMap_URL'),'LongevityMap_symbol':i.get('LongevityMap_symbol')}}]\n",
    "    if i.get('AgingBank_URL'):\n",
    "        j['external links']+=[{'AgingBank':{'AgingBank_URL':i.get('AgingBank_URL'),'AgingBank_symbol':i.get('AgingBank_symbol')}}]\n",
    "    if i.get('AgingAtlas_URL'):\n",
    "        j['external links']+=[{'AgingAtlas':{'AgingAtlas_URL':i.get('AgingAtlas_URL'),'AgingAtlas_symbol':i.get('AgingAtlas_symbol')}}]\n",
    "    if not all_es_dict.get(i.get('entity')):\n",
    "        all_es_dict[i.get('entity')]=[j]\n",
    "    else:\n",
    "        all_es_dict[i.get('entity')]=all_es_dict.get(i.get('entity'))+[j]"
   ]
  },
  {
   "cell_type": "code",
   "execution_count": 251,
   "id": "164bb71e-cb7d-49c6-95b1-37d2dcf51541",
   "metadata": {},
   "outputs": [
    {
     "data": {
      "text/plain": [
       "12257"
      ]
     },
     "execution_count": 251,
     "metadata": {},
     "output_type": "execute_result"
    }
   ],
   "source": [
    "len(all_es_dict)"
   ]
  },
  {
   "cell_type": "code",
   "execution_count": 252,
   "id": "1af1809b-9bd7-4b28-81e1-334fe63139f8",
   "metadata": {},
   "outputs": [
    {
     "name": "stdout",
     "output_type": "stream",
     "text": [
      "183893\n"
     ]
    }
   ],
   "source": [
    "all_es_length=set()\n",
    "for i,j in all_es_dict.items():\n",
    "    for k in j[0].get('PMID'):\n",
    "        all_es_length.add(k)\n",
    "print(len(all_es_length))"
   ]
  },
  {
   "cell_type": "code",
   "execution_count": 253,
   "id": "32436b2a-0c02-42b2-adab-10f94c2db70f",
   "metadata": {},
   "outputs": [],
   "source": [
    "json.dump(all_es_dict,open('results/step5/Entity_Info.json','w'))"
   ]
  },
  {
   "cell_type": "code",
   "execution_count": 254,
   "id": "9a9aaec6-e0ea-4dd0-b0ef-d2f7b0a25f0f",
   "metadata": {},
   "outputs": [
    {
     "data": {
      "text/plain": [
       "('MLH1',\n",
       " [{'entity': 'MLH1',\n",
       "   'type': 'Gene',\n",
       "   'PMID': ['12612901',\n",
       "    '30275527',\n",
       "    '25311944',\n",
       "    '22936446',\n",
       "    '19949675',\n",
       "    '22406557',\n",
       "    '23240038',\n",
       "    '11325821',\n",
       "    '21042749',\n",
       "    '25556597',\n",
       "    '17556535',\n",
       "    '29425284',\n",
       "    '22740444',\n",
       "    '10954253',\n",
       "    '37380216'],\n",
       "   'official full name': 'mutL homolog 1',\n",
       "   'sentence': [['Most such cancers have the CpG island methylator phenotype (CIMP+) with methylation and transcriptional silencing of the mismatch repair gene MLH1.'],\n",
       "    ['Our group recently demonstrated that aging human HSCs accumulate microsatellite instability coincident with loss of MLH1, a DNA Mismatch Repair (MMR) protein, which could reasonably predispose to radiation-induced HSC malignancies.',\n",
       "     'In addition, whole-exome sequencing analysis revealed high SNVs and INDELs in lymphomas being driven by loss of Mlh1 and frequently mutated genes had a strong correlation with human leukemias.'],\n",
       "    ['ARID1A loss was observed in 9% (22/257) of the cohort: 24% of MMR-deficient tumors (14/59, 13 of the 14 being MLH1/PMS2 deficient) and 4% of MMR-normal tumors (8/198) (P < .05).',\n",
       "     'MLH1 (mutL homolog 1) promoter hypermethylation was observed in 10 of the 13 MLH1/PMS2-deficient/ARID1A-loss tumors, indicating an association between ARID1A loss and sporadic microsatellite unstable CRCs.'],\n",
       "    ['A great number of genes with promoter methylation have been observed in gastric cancer (GC), among which p16INK4A (p16), Mut L homologue 1 (MLH1), Epithelial-cadherin (E-cadherin), Runt-related transcription factor 3 (RUNX3), adenomatous polyposis coli (APC), O(6)-methylguanine-DNA methyltransferase (MGMT), Ras association domain family 1A (RASSF1A) and Death-associated protein kinase (DAPK) have been extensively studied.'],\n",
       "    ['We investigated the clinicopathological features of 1,786 EGC cases, and using tissue microarray, the expression of c-erbB-2, EGFR, MLH1, MSH2, p53, and AQP1 was examined in group with recurrence and control group without recerrence.'],\n",
       "    ['In a longitudinal study with 11 years of follow-up on survival in the oldest-old Danes we found 2 pro/antioxidant SNPs (rs10047589 (TNXRD1), rs207444 (XDH)), 1 GH/IGF-1/INS SNP (rs26802 (GHRL)) and 3 DNA repair SNPs (rs13320360 (MLH1), rs2509049 (H2AFX) and rs705649 (XRCC5)) to be associated with mortality in late life after correction for multiple testing.'],\n",
       "    ['We previously demonstrated that SNPs (rs1800734, rs749072, and rs13098279) in the MLH1 gene region are associated with MLH1 promoter island methylation, loss of MLH1 protein expression, and microsatellite instability (MSI) in colorectal cancer (CRC) patients.',\n",
       "     'To address whether MLH1 methylation in PBCs is correlated with tumorigenesis we utilized the Illumina 450 K microarrays to measure methylation in PBC DNA of 846 healthy controls and 252 CRC patients from Ontario, Canada.',\n",
       "     'Analysis of a region of chromosome 3p21 spanning the MLH1 locus in healthy controls revealed that a CpG island shore 1 kb upstream of the MLH1 gene exhibits different methylation profiles when stratified by SNP genotypes (rs1800734, rs749072, and rs13098279).'],\n",
       "    ['One gene (Mlh1) was unmethylated in all tissues examined.'],\n",
       "    ['We determined microsatellite instability (MSI), CIM, and expression of MLH1 and MGMT in 3 CD-associated small bowel carcinomas and corresponding non-neoplastic mucosa.',\n",
       "     'A high level CIM/MSI phenotype was found in all of the 3 CD-associated carcinomas and was associated with loss of MLH1 expression due to hypermethylation of the MLH1 promoter.'],\n",
       "    ['In 191 samples provided from patients with GC, the clinicopathological parameters were correlated with a panel of 15 antibodies: E-cadherin, HER-2, VEGF, CD31, CD105, COX-2, maspin, bax, bcl-2, p53, Ki67, MLH-1, MSH-2, mena protein and vimentin.'],\n",
       "    ['To investigate whether different DNA methylation patterns contribute to the development of different phenotypes caused by LMNA mutations, we analyzed a panel of ten candidate genes related to fat metabolism, aging, and a tendency to different methylation patterns: CSPG2, ESR1, IGF1R, IGFR2, LMNA, MLH1, RANBP1, RARB, ZMPSTE24, and TGFBR1.'],\n",
       "    ['In two patients with negative chromosome breakage analysis, aCGH detected a Xq28 deletion comprising the Centrin EF-hand Protein 2 (CETN2) and HAUS Augmin Like Complex Subunit 7 (HAUS7) genes essential for meiotic DNA repair, and a duplication in the 3p22.2 region comprising a part of the ATPase domain of the MutL Homolog 1 (MLH1) gene.'],\n",
       "    ['We examined microsatellite instability and expression of the MMR genes MutL homologue 1 (MLH1) and MutS homologue 2 (MSH2) in HPCs and colony-forming cell-derived clones (CFCs) from human donors aged 0 to 86 years.',\n",
       "     'CFCs from donors > 45 years had a greater frequency of microsatellite instability and CD34(+) progenitors lacking MLH1 expression and protein than individuals <= 45 years.',\n",
       "     'Thus, a potentially early event in the normal human aging process is microsatellite instability accumulation in normal human HPCs associated with the loss of MLH1 protein expression.'],\n",
       "    ['The hereditary breast (BC) and ovarian (OC) cancer syndrome (HBOC) includes genetic alterations of various susceptibility genes such as TP53, ATM, PTEN or MSH2, MLH1, PMS1, PMS2, MSH3 and MSH6, BRCA1 and BRCA2.'],\n",
       "    ['Tumors were screened for Lynch syndrome via immunohistochemistry, with MLH1 methylation analysis performed when there was loss of MLH1 expression.',\n",
       "     'OBJECTIVE: MLH1 loss due to MLH1 methylation, detected during Lynch syndrome screening, is one of the most common molecular changes in endometrial cancer.',\n",
       "     'RESULTS: There were 114 patients with mismatch repair deficient tumors associated with MLH1 methylation, and 349 with mismatch repair proficient tumors.',\n",
       "     'CONCLUSION: The relationship of MLH1 methylated endometrial cancer with age and body mass index is complex and somewhat dependent on tumor grade.',\n",
       "     'The objective of this study was to determine if there was an association between aging or body mass index on MLH1 methylation in sporadic endometrial cancer.']],\n",
       "   'numbers of articles': 15,\n",
       "   'JT': ['Gastroenterology',\n",
       "    'Leukemia',\n",
       "    'Human pathology',\n",
       "    'Histology and histopathology',\n",
       "    'Journal of Korean medical science',\n",
       "    'Experimental gerontology',\n",
       "    'PloS one',\n",
       "    'Cancer research',\n",
       "    'Oncology reports',\n",
       "    'APMIS : acta pathologica, microbiologica, et immunologica Scandinavica',\n",
       "    'Journal of molecular endocrinology',\n",
       "    'Human reproduction (Oxford, England)',\n",
       "    'Blood',\n",
       "    'European journal of cancer prevention : the official journal of the European Cancer Prevention Organisation (ECP)',\n",
       "    'International journal of gynecological cancer : official journal of the International Gynecological Cancer Society'],\n",
       "   'TA': ['Gastroenterology',\n",
       "    'Leukemia',\n",
       "    'Hum Pathol',\n",
       "    'Histol Histopathol',\n",
       "    'J Korean Med Sci',\n",
       "    'Exp Gerontol',\n",
       "    'PLoS One',\n",
       "    'Cancer Res',\n",
       "    'Oncol Rep',\n",
       "    'APMIS',\n",
       "    'J Mol Endocrinol',\n",
       "    'Hum Reprod',\n",
       "    'Blood',\n",
       "    'Eur J Cancer Prev',\n",
       "    'Int J Gynecol Cancer'],\n",
       "   'IF': ['29.4',\n",
       "    '11.4',\n",
       "    '3.3',\n",
       "    '2.0',\n",
       "    0.0,\n",
       "    '3.9',\n",
       "    '3.7',\n",
       "    '11.2',\n",
       "    '4.2',\n",
       "    '2.8',\n",
       "    '3.5',\n",
       "    '6.1',\n",
       "    '20.3',\n",
       "    '2.4',\n",
       "    0.0],\n",
       "   'IF5': ['25.8',\n",
       "    '10.4',\n",
       "    '3.1',\n",
       "    '1.9',\n",
       "    0.0,\n",
       "    '4.3',\n",
       "    '3.8',\n",
       "    '13.0',\n",
       "    '4.0',\n",
       "    '3.2',\n",
       "    '5.1',\n",
       "    '7.1',\n",
       "    '19.6',\n",
       "    '2.5',\n",
       "    0.0],\n",
       "   'year': [2003,\n",
       "    2019,\n",
       "    2014,\n",
       "    2012,\n",
       "    2009,\n",
       "    2012,\n",
       "    2012,\n",
       "    2001,\n",
       "    2010,\n",
       "    2015,\n",
       "    2007,\n",
       "    2018,\n",
       "    2012,\n",
       "    2000,\n",
       "    2023],\n",
       "   'date': [20030301,\n",
       "    20190501,\n",
       "    20141201,\n",
       "    20121001,\n",
       "    20091201,\n",
       "    20120501,\n",
       "    20120101,\n",
       "    20010501,\n",
       "    20101201,\n",
       "    20150301,\n",
       "    20070601,\n",
       "    20180301,\n",
       "    20121018,\n",
       "    20000601,\n",
       "    20230807],\n",
       "   'alias names': 'FCC2; COCA2; HNPCC; MLH-1; hMLH1; HNPCC2; LYNCH2; MMRCS1',\n",
       "   'description': 'The protein encoded by this gene can heterodimerize with mismatch repair endonuclease PMS2 to form MutL alpha, part of the DNA mismatch repair system.',\n",
       "   'url': 'https://www.ncbi.nlm.nih.gov/gene/4292',\n",
       "   'mutation position': '',\n",
       "   'mutation alleles': '',\n",
       "   'MeSH ID': '',\n",
       "   'relation': True,\n",
       "   'external links': [{'NCBI': {'NCBI_URL': 'https://www.ncbi.nlm.nih.gov/gene/4292',\n",
       "      'NCBI_ID': '4292'}},\n",
       "    {'GenAge': {'GenAge_URL': 'https://genomics.senescence.info/genes/entry.php?hgnc=MLH1',\n",
       "      'GenAge_symbol': 'MLH1'}},\n",
       "    {'LongevityMap': {'LongevityMap_URL': 'https://genomics.senescence.info/longevity/search.php?search=MLH1',\n",
       "      'LongevityMap_symbol': 'MLH1'}},\n",
       "    {'AgingBank': {'AgingBank_URL': 'http://bio-bigdata.hrbmu.edu.cn/AgingBank/searchAdvRes.jsp?species=Homo%20sapiens&name=MLH1',\n",
       "      'AgingBank_symbol': 'MLH1'}},\n",
       "    {'AgingAtlas': {'AgingAtlas_URL': 'https://ngdc.cncb.ac.cn/aging/age_related_genes?species=Homo%20sapiens&data=MLH1',\n",
       "      'AgingAtlas_symbol': 'MLH1'}}],\n",
       "   'aging biomarker': True,\n",
       "   'longevity biomarker': False}])"
      ]
     },
     "execution_count": 254,
     "metadata": {},
     "output_type": "execute_result"
    }
   ],
   "source": [
    "list(all_es_dict.items())[0]"
   ]
  },
  {
   "cell_type": "code",
   "execution_count": null,
   "id": "739f0b4a-498a-489b-a435-152c1e67a15c",
   "metadata": {},
   "outputs": [],
   "source": []
  },
  {
   "cell_type": "markdown",
   "id": "86c53737-7624-4147-9cd8-69e6fc4fe38b",
   "metadata": {},
   "source": [
    "# Relation_Info.json"
   ]
  },
  {
   "cell_type": "code",
   "execution_count": 256,
   "id": "c3177c94-13ef-4885-8376-35138a3521a2",
   "metadata": {},
   "outputs": [
    {
     "data": {
      "text/plain": [
       "{'triple': ['COPD', 'defined', 'inflammatory disorder'],\n",
       " 'PMID': '30781849',\n",
       " 'sentence': '(1) Background: Chronic obstructive pulmonary disease (COPD) is defined as an inflammatory disorder that presents an increasingly prevalent health problem.',\n",
       " 'AB': '(1) Background: Chronic obstructive pulmonary disease (COPD) is defined as an inflammatory disorder that presents an increasingly prevalent health problem. Accelerated aging has been examined as a pathologic mechanism of many chronic diseases like COPD. We examined whether COPD is combined with accelerated aging, studying two hormones, dehydroepiandrosterone (DHEA) and growth hormone (GH), known to be characteristic biological markers of aging. (2) Methods: Data were collected from 119 participants, 70 (58.8%) COPD patients and 49 (41.2%) from a health control group over the period of 2014-2016 in a spirometry program. Information about their medical history, tobacco use, and blood tests was obtained. (3) Results: The average age of the health control patients was 73.5 years (SD = 5.5), and that of the COPD patients was 75.4 years (SD = 6.9). Both groups were similar in age and sex. A greater proportion of smokers were found in the COPD group (87.1%) versus the control group (36.7%). The majority of COPD patients were classified as STAGE II (51.4%) and STAGE III (37.1%) according to GOLD (Global Initiative for Chronic Obstructive Pulmonary Disease). Levels of DHEA (SD = 17.1) and GH (SD = 0.37) were significantly lower in the COPD group (p < 0.001) compared to those in the controls (SD = 26.3, SD = 0.79). DHEA and GH were more significant and negatively correlated with age. The regression equation of DHEA with age produced a coefficient equal to 1.26. In this study, the difference in DHEA between COPD patients and controls was, on average, 30.2 mug/dL, indicating that the biological age of a COPD patient is on average about 24 years older than that of a control subject of the same age. Similarly, the difference in GH between COPD patients and controls was, on average, 0.42 ng/mL, indicating that the biological age of a COPD patient is on average about 13.1 years older than that of a control subject of the same age. (4) Conclusions: The findings of our study strongly suggest the presence of premature biological aging in COPD patients. Their biological age could actually vary from 13 to 23 years older than non-COPD controls according to DHEA and GH variation.',\n",
       " 'entity_one': 'COPD',\n",
       " 'entity_one_type': 'Disease',\n",
       " 'entity_two': 'inflammatory disorder',\n",
       " 'entity_two_type': 'Disease',\n",
       " 'entity_one_transformed': 'Pulmonary Disease, Chronic Obstructive',\n",
       " 'entity_two_transformed': 'Inflammation',\n",
       " 'transformed_triple': ('COPD',\n",
       "  'defined',\n",
       "  'inflammatory disorder',\n",
       "  '30781849'),\n",
       " 'method': ['deep learning', 'shortest path'],\n",
       " 'verb': 'defined',\n",
       " 'IF': 0.0,\n",
       " 'IF5': 0.0}"
      ]
     },
     "execution_count": 256,
     "metadata": {},
     "output_type": "execute_result"
    }
   ],
   "source": [
    "triplelistnew[0]"
   ]
  },
  {
   "cell_type": "code",
   "execution_count": 257,
   "id": "ade362e1-c995-4dfb-a2b8-d11edf97bb7a",
   "metadata": {},
   "outputs": [],
   "source": [
    "Relation_Info_list=[]\n",
    "Relation_Info_dict={}\n",
    "for i in triplelistnew:\n",
    "    if i.get('entity_one_transformed')+'-'+i.get('triple')[1]+'-'+i.get('entity_two_transformed') not in Relation_Info_dict.keys():\n",
    "        Relation_Info_dict[i.get('entity_one_transformed')+'-'+i.get('triple')[1]+'-'+i.get('entity_two_transformed')]={\n",
    "            'source entity':i.get('entity_one_transformed'),\n",
    "            'relationship':i.get('triple')[1],\n",
    "            'target entity':i.get('entity_two_transformed'),\n",
    "            'sentence':[i.get('sentence')],\n",
    "            'source':[i.get('entity_one')],\n",
    "            'target':[i.get('entity_two')],\n",
    "            'source type':entitydict_tolist.get(i.get('entity_one_transformed')),\n",
    "            'target type':entitydict_tolist.get(i.get('entity_two_transformed')),\n",
    "            'PMID':[i.get('PMID')],\n",
    "            'DP':[pubtator_info_dict.get(i.get('PMID')).get('DP')],\n",
    "            'date':[cal_date(pubtator_info_dict.get(i.get('PMID')).get('DP'))],\n",
    "            'TI':[pubtator_info_dict.get(i.get('PMID')).get('TI')],\n",
    "            'TA':[pubtator_info_dict.get(i.get('PMID')).get('TA')],\n",
    "            'IF':[i.get('IF')],\n",
    "            'IF5':[i.get('IF5')],\n",
    "            'method':i.get('method')}\n",
    "    else:\n",
    "        Relation_Info_dict[i.get('entity_one_transformed')+'-'+i.get('triple')[1]+'-'+i.get('entity_two_transformed')]['PMID']=Relation_Info_dict.get(i.get('entity_one_transformed')+'-'+i.get('triple')[1]+'-'+i.get('entity_two_transformed')).get('PMID')+[i.get('PMID')]\n",
    "        Relation_Info_dict[i.get('entity_one_transformed')+'-'+i.get('triple')[1]+'-'+i.get('entity_two_transformed')]['sentence']=Relation_Info_dict.get(i.get('entity_one_transformed')+'-'+i.get('triple')[1]+'-'+i.get('entity_two_transformed')).get('sentence')+[i.get('sentence')]\n",
    "        Relation_Info_dict[i.get('entity_one_transformed')+'-'+i.get('triple')[1]+'-'+i.get('entity_two_transformed')]['source']=Relation_Info_dict.get(i.get('entity_one_transformed')+'-'+i.get('triple')[1]+'-'+i.get('entity_two_transformed')).get('source')+[i.get('entity_one')]\n",
    "        Relation_Info_dict[i.get('entity_one_transformed')+'-'+i.get('triple')[1]+'-'+i.get('entity_two_transformed')]['target']=Relation_Info_dict.get(i.get('entity_one_transformed')+'-'+i.get('triple')[1]+'-'+i.get('entity_two_transformed')).get('target')+[i.get('entity_two')]\n",
    "        Relation_Info_dict[i.get('entity_one_transformed')+'-'+i.get('triple')[1]+'-'+i.get('entity_two_transformed')]['DP']=Relation_Info_dict.get(i.get('entity_one_transformed')+'-'+i.get('triple')[1]+'-'+i.get('entity_two_transformed')).get('DP')+[pubtator_info_dict.get(i.get('PMID')).get('DP')]\n",
    "        Relation_Info_dict[i.get('entity_one_transformed')+'-'+i.get('triple')[1]+'-'+i.get('entity_two_transformed')]['TI']=Relation_Info_dict.get(i.get('entity_one_transformed')+'-'+i.get('triple')[1]+'-'+i.get('entity_two_transformed')).get('TI')+[pubtator_info_dict.get(i.get('PMID')).get('TI')]\n",
    "        Relation_Info_dict[i.get('entity_one_transformed')+'-'+i.get('triple')[1]+'-'+i.get('entity_two_transformed')]['TA']=Relation_Info_dict.get(i.get('entity_one_transformed')+'-'+i.get('triple')[1]+'-'+i.get('entity_two_transformed')).get('TA')+[pubtator_info_dict.get(i.get('PMID')).get('TA')]\n",
    "        Relation_Info_dict[i.get('entity_one_transformed')+'-'+i.get('triple')[1]+'-'+i.get('entity_two_transformed')]['date']=Relation_Info_dict.get(i.get('entity_one_transformed')+'-'+i.get('triple')[1]+'-'+i.get('entity_two_transformed')).get('date')+[cal_date(pubtator_info_dict.get(i.get('PMID')).get('DP'))]\n",
    "        Relation_Info_dict[i.get('entity_one_transformed')+'-'+i.get('triple')[1]+'-'+i.get('entity_two_transformed')]['IF']=Relation_Info_dict.get(i.get('entity_one_transformed')+'-'+i.get('triple')[1]+'-'+i.get('entity_two_transformed')).get('IF')+[i.get('IF')]\n",
    "        Relation_Info_dict[i.get('entity_one_transformed')+'-'+i.get('triple')[1]+'-'+i.get('entity_two_transformed')]['IF5']=Relation_Info_dict.get(i.get('entity_one_transformed')+'-'+i.get('triple')[1]+'-'+i.get('entity_two_transformed')).get('IF5')+[i.get('IF5')]\n",
    "        if i.get('method')[0] not in Relation_Info_dict.get(i.get('entity_one_transformed')+'-'+i.get('triple')[1]+'-'+i.get('entity_two_transformed')).get('method'):\n",
    "            Relation_Info_dict[i.get('entity_one_transformed')+'-'+i.get('triple')[1]+'-'+i.get('entity_two_transformed')]['method']=Relation_Info_dict.get(i.get('entity_one_transformed')+'-'+i.get('triple')[1]+'-'+i.get('entity_two_transformed')).get('method')+i.get('method')\n",
    "        else:\n",
    "            continue\n",
    "            "
   ]
  },
  {
   "cell_type": "code",
   "execution_count": 258,
   "id": "27b8ede6-fcdb-4cb1-8863-e00e9c04cb0b",
   "metadata": {},
   "outputs": [
    {
     "data": {
      "text/plain": [
       "('Sarcopenia-associated-Constipation',\n",
       " {'source entity': 'Sarcopenia',\n",
       "  'relationship': 'associated',\n",
       "  'target entity': 'Constipation',\n",
       "  'sentence': ['(4) Conclusions: Sarcopenia and slow gait speed associated with constipation in community-dwelling older adults.'],\n",
       "  'source': ['Sarcopenia'],\n",
       "  'target': ['constipation'],\n",
       "  'source type': ['Disease'],\n",
       "  'target type': ['Disease'],\n",
       "  'PMID': ['34769606'],\n",
       "  'DP': ['2021 Oct 21'],\n",
       "  'date': [20211021],\n",
       "  'TI': ['Status of Constipation and Its Association with Sarcopenia in Older Adults: A Population-Based Cohort Study.'],\n",
       "  'TA': ['Int J Environ Res Public Health'],\n",
       "  'IF': [0.0],\n",
       "  'IF5': [0.0],\n",
       "  'method': ['open domain']})"
      ]
     },
     "execution_count": 258,
     "metadata": {},
     "output_type": "execute_result"
    }
   ],
   "source": [
    "list(Relation_Info_dict.items())[10]"
   ]
  },
  {
   "cell_type": "code",
   "execution_count": 259,
   "id": "85069b55-3755-4838-b8f6-5235c280c3b9",
   "metadata": {},
   "outputs": [
    {
     "data": {
      "text/plain": [
       "116495"
      ]
     },
     "execution_count": 259,
     "metadata": {},
     "output_type": "execute_result"
    }
   ],
   "source": [
    "len(Relation_Info_dict)"
   ]
  },
  {
   "cell_type": "code",
   "execution_count": 260,
   "id": "22576dda-4e43-4afa-92b8-a5d38e50545d",
   "metadata": {},
   "outputs": [
    {
     "name": "stdout",
     "output_type": "stream",
     "text": [
      "50696\n"
     ]
    }
   ],
   "source": [
    "Relation_Info_length=set()\n",
    "for i,j in Relation_Info_dict.items():\n",
    "    for k in j.get('PMID'):\n",
    "        Relation_Info_length.add(k)\n",
    "print(len(Relation_Info_length))"
   ]
  },
  {
   "cell_type": "code",
   "execution_count": 261,
   "id": "ca4bca76-53fc-4b84-8440-e32500974f49",
   "metadata": {},
   "outputs": [],
   "source": [
    "json.dump(Relation_Info_dict,open('results/step5/Relation_Info.json','w'))"
   ]
  },
  {
   "cell_type": "code",
   "execution_count": null,
   "id": "036b8b68-c5a0-4ee7-83ee-e449d923b7f5",
   "metadata": {},
   "outputs": [],
   "source": []
  },
  {
   "cell_type": "code",
   "execution_count": null,
   "id": "783efda1-e878-45ca-8d8e-3d3e45fbe690",
   "metadata": {},
   "outputs": [],
   "source": []
  },
  {
   "cell_type": "markdown",
   "id": "f3cfbbf3-6670-4171-897c-c62ed2e841b2",
   "metadata": {},
   "source": [
    "# Aging_Biomarkers.json"
   ]
  },
  {
   "cell_type": "code",
   "execution_count": 262,
   "id": "6af0de9c-0435-4043-b781-86320ad5b0b9",
   "metadata": {},
   "outputs": [
    {
     "data": {
      "text/plain": [
       "8416"
      ]
     },
     "execution_count": 262,
     "metadata": {},
     "output_type": "execute_result"
    }
   ],
   "source": [
    "len(positive_relations)"
   ]
  },
  {
   "cell_type": "code",
   "execution_count": 263,
   "id": "3f7f868d-b907-40a0-95aa-4f2f0f737b92",
   "metadata": {},
   "outputs": [
    {
     "data": {
      "text/plain": [
       "{'triple': ['alanine aminotransferase', 'recognized', 'mortality'],\n",
       " 'PMID': '34063029',\n",
       " 'sentence': '(1) Background: A significantly reduced alanine aminotransferase (ALT) level is being recognized as a risk factor of increasing mortality in the elderly in relation to frailty.',\n",
       " 'AB': '(1) Background: A significantly reduced alanine aminotransferase (ALT) level is being recognized as a risk factor of increasing mortality in the elderly in relation to frailty. In the elderly, both frailty and ischemic stroke are not only common, but are also associated with mortality. The aim of this research was to investigate whether a significantly reduced ALT level increases the all-cause mortality rate in the elderly with ischemic stroke. (2) Methods: Between February 2014 and April 2019, a retrospective study of 901 patients with ischemic stroke admitted to a university-affiliated hospital was conducted. Cox proportional hazard regression was used to determine whether a significantly reduced ALT level is an independent risk factor for mortality in elderly patients after an ischemic stroke. (3) Results: This study enrolled 323 older adults (age >= 65 years) who were first diagnosed with ischemic stroke. The mean age of the participants was 76.5 +- 6.6 years, the mean survival time was 37.1 +- 20.4 months, and the number of deaths was 96 (29.7%). Our results showed that reduced ALT level (less than 10 U/L) increased the risk of all-cause mortality in the elderly after ischemic stroke (adjusted HR: 3.24, 95% CI: 1.95-5.41; p < 0.001). (4) Conclusions: A significantly reduced ALT level at the time of diagnosis (less than 10 U/L) is an independent risk factor that increases the mortality rate in the elderly after ischemic stroke.',\n",
       " 'entity_one': 'alanine aminotransferase',\n",
       " 'entity_one_type': 'Gene',\n",
       " 'entity_two': 'mortality',\n",
       " 'entity_two_type': 'Disease',\n",
       " 'entity_one_transformed': 'GPT',\n",
       " 'entity_two_transformed': 'Death',\n",
       " 'transformed_triple': ['alanine aminotransferase',\n",
       "  'recognized',\n",
       "  'mortality',\n",
       "  '34063029'],\n",
       " 'method': ['deep learning'],\n",
       " 'verb': 'recognized',\n",
       " 'IF': 0.0,\n",
       " 'IF5': 0.0,\n",
       " 'partofspeech': 'positive',\n",
       " 'date': 20210505,\n",
       " 'TA': 'Int J Environ Res Public Health',\n",
       " 'JT': 'International journal of environmental research and public health',\n",
       " 'year': 2021}"
      ]
     },
     "execution_count": 263,
     "metadata": {},
     "output_type": "execute_result"
    }
   ],
   "source": [
    "positive_relations[0]"
   ]
  },
  {
   "cell_type": "code",
   "execution_count": 264,
   "id": "374e9bb6-ccf1-4ef4-a045-d82656921402",
   "metadata": {},
   "outputs": [],
   "source": [
    "pubtator_info_dict_TI={}\n",
    "pubtator_info_dict_DP={}\n",
    "for i in pubtator_info:\n",
    "    pubtator_info_dict_TI[i.get('PMID')]=i.get('TI')\n",
    "for i in pubtator_info:\n",
    "    pubtator_info_dict_DP[i.get('PMID')]=i.get('DP')"
   ]
  },
  {
   "cell_type": "code",
   "execution_count": 265,
   "id": "57288da4-587c-44bc-a1f6-08aeb266a651",
   "metadata": {},
   "outputs": [],
   "source": [
    "Aging_Biomarkers_dict={}\n",
    "for i in positive_relations:\n",
    "    if not Aging_Biomarkers_dict.get('entity_one_transformed'):\n",
    "        Aging_Biomarkers_dict[i.get('entity_one_transformed')]=[{\n",
    "        'source entity':i.get('entity_one_transformed'),\n",
    "            'relationship':i.get('triple')[1],\n",
    "            'target entity':i.get('entity_two_transformed'),\n",
    "            'sentence':i.get('sentence'),\n",
    "            'source':i.get('entity_one'),\n",
    "            'target':i.get('entity_two'),\n",
    "            'source type':i.get('entity_one_type'),\n",
    "            'target type':i.get('entity_two_type'),\n",
    "            'PMID':i.get('PMID'),\n",
    "            'DP':pubtator_info_dict_DP.get(i.get('PMID')),\n",
    "            'date':i.get('date'),\n",
    "            'TI':pubtator_info_dict_TI.get(i.get('PMID')),\n",
    "            'TA':i.get('TA'),\n",
    "            'IF':i.get('IF'),\n",
    "            'IF5':i.get('IF5')\n",
    "        }]"
   ]
  },
  {
   "cell_type": "code",
   "execution_count": 266,
   "id": "250b8945-ded7-4c4a-9d29-403ed6c35452",
   "metadata": {},
   "outputs": [
    {
     "data": {
      "text/plain": [
       "('GPT',\n",
       " [{'source entity': 'GPT',\n",
       "   'relationship': 'correlated',\n",
       "   'target entity': 'Death',\n",
       "   'sentence': 'RESULTS: Profiling of blood parameters demonstrated that elevated levels of alanine aminotransferase (ALT), total bilirubin (T-bil), blood urea nitrogen (BUN), creatinine (Cr) and a decreased platelet count were significantly correlated with death within 1 week in a training cohort.',\n",
       "   'source': 'alanine aminotransferase',\n",
       "   'target': 'death',\n",
       "   'source type': 'Gene',\n",
       "   'target type': 'Disease',\n",
       "   'PMID': '28011502',\n",
       "   'DP': '2017 Jan',\n",
       "   'date': 20170101,\n",
       "   'TI': 'Objective Predictive Score as a Feasible Biomarker for Short-term Survival in TerminalIy Ill Patients with Cancer.',\n",
       "   'TA': 'Anticancer Res',\n",
       "   'IF': '2.0',\n",
       "   'IF5': '2.2'}])"
      ]
     },
     "execution_count": 266,
     "metadata": {},
     "output_type": "execute_result"
    }
   ],
   "source": [
    "list(Aging_Biomarkers_dict.items())[0]"
   ]
  },
  {
   "cell_type": "code",
   "execution_count": 267,
   "id": "7800e93f-8bef-47e9-82a6-0c2007b89eea",
   "metadata": {},
   "outputs": [
    {
     "data": {
      "text/plain": [
       "1871"
      ]
     },
     "execution_count": 267,
     "metadata": {},
     "output_type": "execute_result"
    }
   ],
   "source": [
    "len(Aging_Biomarkers_dict)"
   ]
  },
  {
   "cell_type": "code",
   "execution_count": 268,
   "id": "4334156f-1233-44ce-9c71-3dfd8e1619ea",
   "metadata": {},
   "outputs": [
    {
     "name": "stdout",
     "output_type": "stream",
     "text": [
      "1507\n"
     ]
    }
   ],
   "source": [
    "Aging_Biomarkers_length=set()\n",
    "for i,j in Aging_Biomarkers_dict.items():\n",
    "    for k in j:\n",
    "        Aging_Biomarkers_length.add(k.get('PMID'))\n",
    "print(len(Aging_Biomarkers_length))"
   ]
  },
  {
   "cell_type": "code",
   "execution_count": 269,
   "id": "b408ecda-f575-4ae7-b7fa-31042e9e004e",
   "metadata": {},
   "outputs": [],
   "source": [
    "json.dump(Aging_Biomarkers_dict,open('results/step5/Aging_Biomarkers.json','w'))"
   ]
  },
  {
   "cell_type": "code",
   "execution_count": null,
   "id": "4cb3c94d-83e0-47e1-84c4-ff8926c1b3b9",
   "metadata": {},
   "outputs": [],
   "source": []
  },
  {
   "cell_type": "code",
   "execution_count": null,
   "id": "1606ec2b-98e5-453c-b240-c088331ad271",
   "metadata": {},
   "outputs": [],
   "source": []
  },
  {
   "cell_type": "markdown",
   "id": "25c003ff-cfcb-4fc8-871e-8205ca7ae8e0",
   "metadata": {},
   "source": [
    "# Longevity_Biomarkers.json"
   ]
  },
  {
   "cell_type": "code",
   "execution_count": 270,
   "id": "76277a55-21d6-4408-9eaa-f377132ba174",
   "metadata": {},
   "outputs": [],
   "source": [
    "Longevity_Biomarkers_dict={}\n",
    "for i in negative_relations:\n",
    "    if not Longevity_Biomarkers_dict.get('entity_one_transformed'):\n",
    "        Longevity_Biomarkers_dict[i.get('entity_one_transformed')]=[{\n",
    "        'source entity':i.get('entity_one_transformed'),\n",
    "            'relationship':i.get('triple')[1],\n",
    "            'target entity':i.get('entity_two_transformed'),\n",
    "            'sentence':i.get('sentence'),\n",
    "            'source':i.get('entity_one'),\n",
    "            'target':i.get('entity_two'),\n",
    "            'source type':i.get('entity_one_type'),\n",
    "            'target type':i.get('entity_two_type'),\n",
    "            'PMID':i.get('PMID'),\n",
    "            'DP':pubtator_info_dict_DP.get(i.get('PMID')),\n",
    "            'date':i.get('date'),\n",
    "            'TI':pubtator_info_dict_TI.get(i.get('PMID')),\n",
    "            'TA':i.get('TA'),\n",
    "            'IF':i.get('IF'),\n",
    "            'IF5':i.get('IF5')\n",
    "        }]"
   ]
  },
  {
   "cell_type": "code",
   "execution_count": 271,
   "id": "57247933-29dc-4d84-8635-e6711bbed962",
   "metadata": {},
   "outputs": [
    {
     "data": {
      "text/plain": [
       "('Glucose',\n",
       " [{'source entity': 'Glucose',\n",
       "   'relationship': 'attenuate',\n",
       "   'target entity': 'Cerebrovascular Disorders',\n",
       "   'sentence': 'Raising NAD+ levels in model organisms by administration of NAD+ precursors improves glucose and lipid metabolism; attenuates diet-induced weight-gain, diabetes, diabetic kidney disease, and hepatic steatosis; reduces endothelial dysfunction; protects heart from ischemic injury; improves left ventricular function in models of heart failure; attenuates cerebrovascular and neurodegenerative disorders; and increases health-span.',\n",
       "   'source': 'glucose',\n",
       "   'target': 'cerebrovascular and neurodegenerative disorders',\n",
       "   'source type': 'Carbohydrate',\n",
       "   'target type': 'Disease',\n",
       "   'PMID': '37364580',\n",
       "   'DP': '2023 Nov 9',\n",
       "   'date': 20231109,\n",
       "   'TI': 'Nicotinamide Adenine Dinucleotide in Aging Biology: Potential Applications and Many Unknowns.',\n",
       "   'TA': 'Endocr Rev',\n",
       "   'IF': '20.3',\n",
       "   'IF5': '25.8'}])"
      ]
     },
     "execution_count": 271,
     "metadata": {},
     "output_type": "execute_result"
    }
   ],
   "source": [
    "list(Longevity_Biomarkers_dict.items())[0]"
   ]
  },
  {
   "cell_type": "code",
   "execution_count": 272,
   "id": "27ab4e35-bb6e-48e7-8db8-46196352fcfa",
   "metadata": {},
   "outputs": [
    {
     "data": {
      "text/plain": [
       "531"
      ]
     },
     "execution_count": 272,
     "metadata": {},
     "output_type": "execute_result"
    }
   ],
   "source": [
    "len(Longevity_Biomarkers_dict)"
   ]
  },
  {
   "cell_type": "code",
   "execution_count": 273,
   "id": "df1dfd06-6e5f-49c6-a55d-d2e05c039cba",
   "metadata": {},
   "outputs": [
    {
     "name": "stdout",
     "output_type": "stream",
     "text": [
      "500\n"
     ]
    }
   ],
   "source": [
    "Longevity_Biomarkers_length=set()\n",
    "for i,j in Longevity_Biomarkers_dict.items():\n",
    "    for k in j:\n",
    "        Longevity_Biomarkers_length.add(k.get('PMID'))\n",
    "print(len(Longevity_Biomarkers_length))"
   ]
  },
  {
   "cell_type": "code",
   "execution_count": 274,
   "id": "e64ad10a-3381-40f7-9749-24fb12fb1116",
   "metadata": {},
   "outputs": [],
   "source": [
    "json.dump(Longevity_Biomarkers_dict,open('results/step5/Longevity_Biomarkers.json','w'))"
   ]
  },
  {
   "cell_type": "code",
   "execution_count": null,
   "id": "fc1b0afe-e5c4-4b6a-a0cc-218825b05e88",
   "metadata": {},
   "outputs": [],
   "source": []
  },
  {
   "cell_type": "code",
   "execution_count": null,
   "id": "e3dcfb64-22a6-4286-a74b-54d461866333",
   "metadata": {},
   "outputs": [],
   "source": []
  },
  {
   "cell_type": "markdown",
   "id": "a4677579-e024-4733-848a-24bdddffc01f",
   "metadata": {},
   "source": [
    "## Evaluation"
   ]
  },
  {
   "cell_type": "code",
   "execution_count": 275,
   "id": "51d81b50-5349-421a-905b-776e965f73c5",
   "metadata": {},
   "outputs": [
    {
     "name": "stdout",
     "output_type": "stream",
     "text": [
      "1871\n",
      "531\n"
     ]
    }
   ],
   "source": [
    "num_of_aging=set()\n",
    "num_of_longevity=set()\n",
    "for i in disease_list:\n",
    "    if i.get('partofspeech')=='positive':\n",
    "        num_of_aging.add(i.get('entity_one_transformed'))\n",
    "    elif i.get('partofspeech')=='negative':\n",
    "        num_of_longevity.add(i.get('entity_one_transformed'))\n",
    "print(len(num_of_aging))\n",
    "print(len(num_of_longevity))"
   ]
  },
  {
   "cell_type": "code",
   "execution_count": 276,
   "id": "b89f2996-a04f-452f-9b80-8a6b2f01e959",
   "metadata": {},
   "outputs": [
    {
     "name": "stdout",
     "output_type": "stream",
     "text": [
      "12315\n",
      "12257\n"
     ]
    }
   ],
   "source": [
    "all_es_count=set()\n",
    "print(len(all_es))\n",
    "for i in all_es:\n",
    "    all_es_count.add(i.get('entity'))\n",
    "print(len(all_es_count))"
   ]
  },
  {
   "cell_type": "code",
   "execution_count": 277,
   "id": "dd6aceb1-72ac-4bb4-8d81-63710fd7f821",
   "metadata": {},
   "outputs": [
    {
     "name": "stdout",
     "output_type": "stream",
     "text": [
      "116495\n"
     ]
    }
   ],
   "source": [
    "print(len(relation_interpolation_list))"
   ]
  },
  {
   "cell_type": "code",
   "execution_count": 280,
   "id": "383d83ae-d40e-45d9-a89b-9c95765752b3",
   "metadata": {},
   "outputs": [
    {
     "data": {
      "text/plain": [
       "342651"
      ]
     },
     "execution_count": 280,
     "metadata": {},
     "output_type": "execute_result"
    }
   ],
   "source": [
    "collections_pubmed_raw_pmid=db.pubmed_raw_pmid\n",
    "len(list(collections_pubmed_raw_pmid.find()))"
   ]
  },
  {
   "cell_type": "code",
   "execution_count": null,
   "id": "8e3228cf-b38f-4afb-9a89-b9453ef5eb4d",
   "metadata": {},
   "outputs": [],
   "source": []
  }
 ],
 "metadata": {
  "kernelspec": {
   "display_name": "hald",
   "language": "python",
   "name": "hald"
  },
  "language_info": {
   "codemirror_mode": {
    "name": "ipython",
    "version": 3
   },
   "file_extension": ".py",
   "mimetype": "text/x-python",
   "name": "python",
   "nbconvert_exporter": "python",
   "pygments_lexer": "ipython3",
   "version": "3.8.15"
  }
 },
 "nbformat": 4,
 "nbformat_minor": 5
}
