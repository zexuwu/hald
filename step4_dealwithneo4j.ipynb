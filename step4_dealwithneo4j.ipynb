{
 "cells": [
  {
   "cell_type": "code",
   "execution_count": 1,
   "id": "8c2aee83-020a-4d96-917f-2ec2215c538c",
   "metadata": {},
   "outputs": [
    {
     "data": {
      "text/plain": [
       "'/root/hald_autoupdate/2023_03_13'"
      ]
     },
     "execution_count": 1,
     "metadata": {},
     "output_type": "execute_result"
    }
   ],
   "source": [
    "pwd"
   ]
  },
  {
   "cell_type": "code",
   "execution_count": 2,
   "id": "257527a4-b258-442a-a1f8-1da6ecef2833",
   "metadata": {},
   "outputs": [],
   "source": [
    "import os\n",
    "import pandas as pd\n",
    "\n",
    "import csv\n",
    "import pickle\n",
    "import json\n"
   ]
  },
  {
   "cell_type": "code",
   "execution_count": 7,
   "id": "f384408f-5721-4c45-9996-8675c4e237f7",
   "metadata": {},
   "outputs": [],
   "source": [
    "pd.set_option('display.max_columns', 50)"
   ]
  },
  {
   "cell_type": "code",
   "execution_count": 8,
   "id": "3e8f82a3-2bc6-409f-a793-3e8dc5039bf0",
   "metadata": {},
   "outputs": [],
   "source": [
    "jcr=pd.read_csv(\"../JCR/jcr2022.tsv\",sep=\"\\t\")"
   ]
  },
  {
   "cell_type": "code",
   "execution_count": 9,
   "id": "2abdbb65-ba26-4947-b585-5333e8e639a0",
   "metadata": {},
   "outputs": [
    {
     "data": {
      "text/plain": [
       "21430"
      ]
     },
     "execution_count": 9,
     "metadata": {},
     "output_type": "execute_result"
    }
   ],
   "source": [
    "len(jcr)"
   ]
  },
  {
   "cell_type": "code",
   "execution_count": 10,
   "id": "db326362-ce39-4510-8e80-7c68261fa323",
   "metadata": {},
   "outputs": [
    {
     "data": {
      "text/html": [
       "<div>\n",
       "<style scoped>\n",
       "    .dataframe tbody tr th:only-of-type {\n",
       "        vertical-align: middle;\n",
       "    }\n",
       "\n",
       "    .dataframe tbody tr th {\n",
       "        vertical-align: top;\n",
       "    }\n",
       "\n",
       "    .dataframe thead th {\n",
       "        text-align: right;\n",
       "    }\n",
       "</style>\n",
       "<table border=\"1\" class=\"dataframe\">\n",
       "  <thead>\n",
       "    <tr style=\"text-align: right;\">\n",
       "      <th></th>\n",
       "      <th>rank</th>\n",
       "      <th>journalTitle</th>\n",
       "      <th>abbrJournal</th>\n",
       "      <th>year</th>\n",
       "      <th>edition</th>\n",
       "      <th>issn</th>\n",
       "      <th>totalCites</th>\n",
       "      <th>journalImpactFactor</th>\n",
       "      <th>impactFactorWithoutJournalSelfCites</th>\n",
       "      <th>fiveYearImpactFactor</th>\n",
       "      <th>immediacyIndex</th>\n",
       "      <th>citableItems</th>\n",
       "      <th>citedHalfLife</th>\n",
       "      <th>citingHalfLife</th>\n",
       "      <th>eigenFactorScore</th>\n",
       "      <th>articleInfluenceScore</th>\n",
       "      <th>citesCurrent</th>\n",
       "      <th>articlesCurrent</th>\n",
       "      <th>selfCites</th>\n",
       "      <th>impactFactorSelfCites</th>\n",
       "      <th>originalResearch</th>\n",
       "      <th>jifPercentile</th>\n",
       "      <th>normEigenFactor</th>\n",
       "    </tr>\n",
       "  </thead>\n",
       "  <tbody>\n",
       "    <tr>\n",
       "      <th>21420</th>\n",
       "      <td>12425</td>\n",
       "      <td>AGENDA</td>\n",
       "      <td>AGENDA</td>\n",
       "      <td>2022</td>\n",
       "      <td>NaN</td>\n",
       "      <td>0002-0796</td>\n",
       "      <td>159</td>\n",
       "      <td>0.0</td>\n",
       "      <td>0.0</td>\n",
       "      <td>0.0</td>\n",
       "      <td>0.0</td>\n",
       "      <td>0</td>\n",
       "      <td>17.8</td>\n",
       "      <td>0.0</td>\n",
       "      <td>0.00005</td>\n",
       "      <td>0.114</td>\n",
       "      <td>NaN</td>\n",
       "      <td>NaN</td>\n",
       "      <td>NaN</td>\n",
       "      <td>NaN</td>\n",
       "      <td>NaN</td>\n",
       "      <td>0.0</td>\n",
       "      <td>0.01206</td>\n",
       "    </tr>\n",
       "    <tr>\n",
       "      <th>21421</th>\n",
       "      <td>12425</td>\n",
       "      <td>Abakos</td>\n",
       "      <td>ABAKOS</td>\n",
       "      <td>2022</td>\n",
       "      <td>NaN</td>\n",
       "      <td>2316-9451</td>\n",
       "      <td>7</td>\n",
       "      <td>0.0</td>\n",
       "      <td>0.0</td>\n",
       "      <td>0.0</td>\n",
       "      <td>0.0</td>\n",
       "      <td>18</td>\n",
       "      <td>0.0</td>\n",
       "      <td>10.7</td>\n",
       "      <td>0.00003</td>\n",
       "      <td>0.068</td>\n",
       "      <td>NaN</td>\n",
       "      <td>NaN</td>\n",
       "      <td>NaN</td>\n",
       "      <td>NaN</td>\n",
       "      <td>NaN</td>\n",
       "      <td>0.0</td>\n",
       "      <td>0.00733</td>\n",
       "    </tr>\n",
       "    <tr>\n",
       "      <th>21422</th>\n",
       "      <td>12425</td>\n",
       "      <td>Adalya</td>\n",
       "      <td>ADALYA</td>\n",
       "      <td>2022</td>\n",
       "      <td>NaN</td>\n",
       "      <td>1301-2746</td>\n",
       "      <td>75</td>\n",
       "      <td>0.0</td>\n",
       "      <td>0.0</td>\n",
       "      <td>0.0</td>\n",
       "      <td>0.0</td>\n",
       "      <td>19</td>\n",
       "      <td>0.0</td>\n",
       "      <td>16.2</td>\n",
       "      <td>0.00027</td>\n",
       "      <td>0.306</td>\n",
       "      <td>NaN</td>\n",
       "      <td>NaN</td>\n",
       "      <td>NaN</td>\n",
       "      <td>NaN</td>\n",
       "      <td>NaN</td>\n",
       "      <td>0.0</td>\n",
       "      <td>0.05846</td>\n",
       "    </tr>\n",
       "    <tr>\n",
       "      <th>21423</th>\n",
       "      <td>12425</td>\n",
       "      <td>Anduli</td>\n",
       "      <td>ANDULI</td>\n",
       "      <td>2022</td>\n",
       "      <td>NaN</td>\n",
       "      <td>1696-0270</td>\n",
       "      <td>35</td>\n",
       "      <td>0.0</td>\n",
       "      <td>0.0</td>\n",
       "      <td>0.0</td>\n",
       "      <td>0.0</td>\n",
       "      <td>15</td>\n",
       "      <td>0.0</td>\n",
       "      <td>14.6</td>\n",
       "      <td>0.00007</td>\n",
       "      <td>0.150</td>\n",
       "      <td>NaN</td>\n",
       "      <td>NaN</td>\n",
       "      <td>NaN</td>\n",
       "      <td>NaN</td>\n",
       "      <td>NaN</td>\n",
       "      <td>0.0</td>\n",
       "      <td>0.01555</td>\n",
       "    </tr>\n",
       "    <tr>\n",
       "      <th>21424</th>\n",
       "      <td>12425</td>\n",
       "      <td>Anemia</td>\n",
       "      <td>ANEMIA</td>\n",
       "      <td>2022</td>\n",
       "      <td>NaN</td>\n",
       "      <td>2090-1267</td>\n",
       "      <td>502</td>\n",
       "      <td>0.0</td>\n",
       "      <td>0.0</td>\n",
       "      <td>0.0</td>\n",
       "      <td>0.0</td>\n",
       "      <td>14</td>\n",
       "      <td>7.3</td>\n",
       "      <td>7.7</td>\n",
       "      <td>0.00030</td>\n",
       "      <td>0.550</td>\n",
       "      <td>NaN</td>\n",
       "      <td>NaN</td>\n",
       "      <td>NaN</td>\n",
       "      <td>NaN</td>\n",
       "      <td>NaN</td>\n",
       "      <td>0.0</td>\n",
       "      <td>0.06589</td>\n",
       "    </tr>\n",
       "    <tr>\n",
       "      <th>21425</th>\n",
       "      <td>12425</td>\n",
       "      <td>Appeal</td>\n",
       "      <td>APPEAL</td>\n",
       "      <td>2022</td>\n",
       "      <td>NaN</td>\n",
       "      <td>1205-612X</td>\n",
       "      <td>56</td>\n",
       "      <td>0.0</td>\n",
       "      <td>0.0</td>\n",
       "      <td>0.0</td>\n",
       "      <td>0.0</td>\n",
       "      <td>6</td>\n",
       "      <td>0.0</td>\n",
       "      <td>4.8</td>\n",
       "      <td>0.00019</td>\n",
       "      <td>0.550</td>\n",
       "      <td>NaN</td>\n",
       "      <td>NaN</td>\n",
       "      <td>NaN</td>\n",
       "      <td>NaN</td>\n",
       "      <td>NaN</td>\n",
       "      <td>0.0</td>\n",
       "      <td>0.04134</td>\n",
       "    </tr>\n",
       "    <tr>\n",
       "      <th>21426</th>\n",
       "      <td>12425</td>\n",
       "      <td>Atenas</td>\n",
       "      <td>ATENAS</td>\n",
       "      <td>2022</td>\n",
       "      <td>NaN</td>\n",
       "      <td>1682-2749</td>\n",
       "      <td>60</td>\n",
       "      <td>0.0</td>\n",
       "      <td>0.0</td>\n",
       "      <td>0.0</td>\n",
       "      <td>0.0</td>\n",
       "      <td>0</td>\n",
       "      <td>0.0</td>\n",
       "      <td>0.0</td>\n",
       "      <td>0.00007</td>\n",
       "      <td>0.034</td>\n",
       "      <td>NaN</td>\n",
       "      <td>NaN</td>\n",
       "      <td>NaN</td>\n",
       "      <td>NaN</td>\n",
       "      <td>NaN</td>\n",
       "      <td>0.0</td>\n",
       "      <td>0.01561</td>\n",
       "    </tr>\n",
       "    <tr>\n",
       "      <th>21427</th>\n",
       "      <td>12425</td>\n",
       "      <td>Atenea</td>\n",
       "      <td>ATENEA-CONCEPC</td>\n",
       "      <td>2022</td>\n",
       "      <td>NaN</td>\n",
       "      <td>0718-0462</td>\n",
       "      <td>105</td>\n",
       "      <td>0.0</td>\n",
       "      <td>0.0</td>\n",
       "      <td>0.0</td>\n",
       "      <td>0.0</td>\n",
       "      <td>35</td>\n",
       "      <td>8.8</td>\n",
       "      <td>15.8</td>\n",
       "      <td>0.00034</td>\n",
       "      <td>0.281</td>\n",
       "      <td>NaN</td>\n",
       "      <td>NaN</td>\n",
       "      <td>NaN</td>\n",
       "      <td>NaN</td>\n",
       "      <td>NaN</td>\n",
       "      <td>0.0</td>\n",
       "      <td>0.07463</td>\n",
       "    </tr>\n",
       "    <tr>\n",
       "      <th>21428</th>\n",
       "      <td>12425</td>\n",
       "      <td>AusArt</td>\n",
       "      <td>AUSART</td>\n",
       "      <td>2022</td>\n",
       "      <td>NaN</td>\n",
       "      <td>2340-9134</td>\n",
       "      <td>13</td>\n",
       "      <td>0.0</td>\n",
       "      <td>0.0</td>\n",
       "      <td>0.0</td>\n",
       "      <td>0.0</td>\n",
       "      <td>32</td>\n",
       "      <td>0.0</td>\n",
       "      <td>11.8</td>\n",
       "      <td>0.00002</td>\n",
       "      <td>0.017</td>\n",
       "      <td>NaN</td>\n",
       "      <td>NaN</td>\n",
       "      <td>NaN</td>\n",
       "      <td>NaN</td>\n",
       "      <td>NaN</td>\n",
       "      <td>0.0</td>\n",
       "      <td>0.00594</td>\n",
       "    </tr>\n",
       "  </tbody>\n",
       "</table>\n",
       "</div>"
      ],
      "text/plain": [
       "        rank journalTitle     abbrJournal  year  edition       issn  \\\n",
       "21420  12425       AGENDA          AGENDA  2022      NaN  0002-0796   \n",
       "21421  12425       Abakos          ABAKOS  2022      NaN  2316-9451   \n",
       "21422  12425       Adalya          ADALYA  2022      NaN  1301-2746   \n",
       "21423  12425       Anduli          ANDULI  2022      NaN  1696-0270   \n",
       "21424  12425       Anemia          ANEMIA  2022      NaN  2090-1267   \n",
       "21425  12425       Appeal          APPEAL  2022      NaN  1205-612X   \n",
       "21426  12425       Atenas          ATENAS  2022      NaN  1682-2749   \n",
       "21427  12425       Atenea  ATENEA-CONCEPC  2022      NaN  0718-0462   \n",
       "21428  12425       AusArt          AUSART  2022      NaN  2340-9134   \n",
       "\n",
       "       totalCites  journalImpactFactor  impactFactorWithoutJournalSelfCites  \\\n",
       "21420         159                  0.0                                  0.0   \n",
       "21421           7                  0.0                                  0.0   \n",
       "21422          75                  0.0                                  0.0   \n",
       "21423          35                  0.0                                  0.0   \n",
       "21424         502                  0.0                                  0.0   \n",
       "21425          56                  0.0                                  0.0   \n",
       "21426          60                  0.0                                  0.0   \n",
       "21427         105                  0.0                                  0.0   \n",
       "21428          13                  0.0                                  0.0   \n",
       "\n",
       "       fiveYearImpactFactor  immediacyIndex  citableItems  citedHalfLife  \\\n",
       "21420                   0.0             0.0             0           17.8   \n",
       "21421                   0.0             0.0            18            0.0   \n",
       "21422                   0.0             0.0            19            0.0   \n",
       "21423                   0.0             0.0            15            0.0   \n",
       "21424                   0.0             0.0            14            7.3   \n",
       "21425                   0.0             0.0             6            0.0   \n",
       "21426                   0.0             0.0             0            0.0   \n",
       "21427                   0.0             0.0            35            8.8   \n",
       "21428                   0.0             0.0            32            0.0   \n",
       "\n",
       "       citingHalfLife  eigenFactorScore  articleInfluenceScore  citesCurrent  \\\n",
       "21420             0.0           0.00005                  0.114           NaN   \n",
       "21421            10.7           0.00003                  0.068           NaN   \n",
       "21422            16.2           0.00027                  0.306           NaN   \n",
       "21423            14.6           0.00007                  0.150           NaN   \n",
       "21424             7.7           0.00030                  0.550           NaN   \n",
       "21425             4.8           0.00019                  0.550           NaN   \n",
       "21426             0.0           0.00007                  0.034           NaN   \n",
       "21427            15.8           0.00034                  0.281           NaN   \n",
       "21428            11.8           0.00002                  0.017           NaN   \n",
       "\n",
       "       articlesCurrent  selfCites  impactFactorSelfCites  originalResearch  \\\n",
       "21420              NaN        NaN                    NaN               NaN   \n",
       "21421              NaN        NaN                    NaN               NaN   \n",
       "21422              NaN        NaN                    NaN               NaN   \n",
       "21423              NaN        NaN                    NaN               NaN   \n",
       "21424              NaN        NaN                    NaN               NaN   \n",
       "21425              NaN        NaN                    NaN               NaN   \n",
       "21426              NaN        NaN                    NaN               NaN   \n",
       "21427              NaN        NaN                    NaN               NaN   \n",
       "21428              NaN        NaN                    NaN               NaN   \n",
       "\n",
       "       jifPercentile  normEigenFactor  \n",
       "21420            0.0          0.01206  \n",
       "21421            0.0          0.00733  \n",
       "21422            0.0          0.05846  \n",
       "21423            0.0          0.01555  \n",
       "21424            0.0          0.06589  \n",
       "21425            0.0          0.04134  \n",
       "21426            0.0          0.01561  \n",
       "21427            0.0          0.07463  \n",
       "21428            0.0          0.00594  "
      ]
     },
     "execution_count": 10,
     "metadata": {},
     "output_type": "execute_result"
    }
   ],
   "source": [
    "jcr[-10:-1]"
   ]
  },
  {
   "cell_type": "code",
   "execution_count": 11,
   "id": "df9e020e-4177-4b93-bccb-a23922bfa56a",
   "metadata": {},
   "outputs": [],
   "source": [
    "jt2if_all={}\n",
    "for i in range(len(jcr)):\n",
    "    if jt2if_all.get(jcr.iloc[i,1].lower()):\n",
    "        if jt2if_all.get(jcr.iloc[i,1].lower())==0.0:\n",
    "            jt2if_all[jcr.iloc[i,1].lower()]=jcr.iloc[i,7]\n",
    "    else:\n",
    "        jt2if_all[jcr.iloc[i,1].lower()]=jcr.iloc[i,7]\n",
    "jt2if_all['aging']=jt2if_all.get('aging-us')"
   ]
  },
  {
   "cell_type": "code",
   "execution_count": 12,
   "id": "cb798f4a-acb4-4484-8076-40c17cb691e4",
   "metadata": {},
   "outputs": [],
   "source": [
    "jt2if_brief={}\n",
    "for i in range(len(jcr)):\n",
    "    if jt2if_brief.get(jcr.iloc[i,2].lower()):\n",
    "        if jt2if_brief.get(jcr.iloc[i,2].lower())==0.0:\n",
    "            jt2if_brief[jcr.iloc[i,2].lower()]=jcr.iloc[i,7]\n",
    "    else:\n",
    "        jt2if_brief[jcr.iloc[i,2].lower()]=jcr.iloc[i,7]\n",
    "jt2if_brief['aging']=jt2if_brief.get('aging-us')"
   ]
  },
  {
   "cell_type": "code",
   "execution_count": 13,
   "id": "521ea96e-5f92-423b-b508-fb00115972e2",
   "metadata": {},
   "outputs": [
    {
     "data": {
      "text/plain": [
       "[('ca-cancer j clin', 286.13), ('lancet', 202.731)]"
      ]
     },
     "execution_count": 13,
     "metadata": {},
     "output_type": "execute_result"
    }
   ],
   "source": [
    "list(jt2if_brief.items())[:2]"
   ]
  },
  {
   "cell_type": "code",
   "execution_count": 14,
   "id": "9df7e3d9-bcaa-4c59-b84b-7b678b348fe8",
   "metadata": {},
   "outputs": [
    {
     "data": {
      "text/plain": [
       "21429"
      ]
     },
     "execution_count": 14,
     "metadata": {},
     "output_type": "execute_result"
    }
   ],
   "source": [
    "len(jt2if_brief)"
   ]
  },
  {
   "cell_type": "code",
   "execution_count": null,
   "id": "7a6eb80e-760f-471d-9ac8-e290959b56b1",
   "metadata": {},
   "outputs": [],
   "source": []
  },
  {
   "cell_type": "code",
   "execution_count": 15,
   "id": "397429a2-d5e3-49fd-a9d9-d2f0879327ed",
   "metadata": {},
   "outputs": [],
   "source": [
    "jt2if5_all={}\n",
    "for i in range(len(jcr)):\n",
    "    if jt2if5_all.get(jcr.iloc[i,1].lower()):\n",
    "        if jt2if5_all.get(jcr.iloc[i,1].lower())==0.0:\n",
    "            jt2if5_all[jcr.iloc[i,1].lower()]=jcr.iloc[i,7]\n",
    "    else:\n",
    "        jt2if5_all[jcr.iloc[i,1].lower()]=jcr.iloc[i,9]\n",
    "jt2if5_all['aging']=jt2if5_all.get('aging-us')"
   ]
  },
  {
   "cell_type": "code",
   "execution_count": 16,
   "id": "b48c477f-f879-4470-a638-1f94924f7f2e",
   "metadata": {},
   "outputs": [],
   "source": [
    "jt2if5_brief={}\n",
    "for i in range(len(jcr)):\n",
    "    \n",
    "    if jt2if5_brief.get(jcr.iloc[i,2].lower()):\n",
    "        if jt2if5_brief.get(jcr.iloc[i,2].lower())==0.0:\n",
    "            jt2if5_brief[jcr.iloc[i,2].lower()]=jcr.iloc[i,7]\n",
    "    else:\n",
    "        jt2if5_brief[jcr.iloc[i,2].lower()]=jcr.iloc[i,9]\n",
    "jt2if5_brief['aging']=jt2if5_brief.get('aging-us')"
   ]
  },
  {
   "cell_type": "code",
   "execution_count": 17,
   "id": "6bf9caa9-6918-4acf-9c59-c02d519bf8c5",
   "metadata": {},
   "outputs": [
    {
     "data": {
      "text/plain": [
       "[('ca-cancer j clin', 334.259), ('lancet', 130.838)]"
      ]
     },
     "execution_count": 17,
     "metadata": {},
     "output_type": "execute_result"
    }
   ],
   "source": [
    "list(jt2if5_brief.items())[:2]"
   ]
  },
  {
   "cell_type": "code",
   "execution_count": 18,
   "id": "f2a81d86-6077-4668-b51a-48a67bc5bb12",
   "metadata": {},
   "outputs": [],
   "source": [
    "import pymongo "
   ]
  },
  {
   "cell_type": "code",
   "execution_count": 19,
   "id": "3f75606d-c321-46b3-8284-a29cfb2dcf63",
   "metadata": {},
   "outputs": [],
   "source": [
    "from pymongo import MongoClient"
   ]
  },
  {
   "cell_type": "code",
   "execution_count": 20,
   "id": "07047826-1f1c-4c7b-b9e2-0d1f6aa9a72d",
   "metadata": {},
   "outputs": [],
   "source": [
    "client = MongoClient(username=\"hald\",password=\"XXX\")"
   ]
  },
  {
   "cell_type": "code",
   "execution_count": 21,
   "id": "48e349dd-fc13-43fa-bb87-77e437e8df7e",
   "metadata": {},
   "outputs": [],
   "source": [
    "db = client.hald"
   ]
  },
  {
   "cell_type": "code",
   "execution_count": 22,
   "id": "f262b9c5-a35e-42f7-bdae-8438c8d5a482",
   "metadata": {},
   "outputs": [],
   "source": [
    "collections_pubtator_info = db.pubtator_info"
   ]
  },
  {
   "cell_type": "code",
   "execution_count": 23,
   "id": "d189a7bb-e8fa-4c3b-ba95-f38c25e8ac5e",
   "metadata": {},
   "outputs": [],
   "source": [
    "pubtator_info=list(collections_pubtator_info.find())"
   ]
  },
  {
   "cell_type": "code",
   "execution_count": 24,
   "id": "e7ee9191-8d91-4e82-8700-d36398ad4e42",
   "metadata": {},
   "outputs": [
    {
     "data": {
      "text/plain": [
       "173787"
      ]
     },
     "execution_count": 24,
     "metadata": {},
     "output_type": "execute_result"
    }
   ],
   "source": [
    "len(pubtator_info)"
   ]
  },
  {
   "cell_type": "code",
   "execution_count": 25,
   "id": "1d3b6831-dbb4-415f-9437-335613c7570b",
   "metadata": {},
   "outputs": [
    {
     "data": {
      "text/plain": [
       "{'_id': ObjectId('6393478a5303aaecac2745e7'),\n",
       " 'PMID': '35794516',\n",
       " 'OWN': 'NLM',\n",
       " 'STAT': 'MEDLINE',\n",
       " 'DCOM': '20220708',\n",
       " 'LR': '20220708',\n",
       " 'IS': '1471-227X (Electronic) 1471-227X (Linking)',\n",
       " 'VI': '22',\n",
       " 'IP': '1',\n",
       " 'DP': '2022 Jul 6',\n",
       " 'TI': 'Long-term prognosis and clinical course of choking-induced cardiac arrest in patients without the return of spontaneous circulation at hospital arrival: a population-based community study from the Shizuoka Kokuho Database.',\n",
       " 'PG': '120',\n",
       " 'LID': '10.1186/s12873-022-00676-8 [doi]',\n",
       " 'AB': 'BACKGROUND: The risk of choking increases with aging, and the number of cases of choking-induced cardiac arrest is increasing. However, few studies have examined the prognosis of choking-induced cardiac arrest. The aim of this study was to reveal the rates of survival and dependence on devices in the long term after choking-induced cardiac arrest. METHODS: We analyzed data from the Shizuoka Kokuho Database, which consists of claims data of approximately 2.2 million people, from April 2012 to September 2018. We selected patients with choking-induced cardiac arrest who received cardiopulmonary resuscitation in the hospital. Patients were excluded if they were less than 20 years old, had an upper airway tumor, received ventilation assistance, or received enteral nutrition in the month prior to cardiac arrest. The primary outcome was death, and the secondary outcomes were the rates of survival at 3-months and independence on devices. Descriptive statistics are presented and compared among age groups (20-64 years, 65-74 years, 75-84 years, 85 years and older), and survival time analysis (Kaplan-Meier method) was performed. RESULTS: In total, 268 patients were analyzed, including 26 patients in the 20-64 age group, 33 patients in the 65-74 age group, 70 patients in the 75-84 age group, and 139 patients in the >=85 age group. The overall 3-month survival rate was 5.6% (15/268). The 3-month survival rates were 3.8% (1/26) in the 20-64 age group, 15.2% (5/33) in the 65-74 age group, 8.6% (6/70) in the 75-84 age group, and 2.2% (3/139) in the >=85 age group. The overall 12-month survival rate was 2.6% (7/268). Of the 7 patients who survived for 12 months, 3 received ventilation management and 5 received tube or intravenous feedings at 3 months. These survivors were still receiving ventilation assistance and tube feedings in the hospital and had not been discharged at 12 months. CONCLUSIONS: The prognosis of choking-induced cardiac arrest was extremely poor when patients were not resuscitated before hospital arrival. Those who survived were mostly dependent on assistive devices. Additionally, none of the survivors dependent on assistive devices had discontinued the use of the devices at the long-term follow-up.',\n",
       " 'CI': ['(c) 2022. The Author(s).'],\n",
       " 'FAU': ['Miyoshi, Takahiro',\n",
       "  'Endo, Hideki',\n",
       "  'Yamamoto, Hiroyuki',\n",
       "  'Shimada, Koki',\n",
       "  'Kumamaru, Hiraku',\n",
       "  'Ichihara, Nao',\n",
       "  'Miyachi, Yoshiki',\n",
       "  'Miyata, Hiroaki'],\n",
       " 'AU': ['Miyoshi T',\n",
       "  'Endo H',\n",
       "  'Yamamoto H',\n",
       "  'Shimada K',\n",
       "  'Kumamaru H',\n",
       "  'Ichihara N',\n",
       "  'Miyachi Y',\n",
       "  'Miyata H'],\n",
       " 'AD': ['Shizuoka Graduate University of Public Health, 4-27-2 Kita Ando Aoi-ku, Shizuoka City, 420-0881, Japan.',\n",
       "  'Department of Health Policy and Management, School of Medicine, Keio University, Tokyo, Japan.',\n",
       "  'Department of Health Policy and Management, School of Medicine, Keio University, Tokyo, Japan.',\n",
       "  'Shizuoka Graduate University of Public Health, 4-27-2 Kita Ando Aoi-ku, Shizuoka City, 420-0881, Japan. yama-h@umin.ac.jp.',\n",
       "  'Department of Health Policy and Management, School of Medicine, Keio University, Tokyo, Japan. yama-h@umin.ac.jp.',\n",
       "  'Department of Health Policy and Management, School of Medicine, Keio University, Tokyo, Japan.',\n",
       "  'Shizuoka Graduate University of Public Health, 4-27-2 Kita Ando Aoi-ku, Shizuoka City, 420-0881, Japan.',\n",
       "  'Department of Healthcare Quality Assessment, The University of Tokyo Graduate School of Medicine, Tokyo, Japan.',\n",
       "  'Shizuoka Graduate University of Public Health, 4-27-2 Kita Ando Aoi-ku, Shizuoka City, 420-0881, Japan.',\n",
       "  'Department of Healthcare Quality Assessment, The University of Tokyo Graduate School of Medicine, Tokyo, Japan.',\n",
       "  'Shizuoka Graduate University of Public Health, 4-27-2 Kita Ando Aoi-ku, Shizuoka City, 420-0881, Japan.',\n",
       "  'Shizuoka Graduate University of Public Health, 4-27-2 Kita Ando Aoi-ku, Shizuoka City, 420-0881, Japan.',\n",
       "  'Department of Health Policy and Management, School of Medicine, Keio University, Tokyo, Japan.',\n",
       "  'Department of Healthcare Quality Assessment, The University of Tokyo Graduate School of Medicine, Tokyo, Japan.'],\n",
       " 'LA': ['eng'],\n",
       " 'PT': ['Journal Article'],\n",
       " 'DEP': '20220706',\n",
       " 'PL': 'England',\n",
       " 'TA': 'BMC Emerg Med',\n",
       " 'JT': 'BMC emergency medicine',\n",
       " 'JID': '100968543',\n",
       " 'SB': 'IM',\n",
       " 'MH': ['Adult',\n",
       "  '*Airway Obstruction/epidemiology/etiology',\n",
       "  'Heart Arrest, Induced',\n",
       "  'Hospitals',\n",
       "  'Humans',\n",
       "  'Middle Aged',\n",
       "  'Prognosis',\n",
       "  '*Return of Spontaneous Circulation',\n",
       "  'Young Adult'],\n",
       " 'OTO': ['NOTNLM'],\n",
       " 'OT': ['Cardiac arrest',\n",
       "  'Choking',\n",
       "  'Clinical course',\n",
       "  'Long-term prognosis',\n",
       "  'Resuscitation'],\n",
       " 'EDAT': '2022/07/07 06:00',\n",
       " 'MHDA': '2022/07/09 06:00',\n",
       " 'CRDT': ['2022/07/06 23:41'],\n",
       " 'PHST': ['2022/02/28 00:00 [received]',\n",
       "  '2022/06/16 00:00 [accepted]',\n",
       "  '2022/07/06 23:41 [entrez]',\n",
       "  '2022/07/07 06:00 [pubmed]',\n",
       "  '2022/07/09 06:00 [medline]'],\n",
       " 'AID': ['10.1186/s12873-022-00676-8 [doi]',\n",
       "  '10.1186/s12873-022-00676-8 [pii]'],\n",
       " 'PST': 'epublish',\n",
       " 'SO': 'BMC Emerg Med. 2022 Jul 6;22(1):120. doi: 10.1186/s12873-022-00676-8.',\n",
       " 'addtime': '20220724'}"
      ]
     },
     "execution_count": 25,
     "metadata": {},
     "output_type": "execute_result"
    }
   ],
   "source": [
    "pubtator_info[10]"
   ]
  },
  {
   "cell_type": "code",
   "execution_count": 26,
   "id": "593a74a6-7273-4f6d-9981-c51aeb3aec95",
   "metadata": {},
   "outputs": [],
   "source": [
    "pubtator_info_dict={}\n",
    "for i in pubtator_info:\n",
    "    pubtator_info_dict[i.get('PMID')]=i"
   ]
  },
  {
   "cell_type": "code",
   "execution_count": 27,
   "id": "77d99d3f-f7b5-4972-ac2a-5325ffce7b82",
   "metadata": {},
   "outputs": [],
   "source": [
    "collections_Relation_final=db.Relation_final"
   ]
  },
  {
   "cell_type": "code",
   "execution_count": 28,
   "id": "b3ee848d-c26c-4342-b3e0-75313b51dad6",
   "metadata": {},
   "outputs": [],
   "source": [
    "triplelist=list(collections_Relation_final.find())"
   ]
  },
  {
   "cell_type": "code",
   "execution_count": 29,
   "id": "16334f71-5147-498b-aac1-ef4c4666780f",
   "metadata": {},
   "outputs": [
    {
     "data": {
      "text/plain": [
       "{'_id': ObjectId('641143e7ee32117b2d89852f'),\n",
       " 'PMID': '35926182',\n",
       " 'entity1': 'SF3B1',\n",
       " 'entity2': 'EIF2AK1',\n",
       " 'sentence': 'Here, using single-cell technologies and functional validation studies of primary SF3B1-mutant MDS-RS samples, we show that SF3B1 mutations lead to the activation of the EIF2AK1 pathway in response to heme deficiency and that targeting this pathway rescues aberrant erythroid differentiation and enables the red blood cell maturation of MDS-RS erythroblasts.',\n",
       " 'AB': 'SF3B1 mutations, which occur in 20% of patients with myelodysplastic syndromes (MDS), are the hallmarks of a specific MDS subtype, MDS with ringed sideroblasts (MDS-RS), which is characterized by the accumulation of erythroid precursors in the bone marrow and primarily affects the elderly population. Here, using single-cell technologies and functional validation studies of primary SF3B1-mutant MDS-RS samples, we show that SF3B1 mutations lead to the activation of the EIF2AK1 pathway in response to heme deficiency and that targeting this pathway rescues aberrant erythroid differentiation and enables the red blood cell maturation of MDS-RS erythroblasts. These data support the development of EIF2AK1 inhibitors to overcome transfusion dependency in patients with SF3B1-mutant MDS-RS with impaired red blood cell production.',\n",
       " 'target1': 'SF3B1',\n",
       " 'target1_type': 'Gene',\n",
       " 'target2': 'EIF2AK1',\n",
       " 'target2_type': 'Gene',\n",
       " 'networkx': ['SF3B1', 'lead', 'EIF2AK1'],\n",
       " 'openie_final': [],\n",
       " 'allennlp_final': [],\n",
       " 'bidirection': False,\n",
       " 'addtime': '2022_12_09'}"
      ]
     },
     "execution_count": 29,
     "metadata": {},
     "output_type": "execute_result"
    }
   ],
   "source": [
    "triplelist[0]"
   ]
  },
  {
   "cell_type": "code",
   "execution_count": 30,
   "id": "c45711d7-0cb1-47af-80d4-55fd702c44c1",
   "metadata": {},
   "outputs": [
    {
     "data": {
      "text/plain": [
       "124608"
      ]
     },
     "execution_count": 30,
     "metadata": {},
     "output_type": "execute_result"
    }
   ],
   "source": [
    "# 124608\n",
    "len(triplelist)"
   ]
  },
  {
   "cell_type": "code",
   "execution_count": 31,
   "id": "f1f96ab7-9f8a-450e-a223-30435566131b",
   "metadata": {},
   "outputs": [],
   "source": [
    "be=['am','is','are','was','were','been','have been','has been']\n",
    "bedict={}\n",
    "for i in be:\n",
    "    bedict[i]='be'\n"
   ]
  },
  {
   "cell_type": "code",
   "execution_count": null,
   "id": "917f45a3-9d98-4305-a357-88b6812f8594",
   "metadata": {},
   "outputs": [],
   "source": []
  },
  {
   "cell_type": "code",
   "execution_count": null,
   "id": "6f193c96-9bdb-49b2-aed8-3cc6ca7b7aa4",
   "metadata": {},
   "outputs": [],
   "source": []
  },
  {
   "cell_type": "code",
   "execution_count": null,
   "id": "d8bd6faf-761d-4c9a-bf74-6bcf4bb40a93",
   "metadata": {},
   "outputs": [],
   "source": []
  },
  {
   "cell_type": "code",
   "execution_count": 32,
   "id": "c96e6a74-e285-4abb-9835-6cf00d352530",
   "metadata": {},
   "outputs": [],
   "source": [
    "'''将entity_one_transformed和entity_two_transformed的列表外套脱掉，筛掉同篇文献同一个实体对，筛掉两个单词为同一实体'''\n",
    "import copy\n",
    "triplelist_takeoff=[]\n",
    "transformed_triples=set()\n",
    "box=[]\n",
    "box2=[]\n",
    "acount=0\n",
    "for i in triplelist:\n",
    "    maxlength=[]\n",
    "    allennlp_list=[]\n",
    "    if i.get('openie_final'):\n",
    "        maxlength=i.get('openie_final')[0]\n",
    "        for j in i.get('openie_final'):\n",
    "            if len(j[1])>len(maxlength[1]):\n",
    "                maxlength=j\n",
    "        mid_list=maxlength[1].split(' ')\n",
    "        for p,q in enumerate(mid_list):\n",
    "            if bedict.get(q):\n",
    "                mid_list[p]='be'\n",
    "        maxlength[1]=' '.join(mid_list)\n",
    "        for k in maxlength[1]:\n",
    "            if k in maxlength[0].split(' ') or k in maxlength[2].split(' '):\n",
    "                break\n",
    "        else:\n",
    "            mid=tuple([maxlength[0],maxlength[1].lower(),maxlength[2],i.get('PMID')])\n",
    "            if mid not in transformed_triples:\n",
    "                copydict={'triple':maxlength,'PMID':i.get('PMID'),'sentence':i.get('sentence'),\n",
    "                          'AB':i.get('AB'),'entity_one':i.get('target1'),'entity_one_type':i.get('target1_type'),\n",
    "                          'entity_two':i.get('target2'),'entity_two_type':i.get('target2_type'),\n",
    "                          'entity_one_transformed':i.get('entity1'),'entity_two_transformed':i.get('entity2'),\n",
    "                            'transformed_triple':mid}\n",
    "                triplelist_takeoff.append(copydict)\n",
    "                transformed_triples.add(mid)\n",
    "            if maxlength[1]=='associated' or maxlength[1]=='associate' :\n",
    "                mid=tuple([maxlength[2],maxlength[1].lower(),maxlength[0],i.get('PMID')])\n",
    "                if mid not in transformed_triples:\n",
    "                    copydict={'triple':maxlength,'PMID':i.get('PMID'),'sentence':i.get('sentence'),\n",
    "                              'AB':i.get('AB'),'entity_one':i.get('target2'),'entity_one_type':i.get('target2_type'),\n",
    "                              'entity_two':i.get('target1'),'entity_two_type':i.get('target1_type'),\n",
    "                              'entity_one_transformed':i.get('entity2'),'entity_two_transformed':i.get('entity1'),\n",
    "                                'transformed_triple':mid}\n",
    "                    triplelist_takeoff.append(copydict)\n",
    "                    transformed_triples.add(mid)\n",
    "        for j in i.get('openie_final'):\n",
    "            if j==maxlength:\n",
    "                continue\n",
    "            judge=True\n",
    "            for k in j[1].split(' '):\n",
    "                if k not in maxlength[1].split(' '):\n",
    "                    judge=False\n",
    "                    break\n",
    "            if not judge:\n",
    "                mid_list=j[1].split(' ')\n",
    "                for p,q in enumerate(mid_list):\n",
    "                    if bedict.get(q):\n",
    "                        mid_list[p]='be'\n",
    "                j[1]=' '.join(mid_list)\n",
    "                mid=tuple([j[0],j[1].lower(),j[2],i.get('PMID')])\n",
    "                for k in j[1]:\n",
    "                    if k in j[0].split(\" \") or k in j[1].split(\" \"):\n",
    "                        break\n",
    "                else:\n",
    "                    if mid not in transformed_triples:\n",
    "                        copydict={'triple':j,'PMID':i.get('PMID'),'sentence':i.get('sentence'),\n",
    "                                  'AB':i.get('AB'),'entity_one':i.get('target1'),'entity_one_type':i.get('target1_type'),\n",
    "                                  'entity_two':i.get('target2'),'entity_two_type':i.get('target2_type'),\n",
    "                                  'entity_one_transformed':i.get('entity1'),'entity_two_transformed':i.get('entity2'),\n",
    "                                    'transformed_triple':mid}\n",
    "                        triplelist_takeoff.append(copydict)\n",
    "                        transformed_triples.add(mid)\n",
    "                    if j[1]=='associated' or j[1]=='associate' :\n",
    "                        mid=tuple([j[2],j[1].lower(),j[0],i.get('PMID')])\n",
    "                        if mid not in transformed_triples:\n",
    "                            copydict={'triple':j,'PMID':i.get('PMID'),'sentence':i.get('sentence'),\n",
    "                                      'AB':i.get('AB'),'entity_one':i.get('target2'),'entity_one_type':i.get('target2_type'),\n",
    "                                      'entity_two':i.get('target1'),'entity_two_type':i.get('target1_type'),\n",
    "                                      'entity_one_transformed':i.get('entity2'),'entity_two_transformed':i.get('entity1'),\n",
    "                                        'transformed_triple':mid}\n",
    "                            triplelist_takeoff.append(copydict)\n",
    "                            transformed_triples.add(mid)\n",
    "    if i.get('allennlp_final'):\n",
    "        for j in i.get('allennlp_final'):\n",
    "            if len(maxlength)>0 and j[1] in maxlength[1].split(' '):\n",
    "                pass\n",
    "            else:\n",
    "                mid=tuple([j[0],j[1].lower(),j[2],i.get('PMID')])\n",
    "                if j[1] in j[0].split(' ') or j[1] in j[2].split(' '):\n",
    "                    continue\n",
    "                if mid not in transformed_triples:\n",
    "                    allennlp_list.append((j[0],j[2]))\n",
    "                    copydict={'triple':j,'PMID':i.get('PMID'),'sentence':i.get('sentence'),\n",
    "                              'AB':i.get('AB'),'entity_one':i.get('target1'),'entity_one_type':i.get('target1_type'),\n",
    "                              'entity_two':i.get('target2'),'entity_two_type':i.get('target2_type'),\n",
    "                              'entity_one_transformed':i.get('entity1'),'entity_two_transformed':i.get('entity2'),\n",
    "                                'transformed_triple':mid}\n",
    "                    triplelist_takeoff.append(copydict)\n",
    "                    transformed_triples.add(mid)\n",
    "                else:\n",
    "                    box2.append(i)\n",
    "                if j[1]=='associated' or j[1]=='associate' :\n",
    "                    mid=tuple([j[2],j[1].lower(),j[0],i.get('PMID')])\n",
    "                    if mid not in transformed_triples:\n",
    "                        allennlp_list.append([j[2],j[0]])\n",
    "                        copydict={'triple':j,'PMID':i.get('PMID'),'sentence':i.get('sentence'),\n",
    "                                  'AB':i.get('AB'),'entity_one':i.get('target2'),'entity_one_type':i.get('target2_type'),\n",
    "                                  'entity_two':i.get('target1'),'entity_two_type':i.get('target1_type'),\n",
    "                                  'entity_one_transformed':i.get('entity2'),'entity_two_transformed':i.get('entity1'),\n",
    "                                    'transformed_triple':mid}\n",
    "                        triplelist_takeoff.append(copydict)\n",
    "                        transformed_triples.add(mid)\n",
    "                    else:\n",
    "                        box2.append(i)\n",
    "    if i.get('networkx'):\n",
    "        if len(maxlength)>0 and i.get('networkx')[1] in maxlength[1].split(' '):\n",
    "            box.append(i)\n",
    "            pass\n",
    "        else:\n",
    "            # for j in allennlp_list:\n",
    "            #     if i.get('networkx')[0]==j[1] and i.get('networkx')[1]==j[0]:\n",
    "            #         print(i.get('networkx'))\n",
    "            #         print(i)\n",
    "            if i.get('networkx')[1] in i.get('networkx')[0].split(' ') or i.get('networkx')[1] in i.get('networkx')[2].split(' '):\n",
    "                acount+=1\n",
    "                continue\n",
    "            mid=tuple([i.get('networkx')[0],i.get('networkx')[1].lower(),i.get('networkx')[2],i.get('PMID')])\n",
    "            if mid not in transformed_triples:\n",
    "                copydict={'triple':i.get('networkx'),'PMID':i.get('PMID'),'sentence':i.get('sentence'),\n",
    "                          'AB':i.get('AB'),'entity_one':i.get('target1'),'entity_one_type':i.get('target1_type'),\n",
    "                          'entity_two':i.get('target2'),'entity_two_type':i.get('target2_type'),\n",
    "                          'entity_one_transformed':i.get('entity1'),'entity_two_transformed':i.get('entity2'),\n",
    "                            'transformed_triple':mid}\n",
    "                triplelist_takeoff.append(copydict)\n",
    "                transformed_triples.add(mid)\n",
    "            if i.get('networkx')[1]=='associated' or i.get('networkx')[1]=='associate' :\n",
    "                mid=tuple([i.get('networkx')[2],i.get('networkx')[1].lower(),i.get('networkx')[0],i.get('PMID')])\n",
    "                if mid not in transformed_triples:\n",
    "                    copydict={'triple':i.get('networkx'),'PMID':i.get('PMID'),'sentence':i.get('sentence'),\n",
    "                              'AB':i.get('AB'),'entity_one':i.get('target2'),'entity_one_type':i.get('target2_type'),\n",
    "                              'entity_two':i.get('target1'),'entity_two_type':i.get('target1_type'),\n",
    "                              'entity_one_transformed':i.get('entity2'),'entity_two_transformed':i.get('entity1'),\n",
    "                                'transformed_triple':mid}\n",
    "                    triplelist_takeoff.append(copydict)\n",
    "                    transformed_triples.add(mid)\n",
    "\n"
   ]
  },
  {
   "cell_type": "code",
   "execution_count": null,
   "id": "899e0ded-77bf-4930-b526-b29420c9cdd9",
   "metadata": {},
   "outputs": [],
   "source": []
  },
  {
   "cell_type": "code",
   "execution_count": 33,
   "id": "44ebf476-e6eb-4809-a576-4f76ad3c712f",
   "metadata": {},
   "outputs": [
    {
     "data": {
      "text/plain": [
       "1386"
      ]
     },
     "execution_count": 33,
     "metadata": {},
     "output_type": "execute_result"
    }
   ],
   "source": [
    "len(box)"
   ]
  },
  {
   "cell_type": "code",
   "execution_count": 34,
   "id": "1d812bf1-72cb-467b-8945-0a14199cdf73",
   "metadata": {},
   "outputs": [
    {
     "data": {
      "text/plain": [
       "1843"
      ]
     },
     "execution_count": 34,
     "metadata": {},
     "output_type": "execute_result"
    }
   ],
   "source": [
    "len(box2)"
   ]
  },
  {
   "cell_type": "code",
   "execution_count": 35,
   "id": "39673996-7b1f-4408-b01b-1d1268207ebf",
   "metadata": {},
   "outputs": [
    {
     "data": {
      "text/plain": [
       "('rs11189312', 'related', 'sarcopenia', '36573383')"
      ]
     },
     "execution_count": 35,
     "metadata": {},
     "output_type": "execute_result"
    }
   ],
   "source": [
    "mid"
   ]
  },
  {
   "cell_type": "code",
   "execution_count": 36,
   "id": "4f09012d-6e18-4bf0-9055-a2474722bfcb",
   "metadata": {},
   "outputs": [
    {
     "name": "stdout",
     "output_type": "stream",
     "text": [
      "145434\n",
      "145434\n"
     ]
    }
   ],
   "source": [
    "print(len(triplelist_takeoff))\n",
    "print(len(transformed_triples))"
   ]
  },
  {
   "cell_type": "code",
   "execution_count": 37,
   "id": "936106d8-a352-408d-9f78-b42efa2ede6a",
   "metadata": {},
   "outputs": [
    {
     "data": {
      "text/plain": [
       "{'triple': ['SF3B1', 'lead', 'EIF2AK1'],\n",
       " 'PMID': '35926182',\n",
       " 'sentence': 'Here, using single-cell technologies and functional validation studies of primary SF3B1-mutant MDS-RS samples, we show that SF3B1 mutations lead to the activation of the EIF2AK1 pathway in response to heme deficiency and that targeting this pathway rescues aberrant erythroid differentiation and enables the red blood cell maturation of MDS-RS erythroblasts.',\n",
       " 'AB': 'SF3B1 mutations, which occur in 20% of patients with myelodysplastic syndromes (MDS), are the hallmarks of a specific MDS subtype, MDS with ringed sideroblasts (MDS-RS), which is characterized by the accumulation of erythroid precursors in the bone marrow and primarily affects the elderly population. Here, using single-cell technologies and functional validation studies of primary SF3B1-mutant MDS-RS samples, we show that SF3B1 mutations lead to the activation of the EIF2AK1 pathway in response to heme deficiency and that targeting this pathway rescues aberrant erythroid differentiation and enables the red blood cell maturation of MDS-RS erythroblasts. These data support the development of EIF2AK1 inhibitors to overcome transfusion dependency in patients with SF3B1-mutant MDS-RS with impaired red blood cell production.',\n",
       " 'entity_one': 'SF3B1',\n",
       " 'entity_one_type': 'Gene',\n",
       " 'entity_two': 'EIF2AK1',\n",
       " 'entity_two_type': 'Gene',\n",
       " 'entity_one_transformed': 'SF3B1',\n",
       " 'entity_two_transformed': 'EIF2AK1',\n",
       " 'transformed_triple': ('SF3B1', 'lead', 'EIF2AK1', '35926182')}"
      ]
     },
     "execution_count": 37,
     "metadata": {},
     "output_type": "execute_result"
    }
   ],
   "source": [
    "triplelist_takeoff[0]"
   ]
  },
  {
   "cell_type": "code",
   "execution_count": 38,
   "id": "9f4df73f-31a9-47af-9ffc-65831be75d2f",
   "metadata": {},
   "outputs": [],
   "source": [
    "triplelist_takeoff_dict={}\n",
    "for i in triplelist_takeoff:\n",
    "    triplelist_takeoff_dict[(i.get('entity_one_transformed'),i.get('triple')[1],i.get('entity_two_transformed'),i.get('PMID'))]=triplelist_takeoff_dict.get((i.get('entity_one_transformed'),i.get('entity_two_transformed'),i.get('PMID')),[])+[i]"
   ]
  },
  {
   "cell_type": "code",
   "execution_count": 39,
   "id": "e574651b-2a77-4df0-b27c-424e624e2b53",
   "metadata": {},
   "outputs": [
    {
     "data": {
      "text/plain": [
       "134091"
      ]
     },
     "execution_count": 39,
     "metadata": {},
     "output_type": "execute_result"
    }
   ],
   "source": [
    "len(triplelist_takeoff_dict)"
   ]
  },
  {
   "cell_type": "code",
   "execution_count": 40,
   "id": "e363bb86-06db-4cbe-b6df-79c686f19fb9",
   "metadata": {},
   "outputs": [],
   "source": [
    "triplelist_takeoffs=[]\n",
    "a=[]\n",
    "b=[]\n",
    "c=[]\n",
    "d=[]\n",
    "for i,j in triplelist_takeoff_dict.items():\n",
    "    if len(j)==1:\n",
    "        triplelist_takeoffs.append(j[0])\n",
    "    else:\n",
    "        deprecated_set=set()\n",
    "        for k in j:\n",
    "            if k.get('entity_one').lower()==k.get('entity_one_transformed').lower() and k.get('entity_two').lower()==k.get('entity_two_transformed').lower():\n",
    "                triplelist_takeoffs.append(k)\n",
    "                a.append(k)\n",
    "                break\n",
    "        else:\n",
    "            for k in j:\n",
    "                if k.get('entity_one').lower()==k.get('entity_one_transformed').lower():\n",
    "                    triplelist_takeoffs.append(k)\n",
    "                    b.append(k)\n",
    "                    break\n",
    "            else:\n",
    "                for k in j:\n",
    "                    if k.get('entity_two').lower()==k.get('entity_two_transformed').lower():\n",
    "                        c.append(k)\n",
    "                        triplelist_takeoffs.append(k)\n",
    "                        break\n",
    "                else:\n",
    "                    d.append(k)\n",
    "                    triplelist_takeoffs.append(j[0])"
   ]
  },
  {
   "cell_type": "code",
   "execution_count": 41,
   "id": "e54b08cc-4a7c-4bab-9c83-803a4348897e",
   "metadata": {},
   "outputs": [
    {
     "name": "stdout",
     "output_type": "stream",
     "text": [
      "0\n",
      "0\n",
      "0\n",
      "0\n"
     ]
    }
   ],
   "source": [
    "names=locals()\n",
    "for i in ['a','b','c','d']:\n",
    "    print(len(names[i]))"
   ]
  },
  {
   "cell_type": "code",
   "execution_count": 42,
   "id": "77e2f824-0e75-416d-addc-c7ef53f3748a",
   "metadata": {},
   "outputs": [
    {
     "data": {
      "text/plain": [
       "134091"
      ]
     },
     "execution_count": 42,
     "metadata": {},
     "output_type": "execute_result"
    }
   ],
   "source": [
    "len(triplelist_takeoffs)"
   ]
  },
  {
   "cell_type": "code",
   "execution_count": 43,
   "id": "b3c28f7f-59a2-4041-8faa-b1798556b994",
   "metadata": {},
   "outputs": [
    {
     "data": {
      "text/plain": [
       "145434"
      ]
     },
     "execution_count": 43,
     "metadata": {},
     "output_type": "execute_result"
    }
   ],
   "source": [
    "# 114062\n",
    "len(triplelist_takeoff)"
   ]
  },
  {
   "cell_type": "code",
   "execution_count": 44,
   "id": "3735fdc4-db51-4848-96a6-0de1aaad61b6",
   "metadata": {},
   "outputs": [],
   "source": [
    "import re\n",
    "triplelist_takesoff=[]\n",
    "for i in triplelist_takeoffs:\n",
    "    if not re.search(r'\\`|\\~|\\!|\\@|\\#|\\$|\\%|\\^|\\&|\\*|\\(|\\)|\\_|\\+|\\=|\\{|\\[|\\}|\\]|\\;|\\:|\\'|\\\"|\\,|\\<|\\.|\\>|\\/|\\?',i.get('triple')[1]):\n",
    "        if not re.search(r'(\\s\\d+\\s)|(\\b\\d+\\b)',i.get('triple')[1]): \n",
    "            triplelist_takesoff.append(i)  \n",
    "        "
   ]
  },
  {
   "cell_type": "code",
   "execution_count": 45,
   "id": "fa37a20c-f220-4db8-b854-ab885648fe97",
   "metadata": {},
   "outputs": [],
   "source": [
    "triplelistnewcopy=copy.deepcopy(triplelist_takesoff)"
   ]
  },
  {
   "cell_type": "code",
   "execution_count": 46,
   "id": "bba48378-cd96-419c-b843-b4df9c3bcec1",
   "metadata": {},
   "outputs": [],
   "source": [
    "deprecated_relations=pd.read_csv('../classofrelations/deprecated.csv',header=None,names=['word'])"
   ]
  },
  {
   "cell_type": "code",
   "execution_count": 47,
   "id": "3a3ebdcb-27b3-46b0-a1dc-074ede14faac",
   "metadata": {},
   "outputs": [
    {
     "data": {
      "text/plain": [
       "209"
      ]
     },
     "execution_count": 47,
     "metadata": {},
     "output_type": "execute_result"
    }
   ],
   "source": [
    "len(deprecated_relations)"
   ]
  },
  {
   "cell_type": "code",
   "execution_count": 48,
   "id": "4555db78-2437-43c3-a486-150b10738fb7",
   "metadata": {},
   "outputs": [
    {
     "data": {
      "text/html": [
       "<div>\n",
       "<style scoped>\n",
       "    .dataframe tbody tr th:only-of-type {\n",
       "        vertical-align: middle;\n",
       "    }\n",
       "\n",
       "    .dataframe tbody tr th {\n",
       "        vertical-align: top;\n",
       "    }\n",
       "\n",
       "    .dataframe thead th {\n",
       "        text-align: right;\n",
       "    }\n",
       "</style>\n",
       "<table border=\"1\" class=\"dataframe\">\n",
       "  <thead>\n",
       "    <tr style=\"text-align: right;\">\n",
       "      <th></th>\n",
       "      <th>word</th>\n",
       "    </tr>\n",
       "  </thead>\n",
       "  <tbody>\n",
       "    <tr>\n",
       "      <th>0</th>\n",
       "      <td>% for</td>\n",
       "    </tr>\n",
       "    <tr>\n",
       "      <th>1</th>\n",
       "      <td>'s III be</td>\n",
       "    </tr>\n",
       "    <tr>\n",
       "      <th>2</th>\n",
       "      <td>)evaluate</td>\n",
       "    </tr>\n",
       "    <tr>\n",
       "      <th>3</th>\n",
       "      <td>#NAME?</td>\n",
       "    </tr>\n",
       "    <tr>\n",
       "      <th>4</th>\n",
       "      <td>#NAME?</td>\n",
       "    </tr>\n",
       "  </tbody>\n",
       "</table>\n",
       "</div>"
      ],
      "text/plain": [
       "        word\n",
       "0      % for\n",
       "1  's III be\n",
       "2  )evaluate\n",
       "3     #NAME?\n",
       "4     #NAME?"
      ]
     },
     "execution_count": 48,
     "metadata": {},
     "output_type": "execute_result"
    }
   ],
   "source": [
    "deprecated_relations.head()"
   ]
  },
  {
   "cell_type": "code",
   "execution_count": 49,
   "id": "278033e1-5ad3-4775-b621-6cadec7e84fc",
   "metadata": {},
   "outputs": [],
   "source": [
    "deprecated_relations_dict={}\n",
    "for i in deprecated_relations['word'].to_list():\n",
    "    deprecated_relations_dict[i.lower()]=True"
   ]
  },
  {
   "cell_type": "code",
   "execution_count": 50,
   "id": "210c6242-1ceb-425c-878b-a3b204205f54",
   "metadata": {},
   "outputs": [
    {
     "data": {
      "text/plain": [
       "True"
      ]
     },
     "execution_count": 50,
     "metadata": {},
     "output_type": "execute_result"
    }
   ],
   "source": [
    "deprecated_relations_dict.get('have')"
   ]
  },
  {
   "cell_type": "code",
   "execution_count": 51,
   "id": "3fc600f5-5222-4557-81e2-0d9d31eeb59a",
   "metadata": {},
   "outputs": [
    {
     "data": {
      "text/plain": [
       "('aforemention', True)"
      ]
     },
     "execution_count": 51,
     "metadata": {},
     "output_type": "execute_result"
    }
   ],
   "source": [
    "list(deprecated_relations_dict.items())[20]"
   ]
  },
  {
   "cell_type": "code",
   "execution_count": 52,
   "id": "3e44f08d-3221-4d5f-b03c-d1455f4333f9",
   "metadata": {},
   "outputs": [
    {
     "data": {
      "text/plain": [
       "{'triple': ['SF3B1', 'lead', 'EIF2AK1'],\n",
       " 'PMID': '35926182',\n",
       " 'sentence': 'Here, using single-cell technologies and functional validation studies of primary SF3B1-mutant MDS-RS samples, we show that SF3B1 mutations lead to the activation of the EIF2AK1 pathway in response to heme deficiency and that targeting this pathway rescues aberrant erythroid differentiation and enables the red blood cell maturation of MDS-RS erythroblasts.',\n",
       " 'AB': 'SF3B1 mutations, which occur in 20% of patients with myelodysplastic syndromes (MDS), are the hallmarks of a specific MDS subtype, MDS with ringed sideroblasts (MDS-RS), which is characterized by the accumulation of erythroid precursors in the bone marrow and primarily affects the elderly population. Here, using single-cell technologies and functional validation studies of primary SF3B1-mutant MDS-RS samples, we show that SF3B1 mutations lead to the activation of the EIF2AK1 pathway in response to heme deficiency and that targeting this pathway rescues aberrant erythroid differentiation and enables the red blood cell maturation of MDS-RS erythroblasts. These data support the development of EIF2AK1 inhibitors to overcome transfusion dependency in patients with SF3B1-mutant MDS-RS with impaired red blood cell production.',\n",
       " 'entity_one': 'SF3B1',\n",
       " 'entity_one_type': 'Gene',\n",
       " 'entity_two': 'EIF2AK1',\n",
       " 'entity_two_type': 'Gene',\n",
       " 'entity_one_transformed': 'SF3B1',\n",
       " 'entity_two_transformed': 'EIF2AK1',\n",
       " 'transformed_triple': ('SF3B1', 'lead', 'EIF2AK1', '35926182')}"
      ]
     },
     "execution_count": 52,
     "metadata": {},
     "output_type": "execute_result"
    }
   ],
   "source": [
    "triplelistnewcopy[0]"
   ]
  },
  {
   "cell_type": "code",
   "execution_count": 53,
   "id": "31f7a947-3b32-40c9-8ecc-5c4c31cd308d",
   "metadata": {},
   "outputs": [
    {
     "data": {
      "text/plain": [
       "'promising'"
      ]
     },
     "execution_count": 53,
     "metadata": {},
     "output_type": "execute_result"
    }
   ],
   "source": [
    "i"
   ]
  },
  {
   "cell_type": "code",
   "execution_count": null,
   "id": "cb281a92-094c-4346-9527-bc7dfb0c7a19",
   "metadata": {},
   "outputs": [],
   "source": []
  },
  {
   "cell_type": "code",
   "execution_count": null,
   "id": "c3cea43e-121b-43b5-8d3e-e39ea34c5b86",
   "metadata": {},
   "outputs": [],
   "source": []
  },
  {
   "cell_type": "code",
   "execution_count": 54,
   "id": "c8a850dd-d205-489d-8f1a-e93eca93a798",
   "metadata": {},
   "outputs": [
    {
     "data": {
      "text/plain": [
       "{'am': 'be',\n",
       " 'is': 'be',\n",
       " 'are': 'be',\n",
       " 'was': 'be',\n",
       " 'were': 'be',\n",
       " 'been': 'be',\n",
       " 'have been': 'be',\n",
       " 'has been': 'be'}"
      ]
     },
     "execution_count": 54,
     "metadata": {},
     "output_type": "execute_result"
    }
   ],
   "source": [
    "bedict"
   ]
  },
  {
   "cell_type": "code",
   "execution_count": null,
   "id": "7b37d491-cf68-4cf2-966e-e54543cd5fe5",
   "metadata": {},
   "outputs": [],
   "source": []
  },
  {
   "cell_type": "code",
   "execution_count": 55,
   "id": "4f14456d-0efd-4034-9d9c-76d79bffa37f",
   "metadata": {},
   "outputs": [],
   "source": [
    "not_relations=pd.read_csv('../classofrelations/not_relations.csv',header=None,names=['word'])"
   ]
  },
  {
   "cell_type": "code",
   "execution_count": 56,
   "id": "0eae5ab5-83a1-4297-9852-6179b88bd656",
   "metadata": {},
   "outputs": [
    {
     "data": {
      "text/plain": [
       "61"
      ]
     },
     "execution_count": 56,
     "metadata": {},
     "output_type": "execute_result"
    }
   ],
   "source": [
    "len(not_relations)"
   ]
  },
  {
   "cell_type": "code",
   "execution_count": 57,
   "id": "03ab7e62-aea7-454a-8795-4578df407dda",
   "metadata": {},
   "outputs": [
    {
     "data": {
      "text/html": [
       "<div>\n",
       "<style scoped>\n",
       "    .dataframe tbody tr th:only-of-type {\n",
       "        vertical-align: middle;\n",
       "    }\n",
       "\n",
       "    .dataframe tbody tr th {\n",
       "        vertical-align: top;\n",
       "    }\n",
       "\n",
       "    .dataframe thead th {\n",
       "        text-align: right;\n",
       "    }\n",
       "</style>\n",
       "<table border=\"1\" class=\"dataframe\">\n",
       "  <thead>\n",
       "    <tr style=\"text-align: right;\">\n",
       "      <th></th>\n",
       "      <th>word</th>\n",
       "    </tr>\n",
       "  </thead>\n",
       "  <tbody>\n",
       "    <tr>\n",
       "      <th>0</th>\n",
       "      <td>1p13 near</td>\n",
       "    </tr>\n",
       "    <tr>\n",
       "      <th>1</th>\n",
       "      <td>a of</td>\n",
       "    </tr>\n",
       "    <tr>\n",
       "      <th>2</th>\n",
       "      <td>abstractdiagnosing</td>\n",
       "    </tr>\n",
       "    <tr>\n",
       "      <th>3</th>\n",
       "      <td>acetylcholinesterase</td>\n",
       "    </tr>\n",
       "    <tr>\n",
       "      <th>4</th>\n",
       "      <td>apolipoprotein</td>\n",
       "    </tr>\n",
       "  </tbody>\n",
       "</table>\n",
       "</div>"
      ],
      "text/plain": [
       "                   word\n",
       "0             1p13 near\n",
       "1                  a of\n",
       "2    abstractdiagnosing\n",
       "3  acetylcholinesterase\n",
       "4        apolipoprotein"
      ]
     },
     "execution_count": 57,
     "metadata": {},
     "output_type": "execute_result"
    }
   ],
   "source": [
    "not_relations.head()"
   ]
  },
  {
   "cell_type": "code",
   "execution_count": 58,
   "id": "482e32b6-9bc7-4e20-bbcf-a97ed477f765",
   "metadata": {},
   "outputs": [],
   "source": [
    "not_relations_dict={}\n",
    "for i in not_relations['word'].to_list():\n",
    "    not_relations_dict[i.lower()]=True"
   ]
  },
  {
   "cell_type": "code",
   "execution_count": 59,
   "id": "3746bd64-fdd4-45e5-9062-a027ca683c08",
   "metadata": {},
   "outputs": [
    {
     "data": {
      "text/plain": [
       "('near 7q11 be', True)"
      ]
     },
     "execution_count": 59,
     "metadata": {},
     "output_type": "execute_result"
    }
   ],
   "source": [
    "list(not_relations_dict.items())[20]"
   ]
  },
  {
   "cell_type": "code",
   "execution_count": null,
   "id": "f08df18a-1b43-45fe-b019-72a20ade6ca7",
   "metadata": {},
   "outputs": [],
   "source": []
  },
  {
   "cell_type": "code",
   "execution_count": null,
   "id": "fcd699d2-812c-4dd1-981f-380d6415022e",
   "metadata": {},
   "outputs": [],
   "source": []
  },
  {
   "cell_type": "code",
   "execution_count": null,
   "id": "deda0b2e-47e1-4d36-9654-75dd2b3570fa",
   "metadata": {},
   "outputs": [],
   "source": []
  },
  {
   "cell_type": "code",
   "execution_count": null,
   "id": "70a70b9b-0780-42e0-bef8-5eef15897cbf",
   "metadata": {},
   "outputs": [],
   "source": []
  },
  {
   "cell_type": "code",
   "execution_count": 60,
   "id": "ebcd25b2-6a42-4fb4-a4f4-a4c6062b8415",
   "metadata": {},
   "outputs": [
    {
     "data": {
      "text/plain": [
       "{'am': 'be',\n",
       " 'is': 'be',\n",
       " 'are': 'be',\n",
       " 'was': 'be',\n",
       " 'were': 'be',\n",
       " 'been': 'be',\n",
       " 'have been': 'be',\n",
       " 'has been': 'be'}"
      ]
     },
     "execution_count": 60,
     "metadata": {},
     "output_type": "execute_result"
    }
   ],
   "source": [
    "bedict"
   ]
  },
  {
   "cell_type": "code",
   "execution_count": 61,
   "id": "b1355945-8c81-4a38-a27a-6a83423d753c",
   "metadata": {},
   "outputs": [],
   "source": [
    "triplelistnew=[]\n",
    "for i in triplelistnewcopy: \n",
    "    if not deprecated_relations_dict.get(i.get('triple')[1].lower()) and not not_relations_dict.get(i.get('triple')[1].lower()):\n",
    "        if i.get('triple')[1][0]=='\\-':\n",
    "            continue\n",
    "        temp_triple=i.get('triple')[1].split(' ')\n",
    "        for j,k in enumerate(temp_triple):\n",
    "            if bedict.get(k.lower()):\n",
    "                temp_triple[j]=bedict.get(k.lower())\n",
    "        i['triple'][1]=' '.join(temp_triple)\n",
    "        if i.get('triple')[1].lower()=='be' or bedict.get(i.get('triple')[1].lower()):\n",
    "            continue\n",
    "        if i.get('triple')[1].lower()=='means':\n",
    "            i['triple'][1]='mean'\n",
    "        if i.get('triple')[1].lower()=='meets':\n",
    "            i['triple'][1]='meet'\n",
    "        \n",
    "        mid_judge=True\n",
    "        for j in i.get('triple')[1].split(' '):\n",
    "            if j.lower() not in i.get('triple')[0].lower().split(' ') and j.lower() not in i.get('triple')[2].lower().split(' '):\n",
    "                pass\n",
    "            else:\n",
    "                mid_judge=False\n",
    "        if mid_judge:\n",
    "            triplelistnew.append(i)\n"
   ]
  },
  {
   "cell_type": "code",
   "execution_count": 62,
   "id": "4325cbf8-e390-4d1f-a408-0294084fcf73",
   "metadata": {},
   "outputs": [
    {
     "data": {
      "text/plain": [
       "124471"
      ]
     },
     "execution_count": 62,
     "metadata": {},
     "output_type": "execute_result"
    }
   ],
   "source": [
    "#124853\n",
    "len(triplelistnew)"
   ]
  },
  {
   "cell_type": "code",
   "execution_count": 63,
   "id": "e2823b1a-f85e-4b9a-9c26-7c7d22b6f33d",
   "metadata": {},
   "outputs": [
    {
     "data": {
      "text/plain": [
       "'\\n含有重复的triplelistnew数量为56723\\n'"
      ]
     },
     "execution_count": 63,
     "metadata": {},
     "output_type": "execute_result"
    }
   ],
   "source": [
    "'''\n",
    "含有重复的triplelistnew数量为56723\n",
    "'''"
   ]
  },
  {
   "cell_type": "code",
   "execution_count": null,
   "id": "ad2e3b60-8e54-4c78-9a07-43b1bdcc93e7",
   "metadata": {},
   "outputs": [],
   "source": []
  },
  {
   "cell_type": "code",
   "execution_count": 64,
   "id": "18aa1aa9-ad3a-4f13-96d5-c10a8eb3ca05",
   "metadata": {},
   "outputs": [
    {
     "data": {
      "text/plain": [
       "{'triple': ['rs1001179', 'investigated', 'cataract'],\n",
       " 'PMID': '35556207',\n",
       " 'sentence': 'Association of SOD1 50 bp Indel, GPX1 (rs1800668), and CAT (rs1001179) genotypes with all clinical variables was investigated in cataract groups by regression statistics in SPSS  16.0.',\n",
       " 'AB': 'Hyperglycemia plays a pronounced role in accelerating the process of aging due to high oxidative stress which triggers dyslipidemia and subsequently led to the progression of cataract. The aim of this study was to investigate lipid profile and its relationship with genotypes of SOD1, GPX1, and CAT variants in cataract patients. Total n = 680 samples were screened in four groups: senile cataract (SC), diabetic cataract (DC), type 2 diabetes mellitus (DM), and controls (CL). Lipid profile was estimated and compared between groups, and its correlation was tested with glycemic markers. Association of SOD1 50 bp Indel, GPX1 (rs1800668), and CAT (rs1001179) genotypes with all clinical variables was investigated in cataract groups by regression statistics in SPSS  16.0. Comparative analysis revealed that amount of total cholesterol and low-density lipoprotein parameters were significantly higher in both groups of cataracts when compared with controls (p < 0.01). Statistically higher levels of triglycerides were also evident in DM patients as compared with other three groups (p < 0.01). Significant weak positive correlation of glycated hemoglobin, fasting (FBG), and random blood glucose (RBG) levels was observed with triglycerides in DM (r = 0.16), SC (r = 0.15), and DC (r = 0.18) groups. Mutant genotype of SOD1 and CAT variants indicated significant association with TC, whereas GPX1 variant with FBG levels in accelerating predisposition of cataract in patients with diabetes (OR > 1.0). Outcomes suggested that TG may serve as a potential biomarker of lipid profile with manifestation of cataract in type 2 DM. Furthermore, hypercholesterolemia and hypertriglyceridemia demonstrated an inducing role in the pathogenesis of cataract with aging in hyperglycemia.',\n",
       " 'entity_one': 'rs1001179',\n",
       " 'entity_one_type': 'Mutation',\n",
       " 'entity_two': 'cataract',\n",
       " 'entity_two_type': 'Disease',\n",
       " 'entity_one_transformed': 'rs1001179',\n",
       " 'entity_two_transformed': 'Cataract',\n",
       " 'transformed_triple': ('rs1001179', 'investigated', 'cataract', '35556207')}"
      ]
     },
     "execution_count": 64,
     "metadata": {},
     "output_type": "execute_result"
    }
   ],
   "source": [
    "triplelistnew[10]"
   ]
  },
  {
   "cell_type": "code",
   "execution_count": 65,
   "id": "c6af93bd-a594-440c-a87a-7f2e086fdf63",
   "metadata": {},
   "outputs": [
    {
     "data": {
      "text/plain": [
       "{'triple': ['SF3B1', 'lead', 'EIF2AK1'],\n",
       " 'PMID': '35926182',\n",
       " 'sentence': 'Here, using single-cell technologies and functional validation studies of primary SF3B1-mutant MDS-RS samples, we show that SF3B1 mutations lead to the activation of the EIF2AK1 pathway in response to heme deficiency and that targeting this pathway rescues aberrant erythroid differentiation and enables the red blood cell maturation of MDS-RS erythroblasts.',\n",
       " 'AB': 'SF3B1 mutations, which occur in 20% of patients with myelodysplastic syndromes (MDS), are the hallmarks of a specific MDS subtype, MDS with ringed sideroblasts (MDS-RS), which is characterized by the accumulation of erythroid precursors in the bone marrow and primarily affects the elderly population. Here, using single-cell technologies and functional validation studies of primary SF3B1-mutant MDS-RS samples, we show that SF3B1 mutations lead to the activation of the EIF2AK1 pathway in response to heme deficiency and that targeting this pathway rescues aberrant erythroid differentiation and enables the red blood cell maturation of MDS-RS erythroblasts. These data support the development of EIF2AK1 inhibitors to overcome transfusion dependency in patients with SF3B1-mutant MDS-RS with impaired red blood cell production.',\n",
       " 'entity_one': 'SF3B1',\n",
       " 'entity_one_type': 'Gene',\n",
       " 'entity_two': 'EIF2AK1',\n",
       " 'entity_two_type': 'Gene',\n",
       " 'entity_one_transformed': 'SF3B1',\n",
       " 'entity_two_transformed': 'EIF2AK1',\n",
       " 'transformed_triple': ('SF3B1', 'lead', 'EIF2AK1', '35926182')}"
      ]
     },
     "execution_count": 65,
     "metadata": {},
     "output_type": "execute_result"
    }
   ],
   "source": [
    "triplelistnew[0]"
   ]
  },
  {
   "cell_type": "code",
   "execution_count": 66,
   "id": "8fa88fa2-0d93-4581-a857-efa9ed76e4c9",
   "metadata": {},
   "outputs": [],
   "source": [
    "entity_set=set()\n",
    "for i in triplelistnew:\n",
    "    entity_set.add(i.get('entity_one_transformed'))\n",
    "    entity_set.add(i.get('entity_two_transformed'))"
   ]
  },
  {
   "cell_type": "code",
   "execution_count": 67,
   "id": "849fc752-948f-4426-b7a7-4fc284e5fd9f",
   "metadata": {},
   "outputs": [
    {
     "data": {
      "text/plain": [
       "6254"
      ]
     },
     "execution_count": 67,
     "metadata": {},
     "output_type": "execute_result"
    }
   ],
   "source": [
    "len(entity_set)"
   ]
  },
  {
   "cell_type": "code",
   "execution_count": 68,
   "id": "6c58d9a7-7255-426e-995d-69420bd7ea75",
   "metadata": {},
   "outputs": [],
   "source": [
    "'''\n",
    "整合所有实体可能存在的类型 \n",
    "entitydict就是实体转类型（分号相隔）\n",
    "'''\n",
    "import re\n",
    "entitydict={}\n",
    "for i,j in enumerate(triplelist):\n",
    "    if j.get('entity1') in entity_set and j.get('entity2') in entity_set:\n",
    "        # if j.get('entity_one')==j.get('entity_two'):\n",
    "        #     continue\n",
    "        if not entitydict.get(j.get('entity1')) and not entitydict.get(j.get('entity2')):\n",
    "            entitydict[j.get('entity1')]=j.get('target1_type')\n",
    "            entitydict[j.get('entity2')]=j.get('target2_type')\n",
    "        else:\n",
    "            if entitydict.get(j.get('entity1')):\n",
    "                if re.search(j.get('target1_type'), entitydict.get(j.get('entity1'))) :\n",
    "                    pass\n",
    "                else:\n",
    "                    entitydict[j.get('entity1')]+=\";\"+j.get('target1_type')\n",
    "            else:\n",
    "                entitydict[j.get('entity1')]=j.get('target1_type')\n",
    "            if entitydict.get(j.get('entity2')):\n",
    "                if re.search(j.get('target2_type'), entitydict.get(j.get('entity2'))) :\n",
    "                    pass\n",
    "                else:\n",
    "                    entitydict[j.get('entity2')]+=\";\"+j.get('target2_type')\n",
    "            else:\n",
    "                entitydict[j.get('entity2')]=j.get('target2_type')"
   ]
  },
  {
   "cell_type": "code",
   "execution_count": 69,
   "id": "397c5d5a-dfc6-4add-bed6-171600883a70",
   "metadata": {},
   "outputs": [
    {
     "data": {
      "text/plain": [
       "6254"
      ]
     },
     "execution_count": 69,
     "metadata": {},
     "output_type": "execute_result"
    }
   ],
   "source": [
    "len(entitydict)"
   ]
  },
  {
   "cell_type": "code",
   "execution_count": 70,
   "id": "a295d049-139e-4857-bccb-c9afadfaba62",
   "metadata": {},
   "outputs": [],
   "source": [
    "'''\n",
    "整合所有实体可能存在的类型 \n",
    "entitydict就是实体转类型（分号相隔）\n",
    "'''\n",
    "import re\n",
    "entitydict_tolist={}\n",
    "for i,j in enumerate(triplelist):\n",
    "    if j.get('entity1') in entity_set and j.get('entity2') in entity_set:\n",
    "        # if j.get('entity_one')==j.get('entity_two'):\n",
    "        #     continue\n",
    "        if not entitydict_tolist.get(j.get('entity1')) and not entitydict_tolist.get(j.get('entity2')):\n",
    "            entitydict_tolist[j.get('entity1')]=[j.get('target1_type')]\n",
    "            entitydict_tolist[j.get('entity2')]=[j.get('target2_type')]\n",
    "        else:\n",
    "            if entitydict_tolist.get(j.get('entity1')):\n",
    "                if j.get('target1_type') in entitydict_tolist.get(j.get('entity1')):\n",
    "                    pass\n",
    "                else:\n",
    "                    entitydict_tolist[j.get('entity1')]+=[j.get('target1_type')]\n",
    "            else:\n",
    "                entitydict_tolist[j.get('entity1')]=[j.get('target1_type')]\n",
    "            if entitydict_tolist.get(j.get('entity2')):\n",
    "                if j.get('target2_type') in  entitydict_tolist.get(j.get('entity2')) :\n",
    "                    pass\n",
    "                else:\n",
    "                    entitydict_tolist[j.get('entity2')]+=[j.get('target2_type')]\n",
    "            else:\n",
    "                entitydict_tolist[j.get('entity2')]=[j.get('target2_type')]"
   ]
  },
  {
   "cell_type": "code",
   "execution_count": 71,
   "id": "176748a0-d3bd-4504-8aa4-90d24bb98f9d",
   "metadata": {},
   "outputs": [
    {
     "data": {
      "text/plain": [
       "'Carbohydrate;Lipid;Toxin'"
      ]
     },
     "execution_count": 71,
     "metadata": {},
     "output_type": "execute_result"
    }
   ],
   "source": [
    "entitydict.get('Lipopolysaccharides')"
   ]
  },
  {
   "cell_type": "code",
   "execution_count": 72,
   "id": "b47bf92b-21c4-428a-b8ab-431e84437ecd",
   "metadata": {},
   "outputs": [
    {
     "data": {
      "text/plain": [
       "['Carbohydrate', 'Lipid', 'Toxin']"
      ]
     },
     "execution_count": 72,
     "metadata": {},
     "output_type": "execute_result"
    }
   ],
   "source": [
    "entitydict_tolist.get('Lipopolysaccharides')"
   ]
  },
  {
   "cell_type": "code",
   "execution_count": 73,
   "id": "7b57747e-90d0-44cd-a8a1-5c76be328576",
   "metadata": {},
   "outputs": [
    {
     "data": {
      "text/plain": [
       "6254"
      ]
     },
     "execution_count": 73,
     "metadata": {},
     "output_type": "execute_result"
    }
   ],
   "source": [
    "# 5862\n",
    "len(entitydict)"
   ]
  },
  {
   "cell_type": "code",
   "execution_count": 74,
   "id": "4526a522-f854-448a-9889-3224982dcf4c",
   "metadata": {},
   "outputs": [
    {
     "data": {
      "text/plain": [
       "[('LBR', 'Gene'),\n",
       " ('EIF5A2', 'Gene'),\n",
       " ('RHOXF1', 'Gene'),\n",
       " ('HECTD1', 'Gene'),\n",
       " ('RMDN3', 'Gene'),\n",
       " ('VAPB', 'Gene'),\n",
       " ('PFKP', 'Gene'),\n",
       " ('rs11189312', 'Mutation'),\n",
       " ('rs10882883', 'Mutation'),\n",
       " ('rs17108378', 'Mutation'),\n",
       " ('rs35077384', 'Mutation'),\n",
       " ('Hereditary Sensory and Motor Neuropathy', 'Disease'),\n",
       " ('Vaginal Neoplasms', 'Disease'),\n",
       " ('Trichiasis', 'Disease'),\n",
       " ('Autoimmune Lymphoproliferative Syndrome', 'Disease'),\n",
       " ('Influenza, Human', 'Disease'),\n",
       " ('Dental Pulp Necrosis', 'Disease'),\n",
       " ('Dacryocystitis', 'Disease'),\n",
       " ('Laryngeal Diseases', 'Disease'),\n",
       " ('Diastasis, Bone', 'Disease'),\n",
       " ('rs4293393', 'Mutation'),\n",
       " ('rs10107605', 'Mutation'),\n",
       " ('DGKB', 'Gene'),\n",
       " ('rs12666606', 'Mutation'),\n",
       " ('MYO1B', 'Gene'),\n",
       " ('ACKR1', 'Gene'),\n",
       " ('LGI4', 'Gene'),\n",
       " ('ISLR2', 'Gene'),\n",
       " ('Cardiolipins', 'Lipid')]"
      ]
     },
     "execution_count": 74,
     "metadata": {},
     "output_type": "execute_result"
    }
   ],
   "source": [
    "list(entitydict.items())[-30:-1]"
   ]
  },
  {
   "cell_type": "code",
   "execution_count": 75,
   "id": "cc0977cf-e80d-4662-b2ac-9e0e17a4a0db",
   "metadata": {},
   "outputs": [
    {
     "name": "stdout",
     "output_type": "stream",
     "text": [
      "{'Ceramides': 'Carbohydrate;Lipid'}\n",
      "{'Bleomycin': 'Carbohydrate;Peptide'}\n",
      "{'Angiotensins': 'Peptide;Protein'}\n",
      "{'Lipopolysaccharides': 'Carbohydrate;Lipid;Toxin'}\n",
      "{'Psychosine': 'Carbohydrate;Lipid'}\n",
      "{'Glycolipids': 'Carbohydrate;Lipid'}\n",
      "{'Abciximab': 'Peptide;Protein'}\n",
      "{'Gangliosides': 'Carbohydrate;Lipid'}\n",
      "{'G(M1) Ganglioside': 'Carbohydrate;Lipid'}\n",
      "{'G(M3) Ganglioside': 'Carbohydrate;Lipid'}\n",
      "{'Sphingomyelins': 'Carbohydrate;Lipid'}\n",
      "{'Glycosphingolipids': 'Carbohydrate;Lipid'}\n",
      "{'Phospholipid Ethers': 'Carbohydrate;Lipid'}\n",
      "{'Vancomycin': 'Carbohydrate;Peptide'}\n",
      "{'Daptomycin': 'Lipid;Peptide'}\n",
      "{'Glycopeptides': 'Carbohydrate;Peptide'}\n",
      "{'Ristocetin': 'Carbohydrate;Peptide'}\n",
      "{'Cilastatin, Imipenem Drug Combination': 'Lipid;Pharmaceutical Preparations'}\n",
      "{'Phalloidine': 'Peptide;Toxin'}\n",
      "{'Globosides': 'Carbohydrate;Lipid'}\n",
      "{'Glucosylceramides': 'Carbohydrate;Lipid'}\n",
      "{'Cerebrosides': 'Carbohydrate;Lipid'}\n",
      "{'Sulfoglycosphingolipids': 'Carbohydrate;Lipid'}\n",
      "{'Glycosylphosphatidylinositols': 'Carbohydrate;Lipid'}\n",
      "{'Lipid A': 'Carbohydrate;Lipid;Toxin'}\n",
      "{'Glycerylphosphorylcholine': 'Carbohydrate;Lipid'}\n",
      "{'Polymyxin B': 'Lipid;Peptide;Protein'}\n",
      "{'Angiotensin II': 'Peptide;Protein'}\n"
     ]
    }
   ],
   "source": [
    "for i,j in entitydict.items():\n",
    "    if re.search(';',j):\n",
    "        print({i:j})\n"
   ]
  },
  {
   "cell_type": "code",
   "execution_count": 76,
   "id": "0a4dcc7b-3aae-4604-8093-71c527b3b407",
   "metadata": {},
   "outputs": [],
   "source": [
    "'''标注entity序号ID'''\n",
    "entitynum={}\n",
    "num=1\n",
    "for i in entitydict.keys():\n",
    "    entitynum[i]=num\n",
    "    num+=1"
   ]
  },
  {
   "cell_type": "code",
   "execution_count": 77,
   "id": "a0016065-7705-4e60-976e-080e44cc631d",
   "metadata": {},
   "outputs": [
    {
     "data": {
      "text/plain": [
       "867"
      ]
     },
     "execution_count": 77,
     "metadata": {},
     "output_type": "execute_result"
    }
   ],
   "source": [
    "entitynum.get('APOE')"
   ]
  },
  {
   "cell_type": "code",
   "execution_count": 78,
   "id": "47a70fdb-876d-4816-89ea-5fcab6a30e36",
   "metadata": {},
   "outputs": [],
   "source": [
    "for i in triplelistnew:\n",
    "    i['verb']=i.get('triple')[1]"
   ]
  },
  {
   "cell_type": "code",
   "execution_count": 79,
   "id": "47d25cae-0b86-42a3-8039-8d62f73d72e2",
   "metadata": {},
   "outputs": [],
   "source": [
    "'''分别计算entity出现次数，relation出现次数和triple出现次数'''\n",
    "entity_countnum={}\n",
    "relation_countnum={}\n",
    "tripleWeight={}\n",
    "tripleWeightunique=set()\n",
    "for i in triplelistnew:\n",
    "    if i.get('entity_one_transformed')!=i.get('entity_two_transformed'):\n",
    "        if (i.get('entity_one_transformed'),i.get('triple')[1].lower(),i.get('entity_two_transformed'),i.get('PMID')) not in tripleWeightunique:\n",
    "            tripleWeightunique.add((i.get('entity_one_transformed'),i.get('triple')[1].lower(),i.get('entity_two_transformed'),i.get('PMID')))\n",
    "            entity_countnum[i.get('entity_one_transformed')]=entity_countnum.get(i.get('entity_one_transformed'),0)+1\n",
    "            entity_countnum[i.get('entity_two_transformed')]=entity_countnum.get(i.get('entity_two_transformed'),0)+1\n",
    "            relation_countnum[i.get('triple')[1]]=relation_countnum.get(i.get('triple')[1],0)+1\n",
    "            tripleWeight[(i.get('entity_one_transformed'),i.get('triple')[1].lower(), i.get('entity_two_transformed'))]=tripleWeight.get((i.get('entity_one_transformed'),i.get('triple')[1].lower(), i.get('entity_two_transformed')),0)+1"
   ]
  },
  {
   "cell_type": "code",
   "execution_count": 80,
   "id": "ba729adf-dc26-43f3-896b-eb16ca3b0a53",
   "metadata": {},
   "outputs": [
    {
     "data": {
      "text/plain": [
       "6254"
      ]
     },
     "execution_count": 80,
     "metadata": {},
     "output_type": "execute_result"
    }
   ],
   "source": [
    "len(entity_countnum)"
   ]
  },
  {
   "cell_type": "code",
   "execution_count": 81,
   "id": "8e1a380a-830b-484e-a2eb-a783fc963bcf",
   "metadata": {},
   "outputs": [
    {
     "data": {
      "text/plain": [
       "100255"
      ]
     },
     "execution_count": 81,
     "metadata": {},
     "output_type": "execute_result"
    }
   ],
   "source": [
    "# 51551\n",
    "len(tripleWeight)"
   ]
  },
  {
   "cell_type": "code",
   "execution_count": 82,
   "id": "a783727a-93cb-4ba7-a022-0574750a7bc6",
   "metadata": {},
   "outputs": [
    {
     "data": {
      "text/plain": [
       "124471"
      ]
     },
     "execution_count": 82,
     "metadata": {},
     "output_type": "execute_result"
    }
   ],
   "source": [
    "len(triplelistnew)"
   ]
  },
  {
   "cell_type": "code",
   "execution_count": 83,
   "id": "d68741ce-c45f-4bec-9cf4-a7a602a2b826",
   "metadata": {},
   "outputs": [
    {
     "data": {
      "text/plain": [
       "{'triple': ['SF3B1', 'lead', 'EIF2AK1'],\n",
       " 'PMID': '35926182',\n",
       " 'sentence': 'Here, using single-cell technologies and functional validation studies of primary SF3B1-mutant MDS-RS samples, we show that SF3B1 mutations lead to the activation of the EIF2AK1 pathway in response to heme deficiency and that targeting this pathway rescues aberrant erythroid differentiation and enables the red blood cell maturation of MDS-RS erythroblasts.',\n",
       " 'AB': 'SF3B1 mutations, which occur in 20% of patients with myelodysplastic syndromes (MDS), are the hallmarks of a specific MDS subtype, MDS with ringed sideroblasts (MDS-RS), which is characterized by the accumulation of erythroid precursors in the bone marrow and primarily affects the elderly population. Here, using single-cell technologies and functional validation studies of primary SF3B1-mutant MDS-RS samples, we show that SF3B1 mutations lead to the activation of the EIF2AK1 pathway in response to heme deficiency and that targeting this pathway rescues aberrant erythroid differentiation and enables the red blood cell maturation of MDS-RS erythroblasts. These data support the development of EIF2AK1 inhibitors to overcome transfusion dependency in patients with SF3B1-mutant MDS-RS with impaired red blood cell production.',\n",
       " 'entity_one': 'SF3B1',\n",
       " 'entity_one_type': 'Gene',\n",
       " 'entity_two': 'EIF2AK1',\n",
       " 'entity_two_type': 'Gene',\n",
       " 'entity_one_transformed': 'SF3B1',\n",
       " 'entity_two_transformed': 'EIF2AK1',\n",
       " 'transformed_triple': ('SF3B1', 'lead', 'EIF2AK1', '35926182'),\n",
       " 'verb': 'lead'}"
      ]
     },
     "execution_count": 83,
     "metadata": {},
     "output_type": "execute_result"
    }
   ],
   "source": [
    "triplelistnew[0]"
   ]
  },
  {
   "cell_type": "code",
   "execution_count": 84,
   "id": "91be1251-5b67-4a60-9e01-8c905cd5504b",
   "metadata": {},
   "outputs": [],
   "source": [
    "import time\n",
    "import datetime\n",
    "import re\n",
    "dropout=[]\n",
    "months=['Jan','Feb','Mar','Apr','May','Jun','Jul','Aug','Sep','Oct','Nov','Dec']\n",
    "import re\n",
    "def cal_date(i):\n",
    "    j=i\n",
    "    if re.search('[S,s]upplement',j,flags=re.M|re.I):\n",
    "        j=re.sub('[S,s]upplement.*','',j,flags=re.M|re.I)\n",
    "    j=re.sub('\\s?-\\s?','-',j)\n",
    "    j=re.sub('\\.','',j)\n",
    "    j=re.sub('Aout','Aug',j)\n",
    "    if len(j.split(' '))==3:\n",
    "        try:\n",
    "            date=int(datetime.datetime.strftime(datetime.datetime.strptime(j,'%Y %b %d'), '%Y%m%d'))\n",
    "        except:\n",
    "            if j.split()[1] in months:\n",
    "                if re.search(r'\\d+',j.split()[2],flags=re.M|re.I):\n",
    "                    j=j.split()[0]+' '+j.split()[1]+' '+ re.search(r'\\d+',j.split()[2],flags=re.M|re.I).group()\n",
    "                    try:\n",
    "                        date=int(datetime.datetime.strftime(datetime.datetime.strptime(j,'%Y %b %d'), '%Y%m%d'))\n",
    "                    except:\n",
    "                        j=j[:4]\n",
    "                        date=int(datetime.datetime.strftime(datetime.datetime.strptime(j,'%Y'), '%Y'+'0101'))\n",
    "                        print('***************************************ERROR**********************************************')\n",
    "                else:\n",
    "                    j=j.split()[0]+' '+j.split()[1]+' '+ '1'\n",
    "                    try:\n",
    "                        date=int(datetime.datetime.strftime(datetime.datetime.strptime(j,'%Y %b %d'), '%Y%m%d'))\n",
    "                    except:\n",
    "                        print(j)\n",
    "                        j=j[:4]\n",
    "                        date=int(datetime.datetime.strftime(datetime.datetime.strptime(j,'%Y'), '%Y'+'0101'))\n",
    "            elif j.split()[1] not in months:\n",
    "                if re.search(r'([a-zA-Z]+)[-/]([a-zA-Z]+)',j.split()[1],flags=re.M|re.I) or re.search(r'([a-zA-Z]+)[-/](\\d+)',j.split()[1],flags=re.M|re.I):\n",
    "                    if re.search(r'([a-zA-Z]+)[-/]([a-zA-Z]+)',j.split()[1],flags=re.M|re.I):\n",
    "                        middle=re.search(r'([a-zA-Z]+)[-/]([a-zA-Z]+)',j.split()[1],flags=re.M|re.I).group(1)\n",
    "                    else:\n",
    "                        middle=re.search(r'([a-zA-Z]+)[-/](\\d+)',j.split()[1],flags=re.M|re.I).group(1)\n",
    "                    if middle in months:\n",
    "                        if re.search(r'\\d+',j.split()[2],flags=re.M|re.I):\n",
    "                            j=j.split()[0]+' '+middle+' '+ re.search(r'\\d+',j.split()[2],flags=re.M|re.I).group()\n",
    "                        else:\n",
    "                            j=j.split()[0]+' '+middle+' '+ '1'\n",
    "                    elif re.match(r'Sum(mer)?',middle):\n",
    "                        if re.search(r'\\d+',j.split()[2],flags=re.M|re.I):\n",
    "                            j=j.split()[0]+' '+'Jun'+' '+ re.search(r'\\d+',j.split()[2],flags=re.M|re.I).group()\n",
    "                        else:\n",
    "                            j=j.split()[0]+' '+'Jun'+' '+ '1'\n",
    "                    elif re.match(r'Spr(ing)?',middle):\n",
    "                        if re.search(r'\\d+',j.split()[2],flags=re.M|re.I):\n",
    "                            j=j.split()[0]+' '+'Mar'+' '+ re.search(r'\\d+',j.split()[2],flags=re.M|re.I).group()\n",
    "                        else:\n",
    "                            j=j.split()[0]+' '+'Mar'+' '+ '1'\n",
    "                    elif re.match(r'Win(ter)?',middle):\n",
    "                        if re.search(r'\\d+',j.split()[2],flags=re.M|re.I):\n",
    "                            j=j.split()[0]+' '+'Dec'+' '+ re.search(r'\\d+',j.split()[2],flags=re.M|re.I).group()\n",
    "                        else:\n",
    "                            j=j.split()[0]+' '+'Dec'+' '+ '1'    \n",
    "                    elif re.match(r'Aut(umn)?',middle) or \\\n",
    "                    re.match(r'Fall',middle):\n",
    "                        if re.search(r'\\d+',j.split()[2],flags=re.M|re.I):\n",
    "                            j=j.split()[0]+' '+'Sep'+' '+ re.search(r'\\d+',j.split()[2],flags=re.M|re.I).group()\n",
    "                        else:\n",
    "                            j=j.split()[0]+' '+'Sep'+' '+ '1'      \n",
    "                    try:\n",
    "                        date=int(datetime.datetime.strftime(datetime.datetime.strptime(j,'%Y %b %d'), '%Y%m%d'))\n",
    "                    except:\n",
    "                        print(j)\n",
    "                        j=j[:4]\n",
    "                        date=int(datetime.datetime.strftime(datetime.datetime.strptime(j,'%Y'), '%Y'+'0101'))\n",
    "                else:\n",
    "                    j=j[:4]\n",
    "                    date=int(datetime.datetime.strftime(datetime.datetime.strptime(j,'%Y'), '%Y'+'0101'))\n",
    "    elif len(j.split())==2:\n",
    "        if re.match(r'Sum(mer)?',j.split()[1]):\n",
    "            date=int(j[:4]+'0601')\n",
    "        elif re.match(r'Spr(ing)?',j.split()[1]):\n",
    "            date=int(j[:4]+'0301')\n",
    "        elif re.match(r'Win(ter)?',j.split()[1]):\n",
    "            date=int(j[:4]+'1201')\n",
    "        elif re.match(r'Aut(umn)?',j.split()[1]) or re.match(r'Fall',j.split()[1]):\n",
    "            date=int(j[:4]+'0901')\n",
    "        elif re.match(r'Sum(mer)?',j.split()[0]):\n",
    "            date=int(j[-4:]+'0601')\n",
    "        elif re.match(r'Spr(ing)?',j.split()[0]):\n",
    "            date=int(j[-4:]+'0301')\n",
    "        elif re.match(r'Win(ter)?',j.split()[0]):\n",
    "            date=int(j[-4:]+'1201')\n",
    "        elif re.match(r'Aut(umn)?',j.split()[0]) or re.match(r'Fall',j.split()[0]):\n",
    "            date=int(j[-4:]+'0901')\n",
    "        else:\n",
    "            try:\n",
    "                date=int(datetime.datetime.strftime(datetime.datetime.strptime(j,'%Y %b'), '%Y%m'+'01'))\n",
    "            except:\n",
    "                if re.search(r'([a-zA-Z]+)[-/]([a-zA-Z]+)',j.split()[1],flags=re.M|re.I) or re.search(r'([a-zA-Z]+)[-/](\\d+)',j.split()[1],flags=re.M|re.I):\n",
    "                    if re.search(r'([a-zA-Z]+)[-/]([a-zA-Z]+)',j.split()[1],flags=re.M|re.I):\n",
    "                        middle=re.search(r'([a-zA-Z]+)[-/]([a-zA-Z]+)',j.split()[1],flags=re.M|re.I).group(1)\n",
    "                    else:\n",
    "                        middle=re.search(r'([a-zA-Z]+)[-/](\\d+)',j.split()[1],flags=re.M|re.I).group(1)\n",
    "                    if middle in months:\n",
    "                        j=j.split()[0]+' '+middle+' '+ '1'\n",
    "                    elif re.match(r'Sum(mer)?',middle):\n",
    "                        j=j.split()[0]+' '+'Jun'+' '+ '1'\n",
    "                    elif re.match(r'Spr(ing)?',middle):\n",
    "                        j=j.split()[0]+' '+'Mar'+' '+ '1'\n",
    "                    elif re.match(r'Win(ter)?',middle):\n",
    "                        j=j.split()[0]+' '+'Dec'+' '+ '1'    \n",
    "                    elif re.match(r'Aut(umn)?',middle) or \\\n",
    "                    re.match(r'Fall',middle):\n",
    "                        j=j.split()[0]+' '+'Sep'+' '+ '1'      \n",
    "                    try:\n",
    "                        date=int(datetime.datetime.strftime(datetime.datetime.strptime(j,'%Y %b %d'), '%Y%m%d'))\n",
    "                    except:\n",
    "                        j=j[:4]\n",
    "                        date=int(datetime.datetime.strftime(datetime.datetime.strptime(j,'%Y'), '%Y'+'0101'))\n",
    "                elif re.search(r'(\\d+)[-/](\\d+)',j.split()[1],flags=re.M|re.I):\n",
    "                    midd=re.search(r'(\\d+)[-/](\\d+)',j.split()[1],flags=re.M|re.I).group(1)\n",
    "                    if len(midd)!=2:\n",
    "                        midd='0'+midd\n",
    "                    j=j[:4]\n",
    "                    date=int(datetime.datetime.strftime(datetime.datetime.strptime(j,'%Y'), '%Y'+midd+'01'))\n",
    "                else:\n",
    "                    print(j)\n",
    "                    j=j[:4]\n",
    "                    date=int(datetime.datetime.strftime(datetime.datetime.strptime(j,'%Y'), '%Y'+'0101'))\n",
    "    elif len(j.split())==1:\n",
    "        j=j[:4]\n",
    "        date=int(datetime.datetime.strftime(datetime.datetime.strptime(j,'%Y'), '%Y'+'0101'))\n",
    "    else:\n",
    "        j=j.split()[0]+' '+j.split()[1]+' '+re.search(r'\\d+',j.split()[2],flags=re.M|re.I).group()\n",
    "        date=int(datetime.datetime.strftime(datetime.datetime.strptime(j,'%Y %b %d'), '%Y%m%d'))\n",
    "    return date\n"
   ]
  },
  {
   "cell_type": "code",
   "execution_count": 85,
   "id": "9cd98161-67da-4eee-871a-22eb4fe474db",
   "metadata": {},
   "outputs": [],
   "source": [
    "for i in triplelistnew:\n",
    "    if jt2if_brief.get(pubtator_info_dict.get(i.get('PMID')).get('TA').lower()):\n",
    "        i['IF']=jt2if_brief.get(pubtator_info_dict.get(i.get('PMID')).get('TA').lower())\n",
    "    elif jt2if_all.get(pubtator_info_dict.get(i.get('PMID')).get('JT').lower()):\n",
    "        i['IF']=jt2if_all.get(pubtator_info_dict.get(i.get('PMID')).get('JT').lower())\n",
    "    else:\n",
    "        i['IF']=0.0\n",
    "    if jt2if5_brief.get(pubtator_info_dict.get(i.get('PMID')).get('TA').lower()):\n",
    "        i['IF5']=jt2if5_brief.get(pubtator_info_dict.get(i.get('PMID')).get('TA').lower())\n",
    "    elif jt2if5_all.get(pubtator_info_dict.get(i.get('PMID')).get('JT').lower()):\n",
    "        i['IF5']=jt2if5_all.get(pubtator_info_dict.get(i.get('PMID')).get('JT').lower())\n",
    "    else:\n",
    "        i['IF5']=0.0"
   ]
  },
  {
   "cell_type": "code",
   "execution_count": 86,
   "id": "8f359558-3d2b-42c7-94b1-daca5513ce0c",
   "metadata": {},
   "outputs": [
    {
     "data": {
      "text/plain": [
       "{'triple': ['SF3B1', 'lead', 'EIF2AK1'],\n",
       " 'PMID': '35926182',\n",
       " 'sentence': 'Here, using single-cell technologies and functional validation studies of primary SF3B1-mutant MDS-RS samples, we show that SF3B1 mutations lead to the activation of the EIF2AK1 pathway in response to heme deficiency and that targeting this pathway rescues aberrant erythroid differentiation and enables the red blood cell maturation of MDS-RS erythroblasts.',\n",
       " 'AB': 'SF3B1 mutations, which occur in 20% of patients with myelodysplastic syndromes (MDS), are the hallmarks of a specific MDS subtype, MDS with ringed sideroblasts (MDS-RS), which is characterized by the accumulation of erythroid precursors in the bone marrow and primarily affects the elderly population. Here, using single-cell technologies and functional validation studies of primary SF3B1-mutant MDS-RS samples, we show that SF3B1 mutations lead to the activation of the EIF2AK1 pathway in response to heme deficiency and that targeting this pathway rescues aberrant erythroid differentiation and enables the red blood cell maturation of MDS-RS erythroblasts. These data support the development of EIF2AK1 inhibitors to overcome transfusion dependency in patients with SF3B1-mutant MDS-RS with impaired red blood cell production.',\n",
       " 'entity_one': 'SF3B1',\n",
       " 'entity_one_type': 'Gene',\n",
       " 'entity_two': 'EIF2AK1',\n",
       " 'entity_two_type': 'Gene',\n",
       " 'entity_one_transformed': 'SF3B1',\n",
       " 'entity_two_transformed': 'EIF2AK1',\n",
       " 'transformed_triple': ('SF3B1', 'lead', 'EIF2AK1', '35926182'),\n",
       " 'verb': 'lead',\n",
       " 'IF': 0.0,\n",
       " 'IF5': 0.0}"
      ]
     },
     "execution_count": 86,
     "metadata": {},
     "output_type": "execute_result"
    }
   ],
   "source": [
    "triplelistnew[0]"
   ]
  },
  {
   "cell_type": "code",
   "execution_count": 87,
   "id": "713db686-d05e-4a38-ba73-efc833b0bdab",
   "metadata": {},
   "outputs": [],
   "source": [
    "'''计算同一组triple分别在哪些文章那些句子中出现'''\n",
    "relation_interpolation_list=[]\n",
    "relation_interpolation_dict={}\n",
    "for i in triplelistnew:\n",
    "    if (i.get('entity_one_transformed'),i.get('triple')[1], i.get('entity_two_transformed')) not in relation_interpolation_dict.keys():\n",
    "        relation_interpolation_dict[(i.get('entity_one_transformed'),i.get('triple')[1], i.get('entity_two_transformed'))]={'from':entitynum.get(i.get('entity_one_transformed'))-1,\n",
    "                                   'to':entitynum.get(i.get('entity_two_transformed'))-1,'relation':i.get('triple')[1],\n",
    "                                   'PMID':[i.get('PMID')],'sentence':[i.get('sentence')],\n",
    "                                   'DP':[pubtator_info_dict.get(i.get('PMID')).get('DP')],\n",
    "                                   'TI':[pubtator_info_dict.get(i.get('PMID')).get('TI')],\n",
    "                                    'TA':[pubtator_info_dict.get(i.get('PMID')).get('TA')],\n",
    "                                    'IF':[i.get('IF')],   'IF5':[i.get('IF5')],   \n",
    "                                    'date':[cal_date(pubtator_info_dict.get(i.get('PMID')).get('DP'))],\n",
    "                                    'first_entity_transformed':i.get('entity_one_transformed'),'second_entity_transformed':i.get('entity_two_transformed'),                                                     \n",
    "                                    'first_entity':[i.get('entity_one')],'second_entity':[i.get('entity_two')],\n",
    "                                    'first_type':entitydict_tolist.get(i.get('entity_one_transformed')),'second_type':entitydict_tolist.get(i.get('entity_two_transformed'))}\n",
    "\n",
    "    else:\n",
    "        relation_interpolation_dict[(i.get('entity_one_transformed'),i.get('triple')[1], i.get('entity_two_transformed'))]['PMID']=relation_interpolation_dict.get((i.get('entity_one_transformed'),i.get('triple')[1], i.get('entity_two_transformed'))).get('PMID')+[i.get('PMID')]\n",
    "        relation_interpolation_dict[(i.get('entity_one_transformed'),i.get('triple')[1], i.get('entity_two_transformed'))]['sentence']=relation_interpolation_dict.get((i.get('entity_one_transformed'),i.get('triple')[1], i.get('entity_two_transformed'))).get('sentence')+[i.get('sentence')]\n",
    "        relation_interpolation_dict[(i.get('entity_one_transformed'),i.get('triple')[1], i.get('entity_two_transformed'))]['first_entity']=relation_interpolation_dict.get((i.get('entity_one_transformed'),i.get('triple')[1], i.get('entity_two_transformed'))).get('first_entity')+[i.get('entity_one')]\n",
    "        relation_interpolation_dict[(i.get('entity_one_transformed'),i.get('triple')[1], i.get('entity_two_transformed'))]['second_entity']=relation_interpolation_dict.get((i.get('entity_one_transformed'),i.get('triple')[1], i.get('entity_two_transformed'))).get('second_entity')+[i.get('entity_two')]\n",
    "        relation_interpolation_dict[(i.get('entity_one_transformed'),i.get('triple')[1], i.get('entity_two_transformed'))]['DP']=relation_interpolation_dict.get((i.get('entity_one_transformed'),i.get('triple')[1], i.get('entity_two_transformed'))).get('DP')+[pubtator_info_dict.get(i.get('PMID')).get('DP')]\n",
    "        relation_interpolation_dict[(i.get('entity_one_transformed'),i.get('triple')[1], i.get('entity_two_transformed'))]['TI']=relation_interpolation_dict.get((i.get('entity_one_transformed'),i.get('triple')[1], i.get('entity_two_transformed'))).get('TI')+[pubtator_info_dict.get(i.get('PMID')).get('TI')]\n",
    "        relation_interpolation_dict[(i.get('entity_one_transformed'),i.get('triple')[1], i.get('entity_two_transformed'))]['TA']=relation_interpolation_dict.get((i.get('entity_one_transformed'),i.get('triple')[1], i.get('entity_two_transformed'))).get('TA')+[pubtator_info_dict.get(i.get('PMID')).get('TA')]\n",
    "        relation_interpolation_dict[(i.get('entity_one_transformed'),i.get('triple')[1], i.get('entity_two_transformed'))]['date']=relation_interpolation_dict.get((i.get('entity_one_transformed'),i.get('triple')[1], i.get('entity_two_transformed'))).get('date')+[cal_date(pubtator_info_dict.get(i.get('PMID')).get('DP'))]\n",
    "        relation_interpolation_dict[(i.get('entity_one_transformed'),i.get('triple')[1], i.get('entity_two_transformed'))]['IF']=relation_interpolation_dict.get((i.get('entity_one_transformed'),i.get('triple')[1], i.get('entity_two_transformed'))).get('IF')+[i.get('IF')]\n",
    "        relation_interpolation_dict[(i.get('entity_one_transformed'),i.get('triple')[1], i.get('entity_two_transformed'))]['IF5']=relation_interpolation_dict.get((i.get('entity_one_transformed'),i.get('triple')[1], i.get('entity_two_transformed'))).get('IF5')+[i.get('IF5')]"
   ]
  },
  {
   "cell_type": "code",
   "execution_count": 88,
   "id": "c7c5c55b-a3c8-4639-9727-1982f6f32d17",
   "metadata": {},
   "outputs": [
    {
     "data": {
      "text/plain": [
       "(('rs1001179', 'investigated', 'Cataract'),\n",
       " {'from': 10,\n",
       "  'to': 5,\n",
       "  'relation': 'investigated',\n",
       "  'PMID': ['35556207'],\n",
       "  'sentence': ['Association of SOD1 50 bp Indel, GPX1 (rs1800668), and CAT (rs1001179) genotypes with all clinical variables was investigated in cataract groups by regression statistics in SPSS  16.0.'],\n",
       "  'DP': ['2022 Sep'],\n",
       "  'TI': ['Clinical Association of Biochemical Variations Among Multilocus Genotypes of Antioxidant Enzymes with Susceptibility of Cataract in Hyperglycemia.'],\n",
       "  'TA': ['Appl Biochem Biotechnol'],\n",
       "  'IF': [3.094],\n",
       "  'IF5': [2.973],\n",
       "  'date': [20220901],\n",
       "  'first_entity_transformed': 'rs1001179',\n",
       "  'second_entity_transformed': 'Cataract',\n",
       "  'first_entity': ['rs1001179'],\n",
       "  'second_entity': ['cataract'],\n",
       "  'first_type': ['Mutation'],\n",
       "  'second_type': ['Disease']})"
      ]
     },
     "execution_count": 88,
     "metadata": {},
     "output_type": "execute_result"
    }
   ],
   "source": [
    "list(relation_interpolation_dict.items())[10]"
   ]
  },
  {
   "cell_type": "code",
   "execution_count": 89,
   "id": "4c83650e-0ff2-46a2-aefc-91887289b030",
   "metadata": {},
   "outputs": [],
   "source": [
    "relation_interpolation_list=list(relation_interpolation_dict.values())"
   ]
  },
  {
   "cell_type": "code",
   "execution_count": 90,
   "id": "457fb10b-effc-4eb9-9eed-e0d8ed5243ae",
   "metadata": {},
   "outputs": [
    {
     "name": "stdout",
     "output_type": "stream",
     "text": [
      "0\n",
      "0\n",
      "0\n",
      "0\n",
      "0\n"
     ]
    }
   ],
   "source": [
    "for i in relation_interpolation_list:\n",
    "    if i.get('from')==0:\n",
    "        print(i.get('from'))"
   ]
  },
  {
   "cell_type": "code",
   "execution_count": 91,
   "id": "aae86e51-3119-4ae9-85d1-ca6b58ddc468",
   "metadata": {},
   "outputs": [
    {
     "data": {
      "text/plain": [
       "100258"
      ]
     },
     "execution_count": 91,
     "metadata": {},
     "output_type": "execute_result"
    }
   ],
   "source": [
    "# 51551\n",
    "len(relation_interpolation_list)"
   ]
  },
  {
   "cell_type": "code",
   "execution_count": 92,
   "id": "8728c501-48fd-4ec4-846b-9dc424c55f7e",
   "metadata": {},
   "outputs": [],
   "source": [
    "'''一个entity对应所有可能的句子和PMID'''\n",
    "entity2content={}\n",
    "for i,j in enumerate(triplelistnew):\n",
    "    if j.get('entity_one_transformed') in entity2content.keys():\n",
    "        entity2content[j.get('entity_one_transformed')]['sentence']=entity2content.get(j.get('entity_one_transformed')).get('sentence')+[j.get('sentence')]\n",
    "        entity2content[j.get('entity_one_transformed')]['PMID']=entity2content.get(j.get('entity_one_transformed')).get('PMID')+[j.get('PMID')]\n",
    "        entity2content[j.get('entity_one_transformed')]['entity']=entity2content.get(j.get('entity_one_transformed')).get('entity')+[j.get('entity_one')]\n",
    "        entity2content[j.get('entity_one_transformed')]['DP']=entity2content.get(j.get('entity_one_transformed')).get('DP')+[pubtator_info_dict.get(j.get('PMID')).get('DP')]\n",
    "        entity2content[j.get('entity_one_transformed')]['TI']=entity2content.get(j.get('entity_one_transformed')).get('TI')+[pubtator_info_dict.get(j.get('PMID')).get('TI')]\n",
    "        entity2content[j.get('entity_one_transformed')]['TA']=entity2content.get(j.get('entity_one_transformed')).get('TA')+[pubtator_info_dict.get(j.get('PMID')).get('TA')]\n",
    "        entity2content[j.get('entity_one_transformed')]['date']=entity2content.get(j.get('entity_one_transformed')).get('date')+[cal_date(pubtator_info_dict.get(j.get('PMID')).get('DP'))]\n",
    "        entity2content[j.get('entity_one_transformed')]['IF']=entity2content.get(j.get('entity_one_transformed')).get('IF')+[j.get('IF')]\n",
    "        entity2content[j.get('entity_one_transformed')]['IF5']=entity2content.get(j.get('entity_one_transformed')).get('IF5')+[j.get('IF5')]\n",
    "    else:\n",
    "        entity2content[j.get('entity_one_transformed')]={'entity_transformed':j.get('entity_one_transformed'),'entity':[j.get('entity_one')],'sentence':[j.get('sentence')],'PMID':[j.get('PMID')],\n",
    "                                                         'DP':[pubtator_info_dict.get(j.get('PMID')).get('DP')],'TI':[pubtator_info_dict.get(j.get('PMID')).get('TI')],\n",
    "                                                        'TA':[pubtator_info_dict.get(j.get('PMID')).get('TA')],'date':[cal_date(pubtator_info_dict.get(j.get('PMID')).get('DP'))],\n",
    "                                                        'IF':[j.get('IF')],'IF5':[j.get('IF5')]}\n",
    "    if j.get('entity_two_transformed') in entity2content.keys():\n",
    "        entity2content[j.get('entity_two_transformed')]['sentence']=entity2content.get(j.get('entity_two_transformed')).get('sentence')+[j.get('sentence')]\n",
    "        entity2content[j.get('entity_two_transformed')]['PMID']=entity2content.get(j.get('entity_two_transformed')).get('PMID')+[j.get('PMID')]\n",
    "        entity2content[j.get('entity_two_transformed')]['entity']=entity2content.get(j.get('entity_two_transformed')).get('entity')+[j.get('entity_two')]\n",
    "        entity2content[j.get('entity_two_transformed')]['DP']=entity2content.get(j.get('entity_two_transformed')).get('DP')+[pubtator_info_dict.get(j.get('PMID')).get('DP')]\n",
    "        entity2content[j.get('entity_two_transformed')]['TI']=entity2content.get(j.get('entity_two_transformed')).get('TI')+[pubtator_info_dict.get(j.get('PMID')).get('TI')]\n",
    "        entity2content[j.get('entity_two_transformed')]['TA']=entity2content.get(j.get('entity_two_transformed')).get('TA')+[pubtator_info_dict.get(j.get('PMID')).get('TA')]\n",
    "        entity2content[j.get('entity_two_transformed')]['date']=entity2content.get(j.get('entity_two_transformed')).get('date')+[cal_date(pubtator_info_dict.get(j.get('PMID')).get('DP'))]\n",
    "        entity2content[j.get('entity_two_transformed')]['IF']=entity2content.get(j.get('entity_two_transformed')).get('IF')+[j.get('IF')]\n",
    "        entity2content[j.get('entity_two_transformed')]['IF5']=entity2content.get(j.get('entity_two_transformed')).get('IF5')+[j.get('IF5')]\n",
    "    else:\n",
    "        entity2content[j.get('entity_two_transformed')]={'entity_transformed':j.get('entity_two_transformed'),'entity':[j.get('entity_two')],'sentence':[j.get('sentence')],'PMID':[j.get('PMID')],\n",
    "                                                         'DP':[pubtator_info_dict.get(j.get('PMID')).get('DP')],'TI':[pubtator_info_dict.get(j.get('PMID')).get('TI')],\n",
    "                                                        'TA':[pubtator_info_dict.get(j.get('PMID')).get('TA')],'date':[cal_date(pubtator_info_dict.get(j.get('PMID')).get('DP'))],\n",
    "                                                        'IF':[j.get('IF')],'IF5':[j.get('IF5')]}"
   ]
  },
  {
   "cell_type": "code",
   "execution_count": 93,
   "id": "f680a4e3-7be1-410a-92be-30f1a1410f3c",
   "metadata": {},
   "outputs": [
    {
     "data": {
      "text/plain": [
       "6254"
      ]
     },
     "execution_count": 93,
     "metadata": {},
     "output_type": "execute_result"
    }
   ],
   "source": [
    "# 9480\n",
    "len(entity2content)"
   ]
  },
  {
   "cell_type": "markdown",
   "id": "1c0548d5-c653-4896-afdc-6dc4c2ae639e",
   "metadata": {},
   "source": [
    "list(entity2content.items())[1041]"
   ]
  },
  {
   "cell_type": "code",
   "execution_count": 94,
   "id": "7e1f42c3-08e0-48d5-8e76-9caa84a048d3",
   "metadata": {},
   "outputs": [],
   "source": [
    "entity2list=list(entity2content.values())"
   ]
  },
  {
   "cell_type": "markdown",
   "id": "0ff6ee4e-8c25-47a6-80fb-ec7e3a4c0276",
   "metadata": {},
   "source": [
    "entity2list[1001]"
   ]
  },
  {
   "cell_type": "code",
   "execution_count": 95,
   "id": "8fed53ff-496d-429c-a1fd-9c553cc9c7c7",
   "metadata": {},
   "outputs": [
    {
     "data": {
      "text/plain": [
       "6254"
      ]
     },
     "execution_count": 95,
     "metadata": {},
     "output_type": "execute_result"
    }
   ],
   "source": [
    "len(entity2list)"
   ]
  },
  {
   "cell_type": "code",
   "execution_count": 96,
   "id": "e6af434a-0c6f-40c7-abb0-48cfa50c1bf1",
   "metadata": {},
   "outputs": [],
   "source": [
    "for i in entity2list:\n",
    "    i['_id']=i.get('entity_transformed')"
   ]
  },
  {
   "cell_type": "code",
   "execution_count": 97,
   "id": "a942e5cb-92a5-41c5-88a6-7e67ac2b486f",
   "metadata": {},
   "outputs": [
    {
     "data": {
      "text/plain": [
       "'Gene'"
      ]
     },
     "execution_count": 97,
     "metadata": {},
     "output_type": "execute_result"
    }
   ],
   "source": [
    "entitydict.get(entity2list[0].get('entity_transformed'))"
   ]
  },
  {
   "cell_type": "code",
   "execution_count": 98,
   "id": "0f5cd222-86d7-40af-a796-813c657e78a8",
   "metadata": {},
   "outputs": [],
   "source": [
    "for i in entity2list:\n",
    "    i['type']=entitydict.get(i.get('entity_transformed')).split(';')"
   ]
  },
  {
   "cell_type": "code",
   "execution_count": 99,
   "id": "8ff13702-ce09-48fe-adc6-cff3c22bdab8",
   "metadata": {},
   "outputs": [
    {
     "data": {
      "text/plain": [
       "{'entity_transformed': 'rs1001179',\n",
       " 'entity': ['rs1001179'],\n",
       " 'sentence': ['Association of SOD1 50 bp Indel, GPX1 (rs1800668), and CAT (rs1001179) genotypes with all clinical variables was investigated in cataract groups by regression statistics in SPSS  16.0.'],\n",
       " 'PMID': ['35556207'],\n",
       " 'DP': ['2022 Sep'],\n",
       " 'TI': ['Clinical Association of Biochemical Variations Among Multilocus Genotypes of Antioxidant Enzymes with Susceptibility of Cataract in Hyperglycemia.'],\n",
       " 'TA': ['Appl Biochem Biotechnol'],\n",
       " 'date': [20220901],\n",
       " 'IF': [3.094],\n",
       " 'IF5': [2.973],\n",
       " '_id': 'rs1001179',\n",
       " 'type': ['Mutation']}"
      ]
     },
     "execution_count": 99,
     "metadata": {},
     "output_type": "execute_result"
    }
   ],
   "source": [
    "entity2list[10]"
   ]
  },
  {
   "cell_type": "code",
   "execution_count": 100,
   "id": "90ad8f14-2cbb-4679-a947-2271ec4f55db",
   "metadata": {},
   "outputs": [
    {
     "data": {
      "text/plain": [
       "6254"
      ]
     },
     "execution_count": 100,
     "metadata": {},
     "output_type": "execute_result"
    }
   ],
   "source": [
    "len(entity2list)"
   ]
  },
  {
   "cell_type": "code",
   "execution_count": 101,
   "id": "e3c37627-f2de-4b85-9dd3-f28068480cad",
   "metadata": {},
   "outputs": [],
   "source": [
    "import json\n",
    "json.dump(entity2list,open('results/step4/entityinfo.json','w'))"
   ]
  },
  {
   "cell_type": "code",
   "execution_count": 102,
   "id": "b0474747-bc15-4060-acc8-67aae5eb6c59",
   "metadata": {},
   "outputs": [
    {
     "name": "stdout",
     "output_type": "stream",
     "text": [
      "['Carbohydrate', 'Lipid', 'Toxin']\n"
     ]
    }
   ],
   "source": [
    "for i in entity2list:\n",
    "    if i.get('entity_transformed')=='Lipopolysaccharides':\n",
    "        print(i.get('type'))"
   ]
  },
  {
   "cell_type": "code",
   "execution_count": 103,
   "id": "24e55d5d-95cb-4f37-bf82-d886430a8674",
   "metadata": {},
   "outputs": [
    {
     "data": {
      "text/plain": [
       "[(('SF3B1', 'lead', 'EIF2AK1'),\n",
       "  {'from': 0,\n",
       "   'to': 1,\n",
       "   'relation': 'lead',\n",
       "   'PMID': ['35926182'],\n",
       "   'sentence': ['Here, using single-cell technologies and functional validation studies of primary SF3B1-mutant MDS-RS samples, we show that SF3B1 mutations lead to the activation of the EIF2AK1 pathway in response to heme deficiency and that targeting this pathway rescues aberrant erythroid differentiation and enables the red blood cell maturation of MDS-RS erythroblasts.'],\n",
       "   'DP': ['2022 Nov 2'],\n",
       "   'TI': ['Targeting the EIF2AK1 Signaling Pathway Rescues Red Blood Cell Production in SF3B1-Mutant Myelodysplastic Syndromes With Ringed Sideroblasts.'],\n",
       "   'TA': ['Blood Cancer Discov'],\n",
       "   'IF': [0.0],\n",
       "   'IF5': [0.0],\n",
       "   'date': [20221102],\n",
       "   'first_entity_transformed': 'SF3B1',\n",
       "   'second_entity_transformed': 'EIF2AK1',\n",
       "   'first_entity': ['SF3B1'],\n",
       "   'second_entity': ['EIF2AK1'],\n",
       "   'first_type': ['Gene'],\n",
       "   'second_type': ['Gene']}),\n",
       " (('SF3B1', 'lead', 'Protoporphyria, Erythropoietic'),\n",
       "  {'from': 0,\n",
       "   'to': 2,\n",
       "   'relation': 'lead',\n",
       "   'PMID': ['35926182'],\n",
       "   'sentence': ['Here, using single-cell technologies and functional validation studies of primary SF3B1-mutant MDS-RS samples, we show that SF3B1 mutations lead to the activation of the EIF2AK1 pathway in response to heme deficiency and that targeting this pathway rescues aberrant erythroid differentiation and enables the red blood cell maturation of MDS-RS erythroblasts.'],\n",
       "   'DP': ['2022 Nov 2'],\n",
       "   'TI': ['Targeting the EIF2AK1 Signaling Pathway Rescues Red Blood Cell Production in SF3B1-Mutant Myelodysplastic Syndromes With Ringed Sideroblasts.'],\n",
       "   'TA': ['Blood Cancer Discov'],\n",
       "   'IF': [0.0],\n",
       "   'IF5': [0.0],\n",
       "   'date': [20221102],\n",
       "   'first_entity_transformed': 'SF3B1',\n",
       "   'second_entity_transformed': 'Protoporphyria, Erythropoietic',\n",
       "   'first_entity': ['SF3B1'],\n",
       "   'second_entity': ['heme deficiency'],\n",
       "   'first_type': ['Gene'],\n",
       "   'second_type': ['Disease']}),\n",
       " (('SOD1', 'indicate', 'GPX1'),\n",
       "  {'from': 3,\n",
       "   'to': 4,\n",
       "   'relation': 'indicate',\n",
       "   'PMID': ['35556207'],\n",
       "   'sentence': ['Mutant genotype of SOD1 and CAT variants indicated significant association with TC, whereas GPX1 variant with FBG levels in accelerating predisposition of cataract in patients with diabetes (OR > 1.0).'],\n",
       "   'DP': ['2022 Sep'],\n",
       "   'TI': ['Clinical Association of Biochemical Variations Among Multilocus Genotypes of Antioxidant Enzymes with Susceptibility of Cataract in Hyperglycemia.'],\n",
       "   'TA': ['Appl Biochem Biotechnol'],\n",
       "   'IF': [3.094],\n",
       "   'IF5': [2.973],\n",
       "   'date': [20220901],\n",
       "   'first_entity_transformed': 'SOD1',\n",
       "   'second_entity_transformed': 'GPX1',\n",
       "   'first_entity': ['SOD1'],\n",
       "   'second_entity': ['GPX1'],\n",
       "   'first_type': ['Gene'],\n",
       "   'second_type': ['Gene']})]"
      ]
     },
     "execution_count": 103,
     "metadata": {},
     "output_type": "execute_result"
    }
   ],
   "source": [
    "list(relation_interpolation_dict.items())[:3]"
   ]
  },
  {
   "cell_type": "code",
   "execution_count": 104,
   "id": "abf9a047-960b-43bb-9116-2a89006581b9",
   "metadata": {},
   "outputs": [
    {
     "data": {
      "text/plain": [
       "{'from': 10,\n",
       " 'to': 5,\n",
       " 'relation': 'investigated',\n",
       " 'PMID': ['35556207'],\n",
       " 'sentence': ['Association of SOD1 50 bp Indel, GPX1 (rs1800668), and CAT (rs1001179) genotypes with all clinical variables was investigated in cataract groups by regression statistics in SPSS  16.0.'],\n",
       " 'DP': ['2022 Sep'],\n",
       " 'TI': ['Clinical Association of Biochemical Variations Among Multilocus Genotypes of Antioxidant Enzymes with Susceptibility of Cataract in Hyperglycemia.'],\n",
       " 'TA': ['Appl Biochem Biotechnol'],\n",
       " 'IF': [3.094],\n",
       " 'IF5': [2.973],\n",
       " 'date': [20220901],\n",
       " 'first_entity_transformed': 'rs1001179',\n",
       " 'second_entity_transformed': 'Cataract',\n",
       " 'first_entity': ['rs1001179'],\n",
       " 'second_entity': ['cataract'],\n",
       " 'first_type': ['Mutation'],\n",
       " 'second_type': ['Disease']}"
      ]
     },
     "execution_count": 104,
     "metadata": {},
     "output_type": "execute_result"
    }
   ],
   "source": [
    "relation_interpolation_list[10]"
   ]
  },
  {
   "cell_type": "code",
   "execution_count": 105,
   "id": "7b231a5b-6fa2-459c-b712-05e1b3472b1b",
   "metadata": {},
   "outputs": [
    {
     "data": {
      "text/plain": [
       "100258"
      ]
     },
     "execution_count": 105,
     "metadata": {},
     "output_type": "execute_result"
    }
   ],
   "source": [
    "len(relation_interpolation_list)"
   ]
  },
  {
   "cell_type": "code",
   "execution_count": 106,
   "id": "bf4672bb-c5f0-4c1c-8095-b56f29bfb021",
   "metadata": {},
   "outputs": [],
   "source": [
    "json.dump(relation_interpolation_list,open('results/step4/relationinfo.json','w'))"
   ]
  },
  {
   "cell_type": "code",
   "execution_count": 107,
   "id": "89f8672d-7c6c-4750-aaca-58d9668e9f02",
   "metadata": {},
   "outputs": [
    {
     "data": {
      "text/plain": [
       "{'from': 82,\n",
       " 'to': 96,\n",
       " 'relation': 'enforce',\n",
       " 'PMID': ['35811457'],\n",
       " 'sentence': ['siRNA-mediated knockdown of SIRT1 and SIRT6 in hASCs from lean adults increased the expression of pro-inflammatory and glycolysis-related markers, and enforced glycogen deposition by overexpression of protein targeting to glycogen (PTG) led to a downregulation of SIRT1/6 protein levels, mimicking the inflammatory state of hASCs from elderly subjects.'],\n",
       " 'DP': ['2022 Aug'],\n",
       " 'TI': ['Glycogen accumulation in adipocyte precursors from elderly and obese subjects triggers inflammation via SIRT1/6 signaling.'],\n",
       " 'TA': ['Aging Cell'],\n",
       " 'IF': [11.005],\n",
       " 'IF5': [11.072],\n",
       " 'date': [20220801],\n",
       " 'first_entity_transformed': 'SIRT6',\n",
       " 'second_entity_transformed': 'Glycogen',\n",
       " 'first_entity': ['SIRT6'],\n",
       " 'second_entity': ['glycogen'],\n",
       " 'first_type': ['Gene'],\n",
       " 'second_type': ['Carbohydrate']}"
      ]
     },
     "execution_count": 107,
     "metadata": {},
     "output_type": "execute_result"
    }
   ],
   "source": [
    "relation_interpolation_list[100]"
   ]
  },
  {
   "cell_type": "code",
   "execution_count": 108,
   "id": "c5abfc35-f2dd-4408-a7c2-e9c4883be93f",
   "metadata": {},
   "outputs": [
    {
     "data": {
      "text/plain": [
       "100258"
      ]
     },
     "execution_count": 108,
     "metadata": {},
     "output_type": "execute_result"
    }
   ],
   "source": [
    "len(relation_interpolation_list)"
   ]
  },
  {
   "cell_type": "code",
   "execution_count": 109,
   "id": "c3194271-ae0a-4396-b154-4ea183f6c4a5",
   "metadata": {},
   "outputs": [
    {
     "data": {
      "text/plain": [
       "124471"
      ]
     },
     "execution_count": 109,
     "metadata": {},
     "output_type": "execute_result"
    }
   ],
   "source": [
    "len(triplelistnew)"
   ]
  },
  {
   "cell_type": "code",
   "execution_count": 110,
   "id": "2d3d05db-db3b-4b5d-8c9d-4b8c5c8379b6",
   "metadata": {},
   "outputs": [],
   "source": [
    "csvf_entity = open(\"results/step4/entity.csv\", \"w\", newline='', encoding='utf-8')\n",
    "\n",
    "w_entity = csv.writer(csvf_entity)"
   ]
  },
  {
   "cell_type": "code",
   "execution_count": 111,
   "id": "2cd32075-42fe-48e5-ac93-656954f3255e",
   "metadata": {},
   "outputs": [
    {
     "data": {
      "text/plain": [
       "37"
      ]
     },
     "execution_count": 111,
     "metadata": {},
     "output_type": "execute_result"
    }
   ],
   "source": [
    "w_entity.writerow((\"entity:ID\", \"name\",\"type\",\"pagerank\",\":LABEL\"))"
   ]
  },
  {
   "cell_type": "code",
   "execution_count": 112,
   "id": "10618bc5-e703-4c4e-aa51-358a7e35f675",
   "metadata": {},
   "outputs": [],
   "source": [
    "for i,j in entitydict.items():\n",
    "    # if entity2content.get(i):\n",
    "    w_entity.writerow((entitynum.get(i), i,j,int(entity_countnum.get(i)),j))\n"
   ]
  },
  {
   "cell_type": "code",
   "execution_count": 113,
   "id": "00ca847a-1bcb-47e2-8d98-6e987ca6fd7c",
   "metadata": {},
   "outputs": [],
   "source": [
    "csvf_entity.close()"
   ]
  },
  {
   "cell_type": "code",
   "execution_count": 114,
   "id": "7cd488e2-3d85-4bf1-9104-436acbba073e",
   "metadata": {},
   "outputs": [],
   "source": [
    "entitycsv=pd.read_csv('results/step4/entity.csv')"
   ]
  },
  {
   "cell_type": "code",
   "execution_count": 115,
   "id": "66790e97-6796-49b7-953f-82db10cba240",
   "metadata": {},
   "outputs": [
    {
     "data": {
      "text/html": [
       "<div>\n",
       "<style scoped>\n",
       "    .dataframe tbody tr th:only-of-type {\n",
       "        vertical-align: middle;\n",
       "    }\n",
       "\n",
       "    .dataframe tbody tr th {\n",
       "        vertical-align: top;\n",
       "    }\n",
       "\n",
       "    .dataframe thead th {\n",
       "        text-align: right;\n",
       "    }\n",
       "</style>\n",
       "<table border=\"1\" class=\"dataframe\">\n",
       "  <thead>\n",
       "    <tr style=\"text-align: right;\">\n",
       "      <th></th>\n",
       "      <th>entity:ID</th>\n",
       "      <th>name</th>\n",
       "      <th>type</th>\n",
       "      <th>pagerank</th>\n",
       "      <th>:LABEL</th>\n",
       "    </tr>\n",
       "  </thead>\n",
       "  <tbody>\n",
       "    <tr>\n",
       "      <th>0</th>\n",
       "      <td>1</td>\n",
       "      <td>SF3B1</td>\n",
       "      <td>Gene</td>\n",
       "      <td>5</td>\n",
       "      <td>Gene</td>\n",
       "    </tr>\n",
       "    <tr>\n",
       "      <th>1</th>\n",
       "      <td>2</td>\n",
       "      <td>EIF2AK1</td>\n",
       "      <td>Gene</td>\n",
       "      <td>3</td>\n",
       "      <td>Gene</td>\n",
       "    </tr>\n",
       "    <tr>\n",
       "      <th>2</th>\n",
       "      <td>3</td>\n",
       "      <td>Protoporphyria, Erythropoietic</td>\n",
       "      <td>Disease</td>\n",
       "      <td>6</td>\n",
       "      <td>Disease</td>\n",
       "    </tr>\n",
       "  </tbody>\n",
       "</table>\n",
       "</div>"
      ],
      "text/plain": [
       "   entity:ID                            name     type  pagerank   :LABEL\n",
       "0          1                           SF3B1     Gene         5     Gene\n",
       "1          2                         EIF2AK1     Gene         3     Gene\n",
       "2          3  Protoporphyria, Erythropoietic  Disease         6  Disease"
      ]
     },
     "execution_count": 115,
     "metadata": {},
     "output_type": "execute_result"
    }
   ],
   "source": [
    "entitycsv[:3]"
   ]
  },
  {
   "cell_type": "code",
   "execution_count": 116,
   "id": "b5b40aa9-3817-4f33-8e17-e190d494da29",
   "metadata": {},
   "outputs": [
    {
     "data": {
      "text/plain": [
       "6254"
      ]
     },
     "execution_count": 116,
     "metadata": {},
     "output_type": "execute_result"
    }
   ],
   "source": [
    "len(entitycsv)"
   ]
  },
  {
   "cell_type": "code",
   "execution_count": 117,
   "id": "645fedbb-8d9a-4cbc-a0da-97f62b7173aa",
   "metadata": {},
   "outputs": [],
   "source": [
    "csvf_entity = open(\"results/step4/roles.csv\", \"w\", newline='', encoding='utf-8')\n",
    "\n",
    "w_entity = csv.writer(csvf_entity)"
   ]
  },
  {
   "cell_type": "code",
   "execution_count": 118,
   "id": "1ece3295-ddc7-4a43-876e-677ea05801e9",
   "metadata": {},
   "outputs": [
    {
     "data": {
      "text/plain": [
       "41"
      ]
     },
     "execution_count": 118,
     "metadata": {},
     "output_type": "execute_result"
    }
   ],
   "source": [
    "w_entity.writerow((':START_ID', ':END_ID', \"relation\", \"weight\",\":TYPE\" ))"
   ]
  },
  {
   "cell_type": "markdown",
   "id": "e0b338de-5efe-4323-89eb-1d48b41c29bb",
   "metadata": {},
   "source": [
    "entitynotsame=[]\n",
    "for i in triplelistnew:\n",
    "    if i.get('entity_one_transformed')!=i.get('entity_two_transformed'):\n",
    "        if (i.get('entity_one_transformed'),i.get('triple')[1], i.get('entity_two_transformed')) not in entitynotsame:\n",
    "            w_entity.writerow((  entitynum.get(i.get('entity_one_transformed')),entitynum.get(i.get('entity_two_transformed')), i.get('triple')[1],int(tripleWeight.get((i.get('entity_one_transformed'),i.get('triple')[1].lower(), i.get('entity_two_transformed')))), i.get('triple')[1]   ))\n",
    "        else:\n",
    "            continue\n",
    "        entitynotsame.append((i.get('entity_one_transformed'),i.get('triple')[1], i.get('entity_two_transformed')))"
   ]
  },
  {
   "cell_type": "code",
   "execution_count": 119,
   "id": "bda981ca-cd8d-43e4-ae9f-94dd996a37b1",
   "metadata": {},
   "outputs": [],
   "source": [
    "entitynotsame={}\n",
    "for i in triplelistnew:\n",
    "    if i.get('entity_one_transformed')!=i.get('entity_two_transformed'):\n",
    "        if not entitynotsame.get((i.get('entity_one_transformed'),i.get('triple')[1].lower(), i.get('entity_two_transformed'))) :\n",
    "            w_entity.writerow((  entitynum.get(i.get('entity_one_transformed')),entitynum.get(i.get('entity_two_transformed')), i.get('triple')[1].lower(),int(tripleWeight.get((i.get('entity_one_transformed'),i.get('triple')[1].lower(), i.get('entity_two_transformed')))), i.get('triple')[1]   ))\n",
    "        else:\n",
    "            continue\n",
    "        entitynotsame[(i.get('entity_one_transformed'),i.get('triple')[1].lower(), i.get('entity_two_transformed'))]=True"
   ]
  },
  {
   "cell_type": "code",
   "execution_count": 120,
   "id": "33bc50a6-b450-43b3-958a-49136b33e5e4",
   "metadata": {},
   "outputs": [
    {
     "data": {
      "text/plain": [
       "867"
      ]
     },
     "execution_count": 120,
     "metadata": {},
     "output_type": "execute_result"
    }
   ],
   "source": [
    "entitynum.get('APOE')"
   ]
  },
  {
   "cell_type": "code",
   "execution_count": 121,
   "id": "f0e0ae29-bfd9-4ec4-a0ce-dafee91b6316",
   "metadata": {},
   "outputs": [],
   "source": [
    "csvf_entity.close()"
   ]
  },
  {
   "cell_type": "code",
   "execution_count": null,
   "id": "0f24f2c5-98bb-41a7-8bf4-48354fe34f8f",
   "metadata": {},
   "outputs": [],
   "source": []
  },
  {
   "cell_type": "code",
   "execution_count": null,
   "id": "8f66acff-8fd0-4685-bf67-eb4c5d956083",
   "metadata": {},
   "outputs": [],
   "source": []
  },
  {
   "cell_type": "code",
   "execution_count": 122,
   "id": "b17d1bd4-daba-45e7-ad18-5555e7b4523a",
   "metadata": {},
   "outputs": [],
   "source": [
    "import pandas as pd"
   ]
  },
  {
   "cell_type": "code",
   "execution_count": 123,
   "id": "05b87ee5-4d73-444d-8920-12e69f560287",
   "metadata": {},
   "outputs": [],
   "source": [
    "roles=pd.read_csv(\"results/step4/roles.csv\")"
   ]
  },
  {
   "cell_type": "code",
   "execution_count": 124,
   "id": "5a082981-e2b7-4853-a62a-9a9628e548b0",
   "metadata": {},
   "outputs": [
    {
     "data": {
      "text/html": [
       "<div>\n",
       "<style scoped>\n",
       "    .dataframe tbody tr th:only-of-type {\n",
       "        vertical-align: middle;\n",
       "    }\n",
       "\n",
       "    .dataframe tbody tr th {\n",
       "        vertical-align: top;\n",
       "    }\n",
       "\n",
       "    .dataframe thead th {\n",
       "        text-align: right;\n",
       "    }\n",
       "</style>\n",
       "<table border=\"1\" class=\"dataframe\">\n",
       "  <thead>\n",
       "    <tr style=\"text-align: right;\">\n",
       "      <th></th>\n",
       "      <th>:START_ID</th>\n",
       "      <th>:END_ID</th>\n",
       "      <th>relation</th>\n",
       "      <th>weight</th>\n",
       "      <th>:TYPE</th>\n",
       "    </tr>\n",
       "  </thead>\n",
       "  <tbody>\n",
       "    <tr>\n",
       "      <th>0</th>\n",
       "      <td>1</td>\n",
       "      <td>2</td>\n",
       "      <td>lead</td>\n",
       "      <td>1</td>\n",
       "      <td>lead</td>\n",
       "    </tr>\n",
       "    <tr>\n",
       "      <th>1</th>\n",
       "      <td>1</td>\n",
       "      <td>3</td>\n",
       "      <td>lead</td>\n",
       "      <td>1</td>\n",
       "      <td>lead</td>\n",
       "    </tr>\n",
       "    <tr>\n",
       "      <th>2</th>\n",
       "      <td>4</td>\n",
       "      <td>5</td>\n",
       "      <td>indicate</td>\n",
       "      <td>1</td>\n",
       "      <td>indicate</td>\n",
       "    </tr>\n",
       "    <tr>\n",
       "      <th>3</th>\n",
       "      <td>5</td>\n",
       "      <td>6</td>\n",
       "      <td>investigated</td>\n",
       "      <td>1</td>\n",
       "      <td>investigated</td>\n",
       "    </tr>\n",
       "    <tr>\n",
       "      <th>4</th>\n",
       "      <td>7</td>\n",
       "      <td>5</td>\n",
       "      <td>indicate</td>\n",
       "      <td>1</td>\n",
       "      <td>indicate</td>\n",
       "    </tr>\n",
       "  </tbody>\n",
       "</table>\n",
       "</div>"
      ],
      "text/plain": [
       "   :START_ID  :END_ID      relation  weight         :TYPE\n",
       "0          1        2          lead       1          lead\n",
       "1          1        3          lead       1          lead\n",
       "2          4        5      indicate       1      indicate\n",
       "3          5        6  investigated       1  investigated\n",
       "4          7        5      indicate       1      indicate"
      ]
     },
     "execution_count": 124,
     "metadata": {},
     "output_type": "execute_result"
    }
   ],
   "source": [
    "roles.head()"
   ]
  },
  {
   "cell_type": "code",
   "execution_count": 125,
   "id": "ac06d7ef-868e-4817-a354-40cb8826911b",
   "metadata": {},
   "outputs": [],
   "source": [
    "relation_list=roles.relation.to_list()"
   ]
  },
  {
   "cell_type": "code",
   "execution_count": 126,
   "id": "71010f2d-41bc-4ead-b92c-5a642c8874b8",
   "metadata": {},
   "outputs": [
    {
     "data": {
      "text/plain": [
       "list"
      ]
     },
     "execution_count": 126,
     "metadata": {},
     "output_type": "execute_result"
    }
   ],
   "source": [
    "type(relation_list)"
   ]
  },
  {
   "cell_type": "code",
   "execution_count": 127,
   "id": "a9231304-fef3-4fbd-87f3-feefa1f4fed9",
   "metadata": {},
   "outputs": [
    {
     "data": {
      "text/plain": [
       "['lead', 'lead', 'indicate']"
      ]
     },
     "execution_count": 127,
     "metadata": {},
     "output_type": "execute_result"
    }
   ],
   "source": [
    "relation_list[:3]"
   ]
  },
  {
   "cell_type": "code",
   "execution_count": 128,
   "id": "150e76d7-a0d3-4b1f-b1cb-f3ea6439e044",
   "metadata": {},
   "outputs": [
    {
     "data": {
      "text/plain": [
       "100255"
      ]
     },
     "execution_count": 128,
     "metadata": {},
     "output_type": "execute_result"
    }
   ],
   "source": [
    "#100615\n",
    "len(relation_list)"
   ]
  },
  {
   "cell_type": "code",
   "execution_count": null,
   "id": "d958ec6d-917d-4078-89d6-e6a663b5aec0",
   "metadata": {},
   "outputs": [],
   "source": []
  },
  {
   "cell_type": "code",
   "execution_count": 129,
   "id": "851a4b18-615d-4f65-9f9a-2e140c41c29c",
   "metadata": {},
   "outputs": [
    {
     "data": {
      "text/plain": [
       "3257"
      ]
     },
     "execution_count": 129,
     "metadata": {},
     "output_type": "execute_result"
    }
   ],
   "source": [
    "len(set(relation_list))"
   ]
  },
  {
   "cell_type": "code",
   "execution_count": null,
   "id": "48cd2954-f37e-42c3-9d76-c25013a2da5c",
   "metadata": {},
   "outputs": [],
   "source": []
  },
  {
   "cell_type": "code",
   "execution_count": 130,
   "id": "a4c4a0c4-615a-4215-9deb-283442f794ad",
   "metadata": {},
   "outputs": [],
   "source": [
    "relation_list_set=pd.read_csv('../classofrelations/relation_list_set.csv',header=None,names=['word'])"
   ]
  },
  {
   "cell_type": "code",
   "execution_count": 131,
   "id": "cda77c53-58c9-40ec-a37e-a6241dbd4011",
   "metadata": {},
   "outputs": [],
   "source": [
    "\n",
    "relation_list_set_dict={}\n",
    "for i in relation_list_set['word'].to_list():\n",
    "    relation_list_set_dict[i.lower()]=True"
   ]
  },
  {
   "cell_type": "code",
   "execution_count": 132,
   "id": "9ddfcb9f-434d-4683-8354-8669fd99af0f",
   "metadata": {},
   "outputs": [],
   "source": [
    "positive_relations=pd.read_csv('../classofrelations/positive-relations.csv',header=None,names=['word'])"
   ]
  },
  {
   "cell_type": "code",
   "execution_count": 133,
   "id": "cf27ebc9-a6ca-48d5-816d-c29ec16d256e",
   "metadata": {},
   "outputs": [],
   "source": [
    "\n",
    "positive_relations_dict={}\n",
    "for i in positive_relations['word'].to_list():\n",
    "    positive_relations_dict[i.lower()]=True"
   ]
  },
  {
   "cell_type": "code",
   "execution_count": 134,
   "id": "e0e5ad5f-d6de-446f-a2df-adeb1aad68d8",
   "metadata": {},
   "outputs": [],
   "source": [
    "negative_relations=pd.read_csv('../classofrelations/negative-relations.csv',header=None,names=['word'])"
   ]
  },
  {
   "cell_type": "code",
   "execution_count": 135,
   "id": "0cb7b68c-4046-4c21-a3fa-78b7f20938c6",
   "metadata": {},
   "outputs": [],
   "source": [
    "\n",
    "negative_relations_dict={}\n",
    "for i in negative_relations['word'].to_list():\n",
    "    negative_relations_dict[i.lower()]=True"
   ]
  },
  {
   "cell_type": "code",
   "execution_count": 136,
   "id": "cdccc83d-664f-4540-90cc-0c8276869c06",
   "metadata": {},
   "outputs": [
    {
     "data": {
      "text/plain": [
       "['impede', 'postpon', 'be potential targets for', 'impede']"
      ]
     },
     "execution_count": 136,
     "metadata": {},
     "output_type": "execute_result"
    }
   ],
   "source": [
    "negative_relations['word'].to_list()[-5:-1]"
   ]
  },
  {
   "cell_type": "code",
   "execution_count": 137,
   "id": "31ddc5fa-a93a-4896-9cef-5caede5473c6",
   "metadata": {},
   "outputs": [
    {
     "data": {
      "text/plain": [
       "{'triple': ['SF3B1', 'lead', 'EIF2AK1'],\n",
       " 'PMID': '35926182',\n",
       " 'sentence': 'Here, using single-cell technologies and functional validation studies of primary SF3B1-mutant MDS-RS samples, we show that SF3B1 mutations lead to the activation of the EIF2AK1 pathway in response to heme deficiency and that targeting this pathway rescues aberrant erythroid differentiation and enables the red blood cell maturation of MDS-RS erythroblasts.',\n",
       " 'AB': 'SF3B1 mutations, which occur in 20% of patients with myelodysplastic syndromes (MDS), are the hallmarks of a specific MDS subtype, MDS with ringed sideroblasts (MDS-RS), which is characterized by the accumulation of erythroid precursors in the bone marrow and primarily affects the elderly population. Here, using single-cell technologies and functional validation studies of primary SF3B1-mutant MDS-RS samples, we show that SF3B1 mutations lead to the activation of the EIF2AK1 pathway in response to heme deficiency and that targeting this pathway rescues aberrant erythroid differentiation and enables the red blood cell maturation of MDS-RS erythroblasts. These data support the development of EIF2AK1 inhibitors to overcome transfusion dependency in patients with SF3B1-mutant MDS-RS with impaired red blood cell production.',\n",
       " 'entity_one': 'SF3B1',\n",
       " 'entity_one_type': 'Gene',\n",
       " 'entity_two': 'EIF2AK1',\n",
       " 'entity_two_type': 'Gene',\n",
       " 'entity_one_transformed': 'SF3B1',\n",
       " 'entity_two_transformed': 'EIF2AK1',\n",
       " 'transformed_triple': ('SF3B1', 'lead', 'EIF2AK1', '35926182'),\n",
       " 'verb': 'lead',\n",
       " 'IF': 0.0,\n",
       " 'IF5': 0.0}"
      ]
     },
     "execution_count": 137,
     "metadata": {},
     "output_type": "execute_result"
    }
   ],
   "source": [
    "triplelistnew[0]"
   ]
  },
  {
   "cell_type": "code",
   "execution_count": 138,
   "id": "66a1e6bf-7949-4a7e-860e-3c2c12fba3c0",
   "metadata": {},
   "outputs": [],
   "source": [
    "dropout=[]\n",
    "for i in triplelistnew:\n",
    "    if i.get('entity_two_type')=='Disease':\n",
    "        if i.get('entity_one_type')!='Disease':\n",
    "            if i.get('entity_one_transformed')!= i.get('entity_two_transformed'):\n",
    "                if positive_relations_dict.get(i.get('triple')[1].lower()):\n",
    "                    i['partofspeech']='positive'\n",
    "                elif negative_relations_dict.get(i.get('triple')[1].lower()):\n",
    "                    i['partofspeech']='negative'\n",
    "                else:\n",
    "                    i['partofspeech']='none'\n",
    "                    dropout.append(i)"
   ]
  },
  {
   "cell_type": "markdown",
   "id": "9324b05d-77aa-4909-b966-2500c42f6d65",
   "metadata": {},
   "source": []
  },
  {
   "cell_type": "code",
   "execution_count": 139,
   "id": "fbe96d65-7af0-44b6-82c9-77acce4f3988",
   "metadata": {},
   "outputs": [
    {
     "data": {
      "text/plain": [
       "8389"
      ]
     },
     "execution_count": 139,
     "metadata": {},
     "output_type": "execute_result"
    }
   ],
   "source": [
    "len(dropout)"
   ]
  },
  {
   "cell_type": "code",
   "execution_count": null,
   "id": "6e1cab79-630f-44a6-b935-271f7027a1da",
   "metadata": {},
   "outputs": [],
   "source": []
  },
  {
   "cell_type": "code",
   "execution_count": 140,
   "id": "eb789085-619d-4e41-b014-2cb2a72b0202",
   "metadata": {},
   "outputs": [],
   "source": [
    "relation_list=[]\n",
    "disease_list_raw=[]\n",
    "for i in triplelistnew:\n",
    "    if i.get('entity_two_type')=='Disease':\n",
    "        if i.get('entity_one_type')!='Disease':\n",
    "            if i.get('entity_one_transformed')!= i.get('entity_two_transformed'):\n",
    "                relation_list.append(i.get('triple')[1].lower())\n",
    "                # if i.get('partofspeech')=='positive' or i.get('partofspeech')=='negative':\n",
    "                disease_list_raw.append(i)"
   ]
  },
  {
   "cell_type": "code",
   "execution_count": 141,
   "id": "4c76fade-5cba-4469-9aab-0c2326ebc223",
   "metadata": {},
   "outputs": [
    {
     "data": {
      "text/plain": [
       "17157"
      ]
     },
     "execution_count": 141,
     "metadata": {},
     "output_type": "execute_result"
    }
   ],
   "source": [
    "len(relation_list)"
   ]
  },
  {
   "cell_type": "code",
   "execution_count": 142,
   "id": "c7ceb0eb-2f20-4cb2-861f-417259cff9da",
   "metadata": {},
   "outputs": [
    {
     "data": {
      "text/plain": [
       "17157"
      ]
     },
     "execution_count": 142,
     "metadata": {},
     "output_type": "execute_result"
    }
   ],
   "source": [
    "#17230\n",
    "len(disease_list_raw)"
   ]
  },
  {
   "cell_type": "code",
   "execution_count": 143,
   "id": "2c9bdb2f-bda1-4bd1-859c-8d9b21741969",
   "metadata": {},
   "outputs": [],
   "source": [
    "new_relation=set()\n",
    "for i in disease_list_raw:\n",
    "    if not relation_list_set_dict.get(i.get('triple')[1].lower()):\n",
    "        new_relation.add(i.get('triple')[1].lower())"
   ]
  },
  {
   "cell_type": "code",
   "execution_count": 144,
   "id": "c598c52e-48b9-4f26-ab2f-e44aac393660",
   "metadata": {},
   "outputs": [
    {
     "data": {
      "text/plain": [
       "0"
      ]
     },
     "execution_count": 144,
     "metadata": {},
     "output_type": "execute_result"
    }
   ],
   "source": [
    "len(new_relation)"
   ]
  },
  {
   "cell_type": "code",
   "execution_count": 145,
   "id": "fc5ad641-8ba3-45c2-ad6e-4a13d36f00fa",
   "metadata": {},
   "outputs": [
    {
     "data": {
      "text/plain": [
       "set()"
      ]
     },
     "execution_count": 145,
     "metadata": {},
     "output_type": "execute_result"
    }
   ],
   "source": [
    "new_relation"
   ]
  },
  {
   "cell_type": "code",
   "execution_count": 146,
   "id": "45c923c2-a349-4443-ad4d-188cbb3fcdc2",
   "metadata": {},
   "outputs": [
    {
     "data": {
      "text/plain": [
       "1576"
      ]
     },
     "execution_count": 146,
     "metadata": {},
     "output_type": "execute_result"
    }
   ],
   "source": [
    "len(relation_list_set['word'].to_list())"
   ]
  },
  {
   "cell_type": "code",
   "execution_count": 147,
   "id": "fe44922d-ebbb-42ef-b761-ba2152234bee",
   "metadata": {},
   "outputs": [],
   "source": [
    "relation_list_set_new=relation_list_set['word'].to_list()\n",
    "for i in new_relation:\n",
    "    relation_list_set_new.append(i)\n",
    "pd.DataFrame(relation_list_set_new,columns=['word']).to_csv('../classofrelations/relation_list_set.csv')"
   ]
  },
  {
   "cell_type": "code",
   "execution_count": 148,
   "id": "50eb07e9-ad01-4bf1-8cea-08940d1d8a83",
   "metadata": {},
   "outputs": [],
   "source": [
    "pd.DataFrame(relation_list_set_new,columns=['word']).to_csv('results/step4/relation_list_set.csv')"
   ]
  },
  {
   "cell_type": "code",
   "execution_count": null,
   "id": "f0dfd4ec-d212-4c0d-a025-740eb0bc2901",
   "metadata": {},
   "outputs": [],
   "source": []
  },
  {
   "cell_type": "code",
   "execution_count": null,
   "id": "d14169d9-f329-40c8-8543-926d8a203163",
   "metadata": {},
   "outputs": [],
   "source": []
  },
  {
   "cell_type": "markdown",
   "id": "1b65df29-afed-4854-bcf9-8b950216318b",
   "metadata": {},
   "source": [
    "# DEAL WITH new_relation!!!!!!!!!!!!"
   ]
  },
  {
   "cell_type": "code",
   "execution_count": 149,
   "id": "00f7657f-e094-42e6-8a64-06b8b0024077",
   "metadata": {},
   "outputs": [],
   "source": [
    "posit=['ascribed','be transcriptional activator via','reveal causal associations with']\n",
    "negat=['be potential targets for','impede','postpon']\n",
    "# depre=['promising']"
   ]
  },
  {
   "cell_type": "code",
   "execution_count": 150,
   "id": "cd79d3aa-7788-46d4-87a7-683392ba6718",
   "metadata": {},
   "outputs": [
    {
     "name": "stdout",
     "output_type": "stream",
     "text": [
      "{'triple': ['TNFSF12', 'reveal causal associations with', 'sarcopenia'], 'PMID': '36821647', 'sentence': 'In the female population, AT1B2 and TNFSF12 revealed causal associations with sarcopenia risk according to the EWGSOP criterion; HGF revealed a negative association according to the National Institutes of Health criterion.', 'AB': \"BACKGROUND: Identifying sarcopenia's causally associated plasma proteins would provide potential therapeutic targets. METHODS: We screened out sarcopenia-related proteins with genome-wide association studies (GWAS) summary data and cis-protein loci genetic instruments. Summary data of sarcopenia were obtained from a GWAS of 256,523 Europeans aged 60 years and over. The causal effects of the proteins were investigated by cis-Mendelian Randomisation (MR) and multiverse sensitivity analysis. We also explored the robust proteins' causal associations with appendicular lean mass (ALM) and surveyed their druggability and clinical development activities. RESULTS: In sum, 60 proteins from plasma proteome analysis studies and 12 from other studies were enrolled for MR analysis. In the whole population, four proteins (HPT, AT1B2, ISLR2 and TNF12) showed causal associations with the risk of sarcopenia according to the European Working Group on Sarcopenia in Older People (EWGSOP) criterion. In the female population, AT1B2 and TNFSF12 revealed causal associations with sarcopenia risk according to the EWGSOP criterion; HGF revealed a negative association according to the National Institutes of Health criterion. All of them were druggable, and the inhibitors of TNF12 and HGF were evaluated in clinical trials for other diseases. TNF12 also revealed a negative causal association with ALM, whereas HGF was positively causally associated with ALM. CONCLUSIONS: Five druggable plasma proteins revealed causal associations with sarcopenia in the whole or female populations. TNF12 and HGF were the targets of therapeutic agents evaluated in clinical trials, and they were also causally associated with ALM. Our study suggested the potential mechanisms and therapeutic targets for sarcopenia.\", 'entity_one': 'TNFSF12', 'entity_one_type': 'Gene', 'entity_two': 'sarcopenia', 'entity_two_type': 'Disease', 'entity_one_transformed': 'TNFSF12', 'entity_two_transformed': 'Sarcopenia', 'transformed_triple': ('TNFSF12', 'reveal causal associations with', 'sarcopenia', '36821647'), 'verb': 'reveal causal associations with', 'IF': 12.782, 'IF5': 9.954, 'partofspeech': 'positive'}\n"
     ]
    }
   ],
   "source": [
    "for i in disease_list_raw:\n",
    "    if i.get('triple')[1]=='reveal causal associations with':\n",
    "        print(i)\n",
    "        break"
   ]
  },
  {
   "cell_type": "code",
   "execution_count": 151,
   "id": "016b762b-6aca-44b1-a4e2-e5e2577d2a68",
   "metadata": {},
   "outputs": [],
   "source": [
    "positive_relations_new=positive_relations['word'].to_list()\n",
    "for i in posit:\n",
    "    positive_relations_new.append(i)\n",
    "pd.DataFrame(positive_relations_new,columns=['word']).to_csv('../classofrelations/positive-relations.csv')"
   ]
  },
  {
   "cell_type": "code",
   "execution_count": 152,
   "id": "acdbd3ba-57e8-49a7-a931-4f7448c23488",
   "metadata": {},
   "outputs": [],
   "source": [
    "negative_relations_new=negative_relations['word'].to_list()\n",
    "for i in negat:\n",
    "    negative_relations_new.append(i)\n",
    "pd.DataFrame(negative_relations_new,columns=['word']).to_csv('../classofrelations/negative-relations.csv')"
   ]
  },
  {
   "cell_type": "code",
   "execution_count": 153,
   "id": "0f722b57-5e30-4051-9b05-762685c9c139",
   "metadata": {},
   "outputs": [],
   "source": [
    "pd.DataFrame(positive_relations_new,columns=['word']).to_csv('results/step4/positive-relations.csv')\n",
    "pd.DataFrame(negative_relations_new,columns=['word']).to_csv('results/step4/negative-relations.csv')"
   ]
  },
  {
   "cell_type": "code",
   "execution_count": 154,
   "id": "291f60a5-773e-406e-bf21-96ae86b3d91e",
   "metadata": {},
   "outputs": [
    {
     "name": "stdout",
     "output_type": "stream",
     "text": [
      "308\n",
      "229\n"
     ]
    }
   ],
   "source": [
    "print(len(positive_relations_new))\n",
    "print(len(negative_relations_new))"
   ]
  },
  {
   "cell_type": "code",
   "execution_count": 155,
   "id": "2962983e-e5fa-4d78-acc0-8c8b218f57ec",
   "metadata": {},
   "outputs": [
    {
     "data": {
      "text/plain": [
       "['impede', 'postpon', 'be potential targets for', 'impede']"
      ]
     },
     "execution_count": 155,
     "metadata": {},
     "output_type": "execute_result"
    }
   ],
   "source": [
    "negative_relations['word'].to_list()[-5:-1]"
   ]
  },
  {
   "cell_type": "code",
   "execution_count": 156,
   "id": "3daa0915-05bc-455b-bda8-47ed4455b486",
   "metadata": {},
   "outputs": [],
   "source": [
    "\n",
    "positive_relations_new_dict={}\n",
    "for i in positive_relations_new:\n",
    "    positive_relations_new_dict[i.lower()]=True"
   ]
  },
  {
   "cell_type": "code",
   "execution_count": 157,
   "id": "0a756d0b-69a4-45f0-80d1-2f73d65864fa",
   "metadata": {},
   "outputs": [],
   "source": [
    "\n",
    "negative_relations_new_dict={}\n",
    "for i in negative_relations_new:\n",
    "    negative_relations_new_dict[i.lower()]=True"
   ]
  },
  {
   "cell_type": "code",
   "execution_count": 158,
   "id": "34c95391-e7b5-4cc2-8702-463b7776ff3f",
   "metadata": {},
   "outputs": [],
   "source": [
    "dropout=[]\n",
    "disease_list=[]\n",
    "for i in disease_list_raw:\n",
    "    if positive_relations_new_dict.get(i.get('triple')[1].lower()):\n",
    "        i['partofspeech']='positive'\n",
    "        disease_list.append(i)\n",
    "    elif negative_relations_new_dict.get(i.get('triple')[1].lower()):\n",
    "        i['partofspeech']='negative'\n",
    "        disease_list.append(i)\n",
    "    else:\n",
    "        i['partofspeech']='none'\n",
    "        dropout.append(i)"
   ]
  },
  {
   "cell_type": "markdown",
   "id": "5da7a009-9172-4e48-9635-63ae5519eea0",
   "metadata": {},
   "source": [
    "dropout=[]\n",
    "disease_list=[]\n",
    "for i in disease_list_raw:\n",
    "    if i.get('partofspeech')=='positive' or i.get('partofspeech')=='negative':\n",
    "        disease_list.append(i)"
   ]
  },
  {
   "cell_type": "code",
   "execution_count": 159,
   "id": "4a93f0b7-4798-4d00-abf7-3c777ed8f93e",
   "metadata": {},
   "outputs": [
    {
     "data": {
      "text/plain": [
       "8768"
      ]
     },
     "execution_count": 159,
     "metadata": {},
     "output_type": "execute_result"
    }
   ],
   "source": [
    "len(disease_list)"
   ]
  },
  {
   "cell_type": "code",
   "execution_count": null,
   "id": "cd676b07-b4bc-45b7-9a36-91ac067636b4",
   "metadata": {},
   "outputs": [],
   "source": []
  },
  {
   "cell_type": "code",
   "execution_count": 160,
   "id": "c41af5a3-cd67-40f5-83fd-7911214b1d7c",
   "metadata": {},
   "outputs": [],
   "source": [
    "import time\n",
    "import datetime\n",
    "import re\n",
    "dropout=[]\n",
    "months=['Jan','Feb','Mar','Apr','May','Jun','Jul','Aug','Sep','Oct','Nov','Dec']\n",
    "import re\n",
    "\n",
    "for i in disease_list:\n",
    "    j=pubtator_info_dict.get(i.get('PMID')).get('DP')\n",
    "    if re.search('[S,s]upplement',j,flags=re.M|re.I):\n",
    "        j=re.sub('[S,s]upplement.*','',j,flags=re.M|re.I)\n",
    "    j=re.sub('\\s?-\\s?','-',j)\n",
    "    j=re.sub('\\.','',j)\n",
    "    j=re.sub('Aout','Aug',j)\n",
    "    if len(j.split(' '))==3:\n",
    "        try:\n",
    "            date=int(datetime.datetime.strftime(datetime.datetime.strptime(j,'%Y %b %d'), '%Y%m%d'))\n",
    "        except:\n",
    "            if j.split()[1] in months:\n",
    "                if re.search(r'\\d+',j.split()[2],flags=re.M|re.I):\n",
    "                    j=j.split()[0]+' '+j.split()[1]+' '+ re.search(r'\\d+',j.split()[2],flags=re.M|re.I).group()\n",
    "                    try:\n",
    "                        date=int(datetime.datetime.strftime(datetime.datetime.strptime(j,'%Y %b %d'), '%Y%m%d'))\n",
    "                    except:\n",
    "                        j=j[:4]\n",
    "                        date=int(datetime.datetime.strftime(datetime.datetime.strptime(j,'%Y'), '%Y'+'0101'))\n",
    "                        print('***************************************ERROR**********************************************')\n",
    "                else:\n",
    "                    j=j.split()[0]+' '+j.split()[1]+' '+ '1'\n",
    "                    try:\n",
    "                        date=int(datetime.datetime.strftime(datetime.datetime.strptime(j,'%Y %b %d'), '%Y%m%d'))\n",
    "                    except:\n",
    "                        print(j)\n",
    "                        j=j[:4]\n",
    "                        date=int(datetime.datetime.strftime(datetime.datetime.strptime(j,'%Y'), '%Y'+'0101'))\n",
    "            elif j.split()[1] not in months:\n",
    "                if re.search(r'([a-zA-Z]+)[-/]([a-zA-Z]+)',j.split()[1],flags=re.M|re.I) or re.search(r'([a-zA-Z]+)[-/](\\d+)',j.split()[1],flags=re.M|re.I):\n",
    "                    if re.search(r'([a-zA-Z]+)[-/]([a-zA-Z]+)',j.split()[1],flags=re.M|re.I):\n",
    "                        middle=re.search(r'([a-zA-Z]+)[-/]([a-zA-Z]+)',j.split()[1],flags=re.M|re.I).group(1)\n",
    "                    else:\n",
    "                        middle=re.search(r'([a-zA-Z]+)[-/](\\d+)',j.split()[1],flags=re.M|re.I).group(1)\n",
    "                    if middle in months:\n",
    "                        if re.search(r'\\d+',j.split()[2],flags=re.M|re.I):\n",
    "                            j=j.split()[0]+' '+middle+' '+ re.search(r'\\d+',j.split()[2],flags=re.M|re.I).group()\n",
    "                        else:\n",
    "                            j=j.split()[0]+' '+middle+' '+ '1'\n",
    "                    elif re.match(r'Sum(mer)?',middle):\n",
    "                        if re.search(r'\\d+',j.split()[2],flags=re.M|re.I):\n",
    "                            j=j.split()[0]+' '+'Jun'+' '+ re.search(r'\\d+',j.split()[2],flags=re.M|re.I).group()\n",
    "                        else:\n",
    "                            j=j.split()[0]+' '+'Jun'+' '+ '1'\n",
    "                    elif re.match(r'Spr(ing)?',middle):\n",
    "                        if re.search(r'\\d+',j.split()[2],flags=re.M|re.I):\n",
    "                            j=j.split()[0]+' '+'Mar'+' '+ re.search(r'\\d+',j.split()[2],flags=re.M|re.I).group()\n",
    "                        else:\n",
    "                            j=j.split()[0]+' '+'Mar'+' '+ '1'\n",
    "                    elif re.match(r'Win(ter)?',middle):\n",
    "                        if re.search(r'\\d+',j.split()[2],flags=re.M|re.I):\n",
    "                            j=j.split()[0]+' '+'Dec'+' '+ re.search(r'\\d+',j.split()[2],flags=re.M|re.I).group()\n",
    "                        else:\n",
    "                            j=j.split()[0]+' '+'Dec'+' '+ '1'    \n",
    "                    elif re.match(r'Aut(umn)?',middle) or \\\n",
    "                    re.match(r'Fall',middle):\n",
    "                        if re.search(r'\\d+',j.split()[2],flags=re.M|re.I):\n",
    "                            j=j.split()[0]+' '+'Sep'+' '+ re.search(r'\\d+',j.split()[2],flags=re.M|re.I).group()\n",
    "                        else:\n",
    "                            j=j.split()[0]+' '+'Sep'+' '+ '1'      \n",
    "                    try:\n",
    "                        date=int(datetime.datetime.strftime(datetime.datetime.strptime(j,'%Y %b %d'), '%Y%m%d'))\n",
    "                    except:\n",
    "                        print(j)\n",
    "                        j=j[:4]\n",
    "                        date=int(datetime.datetime.strftime(datetime.datetime.strptime(j,'%Y'), '%Y'+'0101'))\n",
    "                else:\n",
    "                    j=j[:4]\n",
    "                    date=int(datetime.datetime.strftime(datetime.datetime.strptime(j,'%Y'), '%Y'+'0101'))\n",
    "    elif len(j.split())==2:\n",
    "        if re.match(r'Sum(mer)?',j.split()[1]):\n",
    "            date=int(j[:4]+'0601')\n",
    "        elif re.match(r'Spr(ing)?',j.split()[1]):\n",
    "            date=int(j[:4]+'0301')\n",
    "        elif re.match(r'Win(ter)?',j.split()[1]):\n",
    "            date=int(j[:4]+'1201')\n",
    "        elif re.match(r'Aut(umn)?',j.split()[1]) or re.match(r'Fall',j.split()[1]):\n",
    "            date=int(j[:4]+'0901')\n",
    "        elif re.match(r'Sum(mer)?',j.split()[0]):\n",
    "            date=int(j[-4:]+'0601')\n",
    "        elif re.match(r'Spr(ing)?',j.split()[0]):\n",
    "            date=int(j[-4:]+'0301')\n",
    "        elif re.match(r'Win(ter)?',j.split()[0]):\n",
    "            date=int(j[-4:]+'1201')\n",
    "        elif re.match(r'Aut(umn)?',j.split()[0]) or re.match(r'Fall',j.split()[0]):\n",
    "            date=int(j[-4:]+'0901')\n",
    "        else:\n",
    "            try:\n",
    "                date=int(datetime.datetime.strftime(datetime.datetime.strptime(j,'%Y %b'), '%Y%m'+'01'))\n",
    "            except:\n",
    "                if re.search(r'([a-zA-Z]+)[-/]([a-zA-Z]+)',j.split()[1],flags=re.M|re.I) or re.search(r'([a-zA-Z]+)[-/](\\d+)',j.split()[1],flags=re.M|re.I):\n",
    "                    if re.search(r'([a-zA-Z]+)[-/]([a-zA-Z]+)',j.split()[1],flags=re.M|re.I):\n",
    "                        middle=re.search(r'([a-zA-Z]+)[-/]([a-zA-Z]+)',j.split()[1],flags=re.M|re.I).group(1)\n",
    "                    else:\n",
    "                        middle=re.search(r'([a-zA-Z]+)[-/](\\d+)',j.split()[1],flags=re.M|re.I).group(1)\n",
    "                    if middle in months:\n",
    "                        j=j.split()[0]+' '+middle+' '+ '1'\n",
    "                    elif re.match(r'Sum(mer)?',middle):\n",
    "                        j=j.split()[0]+' '+'Jun'+' '+ '1'\n",
    "                    elif re.match(r'Spr(ing)?',middle):\n",
    "                        j=j.split()[0]+' '+'Mar'+' '+ '1'\n",
    "                    elif re.match(r'Win(ter)?',middle):\n",
    "                        j=j.split()[0]+' '+'Dec'+' '+ '1'    \n",
    "                    elif re.match(r'Aut(umn)?',middle) or \\\n",
    "                    re.match(r'Fall',middle):\n",
    "                        j=j.split()[0]+' '+'Sep'+' '+ '1'      \n",
    "                    try:\n",
    "                        date=int(datetime.datetime.strftime(datetime.datetime.strptime(j,'%Y %b %d'), '%Y%m%d'))\n",
    "                    except:\n",
    "                        j=j[:4]\n",
    "                        date=int(datetime.datetime.strftime(datetime.datetime.strptime(j,'%Y'), '%Y'+'0101'))\n",
    "                elif re.search(r'(\\d+)[-/](\\d+)',j.split()[1],flags=re.M|re.I):\n",
    "                    midd=re.search(r'(\\d+)[-/](\\d+)',j.split()[1],flags=re.M|re.I).group(1)\n",
    "                    if len(midd)!=2:\n",
    "                        midd='0'+midd\n",
    "                    j=j[:4]\n",
    "                    date=int(datetime.datetime.strftime(datetime.datetime.strptime(j,'%Y'), '%Y'+midd+'01'))\n",
    "                else:\n",
    "                    print(j)\n",
    "                    j=j[:4]\n",
    "                    date=int(datetime.datetime.strftime(datetime.datetime.strptime(j,'%Y'), '%Y'+'0101'))\n",
    "    elif len(j.split())==1:\n",
    "        j=j[:4]\n",
    "        date=int(datetime.datetime.strftime(datetime.datetime.strptime(j,'%Y'), '%Y'+'0101'))\n",
    "    else:\n",
    "        j=j.split()[0]+' '+j.split()[1]+' '+re.search(r'\\d+',j.split()[2],flags=re.M|re.I).group()\n",
    "        date=int(datetime.datetime.strftime(datetime.datetime.strptime(j,'%Y %b %d'), '%Y%m%d'))\n",
    "    i['date']=date\n",
    "    i['TA']=pubtator_info_dict.get(i.get('PMID')).get('TA')\n",
    "    i['JT']=pubtator_info_dict.get(i.get('PMID')).get('JT')\n",
    "    i['year']=int(str(date)[:4])\n",
    "    # del i['_id']\n",
    "    # i['_id']=i.get('entity_one_type')+'_'+i.get('entity_one_transformed')"
   ]
  },
  {
   "cell_type": "code",
   "execution_count": 161,
   "id": "9a81f098-1859-41b4-8200-6279f84c1afb",
   "metadata": {},
   "outputs": [
    {
     "data": {
      "text/plain": [
       "{'triple': ['rs11189312', 'related', 'sarcopenia'],\n",
       " 'PMID': '36573383',\n",
       " 'sentence': 'Variant rs11189312 was found to be a novel variant affecting ZFYVE27 expressed in skeletal muscles, suggesting that rs11189312 might be related to sarcopenia as a novel discovery of this study.',\n",
       " 'AB': 'BACKGROUND: Sarcopenia is commonly found in the elderly due to a decline in muscle mass. Many researchers have performed genome-wide association studies (GWAS) to find genetic risk factors of sarcopenia. Although many studies have discovered sarcopenia associated single nucleotide polymorphisms (SNPs), most of them are studies targeting Caucasians. The purpose of this study was to evaluate genetic correlation according to muscle mass in middle aged Koreans using data of the Korean Genome and Epidemiology Study (KOGES), a large population-based genomic cohort study. METHODS: Baseline participants were 10,030 subjects aged 40 to 69 years who were from Ansan or Anseong in Gyeonggi-do, South Korea. Among them, 9,351 subjects with laboratory data available were included in this study. To identify sarcopenia associated variants, those in the top 30% and bottom 30% of muscle mass index (MMI) were compared. A total of 7,452 people with an MMI of 30-70% were excluded. A total of 1,004 people were also excluded due to missing data. Finally, 895 people were selected for this study. The Korea Biobank Array generated 500,568 SNPs for this dataset. RESULTS: When subjects were divided into top 30% and bottom 30% of MMI, the top 30% had 169 men and 308 women and the bottom 30% had 220 men and 198 women. In men, age, body mass index (BMI), waist and hip were significantly (P < 0.005) different between top 30% and bottom 30% MMI groups. In women, age, BMI, waist, hip, and hypertension history were significantly different between the two MMI groups. There were 13 significant SNPs in men and 14 significant SNPs in women. Genes associated with variants in men based on the single-nucleotide polymorphism database (dbSNP) were LRP1B containing rs11679458 and RGS6 containing rs11848300. A gene associated with variants in women was Pi4K2A, which contained rs1189312 as a variant. In addition, rs11189312 was associated with expression quantitative trait loci (eQTL) of ZFYVE27 in skeletal muscles and other SNPs of ZFYVE27 (rs10882883, rs17108378, rs35077384) known to be associated with spastic paraplegia. The eQTL analysis revealed that rs11189312 was a variant associated with SNPs of ZFYVE27. CONCLUSIONS: In the demographic study, significant results were found in BMI, waist, hip, history of hyperlipidemia, and sedentary life status in male group, and significant results were found in BMI, waist, hip, and hypertension history in female group. Variant rs11189312 was found to be a novel variant affecting ZFYVE27 expressed in skeletal muscles, suggesting that rs11189312 might be related to sarcopenia as a novel discovery of this study. Further study is needed to determine the association between sarcopenia and ZFYVE27 known to be associated with spastic paraplegia.',\n",
       " 'entity_one': 'rs11189312',\n",
       " 'entity_one_type': 'Mutation',\n",
       " 'entity_two': 'sarcopenia',\n",
       " 'entity_two_type': 'Disease',\n",
       " 'entity_one_transformed': 'rs11189312',\n",
       " 'entity_two_transformed': 'Sarcopenia',\n",
       " 'transformed_triple': ('rs11189312', 'related', 'sarcopenia', '36573383'),\n",
       " 'verb': 'related',\n",
       " 'IF': 5.354,\n",
       " 'IF5': 3.783,\n",
       " 'partofspeech': 'positive',\n",
       " 'date': 20221226,\n",
       " 'TA': 'J Korean Med Sci',\n",
       " 'JT': 'Journal of Korean medical science',\n",
       " 'year': 2022}"
      ]
     },
     "execution_count": 161,
     "metadata": {},
     "output_type": "execute_result"
    }
   ],
   "source": [
    "disease_list[-1]"
   ]
  },
  {
   "cell_type": "code",
   "execution_count": 162,
   "id": "bec53a4e-9e83-4432-9870-37c98ed2cd78",
   "metadata": {},
   "outputs": [
    {
     "name": "stdout",
     "output_type": "stream",
     "text": [
      "{'triple': ['NOTCH1', 'impede', 'carcinogenesis'], 'PMID': '36658434', 'sentence': 'NOTCH1 mutant clones occupy the majority of normal human esophagus by middle age but are comparatively rare in esophageal cancers, suggesting NOTCH1 mutations drive clonal expansion but impede carcinogenesis.', 'AB': 'NOTCH1 mutant clones occupy the majority of normal human esophagus by middle age but are comparatively rare in esophageal cancers, suggesting NOTCH1 mutations drive clonal expansion but impede carcinogenesis. Here we test this hypothesis. Sequencing NOTCH1 mutant clones in aging human esophagus reveals frequent biallelic mutations that block NOTCH1 signaling. In mouse esophagus, heterozygous Notch1 mutation confers a competitive advantage over wild-type cells, an effect enhanced by loss of the second allele. Widespread Notch1 loss alters transcription but has minimal effects on the epithelial structure and cell dynamics. In a carcinogenesis model, Notch1 mutations were less prevalent in tumors than normal epithelium. Deletion of Notch1 reduced tumor growth, an effect recapitulated by anti-NOTCH1 antibody treatment. Notch1 null tumors showed reduced proliferation. We conclude that Notch1 mutations in normal epithelium are beneficial as wild-type Notch1 favors tumor expansion. NOTCH1 blockade may have therapeutic potential in preventing esophageal squamous cancer.', 'entity_one': 'NOTCH1', 'entity_one_type': 'Gene', 'entity_two': 'carcinogenesis', 'entity_two_type': 'Disease', 'entity_one_transformed': 'NOTCH1', 'entity_two_transformed': 'Carcinogenesis', 'transformed_triple': ('NOTCH1', 'impede', 'carcinogenesis', '36658434'), 'verb': 'impede', 'IF': 41.307, 'IF5': 39.321, 'partofspeech': 'negative', 'date': 20230201, 'TA': 'Nat Genet', 'JT': 'Nature genetics', 'year': 2023}\n"
     ]
    }
   ],
   "source": [
    "for i in disease_list:\n",
    "    if i.get('triple')[1]=='impede':\n",
    "        print(i)\n",
    "        break"
   ]
  },
  {
   "cell_type": "code",
   "execution_count": 163,
   "id": "46181065-5c69-47e7-b26c-3c58dbba962c",
   "metadata": {},
   "outputs": [
    {
     "data": {
      "text/plain": [
       "8768"
      ]
     },
     "execution_count": 163,
     "metadata": {},
     "output_type": "execute_result"
    }
   ],
   "source": [
    "# 17233\n",
    "len(disease_list)"
   ]
  },
  {
   "cell_type": "code",
   "execution_count": null,
   "id": "fd226a46-05dc-4c00-8ca7-99971b6f1c00",
   "metadata": {},
   "outputs": [],
   "source": []
  },
  {
   "cell_type": "code",
   "execution_count": 164,
   "id": "c1463d67-2500-4c0f-8d68-c89a4c75922f",
   "metadata": {},
   "outputs": [],
   "source": [
    "entity_pairs=['Gene',\n",
    " 'RNA',\n",
    "'Protein',\n",
    " 'Carbohydrate',\n",
    " 'Lipid',\n",
    " 'Peptide',\n",
    " 'Pharmaceutical_Preparations',\n",
    " \n",
    " 'Toxin',\n",
    " 'Mutation',\n",
    " 'Disease']"
   ]
  },
  {
   "cell_type": "markdown",
   "id": "715cbfc5-9980-46f0-97da-387dfccd1ca9",
   "metadata": {},
   "source": [
    "names=locals()\n",
    "for i in entity_pairs:\n",
    "    names[i+'_typecount']=set()\n",
    "for i in entity_pairs:\n",
    "    for j in disease_list:\n",
    "        if j.get('entity_one_type')==i.replace('_',' '):\n",
    "            names[i+'_typecount'].add(j.get('entity_one_transformed'))"
   ]
  },
  {
   "cell_type": "code",
   "execution_count": 165,
   "id": "2737b933-a72c-4ba3-b000-9770ea1b3345",
   "metadata": {},
   "outputs": [],
   "source": [
    "names=locals()\n",
    "for i in entity_pairs:\n",
    "    names[i+'_typecount']=set()\n",
    "# for i in entity_pairs:\n",
    "for j in disease_list:\n",
    "    for i in entitydict_tolist.get(j.get('entity_one_transformed')):\n",
    "        i=i.replace(' ','_')\n",
    "        names[i+'_typecount'].add(j.get('entity_one_transformed'))"
   ]
  },
  {
   "cell_type": "code",
   "execution_count": 166,
   "id": "000af99d-8dbf-4119-9334-b5d068b6303e",
   "metadata": {},
   "outputs": [
    {
     "data": {
      "text/plain": [
       "['Carbohydrate', 'Lipid', 'Toxin']"
      ]
     },
     "execution_count": 166,
     "metadata": {},
     "output_type": "execute_result"
    }
   ],
   "source": [
    "entitydict_tolist.get('Lipopolysaccharides')"
   ]
  },
  {
   "cell_type": "code",
   "execution_count": 167,
   "id": "e24d4221-790a-41d3-b53c-3dd9d52fac6f",
   "metadata": {},
   "outputs": [
    {
     "name": "stdout",
     "output_type": "stream",
     "text": [
      "Gene 1257\n",
      "RNA 41\n",
      "Protein 15\n",
      "Carbohydrate 77\n",
      "Lipid 80\n",
      "Peptide 24\n",
      "Pharmaceutical_Preparations 2\n",
      "Toxin 1\n",
      "Mutation 276\n",
      "Disease 0\n"
     ]
    }
   ],
   "source": [
    "for i in entity_pairs:\n",
    "    print(i+' '+str(len(list(names[i+'_typecount']))))"
   ]
  },
  {
   "cell_type": "code",
   "execution_count": 168,
   "id": "8d0441c2-936f-4931-9582-62936194f7b3",
   "metadata": {},
   "outputs": [],
   "source": [
    "disease_list_copy=copy.deepcopy(disease_list)"
   ]
  },
  {
   "cell_type": "code",
   "execution_count": 169,
   "id": "0978f6f1-ff62-4556-9662-920fe50ebdab",
   "metadata": {},
   "outputs": [
    {
     "data": {
      "text/plain": [
       "{'triple': ['SF3B1', 'lead', 'heme deficiency'],\n",
       " 'PMID': '35926182',\n",
       " 'sentence': 'Here, using single-cell technologies and functional validation studies of primary SF3B1-mutant MDS-RS samples, we show that SF3B1 mutations lead to the activation of the EIF2AK1 pathway in response to heme deficiency and that targeting this pathway rescues aberrant erythroid differentiation and enables the red blood cell maturation of MDS-RS erythroblasts.',\n",
       " 'AB': 'SF3B1 mutations, which occur in 20% of patients with myelodysplastic syndromes (MDS), are the hallmarks of a specific MDS subtype, MDS with ringed sideroblasts (MDS-RS), which is characterized by the accumulation of erythroid precursors in the bone marrow and primarily affects the elderly population. Here, using single-cell technologies and functional validation studies of primary SF3B1-mutant MDS-RS samples, we show that SF3B1 mutations lead to the activation of the EIF2AK1 pathway in response to heme deficiency and that targeting this pathway rescues aberrant erythroid differentiation and enables the red blood cell maturation of MDS-RS erythroblasts. These data support the development of EIF2AK1 inhibitors to overcome transfusion dependency in patients with SF3B1-mutant MDS-RS with impaired red blood cell production.',\n",
       " 'entity_one': 'SF3B1',\n",
       " 'entity_one_type': 'Gene',\n",
       " 'entity_two': 'heme deficiency',\n",
       " 'entity_two_type': 'Disease',\n",
       " 'entity_one_transformed': 'SF3B1',\n",
       " 'entity_two_transformed': 'Protoporphyria, Erythropoietic',\n",
       " 'transformed_triple': ('SF3B1', 'lead', 'heme deficiency', '35926182'),\n",
       " 'verb': 'lead',\n",
       " 'IF': 0.0,\n",
       " 'IF5': 0.0,\n",
       " 'partofspeech': 'positive',\n",
       " 'date': 20221102,\n",
       " 'TA': 'Blood Cancer Discov',\n",
       " 'JT': 'Blood cancer discovery',\n",
       " 'year': 2022}"
      ]
     },
     "execution_count": 169,
     "metadata": {},
     "output_type": "execute_result"
    }
   ],
   "source": [
    "disease_list_copy[0]"
   ]
  },
  {
   "cell_type": "code",
   "execution_count": 170,
   "id": "60605fdc-f2b9-44a4-b165-195a0cb48006",
   "metadata": {},
   "outputs": [],
   "source": [
    "for i in disease_list_copy:\n",
    "    if len(entitydict_tolist.get(i.get('entity_one_transformed')))>1:\n",
    "        # print(i.get('entity_one_transformed'))\n",
    "        # print(i.get('entity_one_type'))\n",
    "        i['entity_one_type']='; '.join(entitydict_tolist.get(i.get('entity_one_transformed')))\n",
    "        # i['entity_one_type']=entitydict_tolist.get(i.get('entity_one_transformed'))\n",
    "        # print(i.get('entity_one_type'))\n",
    "    # else:\n",
    "    #     i['entity_one_type']=[i.get('entity_one_type')]"
   ]
  },
  {
   "cell_type": "code",
   "execution_count": 171,
   "id": "627b17cf-14b3-4fbc-9a7e-29cfd7db56a2",
   "metadata": {},
   "outputs": [],
   "source": [
    "json.dump(disease_list_copy,open('results/step4/disease_relation.json','w'))"
   ]
  },
  {
   "cell_type": "code",
   "execution_count": 172,
   "id": "54692628-746d-4d8b-a915-333588c9e2c9",
   "metadata": {},
   "outputs": [
    {
     "name": "stdout",
     "output_type": "stream",
     "text": [
      "Gene\t1152\n",
      "RNA\t37\n",
      "Protein\t14\n",
      "Carbohydrate\t64\n",
      "Lipid\t71\n",
      "Peptide\t22\n",
      "Pharmaceutical Preparations\t2\n",
      "Toxin\t1\n",
      "Mutation\t272\n",
      "Disease\t0\n"
     ]
    }
   ],
   "source": [
    "# Table 4\n",
    "for j in entity_pairs:\n",
    "    j=j.replace('_',' ')\n",
    "    names[j+'_aging']=set()\n",
    "for i in disease_list:\n",
    "    if i.get('partofspeech')=='positive':\n",
    "        for j in entitydict_tolist.get(i.get('entity_one_transformed')):\n",
    "            j=j.replace('_',' ')\n",
    "            names[j+'_aging'].add(i.get('entity_one_transformed'))\n",
    "for j in entity_pairs:    \n",
    "    j=j.replace('_',' ')\n",
    "    print(j+'\\t'+str(len(names[j+'_aging'])))"
   ]
  },
  {
   "cell_type": "code",
   "execution_count": 173,
   "id": "7f57b822-4157-4f0b-9d87-f566c867a119",
   "metadata": {},
   "outputs": [
    {
     "name": "stdout",
     "output_type": "stream",
     "text": [
      "1152,37,14,64,71,22,2,1,272,0,"
     ]
    }
   ],
   "source": [
    "for j in entity_pairs:    \n",
    "    j=j.replace('_',' ')\n",
    "    print(str(len(names[j+'_aging']))+',', end='')"
   ]
  },
  {
   "cell_type": "code",
   "execution_count": 174,
   "id": "c32de65d-9ca8-46f9-affe-cb9a95c888be",
   "metadata": {},
   "outputs": [
    {
     "name": "stdout",
     "output_type": "stream",
     "text": [
      "Gene\t338\n",
      "RNA\t11\n",
      "Protein\t7\n",
      "Carbohydrate\t50\n",
      "Lipid\t40\n",
      "Peptide\t10\n",
      "Pharmaceutical Preparations\t2\n",
      "Toxin\t1\n",
      "Mutation\t7\n",
      "Disease\t0\n"
     ]
    }
   ],
   "source": [
    "# Table 4\n",
    "for j in entity_pairs:\n",
    "    j=j.replace('_',' ')\n",
    "    names[j+'_longevity']=set()\n",
    "for i in disease_list:\n",
    "    if i.get('partofspeech')=='negative':\n",
    "        for j in entitydict_tolist.get(i.get('entity_one_transformed')):\n",
    "            j=j.replace('_',' ')\n",
    "            names[j+'_longevity'].add(i.get('entity_one_transformed'))\n",
    "for j in entity_pairs:    \n",
    "    j=j.replace('_',' ')\n",
    "    print(j+'\\t'+str(len(names[j+'_longevity'])))"
   ]
  },
  {
   "cell_type": "code",
   "execution_count": null,
   "id": "642faf1e-9ae7-4af1-a7f2-4cc316503714",
   "metadata": {},
   "outputs": [],
   "source": []
  },
  {
   "cell_type": "code",
   "execution_count": null,
   "id": "96694f2c-52c9-4287-9222-39edd10bab0e",
   "metadata": {},
   "outputs": [],
   "source": []
  },
  {
   "cell_type": "code",
   "execution_count": 175,
   "id": "161447d7-b609-4ccc-ae1d-8dce84beafcf",
   "metadata": {},
   "outputs": [],
   "source": [
    "Genedict=json.load(open('../dict/Genedict.json'))"
   ]
  },
  {
   "cell_type": "code",
   "execution_count": 176,
   "id": "a208ef32-a7eb-495c-a645-a0859f749894",
   "metadata": {},
   "outputs": [
    {
     "data": {
      "text/plain": [
       "[('A1BG', ['A1BG']),\n",
       " ('A1CF', ['A1CF']),\n",
       " ('A2M', ['A2M']),\n",
       " ('A2ML1', ['A2ML1']),\n",
       " ('A3GALT2', ['A3GALT2']),\n",
       " ('A4GALT', ['A4GALT']),\n",
       " ('A4GNT', ['A4GNT']),\n",
       " ('AAAS', ['AAAS']),\n",
       " ('AACS', ['AACS']),\n",
       " ('AADAC', ['AADAC'])]"
      ]
     },
     "execution_count": 176,
     "metadata": {},
     "output_type": "execute_result"
    }
   ],
   "source": [
    "list(Genedict.items())[:10]"
   ]
  },
  {
   "cell_type": "code",
   "execution_count": 177,
   "id": "7da0ebdf-324d-4718-ba52-ec17b2d30bba",
   "metadata": {},
   "outputs": [],
   "source": [
    "Genedict_upper={}\n",
    "for i,j in Genedict.items():\n",
    "    Genedict_upper[i.upper()]=j"
   ]
  },
  {
   "cell_type": "code",
   "execution_count": 178,
   "id": "89f5594d-16b4-445d-aafb-9acec1430f4a",
   "metadata": {},
   "outputs": [
    {
     "name": "stdout",
     "output_type": "stream",
     "text": [
      "1622\n",
      "460\n"
     ]
    }
   ],
   "source": [
    "num_of_aging=set()\n",
    "num_of_longevity=set()\n",
    "for i in disease_list:\n",
    "    if i.get('partofspeech')=='positive':\n",
    "        num_of_aging.add(i.get('entity_one_transformed'))\n",
    "    elif i.get('partofspeech')=='negative':\n",
    "        num_of_longevity.add(i.get('entity_one_transformed'))\n",
    "print(len(num_of_aging))\n",
    "print(len(num_of_longevity))"
   ]
  },
  {
   "cell_type": "code",
   "execution_count": 179,
   "id": "68b2171e-310d-4657-9999-3a0fc32b59e4",
   "metadata": {},
   "outputs": [],
   "source": [
    "disease_entity_list=[]\n",
    "disease_entity_triple=set()\n",
    "disease_entity_dict={}\n",
    "for i in disease_list:\n",
    "    if i.get('partofspeech')=='positive':\n",
    "        if i.get('entity_one_type')=='Gene':\n",
    "            # if (i.get('entity_one_transformed'),i.get('entity_two_transformed'),i.get('PMID')) not in disease_entity_triple:\n",
    "\n",
    "            disease_entity_triple.add((i.get('entity_one_transformed'),i.get('entity_two_transformed'),i.get('PMID')))\n",
    "            disease_entity_list.append(i)\n",
    "            disease_entity_dict[i.get('entity_one_transformed')]=disease_entity_dict.get(i.get('entity_one_transformed'),0)+1"
   ]
  },
  {
   "cell_type": "code",
   "execution_count": 180,
   "id": "26b8beff-e617-457c-8a8f-a9dbaa583e6e",
   "metadata": {},
   "outputs": [
    {
     "data": {
      "text/plain": [
       "1152"
      ]
     },
     "execution_count": 180,
     "metadata": {},
     "output_type": "execute_result"
    }
   ],
   "source": [
    "len(disease_entity_dict)"
   ]
  },
  {
   "cell_type": "code",
   "execution_count": 181,
   "id": "0c6ddfde-85f3-4981-95e8-ad56c266117d",
   "metadata": {},
   "outputs": [],
   "source": [
    "disease_entity_dict_sorted = sorted(disease_entity_dict.items(), key=lambda x: x[1], reverse=True)"
   ]
  },
  {
   "cell_type": "code",
   "execution_count": 182,
   "id": "af546138-fe74-477d-8c3e-2b4babd1a8ae",
   "metadata": {},
   "outputs": [
    {
     "data": {
      "text/plain": [
       "1152"
      ]
     },
     "execution_count": 182,
     "metadata": {},
     "output_type": "execute_result"
    }
   ],
   "source": [
    "len(disease_entity_dict_sorted)"
   ]
  },
  {
   "cell_type": "code",
   "execution_count": 183,
   "id": "0172c694-5142-4a17-a111-7b1c6aa97a82",
   "metadata": {},
   "outputs": [
    {
     "name": "stdout",
     "output_type": "stream",
     "text": [
      "('INS', 412)\n",
      "('CRP', 255)\n",
      "('APOE', 196)\n",
      "('KL', 180)\n",
      "('MAPT', 147)\n",
      "('SIRT1', 102)\n",
      "('IL6', 92)\n",
      "('ADIPOQ', 80)\n",
      "('ALB', 68)\n",
      "('LEP', 67)\n",
      "('LMNA', 64)\n",
      "('WRN', 62)\n",
      "('CD4', 60)\n",
      "('TP53', 48)\n",
      "('CST3', 41)\n",
      "('SHBG', 41)\n",
      "('ACE', 39)\n",
      "('BDNF', 38)\n",
      "('SIRT6', 36)\n",
      "('RECQL4', 35)\n"
     ]
    }
   ],
   "source": [
    "for i in disease_entity_dict_sorted[:20]:\n",
    "    print(i)"
   ]
  },
  {
   "cell_type": "code",
   "execution_count": 184,
   "id": "026cce6f-6e54-4b27-8197-d3107794a8b2",
   "metadata": {},
   "outputs": [],
   "source": [
    "genage=pd.read_csv('../other_databases/genage_human.csv')"
   ]
  },
  {
   "cell_type": "code",
   "execution_count": 185,
   "id": "e71a74ab-d74e-46d3-80a8-94278f35eab7",
   "metadata": {},
   "outputs": [
    {
     "data": {
      "text/html": [
       "<div>\n",
       "<style scoped>\n",
       "    .dataframe tbody tr th:only-of-type {\n",
       "        vertical-align: middle;\n",
       "    }\n",
       "\n",
       "    .dataframe tbody tr th {\n",
       "        vertical-align: top;\n",
       "    }\n",
       "\n",
       "    .dataframe thead th {\n",
       "        text-align: right;\n",
       "    }\n",
       "</style>\n",
       "<table border=\"1\" class=\"dataframe\">\n",
       "  <thead>\n",
       "    <tr style=\"text-align: right;\">\n",
       "      <th></th>\n",
       "      <th>GenAge ID</th>\n",
       "      <th>symbol</th>\n",
       "      <th>name</th>\n",
       "      <th>entrez gene id</th>\n",
       "      <th>uniprot</th>\n",
       "      <th>why</th>\n",
       "    </tr>\n",
       "  </thead>\n",
       "  <tbody>\n",
       "    <tr>\n",
       "      <th>0</th>\n",
       "      <td>1</td>\n",
       "      <td>GHR</td>\n",
       "      <td>growth hormone receptor</td>\n",
       "      <td>2690</td>\n",
       "      <td>GHR_HUMAN</td>\n",
       "      <td>mammal</td>\n",
       "    </tr>\n",
       "    <tr>\n",
       "      <th>1</th>\n",
       "      <td>2</td>\n",
       "      <td>GHRH</td>\n",
       "      <td>growth hormone releasing hormone</td>\n",
       "      <td>2691</td>\n",
       "      <td>SLIB_HUMAN</td>\n",
       "      <td>mammal</td>\n",
       "    </tr>\n",
       "  </tbody>\n",
       "</table>\n",
       "</div>"
      ],
      "text/plain": [
       "   GenAge ID symbol                              name  entrez gene id  \\\n",
       "0          1    GHR           growth hormone receptor            2690   \n",
       "1          2   GHRH  growth hormone releasing hormone            2691   \n",
       "\n",
       "      uniprot     why  \n",
       "0   GHR_HUMAN  mammal  \n",
       "1  SLIB_HUMAN  mammal  "
      ]
     },
     "execution_count": 185,
     "metadata": {},
     "output_type": "execute_result"
    }
   ],
   "source": [
    "genage[:2]"
   ]
  },
  {
   "cell_type": "code",
   "execution_count": 186,
   "id": "910f7647-be67-4549-9832-b7961279b3e5",
   "metadata": {},
   "outputs": [
    {
     "data": {
      "text/plain": [
       "307"
      ]
     },
     "execution_count": 186,
     "metadata": {},
     "output_type": "execute_result"
    }
   ],
   "source": [
    "len(genage)"
   ]
  },
  {
   "cell_type": "code",
   "execution_count": 187,
   "id": "b7cf8fc6-931f-489b-a570-1769616cd1e1",
   "metadata": {},
   "outputs": [
    {
     "name": "stdout",
     "output_type": "stream",
     "text": [
      "TERC\n"
     ]
    }
   ],
   "source": [
    "genage_symbol=set()\n",
    "genage_symbol_transfer={}\n",
    "for i in genage['symbol'].tolist():\n",
    "    if Genedict_upper.get(i.upper()):\n",
    "        genage_symbol.add(Genedict_upper.get(i.upper())[0])\n",
    "        if genage_symbol_transfer.get(Genedict_upper.get(i.upper())[0]) and i not in genage_symbol_transfer.get(Genedict_upper.get(i.upper())[0]):\n",
    "            genage_symbol_transfer[Genedict_upper.get(i.upper())[0]]+=[i]\n",
    "            print(Genedict_upper.get(i.upper())[0])\n",
    "            print(genage_symbol_transfer.get(Genedict_upper.get(i.upper())[0]))\n",
    "        else:\n",
    "            genage_symbol_transfer[Genedict_upper.get(i.upper())[0]]=[i]\n",
    "    else:\n",
    "        print(i)"
   ]
  },
  {
   "cell_type": "code",
   "execution_count": 188,
   "id": "e151db4b-2f51-490f-81ac-81abbb179378",
   "metadata": {},
   "outputs": [
    {
     "data": {
      "text/plain": [
       "306"
      ]
     },
     "execution_count": 188,
     "metadata": {},
     "output_type": "execute_result"
    }
   ],
   "source": [
    "len(genage_symbol)"
   ]
  },
  {
   "cell_type": "code",
   "execution_count": 189,
   "id": "d3b87e8d-0d1b-4f51-89ac-4d174c2b0d9e",
   "metadata": {},
   "outputs": [],
   "source": [
    "vcx=0\n",
    "for i in disease_entity_dict_sorted:\n",
    "    if i[0] in genage_symbol:\n",
    "        vcx+=1"
   ]
  },
  {
   "cell_type": "code",
   "execution_count": 190,
   "id": "40c987a3-7647-4e2e-b072-d9d071f1d016",
   "metadata": {},
   "outputs": [
    {
     "data": {
      "text/plain": [
       "160"
      ]
     },
     "execution_count": 190,
     "metadata": {},
     "output_type": "execute_result"
    }
   ],
   "source": [
    "vcx"
   ]
  },
  {
   "cell_type": "code",
   "execution_count": 191,
   "id": "2f295158-38da-4b60-b0ab-2e1dadb50450",
   "metadata": {},
   "outputs": [
    {
     "name": "stdout",
     "output_type": "stream",
     "text": [
      "7\n"
     ]
    }
   ],
   "source": [
    "vcx0=0\n",
    "for i in disease_entity_dict_sorted[:10]:\n",
    "    if i[0] in genage_symbol:\n",
    "        vcx0+=1\n",
    "print(vcx0)"
   ]
  },
  {
   "cell_type": "code",
   "execution_count": 192,
   "id": "ef30f941-8f1f-48dd-a053-318cec1280d5",
   "metadata": {},
   "outputs": [],
   "source": [
    "disease_entity_list2=[]\n",
    "disease_entity_triple2=set()\n",
    "disease_entity_dict2={}\n",
    "for i in disease_list:\n",
    "    if i.get('partofspeech')=='negative':\n",
    "        if i.get('entity_one_type')=='Gene':\n",
    "            # if (i.get('entity_one_transformed'),i.get('entity_two_transformed'),i.get('PMID')) not in disease_entity_triple:\n",
    "\n",
    "            disease_entity_triple2.add((i.get('entity_one_transformed'),i.get('entity_two_transformed'),i.get('PMID')))\n",
    "            disease_entity_list2.append(i)\n",
    "            disease_entity_dict2[i.get('entity_one_transformed')]=disease_entity_dict2.get(i.get('entity_one_transformed'),0)+1"
   ]
  },
  {
   "cell_type": "code",
   "execution_count": 193,
   "id": "24533725-765c-4f29-be72-2df0ea287f46",
   "metadata": {},
   "outputs": [],
   "source": [
    "disease_entity_dict2_sorted = sorted(disease_entity_dict2.items(), key=lambda x: x[1], reverse=True)"
   ]
  },
  {
   "cell_type": "markdown",
   "id": "285d496f-7f42-4367-ae94-b4b176332a7d",
   "metadata": {},
   "source": [
    "disease_entity_dict3_sorted = sorted(disease_entity_dict3.items(), key=lambda x: x[1], reverse=True)"
   ]
  },
  {
   "cell_type": "code",
   "execution_count": 194,
   "id": "494a651f-9841-41c8-96b3-13c272dc565c",
   "metadata": {},
   "outputs": [
    {
     "data": {
      "text/plain": [
       "338"
      ]
     },
     "execution_count": 194,
     "metadata": {},
     "output_type": "execute_result"
    }
   ],
   "source": [
    "len(disease_entity_dict2_sorted)"
   ]
  },
  {
   "cell_type": "code",
   "execution_count": 195,
   "id": "1b9d4da7-5239-4d48-a72d-0e481dd719ed",
   "metadata": {},
   "outputs": [
    {
     "name": "stdout",
     "output_type": "stream",
     "text": [
      "('SIRT1', 61)\n",
      "('KL', 54)\n",
      "('INS', 50)\n",
      "('ACE', 23)\n",
      "('MAPT', 21)\n",
      "('SIRT6', 20)\n",
      "('NFE2L2', 16)\n",
      "('TP53', 15)\n",
      "('PRKAA2', 15)\n",
      "('APOE', 13)\n",
      "('EPO', 13)\n",
      "('MTOR', 11)\n",
      "('SIRT3', 10)\n",
      "('PTH', 9)\n",
      "('ADIPOQ', 8)\n",
      "('WRN', 7)\n",
      "('PRKAB1', 7)\n",
      "('CRP', 7)\n",
      "('AGER', 7)\n",
      "('SIRT2', 6)\n"
     ]
    }
   ],
   "source": [
    "for i in disease_entity_dict2_sorted[:20]:\n",
    "    print(i)"
   ]
  },
  {
   "cell_type": "code",
   "execution_count": null,
   "id": "26cc674f-ee1a-44ce-99da-beeab76ec23d",
   "metadata": {},
   "outputs": [],
   "source": []
  },
  {
   "cell_type": "code",
   "execution_count": 196,
   "id": "9a703ce2-0e03-425f-98ff-d63f9da23d95",
   "metadata": {},
   "outputs": [
    {
     "name": "stdout",
     "output_type": "stream",
     "text": [
      "SIRT1\n",
      "KL\n",
      "INS\n",
      "MAPT\n",
      "APOE\n"
     ]
    }
   ],
   "source": [
    "test=set()\n",
    "for i in disease_entity_dict_sorted[:10]:\n",
    "    test.add(i[0])\n",
    "for i in disease_entity_dict2_sorted[:10]:\n",
    "    if i[0] in test:\n",
    "        print(i[0])\n",
    "        \n",
    "        "
   ]
  },
  {
   "cell_type": "code",
   "execution_count": 197,
   "id": "15bee561-ea8f-4084-b500-9bdc94bbc637",
   "metadata": {},
   "outputs": [
    {
     "name": "stdout",
     "output_type": "stream",
     "text": [
      "SIRT1\n",
      "KL\n",
      "INS\n",
      "ACE\n",
      "MAPT\n",
      "SIRT6\n",
      "TP53\n",
      "APOE\n",
      "ADIPOQ\n",
      "WRN\n",
      "CRP\n"
     ]
    }
   ],
   "source": [
    "test=set()\n",
    "for i in disease_entity_dict_sorted[:20]:\n",
    "    test.add(i[0])\n",
    "for i in disease_entity_dict2_sorted[:20]:\n",
    "    if i[0] in test:\n",
    "        print(i[0])\n",
    "        \n",
    "        "
   ]
  },
  {
   "cell_type": "code",
   "execution_count": null,
   "id": "8ca3c94a-d500-43db-a1d6-193ff22ae427",
   "metadata": {},
   "outputs": [],
   "source": []
  },
  {
   "cell_type": "code",
   "execution_count": 198,
   "id": "32cfbd5e-7adb-437d-9c58-a83ce90ec465",
   "metadata": {},
   "outputs": [],
   "source": [
    "longevity_human=pd.read_csv('../other_databases/longevity_human.csv')"
   ]
  },
  {
   "cell_type": "code",
   "execution_count": 199,
   "id": "ebc03b54-2c7e-4e03-ab79-6b64cf9d9d91",
   "metadata": {},
   "outputs": [
    {
     "data": {
      "text/html": [
       "<div>\n",
       "<style scoped>\n",
       "    .dataframe tbody tr th:only-of-type {\n",
       "        vertical-align: middle;\n",
       "    }\n",
       "\n",
       "    .dataframe tbody tr th {\n",
       "        vertical-align: top;\n",
       "    }\n",
       "\n",
       "    .dataframe thead th {\n",
       "        text-align: right;\n",
       "    }\n",
       "</style>\n",
       "<table border=\"1\" class=\"dataframe\">\n",
       "  <thead>\n",
       "    <tr style=\"text-align: right;\">\n",
       "      <th></th>\n",
       "      <th>id</th>\n",
       "      <th>Association</th>\n",
       "      <th>Population</th>\n",
       "      <th>Variant(s)</th>\n",
       "      <th>Gene(s)</th>\n",
       "      <th>PubMed</th>\n",
       "    </tr>\n",
       "  </thead>\n",
       "  <tbody>\n",
       "    <tr>\n",
       "      <th>0</th>\n",
       "      <td>1</td>\n",
       "      <td>non-significant</td>\n",
       "      <td>Dutch</td>\n",
       "      <td>HLA-B40</td>\n",
       "      <td>HLA-B</td>\n",
       "      <td>1859103</td>\n",
       "    </tr>\n",
       "    <tr>\n",
       "      <th>1</th>\n",
       "      <td>2</td>\n",
       "      <td>non-significant</td>\n",
       "      <td>Dutch</td>\n",
       "      <td>HLA-DRB5</td>\n",
       "      <td>HLA-DRB5</td>\n",
       "      <td>1859103</td>\n",
       "    </tr>\n",
       "  </tbody>\n",
       "</table>\n",
       "</div>"
      ],
      "text/plain": [
       "  id      Association Population Variant(s)   Gene(s)   PubMed\n",
       "0  1  non-significant      Dutch    HLA-B40     HLA-B  1859103\n",
       "1  2  non-significant      Dutch   HLA-DRB5  HLA-DRB5  1859103"
      ]
     },
     "execution_count": 199,
     "metadata": {},
     "output_type": "execute_result"
    }
   ],
   "source": [
    "longevity_human[:2]"
   ]
  },
  {
   "cell_type": "code",
   "execution_count": 200,
   "id": "f6eed028-7c9a-4bb1-a783-807b9e2191a1",
   "metadata": {},
   "outputs": [
    {
     "data": {
      "text/plain": [
       "550"
      ]
     },
     "execution_count": 200,
     "metadata": {},
     "output_type": "execute_result"
    }
   ],
   "source": [
    "len(longevity_human)"
   ]
  },
  {
   "cell_type": "code",
   "execution_count": 201,
   "id": "3ab300e7-e344-462e-8b6c-a751b378497a",
   "metadata": {},
   "outputs": [
    {
     "name": "stdout",
     "output_type": "stream",
     "text": [
      "884\n"
     ]
    }
   ],
   "source": [
    "longevity_human_genes_symbol=set()\n",
    "for j in longevity_human['Gene(s)'].tolist():\n",
    "    if type(j)==str:\n",
    "        for i in j.split(','):\n",
    "            longevity_human_genes_symbol.add(i)\n",
    "print(len(longevity_human_genes_symbol))"
   ]
  },
  {
   "cell_type": "code",
   "execution_count": 202,
   "id": "43cc40d8-f24c-46d1-8e80-57a9a52dad5e",
   "metadata": {},
   "outputs": [],
   "source": [
    "\n",
    "longevity_human_symbol=set()\n",
    "longevity_human_symbol_transfer={}\n",
    "for j in longevity_human['Gene(s)'].tolist():\n",
    "    if type(j)==str:\n",
    "        for i in j.split(','):\n",
    "            if Genedict_upper.get(i.upper()):\n",
    "                longevity_human_symbol.add(Genedict_upper.get(i.upper())[0])\n",
    "                if longevity_human_symbol_transfer.get(Genedict_upper.get(i.upper())[0]) and i not in longevity_human_symbol_transfer.get(Genedict_upper.get(i.upper())[0]):\n",
    "                    longevity_human_symbol_transfer[Genedict_upper.get(i.upper())[0]]+=[i]\n",
    "                    print(Genedict_upper.get(i.upper())[0])\n",
    "                    print(longevity_human_symbol_transfer.get(Genedict_upper.get(i.upper())[0]))\n",
    "                else:\n",
    "                    longevity_human_symbol_transfer[Genedict_upper.get(i.upper())[0]]=[i]"
   ]
  },
  {
   "cell_type": "code",
   "execution_count": 203,
   "id": "d64fabfd-d722-4f94-85b0-ad83418afa45",
   "metadata": {},
   "outputs": [
    {
     "data": {
      "text/plain": [
       "766"
      ]
     },
     "execution_count": 203,
     "metadata": {},
     "output_type": "execute_result"
    }
   ],
   "source": [
    "#884\n",
    "len(longevity_human_symbol)"
   ]
  },
  {
   "cell_type": "code",
   "execution_count": 204,
   "id": "e7ddfe32-f094-49ba-8761-523838cb05d0",
   "metadata": {},
   "outputs": [
    {
     "data": {
      "text/plain": [
       "338"
      ]
     },
     "execution_count": 204,
     "metadata": {},
     "output_type": "execute_result"
    }
   ],
   "source": [
    "len(disease_entity_dict2_sorted)"
   ]
  },
  {
   "cell_type": "code",
   "execution_count": 205,
   "id": "2fe91d65-04f4-4617-a6fe-29809a204f79",
   "metadata": {},
   "outputs": [],
   "source": [
    "vcx2=0\n",
    "for i in disease_entity_dict2_sorted[:10]:\n",
    "    if i[0] in longevity_human_symbol:\n",
    "        vcx2+=1"
   ]
  },
  {
   "cell_type": "code",
   "execution_count": 206,
   "id": "dfb64ea3-d1cc-407e-91d3-37c49c34d84c",
   "metadata": {},
   "outputs": [
    {
     "data": {
      "text/plain": [
       "7"
      ]
     },
     "execution_count": 206,
     "metadata": {},
     "output_type": "execute_result"
    }
   ],
   "source": [
    "vcx2"
   ]
  },
  {
   "cell_type": "code",
   "execution_count": 207,
   "id": "8a8831cd-fc27-450b-ac27-6f04a61b4535",
   "metadata": {},
   "outputs": [],
   "source": [
    "vcx2=0\n",
    "for i in disease_entity_dict2_sorted:\n",
    "    if i[0] in longevity_human_symbol:\n",
    "        vcx2+=1"
   ]
  },
  {
   "cell_type": "code",
   "execution_count": 208,
   "id": "4977a999-eb5d-40fc-9139-0c8686769a7e",
   "metadata": {},
   "outputs": [
    {
     "data": {
      "text/plain": [
       "76"
      ]
     },
     "execution_count": 208,
     "metadata": {},
     "output_type": "execute_result"
    }
   ],
   "source": [
    "#73\n",
    "vcx2"
   ]
  },
  {
   "cell_type": "code",
   "execution_count": 209,
   "id": "0bfbd8cc-3c33-4f4f-8626-cc803e5d85ef",
   "metadata": {},
   "outputs": [],
   "source": [
    "gene_longevity_symbol_dict={}\n",
    "# gene_longevity_symbol=[]\n",
    "for i in disease_entity_dict_sorted:\n",
    "    gene_longevity_symbol_dict[i[0]]=gene_longevity_symbol_dict.get(i[0],0)+i[1]\n",
    "for i in disease_entity_dict2_sorted:\n",
    "    gene_longevity_symbol_dict[i[0]]=gene_longevity_symbol_dict.get(i[0],0)+i[1]"
   ]
  },
  {
   "cell_type": "code",
   "execution_count": 210,
   "id": "66014e01-b5a9-4bcf-9fb4-a7b86df2c2f7",
   "metadata": {},
   "outputs": [
    {
     "data": {
      "text/plain": [
       "1257"
      ]
     },
     "execution_count": 210,
     "metadata": {},
     "output_type": "execute_result"
    }
   ],
   "source": [
    "len(gene_longevity_symbol_dict)"
   ]
  },
  {
   "cell_type": "code",
   "execution_count": 211,
   "id": "984171c0-ac1e-474b-b1ea-9553da3aa335",
   "metadata": {},
   "outputs": [],
   "source": [
    "gene_longevity_symbol = sorted(gene_longevity_symbol_dict.items(), key=lambda x: x[1], reverse=True)"
   ]
  },
  {
   "cell_type": "code",
   "execution_count": 212,
   "id": "bcaa4b89-e791-4dab-b855-96700089e5e9",
   "metadata": {},
   "outputs": [
    {
     "data": {
      "text/plain": [
       "[('INS', 462), ('CRP', 262)]"
      ]
     },
     "execution_count": 212,
     "metadata": {},
     "output_type": "execute_result"
    }
   ],
   "source": [
    "gene_longevity_symbol[:2]"
   ]
  },
  {
   "cell_type": "code",
   "execution_count": 213,
   "id": "a525cd9a-d56c-4ddb-b3dc-0e6376a39083",
   "metadata": {},
   "outputs": [
    {
     "name": "stdout",
     "output_type": "stream",
     "text": [
      "167\n"
     ]
    }
   ],
   "source": [
    "vcx4=0\n",
    "for i in gene_longevity_symbol:\n",
    "    if i[0] in genage_symbol:\n",
    "        vcx4+=1\n",
    "print(vcx4)"
   ]
  },
  {
   "cell_type": "code",
   "execution_count": 214,
   "id": "19a846e5-edd9-49cd-b630-ceddec0ec8e2",
   "metadata": {},
   "outputs": [
    {
     "name": "stdout",
     "output_type": "stream",
     "text": [
      "219\n"
     ]
    }
   ],
   "source": [
    "vcx5=0\n",
    "for i in gene_longevity_symbol:\n",
    "    if i[0] in longevity_human_symbol:\n",
    "        vcx5+=1\n",
    "print(vcx5)"
   ]
  },
  {
   "cell_type": "code",
   "execution_count": 215,
   "id": "07b65ca4-ea0a-4798-95e8-51763edd4acb",
   "metadata": {},
   "outputs": [
    {
     "name": "stdout",
     "output_type": "stream",
     "text": [
      "8\n"
     ]
    }
   ],
   "source": [
    "vcx44=0\n",
    "for i in gene_longevity_symbol[:10]:\n",
    "    if i[0] in genage_symbol:\n",
    "        vcx44+=1\n",
    "print(vcx44)"
   ]
  },
  {
   "cell_type": "code",
   "execution_count": 216,
   "id": "95b7490c-b2fc-435e-b64e-e85121c3cd12",
   "metadata": {},
   "outputs": [
    {
     "name": "stdout",
     "output_type": "stream",
     "text": [
      "8\n"
     ]
    }
   ],
   "source": [
    "vcx55=0\n",
    "for i in gene_longevity_symbol[:10]:\n",
    "    if i[0] in longevity_human_symbol:\n",
    "        vcx55+=1\n",
    "print(vcx55)"
   ]
  },
  {
   "cell_type": "code",
   "execution_count": 217,
   "id": "c566b84d-ab34-426d-b154-f50c1de3a402",
   "metadata": {},
   "outputs": [
    {
     "name": "stdout",
     "output_type": "stream",
     "text": [
      "766\n"
     ]
    }
   ],
   "source": [
    "print(len(longevity_human_symbol))"
   ]
  },
  {
   "cell_type": "code",
   "execution_count": 218,
   "id": "4af3bf44-1cac-4a1e-90cd-854ed0840d66",
   "metadata": {},
   "outputs": [
    {
     "name": "stdout",
     "output_type": "stream",
     "text": [
      "338\n"
     ]
    }
   ],
   "source": [
    "print(len(disease_entity_dict2_sorted))"
   ]
  },
  {
   "cell_type": "code",
   "execution_count": null,
   "id": "c70ee806-08e7-41f4-abe9-059d97664605",
   "metadata": {},
   "outputs": [],
   "source": []
  },
  {
   "cell_type": "code",
   "execution_count": 219,
   "id": "9360cd03-2370-4eea-9732-f512eca71cae",
   "metadata": {},
   "outputs": [
    {
     "name": "stdout",
     "output_type": "stream",
     "text": [
      "INS\n",
      "CRP\n",
      "APOE\n",
      "KL\n",
      "MAPT\n",
      "SIRT1\n",
      "IL6\n",
      "ADIPOQ\n",
      "ALB\n",
      "LEP\n",
      "LMNA\n",
      "WRN\n",
      "CD4\n",
      "TP53\n",
      "CST3\n",
      "SHBG\n",
      "ACE\n",
      "BDNF\n",
      "SIRT6\n",
      "RECQL4\n"
     ]
    }
   ],
   "source": [
    "#Figure 3\n",
    "for i in disease_entity_dict_sorted[:20]:\n",
    "    print(i[0])\n"
   ]
  },
  {
   "cell_type": "code",
   "execution_count": 220,
   "id": "6d1c2fbd-00eb-4f88-a228-5e49b4f647b8",
   "metadata": {},
   "outputs": [
    {
     "name": "stdout",
     "output_type": "stream",
     "text": [
      "SIRT1\n",
      "KL\n",
      "INS\n",
      "ACE\n",
      "MAPT\n",
      "SIRT6\n",
      "NFE2L2\n",
      "TP53\n",
      "PRKAA2\n",
      "APOE\n",
      "EPO\n",
      "MTOR\n",
      "SIRT3\n",
      "PTH\n",
      "ADIPOQ\n",
      "WRN\n",
      "PRKAB1\n",
      "CRP\n",
      "AGER\n",
      "SIRT2\n"
     ]
    }
   ],
   "source": [
    "#Figure 3\n",
    "for i in disease_entity_dict2_sorted[:20]:\n",
    "    print(i[0])\n"
   ]
  },
  {
   "cell_type": "code",
   "execution_count": null,
   "id": "871e54a0-b3ee-4093-8ae9-71b9330c72ca",
   "metadata": {},
   "outputs": [],
   "source": []
  },
  {
   "cell_type": "code",
   "execution_count": 221,
   "id": "610d8d27-b0c5-447e-8fea-ddf23b4ae9e6",
   "metadata": {},
   "outputs": [],
   "source": [
    "agingbank_genes_pro=pd.read_csv('../other_databases/agingbank_genes_pro.csv')"
   ]
  },
  {
   "cell_type": "code",
   "execution_count": 222,
   "id": "07395637-7c5f-48bd-a0d7-54df72cf57ad",
   "metadata": {},
   "outputs": [
    {
     "data": {
      "text/html": [
       "<div>\n",
       "<style scoped>\n",
       "    .dataframe tbody tr th:only-of-type {\n",
       "        vertical-align: middle;\n",
       "    }\n",
       "\n",
       "    .dataframe tbody tr th {\n",
       "        vertical-align: top;\n",
       "    }\n",
       "\n",
       "    .dataframe thead th {\n",
       "        text-align: right;\n",
       "    }\n",
       "</style>\n",
       "<table border=\"1\" class=\"dataframe\">\n",
       "  <thead>\n",
       "    <tr style=\"text-align: right;\">\n",
       "      <th></th>\n",
       "      <th>Species</th>\n",
       "      <th>Type</th>\n",
       "      <th>name</th>\n",
       "      <th>sample</th>\n",
       "      <th>Tissue</th>\n",
       "      <th>Up/Down</th>\n",
       "      <th>Pro/Anti</th>\n",
       "      <th>Pubmed ID</th>\n",
       "      <th>Details</th>\n",
       "    </tr>\n",
       "  </thead>\n",
       "  <tbody>\n",
       "    <tr>\n",
       "      <th>0</th>\n",
       "      <td>Homo sapiens</td>\n",
       "      <td>gene</td>\n",
       "      <td>ABI3</td>\n",
       "      <td>human</td>\n",
       "      <td>7 normal thyroid tissues, 21 follicular thyroi...</td>\n",
       "      <td>Down</td>\n",
       "      <td>Pro</td>\n",
       "      <td>21223585</td>\n",
       "      <td>details</td>\n",
       "    </tr>\n",
       "    <tr>\n",
       "      <th>1</th>\n",
       "      <td>Homo sapiens</td>\n",
       "      <td>gene</td>\n",
       "      <td>ABI3BP</td>\n",
       "      <td>human</td>\n",
       "      <td>7 normal thyroid tissues, 21 follicular thyroi...</td>\n",
       "      <td>Down</td>\n",
       "      <td>Pro</td>\n",
       "      <td>21223585</td>\n",
       "      <td>details</td>\n",
       "    </tr>\n",
       "    <tr>\n",
       "      <th>2</th>\n",
       "      <td>Homo sapiens</td>\n",
       "      <td>gene</td>\n",
       "      <td>ACE</td>\n",
       "      <td>human</td>\n",
       "      <td>NaN</td>\n",
       "      <td>NaN</td>\n",
       "      <td>Pro</td>\n",
       "      <td>16971231</td>\n",
       "      <td>details</td>\n",
       "    </tr>\n",
       "  </tbody>\n",
       "</table>\n",
       "</div>"
      ],
      "text/plain": [
       "        Species  Type    name sample  \\\n",
       "0  Homo sapiens  gene    ABI3  human   \n",
       "1  Homo sapiens  gene  ABI3BP  human   \n",
       "2  Homo sapiens  gene     ACE  human   \n",
       "\n",
       "                                              Tissue Up/Down Pro/Anti  \\\n",
       "0  7 normal thyroid tissues, 21 follicular thyroi...    Down      Pro   \n",
       "1  7 normal thyroid tissues, 21 follicular thyroi...    Down      Pro   \n",
       "2                                                NaN     NaN      Pro   \n",
       "\n",
       "   Pubmed ID  Details  \n",
       "0   21223585  details  \n",
       "1   21223585  details  \n",
       "2   16971231  details  "
      ]
     },
     "execution_count": 222,
     "metadata": {},
     "output_type": "execute_result"
    }
   ],
   "source": [
    "agingbank_genes_pro[:3]"
   ]
  },
  {
   "cell_type": "code",
   "execution_count": 223,
   "id": "3527ab36-1635-4c3a-9f06-51a93c9da792",
   "metadata": {},
   "outputs": [],
   "source": [
    "agingbank_genes_pro_list=agingbank_genes_pro['name'].tolist()"
   ]
  },
  {
   "cell_type": "code",
   "execution_count": 224,
   "id": "d710ed9d-57ee-458d-bc0b-87eeba9130c3",
   "metadata": {},
   "outputs": [
    {
     "data": {
      "text/plain": [
       "97"
      ]
     },
     "execution_count": 224,
     "metadata": {},
     "output_type": "execute_result"
    }
   ],
   "source": [
    "len(agingbank_genes_pro_list)"
   ]
  },
  {
   "cell_type": "code",
   "execution_count": 225,
   "id": "4b40d5d2-a05c-4952-8647-a291183caf64",
   "metadata": {},
   "outputs": [
    {
     "name": "stdout",
     "output_type": "stream",
     "text": [
      "IGF1\n",
      "['IGF1', 'IGF-I']\n",
      "CDKN2A\n",
      "['CDKN2A', 'p16']\n",
      "CDKN2A\n",
      "['CDKN2A', 'p16', 'p16INK4a']\n",
      "TP53\n",
      "['p53', 'TP53']\n",
      "CDKN2A\n",
      "['p16INK4a', 'CDKN2A']\n",
      "TP53\n",
      "['TP53', 'p53']\n",
      "CDKN2A\n",
      "['CDKN2A', 'p16']\n"
     ]
    }
   ],
   "source": [
    "# 发现有同一个实体对应不同的名字\n",
    "agingbank_genes_pro_symbol=set()\n",
    "agingbank_genes_pro_symbol_transfer={}\n",
    "for i in agingbank_genes_pro_list:\n",
    "    if re.search(r'(.*)(\\(.*\\))',i):\n",
    "        i=re.search(r'(.*)(\\(.*\\))',i).groups()[0]\n",
    "    if re.search(r'(.*)(\\s.*)',i):\n",
    "        i=re.search(r'(.*)(\\s.*)',i).groups()[0]\n",
    "    if Genedict_upper.get(i.upper()):\n",
    "        agingbank_genes_pro_symbol.add(Genedict_upper.get(i.upper())[0])\n",
    "        if agingbank_genes_pro_symbol_transfer.get(Genedict_upper.get(i.upper())[0]) and i not in agingbank_genes_pro_symbol_transfer.get(Genedict_upper.get(i.upper())[0]):\n",
    "            agingbank_genes_pro_symbol_transfer[Genedict_upper.get(i.upper())[0]]+=[i]\n",
    "            print(Genedict_upper.get(i.upper())[0])\n",
    "            print(agingbank_genes_pro_symbol_transfer.get(Genedict_upper.get(i.upper())[0]))\n",
    "        else:\n",
    "            agingbank_genes_pro_symbol_transfer[Genedict_upper.get(i.upper())[0]]=[i]"
   ]
  },
  {
   "cell_type": "code",
   "execution_count": 226,
   "id": "5346a467-4568-4503-ba11-66321c8e6bff",
   "metadata": {},
   "outputs": [
    {
     "data": {
      "text/plain": [
       "54"
      ]
     },
     "execution_count": 226,
     "metadata": {},
     "output_type": "execute_result"
    }
   ],
   "source": [
    "len(agingbank_genes_pro_symbol)"
   ]
  },
  {
   "cell_type": "code",
   "execution_count": 227,
   "id": "b38a146c-1046-4c4c-8e5d-509276eed0e7",
   "metadata": {},
   "outputs": [
    {
     "name": "stdout",
     "output_type": "stream",
     "text": [
      "3\n"
     ]
    }
   ],
   "source": [
    "counts=[]\n",
    "for i in agingbank_genes_pro_symbol:\n",
    "    for j in disease_entity_dict_sorted[:10]:\n",
    "        if i==j[0]:\n",
    "            counts.append(i)\n",
    "print(len(counts))\n",
    "# for i in gene_trans:\n",
    "#     if i not in counts:\n",
    "#         print(i)\n",
    "        "
   ]
  },
  {
   "cell_type": "code",
   "execution_count": 228,
   "id": "bbf4afdd-0a68-45a4-8117-a3c0c5483141",
   "metadata": {},
   "outputs": [
    {
     "name": "stdout",
     "output_type": "stream",
     "text": [
      "32\n"
     ]
    }
   ],
   "source": [
    "counts=[]\n",
    "for i in agingbank_genes_pro_symbol:\n",
    "    for j in disease_entity_dict_sorted:\n",
    "        if i==j[0]:\n",
    "            counts.append(i)\n",
    "print(len(counts))\n",
    "# for i in gene_trans:\n",
    "#     if i not in counts:\n",
    "#         print(i)\n",
    "        "
   ]
  },
  {
   "cell_type": "code",
   "execution_count": 229,
   "id": "d1fd46b0-bc89-4d6f-b108-6d90658073b3",
   "metadata": {},
   "outputs": [
    {
     "data": {
      "text/plain": [
       "0.5925925925925926"
      ]
     },
     "execution_count": 229,
     "metadata": {},
     "output_type": "execute_result"
    }
   ],
   "source": [
    "32/54"
   ]
  },
  {
   "cell_type": "code",
   "execution_count": 230,
   "id": "6fc596d8-833f-4a19-b881-fe6d6102ac86",
   "metadata": {},
   "outputs": [
    {
     "name": "stdout",
     "output_type": "stream",
     "text": [
      "33\n"
     ]
    }
   ],
   "source": [
    "vcx11=0\n",
    "for i in gene_longevity_symbol:\n",
    "    if i[0] in agingbank_genes_pro_symbol:\n",
    "        vcx11+=1\n",
    "print(vcx11)"
   ]
  },
  {
   "cell_type": "code",
   "execution_count": 231,
   "id": "034d809d-29c7-44fd-ad50-3e93c2f02985",
   "metadata": {},
   "outputs": [
    {
     "data": {
      "text/plain": [
       "0.6111111111111112"
      ]
     },
     "execution_count": 231,
     "metadata": {},
     "output_type": "execute_result"
    }
   ],
   "source": [
    "33/54"
   ]
  },
  {
   "cell_type": "code",
   "execution_count": 232,
   "id": "af601061-107e-4bbc-b22f-8538f7cc89c8",
   "metadata": {},
   "outputs": [
    {
     "name": "stdout",
     "output_type": "stream",
     "text": [
      "3\n"
     ]
    }
   ],
   "source": [
    "vcx66=0\n",
    "for i in gene_longevity_symbol[:10]:\n",
    "    if i[0] in agingbank_genes_pro_symbol:\n",
    "        vcx66+=1\n",
    "print(vcx66)"
   ]
  },
  {
   "cell_type": "code",
   "execution_count": null,
   "id": "c627a48c-d8e4-4261-9419-60425a9ef0c9",
   "metadata": {},
   "outputs": [],
   "source": []
  },
  {
   "cell_type": "code",
   "execution_count": null,
   "id": "9ad5ed1a-a122-4cf3-b04b-5152d1a53e5a",
   "metadata": {},
   "outputs": [],
   "source": []
  },
  {
   "cell_type": "code",
   "execution_count": 233,
   "id": "fcf70a74-4cc0-4956-840a-e670621a7274",
   "metadata": {},
   "outputs": [],
   "source": [
    "agingbank_genes_anti=pd.read_csv('../other_databases/agingbank_genes_anti.csv')"
   ]
  },
  {
   "cell_type": "code",
   "execution_count": 234,
   "id": "1b5884bb-12e4-4d30-b561-09f1073d0d82",
   "metadata": {},
   "outputs": [
    {
     "data": {
      "text/html": [
       "<div>\n",
       "<style scoped>\n",
       "    .dataframe tbody tr th:only-of-type {\n",
       "        vertical-align: middle;\n",
       "    }\n",
       "\n",
       "    .dataframe tbody tr th {\n",
       "        vertical-align: top;\n",
       "    }\n",
       "\n",
       "    .dataframe thead th {\n",
       "        text-align: right;\n",
       "    }\n",
       "</style>\n",
       "<table border=\"1\" class=\"dataframe\">\n",
       "  <thead>\n",
       "    <tr style=\"text-align: right;\">\n",
       "      <th></th>\n",
       "      <th>Species</th>\n",
       "      <th>Type</th>\n",
       "      <th>name</th>\n",
       "      <th>sample</th>\n",
       "      <th>Tissue</th>\n",
       "      <th>Up/Down</th>\n",
       "      <th>Pro/Anti</th>\n",
       "      <th>Pubmed ID</th>\n",
       "      <th>Details</th>\n",
       "    </tr>\n",
       "  </thead>\n",
       "  <tbody>\n",
       "    <tr>\n",
       "      <th>0</th>\n",
       "      <td>Homo sapiens</td>\n",
       "      <td>gene</td>\n",
       "      <td>AEG-1</td>\n",
       "      <td>cell line</td>\n",
       "      <td>LNCaP;C42B</td>\n",
       "      <td>Down</td>\n",
       "      <td>Anti</td>\n",
       "      <td>28923415</td>\n",
       "      <td>details</td>\n",
       "    </tr>\n",
       "    <tr>\n",
       "      <th>1</th>\n",
       "      <td>Homo sapiens</td>\n",
       "      <td>gene</td>\n",
       "      <td>AKT1</td>\n",
       "      <td>human</td>\n",
       "      <td>Brain</td>\n",
       "      <td>NaN</td>\n",
       "      <td>Anti</td>\n",
       "      <td>16914869</td>\n",
       "      <td>details</td>\n",
       "    </tr>\n",
       "    <tr>\n",
       "      <th>2</th>\n",
       "      <td>Homo sapiens</td>\n",
       "      <td>gene</td>\n",
       "      <td>APOE</td>\n",
       "      <td>human</td>\n",
       "      <td>NaN</td>\n",
       "      <td>NaN</td>\n",
       "      <td>Anti</td>\n",
       "      <td>17234815</td>\n",
       "      <td>details</td>\n",
       "    </tr>\n",
       "  </tbody>\n",
       "</table>\n",
       "</div>"
      ],
      "text/plain": [
       "        Species  Type   name     sample      Tissue Up/Down Pro/Anti  \\\n",
       "0  Homo sapiens  gene  AEG-1  cell line  LNCaP;C42B    Down     Anti   \n",
       "1  Homo sapiens  gene   AKT1      human       Brain     NaN     Anti   \n",
       "2  Homo sapiens  gene   APOE      human         NaN     NaN     Anti   \n",
       "\n",
       "   Pubmed ID  Details  \n",
       "0   28923415  details  \n",
       "1   16914869  details  \n",
       "2   17234815  details  "
      ]
     },
     "execution_count": 234,
     "metadata": {},
     "output_type": "execute_result"
    }
   ],
   "source": [
    "agingbank_genes_anti[:3]"
   ]
  },
  {
   "cell_type": "code",
   "execution_count": 235,
   "id": "8eda6db4-d489-4b96-9bb2-46d0a7a51e77",
   "metadata": {},
   "outputs": [],
   "source": [
    "agingbank_genes_anti_list=agingbank_genes_anti['name'].tolist()"
   ]
  },
  {
   "cell_type": "code",
   "execution_count": 236,
   "id": "67091d63-997c-403b-a7de-63a5dfbde70b",
   "metadata": {},
   "outputs": [
    {
     "data": {
      "text/plain": [
       "154"
      ]
     },
     "execution_count": 236,
     "metadata": {},
     "output_type": "execute_result"
    }
   ],
   "source": [
    "len(agingbank_genes_anti_list)"
   ]
  },
  {
   "cell_type": "code",
   "execution_count": 237,
   "id": "5e4a0cb5-152a-44e6-991d-e67bc6250c4e",
   "metadata": {},
   "outputs": [
    {
     "name": "stdout",
     "output_type": "stream",
     "text": [
      "FOXO3\n",
      "['FOXO3', 'FOXO3a']\n",
      "PARP1\n",
      "['PARP', 'PARP1']\n",
      "STAG2\n",
      "['SA2', 'STAG2']\n",
      "TERT\n",
      "['hEST2', 'TERT']\n",
      "KL\n",
      "['klotho', 'KL']\n"
     ]
    }
   ],
   "source": [
    "# 发现有同一个实体对应不同的名字\n",
    "agingbank_genes_anti_symbol=set()\n",
    "agingbank_genes_anti_symbol_transfer={}\n",
    "for i in agingbank_genes_anti_list:\n",
    "    if re.search(r'(.*)(\\(.*\\))',i):\n",
    "        i=re.search(r'(.*)(\\(.*\\))',i).groups()[0]\n",
    "    if re.search(r'(.*)(\\s.*)',i):\n",
    "        i=re.search(r'(.*)(\\s.*)',i).groups()[0]\n",
    "    if Genedict_upper.get(i.upper()):\n",
    "        agingbank_genes_anti_symbol.add(Genedict_upper.get(i.upper())[0])\n",
    "        if agingbank_genes_anti_symbol_transfer.get(Genedict_upper.get(i.upper())[0]) and i not in agingbank_genes_anti_symbol_transfer.get(Genedict_upper.get(i.upper())[0]):\n",
    "            agingbank_genes_anti_symbol_transfer[Genedict_upper.get(i.upper())[0]]+=[i]\n",
    "            print(Genedict_upper.get(i.upper())[0])\n",
    "            print(agingbank_genes_anti_symbol_transfer.get(Genedict_upper.get(i.upper())[0]))\n",
    "        else:\n",
    "            agingbank_genes_anti_symbol_transfer[Genedict_upper.get(i.upper())[0]]=[i]"
   ]
  },
  {
   "cell_type": "code",
   "execution_count": 238,
   "id": "fc330dfb-a043-4e5c-89d1-fa6933519baf",
   "metadata": {},
   "outputs": [
    {
     "data": {
      "text/plain": [
       "96"
      ]
     },
     "execution_count": 238,
     "metadata": {},
     "output_type": "execute_result"
    }
   ],
   "source": [
    "len(agingbank_genes_anti_symbol)"
   ]
  },
  {
   "cell_type": "code",
   "execution_count": 239,
   "id": "94402dea-5339-4f06-b042-f03c495c098b",
   "metadata": {},
   "outputs": [
    {
     "name": "stdout",
     "output_type": "stream",
     "text": [
      "6\n"
     ]
    }
   ],
   "source": [
    "counts2=[]\n",
    "for i in agingbank_genes_anti_symbol:\n",
    "    for j in disease_entity_dict2_sorted[:10]:\n",
    "        if i==j[0]:\n",
    "            counts2.append(i)\n",
    "print(len(counts2))\n",
    "# for i in gene_trans:\n",
    "#     if i not in counts:\n",
    "#         print(i)\n",
    "        "
   ]
  },
  {
   "cell_type": "code",
   "execution_count": 240,
   "id": "8eb6742b-08ab-40aa-98f7-fcc466be5d0f",
   "metadata": {},
   "outputs": [
    {
     "name": "stdout",
     "output_type": "stream",
     "text": [
      "28\n"
     ]
    }
   ],
   "source": [
    "counts2=[]\n",
    "for i in agingbank_genes_anti_symbol:\n",
    "    for j in disease_entity_dict2_sorted:\n",
    "        if i==j[0]:\n",
    "            counts2.append(i)\n",
    "print(len(counts2))\n",
    "# for i in gene_trans:\n",
    "#     if i not in counts:\n",
    "#         print(i)\n",
    "        "
   ]
  },
  {
   "cell_type": "code",
   "execution_count": 241,
   "id": "b250f3b7-0918-47d0-9873-c6086aaa0161",
   "metadata": {},
   "outputs": [
    {
     "data": {
      "text/plain": [
       "0.2916666666666667"
      ]
     },
     "execution_count": 241,
     "metadata": {},
     "output_type": "execute_result"
    }
   ],
   "source": [
    "28/96"
   ]
  },
  {
   "cell_type": "code",
   "execution_count": 242,
   "id": "c3804a45-6323-4fa0-be23-3d479ad1ae3e",
   "metadata": {},
   "outputs": [
    {
     "name": "stdout",
     "output_type": "stream",
     "text": [
      "46\n"
     ]
    }
   ],
   "source": [
    "vcx12=0\n",
    "for i in gene_longevity_symbol:\n",
    "    if i[0] in agingbank_genes_anti_symbol:\n",
    "        vcx12+=1\n",
    "print(vcx12)"
   ]
  },
  {
   "cell_type": "code",
   "execution_count": 243,
   "id": "41b9fce9-51c8-4951-bd98-a9641b5ec850",
   "metadata": {},
   "outputs": [
    {
     "data": {
      "text/plain": [
       "0.4791666666666667"
      ]
     },
     "execution_count": 243,
     "metadata": {},
     "output_type": "execute_result"
    }
   ],
   "source": [
    "46/96"
   ]
  },
  {
   "cell_type": "code",
   "execution_count": 244,
   "id": "fa927443-ca47-4b86-b8b5-95c1d142640c",
   "metadata": {},
   "outputs": [
    {
     "name": "stdout",
     "output_type": "stream",
     "text": [
      "6\n"
     ]
    }
   ],
   "source": [
    "vcx77=0\n",
    "for i in gene_longevity_symbol[:10]:\n",
    "    if i[0] in agingbank_genes_anti_symbol:\n",
    "        vcx77+=1\n",
    "print(vcx77)"
   ]
  },
  {
   "cell_type": "code",
   "execution_count": null,
   "id": "5a75852c-be36-40a3-8db0-e39155c0462d",
   "metadata": {},
   "outputs": [],
   "source": []
  },
  {
   "cell_type": "code",
   "execution_count": null,
   "id": "983f3063-1643-401f-8eb3-1d8077554280",
   "metadata": {},
   "outputs": [],
   "source": []
  },
  {
   "cell_type": "code",
   "execution_count": 245,
   "id": "62dd61e3-f3c2-4dc0-b708-1506d41f6ace",
   "metadata": {},
   "outputs": [],
   "source": [
    "agingatlas_genes=pd.read_csv('../other_databases/agingatlas_genes.csv')"
   ]
  },
  {
   "cell_type": "code",
   "execution_count": 246,
   "id": "8cfe3431-bce7-492b-8d1b-07cce4bde852",
   "metadata": {},
   "outputs": [
    {
     "data": {
      "text/html": [
       "<div>\n",
       "<style scoped>\n",
       "    .dataframe tbody tr th:only-of-type {\n",
       "        vertical-align: middle;\n",
       "    }\n",
       "\n",
       "    .dataframe tbody tr th {\n",
       "        vertical-align: top;\n",
       "    }\n",
       "\n",
       "    .dataframe thead th {\n",
       "        text-align: right;\n",
       "    }\n",
       "</style>\n",
       "<table border=\"1\" class=\"dataframe\">\n",
       "  <thead>\n",
       "    <tr style=\"text-align: right;\">\n",
       "      <th></th>\n",
       "      <th>Symbol</th>\n",
       "    </tr>\n",
       "  </thead>\n",
       "  <tbody>\n",
       "    <tr>\n",
       "      <th>0</th>\n",
       "      <td>IL2RB</td>\n",
       "    </tr>\n",
       "    <tr>\n",
       "      <th>1</th>\n",
       "      <td>PSAT1</td>\n",
       "    </tr>\n",
       "    <tr>\n",
       "      <th>2</th>\n",
       "      <td>A2M</td>\n",
       "    </tr>\n",
       "  </tbody>\n",
       "</table>\n",
       "</div>"
      ],
      "text/plain": [
       "  Symbol\n",
       "0  IL2RB\n",
       "1  PSAT1\n",
       "2    A2M"
      ]
     },
     "execution_count": 246,
     "metadata": {},
     "output_type": "execute_result"
    }
   ],
   "source": [
    "agingatlas_genes[:3]"
   ]
  },
  {
   "cell_type": "code",
   "execution_count": 247,
   "id": "4159b497-ab71-45a9-8533-6bbfb5ff78a8",
   "metadata": {},
   "outputs": [],
   "source": [
    "agingatlas_genes_list=agingatlas_genes['Symbol'].tolist()"
   ]
  },
  {
   "cell_type": "code",
   "execution_count": 248,
   "id": "189bd62a-a67f-4423-84dc-6d2bf327d40e",
   "metadata": {},
   "outputs": [
    {
     "data": {
      "text/plain": [
       "502"
      ]
     },
     "execution_count": 248,
     "metadata": {},
     "output_type": "execute_result"
    }
   ],
   "source": [
    "len(agingatlas_genes_list)"
   ]
  },
  {
   "cell_type": "code",
   "execution_count": 249,
   "id": "7729a56f-18ac-4f90-83fa-7389e0e25a6b",
   "metadata": {},
   "outputs": [
    {
     "name": "stdout",
     "output_type": "stream",
     "text": [
      "RAD27\n",
      "TERC\n"
     ]
    }
   ],
   "source": [
    "# 发现有同一个实体对应不同的名字\n",
    "agingatlas_genes_symbol=set()\n",
    "agingatlas_genes_symbol_transfer={}\n",
    "for i in agingatlas_genes_list:\n",
    "    if Genedict_upper.get(i.upper()):\n",
    "        if Genedict_upper.get(i.upper())[0] in agingatlas_genes_symbol:\n",
    "            print(Genedict_upper.get(i.upper())[0])\n",
    "            print(i)\n",
    "        agingatlas_genes_symbol.add(Genedict_upper.get(i.upper())[0])\n",
    "\n",
    "        if agingatlas_genes_symbol_transfer.get(Genedict_upper.get(i.upper())[0]) and i not in agingatlas_genes_symbol_transfer.get(Genedict_upper.get(i.upper())[0]):\n",
    "            agingatlas_genes_symbol_transfer[Genedict_upper.get(i.upper())[0]]+=[i]\n",
    "            print(Genedict_upper.get(i.upper())[0])\n",
    "            print(agingatlas_genes_symbol_transfer.get(Genedict_upper.get(i.upper())[0]))\n",
    "        else:\n",
    "            agingatlas_genes_symbol_transfer[Genedict_upper.get(i.upper())[0]]=[i]\n",
    "    else:\n",
    "        print(i)"
   ]
  },
  {
   "cell_type": "code",
   "execution_count": 250,
   "id": "6066783a-2c26-4fa7-ba3b-9da2400e81fc",
   "metadata": {},
   "outputs": [
    {
     "data": {
      "text/plain": [
       "500"
      ]
     },
     "execution_count": 250,
     "metadata": {},
     "output_type": "execute_result"
    }
   ],
   "source": [
    "len(agingatlas_genes_symbol)"
   ]
  },
  {
   "cell_type": "code",
   "execution_count": 251,
   "id": "37d4ee4b-c2fa-4d98-8155-c6aab54ba7fa",
   "metadata": {},
   "outputs": [
    {
     "name": "stdout",
     "output_type": "stream",
     "text": [
      "8\n"
     ]
    }
   ],
   "source": [
    "counts=[]\n",
    "for i in agingatlas_genes_symbol:\n",
    "    for j in disease_entity_dict_sorted[:10]:\n",
    "        if i==j[0]:\n",
    "            counts.append(i)\n",
    "print(len(counts))\n",
    "# for i in gene_trans:\n",
    "#     if i not in counts:\n",
    "#         print(i)"
   ]
  },
  {
   "cell_type": "code",
   "execution_count": 252,
   "id": "42a33725-746d-43c9-9d29-e1a60a31a92b",
   "metadata": {},
   "outputs": [
    {
     "name": "stdout",
     "output_type": "stream",
     "text": [
      "228\n"
     ]
    }
   ],
   "source": [
    "counts=[]\n",
    "for i in agingatlas_genes_symbol:\n",
    "    for j in disease_entity_dict_sorted:\n",
    "        if i==j[0]:\n",
    "            counts.append(i)\n",
    "print(len(counts))\n",
    "# for i in gene_trans:\n",
    "#     if i not in counts:\n",
    "#         print(i)\n",
    "        "
   ]
  },
  {
   "cell_type": "code",
   "execution_count": 253,
   "id": "366aaf0f-6126-4dae-916f-2b2fcd0e5c92",
   "metadata": {},
   "outputs": [
    {
     "data": {
      "text/plain": [
       "0.456"
      ]
     },
     "execution_count": 253,
     "metadata": {},
     "output_type": "execute_result"
    }
   ],
   "source": [
    "228/500"
   ]
  },
  {
   "cell_type": "code",
   "execution_count": 254,
   "id": "f8c12fa0-e549-4979-a737-cf52f83acc3b",
   "metadata": {},
   "outputs": [
    {
     "name": "stdout",
     "output_type": "stream",
     "text": [
      "9\n"
     ]
    }
   ],
   "source": [
    "vcx88=0\n",
    "for i in gene_longevity_symbol[:10]:\n",
    "    if i[0] in agingatlas_genes_symbol:\n",
    "        vcx88+=1\n",
    "print(vcx88)"
   ]
  },
  {
   "cell_type": "code",
   "execution_count": 255,
   "id": "d408f471-b29a-480b-9733-51bcc18e90e6",
   "metadata": {},
   "outputs": [
    {
     "data": {
      "text/plain": [
       "[('INS', 412), ('CRP', 255)]"
      ]
     },
     "execution_count": 255,
     "metadata": {},
     "output_type": "execute_result"
    }
   ],
   "source": [
    "disease_entity_dict_sorted[:2]"
   ]
  },
  {
   "cell_type": "code",
   "execution_count": 256,
   "id": "50bd9b38-75e6-4029-869e-3832f73a5366",
   "metadata": {},
   "outputs": [
    {
     "data": {
      "text/plain": [
       "[('INS', 462), ('CRP', 262)]"
      ]
     },
     "execution_count": 256,
     "metadata": {},
     "output_type": "execute_result"
    }
   ],
   "source": [
    "gene_longevity_symbol[:2]"
   ]
  },
  {
   "cell_type": "code",
   "execution_count": 257,
   "id": "676d5878-ad37-4f6f-bec8-86878217ab84",
   "metadata": {},
   "outputs": [
    {
     "name": "stdout",
     "output_type": "stream",
     "text": [
      "238\n"
     ]
    }
   ],
   "source": [
    "vcx13=0\n",
    "for i in gene_longevity_symbol:\n",
    "    if i[0] in agingatlas_genes_symbol:\n",
    "        vcx13+=1\n",
    "print(vcx13)"
   ]
  },
  {
   "cell_type": "code",
   "execution_count": 258,
   "id": "8a3afc26-5961-40c8-918c-ecd6b198a391",
   "metadata": {},
   "outputs": [
    {
     "data": {
      "text/plain": [
       "0.476"
      ]
     },
     "execution_count": 258,
     "metadata": {},
     "output_type": "execute_result"
    }
   ],
   "source": [
    "238/500"
   ]
  },
  {
   "cell_type": "code",
   "execution_count": 259,
   "id": "a99859b6-a8e6-4633-aeae-897c52091be0",
   "metadata": {},
   "outputs": [],
   "source": [
    "#Supplementary Table 1\n",
    "\n",
    "datas1= []\n",
    "datas2=[]\n",
    "datas3=[]\n",
    "datas4=[]\n",
    "datas5=[]\n",
    "for i in disease_entity_dict_sorted:\n",
    "    datas1.append(i[0])\n",
    "    datas2.append(i[1])\n",
    "    if genage_symbol_transfer.get(i[0]):\n",
    "        datas3.append('; '.join(genage_symbol_transfer.get(i[0])))\n",
    "    else:\n",
    "        datas3.append('')\n",
    "    if agingbank_genes_pro_symbol_transfer.get(i[0]):\n",
    "        datas4.append('; '.join(agingbank_genes_pro_symbol_transfer.get(i[0])))\n",
    "    else:\n",
    "        datas4.append('') \n",
    "    if agingatlas_genes_symbol_transfer.get(i[0]):\n",
    "        datas5.append('; '.join(agingatlas_genes_symbol_transfer.get(i[0])))\n",
    "    else:\n",
    "        datas5.append('') \n",
    "dataframe1 = pd.DataFrame({'HALD':datas1,'Frequency of occurrence':datas2,'GenAge':datas3,'Aging Atlas':datas5,'AgingBank (Pro)':datas4})\n",
    "dataframe1.to_csv(\"results/step4/Supplementary1.csv\", index=False)"
   ]
  },
  {
   "cell_type": "code",
   "execution_count": 260,
   "id": "4168ec5d-b979-4ee8-8cba-90cc398483aa",
   "metadata": {},
   "outputs": [],
   "source": [
    "#Supplementary Table 2\n",
    "\n",
    "datas6= []\n",
    "datas7=[]\n",
    "datas8=[]\n",
    "datas9=[]\n",
    "datas10=[]\n",
    "for i in disease_entity_dict2_sorted:\n",
    "    datas6.append(i[0])\n",
    "    datas7.append(i[1])\n",
    "    if longevity_human_symbol_transfer.get(i[0]):\n",
    "        datas8.append('; '.join(longevity_human_symbol_transfer.get(i[0])))\n",
    "    else:\n",
    "        datas8.append('')\n",
    "    if agingbank_genes_anti_symbol_transfer.get(i[0]):\n",
    "        datas9.append('; '.join(agingbank_genes_anti_symbol_transfer.get(i[0])))\n",
    "    else:\n",
    "        datas9.append('') \n",
    "dataframe2 = pd.DataFrame({'HALD':datas6,'Frequency of occurrence':datas7,'LongevityMap':datas8,'AgingBank (Anti)':datas9})\n",
    "dataframe2.to_csv(\"results/step4/Supplementary2.csv\", index=False)"
   ]
  },
  {
   "cell_type": "code",
   "execution_count": 261,
   "id": "1726a42f-f5b5-4cc6-8bcf-a687ecf61692",
   "metadata": {},
   "outputs": [],
   "source": [
    "#Supplementary Table 3\n",
    "\n",
    "data1= []\n",
    "data2=[]\n",
    "data3=[]\n",
    "data4=[]\n",
    "data5=[]\n",
    "data6=[]\n",
    "data7=[]\n",
    "data8=[]\n",
    "for i in gene_longevity_symbol:\n",
    "    label1=[]\n",
    "    label2=[]\n",
    "    data1.append(i[0])\n",
    "    for j in disease_entity_dict_sorted:\n",
    "        if i[0]==j[0]:\n",
    "            label1.append('Aging')\n",
    "            label2.append(str(j[1]))\n",
    "            break\n",
    "    for j in disease_entity_dict2_sorted:\n",
    "        if i[0]==j[0]:\n",
    "            label1.append('Longevity')\n",
    "            label2.append(str(j[1]))\n",
    "            break\n",
    "    data2.append(' | '.join(label1))\n",
    "    data3.append(' | '.join(label2))\n",
    "    if genage_symbol_transfer.get(i[0]):\n",
    "        data4.append('; '.join(genage_symbol_transfer.get(i[0])))\n",
    "    else:\n",
    "        data4.append('')\n",
    "    if longevity_human_symbol_transfer.get(i[0]):\n",
    "        data5.append('; '.join(longevity_human_symbol_transfer.get(i[0])))\n",
    "    else:\n",
    "        data5.append('')\n",
    "    if agingbank_genes_pro_symbol_transfer.get(i[0]):\n",
    "        data6.append('; '.join(agingbank_genes_pro_symbol_transfer.get(i[0])))\n",
    "    else:\n",
    "        data6.append('') \n",
    "    if agingbank_genes_anti_symbol_transfer.get(i[0]):\n",
    "        data7.append('; '.join(agingbank_genes_anti_symbol_transfer.get(i[0])))\n",
    "    else:\n",
    "        data7.append('') \n",
    "    if agingatlas_genes_symbol_transfer.get(i[0]):\n",
    "        data8.append('; '.join(agingatlas_genes_symbol_transfer.get(i[0])))\n",
    "    else:\n",
    "        data8.append('') \n",
    "dataframe3 = pd.DataFrame({'HALD':data1,'Aging or Longevity':data2,'Frequency of occurrence':data3,'GenAge':data4,'LongevityMap':data5,'Aging Atlas':data8,'AgingBank (Pro)':data6,'AgingBank (Anti)':data7})\n",
    "dataframe3.to_csv(\"results/step4/Supplementary3.csv\", index=False)"
   ]
  },
  {
   "cell_type": "code",
   "execution_count": null,
   "id": "7c05fe5d-8044-406e-a7da-02b192457994",
   "metadata": {},
   "outputs": [],
   "source": []
  },
  {
   "cell_type": "code",
   "execution_count": 262,
   "id": "79786bcb-e498-4fd0-aa30-9126de2a5773",
   "metadata": {},
   "outputs": [
    {
     "data": {
      "text/plain": [
       "'\\ndisease_entity_dict_sorted\\ndisease_entity_dict2_sorted\\ngenage_symbol\\nlongevity_human_symbol\\nagingbank_genes_pro_symbol\\nagingbank_genes_anti_symbol\\nagingatlas_genes_symbol\\n'"
      ]
     },
     "execution_count": 262,
     "metadata": {},
     "output_type": "execute_result"
    }
   ],
   "source": [
    "'''\n",
    "disease_entity_dict_sorted\n",
    "disease_entity_dict2_sorted\n",
    "genage_symbol\n",
    "longevity_human_symbol\n",
    "agingbank_genes_pro_symbol\n",
    "agingbank_genes_anti_symbol\n",
    "agingatlas_genes_symbol\n",
    "'''\n"
   ]
  },
  {
   "cell_type": "code",
   "execution_count": 263,
   "id": "210e3ea4-57e6-4859-a5a6-40a0f51c2d53",
   "metadata": {},
   "outputs": [
    {
     "name": "stdout",
     "output_type": "stream",
     "text": [
      "306\n",
      "16\n",
      "20\n",
      "160\n",
      "14\n",
      "17\n",
      "16\n",
      "14\n"
     ]
    }
   ],
   "source": [
    "ccc=0\n",
    "for i in genage_symbol:\n",
    "    if i in agingatlas_genes_symbol:\n",
    "        ccc+=1\n",
    "print(ccc)\n",
    "ccc=0\n",
    "for i in genage_symbol:\n",
    "    if i in agingbank_genes_pro_symbol:\n",
    "        ccc+=1\n",
    "print(ccc)\n",
    "ccc=0\n",
    "for i in agingatlas_genes_symbol:\n",
    "    if i in agingbank_genes_pro_symbol:\n",
    "        ccc+=1\n",
    "print(ccc)\n",
    "ccc=0\n",
    "for i in disease_entity_dict_sorted:\n",
    "    if i[0] in genage_symbol and i[0] in agingatlas_genes_symbol:\n",
    "        ccc+=1\n",
    "print(ccc)\n",
    "ccc=0\n",
    "for i in disease_entity_dict_sorted:\n",
    "    if i[0] in genage_symbol and i[0] in agingbank_genes_pro_symbol:\n",
    "        ccc+=1\n",
    "print(ccc)\n",
    "ccc=0\n",
    "for i in disease_entity_dict_sorted:\n",
    "    if i[0] in agingatlas_genes_symbol and i[0] in agingbank_genes_pro_symbol:\n",
    "        ccc+=1\n",
    "print(ccc)\n",
    "ccc=0\n",
    "for i in genage_symbol:\n",
    "    if i in agingatlas_genes_symbol and i in agingbank_genes_pro_symbol:\n",
    "        ccc+=1\n",
    "print(ccc)\n",
    "ccc=0\n",
    "for i in disease_entity_dict_sorted:\n",
    "    if i[0] in genage_symbol and i[0] in agingatlas_genes_symbol and i[0] in agingbank_genes_pro_symbol :\n",
    "        ccc+=1\n",
    "print(ccc)"
   ]
  },
  {
   "cell_type": "code",
   "execution_count": 264,
   "id": "63e31dd0-5b28-440d-af05-fb567a49a993",
   "metadata": {},
   "outputs": [
    {
     "name": "stdout",
     "output_type": "stream",
     "text": [
      "33\n",
      "22\n"
     ]
    }
   ],
   "source": [
    "ccc=0\n",
    "for i in longevity_human_symbol:\n",
    "    if i in agingbank_genes_anti_symbol:\n",
    "        ccc+=1\n",
    "print(ccc)\n",
    "ccc=0\n",
    "for i in disease_entity_dict2_sorted:\n",
    "    if i[0] in longevity_human_symbol and i[0] in agingbank_genes_anti_symbol:\n",
    "        ccc+=1\n",
    "print(ccc)"
   ]
  },
  {
   "cell_type": "code",
   "execution_count": null,
   "id": "b355a7e2-0a2a-4f58-8305-622f82f0f7d8",
   "metadata": {},
   "outputs": [],
   "source": []
  },
  {
   "cell_type": "code",
   "execution_count": null,
   "id": "4b1b6227-9138-4062-9ba6-09501d773af8",
   "metadata": {},
   "outputs": [],
   "source": []
  },
  {
   "cell_type": "code",
   "execution_count": null,
   "id": "1c8b2377-738e-43d3-ad49-1397a9c0affe",
   "metadata": {},
   "outputs": [],
   "source": []
  },
  {
   "cell_type": "code",
   "execution_count": null,
   "id": "38a4043b-844d-4932-8922-3185d7276744",
   "metadata": {},
   "outputs": [],
   "source": []
  },
  {
   "cell_type": "code",
   "execution_count": null,
   "id": "14fa796c-3e9d-48c9-8a50-b8ffcabba878",
   "metadata": {},
   "outputs": [],
   "source": []
  },
  {
   "cell_type": "code",
   "execution_count": null,
   "id": "a15b263f-fbda-4098-9a14-1743904d097f",
   "metadata": {},
   "outputs": [],
   "source": []
  },
  {
   "cell_type": "code",
   "execution_count": 265,
   "id": "ae38856f-6d4e-4b76-ad5d-95a542a1b41a",
   "metadata": {},
   "outputs": [
    {
     "data": {
      "text/plain": [
       "{'from': 0,\n",
       " 'to': 1,\n",
       " 'relation': 'lead',\n",
       " 'PMID': ['35926182'],\n",
       " 'sentence': ['Here, using single-cell technologies and functional validation studies of primary SF3B1-mutant MDS-RS samples, we show that SF3B1 mutations lead to the activation of the EIF2AK1 pathway in response to heme deficiency and that targeting this pathway rescues aberrant erythroid differentiation and enables the red blood cell maturation of MDS-RS erythroblasts.'],\n",
       " 'DP': ['2022 Nov 2'],\n",
       " 'TI': ['Targeting the EIF2AK1 Signaling Pathway Rescues Red Blood Cell Production in SF3B1-Mutant Myelodysplastic Syndromes With Ringed Sideroblasts.'],\n",
       " 'TA': ['Blood Cancer Discov'],\n",
       " 'IF': [0.0],\n",
       " 'IF5': [0.0],\n",
       " 'date': [20221102],\n",
       " 'first_entity_transformed': 'SF3B1',\n",
       " 'second_entity_transformed': 'EIF2AK1',\n",
       " 'first_entity': ['SF3B1'],\n",
       " 'second_entity': ['EIF2AK1'],\n",
       " 'first_type': ['Gene'],\n",
       " 'second_type': ['Gene']}"
      ]
     },
     "execution_count": 265,
     "metadata": {},
     "output_type": "execute_result"
    }
   ],
   "source": [
    "relation_interpolation_list[0]"
   ]
  },
  {
   "cell_type": "code",
   "execution_count": 266,
   "id": "47c4e8f4-dcb3-49b5-b983-3c7647a20639",
   "metadata": {},
   "outputs": [
    {
     "data": {
      "text/plain": [
       "{'triple': ['SF3B1', 'lead', 'EIF2AK1'],\n",
       " 'PMID': '35926182',\n",
       " 'sentence': 'Here, using single-cell technologies and functional validation studies of primary SF3B1-mutant MDS-RS samples, we show that SF3B1 mutations lead to the activation of the EIF2AK1 pathway in response to heme deficiency and that targeting this pathway rescues aberrant erythroid differentiation and enables the red blood cell maturation of MDS-RS erythroblasts.',\n",
       " 'AB': 'SF3B1 mutations, which occur in 20% of patients with myelodysplastic syndromes (MDS), are the hallmarks of a specific MDS subtype, MDS with ringed sideroblasts (MDS-RS), which is characterized by the accumulation of erythroid precursors in the bone marrow and primarily affects the elderly population. Here, using single-cell technologies and functional validation studies of primary SF3B1-mutant MDS-RS samples, we show that SF3B1 mutations lead to the activation of the EIF2AK1 pathway in response to heme deficiency and that targeting this pathway rescues aberrant erythroid differentiation and enables the red blood cell maturation of MDS-RS erythroblasts. These data support the development of EIF2AK1 inhibitors to overcome transfusion dependency in patients with SF3B1-mutant MDS-RS with impaired red blood cell production.',\n",
       " 'entity_one': 'SF3B1',\n",
       " 'entity_one_type': 'Gene',\n",
       " 'entity_two': 'EIF2AK1',\n",
       " 'entity_two_type': 'Gene',\n",
       " 'entity_one_transformed': 'SF3B1',\n",
       " 'entity_two_transformed': 'EIF2AK1',\n",
       " 'transformed_triple': ('SF3B1', 'lead', 'EIF2AK1', '35926182'),\n",
       " 'verb': 'lead',\n",
       " 'IF': 0.0,\n",
       " 'IF5': 0.0}"
      ]
     },
     "execution_count": 266,
     "metadata": {},
     "output_type": "execute_result"
    }
   ],
   "source": [
    "triplelistnew[0]"
   ]
  },
  {
   "cell_type": "code",
   "execution_count": 267,
   "id": "063a2012-34fd-46e8-82b2-f0e952e7df7a",
   "metadata": {},
   "outputs": [],
   "source": [
    "direction=set()\n",
    "direction_list=[]\n",
    "direction_type=[]\n",
    "for i in triplelistnew:\n",
    "    for j in entitydict_tolist.get(i.get('entity_one_transformed')):\n",
    "        for k in entitydict_tolist.get(i.get('entity_two_transformed')):\n",
    "            if (i.get('entity_one_transformed'),(i.get('entity_two_transformed')),j,k) not in direction:\n",
    "                direction.add((i.get('entity_one_transformed'),(i.get('entity_two_transformed')),j,k))\n",
    "                direction_list.append((i.get('entity_one_transformed'),(i.get('entity_two_transformed'))))\n",
    "                direction_type.append((j.replace(' ','_'),k.replace(' ','_')))"
   ]
  },
  {
   "cell_type": "code",
   "execution_count": 268,
   "id": "44ee1acd-ef0d-46a4-b0e3-21ac42c7e3b8",
   "metadata": {},
   "outputs": [
    {
     "data": {
      "text/plain": [
       "52272"
      ]
     },
     "execution_count": 268,
     "metadata": {},
     "output_type": "execute_result"
    }
   ],
   "source": [
    "#51622\n",
    "len(direction_list)"
   ]
  },
  {
   "cell_type": "code",
   "execution_count": 269,
   "id": "054d9c63-f5c3-4d3e-aaa5-dfd2364f6bef",
   "metadata": {},
   "outputs": [],
   "source": [
    "type_dict={}\n",
    "type_dict_ensure={}\n",
    "for i in range(len(direction_list)):\n",
    "    if not type_dict_ensure.get((direction_list[i][0],direction_list[i][1],direction_type[i][0],direction_type[i][1])):\n",
    "        type_dict[(direction_list[i][0],direction_list[i][1])]=tuple((direction_type[i][0],direction_type[i][1]))\n",
    "        type_dict_ensure[(direction_list[i][0],direction_list[i][1],direction_type[i][0],direction_type[i][1])]=tuple((direction_type[i][0],direction_type[i][1]))"
   ]
  },
  {
   "cell_type": "code",
   "execution_count": 270,
   "id": "9fa12acf-0aea-49d1-9352-5c07f75f1c90",
   "metadata": {},
   "outputs": [
    {
     "data": {
      "text/plain": [
       "51841"
      ]
     },
     "execution_count": 270,
     "metadata": {},
     "output_type": "execute_result"
    }
   ],
   "source": [
    "#51203\n",
    "len(type_dict)"
   ]
  },
  {
   "cell_type": "code",
   "execution_count": null,
   "id": "4f6880af-e1aa-4c92-9259-b8ab5dd6aaeb",
   "metadata": {},
   "outputs": [],
   "source": []
  },
  {
   "cell_type": "code",
   "execution_count": 271,
   "id": "3a7a362f-c4d3-4452-ba7f-acbe5e0c6428",
   "metadata": {},
   "outputs": [
    {
     "data": {
      "text/plain": [
       "['Gene',\n",
       " 'RNA',\n",
       " 'Protein',\n",
       " 'Carbohydrate',\n",
       " 'Lipid',\n",
       " 'Peptide',\n",
       " 'Pharmaceutical_Preparations',\n",
       " 'Toxin',\n",
       " 'Mutation',\n",
       " 'Disease']"
      ]
     },
     "execution_count": 271,
     "metadata": {},
     "output_type": "execute_result"
    }
   ],
   "source": [
    "entity_pairs"
   ]
  },
  {
   "cell_type": "code",
   "execution_count": 272,
   "id": "711fa26d-9d12-4060-a2f5-450752197158",
   "metadata": {},
   "outputs": [],
   "source": [
    "entity_pairs=['Gene',\n",
    " 'RNA',\n",
    "'Protein',\n",
    " 'Carbohydrate',\n",
    " 'Lipid',\n",
    " 'Peptide',\n",
    " 'Pharmaceutical_Preparations',\n",
    " \n",
    " 'Toxin',\n",
    " 'Mutation',\n",
    " 'Disease']"
   ]
  },
  {
   "cell_type": "code",
   "execution_count": 273,
   "id": "3752b0d0-f2b2-4247-b10a-6ab5310217c6",
   "metadata": {},
   "outputs": [],
   "source": [
    "entity_pairs_dict={}\n",
    "entity_pairs_dict_num={}\n",
    "for i in entity_pairs:\n",
    "    temp={}\n",
    "    temp2={}\n",
    "    for j in entity_pairs:\n",
    "        temp.update({j:0})\n",
    "        temp2.update({j:set()})\n",
    "    entity_pairs_dict_num[i]=temp\n",
    "    entity_pairs_dict[i]=temp2"
   ]
  },
  {
   "cell_type": "code",
   "execution_count": 274,
   "id": "66cf062c-e1be-4841-be33-0b9912d2b3b2",
   "metadata": {},
   "outputs": [
    {
     "data": {
      "text/plain": [
       "{'Gene': {'Gene': set(),\n",
       "  'RNA': set(),\n",
       "  'Protein': set(),\n",
       "  'Carbohydrate': set(),\n",
       "  'Lipid': set(),\n",
       "  'Peptide': set(),\n",
       "  'Pharmaceutical_Preparations': set(),\n",
       "  'Toxin': set(),\n",
       "  'Mutation': set(),\n",
       "  'Disease': set()},\n",
       " 'RNA': {'Gene': set(),\n",
       "  'RNA': set(),\n",
       "  'Protein': set(),\n",
       "  'Carbohydrate': set(),\n",
       "  'Lipid': set(),\n",
       "  'Peptide': set(),\n",
       "  'Pharmaceutical_Preparations': set(),\n",
       "  'Toxin': set(),\n",
       "  'Mutation': set(),\n",
       "  'Disease': set()},\n",
       " 'Protein': {'Gene': set(),\n",
       "  'RNA': set(),\n",
       "  'Protein': set(),\n",
       "  'Carbohydrate': set(),\n",
       "  'Lipid': set(),\n",
       "  'Peptide': set(),\n",
       "  'Pharmaceutical_Preparations': set(),\n",
       "  'Toxin': set(),\n",
       "  'Mutation': set(),\n",
       "  'Disease': set()},\n",
       " 'Carbohydrate': {'Gene': set(),\n",
       "  'RNA': set(),\n",
       "  'Protein': set(),\n",
       "  'Carbohydrate': set(),\n",
       "  'Lipid': set(),\n",
       "  'Peptide': set(),\n",
       "  'Pharmaceutical_Preparations': set(),\n",
       "  'Toxin': set(),\n",
       "  'Mutation': set(),\n",
       "  'Disease': set()},\n",
       " 'Lipid': {'Gene': set(),\n",
       "  'RNA': set(),\n",
       "  'Protein': set(),\n",
       "  'Carbohydrate': set(),\n",
       "  'Lipid': set(),\n",
       "  'Peptide': set(),\n",
       "  'Pharmaceutical_Preparations': set(),\n",
       "  'Toxin': set(),\n",
       "  'Mutation': set(),\n",
       "  'Disease': set()},\n",
       " 'Peptide': {'Gene': set(),\n",
       "  'RNA': set(),\n",
       "  'Protein': set(),\n",
       "  'Carbohydrate': set(),\n",
       "  'Lipid': set(),\n",
       "  'Peptide': set(),\n",
       "  'Pharmaceutical_Preparations': set(),\n",
       "  'Toxin': set(),\n",
       "  'Mutation': set(),\n",
       "  'Disease': set()},\n",
       " 'Pharmaceutical_Preparations': {'Gene': set(),\n",
       "  'RNA': set(),\n",
       "  'Protein': set(),\n",
       "  'Carbohydrate': set(),\n",
       "  'Lipid': set(),\n",
       "  'Peptide': set(),\n",
       "  'Pharmaceutical_Preparations': set(),\n",
       "  'Toxin': set(),\n",
       "  'Mutation': set(),\n",
       "  'Disease': set()},\n",
       " 'Toxin': {'Gene': set(),\n",
       "  'RNA': set(),\n",
       "  'Protein': set(),\n",
       "  'Carbohydrate': set(),\n",
       "  'Lipid': set(),\n",
       "  'Peptide': set(),\n",
       "  'Pharmaceutical_Preparations': set(),\n",
       "  'Toxin': set(),\n",
       "  'Mutation': set(),\n",
       "  'Disease': set()},\n",
       " 'Mutation': {'Gene': set(),\n",
       "  'RNA': set(),\n",
       "  'Protein': set(),\n",
       "  'Carbohydrate': set(),\n",
       "  'Lipid': set(),\n",
       "  'Peptide': set(),\n",
       "  'Pharmaceutical_Preparations': set(),\n",
       "  'Toxin': set(),\n",
       "  'Mutation': set(),\n",
       "  'Disease': set()},\n",
       " 'Disease': {'Gene': set(),\n",
       "  'RNA': set(),\n",
       "  'Protein': set(),\n",
       "  'Carbohydrate': set(),\n",
       "  'Lipid': set(),\n",
       "  'Peptide': set(),\n",
       "  'Pharmaceutical_Preparations': set(),\n",
       "  'Toxin': set(),\n",
       "  'Mutation': set(),\n",
       "  'Disease': set()}}"
      ]
     },
     "execution_count": 274,
     "metadata": {},
     "output_type": "execute_result"
    }
   ],
   "source": [
    "entity_pairs_dict"
   ]
  },
  {
   "cell_type": "code",
   "execution_count": 275,
   "id": "10b29bee-96da-4cc0-8407-5ae3b62d29d8",
   "metadata": {},
   "outputs": [],
   "source": [
    "for i in range(len(direction_list)):\n",
    "        if direction_list[i][0] not in entity_pairs_dict.get(direction_type[i][1]).get(direction_type[i][0]):\n",
    "            entity_pairs_dict[direction_type[i][1]][direction_type[i][0]].add(direction_list[i][0])\n",
    "            entity_pairs_dict_num[direction_type[i][1]][direction_type[i][0]]+=1\n",
    "            "
   ]
  },
  {
   "cell_type": "code",
   "execution_count": 276,
   "id": "aaf96454-1752-4003-9b41-3c0dd331c142",
   "metadata": {},
   "outputs": [
    {
     "data": {
      "text/plain": [
       "{'Gene': {'Gene': 1062,\n",
       "  'RNA': 34,\n",
       "  'Protein': 9,\n",
       "  'Carbohydrate': 50,\n",
       "  'Lipid': 45,\n",
       "  'Peptide': 19,\n",
       "  'Pharmaceutical_Preparations': 0,\n",
       "  'Toxin': 1,\n",
       "  'Mutation': 236,\n",
       "  'Disease': 689},\n",
       " 'RNA': {'Gene': 38,\n",
       "  'RNA': 6,\n",
       "  'Protein': 0,\n",
       "  'Carbohydrate': 1,\n",
       "  'Lipid': 0,\n",
       "  'Peptide': 0,\n",
       "  'Pharmaceutical_Preparations': 0,\n",
       "  'Toxin': 0,\n",
       "  'Mutation': 1,\n",
       "  'Disease': 35},\n",
       " 'Protein': {'Gene': 31,\n",
       "  'RNA': 0,\n",
       "  'Protein': 3,\n",
       "  'Carbohydrate': 7,\n",
       "  'Lipid': 3,\n",
       "  'Peptide': 0,\n",
       "  'Pharmaceutical_Preparations': 0,\n",
       "  'Toxin': 0,\n",
       "  'Mutation': 0,\n",
       "  'Disease': 78},\n",
       " 'Carbohydrate': {'Gene': 149,\n",
       "  'RNA': 3,\n",
       "  'Protein': 3,\n",
       "  'Carbohydrate': 64,\n",
       "  'Lipid': 34,\n",
       "  'Peptide': 7,\n",
       "  'Pharmaceutical_Preparations': 2,\n",
       "  'Toxin': 0,\n",
       "  'Mutation': 6,\n",
       "  'Disease': 287},\n",
       " 'Lipid': {'Gene': 164,\n",
       "  'RNA': 2,\n",
       "  'Protein': 2,\n",
       "  'Carbohydrate': 27,\n",
       "  'Lipid': 68,\n",
       "  'Peptide': 4,\n",
       "  'Pharmaceutical_Preparations': 0,\n",
       "  'Toxin': 1,\n",
       "  'Mutation': 15,\n",
       "  'Disease': 310},\n",
       " 'Peptide': {'Gene': 49,\n",
       "  'RNA': 0,\n",
       "  'Protein': 1,\n",
       "  'Carbohydrate': 7,\n",
       "  'Lipid': 9,\n",
       "  'Peptide': 7,\n",
       "  'Pharmaceutical_Preparations': 1,\n",
       "  'Toxin': 0,\n",
       "  'Mutation': 1,\n",
       "  'Disease': 91},\n",
       " 'Pharmaceutical_Preparations': {'Gene': 0,\n",
       "  'RNA': 0,\n",
       "  'Protein': 0,\n",
       "  'Carbohydrate': 0,\n",
       "  'Lipid': 0,\n",
       "  'Peptide': 0,\n",
       "  'Pharmaceutical_Preparations': 0,\n",
       "  'Toxin': 0,\n",
       "  'Mutation': 0,\n",
       "  'Disease': 13},\n",
       " 'Toxin': {'Gene': 20,\n",
       "  'RNA': 2,\n",
       "  'Protein': 0,\n",
       "  'Carbohydrate': 0,\n",
       "  'Lipid': 3,\n",
       "  'Peptide': 0,\n",
       "  'Pharmaceutical_Preparations': 0,\n",
       "  'Toxin': 2,\n",
       "  'Mutation': 0,\n",
       "  'Disease': 18},\n",
       " 'Mutation': {'Gene': 133,\n",
       "  'RNA': 1,\n",
       "  'Protein': 0,\n",
       "  'Carbohydrate': 2,\n",
       "  'Lipid': 8,\n",
       "  'Peptide': 1,\n",
       "  'Pharmaceutical_Preparations': 0,\n",
       "  'Toxin': 0,\n",
       "  'Mutation': 100,\n",
       "  'Disease': 141},\n",
       " 'Disease': {'Gene': 1718,\n",
       "  'RNA': 57,\n",
       "  'Protein': 18,\n",
       "  'Carbohydrate': 103,\n",
       "  'Lipid': 106,\n",
       "  'Peptide': 32,\n",
       "  'Pharmaceutical_Preparations': 7,\n",
       "  'Toxin': 2,\n",
       "  'Mutation': 368,\n",
       "  'Disease': 2166}}"
      ]
     },
     "execution_count": 276,
     "metadata": {},
     "output_type": "execute_result"
    }
   ],
   "source": [
    "entity_pairs_dict_num"
   ]
  },
  {
   "cell_type": "code",
   "execution_count": 277,
   "id": "0f9db0a6-9314-44d2-9de1-29297cee2346",
   "metadata": {},
   "outputs": [
    {
     "name": "stdout",
     "output_type": "stream",
     "text": [
      "8683\n"
     ]
    }
   ],
   "source": [
    "#8581\n",
    "countnum=0\n",
    "for i in entity_pairs_dict_num.values():\n",
    "    for j in i.values():\n",
    "        countnum+=j\n",
    "print(countnum)"
   ]
  },
  {
   "cell_type": "code",
   "execution_count": 278,
   "id": "39ac1d8a-1d79-4e9b-85c1-7fad8d1091eb",
   "metadata": {},
   "outputs": [],
   "source": [
    "relation_display=[]\n",
    "for i,j in entity_pairs_dict_num.items():\n",
    "    for k,l in j.items():\n",
    "        relation_display.append([k,i+' ',l])"
   ]
  },
  {
   "cell_type": "code",
   "execution_count": 279,
   "id": "af7a705e-0b19-49ec-8ec6-63b3f98ba26b",
   "metadata": {},
   "outputs": [
    {
     "data": {
      "text/plain": [
       "{'Gene': 1718,\n",
       " 'RNA': 57,\n",
       " 'Protein': 18,\n",
       " 'Carbohydrate': 103,\n",
       " 'Lipid': 106,\n",
       " 'Peptide': 32,\n",
       " 'Pharmaceutical_Preparations': 7,\n",
       " 'Toxin': 2,\n",
       " 'Mutation': 368,\n",
       " 'Disease': 2166}"
      ]
     },
     "execution_count": 279,
     "metadata": {},
     "output_type": "execute_result"
    }
   ],
   "source": [
    "j"
   ]
  },
  {
   "cell_type": "code",
   "execution_count": 280,
   "id": "cf6a7fa7-056b-4248-af27-cf3bf0fe0e4d",
   "metadata": {},
   "outputs": [
    {
     "data": {
      "text/plain": [
       "[['Gene', 'Gene ', 1062],\n",
       " ['RNA', 'Gene ', 34],\n",
       " ['Protein', 'Gene ', 9],\n",
       " ['Carbohydrate', 'Gene ', 50],\n",
       " ['Lipid', 'Gene ', 45],\n",
       " ['Peptide', 'Gene ', 19],\n",
       " ['Pharmaceutical_Preparations', 'Gene ', 0],\n",
       " ['Toxin', 'Gene ', 1],\n",
       " ['Mutation', 'Gene ', 236],\n",
       " ['Disease', 'Gene ', 689],\n",
       " ['Gene', 'RNA ', 38],\n",
       " ['RNA', 'RNA ', 6],\n",
       " ['Protein', 'RNA ', 0],\n",
       " ['Carbohydrate', 'RNA ', 1],\n",
       " ['Lipid', 'RNA ', 0],\n",
       " ['Peptide', 'RNA ', 0],\n",
       " ['Pharmaceutical_Preparations', 'RNA ', 0],\n",
       " ['Toxin', 'RNA ', 0],\n",
       " ['Mutation', 'RNA ', 1],\n",
       " ['Disease', 'RNA ', 35],\n",
       " ['Gene', 'Protein ', 31],\n",
       " ['RNA', 'Protein ', 0],\n",
       " ['Protein', 'Protein ', 3],\n",
       " ['Carbohydrate', 'Protein ', 7],\n",
       " ['Lipid', 'Protein ', 3],\n",
       " ['Peptide', 'Protein ', 0],\n",
       " ['Pharmaceutical_Preparations', 'Protein ', 0],\n",
       " ['Toxin', 'Protein ', 0],\n",
       " ['Mutation', 'Protein ', 0],\n",
       " ['Disease', 'Protein ', 78],\n",
       " ['Gene', 'Carbohydrate ', 149],\n",
       " ['RNA', 'Carbohydrate ', 3],\n",
       " ['Protein', 'Carbohydrate ', 3],\n",
       " ['Carbohydrate', 'Carbohydrate ', 64],\n",
       " ['Lipid', 'Carbohydrate ', 34],\n",
       " ['Peptide', 'Carbohydrate ', 7],\n",
       " ['Pharmaceutical_Preparations', 'Carbohydrate ', 2],\n",
       " ['Toxin', 'Carbohydrate ', 0],\n",
       " ['Mutation', 'Carbohydrate ', 6],\n",
       " ['Disease', 'Carbohydrate ', 287],\n",
       " ['Gene', 'Lipid ', 164],\n",
       " ['RNA', 'Lipid ', 2],\n",
       " ['Protein', 'Lipid ', 2],\n",
       " ['Carbohydrate', 'Lipid ', 27],\n",
       " ['Lipid', 'Lipid ', 68],\n",
       " ['Peptide', 'Lipid ', 4],\n",
       " ['Pharmaceutical_Preparations', 'Lipid ', 0],\n",
       " ['Toxin', 'Lipid ', 1],\n",
       " ['Mutation', 'Lipid ', 15],\n",
       " ['Disease', 'Lipid ', 310],\n",
       " ['Gene', 'Peptide ', 49],\n",
       " ['RNA', 'Peptide ', 0],\n",
       " ['Protein', 'Peptide ', 1],\n",
       " ['Carbohydrate', 'Peptide ', 7],\n",
       " ['Lipid', 'Peptide ', 9],\n",
       " ['Peptide', 'Peptide ', 7],\n",
       " ['Pharmaceutical_Preparations', 'Peptide ', 1],\n",
       " ['Toxin', 'Peptide ', 0],\n",
       " ['Mutation', 'Peptide ', 1],\n",
       " ['Disease', 'Peptide ', 91],\n",
       " ['Gene', 'Pharmaceutical_Preparations ', 0],\n",
       " ['RNA', 'Pharmaceutical_Preparations ', 0],\n",
       " ['Protein', 'Pharmaceutical_Preparations ', 0],\n",
       " ['Carbohydrate', 'Pharmaceutical_Preparations ', 0],\n",
       " ['Lipid', 'Pharmaceutical_Preparations ', 0],\n",
       " ['Peptide', 'Pharmaceutical_Preparations ', 0],\n",
       " ['Pharmaceutical_Preparations', 'Pharmaceutical_Preparations ', 0],\n",
       " ['Toxin', 'Pharmaceutical_Preparations ', 0],\n",
       " ['Mutation', 'Pharmaceutical_Preparations ', 0],\n",
       " ['Disease', 'Pharmaceutical_Preparations ', 13],\n",
       " ['Gene', 'Toxin ', 20],\n",
       " ['RNA', 'Toxin ', 2],\n",
       " ['Protein', 'Toxin ', 0],\n",
       " ['Carbohydrate', 'Toxin ', 0],\n",
       " ['Lipid', 'Toxin ', 3],\n",
       " ['Peptide', 'Toxin ', 0],\n",
       " ['Pharmaceutical_Preparations', 'Toxin ', 0],\n",
       " ['Toxin', 'Toxin ', 2],\n",
       " ['Mutation', 'Toxin ', 0],\n",
       " ['Disease', 'Toxin ', 18],\n",
       " ['Gene', 'Mutation ', 133],\n",
       " ['RNA', 'Mutation ', 1],\n",
       " ['Protein', 'Mutation ', 0],\n",
       " ['Carbohydrate', 'Mutation ', 2],\n",
       " ['Lipid', 'Mutation ', 8],\n",
       " ['Peptide', 'Mutation ', 1],\n",
       " ['Pharmaceutical_Preparations', 'Mutation ', 0],\n",
       " ['Toxin', 'Mutation ', 0],\n",
       " ['Mutation', 'Mutation ', 100],\n",
       " ['Disease', 'Mutation ', 141],\n",
       " ['Gene', 'Disease ', 1718],\n",
       " ['RNA', 'Disease ', 57],\n",
       " ['Protein', 'Disease ', 18],\n",
       " ['Carbohydrate', 'Disease ', 103],\n",
       " ['Lipid', 'Disease ', 106],\n",
       " ['Peptide', 'Disease ', 32],\n",
       " ['Pharmaceutical_Preparations', 'Disease ', 7],\n",
       " ['Toxin', 'Disease ', 2],\n",
       " ['Mutation', 'Disease ', 368],\n",
       " ['Disease', 'Disease ', 2166]]"
      ]
     },
     "execution_count": 280,
     "metadata": {},
     "output_type": "execute_result"
    }
   ],
   "source": [
    "relation_display"
   ]
  },
  {
   "cell_type": "code",
   "execution_count": 281,
   "id": "e58306ba-7192-4278-8379-79d94d6b6ae5",
   "metadata": {},
   "outputs": [
    {
     "data": {
      "text/plain": [
       "['Gene',\n",
       " 'RNA',\n",
       " 'Protein',\n",
       " 'Carbohydrate',\n",
       " 'Lipid',\n",
       " 'Peptide',\n",
       " 'Pharmaceutical_Preparations',\n",
       " 'Toxin',\n",
       " 'Mutation',\n",
       " 'Disease']"
      ]
     },
     "execution_count": 281,
     "metadata": {},
     "output_type": "execute_result"
    }
   ],
   "source": [
    "entity_pairs"
   ]
  },
  {
   "cell_type": "code",
   "execution_count": 282,
   "id": "7b7ab662-fb84-4830-9b92-3285e6676ce4",
   "metadata": {},
   "outputs": [
    {
     "name": "stdout",
     "output_type": "stream",
     "text": [
      "1062\t38\t31\t149\t164\t49\t0\t20\t133\t1718\n",
      "34\t6\t0\t3\t2\t0\t0\t2\t1\t57\n",
      "9\t0\t3\t3\t2\t1\t0\t0\t0\t18\n",
      "50\t1\t7\t64\t27\t7\t0\t0\t2\t103\n",
      "45\t0\t3\t34\t68\t9\t0\t3\t8\t106\n",
      "19\t0\t0\t7\t4\t7\t0\t0\t1\t32\n",
      "0\t0\t0\t2\t0\t1\t0\t0\t0\t7\n",
      "1\t0\t0\t0\t1\t0\t0\t2\t0\t2\n",
      "236\t1\t0\t6\t15\t1\t0\t0\t100\t368\n",
      "689\t35\t78\t287\t310\t91\t13\t18\t141\t2166\n"
     ]
    }
   ],
   "source": [
    "for i in entity_pairs:\n",
    "    xs=[]\n",
    "    for j in relation_display:\n",
    "        if j[0]==i.replace(' ','_'):\n",
    "            xs.append(str(j[-1]))\n",
    "    print('\\t'.join(xs))"
   ]
  },
  {
   "cell_type": "code",
   "execution_count": 283,
   "id": "1ebb048b-4998-4d44-abc1-3dfad288c3ff",
   "metadata": {},
   "outputs": [],
   "source": [
    "all_es=json.load(open('results/step2/all_es_lack.json'))"
   ]
  },
  {
   "cell_type": "code",
   "execution_count": 284,
   "id": "8f1d14f8-9765-4291-a344-1b3774f8b8db",
   "metadata": {},
   "outputs": [],
   "source": [
    "entity2aging={}\n",
    "entity2longevity={}\n",
    "for i in triplelistnew:\n",
    "    if i.get('entity_two_type')=='Disease':\n",
    "        if i.get('entity_one_type')!='Disease':\n",
    "            if i.get('entity_one_transformed')!= i.get('entity_two_transformed'):\n",
    "                if positive_relations_dict.get(i.get('triple')[1].lower()):\n",
    "                    entity2aging[i.get('entity_one_transformed')]=True\n",
    "                elif negative_relations_dict.get(i.get('triple')[1].lower()):\n",
    "                    entity2longevity[i.get('entity_one_transformed')]=True"
   ]
  },
  {
   "cell_type": "code",
   "execution_count": 285,
   "id": "df43c45c-73ff-4d20-850f-bb163f3a4044",
   "metadata": {},
   "outputs": [
    {
     "data": {
      "text/plain": [
       "1622"
      ]
     },
     "execution_count": 285,
     "metadata": {},
     "output_type": "execute_result"
    }
   ],
   "source": [
    "len(entity2aging)"
   ]
  },
  {
   "cell_type": "code",
   "execution_count": 286,
   "id": "07c95ad9-dc41-4664-8aea-dbf9603ce31c",
   "metadata": {},
   "outputs": [
    {
     "data": {
      "text/plain": [
       "460"
      ]
     },
     "execution_count": 286,
     "metadata": {},
     "output_type": "execute_result"
    }
   ],
   "source": [
    "len(entity2longevity)"
   ]
  },
  {
   "cell_type": "code",
   "execution_count": 287,
   "id": "c49e19ea-6bef-4bb6-bc50-5ac1debe70ee",
   "metadata": {},
   "outputs": [
    {
     "name": "stdout",
     "output_type": "stream",
     "text": [
      "323\n"
     ]
    }
   ],
   "source": [
    "aaaa=0\n",
    "for i in entity2aging.keys():\n",
    "    if entity2longevity.get(i):\n",
    "        aaaa+=1\n",
    "print(aaaa)"
   ]
  },
  {
   "cell_type": "code",
   "execution_count": 288,
   "id": "69c4d06b-955d-4ef1-bcd2-8815f7cc00ac",
   "metadata": {},
   "outputs": [],
   "source": [
    "for i in all_es:\n",
    "    if entitydict.get(i.get('entity')):\n",
    "        i['network']=True\n",
    "    else:\n",
    "        i['network']=False\n",
    "    if entity2aging.get(i.get('entity')):\n",
    "        i['aging']=True\n",
    "    else:\n",
    "        i['aging']=False\n",
    "    if entity2longevity.get(i.get('entity')):\n",
    "        i['longevity']=True\n",
    "    else:\n",
    "        i['longevity']=False"
   ]
  },
  {
   "cell_type": "code",
   "execution_count": 289,
   "id": "45d789ab-7e02-41ad-b391-674e03eec307",
   "metadata": {},
   "outputs": [],
   "source": [
    "json.dump(all_es,open('results/step4/all_es.json','w'))"
   ]
  },
  {
   "cell_type": "code",
   "execution_count": 290,
   "id": "faf88e9d-2ca0-442a-bd32-9fd5f1393aaa",
   "metadata": {},
   "outputs": [
    {
     "data": {
      "text/plain": [
       "11068"
      ]
     },
     "execution_count": 290,
     "metadata": {},
     "output_type": "execute_result"
    }
   ],
   "source": [
    "# 10907\n",
    "len(all_es)"
   ]
  },
  {
   "cell_type": "code",
   "execution_count": null,
   "id": "f043b55a-a718-4321-b4f2-daad68a80ef7",
   "metadata": {},
   "outputs": [],
   "source": []
  },
  {
   "cell_type": "code",
   "execution_count": null,
   "id": "c305a460-041f-433b-88d0-78dd8a98927b",
   "metadata": {},
   "outputs": [],
   "source": []
  },
  {
   "cell_type": "code",
   "execution_count": 290,
   "id": "113d5768-acb9-468d-b29b-2c85306a6be6",
   "metadata": {},
   "outputs": [],
   "source": [
    "HALD_genes_transfer={}\n",
    "aging_genes_set=set()\n",
    "for i in disease_entity_dict_sorted:\n",
    "    HALD_genes_transfer[i[0]]=i[0]\n",
    "    aging_genes_set.add(i[0])"
   ]
  },
  {
   "cell_type": "code",
   "execution_count": 291,
   "id": "9abbebc0-f257-499c-86eb-93637da2da1b",
   "metadata": {},
   "outputs": [
    {
     "data": {
      "text/plain": [
       "1152"
      ]
     },
     "execution_count": 291,
     "metadata": {},
     "output_type": "execute_result"
    }
   ],
   "source": [
    "len(list(aging_genes_set))"
   ]
  },
  {
   "cell_type": "code",
   "execution_count": 292,
   "id": "cc3fc685-0dd6-4ec8-8f34-953922dadc4f",
   "metadata": {},
   "outputs": [
    {
     "name": "stdout",
     "output_type": "stream",
     "text": [
      "306\n",
      "1298\n",
      "54\n",
      "1318\n",
      "500\n",
      "1443\n"
     ]
    }
   ],
   "source": [
    "print(len(genage_symbol_transfer))\n",
    "for i in genage_symbol_transfer.keys():\n",
    "    aging_genes_set.add(i)\n",
    "print(len(aging_genes_set))\n",
    "print(len(agingbank_genes_pro_symbol_transfer))\n",
    "for i in agingbank_genes_pro_symbol_transfer.keys():\n",
    "    aging_genes_set.add(i)\n",
    "print(len(aging_genes_set))\n",
    "print(len(agingatlas_genes_symbol_transfer))\n",
    "for i in agingatlas_genes_symbol_transfer.keys():\n",
    "    aging_genes_set.add(i)\n",
    "print(len(aging_genes_set))"
   ]
  },
  {
   "cell_type": "code",
   "execution_count": 293,
   "id": "d3130720-62a6-470f-8ded-01c898068256",
   "metadata": {},
   "outputs": [],
   "source": [
    "aging_genes_list=list(aging_genes_set)"
   ]
  },
  {
   "cell_type": "code",
   "execution_count": 294,
   "id": "a0430995-8a2a-479e-872b-c601773e25b6",
   "metadata": {},
   "outputs": [
    {
     "data": {
      "text/plain": [
       "0"
      ]
     },
     "execution_count": 294,
     "metadata": {},
     "output_type": "execute_result"
    }
   ],
   "source": [
    "gff=0\n",
    "for i in HALD_01:\n",
    "    if i==1:\n",
    "        gff+=1\n",
    "gff"
   ]
  },
  {
   "cell_type": "code",
   "execution_count": 295,
   "id": "f1f89451-560c-416e-b0c0-51b954a2434a",
   "metadata": {},
   "outputs": [],
   "source": [
    "HALD_01=[]\n",
    "genage_symbol_01=[]\n",
    "agingbank_genes_pro_symbol_01=[]\n",
    "agingatlas_genes_symbol_01=[]\n",
    "for i in aging_genes_list:\n",
    "    if HALD_genes_transfer.get(i):\n",
    "        HALD_01.append(1)\n",
    "    else:\n",
    "        HALD_01.append(0)\n",
    "    if genage_symbol_transfer.get(i):\n",
    "        genage_symbol_01.append(1)\n",
    "    else:\n",
    "        genage_symbol_01.append(0)\n",
    "    if agingbank_genes_pro_symbol_transfer.get(i):\n",
    "        agingbank_genes_pro_symbol_01.append(1)\n",
    "    else:\n",
    "        agingbank_genes_pro_symbol_01.append(0)\n",
    "    if agingatlas_genes_symbol_transfer.get(i):\n",
    "        agingatlas_genes_symbol_01.append(1)\n",
    "    else:\n",
    "        agingatlas_genes_symbol_01.append(0)"
   ]
  },
  {
   "cell_type": "code",
   "execution_count": 296,
   "id": "473fb37c-f8c2-4688-9a8e-319f1b3f1a6c",
   "metadata": {},
   "outputs": [
    {
     "data": {
      "text/plain": [
       "3"
      ]
     },
     "execution_count": 296,
     "metadata": {},
     "output_type": "execute_result"
    }
   ],
   "source": [
    "vfdsvg=0\n",
    "for i in HALD_genes_transfer.keys():\n",
    "    if not genage_symbol_transfer.get(i) and  agingbank_genes_pro_symbol_transfer.get(i) and  agingatlas_genes_symbol_transfer.get(i):\n",
    "        vfdsvg+=1\n",
    "vfdsvg"
   ]
  },
  {
   "cell_type": "code",
   "execution_count": null,
   "id": "60fbb097-a02a-4038-b155-26dfbcadbe98",
   "metadata": {},
   "outputs": [],
   "source": []
  },
  {
   "cell_type": "code",
   "execution_count": 297,
   "id": "efbf2aee-b9fc-4d36-a9b7-0062f4668ccd",
   "metadata": {},
   "outputs": [],
   "source": [
    "dataframe5 = pd.DataFrame({'HALD':HALD_01,'GenAge':genage_symbol_01,'Aging Atlas':agingatlas_genes_symbol_01,'AgingBank (Pro)':agingbank_genes_pro_symbol_01})\n",
    "dataframe5.to_csv(\"results/step4/upset1.csv\", index=False,sep=',')"
   ]
  },
  {
   "cell_type": "code",
   "execution_count": null,
   "id": "750b92f1-a763-4327-bfda-3a9dbf142ea8",
   "metadata": {},
   "outputs": [],
   "source": []
  },
  {
   "cell_type": "code",
   "execution_count": null,
   "id": "f66971eb-9169-49e3-a8e9-77e81c096a89",
   "metadata": {},
   "outputs": [],
   "source": []
  },
  {
   "cell_type": "code",
   "execution_count": 298,
   "id": "655dff8b-a1f8-445f-963c-f54dc9ed25aa",
   "metadata": {},
   "outputs": [],
   "source": [
    "HALD_longevity_genes_transfer={}\n",
    "longevity_genes_set=set()\n",
    "for i in disease_entity_dict2_sorted:\n",
    "    HALD_longevity_genes_transfer[i[0]]=i[0]\n",
    "    longevity_genes_set.add(i[0])"
   ]
  },
  {
   "cell_type": "code",
   "execution_count": 299,
   "id": "54127f6e-feb2-4cf3-8d95-283cfd3bdf51",
   "metadata": {},
   "outputs": [
    {
     "data": {
      "text/plain": [
       "338"
      ]
     },
     "execution_count": 299,
     "metadata": {},
     "output_type": "execute_result"
    }
   ],
   "source": [
    "len(list(longevity_genes_set))"
   ]
  },
  {
   "cell_type": "code",
   "execution_count": 300,
   "id": "863513cb-0933-4c96-bfbf-62248f445ed6",
   "metadata": {},
   "outputs": [
    {
     "name": "stdout",
     "output_type": "stream",
     "text": [
      "766\n",
      "1028\n",
      "96\n",
      "1085\n"
     ]
    }
   ],
   "source": [
    "print(len(longevity_human_symbol_transfer))\n",
    "for i in longevity_human_symbol_transfer.keys():\n",
    "    longevity_genes_set.add(i)\n",
    "print(len(longevity_genes_set))\n",
    "print(len(agingbank_genes_anti_symbol_transfer))\n",
    "for i in agingbank_genes_anti_symbol_transfer.keys():\n",
    "    longevity_genes_set.add(i)\n",
    "print(len(longevity_genes_set))\n"
   ]
  },
  {
   "cell_type": "code",
   "execution_count": 301,
   "id": "efa7ac98-ab8d-47f7-979f-0a43c770aa8e",
   "metadata": {},
   "outputs": [],
   "source": [
    "longevity_genes_list=list(longevity_genes_set)"
   ]
  },
  {
   "cell_type": "code",
   "execution_count": 302,
   "id": "2d4d3cec-2dc3-4e94-b103-6949b02eeb18",
   "metadata": {},
   "outputs": [],
   "source": [
    "HALD_longevity_01=[]\n",
    "longevity_human_symbol_01=[]\n",
    "agingbank_genes_anti_symbol_01=[]\n",
    "\n",
    "for i in longevity_genes_list:\n",
    "    if HALD_longevity_genes_transfer.get(i):\n",
    "        HALD_longevity_01.append(1)\n",
    "    else:\n",
    "        HALD_longevity_01.append(0)\n",
    "    if longevity_human_symbol_transfer.get(i):\n",
    "        longevity_human_symbol_01.append(1)\n",
    "    else:\n",
    "        longevity_human_symbol_01.append(0)\n",
    "    if agingbank_genes_anti_symbol_transfer.get(i):\n",
    "        agingbank_genes_anti_symbol_01.append(1)\n",
    "    else:\n",
    "        agingbank_genes_anti_symbol_01.append(0)"
   ]
  },
  {
   "cell_type": "code",
   "execution_count": null,
   "id": "40c52388-27a0-463b-9187-bc575c361045",
   "metadata": {},
   "outputs": [],
   "source": []
  },
  {
   "cell_type": "code",
   "execution_count": 303,
   "id": "8f6e54b3-d170-4506-8b6e-2ede9ef87b5e",
   "metadata": {},
   "outputs": [],
   "source": [
    "dataframe6 = pd.DataFrame({'HALD':HALD_longevity_01,'LongevityMap':longevity_human_symbol_01,'AgingBank (Anti)':agingbank_genes_anti_symbol_01})\n",
    "dataframe6.to_csv(\"results/step4/upset2.csv\", index=False,sep=',')"
   ]
  },
  {
   "cell_type": "code",
   "execution_count": null,
   "id": "3c3b83d4-fa76-47ea-95fc-24b0c209ad1c",
   "metadata": {},
   "outputs": [],
   "source": []
  },
  {
   "cell_type": "code",
   "execution_count": null,
   "id": "75841b9d-6329-4319-991a-a6a35ee1b1f9",
   "metadata": {},
   "outputs": [],
   "source": []
  },
  {
   "cell_type": "code",
   "execution_count": null,
   "id": "e98796fc-fa87-4871-bb98-d97239a25c88",
   "metadata": {},
   "outputs": [],
   "source": []
  },
  {
   "cell_type": "code",
   "execution_count": null,
   "id": "6b68d77c-7100-4ecc-979c-cf3a03711678",
   "metadata": {},
   "outputs": [],
   "source": []
  },
  {
   "cell_type": "code",
   "execution_count": null,
   "id": "bc07bcfc-611d-4567-9074-e95c0232f530",
   "metadata": {},
   "outputs": [],
   "source": []
  },
  {
   "cell_type": "code",
   "execution_count": null,
   "id": "af3f3333-816c-4c25-b486-8109cb4ae14f",
   "metadata": {},
   "outputs": [],
   "source": []
  },
  {
   "cell_type": "code",
   "execution_count": null,
   "id": "bd8f3fa3-41bf-4f17-bddb-0b79fc00344b",
   "metadata": {},
   "outputs": [],
   "source": []
  },
  {
   "cell_type": "code",
   "execution_count": 304,
   "id": "a1d1863b-2938-4e9e-996e-792f7f95fdae",
   "metadata": {},
   "outputs": [
    {
     "data": {
      "text/plain": [
       "'/root/hald_autoupdate/2023_03_13'"
      ]
     },
     "execution_count": 304,
     "metadata": {},
     "output_type": "execute_result"
    }
   ],
   "source": [
    "pwd"
   ]
  },
  {
   "cell_type": "code",
   "execution_count": 305,
   "id": "75363854-bdc6-4645-87f3-98e3198f506c",
   "metadata": {},
   "outputs": [
    {
     "data": {
      "text/plain": [
       "['Gene',\n",
       " 'RNA',\n",
       " 'Protein',\n",
       " 'Carbohydrate',\n",
       " 'Lipid',\n",
       " 'Peptide',\n",
       " 'Pharmaceutical_Preparations',\n",
       " 'Toxin',\n",
       " 'Mutation',\n",
       " 'Disease']"
      ]
     },
     "execution_count": 305,
     "metadata": {},
     "output_type": "execute_result"
    }
   ],
   "source": [
    "entity_pairs"
   ]
  },
  {
   "cell_type": "code",
   "execution_count": 306,
   "id": "766fa4cc-1e65-4e90-b7f4-7627f340067b",
   "metadata": {},
   "outputs": [],
   "source": [
    "entity_pairs=['Gene',\n",
    " 'RNA',\n",
    "'Protein',\n",
    " 'Carbohydrate',\n",
    " 'Lipid',\n",
    " 'Peptide',\n",
    " 'Pharmaceutical_Preparations',\n",
    "\n",
    " 'Toxin',\n",
    " 'Mutation',\n",
    " 'Disease']"
   ]
  },
  {
   "cell_type": "code",
   "execution_count": 321,
   "id": "d1bd778a-953e-4f7c-b16b-93732ef57fa3",
   "metadata": {},
   "outputs": [],
   "source": [
    "names=locals()\n",
    "for i in entity_pairs:\n",
    "    names[i+'_all']=[]\n",
    "    for j in all_es:\n",
    "        if j.get('type')==i.replace('_',' '):\n",
    "            names[i+'_all'].append(j)"
   ]
  },
  {
   "cell_type": "code",
   "execution_count": 322,
   "id": "4fbf9165-f2f0-44dc-8d01-aa19c4879508",
   "metadata": {},
   "outputs": [
    {
     "data": {
      "text/plain": [
       "4953"
      ]
     },
     "execution_count": 322,
     "metadata": {},
     "output_type": "execute_result"
    }
   ],
   "source": [
    "len(Gene_all)"
   ]
  },
  {
   "cell_type": "code",
   "execution_count": 323,
   "id": "85eaac08-c9ae-4716-9dcb-1414ad6bc494",
   "metadata": {},
   "outputs": [
    {
     "data": {
      "text/plain": [
       "3347"
      ]
     },
     "execution_count": 323,
     "metadata": {},
     "output_type": "execute_result"
    }
   ],
   "source": [
    "len(Disease_all)"
   ]
  },
  {
   "cell_type": "code",
   "execution_count": 324,
   "id": "e7bb42e2-2f40-4ea8-81de-2d05ac5e5d94",
   "metadata": {},
   "outputs": [],
   "source": [
    "Gene_all_sorted=sorted(Gene_all,key=lambda x:x['literature'],reverse=True)"
   ]
  },
  {
   "cell_type": "code",
   "execution_count": 325,
   "id": "ff9792ad-efa0-4245-89f7-d33a8043dc36",
   "metadata": {},
   "outputs": [
    {
     "data": {
      "text/plain": [
       "1.0100000000000002"
      ]
     },
     "execution_count": 325,
     "metadata": {},
     "output_type": "execute_result"
    }
   ],
   "source": [
    "0.21+0.18+0.15+0.13+0.10+0.06+0.05+0.05+0.04+0.04"
   ]
  },
  {
   "cell_type": "code",
   "execution_count": 326,
   "id": "292faf2e-97dc-422f-a6e3-3b38d3c6cee3",
   "metadata": {},
   "outputs": [
    {
     "name": "stdout",
     "output_type": "stream",
     "text": [
      "\n",
      "\n",
      "Gene\n",
      "'INS',\n",
      "'CRP',\n",
      "'APOE',\n",
      "'IL6',\n",
      "'CD4',\n",
      "'TNF',\n",
      "'MAPT',\n",
      "'ALB',\n",
      "'SIRT1',\n",
      "'CD8A',\n",
      "\n",
      "\n",
      "RNA\n",
      "'H19',\n",
      "'MIR34A',\n",
      "'TERC',\n",
      "'MIR21',\n",
      "'MIR146A',\n",
      "'MIR155',\n",
      "'MIR221',\n",
      "'MIR132',\n",
      "'MIR29A',\n",
      "'HCCAT5',\n",
      "\n",
      "\n",
      "Protein\n",
      "'Infliximab',\n",
      "'Rituximab',\n",
      "'Bevacizumab',\n",
      "'Denosumab',\n",
      "'Trastuzumab',\n",
      "'Palivizumab',\n",
      "'Cetuximab',\n",
      "'Nivolumab',\n",
      "'Adalimumab',\n",
      "'Ranibizumab',\n",
      "\n",
      "\n",
      "Carbohydrate\n",
      "'Glucose',\n",
      "'Ascorbic Acid',\n",
      "'Hyaluronic Acid',\n",
      "'Sugars',\n",
      "'Polysaccharides',\n",
      "'Heparin',\n",
      "'Digoxin',\n",
      "'Lipopolysaccharides',\n",
      "'Doxorubicin',\n",
      "'Fluorodeoxyglucose F18',\n",
      "\n",
      "\n",
      "Lipid\n",
      "'Cholesterol',\n",
      "'Triglycerides',\n",
      "'Fatty Acids',\n",
      "'Fatty Acids, Unsaturated',\n",
      "'Fatty Acids, Omega-3',\n",
      "'Lipofuscin',\n",
      "'Lipopolysaccharides',\n",
      "'Phospholipids',\n",
      "'Cholecalciferol',\n",
      "'Docosahexaenoic Acids',\n",
      "\n",
      "\n",
      "Peptide\n",
      "'Glutathione',\n",
      "'Cyclosporine',\n",
      "'Vancomycin',\n",
      "'Thyrotropin',\n",
      "'Ghrelin',\n",
      "'Bleomycin',\n",
      "'Enalapril',\n",
      "'Teriparatide',\n",
      "'Glutathione Disulfide',\n",
      "'Dipeptides',\n",
      "\n",
      "\n",
      "Pharmaceutical_Preparations\n",
      "'Trimethoprim, Sulfamethoxazole Drug Combination',\n",
      "'Amoxicillin-Potassium Clavulanate Combination',\n",
      "'Piperacillin, Tazobactam Drug Combination',\n",
      "'Aminophylline',\n",
      "'Crack Cocaine',\n",
      "'Cilastatin, Imipenem Drug Combination',\n",
      "'Ezetimibe, Simvastatin Drug Combination',\n",
      "'Dimenhydrinate',\n",
      "'Lidocaine, Prilocaine Drug Combination',\n",
      "'Silica Gel',\n",
      "\n",
      "\n",
      "Toxin\n",
      "'Lipopolysaccharides',\n",
      "'Okadaic Acid',\n",
      "'Exenatide',\n",
      "'Cytochalasin B',\n",
      "'Aflatoxins',\n",
      "'Phalloidine',\n",
      "'Aflatoxin B1',\n",
      "'Lipid A',\n",
      "'Muscimol',\n",
      "'Tetrodotoxin',\n",
      "\n",
      "\n",
      "Mutation\n",
      "'rs58596362',\n",
      "'rs1801133',\n",
      "'rs1800795',\n",
      "'rs1800629',\n",
      "'rs429358',\n",
      "'rs1815739',\n",
      "'rs2802292',\n",
      "'rs104893877',\n",
      "'rs1800562',\n",
      "'rs7412',\n",
      "\n",
      "\n",
      "Disease\n",
      "'Death',\n",
      "'Neoplasms',\n",
      "'Dementia',\n",
      "'Diabetes Mellitus',\n",
      "'Alzheimer Disease',\n",
      "'Hypertension',\n",
      "'Cardiovascular Diseases',\n",
      "'Infections',\n",
      "'Stroke',\n",
      "'Obesity',\n",
      "\n",
      "\n",
      "Gene\n",
      "2545,\n",
      "1650,\n",
      "1256,\n",
      "1223,\n",
      "916,\n",
      "829,\n",
      "797,\n",
      "611,\n",
      "592,\n",
      "522,\n",
      "\n",
      "\n",
      "RNA\n",
      "63,\n",
      "54,\n",
      "44,\n",
      "39,\n",
      "30,\n",
      "17,\n",
      "14,\n",
      "14,\n",
      "13,\n",
      "11,\n",
      "\n",
      "\n",
      "Protein\n",
      "276,\n",
      "144,\n",
      "72,\n",
      "53,\n",
      "37,\n",
      "31,\n",
      "26,\n",
      "24,\n",
      "20,\n",
      "20,\n",
      "\n",
      "\n",
      "Carbohydrate\n",
      "3294,\n",
      "630,\n",
      "384,\n",
      "248,\n",
      "246,\n",
      "235,\n",
      "221,\n",
      "219,\n",
      "202,\n",
      "178,\n",
      "\n",
      "\n",
      "Lipid\n",
      "3112,\n",
      "1384,\n",
      "577,\n",
      "263,\n",
      "260,\n",
      "254,\n",
      "219,\n",
      "211,\n",
      "207,\n",
      "169,\n",
      "\n",
      "\n",
      "Peptide\n",
      "590,\n",
      "151,\n",
      "103,\n",
      "100,\n",
      "77,\n",
      "73,\n",
      "69,\n",
      "48,\n",
      "48,\n",
      "36,\n",
      "\n",
      "\n",
      "Pharmaceutical_Preparations\n",
      "86,\n",
      "33,\n",
      "18,\n",
      "10,\n",
      "6,\n",
      "6,\n",
      "2,\n",
      "2,\n",
      "2,\n",
      "2,\n",
      "\n",
      "\n",
      "Toxin\n",
      "219,\n",
      "9,\n",
      "8,\n",
      "8,\n",
      "5,\n",
      "5,\n",
      "4,\n",
      "3,\n",
      "3,\n",
      "2,\n",
      "\n",
      "\n",
      "Mutation\n",
      "42,\n",
      "36,\n",
      "23,\n",
      "21,\n",
      "19,\n",
      "17,\n",
      "16,\n",
      "16,\n",
      "16,\n",
      "15,\n",
      "\n",
      "\n",
      "Disease\n",
      "30359,\n",
      "16218,\n",
      "12486,\n",
      "12470,\n",
      "10950,\n",
      "9825,\n",
      "8722,\n",
      "8026,\n",
      "6533,\n",
      "6032,\n",
      "\n",
      "\n",
      "Gene\n",
      "23.26,\n",
      "15.08,\n",
      "11.48,\n",
      "11.18,\n",
      "8.37,\n",
      "7.58,\n",
      "7.28,\n",
      "5.58,\n",
      "5.41,\n",
      "4.77,\n",
      "\n",
      "\n",
      "RNA\n",
      "21.07,\n",
      "18.06,\n",
      "14.72,\n",
      "13.04,\n",
      "10.03,\n",
      "5.69,\n",
      "4.68,\n",
      "4.68,\n",
      "4.35,\n",
      "3.68,\n",
      "\n",
      "\n",
      "Protein\n",
      "39.26,\n",
      "20.48,\n",
      "10.24,\n",
      "7.54,\n",
      "5.26,\n",
      "4.41,\n",
      "3.7,\n",
      "3.41,\n",
      "2.84,\n",
      "2.84,\n",
      "\n",
      "\n",
      "Carbohydrate\n",
      "56.24,\n",
      "10.76,\n",
      "6.56,\n",
      "4.23,\n",
      "4.2,\n",
      "4.01,\n",
      "3.77,\n",
      "3.74,\n",
      "3.45,\n",
      "3.04,\n",
      "\n",
      "\n",
      "Lipid\n",
      "46.75,\n",
      "20.79,\n",
      "8.67,\n",
      "3.95,\n",
      "3.91,\n",
      "3.82,\n",
      "3.29,\n",
      "3.17,\n",
      "3.11,\n",
      "2.54,\n",
      "\n",
      "\n",
      "Peptide\n",
      "45.56,\n",
      "11.66,\n",
      "7.95,\n",
      "7.72,\n",
      "5.95,\n",
      "5.64,\n",
      "5.33,\n",
      "3.71,\n",
      "3.71,\n",
      "2.78,\n",
      "\n",
      "\n",
      "Pharmaceutical_Preparations\n",
      "51.5,\n",
      "19.76,\n",
      "10.78,\n",
      "5.99,\n",
      "3.59,\n",
      "3.59,\n",
      "1.2,\n",
      "1.2,\n",
      "1.2,\n",
      "1.2,\n",
      "\n",
      "\n",
      "Toxin\n",
      "82.33,\n",
      "3.38,\n",
      "3.01,\n",
      "3.01,\n",
      "1.88,\n",
      "1.88,\n",
      "1.5,\n",
      "1.13,\n",
      "1.13,\n",
      "0.75,\n",
      "\n",
      "\n",
      "Mutation\n",
      "19.0,\n",
      "16.29,\n",
      "10.41,\n",
      "9.5,\n",
      "8.6,\n",
      "7.69,\n",
      "7.24,\n",
      "7.24,\n",
      "7.24,\n",
      "6.79,\n",
      "\n",
      "\n",
      "Disease\n",
      "24.96,\n",
      "13.33,\n",
      "10.27,\n",
      "10.25,\n",
      "9.0,\n",
      "8.08,\n",
      "7.17,\n",
      "6.6,\n",
      "5.37,\n",
      "4.96,\n"
     ]
    }
   ],
   "source": [
    "for i in entity_pairs:\n",
    "    print('\\n')\n",
    "    print(i)\n",
    "    names[i+'_all_sorted']=sorted(names[i+'_all'],key=lambda x:x['literature'],reverse=True)\n",
    "    names[i+'_all_sorted_num']=0\n",
    "    for j in names[i+'_all_sorted'][:10]:\n",
    "        print(\"'\"+j.get('entity')+\"',\")\n",
    "for i in entity_pairs:\n",
    "    print('\\n')\n",
    "    print(i)\n",
    "\n",
    "    for j in names[i+'_all_sorted'][:10]:\n",
    "        print(str(j.get('literature'))+\",\")\n",
    "        names[i+'_all_sorted_num']+=j.get('literature')\n",
    "for i in entity_pairs:\n",
    "    print('\\n')\n",
    "    print(i)\n",
    "    cxv=0\n",
    "    for j in names[i+'_all_sorted'][:10]:\n",
    "        z=j.get('literature')*100/names[i+'_all_sorted_num']\n",
    "        print(str(round(z,2))+\",\")\n",
    "    #     cxv+=round(z,2)\n",
    "    # print(cxv)"
   ]
  },
  {
   "cell_type": "code",
   "execution_count": 327,
   "id": "748e95eb-dd8e-40bb-8828-28e09a14a051",
   "metadata": {},
   "outputs": [
    {
     "name": "stdout",
     "output_type": "stream",
     "text": [
      "\n",
      "\n",
      "Gene\n",
      "10941\n",
      "\n",
      "\n",
      "RNA\n",
      "299\n",
      "\n",
      "\n",
      "Protein\n",
      "703\n",
      "\n",
      "\n",
      "Carbohydrate\n",
      "5857\n",
      "\n",
      "\n",
      "Lipid\n",
      "6656\n",
      "\n",
      "\n",
      "Peptide\n",
      "1295\n",
      "\n",
      "\n",
      "Pharmaceutical_Preparations\n",
      "167\n",
      "\n",
      "\n",
      "Toxin\n",
      "266\n",
      "\n",
      "\n",
      "Mutation\n",
      "221\n",
      "\n",
      "\n",
      "Disease\n",
      "121621\n"
     ]
    }
   ],
   "source": [
    "for i in entity_pairs:\n",
    "    print('\\n')\n",
    "    print(i)\n",
    "    print(names[i+'_all_sorted_num'])\n"
   ]
  },
  {
   "cell_type": "code",
   "execution_count": null,
   "id": "ff88a850-e742-407e-941c-ba4dbcc093fa",
   "metadata": {},
   "outputs": [],
   "source": []
  },
  {
   "cell_type": "code",
   "execution_count": null,
   "id": "a8b18cdf-6a35-45b0-883f-ab7d67bab728",
   "metadata": {},
   "outputs": [],
   "source": []
  },
  {
   "cell_type": "code",
   "execution_count": null,
   "id": "b3ff268e-9a4e-4115-aee2-e9b38a1fdbef",
   "metadata": {},
   "outputs": [],
   "source": []
  },
  {
   "cell_type": "code",
   "execution_count": null,
   "id": "04d1d2e5-ab38-449e-ab18-cf79727ff94c",
   "metadata": {},
   "outputs": [],
   "source": []
  },
  {
   "cell_type": "code",
   "execution_count": null,
   "id": "0d8d7588-2672-4d2f-8cd3-6b410546c139",
   "metadata": {},
   "outputs": [],
   "source": []
  },
  {
   "cell_type": "code",
   "execution_count": 328,
   "id": "b6f47ea1-00e0-4851-8ee2-e1bc83e277c1",
   "metadata": {},
   "outputs": [
    {
     "name": "stdout",
     "output_type": "stream",
     "text": [
      "Gene\n",
      "4953\n",
      "RNA\n",
      "344\n",
      "Protein\n",
      "29\n",
      "Carbohydrate\n",
      "203\n",
      "Lipid\n",
      "191\n",
      "Peptide\n",
      "79\n",
      "Pharmaceutical_Preparations\n",
      "11\n",
      "Toxin\n",
      "18\n",
      "Mutation\n",
      "1893\n",
      "Disease\n",
      "3347\n"
     ]
    }
   ],
   "source": [
    "for i in entity_pairs:\n",
    "    print(i)\n",
    "    print(len(names[i+'_all']))\n"
   ]
  },
  {
   "cell_type": "code",
   "execution_count": 330,
   "id": "f950b746-88e7-4f2f-bab8-8031cc4ac8bc",
   "metadata": {},
   "outputs": [
    {
     "name": "stdout",
     "output_type": "stream",
     "text": [
      "Gene\n",
      "26124\n",
      "RNA\n",
      "656\n",
      "Protein\n",
      "721\n",
      "Carbohydrate\n",
      "8012\n",
      "Lipid\n",
      "7380\n",
      "Peptide\n",
      "1587\n",
      "Pharmaceutical_Preparations\n",
      "148\n",
      "Toxin\n",
      "272\n",
      "Mutation\n",
      "1484\n",
      "Disease\n",
      "148697\n"
     ]
    }
   ],
   "source": [
    "for i in entity_pairs:\n",
    "    print(i)\n",
    "    axc=set()\n",
    "    for j in names[i+'_all']:\n",
    "        for k in j.get('PMID'):\n",
    "            axc.add(k)\n",
    "    print(len(axc))\n"
   ]
  },
  {
   "cell_type": "code",
   "execution_count": 345,
   "id": "d1c62935-cc23-4979-888b-043b618b7f9f",
   "metadata": {},
   "outputs": [],
   "source": [
    "all_es_result=json.load(open('results/step2/all_es_result.json'))"
   ]
  },
  {
   "cell_type": "markdown",
   "id": "b35263a9-a376-43d6-9ac6-48699d14d59c",
   "metadata": {},
   "source": [
    "all_es_result=[]\n",
    "for j in entity_pairs:\n",
    "    for i in names[j+'_all']:\n",
    "        if i.get('type')=='Disease':\n",
    "            if i.get('url'):\n",
    "                all_es_result.append({'entity':i.get('entity'),'PMID':i.get('PMID'),'target':i.get('target'),'date':i.get('date'),'type':i.get('type'),'sentence':i.get('sentence'),'_id':i.get('type')+'_'+i.get('entity')})\n",
    "        elif i.get('type')=='Mutation':\n",
    "            if i.get('Genomic View'):\n",
    "                all_es_result.append({'entity':i.get('entity'),'PMID':i.get('PMID'),'target':i.get('target'),'date':i.get('date'),'type':i.get('type'),'sentence':i.get('sentence'),'_id':i.get('type')+'_'+i.get('entity')})\n",
    "        else:\n",
    "            all_es_result.append({'entity':i.get('entity'),'PMID':i.get('PMID'),'target':i.get('target'),'date':i.get('date'),'type':i.get('type'),'sentence':i.get('sentence'),'_id':i.get('type')+'_'+i.get('entity')})"
   ]
  },
  {
   "cell_type": "code",
   "execution_count": 348,
   "id": "23ff482a-d01c-4979-989b-0c03467b9eb2",
   "metadata": {},
   "outputs": [],
   "source": [
    "for i in entity_pairs:\n",
    "    names[i.replace(' ','_')+'_sentences']=set()\n",
    "for i in all_es_result:\n",
    "    for j in i.get('sentence'):\n",
    "        for k in j:\n",
    "            if re.search('RNA',i.get('type')):\n",
    "                names['RNA'.replace(' ','_')+'_sentences'].add(k)\n",
    "            else:\n",
    "                names[i.get('type').replace(' ','_')+'_sentences'].add(k)\n"
   ]
  },
  {
   "cell_type": "code",
   "execution_count": 349,
   "id": "624e6fb5-9deb-45ad-97c0-5dadef534ed2",
   "metadata": {},
   "outputs": [
    {
     "name": "stdout",
     "output_type": "stream",
     "text": [
      "Gene\n",
      "78496\n",
      "RNA\n",
      "2029\n",
      "Protein\n",
      "1721\n",
      "Carbohydrate\n",
      "15724\n",
      "Lipid\n",
      "15182\n",
      "Peptide\n",
      "3114\n",
      "Pharmaceutical_Preparations\n",
      "238\n",
      "Toxin\n",
      "461\n",
      "Mutation\n",
      "3452\n",
      "Disease\n",
      "630059\n"
     ]
    }
   ],
   "source": [
    "\n",
    "for i in entity_pairs:\n",
    "    print(i)\n",
    "    print(len(names[i.replace(' ','_')+'_sentences']))\n"
   ]
  },
  {
   "cell_type": "code",
   "execution_count": null,
   "id": "9d3062e2-b111-4538-adaa-8f042aec350d",
   "metadata": {},
   "outputs": [],
   "source": []
  }
 ],
 "metadata": {
  "kernelspec": {
   "display_name": "hald",
   "language": "python",
   "name": "hald"
  },
  "language_info": {
   "codemirror_mode": {
    "name": "ipython",
    "version": 3
   },
   "file_extension": ".py",
   "mimetype": "text/x-python",
   "name": "python",
   "nbconvert_exporter": "python",
   "pygments_lexer": "ipython3",
   "version": "3.8.15"
  }
 },
 "nbformat": 4,
 "nbformat_minor": 5
}
